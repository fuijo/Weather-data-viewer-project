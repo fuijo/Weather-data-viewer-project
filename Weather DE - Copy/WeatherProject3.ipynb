{
 "cells": [
  {
   "cell_type": "code",
   "execution_count": 1,
   "id": "c2940580-de71-4935-a2c5-859a059276e3",
   "metadata": {},
   "outputs": [],
   "source": [
    "#Weather data Viewer"
   ]
  },
  {
   "cell_type": "code",
   "execution_count": 2,
   "id": "7d1489d5-d3bb-400b-984d-54b9eec12cef",
   "metadata": {},
   "outputs": [
    {
     "ename": "ModuleNotFoundError",
     "evalue": "No module named 'matplotlib'",
     "output_type": "error",
     "traceback": [
      "\u001b[1;31m---------------------------------------------------------------------------\u001b[0m",
      "\u001b[1;31mModuleNotFoundError\u001b[0m                       Traceback (most recent call last)",
      "Cell \u001b[1;32mIn[2], line 2\u001b[0m\n\u001b[0;32m      1\u001b[0m \u001b[38;5;66;03m# Dependencies and Setup\u001b[39;00m\n\u001b[1;32m----> 2\u001b[0m \u001b[38;5;28;01mimport\u001b[39;00m \u001b[38;5;21;01mmatplotlib\u001b[39;00m\u001b[38;5;21;01m.\u001b[39;00m\u001b[38;5;21;01mpyplot\u001b[39;00m \u001b[38;5;28;01mas\u001b[39;00m \u001b[38;5;21;01mplt\u001b[39;00m\n\u001b[0;32m      3\u001b[0m \u001b[38;5;28;01mimport\u001b[39;00m \u001b[38;5;21;01mpandas\u001b[39;00m \u001b[38;5;28;01mas\u001b[39;00m \u001b[38;5;21;01mpd\u001b[39;00m\n\u001b[0;32m      4\u001b[0m \u001b[38;5;28;01mimport\u001b[39;00m \u001b[38;5;21;01mnumpy\u001b[39;00m \u001b[38;5;28;01mas\u001b[39;00m \u001b[38;5;21;01mnp\u001b[39;00m\n",
      "\u001b[1;31mModuleNotFoundError\u001b[0m: No module named 'matplotlib'"
     ]
    }
   ],
   "source": [
    "# Dependencies and Setup\n",
    "import matplotlib.pyplot as plt\n",
    "import pandas as pd\n",
    "import numpy as np\n",
    "import requests\n",
    "import time\n",
    "import folium\n",
    "from rich import print\n",
    "from rich.console import Console\n",
    "from rich.table import Table\n",
    "from rich.text import Text\n",
    "from scipy.stats import linregress\n",
    "\n",
    "# Impor the OpenWeatherMap API key\n",
    "from api_keys import weather_api_key\n",
    "\n",
    "# Import citipy to determine the cities based on latitude and longitude\n",
    "from citipy import citipy\n",
    "\n",
    "#Export cities.csv to db\n",
    "from pymongo import MongoClient\n"
   ]
  },
  {
   "cell_type": "code",
   "execution_count": 4,
   "id": "bc32a6fd-9514-47bd-8365-e3360ccc1283",
   "metadata": {},
   "outputs": [],
   "source": [
    "#extract the data"
   ]
  },
  {
   "cell_type": "code",
   "execution_count": 5,
   "id": "0d8ce52b-427c-4b83-b5dc-a91135e45c44",
   "metadata": {},
   "outputs": [
    {
     "data": {
      "text/html": [
       "<pre style=\"white-space:pre;overflow-x:auto;line-height:normal;font-family:Menlo,'DejaVu Sans Mono',consolas,'Courier New',monospace\">Number of cities in the list: <span style=\"color: #008080; text-decoration-color: #008080; font-weight: bold\">601</span>\n",
       "</pre>\n"
      ],
      "text/plain": [
       "Number of cities in the list: \u001b[1;36m601\u001b[0m\n"
      ]
     },
     "metadata": {},
     "output_type": "display_data"
    }
   ],
   "source": [
    "#Generates a list of unique city names\n",
    "# Empty list for holding the latitude and longitude combinations\n",
    "lat_lngs = []\n",
    "\n",
    "# Empty list for holding the cities names\n",
    "cities = []\n",
    "\n",
    "# Range of latitudes and longitudes\n",
    "lat_range = (-90, 90)\n",
    "lng_range = (-180, 180)\n",
    "\n",
    "# Create a set of random lat and lng combinations\n",
    "lats = np.random.uniform(lat_range[0], lat_range[1], size=1500)\n",
    "lngs = np.random.uniform(lng_range[0], lng_range[1], size=1500)\n",
    "lat_lngs = zip(lats, lngs)\n",
    "\n",
    "# Identify nearest city for each lat, lng combination\n",
    "for lat_lng in lat_lngs:\n",
    "    city = citipy.nearest_city(lat_lng[0], lat_lng[1]).city_name\n",
    "\n",
    "    # If the city is unique, then add it to a our cities list\n",
    "    if city not in cities:\n",
    "        cities.append(city)\n",
    "\n",
    "# Print the city count to confirm sufficient count\n",
    "print(f\"Number of cities in the list: {len(cities)}\")"
   ]
  },
  {
   "cell_type": "code",
   "execution_count": 6,
   "id": "1f6974b1-c8be-4f3c-800a-da403ca0ab4c",
   "metadata": {},
   "outputs": [
    {
     "data": {
      "text/plain": [
       "'5038cf4afa60a38fb2b6b761f6038892'"
      ]
     },
     "execution_count": 6,
     "metadata": {},
     "output_type": "execute_result"
    }
   ],
   "source": [
    "#Identify the API_key\n",
    "weather_api_key\n"
   ]
  },
  {
   "cell_type": "code",
   "execution_count": 7,
   "id": "e3f7a797-114a-4c2c-b159-fbf86f139f35",
   "metadata": {},
   "outputs": [],
   "source": [
    "#API call\n",
    "url = f'https://api.openweathermap.org/data/2.5/weather?q={city}&appid={weather_api_key}'\n"
   ]
  },
  {
   "cell_type": "code",
   "execution_count": 8,
   "id": "7fe54401-add0-48d5-81cd-9868ac42852d",
   "metadata": {},
   "outputs": [
    {
     "data": {
      "text/html": [
       "<pre style=\"white-space:pre;overflow-x:auto;line-height:normal;font-family:Menlo,'DejaVu Sans Mono',consolas,'Courier New',monospace\"><span style=\"font-weight: bold\">&lt;</span><span style=\"color: #ff00ff; text-decoration-color: #ff00ff; font-weight: bold\">Response</span><span style=\"color: #000000; text-decoration-color: #000000\"> </span><span style=\"color: #000000; text-decoration-color: #000000; font-weight: bold\">[</span><span style=\"color: #008080; text-decoration-color: #008080; font-weight: bold\">200</span><span style=\"color: #000000; text-decoration-color: #000000; font-weight: bold\">]</span><span style=\"font-weight: bold\">&gt;</span>\n",
       "</pre>\n"
      ],
      "text/plain": [
       "\u001b[1m<\u001b[0m\u001b[1;95mResponse\u001b[0m\u001b[39m \u001b[0m\u001b[1;39m[\u001b[0m\u001b[1;36m200\u001b[0m\u001b[1;39m]\u001b[0m\u001b[1m>\u001b[0m\n"
      ]
     },
     "metadata": {},
     "output_type": "display_data"
    }
   ],
   "source": [
    "# check status\n",
    "print(requests.get(url))\n"
   ]
  },
  {
   "cell_type": "code",
   "execution_count": 9,
   "id": "f2902dc3-0b12-4b59-acb6-4d711b11f49d",
   "metadata": {},
   "outputs": [
    {
     "data": {
      "text/html": [
       "<pre style=\"white-space:pre;overflow-x:auto;line-height:normal;font-family:Menlo,'DejaVu Sans Mono',consolas,'Courier New',monospace\"><span style=\"color: #00ff00; text-decoration-color: #00ff00; font-style: italic\">True</span>\n",
       "</pre>\n"
      ],
      "text/plain": [
       "\u001b[3;92mTrue\u001b[0m\n"
      ]
     },
     "metadata": {},
     "output_type": "display_data"
    }
   ],
   "source": [
    "# check response\n",
    "print(requests.get(url).ok)\n"
   ]
  },
  {
   "cell_type": "code",
   "execution_count": 10,
   "id": "8bb7a837-b3fe-459e-a475-e761c384c170",
   "metadata": {},
   "outputs": [],
   "source": [
    "#ETL"
   ]
  },
  {
   "cell_type": "code",
   "execution_count": 11,
   "id": "8ad83270-ec93-4d1e-bdb5-86d148b879a9",
   "metadata": {},
   "outputs": [
    {
     "data": {
      "text/html": [
       "<pre style=\"white-space:pre;overflow-x:auto;line-height:normal;font-family:Menlo,'DejaVu Sans Mono',consolas,'Courier New',monospace\">Beginning Data Retrieval     \n",
       "</pre>\n"
      ],
      "text/plain": [
       "Beginning Data Retrieval     \n"
      ]
     },
     "metadata": {},
     "output_type": "display_data"
    },
    {
     "data": {
      "text/html": [
       "<pre style=\"white-space:pre;overflow-x:auto;line-height:normal;font-family:Menlo,'DejaVu Sans Mono',consolas,'Courier New',monospace\">-----------------------------\n",
       "</pre>\n"
      ],
      "text/plain": [
       "-----------------------------\n"
      ]
     },
     "metadata": {},
     "output_type": "display_data"
    },
    {
     "data": {
      "text/html": [
       "<pre style=\"white-space:pre;overflow-x:auto;line-height:normal;font-family:Menlo,'DejaVu Sans Mono',consolas,'Courier New',monospace\">Processing Record <span style=\"color: #008080; text-decoration-color: #008080; font-weight: bold\">1</span> of Set <span style=\"color: #008080; text-decoration-color: #008080; font-weight: bold\">1</span> | brigantine\n",
       "</pre>\n"
      ],
      "text/plain": [
       "Processing Record \u001b[1;36m1\u001b[0m of Set \u001b[1;36m1\u001b[0m | brigantine\n"
      ]
     },
     "metadata": {},
     "output_type": "display_data"
    },
    {
     "data": {
      "text/html": [
       "<pre style=\"white-space:pre;overflow-x:auto;line-height:normal;font-family:Menlo,'DejaVu Sans Mono',consolas,'Courier New',monospace\">Processing Record <span style=\"color: #008080; text-decoration-color: #008080; font-weight: bold\">2</span> of Set <span style=\"color: #008080; text-decoration-color: #008080; font-weight: bold\">1</span> | waitangi\n",
       "</pre>\n"
      ],
      "text/plain": [
       "Processing Record \u001b[1;36m2\u001b[0m of Set \u001b[1;36m1\u001b[0m | waitangi\n"
      ]
     },
     "metadata": {},
     "output_type": "display_data"
    },
    {
     "data": {
      "text/html": [
       "<pre style=\"white-space:pre;overflow-x:auto;line-height:normal;font-family:Menlo,'DejaVu Sans Mono',consolas,'Courier New',monospace\">Processing Record <span style=\"color: #008080; text-decoration-color: #008080; font-weight: bold\">3</span> of Set <span style=\"color: #008080; text-decoration-color: #008080; font-weight: bold\">1</span> | bethel\n",
       "</pre>\n"
      ],
      "text/plain": [
       "Processing Record \u001b[1;36m3\u001b[0m of Set \u001b[1;36m1\u001b[0m | bethel\n"
      ]
     },
     "metadata": {},
     "output_type": "display_data"
    },
    {
     "data": {
      "text/html": [
       "<pre style=\"white-space:pre;overflow-x:auto;line-height:normal;font-family:Menlo,'DejaVu Sans Mono',consolas,'Courier New',monospace\">Processing Record <span style=\"color: #008080; text-decoration-color: #008080; font-weight: bold\">4</span> of Set <span style=\"color: #008080; text-decoration-color: #008080; font-weight: bold\">1</span> | port-aux-francais\n",
       "</pre>\n"
      ],
      "text/plain": [
       "Processing Record \u001b[1;36m4\u001b[0m of Set \u001b[1;36m1\u001b[0m | port-aux-francais\n"
      ]
     },
     "metadata": {},
     "output_type": "display_data"
    },
    {
     "data": {
      "text/html": [
       "<pre style=\"white-space:pre;overflow-x:auto;line-height:normal;font-family:Menlo,'DejaVu Sans Mono',consolas,'Courier New',monospace\">Processing Record <span style=\"color: #008080; text-decoration-color: #008080; font-weight: bold\">5</span> of Set <span style=\"color: #008080; text-decoration-color: #008080; font-weight: bold\">1</span> | utrik\n",
       "</pre>\n"
      ],
      "text/plain": [
       "Processing Record \u001b[1;36m5\u001b[0m of Set \u001b[1;36m1\u001b[0m | utrik\n"
      ]
     },
     "metadata": {},
     "output_type": "display_data"
    },
    {
     "data": {
      "text/html": [
       "<pre style=\"white-space:pre;overflow-x:auto;line-height:normal;font-family:Menlo,'DejaVu Sans Mono',consolas,'Courier New',monospace\">Processing Record <span style=\"color: #008080; text-decoration-color: #008080; font-weight: bold\">6</span> of Set <span style=\"color: #008080; text-decoration-color: #008080; font-weight: bold\">1</span> | hermanus\n",
       "</pre>\n"
      ],
      "text/plain": [
       "Processing Record \u001b[1;36m6\u001b[0m of Set \u001b[1;36m1\u001b[0m | hermanus\n"
      ]
     },
     "metadata": {},
     "output_type": "display_data"
    },
    {
     "data": {
      "text/html": [
       "<pre style=\"white-space:pre;overflow-x:auto;line-height:normal;font-family:Menlo,'DejaVu Sans Mono',consolas,'Courier New',monospace\">Processing Record <span style=\"color: #008080; text-decoration-color: #008080; font-weight: bold\">7</span> of Set <span style=\"color: #008080; text-decoration-color: #008080; font-weight: bold\">1</span> | tanguieta\n",
       "</pre>\n"
      ],
      "text/plain": [
       "Processing Record \u001b[1;36m7\u001b[0m of Set \u001b[1;36m1\u001b[0m | tanguieta\n"
      ]
     },
     "metadata": {},
     "output_type": "display_data"
    },
    {
     "data": {
      "text/html": [
       "<pre style=\"white-space:pre;overflow-x:auto;line-height:normal;font-family:Menlo,'DejaVu Sans Mono',consolas,'Courier New',monospace\">Processing Record <span style=\"color: #008080; text-decoration-color: #008080; font-weight: bold\">8</span> of Set <span style=\"color: #008080; text-decoration-color: #008080; font-weight: bold\">1</span> | blackmans bay\n",
       "</pre>\n"
      ],
      "text/plain": [
       "Processing Record \u001b[1;36m8\u001b[0m of Set \u001b[1;36m1\u001b[0m | blackmans bay\n"
      ]
     },
     "metadata": {},
     "output_type": "display_data"
    },
    {
     "data": {
      "text/html": [
       "<pre style=\"white-space:pre;overflow-x:auto;line-height:normal;font-family:Menlo,'DejaVu Sans Mono',consolas,'Courier New',monospace\">Processing Record <span style=\"color: #008080; text-decoration-color: #008080; font-weight: bold\">9</span> of Set <span style=\"color: #008080; text-decoration-color: #008080; font-weight: bold\">1</span> | puerto ayora\n",
       "</pre>\n"
      ],
      "text/plain": [
       "Processing Record \u001b[1;36m9\u001b[0m of Set \u001b[1;36m1\u001b[0m | puerto ayora\n"
      ]
     },
     "metadata": {},
     "output_type": "display_data"
    },
    {
     "data": {
      "text/html": [
       "<pre style=\"white-space:pre;overflow-x:auto;line-height:normal;font-family:Menlo,'DejaVu Sans Mono',consolas,'Courier New',monospace\">Processing Record <span style=\"color: #008080; text-decoration-color: #008080; font-weight: bold\">10</span> of Set <span style=\"color: #008080; text-decoration-color: #008080; font-weight: bold\">1</span> | port alfred\n",
       "</pre>\n"
      ],
      "text/plain": [
       "Processing Record \u001b[1;36m10\u001b[0m of Set \u001b[1;36m1\u001b[0m | port alfred\n"
      ]
     },
     "metadata": {},
     "output_type": "display_data"
    },
    {
     "data": {
      "text/html": [
       "<pre style=\"white-space:pre;overflow-x:auto;line-height:normal;font-family:Menlo,'DejaVu Sans Mono',consolas,'Courier New',monospace\">Processing Record <span style=\"color: #008080; text-decoration-color: #008080; font-weight: bold\">11</span> of Set <span style=\"color: #008080; text-decoration-color: #008080; font-weight: bold\">1</span> | albany\n",
       "</pre>\n"
      ],
      "text/plain": [
       "Processing Record \u001b[1;36m11\u001b[0m of Set \u001b[1;36m1\u001b[0m | albany\n"
      ]
     },
     "metadata": {},
     "output_type": "display_data"
    },
    {
     "data": {
      "text/html": [
       "<pre style=\"white-space:pre;overflow-x:auto;line-height:normal;font-family:Menlo,'DejaVu Sans Mono',consolas,'Courier New',monospace\">Processing Record <span style=\"color: #008080; text-decoration-color: #008080; font-weight: bold\">12</span> of Set <span style=\"color: #008080; text-decoration-color: #008080; font-weight: bold\">1</span> | la passe\n",
       "</pre>\n"
      ],
      "text/plain": [
       "Processing Record \u001b[1;36m12\u001b[0m of Set \u001b[1;36m1\u001b[0m | la passe\n"
      ]
     },
     "metadata": {},
     "output_type": "display_data"
    },
    {
     "data": {
      "text/html": [
       "<pre style=\"white-space:pre;overflow-x:auto;line-height:normal;font-family:Menlo,'DejaVu Sans Mono',consolas,'Courier New',monospace\">Processing Record <span style=\"color: #008080; text-decoration-color: #008080; font-weight: bold\">13</span> of Set <span style=\"color: #008080; text-decoration-color: #008080; font-weight: bold\">1</span> | mumford\n",
       "</pre>\n"
      ],
      "text/plain": [
       "Processing Record \u001b[1;36m13\u001b[0m of Set \u001b[1;36m1\u001b[0m | mumford\n"
      ]
     },
     "metadata": {},
     "output_type": "display_data"
    },
    {
     "data": {
      "text/html": [
       "<pre style=\"white-space:pre;overflow-x:auto;line-height:normal;font-family:Menlo,'DejaVu Sans Mono',consolas,'Courier New',monospace\">Processing Record <span style=\"color: #008080; text-decoration-color: #008080; font-weight: bold\">14</span> of Set <span style=\"color: #008080; text-decoration-color: #008080; font-weight: bold\">1</span> | uhrichsville\n",
       "</pre>\n"
      ],
      "text/plain": [
       "Processing Record \u001b[1;36m14\u001b[0m of Set \u001b[1;36m1\u001b[0m | uhrichsville\n"
      ]
     },
     "metadata": {},
     "output_type": "display_data"
    },
    {
     "data": {
      "text/html": [
       "<pre style=\"white-space:pre;overflow-x:auto;line-height:normal;font-family:Menlo,'DejaVu Sans Mono',consolas,'Courier New',monospace\">Processing Record <span style=\"color: #008080; text-decoration-color: #008080; font-weight: bold\">15</span> of Set <span style=\"color: #008080; text-decoration-color: #008080; font-weight: bold\">1</span> | adamstown\n",
       "</pre>\n"
      ],
      "text/plain": [
       "Processing Record \u001b[1;36m15\u001b[0m of Set \u001b[1;36m1\u001b[0m | adamstown\n"
      ]
     },
     "metadata": {},
     "output_type": "display_data"
    },
    {
     "data": {
      "text/html": [
       "<pre style=\"white-space:pre;overflow-x:auto;line-height:normal;font-family:Menlo,'DejaVu Sans Mono',consolas,'Courier New',monospace\">Processing Record <span style=\"color: #008080; text-decoration-color: #008080; font-weight: bold\">16</span> of Set <span style=\"color: #008080; text-decoration-color: #008080; font-weight: bold\">1</span> | howard springs\n",
       "</pre>\n"
      ],
      "text/plain": [
       "Processing Record \u001b[1;36m16\u001b[0m of Set \u001b[1;36m1\u001b[0m | howard springs\n"
      ]
     },
     "metadata": {},
     "output_type": "display_data"
    },
    {
     "data": {
      "text/html": [
       "<pre style=\"white-space:pre;overflow-x:auto;line-height:normal;font-family:Menlo,'DejaVu Sans Mono',consolas,'Courier New',monospace\">Processing Record <span style=\"color: #008080; text-decoration-color: #008080; font-weight: bold\">17</span> of Set <span style=\"color: #008080; text-decoration-color: #008080; font-weight: bold\">1</span> | le vauclin\n",
       "</pre>\n"
      ],
      "text/plain": [
       "Processing Record \u001b[1;36m17\u001b[0m of Set \u001b[1;36m1\u001b[0m | le vauclin\n"
      ]
     },
     "metadata": {},
     "output_type": "display_data"
    },
    {
     "data": {
      "text/html": [
       "<pre style=\"white-space:pre;overflow-x:auto;line-height:normal;font-family:Menlo,'DejaVu Sans Mono',consolas,'Courier New',monospace\">Processing Record <span style=\"color: #008080; text-decoration-color: #008080; font-weight: bold\">18</span> of Set <span style=\"color: #008080; text-decoration-color: #008080; font-weight: bold\">1</span> | isafjordur\n",
       "</pre>\n"
      ],
      "text/plain": [
       "Processing Record \u001b[1;36m18\u001b[0m of Set \u001b[1;36m1\u001b[0m | isafjordur\n"
      ]
     },
     "metadata": {},
     "output_type": "display_data"
    },
    {
     "data": {
      "text/html": [
       "<pre style=\"white-space:pre;overflow-x:auto;line-height:normal;font-family:Menlo,'DejaVu Sans Mono',consolas,'Courier New',monospace\">Processing Record <span style=\"color: #008080; text-decoration-color: #008080; font-weight: bold\">19</span> of Set <span style=\"color: #008080; text-decoration-color: #008080; font-weight: bold\">1</span> | ushuaia\n",
       "</pre>\n"
      ],
      "text/plain": [
       "Processing Record \u001b[1;36m19\u001b[0m of Set \u001b[1;36m1\u001b[0m | ushuaia\n"
      ]
     },
     "metadata": {},
     "output_type": "display_data"
    },
    {
     "data": {
      "text/html": [
       "<pre style=\"white-space:pre;overflow-x:auto;line-height:normal;font-family:Menlo,'DejaVu Sans Mono',consolas,'Courier New',monospace\">Processing Record <span style=\"color: #008080; text-decoration-color: #008080; font-weight: bold\">20</span> of Set <span style=\"color: #008080; text-decoration-color: #008080; font-weight: bold\">1</span> | berdigestyakh\n",
       "</pre>\n"
      ],
      "text/plain": [
       "Processing Record \u001b[1;36m20\u001b[0m of Set \u001b[1;36m1\u001b[0m | berdigestyakh\n"
      ]
     },
     "metadata": {},
     "output_type": "display_data"
    },
    {
     "data": {
      "text/html": [
       "<pre style=\"white-space:pre;overflow-x:auto;line-height:normal;font-family:Menlo,'DejaVu Sans Mono',consolas,'Courier New',monospace\">Processing Record <span style=\"color: #008080; text-decoration-color: #008080; font-weight: bold\">21</span> of Set <span style=\"color: #008080; text-decoration-color: #008080; font-weight: bold\">1</span> | puerto natales\n",
       "</pre>\n"
      ],
      "text/plain": [
       "Processing Record \u001b[1;36m21\u001b[0m of Set \u001b[1;36m1\u001b[0m | puerto natales\n"
      ]
     },
     "metadata": {},
     "output_type": "display_data"
    },
    {
     "data": {
      "text/html": [
       "<pre style=\"white-space:pre;overflow-x:auto;line-height:normal;font-family:Menlo,'DejaVu Sans Mono',consolas,'Courier New',monospace\">Processing Record <span style=\"color: #008080; text-decoration-color: #008080; font-weight: bold\">22</span> of Set <span style=\"color: #008080; text-decoration-color: #008080; font-weight: bold\">1</span> | college\n",
       "</pre>\n"
      ],
      "text/plain": [
       "Processing Record \u001b[1;36m22\u001b[0m of Set \u001b[1;36m1\u001b[0m | college\n"
      ]
     },
     "metadata": {},
     "output_type": "display_data"
    },
    {
     "data": {
      "text/html": [
       "<pre style=\"white-space:pre;overflow-x:auto;line-height:normal;font-family:Menlo,'DejaVu Sans Mono',consolas,'Courier New',monospace\">Processing Record <span style=\"color: #008080; text-decoration-color: #008080; font-weight: bold\">23</span> of Set <span style=\"color: #008080; text-decoration-color: #008080; font-weight: bold\">1</span> | west island\n",
       "</pre>\n"
      ],
      "text/plain": [
       "Processing Record \u001b[1;36m23\u001b[0m of Set \u001b[1;36m1\u001b[0m | west island\n"
      ]
     },
     "metadata": {},
     "output_type": "display_data"
    },
    {
     "data": {
      "text/html": [
       "<pre style=\"white-space:pre;overflow-x:auto;line-height:normal;font-family:Menlo,'DejaVu Sans Mono',consolas,'Courier New',monospace\">Processing Record <span style=\"color: #008080; text-decoration-color: #008080; font-weight: bold\">24</span> of Set <span style=\"color: #008080; text-decoration-color: #008080; font-weight: bold\">1</span> | ust-nera\n",
       "</pre>\n"
      ],
      "text/plain": [
       "Processing Record \u001b[1;36m24\u001b[0m of Set \u001b[1;36m1\u001b[0m | ust-nera\n"
      ]
     },
     "metadata": {},
     "output_type": "display_data"
    },
    {
     "data": {
      "text/html": [
       "<pre style=\"white-space:pre;overflow-x:auto;line-height:normal;font-family:Menlo,'DejaVu Sans Mono',consolas,'Courier New',monospace\">Processing Record <span style=\"color: #008080; text-decoration-color: #008080; font-weight: bold\">25</span> of Set <span style=\"color: #008080; text-decoration-color: #008080; font-weight: bold\">1</span> | santa ana\n",
       "</pre>\n"
      ],
      "text/plain": [
       "Processing Record \u001b[1;36m25\u001b[0m of Set \u001b[1;36m1\u001b[0m | santa ana\n"
      ]
     },
     "metadata": {},
     "output_type": "display_data"
    },
    {
     "data": {
      "text/html": [
       "<pre style=\"white-space:pre;overflow-x:auto;line-height:normal;font-family:Menlo,'DejaVu Sans Mono',consolas,'Courier New',monospace\">Processing Record <span style=\"color: #008080; text-decoration-color: #008080; font-weight: bold\">26</span> of Set <span style=\"color: #008080; text-decoration-color: #008080; font-weight: bold\">1</span> | new norfolk\n",
       "</pre>\n"
      ],
      "text/plain": [
       "Processing Record \u001b[1;36m26\u001b[0m of Set \u001b[1;36m1\u001b[0m | new norfolk\n"
      ]
     },
     "metadata": {},
     "output_type": "display_data"
    },
    {
     "data": {
      "text/html": [
       "<pre style=\"white-space:pre;overflow-x:auto;line-height:normal;font-family:Menlo,'DejaVu Sans Mono',consolas,'Courier New',monospace\">Processing Record <span style=\"color: #008080; text-decoration-color: #008080; font-weight: bold\">27</span> of Set <span style=\"color: #008080; text-decoration-color: #008080; font-weight: bold\">1</span> | meadow lakes\n",
       "</pre>\n"
      ],
      "text/plain": [
       "Processing Record \u001b[1;36m27\u001b[0m of Set \u001b[1;36m1\u001b[0m | meadow lakes\n"
      ]
     },
     "metadata": {},
     "output_type": "display_data"
    },
    {
     "data": {
      "text/html": [
       "<pre style=\"white-space:pre;overflow-x:auto;line-height:normal;font-family:Menlo,'DejaVu Sans Mono',consolas,'Courier New',monospace\">Processing Record <span style=\"color: #008080; text-decoration-color: #008080; font-weight: bold\">28</span> of Set <span style=\"color: #008080; text-decoration-color: #008080; font-weight: bold\">1</span> | graaff-reinet\n",
       "</pre>\n"
      ],
      "text/plain": [
       "Processing Record \u001b[1;36m28\u001b[0m of Set \u001b[1;36m1\u001b[0m | graaff-reinet\n"
      ]
     },
     "metadata": {},
     "output_type": "display_data"
    },
    {
     "data": {
      "text/html": [
       "<pre style=\"white-space:pre;overflow-x:auto;line-height:normal;font-family:Menlo,'DejaVu Sans Mono',consolas,'Courier New',monospace\">Processing Record <span style=\"color: #008080; text-decoration-color: #008080; font-weight: bold\">29</span> of Set <span style=\"color: #008080; text-decoration-color: #008080; font-weight: bold\">1</span> | qaqortoq\n",
       "</pre>\n"
      ],
      "text/plain": [
       "Processing Record \u001b[1;36m29\u001b[0m of Set \u001b[1;36m1\u001b[0m | qaqortoq\n"
      ]
     },
     "metadata": {},
     "output_type": "display_data"
    },
    {
     "data": {
      "text/html": [
       "<pre style=\"white-space:pre;overflow-x:auto;line-height:normal;font-family:Menlo,'DejaVu Sans Mono',consolas,'Courier New',monospace\">Processing Record <span style=\"color: #008080; text-decoration-color: #008080; font-weight: bold\">30</span> of Set <span style=\"color: #008080; text-decoration-color: #008080; font-weight: bold\">1</span> | arraial do cabo\n",
       "</pre>\n"
      ],
      "text/plain": [
       "Processing Record \u001b[1;36m30\u001b[0m of Set \u001b[1;36m1\u001b[0m | arraial do cabo\n"
      ]
     },
     "metadata": {},
     "output_type": "display_data"
    },
    {
     "data": {
      "text/html": [
       "<pre style=\"white-space:pre;overflow-x:auto;line-height:normal;font-family:Menlo,'DejaVu Sans Mono',consolas,'Courier New',monospace\">Processing Record <span style=\"color: #008080; text-decoration-color: #008080; font-weight: bold\">31</span> of Set <span style=\"color: #008080; text-decoration-color: #008080; font-weight: bold\">1</span> | kirensk\n",
       "</pre>\n"
      ],
      "text/plain": [
       "Processing Record \u001b[1;36m31\u001b[0m of Set \u001b[1;36m1\u001b[0m | kirensk\n"
      ]
     },
     "metadata": {},
     "output_type": "display_data"
    },
    {
     "data": {
      "text/html": [
       "<pre style=\"white-space:pre;overflow-x:auto;line-height:normal;font-family:Menlo,'DejaVu Sans Mono',consolas,'Courier New',monospace\">Processing Record <span style=\"color: #008080; text-decoration-color: #008080; font-weight: bold\">32</span> of Set <span style=\"color: #008080; text-decoration-color: #008080; font-weight: bold\">1</span> | ilulissat\n",
       "</pre>\n"
      ],
      "text/plain": [
       "Processing Record \u001b[1;36m32\u001b[0m of Set \u001b[1;36m1\u001b[0m | ilulissat\n"
      ]
     },
     "metadata": {},
     "output_type": "display_data"
    },
    {
     "data": {
      "text/html": [
       "<pre style=\"white-space:pre;overflow-x:auto;line-height:normal;font-family:Menlo,'DejaVu Sans Mono',consolas,'Courier New',monospace\">Processing Record <span style=\"color: #008080; text-decoration-color: #008080; font-weight: bold\">33</span> of Set <span style=\"color: #008080; text-decoration-color: #008080; font-weight: bold\">1</span> | yellowknife\n",
       "</pre>\n"
      ],
      "text/plain": [
       "Processing Record \u001b[1;36m33\u001b[0m of Set \u001b[1;36m1\u001b[0m | yellowknife\n"
      ]
     },
     "metadata": {},
     "output_type": "display_data"
    },
    {
     "data": {
      "text/html": [
       "<pre style=\"white-space:pre;overflow-x:auto;line-height:normal;font-family:Menlo,'DejaVu Sans Mono',consolas,'Courier New',monospace\">Processing Record <span style=\"color: #008080; text-decoration-color: #008080; font-weight: bold\">34</span> of Set <span style=\"color: #008080; text-decoration-color: #008080; font-weight: bold\">1</span> | katsuura\n",
       "</pre>\n"
      ],
      "text/plain": [
       "Processing Record \u001b[1;36m34\u001b[0m of Set \u001b[1;36m1\u001b[0m | katsuura\n"
      ]
     },
     "metadata": {},
     "output_type": "display_data"
    },
    {
     "data": {
      "text/html": [
       "<pre style=\"white-space:pre;overflow-x:auto;line-height:normal;font-family:Menlo,'DejaVu Sans Mono',consolas,'Courier New',monospace\">Processing Record <span style=\"color: #008080; text-decoration-color: #008080; font-weight: bold\">35</span> of Set <span style=\"color: #008080; text-decoration-color: #008080; font-weight: bold\">1</span> | invercargill\n",
       "</pre>\n"
      ],
      "text/plain": [
       "Processing Record \u001b[1;36m35\u001b[0m of Set \u001b[1;36m1\u001b[0m | invercargill\n"
      ]
     },
     "metadata": {},
     "output_type": "display_data"
    },
    {
     "data": {
      "text/html": [
       "<pre style=\"white-space:pre;overflow-x:auto;line-height:normal;font-family:Menlo,'DejaVu Sans Mono',consolas,'Courier New',monospace\">Processing Record <span style=\"color: #008080; text-decoration-color: #008080; font-weight: bold\">36</span> of Set <span style=\"color: #008080; text-decoration-color: #008080; font-weight: bold\">1</span> | grytviken\n",
       "</pre>\n"
      ],
      "text/plain": [
       "Processing Record \u001b[1;36m36\u001b[0m of Set \u001b[1;36m1\u001b[0m | grytviken\n"
      ]
     },
     "metadata": {},
     "output_type": "display_data"
    },
    {
     "data": {
      "text/html": [
       "<pre style=\"white-space:pre;overflow-x:auto;line-height:normal;font-family:Menlo,'DejaVu Sans Mono',consolas,'Courier New',monospace\">Processing Record <span style=\"color: #008080; text-decoration-color: #008080; font-weight: bold\">37</span> of Set <span style=\"color: #008080; text-decoration-color: #008080; font-weight: bold\">1</span> | laikit, laikit ii <span style=\"font-weight: bold\">(</span>dimembe<span style=\"font-weight: bold\">)</span>\n",
       "</pre>\n"
      ],
      "text/plain": [
       "Processing Record \u001b[1;36m37\u001b[0m of Set \u001b[1;36m1\u001b[0m | laikit, laikit ii \u001b[1m(\u001b[0mdimembe\u001b[1m)\u001b[0m\n"
      ]
     },
     "metadata": {},
     "output_type": "display_data"
    },
    {
     "data": {
      "text/html": [
       "<pre style=\"white-space:pre;overflow-x:auto;line-height:normal;font-family:Menlo,'DejaVu Sans Mono',consolas,'Courier New',monospace\">Processing Record <span style=\"color: #008080; text-decoration-color: #008080; font-weight: bold\">38</span> of Set <span style=\"color: #008080; text-decoration-color: #008080; font-weight: bold\">1</span> | badger\n",
       "</pre>\n"
      ],
      "text/plain": [
       "Processing Record \u001b[1;36m38\u001b[0m of Set \u001b[1;36m1\u001b[0m | badger\n"
      ]
     },
     "metadata": {},
     "output_type": "display_data"
    },
    {
     "data": {
      "text/html": [
       "<pre style=\"white-space:pre;overflow-x:auto;line-height:normal;font-family:Menlo,'DejaVu Sans Mono',consolas,'Courier New',monospace\">Processing Record <span style=\"color: #008080; text-decoration-color: #008080; font-weight: bold\">39</span> of Set <span style=\"color: #008080; text-decoration-color: #008080; font-weight: bold\">1</span> | anadyr\n",
       "</pre>\n"
      ],
      "text/plain": [
       "Processing Record \u001b[1;36m39\u001b[0m of Set \u001b[1;36m1\u001b[0m | anadyr\n"
      ]
     },
     "metadata": {},
     "output_type": "display_data"
    },
    {
     "data": {
      "text/html": [
       "<pre style=\"white-space:pre;overflow-x:auto;line-height:normal;font-family:Menlo,'DejaVu Sans Mono',consolas,'Courier New',monospace\">Processing Record <span style=\"color: #008080; text-decoration-color: #008080; font-weight: bold\">40</span> of Set <span style=\"color: #008080; text-decoration-color: #008080; font-weight: bold\">1</span> | itoman\n",
       "</pre>\n"
      ],
      "text/plain": [
       "Processing Record \u001b[1;36m40\u001b[0m of Set \u001b[1;36m1\u001b[0m | itoman\n"
      ]
     },
     "metadata": {},
     "output_type": "display_data"
    },
    {
     "data": {
      "text/html": [
       "<pre style=\"white-space:pre;overflow-x:auto;line-height:normal;font-family:Menlo,'DejaVu Sans Mono',consolas,'Courier New',monospace\">Processing Record <span style=\"color: #008080; text-decoration-color: #008080; font-weight: bold\">41</span> of Set <span style=\"color: #008080; text-decoration-color: #008080; font-weight: bold\">1</span> | dali\n",
       "</pre>\n"
      ],
      "text/plain": [
       "Processing Record \u001b[1;36m41\u001b[0m of Set \u001b[1;36m1\u001b[0m | dali\n"
      ]
     },
     "metadata": {},
     "output_type": "display_data"
    },
    {
     "data": {
      "text/html": [
       "<pre style=\"white-space:pre;overflow-x:auto;line-height:normal;font-family:Menlo,'DejaVu Sans Mono',consolas,'Courier New',monospace\">Processing Record <span style=\"color: #008080; text-decoration-color: #008080; font-weight: bold\">42</span> of Set <span style=\"color: #008080; text-decoration-color: #008080; font-weight: bold\">1</span> | tolanaro\n",
       "</pre>\n"
      ],
      "text/plain": [
       "Processing Record \u001b[1;36m42\u001b[0m of Set \u001b[1;36m1\u001b[0m | tolanaro\n"
      ]
     },
     "metadata": {},
     "output_type": "display_data"
    },
    {
     "data": {
      "text/html": [
       "<pre style=\"white-space:pre;overflow-x:auto;line-height:normal;font-family:Menlo,'DejaVu Sans Mono',consolas,'Courier New',monospace\">Processing Record <span style=\"color: #008080; text-decoration-color: #008080; font-weight: bold\">43</span> of Set <span style=\"color: #008080; text-decoration-color: #008080; font-weight: bold\">1</span> | manzhouli\n",
       "</pre>\n"
      ],
      "text/plain": [
       "Processing Record \u001b[1;36m43\u001b[0m of Set \u001b[1;36m1\u001b[0m | manzhouli\n"
      ]
     },
     "metadata": {},
     "output_type": "display_data"
    },
    {
     "data": {
      "text/html": [
       "<pre style=\"white-space:pre;overflow-x:auto;line-height:normal;font-family:Menlo,'DejaVu Sans Mono',consolas,'Courier New',monospace\">Processing Record <span style=\"color: #008080; text-decoration-color: #008080; font-weight: bold\">44</span> of Set <span style=\"color: #008080; text-decoration-color: #008080; font-weight: bold\">1</span> | tsiombe\n",
       "</pre>\n"
      ],
      "text/plain": [
       "Processing Record \u001b[1;36m44\u001b[0m of Set \u001b[1;36m1\u001b[0m | tsiombe\n"
      ]
     },
     "metadata": {},
     "output_type": "display_data"
    },
    {
     "data": {
      "text/html": [
       "<pre style=\"white-space:pre;overflow-x:auto;line-height:normal;font-family:Menlo,'DejaVu Sans Mono',consolas,'Courier New',monospace\">Processing Record <span style=\"color: #008080; text-decoration-color: #008080; font-weight: bold\">45</span> of Set <span style=\"color: #008080; text-decoration-color: #008080; font-weight: bold\">1</span> | hawaiian paradise park\n",
       "</pre>\n"
      ],
      "text/plain": [
       "Processing Record \u001b[1;36m45\u001b[0m of Set \u001b[1;36m1\u001b[0m | hawaiian paradise park\n"
      ]
     },
     "metadata": {},
     "output_type": "display_data"
    },
    {
     "data": {
      "text/html": [
       "<pre style=\"white-space:pre;overflow-x:auto;line-height:normal;font-family:Menlo,'DejaVu Sans Mono',consolas,'Courier New',monospace\">Processing Record <span style=\"color: #008080; text-decoration-color: #008080; font-weight: bold\">46</span> of Set <span style=\"color: #008080; text-decoration-color: #008080; font-weight: bold\">1</span> | bikenibeu village\n",
       "</pre>\n"
      ],
      "text/plain": [
       "Processing Record \u001b[1;36m46\u001b[0m of Set \u001b[1;36m1\u001b[0m | bikenibeu village\n"
      ]
     },
     "metadata": {},
     "output_type": "display_data"
    },
    {
     "data": {
      "text/html": [
       "<pre style=\"white-space:pre;overflow-x:auto;line-height:normal;font-family:Menlo,'DejaVu Sans Mono',consolas,'Courier New',monospace\">Processing Record <span style=\"color: #008080; text-decoration-color: #008080; font-weight: bold\">47</span> of Set <span style=\"color: #008080; text-decoration-color: #008080; font-weight: bold\">1</span> | namibe\n",
       "</pre>\n"
      ],
      "text/plain": [
       "Processing Record \u001b[1;36m47\u001b[0m of Set \u001b[1;36m1\u001b[0m | namibe\n"
      ]
     },
     "metadata": {},
     "output_type": "display_data"
    },
    {
     "data": {
      "text/html": [
       "<pre style=\"white-space:pre;overflow-x:auto;line-height:normal;font-family:Menlo,'DejaVu Sans Mono',consolas,'Courier New',monospace\">Processing Record <span style=\"color: #008080; text-decoration-color: #008080; font-weight: bold\">48</span> of Set <span style=\"color: #008080; text-decoration-color: #008080; font-weight: bold\">1</span> | bredasdorp\n",
       "</pre>\n"
      ],
      "text/plain": [
       "Processing Record \u001b[1;36m48\u001b[0m of Set \u001b[1;36m1\u001b[0m | bredasdorp\n"
      ]
     },
     "metadata": {},
     "output_type": "display_data"
    },
    {
     "data": {
      "text/html": [
       "<pre style=\"white-space:pre;overflow-x:auto;line-height:normal;font-family:Menlo,'DejaVu Sans Mono',consolas,'Courier New',monospace\">Processing Record <span style=\"color: #008080; text-decoration-color: #008080; font-weight: bold\">49</span> of Set <span style=\"color: #008080; text-decoration-color: #008080; font-weight: bold\">1</span> | avarua\n",
       "</pre>\n"
      ],
      "text/plain": [
       "Processing Record \u001b[1;36m49\u001b[0m of Set \u001b[1;36m1\u001b[0m | avarua\n"
      ]
     },
     "metadata": {},
     "output_type": "display_data"
    },
    {
     "data": {
      "text/html": [
       "<pre style=\"white-space:pre;overflow-x:auto;line-height:normal;font-family:Menlo,'DejaVu Sans Mono',consolas,'Courier New',monospace\">Processing Record <span style=\"color: #008080; text-decoration-color: #008080; font-weight: bold\">50</span> of Set <span style=\"color: #008080; text-decoration-color: #008080; font-weight: bold\">1</span> | vila velha\n",
       "</pre>\n"
      ],
      "text/plain": [
       "Processing Record \u001b[1;36m50\u001b[0m of Set \u001b[1;36m1\u001b[0m | vila velha\n"
      ]
     },
     "metadata": {},
     "output_type": "display_data"
    },
    {
     "data": {
      "text/html": [
       "<pre style=\"white-space:pre;overflow-x:auto;line-height:normal;font-family:Menlo,'DejaVu Sans Mono',consolas,'Courier New',monospace\">Processing Record <span style=\"color: #008080; text-decoration-color: #008080; font-weight: bold\">0</span> of Set <span style=\"color: #008080; text-decoration-color: #008080; font-weight: bold\">2</span> | channapatna\n",
       "</pre>\n"
      ],
      "text/plain": [
       "Processing Record \u001b[1;36m0\u001b[0m of Set \u001b[1;36m2\u001b[0m | channapatna\n"
      ]
     },
     "metadata": {},
     "output_type": "display_data"
    },
    {
     "data": {
      "text/html": [
       "<pre style=\"white-space:pre;overflow-x:auto;line-height:normal;font-family:Menlo,'DejaVu Sans Mono',consolas,'Courier New',monospace\">Processing Record <span style=\"color: #008080; text-decoration-color: #008080; font-weight: bold\">1</span> of Set <span style=\"color: #008080; text-decoration-color: #008080; font-weight: bold\">2</span> | vanimo\n",
       "</pre>\n"
      ],
      "text/plain": [
       "Processing Record \u001b[1;36m1\u001b[0m of Set \u001b[1;36m2\u001b[0m | vanimo\n"
      ]
     },
     "metadata": {},
     "output_type": "display_data"
    },
    {
     "data": {
      "text/html": [
       "<pre style=\"white-space:pre;overflow-x:auto;line-height:normal;font-family:Menlo,'DejaVu Sans Mono',consolas,'Courier New',monospace\">Processing Record <span style=\"color: #008080; text-decoration-color: #008080; font-weight: bold\">2</span> of Set <span style=\"color: #008080; text-decoration-color: #008080; font-weight: bold\">2</span> | port lincoln\n",
       "</pre>\n"
      ],
      "text/plain": [
       "Processing Record \u001b[1;36m2\u001b[0m of Set \u001b[1;36m2\u001b[0m | port lincoln\n"
      ]
     },
     "metadata": {},
     "output_type": "display_data"
    },
    {
     "data": {
      "text/html": [
       "<pre style=\"white-space:pre;overflow-x:auto;line-height:normal;font-family:Menlo,'DejaVu Sans Mono',consolas,'Courier New',monospace\">Processing Record <span style=\"color: #008080; text-decoration-color: #008080; font-weight: bold\">3</span> of Set <span style=\"color: #008080; text-decoration-color: #008080; font-weight: bold\">2</span> | saipan\n",
       "</pre>\n"
      ],
      "text/plain": [
       "Processing Record \u001b[1;36m3\u001b[0m of Set \u001b[1;36m2\u001b[0m | saipan\n"
      ]
     },
     "metadata": {},
     "output_type": "display_data"
    },
    {
     "data": {
      "text/html": [
       "<pre style=\"white-space:pre;overflow-x:auto;line-height:normal;font-family:Menlo,'DejaVu Sans Mono',consolas,'Courier New',monospace\">Processing Record <span style=\"color: #008080; text-decoration-color: #008080; font-weight: bold\">4</span> of Set <span style=\"color: #008080; text-decoration-color: #008080; font-weight: bold\">2</span> | nova xavantina\n",
       "</pre>\n"
      ],
      "text/plain": [
       "Processing Record \u001b[1;36m4\u001b[0m of Set \u001b[1;36m2\u001b[0m | nova xavantina\n"
      ]
     },
     "metadata": {},
     "output_type": "display_data"
    },
    {
     "data": {
      "text/html": [
       "<pre style=\"white-space:pre;overflow-x:auto;line-height:normal;font-family:Menlo,'DejaVu Sans Mono',consolas,'Courier New',monospace\">Processing Record <span style=\"color: #008080; text-decoration-color: #008080; font-weight: bold\">5</span> of Set <span style=\"color: #008080; text-decoration-color: #008080; font-weight: bold\">2</span> | puerto san carlos\n",
       "</pre>\n"
      ],
      "text/plain": [
       "Processing Record \u001b[1;36m5\u001b[0m of Set \u001b[1;36m2\u001b[0m | puerto san carlos\n"
      ]
     },
     "metadata": {},
     "output_type": "display_data"
    },
    {
     "data": {
      "text/html": [
       "<pre style=\"white-space:pre;overflow-x:auto;line-height:normal;font-family:Menlo,'DejaVu Sans Mono',consolas,'Courier New',monospace\">City not found. Skipping<span style=\"color: #808000; text-decoration-color: #808000\">...</span>\n",
       "</pre>\n"
      ],
      "text/plain": [
       "City not found. Skipping\u001b[33m...\u001b[0m\n"
      ]
     },
     "metadata": {},
     "output_type": "display_data"
    },
    {
     "data": {
      "text/html": [
       "<pre style=\"white-space:pre;overflow-x:auto;line-height:normal;font-family:Menlo,'DejaVu Sans Mono',consolas,'Courier New',monospace\">Processing Record <span style=\"color: #008080; text-decoration-color: #008080; font-weight: bold\">6</span> of Set <span style=\"color: #008080; text-decoration-color: #008080; font-weight: bold\">2</span> | udachny\n",
       "</pre>\n"
      ],
      "text/plain": [
       "Processing Record \u001b[1;36m6\u001b[0m of Set \u001b[1;36m2\u001b[0m | udachny\n"
      ]
     },
     "metadata": {},
     "output_type": "display_data"
    },
    {
     "data": {
      "text/html": [
       "<pre style=\"white-space:pre;overflow-x:auto;line-height:normal;font-family:Menlo,'DejaVu Sans Mono',consolas,'Courier New',monospace\">Processing Record <span style=\"color: #008080; text-decoration-color: #008080; font-weight: bold\">7</span> of Set <span style=\"color: #008080; text-decoration-color: #008080; font-weight: bold\">2</span> | vilyuchinsk\n",
       "</pre>\n"
      ],
      "text/plain": [
       "Processing Record \u001b[1;36m7\u001b[0m of Set \u001b[1;36m2\u001b[0m | vilyuchinsk\n"
      ]
     },
     "metadata": {},
     "output_type": "display_data"
    },
    {
     "data": {
      "text/html": [
       "<pre style=\"white-space:pre;overflow-x:auto;line-height:normal;font-family:Menlo,'DejaVu Sans Mono',consolas,'Courier New',monospace\">Processing Record <span style=\"color: #008080; text-decoration-color: #008080; font-weight: bold\">8</span> of Set <span style=\"color: #008080; text-decoration-color: #008080; font-weight: bold\">2</span> | talnakh\n",
       "</pre>\n"
      ],
      "text/plain": [
       "Processing Record \u001b[1;36m8\u001b[0m of Set \u001b[1;36m2\u001b[0m | talnakh\n"
      ]
     },
     "metadata": {},
     "output_type": "display_data"
    },
    {
     "data": {
      "text/html": [
       "<pre style=\"white-space:pre;overflow-x:auto;line-height:normal;font-family:Menlo,'DejaVu Sans Mono',consolas,'Courier New',monospace\">Processing Record <span style=\"color: #008080; text-decoration-color: #008080; font-weight: bold\">9</span> of Set <span style=\"color: #008080; text-decoration-color: #008080; font-weight: bold\">2</span> | pangody\n",
       "</pre>\n"
      ],
      "text/plain": [
       "Processing Record \u001b[1;36m9\u001b[0m of Set \u001b[1;36m2\u001b[0m | pangody\n"
      ]
     },
     "metadata": {},
     "output_type": "display_data"
    },
    {
     "data": {
      "text/html": [
       "<pre style=\"white-space:pre;overflow-x:auto;line-height:normal;font-family:Menlo,'DejaVu Sans Mono',consolas,'Courier New',monospace\">Processing Record <span style=\"color: #008080; text-decoration-color: #008080; font-weight: bold\">10</span> of Set <span style=\"color: #008080; text-decoration-color: #008080; font-weight: bold\">2</span> | margaret river\n",
       "</pre>\n"
      ],
      "text/plain": [
       "Processing Record \u001b[1;36m10\u001b[0m of Set \u001b[1;36m2\u001b[0m | margaret river\n"
      ]
     },
     "metadata": {},
     "output_type": "display_data"
    },
    {
     "data": {
      "text/html": [
       "<pre style=\"white-space:pre;overflow-x:auto;line-height:normal;font-family:Menlo,'DejaVu Sans Mono',consolas,'Courier New',monospace\">Processing Record <span style=\"color: #008080; text-decoration-color: #008080; font-weight: bold\">11</span> of Set <span style=\"color: #008080; text-decoration-color: #008080; font-weight: bold\">2</span> | ribeira grande\n",
       "</pre>\n"
      ],
      "text/plain": [
       "Processing Record \u001b[1;36m11\u001b[0m of Set \u001b[1;36m2\u001b[0m | ribeira grande\n"
      ]
     },
     "metadata": {},
     "output_type": "display_data"
    },
    {
     "data": {
      "text/html": [
       "<pre style=\"white-space:pre;overflow-x:auto;line-height:normal;font-family:Menlo,'DejaVu Sans Mono',consolas,'Courier New',monospace\">Processing Record <span style=\"color: #008080; text-decoration-color: #008080; font-weight: bold\">12</span> of Set <span style=\"color: #008080; text-decoration-color: #008080; font-weight: bold\">2</span> | ubari\n",
       "</pre>\n"
      ],
      "text/plain": [
       "Processing Record \u001b[1;36m12\u001b[0m of Set \u001b[1;36m2\u001b[0m | ubari\n"
      ]
     },
     "metadata": {},
     "output_type": "display_data"
    },
    {
     "data": {
      "text/html": [
       "<pre style=\"white-space:pre;overflow-x:auto;line-height:normal;font-family:Menlo,'DejaVu Sans Mono',consolas,'Courier New',monospace\">Processing Record <span style=\"color: #008080; text-decoration-color: #008080; font-weight: bold\">13</span> of Set <span style=\"color: #008080; text-decoration-color: #008080; font-weight: bold\">2</span> | papatowai\n",
       "</pre>\n"
      ],
      "text/plain": [
       "Processing Record \u001b[1;36m13\u001b[0m of Set \u001b[1;36m2\u001b[0m | papatowai\n"
      ]
     },
     "metadata": {},
     "output_type": "display_data"
    },
    {
     "data": {
      "text/html": [
       "<pre style=\"white-space:pre;overflow-x:auto;line-height:normal;font-family:Menlo,'DejaVu Sans Mono',consolas,'Courier New',monospace\">Processing Record <span style=\"color: #008080; text-decoration-color: #008080; font-weight: bold\">14</span> of Set <span style=\"color: #008080; text-decoration-color: #008080; font-weight: bold\">2</span> | mao\n",
       "</pre>\n"
      ],
      "text/plain": [
       "Processing Record \u001b[1;36m14\u001b[0m of Set \u001b[1;36m2\u001b[0m | mao\n"
      ]
     },
     "metadata": {},
     "output_type": "display_data"
    },
    {
     "data": {
      "text/html": [
       "<pre style=\"white-space:pre;overflow-x:auto;line-height:normal;font-family:Menlo,'DejaVu Sans Mono',consolas,'Courier New',monospace\">Processing Record <span style=\"color: #008080; text-decoration-color: #008080; font-weight: bold\">15</span> of Set <span style=\"color: #008080; text-decoration-color: #008080; font-weight: bold\">2</span> | chegdomyn\n",
       "</pre>\n"
      ],
      "text/plain": [
       "Processing Record \u001b[1;36m15\u001b[0m of Set \u001b[1;36m2\u001b[0m | chegdomyn\n"
      ]
     },
     "metadata": {},
     "output_type": "display_data"
    },
    {
     "data": {
      "text/html": [
       "<pre style=\"white-space:pre;overflow-x:auto;line-height:normal;font-family:Menlo,'DejaVu Sans Mono',consolas,'Courier New',monospace\">Processing Record <span style=\"color: #008080; text-decoration-color: #008080; font-weight: bold\">16</span> of Set <span style=\"color: #008080; text-decoration-color: #008080; font-weight: bold\">2</span> | lihue\n",
       "</pre>\n"
      ],
      "text/plain": [
       "Processing Record \u001b[1;36m16\u001b[0m of Set \u001b[1;36m2\u001b[0m | lihue\n"
      ]
     },
     "metadata": {},
     "output_type": "display_data"
    },
    {
     "data": {
      "text/html": [
       "<pre style=\"white-space:pre;overflow-x:auto;line-height:normal;font-family:Menlo,'DejaVu Sans Mono',consolas,'Courier New',monospace\">Processing Record <span style=\"color: #008080; text-decoration-color: #008080; font-weight: bold\">17</span> of Set <span style=\"color: #008080; text-decoration-color: #008080; font-weight: bold\">2</span> | xianshuigu\n",
       "</pre>\n"
      ],
      "text/plain": [
       "Processing Record \u001b[1;36m17\u001b[0m of Set \u001b[1;36m2\u001b[0m | xianshuigu\n"
      ]
     },
     "metadata": {},
     "output_type": "display_data"
    },
    {
     "data": {
      "text/html": [
       "<pre style=\"white-space:pre;overflow-x:auto;line-height:normal;font-family:Menlo,'DejaVu Sans Mono',consolas,'Courier New',monospace\">Processing Record <span style=\"color: #008080; text-decoration-color: #008080; font-weight: bold\">18</span> of Set <span style=\"color: #008080; text-decoration-color: #008080; font-weight: bold\">2</span> | westport\n",
       "</pre>\n"
      ],
      "text/plain": [
       "Processing Record \u001b[1;36m18\u001b[0m of Set \u001b[1;36m2\u001b[0m | westport\n"
      ]
     },
     "metadata": {},
     "output_type": "display_data"
    },
    {
     "data": {
      "text/html": [
       "<pre style=\"white-space:pre;overflow-x:auto;line-height:normal;font-family:Menlo,'DejaVu Sans Mono',consolas,'Courier New',monospace\">Processing Record <span style=\"color: #008080; text-decoration-color: #008080; font-weight: bold\">19</span> of Set <span style=\"color: #008080; text-decoration-color: #008080; font-weight: bold\">2</span> | sao joao da barra\n",
       "</pre>\n"
      ],
      "text/plain": [
       "Processing Record \u001b[1;36m19\u001b[0m of Set \u001b[1;36m2\u001b[0m | sao joao da barra\n"
      ]
     },
     "metadata": {},
     "output_type": "display_data"
    },
    {
     "data": {
      "text/html": [
       "<pre style=\"white-space:pre;overflow-x:auto;line-height:normal;font-family:Menlo,'DejaVu Sans Mono',consolas,'Courier New',monospace\">Processing Record <span style=\"color: #008080; text-decoration-color: #008080; font-weight: bold\">20</span> of Set <span style=\"color: #008080; text-decoration-color: #008080; font-weight: bold\">2</span> | santana\n",
       "</pre>\n"
      ],
      "text/plain": [
       "Processing Record \u001b[1;36m20\u001b[0m of Set \u001b[1;36m2\u001b[0m | santana\n"
      ]
     },
     "metadata": {},
     "output_type": "display_data"
    },
    {
     "data": {
      "text/html": [
       "<pre style=\"white-space:pre;overflow-x:auto;line-height:normal;font-family:Menlo,'DejaVu Sans Mono',consolas,'Courier New',monospace\">Processing Record <span style=\"color: #008080; text-decoration-color: #008080; font-weight: bold\">21</span> of Set <span style=\"color: #008080; text-decoration-color: #008080; font-weight: bold\">2</span> | vallegrande\n",
       "</pre>\n"
      ],
      "text/plain": [
       "Processing Record \u001b[1;36m21\u001b[0m of Set \u001b[1;36m2\u001b[0m | vallegrande\n"
      ]
     },
     "metadata": {},
     "output_type": "display_data"
    },
    {
     "data": {
      "text/html": [
       "<pre style=\"white-space:pre;overflow-x:auto;line-height:normal;font-family:Menlo,'DejaVu Sans Mono',consolas,'Courier New',monospace\">Processing Record <span style=\"color: #008080; text-decoration-color: #008080; font-weight: bold\">22</span> of Set <span style=\"color: #008080; text-decoration-color: #008080; font-weight: bold\">2</span> | kununurra\n",
       "</pre>\n"
      ],
      "text/plain": [
       "Processing Record \u001b[1;36m22\u001b[0m of Set \u001b[1;36m2\u001b[0m | kununurra\n"
      ]
     },
     "metadata": {},
     "output_type": "display_data"
    },
    {
     "data": {
      "text/html": [
       "<pre style=\"white-space:pre;overflow-x:auto;line-height:normal;font-family:Menlo,'DejaVu Sans Mono',consolas,'Courier New',monospace\">Processing Record <span style=\"color: #008080; text-decoration-color: #008080; font-weight: bold\">23</span> of Set <span style=\"color: #008080; text-decoration-color: #008080; font-weight: bold\">2</span> | tazovsky\n",
       "</pre>\n"
      ],
      "text/plain": [
       "Processing Record \u001b[1;36m23\u001b[0m of Set \u001b[1;36m2\u001b[0m | tazovsky\n"
      ]
     },
     "metadata": {},
     "output_type": "display_data"
    },
    {
     "data": {
      "text/html": [
       "<pre style=\"white-space:pre;overflow-x:auto;line-height:normal;font-family:Menlo,'DejaVu Sans Mono',consolas,'Courier New',monospace\">Processing Record <span style=\"color: #008080; text-decoration-color: #008080; font-weight: bold\">24</span> of Set <span style=\"color: #008080; text-decoration-color: #008080; font-weight: bold\">2</span> | iqaluit\n",
       "</pre>\n"
      ],
      "text/plain": [
       "Processing Record \u001b[1;36m24\u001b[0m of Set \u001b[1;36m2\u001b[0m | iqaluit\n"
      ]
     },
     "metadata": {},
     "output_type": "display_data"
    },
    {
     "data": {
      "text/html": [
       "<pre style=\"white-space:pre;overflow-x:auto;line-height:normal;font-family:Menlo,'DejaVu Sans Mono',consolas,'Courier New',monospace\">Processing Record <span style=\"color: #008080; text-decoration-color: #008080; font-weight: bold\">25</span> of Set <span style=\"color: #008080; text-decoration-color: #008080; font-weight: bold\">2</span> | sao jose da coroa grande\n",
       "</pre>\n"
      ],
      "text/plain": [
       "Processing Record \u001b[1;36m25\u001b[0m of Set \u001b[1;36m2\u001b[0m | sao jose da coroa grande\n"
      ]
     },
     "metadata": {},
     "output_type": "display_data"
    },
    {
     "data": {
      "text/html": [
       "<pre style=\"white-space:pre;overflow-x:auto;line-height:normal;font-family:Menlo,'DejaVu Sans Mono',consolas,'Courier New',monospace\">Processing Record <span style=\"color: #008080; text-decoration-color: #008080; font-weight: bold\">26</span> of Set <span style=\"color: #008080; text-decoration-color: #008080; font-weight: bold\">2</span> | port mathurin\n",
       "</pre>\n"
      ],
      "text/plain": [
       "Processing Record \u001b[1;36m26\u001b[0m of Set \u001b[1;36m2\u001b[0m | port mathurin\n"
      ]
     },
     "metadata": {},
     "output_type": "display_data"
    },
    {
     "data": {
      "text/html": [
       "<pre style=\"white-space:pre;overflow-x:auto;line-height:normal;font-family:Menlo,'DejaVu Sans Mono',consolas,'Courier New',monospace\">Processing Record <span style=\"color: #008080; text-decoration-color: #008080; font-weight: bold\">27</span> of Set <span style=\"color: #008080; text-decoration-color: #008080; font-weight: bold\">2</span> | flying fish cove\n",
       "</pre>\n"
      ],
      "text/plain": [
       "Processing Record \u001b[1;36m27\u001b[0m of Set \u001b[1;36m2\u001b[0m | flying fish cove\n"
      ]
     },
     "metadata": {},
     "output_type": "display_data"
    },
    {
     "data": {
      "text/html": [
       "<pre style=\"white-space:pre;overflow-x:auto;line-height:normal;font-family:Menlo,'DejaVu Sans Mono',consolas,'Courier New',monospace\">Processing Record <span style=\"color: #008080; text-decoration-color: #008080; font-weight: bold\">28</span> of Set <span style=\"color: #008080; text-decoration-color: #008080; font-weight: bold\">2</span> | constitucion\n",
       "</pre>\n"
      ],
      "text/plain": [
       "Processing Record \u001b[1;36m28\u001b[0m of Set \u001b[1;36m2\u001b[0m | constitucion\n"
      ]
     },
     "metadata": {},
     "output_type": "display_data"
    },
    {
     "data": {
      "text/html": [
       "<pre style=\"white-space:pre;overflow-x:auto;line-height:normal;font-family:Menlo,'DejaVu Sans Mono',consolas,'Courier New',monospace\">Processing Record <span style=\"color: #008080; text-decoration-color: #008080; font-weight: bold\">29</span> of Set <span style=\"color: #008080; text-decoration-color: #008080; font-weight: bold\">2</span> | mount pearl\n",
       "</pre>\n"
      ],
      "text/plain": [
       "Processing Record \u001b[1;36m29\u001b[0m of Set \u001b[1;36m2\u001b[0m | mount pearl\n"
      ]
     },
     "metadata": {},
     "output_type": "display_data"
    },
    {
     "data": {
      "text/html": [
       "<pre style=\"white-space:pre;overflow-x:auto;line-height:normal;font-family:Menlo,'DejaVu Sans Mono',consolas,'Courier New',monospace\">Processing Record <span style=\"color: #008080; text-decoration-color: #008080; font-weight: bold\">30</span> of Set <span style=\"color: #008080; text-decoration-color: #008080; font-weight: bold\">2</span> | suva\n",
       "</pre>\n"
      ],
      "text/plain": [
       "Processing Record \u001b[1;36m30\u001b[0m of Set \u001b[1;36m2\u001b[0m | suva\n"
      ]
     },
     "metadata": {},
     "output_type": "display_data"
    },
    {
     "data": {
      "text/html": [
       "<pre style=\"white-space:pre;overflow-x:auto;line-height:normal;font-family:Menlo,'DejaVu Sans Mono',consolas,'Courier New',monospace\">Processing Record <span style=\"color: #008080; text-decoration-color: #008080; font-weight: bold\">31</span> of Set <span style=\"color: #008080; text-decoration-color: #008080; font-weight: bold\">2</span> | papao\n",
       "</pre>\n"
      ],
      "text/plain": [
       "Processing Record \u001b[1;36m31\u001b[0m of Set \u001b[1;36m2\u001b[0m | papao\n"
      ]
     },
     "metadata": {},
     "output_type": "display_data"
    },
    {
     "data": {
      "text/html": [
       "<pre style=\"white-space:pre;overflow-x:auto;line-height:normal;font-family:Menlo,'DejaVu Sans Mono',consolas,'Courier New',monospace\">Processing Record <span style=\"color: #008080; text-decoration-color: #008080; font-weight: bold\">32</span> of Set <span style=\"color: #008080; text-decoration-color: #008080; font-weight: bold\">2</span> | bayanhongor\n",
       "</pre>\n"
      ],
      "text/plain": [
       "Processing Record \u001b[1;36m32\u001b[0m of Set \u001b[1;36m2\u001b[0m | bayanhongor\n"
      ]
     },
     "metadata": {},
     "output_type": "display_data"
    },
    {
     "data": {
      "text/html": [
       "<pre style=\"white-space:pre;overflow-x:auto;line-height:normal;font-family:Menlo,'DejaVu Sans Mono',consolas,'Courier New',monospace\">Processing Record <span style=\"color: #008080; text-decoration-color: #008080; font-weight: bold\">33</span> of Set <span style=\"color: #008080; text-decoration-color: #008080; font-weight: bold\">2</span> | mosjoen\n",
       "</pre>\n"
      ],
      "text/plain": [
       "Processing Record \u001b[1;36m33\u001b[0m of Set \u001b[1;36m2\u001b[0m | mosjoen\n"
      ]
     },
     "metadata": {},
     "output_type": "display_data"
    },
    {
     "data": {
      "text/html": [
       "<pre style=\"white-space:pre;overflow-x:auto;line-height:normal;font-family:Menlo,'DejaVu Sans Mono',consolas,'Courier New',monospace\">Processing Record <span style=\"color: #008080; text-decoration-color: #008080; font-weight: bold\">34</span> of Set <span style=\"color: #008080; text-decoration-color: #008080; font-weight: bold\">2</span> | baiti\n",
       "</pre>\n"
      ],
      "text/plain": [
       "Processing Record \u001b[1;36m34\u001b[0m of Set \u001b[1;36m2\u001b[0m | baiti\n"
      ]
     },
     "metadata": {},
     "output_type": "display_data"
    },
    {
     "data": {
      "text/html": [
       "<pre style=\"white-space:pre;overflow-x:auto;line-height:normal;font-family:Menlo,'DejaVu Sans Mono',consolas,'Courier New',monospace\">Processing Record <span style=\"color: #008080; text-decoration-color: #008080; font-weight: bold\">35</span> of Set <span style=\"color: #008080; text-decoration-color: #008080; font-weight: bold\">2</span> | ogori-shimogo\n",
       "</pre>\n"
      ],
      "text/plain": [
       "Processing Record \u001b[1;36m35\u001b[0m of Set \u001b[1;36m2\u001b[0m | ogori-shimogo\n"
      ]
     },
     "metadata": {},
     "output_type": "display_data"
    },
    {
     "data": {
      "text/html": [
       "<pre style=\"white-space:pre;overflow-x:auto;line-height:normal;font-family:Menlo,'DejaVu Sans Mono',consolas,'Courier New',monospace\">Processing Record <span style=\"color: #008080; text-decoration-color: #008080; font-weight: bold\">36</span> of Set <span style=\"color: #008080; text-decoration-color: #008080; font-weight: bold\">2</span> | fale old settlement\n",
       "</pre>\n"
      ],
      "text/plain": [
       "Processing Record \u001b[1;36m36\u001b[0m of Set \u001b[1;36m2\u001b[0m | fale old settlement\n"
      ]
     },
     "metadata": {},
     "output_type": "display_data"
    },
    {
     "data": {
      "text/html": [
       "<pre style=\"white-space:pre;overflow-x:auto;line-height:normal;font-family:Menlo,'DejaVu Sans Mono',consolas,'Courier New',monospace\">Processing Record <span style=\"color: #008080; text-decoration-color: #008080; font-weight: bold\">37</span> of Set <span style=\"color: #008080; text-decoration-color: #008080; font-weight: bold\">2</span> | kavaratti\n",
       "</pre>\n"
      ],
      "text/plain": [
       "Processing Record \u001b[1;36m37\u001b[0m of Set \u001b[1;36m2\u001b[0m | kavaratti\n"
      ]
     },
     "metadata": {},
     "output_type": "display_data"
    },
    {
     "data": {
      "text/html": [
       "<pre style=\"white-space:pre;overflow-x:auto;line-height:normal;font-family:Menlo,'DejaVu Sans Mono',consolas,'Courier New',monospace\">Processing Record <span style=\"color: #008080; text-decoration-color: #008080; font-weight: bold\">38</span> of Set <span style=\"color: #008080; text-decoration-color: #008080; font-weight: bold\">2</span> | goundam\n",
       "</pre>\n"
      ],
      "text/plain": [
       "Processing Record \u001b[1;36m38\u001b[0m of Set \u001b[1;36m2\u001b[0m | goundam\n"
      ]
     },
     "metadata": {},
     "output_type": "display_data"
    },
    {
     "data": {
      "text/html": [
       "<pre style=\"white-space:pre;overflow-x:auto;line-height:normal;font-family:Menlo,'DejaVu Sans Mono',consolas,'Courier New',monospace\">Processing Record <span style=\"color: #008080; text-decoration-color: #008080; font-weight: bold\">39</span> of Set <span style=\"color: #008080; text-decoration-color: #008080; font-weight: bold\">2</span> | kone\n",
       "</pre>\n"
      ],
      "text/plain": [
       "Processing Record \u001b[1;36m39\u001b[0m of Set \u001b[1;36m2\u001b[0m | kone\n"
      ]
     },
     "metadata": {},
     "output_type": "display_data"
    },
    {
     "data": {
      "text/html": [
       "<pre style=\"white-space:pre;overflow-x:auto;line-height:normal;font-family:Menlo,'DejaVu Sans Mono',consolas,'Courier New',monospace\">Processing Record <span style=\"color: #008080; text-decoration-color: #008080; font-weight: bold\">40</span> of Set <span style=\"color: #008080; text-decoration-color: #008080; font-weight: bold\">2</span> | wailua homesteads\n",
       "</pre>\n"
      ],
      "text/plain": [
       "Processing Record \u001b[1;36m40\u001b[0m of Set \u001b[1;36m2\u001b[0m | wailua homesteads\n"
      ]
     },
     "metadata": {},
     "output_type": "display_data"
    },
    {
     "data": {
      "text/html": [
       "<pre style=\"white-space:pre;overflow-x:auto;line-height:normal;font-family:Menlo,'DejaVu Sans Mono',consolas,'Courier New',monospace\">Processing Record <span style=\"color: #008080; text-decoration-color: #008080; font-weight: bold\">41</span> of Set <span style=\"color: #008080; text-decoration-color: #008080; font-weight: bold\">2</span> | kruisfontein\n",
       "</pre>\n"
      ],
      "text/plain": [
       "Processing Record \u001b[1;36m41\u001b[0m of Set \u001b[1;36m2\u001b[0m | kruisfontein\n"
      ]
     },
     "metadata": {},
     "output_type": "display_data"
    },
    {
     "data": {
      "text/html": [
       "<pre style=\"white-space:pre;overflow-x:auto;line-height:normal;font-family:Menlo,'DejaVu Sans Mono',consolas,'Courier New',monospace\">Processing Record <span style=\"color: #008080; text-decoration-color: #008080; font-weight: bold\">42</span> of Set <span style=\"color: #008080; text-decoration-color: #008080; font-weight: bold\">2</span> | constantia\n",
       "</pre>\n"
      ],
      "text/plain": [
       "Processing Record \u001b[1;36m42\u001b[0m of Set \u001b[1;36m2\u001b[0m | constantia\n"
      ]
     },
     "metadata": {},
     "output_type": "display_data"
    },
    {
     "data": {
      "text/html": [
       "<pre style=\"white-space:pre;overflow-x:auto;line-height:normal;font-family:Menlo,'DejaVu Sans Mono',consolas,'Courier New',monospace\">Processing Record <span style=\"color: #008080; text-decoration-color: #008080; font-weight: bold\">43</span> of Set <span style=\"color: #008080; text-decoration-color: #008080; font-weight: bold\">2</span> | veinticinco de mayo\n",
       "</pre>\n"
      ],
      "text/plain": [
       "Processing Record \u001b[1;36m43\u001b[0m of Set \u001b[1;36m2\u001b[0m | veinticinco de mayo\n"
      ]
     },
     "metadata": {},
     "output_type": "display_data"
    },
    {
     "data": {
      "text/html": [
       "<pre style=\"white-space:pre;overflow-x:auto;line-height:normal;font-family:Menlo,'DejaVu Sans Mono',consolas,'Courier New',monospace\">Processing Record <span style=\"color: #008080; text-decoration-color: #008080; font-weight: bold\">44</span> of Set <span style=\"color: #008080; text-decoration-color: #008080; font-weight: bold\">2</span> | edinburgh of the seven seas\n",
       "</pre>\n"
      ],
      "text/plain": [
       "Processing Record \u001b[1;36m44\u001b[0m of Set \u001b[1;36m2\u001b[0m | edinburgh of the seven seas\n"
      ]
     },
     "metadata": {},
     "output_type": "display_data"
    },
    {
     "data": {
      "text/html": [
       "<pre style=\"white-space:pre;overflow-x:auto;line-height:normal;font-family:Menlo,'DejaVu Sans Mono',consolas,'Courier New',monospace\">Processing Record <span style=\"color: #008080; text-decoration-color: #008080; font-weight: bold\">45</span> of Set <span style=\"color: #008080; text-decoration-color: #008080; font-weight: bold\">2</span> | nagtipunan\n",
       "</pre>\n"
      ],
      "text/plain": [
       "Processing Record \u001b[1;36m45\u001b[0m of Set \u001b[1;36m2\u001b[0m | nagtipunan\n"
      ]
     },
     "metadata": {},
     "output_type": "display_data"
    },
    {
     "data": {
      "text/html": [
       "<pre style=\"white-space:pre;overflow-x:auto;line-height:normal;font-family:Menlo,'DejaVu Sans Mono',consolas,'Courier New',monospace\">Processing Record <span style=\"color: #008080; text-decoration-color: #008080; font-weight: bold\">46</span> of Set <span style=\"color: #008080; text-decoration-color: #008080; font-weight: bold\">2</span> | argo\n",
       "</pre>\n"
      ],
      "text/plain": [
       "Processing Record \u001b[1;36m46\u001b[0m of Set \u001b[1;36m2\u001b[0m | argo\n"
      ]
     },
     "metadata": {},
     "output_type": "display_data"
    },
    {
     "data": {
      "text/html": [
       "<pre style=\"white-space:pre;overflow-x:auto;line-height:normal;font-family:Menlo,'DejaVu Sans Mono',consolas,'Courier New',monospace\">Processing Record <span style=\"color: #008080; text-decoration-color: #008080; font-weight: bold\">47</span> of Set <span style=\"color: #008080; text-decoration-color: #008080; font-weight: bold\">2</span> | sur\n",
       "</pre>\n"
      ],
      "text/plain": [
       "Processing Record \u001b[1;36m47\u001b[0m of Set \u001b[1;36m2\u001b[0m | sur\n"
      ]
     },
     "metadata": {},
     "output_type": "display_data"
    },
    {
     "data": {
      "text/html": [
       "<pre style=\"white-space:pre;overflow-x:auto;line-height:normal;font-family:Menlo,'DejaVu Sans Mono',consolas,'Courier New',monospace\">Processing Record <span style=\"color: #008080; text-decoration-color: #008080; font-weight: bold\">48</span> of Set <span style=\"color: #008080; text-decoration-color: #008080; font-weight: bold\">2</span> | kasongo-lunda\n",
       "</pre>\n"
      ],
      "text/plain": [
       "Processing Record \u001b[1;36m48\u001b[0m of Set \u001b[1;36m2\u001b[0m | kasongo-lunda\n"
      ]
     },
     "metadata": {},
     "output_type": "display_data"
    },
    {
     "data": {
      "text/html": [
       "<pre style=\"white-space:pre;overflow-x:auto;line-height:normal;font-family:Menlo,'DejaVu Sans Mono',consolas,'Courier New',monospace\">Processing Record <span style=\"color: #008080; text-decoration-color: #008080; font-weight: bold\">49</span> of Set <span style=\"color: #008080; text-decoration-color: #008080; font-weight: bold\">2</span> | mugia\n",
       "</pre>\n"
      ],
      "text/plain": [
       "Processing Record \u001b[1;36m49\u001b[0m of Set \u001b[1;36m2\u001b[0m | mugia\n"
      ]
     },
     "metadata": {},
     "output_type": "display_data"
    },
    {
     "data": {
      "text/html": [
       "<pre style=\"white-space:pre;overflow-x:auto;line-height:normal;font-family:Menlo,'DejaVu Sans Mono',consolas,'Courier New',monospace\">Processing Record <span style=\"color: #008080; text-decoration-color: #008080; font-weight: bold\">0</span> of Set <span style=\"color: #008080; text-decoration-color: #008080; font-weight: bold\">3</span> | minas de marcona\n",
       "</pre>\n"
      ],
      "text/plain": [
       "Processing Record \u001b[1;36m0\u001b[0m of Set \u001b[1;36m3\u001b[0m | minas de marcona\n"
      ]
     },
     "metadata": {},
     "output_type": "display_data"
    },
    {
     "data": {
      "text/html": [
       "<pre style=\"white-space:pre;overflow-x:auto;line-height:normal;font-family:Menlo,'DejaVu Sans Mono',consolas,'Courier New',monospace\">Processing Record <span style=\"color: #008080; text-decoration-color: #008080; font-weight: bold\">1</span> of Set <span style=\"color: #008080; text-decoration-color: #008080; font-weight: bold\">3</span> | port shepstone\n",
       "</pre>\n"
      ],
      "text/plain": [
       "Processing Record \u001b[1;36m1\u001b[0m of Set \u001b[1;36m3\u001b[0m | port shepstone\n"
      ]
     },
     "metadata": {},
     "output_type": "display_data"
    },
    {
     "data": {
      "text/html": [
       "<pre style=\"white-space:pre;overflow-x:auto;line-height:normal;font-family:Menlo,'DejaVu Sans Mono',consolas,'Courier New',monospace\">Processing Record <span style=\"color: #008080; text-decoration-color: #008080; font-weight: bold\">2</span> of Set <span style=\"color: #008080; text-decoration-color: #008080; font-weight: bold\">3</span> | dudinka\n",
       "</pre>\n"
      ],
      "text/plain": [
       "Processing Record \u001b[1;36m2\u001b[0m of Set \u001b[1;36m3\u001b[0m | dudinka\n"
      ]
     },
     "metadata": {},
     "output_type": "display_data"
    },
    {
     "data": {
      "text/html": [
       "<pre style=\"white-space:pre;overflow-x:auto;line-height:normal;font-family:Menlo,'DejaVu Sans Mono',consolas,'Courier New',monospace\">Processing Record <span style=\"color: #008080; text-decoration-color: #008080; font-weight: bold\">3</span> of Set <span style=\"color: #008080; text-decoration-color: #008080; font-weight: bold\">3</span> | nar'yan-mar\n",
       "</pre>\n"
      ],
      "text/plain": [
       "Processing Record \u001b[1;36m3\u001b[0m of Set \u001b[1;36m3\u001b[0m | nar'yan-mar\n"
      ]
     },
     "metadata": {},
     "output_type": "display_data"
    },
    {
     "data": {
      "text/html": [
       "<pre style=\"white-space:pre;overflow-x:auto;line-height:normal;font-family:Menlo,'DejaVu Sans Mono',consolas,'Courier New',monospace\">Processing Record <span style=\"color: #008080; text-decoration-color: #008080; font-weight: bold\">4</span> of Set <span style=\"color: #008080; text-decoration-color: #008080; font-weight: bold\">3</span> | kidal\n",
       "</pre>\n"
      ],
      "text/plain": [
       "Processing Record \u001b[1;36m4\u001b[0m of Set \u001b[1;36m3\u001b[0m | kidal\n"
      ]
     },
     "metadata": {},
     "output_type": "display_data"
    },
    {
     "data": {
      "text/html": [
       "<pre style=\"white-space:pre;overflow-x:auto;line-height:normal;font-family:Menlo,'DejaVu Sans Mono',consolas,'Courier New',monospace\">Processing Record <span style=\"color: #008080; text-decoration-color: #008080; font-weight: bold\">5</span> of Set <span style=\"color: #008080; text-decoration-color: #008080; font-weight: bold\">3</span> | port blair\n",
       "</pre>\n"
      ],
      "text/plain": [
       "Processing Record \u001b[1;36m5\u001b[0m of Set \u001b[1;36m3\u001b[0m | port blair\n"
      ]
     },
     "metadata": {},
     "output_type": "display_data"
    },
    {
     "data": {
      "text/html": [
       "<pre style=\"white-space:pre;overflow-x:auto;line-height:normal;font-family:Menlo,'DejaVu Sans Mono',consolas,'Courier New',monospace\">Processing Record <span style=\"color: #008080; text-decoration-color: #008080; font-weight: bold\">6</span> of Set <span style=\"color: #008080; text-decoration-color: #008080; font-weight: bold\">3</span> | longyearbyen\n",
       "</pre>\n"
      ],
      "text/plain": [
       "Processing Record \u001b[1;36m6\u001b[0m of Set \u001b[1;36m3\u001b[0m | longyearbyen\n"
      ]
     },
     "metadata": {},
     "output_type": "display_data"
    },
    {
     "data": {
      "text/html": [
       "<pre style=\"white-space:pre;overflow-x:auto;line-height:normal;font-family:Menlo,'DejaVu Sans Mono',consolas,'Courier New',monospace\">Processing Record <span style=\"color: #008080; text-decoration-color: #008080; font-weight: bold\">7</span> of Set <span style=\"color: #008080; text-decoration-color: #008080; font-weight: bold\">3</span> | salinopolis\n",
       "</pre>\n"
      ],
      "text/plain": [
       "Processing Record \u001b[1;36m7\u001b[0m of Set \u001b[1;36m3\u001b[0m | salinopolis\n"
      ]
     },
     "metadata": {},
     "output_type": "display_data"
    },
    {
     "data": {
      "text/html": [
       "<pre style=\"white-space:pre;overflow-x:auto;line-height:normal;font-family:Menlo,'DejaVu Sans Mono',consolas,'Courier New',monospace\">Processing Record <span style=\"color: #008080; text-decoration-color: #008080; font-weight: bold\">8</span> of Set <span style=\"color: #008080; text-decoration-color: #008080; font-weight: bold\">3</span> | garissa\n",
       "</pre>\n"
      ],
      "text/plain": [
       "Processing Record \u001b[1;36m8\u001b[0m of Set \u001b[1;36m3\u001b[0m | garissa\n"
      ]
     },
     "metadata": {},
     "output_type": "display_data"
    },
    {
     "data": {
      "text/html": [
       "<pre style=\"white-space:pre;overflow-x:auto;line-height:normal;font-family:Menlo,'DejaVu Sans Mono',consolas,'Courier New',monospace\">Processing Record <span style=\"color: #008080; text-decoration-color: #008080; font-weight: bold\">9</span> of Set <span style=\"color: #008080; text-decoration-color: #008080; font-weight: bold\">3</span> | bodo\n",
       "</pre>\n"
      ],
      "text/plain": [
       "Processing Record \u001b[1;36m9\u001b[0m of Set \u001b[1;36m3\u001b[0m | bodo\n"
      ]
     },
     "metadata": {},
     "output_type": "display_data"
    },
    {
     "data": {
      "text/html": [
       "<pre style=\"white-space:pre;overflow-x:auto;line-height:normal;font-family:Menlo,'DejaVu Sans Mono',consolas,'Courier New',monospace\">Processing Record <span style=\"color: #008080; text-decoration-color: #008080; font-weight: bold\">10</span> of Set <span style=\"color: #008080; text-decoration-color: #008080; font-weight: bold\">3</span> | joshimath\n",
       "</pre>\n"
      ],
      "text/plain": [
       "Processing Record \u001b[1;36m10\u001b[0m of Set \u001b[1;36m3\u001b[0m | joshimath\n"
      ]
     },
     "metadata": {},
     "output_type": "display_data"
    },
    {
     "data": {
      "text/html": [
       "<pre style=\"white-space:pre;overflow-x:auto;line-height:normal;font-family:Menlo,'DejaVu Sans Mono',consolas,'Courier New',monospace\">Processing Record <span style=\"color: #008080; text-decoration-color: #008080; font-weight: bold\">11</span> of Set <span style=\"color: #008080; text-decoration-color: #008080; font-weight: bold\">3</span> | petropavlovsk-kamchatsky\n",
       "</pre>\n"
      ],
      "text/plain": [
       "Processing Record \u001b[1;36m11\u001b[0m of Set \u001b[1;36m3\u001b[0m | petropavlovsk-kamchatsky\n"
      ]
     },
     "metadata": {},
     "output_type": "display_data"
    },
    {
     "data": {
      "text/html": [
       "<pre style=\"white-space:pre;overflow-x:auto;line-height:normal;font-family:Menlo,'DejaVu Sans Mono',consolas,'Courier New',monospace\">Processing Record <span style=\"color: #008080; text-decoration-color: #008080; font-weight: bold\">12</span> of Set <span style=\"color: #008080; text-decoration-color: #008080; font-weight: bold\">3</span> | luderitz\n",
       "</pre>\n"
      ],
      "text/plain": [
       "Processing Record \u001b[1;36m12\u001b[0m of Set \u001b[1;36m3\u001b[0m | luderitz\n"
      ]
     },
     "metadata": {},
     "output_type": "display_data"
    },
    {
     "data": {
      "text/html": [
       "<pre style=\"white-space:pre;overflow-x:auto;line-height:normal;font-family:Menlo,'DejaVu Sans Mono',consolas,'Courier New',monospace\">Processing Record <span style=\"color: #008080; text-decoration-color: #008080; font-weight: bold\">13</span> of Set <span style=\"color: #008080; text-decoration-color: #008080; font-weight: bold\">3</span> | boa esperanca\n",
       "</pre>\n"
      ],
      "text/plain": [
       "Processing Record \u001b[1;36m13\u001b[0m of Set \u001b[1;36m3\u001b[0m | boa esperanca\n"
      ]
     },
     "metadata": {},
     "output_type": "display_data"
    },
    {
     "data": {
      "text/html": [
       "<pre style=\"white-space:pre;overflow-x:auto;line-height:normal;font-family:Menlo,'DejaVu Sans Mono',consolas,'Courier New',monospace\">Processing Record <span style=\"color: #008080; text-decoration-color: #008080; font-weight: bold\">14</span> of Set <span style=\"color: #008080; text-decoration-color: #008080; font-weight: bold\">3</span> | bumba\n",
       "</pre>\n"
      ],
      "text/plain": [
       "Processing Record \u001b[1;36m14\u001b[0m of Set \u001b[1;36m3\u001b[0m | bumba\n"
      ]
     },
     "metadata": {},
     "output_type": "display_data"
    },
    {
     "data": {
      "text/html": [
       "<pre style=\"white-space:pre;overflow-x:auto;line-height:normal;font-family:Menlo,'DejaVu Sans Mono',consolas,'Courier New',monospace\">Processing Record <span style=\"color: #008080; text-decoration-color: #008080; font-weight: bold\">15</span> of Set <span style=\"color: #008080; text-decoration-color: #008080; font-weight: bold\">3</span> | florida\n",
       "</pre>\n"
      ],
      "text/plain": [
       "Processing Record \u001b[1;36m15\u001b[0m of Set \u001b[1;36m3\u001b[0m | florida\n"
      ]
     },
     "metadata": {},
     "output_type": "display_data"
    },
    {
     "data": {
      "text/html": [
       "<pre style=\"white-space:pre;overflow-x:auto;line-height:normal;font-family:Menlo,'DejaVu Sans Mono',consolas,'Courier New',monospace\">Processing Record <span style=\"color: #008080; text-decoration-color: #008080; font-weight: bold\">16</span> of Set <span style=\"color: #008080; text-decoration-color: #008080; font-weight: bold\">3</span> | evanston\n",
       "</pre>\n"
      ],
      "text/plain": [
       "Processing Record \u001b[1;36m16\u001b[0m of Set \u001b[1;36m3\u001b[0m | evanston\n"
      ]
     },
     "metadata": {},
     "output_type": "display_data"
    },
    {
     "data": {
      "text/html": [
       "<pre style=\"white-space:pre;overflow-x:auto;line-height:normal;font-family:Menlo,'DejaVu Sans Mono',consolas,'Courier New',monospace\">Processing Record <span style=\"color: #008080; text-decoration-color: #008080; font-weight: bold\">17</span> of Set <span style=\"color: #008080; text-decoration-color: #008080; font-weight: bold\">3</span> | tiksi\n",
       "</pre>\n"
      ],
      "text/plain": [
       "Processing Record \u001b[1;36m17\u001b[0m of Set \u001b[1;36m3\u001b[0m | tiksi\n"
      ]
     },
     "metadata": {},
     "output_type": "display_data"
    },
    {
     "data": {
      "text/html": [
       "<pre style=\"white-space:pre;overflow-x:auto;line-height:normal;font-family:Menlo,'DejaVu Sans Mono',consolas,'Courier New',monospace\">Processing Record <span style=\"color: #008080; text-decoration-color: #008080; font-weight: bold\">18</span> of Set <span style=\"color: #008080; text-decoration-color: #008080; font-weight: bold\">3</span> | tejen\n",
       "</pre>\n"
      ],
      "text/plain": [
       "Processing Record \u001b[1;36m18\u001b[0m of Set \u001b[1;36m3\u001b[0m | tejen\n"
      ]
     },
     "metadata": {},
     "output_type": "display_data"
    },
    {
     "data": {
      "text/html": [
       "<pre style=\"white-space:pre;overflow-x:auto;line-height:normal;font-family:Menlo,'DejaVu Sans Mono',consolas,'Courier New',monospace\">Processing Record <span style=\"color: #008080; text-decoration-color: #008080; font-weight: bold\">19</span> of Set <span style=\"color: #008080; text-decoration-color: #008080; font-weight: bold\">3</span> | campbellton\n",
       "</pre>\n"
      ],
      "text/plain": [
       "Processing Record \u001b[1;36m19\u001b[0m of Set \u001b[1;36m3\u001b[0m | campbellton\n"
      ]
     },
     "metadata": {},
     "output_type": "display_data"
    },
    {
     "data": {
      "text/html": [
       "<pre style=\"white-space:pre;overflow-x:auto;line-height:normal;font-family:Menlo,'DejaVu Sans Mono',consolas,'Courier New',monospace\">Processing Record <span style=\"color: #008080; text-decoration-color: #008080; font-weight: bold\">20</span> of Set <span style=\"color: #008080; text-decoration-color: #008080; font-weight: bold\">3</span> | praia da vitoria\n",
       "</pre>\n"
      ],
      "text/plain": [
       "Processing Record \u001b[1;36m20\u001b[0m of Set \u001b[1;36m3\u001b[0m | praia da vitoria\n"
      ]
     },
     "metadata": {},
     "output_type": "display_data"
    },
    {
     "data": {
      "text/html": [
       "<pre style=\"white-space:pre;overflow-x:auto;line-height:normal;font-family:Menlo,'DejaVu Sans Mono',consolas,'Courier New',monospace\">Processing Record <span style=\"color: #008080; text-decoration-color: #008080; font-weight: bold\">21</span> of Set <span style=\"color: #008080; text-decoration-color: #008080; font-weight: bold\">3</span> | jamestown\n",
       "</pre>\n"
      ],
      "text/plain": [
       "Processing Record \u001b[1;36m21\u001b[0m of Set \u001b[1;36m3\u001b[0m | jamestown\n"
      ]
     },
     "metadata": {},
     "output_type": "display_data"
    },
    {
     "data": {
      "text/html": [
       "<pre style=\"white-space:pre;overflow-x:auto;line-height:normal;font-family:Menlo,'DejaVu Sans Mono',consolas,'Courier New',monospace\">Processing Record <span style=\"color: #008080; text-decoration-color: #008080; font-weight: bold\">22</span> of Set <span style=\"color: #008080; text-decoration-color: #008080; font-weight: bold\">3</span> | thompson\n",
       "</pre>\n"
      ],
      "text/plain": [
       "Processing Record \u001b[1;36m22\u001b[0m of Set \u001b[1;36m3\u001b[0m | thompson\n"
      ]
     },
     "metadata": {},
     "output_type": "display_data"
    },
    {
     "data": {
      "text/html": [
       "<pre style=\"white-space:pre;overflow-x:auto;line-height:normal;font-family:Menlo,'DejaVu Sans Mono',consolas,'Courier New',monospace\">Processing Record <span style=\"color: #008080; text-decoration-color: #008080; font-weight: bold\">23</span> of Set <span style=\"color: #008080; text-decoration-color: #008080; font-weight: bold\">3</span> | kapuskasing\n",
       "</pre>\n"
      ],
      "text/plain": [
       "Processing Record \u001b[1;36m23\u001b[0m of Set \u001b[1;36m3\u001b[0m | kapuskasing\n"
      ]
     },
     "metadata": {},
     "output_type": "display_data"
    },
    {
     "data": {
      "text/html": [
       "<pre style=\"white-space:pre;overflow-x:auto;line-height:normal;font-family:Menlo,'DejaVu Sans Mono',consolas,'Courier New',monospace\">Processing Record <span style=\"color: #008080; text-decoration-color: #008080; font-weight: bold\">24</span> of Set <span style=\"color: #008080; text-decoration-color: #008080; font-weight: bold\">3</span> | ormara\n",
       "</pre>\n"
      ],
      "text/plain": [
       "Processing Record \u001b[1;36m24\u001b[0m of Set \u001b[1;36m3\u001b[0m | ormara\n"
      ]
     },
     "metadata": {},
     "output_type": "display_data"
    },
    {
     "data": {
      "text/html": [
       "<pre style=\"white-space:pre;overflow-x:auto;line-height:normal;font-family:Menlo,'DejaVu Sans Mono',consolas,'Courier New',monospace\">Processing Record <span style=\"color: #008080; text-decoration-color: #008080; font-weight: bold\">25</span> of Set <span style=\"color: #008080; text-decoration-color: #008080; font-weight: bold\">3</span> | sines\n",
       "</pre>\n"
      ],
      "text/plain": [
       "Processing Record \u001b[1;36m25\u001b[0m of Set \u001b[1;36m3\u001b[0m | sines\n"
      ]
     },
     "metadata": {},
     "output_type": "display_data"
    },
    {
     "data": {
      "text/html": [
       "<pre style=\"white-space:pre;overflow-x:auto;line-height:normal;font-family:Menlo,'DejaVu Sans Mono',consolas,'Courier New',monospace\">Processing Record <span style=\"color: #008080; text-decoration-color: #008080; font-weight: bold\">26</span> of Set <span style=\"color: #008080; text-decoration-color: #008080; font-weight: bold\">3</span> | queenstown\n",
       "</pre>\n"
      ],
      "text/plain": [
       "Processing Record \u001b[1;36m26\u001b[0m of Set \u001b[1;36m3\u001b[0m | queenstown\n"
      ]
     },
     "metadata": {},
     "output_type": "display_data"
    },
    {
     "data": {
      "text/html": [
       "<pre style=\"white-space:pre;overflow-x:auto;line-height:normal;font-family:Menlo,'DejaVu Sans Mono',consolas,'Courier New',monospace\">Processing Record <span style=\"color: #008080; text-decoration-color: #008080; font-weight: bold\">27</span> of Set <span style=\"color: #008080; text-decoration-color: #008080; font-weight: bold\">3</span> | yeppoon city centre\n",
       "</pre>\n"
      ],
      "text/plain": [
       "Processing Record \u001b[1;36m27\u001b[0m of Set \u001b[1;36m3\u001b[0m | yeppoon city centre\n"
      ]
     },
     "metadata": {},
     "output_type": "display_data"
    },
    {
     "data": {
      "text/html": [
       "<pre style=\"white-space:pre;overflow-x:auto;line-height:normal;font-family:Menlo,'DejaVu Sans Mono',consolas,'Courier New',monospace\">City not found. Skipping<span style=\"color: #808000; text-decoration-color: #808000\">...</span>\n",
       "</pre>\n"
      ],
      "text/plain": [
       "City not found. Skipping\u001b[33m...\u001b[0m\n"
      ]
     },
     "metadata": {},
     "output_type": "display_data"
    },
    {
     "data": {
      "text/html": [
       "<pre style=\"white-space:pre;overflow-x:auto;line-height:normal;font-family:Menlo,'DejaVu Sans Mono',consolas,'Courier New',monospace\">Processing Record <span style=\"color: #008080; text-decoration-color: #008080; font-weight: bold\">28</span> of Set <span style=\"color: #008080; text-decoration-color: #008080; font-weight: bold\">3</span> | yeppoon\n",
       "</pre>\n"
      ],
      "text/plain": [
       "Processing Record \u001b[1;36m28\u001b[0m of Set \u001b[1;36m3\u001b[0m | yeppoon\n"
      ]
     },
     "metadata": {},
     "output_type": "display_data"
    },
    {
     "data": {
      "text/html": [
       "<pre style=\"white-space:pre;overflow-x:auto;line-height:normal;font-family:Menlo,'DejaVu Sans Mono',consolas,'Courier New',monospace\">Processing Record <span style=\"color: #008080; text-decoration-color: #008080; font-weight: bold\">29</span> of Set <span style=\"color: #008080; text-decoration-color: #008080; font-weight: bold\">3</span> | stanley\n",
       "</pre>\n"
      ],
      "text/plain": [
       "Processing Record \u001b[1;36m29\u001b[0m of Set \u001b[1;36m3\u001b[0m | stanley\n"
      ]
     },
     "metadata": {},
     "output_type": "display_data"
    },
    {
     "data": {
      "text/html": [
       "<pre style=\"white-space:pre;overflow-x:auto;line-height:normal;font-family:Menlo,'DejaVu Sans Mono',consolas,'Courier New',monospace\">Processing Record <span style=\"color: #008080; text-decoration-color: #008080; font-weight: bold\">30</span> of Set <span style=\"color: #008080; text-decoration-color: #008080; font-weight: bold\">3</span> | lae\n",
       "</pre>\n"
      ],
      "text/plain": [
       "Processing Record \u001b[1;36m30\u001b[0m of Set \u001b[1;36m3\u001b[0m | lae\n"
      ]
     },
     "metadata": {},
     "output_type": "display_data"
    },
    {
     "data": {
      "text/html": [
       "<pre style=\"white-space:pre;overflow-x:auto;line-height:normal;font-family:Menlo,'DejaVu Sans Mono',consolas,'Courier New',monospace\">Processing Record <span style=\"color: #008080; text-decoration-color: #008080; font-weight: bold\">31</span> of Set <span style=\"color: #008080; text-decoration-color: #008080; font-weight: bold\">3</span> | dalandzadgad\n",
       "</pre>\n"
      ],
      "text/plain": [
       "Processing Record \u001b[1;36m31\u001b[0m of Set \u001b[1;36m3\u001b[0m | dalandzadgad\n"
      ]
     },
     "metadata": {},
     "output_type": "display_data"
    },
    {
     "data": {
      "text/html": [
       "<pre style=\"white-space:pre;overflow-x:auto;line-height:normal;font-family:Menlo,'DejaVu Sans Mono',consolas,'Courier New',monospace\">Processing Record <span style=\"color: #008080; text-decoration-color: #008080; font-weight: bold\">32</span> of Set <span style=\"color: #008080; text-decoration-color: #008080; font-weight: bold\">3</span> | punta arenas\n",
       "</pre>\n"
      ],
      "text/plain": [
       "Processing Record \u001b[1;36m32\u001b[0m of Set \u001b[1;36m3\u001b[0m | punta arenas\n"
      ]
     },
     "metadata": {},
     "output_type": "display_data"
    },
    {
     "data": {
      "text/html": [
       "<pre style=\"white-space:pre;overflow-x:auto;line-height:normal;font-family:Menlo,'DejaVu Sans Mono',consolas,'Courier New',monospace\">Processing Record <span style=\"color: #008080; text-decoration-color: #008080; font-weight: bold\">33</span> of Set <span style=\"color: #008080; text-decoration-color: #008080; font-weight: bold\">3</span> | cidreira\n",
       "</pre>\n"
      ],
      "text/plain": [
       "Processing Record \u001b[1;36m33\u001b[0m of Set \u001b[1;36m3\u001b[0m | cidreira\n"
      ]
     },
     "metadata": {},
     "output_type": "display_data"
    },
    {
     "data": {
      "text/html": [
       "<pre style=\"white-space:pre;overflow-x:auto;line-height:normal;font-family:Menlo,'DejaVu Sans Mono',consolas,'Courier New',monospace\">Processing Record <span style=\"color: #008080; text-decoration-color: #008080; font-weight: bold\">34</span> of Set <span style=\"color: #008080; text-decoration-color: #008080; font-weight: bold\">3</span> | santa rosa del sara\n",
       "</pre>\n"
      ],
      "text/plain": [
       "Processing Record \u001b[1;36m34\u001b[0m of Set \u001b[1;36m3\u001b[0m | santa rosa del sara\n"
      ]
     },
     "metadata": {},
     "output_type": "display_data"
    },
    {
     "data": {
      "text/html": [
       "<pre style=\"white-space:pre;overflow-x:auto;line-height:normal;font-family:Menlo,'DejaVu Sans Mono',consolas,'Courier New',monospace\">Processing Record <span style=\"color: #008080; text-decoration-color: #008080; font-weight: bold\">35</span> of Set <span style=\"color: #008080; text-decoration-color: #008080; font-weight: bold\">3</span> | enniskillen\n",
       "</pre>\n"
      ],
      "text/plain": [
       "Processing Record \u001b[1;36m35\u001b[0m of Set \u001b[1;36m3\u001b[0m | enniskillen\n"
      ]
     },
     "metadata": {},
     "output_type": "display_data"
    },
    {
     "data": {
      "text/html": [
       "<pre style=\"white-space:pre;overflow-x:auto;line-height:normal;font-family:Menlo,'DejaVu Sans Mono',consolas,'Courier New',monospace\">Processing Record <span style=\"color: #008080; text-decoration-color: #008080; font-weight: bold\">36</span> of Set <span style=\"color: #008080; text-decoration-color: #008080; font-weight: bold\">3</span> | kolwezi\n",
       "</pre>\n"
      ],
      "text/plain": [
       "Processing Record \u001b[1;36m36\u001b[0m of Set \u001b[1;36m3\u001b[0m | kolwezi\n"
      ]
     },
     "metadata": {},
     "output_type": "display_data"
    },
    {
     "data": {
      "text/html": [
       "<pre style=\"white-space:pre;overflow-x:auto;line-height:normal;font-family:Menlo,'DejaVu Sans Mono',consolas,'Courier New',monospace\">Processing Record <span style=\"color: #008080; text-decoration-color: #008080; font-weight: bold\">37</span> of Set <span style=\"color: #008080; text-decoration-color: #008080; font-weight: bold\">3</span> | roxas\n",
       "</pre>\n"
      ],
      "text/plain": [
       "Processing Record \u001b[1;36m37\u001b[0m of Set \u001b[1;36m3\u001b[0m | roxas\n"
      ]
     },
     "metadata": {},
     "output_type": "display_data"
    },
    {
     "data": {
      "text/html": [
       "<pre style=\"white-space:pre;overflow-x:auto;line-height:normal;font-family:Menlo,'DejaVu Sans Mono',consolas,'Courier New',monospace\">Processing Record <span style=\"color: #008080; text-decoration-color: #008080; font-weight: bold\">38</span> of Set <span style=\"color: #008080; text-decoration-color: #008080; font-weight: bold\">3</span> | keflavik\n",
       "</pre>\n"
      ],
      "text/plain": [
       "Processing Record \u001b[1;36m38\u001b[0m of Set \u001b[1;36m3\u001b[0m | keflavik\n"
      ]
     },
     "metadata": {},
     "output_type": "display_data"
    },
    {
     "data": {
      "text/html": [
       "<pre style=\"white-space:pre;overflow-x:auto;line-height:normal;font-family:Menlo,'DejaVu Sans Mono',consolas,'Courier New',monospace\">Processing Record <span style=\"color: #008080; text-decoration-color: #008080; font-weight: bold\">39</span> of Set <span style=\"color: #008080; text-decoration-color: #008080; font-weight: bold\">3</span> | raja\n",
       "</pre>\n"
      ],
      "text/plain": [
       "Processing Record \u001b[1;36m39\u001b[0m of Set \u001b[1;36m3\u001b[0m | raja\n"
      ]
     },
     "metadata": {},
     "output_type": "display_data"
    },
    {
     "data": {
      "text/html": [
       "<pre style=\"white-space:pre;overflow-x:auto;line-height:normal;font-family:Menlo,'DejaVu Sans Mono',consolas,'Courier New',monospace\">Processing Record <span style=\"color: #008080; text-decoration-color: #008080; font-weight: bold\">40</span> of Set <span style=\"color: #008080; text-decoration-color: #008080; font-weight: bold\">3</span> | san jose village\n",
       "</pre>\n"
      ],
      "text/plain": [
       "Processing Record \u001b[1;36m40\u001b[0m of Set \u001b[1;36m3\u001b[0m | san jose village\n"
      ]
     },
     "metadata": {},
     "output_type": "display_data"
    },
    {
     "data": {
      "text/html": [
       "<pre style=\"white-space:pre;overflow-x:auto;line-height:normal;font-family:Menlo,'DejaVu Sans Mono',consolas,'Courier New',monospace\">City not found. Skipping<span style=\"color: #808000; text-decoration-color: #808000\">...</span>\n",
       "</pre>\n"
      ],
      "text/plain": [
       "City not found. Skipping\u001b[33m...\u001b[0m\n"
      ]
     },
     "metadata": {},
     "output_type": "display_data"
    },
    {
     "data": {
      "text/html": [
       "<pre style=\"white-space:pre;overflow-x:auto;line-height:normal;font-family:Menlo,'DejaVu Sans Mono',consolas,'Courier New',monospace\">Processing Record <span style=\"color: #008080; text-decoration-color: #008080; font-weight: bold\">41</span> of Set <span style=\"color: #008080; text-decoration-color: #008080; font-weight: bold\">3</span> | bechar\n",
       "</pre>\n"
      ],
      "text/plain": [
       "Processing Record \u001b[1;36m41\u001b[0m of Set \u001b[1;36m3\u001b[0m | bechar\n"
      ]
     },
     "metadata": {},
     "output_type": "display_data"
    },
    {
     "data": {
      "text/html": [
       "<pre style=\"white-space:pre;overflow-x:auto;line-height:normal;font-family:Menlo,'DejaVu Sans Mono',consolas,'Courier New',monospace\">Processing Record <span style=\"color: #008080; text-decoration-color: #008080; font-weight: bold\">42</span> of Set <span style=\"color: #008080; text-decoration-color: #008080; font-weight: bold\">3</span> | inarajan village\n",
       "</pre>\n"
      ],
      "text/plain": [
       "Processing Record \u001b[1;36m42\u001b[0m of Set \u001b[1;36m3\u001b[0m | inarajan village\n"
      ]
     },
     "metadata": {},
     "output_type": "display_data"
    },
    {
     "data": {
      "text/html": [
       "<pre style=\"white-space:pre;overflow-x:auto;line-height:normal;font-family:Menlo,'DejaVu Sans Mono',consolas,'Courier New',monospace\">Processing Record <span style=\"color: #008080; text-decoration-color: #008080; font-weight: bold\">43</span> of Set <span style=\"color: #008080; text-decoration-color: #008080; font-weight: bold\">3</span> | kapa'a\n",
       "</pre>\n"
      ],
      "text/plain": [
       "Processing Record \u001b[1;36m43\u001b[0m of Set \u001b[1;36m3\u001b[0m | kapa'a\n"
      ]
     },
     "metadata": {},
     "output_type": "display_data"
    },
    {
     "data": {
      "text/html": [
       "<pre style=\"white-space:pre;overflow-x:auto;line-height:normal;font-family:Menlo,'DejaVu Sans Mono',consolas,'Courier New',monospace\">Processing Record <span style=\"color: #008080; text-decoration-color: #008080; font-weight: bold\">44</span> of Set <span style=\"color: #008080; text-decoration-color: #008080; font-weight: bold\">3</span> | at taj\n",
       "</pre>\n"
      ],
      "text/plain": [
       "Processing Record \u001b[1;36m44\u001b[0m of Set \u001b[1;36m3\u001b[0m | at taj\n"
      ]
     },
     "metadata": {},
     "output_type": "display_data"
    },
    {
     "data": {
      "text/html": [
       "<pre style=\"white-space:pre;overflow-x:auto;line-height:normal;font-family:Menlo,'DejaVu Sans Mono',consolas,'Courier New',monospace\">Processing Record <span style=\"color: #008080; text-decoration-color: #008080; font-weight: bold\">45</span> of Set <span style=\"color: #008080; text-decoration-color: #008080; font-weight: bold\">3</span> | taiohae\n",
       "</pre>\n"
      ],
      "text/plain": [
       "Processing Record \u001b[1;36m45\u001b[0m of Set \u001b[1;36m3\u001b[0m | taiohae\n"
      ]
     },
     "metadata": {},
     "output_type": "display_data"
    },
    {
     "data": {
      "text/html": [
       "<pre style=\"white-space:pre;overflow-x:auto;line-height:normal;font-family:Menlo,'DejaVu Sans Mono',consolas,'Courier New',monospace\">City not found. Skipping<span style=\"color: #808000; text-decoration-color: #808000\">...</span>\n",
       "</pre>\n"
      ],
      "text/plain": [
       "City not found. Skipping\u001b[33m...\u001b[0m\n"
      ]
     },
     "metadata": {},
     "output_type": "display_data"
    },
    {
     "data": {
      "text/html": [
       "<pre style=\"white-space:pre;overflow-x:auto;line-height:normal;font-family:Menlo,'DejaVu Sans Mono',consolas,'Courier New',monospace\">Processing Record <span style=\"color: #008080; text-decoration-color: #008080; font-weight: bold\">46</span> of Set <span style=\"color: #008080; text-decoration-color: #008080; font-weight: bold\">3</span> | takamaka\n",
       "</pre>\n"
      ],
      "text/plain": [
       "Processing Record \u001b[1;36m46\u001b[0m of Set \u001b[1;36m3\u001b[0m | takamaka\n"
      ]
     },
     "metadata": {},
     "output_type": "display_data"
    },
    {
     "data": {
      "text/html": [
       "<pre style=\"white-space:pre;overflow-x:auto;line-height:normal;font-family:Menlo,'DejaVu Sans Mono',consolas,'Courier New',monospace\">City not found. Skipping<span style=\"color: #808000; text-decoration-color: #808000\">...</span>\n",
       "</pre>\n"
      ],
      "text/plain": [
       "City not found. Skipping\u001b[33m...\u001b[0m\n"
      ]
     },
     "metadata": {},
     "output_type": "display_data"
    },
    {
     "data": {
      "text/html": [
       "<pre style=\"white-space:pre;overflow-x:auto;line-height:normal;font-family:Menlo,'DejaVu Sans Mono',consolas,'Courier New',monospace\">Processing Record <span style=\"color: #008080; text-decoration-color: #008080; font-weight: bold\">47</span> of Set <span style=\"color: #008080; text-decoration-color: #008080; font-weight: bold\">3</span> | sodankyla\n",
       "</pre>\n"
      ],
      "text/plain": [
       "Processing Record \u001b[1;36m47\u001b[0m of Set \u001b[1;36m3\u001b[0m | sodankyla\n"
      ]
     },
     "metadata": {},
     "output_type": "display_data"
    },
    {
     "data": {
      "text/html": [
       "<pre style=\"white-space:pre;overflow-x:auto;line-height:normal;font-family:Menlo,'DejaVu Sans Mono',consolas,'Courier New',monospace\">Processing Record <span style=\"color: #008080; text-decoration-color: #008080; font-weight: bold\">48</span> of Set <span style=\"color: #008080; text-decoration-color: #008080; font-weight: bold\">3</span> | happy valley-goose bay\n",
       "</pre>\n"
      ],
      "text/plain": [
       "Processing Record \u001b[1;36m48\u001b[0m of Set \u001b[1;36m3\u001b[0m | happy valley-goose bay\n"
      ]
     },
     "metadata": {},
     "output_type": "display_data"
    },
    {
     "data": {
      "text/html": [
       "<pre style=\"white-space:pre;overflow-x:auto;line-height:normal;font-family:Menlo,'DejaVu Sans Mono',consolas,'Courier New',monospace\">Processing Record <span style=\"color: #008080; text-decoration-color: #008080; font-weight: bold\">49</span> of Set <span style=\"color: #008080; text-decoration-color: #008080; font-weight: bold\">3</span> | hithadhoo\n",
       "</pre>\n"
      ],
      "text/plain": [
       "Processing Record \u001b[1;36m49\u001b[0m of Set \u001b[1;36m3\u001b[0m | hithadhoo\n"
      ]
     },
     "metadata": {},
     "output_type": "display_data"
    },
    {
     "data": {
      "text/html": [
       "<pre style=\"white-space:pre;overflow-x:auto;line-height:normal;font-family:Menlo,'DejaVu Sans Mono',consolas,'Courier New',monospace\">Processing Record <span style=\"color: #008080; text-decoration-color: #008080; font-weight: bold\">0</span> of Set <span style=\"color: #008080; text-decoration-color: #008080; font-weight: bold\">4</span> | aasiaat\n",
       "</pre>\n"
      ],
      "text/plain": [
       "Processing Record \u001b[1;36m0\u001b[0m of Set \u001b[1;36m4\u001b[0m | aasiaat\n"
      ]
     },
     "metadata": {},
     "output_type": "display_data"
    },
    {
     "data": {
      "text/html": [
       "<pre style=\"white-space:pre;overflow-x:auto;line-height:normal;font-family:Menlo,'DejaVu Sans Mono',consolas,'Courier New',monospace\">Processing Record <span style=\"color: #008080; text-decoration-color: #008080; font-weight: bold\">1</span> of Set <span style=\"color: #008080; text-decoration-color: #008080; font-weight: bold\">4</span> | ta`u\n",
       "</pre>\n"
      ],
      "text/plain": [
       "Processing Record \u001b[1;36m1\u001b[0m of Set \u001b[1;36m4\u001b[0m | ta`u\n"
      ]
     },
     "metadata": {},
     "output_type": "display_data"
    },
    {
     "data": {
      "text/html": [
       "<pre style=\"white-space:pre;overflow-x:auto;line-height:normal;font-family:Menlo,'DejaVu Sans Mono',consolas,'Courier New',monospace\">Processing Record <span style=\"color: #008080; text-decoration-color: #008080; font-weight: bold\">2</span> of Set <span style=\"color: #008080; text-decoration-color: #008080; font-weight: bold\">4</span> | iskateley\n",
       "</pre>\n"
      ],
      "text/plain": [
       "Processing Record \u001b[1;36m2\u001b[0m of Set \u001b[1;36m4\u001b[0m | iskateley\n"
      ]
     },
     "metadata": {},
     "output_type": "display_data"
    },
    {
     "data": {
      "text/html": [
       "<pre style=\"white-space:pre;overflow-x:auto;line-height:normal;font-family:Menlo,'DejaVu Sans Mono',consolas,'Courier New',monospace\">Processing Record <span style=\"color: #008080; text-decoration-color: #008080; font-weight: bold\">3</span> of Set <span style=\"color: #008080; text-decoration-color: #008080; font-weight: bold\">4</span> | georgetown\n",
       "</pre>\n"
      ],
      "text/plain": [
       "Processing Record \u001b[1;36m3\u001b[0m of Set \u001b[1;36m4\u001b[0m | georgetown\n"
      ]
     },
     "metadata": {},
     "output_type": "display_data"
    },
    {
     "data": {
      "text/html": [
       "<pre style=\"white-space:pre;overflow-x:auto;line-height:normal;font-family:Menlo,'DejaVu Sans Mono',consolas,'Courier New',monospace\">Processing Record <span style=\"color: #008080; text-decoration-color: #008080; font-weight: bold\">4</span> of Set <span style=\"color: #008080; text-decoration-color: #008080; font-weight: bold\">4</span> | chonchi\n",
       "</pre>\n"
      ],
      "text/plain": [
       "Processing Record \u001b[1;36m4\u001b[0m of Set \u001b[1;36m4\u001b[0m | chonchi\n"
      ]
     },
     "metadata": {},
     "output_type": "display_data"
    },
    {
     "data": {
      "text/html": [
       "<pre style=\"white-space:pre;overflow-x:auto;line-height:normal;font-family:Menlo,'DejaVu Sans Mono',consolas,'Courier New',monospace\">Processing Record <span style=\"color: #008080; text-decoration-color: #008080; font-weight: bold\">5</span> of Set <span style=\"color: #008080; text-decoration-color: #008080; font-weight: bold\">4</span> | pisco\n",
       "</pre>\n"
      ],
      "text/plain": [
       "Processing Record \u001b[1;36m5\u001b[0m of Set \u001b[1;36m4\u001b[0m | pisco\n"
      ]
     },
     "metadata": {},
     "output_type": "display_data"
    },
    {
     "data": {
      "text/html": [
       "<pre style=\"white-space:pre;overflow-x:auto;line-height:normal;font-family:Menlo,'DejaVu Sans Mono',consolas,'Courier New',monospace\">Processing Record <span style=\"color: #008080; text-decoration-color: #008080; font-weight: bold\">6</span> of Set <span style=\"color: #008080; text-decoration-color: #008080; font-weight: bold\">4</span> | tamandare\n",
       "</pre>\n"
      ],
      "text/plain": [
       "Processing Record \u001b[1;36m6\u001b[0m of Set \u001b[1;36m4\u001b[0m | tamandare\n"
      ]
     },
     "metadata": {},
     "output_type": "display_data"
    },
    {
     "data": {
      "text/html": [
       "<pre style=\"white-space:pre;overflow-x:auto;line-height:normal;font-family:Menlo,'DejaVu Sans Mono',consolas,'Courier New',monospace\">Processing Record <span style=\"color: #008080; text-decoration-color: #008080; font-weight: bold\">7</span> of Set <span style=\"color: #008080; text-decoration-color: #008080; font-weight: bold\">4</span> | whitehorse\n",
       "</pre>\n"
      ],
      "text/plain": [
       "Processing Record \u001b[1;36m7\u001b[0m of Set \u001b[1;36m4\u001b[0m | whitehorse\n"
      ]
     },
     "metadata": {},
     "output_type": "display_data"
    },
    {
     "data": {
      "text/html": [
       "<pre style=\"white-space:pre;overflow-x:auto;line-height:normal;font-family:Menlo,'DejaVu Sans Mono',consolas,'Courier New',monospace\">Processing Record <span style=\"color: #008080; text-decoration-color: #008080; font-weight: bold\">8</span> of Set <span style=\"color: #008080; text-decoration-color: #008080; font-weight: bold\">4</span> | heilbad heiligenstadt\n",
       "</pre>\n"
      ],
      "text/plain": [
       "Processing Record \u001b[1;36m8\u001b[0m of Set \u001b[1;36m4\u001b[0m | heilbad heiligenstadt\n"
      ]
     },
     "metadata": {},
     "output_type": "display_data"
    },
    {
     "data": {
      "text/html": [
       "<pre style=\"white-space:pre;overflow-x:auto;line-height:normal;font-family:Menlo,'DejaVu Sans Mono',consolas,'Courier New',monospace\">Processing Record <span style=\"color: #008080; text-decoration-color: #008080; font-weight: bold\">9</span> of Set <span style=\"color: #008080; text-decoration-color: #008080; font-weight: bold\">4</span> | toliara\n",
       "</pre>\n"
      ],
      "text/plain": [
       "Processing Record \u001b[1;36m9\u001b[0m of Set \u001b[1;36m4\u001b[0m | toliara\n"
      ]
     },
     "metadata": {},
     "output_type": "display_data"
    },
    {
     "data": {
      "text/html": [
       "<pre style=\"white-space:pre;overflow-x:auto;line-height:normal;font-family:Menlo,'DejaVu Sans Mono',consolas,'Courier New',monospace\">Processing Record <span style=\"color: #008080; text-decoration-color: #008080; font-weight: bold\">10</span> of Set <span style=\"color: #008080; text-decoration-color: #008080; font-weight: bold\">4</span> | cabo san lucas\n",
       "</pre>\n"
      ],
      "text/plain": [
       "Processing Record \u001b[1;36m10\u001b[0m of Set \u001b[1;36m4\u001b[0m | cabo san lucas\n"
      ]
     },
     "metadata": {},
     "output_type": "display_data"
    },
    {
     "data": {
      "text/html": [
       "<pre style=\"white-space:pre;overflow-x:auto;line-height:normal;font-family:Menlo,'DejaVu Sans Mono',consolas,'Courier New',monospace\">Processing Record <span style=\"color: #008080; text-decoration-color: #008080; font-weight: bold\">11</span> of Set <span style=\"color: #008080; text-decoration-color: #008080; font-weight: bold\">4</span> | gulu\n",
       "</pre>\n"
      ],
      "text/plain": [
       "Processing Record \u001b[1;36m11\u001b[0m of Set \u001b[1;36m4\u001b[0m | gulu\n"
      ]
     },
     "metadata": {},
     "output_type": "display_data"
    },
    {
     "data": {
      "text/html": [
       "<pre style=\"white-space:pre;overflow-x:auto;line-height:normal;font-family:Menlo,'DejaVu Sans Mono',consolas,'Courier New',monospace\">Processing Record <span style=\"color: #008080; text-decoration-color: #008080; font-weight: bold\">12</span> of Set <span style=\"color: #008080; text-decoration-color: #008080; font-weight: bold\">4</span> | sanga-sanga\n",
       "</pre>\n"
      ],
      "text/plain": [
       "Processing Record \u001b[1;36m12\u001b[0m of Set \u001b[1;36m4\u001b[0m | sanga-sanga\n"
      ]
     },
     "metadata": {},
     "output_type": "display_data"
    },
    {
     "data": {
      "text/html": [
       "<pre style=\"white-space:pre;overflow-x:auto;line-height:normal;font-family:Menlo,'DejaVu Sans Mono',consolas,'Courier New',monospace\">Processing Record <span style=\"color: #008080; text-decoration-color: #008080; font-weight: bold\">13</span> of Set <span style=\"color: #008080; text-decoration-color: #008080; font-weight: bold\">4</span> | vorgashor\n",
       "</pre>\n"
      ],
      "text/plain": [
       "Processing Record \u001b[1;36m13\u001b[0m of Set \u001b[1;36m4\u001b[0m | vorgashor\n"
      ]
     },
     "metadata": {},
     "output_type": "display_data"
    },
    {
     "data": {
      "text/html": [
       "<pre style=\"white-space:pre;overflow-x:auto;line-height:normal;font-family:Menlo,'DejaVu Sans Mono',consolas,'Courier New',monospace\">Processing Record <span style=\"color: #008080; text-decoration-color: #008080; font-weight: bold\">14</span> of Set <span style=\"color: #008080; text-decoration-color: #008080; font-weight: bold\">4</span> | mollendo\n",
       "</pre>\n"
      ],
      "text/plain": [
       "Processing Record \u001b[1;36m14\u001b[0m of Set \u001b[1;36m4\u001b[0m | mollendo\n"
      ]
     },
     "metadata": {},
     "output_type": "display_data"
    },
    {
     "data": {
      "text/html": [
       "<pre style=\"white-space:pre;overflow-x:auto;line-height:normal;font-family:Menlo,'DejaVu Sans Mono',consolas,'Courier New',monospace\">Processing Record <span style=\"color: #008080; text-decoration-color: #008080; font-weight: bold\">15</span> of Set <span style=\"color: #008080; text-decoration-color: #008080; font-weight: bold\">4</span> | new plymouth\n",
       "</pre>\n"
      ],
      "text/plain": [
       "Processing Record \u001b[1;36m15\u001b[0m of Set \u001b[1;36m4\u001b[0m | new plymouth\n"
      ]
     },
     "metadata": {},
     "output_type": "display_data"
    },
    {
     "data": {
      "text/html": [
       "<pre style=\"white-space:pre;overflow-x:auto;line-height:normal;font-family:Menlo,'DejaVu Sans Mono',consolas,'Courier New',monospace\">Processing Record <span style=\"color: #008080; text-decoration-color: #008080; font-weight: bold\">16</span> of Set <span style=\"color: #008080; text-decoration-color: #008080; font-weight: bold\">4</span> | matai\n",
       "</pre>\n"
      ],
      "text/plain": [
       "Processing Record \u001b[1;36m16\u001b[0m of Set \u001b[1;36m4\u001b[0m | matai\n"
      ]
     },
     "metadata": {},
     "output_type": "display_data"
    },
    {
     "data": {
      "text/html": [
       "<pre style=\"white-space:pre;overflow-x:auto;line-height:normal;font-family:Menlo,'DejaVu Sans Mono',consolas,'Courier New',monospace\">Processing Record <span style=\"color: #008080; text-decoration-color: #008080; font-weight: bold\">17</span> of Set <span style=\"color: #008080; text-decoration-color: #008080; font-weight: bold\">4</span> | yulinshi\n",
       "</pre>\n"
      ],
      "text/plain": [
       "Processing Record \u001b[1;36m17\u001b[0m of Set \u001b[1;36m4\u001b[0m | yulinshi\n"
      ]
     },
     "metadata": {},
     "output_type": "display_data"
    },
    {
     "data": {
      "text/html": [
       "<pre style=\"white-space:pre;overflow-x:auto;line-height:normal;font-family:Menlo,'DejaVu Sans Mono',consolas,'Courier New',monospace\">Processing Record <span style=\"color: #008080; text-decoration-color: #008080; font-weight: bold\">18</span> of Set <span style=\"color: #008080; text-decoration-color: #008080; font-weight: bold\">4</span> | cadale\n",
       "</pre>\n"
      ],
      "text/plain": [
       "Processing Record \u001b[1;36m18\u001b[0m of Set \u001b[1;36m4\u001b[0m | cadale\n"
      ]
     },
     "metadata": {},
     "output_type": "display_data"
    },
    {
     "data": {
      "text/html": [
       "<pre style=\"white-space:pre;overflow-x:auto;line-height:normal;font-family:Menlo,'DejaVu Sans Mono',consolas,'Courier New',monospace\">Processing Record <span style=\"color: #008080; text-decoration-color: #008080; font-weight: bold\">19</span> of Set <span style=\"color: #008080; text-decoration-color: #008080; font-weight: bold\">4</span> | callao\n",
       "</pre>\n"
      ],
      "text/plain": [
       "Processing Record \u001b[1;36m19\u001b[0m of Set \u001b[1;36m4\u001b[0m | callao\n"
      ]
     },
     "metadata": {},
     "output_type": "display_data"
    },
    {
     "data": {
      "text/html": [
       "<pre style=\"white-space:pre;overflow-x:auto;line-height:normal;font-family:Menlo,'DejaVu Sans Mono',consolas,'Courier New',monospace\">Processing Record <span style=\"color: #008080; text-decoration-color: #008080; font-weight: bold\">20</span> of Set <span style=\"color: #008080; text-decoration-color: #008080; font-weight: bold\">4</span> | cabedelo\n",
       "</pre>\n"
      ],
      "text/plain": [
       "Processing Record \u001b[1;36m20\u001b[0m of Set \u001b[1;36m4\u001b[0m | cabedelo\n"
      ]
     },
     "metadata": {},
     "output_type": "display_data"
    },
    {
     "data": {
      "text/html": [
       "<pre style=\"white-space:pre;overflow-x:auto;line-height:normal;font-family:Menlo,'DejaVu Sans Mono',consolas,'Courier New',monospace\">Processing Record <span style=\"color: #008080; text-decoration-color: #008080; font-weight: bold\">21</span> of Set <span style=\"color: #008080; text-decoration-color: #008080; font-weight: bold\">4</span> | bani walid\n",
       "</pre>\n"
      ],
      "text/plain": [
       "Processing Record \u001b[1;36m21\u001b[0m of Set \u001b[1;36m4\u001b[0m | bani walid\n"
      ]
     },
     "metadata": {},
     "output_type": "display_data"
    },
    {
     "data": {
      "text/html": [
       "<pre style=\"white-space:pre;overflow-x:auto;line-height:normal;font-family:Menlo,'DejaVu Sans Mono',consolas,'Courier New',monospace\">Processing Record <span style=\"color: #008080; text-decoration-color: #008080; font-weight: bold\">22</span> of Set <span style=\"color: #008080; text-decoration-color: #008080; font-weight: bold\">4</span> | carloforte\n",
       "</pre>\n"
      ],
      "text/plain": [
       "Processing Record \u001b[1;36m22\u001b[0m of Set \u001b[1;36m4\u001b[0m | carloforte\n"
      ]
     },
     "metadata": {},
     "output_type": "display_data"
    },
    {
     "data": {
      "text/html": [
       "<pre style=\"white-space:pre;overflow-x:auto;line-height:normal;font-family:Menlo,'DejaVu Sans Mono',consolas,'Courier New',monospace\">Processing Record <span style=\"color: #008080; text-decoration-color: #008080; font-weight: bold\">23</span> of Set <span style=\"color: #008080; text-decoration-color: #008080; font-weight: bold\">4</span> | toga village\n",
       "</pre>\n"
      ],
      "text/plain": [
       "Processing Record \u001b[1;36m23\u001b[0m of Set \u001b[1;36m4\u001b[0m | toga village\n"
      ]
     },
     "metadata": {},
     "output_type": "display_data"
    },
    {
     "data": {
      "text/html": [
       "<pre style=\"white-space:pre;overflow-x:auto;line-height:normal;font-family:Menlo,'DejaVu Sans Mono',consolas,'Courier New',monospace\">City not found. Skipping<span style=\"color: #808000; text-decoration-color: #808000\">...</span>\n",
       "</pre>\n"
      ],
      "text/plain": [
       "City not found. Skipping\u001b[33m...\u001b[0m\n"
      ]
     },
     "metadata": {},
     "output_type": "display_data"
    },
    {
     "data": {
      "text/html": [
       "<pre style=\"white-space:pre;overflow-x:auto;line-height:normal;font-family:Menlo,'DejaVu Sans Mono',consolas,'Courier New',monospace\">Processing Record <span style=\"color: #008080; text-decoration-color: #008080; font-weight: bold\">24</span> of Set <span style=\"color: #008080; text-decoration-color: #008080; font-weight: bold\">4</span> | atafu village\n",
       "</pre>\n"
      ],
      "text/plain": [
       "Processing Record \u001b[1;36m24\u001b[0m of Set \u001b[1;36m4\u001b[0m | atafu village\n"
      ]
     },
     "metadata": {},
     "output_type": "display_data"
    },
    {
     "data": {
      "text/html": [
       "<pre style=\"white-space:pre;overflow-x:auto;line-height:normal;font-family:Menlo,'DejaVu Sans Mono',consolas,'Courier New',monospace\">Processing Record <span style=\"color: #008080; text-decoration-color: #008080; font-weight: bold\">25</span> of Set <span style=\"color: #008080; text-decoration-color: #008080; font-weight: bold\">4</span> | pokhara\n",
       "</pre>\n"
      ],
      "text/plain": [
       "Processing Record \u001b[1;36m25\u001b[0m of Set \u001b[1;36m4\u001b[0m | pokhara\n"
      ]
     },
     "metadata": {},
     "output_type": "display_data"
    },
    {
     "data": {
      "text/html": [
       "<pre style=\"white-space:pre;overflow-x:auto;line-height:normal;font-family:Menlo,'DejaVu Sans Mono',consolas,'Courier New',monospace\">Processing Record <span style=\"color: #008080; text-decoration-color: #008080; font-weight: bold\">26</span> of Set <span style=\"color: #008080; text-decoration-color: #008080; font-weight: bold\">4</span> | el kala\n",
       "</pre>\n"
      ],
      "text/plain": [
       "Processing Record \u001b[1;36m26\u001b[0m of Set \u001b[1;36m4\u001b[0m | el kala\n"
      ]
     },
     "metadata": {},
     "output_type": "display_data"
    },
    {
     "data": {
      "text/html": [
       "<pre style=\"white-space:pre;overflow-x:auto;line-height:normal;font-family:Menlo,'DejaVu Sans Mono',consolas,'Courier New',monospace\">Processing Record <span style=\"color: #008080; text-decoration-color: #008080; font-weight: bold\">27</span> of Set <span style=\"color: #008080; text-decoration-color: #008080; font-weight: bold\">4</span> | sao gabriel da cachoeira\n",
       "</pre>\n"
      ],
      "text/plain": [
       "Processing Record \u001b[1;36m27\u001b[0m of Set \u001b[1;36m4\u001b[0m | sao gabriel da cachoeira\n"
      ]
     },
     "metadata": {},
     "output_type": "display_data"
    },
    {
     "data": {
      "text/html": [
       "<pre style=\"white-space:pre;overflow-x:auto;line-height:normal;font-family:Menlo,'DejaVu Sans Mono',consolas,'Courier New',monospace\">Processing Record <span style=\"color: #008080; text-decoration-color: #008080; font-weight: bold\">28</span> of Set <span style=\"color: #008080; text-decoration-color: #008080; font-weight: bold\">4</span> | margate\n",
       "</pre>\n"
      ],
      "text/plain": [
       "Processing Record \u001b[1;36m28\u001b[0m of Set \u001b[1;36m4\u001b[0m | margate\n"
      ]
     },
     "metadata": {},
     "output_type": "display_data"
    },
    {
     "data": {
      "text/html": [
       "<pre style=\"white-space:pre;overflow-x:auto;line-height:normal;font-family:Menlo,'DejaVu Sans Mono',consolas,'Courier New',monospace\">Processing Record <span style=\"color: #008080; text-decoration-color: #008080; font-weight: bold\">29</span> of Set <span style=\"color: #008080; text-decoration-color: #008080; font-weight: bold\">4</span> | mabaruma\n",
       "</pre>\n"
      ],
      "text/plain": [
       "Processing Record \u001b[1;36m29\u001b[0m of Set \u001b[1;36m4\u001b[0m | mabaruma\n"
      ]
     },
     "metadata": {},
     "output_type": "display_data"
    },
    {
     "data": {
      "text/html": [
       "<pre style=\"white-space:pre;overflow-x:auto;line-height:normal;font-family:Menlo,'DejaVu Sans Mono',consolas,'Courier New',monospace\">Processing Record <span style=\"color: #008080; text-decoration-color: #008080; font-weight: bold\">30</span> of Set <span style=\"color: #008080; text-decoration-color: #008080; font-weight: bold\">4</span> | tucano\n",
       "</pre>\n"
      ],
      "text/plain": [
       "Processing Record \u001b[1;36m30\u001b[0m of Set \u001b[1;36m4\u001b[0m | tucano\n"
      ]
     },
     "metadata": {},
     "output_type": "display_data"
    },
    {
     "data": {
      "text/html": [
       "<pre style=\"white-space:pre;overflow-x:auto;line-height:normal;font-family:Menlo,'DejaVu Sans Mono',consolas,'Courier New',monospace\">Processing Record <span style=\"color: #008080; text-decoration-color: #008080; font-weight: bold\">31</span> of Set <span style=\"color: #008080; text-decoration-color: #008080; font-weight: bold\">4</span> | st. john's\n",
       "</pre>\n"
      ],
      "text/plain": [
       "Processing Record \u001b[1;36m31\u001b[0m of Set \u001b[1;36m4\u001b[0m | st. john's\n"
      ]
     },
     "metadata": {},
     "output_type": "display_data"
    },
    {
     "data": {
      "text/html": [
       "<pre style=\"white-space:pre;overflow-x:auto;line-height:normal;font-family:Menlo,'DejaVu Sans Mono',consolas,'Courier New',monospace\">Processing Record <span style=\"color: #008080; text-decoration-color: #008080; font-weight: bold\">32</span> of Set <span style=\"color: #008080; text-decoration-color: #008080; font-weight: bold\">4</span> | qarauyl\n",
       "</pre>\n"
      ],
      "text/plain": [
       "Processing Record \u001b[1;36m32\u001b[0m of Set \u001b[1;36m4\u001b[0m | qarauyl\n"
      ]
     },
     "metadata": {},
     "output_type": "display_data"
    },
    {
     "data": {
      "text/html": [
       "<pre style=\"white-space:pre;overflow-x:auto;line-height:normal;font-family:Menlo,'DejaVu Sans Mono',consolas,'Courier New',monospace\">Processing Record <span style=\"color: #008080; text-decoration-color: #008080; font-weight: bold\">33</span> of Set <span style=\"color: #008080; text-decoration-color: #008080; font-weight: bold\">4</span> | itamaraca\n",
       "</pre>\n"
      ],
      "text/plain": [
       "Processing Record \u001b[1;36m33\u001b[0m of Set \u001b[1;36m4\u001b[0m | itamaraca\n"
      ]
     },
     "metadata": {},
     "output_type": "display_data"
    },
    {
     "data": {
      "text/html": [
       "<pre style=\"white-space:pre;overflow-x:auto;line-height:normal;font-family:Menlo,'DejaVu Sans Mono',consolas,'Courier New',monospace\">Processing Record <span style=\"color: #008080; text-decoration-color: #008080; font-weight: bold\">34</span> of Set <span style=\"color: #008080; text-decoration-color: #008080; font-weight: bold\">4</span> | saksaul'skiy\n",
       "</pre>\n"
      ],
      "text/plain": [
       "Processing Record \u001b[1;36m34\u001b[0m of Set \u001b[1;36m4\u001b[0m | saksaul'skiy\n"
      ]
     },
     "metadata": {},
     "output_type": "display_data"
    },
    {
     "data": {
      "text/html": [
       "<pre style=\"white-space:pre;overflow-x:auto;line-height:normal;font-family:Menlo,'DejaVu Sans Mono',consolas,'Courier New',monospace\">City not found. Skipping<span style=\"color: #808000; text-decoration-color: #808000\">...</span>\n",
       "</pre>\n"
      ],
      "text/plain": [
       "City not found. Skipping\u001b[33m...\u001b[0m\n"
      ]
     },
     "metadata": {},
     "output_type": "display_data"
    },
    {
     "data": {
      "text/html": [
       "<pre style=\"white-space:pre;overflow-x:auto;line-height:normal;font-family:Menlo,'DejaVu Sans Mono',consolas,'Courier New',monospace\">Processing Record <span style=\"color: #008080; text-decoration-color: #008080; font-weight: bold\">35</span> of Set <span style=\"color: #008080; text-decoration-color: #008080; font-weight: bold\">4</span> | lorengau\n",
       "</pre>\n"
      ],
      "text/plain": [
       "Processing Record \u001b[1;36m35\u001b[0m of Set \u001b[1;36m4\u001b[0m | lorengau\n"
      ]
     },
     "metadata": {},
     "output_type": "display_data"
    },
    {
     "data": {
      "text/html": [
       "<pre style=\"white-space:pre;overflow-x:auto;line-height:normal;font-family:Menlo,'DejaVu Sans Mono',consolas,'Courier New',monospace\">Processing Record <span style=\"color: #008080; text-decoration-color: #008080; font-weight: bold\">36</span> of Set <span style=\"color: #008080; text-decoration-color: #008080; font-weight: bold\">4</span> | bilibino\n",
       "</pre>\n"
      ],
      "text/plain": [
       "Processing Record \u001b[1;36m36\u001b[0m of Set \u001b[1;36m4\u001b[0m | bilibino\n"
      ]
     },
     "metadata": {},
     "output_type": "display_data"
    },
    {
     "data": {
      "text/html": [
       "<pre style=\"white-space:pre;overflow-x:auto;line-height:normal;font-family:Menlo,'DejaVu Sans Mono',consolas,'Courier New',monospace\">Processing Record <span style=\"color: #008080; text-decoration-color: #008080; font-weight: bold\">37</span> of Set <span style=\"color: #008080; text-decoration-color: #008080; font-weight: bold\">4</span> | pemba\n",
       "</pre>\n"
      ],
      "text/plain": [
       "Processing Record \u001b[1;36m37\u001b[0m of Set \u001b[1;36m4\u001b[0m | pemba\n"
      ]
     },
     "metadata": {},
     "output_type": "display_data"
    },
    {
     "data": {
      "text/html": [
       "<pre style=\"white-space:pre;overflow-x:auto;line-height:normal;font-family:Menlo,'DejaVu Sans Mono',consolas,'Courier New',monospace\">Processing Record <span style=\"color: #008080; text-decoration-color: #008080; font-weight: bold\">38</span> of Set <span style=\"color: #008080; text-decoration-color: #008080; font-weight: bold\">4</span> | luebo\n",
       "</pre>\n"
      ],
      "text/plain": [
       "Processing Record \u001b[1;36m38\u001b[0m of Set \u001b[1;36m4\u001b[0m | luebo\n"
      ]
     },
     "metadata": {},
     "output_type": "display_data"
    },
    {
     "data": {
      "text/html": [
       "<pre style=\"white-space:pre;overflow-x:auto;line-height:normal;font-family:Menlo,'DejaVu Sans Mono',consolas,'Courier New',monospace\">Processing Record <span style=\"color: #008080; text-decoration-color: #008080; font-weight: bold\">39</span> of Set <span style=\"color: #008080; text-decoration-color: #008080; font-weight: bold\">4</span> | mount isa\n",
       "</pre>\n"
      ],
      "text/plain": [
       "Processing Record \u001b[1;36m39\u001b[0m of Set \u001b[1;36m4\u001b[0m | mount isa\n"
      ]
     },
     "metadata": {},
     "output_type": "display_data"
    },
    {
     "data": {
      "text/html": [
       "<pre style=\"white-space:pre;overflow-x:auto;line-height:normal;font-family:Menlo,'DejaVu Sans Mono',consolas,'Courier New',monospace\">Processing Record <span style=\"color: #008080; text-decoration-color: #008080; font-weight: bold\">40</span> of Set <span style=\"color: #008080; text-decoration-color: #008080; font-weight: bold\">4</span> | san blas\n",
       "</pre>\n"
      ],
      "text/plain": [
       "Processing Record \u001b[1;36m40\u001b[0m of Set \u001b[1;36m4\u001b[0m | san blas\n"
      ]
     },
     "metadata": {},
     "output_type": "display_data"
    },
    {
     "data": {
      "text/html": [
       "<pre style=\"white-space:pre;overflow-x:auto;line-height:normal;font-family:Menlo,'DejaVu Sans Mono',consolas,'Courier New',monospace\">Processing Record <span style=\"color: #008080; text-decoration-color: #008080; font-weight: bold\">41</span> of Set <span style=\"color: #008080; text-decoration-color: #008080; font-weight: bold\">4</span> | maiwut\n",
       "</pre>\n"
      ],
      "text/plain": [
       "Processing Record \u001b[1;36m41\u001b[0m of Set \u001b[1;36m4\u001b[0m | maiwut\n"
      ]
     },
     "metadata": {},
     "output_type": "display_data"
    },
    {
     "data": {
      "text/html": [
       "<pre style=\"white-space:pre;overflow-x:auto;line-height:normal;font-family:Menlo,'DejaVu Sans Mono',consolas,'Courier New',monospace\">City not found. Skipping<span style=\"color: #808000; text-decoration-color: #808000\">...</span>\n",
       "</pre>\n"
      ],
      "text/plain": [
       "City not found. Skipping\u001b[33m...\u001b[0m\n"
      ]
     },
     "metadata": {},
     "output_type": "display_data"
    },
    {
     "data": {
      "text/html": [
       "<pre style=\"white-space:pre;overflow-x:auto;line-height:normal;font-family:Menlo,'DejaVu Sans Mono',consolas,'Courier New',monospace\">Processing Record <span style=\"color: #008080; text-decoration-color: #008080; font-weight: bold\">42</span> of Set <span style=\"color: #008080; text-decoration-color: #008080; font-weight: bold\">4</span> | jungapeo de juarez\n",
       "</pre>\n"
      ],
      "text/plain": [
       "Processing Record \u001b[1;36m42\u001b[0m of Set \u001b[1;36m4\u001b[0m | jungapeo de juarez\n"
      ]
     },
     "metadata": {},
     "output_type": "display_data"
    },
    {
     "data": {
      "text/html": [
       "<pre style=\"white-space:pre;overflow-x:auto;line-height:normal;font-family:Menlo,'DejaVu Sans Mono',consolas,'Courier New',monospace\">Processing Record <span style=\"color: #008080; text-decoration-color: #008080; font-weight: bold\">43</span> of Set <span style=\"color: #008080; text-decoration-color: #008080; font-weight: bold\">4</span> | olonkinbyen\n",
       "</pre>\n"
      ],
      "text/plain": [
       "Processing Record \u001b[1;36m43\u001b[0m of Set \u001b[1;36m4\u001b[0m | olonkinbyen\n"
      ]
     },
     "metadata": {},
     "output_type": "display_data"
    },
    {
     "data": {
      "text/html": [
       "<pre style=\"white-space:pre;overflow-x:auto;line-height:normal;font-family:Menlo,'DejaVu Sans Mono',consolas,'Courier New',monospace\">Processing Record <span style=\"color: #008080; text-decoration-color: #008080; font-weight: bold\">44</span> of Set <span style=\"color: #008080; text-decoration-color: #008080; font-weight: bold\">4</span> | hamilton\n",
       "</pre>\n"
      ],
      "text/plain": [
       "Processing Record \u001b[1;36m44\u001b[0m of Set \u001b[1;36m4\u001b[0m | hamilton\n"
      ]
     },
     "metadata": {},
     "output_type": "display_data"
    },
    {
     "data": {
      "text/html": [
       "<pre style=\"white-space:pre;overflow-x:auto;line-height:normal;font-family:Menlo,'DejaVu Sans Mono',consolas,'Courier New',monospace\">Processing Record <span style=\"color: #008080; text-decoration-color: #008080; font-weight: bold\">45</span> of Set <span style=\"color: #008080; text-decoration-color: #008080; font-weight: bold\">4</span> | el granada\n",
       "</pre>\n"
      ],
      "text/plain": [
       "Processing Record \u001b[1;36m45\u001b[0m of Set \u001b[1;36m4\u001b[0m | el granada\n"
      ]
     },
     "metadata": {},
     "output_type": "display_data"
    },
    {
     "data": {
      "text/html": [
       "<pre style=\"white-space:pre;overflow-x:auto;line-height:normal;font-family:Menlo,'DejaVu Sans Mono',consolas,'Courier New',monospace\">Processing Record <span style=\"color: #008080; text-decoration-color: #008080; font-weight: bold\">46</span> of Set <span style=\"color: #008080; text-decoration-color: #008080; font-weight: bold\">4</span> | strathalbyn\n",
       "</pre>\n"
      ],
      "text/plain": [
       "Processing Record \u001b[1;36m46\u001b[0m of Set \u001b[1;36m4\u001b[0m | strathalbyn\n"
      ]
     },
     "metadata": {},
     "output_type": "display_data"
    },
    {
     "data": {
      "text/html": [
       "<pre style=\"white-space:pre;overflow-x:auto;line-height:normal;font-family:Menlo,'DejaVu Sans Mono',consolas,'Courier New',monospace\">Processing Record <span style=\"color: #008080; text-decoration-color: #008080; font-weight: bold\">47</span> of Set <span style=\"color: #008080; text-decoration-color: #008080; font-weight: bold\">4</span> | nueva gerona\n",
       "</pre>\n"
      ],
      "text/plain": [
       "Processing Record \u001b[1;36m47\u001b[0m of Set \u001b[1;36m4\u001b[0m | nueva gerona\n"
      ]
     },
     "metadata": {},
     "output_type": "display_data"
    },
    {
     "data": {
      "text/html": [
       "<pre style=\"white-space:pre;overflow-x:auto;line-height:normal;font-family:Menlo,'DejaVu Sans Mono',consolas,'Courier New',monospace\">Processing Record <span style=\"color: #008080; text-decoration-color: #008080; font-weight: bold\">48</span> of Set <span style=\"color: #008080; text-decoration-color: #008080; font-weight: bold\">4</span> | nemuro\n",
       "</pre>\n"
      ],
      "text/plain": [
       "Processing Record \u001b[1;36m48\u001b[0m of Set \u001b[1;36m4\u001b[0m | nemuro\n"
      ]
     },
     "metadata": {},
     "output_type": "display_data"
    },
    {
     "data": {
      "text/html": [
       "<pre style=\"white-space:pre;overflow-x:auto;line-height:normal;font-family:Menlo,'DejaVu Sans Mono',consolas,'Courier New',monospace\">Processing Record <span style=\"color: #008080; text-decoration-color: #008080; font-weight: bold\">49</span> of Set <span style=\"color: #008080; text-decoration-color: #008080; font-weight: bold\">4</span> | kingston\n",
       "</pre>\n"
      ],
      "text/plain": [
       "Processing Record \u001b[1;36m49\u001b[0m of Set \u001b[1;36m4\u001b[0m | kingston\n"
      ]
     },
     "metadata": {},
     "output_type": "display_data"
    },
    {
     "data": {
      "text/html": [
       "<pre style=\"white-space:pre;overflow-x:auto;line-height:normal;font-family:Menlo,'DejaVu Sans Mono',consolas,'Courier New',monospace\">Processing Record <span style=\"color: #008080; text-decoration-color: #008080; font-weight: bold\">0</span> of Set <span style=\"color: #008080; text-decoration-color: #008080; font-weight: bold\">5</span> | port hueneme\n",
       "</pre>\n"
      ],
      "text/plain": [
       "Processing Record \u001b[1;36m0\u001b[0m of Set \u001b[1;36m5\u001b[0m | port hueneme\n"
      ]
     },
     "metadata": {},
     "output_type": "display_data"
    },
    {
     "data": {
      "text/html": [
       "<pre style=\"white-space:pre;overflow-x:auto;line-height:normal;font-family:Menlo,'DejaVu Sans Mono',consolas,'Courier New',monospace\">Processing Record <span style=\"color: #008080; text-decoration-color: #008080; font-weight: bold\">1</span> of Set <span style=\"color: #008080; text-decoration-color: #008080; font-weight: bold\">5</span> | gadzhiyevo\n",
       "</pre>\n"
      ],
      "text/plain": [
       "Processing Record \u001b[1;36m1\u001b[0m of Set \u001b[1;36m5\u001b[0m | gadzhiyevo\n"
      ]
     },
     "metadata": {},
     "output_type": "display_data"
    },
    {
     "data": {
      "text/html": [
       "<pre style=\"white-space:pre;overflow-x:auto;line-height:normal;font-family:Menlo,'DejaVu Sans Mono',consolas,'Courier New',monospace\">Processing Record <span style=\"color: #008080; text-decoration-color: #008080; font-weight: bold\">2</span> of Set <span style=\"color: #008080; text-decoration-color: #008080; font-weight: bold\">5</span> | dhidhdhoo\n",
       "</pre>\n"
      ],
      "text/plain": [
       "Processing Record \u001b[1;36m2\u001b[0m of Set \u001b[1;36m5\u001b[0m | dhidhdhoo\n"
      ]
     },
     "metadata": {},
     "output_type": "display_data"
    },
    {
     "data": {
      "text/html": [
       "<pre style=\"white-space:pre;overflow-x:auto;line-height:normal;font-family:Menlo,'DejaVu Sans Mono',consolas,'Courier New',monospace\">Processing Record <span style=\"color: #008080; text-decoration-color: #008080; font-weight: bold\">3</span> of Set <span style=\"color: #008080; text-decoration-color: #008080; font-weight: bold\">5</span> | morondava\n",
       "</pre>\n"
      ],
      "text/plain": [
       "Processing Record \u001b[1;36m3\u001b[0m of Set \u001b[1;36m5\u001b[0m | morondava\n"
      ]
     },
     "metadata": {},
     "output_type": "display_data"
    },
    {
     "data": {
      "text/html": [
       "<pre style=\"white-space:pre;overflow-x:auto;line-height:normal;font-family:Menlo,'DejaVu Sans Mono',consolas,'Courier New',monospace\">Processing Record <span style=\"color: #008080; text-decoration-color: #008080; font-weight: bold\">4</span> of Set <span style=\"color: #008080; text-decoration-color: #008080; font-weight: bold\">5</span> | gebeit\n",
       "</pre>\n"
      ],
      "text/plain": [
       "Processing Record \u001b[1;36m4\u001b[0m of Set \u001b[1;36m5\u001b[0m | gebeit\n"
      ]
     },
     "metadata": {},
     "output_type": "display_data"
    },
    {
     "data": {
      "text/html": [
       "<pre style=\"white-space:pre;overflow-x:auto;line-height:normal;font-family:Menlo,'DejaVu Sans Mono',consolas,'Courier New',monospace\">Processing Record <span style=\"color: #008080; text-decoration-color: #008080; font-weight: bold\">5</span> of Set <span style=\"color: #008080; text-decoration-color: #008080; font-weight: bold\">5</span> | newman\n",
       "</pre>\n"
      ],
      "text/plain": [
       "Processing Record \u001b[1;36m5\u001b[0m of Set \u001b[1;36m5\u001b[0m | newman\n"
      ]
     },
     "metadata": {},
     "output_type": "display_data"
    },
    {
     "data": {
      "text/html": [
       "<pre style=\"white-space:pre;overflow-x:auto;line-height:normal;font-family:Menlo,'DejaVu Sans Mono',consolas,'Courier New',monospace\">Processing Record <span style=\"color: #008080; text-decoration-color: #008080; font-weight: bold\">6</span> of Set <span style=\"color: #008080; text-decoration-color: #008080; font-weight: bold\">5</span> | lebu\n",
       "</pre>\n"
      ],
      "text/plain": [
       "Processing Record \u001b[1;36m6\u001b[0m of Set \u001b[1;36m5\u001b[0m | lebu\n"
      ]
     },
     "metadata": {},
     "output_type": "display_data"
    },
    {
     "data": {
      "text/html": [
       "<pre style=\"white-space:pre;overflow-x:auto;line-height:normal;font-family:Menlo,'DejaVu Sans Mono',consolas,'Courier New',monospace\">Processing Record <span style=\"color: #008080; text-decoration-color: #008080; font-weight: bold\">7</span> of Set <span style=\"color: #008080; text-decoration-color: #008080; font-weight: bold\">5</span> | maragogi\n",
       "</pre>\n"
      ],
      "text/plain": [
       "Processing Record \u001b[1;36m7\u001b[0m of Set \u001b[1;36m5\u001b[0m | maragogi\n"
      ]
     },
     "metadata": {},
     "output_type": "display_data"
    },
    {
     "data": {
      "text/html": [
       "<pre style=\"white-space:pre;overflow-x:auto;line-height:normal;font-family:Menlo,'DejaVu Sans Mono',consolas,'Courier New',monospace\">Processing Record <span style=\"color: #008080; text-decoration-color: #008080; font-weight: bold\">8</span> of Set <span style=\"color: #008080; text-decoration-color: #008080; font-weight: bold\">5</span> | rongelap\n",
       "</pre>\n"
      ],
      "text/plain": [
       "Processing Record \u001b[1;36m8\u001b[0m of Set \u001b[1;36m5\u001b[0m | rongelap\n"
      ]
     },
     "metadata": {},
     "output_type": "display_data"
    },
    {
     "data": {
      "text/html": [
       "<pre style=\"white-space:pre;overflow-x:auto;line-height:normal;font-family:Menlo,'DejaVu Sans Mono',consolas,'Courier New',monospace\">Processing Record <span style=\"color: #008080; text-decoration-color: #008080; font-weight: bold\">9</span> of Set <span style=\"color: #008080; text-decoration-color: #008080; font-weight: bold\">5</span> | enewetak\n",
       "</pre>\n"
      ],
      "text/plain": [
       "Processing Record \u001b[1;36m9\u001b[0m of Set \u001b[1;36m5\u001b[0m | enewetak\n"
      ]
     },
     "metadata": {},
     "output_type": "display_data"
    },
    {
     "data": {
      "text/html": [
       "<pre style=\"white-space:pre;overflow-x:auto;line-height:normal;font-family:Menlo,'DejaVu Sans Mono',consolas,'Courier New',monospace\">Processing Record <span style=\"color: #008080; text-decoration-color: #008080; font-weight: bold\">10</span> of Set <span style=\"color: #008080; text-decoration-color: #008080; font-weight: bold\">5</span> | mil'kovo\n",
       "</pre>\n"
      ],
      "text/plain": [
       "Processing Record \u001b[1;36m10\u001b[0m of Set \u001b[1;36m5\u001b[0m | mil'kovo\n"
      ]
     },
     "metadata": {},
     "output_type": "display_data"
    },
    {
     "data": {
      "text/html": [
       "<pre style=\"white-space:pre;overflow-x:auto;line-height:normal;font-family:Menlo,'DejaVu Sans Mono',consolas,'Courier New',monospace\">Processing Record <span style=\"color: #008080; text-decoration-color: #008080; font-weight: bold\">11</span> of Set <span style=\"color: #008080; text-decoration-color: #008080; font-weight: bold\">5</span> | orange walk\n",
       "</pre>\n"
      ],
      "text/plain": [
       "Processing Record \u001b[1;36m11\u001b[0m of Set \u001b[1;36m5\u001b[0m | orange walk\n"
      ]
     },
     "metadata": {},
     "output_type": "display_data"
    },
    {
     "data": {
      "text/html": [
       "<pre style=\"white-space:pre;overflow-x:auto;line-height:normal;font-family:Menlo,'DejaVu Sans Mono',consolas,'Courier New',monospace\">Processing Record <span style=\"color: #008080; text-decoration-color: #008080; font-weight: bold\">12</span> of Set <span style=\"color: #008080; text-decoration-color: #008080; font-weight: bold\">5</span> | karratha\n",
       "</pre>\n"
      ],
      "text/plain": [
       "Processing Record \u001b[1;36m12\u001b[0m of Set \u001b[1;36m5\u001b[0m | karratha\n"
      ]
     },
     "metadata": {},
     "output_type": "display_data"
    },
    {
     "data": {
      "text/html": [
       "<pre style=\"white-space:pre;overflow-x:auto;line-height:normal;font-family:Menlo,'DejaVu Sans Mono',consolas,'Courier New',monospace\">Processing Record <span style=\"color: #008080; text-decoration-color: #008080; font-weight: bold\">13</span> of Set <span style=\"color: #008080; text-decoration-color: #008080; font-weight: bold\">5</span> | mount gambier\n",
       "</pre>\n"
      ],
      "text/plain": [
       "Processing Record \u001b[1;36m13\u001b[0m of Set \u001b[1;36m5\u001b[0m | mount gambier\n"
      ]
     },
     "metadata": {},
     "output_type": "display_data"
    },
    {
     "data": {
      "text/html": [
       "<pre style=\"white-space:pre;overflow-x:auto;line-height:normal;font-family:Menlo,'DejaVu Sans Mono',consolas,'Courier New',monospace\">Processing Record <span style=\"color: #008080; text-decoration-color: #008080; font-weight: bold\">14</span> of Set <span style=\"color: #008080; text-decoration-color: #008080; font-weight: bold\">5</span> | whistler\n",
       "</pre>\n"
      ],
      "text/plain": [
       "Processing Record \u001b[1;36m14\u001b[0m of Set \u001b[1;36m5\u001b[0m | whistler\n"
      ]
     },
     "metadata": {},
     "output_type": "display_data"
    },
    {
     "data": {
      "text/html": [
       "<pre style=\"white-space:pre;overflow-x:auto;line-height:normal;font-family:Menlo,'DejaVu Sans Mono',consolas,'Courier New',monospace\">Processing Record <span style=\"color: #008080; text-decoration-color: #008080; font-weight: bold\">15</span> of Set <span style=\"color: #008080; text-decoration-color: #008080; font-weight: bold\">5</span> | taoudenni\n",
       "</pre>\n"
      ],
      "text/plain": [
       "Processing Record \u001b[1;36m15\u001b[0m of Set \u001b[1;36m5\u001b[0m | taoudenni\n"
      ]
     },
     "metadata": {},
     "output_type": "display_data"
    },
    {
     "data": {
      "text/html": [
       "<pre style=\"white-space:pre;overflow-x:auto;line-height:normal;font-family:Menlo,'DejaVu Sans Mono',consolas,'Courier New',monospace\">Processing Record <span style=\"color: #008080; text-decoration-color: #008080; font-weight: bold\">16</span> of Set <span style=\"color: #008080; text-decoration-color: #008080; font-weight: bold\">5</span> | hirara\n",
       "</pre>\n"
      ],
      "text/plain": [
       "Processing Record \u001b[1;36m16\u001b[0m of Set \u001b[1;36m5\u001b[0m | hirara\n"
      ]
     },
     "metadata": {},
     "output_type": "display_data"
    },
    {
     "data": {
      "text/html": [
       "<pre style=\"white-space:pre;overflow-x:auto;line-height:normal;font-family:Menlo,'DejaVu Sans Mono',consolas,'Courier New',monospace\">Processing Record <span style=\"color: #008080; text-decoration-color: #008080; font-weight: bold\">17</span> of Set <span style=\"color: #008080; text-decoration-color: #008080; font-weight: bold\">5</span> | al jumum\n",
       "</pre>\n"
      ],
      "text/plain": [
       "Processing Record \u001b[1;36m17\u001b[0m of Set \u001b[1;36m5\u001b[0m | al jumum\n"
      ]
     },
     "metadata": {},
     "output_type": "display_data"
    },
    {
     "data": {
      "text/html": [
       "<pre style=\"white-space:pre;overflow-x:auto;line-height:normal;font-family:Menlo,'DejaVu Sans Mono',consolas,'Courier New',monospace\">Processing Record <span style=\"color: #008080; text-decoration-color: #008080; font-weight: bold\">18</span> of Set <span style=\"color: #008080; text-decoration-color: #008080; font-weight: bold\">5</span> | ha'il\n",
       "</pre>\n"
      ],
      "text/plain": [
       "Processing Record \u001b[1;36m18\u001b[0m of Set \u001b[1;36m5\u001b[0m | ha'il\n"
      ]
     },
     "metadata": {},
     "output_type": "display_data"
    },
    {
     "data": {
      "text/html": [
       "<pre style=\"white-space:pre;overflow-x:auto;line-height:normal;font-family:Menlo,'DejaVu Sans Mono',consolas,'Courier New',monospace\">Processing Record <span style=\"color: #008080; text-decoration-color: #008080; font-weight: bold\">19</span> of Set <span style=\"color: #008080; text-decoration-color: #008080; font-weight: bold\">5</span> | iskushuban\n",
       "</pre>\n"
      ],
      "text/plain": [
       "Processing Record \u001b[1;36m19\u001b[0m of Set \u001b[1;36m5\u001b[0m | iskushuban\n"
      ]
     },
     "metadata": {},
     "output_type": "display_data"
    },
    {
     "data": {
      "text/html": [
       "<pre style=\"white-space:pre;overflow-x:auto;line-height:normal;font-family:Menlo,'DejaVu Sans Mono',consolas,'Courier New',monospace\">Processing Record <span style=\"color: #008080; text-decoration-color: #008080; font-weight: bold\">20</span> of Set <span style=\"color: #008080; text-decoration-color: #008080; font-weight: bold\">5</span> | ola\n",
       "</pre>\n"
      ],
      "text/plain": [
       "Processing Record \u001b[1;36m20\u001b[0m of Set \u001b[1;36m5\u001b[0m | ola\n"
      ]
     },
     "metadata": {},
     "output_type": "display_data"
    },
    {
     "data": {
      "text/html": [
       "<pre style=\"white-space:pre;overflow-x:auto;line-height:normal;font-family:Menlo,'DejaVu Sans Mono',consolas,'Courier New',monospace\">Processing Record <span style=\"color: #008080; text-decoration-color: #008080; font-weight: bold\">21</span> of Set <span style=\"color: #008080; text-decoration-color: #008080; font-weight: bold\">5</span> | angaur state\n",
       "</pre>\n"
      ],
      "text/plain": [
       "Processing Record \u001b[1;36m21\u001b[0m of Set \u001b[1;36m5\u001b[0m | angaur state\n"
      ]
     },
     "metadata": {},
     "output_type": "display_data"
    },
    {
     "data": {
      "text/html": [
       "<pre style=\"white-space:pre;overflow-x:auto;line-height:normal;font-family:Menlo,'DejaVu Sans Mono',consolas,'Courier New',monospace\">Processing Record <span style=\"color: #008080; text-decoration-color: #008080; font-weight: bold\">22</span> of Set <span style=\"color: #008080; text-decoration-color: #008080; font-weight: bold\">5</span> | la foa\n",
       "</pre>\n"
      ],
      "text/plain": [
       "Processing Record \u001b[1;36m22\u001b[0m of Set \u001b[1;36m5\u001b[0m | la foa\n"
      ]
     },
     "metadata": {},
     "output_type": "display_data"
    },
    {
     "data": {
      "text/html": [
       "<pre style=\"white-space:pre;overflow-x:auto;line-height:normal;font-family:Menlo,'DejaVu Sans Mono',consolas,'Courier New',monospace\">Processing Record <span style=\"color: #008080; text-decoration-color: #008080; font-weight: bold\">23</span> of Set <span style=\"color: #008080; text-decoration-color: #008080; font-weight: bold\">5</span> | carnarvon\n",
       "</pre>\n"
      ],
      "text/plain": [
       "Processing Record \u001b[1;36m23\u001b[0m of Set \u001b[1;36m5\u001b[0m | carnarvon\n"
      ]
     },
     "metadata": {},
     "output_type": "display_data"
    },
    {
     "data": {
      "text/html": [
       "<pre style=\"white-space:pre;overflow-x:auto;line-height:normal;font-family:Menlo,'DejaVu Sans Mono',consolas,'Courier New',monospace\">Processing Record <span style=\"color: #008080; text-decoration-color: #008080; font-weight: bold\">24</span> of Set <span style=\"color: #008080; text-decoration-color: #008080; font-weight: bold\">5</span> | isangel\n",
       "</pre>\n"
      ],
      "text/plain": [
       "Processing Record \u001b[1;36m24\u001b[0m of Set \u001b[1;36m5\u001b[0m | isangel\n"
      ]
     },
     "metadata": {},
     "output_type": "display_data"
    },
    {
     "data": {
      "text/html": [
       "<pre style=\"white-space:pre;overflow-x:auto;line-height:normal;font-family:Menlo,'DejaVu Sans Mono',consolas,'Courier New',monospace\">Processing Record <span style=\"color: #008080; text-decoration-color: #008080; font-weight: bold\">25</span> of Set <span style=\"color: #008080; text-decoration-color: #008080; font-weight: bold\">5</span> | nyurba\n",
       "</pre>\n"
      ],
      "text/plain": [
       "Processing Record \u001b[1;36m25\u001b[0m of Set \u001b[1;36m5\u001b[0m | nyurba\n"
      ]
     },
     "metadata": {},
     "output_type": "display_data"
    },
    {
     "data": {
      "text/html": [
       "<pre style=\"white-space:pre;overflow-x:auto;line-height:normal;font-family:Menlo,'DejaVu Sans Mono',consolas,'Courier New',monospace\">Processing Record <span style=\"color: #008080; text-decoration-color: #008080; font-weight: bold\">26</span> of Set <span style=\"color: #008080; text-decoration-color: #008080; font-weight: bold\">5</span> | cabinda\n",
       "</pre>\n"
      ],
      "text/plain": [
       "Processing Record \u001b[1;36m26\u001b[0m of Set \u001b[1;36m5\u001b[0m | cabinda\n"
      ]
     },
     "metadata": {},
     "output_type": "display_data"
    },
    {
     "data": {
      "text/html": [
       "<pre style=\"white-space:pre;overflow-x:auto;line-height:normal;font-family:Menlo,'DejaVu Sans Mono',consolas,'Courier New',monospace\">Processing Record <span style=\"color: #008080; text-decoration-color: #008080; font-weight: bold\">27</span> of Set <span style=\"color: #008080; text-decoration-color: #008080; font-weight: bold\">5</span> | tekkali\n",
       "</pre>\n"
      ],
      "text/plain": [
       "Processing Record \u001b[1;36m27\u001b[0m of Set \u001b[1;36m5\u001b[0m | tekkali\n"
      ]
     },
     "metadata": {},
     "output_type": "display_data"
    },
    {
     "data": {
      "text/html": [
       "<pre style=\"white-space:pre;overflow-x:auto;line-height:normal;font-family:Menlo,'DejaVu Sans Mono',consolas,'Courier New',monospace\">Processing Record <span style=\"color: #008080; text-decoration-color: #008080; font-weight: bold\">28</span> of Set <span style=\"color: #008080; text-decoration-color: #008080; font-weight: bold\">5</span> | shiozawa\n",
       "</pre>\n"
      ],
      "text/plain": [
       "Processing Record \u001b[1;36m28\u001b[0m of Set \u001b[1;36m5\u001b[0m | shiozawa\n"
      ]
     },
     "metadata": {},
     "output_type": "display_data"
    },
    {
     "data": {
      "text/html": [
       "<pre style=\"white-space:pre;overflow-x:auto;line-height:normal;font-family:Menlo,'DejaVu Sans Mono',consolas,'Courier New',monospace\">Processing Record <span style=\"color: #008080; text-decoration-color: #008080; font-weight: bold\">29</span> of Set <span style=\"color: #008080; text-decoration-color: #008080; font-weight: bold\">5</span> | daru\n",
       "</pre>\n"
      ],
      "text/plain": [
       "Processing Record \u001b[1;36m29\u001b[0m of Set \u001b[1;36m5\u001b[0m | daru\n"
      ]
     },
     "metadata": {},
     "output_type": "display_data"
    },
    {
     "data": {
      "text/html": [
       "<pre style=\"white-space:pre;overflow-x:auto;line-height:normal;font-family:Menlo,'DejaVu Sans Mono',consolas,'Courier New',monospace\">Processing Record <span style=\"color: #008080; text-decoration-color: #008080; font-weight: bold\">30</span> of Set <span style=\"color: #008080; text-decoration-color: #008080; font-weight: bold\">5</span> | dwarka\n",
       "</pre>\n"
      ],
      "text/plain": [
       "Processing Record \u001b[1;36m30\u001b[0m of Set \u001b[1;36m5\u001b[0m | dwarka\n"
      ]
     },
     "metadata": {},
     "output_type": "display_data"
    },
    {
     "data": {
      "text/html": [
       "<pre style=\"white-space:pre;overflow-x:auto;line-height:normal;font-family:Menlo,'DejaVu Sans Mono',consolas,'Courier New',monospace\">Processing Record <span style=\"color: #008080; text-decoration-color: #008080; font-weight: bold\">31</span> of Set <span style=\"color: #008080; text-decoration-color: #008080; font-weight: bold\">5</span> | mumbwa\n",
       "</pre>\n"
      ],
      "text/plain": [
       "Processing Record \u001b[1;36m31\u001b[0m of Set \u001b[1;36m5\u001b[0m | mumbwa\n"
      ]
     },
     "metadata": {},
     "output_type": "display_data"
    },
    {
     "data": {
      "text/html": [
       "<pre style=\"white-space:pre;overflow-x:auto;line-height:normal;font-family:Menlo,'DejaVu Sans Mono',consolas,'Courier New',monospace\">Processing Record <span style=\"color: #008080; text-decoration-color: #008080; font-weight: bold\">32</span> of Set <span style=\"color: #008080; text-decoration-color: #008080; font-weight: bold\">5</span> | port elizabeth\n",
       "</pre>\n"
      ],
      "text/plain": [
       "Processing Record \u001b[1;36m32\u001b[0m of Set \u001b[1;36m5\u001b[0m | port elizabeth\n"
      ]
     },
     "metadata": {},
     "output_type": "display_data"
    },
    {
     "data": {
      "text/html": [
       "<pre style=\"white-space:pre;overflow-x:auto;line-height:normal;font-family:Menlo,'DejaVu Sans Mono',consolas,'Courier New',monospace\">Processing Record <span style=\"color: #008080; text-decoration-color: #008080; font-weight: bold\">33</span> of Set <span style=\"color: #008080; text-decoration-color: #008080; font-weight: bold\">5</span> | saint-philippe\n",
       "</pre>\n"
      ],
      "text/plain": [
       "Processing Record \u001b[1;36m33\u001b[0m of Set \u001b[1;36m5\u001b[0m | saint-philippe\n"
      ]
     },
     "metadata": {},
     "output_type": "display_data"
    },
    {
     "data": {
      "text/html": [
       "<pre style=\"white-space:pre;overflow-x:auto;line-height:normal;font-family:Menlo,'DejaVu Sans Mono',consolas,'Courier New',monospace\">Processing Record <span style=\"color: #008080; text-decoration-color: #008080; font-weight: bold\">34</span> of Set <span style=\"color: #008080; text-decoration-color: #008080; font-weight: bold\">5</span> | manta\n",
       "</pre>\n"
      ],
      "text/plain": [
       "Processing Record \u001b[1;36m34\u001b[0m of Set \u001b[1;36m5\u001b[0m | manta\n"
      ]
     },
     "metadata": {},
     "output_type": "display_data"
    },
    {
     "data": {
      "text/html": [
       "<pre style=\"white-space:pre;overflow-x:auto;line-height:normal;font-family:Menlo,'DejaVu Sans Mono',consolas,'Courier New',monospace\">Processing Record <span style=\"color: #008080; text-decoration-color: #008080; font-weight: bold\">35</span> of Set <span style=\"color: #008080; text-decoration-color: #008080; font-weight: bold\">5</span> | vadso\n",
       "</pre>\n"
      ],
      "text/plain": [
       "Processing Record \u001b[1;36m35\u001b[0m of Set \u001b[1;36m5\u001b[0m | vadso\n"
      ]
     },
     "metadata": {},
     "output_type": "display_data"
    },
    {
     "data": {
      "text/html": [
       "<pre style=\"white-space:pre;overflow-x:auto;line-height:normal;font-family:Menlo,'DejaVu Sans Mono',consolas,'Courier New',monospace\">Processing Record <span style=\"color: #008080; text-decoration-color: #008080; font-weight: bold\">36</span> of Set <span style=\"color: #008080; text-decoration-color: #008080; font-weight: bold\">5</span> | sitka\n",
       "</pre>\n"
      ],
      "text/plain": [
       "Processing Record \u001b[1;36m36\u001b[0m of Set \u001b[1;36m5\u001b[0m | sitka\n"
      ]
     },
     "metadata": {},
     "output_type": "display_data"
    },
    {
     "data": {
      "text/html": [
       "<pre style=\"white-space:pre;overflow-x:auto;line-height:normal;font-family:Menlo,'DejaVu Sans Mono',consolas,'Courier New',monospace\">Processing Record <span style=\"color: #008080; text-decoration-color: #008080; font-weight: bold\">37</span> of Set <span style=\"color: #008080; text-decoration-color: #008080; font-weight: bold\">5</span> | susuman\n",
       "</pre>\n"
      ],
      "text/plain": [
       "Processing Record \u001b[1;36m37\u001b[0m of Set \u001b[1;36m5\u001b[0m | susuman\n"
      ]
     },
     "metadata": {},
     "output_type": "display_data"
    },
    {
     "data": {
      "text/html": [
       "<pre style=\"white-space:pre;overflow-x:auto;line-height:normal;font-family:Menlo,'DejaVu Sans Mono',consolas,'Courier New',monospace\">Processing Record <span style=\"color: #008080; text-decoration-color: #008080; font-weight: bold\">38</span> of Set <span style=\"color: #008080; text-decoration-color: #008080; font-weight: bold\">5</span> | port augusta\n",
       "</pre>\n"
      ],
      "text/plain": [
       "Processing Record \u001b[1;36m38\u001b[0m of Set \u001b[1;36m5\u001b[0m | port augusta\n"
      ]
     },
     "metadata": {},
     "output_type": "display_data"
    },
    {
     "data": {
      "text/html": [
       "<pre style=\"white-space:pre;overflow-x:auto;line-height:normal;font-family:Menlo,'DejaVu Sans Mono',consolas,'Courier New',monospace\">Processing Record <span style=\"color: #008080; text-decoration-color: #008080; font-weight: bold\">39</span> of Set <span style=\"color: #008080; text-decoration-color: #008080; font-weight: bold\">5</span> | ahau\n",
       "</pre>\n"
      ],
      "text/plain": [
       "Processing Record \u001b[1;36m39\u001b[0m of Set \u001b[1;36m5\u001b[0m | ahau\n"
      ]
     },
     "metadata": {},
     "output_type": "display_data"
    },
    {
     "data": {
      "text/html": [
       "<pre style=\"white-space:pre;overflow-x:auto;line-height:normal;font-family:Menlo,'DejaVu Sans Mono',consolas,'Courier New',monospace\">City not found. Skipping<span style=\"color: #808000; text-decoration-color: #808000\">...</span>\n",
       "</pre>\n"
      ],
      "text/plain": [
       "City not found. Skipping\u001b[33m...\u001b[0m\n"
      ]
     },
     "metadata": {},
     "output_type": "display_data"
    },
    {
     "data": {
      "text/html": [
       "<pre style=\"white-space:pre;overflow-x:auto;line-height:normal;font-family:Menlo,'DejaVu Sans Mono',consolas,'Courier New',monospace\">Processing Record <span style=\"color: #008080; text-decoration-color: #008080; font-weight: bold\">40</span> of Set <span style=\"color: #008080; text-decoration-color: #008080; font-weight: bold\">5</span> | la manga del mar menor\n",
       "</pre>\n"
      ],
      "text/plain": [
       "Processing Record \u001b[1;36m40\u001b[0m of Set \u001b[1;36m5\u001b[0m | la manga del mar menor\n"
      ]
     },
     "metadata": {},
     "output_type": "display_data"
    },
    {
     "data": {
      "text/html": [
       "<pre style=\"white-space:pre;overflow-x:auto;line-height:normal;font-family:Menlo,'DejaVu Sans Mono',consolas,'Courier New',monospace\">Processing Record <span style=\"color: #008080; text-decoration-color: #008080; font-weight: bold\">41</span> of Set <span style=\"color: #008080; text-decoration-color: #008080; font-weight: bold\">5</span> | masterton\n",
       "</pre>\n"
      ],
      "text/plain": [
       "Processing Record \u001b[1;36m41\u001b[0m of Set \u001b[1;36m5\u001b[0m | masterton\n"
      ]
     },
     "metadata": {},
     "output_type": "display_data"
    },
    {
     "data": {
      "text/html": [
       "<pre style=\"white-space:pre;overflow-x:auto;line-height:normal;font-family:Menlo,'DejaVu Sans Mono',consolas,'Courier New',monospace\">Processing Record <span style=\"color: #008080; text-decoration-color: #008080; font-weight: bold\">42</span> of Set <span style=\"color: #008080; text-decoration-color: #008080; font-weight: bold\">5</span> | livingston\n",
       "</pre>\n"
      ],
      "text/plain": [
       "Processing Record \u001b[1;36m42\u001b[0m of Set \u001b[1;36m5\u001b[0m | livingston\n"
      ]
     },
     "metadata": {},
     "output_type": "display_data"
    },
    {
     "data": {
      "text/html": [
       "<pre style=\"white-space:pre;overflow-x:auto;line-height:normal;font-family:Menlo,'DejaVu Sans Mono',consolas,'Courier New',monospace\">Processing Record <span style=\"color: #008080; text-decoration-color: #008080; font-weight: bold\">43</span> of Set <span style=\"color: #008080; text-decoration-color: #008080; font-weight: bold\">5</span> | salinas\n",
       "</pre>\n"
      ],
      "text/plain": [
       "Processing Record \u001b[1;36m43\u001b[0m of Set \u001b[1;36m5\u001b[0m | salinas\n"
      ]
     },
     "metadata": {},
     "output_type": "display_data"
    },
    {
     "data": {
      "text/html": [
       "<pre style=\"white-space:pre;overflow-x:auto;line-height:normal;font-family:Menlo,'DejaVu Sans Mono',consolas,'Courier New',monospace\">Processing Record <span style=\"color: #008080; text-decoration-color: #008080; font-weight: bold\">44</span> of Set <span style=\"color: #008080; text-decoration-color: #008080; font-weight: bold\">5</span> | peace river\n",
       "</pre>\n"
      ],
      "text/plain": [
       "Processing Record \u001b[1;36m44\u001b[0m of Set \u001b[1;36m5\u001b[0m | peace river\n"
      ]
     },
     "metadata": {},
     "output_type": "display_data"
    },
    {
     "data": {
      "text/html": [
       "<pre style=\"white-space:pre;overflow-x:auto;line-height:normal;font-family:Menlo,'DejaVu Sans Mono',consolas,'Courier New',monospace\">Processing Record <span style=\"color: #008080; text-decoration-color: #008080; font-weight: bold\">45</span> of Set <span style=\"color: #008080; text-decoration-color: #008080; font-weight: bold\">5</span> | novotroitsk\n",
       "</pre>\n"
      ],
      "text/plain": [
       "Processing Record \u001b[1;36m45\u001b[0m of Set \u001b[1;36m5\u001b[0m | novotroitsk\n"
      ]
     },
     "metadata": {},
     "output_type": "display_data"
    },
    {
     "data": {
      "text/html": [
       "<pre style=\"white-space:pre;overflow-x:auto;line-height:normal;font-family:Menlo,'DejaVu Sans Mono',consolas,'Courier New',monospace\">Processing Record <span style=\"color: #008080; text-decoration-color: #008080; font-weight: bold\">46</span> of Set <span style=\"color: #008080; text-decoration-color: #008080; font-weight: bold\">5</span> | tazacorte\n",
       "</pre>\n"
      ],
      "text/plain": [
       "Processing Record \u001b[1;36m46\u001b[0m of Set \u001b[1;36m5\u001b[0m | tazacorte\n"
      ]
     },
     "metadata": {},
     "output_type": "display_data"
    },
    {
     "data": {
      "text/html": [
       "<pre style=\"white-space:pre;overflow-x:auto;line-height:normal;font-family:Menlo,'DejaVu Sans Mono',consolas,'Courier New',monospace\">Processing Record <span style=\"color: #008080; text-decoration-color: #008080; font-weight: bold\">47</span> of Set <span style=\"color: #008080; text-decoration-color: #008080; font-weight: bold\">5</span> | clorinda\n",
       "</pre>\n"
      ],
      "text/plain": [
       "Processing Record \u001b[1;36m47\u001b[0m of Set \u001b[1;36m5\u001b[0m | clorinda\n"
      ]
     },
     "metadata": {},
     "output_type": "display_data"
    },
    {
     "data": {
      "text/html": [
       "<pre style=\"white-space:pre;overflow-x:auto;line-height:normal;font-family:Menlo,'DejaVu Sans Mono',consolas,'Courier New',monospace\">Processing Record <span style=\"color: #008080; text-decoration-color: #008080; font-weight: bold\">48</span> of Set <span style=\"color: #008080; text-decoration-color: #008080; font-weight: bold\">5</span> | tianshui\n",
       "</pre>\n"
      ],
      "text/plain": [
       "Processing Record \u001b[1;36m48\u001b[0m of Set \u001b[1;36m5\u001b[0m | tianshui\n"
      ]
     },
     "metadata": {},
     "output_type": "display_data"
    },
    {
     "data": {
      "text/html": [
       "<pre style=\"white-space:pre;overflow-x:auto;line-height:normal;font-family:Menlo,'DejaVu Sans Mono',consolas,'Courier New',monospace\">Processing Record <span style=\"color: #008080; text-decoration-color: #008080; font-weight: bold\">49</span> of Set <span style=\"color: #008080; text-decoration-color: #008080; font-weight: bold\">5</span> | rexburg\n",
       "</pre>\n"
      ],
      "text/plain": [
       "Processing Record \u001b[1;36m49\u001b[0m of Set \u001b[1;36m5\u001b[0m | rexburg\n"
      ]
     },
     "metadata": {},
     "output_type": "display_data"
    },
    {
     "data": {
      "text/html": [
       "<pre style=\"white-space:pre;overflow-x:auto;line-height:normal;font-family:Menlo,'DejaVu Sans Mono',consolas,'Courier New',monospace\">Processing Record <span style=\"color: #008080; text-decoration-color: #008080; font-weight: bold\">0</span> of Set <span style=\"color: #008080; text-decoration-color: #008080; font-weight: bold\">6</span> | walvis bay\n",
       "</pre>\n"
      ],
      "text/plain": [
       "Processing Record \u001b[1;36m0\u001b[0m of Set \u001b[1;36m6\u001b[0m | walvis bay\n"
      ]
     },
     "metadata": {},
     "output_type": "display_data"
    },
    {
     "data": {
      "text/html": [
       "<pre style=\"white-space:pre;overflow-x:auto;line-height:normal;font-family:Menlo,'DejaVu Sans Mono',consolas,'Courier New',monospace\">Processing Record <span style=\"color: #008080; text-decoration-color: #008080; font-weight: bold\">1</span> of Set <span style=\"color: #008080; text-decoration-color: #008080; font-weight: bold\">6</span> | ballina\n",
       "</pre>\n"
      ],
      "text/plain": [
       "Processing Record \u001b[1;36m1\u001b[0m of Set \u001b[1;36m6\u001b[0m | ballina\n"
      ]
     },
     "metadata": {},
     "output_type": "display_data"
    },
    {
     "data": {
      "text/html": [
       "<pre style=\"white-space:pre;overflow-x:auto;line-height:normal;font-family:Menlo,'DejaVu Sans Mono',consolas,'Courier New',monospace\">Processing Record <span style=\"color: #008080; text-decoration-color: #008080; font-weight: bold\">2</span> of Set <span style=\"color: #008080; text-decoration-color: #008080; font-weight: bold\">6</span> | kuanda\n",
       "</pre>\n"
      ],
      "text/plain": [
       "Processing Record \u001b[1;36m2\u001b[0m of Set \u001b[1;36m6\u001b[0m | kuanda\n"
      ]
     },
     "metadata": {},
     "output_type": "display_data"
    },
    {
     "data": {
      "text/html": [
       "<pre style=\"white-space:pre;overflow-x:auto;line-height:normal;font-family:Menlo,'DejaVu Sans Mono',consolas,'Courier New',monospace\">Processing Record <span style=\"color: #008080; text-decoration-color: #008080; font-weight: bold\">3</span> of Set <span style=\"color: #008080; text-decoration-color: #008080; font-weight: bold\">6</span> | nova sintra\n",
       "</pre>\n"
      ],
      "text/plain": [
       "Processing Record \u001b[1;36m3\u001b[0m of Set \u001b[1;36m6\u001b[0m | nova sintra\n"
      ]
     },
     "metadata": {},
     "output_type": "display_data"
    },
    {
     "data": {
      "text/html": [
       "<pre style=\"white-space:pre;overflow-x:auto;line-height:normal;font-family:Menlo,'DejaVu Sans Mono',consolas,'Courier New',monospace\">Processing Record <span style=\"color: #008080; text-decoration-color: #008080; font-weight: bold\">4</span> of Set <span style=\"color: #008080; text-decoration-color: #008080; font-weight: bold\">6</span> | souillac\n",
       "</pre>\n"
      ],
      "text/plain": [
       "Processing Record \u001b[1;36m4\u001b[0m of Set \u001b[1;36m6\u001b[0m | souillac\n"
      ]
     },
     "metadata": {},
     "output_type": "display_data"
    },
    {
     "data": {
      "text/html": [
       "<pre style=\"white-space:pre;overflow-x:auto;line-height:normal;font-family:Menlo,'DejaVu Sans Mono',consolas,'Courier New',monospace\">Processing Record <span style=\"color: #008080; text-decoration-color: #008080; font-weight: bold\">5</span> of Set <span style=\"color: #008080; text-decoration-color: #008080; font-weight: bold\">6</span> | san antonio de pale\n",
       "</pre>\n"
      ],
      "text/plain": [
       "Processing Record \u001b[1;36m5\u001b[0m of Set \u001b[1;36m6\u001b[0m | san antonio de pale\n"
      ]
     },
     "metadata": {},
     "output_type": "display_data"
    },
    {
     "data": {
      "text/html": [
       "<pre style=\"white-space:pre;overflow-x:auto;line-height:normal;font-family:Menlo,'DejaVu Sans Mono',consolas,'Courier New',monospace\">Processing Record <span style=\"color: #008080; text-decoration-color: #008080; font-weight: bold\">6</span> of Set <span style=\"color: #008080; text-decoration-color: #008080; font-weight: bold\">6</span> | hasaki\n",
       "</pre>\n"
      ],
      "text/plain": [
       "Processing Record \u001b[1;36m6\u001b[0m of Set \u001b[1;36m6\u001b[0m | hasaki\n"
      ]
     },
     "metadata": {},
     "output_type": "display_data"
    },
    {
     "data": {
      "text/html": [
       "<pre style=\"white-space:pre;overflow-x:auto;line-height:normal;font-family:Menlo,'DejaVu Sans Mono',consolas,'Courier New',monospace\">Processing Record <span style=\"color: #008080; text-decoration-color: #008080; font-weight: bold\">7</span> of Set <span style=\"color: #008080; text-decoration-color: #008080; font-weight: bold\">6</span> | west end\n",
       "</pre>\n"
      ],
      "text/plain": [
       "Processing Record \u001b[1;36m7\u001b[0m of Set \u001b[1;36m6\u001b[0m | west end\n"
      ]
     },
     "metadata": {},
     "output_type": "display_data"
    },
    {
     "data": {
      "text/html": [
       "<pre style=\"white-space:pre;overflow-x:auto;line-height:normal;font-family:Menlo,'DejaVu Sans Mono',consolas,'Courier New',monospace\">Processing Record <span style=\"color: #008080; text-decoration-color: #008080; font-weight: bold\">8</span> of Set <span style=\"color: #008080; text-decoration-color: #008080; font-weight: bold\">6</span> | katabu\n",
       "</pre>\n"
      ],
      "text/plain": [
       "Processing Record \u001b[1;36m8\u001b[0m of Set \u001b[1;36m6\u001b[0m | katabu\n"
      ]
     },
     "metadata": {},
     "output_type": "display_data"
    },
    {
     "data": {
      "text/html": [
       "<pre style=\"white-space:pre;overflow-x:auto;line-height:normal;font-family:Menlo,'DejaVu Sans Mono',consolas,'Courier New',monospace\">Processing Record <span style=\"color: #008080; text-decoration-color: #008080; font-weight: bold\">9</span> of Set <span style=\"color: #008080; text-decoration-color: #008080; font-weight: bold\">6</span> | weno\n",
       "</pre>\n"
      ],
      "text/plain": [
       "Processing Record \u001b[1;36m9\u001b[0m of Set \u001b[1;36m6\u001b[0m | weno\n"
      ]
     },
     "metadata": {},
     "output_type": "display_data"
    },
    {
     "data": {
      "text/html": [
       "<pre style=\"white-space:pre;overflow-x:auto;line-height:normal;font-family:Menlo,'DejaVu Sans Mono',consolas,'Courier New',monospace\">Processing Record <span style=\"color: #008080; text-decoration-color: #008080; font-weight: bold\">10</span> of Set <span style=\"color: #008080; text-decoration-color: #008080; font-weight: bold\">6</span> | tarpon springs\n",
       "</pre>\n"
      ],
      "text/plain": [
       "Processing Record \u001b[1;36m10\u001b[0m of Set \u001b[1;36m6\u001b[0m | tarpon springs\n"
      ]
     },
     "metadata": {},
     "output_type": "display_data"
    },
    {
     "data": {
      "text/html": [
       "<pre style=\"white-space:pre;overflow-x:auto;line-height:normal;font-family:Menlo,'DejaVu Sans Mono',consolas,'Courier New',monospace\">Processing Record <span style=\"color: #008080; text-decoration-color: #008080; font-weight: bold\">11</span> of Set <span style=\"color: #008080; text-decoration-color: #008080; font-weight: bold\">6</span> | khandyga\n",
       "</pre>\n"
      ],
      "text/plain": [
       "Processing Record \u001b[1;36m11\u001b[0m of Set \u001b[1;36m6\u001b[0m | khandyga\n"
      ]
     },
     "metadata": {},
     "output_type": "display_data"
    },
    {
     "data": {
      "text/html": [
       "<pre style=\"white-space:pre;overflow-x:auto;line-height:normal;font-family:Menlo,'DejaVu Sans Mono',consolas,'Courier New',monospace\">Processing Record <span style=\"color: #008080; text-decoration-color: #008080; font-weight: bold\">12</span> of Set <span style=\"color: #008080; text-decoration-color: #008080; font-weight: bold\">6</span> | arteche\n",
       "</pre>\n"
      ],
      "text/plain": [
       "Processing Record \u001b[1;36m12\u001b[0m of Set \u001b[1;36m6\u001b[0m | arteche\n"
      ]
     },
     "metadata": {},
     "output_type": "display_data"
    },
    {
     "data": {
      "text/html": [
       "<pre style=\"white-space:pre;overflow-x:auto;line-height:normal;font-family:Menlo,'DejaVu Sans Mono',consolas,'Courier New',monospace\">Processing Record <span style=\"color: #008080; text-decoration-color: #008080; font-weight: bold\">13</span> of Set <span style=\"color: #008080; text-decoration-color: #008080; font-weight: bold\">6</span> | saint-francois\n",
       "</pre>\n"
      ],
      "text/plain": [
       "Processing Record \u001b[1;36m13\u001b[0m of Set \u001b[1;36m6\u001b[0m | saint-francois\n"
      ]
     },
     "metadata": {},
     "output_type": "display_data"
    },
    {
     "data": {
      "text/html": [
       "<pre style=\"white-space:pre;overflow-x:auto;line-height:normal;font-family:Menlo,'DejaVu Sans Mono',consolas,'Courier New',monospace\">Processing Record <span style=\"color: #008080; text-decoration-color: #008080; font-weight: bold\">14</span> of Set <span style=\"color: #008080; text-decoration-color: #008080; font-weight: bold\">6</span> | caleta de carquin\n",
       "</pre>\n"
      ],
      "text/plain": [
       "Processing Record \u001b[1;36m14\u001b[0m of Set \u001b[1;36m6\u001b[0m | caleta de carquin\n"
      ]
     },
     "metadata": {},
     "output_type": "display_data"
    },
    {
     "data": {
      "text/html": [
       "<pre style=\"white-space:pre;overflow-x:auto;line-height:normal;font-family:Menlo,'DejaVu Sans Mono',consolas,'Courier New',monospace\">Processing Record <span style=\"color: #008080; text-decoration-color: #008080; font-weight: bold\">15</span> of Set <span style=\"color: #008080; text-decoration-color: #008080; font-weight: bold\">6</span> | torres\n",
       "</pre>\n"
      ],
      "text/plain": [
       "Processing Record \u001b[1;36m15\u001b[0m of Set \u001b[1;36m6\u001b[0m | torres\n"
      ]
     },
     "metadata": {},
     "output_type": "display_data"
    },
    {
     "data": {
      "text/html": [
       "<pre style=\"white-space:pre;overflow-x:auto;line-height:normal;font-family:Menlo,'DejaVu Sans Mono',consolas,'Courier New',monospace\">Processing Record <span style=\"color: #008080; text-decoration-color: #008080; font-weight: bold\">16</span> of Set <span style=\"color: #008080; text-decoration-color: #008080; font-weight: bold\">6</span> | ascension\n",
       "</pre>\n"
      ],
      "text/plain": [
       "Processing Record \u001b[1;36m16\u001b[0m of Set \u001b[1;36m6\u001b[0m | ascension\n"
      ]
     },
     "metadata": {},
     "output_type": "display_data"
    },
    {
     "data": {
      "text/html": [
       "<pre style=\"white-space:pre;overflow-x:auto;line-height:normal;font-family:Menlo,'DejaVu Sans Mono',consolas,'Courier New',monospace\">Processing Record <span style=\"color: #008080; text-decoration-color: #008080; font-weight: bold\">17</span> of Set <span style=\"color: #008080; text-decoration-color: #008080; font-weight: bold\">6</span> | sal rei\n",
       "</pre>\n"
      ],
      "text/plain": [
       "Processing Record \u001b[1;36m17\u001b[0m of Set \u001b[1;36m6\u001b[0m | sal rei\n"
      ]
     },
     "metadata": {},
     "output_type": "display_data"
    },
    {
     "data": {
      "text/html": [
       "<pre style=\"white-space:pre;overflow-x:auto;line-height:normal;font-family:Menlo,'DejaVu Sans Mono',consolas,'Courier New',monospace\">Processing Record <span style=\"color: #008080; text-decoration-color: #008080; font-weight: bold\">18</span> of Set <span style=\"color: #008080; text-decoration-color: #008080; font-weight: bold\">6</span> | miri\n",
       "</pre>\n"
      ],
      "text/plain": [
       "Processing Record \u001b[1;36m18\u001b[0m of Set \u001b[1;36m6\u001b[0m | miri\n"
      ]
     },
     "metadata": {},
     "output_type": "display_data"
    },
    {
     "data": {
      "text/html": [
       "<pre style=\"white-space:pre;overflow-x:auto;line-height:normal;font-family:Menlo,'DejaVu Sans Mono',consolas,'Courier New',monospace\">Processing Record <span style=\"color: #008080; text-decoration-color: #008080; font-weight: bold\">19</span> of Set <span style=\"color: #008080; text-decoration-color: #008080; font-weight: bold\">6</span> | klamath falls\n",
       "</pre>\n"
      ],
      "text/plain": [
       "Processing Record \u001b[1;36m19\u001b[0m of Set \u001b[1;36m6\u001b[0m | klamath falls\n"
      ]
     },
     "metadata": {},
     "output_type": "display_data"
    },
    {
     "data": {
      "text/html": [
       "<pre style=\"white-space:pre;overflow-x:auto;line-height:normal;font-family:Menlo,'DejaVu Sans Mono',consolas,'Courier New',monospace\">Processing Record <span style=\"color: #008080; text-decoration-color: #008080; font-weight: bold\">20</span> of Set <span style=\"color: #008080; text-decoration-color: #008080; font-weight: bold\">6</span> | betare oya\n",
       "</pre>\n"
      ],
      "text/plain": [
       "Processing Record \u001b[1;36m20\u001b[0m of Set \u001b[1;36m6\u001b[0m | betare oya\n"
      ]
     },
     "metadata": {},
     "output_type": "display_data"
    },
    {
     "data": {
      "text/html": [
       "<pre style=\"white-space:pre;overflow-x:auto;line-height:normal;font-family:Menlo,'DejaVu Sans Mono',consolas,'Courier New',monospace\">Processing Record <span style=\"color: #008080; text-decoration-color: #008080; font-weight: bold\">21</span> of Set <span style=\"color: #008080; text-decoration-color: #008080; font-weight: bold\">6</span> | murten/morat\n",
       "</pre>\n"
      ],
      "text/plain": [
       "Processing Record \u001b[1;36m21\u001b[0m of Set \u001b[1;36m6\u001b[0m | murten/morat\n"
      ]
     },
     "metadata": {},
     "output_type": "display_data"
    },
    {
     "data": {
      "text/html": [
       "<pre style=\"white-space:pre;overflow-x:auto;line-height:normal;font-family:Menlo,'DejaVu Sans Mono',consolas,'Courier New',monospace\">Processing Record <span style=\"color: #008080; text-decoration-color: #008080; font-weight: bold\">22</span> of Set <span style=\"color: #008080; text-decoration-color: #008080; font-weight: bold\">6</span> | vilyuysk\n",
       "</pre>\n"
      ],
      "text/plain": [
       "Processing Record \u001b[1;36m22\u001b[0m of Set \u001b[1;36m6\u001b[0m | vilyuysk\n"
      ]
     },
     "metadata": {},
     "output_type": "display_data"
    },
    {
     "data": {
      "text/html": [
       "<pre style=\"white-space:pre;overflow-x:auto;line-height:normal;font-family:Menlo,'DejaVu Sans Mono',consolas,'Courier New',monospace\">Processing Record <span style=\"color: #008080; text-decoration-color: #008080; font-weight: bold\">23</span> of Set <span style=\"color: #008080; text-decoration-color: #008080; font-weight: bold\">6</span> | labrador city\n",
       "</pre>\n"
      ],
      "text/plain": [
       "Processing Record \u001b[1;36m23\u001b[0m of Set \u001b[1;36m6\u001b[0m | labrador city\n"
      ]
     },
     "metadata": {},
     "output_type": "display_data"
    },
    {
     "data": {
      "text/html": [
       "<pre style=\"white-space:pre;overflow-x:auto;line-height:normal;font-family:Menlo,'DejaVu Sans Mono',consolas,'Courier New',monospace\">Processing Record <span style=\"color: #008080; text-decoration-color: #008080; font-weight: bold\">24</span> of Set <span style=\"color: #008080; text-decoration-color: #008080; font-weight: bold\">6</span> | miyako\n",
       "</pre>\n"
      ],
      "text/plain": [
       "Processing Record \u001b[1;36m24\u001b[0m of Set \u001b[1;36m6\u001b[0m | miyako\n"
      ]
     },
     "metadata": {},
     "output_type": "display_data"
    },
    {
     "data": {
      "text/html": [
       "<pre style=\"white-space:pre;overflow-x:auto;line-height:normal;font-family:Menlo,'DejaVu Sans Mono',consolas,'Courier New',monospace\">Processing Record <span style=\"color: #008080; text-decoration-color: #008080; font-weight: bold\">25</span> of Set <span style=\"color: #008080; text-decoration-color: #008080; font-weight: bold\">6</span> | villa juarez\n",
       "</pre>\n"
      ],
      "text/plain": [
       "Processing Record \u001b[1;36m25\u001b[0m of Set \u001b[1;36m6\u001b[0m | villa juarez\n"
      ]
     },
     "metadata": {},
     "output_type": "display_data"
    },
    {
     "data": {
      "text/html": [
       "<pre style=\"white-space:pre;overflow-x:auto;line-height:normal;font-family:Menlo,'DejaVu Sans Mono',consolas,'Courier New',monospace\">Processing Record <span style=\"color: #008080; text-decoration-color: #008080; font-weight: bold\">26</span> of Set <span style=\"color: #008080; text-decoration-color: #008080; font-weight: bold\">6</span> | puerto baquerizo moreno\n",
       "</pre>\n"
      ],
      "text/plain": [
       "Processing Record \u001b[1;36m26\u001b[0m of Set \u001b[1;36m6\u001b[0m | puerto baquerizo moreno\n"
      ]
     },
     "metadata": {},
     "output_type": "display_data"
    },
    {
     "data": {
      "text/html": [
       "<pre style=\"white-space:pre;overflow-x:auto;line-height:normal;font-family:Menlo,'DejaVu Sans Mono',consolas,'Courier New',monospace\">Processing Record <span style=\"color: #008080; text-decoration-color: #008080; font-weight: bold\">27</span> of Set <span style=\"color: #008080; text-decoration-color: #008080; font-weight: bold\">6</span> | hoopstad\n",
       "</pre>\n"
      ],
      "text/plain": [
       "Processing Record \u001b[1;36m27\u001b[0m of Set \u001b[1;36m6\u001b[0m | hoopstad\n"
      ]
     },
     "metadata": {},
     "output_type": "display_data"
    },
    {
     "data": {
      "text/html": [
       "<pre style=\"white-space:pre;overflow-x:auto;line-height:normal;font-family:Menlo,'DejaVu Sans Mono',consolas,'Courier New',monospace\">Processing Record <span style=\"color: #008080; text-decoration-color: #008080; font-weight: bold\">28</span> of Set <span style=\"color: #008080; text-decoration-color: #008080; font-weight: bold\">6</span> | mogadishu\n",
       "</pre>\n"
      ],
      "text/plain": [
       "Processing Record \u001b[1;36m28\u001b[0m of Set \u001b[1;36m6\u001b[0m | mogadishu\n"
      ]
     },
     "metadata": {},
     "output_type": "display_data"
    },
    {
     "data": {
      "text/html": [
       "<pre style=\"white-space:pre;overflow-x:auto;line-height:normal;font-family:Menlo,'DejaVu Sans Mono',consolas,'Courier New',monospace\">Processing Record <span style=\"color: #008080; text-decoration-color: #008080; font-weight: bold\">29</span> of Set <span style=\"color: #008080; text-decoration-color: #008080; font-weight: bold\">6</span> | klyuchi\n",
       "</pre>\n"
      ],
      "text/plain": [
       "Processing Record \u001b[1;36m29\u001b[0m of Set \u001b[1;36m6\u001b[0m | klyuchi\n"
      ]
     },
     "metadata": {},
     "output_type": "display_data"
    },
    {
     "data": {
      "text/html": [
       "<pre style=\"white-space:pre;overflow-x:auto;line-height:normal;font-family:Menlo,'DejaVu Sans Mono',consolas,'Courier New',monospace\">Processing Record <span style=\"color: #008080; text-decoration-color: #008080; font-weight: bold\">30</span> of Set <span style=\"color: #008080; text-decoration-color: #008080; font-weight: bold\">6</span> | latacunga\n",
       "</pre>\n"
      ],
      "text/plain": [
       "Processing Record \u001b[1;36m30\u001b[0m of Set \u001b[1;36m6\u001b[0m | latacunga\n"
      ]
     },
     "metadata": {},
     "output_type": "display_data"
    },
    {
     "data": {
      "text/html": [
       "<pre style=\"white-space:pre;overflow-x:auto;line-height:normal;font-family:Menlo,'DejaVu Sans Mono',consolas,'Courier New',monospace\">Processing Record <span style=\"color: #008080; text-decoration-color: #008080; font-weight: bold\">31</span> of Set <span style=\"color: #008080; text-decoration-color: #008080; font-weight: bold\">6</span> | kani keli\n",
       "</pre>\n"
      ],
      "text/plain": [
       "Processing Record \u001b[1;36m31\u001b[0m of Set \u001b[1;36m6\u001b[0m | kani keli\n"
      ]
     },
     "metadata": {},
     "output_type": "display_data"
    },
    {
     "data": {
      "text/html": [
       "<pre style=\"white-space:pre;overflow-x:auto;line-height:normal;font-family:Menlo,'DejaVu Sans Mono',consolas,'Courier New',monospace\">Processing Record <span style=\"color: #008080; text-decoration-color: #008080; font-weight: bold\">32</span> of Set <span style=\"color: #008080; text-decoration-color: #008080; font-weight: bold\">6</span> | zhuanghe\n",
       "</pre>\n"
      ],
      "text/plain": [
       "Processing Record \u001b[1;36m32\u001b[0m of Set \u001b[1;36m6\u001b[0m | zhuanghe\n"
      ]
     },
     "metadata": {},
     "output_type": "display_data"
    },
    {
     "data": {
      "text/html": [
       "<pre style=\"white-space:pre;overflow-x:auto;line-height:normal;font-family:Menlo,'DejaVu Sans Mono',consolas,'Courier New',monospace\">Processing Record <span style=\"color: #008080; text-decoration-color: #008080; font-weight: bold\">33</span> of Set <span style=\"color: #008080; text-decoration-color: #008080; font-weight: bold\">6</span> | jijel\n",
       "</pre>\n"
      ],
      "text/plain": [
       "Processing Record \u001b[1;36m33\u001b[0m of Set \u001b[1;36m6\u001b[0m | jijel\n"
      ]
     },
     "metadata": {},
     "output_type": "display_data"
    },
    {
     "data": {
      "text/html": [
       "<pre style=\"white-space:pre;overflow-x:auto;line-height:normal;font-family:Menlo,'DejaVu Sans Mono',consolas,'Courier New',monospace\">Processing Record <span style=\"color: #008080; text-decoration-color: #008080; font-weight: bold\">34</span> of Set <span style=\"color: #008080; text-decoration-color: #008080; font-weight: bold\">6</span> | basco\n",
       "</pre>\n"
      ],
      "text/plain": [
       "Processing Record \u001b[1;36m34\u001b[0m of Set \u001b[1;36m6\u001b[0m | basco\n"
      ]
     },
     "metadata": {},
     "output_type": "display_data"
    },
    {
     "data": {
      "text/html": [
       "<pre style=\"white-space:pre;overflow-x:auto;line-height:normal;font-family:Menlo,'DejaVu Sans Mono',consolas,'Courier New',monospace\">Processing Record <span style=\"color: #008080; text-decoration-color: #008080; font-weight: bold\">35</span> of Set <span style=\"color: #008080; text-decoration-color: #008080; font-weight: bold\">6</span> | waddan\n",
       "</pre>\n"
      ],
      "text/plain": [
       "Processing Record \u001b[1;36m35\u001b[0m of Set \u001b[1;36m6\u001b[0m | waddan\n"
      ]
     },
     "metadata": {},
     "output_type": "display_data"
    },
    {
     "data": {
      "text/html": [
       "<pre style=\"white-space:pre;overflow-x:auto;line-height:normal;font-family:Menlo,'DejaVu Sans Mono',consolas,'Courier New',monospace\">Processing Record <span style=\"color: #008080; text-decoration-color: #008080; font-weight: bold\">36</span> of Set <span style=\"color: #008080; text-decoration-color: #008080; font-weight: bold\">6</span> | rifle\n",
       "</pre>\n"
      ],
      "text/plain": [
       "Processing Record \u001b[1;36m36\u001b[0m of Set \u001b[1;36m6\u001b[0m | rifle\n"
      ]
     },
     "metadata": {},
     "output_type": "display_data"
    },
    {
     "data": {
      "text/html": [
       "<pre style=\"white-space:pre;overflow-x:auto;line-height:normal;font-family:Menlo,'DejaVu Sans Mono',consolas,'Courier New',monospace\">Processing Record <span style=\"color: #008080; text-decoration-color: #008080; font-weight: bold\">37</span> of Set <span style=\"color: #008080; text-decoration-color: #008080; font-weight: bold\">6</span> | bukama\n",
       "</pre>\n"
      ],
      "text/plain": [
       "Processing Record \u001b[1;36m37\u001b[0m of Set \u001b[1;36m6\u001b[0m | bukama\n"
      ]
     },
     "metadata": {},
     "output_type": "display_data"
    },
    {
     "data": {
      "text/html": [
       "<pre style=\"white-space:pre;overflow-x:auto;line-height:normal;font-family:Menlo,'DejaVu Sans Mono',consolas,'Courier New',monospace\">Processing Record <span style=\"color: #008080; text-decoration-color: #008080; font-weight: bold\">38</span> of Set <span style=\"color: #008080; text-decoration-color: #008080; font-weight: bold\">6</span> | lianran\n",
       "</pre>\n"
      ],
      "text/plain": [
       "Processing Record \u001b[1;36m38\u001b[0m of Set \u001b[1;36m6\u001b[0m | lianran\n"
      ]
     },
     "metadata": {},
     "output_type": "display_data"
    },
    {
     "data": {
      "text/html": [
       "<pre style=\"white-space:pre;overflow-x:auto;line-height:normal;font-family:Menlo,'DejaVu Sans Mono',consolas,'Courier New',monospace\">Processing Record <span style=\"color: #008080; text-decoration-color: #008080; font-weight: bold\">39</span> of Set <span style=\"color: #008080; text-decoration-color: #008080; font-weight: bold\">6</span> | agat village\n",
       "</pre>\n"
      ],
      "text/plain": [
       "Processing Record \u001b[1;36m39\u001b[0m of Set \u001b[1;36m6\u001b[0m | agat village\n"
      ]
     },
     "metadata": {},
     "output_type": "display_data"
    },
    {
     "data": {
      "text/html": [
       "<pre style=\"white-space:pre;overflow-x:auto;line-height:normal;font-family:Menlo,'DejaVu Sans Mono',consolas,'Courier New',monospace\">Processing Record <span style=\"color: #008080; text-decoration-color: #008080; font-weight: bold\">40</span> of Set <span style=\"color: #008080; text-decoration-color: #008080; font-weight: bold\">6</span> | juneau\n",
       "</pre>\n"
      ],
      "text/plain": [
       "Processing Record \u001b[1;36m40\u001b[0m of Set \u001b[1;36m6\u001b[0m | juneau\n"
      ]
     },
     "metadata": {},
     "output_type": "display_data"
    },
    {
     "data": {
      "text/html": [
       "<pre style=\"white-space:pre;overflow-x:auto;line-height:normal;font-family:Menlo,'DejaVu Sans Mono',consolas,'Courier New',monospace\">Processing Record <span style=\"color: #008080; text-decoration-color: #008080; font-weight: bold\">41</span> of Set <span style=\"color: #008080; text-decoration-color: #008080; font-weight: bold\">6</span> | ayod\n",
       "</pre>\n"
      ],
      "text/plain": [
       "Processing Record \u001b[1;36m41\u001b[0m of Set \u001b[1;36m6\u001b[0m | ayod\n"
      ]
     },
     "metadata": {},
     "output_type": "display_data"
    },
    {
     "data": {
      "text/html": [
       "<pre style=\"white-space:pre;overflow-x:auto;line-height:normal;font-family:Menlo,'DejaVu Sans Mono',consolas,'Courier New',monospace\">City not found. Skipping<span style=\"color: #808000; text-decoration-color: #808000\">...</span>\n",
       "</pre>\n"
      ],
      "text/plain": [
       "City not found. Skipping\u001b[33m...\u001b[0m\n"
      ]
     },
     "metadata": {},
     "output_type": "display_data"
    },
    {
     "data": {
      "text/html": [
       "<pre style=\"white-space:pre;overflow-x:auto;line-height:normal;font-family:Menlo,'DejaVu Sans Mono',consolas,'Courier New',monospace\">Processing Record <span style=\"color: #008080; text-decoration-color: #008080; font-weight: bold\">42</span> of Set <span style=\"color: #008080; text-decoration-color: #008080; font-weight: bold\">6</span> | malpica\n",
       "</pre>\n"
      ],
      "text/plain": [
       "Processing Record \u001b[1;36m42\u001b[0m of Set \u001b[1;36m6\u001b[0m | malpica\n"
      ]
     },
     "metadata": {},
     "output_type": "display_data"
    },
    {
     "data": {
      "text/html": [
       "<pre style=\"white-space:pre;overflow-x:auto;line-height:normal;font-family:Menlo,'DejaVu Sans Mono',consolas,'Courier New',monospace\">Processing Record <span style=\"color: #008080; text-decoration-color: #008080; font-weight: bold\">43</span> of Set <span style=\"color: #008080; text-decoration-color: #008080; font-weight: bold\">6</span> | nurmijarvi\n",
       "</pre>\n"
      ],
      "text/plain": [
       "Processing Record \u001b[1;36m43\u001b[0m of Set \u001b[1;36m6\u001b[0m | nurmijarvi\n"
      ]
     },
     "metadata": {},
     "output_type": "display_data"
    },
    {
     "data": {
      "text/html": [
       "<pre style=\"white-space:pre;overflow-x:auto;line-height:normal;font-family:Menlo,'DejaVu Sans Mono',consolas,'Courier New',monospace\">Processing Record <span style=\"color: #008080; text-decoration-color: #008080; font-weight: bold\">44</span> of Set <span style=\"color: #008080; text-decoration-color: #008080; font-weight: bold\">6</span> | al bayda'\n",
       "</pre>\n"
      ],
      "text/plain": [
       "Processing Record \u001b[1;36m44\u001b[0m of Set \u001b[1;36m6\u001b[0m | al bayda'\n"
      ]
     },
     "metadata": {},
     "output_type": "display_data"
    },
    {
     "data": {
      "text/html": [
       "<pre style=\"white-space:pre;overflow-x:auto;line-height:normal;font-family:Menlo,'DejaVu Sans Mono',consolas,'Courier New',monospace\">Processing Record <span style=\"color: #008080; text-decoration-color: #008080; font-weight: bold\">45</span> of Set <span style=\"color: #008080; text-decoration-color: #008080; font-weight: bold\">6</span> | mizan teferi\n",
       "</pre>\n"
      ],
      "text/plain": [
       "Processing Record \u001b[1;36m45\u001b[0m of Set \u001b[1;36m6\u001b[0m | mizan teferi\n"
      ]
     },
     "metadata": {},
     "output_type": "display_data"
    },
    {
     "data": {
      "text/html": [
       "<pre style=\"white-space:pre;overflow-x:auto;line-height:normal;font-family:Menlo,'DejaVu Sans Mono',consolas,'Courier New',monospace\">Processing Record <span style=\"color: #008080; text-decoration-color: #008080; font-weight: bold\">46</span> of Set <span style=\"color: #008080; text-decoration-color: #008080; font-weight: bold\">6</span> | gueret\n",
       "</pre>\n"
      ],
      "text/plain": [
       "Processing Record \u001b[1;36m46\u001b[0m of Set \u001b[1;36m6\u001b[0m | gueret\n"
      ]
     },
     "metadata": {},
     "output_type": "display_data"
    },
    {
     "data": {
      "text/html": [
       "<pre style=\"white-space:pre;overflow-x:auto;line-height:normal;font-family:Menlo,'DejaVu Sans Mono',consolas,'Courier New',monospace\">Processing Record <span style=\"color: #008080; text-decoration-color: #008080; font-weight: bold\">47</span> of Set <span style=\"color: #008080; text-decoration-color: #008080; font-weight: bold\">6</span> | nikolayevsk-on-amure\n",
       "</pre>\n"
      ],
      "text/plain": [
       "Processing Record \u001b[1;36m47\u001b[0m of Set \u001b[1;36m6\u001b[0m | nikolayevsk-on-amure\n"
      ]
     },
     "metadata": {},
     "output_type": "display_data"
    },
    {
     "data": {
      "text/html": [
       "<pre style=\"white-space:pre;overflow-x:auto;line-height:normal;font-family:Menlo,'DejaVu Sans Mono',consolas,'Courier New',monospace\">Processing Record <span style=\"color: #008080; text-decoration-color: #008080; font-weight: bold\">48</span> of Set <span style=\"color: #008080; text-decoration-color: #008080; font-weight: bold\">6</span> | cockburn town\n",
       "</pre>\n"
      ],
      "text/plain": [
       "Processing Record \u001b[1;36m48\u001b[0m of Set \u001b[1;36m6\u001b[0m | cockburn town\n"
      ]
     },
     "metadata": {},
     "output_type": "display_data"
    },
    {
     "data": {
      "text/html": [
       "<pre style=\"white-space:pre;overflow-x:auto;line-height:normal;font-family:Menlo,'DejaVu Sans Mono',consolas,'Courier New',monospace\">Processing Record <span style=\"color: #008080; text-decoration-color: #008080; font-weight: bold\">49</span> of Set <span style=\"color: #008080; text-decoration-color: #008080; font-weight: bold\">6</span> | fortuna\n",
       "</pre>\n"
      ],
      "text/plain": [
       "Processing Record \u001b[1;36m49\u001b[0m of Set \u001b[1;36m6\u001b[0m | fortuna\n"
      ]
     },
     "metadata": {},
     "output_type": "display_data"
    },
    {
     "data": {
      "text/html": [
       "<pre style=\"white-space:pre;overflow-x:auto;line-height:normal;font-family:Menlo,'DejaVu Sans Mono',consolas,'Courier New',monospace\">Processing Record <span style=\"color: #008080; text-decoration-color: #008080; font-weight: bold\">0</span> of Set <span style=\"color: #008080; text-decoration-color: #008080; font-weight: bold\">7</span> | labuan\n",
       "</pre>\n"
      ],
      "text/plain": [
       "Processing Record \u001b[1;36m0\u001b[0m of Set \u001b[1;36m7\u001b[0m | labuan\n"
      ]
     },
     "metadata": {},
     "output_type": "display_data"
    },
    {
     "data": {
      "text/html": [
       "<pre style=\"white-space:pre;overflow-x:auto;line-height:normal;font-family:Menlo,'DejaVu Sans Mono',consolas,'Courier New',monospace\">Processing Record <span style=\"color: #008080; text-decoration-color: #008080; font-weight: bold\">1</span> of Set <span style=\"color: #008080; text-decoration-color: #008080; font-weight: bold\">7</span> | bandarbeyla\n",
       "</pre>\n"
      ],
      "text/plain": [
       "Processing Record \u001b[1;36m1\u001b[0m of Set \u001b[1;36m7\u001b[0m | bandarbeyla\n"
      ]
     },
     "metadata": {},
     "output_type": "display_data"
    },
    {
     "data": {
      "text/html": [
       "<pre style=\"white-space:pre;overflow-x:auto;line-height:normal;font-family:Menlo,'DejaVu Sans Mono',consolas,'Courier New',monospace\">Processing Record <span style=\"color: #008080; text-decoration-color: #008080; font-weight: bold\">2</span> of Set <span style=\"color: #008080; text-decoration-color: #008080; font-weight: bold\">7</span> | buritis\n",
       "</pre>\n"
      ],
      "text/plain": [
       "Processing Record \u001b[1;36m2\u001b[0m of Set \u001b[1;36m7\u001b[0m | buritis\n"
      ]
     },
     "metadata": {},
     "output_type": "display_data"
    },
    {
     "data": {
      "text/html": [
       "<pre style=\"white-space:pre;overflow-x:auto;line-height:normal;font-family:Menlo,'DejaVu Sans Mono',consolas,'Courier New',monospace\">Processing Record <span style=\"color: #008080; text-decoration-color: #008080; font-weight: bold\">3</span> of Set <span style=\"color: #008080; text-decoration-color: #008080; font-weight: bold\">7</span> | naryn\n",
       "</pre>\n"
      ],
      "text/plain": [
       "Processing Record \u001b[1;36m3\u001b[0m of Set \u001b[1;36m7\u001b[0m | naryn\n"
      ]
     },
     "metadata": {},
     "output_type": "display_data"
    },
    {
     "data": {
      "text/html": [
       "<pre style=\"white-space:pre;overflow-x:auto;line-height:normal;font-family:Menlo,'DejaVu Sans Mono',consolas,'Courier New',monospace\">Processing Record <span style=\"color: #008080; text-decoration-color: #008080; font-weight: bold\">4</span> of Set <span style=\"color: #008080; text-decoration-color: #008080; font-weight: bold\">7</span> | holualoa\n",
       "</pre>\n"
      ],
      "text/plain": [
       "Processing Record \u001b[1;36m4\u001b[0m of Set \u001b[1;36m7\u001b[0m | holualoa\n"
      ]
     },
     "metadata": {},
     "output_type": "display_data"
    },
    {
     "data": {
      "text/html": [
       "<pre style=\"white-space:pre;overflow-x:auto;line-height:normal;font-family:Menlo,'DejaVu Sans Mono',consolas,'Courier New',monospace\">Processing Record <span style=\"color: #008080; text-decoration-color: #008080; font-weight: bold\">5</span> of Set <span style=\"color: #008080; text-decoration-color: #008080; font-weight: bold\">7</span> | spanish springs\n",
       "</pre>\n"
      ],
      "text/plain": [
       "Processing Record \u001b[1;36m5\u001b[0m of Set \u001b[1;36m7\u001b[0m | spanish springs\n"
      ]
     },
     "metadata": {},
     "output_type": "display_data"
    },
    {
     "data": {
      "text/html": [
       "<pre style=\"white-space:pre;overflow-x:auto;line-height:normal;font-family:Menlo,'DejaVu Sans Mono',consolas,'Courier New',monospace\">Processing Record <span style=\"color: #008080; text-decoration-color: #008080; font-weight: bold\">6</span> of Set <span style=\"color: #008080; text-decoration-color: #008080; font-weight: bold\">7</span> | tafuna\n",
       "</pre>\n"
      ],
      "text/plain": [
       "Processing Record \u001b[1;36m6\u001b[0m of Set \u001b[1;36m7\u001b[0m | tafuna\n"
      ]
     },
     "metadata": {},
     "output_type": "display_data"
    },
    {
     "data": {
      "text/html": [
       "<pre style=\"white-space:pre;overflow-x:auto;line-height:normal;font-family:Menlo,'DejaVu Sans Mono',consolas,'Courier New',monospace\">Processing Record <span style=\"color: #008080; text-decoration-color: #008080; font-weight: bold\">7</span> of Set <span style=\"color: #008080; text-decoration-color: #008080; font-weight: bold\">7</span> | pucheng\n",
       "</pre>\n"
      ],
      "text/plain": [
       "Processing Record \u001b[1;36m7\u001b[0m of Set \u001b[1;36m7\u001b[0m | pucheng\n"
      ]
     },
     "metadata": {},
     "output_type": "display_data"
    },
    {
     "data": {
      "text/html": [
       "<pre style=\"white-space:pre;overflow-x:auto;line-height:normal;font-family:Menlo,'DejaVu Sans Mono',consolas,'Courier New',monospace\">Processing Record <span style=\"color: #008080; text-decoration-color: #008080; font-weight: bold\">8</span> of Set <span style=\"color: #008080; text-decoration-color: #008080; font-weight: bold\">7</span> | selfoss\n",
       "</pre>\n"
      ],
      "text/plain": [
       "Processing Record \u001b[1;36m8\u001b[0m of Set \u001b[1;36m7\u001b[0m | selfoss\n"
      ]
     },
     "metadata": {},
     "output_type": "display_data"
    },
    {
     "data": {
      "text/html": [
       "<pre style=\"white-space:pre;overflow-x:auto;line-height:normal;font-family:Menlo,'DejaVu Sans Mono',consolas,'Courier New',monospace\">Processing Record <span style=\"color: #008080; text-decoration-color: #008080; font-weight: bold\">9</span> of Set <span style=\"color: #008080; text-decoration-color: #008080; font-weight: bold\">7</span> | bishkul\n",
       "</pre>\n"
      ],
      "text/plain": [
       "Processing Record \u001b[1;36m9\u001b[0m of Set \u001b[1;36m7\u001b[0m | bishkul\n"
      ]
     },
     "metadata": {},
     "output_type": "display_data"
    },
    {
     "data": {
      "text/html": [
       "<pre style=\"white-space:pre;overflow-x:auto;line-height:normal;font-family:Menlo,'DejaVu Sans Mono',consolas,'Courier New',monospace\">Processing Record <span style=\"color: #008080; text-decoration-color: #008080; font-weight: bold\">10</span> of Set <span style=\"color: #008080; text-decoration-color: #008080; font-weight: bold\">7</span> | tual\n",
       "</pre>\n"
      ],
      "text/plain": [
       "Processing Record \u001b[1;36m10\u001b[0m of Set \u001b[1;36m7\u001b[0m | tual\n"
      ]
     },
     "metadata": {},
     "output_type": "display_data"
    },
    {
     "data": {
      "text/html": [
       "<pre style=\"white-space:pre;overflow-x:auto;line-height:normal;font-family:Menlo,'DejaVu Sans Mono',consolas,'Courier New',monospace\">Processing Record <span style=\"color: #008080; text-decoration-color: #008080; font-weight: bold\">11</span> of Set <span style=\"color: #008080; text-decoration-color: #008080; font-weight: bold\">7</span> | globe\n",
       "</pre>\n"
      ],
      "text/plain": [
       "Processing Record \u001b[1;36m11\u001b[0m of Set \u001b[1;36m7\u001b[0m | globe\n"
      ]
     },
     "metadata": {},
     "output_type": "display_data"
    },
    {
     "data": {
      "text/html": [
       "<pre style=\"white-space:pre;overflow-x:auto;line-height:normal;font-family:Menlo,'DejaVu Sans Mono',consolas,'Courier New',monospace\">City not found. Skipping<span style=\"color: #808000; text-decoration-color: #808000\">...</span>\n",
       "</pre>\n"
      ],
      "text/plain": [
       "City not found. Skipping\u001b[33m...\u001b[0m\n"
      ]
     },
     "metadata": {},
     "output_type": "display_data"
    },
    {
     "data": {
      "text/html": [
       "<pre style=\"white-space:pre;overflow-x:auto;line-height:normal;font-family:Menlo,'DejaVu Sans Mono',consolas,'Courier New',monospace\">Processing Record <span style=\"color: #008080; text-decoration-color: #008080; font-weight: bold\">12</span> of Set <span style=\"color: #008080; text-decoration-color: #008080; font-weight: bold\">7</span> | olhao\n",
       "</pre>\n"
      ],
      "text/plain": [
       "Processing Record \u001b[1;36m12\u001b[0m of Set \u001b[1;36m7\u001b[0m | olhao\n"
      ]
     },
     "metadata": {},
     "output_type": "display_data"
    },
    {
     "data": {
      "text/html": [
       "<pre style=\"white-space:pre;overflow-x:auto;line-height:normal;font-family:Menlo,'DejaVu Sans Mono',consolas,'Courier New',monospace\">Processing Record <span style=\"color: #008080; text-decoration-color: #008080; font-weight: bold\">13</span> of Set <span style=\"color: #008080; text-decoration-color: #008080; font-weight: bold\">7</span> | jayapura\n",
       "</pre>\n"
      ],
      "text/plain": [
       "Processing Record \u001b[1;36m13\u001b[0m of Set \u001b[1;36m7\u001b[0m | jayapura\n"
      ]
     },
     "metadata": {},
     "output_type": "display_data"
    },
    {
     "data": {
      "text/html": [
       "<pre style=\"white-space:pre;overflow-x:auto;line-height:normal;font-family:Menlo,'DejaVu Sans Mono',consolas,'Courier New',monospace\">Processing Record <span style=\"color: #008080; text-decoration-color: #008080; font-weight: bold\">14</span> of Set <span style=\"color: #008080; text-decoration-color: #008080; font-weight: bold\">7</span> | ordos\n",
       "</pre>\n"
      ],
      "text/plain": [
       "Processing Record \u001b[1;36m14\u001b[0m of Set \u001b[1;36m7\u001b[0m | ordos\n"
      ]
     },
     "metadata": {},
     "output_type": "display_data"
    },
    {
     "data": {
      "text/html": [
       "<pre style=\"white-space:pre;overflow-x:auto;line-height:normal;font-family:Menlo,'DejaVu Sans Mono',consolas,'Courier New',monospace\">City not found. Skipping<span style=\"color: #808000; text-decoration-color: #808000\">...</span>\n",
       "</pre>\n"
      ],
      "text/plain": [
       "City not found. Skipping\u001b[33m...\u001b[0m\n"
      ]
     },
     "metadata": {},
     "output_type": "display_data"
    },
    {
     "data": {
      "text/html": [
       "<pre style=\"white-space:pre;overflow-x:auto;line-height:normal;font-family:Menlo,'DejaVu Sans Mono',consolas,'Courier New',monospace\">Processing Record <span style=\"color: #008080; text-decoration-color: #008080; font-weight: bold\">15</span> of Set <span style=\"color: #008080; text-decoration-color: #008080; font-weight: bold\">7</span> | al ghayzah\n",
       "</pre>\n"
      ],
      "text/plain": [
       "Processing Record \u001b[1;36m15\u001b[0m of Set \u001b[1;36m7\u001b[0m | al ghayzah\n"
      ]
     },
     "metadata": {},
     "output_type": "display_data"
    },
    {
     "data": {
      "text/html": [
       "<pre style=\"white-space:pre;overflow-x:auto;line-height:normal;font-family:Menlo,'DejaVu Sans Mono',consolas,'Courier New',monospace\">Processing Record <span style=\"color: #008080; text-decoration-color: #008080; font-weight: bold\">16</span> of Set <span style=\"color: #008080; text-decoration-color: #008080; font-weight: bold\">7</span> | taksimo\n",
       "</pre>\n"
      ],
      "text/plain": [
       "Processing Record \u001b[1;36m16\u001b[0m of Set \u001b[1;36m7\u001b[0m | taksimo\n"
      ]
     },
     "metadata": {},
     "output_type": "display_data"
    },
    {
     "data": {
      "text/html": [
       "<pre style=\"white-space:pre;overflow-x:auto;line-height:normal;font-family:Menlo,'DejaVu Sans Mono',consolas,'Courier New',monospace\">Processing Record <span style=\"color: #008080; text-decoration-color: #008080; font-weight: bold\">17</span> of Set <span style=\"color: #008080; text-decoration-color: #008080; font-weight: bold\">7</span> | hammerfest\n",
       "</pre>\n"
      ],
      "text/plain": [
       "Processing Record \u001b[1;36m17\u001b[0m of Set \u001b[1;36m7\u001b[0m | hammerfest\n"
      ]
     },
     "metadata": {},
     "output_type": "display_data"
    },
    {
     "data": {
      "text/html": [
       "<pre style=\"white-space:pre;overflow-x:auto;line-height:normal;font-family:Menlo,'DejaVu Sans Mono',consolas,'Courier New',monospace\">Processing Record <span style=\"color: #008080; text-decoration-color: #008080; font-weight: bold\">18</span> of Set <span style=\"color: #008080; text-decoration-color: #008080; font-weight: bold\">7</span> | babylon\n",
       "</pre>\n"
      ],
      "text/plain": [
       "Processing Record \u001b[1;36m18\u001b[0m of Set \u001b[1;36m7\u001b[0m | babylon\n"
      ]
     },
     "metadata": {},
     "output_type": "display_data"
    },
    {
     "data": {
      "text/html": [
       "<pre style=\"white-space:pre;overflow-x:auto;line-height:normal;font-family:Menlo,'DejaVu Sans Mono',consolas,'Courier New',monospace\">Processing Record <span style=\"color: #008080; text-decoration-color: #008080; font-weight: bold\">19</span> of Set <span style=\"color: #008080; text-decoration-color: #008080; font-weight: bold\">7</span> | mbandaka\n",
       "</pre>\n"
      ],
      "text/plain": [
       "Processing Record \u001b[1;36m19\u001b[0m of Set \u001b[1;36m7\u001b[0m | mbandaka\n"
      ]
     },
     "metadata": {},
     "output_type": "display_data"
    },
    {
     "data": {
      "text/html": [
       "<pre style=\"white-space:pre;overflow-x:auto;line-height:normal;font-family:Menlo,'DejaVu Sans Mono',consolas,'Courier New',monospace\">Processing Record <span style=\"color: #008080; text-decoration-color: #008080; font-weight: bold\">20</span> of Set <span style=\"color: #008080; text-decoration-color: #008080; font-weight: bold\">7</span> | hafar al-batin\n",
       "</pre>\n"
      ],
      "text/plain": [
       "Processing Record \u001b[1;36m20\u001b[0m of Set \u001b[1;36m7\u001b[0m | hafar al-batin\n"
      ]
     },
     "metadata": {},
     "output_type": "display_data"
    },
    {
     "data": {
      "text/html": [
       "<pre style=\"white-space:pre;overflow-x:auto;line-height:normal;font-family:Menlo,'DejaVu Sans Mono',consolas,'Courier New',monospace\">Processing Record <span style=\"color: #008080; text-decoration-color: #008080; font-weight: bold\">21</span> of Set <span style=\"color: #008080; text-decoration-color: #008080; font-weight: bold\">7</span> | pasuquin\n",
       "</pre>\n"
      ],
      "text/plain": [
       "Processing Record \u001b[1;36m21\u001b[0m of Set \u001b[1;36m7\u001b[0m | pasuquin\n"
      ]
     },
     "metadata": {},
     "output_type": "display_data"
    },
    {
     "data": {
      "text/html": [
       "<pre style=\"white-space:pre;overflow-x:auto;line-height:normal;font-family:Menlo,'DejaVu Sans Mono',consolas,'Courier New',monospace\">Processing Record <span style=\"color: #008080; text-decoration-color: #008080; font-weight: bold\">22</span> of Set <span style=\"color: #008080; text-decoration-color: #008080; font-weight: bold\">7</span> | quang ngai\n",
       "</pre>\n"
      ],
      "text/plain": [
       "Processing Record \u001b[1;36m22\u001b[0m of Set \u001b[1;36m7\u001b[0m | quang ngai\n"
      ]
     },
     "metadata": {},
     "output_type": "display_data"
    },
    {
     "data": {
      "text/html": [
       "<pre style=\"white-space:pre;overflow-x:auto;line-height:normal;font-family:Menlo,'DejaVu Sans Mono',consolas,'Courier New',monospace\">Processing Record <span style=\"color: #008080; text-decoration-color: #008080; font-weight: bold\">23</span> of Set <span style=\"color: #008080; text-decoration-color: #008080; font-weight: bold\">7</span> | geraldton\n",
       "</pre>\n"
      ],
      "text/plain": [
       "Processing Record \u001b[1;36m23\u001b[0m of Set \u001b[1;36m7\u001b[0m | geraldton\n"
      ]
     },
     "metadata": {},
     "output_type": "display_data"
    },
    {
     "data": {
      "text/html": [
       "<pre style=\"white-space:pre;overflow-x:auto;line-height:normal;font-family:Menlo,'DejaVu Sans Mono',consolas,'Courier New',monospace\">Processing Record <span style=\"color: #008080; text-decoration-color: #008080; font-weight: bold\">24</span> of Set <span style=\"color: #008080; text-decoration-color: #008080; font-weight: bold\">7</span> | malindi\n",
       "</pre>\n"
      ],
      "text/plain": [
       "Processing Record \u001b[1;36m24\u001b[0m of Set \u001b[1;36m7\u001b[0m | malindi\n"
      ]
     },
     "metadata": {},
     "output_type": "display_data"
    },
    {
     "data": {
      "text/html": [
       "<pre style=\"white-space:pre;overflow-x:auto;line-height:normal;font-family:Menlo,'DejaVu Sans Mono',consolas,'Courier New',monospace\">Processing Record <span style=\"color: #008080; text-decoration-color: #008080; font-weight: bold\">25</span> of Set <span style=\"color: #008080; text-decoration-color: #008080; font-weight: bold\">7</span> | port alberni\n",
       "</pre>\n"
      ],
      "text/plain": [
       "Processing Record \u001b[1;36m25\u001b[0m of Set \u001b[1;36m7\u001b[0m | port alberni\n"
      ]
     },
     "metadata": {},
     "output_type": "display_data"
    },
    {
     "data": {
      "text/html": [
       "<pre style=\"white-space:pre;overflow-x:auto;line-height:normal;font-family:Menlo,'DejaVu Sans Mono',consolas,'Courier New',monospace\">Processing Record <span style=\"color: #008080; text-decoration-color: #008080; font-weight: bold\">26</span> of Set <span style=\"color: #008080; text-decoration-color: #008080; font-weight: bold\">7</span> | tataouine\n",
       "</pre>\n"
      ],
      "text/plain": [
       "Processing Record \u001b[1;36m26\u001b[0m of Set \u001b[1;36m7\u001b[0m | tataouine\n"
      ]
     },
     "metadata": {},
     "output_type": "display_data"
    },
    {
     "data": {
      "text/html": [
       "<pre style=\"white-space:pre;overflow-x:auto;line-height:normal;font-family:Menlo,'DejaVu Sans Mono',consolas,'Courier New',monospace\">Processing Record <span style=\"color: #008080; text-decoration-color: #008080; font-weight: bold\">27</span> of Set <span style=\"color: #008080; text-decoration-color: #008080; font-weight: bold\">7</span> | bamboo flat\n",
       "</pre>\n"
      ],
      "text/plain": [
       "Processing Record \u001b[1;36m27\u001b[0m of Set \u001b[1;36m7\u001b[0m | bamboo flat\n"
      ]
     },
     "metadata": {},
     "output_type": "display_data"
    },
    {
     "data": {
      "text/html": [
       "<pre style=\"white-space:pre;overflow-x:auto;line-height:normal;font-family:Menlo,'DejaVu Sans Mono',consolas,'Courier New',monospace\">Processing Record <span style=\"color: #008080; text-decoration-color: #008080; font-weight: bold\">28</span> of Set <span style=\"color: #008080; text-decoration-color: #008080; font-weight: bold\">7</span> | lompoc\n",
       "</pre>\n"
      ],
      "text/plain": [
       "Processing Record \u001b[1;36m28\u001b[0m of Set \u001b[1;36m7\u001b[0m | lompoc\n"
      ]
     },
     "metadata": {},
     "output_type": "display_data"
    },
    {
     "data": {
      "text/html": [
       "<pre style=\"white-space:pre;overflow-x:auto;line-height:normal;font-family:Menlo,'DejaVu Sans Mono',consolas,'Courier New',monospace\">Processing Record <span style=\"color: #008080; text-decoration-color: #008080; font-weight: bold\">29</span> of Set <span style=\"color: #008080; text-decoration-color: #008080; font-weight: bold\">7</span> | kenai\n",
       "</pre>\n"
      ],
      "text/plain": [
       "Processing Record \u001b[1;36m29\u001b[0m of Set \u001b[1;36m7\u001b[0m | kenai\n"
      ]
     },
     "metadata": {},
     "output_type": "display_data"
    },
    {
     "data": {
      "text/html": [
       "<pre style=\"white-space:pre;overflow-x:auto;line-height:normal;font-family:Menlo,'DejaVu Sans Mono',consolas,'Courier New',monospace\">Processing Record <span style=\"color: #008080; text-decoration-color: #008080; font-weight: bold\">30</span> of Set <span style=\"color: #008080; text-decoration-color: #008080; font-weight: bold\">7</span> | bruntal\n",
       "</pre>\n"
      ],
      "text/plain": [
       "Processing Record \u001b[1;36m30\u001b[0m of Set \u001b[1;36m7\u001b[0m | bruntal\n"
      ]
     },
     "metadata": {},
     "output_type": "display_data"
    },
    {
     "data": {
      "text/html": [
       "<pre style=\"white-space:pre;overflow-x:auto;line-height:normal;font-family:Menlo,'DejaVu Sans Mono',consolas,'Courier New',monospace\">Processing Record <span style=\"color: #008080; text-decoration-color: #008080; font-weight: bold\">31</span> of Set <span style=\"color: #008080; text-decoration-color: #008080; font-weight: bold\">7</span> | yoichi\n",
       "</pre>\n"
      ],
      "text/plain": [
       "Processing Record \u001b[1;36m31\u001b[0m of Set \u001b[1;36m7\u001b[0m | yoichi\n"
      ]
     },
     "metadata": {},
     "output_type": "display_data"
    },
    {
     "data": {
      "text/html": [
       "<pre style=\"white-space:pre;overflow-x:auto;line-height:normal;font-family:Menlo,'DejaVu Sans Mono',consolas,'Courier New',monospace\">Processing Record <span style=\"color: #008080; text-decoration-color: #008080; font-weight: bold\">32</span> of Set <span style=\"color: #008080; text-decoration-color: #008080; font-weight: bold\">7</span> | trairi\n",
       "</pre>\n"
      ],
      "text/plain": [
       "Processing Record \u001b[1;36m32\u001b[0m of Set \u001b[1;36m7\u001b[0m | trairi\n"
      ]
     },
     "metadata": {},
     "output_type": "display_data"
    },
    {
     "data": {
      "text/html": [
       "<pre style=\"white-space:pre;overflow-x:auto;line-height:normal;font-family:Menlo,'DejaVu Sans Mono',consolas,'Courier New',monospace\">Processing Record <span style=\"color: #008080; text-decoration-color: #008080; font-weight: bold\">33</span> of Set <span style=\"color: #008080; text-decoration-color: #008080; font-weight: bold\">7</span> | nema\n",
       "</pre>\n"
      ],
      "text/plain": [
       "Processing Record \u001b[1;36m33\u001b[0m of Set \u001b[1;36m7\u001b[0m | nema\n"
      ]
     },
     "metadata": {},
     "output_type": "display_data"
    },
    {
     "data": {
      "text/html": [
       "<pre style=\"white-space:pre;overflow-x:auto;line-height:normal;font-family:Menlo,'DejaVu Sans Mono',consolas,'Courier New',monospace\">Processing Record <span style=\"color: #008080; text-decoration-color: #008080; font-weight: bold\">34</span> of Set <span style=\"color: #008080; text-decoration-color: #008080; font-weight: bold\">7</span> | rio grande\n",
       "</pre>\n"
      ],
      "text/plain": [
       "Processing Record \u001b[1;36m34\u001b[0m of Set \u001b[1;36m7\u001b[0m | rio grande\n"
      ]
     },
     "metadata": {},
     "output_type": "display_data"
    },
    {
     "data": {
      "text/html": [
       "<pre style=\"white-space:pre;overflow-x:auto;line-height:normal;font-family:Menlo,'DejaVu Sans Mono',consolas,'Courier New',monospace\">Processing Record <span style=\"color: #008080; text-decoration-color: #008080; font-weight: bold\">35</span> of Set <span style=\"color: #008080; text-decoration-color: #008080; font-weight: bold\">7</span> | fremantle\n",
       "</pre>\n"
      ],
      "text/plain": [
       "Processing Record \u001b[1;36m35\u001b[0m of Set \u001b[1;36m7\u001b[0m | fremantle\n"
      ]
     },
     "metadata": {},
     "output_type": "display_data"
    },
    {
     "data": {
      "text/html": [
       "<pre style=\"white-space:pre;overflow-x:auto;line-height:normal;font-family:Menlo,'DejaVu Sans Mono',consolas,'Courier New',monospace\">Processing Record <span style=\"color: #008080; text-decoration-color: #008080; font-weight: bold\">36</span> of Set <span style=\"color: #008080; text-decoration-color: #008080; font-weight: bold\">7</span> | hadibu\n",
       "</pre>\n"
      ],
      "text/plain": [
       "Processing Record \u001b[1;36m36\u001b[0m of Set \u001b[1;36m7\u001b[0m | hadibu\n"
      ]
     },
     "metadata": {},
     "output_type": "display_data"
    },
    {
     "data": {
      "text/html": [
       "<pre style=\"white-space:pre;overflow-x:auto;line-height:normal;font-family:Menlo,'DejaVu Sans Mono',consolas,'Courier New',monospace\">Processing Record <span style=\"color: #008080; text-decoration-color: #008080; font-weight: bold\">37</span> of Set <span style=\"color: #008080; text-decoration-color: #008080; font-weight: bold\">7</span> | redencao\n",
       "</pre>\n"
      ],
      "text/plain": [
       "Processing Record \u001b[1;36m37\u001b[0m of Set \u001b[1;36m7\u001b[0m | redencao\n"
      ]
     },
     "metadata": {},
     "output_type": "display_data"
    },
    {
     "data": {
      "text/html": [
       "<pre style=\"white-space:pre;overflow-x:auto;line-height:normal;font-family:Menlo,'DejaVu Sans Mono',consolas,'Courier New',monospace\">Processing Record <span style=\"color: #008080; text-decoration-color: #008080; font-weight: bold\">38</span> of Set <span style=\"color: #008080; text-decoration-color: #008080; font-weight: bold\">7</span> | qazvin\n",
       "</pre>\n"
      ],
      "text/plain": [
       "Processing Record \u001b[1;36m38\u001b[0m of Set \u001b[1;36m7\u001b[0m | qazvin\n"
      ]
     },
     "metadata": {},
     "output_type": "display_data"
    },
    {
     "data": {
      "text/html": [
       "<pre style=\"white-space:pre;overflow-x:auto;line-height:normal;font-family:Menlo,'DejaVu Sans Mono',consolas,'Courier New',monospace\">Processing Record <span style=\"color: #008080; text-decoration-color: #008080; font-weight: bold\">39</span> of Set <span style=\"color: #008080; text-decoration-color: #008080; font-weight: bold\">7</span> | narasannapeta\n",
       "</pre>\n"
      ],
      "text/plain": [
       "Processing Record \u001b[1;36m39\u001b[0m of Set \u001b[1;36m7\u001b[0m | narasannapeta\n"
      ]
     },
     "metadata": {},
     "output_type": "display_data"
    },
    {
     "data": {
      "text/html": [
       "<pre style=\"white-space:pre;overflow-x:auto;line-height:normal;font-family:Menlo,'DejaVu Sans Mono',consolas,'Courier New',monospace\">Processing Record <span style=\"color: #008080; text-decoration-color: #008080; font-weight: bold\">40</span> of Set <span style=\"color: #008080; text-decoration-color: #008080; font-weight: bold\">7</span> | villa gesell\n",
       "</pre>\n"
      ],
      "text/plain": [
       "Processing Record \u001b[1;36m40\u001b[0m of Set \u001b[1;36m7\u001b[0m | villa gesell\n"
      ]
     },
     "metadata": {},
     "output_type": "display_data"
    },
    {
     "data": {
      "text/html": [
       "<pre style=\"white-space:pre;overflow-x:auto;line-height:normal;font-family:Menlo,'DejaVu Sans Mono',consolas,'Courier New',monospace\">Processing Record <span style=\"color: #008080; text-decoration-color: #008080; font-weight: bold\">41</span> of Set <span style=\"color: #008080; text-decoration-color: #008080; font-weight: bold\">7</span> | myeik\n",
       "</pre>\n"
      ],
      "text/plain": [
       "Processing Record \u001b[1;36m41\u001b[0m of Set \u001b[1;36m7\u001b[0m | myeik\n"
      ]
     },
     "metadata": {},
     "output_type": "display_data"
    },
    {
     "data": {
      "text/html": [
       "<pre style=\"white-space:pre;overflow-x:auto;line-height:normal;font-family:Menlo,'DejaVu Sans Mono',consolas,'Courier New',monospace\">Processing Record <span style=\"color: #008080; text-decoration-color: #008080; font-weight: bold\">42</span> of Set <span style=\"color: #008080; text-decoration-color: #008080; font-weight: bold\">7</span> | tura\n",
       "</pre>\n"
      ],
      "text/plain": [
       "Processing Record \u001b[1;36m42\u001b[0m of Set \u001b[1;36m7\u001b[0m | tura\n"
      ]
     },
     "metadata": {},
     "output_type": "display_data"
    },
    {
     "data": {
      "text/html": [
       "<pre style=\"white-space:pre;overflow-x:auto;line-height:normal;font-family:Menlo,'DejaVu Sans Mono',consolas,'Courier New',monospace\">Processing Record <span style=\"color: #008080; text-decoration-color: #008080; font-weight: bold\">43</span> of Set <span style=\"color: #008080; text-decoration-color: #008080; font-weight: bold\">7</span> | aripuana\n",
       "</pre>\n"
      ],
      "text/plain": [
       "Processing Record \u001b[1;36m43\u001b[0m of Set \u001b[1;36m7\u001b[0m | aripuana\n"
      ]
     },
     "metadata": {},
     "output_type": "display_data"
    },
    {
     "data": {
      "text/html": [
       "<pre style=\"white-space:pre;overflow-x:auto;line-height:normal;font-family:Menlo,'DejaVu Sans Mono',consolas,'Courier New',monospace\">Processing Record <span style=\"color: #008080; text-decoration-color: #008080; font-weight: bold\">44</span> of Set <span style=\"color: #008080; text-decoration-color: #008080; font-weight: bold\">7</span> | arar\n",
       "</pre>\n"
      ],
      "text/plain": [
       "Processing Record \u001b[1;36m44\u001b[0m of Set \u001b[1;36m7\u001b[0m | arar\n"
      ]
     },
     "metadata": {},
     "output_type": "display_data"
    },
    {
     "data": {
      "text/html": [
       "<pre style=\"white-space:pre;overflow-x:auto;line-height:normal;font-family:Menlo,'DejaVu Sans Mono',consolas,'Courier New',monospace\">Processing Record <span style=\"color: #008080; text-decoration-color: #008080; font-weight: bold\">45</span> of Set <span style=\"color: #008080; text-decoration-color: #008080; font-weight: bold\">7</span> | antalaha\n",
       "</pre>\n"
      ],
      "text/plain": [
       "Processing Record \u001b[1;36m45\u001b[0m of Set \u001b[1;36m7\u001b[0m | antalaha\n"
      ]
     },
     "metadata": {},
     "output_type": "display_data"
    },
    {
     "data": {
      "text/html": [
       "<pre style=\"white-space:pre;overflow-x:auto;line-height:normal;font-family:Menlo,'DejaVu Sans Mono',consolas,'Courier New',monospace\">Processing Record <span style=\"color: #008080; text-decoration-color: #008080; font-weight: bold\">46</span> of Set <span style=\"color: #008080; text-decoration-color: #008080; font-weight: bold\">7</span> | turpan\n",
       "</pre>\n"
      ],
      "text/plain": [
       "Processing Record \u001b[1;36m46\u001b[0m of Set \u001b[1;36m7\u001b[0m | turpan\n"
      ]
     },
     "metadata": {},
     "output_type": "display_data"
    },
    {
     "data": {
      "text/html": [
       "<pre style=\"white-space:pre;overflow-x:auto;line-height:normal;font-family:Menlo,'DejaVu Sans Mono',consolas,'Courier New',monospace\">Processing Record <span style=\"color: #008080; text-decoration-color: #008080; font-weight: bold\">47</span> of Set <span style=\"color: #008080; text-decoration-color: #008080; font-weight: bold\">7</span> | sanctuary point\n",
       "</pre>\n"
      ],
      "text/plain": [
       "Processing Record \u001b[1;36m47\u001b[0m of Set \u001b[1;36m7\u001b[0m | sanctuary point\n"
      ]
     },
     "metadata": {},
     "output_type": "display_data"
    },
    {
     "data": {
      "text/html": [
       "<pre style=\"white-space:pre;overflow-x:auto;line-height:normal;font-family:Menlo,'DejaVu Sans Mono',consolas,'Courier New',monospace\">Processing Record <span style=\"color: #008080; text-decoration-color: #008080; font-weight: bold\">48</span> of Set <span style=\"color: #008080; text-decoration-color: #008080; font-weight: bold\">7</span> | kiunga\n",
       "</pre>\n"
      ],
      "text/plain": [
       "Processing Record \u001b[1;36m48\u001b[0m of Set \u001b[1;36m7\u001b[0m | kiunga\n"
      ]
     },
     "metadata": {},
     "output_type": "display_data"
    },
    {
     "data": {
      "text/html": [
       "<pre style=\"white-space:pre;overflow-x:auto;line-height:normal;font-family:Menlo,'DejaVu Sans Mono',consolas,'Courier New',monospace\">Processing Record <span style=\"color: #008080; text-decoration-color: #008080; font-weight: bold\">49</span> of Set <span style=\"color: #008080; text-decoration-color: #008080; font-weight: bold\">7</span> | ampanihy\n",
       "</pre>\n"
      ],
      "text/plain": [
       "Processing Record \u001b[1;36m49\u001b[0m of Set \u001b[1;36m7\u001b[0m | ampanihy\n"
      ]
     },
     "metadata": {},
     "output_type": "display_data"
    },
    {
     "data": {
      "text/html": [
       "<pre style=\"white-space:pre;overflow-x:auto;line-height:normal;font-family:Menlo,'DejaVu Sans Mono',consolas,'Courier New',monospace\">Processing Record <span style=\"color: #008080; text-decoration-color: #008080; font-weight: bold\">0</span> of Set <span style=\"color: #008080; text-decoration-color: #008080; font-weight: bold\">8</span> | locharbriggs\n",
       "</pre>\n"
      ],
      "text/plain": [
       "Processing Record \u001b[1;36m0\u001b[0m of Set \u001b[1;36m8\u001b[0m | locharbriggs\n"
      ]
     },
     "metadata": {},
     "output_type": "display_data"
    },
    {
     "data": {
      "text/html": [
       "<pre style=\"white-space:pre;overflow-x:auto;line-height:normal;font-family:Menlo,'DejaVu Sans Mono',consolas,'Courier New',monospace\">Processing Record <span style=\"color: #008080; text-decoration-color: #008080; font-weight: bold\">1</span> of Set <span style=\"color: #008080; text-decoration-color: #008080; font-weight: bold\">8</span> | okha\n",
       "</pre>\n"
      ],
      "text/plain": [
       "Processing Record \u001b[1;36m1\u001b[0m of Set \u001b[1;36m8\u001b[0m | okha\n"
      ]
     },
     "metadata": {},
     "output_type": "display_data"
    },
    {
     "data": {
      "text/html": [
       "<pre style=\"white-space:pre;overflow-x:auto;line-height:normal;font-family:Menlo,'DejaVu Sans Mono',consolas,'Courier New',monospace\">Processing Record <span style=\"color: #008080; text-decoration-color: #008080; font-weight: bold\">2</span> of Set <span style=\"color: #008080; text-decoration-color: #008080; font-weight: bold\">8</span> | kievka\n",
       "</pre>\n"
      ],
      "text/plain": [
       "Processing Record \u001b[1;36m2\u001b[0m of Set \u001b[1;36m8\u001b[0m | kievka\n"
      ]
     },
     "metadata": {},
     "output_type": "display_data"
    },
    {
     "data": {
      "text/html": [
       "<pre style=\"white-space:pre;overflow-x:auto;line-height:normal;font-family:Menlo,'DejaVu Sans Mono',consolas,'Courier New',monospace\">Processing Record <span style=\"color: #008080; text-decoration-color: #008080; font-weight: bold\">3</span> of Set <span style=\"color: #008080; text-decoration-color: #008080; font-weight: bold\">8</span> | al kharijah\n",
       "</pre>\n"
      ],
      "text/plain": [
       "Processing Record \u001b[1;36m3\u001b[0m of Set \u001b[1;36m8\u001b[0m | al kharijah\n"
      ]
     },
     "metadata": {},
     "output_type": "display_data"
    },
    {
     "data": {
      "text/html": [
       "<pre style=\"white-space:pre;overflow-x:auto;line-height:normal;font-family:Menlo,'DejaVu Sans Mono',consolas,'Courier New',monospace\">Processing Record <span style=\"color: #008080; text-decoration-color: #008080; font-weight: bold\">4</span> of Set <span style=\"color: #008080; text-decoration-color: #008080; font-weight: bold\">8</span> | port douglas\n",
       "</pre>\n"
      ],
      "text/plain": [
       "Processing Record \u001b[1;36m4\u001b[0m of Set \u001b[1;36m8\u001b[0m | port douglas\n"
      ]
     },
     "metadata": {},
     "output_type": "display_data"
    },
    {
     "data": {
      "text/html": [
       "<pre style=\"white-space:pre;overflow-x:auto;line-height:normal;font-family:Menlo,'DejaVu Sans Mono',consolas,'Courier New',monospace\">Processing Record <span style=\"color: #008080; text-decoration-color: #008080; font-weight: bold\">5</span> of Set <span style=\"color: #008080; text-decoration-color: #008080; font-weight: bold\">8</span> | mahina\n",
       "</pre>\n"
      ],
      "text/plain": [
       "Processing Record \u001b[1;36m5\u001b[0m of Set \u001b[1;36m8\u001b[0m | mahina\n"
      ]
     },
     "metadata": {},
     "output_type": "display_data"
    },
    {
     "data": {
      "text/html": [
       "<pre style=\"white-space:pre;overflow-x:auto;line-height:normal;font-family:Menlo,'DejaVu Sans Mono',consolas,'Courier New',monospace\">Processing Record <span style=\"color: #008080; text-decoration-color: #008080; font-weight: bold\">6</span> of Set <span style=\"color: #008080; text-decoration-color: #008080; font-weight: bold\">8</span> | kodiak\n",
       "</pre>\n"
      ],
      "text/plain": [
       "Processing Record \u001b[1;36m6\u001b[0m of Set \u001b[1;36m8\u001b[0m | kodiak\n"
      ]
     },
     "metadata": {},
     "output_type": "display_data"
    },
    {
     "data": {
      "text/html": [
       "<pre style=\"white-space:pre;overflow-x:auto;line-height:normal;font-family:Menlo,'DejaVu Sans Mono',consolas,'Courier New',monospace\">Processing Record <span style=\"color: #008080; text-decoration-color: #008080; font-weight: bold\">7</span> of Set <span style=\"color: #008080; text-decoration-color: #008080; font-weight: bold\">8</span> | barranca\n",
       "</pre>\n"
      ],
      "text/plain": [
       "Processing Record \u001b[1;36m7\u001b[0m of Set \u001b[1;36m8\u001b[0m | barranca\n"
      ]
     },
     "metadata": {},
     "output_type": "display_data"
    },
    {
     "data": {
      "text/html": [
       "<pre style=\"white-space:pre;overflow-x:auto;line-height:normal;font-family:Menlo,'DejaVu Sans Mono',consolas,'Courier New',monospace\">Processing Record <span style=\"color: #008080; text-decoration-color: #008080; font-weight: bold\">8</span> of Set <span style=\"color: #008080; text-decoration-color: #008080; font-weight: bold\">8</span> | egersund\n",
       "</pre>\n"
      ],
      "text/plain": [
       "Processing Record \u001b[1;36m8\u001b[0m of Set \u001b[1;36m8\u001b[0m | egersund\n"
      ]
     },
     "metadata": {},
     "output_type": "display_data"
    },
    {
     "data": {
      "text/html": [
       "<pre style=\"white-space:pre;overflow-x:auto;line-height:normal;font-family:Menlo,'DejaVu Sans Mono',consolas,'Courier New',monospace\">Processing Record <span style=\"color: #008080; text-decoration-color: #008080; font-weight: bold\">9</span> of Set <span style=\"color: #008080; text-decoration-color: #008080; font-weight: bold\">8</span> | kayangel\n",
       "</pre>\n"
      ],
      "text/plain": [
       "Processing Record \u001b[1;36m9\u001b[0m of Set \u001b[1;36m8\u001b[0m | kayangel\n"
      ]
     },
     "metadata": {},
     "output_type": "display_data"
    },
    {
     "data": {
      "text/html": [
       "<pre style=\"white-space:pre;overflow-x:auto;line-height:normal;font-family:Menlo,'DejaVu Sans Mono',consolas,'Courier New',monospace\">Processing Record <span style=\"color: #008080; text-decoration-color: #008080; font-weight: bold\">10</span> of Set <span style=\"color: #008080; text-decoration-color: #008080; font-weight: bold\">8</span> | xilin hot\n",
       "</pre>\n"
      ],
      "text/plain": [
       "Processing Record \u001b[1;36m10\u001b[0m of Set \u001b[1;36m8\u001b[0m | xilin hot\n"
      ]
     },
     "metadata": {},
     "output_type": "display_data"
    },
    {
     "data": {
      "text/html": [
       "<pre style=\"white-space:pre;overflow-x:auto;line-height:normal;font-family:Menlo,'DejaVu Sans Mono',consolas,'Courier New',monospace\">Processing Record <span style=\"color: #008080; text-decoration-color: #008080; font-weight: bold\">11</span> of Set <span style=\"color: #008080; text-decoration-color: #008080; font-weight: bold\">8</span> | tvoroyri\n",
       "</pre>\n"
      ],
      "text/plain": [
       "Processing Record \u001b[1;36m11\u001b[0m of Set \u001b[1;36m8\u001b[0m | tvoroyri\n"
      ]
     },
     "metadata": {},
     "output_type": "display_data"
    },
    {
     "data": {
      "text/html": [
       "<pre style=\"white-space:pre;overflow-x:auto;line-height:normal;font-family:Menlo,'DejaVu Sans Mono',consolas,'Courier New',monospace\">Processing Record <span style=\"color: #008080; text-decoration-color: #008080; font-weight: bold\">12</span> of Set <span style=\"color: #008080; text-decoration-color: #008080; font-weight: bold\">8</span> | santa cruz de yojoa\n",
       "</pre>\n"
      ],
      "text/plain": [
       "Processing Record \u001b[1;36m12\u001b[0m of Set \u001b[1;36m8\u001b[0m | santa cruz de yojoa\n"
      ]
     },
     "metadata": {},
     "output_type": "display_data"
    },
    {
     "data": {
      "text/html": [
       "<pre style=\"white-space:pre;overflow-x:auto;line-height:normal;font-family:Menlo,'DejaVu Sans Mono',consolas,'Courier New',monospace\">Processing Record <span style=\"color: #008080; text-decoration-color: #008080; font-weight: bold\">13</span> of Set <span style=\"color: #008080; text-decoration-color: #008080; font-weight: bold\">8</span> | kodinsk\n",
       "</pre>\n"
      ],
      "text/plain": [
       "Processing Record \u001b[1;36m13\u001b[0m of Set \u001b[1;36m8\u001b[0m | kodinsk\n"
      ]
     },
     "metadata": {},
     "output_type": "display_data"
    },
    {
     "data": {
      "text/html": [
       "<pre style=\"white-space:pre;overflow-x:auto;line-height:normal;font-family:Menlo,'DejaVu Sans Mono',consolas,'Courier New',monospace\">Processing Record <span style=\"color: #008080; text-decoration-color: #008080; font-weight: bold\">14</span> of Set <span style=\"color: #008080; text-decoration-color: #008080; font-weight: bold\">8</span> | toguchin\n",
       "</pre>\n"
      ],
      "text/plain": [
       "Processing Record \u001b[1;36m14\u001b[0m of Set \u001b[1;36m8\u001b[0m | toguchin\n"
      ]
     },
     "metadata": {},
     "output_type": "display_data"
    },
    {
     "data": {
      "text/html": [
       "<pre style=\"white-space:pre;overflow-x:auto;line-height:normal;font-family:Menlo,'DejaVu Sans Mono',consolas,'Courier New',monospace\">Processing Record <span style=\"color: #008080; text-decoration-color: #008080; font-weight: bold\">15</span> of Set <span style=\"color: #008080; text-decoration-color: #008080; font-weight: bold\">8</span> | ancud\n",
       "</pre>\n"
      ],
      "text/plain": [
       "Processing Record \u001b[1;36m15\u001b[0m of Set \u001b[1;36m8\u001b[0m | ancud\n"
      ]
     },
     "metadata": {},
     "output_type": "display_data"
    },
    {
     "data": {
      "text/html": [
       "<pre style=\"white-space:pre;overflow-x:auto;line-height:normal;font-family:Menlo,'DejaVu Sans Mono',consolas,'Courier New',monospace\">Processing Record <span style=\"color: #008080; text-decoration-color: #008080; font-weight: bold\">16</span> of Set <span style=\"color: #008080; text-decoration-color: #008080; font-weight: bold\">8</span> | quellon\n",
       "</pre>\n"
      ],
      "text/plain": [
       "Processing Record \u001b[1;36m16\u001b[0m of Set \u001b[1;36m8\u001b[0m | quellon\n"
      ]
     },
     "metadata": {},
     "output_type": "display_data"
    },
    {
     "data": {
      "text/html": [
       "<pre style=\"white-space:pre;overflow-x:auto;line-height:normal;font-family:Menlo,'DejaVu Sans Mono',consolas,'Courier New',monospace\">Processing Record <span style=\"color: #008080; text-decoration-color: #008080; font-weight: bold\">17</span> of Set <span style=\"color: #008080; text-decoration-color: #008080; font-weight: bold\">8</span> | kinel'-cherkassy\n",
       "</pre>\n"
      ],
      "text/plain": [
       "Processing Record \u001b[1;36m17\u001b[0m of Set \u001b[1;36m8\u001b[0m | kinel'-cherkassy\n"
      ]
     },
     "metadata": {},
     "output_type": "display_data"
    },
    {
     "data": {
      "text/html": [
       "<pre style=\"white-space:pre;overflow-x:auto;line-height:normal;font-family:Menlo,'DejaVu Sans Mono',consolas,'Courier New',monospace\">Processing Record <span style=\"color: #008080; text-decoration-color: #008080; font-weight: bold\">18</span> of Set <span style=\"color: #008080; text-decoration-color: #008080; font-weight: bold\">8</span> | nishinoomote\n",
       "</pre>\n"
      ],
      "text/plain": [
       "Processing Record \u001b[1;36m18\u001b[0m of Set \u001b[1;36m8\u001b[0m | nishinoomote\n"
      ]
     },
     "metadata": {},
     "output_type": "display_data"
    },
    {
     "data": {
      "text/html": [
       "<pre style=\"white-space:pre;overflow-x:auto;line-height:normal;font-family:Menlo,'DejaVu Sans Mono',consolas,'Courier New',monospace\">Processing Record <span style=\"color: #008080; text-decoration-color: #008080; font-weight: bold\">19</span> of Set <span style=\"color: #008080; text-decoration-color: #008080; font-weight: bold\">8</span> | ratnagiri\n",
       "</pre>\n"
      ],
      "text/plain": [
       "Processing Record \u001b[1;36m19\u001b[0m of Set \u001b[1;36m8\u001b[0m | ratnagiri\n"
      ]
     },
     "metadata": {},
     "output_type": "display_data"
    },
    {
     "data": {
      "text/html": [
       "<pre style=\"white-space:pre;overflow-x:auto;line-height:normal;font-family:Menlo,'DejaVu Sans Mono',consolas,'Courier New',monospace\">Processing Record <span style=\"color: #008080; text-decoration-color: #008080; font-weight: bold\">20</span> of Set <span style=\"color: #008080; text-decoration-color: #008080; font-weight: bold\">8</span> | beteza\n",
       "</pre>\n"
      ],
      "text/plain": [
       "Processing Record \u001b[1;36m20\u001b[0m of Set \u001b[1;36m8\u001b[0m | beteza\n"
      ]
     },
     "metadata": {},
     "output_type": "display_data"
    },
    {
     "data": {
      "text/html": [
       "<pre style=\"white-space:pre;overflow-x:auto;line-height:normal;font-family:Menlo,'DejaVu Sans Mono',consolas,'Courier New',monospace\">City not found. Skipping<span style=\"color: #808000; text-decoration-color: #808000\">...</span>\n",
       "</pre>\n"
      ],
      "text/plain": [
       "City not found. Skipping\u001b[33m...\u001b[0m\n"
      ]
     },
     "metadata": {},
     "output_type": "display_data"
    },
    {
     "data": {
      "text/html": [
       "<pre style=\"white-space:pre;overflow-x:auto;line-height:normal;font-family:Menlo,'DejaVu Sans Mono',consolas,'Courier New',monospace\">Processing Record <span style=\"color: #008080; text-decoration-color: #008080; font-weight: bold\">21</span> of Set <span style=\"color: #008080; text-decoration-color: #008080; font-weight: bold\">8</span> | pangkalanbuun\n",
       "</pre>\n"
      ],
      "text/plain": [
       "Processing Record \u001b[1;36m21\u001b[0m of Set \u001b[1;36m8\u001b[0m | pangkalanbuun\n"
      ]
     },
     "metadata": {},
     "output_type": "display_data"
    },
    {
     "data": {
      "text/html": [
       "<pre style=\"white-space:pre;overflow-x:auto;line-height:normal;font-family:Menlo,'DejaVu Sans Mono',consolas,'Courier New',monospace\">Processing Record <span style=\"color: #008080; text-decoration-color: #008080; font-weight: bold\">22</span> of Set <span style=\"color: #008080; text-decoration-color: #008080; font-weight: bold\">8</span> | lesogorsk\n",
       "</pre>\n"
      ],
      "text/plain": [
       "Processing Record \u001b[1;36m22\u001b[0m of Set \u001b[1;36m8\u001b[0m | lesogorsk\n"
      ]
     },
     "metadata": {},
     "output_type": "display_data"
    },
    {
     "data": {
      "text/html": [
       "<pre style=\"white-space:pre;overflow-x:auto;line-height:normal;font-family:Menlo,'DejaVu Sans Mono',consolas,'Courier New',monospace\">Processing Record <span style=\"color: #008080; text-decoration-color: #008080; font-weight: bold\">23</span> of Set <span style=\"color: #008080; text-decoration-color: #008080; font-weight: bold\">8</span> | sishilichengzi\n",
       "</pre>\n"
      ],
      "text/plain": [
       "Processing Record \u001b[1;36m23\u001b[0m of Set \u001b[1;36m8\u001b[0m | sishilichengzi\n"
      ]
     },
     "metadata": {},
     "output_type": "display_data"
    },
    {
     "data": {
      "text/html": [
       "<pre style=\"white-space:pre;overflow-x:auto;line-height:normal;font-family:Menlo,'DejaVu Sans Mono',consolas,'Courier New',monospace\">City not found. Skipping<span style=\"color: #808000; text-decoration-color: #808000\">...</span>\n",
       "</pre>\n"
      ],
      "text/plain": [
       "City not found. Skipping\u001b[33m...\u001b[0m\n"
      ]
     },
     "metadata": {},
     "output_type": "display_data"
    },
    {
     "data": {
      "text/html": [
       "<pre style=\"white-space:pre;overflow-x:auto;line-height:normal;font-family:Menlo,'DejaVu Sans Mono',consolas,'Courier New',monospace\">Processing Record <span style=\"color: #008080; text-decoration-color: #008080; font-weight: bold\">24</span> of Set <span style=\"color: #008080; text-decoration-color: #008080; font-weight: bold\">8</span> | ghat\n",
       "</pre>\n"
      ],
      "text/plain": [
       "Processing Record \u001b[1;36m24\u001b[0m of Set \u001b[1;36m8\u001b[0m | ghat\n"
      ]
     },
     "metadata": {},
     "output_type": "display_data"
    },
    {
     "data": {
      "text/html": [
       "<pre style=\"white-space:pre;overflow-x:auto;line-height:normal;font-family:Menlo,'DejaVu Sans Mono',consolas,'Courier New',monospace\">Processing Record <span style=\"color: #008080; text-decoration-color: #008080; font-weight: bold\">25</span> of Set <span style=\"color: #008080; text-decoration-color: #008080; font-weight: bold\">8</span> | mutuali\n",
       "</pre>\n"
      ],
      "text/plain": [
       "Processing Record \u001b[1;36m25\u001b[0m of Set \u001b[1;36m8\u001b[0m | mutuali\n"
      ]
     },
     "metadata": {},
     "output_type": "display_data"
    },
    {
     "data": {
      "text/html": [
       "<pre style=\"white-space:pre;overflow-x:auto;line-height:normal;font-family:Menlo,'DejaVu Sans Mono',consolas,'Courier New',monospace\">Processing Record <span style=\"color: #008080; text-decoration-color: #008080; font-weight: bold\">26</span> of Set <span style=\"color: #008080; text-decoration-color: #008080; font-weight: bold\">8</span> | tadine\n",
       "</pre>\n"
      ],
      "text/plain": [
       "Processing Record \u001b[1;36m26\u001b[0m of Set \u001b[1;36m8\u001b[0m | tadine\n"
      ]
     },
     "metadata": {},
     "output_type": "display_data"
    },
    {
     "data": {
      "text/html": [
       "<pre style=\"white-space:pre;overflow-x:auto;line-height:normal;font-family:Menlo,'DejaVu Sans Mono',consolas,'Courier New',monospace\">Processing Record <span style=\"color: #008080; text-decoration-color: #008080; font-weight: bold\">27</span> of Set <span style=\"color: #008080; text-decoration-color: #008080; font-weight: bold\">8</span> | taltal\n",
       "</pre>\n"
      ],
      "text/plain": [
       "Processing Record \u001b[1;36m27\u001b[0m of Set \u001b[1;36m8\u001b[0m | taltal\n"
      ]
     },
     "metadata": {},
     "output_type": "display_data"
    },
    {
     "data": {
      "text/html": [
       "<pre style=\"white-space:pre;overflow-x:auto;line-height:normal;font-family:Menlo,'DejaVu Sans Mono',consolas,'Courier New',monospace\">Processing Record <span style=\"color: #008080; text-decoration-color: #008080; font-weight: bold\">28</span> of Set <span style=\"color: #008080; text-decoration-color: #008080; font-weight: bold\">8</span> | vila franca do campo\n",
       "</pre>\n"
      ],
      "text/plain": [
       "Processing Record \u001b[1;36m28\u001b[0m of Set \u001b[1;36m8\u001b[0m | vila franca do campo\n"
      ]
     },
     "metadata": {},
     "output_type": "display_data"
    },
    {
     "data": {
      "text/html": [
       "<pre style=\"white-space:pre;overflow-x:auto;line-height:normal;font-family:Menlo,'DejaVu Sans Mono',consolas,'Courier New',monospace\">Processing Record <span style=\"color: #008080; text-decoration-color: #008080; font-weight: bold\">29</span> of Set <span style=\"color: #008080; text-decoration-color: #008080; font-weight: bold\">8</span> | laguna\n",
       "</pre>\n"
      ],
      "text/plain": [
       "Processing Record \u001b[1;36m29\u001b[0m of Set \u001b[1;36m8\u001b[0m | laguna\n"
      ]
     },
     "metadata": {},
     "output_type": "display_data"
    },
    {
     "data": {
      "text/html": [
       "<pre style=\"white-space:pre;overflow-x:auto;line-height:normal;font-family:Menlo,'DejaVu Sans Mono',consolas,'Courier New',monospace\">Processing Record <span style=\"color: #008080; text-decoration-color: #008080; font-weight: bold\">30</span> of Set <span style=\"color: #008080; text-decoration-color: #008080; font-weight: bold\">8</span> | revda\n",
       "</pre>\n"
      ],
      "text/plain": [
       "Processing Record \u001b[1;36m30\u001b[0m of Set \u001b[1;36m8\u001b[0m | revda\n"
      ]
     },
     "metadata": {},
     "output_type": "display_data"
    },
    {
     "data": {
      "text/html": [
       "<pre style=\"white-space:pre;overflow-x:auto;line-height:normal;font-family:Menlo,'DejaVu Sans Mono',consolas,'Courier New',monospace\">Processing Record <span style=\"color: #008080; text-decoration-color: #008080; font-weight: bold\">31</span> of Set <span style=\"color: #008080; text-decoration-color: #008080; font-weight: bold\">8</span> | apac\n",
       "</pre>\n"
      ],
      "text/plain": [
       "Processing Record \u001b[1;36m31\u001b[0m of Set \u001b[1;36m8\u001b[0m | apac\n"
      ]
     },
     "metadata": {},
     "output_type": "display_data"
    },
    {
     "data": {
      "text/html": [
       "<pre style=\"white-space:pre;overflow-x:auto;line-height:normal;font-family:Menlo,'DejaVu Sans Mono',consolas,'Courier New',monospace\">Processing Record <span style=\"color: #008080; text-decoration-color: #008080; font-weight: bold\">32</span> of Set <span style=\"color: #008080; text-decoration-color: #008080; font-weight: bold\">8</span> | mossel bay\n",
       "</pre>\n"
      ],
      "text/plain": [
       "Processing Record \u001b[1;36m32\u001b[0m of Set \u001b[1;36m8\u001b[0m | mossel bay\n"
      ]
     },
     "metadata": {},
     "output_type": "display_data"
    },
    {
     "data": {
      "text/html": [
       "<pre style=\"white-space:pre;overflow-x:auto;line-height:normal;font-family:Menlo,'DejaVu Sans Mono',consolas,'Courier New',monospace\">Processing Record <span style=\"color: #008080; text-decoration-color: #008080; font-weight: bold\">33</span> of Set <span style=\"color: #008080; text-decoration-color: #008080; font-weight: bold\">8</span> | flin flon\n",
       "</pre>\n"
      ],
      "text/plain": [
       "Processing Record \u001b[1;36m33\u001b[0m of Set \u001b[1;36m8\u001b[0m | flin flon\n"
      ]
     },
     "metadata": {},
     "output_type": "display_data"
    },
    {
     "data": {
      "text/html": [
       "<pre style=\"white-space:pre;overflow-x:auto;line-height:normal;font-family:Menlo,'DejaVu Sans Mono',consolas,'Courier New',monospace\">Processing Record <span style=\"color: #008080; text-decoration-color: #008080; font-weight: bold\">34</span> of Set <span style=\"color: #008080; text-decoration-color: #008080; font-weight: bold\">8</span> | katsuren-haebaru\n",
       "</pre>\n"
      ],
      "text/plain": [
       "Processing Record \u001b[1;36m34\u001b[0m of Set \u001b[1;36m8\u001b[0m | katsuren-haebaru\n"
      ]
     },
     "metadata": {},
     "output_type": "display_data"
    },
    {
     "data": {
      "text/html": [
       "<pre style=\"white-space:pre;overflow-x:auto;line-height:normal;font-family:Menlo,'DejaVu Sans Mono',consolas,'Courier New',monospace\">Processing Record <span style=\"color: #008080; text-decoration-color: #008080; font-weight: bold\">35</span> of Set <span style=\"color: #008080; text-decoration-color: #008080; font-weight: bold\">8</span> | rockport\n",
       "</pre>\n"
      ],
      "text/plain": [
       "Processing Record \u001b[1;36m35\u001b[0m of Set \u001b[1;36m8\u001b[0m | rockport\n"
      ]
     },
     "metadata": {},
     "output_type": "display_data"
    },
    {
     "data": {
      "text/html": [
       "<pre style=\"white-space:pre;overflow-x:auto;line-height:normal;font-family:Menlo,'DejaVu Sans Mono',consolas,'Courier New',monospace\">Processing Record <span style=\"color: #008080; text-decoration-color: #008080; font-weight: bold\">36</span> of Set <span style=\"color: #008080; text-decoration-color: #008080; font-weight: bold\">8</span> | la jagua de ibirico\n",
       "</pre>\n"
      ],
      "text/plain": [
       "Processing Record \u001b[1;36m36\u001b[0m of Set \u001b[1;36m8\u001b[0m | la jagua de ibirico\n"
      ]
     },
     "metadata": {},
     "output_type": "display_data"
    },
    {
     "data": {
      "text/html": [
       "<pre style=\"white-space:pre;overflow-x:auto;line-height:normal;font-family:Menlo,'DejaVu Sans Mono',consolas,'Courier New',monospace\">Processing Record <span style=\"color: #008080; text-decoration-color: #008080; font-weight: bold\">37</span> of Set <span style=\"color: #008080; text-decoration-color: #008080; font-weight: bold\">8</span> | gaoual\n",
       "</pre>\n"
      ],
      "text/plain": [
       "Processing Record \u001b[1;36m37\u001b[0m of Set \u001b[1;36m8\u001b[0m | gaoual\n"
      ]
     },
     "metadata": {},
     "output_type": "display_data"
    },
    {
     "data": {
      "text/html": [
       "<pre style=\"white-space:pre;overflow-x:auto;line-height:normal;font-family:Menlo,'DejaVu Sans Mono',consolas,'Courier New',monospace\">Processing Record <span style=\"color: #008080; text-decoration-color: #008080; font-weight: bold\">38</span> of Set <span style=\"color: #008080; text-decoration-color: #008080; font-weight: bold\">8</span> | ribeira brava\n",
       "</pre>\n"
      ],
      "text/plain": [
       "Processing Record \u001b[1;36m38\u001b[0m of Set \u001b[1;36m8\u001b[0m | ribeira brava\n"
      ]
     },
     "metadata": {},
     "output_type": "display_data"
    },
    {
     "data": {
      "text/html": [
       "<pre style=\"white-space:pre;overflow-x:auto;line-height:normal;font-family:Menlo,'DejaVu Sans Mono',consolas,'Courier New',monospace\">Processing Record <span style=\"color: #008080; text-decoration-color: #008080; font-weight: bold\">39</span> of Set <span style=\"color: #008080; text-decoration-color: #008080; font-weight: bold\">8</span> | blythe\n",
       "</pre>\n"
      ],
      "text/plain": [
       "Processing Record \u001b[1;36m39\u001b[0m of Set \u001b[1;36m8\u001b[0m | blythe\n"
      ]
     },
     "metadata": {},
     "output_type": "display_data"
    },
    {
     "data": {
      "text/html": [
       "<pre style=\"white-space:pre;overflow-x:auto;line-height:normal;font-family:Menlo,'DejaVu Sans Mono',consolas,'Courier New',monospace\">Processing Record <span style=\"color: #008080; text-decoration-color: #008080; font-weight: bold\">40</span> of Set <span style=\"color: #008080; text-decoration-color: #008080; font-weight: bold\">8</span> | san luis de la loma\n",
       "</pre>\n"
      ],
      "text/plain": [
       "Processing Record \u001b[1;36m40\u001b[0m of Set \u001b[1;36m8\u001b[0m | san luis de la loma\n"
      ]
     },
     "metadata": {},
     "output_type": "display_data"
    },
    {
     "data": {
      "text/html": [
       "<pre style=\"white-space:pre;overflow-x:auto;line-height:normal;font-family:Menlo,'DejaVu Sans Mono',consolas,'Courier New',monospace\">Processing Record <span style=\"color: #008080; text-decoration-color: #008080; font-weight: bold\">41</span> of Set <span style=\"color: #008080; text-decoration-color: #008080; font-weight: bold\">8</span> | melito di porto salvo\n",
       "</pre>\n"
      ],
      "text/plain": [
       "Processing Record \u001b[1;36m41\u001b[0m of Set \u001b[1;36m8\u001b[0m | melito di porto salvo\n"
      ]
     },
     "metadata": {},
     "output_type": "display_data"
    },
    {
     "data": {
      "text/html": [
       "<pre style=\"white-space:pre;overflow-x:auto;line-height:normal;font-family:Menlo,'DejaVu Sans Mono',consolas,'Courier New',monospace\">Processing Record <span style=\"color: #008080; text-decoration-color: #008080; font-weight: bold\">42</span> of Set <span style=\"color: #008080; text-decoration-color: #008080; font-weight: bold\">8</span> | kloulklubed\n",
       "</pre>\n"
      ],
      "text/plain": [
       "Processing Record \u001b[1;36m42\u001b[0m of Set \u001b[1;36m8\u001b[0m | kloulklubed\n"
      ]
     },
     "metadata": {},
     "output_type": "display_data"
    },
    {
     "data": {
      "text/html": [
       "<pre style=\"white-space:pre;overflow-x:auto;line-height:normal;font-family:Menlo,'DejaVu Sans Mono',consolas,'Courier New',monospace\">Processing Record <span style=\"color: #008080; text-decoration-color: #008080; font-weight: bold\">43</span> of Set <span style=\"color: #008080; text-decoration-color: #008080; font-weight: bold\">8</span> | aranda de duero\n",
       "</pre>\n"
      ],
      "text/plain": [
       "Processing Record \u001b[1;36m43\u001b[0m of Set \u001b[1;36m8\u001b[0m | aranda de duero\n"
      ]
     },
     "metadata": {},
     "output_type": "display_data"
    },
    {
     "data": {
      "text/html": [
       "<pre style=\"white-space:pre;overflow-x:auto;line-height:normal;font-family:Menlo,'DejaVu Sans Mono',consolas,'Courier New',monospace\">Processing Record <span style=\"color: #008080; text-decoration-color: #008080; font-weight: bold\">44</span> of Set <span style=\"color: #008080; text-decoration-color: #008080; font-weight: bold\">8</span> | thurso\n",
       "</pre>\n"
      ],
      "text/plain": [
       "Processing Record \u001b[1;36m44\u001b[0m of Set \u001b[1;36m8\u001b[0m | thurso\n"
      ]
     },
     "metadata": {},
     "output_type": "display_data"
    },
    {
     "data": {
      "text/html": [
       "<pre style=\"white-space:pre;overflow-x:auto;line-height:normal;font-family:Menlo,'DejaVu Sans Mono',consolas,'Courier New',monospace\">Processing Record <span style=\"color: #008080; text-decoration-color: #008080; font-weight: bold\">45</span> of Set <span style=\"color: #008080; text-decoration-color: #008080; font-weight: bold\">8</span> | nyrob\n",
       "</pre>\n"
      ],
      "text/plain": [
       "Processing Record \u001b[1;36m45\u001b[0m of Set \u001b[1;36m8\u001b[0m | nyrob\n"
      ]
     },
     "metadata": {},
     "output_type": "display_data"
    },
    {
     "data": {
      "text/html": [
       "<pre style=\"white-space:pre;overflow-x:auto;line-height:normal;font-family:Menlo,'DejaVu Sans Mono',consolas,'Courier New',monospace\">Processing Record <span style=\"color: #008080; text-decoration-color: #008080; font-weight: bold\">46</span> of Set <span style=\"color: #008080; text-decoration-color: #008080; font-weight: bold\">8</span> | portland\n",
       "</pre>\n"
      ],
      "text/plain": [
       "Processing Record \u001b[1;36m46\u001b[0m of Set \u001b[1;36m8\u001b[0m | portland\n"
      ]
     },
     "metadata": {},
     "output_type": "display_data"
    },
    {
     "data": {
      "text/html": [
       "<pre style=\"white-space:pre;overflow-x:auto;line-height:normal;font-family:Menlo,'DejaVu Sans Mono',consolas,'Courier New',monospace\">Processing Record <span style=\"color: #008080; text-decoration-color: #008080; font-weight: bold\">47</span> of Set <span style=\"color: #008080; text-decoration-color: #008080; font-weight: bold\">8</span> | mersing\n",
       "</pre>\n"
      ],
      "text/plain": [
       "Processing Record \u001b[1;36m47\u001b[0m of Set \u001b[1;36m8\u001b[0m | mersing\n"
      ]
     },
     "metadata": {},
     "output_type": "display_data"
    },
    {
     "data": {
      "text/html": [
       "<pre style=\"white-space:pre;overflow-x:auto;line-height:normal;font-family:Menlo,'DejaVu Sans Mono',consolas,'Courier New',monospace\">Processing Record <span style=\"color: #008080; text-decoration-color: #008080; font-weight: bold\">48</span> of Set <span style=\"color: #008080; text-decoration-color: #008080; font-weight: bold\">8</span> | taguatinga\n",
       "</pre>\n"
      ],
      "text/plain": [
       "Processing Record \u001b[1;36m48\u001b[0m of Set \u001b[1;36m8\u001b[0m | taguatinga\n"
      ]
     },
     "metadata": {},
     "output_type": "display_data"
    },
    {
     "data": {
      "text/html": [
       "<pre style=\"white-space:pre;overflow-x:auto;line-height:normal;font-family:Menlo,'DejaVu Sans Mono',consolas,'Courier New',monospace\">Processing Record <span style=\"color: #008080; text-decoration-color: #008080; font-weight: bold\">49</span> of Set <span style=\"color: #008080; text-decoration-color: #008080; font-weight: bold\">8</span> | polyarnyy\n",
       "</pre>\n"
      ],
      "text/plain": [
       "Processing Record \u001b[1;36m49\u001b[0m of Set \u001b[1;36m8\u001b[0m | polyarnyy\n"
      ]
     },
     "metadata": {},
     "output_type": "display_data"
    },
    {
     "data": {
      "text/html": [
       "<pre style=\"white-space:pre;overflow-x:auto;line-height:normal;font-family:Menlo,'DejaVu Sans Mono',consolas,'Courier New',monospace\">Processing Record <span style=\"color: #008080; text-decoration-color: #008080; font-weight: bold\">0</span> of Set <span style=\"color: #008080; text-decoration-color: #008080; font-weight: bold\">9</span> | hotan\n",
       "</pre>\n"
      ],
      "text/plain": [
       "Processing Record \u001b[1;36m0\u001b[0m of Set \u001b[1;36m9\u001b[0m | hotan\n"
      ]
     },
     "metadata": {},
     "output_type": "display_data"
    },
    {
     "data": {
      "text/html": [
       "<pre style=\"white-space:pre;overflow-x:auto;line-height:normal;font-family:Menlo,'DejaVu Sans Mono',consolas,'Courier New',monospace\">Processing Record <span style=\"color: #008080; text-decoration-color: #008080; font-weight: bold\">1</span> of Set <span style=\"color: #008080; text-decoration-color: #008080; font-weight: bold\">9</span> | haiku-pauwela\n",
       "</pre>\n"
      ],
      "text/plain": [
       "Processing Record \u001b[1;36m1\u001b[0m of Set \u001b[1;36m9\u001b[0m | haiku-pauwela\n"
      ]
     },
     "metadata": {},
     "output_type": "display_data"
    },
    {
     "data": {
      "text/html": [
       "<pre style=\"white-space:pre;overflow-x:auto;line-height:normal;font-family:Menlo,'DejaVu Sans Mono',consolas,'Courier New',monospace\">Processing Record <span style=\"color: #008080; text-decoration-color: #008080; font-weight: bold\">2</span> of Set <span style=\"color: #008080; text-decoration-color: #008080; font-weight: bold\">9</span> | point fortin\n",
       "</pre>\n"
      ],
      "text/plain": [
       "Processing Record \u001b[1;36m2\u001b[0m of Set \u001b[1;36m9\u001b[0m | point fortin\n"
      ]
     },
     "metadata": {},
     "output_type": "display_data"
    },
    {
     "data": {
      "text/html": [
       "<pre style=\"white-space:pre;overflow-x:auto;line-height:normal;font-family:Menlo,'DejaVu Sans Mono',consolas,'Courier New',monospace\">Processing Record <span style=\"color: #008080; text-decoration-color: #008080; font-weight: bold\">3</span> of Set <span style=\"color: #008080; text-decoration-color: #008080; font-weight: bold\">9</span> | uturoa\n",
       "</pre>\n"
      ],
      "text/plain": [
       "Processing Record \u001b[1;36m3\u001b[0m of Set \u001b[1;36m9\u001b[0m | uturoa\n"
      ]
     },
     "metadata": {},
     "output_type": "display_data"
    },
    {
     "data": {
      "text/html": [
       "<pre style=\"white-space:pre;overflow-x:auto;line-height:normal;font-family:Menlo,'DejaVu Sans Mono',consolas,'Courier New',monospace\">Processing Record <span style=\"color: #008080; text-decoration-color: #008080; font-weight: bold\">4</span> of Set <span style=\"color: #008080; text-decoration-color: #008080; font-weight: bold\">9</span> | el paraiso\n",
       "</pre>\n"
      ],
      "text/plain": [
       "Processing Record \u001b[1;36m4\u001b[0m of Set \u001b[1;36m9\u001b[0m | el paraiso\n"
      ]
     },
     "metadata": {},
     "output_type": "display_data"
    },
    {
     "data": {
      "text/html": [
       "<pre style=\"white-space:pre;overflow-x:auto;line-height:normal;font-family:Menlo,'DejaVu Sans Mono',consolas,'Courier New',monospace\">Processing Record <span style=\"color: #008080; text-decoration-color: #008080; font-weight: bold\">5</span> of Set <span style=\"color: #008080; text-decoration-color: #008080; font-weight: bold\">9</span> | karatau\n",
       "</pre>\n"
      ],
      "text/plain": [
       "Processing Record \u001b[1;36m5\u001b[0m of Set \u001b[1;36m9\u001b[0m | karatau\n"
      ]
     },
     "metadata": {},
     "output_type": "display_data"
    },
    {
     "data": {
      "text/html": [
       "<pre style=\"white-space:pre;overflow-x:auto;line-height:normal;font-family:Menlo,'DejaVu Sans Mono',consolas,'Courier New',monospace\">Processing Record <span style=\"color: #008080; text-decoration-color: #008080; font-weight: bold\">6</span> of Set <span style=\"color: #008080; text-decoration-color: #008080; font-weight: bold\">9</span> | la'ie\n",
       "</pre>\n"
      ],
      "text/plain": [
       "Processing Record \u001b[1;36m6\u001b[0m of Set \u001b[1;36m9\u001b[0m | la'ie\n"
      ]
     },
     "metadata": {},
     "output_type": "display_data"
    },
    {
     "data": {
      "text/html": [
       "<pre style=\"white-space:pre;overflow-x:auto;line-height:normal;font-family:Menlo,'DejaVu Sans Mono',consolas,'Courier New',monospace\">Processing Record <span style=\"color: #008080; text-decoration-color: #008080; font-weight: bold\">7</span> of Set <span style=\"color: #008080; text-decoration-color: #008080; font-weight: bold\">9</span> | fort erie\n",
       "</pre>\n"
      ],
      "text/plain": [
       "Processing Record \u001b[1;36m7\u001b[0m of Set \u001b[1;36m9\u001b[0m | fort erie\n"
      ]
     },
     "metadata": {},
     "output_type": "display_data"
    },
    {
     "data": {
      "text/html": [
       "<pre style=\"white-space:pre;overflow-x:auto;line-height:normal;font-family:Menlo,'DejaVu Sans Mono',consolas,'Courier New',monospace\">Processing Record <span style=\"color: #008080; text-decoration-color: #008080; font-weight: bold\">8</span> of Set <span style=\"color: #008080; text-decoration-color: #008080; font-weight: bold\">9</span> | nuuk\n",
       "</pre>\n"
      ],
      "text/plain": [
       "Processing Record \u001b[1;36m8\u001b[0m of Set \u001b[1;36m9\u001b[0m | nuuk\n"
      ]
     },
     "metadata": {},
     "output_type": "display_data"
    },
    {
     "data": {
      "text/html": [
       "<pre style=\"white-space:pre;overflow-x:auto;line-height:normal;font-family:Menlo,'DejaVu Sans Mono',consolas,'Courier New',monospace\">Processing Record <span style=\"color: #008080; text-decoration-color: #008080; font-weight: bold\">9</span> of Set <span style=\"color: #008080; text-decoration-color: #008080; font-weight: bold\">9</span> | koh kong\n",
       "</pre>\n"
      ],
      "text/plain": [
       "Processing Record \u001b[1;36m9\u001b[0m of Set \u001b[1;36m9\u001b[0m | koh kong\n"
      ]
     },
     "metadata": {},
     "output_type": "display_data"
    },
    {
     "data": {
      "text/html": [
       "<pre style=\"white-space:pre;overflow-x:auto;line-height:normal;font-family:Menlo,'DejaVu Sans Mono',consolas,'Courier New',monospace\">Processing Record <span style=\"color: #008080; text-decoration-color: #008080; font-weight: bold\">10</span> of Set <span style=\"color: #008080; text-decoration-color: #008080; font-weight: bold\">9</span> | altai\n",
       "</pre>\n"
      ],
      "text/plain": [
       "Processing Record \u001b[1;36m10\u001b[0m of Set \u001b[1;36m9\u001b[0m | altai\n"
      ]
     },
     "metadata": {},
     "output_type": "display_data"
    },
    {
     "data": {
      "text/html": [
       "<pre style=\"white-space:pre;overflow-x:auto;line-height:normal;font-family:Menlo,'DejaVu Sans Mono',consolas,'Courier New',monospace\">Processing Record <span style=\"color: #008080; text-decoration-color: #008080; font-weight: bold\">11</span> of Set <span style=\"color: #008080; text-decoration-color: #008080; font-weight: bold\">9</span> | fort st. john\n",
       "</pre>\n"
      ],
      "text/plain": [
       "Processing Record \u001b[1;36m11\u001b[0m of Set \u001b[1;36m9\u001b[0m | fort st. john\n"
      ]
     },
     "metadata": {},
     "output_type": "display_data"
    },
    {
     "data": {
      "text/html": [
       "<pre style=\"white-space:pre;overflow-x:auto;line-height:normal;font-family:Menlo,'DejaVu Sans Mono',consolas,'Courier New',monospace\">Processing Record <span style=\"color: #008080; text-decoration-color: #008080; font-weight: bold\">12</span> of Set <span style=\"color: #008080; text-decoration-color: #008080; font-weight: bold\">9</span> | ponta delgada\n",
       "</pre>\n"
      ],
      "text/plain": [
       "Processing Record \u001b[1;36m12\u001b[0m of Set \u001b[1;36m9\u001b[0m | ponta delgada\n"
      ]
     },
     "metadata": {},
     "output_type": "display_data"
    },
    {
     "data": {
      "text/html": [
       "<pre style=\"white-space:pre;overflow-x:auto;line-height:normal;font-family:Menlo,'DejaVu Sans Mono',consolas,'Courier New',monospace\">Processing Record <span style=\"color: #008080; text-decoration-color: #008080; font-weight: bold\">13</span> of Set <span style=\"color: #008080; text-decoration-color: #008080; font-weight: bold\">9</span> | tandalti\n",
       "</pre>\n"
      ],
      "text/plain": [
       "Processing Record \u001b[1;36m13\u001b[0m of Set \u001b[1;36m9\u001b[0m | tandalti\n"
      ]
     },
     "metadata": {},
     "output_type": "display_data"
    },
    {
     "data": {
      "text/html": [
       "<pre style=\"white-space:pre;overflow-x:auto;line-height:normal;font-family:Menlo,'DejaVu Sans Mono',consolas,'Courier New',monospace\">Processing Record <span style=\"color: #008080; text-decoration-color: #008080; font-weight: bold\">14</span> of Set <span style=\"color: #008080; text-decoration-color: #008080; font-weight: bold\">9</span> | howrah\n",
       "</pre>\n"
      ],
      "text/plain": [
       "Processing Record \u001b[1;36m14\u001b[0m of Set \u001b[1;36m9\u001b[0m | howrah\n"
      ]
     },
     "metadata": {},
     "output_type": "display_data"
    },
    {
     "data": {
      "text/html": [
       "<pre style=\"white-space:pre;overflow-x:auto;line-height:normal;font-family:Menlo,'DejaVu Sans Mono',consolas,'Courier New',monospace\">Processing Record <span style=\"color: #008080; text-decoration-color: #008080; font-weight: bold\">15</span> of Set <span style=\"color: #008080; text-decoration-color: #008080; font-weight: bold\">9</span> | sandnessjoen\n",
       "</pre>\n"
      ],
      "text/plain": [
       "Processing Record \u001b[1;36m15\u001b[0m of Set \u001b[1;36m9\u001b[0m | sandnessjoen\n"
      ]
     },
     "metadata": {},
     "output_type": "display_data"
    },
    {
     "data": {
      "text/html": [
       "<pre style=\"white-space:pre;overflow-x:auto;line-height:normal;font-family:Menlo,'DejaVu Sans Mono',consolas,'Courier New',monospace\">Processing Record <span style=\"color: #008080; text-decoration-color: #008080; font-weight: bold\">16</span> of Set <span style=\"color: #008080; text-decoration-color: #008080; font-weight: bold\">9</span> | bathurst\n",
       "</pre>\n"
      ],
      "text/plain": [
       "Processing Record \u001b[1;36m16\u001b[0m of Set \u001b[1;36m9\u001b[0m | bathurst\n"
      ]
     },
     "metadata": {},
     "output_type": "display_data"
    },
    {
     "data": {
      "text/html": [
       "<pre style=\"white-space:pre;overflow-x:auto;line-height:normal;font-family:Menlo,'DejaVu Sans Mono',consolas,'Courier New',monospace\">Processing Record <span style=\"color: #008080; text-decoration-color: #008080; font-weight: bold\">17</span> of Set <span style=\"color: #008080; text-decoration-color: #008080; font-weight: bold\">9</span> | licheng\n",
       "</pre>\n"
      ],
      "text/plain": [
       "Processing Record \u001b[1;36m17\u001b[0m of Set \u001b[1;36m9\u001b[0m | licheng\n"
      ]
     },
     "metadata": {},
     "output_type": "display_data"
    },
    {
     "data": {
      "text/html": [
       "<pre style=\"white-space:pre;overflow-x:auto;line-height:normal;font-family:Menlo,'DejaVu Sans Mono',consolas,'Courier New',monospace\">Processing Record <span style=\"color: #008080; text-decoration-color: #008080; font-weight: bold\">18</span> of Set <span style=\"color: #008080; text-decoration-color: #008080; font-weight: bold\">9</span> | touros\n",
       "</pre>\n"
      ],
      "text/plain": [
       "Processing Record \u001b[1;36m18\u001b[0m of Set \u001b[1;36m9\u001b[0m | touros\n"
      ]
     },
     "metadata": {},
     "output_type": "display_data"
    },
    {
     "data": {
      "text/html": [
       "<pre style=\"white-space:pre;overflow-x:auto;line-height:normal;font-family:Menlo,'DejaVu Sans Mono',consolas,'Courier New',monospace\">Processing Record <span style=\"color: #008080; text-decoration-color: #008080; font-weight: bold\">19</span> of Set <span style=\"color: #008080; text-decoration-color: #008080; font-weight: bold\">9</span> | san patricio\n",
       "</pre>\n"
      ],
      "text/plain": [
       "Processing Record \u001b[1;36m19\u001b[0m of Set \u001b[1;36m9\u001b[0m | san patricio\n"
      ]
     },
     "metadata": {},
     "output_type": "display_data"
    },
    {
     "data": {
      "text/html": [
       "<pre style=\"white-space:pre;overflow-x:auto;line-height:normal;font-family:Menlo,'DejaVu Sans Mono',consolas,'Courier New',monospace\">Processing Record <span style=\"color: #008080; text-decoration-color: #008080; font-weight: bold\">20</span> of Set <span style=\"color: #008080; text-decoration-color: #008080; font-weight: bold\">9</span> | pitimbu\n",
       "</pre>\n"
      ],
      "text/plain": [
       "Processing Record \u001b[1;36m20\u001b[0m of Set \u001b[1;36m9\u001b[0m | pitimbu\n"
      ]
     },
     "metadata": {},
     "output_type": "display_data"
    },
    {
     "data": {
      "text/html": [
       "<pre style=\"white-space:pre;overflow-x:auto;line-height:normal;font-family:Menlo,'DejaVu Sans Mono',consolas,'Courier New',monospace\">Processing Record <span style=\"color: #008080; text-decoration-color: #008080; font-weight: bold\">21</span> of Set <span style=\"color: #008080; text-decoration-color: #008080; font-weight: bold\">9</span> | conception bay south\n",
       "</pre>\n"
      ],
      "text/plain": [
       "Processing Record \u001b[1;36m21\u001b[0m of Set \u001b[1;36m9\u001b[0m | conception bay south\n"
      ]
     },
     "metadata": {},
     "output_type": "display_data"
    },
    {
     "data": {
      "text/html": [
       "<pre style=\"white-space:pre;overflow-x:auto;line-height:normal;font-family:Menlo,'DejaVu Sans Mono',consolas,'Courier New',monospace\">Processing Record <span style=\"color: #008080; text-decoration-color: #008080; font-weight: bold\">22</span> of Set <span style=\"color: #008080; text-decoration-color: #008080; font-weight: bold\">9</span> | la reforma\n",
       "</pre>\n"
      ],
      "text/plain": [
       "Processing Record \u001b[1;36m22\u001b[0m of Set \u001b[1;36m9\u001b[0m | la reforma\n"
      ]
     },
     "metadata": {},
     "output_type": "display_data"
    },
    {
     "data": {
      "text/html": [
       "<pre style=\"white-space:pre;overflow-x:auto;line-height:normal;font-family:Menlo,'DejaVu Sans Mono',consolas,'Courier New',monospace\">Processing Record <span style=\"color: #008080; text-decoration-color: #008080; font-weight: bold\">23</span> of Set <span style=\"color: #008080; text-decoration-color: #008080; font-weight: bold\">9</span> | salima\n",
       "</pre>\n"
      ],
      "text/plain": [
       "Processing Record \u001b[1;36m23\u001b[0m of Set \u001b[1;36m9\u001b[0m | salima\n"
      ]
     },
     "metadata": {},
     "output_type": "display_data"
    },
    {
     "data": {
      "text/html": [
       "<pre style=\"white-space:pre;overflow-x:auto;line-height:normal;font-family:Menlo,'DejaVu Sans Mono',consolas,'Courier New',monospace\">Processing Record <span style=\"color: #008080; text-decoration-color: #008080; font-weight: bold\">24</span> of Set <span style=\"color: #008080; text-decoration-color: #008080; font-weight: bold\">9</span> | ala\n",
       "</pre>\n"
      ],
      "text/plain": [
       "Processing Record \u001b[1;36m24\u001b[0m of Set \u001b[1;36m9\u001b[0m | ala\n"
      ]
     },
     "metadata": {},
     "output_type": "display_data"
    },
    {
     "data": {
      "text/html": [
       "<pre style=\"white-space:pre;overflow-x:auto;line-height:normal;font-family:Menlo,'DejaVu Sans Mono',consolas,'Courier New',monospace\">Processing Record <span style=\"color: #008080; text-decoration-color: #008080; font-weight: bold\">25</span> of Set <span style=\"color: #008080; text-decoration-color: #008080; font-weight: bold\">9</span> | malango\n",
       "</pre>\n"
      ],
      "text/plain": [
       "Processing Record \u001b[1;36m25\u001b[0m of Set \u001b[1;36m9\u001b[0m | malango\n"
      ]
     },
     "metadata": {},
     "output_type": "display_data"
    },
    {
     "data": {
      "text/html": [
       "<pre style=\"white-space:pre;overflow-x:auto;line-height:normal;font-family:Menlo,'DejaVu Sans Mono',consolas,'Courier New',monospace\">Processing Record <span style=\"color: #008080; text-decoration-color: #008080; font-weight: bold\">26</span> of Set <span style=\"color: #008080; text-decoration-color: #008080; font-weight: bold\">9</span> | tecuala\n",
       "</pre>\n"
      ],
      "text/plain": [
       "Processing Record \u001b[1;36m26\u001b[0m of Set \u001b[1;36m9\u001b[0m | tecuala\n"
      ]
     },
     "metadata": {},
     "output_type": "display_data"
    },
    {
     "data": {
      "text/html": [
       "<pre style=\"white-space:pre;overflow-x:auto;line-height:normal;font-family:Menlo,'DejaVu Sans Mono',consolas,'Courier New',monospace\">Processing Record <span style=\"color: #008080; text-decoration-color: #008080; font-weight: bold\">27</span> of Set <span style=\"color: #008080; text-decoration-color: #008080; font-weight: bold\">9</span> | progreso\n",
       "</pre>\n"
      ],
      "text/plain": [
       "Processing Record \u001b[1;36m27\u001b[0m of Set \u001b[1;36m9\u001b[0m | progreso\n"
      ]
     },
     "metadata": {},
     "output_type": "display_data"
    },
    {
     "data": {
      "text/html": [
       "<pre style=\"white-space:pre;overflow-x:auto;line-height:normal;font-family:Menlo,'DejaVu Sans Mono',consolas,'Courier New',monospace\">Processing Record <span style=\"color: #008080; text-decoration-color: #008080; font-weight: bold\">28</span> of Set <span style=\"color: #008080; text-decoration-color: #008080; font-weight: bold\">9</span> | zouerate\n",
       "</pre>\n"
      ],
      "text/plain": [
       "Processing Record \u001b[1;36m28\u001b[0m of Set \u001b[1;36m9\u001b[0m | zouerate\n"
      ]
     },
     "metadata": {},
     "output_type": "display_data"
    },
    {
     "data": {
      "text/html": [
       "<pre style=\"white-space:pre;overflow-x:auto;line-height:normal;font-family:Menlo,'DejaVu Sans Mono',consolas,'Courier New',monospace\">Processing Record <span style=\"color: #008080; text-decoration-color: #008080; font-weight: bold\">29</span> of Set <span style=\"color: #008080; text-decoration-color: #008080; font-weight: bold\">9</span> | whakatane\n",
       "</pre>\n"
      ],
      "text/plain": [
       "Processing Record \u001b[1;36m29\u001b[0m of Set \u001b[1;36m9\u001b[0m | whakatane\n"
      ]
     },
     "metadata": {},
     "output_type": "display_data"
    },
    {
     "data": {
      "text/html": [
       "<pre style=\"white-space:pre;overflow-x:auto;line-height:normal;font-family:Menlo,'DejaVu Sans Mono',consolas,'Courier New',monospace\">Processing Record <span style=\"color: #008080; text-decoration-color: #008080; font-weight: bold\">30</span> of Set <span style=\"color: #008080; text-decoration-color: #008080; font-weight: bold\">9</span> | chany\n",
       "</pre>\n"
      ],
      "text/plain": [
       "Processing Record \u001b[1;36m30\u001b[0m of Set \u001b[1;36m9\u001b[0m | chany\n"
      ]
     },
     "metadata": {},
     "output_type": "display_data"
    },
    {
     "data": {
      "text/html": [
       "<pre style=\"white-space:pre;overflow-x:auto;line-height:normal;font-family:Menlo,'DejaVu Sans Mono',consolas,'Courier New',monospace\">Processing Record <span style=\"color: #008080; text-decoration-color: #008080; font-weight: bold\">31</span> of Set <span style=\"color: #008080; text-decoration-color: #008080; font-weight: bold\">9</span> | mhamid\n",
       "</pre>\n"
      ],
      "text/plain": [
       "Processing Record \u001b[1;36m31\u001b[0m of Set \u001b[1;36m9\u001b[0m | mhamid\n"
      ]
     },
     "metadata": {},
     "output_type": "display_data"
    },
    {
     "data": {
      "text/html": [
       "<pre style=\"white-space:pre;overflow-x:auto;line-height:normal;font-family:Menlo,'DejaVu Sans Mono',consolas,'Courier New',monospace\">Processing Record <span style=\"color: #008080; text-decoration-color: #008080; font-weight: bold\">32</span> of Set <span style=\"color: #008080; text-decoration-color: #008080; font-weight: bold\">9</span> | antsiranana\n",
       "</pre>\n"
      ],
      "text/plain": [
       "Processing Record \u001b[1;36m32\u001b[0m of Set \u001b[1;36m9\u001b[0m | antsiranana\n"
      ]
     },
     "metadata": {},
     "output_type": "display_data"
    },
    {
     "data": {
      "text/html": [
       "<pre style=\"white-space:pre;overflow-x:auto;line-height:normal;font-family:Menlo,'DejaVu Sans Mono',consolas,'Courier New',monospace\">Processing Record <span style=\"color: #008080; text-decoration-color: #008080; font-weight: bold\">33</span> of Set <span style=\"color: #008080; text-decoration-color: #008080; font-weight: bold\">9</span> | amos\n",
       "</pre>\n"
      ],
      "text/plain": [
       "Processing Record \u001b[1;36m33\u001b[0m of Set \u001b[1;36m9\u001b[0m | amos\n"
      ]
     },
     "metadata": {},
     "output_type": "display_data"
    },
    {
     "data": {
      "text/html": [
       "<pre style=\"white-space:pre;overflow-x:auto;line-height:normal;font-family:Menlo,'DejaVu Sans Mono',consolas,'Courier New',monospace\">Processing Record <span style=\"color: #008080; text-decoration-color: #008080; font-weight: bold\">34</span> of Set <span style=\"color: #008080; text-decoration-color: #008080; font-weight: bold\">9</span> | las heras\n",
       "</pre>\n"
      ],
      "text/plain": [
       "Processing Record \u001b[1;36m34\u001b[0m of Set \u001b[1;36m9\u001b[0m | las heras\n"
      ]
     },
     "metadata": {},
     "output_type": "display_data"
    },
    {
     "data": {
      "text/html": [
       "<pre style=\"white-space:pre;overflow-x:auto;line-height:normal;font-family:Menlo,'DejaVu Sans Mono',consolas,'Courier New',monospace\">Processing Record <span style=\"color: #008080; text-decoration-color: #008080; font-weight: bold\">35</span> of Set <span style=\"color: #008080; text-decoration-color: #008080; font-weight: bold\">9</span> | mucuri\n",
       "</pre>\n"
      ],
      "text/plain": [
       "Processing Record \u001b[1;36m35\u001b[0m of Set \u001b[1;36m9\u001b[0m | mucuri\n"
      ]
     },
     "metadata": {},
     "output_type": "display_data"
    },
    {
     "data": {
      "text/html": [
       "<pre style=\"white-space:pre;overflow-x:auto;line-height:normal;font-family:Menlo,'DejaVu Sans Mono',consolas,'Courier New',monospace\">Processing Record <span style=\"color: #008080; text-decoration-color: #008080; font-weight: bold\">36</span> of Set <span style=\"color: #008080; text-decoration-color: #008080; font-weight: bold\">9</span> | dunedin\n",
       "</pre>\n"
      ],
      "text/plain": [
       "Processing Record \u001b[1;36m36\u001b[0m of Set \u001b[1;36m9\u001b[0m | dunedin\n"
      ]
     },
     "metadata": {},
     "output_type": "display_data"
    },
    {
     "data": {
      "text/html": [
       "<pre style=\"white-space:pre;overflow-x:auto;line-height:normal;font-family:Menlo,'DejaVu Sans Mono',consolas,'Courier New',monospace\">Processing Record <span style=\"color: #008080; text-decoration-color: #008080; font-weight: bold\">37</span> of Set <span style=\"color: #008080; text-decoration-color: #008080; font-weight: bold\">9</span> | broken hill\n",
       "</pre>\n"
      ],
      "text/plain": [
       "Processing Record \u001b[1;36m37\u001b[0m of Set \u001b[1;36m9\u001b[0m | broken hill\n"
      ]
     },
     "metadata": {},
     "output_type": "display_data"
    },
    {
     "data": {
      "text/html": [
       "<pre style=\"white-space:pre;overflow-x:auto;line-height:normal;font-family:Menlo,'DejaVu Sans Mono',consolas,'Courier New',monospace\">Processing Record <span style=\"color: #008080; text-decoration-color: #008080; font-weight: bold\">38</span> of Set <span style=\"color: #008080; text-decoration-color: #008080; font-weight: bold\">9</span> | neelankarai\n",
       "</pre>\n"
      ],
      "text/plain": [
       "Processing Record \u001b[1;36m38\u001b[0m of Set \u001b[1;36m9\u001b[0m | neelankarai\n"
      ]
     },
     "metadata": {},
     "output_type": "display_data"
    },
    {
     "data": {
      "text/html": [
       "<pre style=\"white-space:pre;overflow-x:auto;line-height:normal;font-family:Menlo,'DejaVu Sans Mono',consolas,'Courier New',monospace\">Processing Record <span style=\"color: #008080; text-decoration-color: #008080; font-weight: bold\">39</span> of Set <span style=\"color: #008080; text-decoration-color: #008080; font-weight: bold\">9</span> | barra de santo antonio\n",
       "</pre>\n"
      ],
      "text/plain": [
       "Processing Record \u001b[1;36m39\u001b[0m of Set \u001b[1;36m9\u001b[0m | barra de santo antonio\n"
      ]
     },
     "metadata": {},
     "output_type": "display_data"
    },
    {
     "data": {
      "text/html": [
       "<pre style=\"white-space:pre;overflow-x:auto;line-height:normal;font-family:Menlo,'DejaVu Sans Mono',consolas,'Courier New',monospace\">Processing Record <span style=\"color: #008080; text-decoration-color: #008080; font-weight: bold\">40</span> of Set <span style=\"color: #008080; text-decoration-color: #008080; font-weight: bold\">9</span> | north bend\n",
       "</pre>\n"
      ],
      "text/plain": [
       "Processing Record \u001b[1;36m40\u001b[0m of Set \u001b[1;36m9\u001b[0m | north bend\n"
      ]
     },
     "metadata": {},
     "output_type": "display_data"
    },
    {
     "data": {
      "text/html": [
       "<pre style=\"white-space:pre;overflow-x:auto;line-height:normal;font-family:Menlo,'DejaVu Sans Mono',consolas,'Courier New',monospace\">Processing Record <span style=\"color: #008080; text-decoration-color: #008080; font-weight: bold\">41</span> of Set <span style=\"color: #008080; text-decoration-color: #008080; font-weight: bold\">9</span> | al khums\n",
       "</pre>\n"
      ],
      "text/plain": [
       "Processing Record \u001b[1;36m41\u001b[0m of Set \u001b[1;36m9\u001b[0m | al khums\n"
      ]
     },
     "metadata": {},
     "output_type": "display_data"
    },
    {
     "data": {
      "text/html": [
       "<pre style=\"white-space:pre;overflow-x:auto;line-height:normal;font-family:Menlo,'DejaVu Sans Mono',consolas,'Courier New',monospace\">Processing Record <span style=\"color: #008080; text-decoration-color: #008080; font-weight: bold\">42</span> of Set <span style=\"color: #008080; text-decoration-color: #008080; font-weight: bold\">9</span> | thabazimbi\n",
       "</pre>\n"
      ],
      "text/plain": [
       "Processing Record \u001b[1;36m42\u001b[0m of Set \u001b[1;36m9\u001b[0m | thabazimbi\n"
      ]
     },
     "metadata": {},
     "output_type": "display_data"
    },
    {
     "data": {
      "text/html": [
       "<pre style=\"white-space:pre;overflow-x:auto;line-height:normal;font-family:Menlo,'DejaVu Sans Mono',consolas,'Courier New',monospace\">Processing Record <span style=\"color: #008080; text-decoration-color: #008080; font-weight: bold\">43</span> of Set <span style=\"color: #008080; text-decoration-color: #008080; font-weight: bold\">9</span> | tralee\n",
       "</pre>\n"
      ],
      "text/plain": [
       "Processing Record \u001b[1;36m43\u001b[0m of Set \u001b[1;36m9\u001b[0m | tralee\n"
      ]
     },
     "metadata": {},
     "output_type": "display_data"
    },
    {
     "data": {
      "text/html": [
       "<pre style=\"white-space:pre;overflow-x:auto;line-height:normal;font-family:Menlo,'DejaVu Sans Mono',consolas,'Courier New',monospace\">Processing Record <span style=\"color: #008080; text-decoration-color: #008080; font-weight: bold\">44</span> of Set <span style=\"color: #008080; text-decoration-color: #008080; font-weight: bold\">9</span> | ogoja\n",
       "</pre>\n"
      ],
      "text/plain": [
       "Processing Record \u001b[1;36m44\u001b[0m of Set \u001b[1;36m9\u001b[0m | ogoja\n"
      ]
     },
     "metadata": {},
     "output_type": "display_data"
    },
    {
     "data": {
      "text/html": [
       "<pre style=\"white-space:pre;overflow-x:auto;line-height:normal;font-family:Menlo,'DejaVu Sans Mono',consolas,'Courier New',monospace\">Processing Record <span style=\"color: #008080; text-decoration-color: #008080; font-weight: bold\">45</span> of Set <span style=\"color: #008080; text-decoration-color: #008080; font-weight: bold\">9</span> | dalnerechensk\n",
       "</pre>\n"
      ],
      "text/plain": [
       "Processing Record \u001b[1;36m45\u001b[0m of Set \u001b[1;36m9\u001b[0m | dalnerechensk\n"
      ]
     },
     "metadata": {},
     "output_type": "display_data"
    },
    {
     "data": {
      "text/html": [
       "<pre style=\"white-space:pre;overflow-x:auto;line-height:normal;font-family:Menlo,'DejaVu Sans Mono',consolas,'Courier New',monospace\">Processing Record <span style=\"color: #008080; text-decoration-color: #008080; font-weight: bold\">46</span> of Set <span style=\"color: #008080; text-decoration-color: #008080; font-weight: bold\">9</span> | wynyard\n",
       "</pre>\n"
      ],
      "text/plain": [
       "Processing Record \u001b[1;36m46\u001b[0m of Set \u001b[1;36m9\u001b[0m | wynyard\n"
      ]
     },
     "metadata": {},
     "output_type": "display_data"
    },
    {
     "data": {
      "text/html": [
       "<pre style=\"white-space:pre;overflow-x:auto;line-height:normal;font-family:Menlo,'DejaVu Sans Mono',consolas,'Courier New',monospace\">Processing Record <span style=\"color: #008080; text-decoration-color: #008080; font-weight: bold\">47</span> of Set <span style=\"color: #008080; text-decoration-color: #008080; font-weight: bold\">9</span> | canutama\n",
       "</pre>\n"
      ],
      "text/plain": [
       "Processing Record \u001b[1;36m47\u001b[0m of Set \u001b[1;36m9\u001b[0m | canutama\n"
      ]
     },
     "metadata": {},
     "output_type": "display_data"
    },
    {
     "data": {
      "text/html": [
       "<pre style=\"white-space:pre;overflow-x:auto;line-height:normal;font-family:Menlo,'DejaVu Sans Mono',consolas,'Courier New',monospace\">Processing Record <span style=\"color: #008080; text-decoration-color: #008080; font-weight: bold\">48</span> of Set <span style=\"color: #008080; text-decoration-color: #008080; font-weight: bold\">9</span> | natal\n",
       "</pre>\n"
      ],
      "text/plain": [
       "Processing Record \u001b[1;36m48\u001b[0m of Set \u001b[1;36m9\u001b[0m | natal\n"
      ]
     },
     "metadata": {},
     "output_type": "display_data"
    },
    {
     "data": {
      "text/html": [
       "<pre style=\"white-space:pre;overflow-x:auto;line-height:normal;font-family:Menlo,'DejaVu Sans Mono',consolas,'Courier New',monospace\">Processing Record <span style=\"color: #008080; text-decoration-color: #008080; font-weight: bold\">49</span> of Set <span style=\"color: #008080; text-decoration-color: #008080; font-weight: bold\">9</span> | chibuto\n",
       "</pre>\n"
      ],
      "text/plain": [
       "Processing Record \u001b[1;36m49\u001b[0m of Set \u001b[1;36m9\u001b[0m | chibuto\n"
      ]
     },
     "metadata": {},
     "output_type": "display_data"
    },
    {
     "data": {
      "text/html": [
       "<pre style=\"white-space:pre;overflow-x:auto;line-height:normal;font-family:Menlo,'DejaVu Sans Mono',consolas,'Courier New',monospace\">Processing Record <span style=\"color: #008080; text-decoration-color: #008080; font-weight: bold\">0</span> of Set <span style=\"color: #008080; text-decoration-color: #008080; font-weight: bold\">10</span> | balnearia\n",
       "</pre>\n"
      ],
      "text/plain": [
       "Processing Record \u001b[1;36m0\u001b[0m of Set \u001b[1;36m10\u001b[0m | balnearia\n"
      ]
     },
     "metadata": {},
     "output_type": "display_data"
    },
    {
     "data": {
      "text/html": [
       "<pre style=\"white-space:pre;overflow-x:auto;line-height:normal;font-family:Menlo,'DejaVu Sans Mono',consolas,'Courier New',monospace\">Processing Record <span style=\"color: #008080; text-decoration-color: #008080; font-weight: bold\">1</span> of Set <span style=\"color: #008080; text-decoration-color: #008080; font-weight: bold\">10</span> | tabatinga\n",
       "</pre>\n"
      ],
      "text/plain": [
       "Processing Record \u001b[1;36m1\u001b[0m of Set \u001b[1;36m10\u001b[0m | tabatinga\n"
      ]
     },
     "metadata": {},
     "output_type": "display_data"
    },
    {
     "data": {
      "text/html": [
       "<pre style=\"white-space:pre;overflow-x:auto;line-height:normal;font-family:Menlo,'DejaVu Sans Mono',consolas,'Courier New',monospace\">Processing Record <span style=\"color: #008080; text-decoration-color: #008080; font-weight: bold\">2</span> of Set <span style=\"color: #008080; text-decoration-color: #008080; font-weight: bold\">10</span> | gumdag\n",
       "</pre>\n"
      ],
      "text/plain": [
       "Processing Record \u001b[1;36m2\u001b[0m of Set \u001b[1;36m10\u001b[0m | gumdag\n"
      ]
     },
     "metadata": {},
     "output_type": "display_data"
    },
    {
     "data": {
      "text/html": [
       "<pre style=\"white-space:pre;overflow-x:auto;line-height:normal;font-family:Menlo,'DejaVu Sans Mono',consolas,'Courier New',monospace\">Processing Record <span style=\"color: #008080; text-decoration-color: #008080; font-weight: bold\">3</span> of Set <span style=\"color: #008080; text-decoration-color: #008080; font-weight: bold\">10</span> | tamanrasset\n",
       "</pre>\n"
      ],
      "text/plain": [
       "Processing Record \u001b[1;36m3\u001b[0m of Set \u001b[1;36m10\u001b[0m | tamanrasset\n"
      ]
     },
     "metadata": {},
     "output_type": "display_data"
    },
    {
     "data": {
      "text/html": [
       "<pre style=\"white-space:pre;overflow-x:auto;line-height:normal;font-family:Menlo,'DejaVu Sans Mono',consolas,'Courier New',monospace\">Processing Record <span style=\"color: #008080; text-decoration-color: #008080; font-weight: bold\">4</span> of Set <span style=\"color: #008080; text-decoration-color: #008080; font-weight: bold\">10</span> | chapaev\n",
       "</pre>\n"
      ],
      "text/plain": [
       "Processing Record \u001b[1;36m4\u001b[0m of Set \u001b[1;36m10\u001b[0m | chapaev\n"
      ]
     },
     "metadata": {},
     "output_type": "display_data"
    },
    {
     "data": {
      "text/html": [
       "<pre style=\"white-space:pre;overflow-x:auto;line-height:normal;font-family:Menlo,'DejaVu Sans Mono',consolas,'Courier New',monospace\">Processing Record <span style=\"color: #008080; text-decoration-color: #008080; font-weight: bold\">5</span> of Set <span style=\"color: #008080; text-decoration-color: #008080; font-weight: bold\">10</span> | pacific grove\n",
       "</pre>\n"
      ],
      "text/plain": [
       "Processing Record \u001b[1;36m5\u001b[0m of Set \u001b[1;36m10\u001b[0m | pacific grove\n"
      ]
     },
     "metadata": {},
     "output_type": "display_data"
    },
    {
     "data": {
      "text/html": [
       "<pre style=\"white-space:pre;overflow-x:auto;line-height:normal;font-family:Menlo,'DejaVu Sans Mono',consolas,'Courier New',monospace\">Processing Record <span style=\"color: #008080; text-decoration-color: #008080; font-weight: bold\">6</span> of Set <span style=\"color: #008080; text-decoration-color: #008080; font-weight: bold\">10</span> | eureka\n",
       "</pre>\n"
      ],
      "text/plain": [
       "Processing Record \u001b[1;36m6\u001b[0m of Set \u001b[1;36m10\u001b[0m | eureka\n"
      ]
     },
     "metadata": {},
     "output_type": "display_data"
    },
    {
     "data": {
      "text/html": [
       "<pre style=\"white-space:pre;overflow-x:auto;line-height:normal;font-family:Menlo,'DejaVu Sans Mono',consolas,'Courier New',monospace\">Processing Record <span style=\"color: #008080; text-decoration-color: #008080; font-weight: bold\">7</span> of Set <span style=\"color: #008080; text-decoration-color: #008080; font-weight: bold\">10</span> | kyzyl-mazhalyk\n",
       "</pre>\n"
      ],
      "text/plain": [
       "Processing Record \u001b[1;36m7\u001b[0m of Set \u001b[1;36m10\u001b[0m | kyzyl-mazhalyk\n"
      ]
     },
     "metadata": {},
     "output_type": "display_data"
    },
    {
     "data": {
      "text/html": [
       "<pre style=\"white-space:pre;overflow-x:auto;line-height:normal;font-family:Menlo,'DejaVu Sans Mono',consolas,'Courier New',monospace\">Processing Record <span style=\"color: #008080; text-decoration-color: #008080; font-weight: bold\">8</span> of Set <span style=\"color: #008080; text-decoration-color: #008080; font-weight: bold\">10</span> | 'ohonua\n",
       "</pre>\n"
      ],
      "text/plain": [
       "Processing Record \u001b[1;36m8\u001b[0m of Set \u001b[1;36m10\u001b[0m | 'ohonua\n"
      ]
     },
     "metadata": {},
     "output_type": "display_data"
    },
    {
     "data": {
      "text/html": [
       "<pre style=\"white-space:pre;overflow-x:auto;line-height:normal;font-family:Menlo,'DejaVu Sans Mono',consolas,'Courier New',monospace\">City not found. Skipping<span style=\"color: #808000; text-decoration-color: #808000\">...</span>\n",
       "</pre>\n"
      ],
      "text/plain": [
       "City not found. Skipping\u001b[33m...\u001b[0m\n"
      ]
     },
     "metadata": {},
     "output_type": "display_data"
    },
    {
     "data": {
      "text/html": [
       "<pre style=\"white-space:pre;overflow-x:auto;line-height:normal;font-family:Menlo,'DejaVu Sans Mono',consolas,'Courier New',monospace\">Processing Record <span style=\"color: #008080; text-decoration-color: #008080; font-weight: bold\">9</span> of Set <span style=\"color: #008080; text-decoration-color: #008080; font-weight: bold\">10</span> | zaranj\n",
       "</pre>\n"
      ],
      "text/plain": [
       "Processing Record \u001b[1;36m9\u001b[0m of Set \u001b[1;36m10\u001b[0m | zaranj\n"
      ]
     },
     "metadata": {},
     "output_type": "display_data"
    },
    {
     "data": {
      "text/html": [
       "<pre style=\"white-space:pre;overflow-x:auto;line-height:normal;font-family:Menlo,'DejaVu Sans Mono',consolas,'Courier New',monospace\">Processing Record <span style=\"color: #008080; text-decoration-color: #008080; font-weight: bold\">10</span> of Set <span style=\"color: #008080; text-decoration-color: #008080; font-weight: bold\">10</span> | alice springs\n",
       "</pre>\n"
      ],
      "text/plain": [
       "Processing Record \u001b[1;36m10\u001b[0m of Set \u001b[1;36m10\u001b[0m | alice springs\n"
      ]
     },
     "metadata": {},
     "output_type": "display_data"
    },
    {
     "data": {
      "text/html": [
       "<pre style=\"white-space:pre;overflow-x:auto;line-height:normal;font-family:Menlo,'DejaVu Sans Mono',consolas,'Courier New',monospace\">Processing Record <span style=\"color: #008080; text-decoration-color: #008080; font-weight: bold\">11</span> of Set <span style=\"color: #008080; text-decoration-color: #008080; font-weight: bold\">10</span> | sergeyevka\n",
       "</pre>\n"
      ],
      "text/plain": [
       "Processing Record \u001b[1;36m11\u001b[0m of Set \u001b[1;36m10\u001b[0m | sergeyevka\n"
      ]
     },
     "metadata": {},
     "output_type": "display_data"
    },
    {
     "data": {
      "text/html": [
       "<pre style=\"white-space:pre;overflow-x:auto;line-height:normal;font-family:Menlo,'DejaVu Sans Mono',consolas,'Courier New',monospace\">Processing Record <span style=\"color: #008080; text-decoration-color: #008080; font-weight: bold\">12</span> of Set <span style=\"color: #008080; text-decoration-color: #008080; font-weight: bold\">10</span> | guanica\n",
       "</pre>\n"
      ],
      "text/plain": [
       "Processing Record \u001b[1;36m12\u001b[0m of Set \u001b[1;36m10\u001b[0m | guanica\n"
      ]
     },
     "metadata": {},
     "output_type": "display_data"
    },
    {
     "data": {
      "text/html": [
       "<pre style=\"white-space:pre;overflow-x:auto;line-height:normal;font-family:Menlo,'DejaVu Sans Mono',consolas,'Courier New',monospace\">Processing Record <span style=\"color: #008080; text-decoration-color: #008080; font-weight: bold\">13</span> of Set <span style=\"color: #008080; text-decoration-color: #008080; font-weight: bold\">10</span> | usinsk\n",
       "</pre>\n"
      ],
      "text/plain": [
       "Processing Record \u001b[1;36m13\u001b[0m of Set \u001b[1;36m10\u001b[0m | usinsk\n"
      ]
     },
     "metadata": {},
     "output_type": "display_data"
    },
    {
     "data": {
      "text/html": [
       "<pre style=\"white-space:pre;overflow-x:auto;line-height:normal;font-family:Menlo,'DejaVu Sans Mono',consolas,'Courier New',monospace\">Processing Record <span style=\"color: #008080; text-decoration-color: #008080; font-weight: bold\">14</span> of Set <span style=\"color: #008080; text-decoration-color: #008080; font-weight: bold\">10</span> | akureyri\n",
       "</pre>\n"
      ],
      "text/plain": [
       "Processing Record \u001b[1;36m14\u001b[0m of Set \u001b[1;36m10\u001b[0m | akureyri\n"
      ]
     },
     "metadata": {},
     "output_type": "display_data"
    },
    {
     "data": {
      "text/html": [
       "<pre style=\"white-space:pre;overflow-x:auto;line-height:normal;font-family:Menlo,'DejaVu Sans Mono',consolas,'Courier New',monospace\">Processing Record <span style=\"color: #008080; text-decoration-color: #008080; font-weight: bold\">15</span> of Set <span style=\"color: #008080; text-decoration-color: #008080; font-weight: bold\">10</span> | motozintla\n",
       "</pre>\n"
      ],
      "text/plain": [
       "Processing Record \u001b[1;36m15\u001b[0m of Set \u001b[1;36m10\u001b[0m | motozintla\n"
      ]
     },
     "metadata": {},
     "output_type": "display_data"
    },
    {
     "data": {
      "text/html": [
       "<pre style=\"white-space:pre;overflow-x:auto;line-height:normal;font-family:Menlo,'DejaVu Sans Mono',consolas,'Courier New',monospace\">Processing Record <span style=\"color: #008080; text-decoration-color: #008080; font-weight: bold\">16</span> of Set <span style=\"color: #008080; text-decoration-color: #008080; font-weight: bold\">10</span> | ndjole\n",
       "</pre>\n"
      ],
      "text/plain": [
       "Processing Record \u001b[1;36m16\u001b[0m of Set \u001b[1;36m10\u001b[0m | ndjole\n"
      ]
     },
     "metadata": {},
     "output_type": "display_data"
    },
    {
     "data": {
      "text/html": [
       "<pre style=\"white-space:pre;overflow-x:auto;line-height:normal;font-family:Menlo,'DejaVu Sans Mono',consolas,'Courier New',monospace\">Processing Record <span style=\"color: #008080; text-decoration-color: #008080; font-weight: bold\">17</span> of Set <span style=\"color: #008080; text-decoration-color: #008080; font-weight: bold\">10</span> | camana\n",
       "</pre>\n"
      ],
      "text/plain": [
       "Processing Record \u001b[1;36m17\u001b[0m of Set \u001b[1;36m10\u001b[0m | camana\n"
      ]
     },
     "metadata": {},
     "output_type": "display_data"
    },
    {
     "data": {
      "text/html": [
       "<pre style=\"white-space:pre;overflow-x:auto;line-height:normal;font-family:Menlo,'DejaVu Sans Mono',consolas,'Courier New',monospace\">Processing Record <span style=\"color: #008080; text-decoration-color: #008080; font-weight: bold\">18</span> of Set <span style=\"color: #008080; text-decoration-color: #008080; font-weight: bold\">10</span> | ribas do rio pardo\n",
       "</pre>\n"
      ],
      "text/plain": [
       "Processing Record \u001b[1;36m18\u001b[0m of Set \u001b[1;36m10\u001b[0m | ribas do rio pardo\n"
      ]
     },
     "metadata": {},
     "output_type": "display_data"
    },
    {
     "data": {
      "text/html": [
       "<pre style=\"white-space:pre;overflow-x:auto;line-height:normal;font-family:Menlo,'DejaVu Sans Mono',consolas,'Courier New',monospace\">Processing Record <span style=\"color: #008080; text-decoration-color: #008080; font-weight: bold\">19</span> of Set <span style=\"color: #008080; text-decoration-color: #008080; font-weight: bold\">10</span> | gizo\n",
       "</pre>\n"
      ],
      "text/plain": [
       "Processing Record \u001b[1;36m19\u001b[0m of Set \u001b[1;36m10\u001b[0m | gizo\n"
      ]
     },
     "metadata": {},
     "output_type": "display_data"
    },
    {
     "data": {
      "text/html": [
       "<pre style=\"white-space:pre;overflow-x:auto;line-height:normal;font-family:Menlo,'DejaVu Sans Mono',consolas,'Courier New',monospace\">Processing Record <span style=\"color: #008080; text-decoration-color: #008080; font-weight: bold\">20</span> of Set <span style=\"color: #008080; text-decoration-color: #008080; font-weight: bold\">10</span> | hihifo\n",
       "</pre>\n"
      ],
      "text/plain": [
       "Processing Record \u001b[1;36m20\u001b[0m of Set \u001b[1;36m10\u001b[0m | hihifo\n"
      ]
     },
     "metadata": {},
     "output_type": "display_data"
    },
    {
     "data": {
      "text/html": [
       "<pre style=\"white-space:pre;overflow-x:auto;line-height:normal;font-family:Menlo,'DejaVu Sans Mono',consolas,'Courier New',monospace\">City not found. Skipping<span style=\"color: #808000; text-decoration-color: #808000\">...</span>\n",
       "</pre>\n"
      ],
      "text/plain": [
       "City not found. Skipping\u001b[33m...\u001b[0m\n"
      ]
     },
     "metadata": {},
     "output_type": "display_data"
    },
    {
     "data": {
      "text/html": [
       "<pre style=\"white-space:pre;overflow-x:auto;line-height:normal;font-family:Menlo,'DejaVu Sans Mono',consolas,'Courier New',monospace\">Processing Record <span style=\"color: #008080; text-decoration-color: #008080; font-weight: bold\">21</span> of Set <span style=\"color: #008080; text-decoration-color: #008080; font-weight: bold\">10</span> | palikir - national government center\n",
       "</pre>\n"
      ],
      "text/plain": [
       "Processing Record \u001b[1;36m21\u001b[0m of Set \u001b[1;36m10\u001b[0m | palikir - national government center\n"
      ]
     },
     "metadata": {},
     "output_type": "display_data"
    },
    {
     "data": {
      "text/html": [
       "<pre style=\"white-space:pre;overflow-x:auto;line-height:normal;font-family:Menlo,'DejaVu Sans Mono',consolas,'Courier New',monospace\">Processing Record <span style=\"color: #008080; text-decoration-color: #008080; font-weight: bold\">22</span> of Set <span style=\"color: #008080; text-decoration-color: #008080; font-weight: bold\">10</span> | pariang\n",
       "</pre>\n"
      ],
      "text/plain": [
       "Processing Record \u001b[1;36m22\u001b[0m of Set \u001b[1;36m10\u001b[0m | pariang\n"
      ]
     },
     "metadata": {},
     "output_type": "display_data"
    },
    {
     "data": {
      "text/html": [
       "<pre style=\"white-space:pre;overflow-x:auto;line-height:normal;font-family:Menlo,'DejaVu Sans Mono',consolas,'Courier New',monospace\">City not found. Skipping<span style=\"color: #808000; text-decoration-color: #808000\">...</span>\n",
       "</pre>\n"
      ],
      "text/plain": [
       "City not found. Skipping\u001b[33m...\u001b[0m\n"
      ]
     },
     "metadata": {},
     "output_type": "display_data"
    },
    {
     "data": {
      "text/html": [
       "<pre style=\"white-space:pre;overflow-x:auto;line-height:normal;font-family:Menlo,'DejaVu Sans Mono',consolas,'Courier New',monospace\">Processing Record <span style=\"color: #008080; text-decoration-color: #008080; font-weight: bold\">23</span> of Set <span style=\"color: #008080; text-decoration-color: #008080; font-weight: bold\">10</span> | alibag\n",
       "</pre>\n"
      ],
      "text/plain": [
       "Processing Record \u001b[1;36m23\u001b[0m of Set \u001b[1;36m10\u001b[0m | alibag\n"
      ]
     },
     "metadata": {},
     "output_type": "display_data"
    },
    {
     "data": {
      "text/html": [
       "<pre style=\"white-space:pre;overflow-x:auto;line-height:normal;font-family:Menlo,'DejaVu Sans Mono',consolas,'Courier New',monospace\">Processing Record <span style=\"color: #008080; text-decoration-color: #008080; font-weight: bold\">24</span> of Set <span style=\"color: #008080; text-decoration-color: #008080; font-weight: bold\">10</span> | undurkhaan\n",
       "</pre>\n"
      ],
      "text/plain": [
       "Processing Record \u001b[1;36m24\u001b[0m of Set \u001b[1;36m10\u001b[0m | undurkhaan\n"
      ]
     },
     "metadata": {},
     "output_type": "display_data"
    },
    {
     "data": {
      "text/html": [
       "<pre style=\"white-space:pre;overflow-x:auto;line-height:normal;font-family:Menlo,'DejaVu Sans Mono',consolas,'Courier New',monospace\">Processing Record <span style=\"color: #008080; text-decoration-color: #008080; font-weight: bold\">25</span> of Set <span style=\"color: #008080; text-decoration-color: #008080; font-weight: bold\">10</span> | kendal\n",
       "</pre>\n"
      ],
      "text/plain": [
       "Processing Record \u001b[1;36m25\u001b[0m of Set \u001b[1;36m10\u001b[0m | kendal\n"
      ]
     },
     "metadata": {},
     "output_type": "display_data"
    },
    {
     "data": {
      "text/html": [
       "<pre style=\"white-space:pre;overflow-x:auto;line-height:normal;font-family:Menlo,'DejaVu Sans Mono',consolas,'Courier New',monospace\">Processing Record <span style=\"color: #008080; text-decoration-color: #008080; font-weight: bold\">26</span> of Set <span style=\"color: #008080; text-decoration-color: #008080; font-weight: bold\">10</span> | dryden\n",
       "</pre>\n"
      ],
      "text/plain": [
       "Processing Record \u001b[1;36m26\u001b[0m of Set \u001b[1;36m10\u001b[0m | dryden\n"
      ]
     },
     "metadata": {},
     "output_type": "display_data"
    },
    {
     "data": {
      "text/html": [
       "<pre style=\"white-space:pre;overflow-x:auto;line-height:normal;font-family:Menlo,'DejaVu Sans Mono',consolas,'Courier New',monospace\">Processing Record <span style=\"color: #008080; text-decoration-color: #008080; font-weight: bold\">27</span> of Set <span style=\"color: #008080; text-decoration-color: #008080; font-weight: bold\">10</span> | nantucket\n",
       "</pre>\n"
      ],
      "text/plain": [
       "Processing Record \u001b[1;36m27\u001b[0m of Set \u001b[1;36m10\u001b[0m | nantucket\n"
      ]
     },
     "metadata": {},
     "output_type": "display_data"
    },
    {
     "data": {
      "text/html": [
       "<pre style=\"white-space:pre;overflow-x:auto;line-height:normal;font-family:Menlo,'DejaVu Sans Mono',consolas,'Courier New',monospace\">Processing Record <span style=\"color: #008080; text-decoration-color: #008080; font-weight: bold\">28</span> of Set <span style=\"color: #008080; text-decoration-color: #008080; font-weight: bold\">10</span> | ayorou\n",
       "</pre>\n"
      ],
      "text/plain": [
       "Processing Record \u001b[1;36m28\u001b[0m of Set \u001b[1;36m10\u001b[0m | ayorou\n"
      ]
     },
     "metadata": {},
     "output_type": "display_data"
    },
    {
     "data": {
      "text/html": [
       "<pre style=\"white-space:pre;overflow-x:auto;line-height:normal;font-family:Menlo,'DejaVu Sans Mono',consolas,'Courier New',monospace\">Processing Record <span style=\"color: #008080; text-decoration-color: #008080; font-weight: bold\">29</span> of Set <span style=\"color: #008080; text-decoration-color: #008080; font-weight: bold\">10</span> | dakhla\n",
       "</pre>\n"
      ],
      "text/plain": [
       "Processing Record \u001b[1;36m29\u001b[0m of Set \u001b[1;36m10\u001b[0m | dakhla\n"
      ]
     },
     "metadata": {},
     "output_type": "display_data"
    },
    {
     "data": {
      "text/html": [
       "<pre style=\"white-space:pre;overflow-x:auto;line-height:normal;font-family:Menlo,'DejaVu Sans Mono',consolas,'Courier New',monospace\">Processing Record <span style=\"color: #008080; text-decoration-color: #008080; font-weight: bold\">30</span> of Set <span style=\"color: #008080; text-decoration-color: #008080; font-weight: bold\">10</span> | viqueque\n",
       "</pre>\n"
      ],
      "text/plain": [
       "Processing Record \u001b[1;36m30\u001b[0m of Set \u001b[1;36m10\u001b[0m | viqueque\n"
      ]
     },
     "metadata": {},
     "output_type": "display_data"
    },
    {
     "data": {
      "text/html": [
       "<pre style=\"white-space:pre;overflow-x:auto;line-height:normal;font-family:Menlo,'DejaVu Sans Mono',consolas,'Courier New',monospace\">Processing Record <span style=\"color: #008080; text-decoration-color: #008080; font-weight: bold\">31</span> of Set <span style=\"color: #008080; text-decoration-color: #008080; font-weight: bold\">10</span> | yemetsk\n",
       "</pre>\n"
      ],
      "text/plain": [
       "Processing Record \u001b[1;36m31\u001b[0m of Set \u001b[1;36m10\u001b[0m | yemetsk\n"
      ]
     },
     "metadata": {},
     "output_type": "display_data"
    },
    {
     "data": {
      "text/html": [
       "<pre style=\"white-space:pre;overflow-x:auto;line-height:normal;font-family:Menlo,'DejaVu Sans Mono',consolas,'Courier New',monospace\">Processing Record <span style=\"color: #008080; text-decoration-color: #008080; font-weight: bold\">32</span> of Set <span style=\"color: #008080; text-decoration-color: #008080; font-weight: bold\">10</span> | balakhta\n",
       "</pre>\n"
      ],
      "text/plain": [
       "Processing Record \u001b[1;36m32\u001b[0m of Set \u001b[1;36m10\u001b[0m | balakhta\n"
      ]
     },
     "metadata": {},
     "output_type": "display_data"
    },
    {
     "data": {
      "text/html": [
       "<pre style=\"white-space:pre;overflow-x:auto;line-height:normal;font-family:Menlo,'DejaVu Sans Mono',consolas,'Courier New',monospace\">Processing Record <span style=\"color: #008080; text-decoration-color: #008080; font-weight: bold\">33</span> of Set <span style=\"color: #008080; text-decoration-color: #008080; font-weight: bold\">10</span> | albert\n",
       "</pre>\n"
      ],
      "text/plain": [
       "Processing Record \u001b[1;36m33\u001b[0m of Set \u001b[1;36m10\u001b[0m | albert\n"
      ]
     },
     "metadata": {},
     "output_type": "display_data"
    },
    {
     "data": {
      "text/html": [
       "<pre style=\"white-space:pre;overflow-x:auto;line-height:normal;font-family:Menlo,'DejaVu Sans Mono',consolas,'Courier New',monospace\">Processing Record <span style=\"color: #008080; text-decoration-color: #008080; font-weight: bold\">34</span> of Set <span style=\"color: #008080; text-decoration-color: #008080; font-weight: bold\">10</span> | amungan\n",
       "</pre>\n"
      ],
      "text/plain": [
       "Processing Record \u001b[1;36m34\u001b[0m of Set \u001b[1;36m10\u001b[0m | amungan\n"
      ]
     },
     "metadata": {},
     "output_type": "display_data"
    },
    {
     "data": {
      "text/html": [
       "<pre style=\"white-space:pre;overflow-x:auto;line-height:normal;font-family:Menlo,'DejaVu Sans Mono',consolas,'Courier New',monospace\">Processing Record <span style=\"color: #008080; text-decoration-color: #008080; font-weight: bold\">35</span> of Set <span style=\"color: #008080; text-decoration-color: #008080; font-weight: bold\">10</span> | sarangani\n",
       "</pre>\n"
      ],
      "text/plain": [
       "Processing Record \u001b[1;36m35\u001b[0m of Set \u001b[1;36m10\u001b[0m | sarangani\n"
      ]
     },
     "metadata": {},
     "output_type": "display_data"
    },
    {
     "data": {
      "text/html": [
       "<pre style=\"white-space:pre;overflow-x:auto;line-height:normal;font-family:Menlo,'DejaVu Sans Mono',consolas,'Courier New',monospace\">Processing Record <span style=\"color: #008080; text-decoration-color: #008080; font-weight: bold\">36</span> of Set <span style=\"color: #008080; text-decoration-color: #008080; font-weight: bold\">10</span> | priargunsk\n",
       "</pre>\n"
      ],
      "text/plain": [
       "Processing Record \u001b[1;36m36\u001b[0m of Set \u001b[1;36m10\u001b[0m | priargunsk\n"
      ]
     },
     "metadata": {},
     "output_type": "display_data"
    },
    {
     "data": {
      "text/html": [
       "<pre style=\"white-space:pre;overflow-x:auto;line-height:normal;font-family:Menlo,'DejaVu Sans Mono',consolas,'Courier New',monospace\">Processing Record <span style=\"color: #008080; text-decoration-color: #008080; font-weight: bold\">37</span> of Set <span style=\"color: #008080; text-decoration-color: #008080; font-weight: bold\">10</span> | sos'va\n",
       "</pre>\n"
      ],
      "text/plain": [
       "Processing Record \u001b[1;36m37\u001b[0m of Set \u001b[1;36m10\u001b[0m | sos'va\n"
      ]
     },
     "metadata": {},
     "output_type": "display_data"
    },
    {
     "data": {
      "text/html": [
       "<pre style=\"white-space:pre;overflow-x:auto;line-height:normal;font-family:Menlo,'DejaVu Sans Mono',consolas,'Courier New',monospace\">Processing Record <span style=\"color: #008080; text-decoration-color: #008080; font-weight: bold\">38</span> of Set <span style=\"color: #008080; text-decoration-color: #008080; font-weight: bold\">10</span> | tranovaho\n",
       "</pre>\n"
      ],
      "text/plain": [
       "Processing Record \u001b[1;36m38\u001b[0m of Set \u001b[1;36m10\u001b[0m | tranovaho\n"
      ]
     },
     "metadata": {},
     "output_type": "display_data"
    },
    {
     "data": {
      "text/html": [
       "<pre style=\"white-space:pre;overflow-x:auto;line-height:normal;font-family:Menlo,'DejaVu Sans Mono',consolas,'Courier New',monospace\">City not found. Skipping<span style=\"color: #808000; text-decoration-color: #808000\">...</span>\n",
       "</pre>\n"
      ],
      "text/plain": [
       "City not found. Skipping\u001b[33m...\u001b[0m\n"
      ]
     },
     "metadata": {},
     "output_type": "display_data"
    },
    {
     "data": {
      "text/html": [
       "<pre style=\"white-space:pre;overflow-x:auto;line-height:normal;font-family:Menlo,'DejaVu Sans Mono',consolas,'Courier New',monospace\">Processing Record <span style=\"color: #008080; text-decoration-color: #008080; font-weight: bold\">39</span> of Set <span style=\"color: #008080; text-decoration-color: #008080; font-weight: bold\">10</span> | merizo village\n",
       "</pre>\n"
      ],
      "text/plain": [
       "Processing Record \u001b[1;36m39\u001b[0m of Set \u001b[1;36m10\u001b[0m | merizo village\n"
      ]
     },
     "metadata": {},
     "output_type": "display_data"
    },
    {
     "data": {
      "text/html": [
       "<pre style=\"white-space:pre;overflow-x:auto;line-height:normal;font-family:Menlo,'DejaVu Sans Mono',consolas,'Courier New',monospace\">Processing Record <span style=\"color: #008080; text-decoration-color: #008080; font-weight: bold\">40</span> of Set <span style=\"color: #008080; text-decoration-color: #008080; font-weight: bold\">10</span> | el calafate\n",
       "</pre>\n"
      ],
      "text/plain": [
       "Processing Record \u001b[1;36m40\u001b[0m of Set \u001b[1;36m10\u001b[0m | el calafate\n"
      ]
     },
     "metadata": {},
     "output_type": "display_data"
    },
    {
     "data": {
      "text/html": [
       "<pre style=\"white-space:pre;overflow-x:auto;line-height:normal;font-family:Menlo,'DejaVu Sans Mono',consolas,'Courier New',monospace\">Processing Record <span style=\"color: #008080; text-decoration-color: #008080; font-weight: bold\">41</span> of Set <span style=\"color: #008080; text-decoration-color: #008080; font-weight: bold\">10</span> | xining\n",
       "</pre>\n"
      ],
      "text/plain": [
       "Processing Record \u001b[1;36m41\u001b[0m of Set \u001b[1;36m10\u001b[0m | xining\n"
      ]
     },
     "metadata": {},
     "output_type": "display_data"
    },
    {
     "data": {
      "text/html": [
       "<pre style=\"white-space:pre;overflow-x:auto;line-height:normal;font-family:Menlo,'DejaVu Sans Mono',consolas,'Courier New',monospace\">Processing Record <span style=\"color: #008080; text-decoration-color: #008080; font-weight: bold\">42</span> of Set <span style=\"color: #008080; text-decoration-color: #008080; font-weight: bold\">10</span> | mar del plata\n",
       "</pre>\n"
      ],
      "text/plain": [
       "Processing Record \u001b[1;36m42\u001b[0m of Set \u001b[1;36m10\u001b[0m | mar del plata\n"
      ]
     },
     "metadata": {},
     "output_type": "display_data"
    },
    {
     "data": {
      "text/html": [
       "<pre style=\"white-space:pre;overflow-x:auto;line-height:normal;font-family:Menlo,'DejaVu Sans Mono',consolas,'Courier New',monospace\">Processing Record <span style=\"color: #008080; text-decoration-color: #008080; font-weight: bold\">43</span> of Set <span style=\"color: #008080; text-decoration-color: #008080; font-weight: bold\">10</span> | jaca\n",
       "</pre>\n"
      ],
      "text/plain": [
       "Processing Record \u001b[1;36m43\u001b[0m of Set \u001b[1;36m10\u001b[0m | jaca\n"
      ]
     },
     "metadata": {},
     "output_type": "display_data"
    },
    {
     "data": {
      "text/html": [
       "<pre style=\"white-space:pre;overflow-x:auto;line-height:normal;font-family:Menlo,'DejaVu Sans Mono',consolas,'Courier New',monospace\">Processing Record <span style=\"color: #008080; text-decoration-color: #008080; font-weight: bold\">44</span> of Set <span style=\"color: #008080; text-decoration-color: #008080; font-weight: bold\">10</span> | blagodarnyy\n",
       "</pre>\n"
      ],
      "text/plain": [
       "Processing Record \u001b[1;36m44\u001b[0m of Set \u001b[1;36m10\u001b[0m | blagodarnyy\n"
      ]
     },
     "metadata": {},
     "output_type": "display_data"
    },
    {
     "data": {
      "text/html": [
       "<pre style=\"white-space:pre;overflow-x:auto;line-height:normal;font-family:Menlo,'DejaVu Sans Mono',consolas,'Courier New',monospace\">Processing Record <span style=\"color: #008080; text-decoration-color: #008080; font-weight: bold\">45</span> of Set <span style=\"color: #008080; text-decoration-color: #008080; font-weight: bold\">10</span> | yoloten\n",
       "</pre>\n"
      ],
      "text/plain": [
       "Processing Record \u001b[1;36m45\u001b[0m of Set \u001b[1;36m10\u001b[0m | yoloten\n"
      ]
     },
     "metadata": {},
     "output_type": "display_data"
    },
    {
     "data": {
      "text/html": [
       "<pre style=\"white-space:pre;overflow-x:auto;line-height:normal;font-family:Menlo,'DejaVu Sans Mono',consolas,'Courier New',monospace\">Processing Record <span style=\"color: #008080; text-decoration-color: #008080; font-weight: bold\">46</span> of Set <span style=\"color: #008080; text-decoration-color: #008080; font-weight: bold\">10</span> | zyryanovsk\n",
       "</pre>\n"
      ],
      "text/plain": [
       "Processing Record \u001b[1;36m46\u001b[0m of Set \u001b[1;36m10\u001b[0m | zyryanovsk\n"
      ]
     },
     "metadata": {},
     "output_type": "display_data"
    },
    {
     "data": {
      "text/html": [
       "<pre style=\"white-space:pre;overflow-x:auto;line-height:normal;font-family:Menlo,'DejaVu Sans Mono',consolas,'Courier New',monospace\">Processing Record <span style=\"color: #008080; text-decoration-color: #008080; font-weight: bold\">47</span> of Set <span style=\"color: #008080; text-decoration-color: #008080; font-weight: bold\">10</span> | laojunmiao\n",
       "</pre>\n"
      ],
      "text/plain": [
       "Processing Record \u001b[1;36m47\u001b[0m of Set \u001b[1;36m10\u001b[0m | laojunmiao\n"
      ]
     },
     "metadata": {},
     "output_type": "display_data"
    },
    {
     "data": {
      "text/html": [
       "<pre style=\"white-space:pre;overflow-x:auto;line-height:normal;font-family:Menlo,'DejaVu Sans Mono',consolas,'Courier New',monospace\">Processing Record <span style=\"color: #008080; text-decoration-color: #008080; font-weight: bold\">48</span> of Set <span style=\"color: #008080; text-decoration-color: #008080; font-weight: bold\">10</span> | najaf\n",
       "</pre>\n"
      ],
      "text/plain": [
       "Processing Record \u001b[1;36m48\u001b[0m of Set \u001b[1;36m10\u001b[0m | najaf\n"
      ]
     },
     "metadata": {},
     "output_type": "display_data"
    },
    {
     "data": {
      "text/html": [
       "<pre style=\"white-space:pre;overflow-x:auto;line-height:normal;font-family:Menlo,'DejaVu Sans Mono',consolas,'Courier New',monospace\">Processing Record <span style=\"color: #008080; text-decoration-color: #008080; font-weight: bold\">49</span> of Set <span style=\"color: #008080; text-decoration-color: #008080; font-weight: bold\">10</span> | pangkalpinang\n",
       "</pre>\n"
      ],
      "text/plain": [
       "Processing Record \u001b[1;36m49\u001b[0m of Set \u001b[1;36m10\u001b[0m | pangkalpinang\n"
      ]
     },
     "metadata": {},
     "output_type": "display_data"
    },
    {
     "data": {
      "text/html": [
       "<pre style=\"white-space:pre;overflow-x:auto;line-height:normal;font-family:Menlo,'DejaVu Sans Mono',consolas,'Courier New',monospace\">Processing Record <span style=\"color: #008080; text-decoration-color: #008080; font-weight: bold\">0</span> of Set <span style=\"color: #008080; text-decoration-color: #008080; font-weight: bold\">11</span> | horneburg\n",
       "</pre>\n"
      ],
      "text/plain": [
       "Processing Record \u001b[1;36m0\u001b[0m of Set \u001b[1;36m11\u001b[0m | horneburg\n"
      ]
     },
     "metadata": {},
     "output_type": "display_data"
    },
    {
     "data": {
      "text/html": [
       "<pre style=\"white-space:pre;overflow-x:auto;line-height:normal;font-family:Menlo,'DejaVu Sans Mono',consolas,'Courier New',monospace\">Processing Record <span style=\"color: #008080; text-decoration-color: #008080; font-weight: bold\">1</span> of Set <span style=\"color: #008080; text-decoration-color: #008080; font-weight: bold\">11</span> | the pas\n",
       "</pre>\n"
      ],
      "text/plain": [
       "Processing Record \u001b[1;36m1\u001b[0m of Set \u001b[1;36m11\u001b[0m | the pas\n"
      ]
     },
     "metadata": {},
     "output_type": "display_data"
    },
    {
     "data": {
      "text/html": [
       "<pre style=\"white-space:pre;overflow-x:auto;line-height:normal;font-family:Menlo,'DejaVu Sans Mono',consolas,'Courier New',monospace\">Processing Record <span style=\"color: #008080; text-decoration-color: #008080; font-weight: bold\">2</span> of Set <span style=\"color: #008080; text-decoration-color: #008080; font-weight: bold\">11</span> | boende\n",
       "</pre>\n"
      ],
      "text/plain": [
       "Processing Record \u001b[1;36m2\u001b[0m of Set \u001b[1;36m11\u001b[0m | boende\n"
      ]
     },
     "metadata": {},
     "output_type": "display_data"
    },
    {
     "data": {
      "text/html": [
       "<pre style=\"white-space:pre;overflow-x:auto;line-height:normal;font-family:Menlo,'DejaVu Sans Mono',consolas,'Courier New',monospace\">Processing Record <span style=\"color: #008080; text-decoration-color: #008080; font-weight: bold\">3</span> of Set <span style=\"color: #008080; text-decoration-color: #008080; font-weight: bold\">11</span> | kerikeri\n",
       "</pre>\n"
      ],
      "text/plain": [
       "Processing Record \u001b[1;36m3\u001b[0m of Set \u001b[1;36m11\u001b[0m | kerikeri\n"
      ]
     },
     "metadata": {},
     "output_type": "display_data"
    },
    {
     "data": {
      "text/html": [
       "<pre style=\"white-space:pre;overflow-x:auto;line-height:normal;font-family:Menlo,'DejaVu Sans Mono',consolas,'Courier New',monospace\">Processing Record <span style=\"color: #008080; text-decoration-color: #008080; font-weight: bold\">4</span> of Set <span style=\"color: #008080; text-decoration-color: #008080; font-weight: bold\">11</span> | ugoofaaru\n",
       "</pre>\n"
      ],
      "text/plain": [
       "Processing Record \u001b[1;36m4\u001b[0m of Set \u001b[1;36m11\u001b[0m | ugoofaaru\n"
      ]
     },
     "metadata": {},
     "output_type": "display_data"
    },
    {
     "data": {
      "text/html": [
       "<pre style=\"white-space:pre;overflow-x:auto;line-height:normal;font-family:Menlo,'DejaVu Sans Mono',consolas,'Courier New',monospace\">Processing Record <span style=\"color: #008080; text-decoration-color: #008080; font-weight: bold\">5</span> of Set <span style=\"color: #008080; text-decoration-color: #008080; font-weight: bold\">11</span> | aizpute\n",
       "</pre>\n"
      ],
      "text/plain": [
       "Processing Record \u001b[1;36m5\u001b[0m of Set \u001b[1;36m11\u001b[0m | aizpute\n"
      ]
     },
     "metadata": {},
     "output_type": "display_data"
    },
    {
     "data": {
      "text/html": [
       "<pre style=\"white-space:pre;overflow-x:auto;line-height:normal;font-family:Menlo,'DejaVu Sans Mono',consolas,'Courier New',monospace\">Processing Record <span style=\"color: #008080; text-decoration-color: #008080; font-weight: bold\">6</span> of Set <span style=\"color: #008080; text-decoration-color: #008080; font-weight: bold\">11</span> | antonio enes\n",
       "</pre>\n"
      ],
      "text/plain": [
       "Processing Record \u001b[1;36m6\u001b[0m of Set \u001b[1;36m11\u001b[0m | antonio enes\n"
      ]
     },
     "metadata": {},
     "output_type": "display_data"
    },
    {
     "data": {
      "text/html": [
       "<pre style=\"white-space:pre;overflow-x:auto;line-height:normal;font-family:Menlo,'DejaVu Sans Mono',consolas,'Courier New',monospace\">Processing Record <span style=\"color: #008080; text-decoration-color: #008080; font-weight: bold\">7</span> of Set <span style=\"color: #008080; text-decoration-color: #008080; font-weight: bold\">11</span> | banfora\n",
       "</pre>\n"
      ],
      "text/plain": [
       "Processing Record \u001b[1;36m7\u001b[0m of Set \u001b[1;36m11\u001b[0m | banfora\n"
      ]
     },
     "metadata": {},
     "output_type": "display_data"
    },
    {
     "data": {
      "text/html": [
       "<pre style=\"white-space:pre;overflow-x:auto;line-height:normal;font-family:Menlo,'DejaVu Sans Mono',consolas,'Courier New',monospace\">Processing Record <span style=\"color: #008080; text-decoration-color: #008080; font-weight: bold\">8</span> of Set <span style=\"color: #008080; text-decoration-color: #008080; font-weight: bold\">11</span> | clarence town\n",
       "</pre>\n"
      ],
      "text/plain": [
       "Processing Record \u001b[1;36m8\u001b[0m of Set \u001b[1;36m11\u001b[0m | clarence town\n"
      ]
     },
     "metadata": {},
     "output_type": "display_data"
    },
    {
     "data": {
      "text/html": [
       "<pre style=\"white-space:pre;overflow-x:auto;line-height:normal;font-family:Menlo,'DejaVu Sans Mono',consolas,'Courier New',monospace\">Processing Record <span style=\"color: #008080; text-decoration-color: #008080; font-weight: bold\">9</span> of Set <span style=\"color: #008080; text-decoration-color: #008080; font-weight: bold\">11</span> | brevard\n",
       "</pre>\n"
      ],
      "text/plain": [
       "Processing Record \u001b[1;36m9\u001b[0m of Set \u001b[1;36m11\u001b[0m | brevard\n"
      ]
     },
     "metadata": {},
     "output_type": "display_data"
    },
    {
     "data": {
      "text/html": [
       "<pre style=\"white-space:pre;overflow-x:auto;line-height:normal;font-family:Menlo,'DejaVu Sans Mono',consolas,'Courier New',monospace\">Processing Record <span style=\"color: #008080; text-decoration-color: #008080; font-weight: bold\">10</span> of Set <span style=\"color: #008080; text-decoration-color: #008080; font-weight: bold\">11</span> | zalingei\n",
       "</pre>\n"
      ],
      "text/plain": [
       "Processing Record \u001b[1;36m10\u001b[0m of Set \u001b[1;36m11\u001b[0m | zalingei\n"
      ]
     },
     "metadata": {},
     "output_type": "display_data"
    },
    {
     "data": {
      "text/html": [
       "<pre style=\"white-space:pre;overflow-x:auto;line-height:normal;font-family:Menlo,'DejaVu Sans Mono',consolas,'Courier New',monospace\">Processing Record <span style=\"color: #008080; text-decoration-color: #008080; font-weight: bold\">11</span> of Set <span style=\"color: #008080; text-decoration-color: #008080; font-weight: bold\">11</span> | slave lake\n",
       "</pre>\n"
      ],
      "text/plain": [
       "Processing Record \u001b[1;36m11\u001b[0m of Set \u001b[1;36m11\u001b[0m | slave lake\n"
      ]
     },
     "metadata": {},
     "output_type": "display_data"
    },
    {
     "data": {
      "text/html": [
       "<pre style=\"white-space:pre;overflow-x:auto;line-height:normal;font-family:Menlo,'DejaVu Sans Mono',consolas,'Courier New',monospace\">Processing Record <span style=\"color: #008080; text-decoration-color: #008080; font-weight: bold\">12</span> of Set <span style=\"color: #008080; text-decoration-color: #008080; font-weight: bold\">11</span> | brokopondo\n",
       "</pre>\n"
      ],
      "text/plain": [
       "Processing Record \u001b[1;36m12\u001b[0m of Set \u001b[1;36m11\u001b[0m | brokopondo\n"
      ]
     },
     "metadata": {},
     "output_type": "display_data"
    },
    {
     "data": {
      "text/html": [
       "<pre style=\"white-space:pre;overflow-x:auto;line-height:normal;font-family:Menlo,'DejaVu Sans Mono',consolas,'Courier New',monospace\">Processing Record <span style=\"color: #008080; text-decoration-color: #008080; font-weight: bold\">13</span> of Set <span style=\"color: #008080; text-decoration-color: #008080; font-weight: bold\">11</span> | malatya\n",
       "</pre>\n"
      ],
      "text/plain": [
       "Processing Record \u001b[1;36m13\u001b[0m of Set \u001b[1;36m11\u001b[0m | malatya\n"
      ]
     },
     "metadata": {},
     "output_type": "display_data"
    },
    {
     "data": {
      "text/html": [
       "<pre style=\"white-space:pre;overflow-x:auto;line-height:normal;font-family:Menlo,'DejaVu Sans Mono',consolas,'Courier New',monospace\">Processing Record <span style=\"color: #008080; text-decoration-color: #008080; font-weight: bold\">14</span> of Set <span style=\"color: #008080; text-decoration-color: #008080; font-weight: bold\">11</span> | brisas de zicatela\n",
       "</pre>\n"
      ],
      "text/plain": [
       "Processing Record \u001b[1;36m14\u001b[0m of Set \u001b[1;36m11\u001b[0m | brisas de zicatela\n"
      ]
     },
     "metadata": {},
     "output_type": "display_data"
    },
    {
     "data": {
      "text/html": [
       "<pre style=\"white-space:pre;overflow-x:auto;line-height:normal;font-family:Menlo,'DejaVu Sans Mono',consolas,'Courier New',monospace\">Processing Record <span style=\"color: #008080; text-decoration-color: #008080; font-weight: bold\">15</span> of Set <span style=\"color: #008080; text-decoration-color: #008080; font-weight: bold\">11</span> | lerwick\n",
       "</pre>\n"
      ],
      "text/plain": [
       "Processing Record \u001b[1;36m15\u001b[0m of Set \u001b[1;36m11\u001b[0m | lerwick\n"
      ]
     },
     "metadata": {},
     "output_type": "display_data"
    },
    {
     "data": {
      "text/html": [
       "<pre style=\"white-space:pre;overflow-x:auto;line-height:normal;font-family:Menlo,'DejaVu Sans Mono',consolas,'Courier New',monospace\">Processing Record <span style=\"color: #008080; text-decoration-color: #008080; font-weight: bold\">16</span> of Set <span style=\"color: #008080; text-decoration-color: #008080; font-weight: bold\">11</span> | kargasok\n",
       "</pre>\n"
      ],
      "text/plain": [
       "Processing Record \u001b[1;36m16\u001b[0m of Set \u001b[1;36m11\u001b[0m | kargasok\n"
      ]
     },
     "metadata": {},
     "output_type": "display_data"
    },
    {
     "data": {
      "text/html": [
       "<pre style=\"white-space:pre;overflow-x:auto;line-height:normal;font-family:Menlo,'DejaVu Sans Mono',consolas,'Courier New',monospace\">Processing Record <span style=\"color: #008080; text-decoration-color: #008080; font-weight: bold\">17</span> of Set <span style=\"color: #008080; text-decoration-color: #008080; font-weight: bold\">11</span> | praya\n",
       "</pre>\n"
      ],
      "text/plain": [
       "Processing Record \u001b[1;36m17\u001b[0m of Set \u001b[1;36m11\u001b[0m | praya\n"
      ]
     },
     "metadata": {},
     "output_type": "display_data"
    },
    {
     "data": {
      "text/html": [
       "<pre style=\"white-space:pre;overflow-x:auto;line-height:normal;font-family:Menlo,'DejaVu Sans Mono',consolas,'Courier New',monospace\">Processing Record <span style=\"color: #008080; text-decoration-color: #008080; font-weight: bold\">18</span> of Set <span style=\"color: #008080; text-decoration-color: #008080; font-weight: bold\">11</span> | kolonia\n",
       "</pre>\n"
      ],
      "text/plain": [
       "Processing Record \u001b[1;36m18\u001b[0m of Set \u001b[1;36m11\u001b[0m | kolonia\n"
      ]
     },
     "metadata": {},
     "output_type": "display_data"
    },
    {
     "data": {
      "text/html": [
       "<pre style=\"white-space:pre;overflow-x:auto;line-height:normal;font-family:Menlo,'DejaVu Sans Mono',consolas,'Courier New',monospace\">Processing Record <span style=\"color: #008080; text-decoration-color: #008080; font-weight: bold\">19</span> of Set <span style=\"color: #008080; text-decoration-color: #008080; font-weight: bold\">11</span> | la ronge\n",
       "</pre>\n"
      ],
      "text/plain": [
       "Processing Record \u001b[1;36m19\u001b[0m of Set \u001b[1;36m11\u001b[0m | la ronge\n"
      ]
     },
     "metadata": {},
     "output_type": "display_data"
    },
    {
     "data": {
      "text/html": [
       "<pre style=\"white-space:pre;overflow-x:auto;line-height:normal;font-family:Menlo,'DejaVu Sans Mono',consolas,'Courier New',monospace\">Processing Record <span style=\"color: #008080; text-decoration-color: #008080; font-weight: bold\">20</span> of Set <span style=\"color: #008080; text-decoration-color: #008080; font-weight: bold\">11</span> | alajarvi\n",
       "</pre>\n"
      ],
      "text/plain": [
       "Processing Record \u001b[1;36m20\u001b[0m of Set \u001b[1;36m11\u001b[0m | alajarvi\n"
      ]
     },
     "metadata": {},
     "output_type": "display_data"
    },
    {
     "data": {
      "text/html": [
       "<pre style=\"white-space:pre;overflow-x:auto;line-height:normal;font-family:Menlo,'DejaVu Sans Mono',consolas,'Courier New',monospace\">Processing Record <span style=\"color: #008080; text-decoration-color: #008080; font-weight: bold\">21</span> of Set <span style=\"color: #008080; text-decoration-color: #008080; font-weight: bold\">11</span> | lewistown\n",
       "</pre>\n"
      ],
      "text/plain": [
       "Processing Record \u001b[1;36m21\u001b[0m of Set \u001b[1;36m11\u001b[0m | lewistown\n"
      ]
     },
     "metadata": {},
     "output_type": "display_data"
    },
    {
     "data": {
      "text/html": [
       "<pre style=\"white-space:pre;overflow-x:auto;line-height:normal;font-family:Menlo,'DejaVu Sans Mono',consolas,'Courier New',monospace\">Processing Record <span style=\"color: #008080; text-decoration-color: #008080; font-weight: bold\">22</span> of Set <span style=\"color: #008080; text-decoration-color: #008080; font-weight: bold\">11</span> | midvagur\n",
       "</pre>\n"
      ],
      "text/plain": [
       "Processing Record \u001b[1;36m22\u001b[0m of Set \u001b[1;36m11\u001b[0m | midvagur\n"
      ]
     },
     "metadata": {},
     "output_type": "display_data"
    },
    {
     "data": {
      "text/html": [
       "<pre style=\"white-space:pre;overflow-x:auto;line-height:normal;font-family:Menlo,'DejaVu Sans Mono',consolas,'Courier New',monospace\">Processing Record <span style=\"color: #008080; text-decoration-color: #008080; font-weight: bold\">23</span> of Set <span style=\"color: #008080; text-decoration-color: #008080; font-weight: bold\">11</span> | malka\n",
       "</pre>\n"
      ],
      "text/plain": [
       "Processing Record \u001b[1;36m23\u001b[0m of Set \u001b[1;36m11\u001b[0m | malka\n"
      ]
     },
     "metadata": {},
     "output_type": "display_data"
    },
    {
     "data": {
      "text/html": [
       "<pre style=\"white-space:pre;overflow-x:auto;line-height:normal;font-family:Menlo,'DejaVu Sans Mono',consolas,'Courier New',monospace\">Processing Record <span style=\"color: #008080; text-decoration-color: #008080; font-weight: bold\">24</span> of Set <span style=\"color: #008080; text-decoration-color: #008080; font-weight: bold\">11</span> | kajaani\n",
       "</pre>\n"
      ],
      "text/plain": [
       "Processing Record \u001b[1;36m24\u001b[0m of Set \u001b[1;36m11\u001b[0m | kajaani\n"
      ]
     },
     "metadata": {},
     "output_type": "display_data"
    },
    {
     "data": {
      "text/html": [
       "<pre style=\"white-space:pre;overflow-x:auto;line-height:normal;font-family:Menlo,'DejaVu Sans Mono',consolas,'Courier New',monospace\">Processing Record <span style=\"color: #008080; text-decoration-color: #008080; font-weight: bold\">25</span> of Set <span style=\"color: #008080; text-decoration-color: #008080; font-weight: bold\">11</span> | capitao poco\n",
       "</pre>\n"
      ],
      "text/plain": [
       "Processing Record \u001b[1;36m25\u001b[0m of Set \u001b[1;36m11\u001b[0m | capitao poco\n"
      ]
     },
     "metadata": {},
     "output_type": "display_data"
    },
    {
     "data": {
      "text/html": [
       "<pre style=\"white-space:pre;overflow-x:auto;line-height:normal;font-family:Menlo,'DejaVu Sans Mono',consolas,'Courier New',monospace\">Processing Record <span style=\"color: #008080; text-decoration-color: #008080; font-weight: bold\">26</span> of Set <span style=\"color: #008080; text-decoration-color: #008080; font-weight: bold\">11</span> | hobyo\n",
       "</pre>\n"
      ],
      "text/plain": [
       "Processing Record \u001b[1;36m26\u001b[0m of Set \u001b[1;36m11\u001b[0m | hobyo\n"
      ]
     },
     "metadata": {},
     "output_type": "display_data"
    },
    {
     "data": {
      "text/html": [
       "<pre style=\"white-space:pre;overflow-x:auto;line-height:normal;font-family:Menlo,'DejaVu Sans Mono',consolas,'Courier New',monospace\">Processing Record <span style=\"color: #008080; text-decoration-color: #008080; font-weight: bold\">27</span> of Set <span style=\"color: #008080; text-decoration-color: #008080; font-weight: bold\">11</span> | pacasmayo\n",
       "</pre>\n"
      ],
      "text/plain": [
       "Processing Record \u001b[1;36m27\u001b[0m of Set \u001b[1;36m11\u001b[0m | pacasmayo\n"
      ]
     },
     "metadata": {},
     "output_type": "display_data"
    },
    {
     "data": {
      "text/html": [
       "<pre style=\"white-space:pre;overflow-x:auto;line-height:normal;font-family:Menlo,'DejaVu Sans Mono',consolas,'Courier New',monospace\">Processing Record <span style=\"color: #008080; text-decoration-color: #008080; font-weight: bold\">28</span> of Set <span style=\"color: #008080; text-decoration-color: #008080; font-weight: bold\">11</span> | santa eularia des riu\n",
       "</pre>\n"
      ],
      "text/plain": [
       "Processing Record \u001b[1;36m28\u001b[0m of Set \u001b[1;36m11\u001b[0m | santa eularia des riu\n"
      ]
     },
     "metadata": {},
     "output_type": "display_data"
    },
    {
     "data": {
      "text/html": [
       "<pre style=\"white-space:pre;overflow-x:auto;line-height:normal;font-family:Menlo,'DejaVu Sans Mono',consolas,'Courier New',monospace\">Processing Record <span style=\"color: #008080; text-decoration-color: #008080; font-weight: bold\">29</span> of Set <span style=\"color: #008080; text-decoration-color: #008080; font-weight: bold\">11</span> | tanaina\n",
       "</pre>\n"
      ],
      "text/plain": [
       "Processing Record \u001b[1;36m29\u001b[0m of Set \u001b[1;36m11\u001b[0m | tanaina\n"
      ]
     },
     "metadata": {},
     "output_type": "display_data"
    },
    {
     "data": {
      "text/html": [
       "<pre style=\"white-space:pre;overflow-x:auto;line-height:normal;font-family:Menlo,'DejaVu Sans Mono',consolas,'Courier New',monospace\">Processing Record <span style=\"color: #008080; text-decoration-color: #008080; font-weight: bold\">30</span> of Set <span style=\"color: #008080; text-decoration-color: #008080; font-weight: bold\">11</span> | takayama\n",
       "</pre>\n"
      ],
      "text/plain": [
       "Processing Record \u001b[1;36m30\u001b[0m of Set \u001b[1;36m11\u001b[0m | takayama\n"
      ]
     },
     "metadata": {},
     "output_type": "display_data"
    },
    {
     "data": {
      "text/html": [
       "<pre style=\"white-space:pre;overflow-x:auto;line-height:normal;font-family:Menlo,'DejaVu Sans Mono',consolas,'Courier New',monospace\">Processing Record <span style=\"color: #008080; text-decoration-color: #008080; font-weight: bold\">31</span> of Set <span style=\"color: #008080; text-decoration-color: #008080; font-weight: bold\">11</span> | stuttgart\n",
       "</pre>\n"
      ],
      "text/plain": [
       "Processing Record \u001b[1;36m31\u001b[0m of Set \u001b[1;36m11\u001b[0m | stuttgart\n"
      ]
     },
     "metadata": {},
     "output_type": "display_data"
    },
    {
     "data": {
      "text/html": [
       "<pre style=\"white-space:pre;overflow-x:auto;line-height:normal;font-family:Menlo,'DejaVu Sans Mono',consolas,'Courier New',monospace\">Processing Record <span style=\"color: #008080; text-decoration-color: #008080; font-weight: bold\">32</span> of Set <span style=\"color: #008080; text-decoration-color: #008080; font-weight: bold\">11</span> | tukrah\n",
       "</pre>\n"
      ],
      "text/plain": [
       "Processing Record \u001b[1;36m32\u001b[0m of Set \u001b[1;36m11\u001b[0m | tukrah\n"
      ]
     },
     "metadata": {},
     "output_type": "display_data"
    },
    {
     "data": {
      "text/html": [
       "<pre style=\"white-space:pre;overflow-x:auto;line-height:normal;font-family:Menlo,'DejaVu Sans Mono',consolas,'Courier New',monospace\">Processing Record <span style=\"color: #008080; text-decoration-color: #008080; font-weight: bold\">33</span> of Set <span style=\"color: #008080; text-decoration-color: #008080; font-weight: bold\">11</span> | balaipungut\n",
       "</pre>\n"
      ],
      "text/plain": [
       "Processing Record \u001b[1;36m33\u001b[0m of Set \u001b[1;36m11\u001b[0m | balaipungut\n"
      ]
     },
     "metadata": {},
     "output_type": "display_data"
    },
    {
     "data": {
      "text/html": [
       "<pre style=\"white-space:pre;overflow-x:auto;line-height:normal;font-family:Menlo,'DejaVu Sans Mono',consolas,'Courier New',monospace\">Processing Record <span style=\"color: #008080; text-decoration-color: #008080; font-weight: bold\">34</span> of Set <span style=\"color: #008080; text-decoration-color: #008080; font-weight: bold\">11</span> | sinabang\n",
       "</pre>\n"
      ],
      "text/plain": [
       "Processing Record \u001b[1;36m34\u001b[0m of Set \u001b[1;36m11\u001b[0m | sinabang\n"
      ]
     },
     "metadata": {},
     "output_type": "display_data"
    },
    {
     "data": {
      "text/html": [
       "<pre style=\"white-space:pre;overflow-x:auto;line-height:normal;font-family:Menlo,'DejaVu Sans Mono',consolas,'Courier New',monospace\">Processing Record <span style=\"color: #008080; text-decoration-color: #008080; font-weight: bold\">35</span> of Set <span style=\"color: #008080; text-decoration-color: #008080; font-weight: bold\">11</span> | imranli\n",
       "</pre>\n"
      ],
      "text/plain": [
       "Processing Record \u001b[1;36m35\u001b[0m of Set \u001b[1;36m11\u001b[0m | imranli\n"
      ]
     },
     "metadata": {},
     "output_type": "display_data"
    },
    {
     "data": {
      "text/html": [
       "<pre style=\"white-space:pre;overflow-x:auto;line-height:normal;font-family:Menlo,'DejaVu Sans Mono',consolas,'Courier New',monospace\">Processing Record <span style=\"color: #008080; text-decoration-color: #008080; font-weight: bold\">36</span> of Set <span style=\"color: #008080; text-decoration-color: #008080; font-weight: bold\">11</span> | upington\n",
       "</pre>\n"
      ],
      "text/plain": [
       "Processing Record \u001b[1;36m36\u001b[0m of Set \u001b[1;36m11\u001b[0m | upington\n"
      ]
     },
     "metadata": {},
     "output_type": "display_data"
    },
    {
     "data": {
      "text/html": [
       "<pre style=\"white-space:pre;overflow-x:auto;line-height:normal;font-family:Menlo,'DejaVu Sans Mono',consolas,'Courier New',monospace\">Processing Record <span style=\"color: #008080; text-decoration-color: #008080; font-weight: bold\">37</span> of Set <span style=\"color: #008080; text-decoration-color: #008080; font-weight: bold\">11</span> | hermansverk\n",
       "</pre>\n"
      ],
      "text/plain": [
       "Processing Record \u001b[1;36m37\u001b[0m of Set \u001b[1;36m11\u001b[0m | hermansverk\n"
      ]
     },
     "metadata": {},
     "output_type": "display_data"
    },
    {
     "data": {
      "text/html": [
       "<pre style=\"white-space:pre;overflow-x:auto;line-height:normal;font-family:Menlo,'DejaVu Sans Mono',consolas,'Courier New',monospace\">Processing Record <span style=\"color: #008080; text-decoration-color: #008080; font-weight: bold\">38</span> of Set <span style=\"color: #008080; text-decoration-color: #008080; font-weight: bold\">11</span> | mariyenburg\n",
       "</pre>\n"
      ],
      "text/plain": [
       "Processing Record \u001b[1;36m38\u001b[0m of Set \u001b[1;36m11\u001b[0m | mariyenburg\n"
      ]
     },
     "metadata": {},
     "output_type": "display_data"
    },
    {
     "data": {
      "text/html": [
       "<pre style=\"white-space:pre;overflow-x:auto;line-height:normal;font-family:Menlo,'DejaVu Sans Mono',consolas,'Courier New',monospace\">City not found. Skipping<span style=\"color: #808000; text-decoration-color: #808000\">...</span>\n",
       "</pre>\n"
      ],
      "text/plain": [
       "City not found. Skipping\u001b[33m...\u001b[0m\n"
      ]
     },
     "metadata": {},
     "output_type": "display_data"
    },
    {
     "data": {
      "text/html": [
       "<pre style=\"white-space:pre;overflow-x:auto;line-height:normal;font-family:Menlo,'DejaVu Sans Mono',consolas,'Courier New',monospace\">Processing Record <span style=\"color: #008080; text-decoration-color: #008080; font-weight: bold\">39</span> of Set <span style=\"color: #008080; text-decoration-color: #008080; font-weight: bold\">11</span> | henderson\n",
       "</pre>\n"
      ],
      "text/plain": [
       "Processing Record \u001b[1;36m39\u001b[0m of Set \u001b[1;36m11\u001b[0m | henderson\n"
      ]
     },
     "metadata": {},
     "output_type": "display_data"
    },
    {
     "data": {
      "text/html": [
       "<pre style=\"white-space:pre;overflow-x:auto;line-height:normal;font-family:Menlo,'DejaVu Sans Mono',consolas,'Courier New',monospace\">Processing Record <span style=\"color: #008080; text-decoration-color: #008080; font-weight: bold\">40</span> of Set <span style=\"color: #008080; text-decoration-color: #008080; font-weight: bold\">11</span> | pierre\n",
       "</pre>\n"
      ],
      "text/plain": [
       "Processing Record \u001b[1;36m40\u001b[0m of Set \u001b[1;36m11\u001b[0m | pierre\n"
      ]
     },
     "metadata": {},
     "output_type": "display_data"
    },
    {
     "data": {
      "text/html": [
       "<pre style=\"white-space:pre;overflow-x:auto;line-height:normal;font-family:Menlo,'DejaVu Sans Mono',consolas,'Courier New',monospace\">Processing Record <span style=\"color: #008080; text-decoration-color: #008080; font-weight: bold\">41</span> of Set <span style=\"color: #008080; text-decoration-color: #008080; font-weight: bold\">11</span> | oriximina\n",
       "</pre>\n"
      ],
      "text/plain": [
       "Processing Record \u001b[1;36m41\u001b[0m of Set \u001b[1;36m11\u001b[0m | oriximina\n"
      ]
     },
     "metadata": {},
     "output_type": "display_data"
    },
    {
     "data": {
      "text/html": [
       "<pre style=\"white-space:pre;overflow-x:auto;line-height:normal;font-family:Menlo,'DejaVu Sans Mono',consolas,'Courier New',monospace\">Processing Record <span style=\"color: #008080; text-decoration-color: #008080; font-weight: bold\">42</span> of Set <span style=\"color: #008080; text-decoration-color: #008080; font-weight: bold\">11</span> | gremyachevo\n",
       "</pre>\n"
      ],
      "text/plain": [
       "Processing Record \u001b[1;36m42\u001b[0m of Set \u001b[1;36m11\u001b[0m | gremyachevo\n"
      ]
     },
     "metadata": {},
     "output_type": "display_data"
    },
    {
     "data": {
      "text/html": [
       "<pre style=\"white-space:pre;overflow-x:auto;line-height:normal;font-family:Menlo,'DejaVu Sans Mono',consolas,'Courier New',monospace\">Processing Record <span style=\"color: #008080; text-decoration-color: #008080; font-weight: bold\">43</span> of Set <span style=\"color: #008080; text-decoration-color: #008080; font-weight: bold\">11</span> | east london\n",
       "</pre>\n"
      ],
      "text/plain": [
       "Processing Record \u001b[1;36m43\u001b[0m of Set \u001b[1;36m11\u001b[0m | east london\n"
      ]
     },
     "metadata": {},
     "output_type": "display_data"
    },
    {
     "data": {
      "text/html": [
       "<pre style=\"white-space:pre;overflow-x:auto;line-height:normal;font-family:Menlo,'DejaVu Sans Mono',consolas,'Courier New',monospace\">Processing Record <span style=\"color: #008080; text-decoration-color: #008080; font-weight: bold\">44</span> of Set <span style=\"color: #008080; text-decoration-color: #008080; font-weight: bold\">11</span> | vernon\n",
       "</pre>\n"
      ],
      "text/plain": [
       "Processing Record \u001b[1;36m44\u001b[0m of Set \u001b[1;36m11\u001b[0m | vernon\n"
      ]
     },
     "metadata": {},
     "output_type": "display_data"
    },
    {
     "data": {
      "text/html": [
       "<pre style=\"white-space:pre;overflow-x:auto;line-height:normal;font-family:Menlo,'DejaVu Sans Mono',consolas,'Courier New',monospace\">Processing Record <span style=\"color: #008080; text-decoration-color: #008080; font-weight: bold\">45</span> of Set <span style=\"color: #008080; text-decoration-color: #008080; font-weight: bold\">11</span> | besisahar\n",
       "</pre>\n"
      ],
      "text/plain": [
       "Processing Record \u001b[1;36m45\u001b[0m of Set \u001b[1;36m11\u001b[0m | besisahar\n"
      ]
     },
     "metadata": {},
     "output_type": "display_data"
    },
    {
     "data": {
      "text/html": [
       "<pre style=\"white-space:pre;overflow-x:auto;line-height:normal;font-family:Menlo,'DejaVu Sans Mono',consolas,'Courier New',monospace\">Processing Record <span style=\"color: #008080; text-decoration-color: #008080; font-weight: bold\">46</span> of Set <span style=\"color: #008080; text-decoration-color: #008080; font-weight: bold\">11</span> | saint-pierre\n",
       "</pre>\n"
      ],
      "text/plain": [
       "Processing Record \u001b[1;36m46\u001b[0m of Set \u001b[1;36m11\u001b[0m | saint-pierre\n"
      ]
     },
     "metadata": {},
     "output_type": "display_data"
    },
    {
     "data": {
      "text/html": [
       "<pre style=\"white-space:pre;overflow-x:auto;line-height:normal;font-family:Menlo,'DejaVu Sans Mono',consolas,'Courier New',monospace\">Processing Record <span style=\"color: #008080; text-decoration-color: #008080; font-weight: bold\">47</span> of Set <span style=\"color: #008080; text-decoration-color: #008080; font-weight: bold\">11</span> | kenora\n",
       "</pre>\n"
      ],
      "text/plain": [
       "Processing Record \u001b[1;36m47\u001b[0m of Set \u001b[1;36m11\u001b[0m | kenora\n"
      ]
     },
     "metadata": {},
     "output_type": "display_data"
    },
    {
     "data": {
      "text/html": [
       "<pre style=\"white-space:pre;overflow-x:auto;line-height:normal;font-family:Menlo,'DejaVu Sans Mono',consolas,'Courier New',monospace\">Processing Record <span style=\"color: #008080; text-decoration-color: #008080; font-weight: bold\">48</span> of Set <span style=\"color: #008080; text-decoration-color: #008080; font-weight: bold\">11</span> | floro\n",
       "</pre>\n"
      ],
      "text/plain": [
       "Processing Record \u001b[1;36m48\u001b[0m of Set \u001b[1;36m11\u001b[0m | floro\n"
      ]
     },
     "metadata": {},
     "output_type": "display_data"
    },
    {
     "data": {
      "text/html": [
       "<pre style=\"white-space:pre;overflow-x:auto;line-height:normal;font-family:Menlo,'DejaVu Sans Mono',consolas,'Courier New',monospace\">Processing Record <span style=\"color: #008080; text-decoration-color: #008080; font-weight: bold\">49</span> of Set <span style=\"color: #008080; text-decoration-color: #008080; font-weight: bold\">11</span> | namtsy\n",
       "</pre>\n"
      ],
      "text/plain": [
       "Processing Record \u001b[1;36m49\u001b[0m of Set \u001b[1;36m11\u001b[0m | namtsy\n"
      ]
     },
     "metadata": {},
     "output_type": "display_data"
    },
    {
     "data": {
      "text/html": [
       "<pre style=\"white-space:pre;overflow-x:auto;line-height:normal;font-family:Menlo,'DejaVu Sans Mono',consolas,'Courier New',monospace\">Processing Record <span style=\"color: #008080; text-decoration-color: #008080; font-weight: bold\">0</span> of Set <span style=\"color: #008080; text-decoration-color: #008080; font-weight: bold\">12</span> | novodvinsk\n",
       "</pre>\n"
      ],
      "text/plain": [
       "Processing Record \u001b[1;36m0\u001b[0m of Set \u001b[1;36m12\u001b[0m | novodvinsk\n"
      ]
     },
     "metadata": {},
     "output_type": "display_data"
    },
    {
     "data": {
      "text/html": [
       "<pre style=\"white-space:pre;overflow-x:auto;line-height:normal;font-family:Menlo,'DejaVu Sans Mono',consolas,'Courier New',monospace\">Processing Record <span style=\"color: #008080; text-decoration-color: #008080; font-weight: bold\">1</span> of Set <span style=\"color: #008080; text-decoration-color: #008080; font-weight: bold\">12</span> | fada\n",
       "</pre>\n"
      ],
      "text/plain": [
       "Processing Record \u001b[1;36m1\u001b[0m of Set \u001b[1;36m12\u001b[0m | fada\n"
      ]
     },
     "metadata": {},
     "output_type": "display_data"
    },
    {
     "data": {
      "text/html": [
       "<pre style=\"white-space:pre;overflow-x:auto;line-height:normal;font-family:Menlo,'DejaVu Sans Mono',consolas,'Courier New',monospace\">Processing Record <span style=\"color: #008080; text-decoration-color: #008080; font-weight: bold\">2</span> of Set <span style=\"color: #008080; text-decoration-color: #008080; font-weight: bold\">12</span> | beni saf\n",
       "</pre>\n"
      ],
      "text/plain": [
       "Processing Record \u001b[1;36m2\u001b[0m of Set \u001b[1;36m12\u001b[0m | beni saf\n"
      ]
     },
     "metadata": {},
     "output_type": "display_data"
    },
    {
     "data": {
      "text/html": [
       "<pre style=\"white-space:pre;overflow-x:auto;line-height:normal;font-family:Menlo,'DejaVu Sans Mono',consolas,'Courier New',monospace\">Processing Record <span style=\"color: #008080; text-decoration-color: #008080; font-weight: bold\">3</span> of Set <span style=\"color: #008080; text-decoration-color: #008080; font-weight: bold\">12</span> | shakawe\n",
       "</pre>\n"
      ],
      "text/plain": [
       "Processing Record \u001b[1;36m3\u001b[0m of Set \u001b[1;36m12\u001b[0m | shakawe\n"
      ]
     },
     "metadata": {},
     "output_type": "display_data"
    },
    {
     "data": {
      "text/html": [
       "<pre style=\"white-space:pre;overflow-x:auto;line-height:normal;font-family:Menlo,'DejaVu Sans Mono',consolas,'Courier New',monospace\">Processing Record <span style=\"color: #008080; text-decoration-color: #008080; font-weight: bold\">4</span> of Set <span style=\"color: #008080; text-decoration-color: #008080; font-weight: bold\">12</span> | babol\n",
       "</pre>\n"
      ],
      "text/plain": [
       "Processing Record \u001b[1;36m4\u001b[0m of Set \u001b[1;36m12\u001b[0m | babol\n"
      ]
     },
     "metadata": {},
     "output_type": "display_data"
    },
    {
     "data": {
      "text/html": [
       "<pre style=\"white-space:pre;overflow-x:auto;line-height:normal;font-family:Menlo,'DejaVu Sans Mono',consolas,'Courier New',monospace\">Processing Record <span style=\"color: #008080; text-decoration-color: #008080; font-weight: bold\">5</span> of Set <span style=\"color: #008080; text-decoration-color: #008080; font-weight: bold\">12</span> | cidade velha\n",
       "</pre>\n"
      ],
      "text/plain": [
       "Processing Record \u001b[1;36m5\u001b[0m of Set \u001b[1;36m12\u001b[0m | cidade velha\n"
      ]
     },
     "metadata": {},
     "output_type": "display_data"
    },
    {
     "data": {
      "text/html": [
       "<pre style=\"white-space:pre;overflow-x:auto;line-height:normal;font-family:Menlo,'DejaVu Sans Mono',consolas,'Courier New',monospace\">Processing Record <span style=\"color: #008080; text-decoration-color: #008080; font-weight: bold\">6</span> of Set <span style=\"color: #008080; text-decoration-color: #008080; font-weight: bold\">12</span> | vingt cinq\n",
       "</pre>\n"
      ],
      "text/plain": [
       "Processing Record \u001b[1;36m6\u001b[0m of Set \u001b[1;36m12\u001b[0m | vingt cinq\n"
      ]
     },
     "metadata": {},
     "output_type": "display_data"
    },
    {
     "data": {
      "text/html": [
       "<pre style=\"white-space:pre;overflow-x:auto;line-height:normal;font-family:Menlo,'DejaVu Sans Mono',consolas,'Courier New',monospace\">City not found. Skipping<span style=\"color: #808000; text-decoration-color: #808000\">...</span>\n",
       "</pre>\n"
      ],
      "text/plain": [
       "City not found. Skipping\u001b[33m...\u001b[0m\n"
      ]
     },
     "metadata": {},
     "output_type": "display_data"
    },
    {
     "data": {
      "text/html": [
       "<pre style=\"white-space:pre;overflow-x:auto;line-height:normal;font-family:Menlo,'DejaVu Sans Mono',consolas,'Courier New',monospace\">Processing Record <span style=\"color: #008080; text-decoration-color: #008080; font-weight: bold\">7</span> of Set <span style=\"color: #008080; text-decoration-color: #008080; font-weight: bold\">12</span> | atherton\n",
       "</pre>\n"
      ],
      "text/plain": [
       "Processing Record \u001b[1;36m7\u001b[0m of Set \u001b[1;36m12\u001b[0m | atherton\n"
      ]
     },
     "metadata": {},
     "output_type": "display_data"
    },
    {
     "data": {
      "text/html": [
       "<pre style=\"white-space:pre;overflow-x:auto;line-height:normal;font-family:Menlo,'DejaVu Sans Mono',consolas,'Courier New',monospace\">Processing Record <span style=\"color: #008080; text-decoration-color: #008080; font-weight: bold\">8</span> of Set <span style=\"color: #008080; text-decoration-color: #008080; font-weight: bold\">12</span> | jackson\n",
       "</pre>\n"
      ],
      "text/plain": [
       "Processing Record \u001b[1;36m8\u001b[0m of Set \u001b[1;36m12\u001b[0m | jackson\n"
      ]
     },
     "metadata": {},
     "output_type": "display_data"
    },
    {
     "data": {
      "text/html": [
       "<pre style=\"white-space:pre;overflow-x:auto;line-height:normal;font-family:Menlo,'DejaVu Sans Mono',consolas,'Courier New',monospace\">Processing Record <span style=\"color: #008080; text-decoration-color: #008080; font-weight: bold\">9</span> of Set <span style=\"color: #008080; text-decoration-color: #008080; font-weight: bold\">12</span> | vila do maio\n",
       "</pre>\n"
      ],
      "text/plain": [
       "Processing Record \u001b[1;36m9\u001b[0m of Set \u001b[1;36m12\u001b[0m | vila do maio\n"
      ]
     },
     "metadata": {},
     "output_type": "display_data"
    },
    {
     "data": {
      "text/html": [
       "<pre style=\"white-space:pre;overflow-x:auto;line-height:normal;font-family:Menlo,'DejaVu Sans Mono',consolas,'Courier New',monospace\">Processing Record <span style=\"color: #008080; text-decoration-color: #008080; font-weight: bold\">10</span> of Set <span style=\"color: #008080; text-decoration-color: #008080; font-weight: bold\">12</span> | reggane\n",
       "</pre>\n"
      ],
      "text/plain": [
       "Processing Record \u001b[1;36m10\u001b[0m of Set \u001b[1;36m12\u001b[0m | reggane\n"
      ]
     },
     "metadata": {},
     "output_type": "display_data"
    },
    {
     "data": {
      "text/html": [
       "<pre style=\"white-space:pre;overflow-x:auto;line-height:normal;font-family:Menlo,'DejaVu Sans Mono',consolas,'Courier New',monospace\">Processing Record <span style=\"color: #008080; text-decoration-color: #008080; font-weight: bold\">11</span> of Set <span style=\"color: #008080; text-decoration-color: #008080; font-weight: bold\">12</span> | lyantor\n",
       "</pre>\n"
      ],
      "text/plain": [
       "Processing Record \u001b[1;36m11\u001b[0m of Set \u001b[1;36m12\u001b[0m | lyantor\n"
      ]
     },
     "metadata": {},
     "output_type": "display_data"
    },
    {
     "data": {
      "text/html": [
       "<pre style=\"white-space:pre;overflow-x:auto;line-height:normal;font-family:Menlo,'DejaVu Sans Mono',consolas,'Courier New',monospace\">Processing Record <span style=\"color: #008080; text-decoration-color: #008080; font-weight: bold\">12</span> of Set <span style=\"color: #008080; text-decoration-color: #008080; font-weight: bold\">12</span> | rockland\n",
       "</pre>\n"
      ],
      "text/plain": [
       "Processing Record \u001b[1;36m12\u001b[0m of Set \u001b[1;36m12\u001b[0m | rockland\n"
      ]
     },
     "metadata": {},
     "output_type": "display_data"
    },
    {
     "data": {
      "text/html": [
       "<pre style=\"white-space:pre;overflow-x:auto;line-height:normal;font-family:Menlo,'DejaVu Sans Mono',consolas,'Courier New',monospace\">Processing Record <span style=\"color: #008080; text-decoration-color: #008080; font-weight: bold\">13</span> of Set <span style=\"color: #008080; text-decoration-color: #008080; font-weight: bold\">12</span> | kailua-kona\n",
       "</pre>\n"
      ],
      "text/plain": [
       "Processing Record \u001b[1;36m13\u001b[0m of Set \u001b[1;36m12\u001b[0m | kailua-kona\n"
      ]
     },
     "metadata": {},
     "output_type": "display_data"
    },
    {
     "data": {
      "text/html": [
       "<pre style=\"white-space:pre;overflow-x:auto;line-height:normal;font-family:Menlo,'DejaVu Sans Mono',consolas,'Courier New',monospace\">Processing Record <span style=\"color: #008080; text-decoration-color: #008080; font-weight: bold\">14</span> of Set <span style=\"color: #008080; text-decoration-color: #008080; font-weight: bold\">12</span> | maumere\n",
       "</pre>\n"
      ],
      "text/plain": [
       "Processing Record \u001b[1;36m14\u001b[0m of Set \u001b[1;36m12\u001b[0m | maumere\n"
      ]
     },
     "metadata": {},
     "output_type": "display_data"
    },
    {
     "data": {
      "text/html": [
       "<pre style=\"white-space:pre;overflow-x:auto;line-height:normal;font-family:Menlo,'DejaVu Sans Mono',consolas,'Courier New',monospace\">Processing Record <span style=\"color: #008080; text-decoration-color: #008080; font-weight: bold\">15</span> of Set <span style=\"color: #008080; text-decoration-color: #008080; font-weight: bold\">12</span> | poronaysk\n",
       "</pre>\n"
      ],
      "text/plain": [
       "Processing Record \u001b[1;36m15\u001b[0m of Set \u001b[1;36m12\u001b[0m | poronaysk\n"
      ]
     },
     "metadata": {},
     "output_type": "display_data"
    },
    {
     "data": {
      "text/html": [
       "<pre style=\"white-space:pre;overflow-x:auto;line-height:normal;font-family:Menlo,'DejaVu Sans Mono',consolas,'Courier New',monospace\">Processing Record <span style=\"color: #008080; text-decoration-color: #008080; font-weight: bold\">16</span> of Set <span style=\"color: #008080; text-decoration-color: #008080; font-weight: bold\">12</span> | namie\n",
       "</pre>\n"
      ],
      "text/plain": [
       "Processing Record \u001b[1;36m16\u001b[0m of Set \u001b[1;36m12\u001b[0m | namie\n"
      ]
     },
     "metadata": {},
     "output_type": "display_data"
    },
    {
     "data": {
      "text/html": [
       "<pre style=\"white-space:pre;overflow-x:auto;line-height:normal;font-family:Menlo,'DejaVu Sans Mono',consolas,'Courier New',monospace\">Processing Record <span style=\"color: #008080; text-decoration-color: #008080; font-weight: bold\">17</span> of Set <span style=\"color: #008080; text-decoration-color: #008080; font-weight: bold\">12</span> | sao vicente\n",
       "</pre>\n"
      ],
      "text/plain": [
       "Processing Record \u001b[1;36m17\u001b[0m of Set \u001b[1;36m12\u001b[0m | sao vicente\n"
      ]
     },
     "metadata": {},
     "output_type": "display_data"
    },
    {
     "data": {
      "text/html": [
       "<pre style=\"white-space:pre;overflow-x:auto;line-height:normal;font-family:Menlo,'DejaVu Sans Mono',consolas,'Courier New',monospace\">Processing Record <span style=\"color: #008080; text-decoration-color: #008080; font-weight: bold\">18</span> of Set <span style=\"color: #008080; text-decoration-color: #008080; font-weight: bold\">12</span> | rabo de peixe\n",
       "</pre>\n"
      ],
      "text/plain": [
       "Processing Record \u001b[1;36m18\u001b[0m of Set \u001b[1;36m12\u001b[0m | rabo de peixe\n"
      ]
     },
     "metadata": {},
     "output_type": "display_data"
    },
    {
     "data": {
      "text/html": [
       "<pre style=\"white-space:pre;overflow-x:auto;line-height:normal;font-family:Menlo,'DejaVu Sans Mono',consolas,'Courier New',monospace\">Processing Record <span style=\"color: #008080; text-decoration-color: #008080; font-weight: bold\">19</span> of Set <span style=\"color: #008080; text-decoration-color: #008080; font-weight: bold\">12</span> | igarka\n",
       "</pre>\n"
      ],
      "text/plain": [
       "Processing Record \u001b[1;36m19\u001b[0m of Set \u001b[1;36m12\u001b[0m | igarka\n"
      ]
     },
     "metadata": {},
     "output_type": "display_data"
    },
    {
     "data": {
      "text/html": [
       "<pre style=\"white-space:pre;overflow-x:auto;line-height:normal;font-family:Menlo,'DejaVu Sans Mono',consolas,'Courier New',monospace\">Processing Record <span style=\"color: #008080; text-decoration-color: #008080; font-weight: bold\">20</span> of Set <span style=\"color: #008080; text-decoration-color: #008080; font-weight: bold\">12</span> | bubaque\n",
       "</pre>\n"
      ],
      "text/plain": [
       "Processing Record \u001b[1;36m20\u001b[0m of Set \u001b[1;36m12\u001b[0m | bubaque\n"
      ]
     },
     "metadata": {},
     "output_type": "display_data"
    },
    {
     "data": {
      "text/html": [
       "<pre style=\"white-space:pre;overflow-x:auto;line-height:normal;font-family:Menlo,'DejaVu Sans Mono',consolas,'Courier New',monospace\">Processing Record <span style=\"color: #008080; text-decoration-color: #008080; font-weight: bold\">21</span> of Set <span style=\"color: #008080; text-decoration-color: #008080; font-weight: bold\">12</span> | huazhou\n",
       "</pre>\n"
      ],
      "text/plain": [
       "Processing Record \u001b[1;36m21\u001b[0m of Set \u001b[1;36m12\u001b[0m | huazhou\n"
      ]
     },
     "metadata": {},
     "output_type": "display_data"
    },
    {
     "data": {
      "text/html": [
       "<pre style=\"white-space:pre;overflow-x:auto;line-height:normal;font-family:Menlo,'DejaVu Sans Mono',consolas,'Courier New',monospace\">Processing Record <span style=\"color: #008080; text-decoration-color: #008080; font-weight: bold\">22</span> of Set <span style=\"color: #008080; text-decoration-color: #008080; font-weight: bold\">12</span> | carutapera\n",
       "</pre>\n"
      ],
      "text/plain": [
       "Processing Record \u001b[1;36m22\u001b[0m of Set \u001b[1;36m12\u001b[0m | carutapera\n"
      ]
     },
     "metadata": {},
     "output_type": "display_data"
    },
    {
     "data": {
      "text/html": [
       "<pre style=\"white-space:pre;overflow-x:auto;line-height:normal;font-family:Menlo,'DejaVu Sans Mono',consolas,'Courier New',monospace\">Processing Record <span style=\"color: #008080; text-decoration-color: #008080; font-weight: bold\">23</span> of Set <span style=\"color: #008080; text-decoration-color: #008080; font-weight: bold\">12</span> | remire-montjoly\n",
       "</pre>\n"
      ],
      "text/plain": [
       "Processing Record \u001b[1;36m23\u001b[0m of Set \u001b[1;36m12\u001b[0m | remire-montjoly\n"
      ]
     },
     "metadata": {},
     "output_type": "display_data"
    },
    {
     "data": {
      "text/html": [
       "<pre style=\"white-space:pre;overflow-x:auto;line-height:normal;font-family:Menlo,'DejaVu Sans Mono',consolas,'Courier New',monospace\">Processing Record <span style=\"color: #008080; text-decoration-color: #008080; font-weight: bold\">24</span> of Set <span style=\"color: #008080; text-decoration-color: #008080; font-weight: bold\">12</span> | vetluga\n",
       "</pre>\n"
      ],
      "text/plain": [
       "Processing Record \u001b[1;36m24\u001b[0m of Set \u001b[1;36m12\u001b[0m | vetluga\n"
      ]
     },
     "metadata": {},
     "output_type": "display_data"
    },
    {
     "data": {
      "text/html": [
       "<pre style=\"white-space:pre;overflow-x:auto;line-height:normal;font-family:Menlo,'DejaVu Sans Mono',consolas,'Courier New',monospace\">Processing Record <span style=\"color: #008080; text-decoration-color: #008080; font-weight: bold\">25</span> of Set <span style=\"color: #008080; text-decoration-color: #008080; font-weight: bold\">12</span> | fada n'gourma\n",
       "</pre>\n"
      ],
      "text/plain": [
       "Processing Record \u001b[1;36m25\u001b[0m of Set \u001b[1;36m12\u001b[0m | fada n'gourma\n"
      ]
     },
     "metadata": {},
     "output_type": "display_data"
    },
    {
     "data": {
      "text/html": [
       "<pre style=\"white-space:pre;overflow-x:auto;line-height:normal;font-family:Menlo,'DejaVu Sans Mono',consolas,'Courier New',monospace\">Processing Record <span style=\"color: #008080; text-decoration-color: #008080; font-weight: bold\">26</span> of Set <span style=\"color: #008080; text-decoration-color: #008080; font-weight: bold\">12</span> | gilgit\n",
       "</pre>\n"
      ],
      "text/plain": [
       "Processing Record \u001b[1;36m26\u001b[0m of Set \u001b[1;36m12\u001b[0m | gilgit\n"
      ]
     },
     "metadata": {},
     "output_type": "display_data"
    },
    {
     "data": {
      "text/html": [
       "<pre style=\"white-space:pre;overflow-x:auto;line-height:normal;font-family:Menlo,'DejaVu Sans Mono',consolas,'Courier New',monospace\">Processing Record <span style=\"color: #008080; text-decoration-color: #008080; font-weight: bold\">27</span> of Set <span style=\"color: #008080; text-decoration-color: #008080; font-weight: bold\">12</span> | ha tinh\n",
       "</pre>\n"
      ],
      "text/plain": [
       "Processing Record \u001b[1;36m27\u001b[0m of Set \u001b[1;36m12\u001b[0m | ha tinh\n"
      ]
     },
     "metadata": {},
     "output_type": "display_data"
    },
    {
     "data": {
      "text/html": [
       "<pre style=\"white-space:pre;overflow-x:auto;line-height:normal;font-family:Menlo,'DejaVu Sans Mono',consolas,'Courier New',monospace\">Processing Record <span style=\"color: #008080; text-decoration-color: #008080; font-weight: bold\">28</span> of Set <span style=\"color: #008080; text-decoration-color: #008080; font-weight: bold\">12</span> | ciudad bolivar\n",
       "</pre>\n"
      ],
      "text/plain": [
       "Processing Record \u001b[1;36m28\u001b[0m of Set \u001b[1;36m12\u001b[0m | ciudad bolivar\n"
      ]
     },
     "metadata": {},
     "output_type": "display_data"
    },
    {
     "data": {
      "text/html": [
       "<pre style=\"white-space:pre;overflow-x:auto;line-height:normal;font-family:Menlo,'DejaVu Sans Mono',consolas,'Courier New',monospace\">Processing Record <span style=\"color: #008080; text-decoration-color: #008080; font-weight: bold\">29</span> of Set <span style=\"color: #008080; text-decoration-color: #008080; font-weight: bold\">12</span> | port isabel\n",
       "</pre>\n"
      ],
      "text/plain": [
       "Processing Record \u001b[1;36m29\u001b[0m of Set \u001b[1;36m12\u001b[0m | port isabel\n"
      ]
     },
     "metadata": {},
     "output_type": "display_data"
    },
    {
     "data": {
      "text/html": [
       "<pre style=\"white-space:pre;overflow-x:auto;line-height:normal;font-family:Menlo,'DejaVu Sans Mono',consolas,'Courier New',monospace\">Processing Record <span style=\"color: #008080; text-decoration-color: #008080; font-weight: bold\">30</span> of Set <span style=\"color: #008080; text-decoration-color: #008080; font-weight: bold\">12</span> | murzuq\n",
       "</pre>\n"
      ],
      "text/plain": [
       "Processing Record \u001b[1;36m30\u001b[0m of Set \u001b[1;36m12\u001b[0m | murzuq\n"
      ]
     },
     "metadata": {},
     "output_type": "display_data"
    },
    {
     "data": {
      "text/html": [
       "<pre style=\"white-space:pre;overflow-x:auto;line-height:normal;font-family:Menlo,'DejaVu Sans Mono',consolas,'Courier New',monospace\">Processing Record <span style=\"color: #008080; text-decoration-color: #008080; font-weight: bold\">31</span> of Set <span style=\"color: #008080; text-decoration-color: #008080; font-weight: bold\">12</span> | bardai\n",
       "</pre>\n"
      ],
      "text/plain": [
       "Processing Record \u001b[1;36m31\u001b[0m of Set \u001b[1;36m12\u001b[0m | bardai\n"
      ]
     },
     "metadata": {},
     "output_type": "display_data"
    },
    {
     "data": {
      "text/html": [
       "<pre style=\"white-space:pre;overflow-x:auto;line-height:normal;font-family:Menlo,'DejaVu Sans Mono',consolas,'Courier New',monospace\">Processing Record <span style=\"color: #008080; text-decoration-color: #008080; font-weight: bold\">32</span> of Set <span style=\"color: #008080; text-decoration-color: #008080; font-weight: bold\">12</span> | preobrazheniye\n",
       "</pre>\n"
      ],
      "text/plain": [
       "Processing Record \u001b[1;36m32\u001b[0m of Set \u001b[1;36m12\u001b[0m | preobrazheniye\n"
      ]
     },
     "metadata": {},
     "output_type": "display_data"
    },
    {
     "data": {
      "text/html": [
       "<pre style=\"white-space:pre;overflow-x:auto;line-height:normal;font-family:Menlo,'DejaVu Sans Mono',consolas,'Courier New',monospace\">Processing Record <span style=\"color: #008080; text-decoration-color: #008080; font-weight: bold\">33</span> of Set <span style=\"color: #008080; text-decoration-color: #008080; font-weight: bold\">12</span> | casper\n",
       "</pre>\n"
      ],
      "text/plain": [
       "Processing Record \u001b[1;36m33\u001b[0m of Set \u001b[1;36m12\u001b[0m | casper\n"
      ]
     },
     "metadata": {},
     "output_type": "display_data"
    },
    {
     "data": {
      "text/html": [
       "<pre style=\"white-space:pre;overflow-x:auto;line-height:normal;font-family:Menlo,'DejaVu Sans Mono',consolas,'Courier New',monospace\">Processing Record <span style=\"color: #008080; text-decoration-color: #008080; font-weight: bold\">34</span> of Set <span style=\"color: #008080; text-decoration-color: #008080; font-weight: bold\">12</span> | acarau\n",
       "</pre>\n"
      ],
      "text/plain": [
       "Processing Record \u001b[1;36m34\u001b[0m of Set \u001b[1;36m12\u001b[0m | acarau\n"
      ]
     },
     "metadata": {},
     "output_type": "display_data"
    },
    {
     "data": {
      "text/html": [
       "<pre style=\"white-space:pre;overflow-x:auto;line-height:normal;font-family:Menlo,'DejaVu Sans Mono',consolas,'Courier New',monospace\">Processing Record <span style=\"color: #008080; text-decoration-color: #008080; font-weight: bold\">35</span> of Set <span style=\"color: #008080; text-decoration-color: #008080; font-weight: bold\">12</span> | nova vicosa\n",
       "</pre>\n"
      ],
      "text/plain": [
       "Processing Record \u001b[1;36m35\u001b[0m of Set \u001b[1;36m12\u001b[0m | nova vicosa\n"
      ]
     },
     "metadata": {},
     "output_type": "display_data"
    },
    {
     "data": {
      "text/html": [
       "<pre style=\"white-space:pre;overflow-x:auto;line-height:normal;font-family:Menlo,'DejaVu Sans Mono',consolas,'Courier New',monospace\">Processing Record <span style=\"color: #008080; text-decoration-color: #008080; font-weight: bold\">36</span> of Set <span style=\"color: #008080; text-decoration-color: #008080; font-weight: bold\">12</span> | pocahontas\n",
       "</pre>\n"
      ],
      "text/plain": [
       "Processing Record \u001b[1;36m36\u001b[0m of Set \u001b[1;36m12\u001b[0m | pocahontas\n"
      ]
     },
     "metadata": {},
     "output_type": "display_data"
    },
    {
     "data": {
      "text/html": [
       "<pre style=\"white-space:pre;overflow-x:auto;line-height:normal;font-family:Menlo,'DejaVu Sans Mono',consolas,'Courier New',monospace\">Processing Record <span style=\"color: #008080; text-decoration-color: #008080; font-weight: bold\">37</span> of Set <span style=\"color: #008080; text-decoration-color: #008080; font-weight: bold\">12</span> | zhangjiakou\n",
       "</pre>\n"
      ],
      "text/plain": [
       "Processing Record \u001b[1;36m37\u001b[0m of Set \u001b[1;36m12\u001b[0m | zhangjiakou\n"
      ]
     },
     "metadata": {},
     "output_type": "display_data"
    },
    {
     "data": {
      "text/html": [
       "<pre style=\"white-space:pre;overflow-x:auto;line-height:normal;font-family:Menlo,'DejaVu Sans Mono',consolas,'Courier New',monospace\">Processing Record <span style=\"color: #008080; text-decoration-color: #008080; font-weight: bold\">38</span> of Set <span style=\"color: #008080; text-decoration-color: #008080; font-weight: bold\">12</span> | kupang\n",
       "</pre>\n"
      ],
      "text/plain": [
       "Processing Record \u001b[1;36m38\u001b[0m of Set \u001b[1;36m12\u001b[0m | kupang\n"
      ]
     },
     "metadata": {},
     "output_type": "display_data"
    },
    {
     "data": {
      "text/html": [
       "<pre style=\"white-space:pre;overflow-x:auto;line-height:normal;font-family:Menlo,'DejaVu Sans Mono',consolas,'Courier New',monospace\">Processing Record <span style=\"color: #008080; text-decoration-color: #008080; font-weight: bold\">39</span> of Set <span style=\"color: #008080; text-decoration-color: #008080; font-weight: bold\">12</span> | ar rutbah\n",
       "</pre>\n"
      ],
      "text/plain": [
       "Processing Record \u001b[1;36m39\u001b[0m of Set \u001b[1;36m12\u001b[0m | ar rutbah\n"
      ]
     },
     "metadata": {},
     "output_type": "display_data"
    },
    {
     "data": {
      "text/html": [
       "<pre style=\"white-space:pre;overflow-x:auto;line-height:normal;font-family:Menlo,'DejaVu Sans Mono',consolas,'Courier New',monospace\">Processing Record <span style=\"color: #008080; text-decoration-color: #008080; font-weight: bold\">40</span> of Set <span style=\"color: #008080; text-decoration-color: #008080; font-weight: bold\">12</span> | coruripe\n",
       "</pre>\n"
      ],
      "text/plain": [
       "Processing Record \u001b[1;36m40\u001b[0m of Set \u001b[1;36m12\u001b[0m | coruripe\n"
      ]
     },
     "metadata": {},
     "output_type": "display_data"
    },
    {
     "data": {
      "text/html": [
       "<pre style=\"white-space:pre;overflow-x:auto;line-height:normal;font-family:Menlo,'DejaVu Sans Mono',consolas,'Courier New',monospace\">Processing Record <span style=\"color: #008080; text-decoration-color: #008080; font-weight: bold\">41</span> of Set <span style=\"color: #008080; text-decoration-color: #008080; font-weight: bold\">12</span> | macapa\n",
       "</pre>\n"
      ],
      "text/plain": [
       "Processing Record \u001b[1;36m41\u001b[0m of Set \u001b[1;36m12\u001b[0m | macapa\n"
      ]
     },
     "metadata": {},
     "output_type": "display_data"
    },
    {
     "data": {
      "text/html": [
       "<pre style=\"white-space:pre;overflow-x:auto;line-height:normal;font-family:Menlo,'DejaVu Sans Mono',consolas,'Courier New',monospace\">Processing Record <span style=\"color: #008080; text-decoration-color: #008080; font-weight: bold\">42</span> of Set <span style=\"color: #008080; text-decoration-color: #008080; font-weight: bold\">12</span> | aioun\n",
       "</pre>\n"
      ],
      "text/plain": [
       "Processing Record \u001b[1;36m42\u001b[0m of Set \u001b[1;36m12\u001b[0m | aioun\n"
      ]
     },
     "metadata": {},
     "output_type": "display_data"
    },
    {
     "data": {
      "text/html": [
       "<pre style=\"white-space:pre;overflow-x:auto;line-height:normal;font-family:Menlo,'DejaVu Sans Mono',consolas,'Courier New',monospace\">Processing Record <span style=\"color: #008080; text-decoration-color: #008080; font-weight: bold\">43</span> of Set <span style=\"color: #008080; text-decoration-color: #008080; font-weight: bold\">12</span> | kulia village\n",
       "</pre>\n"
      ],
      "text/plain": [
       "Processing Record \u001b[1;36m43\u001b[0m of Set \u001b[1;36m12\u001b[0m | kulia village\n"
      ]
     },
     "metadata": {},
     "output_type": "display_data"
    },
    {
     "data": {
      "text/html": [
       "<pre style=\"white-space:pre;overflow-x:auto;line-height:normal;font-family:Menlo,'DejaVu Sans Mono',consolas,'Courier New',monospace\">City not found. Skipping<span style=\"color: #808000; text-decoration-color: #808000\">...</span>\n",
       "</pre>\n"
      ],
      "text/plain": [
       "City not found. Skipping\u001b[33m...\u001b[0m\n"
      ]
     },
     "metadata": {},
     "output_type": "display_data"
    },
    {
     "data": {
      "text/html": [
       "<pre style=\"white-space:pre;overflow-x:auto;line-height:normal;font-family:Menlo,'DejaVu Sans Mono',consolas,'Courier New',monospace\">Processing Record <span style=\"color: #008080; text-decoration-color: #008080; font-weight: bold\">44</span> of Set <span style=\"color: #008080; text-decoration-color: #008080; font-weight: bold\">12</span> | marka\n",
       "</pre>\n"
      ],
      "text/plain": [
       "Processing Record \u001b[1;36m44\u001b[0m of Set \u001b[1;36m12\u001b[0m | marka\n"
      ]
     },
     "metadata": {},
     "output_type": "display_data"
    },
    {
     "data": {
      "text/html": [
       "<pre style=\"white-space:pre;overflow-x:auto;line-height:normal;font-family:Menlo,'DejaVu Sans Mono',consolas,'Courier New',monospace\">Processing Record <span style=\"color: #008080; text-decoration-color: #008080; font-weight: bold\">45</span> of Set <span style=\"color: #008080; text-decoration-color: #008080; font-weight: bold\">12</span> | yendi\n",
       "</pre>\n"
      ],
      "text/plain": [
       "Processing Record \u001b[1;36m45\u001b[0m of Set \u001b[1;36m12\u001b[0m | yendi\n"
      ]
     },
     "metadata": {},
     "output_type": "display_data"
    },
    {
     "data": {
      "text/html": [
       "<pre style=\"white-space:pre;overflow-x:auto;line-height:normal;font-family:Menlo,'DejaVu Sans Mono',consolas,'Courier New',monospace\">Processing Record <span style=\"color: #008080; text-decoration-color: #008080; font-weight: bold\">46</span> of Set <span style=\"color: #008080; text-decoration-color: #008080; font-weight: bold\">12</span> | fuvahmulah\n",
       "</pre>\n"
      ],
      "text/plain": [
       "Processing Record \u001b[1;36m46\u001b[0m of Set \u001b[1;36m12\u001b[0m | fuvahmulah\n"
      ]
     },
     "metadata": {},
     "output_type": "display_data"
    },
    {
     "data": {
      "text/html": [
       "<pre style=\"white-space:pre;overflow-x:auto;line-height:normal;font-family:Menlo,'DejaVu Sans Mono',consolas,'Courier New',monospace\">City not found. Skipping<span style=\"color: #808000; text-decoration-color: #808000\">...</span>\n",
       "</pre>\n"
      ],
      "text/plain": [
       "City not found. Skipping\u001b[33m...\u001b[0m\n"
      ]
     },
     "metadata": {},
     "output_type": "display_data"
    },
    {
     "data": {
      "text/html": [
       "<pre style=\"white-space:pre;overflow-x:auto;line-height:normal;font-family:Menlo,'DejaVu Sans Mono',consolas,'Courier New',monospace\">Processing Record <span style=\"color: #008080; text-decoration-color: #008080; font-weight: bold\">47</span> of Set <span style=\"color: #008080; text-decoration-color: #008080; font-weight: bold\">12</span> | la tuque\n",
       "</pre>\n"
      ],
      "text/plain": [
       "Processing Record \u001b[1;36m47\u001b[0m of Set \u001b[1;36m12\u001b[0m | la tuque\n"
      ]
     },
     "metadata": {},
     "output_type": "display_data"
    },
    {
     "data": {
      "text/html": [
       "<pre style=\"white-space:pre;overflow-x:auto;line-height:normal;font-family:Menlo,'DejaVu Sans Mono',consolas,'Courier New',monospace\">Processing Record <span style=\"color: #008080; text-decoration-color: #008080; font-weight: bold\">48</span> of Set <span style=\"color: #008080; text-decoration-color: #008080; font-weight: bold\">12</span> | balabac\n",
       "</pre>\n"
      ],
      "text/plain": [
       "Processing Record \u001b[1;36m48\u001b[0m of Set \u001b[1;36m12\u001b[0m | balabac\n"
      ]
     },
     "metadata": {},
     "output_type": "display_data"
    },
    {
     "data": {
      "text/html": [
       "<pre style=\"white-space:pre;overflow-x:auto;line-height:normal;font-family:Menlo,'DejaVu Sans Mono',consolas,'Courier New',monospace\">Processing Record <span style=\"color: #008080; text-decoration-color: #008080; font-weight: bold\">49</span> of Set <span style=\"color: #008080; text-decoration-color: #008080; font-weight: bold\">12</span> | safford\n",
       "</pre>\n"
      ],
      "text/plain": [
       "Processing Record \u001b[1;36m49\u001b[0m of Set \u001b[1;36m12\u001b[0m | safford\n"
      ]
     },
     "metadata": {},
     "output_type": "display_data"
    },
    {
     "data": {
      "text/html": [
       "<pre style=\"white-space:pre;overflow-x:auto;line-height:normal;font-family:Menlo,'DejaVu Sans Mono',consolas,'Courier New',monospace\">Processing Record <span style=\"color: #008080; text-decoration-color: #008080; font-weight: bold\">0</span> of Set <span style=\"color: #008080; text-decoration-color: #008080; font-weight: bold\">13</span> | gueltat zemmour\n",
       "</pre>\n"
      ],
      "text/plain": [
       "Processing Record \u001b[1;36m0\u001b[0m of Set \u001b[1;36m13\u001b[0m | gueltat zemmour\n"
      ]
     },
     "metadata": {},
     "output_type": "display_data"
    },
    {
     "data": {
      "text/html": [
       "<pre style=\"white-space:pre;overflow-x:auto;line-height:normal;font-family:Menlo,'DejaVu Sans Mono',consolas,'Courier New',monospace\">City not found. Skipping<span style=\"color: #808000; text-decoration-color: #808000\">...</span>\n",
       "</pre>\n"
      ],
      "text/plain": [
       "City not found. Skipping\u001b[33m...\u001b[0m\n"
      ]
     },
     "metadata": {},
     "output_type": "display_data"
    },
    {
     "data": {
      "text/html": [
       "<pre style=\"white-space:pre;overflow-x:auto;line-height:normal;font-family:Menlo,'DejaVu Sans Mono',consolas,'Courier New',monospace\">-----------------------------\n",
       "</pre>\n"
      ],
      "text/plain": [
       "-----------------------------\n"
      ]
     },
     "metadata": {},
     "output_type": "display_data"
    },
    {
     "data": {
      "text/html": [
       "<pre style=\"white-space:pre;overflow-x:auto;line-height:normal;font-family:Menlo,'DejaVu Sans Mono',consolas,'Courier New',monospace\">Data Retrieval Complete      \n",
       "</pre>\n"
      ],
      "text/plain": [
       "Data Retrieval Complete      \n"
      ]
     },
     "metadata": {},
     "output_type": "display_data"
    },
    {
     "data": {
      "text/html": [
       "<pre style=\"white-space:pre;overflow-x:auto;line-height:normal;font-family:Menlo,'DejaVu Sans Mono',consolas,'Courier New',monospace\">-----------------------------\n",
       "</pre>\n"
      ],
      "text/plain": [
       "-----------------------------\n"
      ]
     },
     "metadata": {},
     "output_type": "display_data"
    }
   ],
   "source": [
    "#retrive weather data\n",
    "# Set the API base URL\n",
    "url = f'https://api.openweathermap.org/data/2.5/weather?q={city}&appid={weather_api_key}'\n",
    "\n",
    "# Define an empty list to fetch the weather data for each city\n",
    "city_data = []\n",
    "\n",
    "# Print to logger\n",
    "print(\"Beginning Data Retrieval     \")\n",
    "print(\"-----------------------------\")\n",
    "\n",
    "# Create counters\n",
    "record_count = 1\n",
    "set_count = 1\n",
    "\n",
    "# Loop through all the cities in our list to fetch weather data\n",
    "for i, city in enumerate(cities):\n",
    "\n",
    "    # Group cities in sets of 50 for logging purposes\n",
    "    if (i % 50 == 0 and i >= 50):\n",
    "        set_count += 1\n",
    "        record_count = 0\n",
    "\n",
    "    # Create endpoint URL with each city\n",
    "    city_url = f'https://api.openweathermap.org/data/2.5/weather?q={city}&appid={weather_api_key}&units=metric'# YOUR CODE HERE\n",
    "\n",
    "    # Log the url, record, and set numbers\n",
    "    print(\"Processing Record %s of Set %s | %s\" % (record_count, set_count, city))\n",
    "\n",
    "    # Add 1 to the record count\n",
    "    record_count += 1\n",
    "\n",
    "    # Run an API request for each of the cities\n",
    "    try:\n",
    "        # Parse the JSON and retrieve data\n",
    "        city_weather = requests.get(city_url).json() # YOUR CODE HERE\n",
    "\n",
    "        # Parse out latitude, longitude, max temp, humidity, cloudiness, wind speed, country, and date\n",
    "        city_lat = city_weather['coord']['lat']# YOUR CODE HERE\n",
    "        city_lng = city_weather['coord']['lon']# YOUR CODE HERE\n",
    "        city_max_temp = city_weather['main']['temp_max']# YOUR CODE HERE\n",
    "        city_humidity = city_weather['main']['humidity']# YOUR CODE HERE\n",
    "        city_clouds = city_weather['clouds']['all']# YOUR CODE HERE\n",
    "        city_wind = city_weather['wind']['speed']# YOUR CODE HERE\n",
    "        city_country = city_weather['sys']['country']# YOUR CODE HERE\n",
    "        city_date = city_weather['dt']# YOUR CODE HER\n",
    "\n",
    "        # Append the City information into city_data list\n",
    "        city_data.append({\"City\": city,\n",
    "                          \"Lat\": city_lat,\n",
    "                          \"Lng\": city_lng,\n",
    "                          \"Max Temp\": city_max_temp,\n",
    "                          \"Humidity\": city_humidity,\n",
    "                          \"Cloudiness\": city_clouds,\n",
    "                          \"Wind Speed\": city_wind,\n",
    "                          \"Country\": city_country,\n",
    "                          \"Date\": city_date})\n",
    "\n",
    "    # If an error is experienced, skip the city\n",
    "    except:\n",
    "        print(\"City not found. Skipping...\")\n",
    "        pass\n",
    "\n",
    "    # pause to avoid rate limiting\n",
    "    time.sleep(1)\n",
    "\n",
    "#Indicate that Data Loading is complete\n",
    "print(\"-----------------------------\")\n",
    "print(\"Data Retrieval Complete      \")\n",
    "print(\"-----------------------------\")"
   ]
  },
  {
   "cell_type": "code",
   "execution_count": 55,
   "id": "62b01d56-c76d-4f33-86e1-79fb5e024c08",
   "metadata": {},
   "outputs": [
    {
     "ename": "ValueError",
     "evalue": "If using all scalar values, you must pass an index",
     "output_type": "error",
     "traceback": [
      "\u001b[1;31m---------------------------------------------------------------------------\u001b[0m",
      "\u001b[1;31mValueError\u001b[0m                                Traceback (most recent call last)",
      "Cell \u001b[1;32mIn[55], line 2\u001b[0m\n\u001b[0;32m      1\u001b[0m \u001b[38;5;66;03m# Transform the cities weather data into a Pandas DataFrame\u001b[39;00m\n\u001b[1;32m----> 2\u001b[0m city_data_df \u001b[38;5;241m=\u001b[39m pd\u001b[38;5;241m.\u001b[39mDataFrame(city_data)\n",
      "File \u001b[1;32m~\\anaconda3\\Lib\\site-packages\\pandas\\core\\frame.py:778\u001b[0m, in \u001b[0;36mDataFrame.__init__\u001b[1;34m(self, data, index, columns, dtype, copy)\u001b[0m\n\u001b[0;32m    772\u001b[0m     mgr \u001b[38;5;241m=\u001b[39m \u001b[38;5;28mself\u001b[39m\u001b[38;5;241m.\u001b[39m_init_mgr(\n\u001b[0;32m    773\u001b[0m         data, axes\u001b[38;5;241m=\u001b[39m{\u001b[38;5;124m\"\u001b[39m\u001b[38;5;124mindex\u001b[39m\u001b[38;5;124m\"\u001b[39m: index, \u001b[38;5;124m\"\u001b[39m\u001b[38;5;124mcolumns\u001b[39m\u001b[38;5;124m\"\u001b[39m: columns}, dtype\u001b[38;5;241m=\u001b[39mdtype, copy\u001b[38;5;241m=\u001b[39mcopy\n\u001b[0;32m    774\u001b[0m     )\n\u001b[0;32m    776\u001b[0m \u001b[38;5;28;01melif\u001b[39;00m \u001b[38;5;28misinstance\u001b[39m(data, \u001b[38;5;28mdict\u001b[39m):\n\u001b[0;32m    777\u001b[0m     \u001b[38;5;66;03m# GH#38939 de facto copy defaults to False only in non-dict cases\u001b[39;00m\n\u001b[1;32m--> 778\u001b[0m     mgr \u001b[38;5;241m=\u001b[39m dict_to_mgr(data, index, columns, dtype\u001b[38;5;241m=\u001b[39mdtype, copy\u001b[38;5;241m=\u001b[39mcopy, typ\u001b[38;5;241m=\u001b[39mmanager)\n\u001b[0;32m    779\u001b[0m \u001b[38;5;28;01melif\u001b[39;00m \u001b[38;5;28misinstance\u001b[39m(data, ma\u001b[38;5;241m.\u001b[39mMaskedArray):\n\u001b[0;32m    780\u001b[0m     \u001b[38;5;28;01mfrom\u001b[39;00m \u001b[38;5;21;01mnumpy\u001b[39;00m\u001b[38;5;21;01m.\u001b[39;00m\u001b[38;5;21;01mma\u001b[39;00m \u001b[38;5;28;01mimport\u001b[39;00m mrecords\n",
      "File \u001b[1;32m~\\anaconda3\\Lib\\site-packages\\pandas\\core\\internals\\construction.py:503\u001b[0m, in \u001b[0;36mdict_to_mgr\u001b[1;34m(data, index, columns, dtype, typ, copy)\u001b[0m\n\u001b[0;32m    499\u001b[0m     \u001b[38;5;28;01melse\u001b[39;00m:\n\u001b[0;32m    500\u001b[0m         \u001b[38;5;66;03m# dtype check to exclude e.g. range objects, scalars\u001b[39;00m\n\u001b[0;32m    501\u001b[0m         arrays \u001b[38;5;241m=\u001b[39m [x\u001b[38;5;241m.\u001b[39mcopy() \u001b[38;5;28;01mif\u001b[39;00m \u001b[38;5;28mhasattr\u001b[39m(x, \u001b[38;5;124m\"\u001b[39m\u001b[38;5;124mdtype\u001b[39m\u001b[38;5;124m\"\u001b[39m) \u001b[38;5;28;01melse\u001b[39;00m x \u001b[38;5;28;01mfor\u001b[39;00m x \u001b[38;5;129;01min\u001b[39;00m arrays]\n\u001b[1;32m--> 503\u001b[0m \u001b[38;5;28;01mreturn\u001b[39;00m arrays_to_mgr(arrays, columns, index, dtype\u001b[38;5;241m=\u001b[39mdtype, typ\u001b[38;5;241m=\u001b[39mtyp, consolidate\u001b[38;5;241m=\u001b[39mcopy)\n",
      "File \u001b[1;32m~\\anaconda3\\Lib\\site-packages\\pandas\\core\\internals\\construction.py:114\u001b[0m, in \u001b[0;36marrays_to_mgr\u001b[1;34m(arrays, columns, index, dtype, verify_integrity, typ, consolidate)\u001b[0m\n\u001b[0;32m    111\u001b[0m \u001b[38;5;28;01mif\u001b[39;00m verify_integrity:\n\u001b[0;32m    112\u001b[0m     \u001b[38;5;66;03m# figure out the index, if necessary\u001b[39;00m\n\u001b[0;32m    113\u001b[0m     \u001b[38;5;28;01mif\u001b[39;00m index \u001b[38;5;129;01mis\u001b[39;00m \u001b[38;5;28;01mNone\u001b[39;00m:\n\u001b[1;32m--> 114\u001b[0m         index \u001b[38;5;241m=\u001b[39m _extract_index(arrays)\n\u001b[0;32m    115\u001b[0m     \u001b[38;5;28;01melse\u001b[39;00m:\n\u001b[0;32m    116\u001b[0m         index \u001b[38;5;241m=\u001b[39m ensure_index(index)\n",
      "File \u001b[1;32m~\\anaconda3\\Lib\\site-packages\\pandas\\core\\internals\\construction.py:667\u001b[0m, in \u001b[0;36m_extract_index\u001b[1;34m(data)\u001b[0m\n\u001b[0;32m    664\u001b[0m         \u001b[38;5;28;01mraise\u001b[39;00m \u001b[38;5;167;01mValueError\u001b[39;00m(\u001b[38;5;124m\"\u001b[39m\u001b[38;5;124mPer-column arrays must each be 1-dimensional\u001b[39m\u001b[38;5;124m\"\u001b[39m)\n\u001b[0;32m    666\u001b[0m \u001b[38;5;28;01mif\u001b[39;00m \u001b[38;5;129;01mnot\u001b[39;00m indexes \u001b[38;5;129;01mand\u001b[39;00m \u001b[38;5;129;01mnot\u001b[39;00m raw_lengths:\n\u001b[1;32m--> 667\u001b[0m     \u001b[38;5;28;01mraise\u001b[39;00m \u001b[38;5;167;01mValueError\u001b[39;00m(\u001b[38;5;124m\"\u001b[39m\u001b[38;5;124mIf using all scalar values, you must pass an index\u001b[39m\u001b[38;5;124m\"\u001b[39m)\n\u001b[0;32m    669\u001b[0m \u001b[38;5;28;01mif\u001b[39;00m have_series:\n\u001b[0;32m    670\u001b[0m     index \u001b[38;5;241m=\u001b[39m union_indexes(indexes)\n",
      "\u001b[1;31mValueError\u001b[0m: If using all scalar values, you must pass an index"
     ]
    }
   ],
   "source": [
    "# Transform the cities weather data into a Pandas DataFrame\n",
    "city_data_df = pd.DataFrame(city_data)\n",
    "\n",
    "# Show Record Count\n",
    "#city_data_df.count()"
   ]
  },
  {
   "cell_type": "code",
   "execution_count": 57,
   "id": "898695fc-d276-4805-8bfe-19aa6a0ae7e3",
   "metadata": {},
   "outputs": [
    {
     "ename": "ValueError",
     "evalue": "If using all scalar values, you must pass an index",
     "output_type": "error",
     "traceback": [
      "\u001b[1;31m---------------------------------------------------------------------------\u001b[0m",
      "\u001b[1;31mValueError\u001b[0m                                Traceback (most recent call last)",
      "Cell \u001b[1;32mIn[57], line 1\u001b[0m\n\u001b[1;32m----> 1\u001b[0m city_data_df \u001b[38;5;241m=\u001b[39m pd\u001b[38;5;241m.\u001b[39mDataFrame(city_data)\n\u001b[0;32m      3\u001b[0m \u001b[38;5;66;03m# Create a Rich Console object\u001b[39;00m\n\u001b[0;32m      4\u001b[0m console \u001b[38;5;241m=\u001b[39m Console()\n",
      "File \u001b[1;32m~\\anaconda3\\Lib\\site-packages\\pandas\\core\\frame.py:778\u001b[0m, in \u001b[0;36mDataFrame.__init__\u001b[1;34m(self, data, index, columns, dtype, copy)\u001b[0m\n\u001b[0;32m    772\u001b[0m     mgr \u001b[38;5;241m=\u001b[39m \u001b[38;5;28mself\u001b[39m\u001b[38;5;241m.\u001b[39m_init_mgr(\n\u001b[0;32m    773\u001b[0m         data, axes\u001b[38;5;241m=\u001b[39m{\u001b[38;5;124m\"\u001b[39m\u001b[38;5;124mindex\u001b[39m\u001b[38;5;124m\"\u001b[39m: index, \u001b[38;5;124m\"\u001b[39m\u001b[38;5;124mcolumns\u001b[39m\u001b[38;5;124m\"\u001b[39m: columns}, dtype\u001b[38;5;241m=\u001b[39mdtype, copy\u001b[38;5;241m=\u001b[39mcopy\n\u001b[0;32m    774\u001b[0m     )\n\u001b[0;32m    776\u001b[0m \u001b[38;5;28;01melif\u001b[39;00m \u001b[38;5;28misinstance\u001b[39m(data, \u001b[38;5;28mdict\u001b[39m):\n\u001b[0;32m    777\u001b[0m     \u001b[38;5;66;03m# GH#38939 de facto copy defaults to False only in non-dict cases\u001b[39;00m\n\u001b[1;32m--> 778\u001b[0m     mgr \u001b[38;5;241m=\u001b[39m dict_to_mgr(data, index, columns, dtype\u001b[38;5;241m=\u001b[39mdtype, copy\u001b[38;5;241m=\u001b[39mcopy, typ\u001b[38;5;241m=\u001b[39mmanager)\n\u001b[0;32m    779\u001b[0m \u001b[38;5;28;01melif\u001b[39;00m \u001b[38;5;28misinstance\u001b[39m(data, ma\u001b[38;5;241m.\u001b[39mMaskedArray):\n\u001b[0;32m    780\u001b[0m     \u001b[38;5;28;01mfrom\u001b[39;00m \u001b[38;5;21;01mnumpy\u001b[39;00m\u001b[38;5;21;01m.\u001b[39;00m\u001b[38;5;21;01mma\u001b[39;00m \u001b[38;5;28;01mimport\u001b[39;00m mrecords\n",
      "File \u001b[1;32m~\\anaconda3\\Lib\\site-packages\\pandas\\core\\internals\\construction.py:503\u001b[0m, in \u001b[0;36mdict_to_mgr\u001b[1;34m(data, index, columns, dtype, typ, copy)\u001b[0m\n\u001b[0;32m    499\u001b[0m     \u001b[38;5;28;01melse\u001b[39;00m:\n\u001b[0;32m    500\u001b[0m         \u001b[38;5;66;03m# dtype check to exclude e.g. range objects, scalars\u001b[39;00m\n\u001b[0;32m    501\u001b[0m         arrays \u001b[38;5;241m=\u001b[39m [x\u001b[38;5;241m.\u001b[39mcopy() \u001b[38;5;28;01mif\u001b[39;00m \u001b[38;5;28mhasattr\u001b[39m(x, \u001b[38;5;124m\"\u001b[39m\u001b[38;5;124mdtype\u001b[39m\u001b[38;5;124m\"\u001b[39m) \u001b[38;5;28;01melse\u001b[39;00m x \u001b[38;5;28;01mfor\u001b[39;00m x \u001b[38;5;129;01min\u001b[39;00m arrays]\n\u001b[1;32m--> 503\u001b[0m \u001b[38;5;28;01mreturn\u001b[39;00m arrays_to_mgr(arrays, columns, index, dtype\u001b[38;5;241m=\u001b[39mdtype, typ\u001b[38;5;241m=\u001b[39mtyp, consolidate\u001b[38;5;241m=\u001b[39mcopy)\n",
      "File \u001b[1;32m~\\anaconda3\\Lib\\site-packages\\pandas\\core\\internals\\construction.py:114\u001b[0m, in \u001b[0;36marrays_to_mgr\u001b[1;34m(arrays, columns, index, dtype, verify_integrity, typ, consolidate)\u001b[0m\n\u001b[0;32m    111\u001b[0m \u001b[38;5;28;01mif\u001b[39;00m verify_integrity:\n\u001b[0;32m    112\u001b[0m     \u001b[38;5;66;03m# figure out the index, if necessary\u001b[39;00m\n\u001b[0;32m    113\u001b[0m     \u001b[38;5;28;01mif\u001b[39;00m index \u001b[38;5;129;01mis\u001b[39;00m \u001b[38;5;28;01mNone\u001b[39;00m:\n\u001b[1;32m--> 114\u001b[0m         index \u001b[38;5;241m=\u001b[39m _extract_index(arrays)\n\u001b[0;32m    115\u001b[0m     \u001b[38;5;28;01melse\u001b[39;00m:\n\u001b[0;32m    116\u001b[0m         index \u001b[38;5;241m=\u001b[39m ensure_index(index)\n",
      "File \u001b[1;32m~\\anaconda3\\Lib\\site-packages\\pandas\\core\\internals\\construction.py:667\u001b[0m, in \u001b[0;36m_extract_index\u001b[1;34m(data)\u001b[0m\n\u001b[0;32m    664\u001b[0m         \u001b[38;5;28;01mraise\u001b[39;00m \u001b[38;5;167;01mValueError\u001b[39;00m(\u001b[38;5;124m\"\u001b[39m\u001b[38;5;124mPer-column arrays must each be 1-dimensional\u001b[39m\u001b[38;5;124m\"\u001b[39m)\n\u001b[0;32m    666\u001b[0m \u001b[38;5;28;01mif\u001b[39;00m \u001b[38;5;129;01mnot\u001b[39;00m indexes \u001b[38;5;129;01mand\u001b[39;00m \u001b[38;5;129;01mnot\u001b[39;00m raw_lengths:\n\u001b[1;32m--> 667\u001b[0m     \u001b[38;5;28;01mraise\u001b[39;00m \u001b[38;5;167;01mValueError\u001b[39;00m(\u001b[38;5;124m\"\u001b[39m\u001b[38;5;124mIf using all scalar values, you must pass an index\u001b[39m\u001b[38;5;124m\"\u001b[39m)\n\u001b[0;32m    669\u001b[0m \u001b[38;5;28;01mif\u001b[39;00m have_series:\n\u001b[0;32m    670\u001b[0m     index \u001b[38;5;241m=\u001b[39m union_indexes(indexes)\n",
      "\u001b[1;31mValueError\u001b[0m: If using all scalar values, you must pass an index"
     ]
    }
   ],
   "source": [
    "city_data_df = pd.DataFrame(city_data)\n",
    "\n",
    "# Create a Rich Console object\n",
    "console = Console()\n",
    "\n",
    "# Function to print the record count with Rich\n",
    "def print_record_count_with_rich(city_data_df):\n",
    "    # Get the count of non-null values for each column\n",
    "    count_data = city_data_df.count()\n",
    "\n",
    "    # Create a rich table to display the counts in a neat format\n",
    "    table = Table(title=\"[bold cyan]Record Count per Column[/bold cyan]\", show_lines=True)\n",
    "    table.add_column(\"Column\", style=\"bold green\")\n",
    "    table.add_column(\"Count\", style=\"bold yellow\")\n",
    "\n",
    "    # Add rows to the table\n",
    "    for column, count in count_data.items():\n",
    "        table.add_row(column, str(count))\n",
    "\n",
    "    # Print the table\n",
    "    console.print(table)\n",
    "\n",
    "# Call the function to print the record count with Rich\n",
    "print_record_count_with_rich(city_data_df)"
   ]
  },
  {
   "cell_type": "code",
   "execution_count": 14,
   "id": "b6689387-3311-4421-a465-5aadf4dba3e3",
   "metadata": {},
   "outputs": [],
   "source": [
    "city_data_df = city_data_df.rename(columns={\n",
    "    'Max Temp': 'Maximum_Temperature',\n",
    "    'Wind Speed': 'Wind_Speed_kmh'\n",
    "})\n"
   ]
  },
  {
   "cell_type": "code",
   "execution_count": 15,
   "id": "30f3e44e-d5b2-41b6-8075-c3f65599c35f",
   "metadata": {},
   "outputs": [
    {
     "data": {
      "text/html": [
       "<pre style=\"white-space:pre;overflow-x:auto;line-height:normal;font-family:Menlo,'DejaVu Sans Mono',consolas,'Courier New',monospace\"><span style=\"font-style: italic\">                         </span><span style=\"color: #008080; text-decoration-color: #008080; font-weight: bold; font-style: italic\">DataFrame Info</span><span style=\"font-style: italic\">                          </span>\n",
       "┏━━━━━━━━━━━━━━━━━━━━━┳━━━━━━━━━━━━━━━━┳━━━━━━━━━┳━━━━━━━━━━━━━━┓\n",
       "┃<span style=\"font-weight: bold\"> Column              </span>┃<span style=\"font-weight: bold\"> Non-Null Count </span>┃<span style=\"font-weight: bold\"> Dtype   </span>┃<span style=\"font-weight: bold\"> Memory Usage </span>┃\n",
       "┡━━━━━━━━━━━━━━━━━━━━━╇━━━━━━━━━━━━━━━━╇━━━━━━━━━╇━━━━━━━━━━━━━━┩\n",
       "│<span style=\"color: #008000; text-decoration-color: #008000; font-weight: bold\"> City                </span>│<span style=\"color: #808000; text-decoration-color: #808000; font-weight: bold\"> 578            </span>│<span style=\"color: #800080; text-decoration-color: #800080; font-weight: bold\"> object  </span>│<span style=\"color: #000080; text-decoration-color: #000080; font-weight: bold\"> 33541        </span>│\n",
       "├─────────────────────┼────────────────┼─────────┼──────────────┤\n",
       "│<span style=\"color: #008000; text-decoration-color: #008000; font-weight: bold\"> Lat                 </span>│<span style=\"color: #808000; text-decoration-color: #808000; font-weight: bold\"> 578            </span>│<span style=\"color: #800080; text-decoration-color: #800080; font-weight: bold\"> float64 </span>│<span style=\"color: #000080; text-decoration-color: #000080; font-weight: bold\"> 4624         </span>│\n",
       "├─────────────────────┼────────────────┼─────────┼──────────────┤\n",
       "│<span style=\"color: #008000; text-decoration-color: #008000; font-weight: bold\"> Lng                 </span>│<span style=\"color: #808000; text-decoration-color: #808000; font-weight: bold\"> 578            </span>│<span style=\"color: #800080; text-decoration-color: #800080; font-weight: bold\"> float64 </span>│<span style=\"color: #000080; text-decoration-color: #000080; font-weight: bold\"> 4624         </span>│\n",
       "├─────────────────────┼────────────────┼─────────┼──────────────┤\n",
       "│<span style=\"color: #008000; text-decoration-color: #008000; font-weight: bold\"> Maximum_Temperature </span>│<span style=\"color: #808000; text-decoration-color: #808000; font-weight: bold\"> 578            </span>│<span style=\"color: #800080; text-decoration-color: #800080; font-weight: bold\"> float64 </span>│<span style=\"color: #000080; text-decoration-color: #000080; font-weight: bold\"> 4624         </span>│\n",
       "├─────────────────────┼────────────────┼─────────┼──────────────┤\n",
       "│<span style=\"color: #008000; text-decoration-color: #008000; font-weight: bold\"> Humidity            </span>│<span style=\"color: #808000; text-decoration-color: #808000; font-weight: bold\"> 578            </span>│<span style=\"color: #800080; text-decoration-color: #800080; font-weight: bold\"> int64   </span>│<span style=\"color: #000080; text-decoration-color: #000080; font-weight: bold\"> 4624         </span>│\n",
       "├─────────────────────┼────────────────┼─────────┼──────────────┤\n",
       "│<span style=\"color: #008000; text-decoration-color: #008000; font-weight: bold\"> Cloudiness          </span>│<span style=\"color: #808000; text-decoration-color: #808000; font-weight: bold\"> 578            </span>│<span style=\"color: #800080; text-decoration-color: #800080; font-weight: bold\"> int64   </span>│<span style=\"color: #000080; text-decoration-color: #000080; font-weight: bold\"> 4624         </span>│\n",
       "├─────────────────────┼────────────────┼─────────┼──────────────┤\n",
       "│<span style=\"color: #008000; text-decoration-color: #008000; font-weight: bold\"> Wind_Speed_kmh      </span>│<span style=\"color: #808000; text-decoration-color: #808000; font-weight: bold\"> 578            </span>│<span style=\"color: #800080; text-decoration-color: #800080; font-weight: bold\"> float64 </span>│<span style=\"color: #000080; text-decoration-color: #000080; font-weight: bold\"> 4624         </span>│\n",
       "├─────────────────────┼────────────────┼─────────┼──────────────┤\n",
       "│<span style=\"color: #008000; text-decoration-color: #008000; font-weight: bold\"> Country             </span>│<span style=\"color: #808000; text-decoration-color: #808000; font-weight: bold\"> 578            </span>│<span style=\"color: #800080; text-decoration-color: #800080; font-weight: bold\"> object  </span>│<span style=\"color: #000080; text-decoration-color: #000080; font-weight: bold\"> 29478        </span>│\n",
       "├─────────────────────┼────────────────┼─────────┼──────────────┤\n",
       "│<span style=\"color: #008000; text-decoration-color: #008000; font-weight: bold\"> Date                </span>│<span style=\"color: #808000; text-decoration-color: #808000; font-weight: bold\"> 578            </span>│<span style=\"color: #800080; text-decoration-color: #800080; font-weight: bold\"> int64   </span>│<span style=\"color: #000080; text-decoration-color: #000080; font-weight: bold\"> 4624         </span>│\n",
       "└─────────────────────┴────────────────┴─────────┴──────────────┘\n",
       "</pre>\n"
      ],
      "text/plain": [
       "\u001b[3m                         \u001b[0m\u001b[1;3;36mDataFrame Info\u001b[0m\u001b[3m                          \u001b[0m\n",
       "┏━━━━━━━━━━━━━━━━━━━━━┳━━━━━━━━━━━━━━━━┳━━━━━━━━━┳━━━━━━━━━━━━━━┓\n",
       "┃\u001b[1m \u001b[0m\u001b[1mColumn             \u001b[0m\u001b[1m \u001b[0m┃\u001b[1m \u001b[0m\u001b[1mNon-Null Count\u001b[0m\u001b[1m \u001b[0m┃\u001b[1m \u001b[0m\u001b[1mDtype  \u001b[0m\u001b[1m \u001b[0m┃\u001b[1m \u001b[0m\u001b[1mMemory Usage\u001b[0m\u001b[1m \u001b[0m┃\n",
       "┡━━━━━━━━━━━━━━━━━━━━━╇━━━━━━━━━━━━━━━━╇━━━━━━━━━╇━━━━━━━━━━━━━━┩\n",
       "│\u001b[1;32m \u001b[0m\u001b[1;32mCity               \u001b[0m\u001b[1;32m \u001b[0m│\u001b[1;33m \u001b[0m\u001b[1;33m578           \u001b[0m\u001b[1;33m \u001b[0m│\u001b[1;35m \u001b[0m\u001b[1;35mobject \u001b[0m\u001b[1;35m \u001b[0m│\u001b[1;34m \u001b[0m\u001b[1;34m33541       \u001b[0m\u001b[1;34m \u001b[0m│\n",
       "├─────────────────────┼────────────────┼─────────┼──────────────┤\n",
       "│\u001b[1;32m \u001b[0m\u001b[1;32mLat                \u001b[0m\u001b[1;32m \u001b[0m│\u001b[1;33m \u001b[0m\u001b[1;33m578           \u001b[0m\u001b[1;33m \u001b[0m│\u001b[1;35m \u001b[0m\u001b[1;35mfloat64\u001b[0m\u001b[1;35m \u001b[0m│\u001b[1;34m \u001b[0m\u001b[1;34m4624        \u001b[0m\u001b[1;34m \u001b[0m│\n",
       "├─────────────────────┼────────────────┼─────────┼──────────────┤\n",
       "│\u001b[1;32m \u001b[0m\u001b[1;32mLng                \u001b[0m\u001b[1;32m \u001b[0m│\u001b[1;33m \u001b[0m\u001b[1;33m578           \u001b[0m\u001b[1;33m \u001b[0m│\u001b[1;35m \u001b[0m\u001b[1;35mfloat64\u001b[0m\u001b[1;35m \u001b[0m│\u001b[1;34m \u001b[0m\u001b[1;34m4624        \u001b[0m\u001b[1;34m \u001b[0m│\n",
       "├─────────────────────┼────────────────┼─────────┼──────────────┤\n",
       "│\u001b[1;32m \u001b[0m\u001b[1;32mMaximum_Temperature\u001b[0m\u001b[1;32m \u001b[0m│\u001b[1;33m \u001b[0m\u001b[1;33m578           \u001b[0m\u001b[1;33m \u001b[0m│\u001b[1;35m \u001b[0m\u001b[1;35mfloat64\u001b[0m\u001b[1;35m \u001b[0m│\u001b[1;34m \u001b[0m\u001b[1;34m4624        \u001b[0m\u001b[1;34m \u001b[0m│\n",
       "├─────────────────────┼────────────────┼─────────┼──────────────┤\n",
       "│\u001b[1;32m \u001b[0m\u001b[1;32mHumidity           \u001b[0m\u001b[1;32m \u001b[0m│\u001b[1;33m \u001b[0m\u001b[1;33m578           \u001b[0m\u001b[1;33m \u001b[0m│\u001b[1;35m \u001b[0m\u001b[1;35mint64  \u001b[0m\u001b[1;35m \u001b[0m│\u001b[1;34m \u001b[0m\u001b[1;34m4624        \u001b[0m\u001b[1;34m \u001b[0m│\n",
       "├─────────────────────┼────────────────┼─────────┼──────────────┤\n",
       "│\u001b[1;32m \u001b[0m\u001b[1;32mCloudiness         \u001b[0m\u001b[1;32m \u001b[0m│\u001b[1;33m \u001b[0m\u001b[1;33m578           \u001b[0m\u001b[1;33m \u001b[0m│\u001b[1;35m \u001b[0m\u001b[1;35mint64  \u001b[0m\u001b[1;35m \u001b[0m│\u001b[1;34m \u001b[0m\u001b[1;34m4624        \u001b[0m\u001b[1;34m \u001b[0m│\n",
       "├─────────────────────┼────────────────┼─────────┼──────────────┤\n",
       "│\u001b[1;32m \u001b[0m\u001b[1;32mWind_Speed_kmh     \u001b[0m\u001b[1;32m \u001b[0m│\u001b[1;33m \u001b[0m\u001b[1;33m578           \u001b[0m\u001b[1;33m \u001b[0m│\u001b[1;35m \u001b[0m\u001b[1;35mfloat64\u001b[0m\u001b[1;35m \u001b[0m│\u001b[1;34m \u001b[0m\u001b[1;34m4624        \u001b[0m\u001b[1;34m \u001b[0m│\n",
       "├─────────────────────┼────────────────┼─────────┼──────────────┤\n",
       "│\u001b[1;32m \u001b[0m\u001b[1;32mCountry            \u001b[0m\u001b[1;32m \u001b[0m│\u001b[1;33m \u001b[0m\u001b[1;33m578           \u001b[0m\u001b[1;33m \u001b[0m│\u001b[1;35m \u001b[0m\u001b[1;35mobject \u001b[0m\u001b[1;35m \u001b[0m│\u001b[1;34m \u001b[0m\u001b[1;34m29478       \u001b[0m\u001b[1;34m \u001b[0m│\n",
       "├─────────────────────┼────────────────┼─────────┼──────────────┤\n",
       "│\u001b[1;32m \u001b[0m\u001b[1;32mDate               \u001b[0m\u001b[1;32m \u001b[0m│\u001b[1;33m \u001b[0m\u001b[1;33m578           \u001b[0m\u001b[1;33m \u001b[0m│\u001b[1;35m \u001b[0m\u001b[1;35mint64  \u001b[0m\u001b[1;35m \u001b[0m│\u001b[1;34m \u001b[0m\u001b[1;34m4624        \u001b[0m\u001b[1;34m \u001b[0m│\n",
       "└─────────────────────┴────────────────┴─────────┴──────────────┘\n"
      ]
     },
     "metadata": {},
     "output_type": "display_data"
    }
   ],
   "source": [
    "# Create a Rich Console object\n",
    "console = Console()\n",
    "\n",
    "# Function to print DataFrame info using Rich\n",
    "def print_info_with_rich(city_data_df):\n",
    "    # Get the non-null count, data types, and memory usage\n",
    "    count_data = city_data_df.count()\n",
    "    dtype_data = city_data_df.dtypes\n",
    "    memory_data = city_data_df.memory_usage(deep=True)\n",
    "\n",
    "    # Create a rich table to display the DataFrame info\n",
    "    table = Table(title=\"[bold cyan]DataFrame Info[/bold cyan]\", show_lines=True)\n",
    "    table.add_column(\"Column\", style=\"bold green\")\n",
    "    table.add_column(\"Non-Null Count\", style=\"bold yellow\")\n",
    "    table.add_column(\"Dtype\", style=\"bold magenta\")\n",
    "    table.add_column(\"Memory Usage\", style=\"bold blue\")\n",
    "\n",
    "    # Add rows to the table\n",
    "    for column in city_data_df.columns:\n",
    "        non_null_count = count_data[column]\n",
    "        dtype = dtype_data[column]\n",
    "        memory_usage = memory_data[column]\n",
    "        \n",
    "        # Add row to the table\n",
    "        table.add_row(column, str(non_null_count), str(dtype), str(memory_usage))\n",
    "\n",
    "    # Print the table\n",
    "    console.print(table)\n",
    "\n",
    "# Sample DataFrame (replace this with your actual city_data_df)\n",
    "city_data_df2 = pd.DataFrame(city_data)\n",
    "\n",
    "# Call the function to print the DataFrame info with Rich\n",
    "print_info_with_rich(city_data_df)"
   ]
  },
  {
   "cell_type": "code",
   "execution_count": 16,
   "id": "bdfde582-9915-48fc-8be7-85be3bf88742",
   "metadata": {},
   "outputs": [
    {
     "name": "stdout",
     "output_type": "stream",
     "text": [
      "<class 'pandas.core.frame.DataFrame'>\n",
      "RangeIndex: 578 entries, 0 to 577\n",
      "Data columns (total 9 columns):\n",
      " #   Column               Non-Null Count  Dtype  \n",
      "---  ------               --------------  -----  \n",
      " 0   City                 578 non-null    object \n",
      " 1   Lat                  578 non-null    float64\n",
      " 2   Lng                  578 non-null    float64\n",
      " 3   Maximum_Temperature  578 non-null    float64\n",
      " 4   Humidity             578 non-null    int64  \n",
      " 5   Cloudiness           578 non-null    int64  \n",
      " 6   Wind_Speed_kmh       578 non-null    float64\n",
      " 7   Country              578 non-null    object \n",
      " 8   Date                 578 non-null    int64  \n",
      "dtypes: float64(4), int64(3), object(2)\n",
      "memory usage: 40.8+ KB\n"
     ]
    }
   ],
   "source": [
    "city_data_df.info()\n"
   ]
  },
  {
   "cell_type": "code",
   "execution_count": 17,
   "id": "8737d7d8-88d9-4e57-a3e2-6334a27d830d",
   "metadata": {},
   "outputs": [
    {
     "data": {
      "text/html": [
       "<div>\n",
       "<style scoped>\n",
       "    .dataframe tbody tr th:only-of-type {\n",
       "        vertical-align: middle;\n",
       "    }\n",
       "\n",
       "    .dataframe tbody tr th {\n",
       "        vertical-align: top;\n",
       "    }\n",
       "\n",
       "    .dataframe thead th {\n",
       "        text-align: right;\n",
       "    }\n",
       "</style>\n",
       "<table border=\"1\" class=\"dataframe\">\n",
       "  <thead>\n",
       "    <tr style=\"text-align: right;\">\n",
       "      <th></th>\n",
       "      <th>City</th>\n",
       "      <th>Lat</th>\n",
       "      <th>Lng</th>\n",
       "      <th>Maximum_Temperature</th>\n",
       "      <th>Humidity</th>\n",
       "      <th>Cloudiness</th>\n",
       "      <th>Wind_Speed_kmh</th>\n",
       "      <th>Country</th>\n",
       "      <th>Date</th>\n",
       "    </tr>\n",
       "  </thead>\n",
       "  <tbody>\n",
       "    <tr>\n",
       "      <th>0</th>\n",
       "      <td>brigantine</td>\n",
       "      <td>39.4101</td>\n",
       "      <td>-74.3646</td>\n",
       "      <td>-0.48</td>\n",
       "      <td>52</td>\n",
       "      <td>20</td>\n",
       "      <td>10.29</td>\n",
       "      <td>US</td>\n",
       "      <td>2025-01-08</td>\n",
       "    </tr>\n",
       "    <tr>\n",
       "      <th>1</th>\n",
       "      <td>waitangi</td>\n",
       "      <td>-43.9535</td>\n",
       "      <td>-176.5597</td>\n",
       "      <td>11.57</td>\n",
       "      <td>98</td>\n",
       "      <td>100</td>\n",
       "      <td>1.79</td>\n",
       "      <td>NZ</td>\n",
       "      <td>2025-01-08</td>\n",
       "    </tr>\n",
       "    <tr>\n",
       "      <th>2</th>\n",
       "      <td>bethel</td>\n",
       "      <td>41.3712</td>\n",
       "      <td>-73.4140</td>\n",
       "      <td>-1.66</td>\n",
       "      <td>41</td>\n",
       "      <td>0</td>\n",
       "      <td>8.75</td>\n",
       "      <td>US</td>\n",
       "      <td>2025-01-08</td>\n",
       "    </tr>\n",
       "    <tr>\n",
       "      <th>3</th>\n",
       "      <td>port-aux-francais</td>\n",
       "      <td>-49.3500</td>\n",
       "      <td>70.2167</td>\n",
       "      <td>5.41</td>\n",
       "      <td>89</td>\n",
       "      <td>13</td>\n",
       "      <td>8.37</td>\n",
       "      <td>TF</td>\n",
       "      <td>2025-01-08</td>\n",
       "    </tr>\n",
       "    <tr>\n",
       "      <th>4</th>\n",
       "      <td>utrik</td>\n",
       "      <td>11.2278</td>\n",
       "      <td>169.8474</td>\n",
       "      <td>27.07</td>\n",
       "      <td>82</td>\n",
       "      <td>8</td>\n",
       "      <td>9.84</td>\n",
       "      <td>MH</td>\n",
       "      <td>2025-01-08</td>\n",
       "    </tr>\n",
       "    <tr>\n",
       "      <th>...</th>\n",
       "      <td>...</td>\n",
       "      <td>...</td>\n",
       "      <td>...</td>\n",
       "      <td>...</td>\n",
       "      <td>...</td>\n",
       "      <td>...</td>\n",
       "      <td>...</td>\n",
       "      <td>...</td>\n",
       "      <td>...</td>\n",
       "    </tr>\n",
       "    <tr>\n",
       "      <th>573</th>\n",
       "      <td>marka</td>\n",
       "      <td>1.7159</td>\n",
       "      <td>44.7717</td>\n",
       "      <td>24.44</td>\n",
       "      <td>90</td>\n",
       "      <td>61</td>\n",
       "      <td>7.53</td>\n",
       "      <td>SO</td>\n",
       "      <td>2025-01-08</td>\n",
       "    </tr>\n",
       "    <tr>\n",
       "      <th>574</th>\n",
       "      <td>yendi</td>\n",
       "      <td>9.4427</td>\n",
       "      <td>-0.0099</td>\n",
       "      <td>32.09</td>\n",
       "      <td>11</td>\n",
       "      <td>32</td>\n",
       "      <td>1.87</td>\n",
       "      <td>GH</td>\n",
       "      <td>2025-01-08</td>\n",
       "    </tr>\n",
       "    <tr>\n",
       "      <th>575</th>\n",
       "      <td>la tuque</td>\n",
       "      <td>47.4334</td>\n",
       "      <td>-72.7824</td>\n",
       "      <td>-10.86</td>\n",
       "      <td>62</td>\n",
       "      <td>100</td>\n",
       "      <td>5.66</td>\n",
       "      <td>CA</td>\n",
       "      <td>2025-01-08</td>\n",
       "    </tr>\n",
       "    <tr>\n",
       "      <th>576</th>\n",
       "      <td>balabac</td>\n",
       "      <td>7.9868</td>\n",
       "      <td>117.0645</td>\n",
       "      <td>27.54</td>\n",
       "      <td>81</td>\n",
       "      <td>98</td>\n",
       "      <td>6.60</td>\n",
       "      <td>PH</td>\n",
       "      <td>2025-01-08</td>\n",
       "    </tr>\n",
       "    <tr>\n",
       "      <th>577</th>\n",
       "      <td>safford</td>\n",
       "      <td>32.8340</td>\n",
       "      <td>-109.7076</td>\n",
       "      <td>8.51</td>\n",
       "      <td>38</td>\n",
       "      <td>0</td>\n",
       "      <td>8.75</td>\n",
       "      <td>US</td>\n",
       "      <td>2025-01-08</td>\n",
       "    </tr>\n",
       "  </tbody>\n",
       "</table>\n",
       "<p>578 rows × 9 columns</p>\n",
       "</div>"
      ],
      "text/plain": [
       "                  City      Lat       Lng  Maximum_Temperature  Humidity  \\\n",
       "0           brigantine  39.4101  -74.3646                -0.48        52   \n",
       "1             waitangi -43.9535 -176.5597                11.57        98   \n",
       "2               bethel  41.3712  -73.4140                -1.66        41   \n",
       "3    port-aux-francais -49.3500   70.2167                 5.41        89   \n",
       "4                utrik  11.2278  169.8474                27.07        82   \n",
       "..                 ...      ...       ...                  ...       ...   \n",
       "573              marka   1.7159   44.7717                24.44        90   \n",
       "574              yendi   9.4427   -0.0099                32.09        11   \n",
       "575           la tuque  47.4334  -72.7824               -10.86        62   \n",
       "576            balabac   7.9868  117.0645                27.54        81   \n",
       "577            safford  32.8340 -109.7076                 8.51        38   \n",
       "\n",
       "     Cloudiness  Wind_Speed_kmh Country        Date  \n",
       "0            20           10.29      US  2025-01-08  \n",
       "1           100            1.79      NZ  2025-01-08  \n",
       "2             0            8.75      US  2025-01-08  \n",
       "3            13            8.37      TF  2025-01-08  \n",
       "4             8            9.84      MH  2025-01-08  \n",
       "..          ...             ...     ...         ...  \n",
       "573          61            7.53      SO  2025-01-08  \n",
       "574          32            1.87      GH  2025-01-08  \n",
       "575         100            5.66      CA  2025-01-08  \n",
       "576          98            6.60      PH  2025-01-08  \n",
       "577           0            8.75      US  2025-01-08  \n",
       "\n",
       "[578 rows x 9 columns]"
      ]
     },
     "execution_count": 17,
     "metadata": {},
     "output_type": "execute_result"
    }
   ],
   "source": [
    "# Convert datetime to readable date format\n",
    "city_data_df['Date']=(pd.to_datetime(city_data_df['Date'],unit='s')).dt.date\n",
    "city_data_df"
   ]
  },
  {
   "cell_type": "code",
   "execution_count": 18,
   "id": "6e39eec6-dc68-4832-9723-ff1409a5803d",
   "metadata": {},
   "outputs": [
    {
     "data": {
      "text/html": [
       "<pre style=\"white-space:pre;overflow-x:auto;line-height:normal;font-family:Menlo,'DejaVu Sans Mono',consolas,'Courier New',monospace\"><span style=\"font-style: italic\">                                                 City Weather Data                                                 </span>\n",
       "┏━━━━━━━━━━━━━━┳━━━━━━━━━━┳━━━━━━━━━━━┳━━━━━━━━━━━━━━┳━━━━━━━━━━┳━━━━━━━━━━━━┳━━━━━━━━━━━━━┳━━━━━━━━━┳━━━━━━━━━━━━┓\n",
       "┃<span style=\"font-weight: bold\">     City     </span>┃<span style=\"font-weight: bold\">   Lat    </span>┃<span style=\"font-weight: bold\">    Lng    </span>┃<span style=\"font-weight: bold\"> Maximum_Tem… </span>┃<span style=\"font-weight: bold\"> Humidity </span>┃<span style=\"font-weight: bold\"> Cloudiness </span>┃<span style=\"font-weight: bold\"> Wind_Speed… </span>┃<span style=\"font-weight: bold\"> Country </span>┃<span style=\"font-weight: bold\">    Date    </span>┃\n",
       "┡━━━━━━━━━━━━━━╇━━━━━━━━━━╇━━━━━━━━━━━╇━━━━━━━━━━━━━━╇━━━━━━━━━━╇━━━━━━━━━━━━╇━━━━━━━━━━━━━╇━━━━━━━━━╇━━━━━━━━━━━━┩\n",
       "│<span style=\"font-weight: bold\">  brigantine  </span>│<span style=\"font-weight: bold\"> 39.4101  </span>│<span style=\"font-weight: bold\"> -74.3646  </span>│<span style=\"font-weight: bold\">    -0.48     </span>│<span style=\"font-weight: bold\">    52    </span>│<span style=\"font-weight: bold\">     20     </span>│<span style=\"font-weight: bold\">    10.29    </span>│<span style=\"font-weight: bold\">   US    </span>│<span style=\"font-weight: bold\"> 2025-01-08 </span>│\n",
       "│<span style=\"font-weight: bold\">   waitangi   </span>│<span style=\"font-weight: bold\"> -43.9535 </span>│<span style=\"font-weight: bold\"> -176.5597 </span>│<span style=\"font-weight: bold\">    11.57     </span>│<span style=\"font-weight: bold\">    98    </span>│<span style=\"font-weight: bold\">    100     </span>│<span style=\"font-weight: bold\">    1.79     </span>│<span style=\"font-weight: bold\">   NZ    </span>│<span style=\"font-weight: bold\"> 2025-01-08 </span>│\n",
       "│<span style=\"font-weight: bold\">    bethel    </span>│<span style=\"font-weight: bold\"> 41.3712  </span>│<span style=\"font-weight: bold\">  -73.414  </span>│<span style=\"font-weight: bold\">    -1.66     </span>│<span style=\"font-weight: bold\">    41    </span>│<span style=\"font-weight: bold\">     0      </span>│<span style=\"font-weight: bold\">    8.75     </span>│<span style=\"font-weight: bold\">   US    </span>│<span style=\"font-weight: bold\"> 2025-01-08 </span>│\n",
       "│<span style=\"font-weight: bold\"> port-aux-fr… </span>│<span style=\"font-weight: bold\">  -49.35  </span>│<span style=\"font-weight: bold\">  70.2167  </span>│<span style=\"font-weight: bold\">     5.41     </span>│<span style=\"font-weight: bold\">    89    </span>│<span style=\"font-weight: bold\">     13     </span>│<span style=\"font-weight: bold\">    8.37     </span>│<span style=\"font-weight: bold\">   TF    </span>│<span style=\"font-weight: bold\"> 2025-01-08 </span>│\n",
       "│<span style=\"font-weight: bold\">    utrik     </span>│<span style=\"font-weight: bold\"> 11.2278  </span>│<span style=\"font-weight: bold\"> 169.8474  </span>│<span style=\"font-weight: bold\">    27.07     </span>│<span style=\"font-weight: bold\">    82    </span>│<span style=\"font-weight: bold\">     8      </span>│<span style=\"font-weight: bold\">    9.84     </span>│<span style=\"font-weight: bold\">   MH    </span>│<span style=\"font-weight: bold\"> 2025-01-08 </span>│\n",
       "└──────────────┴──────────┴───────────┴──────────────┴──────────┴────────────┴─────────────┴─────────┴────────────┘\n",
       "</pre>\n"
      ],
      "text/plain": [
       "\u001b[3m                                                 City Weather Data                                                 \u001b[0m\n",
       "┏━━━━━━━━━━━━━━┳━━━━━━━━━━┳━━━━━━━━━━━┳━━━━━━━━━━━━━━┳━━━━━━━━━━┳━━━━━━━━━━━━┳━━━━━━━━━━━━━┳━━━━━━━━━┳━━━━━━━━━━━━┓\n",
       "┃\u001b[1m \u001b[0m\u001b[1m    City    \u001b[0m\u001b[1m \u001b[0m┃\u001b[1m \u001b[0m\u001b[1m  Lat   \u001b[0m\u001b[1m \u001b[0m┃\u001b[1m \u001b[0m\u001b[1m   Lng   \u001b[0m\u001b[1m \u001b[0m┃\u001b[1m \u001b[0m\u001b[1mMaximum_Tem…\u001b[0m\u001b[1m \u001b[0m┃\u001b[1m \u001b[0m\u001b[1mHumidity\u001b[0m\u001b[1m \u001b[0m┃\u001b[1m \u001b[0m\u001b[1mCloudiness\u001b[0m\u001b[1m \u001b[0m┃\u001b[1m \u001b[0m\u001b[1mWind_Speed…\u001b[0m\u001b[1m \u001b[0m┃\u001b[1m \u001b[0m\u001b[1mCountry\u001b[0m\u001b[1m \u001b[0m┃\u001b[1m \u001b[0m\u001b[1m   Date   \u001b[0m\u001b[1m \u001b[0m┃\n",
       "┡━━━━━━━━━━━━━━╇━━━━━━━━━━╇━━━━━━━━━━━╇━━━━━━━━━━━━━━╇━━━━━━━━━━╇━━━━━━━━━━━━╇━━━━━━━━━━━━━╇━━━━━━━━━╇━━━━━━━━━━━━┩\n",
       "│\u001b[1m \u001b[0m\u001b[1m brigantine \u001b[0m\u001b[1m \u001b[0m│\u001b[1m \u001b[0m\u001b[1m39.4101 \u001b[0m\u001b[1m \u001b[0m│\u001b[1m \u001b[0m\u001b[1m-74.3646 \u001b[0m\u001b[1m \u001b[0m│\u001b[1m \u001b[0m\u001b[1m   -0.48    \u001b[0m\u001b[1m \u001b[0m│\u001b[1m \u001b[0m\u001b[1m   52   \u001b[0m\u001b[1m \u001b[0m│\u001b[1m \u001b[0m\u001b[1m    20    \u001b[0m\u001b[1m \u001b[0m│\u001b[1m \u001b[0m\u001b[1m   10.29   \u001b[0m\u001b[1m \u001b[0m│\u001b[1m \u001b[0m\u001b[1m  US   \u001b[0m\u001b[1m \u001b[0m│\u001b[1m \u001b[0m\u001b[1m2025-01-08\u001b[0m\u001b[1m \u001b[0m│\n",
       "│\u001b[1m \u001b[0m\u001b[1m  waitangi  \u001b[0m\u001b[1m \u001b[0m│\u001b[1m \u001b[0m\u001b[1m-43.9535\u001b[0m\u001b[1m \u001b[0m│\u001b[1m \u001b[0m\u001b[1m-176.5597\u001b[0m\u001b[1m \u001b[0m│\u001b[1m \u001b[0m\u001b[1m   11.57    \u001b[0m\u001b[1m \u001b[0m│\u001b[1m \u001b[0m\u001b[1m   98   \u001b[0m\u001b[1m \u001b[0m│\u001b[1m \u001b[0m\u001b[1m   100    \u001b[0m\u001b[1m \u001b[0m│\u001b[1m \u001b[0m\u001b[1m   1.79    \u001b[0m\u001b[1m \u001b[0m│\u001b[1m \u001b[0m\u001b[1m  NZ   \u001b[0m\u001b[1m \u001b[0m│\u001b[1m \u001b[0m\u001b[1m2025-01-08\u001b[0m\u001b[1m \u001b[0m│\n",
       "│\u001b[1m \u001b[0m\u001b[1m   bethel   \u001b[0m\u001b[1m \u001b[0m│\u001b[1m \u001b[0m\u001b[1m41.3712 \u001b[0m\u001b[1m \u001b[0m│\u001b[1m \u001b[0m\u001b[1m -73.414 \u001b[0m\u001b[1m \u001b[0m│\u001b[1m \u001b[0m\u001b[1m   -1.66    \u001b[0m\u001b[1m \u001b[0m│\u001b[1m \u001b[0m\u001b[1m   41   \u001b[0m\u001b[1m \u001b[0m│\u001b[1m \u001b[0m\u001b[1m    0     \u001b[0m\u001b[1m \u001b[0m│\u001b[1m \u001b[0m\u001b[1m   8.75    \u001b[0m\u001b[1m \u001b[0m│\u001b[1m \u001b[0m\u001b[1m  US   \u001b[0m\u001b[1m \u001b[0m│\u001b[1m \u001b[0m\u001b[1m2025-01-08\u001b[0m\u001b[1m \u001b[0m│\n",
       "│\u001b[1m \u001b[0m\u001b[1mport-aux-fr…\u001b[0m\u001b[1m \u001b[0m│\u001b[1m \u001b[0m\u001b[1m -49.35 \u001b[0m\u001b[1m \u001b[0m│\u001b[1m \u001b[0m\u001b[1m 70.2167 \u001b[0m\u001b[1m \u001b[0m│\u001b[1m \u001b[0m\u001b[1m    5.41    \u001b[0m\u001b[1m \u001b[0m│\u001b[1m \u001b[0m\u001b[1m   89   \u001b[0m\u001b[1m \u001b[0m│\u001b[1m \u001b[0m\u001b[1m    13    \u001b[0m\u001b[1m \u001b[0m│\u001b[1m \u001b[0m\u001b[1m   8.37    \u001b[0m\u001b[1m \u001b[0m│\u001b[1m \u001b[0m\u001b[1m  TF   \u001b[0m\u001b[1m \u001b[0m│\u001b[1m \u001b[0m\u001b[1m2025-01-08\u001b[0m\u001b[1m \u001b[0m│\n",
       "│\u001b[1m \u001b[0m\u001b[1m   utrik    \u001b[0m\u001b[1m \u001b[0m│\u001b[1m \u001b[0m\u001b[1m11.2278 \u001b[0m\u001b[1m \u001b[0m│\u001b[1m \u001b[0m\u001b[1m169.8474 \u001b[0m\u001b[1m \u001b[0m│\u001b[1m \u001b[0m\u001b[1m   27.07    \u001b[0m\u001b[1m \u001b[0m│\u001b[1m \u001b[0m\u001b[1m   82   \u001b[0m\u001b[1m \u001b[0m│\u001b[1m \u001b[0m\u001b[1m    8     \u001b[0m\u001b[1m \u001b[0m│\u001b[1m \u001b[0m\u001b[1m   9.84    \u001b[0m\u001b[1m \u001b[0m│\u001b[1m \u001b[0m\u001b[1m  MH   \u001b[0m\u001b[1m \u001b[0m│\u001b[1m \u001b[0m\u001b[1m2025-01-08\u001b[0m\u001b[1m \u001b[0m│\n",
       "└──────────────┴──────────┴───────────┴──────────────┴──────────┴────────────┴─────────────┴─────────┴────────────┘\n"
      ]
     },
     "metadata": {},
     "output_type": "display_data"
    }
   ],
   "source": [
    "# Create a Rich Console object for city weather data\n",
    "console = Console()\n",
    "\n",
    "# Function to print the first few rows of the DataFrame with Rich\n",
    "def print_df_with_rich(df):\n",
    "    # Create a Rich Table object\n",
    "    table = Table(title=\"City Weather Data\")\n",
    "\n",
    "    # Add columns dynamically based on the DataFrame\n",
    "    for column in df.columns:\n",
    "        table.add_column(column, justify=\"center\", style=\"bold\")\n",
    "\n",
    "    # Add rows dynamically based on the DataFrame data\n",
    "    for _, row in df.head().iterrows():\n",
    "        table.add_row(*[str(value) for value in row])\n",
    "\n",
    "    # Print the table\n",
    "    console.print(table)\n",
    "\n",
    "# Call the function to print the first few rows of the DataFrame with Rich\n",
    "print_df_with_rich(city_data_df)"
   ]
  },
  {
   "cell_type": "code",
   "execution_count": 19,
   "id": "559c2621-415f-4a2c-bd26-6b74e651c7b9",
   "metadata": {},
   "outputs": [
    {
     "data": {
      "text/html": [
       "<pre style=\"white-space:pre;overflow-x:auto;line-height:normal;font-family:Menlo,'DejaVu Sans Mono',consolas,'Courier New',monospace\"><span style=\"font-style: italic\">                                                 City Weather Data                                                 </span>\n",
       "┏━━━━━━━━━━━━━━┳━━━━━━━━━━┳━━━━━━━━━━━┳━━━━━━━━━━━━━━┳━━━━━━━━━━┳━━━━━━━━━━━━┳━━━━━━━━━━━━━┳━━━━━━━━━┳━━━━━━━━━━━━┓\n",
       "┃<span style=\"font-weight: bold\">     City     </span>┃<span style=\"font-weight: bold\">   Lat    </span>┃<span style=\"font-weight: bold\">    Lng    </span>┃<span style=\"font-weight: bold\"> Maximum_Tem… </span>┃<span style=\"font-weight: bold\"> Humidity </span>┃<span style=\"font-weight: bold\"> Cloudiness </span>┃<span style=\"font-weight: bold\"> Wind_Speed… </span>┃<span style=\"font-weight: bold\"> Country </span>┃<span style=\"font-weight: bold\">    Date    </span>┃\n",
       "┡━━━━━━━━━━━━━━╇━━━━━━━━━━╇━━━━━━━━━━━╇━━━━━━━━━━━━━━╇━━━━━━━━━━╇━━━━━━━━━━━━╇━━━━━━━━━━━━━╇━━━━━━━━━╇━━━━━━━━━━━━┩\n",
       "│<span style=\"font-weight: bold\">  brigantine  </span>│<span style=\"font-weight: bold\"> 39.4101  </span>│<span style=\"font-weight: bold\"> -74.3646  </span>│<span style=\"font-weight: bold\">    -0.48     </span>│<span style=\"font-weight: bold\">    52    </span>│<span style=\"font-weight: bold\">     20     </span>│<span style=\"font-weight: bold\">    10.29    </span>│<span style=\"font-weight: bold\">   US    </span>│<span style=\"font-weight: bold\"> 2025-01-08 </span>│\n",
       "│<span style=\"font-weight: bold\">   waitangi   </span>│<span style=\"font-weight: bold\"> -43.9535 </span>│<span style=\"font-weight: bold\"> -176.5597 </span>│<span style=\"font-weight: bold\">    11.57     </span>│<span style=\"font-weight: bold\">    98    </span>│<span style=\"font-weight: bold\">    100     </span>│<span style=\"font-weight: bold\">    1.79     </span>│<span style=\"font-weight: bold\">   NZ    </span>│<span style=\"font-weight: bold\"> 2025-01-08 </span>│\n",
       "│<span style=\"font-weight: bold\">    bethel    </span>│<span style=\"font-weight: bold\"> 41.3712  </span>│<span style=\"font-weight: bold\">  -73.414  </span>│<span style=\"font-weight: bold\">    -1.66     </span>│<span style=\"font-weight: bold\">    41    </span>│<span style=\"font-weight: bold\">     0      </span>│<span style=\"font-weight: bold\">    8.75     </span>│<span style=\"font-weight: bold\">   US    </span>│<span style=\"font-weight: bold\"> 2025-01-08 </span>│\n",
       "│<span style=\"font-weight: bold\"> port-aux-fr… </span>│<span style=\"font-weight: bold\">  -49.35  </span>│<span style=\"font-weight: bold\">  70.2167  </span>│<span style=\"font-weight: bold\">     5.41     </span>│<span style=\"font-weight: bold\">    89    </span>│<span style=\"font-weight: bold\">     13     </span>│<span style=\"font-weight: bold\">    8.37     </span>│<span style=\"font-weight: bold\">   TF    </span>│<span style=\"font-weight: bold\"> 2025-01-08 </span>│\n",
       "│<span style=\"font-weight: bold\">    utrik     </span>│<span style=\"font-weight: bold\"> 11.2278  </span>│<span style=\"font-weight: bold\"> 169.8474  </span>│<span style=\"font-weight: bold\">    27.07     </span>│<span style=\"font-weight: bold\">    82    </span>│<span style=\"font-weight: bold\">     8      </span>│<span style=\"font-weight: bold\">    9.84     </span>│<span style=\"font-weight: bold\">   MH    </span>│<span style=\"font-weight: bold\"> 2025-01-08 </span>│\n",
       "│<span style=\"font-weight: bold\">   hermanus   </span>│<span style=\"font-weight: bold\"> -34.4187 </span>│<span style=\"font-weight: bold\">  19.2345  </span>│<span style=\"font-weight: bold\">    20.45     </span>│<span style=\"font-weight: bold\">    82    </span>│<span style=\"font-weight: bold\">     7      </span>│<span style=\"font-weight: bold\">    1.95     </span>│<span style=\"font-weight: bold\">   ZA    </span>│<span style=\"font-weight: bold\"> 2025-01-08 </span>│\n",
       "│<span style=\"font-weight: bold\">  tanguieta   </span>│<span style=\"font-weight: bold\"> 10.6212  </span>│<span style=\"font-weight: bold\">  1.2665   </span>│<span style=\"font-weight: bold\">    29.39     </span>│<span style=\"font-weight: bold\">    14    </span>│<span style=\"font-weight: bold\">     36     </span>│<span style=\"font-weight: bold\">    2.73     </span>│<span style=\"font-weight: bold\">   BJ    </span>│<span style=\"font-weight: bold\"> 2025-01-08 </span>│\n",
       "│<span style=\"font-weight: bold\">  blackmans   </span>│<span style=\"font-weight: bold\"> -43.0167 </span>│<span style=\"font-weight: bold\"> 147.3167  </span>│<span style=\"font-weight: bold\">    15.07     </span>│<span style=\"font-weight: bold\">    74    </span>│<span style=\"font-weight: bold\">     93     </span>│<span style=\"font-weight: bold\">    2.07     </span>│<span style=\"font-weight: bold\">   AU    </span>│<span style=\"font-weight: bold\"> 2025-01-08 </span>│\n",
       "│<span style=\"font-weight: bold\">     bay      </span>│<span style=\"font-weight: bold\">          </span>│<span style=\"font-weight: bold\">           </span>│<span style=\"font-weight: bold\">              </span>│<span style=\"font-weight: bold\">          </span>│<span style=\"font-weight: bold\">            </span>│<span style=\"font-weight: bold\">             </span>│<span style=\"font-weight: bold\">         </span>│<span style=\"font-weight: bold\">            </span>│\n",
       "│<span style=\"font-weight: bold\"> puerto ayora </span>│<span style=\"font-weight: bold\"> -0.7393  </span>│<span style=\"font-weight: bold\"> -90.3518  </span>│<span style=\"font-weight: bold\">    25.31     </span>│<span style=\"font-weight: bold\">    94    </span>│<span style=\"font-weight: bold\">     91     </span>│<span style=\"font-weight: bold\">    2.68     </span>│<span style=\"font-weight: bold\">   EC    </span>│<span style=\"font-weight: bold\"> 2025-01-08 </span>│\n",
       "│<span style=\"font-weight: bold\"> port alfred  </span>│<span style=\"font-weight: bold\"> -33.5906 </span>│<span style=\"font-weight: bold\">  26.891   </span>│<span style=\"font-weight: bold\">     20.1     </span>│<span style=\"font-weight: bold\">    89    </span>│<span style=\"font-weight: bold\">     5      </span>│<span style=\"font-weight: bold\">    0.45     </span>│<span style=\"font-weight: bold\">   ZA    </span>│<span style=\"font-weight: bold\"> 2025-01-08 </span>│\n",
       "└──────────────┴──────────┴───────────┴──────────────┴──────────┴────────────┴─────────────┴─────────┴────────────┘\n",
       "</pre>\n"
      ],
      "text/plain": [
       "\u001b[3m                                                 City Weather Data                                                 \u001b[0m\n",
       "┏━━━━━━━━━━━━━━┳━━━━━━━━━━┳━━━━━━━━━━━┳━━━━━━━━━━━━━━┳━━━━━━━━━━┳━━━━━━━━━━━━┳━━━━━━━━━━━━━┳━━━━━━━━━┳━━━━━━━━━━━━┓\n",
       "┃\u001b[1m \u001b[0m\u001b[1m    City    \u001b[0m\u001b[1m \u001b[0m┃\u001b[1m \u001b[0m\u001b[1m  Lat   \u001b[0m\u001b[1m \u001b[0m┃\u001b[1m \u001b[0m\u001b[1m   Lng   \u001b[0m\u001b[1m \u001b[0m┃\u001b[1m \u001b[0m\u001b[1mMaximum_Tem…\u001b[0m\u001b[1m \u001b[0m┃\u001b[1m \u001b[0m\u001b[1mHumidity\u001b[0m\u001b[1m \u001b[0m┃\u001b[1m \u001b[0m\u001b[1mCloudiness\u001b[0m\u001b[1m \u001b[0m┃\u001b[1m \u001b[0m\u001b[1mWind_Speed…\u001b[0m\u001b[1m \u001b[0m┃\u001b[1m \u001b[0m\u001b[1mCountry\u001b[0m\u001b[1m \u001b[0m┃\u001b[1m \u001b[0m\u001b[1m   Date   \u001b[0m\u001b[1m \u001b[0m┃\n",
       "┡━━━━━━━━━━━━━━╇━━━━━━━━━━╇━━━━━━━━━━━╇━━━━━━━━━━━━━━╇━━━━━━━━━━╇━━━━━━━━━━━━╇━━━━━━━━━━━━━╇━━━━━━━━━╇━━━━━━━━━━━━┩\n",
       "│\u001b[1m \u001b[0m\u001b[1m brigantine \u001b[0m\u001b[1m \u001b[0m│\u001b[1m \u001b[0m\u001b[1m39.4101 \u001b[0m\u001b[1m \u001b[0m│\u001b[1m \u001b[0m\u001b[1m-74.3646 \u001b[0m\u001b[1m \u001b[0m│\u001b[1m \u001b[0m\u001b[1m   -0.48    \u001b[0m\u001b[1m \u001b[0m│\u001b[1m \u001b[0m\u001b[1m   52   \u001b[0m\u001b[1m \u001b[0m│\u001b[1m \u001b[0m\u001b[1m    20    \u001b[0m\u001b[1m \u001b[0m│\u001b[1m \u001b[0m\u001b[1m   10.29   \u001b[0m\u001b[1m \u001b[0m│\u001b[1m \u001b[0m\u001b[1m  US   \u001b[0m\u001b[1m \u001b[0m│\u001b[1m \u001b[0m\u001b[1m2025-01-08\u001b[0m\u001b[1m \u001b[0m│\n",
       "│\u001b[1m \u001b[0m\u001b[1m  waitangi  \u001b[0m\u001b[1m \u001b[0m│\u001b[1m \u001b[0m\u001b[1m-43.9535\u001b[0m\u001b[1m \u001b[0m│\u001b[1m \u001b[0m\u001b[1m-176.5597\u001b[0m\u001b[1m \u001b[0m│\u001b[1m \u001b[0m\u001b[1m   11.57    \u001b[0m\u001b[1m \u001b[0m│\u001b[1m \u001b[0m\u001b[1m   98   \u001b[0m\u001b[1m \u001b[0m│\u001b[1m \u001b[0m\u001b[1m   100    \u001b[0m\u001b[1m \u001b[0m│\u001b[1m \u001b[0m\u001b[1m   1.79    \u001b[0m\u001b[1m \u001b[0m│\u001b[1m \u001b[0m\u001b[1m  NZ   \u001b[0m\u001b[1m \u001b[0m│\u001b[1m \u001b[0m\u001b[1m2025-01-08\u001b[0m\u001b[1m \u001b[0m│\n",
       "│\u001b[1m \u001b[0m\u001b[1m   bethel   \u001b[0m\u001b[1m \u001b[0m│\u001b[1m \u001b[0m\u001b[1m41.3712 \u001b[0m\u001b[1m \u001b[0m│\u001b[1m \u001b[0m\u001b[1m -73.414 \u001b[0m\u001b[1m \u001b[0m│\u001b[1m \u001b[0m\u001b[1m   -1.66    \u001b[0m\u001b[1m \u001b[0m│\u001b[1m \u001b[0m\u001b[1m   41   \u001b[0m\u001b[1m \u001b[0m│\u001b[1m \u001b[0m\u001b[1m    0     \u001b[0m\u001b[1m \u001b[0m│\u001b[1m \u001b[0m\u001b[1m   8.75    \u001b[0m\u001b[1m \u001b[0m│\u001b[1m \u001b[0m\u001b[1m  US   \u001b[0m\u001b[1m \u001b[0m│\u001b[1m \u001b[0m\u001b[1m2025-01-08\u001b[0m\u001b[1m \u001b[0m│\n",
       "│\u001b[1m \u001b[0m\u001b[1mport-aux-fr…\u001b[0m\u001b[1m \u001b[0m│\u001b[1m \u001b[0m\u001b[1m -49.35 \u001b[0m\u001b[1m \u001b[0m│\u001b[1m \u001b[0m\u001b[1m 70.2167 \u001b[0m\u001b[1m \u001b[0m│\u001b[1m \u001b[0m\u001b[1m    5.41    \u001b[0m\u001b[1m \u001b[0m│\u001b[1m \u001b[0m\u001b[1m   89   \u001b[0m\u001b[1m \u001b[0m│\u001b[1m \u001b[0m\u001b[1m    13    \u001b[0m\u001b[1m \u001b[0m│\u001b[1m \u001b[0m\u001b[1m   8.37    \u001b[0m\u001b[1m \u001b[0m│\u001b[1m \u001b[0m\u001b[1m  TF   \u001b[0m\u001b[1m \u001b[0m│\u001b[1m \u001b[0m\u001b[1m2025-01-08\u001b[0m\u001b[1m \u001b[0m│\n",
       "│\u001b[1m \u001b[0m\u001b[1m   utrik    \u001b[0m\u001b[1m \u001b[0m│\u001b[1m \u001b[0m\u001b[1m11.2278 \u001b[0m\u001b[1m \u001b[0m│\u001b[1m \u001b[0m\u001b[1m169.8474 \u001b[0m\u001b[1m \u001b[0m│\u001b[1m \u001b[0m\u001b[1m   27.07    \u001b[0m\u001b[1m \u001b[0m│\u001b[1m \u001b[0m\u001b[1m   82   \u001b[0m\u001b[1m \u001b[0m│\u001b[1m \u001b[0m\u001b[1m    8     \u001b[0m\u001b[1m \u001b[0m│\u001b[1m \u001b[0m\u001b[1m   9.84    \u001b[0m\u001b[1m \u001b[0m│\u001b[1m \u001b[0m\u001b[1m  MH   \u001b[0m\u001b[1m \u001b[0m│\u001b[1m \u001b[0m\u001b[1m2025-01-08\u001b[0m\u001b[1m \u001b[0m│\n",
       "│\u001b[1m \u001b[0m\u001b[1m  hermanus  \u001b[0m\u001b[1m \u001b[0m│\u001b[1m \u001b[0m\u001b[1m-34.4187\u001b[0m\u001b[1m \u001b[0m│\u001b[1m \u001b[0m\u001b[1m 19.2345 \u001b[0m\u001b[1m \u001b[0m│\u001b[1m \u001b[0m\u001b[1m   20.45    \u001b[0m\u001b[1m \u001b[0m│\u001b[1m \u001b[0m\u001b[1m   82   \u001b[0m\u001b[1m \u001b[0m│\u001b[1m \u001b[0m\u001b[1m    7     \u001b[0m\u001b[1m \u001b[0m│\u001b[1m \u001b[0m\u001b[1m   1.95    \u001b[0m\u001b[1m \u001b[0m│\u001b[1m \u001b[0m\u001b[1m  ZA   \u001b[0m\u001b[1m \u001b[0m│\u001b[1m \u001b[0m\u001b[1m2025-01-08\u001b[0m\u001b[1m \u001b[0m│\n",
       "│\u001b[1m \u001b[0m\u001b[1m tanguieta  \u001b[0m\u001b[1m \u001b[0m│\u001b[1m \u001b[0m\u001b[1m10.6212 \u001b[0m\u001b[1m \u001b[0m│\u001b[1m \u001b[0m\u001b[1m 1.2665  \u001b[0m\u001b[1m \u001b[0m│\u001b[1m \u001b[0m\u001b[1m   29.39    \u001b[0m\u001b[1m \u001b[0m│\u001b[1m \u001b[0m\u001b[1m   14   \u001b[0m\u001b[1m \u001b[0m│\u001b[1m \u001b[0m\u001b[1m    36    \u001b[0m\u001b[1m \u001b[0m│\u001b[1m \u001b[0m\u001b[1m   2.73    \u001b[0m\u001b[1m \u001b[0m│\u001b[1m \u001b[0m\u001b[1m  BJ   \u001b[0m\u001b[1m \u001b[0m│\u001b[1m \u001b[0m\u001b[1m2025-01-08\u001b[0m\u001b[1m \u001b[0m│\n",
       "│\u001b[1m \u001b[0m\u001b[1m blackmans  \u001b[0m\u001b[1m \u001b[0m│\u001b[1m \u001b[0m\u001b[1m-43.0167\u001b[0m\u001b[1m \u001b[0m│\u001b[1m \u001b[0m\u001b[1m147.3167 \u001b[0m\u001b[1m \u001b[0m│\u001b[1m \u001b[0m\u001b[1m   15.07    \u001b[0m\u001b[1m \u001b[0m│\u001b[1m \u001b[0m\u001b[1m   74   \u001b[0m\u001b[1m \u001b[0m│\u001b[1m \u001b[0m\u001b[1m    93    \u001b[0m\u001b[1m \u001b[0m│\u001b[1m \u001b[0m\u001b[1m   2.07    \u001b[0m\u001b[1m \u001b[0m│\u001b[1m \u001b[0m\u001b[1m  AU   \u001b[0m\u001b[1m \u001b[0m│\u001b[1m \u001b[0m\u001b[1m2025-01-08\u001b[0m\u001b[1m \u001b[0m│\n",
       "│\u001b[1m \u001b[0m\u001b[1m    bay     \u001b[0m\u001b[1m \u001b[0m│\u001b[1m          \u001b[0m│\u001b[1m           \u001b[0m│\u001b[1m              \u001b[0m│\u001b[1m          \u001b[0m│\u001b[1m            \u001b[0m│\u001b[1m             \u001b[0m│\u001b[1m         \u001b[0m│\u001b[1m            \u001b[0m│\n",
       "│\u001b[1m \u001b[0m\u001b[1mpuerto ayora\u001b[0m\u001b[1m \u001b[0m│\u001b[1m \u001b[0m\u001b[1m-0.7393 \u001b[0m\u001b[1m \u001b[0m│\u001b[1m \u001b[0m\u001b[1m-90.3518 \u001b[0m\u001b[1m \u001b[0m│\u001b[1m \u001b[0m\u001b[1m   25.31    \u001b[0m\u001b[1m \u001b[0m│\u001b[1m \u001b[0m\u001b[1m   94   \u001b[0m\u001b[1m \u001b[0m│\u001b[1m \u001b[0m\u001b[1m    91    \u001b[0m\u001b[1m \u001b[0m│\u001b[1m \u001b[0m\u001b[1m   2.68    \u001b[0m\u001b[1m \u001b[0m│\u001b[1m \u001b[0m\u001b[1m  EC   \u001b[0m\u001b[1m \u001b[0m│\u001b[1m \u001b[0m\u001b[1m2025-01-08\u001b[0m\u001b[1m \u001b[0m│\n",
       "│\u001b[1m \u001b[0m\u001b[1mport alfred \u001b[0m\u001b[1m \u001b[0m│\u001b[1m \u001b[0m\u001b[1m-33.5906\u001b[0m\u001b[1m \u001b[0m│\u001b[1m \u001b[0m\u001b[1m 26.891  \u001b[0m\u001b[1m \u001b[0m│\u001b[1m \u001b[0m\u001b[1m    20.1    \u001b[0m\u001b[1m \u001b[0m│\u001b[1m \u001b[0m\u001b[1m   89   \u001b[0m\u001b[1m \u001b[0m│\u001b[1m \u001b[0m\u001b[1m    5     \u001b[0m\u001b[1m \u001b[0m│\u001b[1m \u001b[0m\u001b[1m   0.45    \u001b[0m\u001b[1m \u001b[0m│\u001b[1m \u001b[0m\u001b[1m  ZA   \u001b[0m\u001b[1m \u001b[0m│\u001b[1m \u001b[0m\u001b[1m2025-01-08\u001b[0m\u001b[1m \u001b[0m│\n",
       "└──────────────┴──────────┴───────────┴──────────────┴──────────┴────────────┴─────────────┴─────────┴────────────┘\n"
      ]
     },
     "metadata": {},
     "output_type": "display_data"
    }
   ],
   "source": [
    "# Create a Rich Console object\n",
    "console = Console()\n",
    "\n",
    "# Function to print the DataFrame with Rich\n",
    "def print_df_with_rich(df):\n",
    "    # Create a Rich Table object\n",
    "    table = Table(title=\"City Weather Data\")\n",
    "\n",
    "    # Add columns dynamically based on the DataFrame\n",
    "    for column in df.columns:\n",
    "        table.add_column(column, justify=\"center\", style=\"bold\")\n",
    "\n",
    "    # Add rows dynamically based on the DataFrame data\n",
    "    for _, row in df.iterrows():\n",
    "        table.add_row(*[str(value) for value in row])\n",
    "\n",
    "    # Print the table using Rich\n",
    "    console.print(table)\n",
    "\n",
    "# Call the function to print the DataFrame with Rich\n",
    "print_df_with_rich(city_data_df.head(10))"
   ]
  },
  {
   "cell_type": "code",
   "execution_count": 20,
   "id": "812d269f-c2d1-4c5f-95b4-9bd76f0b2cef",
   "metadata": {},
   "outputs": [
    {
     "name": "stdout",
     "output_type": "stream",
     "text": [
      "<class 'pandas.core.frame.DataFrame'>\n",
      "RangeIndex: 578 entries, 0 to 577\n",
      "Data columns (total 9 columns):\n",
      " #   Column               Non-Null Count  Dtype  \n",
      "---  ------               --------------  -----  \n",
      " 0   City                 578 non-null    object \n",
      " 1   Lat                  578 non-null    float64\n",
      " 2   Lng                  578 non-null    float64\n",
      " 3   Maximum_Temperature  578 non-null    float64\n",
      " 4   Humidity             578 non-null    int64  \n",
      " 5   Cloudiness           578 non-null    int64  \n",
      " 6   Wind_Speed_kmh       578 non-null    float64\n",
      " 7   Country              578 non-null    object \n",
      " 8   Date                 578 non-null    object \n",
      "dtypes: float64(4), int64(2), object(3)\n",
      "memory usage: 40.8+ KB\n"
     ]
    }
   ],
   "source": [
    "city_data_df.info()\n"
   ]
  },
  {
   "cell_type": "code",
   "execution_count": null,
   "id": "6f6a4875-adfc-4b15-8940-67b433fde593",
   "metadata": {},
   "outputs": [],
   "source": []
  },
  {
   "cell_type": "code",
   "execution_count": 21,
   "id": "b37a3b0d-2052-4937-b6fe-2d32a2ccfe46",
   "metadata": {},
   "outputs": [],
   "source": [
    "city_data_df = city_data_df.rename(columns={\n",
    "    'Max Temp': 'Maximum_Temperature',\n",
    "    'Wind_Speed': 'Wind_Speed_kmh'\n",
    "})\n"
   ]
  },
  {
   "cell_type": "code",
   "execution_count": 22,
   "id": "14532089-21fd-40f6-adc6-594b192a3e93",
   "metadata": {},
   "outputs": [
    {
     "data": {
      "text/html": [
       "<pre style=\"white-space:pre;overflow-x:auto;line-height:normal;font-family:Menlo,'DejaVu Sans Mono',consolas,'Courier New',monospace\"><span style=\"font-style: italic\">                                            City Weather Data (Ordered)                                            </span>\n",
       "┏━━━━━━━━━━━━┳━━━━━━━━━┳━━━━━━━━━━━━━━┳━━━━━━━━━━━━┳━━━━━━━━━━┳━━━━━━━━━━━━━━┳━━━━━━━━━━━━━┳━━━━━━━━━━┳━━━━━━━━━━━┓\n",
       "┃<span style=\"color: #008080; text-decoration-color: #008080; font-weight: bold\">    Date    </span>┃<span style=\"color: #008080; text-decoration-color: #008080; font-weight: bold\"> Country </span>┃<span style=\"color: #008080; text-decoration-color: #008080; font-weight: bold\">     City     </span>┃<span style=\"color: #008080; text-decoration-color: #008080; font-weight: bold\"> Cloudiness </span>┃<span style=\"color: #008080; text-decoration-color: #008080; font-weight: bold\"> Humidity </span>┃<span style=\"color: #008080; text-decoration-color: #008080; font-weight: bold\"> Maximum_Tem… </span>┃<span style=\"color: #008080; text-decoration-color: #008080; font-weight: bold\"> Wind_Speed… </span>┃<span style=\"color: #008080; text-decoration-color: #008080; font-weight: bold\">   Lat    </span>┃<span style=\"color: #008080; text-decoration-color: #008080; font-weight: bold\">    Lng    </span>┃\n",
       "┡━━━━━━━━━━━━╇━━━━━━━━━╇━━━━━━━━━━━━━━╇━━━━━━━━━━━━╇━━━━━━━━━━╇━━━━━━━━━━━━━━╇━━━━━━━━━━━━━╇━━━━━━━━━━╇━━━━━━━━━━━┩\n",
       "│<span style=\"color: #bf7fbf; text-decoration-color: #bf7fbf; font-weight: bold\"> 2025-01-08 </span>│<span style=\"color: #bf7fbf; text-decoration-color: #bf7fbf; font-weight: bold\">   US    </span>│<span style=\"color: #bf7fbf; text-decoration-color: #bf7fbf; font-weight: bold\">  brigantine  </span>│<span style=\"color: #bf7fbf; text-decoration-color: #bf7fbf; font-weight: bold\">     20     </span>│<span style=\"color: #bf7fbf; text-decoration-color: #bf7fbf; font-weight: bold\">    52    </span>│<span style=\"color: #bf7fbf; text-decoration-color: #bf7fbf; font-weight: bold\">    -0.48     </span>│<span style=\"color: #bf7fbf; text-decoration-color: #bf7fbf; font-weight: bold\">    10.29    </span>│<span style=\"color: #bf7fbf; text-decoration-color: #bf7fbf; font-weight: bold\"> 39.4101  </span>│<span style=\"color: #bf7fbf; text-decoration-color: #bf7fbf; font-weight: bold\"> -74.3646  </span>│\n",
       "├────────────┼─────────┼──────────────┼────────────┼──────────┼──────────────┼─────────────┼──────────┼───────────┤\n",
       "│<span style=\"color: #800080; text-decoration-color: #800080; font-weight: bold\"> 2025-01-08 </span>│<span style=\"color: #800080; text-decoration-color: #800080; font-weight: bold\">   NZ    </span>│<span style=\"color: #800080; text-decoration-color: #800080; font-weight: bold\">   waitangi   </span>│<span style=\"color: #800080; text-decoration-color: #800080; font-weight: bold\">    100     </span>│<span style=\"color: #800080; text-decoration-color: #800080; font-weight: bold\">    98    </span>│<span style=\"color: #800080; text-decoration-color: #800080; font-weight: bold\">    11.57     </span>│<span style=\"color: #800080; text-decoration-color: #800080; font-weight: bold\">    1.79     </span>│<span style=\"color: #800080; text-decoration-color: #800080; font-weight: bold\"> -43.9535 </span>│<span style=\"color: #800080; text-decoration-color: #800080; font-weight: bold\"> -176.5597 </span>│\n",
       "├────────────┼─────────┼──────────────┼────────────┼──────────┼──────────────┼─────────────┼──────────┼───────────┤\n",
       "│<span style=\"color: #bf7fbf; text-decoration-color: #bf7fbf; font-weight: bold\"> 2025-01-08 </span>│<span style=\"color: #bf7fbf; text-decoration-color: #bf7fbf; font-weight: bold\">   US    </span>│<span style=\"color: #bf7fbf; text-decoration-color: #bf7fbf; font-weight: bold\">    bethel    </span>│<span style=\"color: #bf7fbf; text-decoration-color: #bf7fbf; font-weight: bold\">     0      </span>│<span style=\"color: #bf7fbf; text-decoration-color: #bf7fbf; font-weight: bold\">    41    </span>│<span style=\"color: #bf7fbf; text-decoration-color: #bf7fbf; font-weight: bold\">    -1.66     </span>│<span style=\"color: #bf7fbf; text-decoration-color: #bf7fbf; font-weight: bold\">    8.75     </span>│<span style=\"color: #bf7fbf; text-decoration-color: #bf7fbf; font-weight: bold\"> 41.3712  </span>│<span style=\"color: #bf7fbf; text-decoration-color: #bf7fbf; font-weight: bold\">  -73.414  </span>│\n",
       "├────────────┼─────────┼──────────────┼────────────┼──────────┼──────────────┼─────────────┼──────────┼───────────┤\n",
       "│<span style=\"color: #800080; text-decoration-color: #800080; font-weight: bold\"> 2025-01-08 </span>│<span style=\"color: #800080; text-decoration-color: #800080; font-weight: bold\">   TF    </span>│<span style=\"color: #800080; text-decoration-color: #800080; font-weight: bold\"> port-aux-fr… </span>│<span style=\"color: #800080; text-decoration-color: #800080; font-weight: bold\">     13     </span>│<span style=\"color: #800080; text-decoration-color: #800080; font-weight: bold\">    89    </span>│<span style=\"color: #800080; text-decoration-color: #800080; font-weight: bold\">     5.41     </span>│<span style=\"color: #800080; text-decoration-color: #800080; font-weight: bold\">    8.37     </span>│<span style=\"color: #800080; text-decoration-color: #800080; font-weight: bold\">  -49.35  </span>│<span style=\"color: #800080; text-decoration-color: #800080; font-weight: bold\">  70.2167  </span>│\n",
       "├────────────┼─────────┼──────────────┼────────────┼──────────┼──────────────┼─────────────┼──────────┼───────────┤\n",
       "│<span style=\"color: #bf7fbf; text-decoration-color: #bf7fbf; font-weight: bold\"> 2025-01-08 </span>│<span style=\"color: #bf7fbf; text-decoration-color: #bf7fbf; font-weight: bold\">   MH    </span>│<span style=\"color: #bf7fbf; text-decoration-color: #bf7fbf; font-weight: bold\">    utrik     </span>│<span style=\"color: #bf7fbf; text-decoration-color: #bf7fbf; font-weight: bold\">     8      </span>│<span style=\"color: #bf7fbf; text-decoration-color: #bf7fbf; font-weight: bold\">    82    </span>│<span style=\"color: #bf7fbf; text-decoration-color: #bf7fbf; font-weight: bold\">    27.07     </span>│<span style=\"color: #bf7fbf; text-decoration-color: #bf7fbf; font-weight: bold\">    9.84     </span>│<span style=\"color: #bf7fbf; text-decoration-color: #bf7fbf; font-weight: bold\"> 11.2278  </span>│<span style=\"color: #bf7fbf; text-decoration-color: #bf7fbf; font-weight: bold\"> 169.8474  </span>│\n",
       "├────────────┼─────────┼──────────────┼────────────┼──────────┼──────────────┼─────────────┼──────────┼───────────┤\n",
       "│<span style=\"color: #800080; text-decoration-color: #800080; font-weight: bold\"> 2025-01-08 </span>│<span style=\"color: #800080; text-decoration-color: #800080; font-weight: bold\">   ZA    </span>│<span style=\"color: #800080; text-decoration-color: #800080; font-weight: bold\">   hermanus   </span>│<span style=\"color: #800080; text-decoration-color: #800080; font-weight: bold\">     7      </span>│<span style=\"color: #800080; text-decoration-color: #800080; font-weight: bold\">    82    </span>│<span style=\"color: #800080; text-decoration-color: #800080; font-weight: bold\">    20.45     </span>│<span style=\"color: #800080; text-decoration-color: #800080; font-weight: bold\">    1.95     </span>│<span style=\"color: #800080; text-decoration-color: #800080; font-weight: bold\"> -34.4187 </span>│<span style=\"color: #800080; text-decoration-color: #800080; font-weight: bold\">  19.2345  </span>│\n",
       "├────────────┼─────────┼──────────────┼────────────┼──────────┼──────────────┼─────────────┼──────────┼───────────┤\n",
       "│<span style=\"color: #bf7fbf; text-decoration-color: #bf7fbf; font-weight: bold\"> 2025-01-08 </span>│<span style=\"color: #bf7fbf; text-decoration-color: #bf7fbf; font-weight: bold\">   BJ    </span>│<span style=\"color: #bf7fbf; text-decoration-color: #bf7fbf; font-weight: bold\">  tanguieta   </span>│<span style=\"color: #bf7fbf; text-decoration-color: #bf7fbf; font-weight: bold\">     36     </span>│<span style=\"color: #bf7fbf; text-decoration-color: #bf7fbf; font-weight: bold\">    14    </span>│<span style=\"color: #bf7fbf; text-decoration-color: #bf7fbf; font-weight: bold\">    29.39     </span>│<span style=\"color: #bf7fbf; text-decoration-color: #bf7fbf; font-weight: bold\">    2.73     </span>│<span style=\"color: #bf7fbf; text-decoration-color: #bf7fbf; font-weight: bold\"> 10.6212  </span>│<span style=\"color: #bf7fbf; text-decoration-color: #bf7fbf; font-weight: bold\">  1.2665   </span>│\n",
       "├────────────┼─────────┼──────────────┼────────────┼──────────┼──────────────┼─────────────┼──────────┼───────────┤\n",
       "│<span style=\"color: #800080; text-decoration-color: #800080; font-weight: bold\"> 2025-01-08 </span>│<span style=\"color: #800080; text-decoration-color: #800080; font-weight: bold\">   AU    </span>│<span style=\"color: #800080; text-decoration-color: #800080; font-weight: bold\">  blackmans   </span>│<span style=\"color: #800080; text-decoration-color: #800080; font-weight: bold\">     93     </span>│<span style=\"color: #800080; text-decoration-color: #800080; font-weight: bold\">    74    </span>│<span style=\"color: #800080; text-decoration-color: #800080; font-weight: bold\">    15.07     </span>│<span style=\"color: #800080; text-decoration-color: #800080; font-weight: bold\">    2.07     </span>│<span style=\"color: #800080; text-decoration-color: #800080; font-weight: bold\"> -43.0167 </span>│<span style=\"color: #800080; text-decoration-color: #800080; font-weight: bold\"> 147.3167  </span>│\n",
       "│<span style=\"color: #800080; text-decoration-color: #800080; font-weight: bold\">            </span>│<span style=\"color: #800080; text-decoration-color: #800080; font-weight: bold\">         </span>│<span style=\"color: #800080; text-decoration-color: #800080; font-weight: bold\">     bay      </span>│<span style=\"color: #800080; text-decoration-color: #800080; font-weight: bold\">            </span>│<span style=\"color: #800080; text-decoration-color: #800080; font-weight: bold\">          </span>│<span style=\"color: #800080; text-decoration-color: #800080; font-weight: bold\">              </span>│<span style=\"color: #800080; text-decoration-color: #800080; font-weight: bold\">             </span>│<span style=\"color: #800080; text-decoration-color: #800080; font-weight: bold\">          </span>│<span style=\"color: #800080; text-decoration-color: #800080; font-weight: bold\">           </span>│\n",
       "├────────────┼─────────┼──────────────┼────────────┼──────────┼──────────────┼─────────────┼──────────┼───────────┤\n",
       "│<span style=\"color: #bf7fbf; text-decoration-color: #bf7fbf; font-weight: bold\"> 2025-01-08 </span>│<span style=\"color: #bf7fbf; text-decoration-color: #bf7fbf; font-weight: bold\">   EC    </span>│<span style=\"color: #bf7fbf; text-decoration-color: #bf7fbf; font-weight: bold\"> puerto ayora </span>│<span style=\"color: #bf7fbf; text-decoration-color: #bf7fbf; font-weight: bold\">     91     </span>│<span style=\"color: #bf7fbf; text-decoration-color: #bf7fbf; font-weight: bold\">    94    </span>│<span style=\"color: #bf7fbf; text-decoration-color: #bf7fbf; font-weight: bold\">    25.31     </span>│<span style=\"color: #bf7fbf; text-decoration-color: #bf7fbf; font-weight: bold\">    2.68     </span>│<span style=\"color: #bf7fbf; text-decoration-color: #bf7fbf; font-weight: bold\"> -0.7393  </span>│<span style=\"color: #bf7fbf; text-decoration-color: #bf7fbf; font-weight: bold\"> -90.3518  </span>│\n",
       "├────────────┼─────────┼──────────────┼────────────┼──────────┼──────────────┼─────────────┼──────────┼───────────┤\n",
       "│<span style=\"color: #800080; text-decoration-color: #800080; font-weight: bold\"> 2025-01-08 </span>│<span style=\"color: #800080; text-decoration-color: #800080; font-weight: bold\">   ZA    </span>│<span style=\"color: #800080; text-decoration-color: #800080; font-weight: bold\"> port alfred  </span>│<span style=\"color: #800080; text-decoration-color: #800080; font-weight: bold\">     5      </span>│<span style=\"color: #800080; text-decoration-color: #800080; font-weight: bold\">    89    </span>│<span style=\"color: #800080; text-decoration-color: #800080; font-weight: bold\">     20.1     </span>│<span style=\"color: #800080; text-decoration-color: #800080; font-weight: bold\">    0.45     </span>│<span style=\"color: #800080; text-decoration-color: #800080; font-weight: bold\"> -33.5906 </span>│<span style=\"color: #800080; text-decoration-color: #800080; font-weight: bold\">  26.891   </span>│\n",
       "└────────────┴─────────┴──────────────┴────────────┴──────────┴──────────────┴─────────────┴──────────┴───────────┘\n",
       "</pre>\n"
      ],
      "text/plain": [
       "\u001b[3m                                            City Weather Data (Ordered)                                            \u001b[0m\n",
       "┏━━━━━━━━━━━━┳━━━━━━━━━┳━━━━━━━━━━━━━━┳━━━━━━━━━━━━┳━━━━━━━━━━┳━━━━━━━━━━━━━━┳━━━━━━━━━━━━━┳━━━━━━━━━━┳━━━━━━━━━━━┓\n",
       "┃\u001b[1;36m \u001b[0m\u001b[1;36m   Date   \u001b[0m\u001b[1;36m \u001b[0m┃\u001b[1;36m \u001b[0m\u001b[1;36mCountry\u001b[0m\u001b[1;36m \u001b[0m┃\u001b[1;36m \u001b[0m\u001b[1;36m    City    \u001b[0m\u001b[1;36m \u001b[0m┃\u001b[1;36m \u001b[0m\u001b[1;36mCloudiness\u001b[0m\u001b[1;36m \u001b[0m┃\u001b[1;36m \u001b[0m\u001b[1;36mHumidity\u001b[0m\u001b[1;36m \u001b[0m┃\u001b[1;36m \u001b[0m\u001b[1;36mMaximum_Tem…\u001b[0m\u001b[1;36m \u001b[0m┃\u001b[1;36m \u001b[0m\u001b[1;36mWind_Speed…\u001b[0m\u001b[1;36m \u001b[0m┃\u001b[1;36m \u001b[0m\u001b[1;36m  Lat   \u001b[0m\u001b[1;36m \u001b[0m┃\u001b[1;36m \u001b[0m\u001b[1;36m   Lng   \u001b[0m\u001b[1;36m \u001b[0m┃\n",
       "┡━━━━━━━━━━━━╇━━━━━━━━━╇━━━━━━━━━━━━━━╇━━━━━━━━━━━━╇━━━━━━━━━━╇━━━━━━━━━━━━━━╇━━━━━━━━━━━━━╇━━━━━━━━━━╇━━━━━━━━━━━┩\n",
       "│\u001b[1;2;35m \u001b[0m\u001b[1;2;35m2025-01-08\u001b[0m\u001b[1;2;35m \u001b[0m│\u001b[1;2;35m \u001b[0m\u001b[1;2;35m  US   \u001b[0m\u001b[1;2;35m \u001b[0m│\u001b[1;2;35m \u001b[0m\u001b[1;2;35m brigantine \u001b[0m\u001b[1;2;35m \u001b[0m│\u001b[1;2;35m \u001b[0m\u001b[1;2;35m    20    \u001b[0m\u001b[1;2;35m \u001b[0m│\u001b[1;2;35m \u001b[0m\u001b[1;2;35m   52   \u001b[0m\u001b[1;2;35m \u001b[0m│\u001b[1;2;35m \u001b[0m\u001b[1;2;35m   -0.48    \u001b[0m\u001b[1;2;35m \u001b[0m│\u001b[1;2;35m \u001b[0m\u001b[1;2;35m   10.29   \u001b[0m\u001b[1;2;35m \u001b[0m│\u001b[1;2;35m \u001b[0m\u001b[1;2;35m39.4101 \u001b[0m\u001b[1;2;35m \u001b[0m│\u001b[1;2;35m \u001b[0m\u001b[1;2;35m-74.3646 \u001b[0m\u001b[1;2;35m \u001b[0m│\n",
       "├────────────┼─────────┼──────────────┼────────────┼──────────┼──────────────┼─────────────┼──────────┼───────────┤\n",
       "│\u001b[1;35m \u001b[0m\u001b[1;35m2025-01-08\u001b[0m\u001b[1;35m \u001b[0m│\u001b[1;35m \u001b[0m\u001b[1;35m  NZ   \u001b[0m\u001b[1;35m \u001b[0m│\u001b[1;35m \u001b[0m\u001b[1;35m  waitangi  \u001b[0m\u001b[1;35m \u001b[0m│\u001b[1;35m \u001b[0m\u001b[1;35m   100    \u001b[0m\u001b[1;35m \u001b[0m│\u001b[1;35m \u001b[0m\u001b[1;35m   98   \u001b[0m\u001b[1;35m \u001b[0m│\u001b[1;35m \u001b[0m\u001b[1;35m   11.57    \u001b[0m\u001b[1;35m \u001b[0m│\u001b[1;35m \u001b[0m\u001b[1;35m   1.79    \u001b[0m\u001b[1;35m \u001b[0m│\u001b[1;35m \u001b[0m\u001b[1;35m-43.9535\u001b[0m\u001b[1;35m \u001b[0m│\u001b[1;35m \u001b[0m\u001b[1;35m-176.5597\u001b[0m\u001b[1;35m \u001b[0m│\n",
       "├────────────┼─────────┼──────────────┼────────────┼──────────┼──────────────┼─────────────┼──────────┼───────────┤\n",
       "│\u001b[1;2;35m \u001b[0m\u001b[1;2;35m2025-01-08\u001b[0m\u001b[1;2;35m \u001b[0m│\u001b[1;2;35m \u001b[0m\u001b[1;2;35m  US   \u001b[0m\u001b[1;2;35m \u001b[0m│\u001b[1;2;35m \u001b[0m\u001b[1;2;35m   bethel   \u001b[0m\u001b[1;2;35m \u001b[0m│\u001b[1;2;35m \u001b[0m\u001b[1;2;35m    0     \u001b[0m\u001b[1;2;35m \u001b[0m│\u001b[1;2;35m \u001b[0m\u001b[1;2;35m   41   \u001b[0m\u001b[1;2;35m \u001b[0m│\u001b[1;2;35m \u001b[0m\u001b[1;2;35m   -1.66    \u001b[0m\u001b[1;2;35m \u001b[0m│\u001b[1;2;35m \u001b[0m\u001b[1;2;35m   8.75    \u001b[0m\u001b[1;2;35m \u001b[0m│\u001b[1;2;35m \u001b[0m\u001b[1;2;35m41.3712 \u001b[0m\u001b[1;2;35m \u001b[0m│\u001b[1;2;35m \u001b[0m\u001b[1;2;35m -73.414 \u001b[0m\u001b[1;2;35m \u001b[0m│\n",
       "├────────────┼─────────┼──────────────┼────────────┼──────────┼──────────────┼─────────────┼──────────┼───────────┤\n",
       "│\u001b[1;35m \u001b[0m\u001b[1;35m2025-01-08\u001b[0m\u001b[1;35m \u001b[0m│\u001b[1;35m \u001b[0m\u001b[1;35m  TF   \u001b[0m\u001b[1;35m \u001b[0m│\u001b[1;35m \u001b[0m\u001b[1;35mport-aux-fr…\u001b[0m\u001b[1;35m \u001b[0m│\u001b[1;35m \u001b[0m\u001b[1;35m    13    \u001b[0m\u001b[1;35m \u001b[0m│\u001b[1;35m \u001b[0m\u001b[1;35m   89   \u001b[0m\u001b[1;35m \u001b[0m│\u001b[1;35m \u001b[0m\u001b[1;35m    5.41    \u001b[0m\u001b[1;35m \u001b[0m│\u001b[1;35m \u001b[0m\u001b[1;35m   8.37    \u001b[0m\u001b[1;35m \u001b[0m│\u001b[1;35m \u001b[0m\u001b[1;35m -49.35 \u001b[0m\u001b[1;35m \u001b[0m│\u001b[1;35m \u001b[0m\u001b[1;35m 70.2167 \u001b[0m\u001b[1;35m \u001b[0m│\n",
       "├────────────┼─────────┼──────────────┼────────────┼──────────┼──────────────┼─────────────┼──────────┼───────────┤\n",
       "│\u001b[1;2;35m \u001b[0m\u001b[1;2;35m2025-01-08\u001b[0m\u001b[1;2;35m \u001b[0m│\u001b[1;2;35m \u001b[0m\u001b[1;2;35m  MH   \u001b[0m\u001b[1;2;35m \u001b[0m│\u001b[1;2;35m \u001b[0m\u001b[1;2;35m   utrik    \u001b[0m\u001b[1;2;35m \u001b[0m│\u001b[1;2;35m \u001b[0m\u001b[1;2;35m    8     \u001b[0m\u001b[1;2;35m \u001b[0m│\u001b[1;2;35m \u001b[0m\u001b[1;2;35m   82   \u001b[0m\u001b[1;2;35m \u001b[0m│\u001b[1;2;35m \u001b[0m\u001b[1;2;35m   27.07    \u001b[0m\u001b[1;2;35m \u001b[0m│\u001b[1;2;35m \u001b[0m\u001b[1;2;35m   9.84    \u001b[0m\u001b[1;2;35m \u001b[0m│\u001b[1;2;35m \u001b[0m\u001b[1;2;35m11.2278 \u001b[0m\u001b[1;2;35m \u001b[0m│\u001b[1;2;35m \u001b[0m\u001b[1;2;35m169.8474 \u001b[0m\u001b[1;2;35m \u001b[0m│\n",
       "├────────────┼─────────┼──────────────┼────────────┼──────────┼──────────────┼─────────────┼──────────┼───────────┤\n",
       "│\u001b[1;35m \u001b[0m\u001b[1;35m2025-01-08\u001b[0m\u001b[1;35m \u001b[0m│\u001b[1;35m \u001b[0m\u001b[1;35m  ZA   \u001b[0m\u001b[1;35m \u001b[0m│\u001b[1;35m \u001b[0m\u001b[1;35m  hermanus  \u001b[0m\u001b[1;35m \u001b[0m│\u001b[1;35m \u001b[0m\u001b[1;35m    7     \u001b[0m\u001b[1;35m \u001b[0m│\u001b[1;35m \u001b[0m\u001b[1;35m   82   \u001b[0m\u001b[1;35m \u001b[0m│\u001b[1;35m \u001b[0m\u001b[1;35m   20.45    \u001b[0m\u001b[1;35m \u001b[0m│\u001b[1;35m \u001b[0m\u001b[1;35m   1.95    \u001b[0m\u001b[1;35m \u001b[0m│\u001b[1;35m \u001b[0m\u001b[1;35m-34.4187\u001b[0m\u001b[1;35m \u001b[0m│\u001b[1;35m \u001b[0m\u001b[1;35m 19.2345 \u001b[0m\u001b[1;35m \u001b[0m│\n",
       "├────────────┼─────────┼──────────────┼────────────┼──────────┼──────────────┼─────────────┼──────────┼───────────┤\n",
       "│\u001b[1;2;35m \u001b[0m\u001b[1;2;35m2025-01-08\u001b[0m\u001b[1;2;35m \u001b[0m│\u001b[1;2;35m \u001b[0m\u001b[1;2;35m  BJ   \u001b[0m\u001b[1;2;35m \u001b[0m│\u001b[1;2;35m \u001b[0m\u001b[1;2;35m tanguieta  \u001b[0m\u001b[1;2;35m \u001b[0m│\u001b[1;2;35m \u001b[0m\u001b[1;2;35m    36    \u001b[0m\u001b[1;2;35m \u001b[0m│\u001b[1;2;35m \u001b[0m\u001b[1;2;35m   14   \u001b[0m\u001b[1;2;35m \u001b[0m│\u001b[1;2;35m \u001b[0m\u001b[1;2;35m   29.39    \u001b[0m\u001b[1;2;35m \u001b[0m│\u001b[1;2;35m \u001b[0m\u001b[1;2;35m   2.73    \u001b[0m\u001b[1;2;35m \u001b[0m│\u001b[1;2;35m \u001b[0m\u001b[1;2;35m10.6212 \u001b[0m\u001b[1;2;35m \u001b[0m│\u001b[1;2;35m \u001b[0m\u001b[1;2;35m 1.2665  \u001b[0m\u001b[1;2;35m \u001b[0m│\n",
       "├────────────┼─────────┼──────────────┼────────────┼──────────┼──────────────┼─────────────┼──────────┼───────────┤\n",
       "│\u001b[1;35m \u001b[0m\u001b[1;35m2025-01-08\u001b[0m\u001b[1;35m \u001b[0m│\u001b[1;35m \u001b[0m\u001b[1;35m  AU   \u001b[0m\u001b[1;35m \u001b[0m│\u001b[1;35m \u001b[0m\u001b[1;35m blackmans  \u001b[0m\u001b[1;35m \u001b[0m│\u001b[1;35m \u001b[0m\u001b[1;35m    93    \u001b[0m\u001b[1;35m \u001b[0m│\u001b[1;35m \u001b[0m\u001b[1;35m   74   \u001b[0m\u001b[1;35m \u001b[0m│\u001b[1;35m \u001b[0m\u001b[1;35m   15.07    \u001b[0m\u001b[1;35m \u001b[0m│\u001b[1;35m \u001b[0m\u001b[1;35m   2.07    \u001b[0m\u001b[1;35m \u001b[0m│\u001b[1;35m \u001b[0m\u001b[1;35m-43.0167\u001b[0m\u001b[1;35m \u001b[0m│\u001b[1;35m \u001b[0m\u001b[1;35m147.3167 \u001b[0m\u001b[1;35m \u001b[0m│\n",
       "│\u001b[1;35m            \u001b[0m│\u001b[1;35m         \u001b[0m│\u001b[1;35m \u001b[0m\u001b[1;35m    bay     \u001b[0m\u001b[1;35m \u001b[0m│\u001b[1;35m            \u001b[0m│\u001b[1;35m          \u001b[0m│\u001b[1;35m              \u001b[0m│\u001b[1;35m             \u001b[0m│\u001b[1;35m          \u001b[0m│\u001b[1;35m           \u001b[0m│\n",
       "├────────────┼─────────┼──────────────┼────────────┼──────────┼──────────────┼─────────────┼──────────┼───────────┤\n",
       "│\u001b[1;2;35m \u001b[0m\u001b[1;2;35m2025-01-08\u001b[0m\u001b[1;2;35m \u001b[0m│\u001b[1;2;35m \u001b[0m\u001b[1;2;35m  EC   \u001b[0m\u001b[1;2;35m \u001b[0m│\u001b[1;2;35m \u001b[0m\u001b[1;2;35mpuerto ayora\u001b[0m\u001b[1;2;35m \u001b[0m│\u001b[1;2;35m \u001b[0m\u001b[1;2;35m    91    \u001b[0m\u001b[1;2;35m \u001b[0m│\u001b[1;2;35m \u001b[0m\u001b[1;2;35m   94   \u001b[0m\u001b[1;2;35m \u001b[0m│\u001b[1;2;35m \u001b[0m\u001b[1;2;35m   25.31    \u001b[0m\u001b[1;2;35m \u001b[0m│\u001b[1;2;35m \u001b[0m\u001b[1;2;35m   2.68    \u001b[0m\u001b[1;2;35m \u001b[0m│\u001b[1;2;35m \u001b[0m\u001b[1;2;35m-0.7393 \u001b[0m\u001b[1;2;35m \u001b[0m│\u001b[1;2;35m \u001b[0m\u001b[1;2;35m-90.3518 \u001b[0m\u001b[1;2;35m \u001b[0m│\n",
       "├────────────┼─────────┼──────────────┼────────────┼──────────┼──────────────┼─────────────┼──────────┼───────────┤\n",
       "│\u001b[1;35m \u001b[0m\u001b[1;35m2025-01-08\u001b[0m\u001b[1;35m \u001b[0m│\u001b[1;35m \u001b[0m\u001b[1;35m  ZA   \u001b[0m\u001b[1;35m \u001b[0m│\u001b[1;35m \u001b[0m\u001b[1;35mport alfred \u001b[0m\u001b[1;35m \u001b[0m│\u001b[1;35m \u001b[0m\u001b[1;35m    5     \u001b[0m\u001b[1;35m \u001b[0m│\u001b[1;35m \u001b[0m\u001b[1;35m   89   \u001b[0m\u001b[1;35m \u001b[0m│\u001b[1;35m \u001b[0m\u001b[1;35m    20.1    \u001b[0m\u001b[1;35m \u001b[0m│\u001b[1;35m \u001b[0m\u001b[1;35m   0.45    \u001b[0m\u001b[1;35m \u001b[0m│\u001b[1;35m \u001b[0m\u001b[1;35m-33.5906\u001b[0m\u001b[1;35m \u001b[0m│\u001b[1;35m \u001b[0m\u001b[1;35m 26.891  \u001b[0m\u001b[1;35m \u001b[0m│\n",
       "└────────────┴─────────┴──────────────┴────────────┴──────────┴──────────────┴─────────────┴──────────┴───────────┘\n"
      ]
     },
     "metadata": {},
     "output_type": "display_data"
    }
   ],
   "source": [
    "# Define the desired column order\n",
    "desired_order = ['Date', 'Country', 'City', 'Cloudiness', 'Humidity', \n",
    "                 'Maximum_Temperature', 'Wind_Speed_kmh', 'Lat', 'Lng']\n",
    "\n",
    "# Reorder the DataFrame to match the desired column order\n",
    "city_data_df = city_data_df[desired_order]\n",
    "\n",
    "# Create a rich Console object\n",
    "console = Console()\n",
    "\n",
    "# Create a rich Table object with a title and enhanced styles\n",
    "table = Table(title=\"City Weather Data (Ordered)\", show_header=True, header_style=\"bold cyan\", show_lines=True)\n",
    "\n",
    "# Add columns dynamically based on the reordered DataFrame\n",
    "for column in city_data_df.columns:\n",
    "    table.add_column(column, style=\"bold magenta\", justify=\"center\")\n",
    "\n",
    "# Add rows from the reordered DataFrame (only the first 10 rows)\n",
    "for idx, row in city_data_df.head(10).iterrows():\n",
    "    # Apply alternating row styles\n",
    "    if idx % 2 == 0:\n",
    "        table.add_row(*[str(value) for value in row], style=\"dim\")\n",
    "    else:\n",
    "        table.add_row(*[str(value) for value in row])\n",
    "\n",
    "# Print the table with rich formatting\n",
    "console.print(table)\n"
   ]
  },
  {
   "cell_type": "code",
   "execution_count": 23,
   "id": "3ae43a24-6118-466e-8eae-7aabb2d1661b",
   "metadata": {},
   "outputs": [
    {
     "data": {
      "text/html": [
       "<pre style=\"white-space:pre;overflow-x:auto;line-height:normal;font-family:Menlo,'DejaVu Sans Mono',consolas,'Courier New',monospace\"><span style=\"font-style: italic\">                                                 City Weather Data                                                 </span>\n",
       "┏━━━━━━━━━━━━┳━━━━━━━━━┳━━━━━━━━━━━━━━┳━━━━━━━━━━━━┳━━━━━━━━━━┳━━━━━━━━━━━━━━┳━━━━━━━━━━━━━┳━━━━━━━━━━┳━━━━━━━━━━━┓\n",
       "┃<span style=\"font-weight: bold\">    Date    </span>┃<span style=\"font-weight: bold\"> Country </span>┃<span style=\"font-weight: bold\">     City     </span>┃<span style=\"font-weight: bold\"> Cloudiness </span>┃<span style=\"font-weight: bold\"> Humidity </span>┃<span style=\"font-weight: bold\"> Maximum_Tem… </span>┃<span style=\"font-weight: bold\"> Wind_Speed… </span>┃<span style=\"font-weight: bold\">   Lat    </span>┃<span style=\"font-weight: bold\">    Lng    </span>┃\n",
       "┡━━━━━━━━━━━━╇━━━━━━━━━╇━━━━━━━━━━━━━━╇━━━━━━━━━━━━╇━━━━━━━━━━╇━━━━━━━━━━━━━━╇━━━━━━━━━━━━━╇━━━━━━━━━━╇━━━━━━━━━━━┩\n",
       "│<span style=\"font-weight: bold\"> 2025-01-08 </span>│<span style=\"font-weight: bold\">   US    </span>│<span style=\"font-weight: bold\">  brigantine  </span>│<span style=\"font-weight: bold\">     20     </span>│<span style=\"font-weight: bold\">    52    </span>│<span style=\"font-weight: bold\">    -0.48     </span>│<span style=\"font-weight: bold\">    10.29    </span>│<span style=\"font-weight: bold\"> 39.4101  </span>│<span style=\"font-weight: bold\"> -74.3646  </span>│\n",
       "│<span style=\"font-weight: bold\"> 2025-01-08 </span>│<span style=\"font-weight: bold\">   NZ    </span>│<span style=\"font-weight: bold\">   waitangi   </span>│<span style=\"font-weight: bold\">    100     </span>│<span style=\"font-weight: bold\">    98    </span>│<span style=\"font-weight: bold\">    11.57     </span>│<span style=\"font-weight: bold\">    1.79     </span>│<span style=\"font-weight: bold\"> -43.9535 </span>│<span style=\"font-weight: bold\"> -176.5597 </span>│\n",
       "│<span style=\"font-weight: bold\"> 2025-01-08 </span>│<span style=\"font-weight: bold\">   US    </span>│<span style=\"font-weight: bold\">    bethel    </span>│<span style=\"font-weight: bold\">     0      </span>│<span style=\"font-weight: bold\">    41    </span>│<span style=\"font-weight: bold\">    -1.66     </span>│<span style=\"font-weight: bold\">    8.75     </span>│<span style=\"font-weight: bold\"> 41.3712  </span>│<span style=\"font-weight: bold\">  -73.414  </span>│\n",
       "│<span style=\"font-weight: bold\"> 2025-01-08 </span>│<span style=\"font-weight: bold\">   TF    </span>│<span style=\"font-weight: bold\"> port-aux-fr… </span>│<span style=\"font-weight: bold\">     13     </span>│<span style=\"font-weight: bold\">    89    </span>│<span style=\"font-weight: bold\">     5.41     </span>│<span style=\"font-weight: bold\">    8.37     </span>│<span style=\"font-weight: bold\">  -49.35  </span>│<span style=\"font-weight: bold\">  70.2167  </span>│\n",
       "│<span style=\"font-weight: bold\"> 2025-01-08 </span>│<span style=\"font-weight: bold\">   MH    </span>│<span style=\"font-weight: bold\">    utrik     </span>│<span style=\"font-weight: bold\">     8      </span>│<span style=\"font-weight: bold\">    82    </span>│<span style=\"font-weight: bold\">    27.07     </span>│<span style=\"font-weight: bold\">    9.84     </span>│<span style=\"font-weight: bold\"> 11.2278  </span>│<span style=\"font-weight: bold\"> 169.8474  </span>│\n",
       "│<span style=\"font-weight: bold\"> 2025-01-08 </span>│<span style=\"font-weight: bold\">   ZA    </span>│<span style=\"font-weight: bold\">   hermanus   </span>│<span style=\"font-weight: bold\">     7      </span>│<span style=\"font-weight: bold\">    82    </span>│<span style=\"font-weight: bold\">    20.45     </span>│<span style=\"font-weight: bold\">    1.95     </span>│<span style=\"font-weight: bold\"> -34.4187 </span>│<span style=\"font-weight: bold\">  19.2345  </span>│\n",
       "│<span style=\"font-weight: bold\"> 2025-01-08 </span>│<span style=\"font-weight: bold\">   BJ    </span>│<span style=\"font-weight: bold\">  tanguieta   </span>│<span style=\"font-weight: bold\">     36     </span>│<span style=\"font-weight: bold\">    14    </span>│<span style=\"font-weight: bold\">    29.39     </span>│<span style=\"font-weight: bold\">    2.73     </span>│<span style=\"font-weight: bold\"> 10.6212  </span>│<span style=\"font-weight: bold\">  1.2665   </span>│\n",
       "│<span style=\"font-weight: bold\"> 2025-01-08 </span>│<span style=\"font-weight: bold\">   AU    </span>│<span style=\"font-weight: bold\">  blackmans   </span>│<span style=\"font-weight: bold\">     93     </span>│<span style=\"font-weight: bold\">    74    </span>│<span style=\"font-weight: bold\">    15.07     </span>│<span style=\"font-weight: bold\">    2.07     </span>│<span style=\"font-weight: bold\"> -43.0167 </span>│<span style=\"font-weight: bold\"> 147.3167  </span>│\n",
       "│<span style=\"font-weight: bold\">            </span>│<span style=\"font-weight: bold\">         </span>│<span style=\"font-weight: bold\">     bay      </span>│<span style=\"font-weight: bold\">            </span>│<span style=\"font-weight: bold\">          </span>│<span style=\"font-weight: bold\">              </span>│<span style=\"font-weight: bold\">             </span>│<span style=\"font-weight: bold\">          </span>│<span style=\"font-weight: bold\">           </span>│\n",
       "│<span style=\"font-weight: bold\"> 2025-01-08 </span>│<span style=\"font-weight: bold\">   EC    </span>│<span style=\"font-weight: bold\"> puerto ayora </span>│<span style=\"font-weight: bold\">     91     </span>│<span style=\"font-weight: bold\">    94    </span>│<span style=\"font-weight: bold\">    25.31     </span>│<span style=\"font-weight: bold\">    2.68     </span>│<span style=\"font-weight: bold\"> -0.7393  </span>│<span style=\"font-weight: bold\"> -90.3518  </span>│\n",
       "│<span style=\"font-weight: bold\"> 2025-01-08 </span>│<span style=\"font-weight: bold\">   ZA    </span>│<span style=\"font-weight: bold\"> port alfred  </span>│<span style=\"font-weight: bold\">     5      </span>│<span style=\"font-weight: bold\">    89    </span>│<span style=\"font-weight: bold\">     20.1     </span>│<span style=\"font-weight: bold\">    0.45     </span>│<span style=\"font-weight: bold\"> -33.5906 </span>│<span style=\"font-weight: bold\">  26.891   </span>│\n",
       "└────────────┴─────────┴──────────────┴────────────┴──────────┴──────────────┴─────────────┴──────────┴───────────┘\n",
       "</pre>\n"
      ],
      "text/plain": [
       "\u001b[3m                                                 City Weather Data                                                 \u001b[0m\n",
       "┏━━━━━━━━━━━━┳━━━━━━━━━┳━━━━━━━━━━━━━━┳━━━━━━━━━━━━┳━━━━━━━━━━┳━━━━━━━━━━━━━━┳━━━━━━━━━━━━━┳━━━━━━━━━━┳━━━━━━━━━━━┓\n",
       "┃\u001b[1m \u001b[0m\u001b[1m   Date   \u001b[0m\u001b[1m \u001b[0m┃\u001b[1m \u001b[0m\u001b[1mCountry\u001b[0m\u001b[1m \u001b[0m┃\u001b[1m \u001b[0m\u001b[1m    City    \u001b[0m\u001b[1m \u001b[0m┃\u001b[1m \u001b[0m\u001b[1mCloudiness\u001b[0m\u001b[1m \u001b[0m┃\u001b[1m \u001b[0m\u001b[1mHumidity\u001b[0m\u001b[1m \u001b[0m┃\u001b[1m \u001b[0m\u001b[1mMaximum_Tem…\u001b[0m\u001b[1m \u001b[0m┃\u001b[1m \u001b[0m\u001b[1mWind_Speed…\u001b[0m\u001b[1m \u001b[0m┃\u001b[1m \u001b[0m\u001b[1m  Lat   \u001b[0m\u001b[1m \u001b[0m┃\u001b[1m \u001b[0m\u001b[1m   Lng   \u001b[0m\u001b[1m \u001b[0m┃\n",
       "┡━━━━━━━━━━━━╇━━━━━━━━━╇━━━━━━━━━━━━━━╇━━━━━━━━━━━━╇━━━━━━━━━━╇━━━━━━━━━━━━━━╇━━━━━━━━━━━━━╇━━━━━━━━━━╇━━━━━━━━━━━┩\n",
       "│\u001b[1m \u001b[0m\u001b[1m2025-01-08\u001b[0m\u001b[1m \u001b[0m│\u001b[1m \u001b[0m\u001b[1m  US   \u001b[0m\u001b[1m \u001b[0m│\u001b[1m \u001b[0m\u001b[1m brigantine \u001b[0m\u001b[1m \u001b[0m│\u001b[1m \u001b[0m\u001b[1m    20    \u001b[0m\u001b[1m \u001b[0m│\u001b[1m \u001b[0m\u001b[1m   52   \u001b[0m\u001b[1m \u001b[0m│\u001b[1m \u001b[0m\u001b[1m   -0.48    \u001b[0m\u001b[1m \u001b[0m│\u001b[1m \u001b[0m\u001b[1m   10.29   \u001b[0m\u001b[1m \u001b[0m│\u001b[1m \u001b[0m\u001b[1m39.4101 \u001b[0m\u001b[1m \u001b[0m│\u001b[1m \u001b[0m\u001b[1m-74.3646 \u001b[0m\u001b[1m \u001b[0m│\n",
       "│\u001b[1m \u001b[0m\u001b[1m2025-01-08\u001b[0m\u001b[1m \u001b[0m│\u001b[1m \u001b[0m\u001b[1m  NZ   \u001b[0m\u001b[1m \u001b[0m│\u001b[1m \u001b[0m\u001b[1m  waitangi  \u001b[0m\u001b[1m \u001b[0m│\u001b[1m \u001b[0m\u001b[1m   100    \u001b[0m\u001b[1m \u001b[0m│\u001b[1m \u001b[0m\u001b[1m   98   \u001b[0m\u001b[1m \u001b[0m│\u001b[1m \u001b[0m\u001b[1m   11.57    \u001b[0m\u001b[1m \u001b[0m│\u001b[1m \u001b[0m\u001b[1m   1.79    \u001b[0m\u001b[1m \u001b[0m│\u001b[1m \u001b[0m\u001b[1m-43.9535\u001b[0m\u001b[1m \u001b[0m│\u001b[1m \u001b[0m\u001b[1m-176.5597\u001b[0m\u001b[1m \u001b[0m│\n",
       "│\u001b[1m \u001b[0m\u001b[1m2025-01-08\u001b[0m\u001b[1m \u001b[0m│\u001b[1m \u001b[0m\u001b[1m  US   \u001b[0m\u001b[1m \u001b[0m│\u001b[1m \u001b[0m\u001b[1m   bethel   \u001b[0m\u001b[1m \u001b[0m│\u001b[1m \u001b[0m\u001b[1m    0     \u001b[0m\u001b[1m \u001b[0m│\u001b[1m \u001b[0m\u001b[1m   41   \u001b[0m\u001b[1m \u001b[0m│\u001b[1m \u001b[0m\u001b[1m   -1.66    \u001b[0m\u001b[1m \u001b[0m│\u001b[1m \u001b[0m\u001b[1m   8.75    \u001b[0m\u001b[1m \u001b[0m│\u001b[1m \u001b[0m\u001b[1m41.3712 \u001b[0m\u001b[1m \u001b[0m│\u001b[1m \u001b[0m\u001b[1m -73.414 \u001b[0m\u001b[1m \u001b[0m│\n",
       "│\u001b[1m \u001b[0m\u001b[1m2025-01-08\u001b[0m\u001b[1m \u001b[0m│\u001b[1m \u001b[0m\u001b[1m  TF   \u001b[0m\u001b[1m \u001b[0m│\u001b[1m \u001b[0m\u001b[1mport-aux-fr…\u001b[0m\u001b[1m \u001b[0m│\u001b[1m \u001b[0m\u001b[1m    13    \u001b[0m\u001b[1m \u001b[0m│\u001b[1m \u001b[0m\u001b[1m   89   \u001b[0m\u001b[1m \u001b[0m│\u001b[1m \u001b[0m\u001b[1m    5.41    \u001b[0m\u001b[1m \u001b[0m│\u001b[1m \u001b[0m\u001b[1m   8.37    \u001b[0m\u001b[1m \u001b[0m│\u001b[1m \u001b[0m\u001b[1m -49.35 \u001b[0m\u001b[1m \u001b[0m│\u001b[1m \u001b[0m\u001b[1m 70.2167 \u001b[0m\u001b[1m \u001b[0m│\n",
       "│\u001b[1m \u001b[0m\u001b[1m2025-01-08\u001b[0m\u001b[1m \u001b[0m│\u001b[1m \u001b[0m\u001b[1m  MH   \u001b[0m\u001b[1m \u001b[0m│\u001b[1m \u001b[0m\u001b[1m   utrik    \u001b[0m\u001b[1m \u001b[0m│\u001b[1m \u001b[0m\u001b[1m    8     \u001b[0m\u001b[1m \u001b[0m│\u001b[1m \u001b[0m\u001b[1m   82   \u001b[0m\u001b[1m \u001b[0m│\u001b[1m \u001b[0m\u001b[1m   27.07    \u001b[0m\u001b[1m \u001b[0m│\u001b[1m \u001b[0m\u001b[1m   9.84    \u001b[0m\u001b[1m \u001b[0m│\u001b[1m \u001b[0m\u001b[1m11.2278 \u001b[0m\u001b[1m \u001b[0m│\u001b[1m \u001b[0m\u001b[1m169.8474 \u001b[0m\u001b[1m \u001b[0m│\n",
       "│\u001b[1m \u001b[0m\u001b[1m2025-01-08\u001b[0m\u001b[1m \u001b[0m│\u001b[1m \u001b[0m\u001b[1m  ZA   \u001b[0m\u001b[1m \u001b[0m│\u001b[1m \u001b[0m\u001b[1m  hermanus  \u001b[0m\u001b[1m \u001b[0m│\u001b[1m \u001b[0m\u001b[1m    7     \u001b[0m\u001b[1m \u001b[0m│\u001b[1m \u001b[0m\u001b[1m   82   \u001b[0m\u001b[1m \u001b[0m│\u001b[1m \u001b[0m\u001b[1m   20.45    \u001b[0m\u001b[1m \u001b[0m│\u001b[1m \u001b[0m\u001b[1m   1.95    \u001b[0m\u001b[1m \u001b[0m│\u001b[1m \u001b[0m\u001b[1m-34.4187\u001b[0m\u001b[1m \u001b[0m│\u001b[1m \u001b[0m\u001b[1m 19.2345 \u001b[0m\u001b[1m \u001b[0m│\n",
       "│\u001b[1m \u001b[0m\u001b[1m2025-01-08\u001b[0m\u001b[1m \u001b[0m│\u001b[1m \u001b[0m\u001b[1m  BJ   \u001b[0m\u001b[1m \u001b[0m│\u001b[1m \u001b[0m\u001b[1m tanguieta  \u001b[0m\u001b[1m \u001b[0m│\u001b[1m \u001b[0m\u001b[1m    36    \u001b[0m\u001b[1m \u001b[0m│\u001b[1m \u001b[0m\u001b[1m   14   \u001b[0m\u001b[1m \u001b[0m│\u001b[1m \u001b[0m\u001b[1m   29.39    \u001b[0m\u001b[1m \u001b[0m│\u001b[1m \u001b[0m\u001b[1m   2.73    \u001b[0m\u001b[1m \u001b[0m│\u001b[1m \u001b[0m\u001b[1m10.6212 \u001b[0m\u001b[1m \u001b[0m│\u001b[1m \u001b[0m\u001b[1m 1.2665  \u001b[0m\u001b[1m \u001b[0m│\n",
       "│\u001b[1m \u001b[0m\u001b[1m2025-01-08\u001b[0m\u001b[1m \u001b[0m│\u001b[1m \u001b[0m\u001b[1m  AU   \u001b[0m\u001b[1m \u001b[0m│\u001b[1m \u001b[0m\u001b[1m blackmans  \u001b[0m\u001b[1m \u001b[0m│\u001b[1m \u001b[0m\u001b[1m    93    \u001b[0m\u001b[1m \u001b[0m│\u001b[1m \u001b[0m\u001b[1m   74   \u001b[0m\u001b[1m \u001b[0m│\u001b[1m \u001b[0m\u001b[1m   15.07    \u001b[0m\u001b[1m \u001b[0m│\u001b[1m \u001b[0m\u001b[1m   2.07    \u001b[0m\u001b[1m \u001b[0m│\u001b[1m \u001b[0m\u001b[1m-43.0167\u001b[0m\u001b[1m \u001b[0m│\u001b[1m \u001b[0m\u001b[1m147.3167 \u001b[0m\u001b[1m \u001b[0m│\n",
       "│\u001b[1m            \u001b[0m│\u001b[1m         \u001b[0m│\u001b[1m \u001b[0m\u001b[1m    bay     \u001b[0m\u001b[1m \u001b[0m│\u001b[1m            \u001b[0m│\u001b[1m          \u001b[0m│\u001b[1m              \u001b[0m│\u001b[1m             \u001b[0m│\u001b[1m          \u001b[0m│\u001b[1m           \u001b[0m│\n",
       "│\u001b[1m \u001b[0m\u001b[1m2025-01-08\u001b[0m\u001b[1m \u001b[0m│\u001b[1m \u001b[0m\u001b[1m  EC   \u001b[0m\u001b[1m \u001b[0m│\u001b[1m \u001b[0m\u001b[1mpuerto ayora\u001b[0m\u001b[1m \u001b[0m│\u001b[1m \u001b[0m\u001b[1m    91    \u001b[0m\u001b[1m \u001b[0m│\u001b[1m \u001b[0m\u001b[1m   94   \u001b[0m\u001b[1m \u001b[0m│\u001b[1m \u001b[0m\u001b[1m   25.31    \u001b[0m\u001b[1m \u001b[0m│\u001b[1m \u001b[0m\u001b[1m   2.68    \u001b[0m\u001b[1m \u001b[0m│\u001b[1m \u001b[0m\u001b[1m-0.7393 \u001b[0m\u001b[1m \u001b[0m│\u001b[1m \u001b[0m\u001b[1m-90.3518 \u001b[0m\u001b[1m \u001b[0m│\n",
       "│\u001b[1m \u001b[0m\u001b[1m2025-01-08\u001b[0m\u001b[1m \u001b[0m│\u001b[1m \u001b[0m\u001b[1m  ZA   \u001b[0m\u001b[1m \u001b[0m│\u001b[1m \u001b[0m\u001b[1mport alfred \u001b[0m\u001b[1m \u001b[0m│\u001b[1m \u001b[0m\u001b[1m    5     \u001b[0m\u001b[1m \u001b[0m│\u001b[1m \u001b[0m\u001b[1m   89   \u001b[0m\u001b[1m \u001b[0m│\u001b[1m \u001b[0m\u001b[1m    20.1    \u001b[0m\u001b[1m \u001b[0m│\u001b[1m \u001b[0m\u001b[1m   0.45    \u001b[0m\u001b[1m \u001b[0m│\u001b[1m \u001b[0m\u001b[1m-33.5906\u001b[0m\u001b[1m \u001b[0m│\u001b[1m \u001b[0m\u001b[1m 26.891  \u001b[0m\u001b[1m \u001b[0m│\n",
       "└────────────┴─────────┴──────────────┴────────────┴──────────┴──────────────┴─────────────┴──────────┴───────────┘\n"
      ]
     },
     "metadata": {},
     "output_type": "display_data"
    }
   ],
   "source": [
    "# Create a Rich Console object\n",
    "console = Console()\n",
    "\n",
    "# Function to print the DataFrame with Rich\n",
    "def print_df_with_rich(df):\n",
    "    # Create a Rich Table object\n",
    "    table = Table(title=\"City Weather Data\")\n",
    "\n",
    "    # Add columns dynamically based on the DataFrame\n",
    "    for column in df.columns:\n",
    "        table.add_column(column, justify=\"center\", style=\"bold\")\n",
    "\n",
    "    # Add rows dynamically based on the DataFrame data\n",
    "    for _, row in df.iterrows():\n",
    "        table.add_row(*[str(value) for value in row])\n",
    "\n",
    "    # Print the table using Rich\n",
    "    console.print(table)\n",
    "\n",
    "# Call the function to print the DataFrame with Rich\n",
    "print_df_with_rich(city_data_df.head(10))"
   ]
  },
  {
   "cell_type": "code",
   "execution_count": 24,
   "id": "cad425a8-e565-41c3-a5d4-3afb6a773509",
   "metadata": {},
   "outputs": [
    {
     "data": {
      "text/html": [
       "<pre style=\"white-space:pre;overflow-x:auto;line-height:normal;font-family:Menlo,'DejaVu Sans Mono',consolas,'Courier New',monospace\"><span style=\"font-style: italic\">                                                 City Weather Data                                                 </span>\n",
       "┏━━━━━━━━━━━━┳━━━━━━━━━┳━━━━━━━━━━━━━━┳━━━━━━━━━━━━┳━━━━━━━━━━┳━━━━━━━━━━━━━━┳━━━━━━━━━━━━━┳━━━━━━━━━━┳━━━━━━━━━━━┓\n",
       "┃<span style=\"font-weight: bold\">    Date    </span>┃<span style=\"font-weight: bold\"> Country </span>┃<span style=\"font-weight: bold\">     City     </span>┃<span style=\"font-weight: bold\"> Cloudiness </span>┃<span style=\"font-weight: bold\"> Humidity </span>┃<span style=\"font-weight: bold\"> Maximum_Tem… </span>┃<span style=\"font-weight: bold\"> Wind_Speed… </span>┃<span style=\"font-weight: bold\">   Lat    </span>┃<span style=\"font-weight: bold\">    Lng    </span>┃\n",
       "┡━━━━━━━━━━━━╇━━━━━━━━━╇━━━━━━━━━━━━━━╇━━━━━━━━━━━━╇━━━━━━━━━━╇━━━━━━━━━━━━━━╇━━━━━━━━━━━━━╇━━━━━━━━━━╇━━━━━━━━━━━┩\n",
       "│<span style=\"font-weight: bold\"> 2025-01-08 </span>│<span style=\"font-weight: bold\">   US    </span>│<span style=\"font-weight: bold\">  Brigantine  </span>│<span style=\"font-weight: bold\">     20     </span>│<span style=\"font-weight: bold\">    52    </span>│<span style=\"font-weight: bold\">    -0.48     </span>│<span style=\"font-weight: bold\">    10.29    </span>│<span style=\"font-weight: bold\"> 39.4101  </span>│<span style=\"font-weight: bold\"> -74.3646  </span>│\n",
       "│<span style=\"font-weight: bold\"> 2025-01-08 </span>│<span style=\"font-weight: bold\">   NZ    </span>│<span style=\"font-weight: bold\">   Waitangi   </span>│<span style=\"font-weight: bold\">    100     </span>│<span style=\"font-weight: bold\">    98    </span>│<span style=\"font-weight: bold\">    11.57     </span>│<span style=\"font-weight: bold\">    1.79     </span>│<span style=\"font-weight: bold\"> -43.9535 </span>│<span style=\"font-weight: bold\"> -176.5597 </span>│\n",
       "│<span style=\"font-weight: bold\"> 2025-01-08 </span>│<span style=\"font-weight: bold\">   US    </span>│<span style=\"font-weight: bold\">    Bethel    </span>│<span style=\"font-weight: bold\">     0      </span>│<span style=\"font-weight: bold\">    41    </span>│<span style=\"font-weight: bold\">    -1.66     </span>│<span style=\"font-weight: bold\">    8.75     </span>│<span style=\"font-weight: bold\"> 41.3712  </span>│<span style=\"font-weight: bold\">  -73.414  </span>│\n",
       "│<span style=\"font-weight: bold\"> 2025-01-08 </span>│<span style=\"font-weight: bold\">   TF    </span>│<span style=\"font-weight: bold\"> Port-Aux-Fr… </span>│<span style=\"font-weight: bold\">     13     </span>│<span style=\"font-weight: bold\">    89    </span>│<span style=\"font-weight: bold\">     5.41     </span>│<span style=\"font-weight: bold\">    8.37     </span>│<span style=\"font-weight: bold\">  -49.35  </span>│<span style=\"font-weight: bold\">  70.2167  </span>│\n",
       "│<span style=\"font-weight: bold\"> 2025-01-08 </span>│<span style=\"font-weight: bold\">   MH    </span>│<span style=\"font-weight: bold\">    Utrik     </span>│<span style=\"font-weight: bold\">     8      </span>│<span style=\"font-weight: bold\">    82    </span>│<span style=\"font-weight: bold\">    27.07     </span>│<span style=\"font-weight: bold\">    9.84     </span>│<span style=\"font-weight: bold\"> 11.2278  </span>│<span style=\"font-weight: bold\"> 169.8474  </span>│\n",
       "│<span style=\"font-weight: bold\"> 2025-01-08 </span>│<span style=\"font-weight: bold\">   ZA    </span>│<span style=\"font-weight: bold\">   Hermanus   </span>│<span style=\"font-weight: bold\">     7      </span>│<span style=\"font-weight: bold\">    82    </span>│<span style=\"font-weight: bold\">    20.45     </span>│<span style=\"font-weight: bold\">    1.95     </span>│<span style=\"font-weight: bold\"> -34.4187 </span>│<span style=\"font-weight: bold\">  19.2345  </span>│\n",
       "│<span style=\"font-weight: bold\"> 2025-01-08 </span>│<span style=\"font-weight: bold\">   BJ    </span>│<span style=\"font-weight: bold\">  Tanguieta   </span>│<span style=\"font-weight: bold\">     36     </span>│<span style=\"font-weight: bold\">    14    </span>│<span style=\"font-weight: bold\">    29.39     </span>│<span style=\"font-weight: bold\">    2.73     </span>│<span style=\"font-weight: bold\"> 10.6212  </span>│<span style=\"font-weight: bold\">  1.2665   </span>│\n",
       "│<span style=\"font-weight: bold\"> 2025-01-08 </span>│<span style=\"font-weight: bold\">   AU    </span>│<span style=\"font-weight: bold\">  Blackmans   </span>│<span style=\"font-weight: bold\">     93     </span>│<span style=\"font-weight: bold\">    74    </span>│<span style=\"font-weight: bold\">    15.07     </span>│<span style=\"font-weight: bold\">    2.07     </span>│<span style=\"font-weight: bold\"> -43.0167 </span>│<span style=\"font-weight: bold\"> 147.3167  </span>│\n",
       "│<span style=\"font-weight: bold\">            </span>│<span style=\"font-weight: bold\">         </span>│<span style=\"font-weight: bold\">     Bay      </span>│<span style=\"font-weight: bold\">            </span>│<span style=\"font-weight: bold\">          </span>│<span style=\"font-weight: bold\">              </span>│<span style=\"font-weight: bold\">             </span>│<span style=\"font-weight: bold\">          </span>│<span style=\"font-weight: bold\">           </span>│\n",
       "│<span style=\"font-weight: bold\"> 2025-01-08 </span>│<span style=\"font-weight: bold\">   EC    </span>│<span style=\"font-weight: bold\"> Puerto Ayora </span>│<span style=\"font-weight: bold\">     91     </span>│<span style=\"font-weight: bold\">    94    </span>│<span style=\"font-weight: bold\">    25.31     </span>│<span style=\"font-weight: bold\">    2.68     </span>│<span style=\"font-weight: bold\"> -0.7393  </span>│<span style=\"font-weight: bold\"> -90.3518  </span>│\n",
       "│<span style=\"font-weight: bold\"> 2025-01-08 </span>│<span style=\"font-weight: bold\">   ZA    </span>│<span style=\"font-weight: bold\"> Port Alfred  </span>│<span style=\"font-weight: bold\">     5      </span>│<span style=\"font-weight: bold\">    89    </span>│<span style=\"font-weight: bold\">     20.1     </span>│<span style=\"font-weight: bold\">    0.45     </span>│<span style=\"font-weight: bold\"> -33.5906 </span>│<span style=\"font-weight: bold\">  26.891   </span>│\n",
       "└────────────┴─────────┴──────────────┴────────────┴──────────┴──────────────┴─────────────┴──────────┴───────────┘\n",
       "</pre>\n"
      ],
      "text/plain": [
       "\u001b[3m                                                 City Weather Data                                                 \u001b[0m\n",
       "┏━━━━━━━━━━━━┳━━━━━━━━━┳━━━━━━━━━━━━━━┳━━━━━━━━━━━━┳━━━━━━━━━━┳━━━━━━━━━━━━━━┳━━━━━━━━━━━━━┳━━━━━━━━━━┳━━━━━━━━━━━┓\n",
       "┃\u001b[1m \u001b[0m\u001b[1m   Date   \u001b[0m\u001b[1m \u001b[0m┃\u001b[1m \u001b[0m\u001b[1mCountry\u001b[0m\u001b[1m \u001b[0m┃\u001b[1m \u001b[0m\u001b[1m    City    \u001b[0m\u001b[1m \u001b[0m┃\u001b[1m \u001b[0m\u001b[1mCloudiness\u001b[0m\u001b[1m \u001b[0m┃\u001b[1m \u001b[0m\u001b[1mHumidity\u001b[0m\u001b[1m \u001b[0m┃\u001b[1m \u001b[0m\u001b[1mMaximum_Tem…\u001b[0m\u001b[1m \u001b[0m┃\u001b[1m \u001b[0m\u001b[1mWind_Speed…\u001b[0m\u001b[1m \u001b[0m┃\u001b[1m \u001b[0m\u001b[1m  Lat   \u001b[0m\u001b[1m \u001b[0m┃\u001b[1m \u001b[0m\u001b[1m   Lng   \u001b[0m\u001b[1m \u001b[0m┃\n",
       "┡━━━━━━━━━━━━╇━━━━━━━━━╇━━━━━━━━━━━━━━╇━━━━━━━━━━━━╇━━━━━━━━━━╇━━━━━━━━━━━━━━╇━━━━━━━━━━━━━╇━━━━━━━━━━╇━━━━━━━━━━━┩\n",
       "│\u001b[1m \u001b[0m\u001b[1m2025-01-08\u001b[0m\u001b[1m \u001b[0m│\u001b[1m \u001b[0m\u001b[1m  US   \u001b[0m\u001b[1m \u001b[0m│\u001b[1m \u001b[0m\u001b[1m Brigantine \u001b[0m\u001b[1m \u001b[0m│\u001b[1m \u001b[0m\u001b[1m    20    \u001b[0m\u001b[1m \u001b[0m│\u001b[1m \u001b[0m\u001b[1m   52   \u001b[0m\u001b[1m \u001b[0m│\u001b[1m \u001b[0m\u001b[1m   -0.48    \u001b[0m\u001b[1m \u001b[0m│\u001b[1m \u001b[0m\u001b[1m   10.29   \u001b[0m\u001b[1m \u001b[0m│\u001b[1m \u001b[0m\u001b[1m39.4101 \u001b[0m\u001b[1m \u001b[0m│\u001b[1m \u001b[0m\u001b[1m-74.3646 \u001b[0m\u001b[1m \u001b[0m│\n",
       "│\u001b[1m \u001b[0m\u001b[1m2025-01-08\u001b[0m\u001b[1m \u001b[0m│\u001b[1m \u001b[0m\u001b[1m  NZ   \u001b[0m\u001b[1m \u001b[0m│\u001b[1m \u001b[0m\u001b[1m  Waitangi  \u001b[0m\u001b[1m \u001b[0m│\u001b[1m \u001b[0m\u001b[1m   100    \u001b[0m\u001b[1m \u001b[0m│\u001b[1m \u001b[0m\u001b[1m   98   \u001b[0m\u001b[1m \u001b[0m│\u001b[1m \u001b[0m\u001b[1m   11.57    \u001b[0m\u001b[1m \u001b[0m│\u001b[1m \u001b[0m\u001b[1m   1.79    \u001b[0m\u001b[1m \u001b[0m│\u001b[1m \u001b[0m\u001b[1m-43.9535\u001b[0m\u001b[1m \u001b[0m│\u001b[1m \u001b[0m\u001b[1m-176.5597\u001b[0m\u001b[1m \u001b[0m│\n",
       "│\u001b[1m \u001b[0m\u001b[1m2025-01-08\u001b[0m\u001b[1m \u001b[0m│\u001b[1m \u001b[0m\u001b[1m  US   \u001b[0m\u001b[1m \u001b[0m│\u001b[1m \u001b[0m\u001b[1m   Bethel   \u001b[0m\u001b[1m \u001b[0m│\u001b[1m \u001b[0m\u001b[1m    0     \u001b[0m\u001b[1m \u001b[0m│\u001b[1m \u001b[0m\u001b[1m   41   \u001b[0m\u001b[1m \u001b[0m│\u001b[1m \u001b[0m\u001b[1m   -1.66    \u001b[0m\u001b[1m \u001b[0m│\u001b[1m \u001b[0m\u001b[1m   8.75    \u001b[0m\u001b[1m \u001b[0m│\u001b[1m \u001b[0m\u001b[1m41.3712 \u001b[0m\u001b[1m \u001b[0m│\u001b[1m \u001b[0m\u001b[1m -73.414 \u001b[0m\u001b[1m \u001b[0m│\n",
       "│\u001b[1m \u001b[0m\u001b[1m2025-01-08\u001b[0m\u001b[1m \u001b[0m│\u001b[1m \u001b[0m\u001b[1m  TF   \u001b[0m\u001b[1m \u001b[0m│\u001b[1m \u001b[0m\u001b[1mPort-Aux-Fr…\u001b[0m\u001b[1m \u001b[0m│\u001b[1m \u001b[0m\u001b[1m    13    \u001b[0m\u001b[1m \u001b[0m│\u001b[1m \u001b[0m\u001b[1m   89   \u001b[0m\u001b[1m \u001b[0m│\u001b[1m \u001b[0m\u001b[1m    5.41    \u001b[0m\u001b[1m \u001b[0m│\u001b[1m \u001b[0m\u001b[1m   8.37    \u001b[0m\u001b[1m \u001b[0m│\u001b[1m \u001b[0m\u001b[1m -49.35 \u001b[0m\u001b[1m \u001b[0m│\u001b[1m \u001b[0m\u001b[1m 70.2167 \u001b[0m\u001b[1m \u001b[0m│\n",
       "│\u001b[1m \u001b[0m\u001b[1m2025-01-08\u001b[0m\u001b[1m \u001b[0m│\u001b[1m \u001b[0m\u001b[1m  MH   \u001b[0m\u001b[1m \u001b[0m│\u001b[1m \u001b[0m\u001b[1m   Utrik    \u001b[0m\u001b[1m \u001b[0m│\u001b[1m \u001b[0m\u001b[1m    8     \u001b[0m\u001b[1m \u001b[0m│\u001b[1m \u001b[0m\u001b[1m   82   \u001b[0m\u001b[1m \u001b[0m│\u001b[1m \u001b[0m\u001b[1m   27.07    \u001b[0m\u001b[1m \u001b[0m│\u001b[1m \u001b[0m\u001b[1m   9.84    \u001b[0m\u001b[1m \u001b[0m│\u001b[1m \u001b[0m\u001b[1m11.2278 \u001b[0m\u001b[1m \u001b[0m│\u001b[1m \u001b[0m\u001b[1m169.8474 \u001b[0m\u001b[1m \u001b[0m│\n",
       "│\u001b[1m \u001b[0m\u001b[1m2025-01-08\u001b[0m\u001b[1m \u001b[0m│\u001b[1m \u001b[0m\u001b[1m  ZA   \u001b[0m\u001b[1m \u001b[0m│\u001b[1m \u001b[0m\u001b[1m  Hermanus  \u001b[0m\u001b[1m \u001b[0m│\u001b[1m \u001b[0m\u001b[1m    7     \u001b[0m\u001b[1m \u001b[0m│\u001b[1m \u001b[0m\u001b[1m   82   \u001b[0m\u001b[1m \u001b[0m│\u001b[1m \u001b[0m\u001b[1m   20.45    \u001b[0m\u001b[1m \u001b[0m│\u001b[1m \u001b[0m\u001b[1m   1.95    \u001b[0m\u001b[1m \u001b[0m│\u001b[1m \u001b[0m\u001b[1m-34.4187\u001b[0m\u001b[1m \u001b[0m│\u001b[1m \u001b[0m\u001b[1m 19.2345 \u001b[0m\u001b[1m \u001b[0m│\n",
       "│\u001b[1m \u001b[0m\u001b[1m2025-01-08\u001b[0m\u001b[1m \u001b[0m│\u001b[1m \u001b[0m\u001b[1m  BJ   \u001b[0m\u001b[1m \u001b[0m│\u001b[1m \u001b[0m\u001b[1m Tanguieta  \u001b[0m\u001b[1m \u001b[0m│\u001b[1m \u001b[0m\u001b[1m    36    \u001b[0m\u001b[1m \u001b[0m│\u001b[1m \u001b[0m\u001b[1m   14   \u001b[0m\u001b[1m \u001b[0m│\u001b[1m \u001b[0m\u001b[1m   29.39    \u001b[0m\u001b[1m \u001b[0m│\u001b[1m \u001b[0m\u001b[1m   2.73    \u001b[0m\u001b[1m \u001b[0m│\u001b[1m \u001b[0m\u001b[1m10.6212 \u001b[0m\u001b[1m \u001b[0m│\u001b[1m \u001b[0m\u001b[1m 1.2665  \u001b[0m\u001b[1m \u001b[0m│\n",
       "│\u001b[1m \u001b[0m\u001b[1m2025-01-08\u001b[0m\u001b[1m \u001b[0m│\u001b[1m \u001b[0m\u001b[1m  AU   \u001b[0m\u001b[1m \u001b[0m│\u001b[1m \u001b[0m\u001b[1m Blackmans  \u001b[0m\u001b[1m \u001b[0m│\u001b[1m \u001b[0m\u001b[1m    93    \u001b[0m\u001b[1m \u001b[0m│\u001b[1m \u001b[0m\u001b[1m   74   \u001b[0m\u001b[1m \u001b[0m│\u001b[1m \u001b[0m\u001b[1m   15.07    \u001b[0m\u001b[1m \u001b[0m│\u001b[1m \u001b[0m\u001b[1m   2.07    \u001b[0m\u001b[1m \u001b[0m│\u001b[1m \u001b[0m\u001b[1m-43.0167\u001b[0m\u001b[1m \u001b[0m│\u001b[1m \u001b[0m\u001b[1m147.3167 \u001b[0m\u001b[1m \u001b[0m│\n",
       "│\u001b[1m            \u001b[0m│\u001b[1m         \u001b[0m│\u001b[1m \u001b[0m\u001b[1m    Bay     \u001b[0m\u001b[1m \u001b[0m│\u001b[1m            \u001b[0m│\u001b[1m          \u001b[0m│\u001b[1m              \u001b[0m│\u001b[1m             \u001b[0m│\u001b[1m          \u001b[0m│\u001b[1m           \u001b[0m│\n",
       "│\u001b[1m \u001b[0m\u001b[1m2025-01-08\u001b[0m\u001b[1m \u001b[0m│\u001b[1m \u001b[0m\u001b[1m  EC   \u001b[0m\u001b[1m \u001b[0m│\u001b[1m \u001b[0m\u001b[1mPuerto Ayora\u001b[0m\u001b[1m \u001b[0m│\u001b[1m \u001b[0m\u001b[1m    91    \u001b[0m\u001b[1m \u001b[0m│\u001b[1m \u001b[0m\u001b[1m   94   \u001b[0m\u001b[1m \u001b[0m│\u001b[1m \u001b[0m\u001b[1m   25.31    \u001b[0m\u001b[1m \u001b[0m│\u001b[1m \u001b[0m\u001b[1m   2.68    \u001b[0m\u001b[1m \u001b[0m│\u001b[1m \u001b[0m\u001b[1m-0.7393 \u001b[0m\u001b[1m \u001b[0m│\u001b[1m \u001b[0m\u001b[1m-90.3518 \u001b[0m\u001b[1m \u001b[0m│\n",
       "│\u001b[1m \u001b[0m\u001b[1m2025-01-08\u001b[0m\u001b[1m \u001b[0m│\u001b[1m \u001b[0m\u001b[1m  ZA   \u001b[0m\u001b[1m \u001b[0m│\u001b[1m \u001b[0m\u001b[1mPort Alfred \u001b[0m\u001b[1m \u001b[0m│\u001b[1m \u001b[0m\u001b[1m    5     \u001b[0m\u001b[1m \u001b[0m│\u001b[1m \u001b[0m\u001b[1m   89   \u001b[0m\u001b[1m \u001b[0m│\u001b[1m \u001b[0m\u001b[1m    20.1    \u001b[0m\u001b[1m \u001b[0m│\u001b[1m \u001b[0m\u001b[1m   0.45    \u001b[0m\u001b[1m \u001b[0m│\u001b[1m \u001b[0m\u001b[1m-33.5906\u001b[0m\u001b[1m \u001b[0m│\u001b[1m \u001b[0m\u001b[1m 26.891  \u001b[0m\u001b[1m \u001b[0m│\n",
       "└────────────┴─────────┴──────────────┴────────────┴──────────┴──────────────┴─────────────┴──────────┴───────────┘\n"
      ]
     },
     "metadata": {},
     "output_type": "display_data"
    }
   ],
   "source": [
    "#city  and country data transform in capital letter \n",
    "city_data_df['City'] = city_data_df['City'].str.title()\n",
    "city_data_df['Country'] = city_data_df['Country'].str.upper()\n",
    "# Initialize the rich console\n",
    "console = Console()\n",
    "\n",
    "# Function to print the DataFrame with Rich\n",
    "def print_df_with_rich(df):\n",
    "    # Create a Rich Table object\n",
    "    table = Table(title=\"City Weather Data\")\n",
    "\n",
    "    # Add columns dynamically based on the DataFrame\n",
    "    for column in df.columns:\n",
    "        table.add_column(column, justify=\"center\", style=\"bold\")\n",
    "\n",
    "    # Add rows dynamically based on the DataFrame data\n",
    "    for _, row in df.iterrows():\n",
    "        table.add_row(*[str(value) for value in row])\n",
    "\n",
    "    # Print the table using Rich\n",
    "    console.print(table)\n",
    "\n",
    "# Call the function to print the modified DataFrame with Rich\n",
    "print_df_with_rich(city_data_df.head(10))"
   ]
  },
  {
   "cell_type": "code",
   "execution_count": 25,
   "id": "ebd85ca9-91f8-44cd-aacb-90854a9cb8f1",
   "metadata": {},
   "outputs": [
    {
     "data": {
      "text/html": [
       "<pre style=\"white-space:pre;overflow-x:auto;line-height:normal;font-family:Menlo,'DejaVu Sans Mono',consolas,'Courier New',monospace\"><span style=\"font-style: italic\">                                    City and Country Data with Capital Letters                                     </span>\n",
       "┏━━━━━━━━━━━━┳━━━━━━━━━┳━━━━━━━━━━━━━━┳━━━━━━━━━━━━┳━━━━━━━━━━┳━━━━━━━━━━━━━━┳━━━━━━━━━━━━━┳━━━━━━━━━━┳━━━━━━━━━━━┓\n",
       "┃<span style=\"color: #008080; text-decoration-color: #008080; font-weight: bold\">    Date    </span>┃<span style=\"color: #008080; text-decoration-color: #008080; font-weight: bold\"> Country </span>┃<span style=\"color: #008080; text-decoration-color: #008080; font-weight: bold\">     City     </span>┃<span style=\"color: #008080; text-decoration-color: #008080; font-weight: bold\"> Cloudiness </span>┃<span style=\"color: #008080; text-decoration-color: #008080; font-weight: bold\"> Humidity </span>┃<span style=\"color: #008080; text-decoration-color: #008080; font-weight: bold\"> Maximum_Tem… </span>┃<span style=\"color: #008080; text-decoration-color: #008080; font-weight: bold\"> Wind_Speed… </span>┃<span style=\"color: #008080; text-decoration-color: #008080; font-weight: bold\">   Lat    </span>┃<span style=\"color: #008080; text-decoration-color: #008080; font-weight: bold\">    Lng    </span>┃\n",
       "┡━━━━━━━━━━━━╇━━━━━━━━━╇━━━━━━━━━━━━━━╇━━━━━━━━━━━━╇━━━━━━━━━━╇━━━━━━━━━━━━━━╇━━━━━━━━━━━━━╇━━━━━━━━━━╇━━━━━━━━━━━┩\n",
       "│<span style=\"color: #bf7fbf; text-decoration-color: #bf7fbf; font-weight: bold\"> 2025-01-08 </span>│<span style=\"color: #bf7fbf; text-decoration-color: #bf7fbf; font-weight: bold\">   US    </span>│<span style=\"color: #bf7fbf; text-decoration-color: #bf7fbf; font-weight: bold\">  Brigantine  </span>│<span style=\"color: #bf7fbf; text-decoration-color: #bf7fbf; font-weight: bold\">     20     </span>│<span style=\"color: #bf7fbf; text-decoration-color: #bf7fbf; font-weight: bold\">    52    </span>│<span style=\"color: #bf7fbf; text-decoration-color: #bf7fbf; font-weight: bold\">    -0.48     </span>│<span style=\"color: #bf7fbf; text-decoration-color: #bf7fbf; font-weight: bold\">    10.29    </span>│<span style=\"color: #bf7fbf; text-decoration-color: #bf7fbf; font-weight: bold\"> 39.4101  </span>│<span style=\"color: #bf7fbf; text-decoration-color: #bf7fbf; font-weight: bold\"> -74.3646  </span>│\n",
       "├────────────┼─────────┼──────────────┼────────────┼──────────┼──────────────┼─────────────┼──────────┼───────────┤\n",
       "│<span style=\"color: #800080; text-decoration-color: #800080; font-weight: bold\"> 2025-01-08 </span>│<span style=\"color: #800080; text-decoration-color: #800080; font-weight: bold\">   NZ    </span>│<span style=\"color: #800080; text-decoration-color: #800080; font-weight: bold\">   Waitangi   </span>│<span style=\"color: #800080; text-decoration-color: #800080; font-weight: bold\">    100     </span>│<span style=\"color: #800080; text-decoration-color: #800080; font-weight: bold\">    98    </span>│<span style=\"color: #800080; text-decoration-color: #800080; font-weight: bold\">    11.57     </span>│<span style=\"color: #800080; text-decoration-color: #800080; font-weight: bold\">    1.79     </span>│<span style=\"color: #800080; text-decoration-color: #800080; font-weight: bold\"> -43.9535 </span>│<span style=\"color: #800080; text-decoration-color: #800080; font-weight: bold\"> -176.5597 </span>│\n",
       "├────────────┼─────────┼──────────────┼────────────┼──────────┼──────────────┼─────────────┼──────────┼───────────┤\n",
       "│<span style=\"color: #bf7fbf; text-decoration-color: #bf7fbf; font-weight: bold\"> 2025-01-08 </span>│<span style=\"color: #bf7fbf; text-decoration-color: #bf7fbf; font-weight: bold\">   US    </span>│<span style=\"color: #bf7fbf; text-decoration-color: #bf7fbf; font-weight: bold\">    Bethel    </span>│<span style=\"color: #bf7fbf; text-decoration-color: #bf7fbf; font-weight: bold\">     0      </span>│<span style=\"color: #bf7fbf; text-decoration-color: #bf7fbf; font-weight: bold\">    41    </span>│<span style=\"color: #bf7fbf; text-decoration-color: #bf7fbf; font-weight: bold\">    -1.66     </span>│<span style=\"color: #bf7fbf; text-decoration-color: #bf7fbf; font-weight: bold\">    8.75     </span>│<span style=\"color: #bf7fbf; text-decoration-color: #bf7fbf; font-weight: bold\"> 41.3712  </span>│<span style=\"color: #bf7fbf; text-decoration-color: #bf7fbf; font-weight: bold\">  -73.414  </span>│\n",
       "├────────────┼─────────┼──────────────┼────────────┼──────────┼──────────────┼─────────────┼──────────┼───────────┤\n",
       "│<span style=\"color: #800080; text-decoration-color: #800080; font-weight: bold\"> 2025-01-08 </span>│<span style=\"color: #800080; text-decoration-color: #800080; font-weight: bold\">   TF    </span>│<span style=\"color: #800080; text-decoration-color: #800080; font-weight: bold\"> Port-Aux-Fr… </span>│<span style=\"color: #800080; text-decoration-color: #800080; font-weight: bold\">     13     </span>│<span style=\"color: #800080; text-decoration-color: #800080; font-weight: bold\">    89    </span>│<span style=\"color: #800080; text-decoration-color: #800080; font-weight: bold\">     5.41     </span>│<span style=\"color: #800080; text-decoration-color: #800080; font-weight: bold\">    8.37     </span>│<span style=\"color: #800080; text-decoration-color: #800080; font-weight: bold\">  -49.35  </span>│<span style=\"color: #800080; text-decoration-color: #800080; font-weight: bold\">  70.2167  </span>│\n",
       "├────────────┼─────────┼──────────────┼────────────┼──────────┼──────────────┼─────────────┼──────────┼───────────┤\n",
       "│<span style=\"color: #bf7fbf; text-decoration-color: #bf7fbf; font-weight: bold\"> 2025-01-08 </span>│<span style=\"color: #bf7fbf; text-decoration-color: #bf7fbf; font-weight: bold\">   MH    </span>│<span style=\"color: #bf7fbf; text-decoration-color: #bf7fbf; font-weight: bold\">    Utrik     </span>│<span style=\"color: #bf7fbf; text-decoration-color: #bf7fbf; font-weight: bold\">     8      </span>│<span style=\"color: #bf7fbf; text-decoration-color: #bf7fbf; font-weight: bold\">    82    </span>│<span style=\"color: #bf7fbf; text-decoration-color: #bf7fbf; font-weight: bold\">    27.07     </span>│<span style=\"color: #bf7fbf; text-decoration-color: #bf7fbf; font-weight: bold\">    9.84     </span>│<span style=\"color: #bf7fbf; text-decoration-color: #bf7fbf; font-weight: bold\"> 11.2278  </span>│<span style=\"color: #bf7fbf; text-decoration-color: #bf7fbf; font-weight: bold\"> 169.8474  </span>│\n",
       "├────────────┼─────────┼──────────────┼────────────┼──────────┼──────────────┼─────────────┼──────────┼───────────┤\n",
       "│<span style=\"color: #800080; text-decoration-color: #800080; font-weight: bold\"> 2025-01-08 </span>│<span style=\"color: #800080; text-decoration-color: #800080; font-weight: bold\">   ZA    </span>│<span style=\"color: #800080; text-decoration-color: #800080; font-weight: bold\">   Hermanus   </span>│<span style=\"color: #800080; text-decoration-color: #800080; font-weight: bold\">     7      </span>│<span style=\"color: #800080; text-decoration-color: #800080; font-weight: bold\">    82    </span>│<span style=\"color: #800080; text-decoration-color: #800080; font-weight: bold\">    20.45     </span>│<span style=\"color: #800080; text-decoration-color: #800080; font-weight: bold\">    1.95     </span>│<span style=\"color: #800080; text-decoration-color: #800080; font-weight: bold\"> -34.4187 </span>│<span style=\"color: #800080; text-decoration-color: #800080; font-weight: bold\">  19.2345  </span>│\n",
       "├────────────┼─────────┼──────────────┼────────────┼──────────┼──────────────┼─────────────┼──────────┼───────────┤\n",
       "│<span style=\"color: #bf7fbf; text-decoration-color: #bf7fbf; font-weight: bold\"> 2025-01-08 </span>│<span style=\"color: #bf7fbf; text-decoration-color: #bf7fbf; font-weight: bold\">   BJ    </span>│<span style=\"color: #bf7fbf; text-decoration-color: #bf7fbf; font-weight: bold\">  Tanguieta   </span>│<span style=\"color: #bf7fbf; text-decoration-color: #bf7fbf; font-weight: bold\">     36     </span>│<span style=\"color: #bf7fbf; text-decoration-color: #bf7fbf; font-weight: bold\">    14    </span>│<span style=\"color: #bf7fbf; text-decoration-color: #bf7fbf; font-weight: bold\">    29.39     </span>│<span style=\"color: #bf7fbf; text-decoration-color: #bf7fbf; font-weight: bold\">    2.73     </span>│<span style=\"color: #bf7fbf; text-decoration-color: #bf7fbf; font-weight: bold\"> 10.6212  </span>│<span style=\"color: #bf7fbf; text-decoration-color: #bf7fbf; font-weight: bold\">  1.2665   </span>│\n",
       "├────────────┼─────────┼──────────────┼────────────┼──────────┼──────────────┼─────────────┼──────────┼───────────┤\n",
       "│<span style=\"color: #800080; text-decoration-color: #800080; font-weight: bold\"> 2025-01-08 </span>│<span style=\"color: #800080; text-decoration-color: #800080; font-weight: bold\">   AU    </span>│<span style=\"color: #800080; text-decoration-color: #800080; font-weight: bold\">  Blackmans   </span>│<span style=\"color: #800080; text-decoration-color: #800080; font-weight: bold\">     93     </span>│<span style=\"color: #800080; text-decoration-color: #800080; font-weight: bold\">    74    </span>│<span style=\"color: #800080; text-decoration-color: #800080; font-weight: bold\">    15.07     </span>│<span style=\"color: #800080; text-decoration-color: #800080; font-weight: bold\">    2.07     </span>│<span style=\"color: #800080; text-decoration-color: #800080; font-weight: bold\"> -43.0167 </span>│<span style=\"color: #800080; text-decoration-color: #800080; font-weight: bold\"> 147.3167  </span>│\n",
       "│<span style=\"color: #800080; text-decoration-color: #800080; font-weight: bold\">            </span>│<span style=\"color: #800080; text-decoration-color: #800080; font-weight: bold\">         </span>│<span style=\"color: #800080; text-decoration-color: #800080; font-weight: bold\">     Bay      </span>│<span style=\"color: #800080; text-decoration-color: #800080; font-weight: bold\">            </span>│<span style=\"color: #800080; text-decoration-color: #800080; font-weight: bold\">          </span>│<span style=\"color: #800080; text-decoration-color: #800080; font-weight: bold\">              </span>│<span style=\"color: #800080; text-decoration-color: #800080; font-weight: bold\">             </span>│<span style=\"color: #800080; text-decoration-color: #800080; font-weight: bold\">          </span>│<span style=\"color: #800080; text-decoration-color: #800080; font-weight: bold\">           </span>│\n",
       "├────────────┼─────────┼──────────────┼────────────┼──────────┼──────────────┼─────────────┼──────────┼───────────┤\n",
       "│<span style=\"color: #bf7fbf; text-decoration-color: #bf7fbf; font-weight: bold\"> 2025-01-08 </span>│<span style=\"color: #bf7fbf; text-decoration-color: #bf7fbf; font-weight: bold\">   EC    </span>│<span style=\"color: #bf7fbf; text-decoration-color: #bf7fbf; font-weight: bold\"> Puerto Ayora </span>│<span style=\"color: #bf7fbf; text-decoration-color: #bf7fbf; font-weight: bold\">     91     </span>│<span style=\"color: #bf7fbf; text-decoration-color: #bf7fbf; font-weight: bold\">    94    </span>│<span style=\"color: #bf7fbf; text-decoration-color: #bf7fbf; font-weight: bold\">    25.31     </span>│<span style=\"color: #bf7fbf; text-decoration-color: #bf7fbf; font-weight: bold\">    2.68     </span>│<span style=\"color: #bf7fbf; text-decoration-color: #bf7fbf; font-weight: bold\"> -0.7393  </span>│<span style=\"color: #bf7fbf; text-decoration-color: #bf7fbf; font-weight: bold\"> -90.3518  </span>│\n",
       "├────────────┼─────────┼──────────────┼────────────┼──────────┼──────────────┼─────────────┼──────────┼───────────┤\n",
       "│<span style=\"color: #800080; text-decoration-color: #800080; font-weight: bold\"> 2025-01-08 </span>│<span style=\"color: #800080; text-decoration-color: #800080; font-weight: bold\">   ZA    </span>│<span style=\"color: #800080; text-decoration-color: #800080; font-weight: bold\"> Port Alfred  </span>│<span style=\"color: #800080; text-decoration-color: #800080; font-weight: bold\">     5      </span>│<span style=\"color: #800080; text-decoration-color: #800080; font-weight: bold\">    89    </span>│<span style=\"color: #800080; text-decoration-color: #800080; font-weight: bold\">     20.1     </span>│<span style=\"color: #800080; text-decoration-color: #800080; font-weight: bold\">    0.45     </span>│<span style=\"color: #800080; text-decoration-color: #800080; font-weight: bold\"> -33.5906 </span>│<span style=\"color: #800080; text-decoration-color: #800080; font-weight: bold\">  26.891   </span>│\n",
       "└────────────┴─────────┴──────────────┴────────────┴──────────┴──────────────┴─────────────┴──────────┴───────────┘\n",
       "</pre>\n"
      ],
      "text/plain": [
       "\u001b[3m                                    City and Country Data with Capital Letters                                     \u001b[0m\n",
       "┏━━━━━━━━━━━━┳━━━━━━━━━┳━━━━━━━━━━━━━━┳━━━━━━━━━━━━┳━━━━━━━━━━┳━━━━━━━━━━━━━━┳━━━━━━━━━━━━━┳━━━━━━━━━━┳━━━━━━━━━━━┓\n",
       "┃\u001b[1;36m \u001b[0m\u001b[1;36m   Date   \u001b[0m\u001b[1;36m \u001b[0m┃\u001b[1;36m \u001b[0m\u001b[1;36mCountry\u001b[0m\u001b[1;36m \u001b[0m┃\u001b[1;36m \u001b[0m\u001b[1;36m    City    \u001b[0m\u001b[1;36m \u001b[0m┃\u001b[1;36m \u001b[0m\u001b[1;36mCloudiness\u001b[0m\u001b[1;36m \u001b[0m┃\u001b[1;36m \u001b[0m\u001b[1;36mHumidity\u001b[0m\u001b[1;36m \u001b[0m┃\u001b[1;36m \u001b[0m\u001b[1;36mMaximum_Tem…\u001b[0m\u001b[1;36m \u001b[0m┃\u001b[1;36m \u001b[0m\u001b[1;36mWind_Speed…\u001b[0m\u001b[1;36m \u001b[0m┃\u001b[1;36m \u001b[0m\u001b[1;36m  Lat   \u001b[0m\u001b[1;36m \u001b[0m┃\u001b[1;36m \u001b[0m\u001b[1;36m   Lng   \u001b[0m\u001b[1;36m \u001b[0m┃\n",
       "┡━━━━━━━━━━━━╇━━━━━━━━━╇━━━━━━━━━━━━━━╇━━━━━━━━━━━━╇━━━━━━━━━━╇━━━━━━━━━━━━━━╇━━━━━━━━━━━━━╇━━━━━━━━━━╇━━━━━━━━━━━┩\n",
       "│\u001b[1;2;35m \u001b[0m\u001b[1;2;35m2025-01-08\u001b[0m\u001b[1;2;35m \u001b[0m│\u001b[1;2;35m \u001b[0m\u001b[1;2;35m  US   \u001b[0m\u001b[1;2;35m \u001b[0m│\u001b[1;2;35m \u001b[0m\u001b[1;2;35m Brigantine \u001b[0m\u001b[1;2;35m \u001b[0m│\u001b[1;2;35m \u001b[0m\u001b[1;2;35m    20    \u001b[0m\u001b[1;2;35m \u001b[0m│\u001b[1;2;35m \u001b[0m\u001b[1;2;35m   52   \u001b[0m\u001b[1;2;35m \u001b[0m│\u001b[1;2;35m \u001b[0m\u001b[1;2;35m   -0.48    \u001b[0m\u001b[1;2;35m \u001b[0m│\u001b[1;2;35m \u001b[0m\u001b[1;2;35m   10.29   \u001b[0m\u001b[1;2;35m \u001b[0m│\u001b[1;2;35m \u001b[0m\u001b[1;2;35m39.4101 \u001b[0m\u001b[1;2;35m \u001b[0m│\u001b[1;2;35m \u001b[0m\u001b[1;2;35m-74.3646 \u001b[0m\u001b[1;2;35m \u001b[0m│\n",
       "├────────────┼─────────┼──────────────┼────────────┼──────────┼──────────────┼─────────────┼──────────┼───────────┤\n",
       "│\u001b[1;35m \u001b[0m\u001b[1;35m2025-01-08\u001b[0m\u001b[1;35m \u001b[0m│\u001b[1;35m \u001b[0m\u001b[1;35m  NZ   \u001b[0m\u001b[1;35m \u001b[0m│\u001b[1;35m \u001b[0m\u001b[1;35m  Waitangi  \u001b[0m\u001b[1;35m \u001b[0m│\u001b[1;35m \u001b[0m\u001b[1;35m   100    \u001b[0m\u001b[1;35m \u001b[0m│\u001b[1;35m \u001b[0m\u001b[1;35m   98   \u001b[0m\u001b[1;35m \u001b[0m│\u001b[1;35m \u001b[0m\u001b[1;35m   11.57    \u001b[0m\u001b[1;35m \u001b[0m│\u001b[1;35m \u001b[0m\u001b[1;35m   1.79    \u001b[0m\u001b[1;35m \u001b[0m│\u001b[1;35m \u001b[0m\u001b[1;35m-43.9535\u001b[0m\u001b[1;35m \u001b[0m│\u001b[1;35m \u001b[0m\u001b[1;35m-176.5597\u001b[0m\u001b[1;35m \u001b[0m│\n",
       "├────────────┼─────────┼──────────────┼────────────┼──────────┼──────────────┼─────────────┼──────────┼───────────┤\n",
       "│\u001b[1;2;35m \u001b[0m\u001b[1;2;35m2025-01-08\u001b[0m\u001b[1;2;35m \u001b[0m│\u001b[1;2;35m \u001b[0m\u001b[1;2;35m  US   \u001b[0m\u001b[1;2;35m \u001b[0m│\u001b[1;2;35m \u001b[0m\u001b[1;2;35m   Bethel   \u001b[0m\u001b[1;2;35m \u001b[0m│\u001b[1;2;35m \u001b[0m\u001b[1;2;35m    0     \u001b[0m\u001b[1;2;35m \u001b[0m│\u001b[1;2;35m \u001b[0m\u001b[1;2;35m   41   \u001b[0m\u001b[1;2;35m \u001b[0m│\u001b[1;2;35m \u001b[0m\u001b[1;2;35m   -1.66    \u001b[0m\u001b[1;2;35m \u001b[0m│\u001b[1;2;35m \u001b[0m\u001b[1;2;35m   8.75    \u001b[0m\u001b[1;2;35m \u001b[0m│\u001b[1;2;35m \u001b[0m\u001b[1;2;35m41.3712 \u001b[0m\u001b[1;2;35m \u001b[0m│\u001b[1;2;35m \u001b[0m\u001b[1;2;35m -73.414 \u001b[0m\u001b[1;2;35m \u001b[0m│\n",
       "├────────────┼─────────┼──────────────┼────────────┼──────────┼──────────────┼─────────────┼──────────┼───────────┤\n",
       "│\u001b[1;35m \u001b[0m\u001b[1;35m2025-01-08\u001b[0m\u001b[1;35m \u001b[0m│\u001b[1;35m \u001b[0m\u001b[1;35m  TF   \u001b[0m\u001b[1;35m \u001b[0m│\u001b[1;35m \u001b[0m\u001b[1;35mPort-Aux-Fr…\u001b[0m\u001b[1;35m \u001b[0m│\u001b[1;35m \u001b[0m\u001b[1;35m    13    \u001b[0m\u001b[1;35m \u001b[0m│\u001b[1;35m \u001b[0m\u001b[1;35m   89   \u001b[0m\u001b[1;35m \u001b[0m│\u001b[1;35m \u001b[0m\u001b[1;35m    5.41    \u001b[0m\u001b[1;35m \u001b[0m│\u001b[1;35m \u001b[0m\u001b[1;35m   8.37    \u001b[0m\u001b[1;35m \u001b[0m│\u001b[1;35m \u001b[0m\u001b[1;35m -49.35 \u001b[0m\u001b[1;35m \u001b[0m│\u001b[1;35m \u001b[0m\u001b[1;35m 70.2167 \u001b[0m\u001b[1;35m \u001b[0m│\n",
       "├────────────┼─────────┼──────────────┼────────────┼──────────┼──────────────┼─────────────┼──────────┼───────────┤\n",
       "│\u001b[1;2;35m \u001b[0m\u001b[1;2;35m2025-01-08\u001b[0m\u001b[1;2;35m \u001b[0m│\u001b[1;2;35m \u001b[0m\u001b[1;2;35m  MH   \u001b[0m\u001b[1;2;35m \u001b[0m│\u001b[1;2;35m \u001b[0m\u001b[1;2;35m   Utrik    \u001b[0m\u001b[1;2;35m \u001b[0m│\u001b[1;2;35m \u001b[0m\u001b[1;2;35m    8     \u001b[0m\u001b[1;2;35m \u001b[0m│\u001b[1;2;35m \u001b[0m\u001b[1;2;35m   82   \u001b[0m\u001b[1;2;35m \u001b[0m│\u001b[1;2;35m \u001b[0m\u001b[1;2;35m   27.07    \u001b[0m\u001b[1;2;35m \u001b[0m│\u001b[1;2;35m \u001b[0m\u001b[1;2;35m   9.84    \u001b[0m\u001b[1;2;35m \u001b[0m│\u001b[1;2;35m \u001b[0m\u001b[1;2;35m11.2278 \u001b[0m\u001b[1;2;35m \u001b[0m│\u001b[1;2;35m \u001b[0m\u001b[1;2;35m169.8474 \u001b[0m\u001b[1;2;35m \u001b[0m│\n",
       "├────────────┼─────────┼──────────────┼────────────┼──────────┼──────────────┼─────────────┼──────────┼───────────┤\n",
       "│\u001b[1;35m \u001b[0m\u001b[1;35m2025-01-08\u001b[0m\u001b[1;35m \u001b[0m│\u001b[1;35m \u001b[0m\u001b[1;35m  ZA   \u001b[0m\u001b[1;35m \u001b[0m│\u001b[1;35m \u001b[0m\u001b[1;35m  Hermanus  \u001b[0m\u001b[1;35m \u001b[0m│\u001b[1;35m \u001b[0m\u001b[1;35m    7     \u001b[0m\u001b[1;35m \u001b[0m│\u001b[1;35m \u001b[0m\u001b[1;35m   82   \u001b[0m\u001b[1;35m \u001b[0m│\u001b[1;35m \u001b[0m\u001b[1;35m   20.45    \u001b[0m\u001b[1;35m \u001b[0m│\u001b[1;35m \u001b[0m\u001b[1;35m   1.95    \u001b[0m\u001b[1;35m \u001b[0m│\u001b[1;35m \u001b[0m\u001b[1;35m-34.4187\u001b[0m\u001b[1;35m \u001b[0m│\u001b[1;35m \u001b[0m\u001b[1;35m 19.2345 \u001b[0m\u001b[1;35m \u001b[0m│\n",
       "├────────────┼─────────┼──────────────┼────────────┼──────────┼──────────────┼─────────────┼──────────┼───────────┤\n",
       "│\u001b[1;2;35m \u001b[0m\u001b[1;2;35m2025-01-08\u001b[0m\u001b[1;2;35m \u001b[0m│\u001b[1;2;35m \u001b[0m\u001b[1;2;35m  BJ   \u001b[0m\u001b[1;2;35m \u001b[0m│\u001b[1;2;35m \u001b[0m\u001b[1;2;35m Tanguieta  \u001b[0m\u001b[1;2;35m \u001b[0m│\u001b[1;2;35m \u001b[0m\u001b[1;2;35m    36    \u001b[0m\u001b[1;2;35m \u001b[0m│\u001b[1;2;35m \u001b[0m\u001b[1;2;35m   14   \u001b[0m\u001b[1;2;35m \u001b[0m│\u001b[1;2;35m \u001b[0m\u001b[1;2;35m   29.39    \u001b[0m\u001b[1;2;35m \u001b[0m│\u001b[1;2;35m \u001b[0m\u001b[1;2;35m   2.73    \u001b[0m\u001b[1;2;35m \u001b[0m│\u001b[1;2;35m \u001b[0m\u001b[1;2;35m10.6212 \u001b[0m\u001b[1;2;35m \u001b[0m│\u001b[1;2;35m \u001b[0m\u001b[1;2;35m 1.2665  \u001b[0m\u001b[1;2;35m \u001b[0m│\n",
       "├────────────┼─────────┼──────────────┼────────────┼──────────┼──────────────┼─────────────┼──────────┼───────────┤\n",
       "│\u001b[1;35m \u001b[0m\u001b[1;35m2025-01-08\u001b[0m\u001b[1;35m \u001b[0m│\u001b[1;35m \u001b[0m\u001b[1;35m  AU   \u001b[0m\u001b[1;35m \u001b[0m│\u001b[1;35m \u001b[0m\u001b[1;35m Blackmans  \u001b[0m\u001b[1;35m \u001b[0m│\u001b[1;35m \u001b[0m\u001b[1;35m    93    \u001b[0m\u001b[1;35m \u001b[0m│\u001b[1;35m \u001b[0m\u001b[1;35m   74   \u001b[0m\u001b[1;35m \u001b[0m│\u001b[1;35m \u001b[0m\u001b[1;35m   15.07    \u001b[0m\u001b[1;35m \u001b[0m│\u001b[1;35m \u001b[0m\u001b[1;35m   2.07    \u001b[0m\u001b[1;35m \u001b[0m│\u001b[1;35m \u001b[0m\u001b[1;35m-43.0167\u001b[0m\u001b[1;35m \u001b[0m│\u001b[1;35m \u001b[0m\u001b[1;35m147.3167 \u001b[0m\u001b[1;35m \u001b[0m│\n",
       "│\u001b[1;35m            \u001b[0m│\u001b[1;35m         \u001b[0m│\u001b[1;35m \u001b[0m\u001b[1;35m    Bay     \u001b[0m\u001b[1;35m \u001b[0m│\u001b[1;35m            \u001b[0m│\u001b[1;35m          \u001b[0m│\u001b[1;35m              \u001b[0m│\u001b[1;35m             \u001b[0m│\u001b[1;35m          \u001b[0m│\u001b[1;35m           \u001b[0m│\n",
       "├────────────┼─────────┼──────────────┼────────────┼──────────┼──────────────┼─────────────┼──────────┼───────────┤\n",
       "│\u001b[1;2;35m \u001b[0m\u001b[1;2;35m2025-01-08\u001b[0m\u001b[1;2;35m \u001b[0m│\u001b[1;2;35m \u001b[0m\u001b[1;2;35m  EC   \u001b[0m\u001b[1;2;35m \u001b[0m│\u001b[1;2;35m \u001b[0m\u001b[1;2;35mPuerto Ayora\u001b[0m\u001b[1;2;35m \u001b[0m│\u001b[1;2;35m \u001b[0m\u001b[1;2;35m    91    \u001b[0m\u001b[1;2;35m \u001b[0m│\u001b[1;2;35m \u001b[0m\u001b[1;2;35m   94   \u001b[0m\u001b[1;2;35m \u001b[0m│\u001b[1;2;35m \u001b[0m\u001b[1;2;35m   25.31    \u001b[0m\u001b[1;2;35m \u001b[0m│\u001b[1;2;35m \u001b[0m\u001b[1;2;35m   2.68    \u001b[0m\u001b[1;2;35m \u001b[0m│\u001b[1;2;35m \u001b[0m\u001b[1;2;35m-0.7393 \u001b[0m\u001b[1;2;35m \u001b[0m│\u001b[1;2;35m \u001b[0m\u001b[1;2;35m-90.3518 \u001b[0m\u001b[1;2;35m \u001b[0m│\n",
       "├────────────┼─────────┼──────────────┼────────────┼──────────┼──────────────┼─────────────┼──────────┼───────────┤\n",
       "│\u001b[1;35m \u001b[0m\u001b[1;35m2025-01-08\u001b[0m\u001b[1;35m \u001b[0m│\u001b[1;35m \u001b[0m\u001b[1;35m  ZA   \u001b[0m\u001b[1;35m \u001b[0m│\u001b[1;35m \u001b[0m\u001b[1;35mPort Alfred \u001b[0m\u001b[1;35m \u001b[0m│\u001b[1;35m \u001b[0m\u001b[1;35m    5     \u001b[0m\u001b[1;35m \u001b[0m│\u001b[1;35m \u001b[0m\u001b[1;35m   89   \u001b[0m\u001b[1;35m \u001b[0m│\u001b[1;35m \u001b[0m\u001b[1;35m    20.1    \u001b[0m\u001b[1;35m \u001b[0m│\u001b[1;35m \u001b[0m\u001b[1;35m   0.45    \u001b[0m\u001b[1;35m \u001b[0m│\u001b[1;35m \u001b[0m\u001b[1;35m-33.5906\u001b[0m\u001b[1;35m \u001b[0m│\u001b[1;35m \u001b[0m\u001b[1;35m 26.891  \u001b[0m\u001b[1;35m \u001b[0m│\n",
       "└────────────┴─────────┴──────────────┴────────────┴──────────┴──────────────┴─────────────┴──────────┴───────────┘\n"
      ]
     },
     "metadata": {},
     "output_type": "display_data"
    }
   ],
   "source": [
    "#Transfor the city and country starting with capital letter\n",
    "# Create a rich Console object\n",
    "console = Console()\n",
    "\n",
    "# Create a rich Table object with a title and enhanced styles\n",
    "table = Table(title=\"City and Country Data with Capital Letters\", show_header=True, header_style=\"bold cyan\", show_lines=True)\n",
    "\n",
    "# Add columns dynamically from the DataFrame\n",
    "for column in city_data_df.columns:\n",
    "    table.add_column(column, style=\"bold magenta\", justify=\"center\")\n",
    "\n",
    "# Add rows from the DataFrame (only the first 10 rows)\n",
    "for idx, row in city_data_df.head(10).iterrows():\n",
    "    # Apply alternating row styles\n",
    "    if idx % 2 == 0:\n",
    "        table.add_row(*[str(value) for value in row], style=\"dim\")\n",
    "    else:\n",
    "        table.add_row(*[str(value) for value in row])\n",
    "\n",
    "# Print the table with rich formatting\n",
    "console.print(table)"
   ]
  },
  {
   "cell_type": "code",
   "execution_count": 26,
   "id": "b6a8614e-11a0-49aa-9367-af523170e778",
   "metadata": {},
   "outputs": [
    {
     "data": {
      "text/html": [
       "<pre style=\"white-space:pre;overflow-x:auto;line-height:normal;font-family:Menlo,'DejaVu Sans Mono',consolas,'Courier New',monospace\"><span style=\"font-style: italic\">                                        City Weather Data (With Fahrenheit)                                        </span>\n",
       "┏━━━━━━━━━━━┳━━━━━━━━━┳━━━━━━━━━━━┳━━━━━━━━━━━┳━━━━━━━━━━┳━━━━━━━━━━━┳━━━━━━━━━━┳━━━━━━━━━━━┳━━━━━━━━━━┳━━━━━━━━━━┓\n",
       "┃<span style=\"color: #008080; text-decoration-color: #008080; font-weight: bold\">   Date    </span>┃<span style=\"color: #008080; text-decoration-color: #008080; font-weight: bold\"> Country </span>┃<span style=\"color: #008080; text-decoration-color: #008080; font-weight: bold\">   City    </span>┃<span style=\"color: #008080; text-decoration-color: #008080; font-weight: bold\"> Cloudine… </span>┃<span style=\"color: #008080; text-decoration-color: #008080; font-weight: bold\"> Humidity </span>┃<span style=\"color: #008080; text-decoration-color: #008080; font-weight: bold\"> Maximum_… </span>┃<span style=\"color: #008080; text-decoration-color: #008080; font-weight: bold\"> Maximum… </span>┃<span style=\"color: #008080; text-decoration-color: #008080; font-weight: bold\"> Wind_Spe… </span>┃<span style=\"color: #008080; text-decoration-color: #008080; font-weight: bold\">   Lat    </span>┃<span style=\"color: #008080; text-decoration-color: #008080; font-weight: bold\">   Lng    </span>┃\n",
       "┡━━━━━━━━━━━╇━━━━━━━━━╇━━━━━━━━━━━╇━━━━━━━━━━━╇━━━━━━━━━━╇━━━━━━━━━━━╇━━━━━━━━━━╇━━━━━━━━━━━╇━━━━━━━━━━╇━━━━━━━━━━┩\n",
       "│<span style=\"color: #bf7fbf; text-decoration-color: #bf7fbf; font-weight: bold\"> 2025-01-… </span>│<span style=\"color: #bf7fbf; text-decoration-color: #bf7fbf; font-weight: bold\">   US    </span>│<span style=\"color: #bf7fbf; text-decoration-color: #bf7fbf; font-weight: bold\"> Briganti… </span>│<span style=\"color: #bf7fbf; text-decoration-color: #bf7fbf; font-weight: bold\">    20     </span>│<span style=\"color: #bf7fbf; text-decoration-color: #bf7fbf; font-weight: bold\">    52    </span>│<span style=\"color: #bf7fbf; text-decoration-color: #bf7fbf; font-weight: bold\">   -0.48   </span>│<span style=\"color: #bf7fbf; text-decoration-color: #bf7fbf; font-weight: bold\">  31.136  </span>│<span style=\"color: #bf7fbf; text-decoration-color: #bf7fbf; font-weight: bold\">   10.29   </span>│<span style=\"color: #bf7fbf; text-decoration-color: #bf7fbf; font-weight: bold\"> 39.4101  </span>│<span style=\"color: #bf7fbf; text-decoration-color: #bf7fbf; font-weight: bold\"> -74.3646 </span>│\n",
       "├───────────┼─────────┼───────────┼───────────┼──────────┼───────────┼──────────┼───────────┼──────────┼──────────┤\n",
       "│<span style=\"color: #800080; text-decoration-color: #800080; font-weight: bold\"> 2025-01-… </span>│<span style=\"color: #800080; text-decoration-color: #800080; font-weight: bold\">   NZ    </span>│<span style=\"color: #800080; text-decoration-color: #800080; font-weight: bold\"> Waitangi  </span>│<span style=\"color: #800080; text-decoration-color: #800080; font-weight: bold\">    100    </span>│<span style=\"color: #800080; text-decoration-color: #800080; font-weight: bold\">    98    </span>│<span style=\"color: #800080; text-decoration-color: #800080; font-weight: bold\">   11.57   </span>│<span style=\"color: #800080; text-decoration-color: #800080; font-weight: bold\">  52.826  </span>│<span style=\"color: #800080; text-decoration-color: #800080; font-weight: bold\">   1.79    </span>│<span style=\"color: #800080; text-decoration-color: #800080; font-weight: bold\"> -43.9535 </span>│<span style=\"color: #800080; text-decoration-color: #800080; font-weight: bold\"> -176.55… </span>│\n",
       "├───────────┼─────────┼───────────┼───────────┼──────────┼───────────┼──────────┼───────────┼──────────┼──────────┤\n",
       "│<span style=\"color: #bf7fbf; text-decoration-color: #bf7fbf; font-weight: bold\"> 2025-01-… </span>│<span style=\"color: #bf7fbf; text-decoration-color: #bf7fbf; font-weight: bold\">   US    </span>│<span style=\"color: #bf7fbf; text-decoration-color: #bf7fbf; font-weight: bold\">  Bethel   </span>│<span style=\"color: #bf7fbf; text-decoration-color: #bf7fbf; font-weight: bold\">     0     </span>│<span style=\"color: #bf7fbf; text-decoration-color: #bf7fbf; font-weight: bold\">    41    </span>│<span style=\"color: #bf7fbf; text-decoration-color: #bf7fbf; font-weight: bold\">   -1.66   </span>│<span style=\"color: #bf7fbf; text-decoration-color: #bf7fbf; font-weight: bold\">  29.012  </span>│<span style=\"color: #bf7fbf; text-decoration-color: #bf7fbf; font-weight: bold\">   8.75    </span>│<span style=\"color: #bf7fbf; text-decoration-color: #bf7fbf; font-weight: bold\"> 41.3712  </span>│<span style=\"color: #bf7fbf; text-decoration-color: #bf7fbf; font-weight: bold\"> -73.414  </span>│\n",
       "├───────────┼─────────┼───────────┼───────────┼──────────┼───────────┼──────────┼───────────┼──────────┼──────────┤\n",
       "│<span style=\"color: #800080; text-decoration-color: #800080; font-weight: bold\"> 2025-01-… </span>│<span style=\"color: #800080; text-decoration-color: #800080; font-weight: bold\">   TF    </span>│<span style=\"color: #800080; text-decoration-color: #800080; font-weight: bold\"> Port-Aux… </span>│<span style=\"color: #800080; text-decoration-color: #800080; font-weight: bold\">    13     </span>│<span style=\"color: #800080; text-decoration-color: #800080; font-weight: bold\">    89    </span>│<span style=\"color: #800080; text-decoration-color: #800080; font-weight: bold\">   5.41    </span>│<span style=\"color: #800080; text-decoration-color: #800080; font-weight: bold\">  41.738  </span>│<span style=\"color: #800080; text-decoration-color: #800080; font-weight: bold\">   8.37    </span>│<span style=\"color: #800080; text-decoration-color: #800080; font-weight: bold\">  -49.35  </span>│<span style=\"color: #800080; text-decoration-color: #800080; font-weight: bold\"> 70.2167  </span>│\n",
       "├───────────┼─────────┼───────────┼───────────┼──────────┼───────────┼──────────┼───────────┼──────────┼──────────┤\n",
       "│<span style=\"color: #bf7fbf; text-decoration-color: #bf7fbf; font-weight: bold\"> 2025-01-… </span>│<span style=\"color: #bf7fbf; text-decoration-color: #bf7fbf; font-weight: bold\">   MH    </span>│<span style=\"color: #bf7fbf; text-decoration-color: #bf7fbf; font-weight: bold\">   Utrik   </span>│<span style=\"color: #bf7fbf; text-decoration-color: #bf7fbf; font-weight: bold\">     8     </span>│<span style=\"color: #bf7fbf; text-decoration-color: #bf7fbf; font-weight: bold\">    82    </span>│<span style=\"color: #bf7fbf; text-decoration-color: #bf7fbf; font-weight: bold\">   27.07   </span>│<span style=\"color: #bf7fbf; text-decoration-color: #bf7fbf; font-weight: bold\">  80.726  </span>│<span style=\"color: #bf7fbf; text-decoration-color: #bf7fbf; font-weight: bold\">   9.84    </span>│<span style=\"color: #bf7fbf; text-decoration-color: #bf7fbf; font-weight: bold\"> 11.2278  </span>│<span style=\"color: #bf7fbf; text-decoration-color: #bf7fbf; font-weight: bold\"> 169.8474 </span>│\n",
       "├───────────┼─────────┼───────────┼───────────┼──────────┼───────────┼──────────┼───────────┼──────────┼──────────┤\n",
       "│<span style=\"color: #800080; text-decoration-color: #800080; font-weight: bold\"> 2025-01-… </span>│<span style=\"color: #800080; text-decoration-color: #800080; font-weight: bold\">   ZA    </span>│<span style=\"color: #800080; text-decoration-color: #800080; font-weight: bold\"> Hermanus  </span>│<span style=\"color: #800080; text-decoration-color: #800080; font-weight: bold\">     7     </span>│<span style=\"color: #800080; text-decoration-color: #800080; font-weight: bold\">    82    </span>│<span style=\"color: #800080; text-decoration-color: #800080; font-weight: bold\">   20.45   </span>│<span style=\"color: #800080; text-decoration-color: #800080; font-weight: bold\">  68.81   </span>│<span style=\"color: #800080; text-decoration-color: #800080; font-weight: bold\">   1.95    </span>│<span style=\"color: #800080; text-decoration-color: #800080; font-weight: bold\"> -34.4187 </span>│<span style=\"color: #800080; text-decoration-color: #800080; font-weight: bold\"> 19.2345  </span>│\n",
       "├───────────┼─────────┼───────────┼───────────┼──────────┼───────────┼──────────┼───────────┼──────────┼──────────┤\n",
       "│<span style=\"color: #bf7fbf; text-decoration-color: #bf7fbf; font-weight: bold\"> 2025-01-… </span>│<span style=\"color: #bf7fbf; text-decoration-color: #bf7fbf; font-weight: bold\">   BJ    </span>│<span style=\"color: #bf7fbf; text-decoration-color: #bf7fbf; font-weight: bold\"> Tanguieta </span>│<span style=\"color: #bf7fbf; text-decoration-color: #bf7fbf; font-weight: bold\">    36     </span>│<span style=\"color: #bf7fbf; text-decoration-color: #bf7fbf; font-weight: bold\">    14    </span>│<span style=\"color: #bf7fbf; text-decoration-color: #bf7fbf; font-weight: bold\">   29.39   </span>│<span style=\"color: #bf7fbf; text-decoration-color: #bf7fbf; font-weight: bold\">  84.902  </span>│<span style=\"color: #bf7fbf; text-decoration-color: #bf7fbf; font-weight: bold\">   2.73    </span>│<span style=\"color: #bf7fbf; text-decoration-color: #bf7fbf; font-weight: bold\"> 10.6212  </span>│<span style=\"color: #bf7fbf; text-decoration-color: #bf7fbf; font-weight: bold\">  1.2665  </span>│\n",
       "├───────────┼─────────┼───────────┼───────────┼──────────┼───────────┼──────────┼───────────┼──────────┼──────────┤\n",
       "│<span style=\"color: #800080; text-decoration-color: #800080; font-weight: bold\"> 2025-01-… </span>│<span style=\"color: #800080; text-decoration-color: #800080; font-weight: bold\">   AU    </span>│<span style=\"color: #800080; text-decoration-color: #800080; font-weight: bold\"> Blackmans </span>│<span style=\"color: #800080; text-decoration-color: #800080; font-weight: bold\">    93     </span>│<span style=\"color: #800080; text-decoration-color: #800080; font-weight: bold\">    74    </span>│<span style=\"color: #800080; text-decoration-color: #800080; font-weight: bold\">   15.07   </span>│<span style=\"color: #800080; text-decoration-color: #800080; font-weight: bold\">  59.126  </span>│<span style=\"color: #800080; text-decoration-color: #800080; font-weight: bold\">   2.07    </span>│<span style=\"color: #800080; text-decoration-color: #800080; font-weight: bold\"> -43.0167 </span>│<span style=\"color: #800080; text-decoration-color: #800080; font-weight: bold\"> 147.3167 </span>│\n",
       "│<span style=\"color: #800080; text-decoration-color: #800080; font-weight: bold\">           </span>│<span style=\"color: #800080; text-decoration-color: #800080; font-weight: bold\">         </span>│<span style=\"color: #800080; text-decoration-color: #800080; font-weight: bold\">    Bay    </span>│<span style=\"color: #800080; text-decoration-color: #800080; font-weight: bold\">           </span>│<span style=\"color: #800080; text-decoration-color: #800080; font-weight: bold\">          </span>│<span style=\"color: #800080; text-decoration-color: #800080; font-weight: bold\">           </span>│<span style=\"color: #800080; text-decoration-color: #800080; font-weight: bold\">          </span>│<span style=\"color: #800080; text-decoration-color: #800080; font-weight: bold\">           </span>│<span style=\"color: #800080; text-decoration-color: #800080; font-weight: bold\">          </span>│<span style=\"color: #800080; text-decoration-color: #800080; font-weight: bold\">          </span>│\n",
       "├───────────┼─────────┼───────────┼───────────┼──────────┼───────────┼──────────┼───────────┼──────────┼──────────┤\n",
       "│<span style=\"color: #bf7fbf; text-decoration-color: #bf7fbf; font-weight: bold\"> 2025-01-… </span>│<span style=\"color: #bf7fbf; text-decoration-color: #bf7fbf; font-weight: bold\">   EC    </span>│<span style=\"color: #bf7fbf; text-decoration-color: #bf7fbf; font-weight: bold\">  Puerto   </span>│<span style=\"color: #bf7fbf; text-decoration-color: #bf7fbf; font-weight: bold\">    91     </span>│<span style=\"color: #bf7fbf; text-decoration-color: #bf7fbf; font-weight: bold\">    94    </span>│<span style=\"color: #bf7fbf; text-decoration-color: #bf7fbf; font-weight: bold\">   25.31   </span>│<span style=\"color: #bf7fbf; text-decoration-color: #bf7fbf; font-weight: bold\"> 77.5579… </span>│<span style=\"color: #bf7fbf; text-decoration-color: #bf7fbf; font-weight: bold\">   2.68    </span>│<span style=\"color: #bf7fbf; text-decoration-color: #bf7fbf; font-weight: bold\"> -0.7393  </span>│<span style=\"color: #bf7fbf; text-decoration-color: #bf7fbf; font-weight: bold\"> -90.3518 </span>│\n",
       "│<span style=\"color: #bf7fbf; text-decoration-color: #bf7fbf; font-weight: bold\">           </span>│<span style=\"color: #bf7fbf; text-decoration-color: #bf7fbf; font-weight: bold\">         </span>│<span style=\"color: #bf7fbf; text-decoration-color: #bf7fbf; font-weight: bold\">   Ayora   </span>│<span style=\"color: #bf7fbf; text-decoration-color: #bf7fbf; font-weight: bold\">           </span>│<span style=\"color: #bf7fbf; text-decoration-color: #bf7fbf; font-weight: bold\">          </span>│<span style=\"color: #bf7fbf; text-decoration-color: #bf7fbf; font-weight: bold\">           </span>│<span style=\"color: #bf7fbf; text-decoration-color: #bf7fbf; font-weight: bold\">          </span>│<span style=\"color: #bf7fbf; text-decoration-color: #bf7fbf; font-weight: bold\">           </span>│<span style=\"color: #bf7fbf; text-decoration-color: #bf7fbf; font-weight: bold\">          </span>│<span style=\"color: #bf7fbf; text-decoration-color: #bf7fbf; font-weight: bold\">          </span>│\n",
       "├───────────┼─────────┼───────────┼───────────┼──────────┼───────────┼──────────┼───────────┼──────────┼──────────┤\n",
       "│<span style=\"color: #800080; text-decoration-color: #800080; font-weight: bold\"> 2025-01-… </span>│<span style=\"color: #800080; text-decoration-color: #800080; font-weight: bold\">   ZA    </span>│<span style=\"color: #800080; text-decoration-color: #800080; font-weight: bold\">   Port    </span>│<span style=\"color: #800080; text-decoration-color: #800080; font-weight: bold\">     5     </span>│<span style=\"color: #800080; text-decoration-color: #800080; font-weight: bold\">    89    </span>│<span style=\"color: #800080; text-decoration-color: #800080; font-weight: bold\">   20.1    </span>│<span style=\"color: #800080; text-decoration-color: #800080; font-weight: bold\">  68.18   </span>│<span style=\"color: #800080; text-decoration-color: #800080; font-weight: bold\">   0.45    </span>│<span style=\"color: #800080; text-decoration-color: #800080; font-weight: bold\"> -33.5906 </span>│<span style=\"color: #800080; text-decoration-color: #800080; font-weight: bold\">  26.891  </span>│\n",
       "│<span style=\"color: #800080; text-decoration-color: #800080; font-weight: bold\">           </span>│<span style=\"color: #800080; text-decoration-color: #800080; font-weight: bold\">         </span>│<span style=\"color: #800080; text-decoration-color: #800080; font-weight: bold\">  Alfred   </span>│<span style=\"color: #800080; text-decoration-color: #800080; font-weight: bold\">           </span>│<span style=\"color: #800080; text-decoration-color: #800080; font-weight: bold\">          </span>│<span style=\"color: #800080; text-decoration-color: #800080; font-weight: bold\">           </span>│<span style=\"color: #800080; text-decoration-color: #800080; font-weight: bold\">          </span>│<span style=\"color: #800080; text-decoration-color: #800080; font-weight: bold\">           </span>│<span style=\"color: #800080; text-decoration-color: #800080; font-weight: bold\">          </span>│<span style=\"color: #800080; text-decoration-color: #800080; font-weight: bold\">          </span>│\n",
       "└───────────┴─────────┴───────────┴───────────┴──────────┴───────────┴──────────┴───────────┴──────────┴──────────┘\n",
       "</pre>\n"
      ],
      "text/plain": [
       "\u001b[3m                                        City Weather Data (With Fahrenheit)                                        \u001b[0m\n",
       "┏━━━━━━━━━━━┳━━━━━━━━━┳━━━━━━━━━━━┳━━━━━━━━━━━┳━━━━━━━━━━┳━━━━━━━━━━━┳━━━━━━━━━━┳━━━━━━━━━━━┳━━━━━━━━━━┳━━━━━━━━━━┓\n",
       "┃\u001b[1;36m \u001b[0m\u001b[1;36m  Date   \u001b[0m\u001b[1;36m \u001b[0m┃\u001b[1;36m \u001b[0m\u001b[1;36mCountry\u001b[0m\u001b[1;36m \u001b[0m┃\u001b[1;36m \u001b[0m\u001b[1;36m  City   \u001b[0m\u001b[1;36m \u001b[0m┃\u001b[1;36m \u001b[0m\u001b[1;36mCloudine…\u001b[0m\u001b[1;36m \u001b[0m┃\u001b[1;36m \u001b[0m\u001b[1;36mHumidity\u001b[0m\u001b[1;36m \u001b[0m┃\u001b[1;36m \u001b[0m\u001b[1;36mMaximum_…\u001b[0m\u001b[1;36m \u001b[0m┃\u001b[1;36m \u001b[0m\u001b[1;36mMaximum…\u001b[0m\u001b[1;36m \u001b[0m┃\u001b[1;36m \u001b[0m\u001b[1;36mWind_Spe…\u001b[0m\u001b[1;36m \u001b[0m┃\u001b[1;36m \u001b[0m\u001b[1;36m  Lat   \u001b[0m\u001b[1;36m \u001b[0m┃\u001b[1;36m \u001b[0m\u001b[1;36m  Lng   \u001b[0m\u001b[1;36m \u001b[0m┃\n",
       "┡━━━━━━━━━━━╇━━━━━━━━━╇━━━━━━━━━━━╇━━━━━━━━━━━╇━━━━━━━━━━╇━━━━━━━━━━━╇━━━━━━━━━━╇━━━━━━━━━━━╇━━━━━━━━━━╇━━━━━━━━━━┩\n",
       "│\u001b[1;2;35m \u001b[0m\u001b[1;2;35m2025-01-…\u001b[0m\u001b[1;2;35m \u001b[0m│\u001b[1;2;35m \u001b[0m\u001b[1;2;35m  US   \u001b[0m\u001b[1;2;35m \u001b[0m│\u001b[1;2;35m \u001b[0m\u001b[1;2;35mBriganti…\u001b[0m\u001b[1;2;35m \u001b[0m│\u001b[1;2;35m \u001b[0m\u001b[1;2;35m   20    \u001b[0m\u001b[1;2;35m \u001b[0m│\u001b[1;2;35m \u001b[0m\u001b[1;2;35m   52   \u001b[0m\u001b[1;2;35m \u001b[0m│\u001b[1;2;35m \u001b[0m\u001b[1;2;35m  -0.48  \u001b[0m\u001b[1;2;35m \u001b[0m│\u001b[1;2;35m \u001b[0m\u001b[1;2;35m 31.136 \u001b[0m\u001b[1;2;35m \u001b[0m│\u001b[1;2;35m \u001b[0m\u001b[1;2;35m  10.29  \u001b[0m\u001b[1;2;35m \u001b[0m│\u001b[1;2;35m \u001b[0m\u001b[1;2;35m39.4101 \u001b[0m\u001b[1;2;35m \u001b[0m│\u001b[1;2;35m \u001b[0m\u001b[1;2;35m-74.3646\u001b[0m\u001b[1;2;35m \u001b[0m│\n",
       "├───────────┼─────────┼───────────┼───────────┼──────────┼───────────┼──────────┼───────────┼──────────┼──────────┤\n",
       "│\u001b[1;35m \u001b[0m\u001b[1;35m2025-01-…\u001b[0m\u001b[1;35m \u001b[0m│\u001b[1;35m \u001b[0m\u001b[1;35m  NZ   \u001b[0m\u001b[1;35m \u001b[0m│\u001b[1;35m \u001b[0m\u001b[1;35mWaitangi \u001b[0m\u001b[1;35m \u001b[0m│\u001b[1;35m \u001b[0m\u001b[1;35m   100   \u001b[0m\u001b[1;35m \u001b[0m│\u001b[1;35m \u001b[0m\u001b[1;35m   98   \u001b[0m\u001b[1;35m \u001b[0m│\u001b[1;35m \u001b[0m\u001b[1;35m  11.57  \u001b[0m\u001b[1;35m \u001b[0m│\u001b[1;35m \u001b[0m\u001b[1;35m 52.826 \u001b[0m\u001b[1;35m \u001b[0m│\u001b[1;35m \u001b[0m\u001b[1;35m  1.79   \u001b[0m\u001b[1;35m \u001b[0m│\u001b[1;35m \u001b[0m\u001b[1;35m-43.9535\u001b[0m\u001b[1;35m \u001b[0m│\u001b[1;35m \u001b[0m\u001b[1;35m-176.55…\u001b[0m\u001b[1;35m \u001b[0m│\n",
       "├───────────┼─────────┼───────────┼───────────┼──────────┼───────────┼──────────┼───────────┼──────────┼──────────┤\n",
       "│\u001b[1;2;35m \u001b[0m\u001b[1;2;35m2025-01-…\u001b[0m\u001b[1;2;35m \u001b[0m│\u001b[1;2;35m \u001b[0m\u001b[1;2;35m  US   \u001b[0m\u001b[1;2;35m \u001b[0m│\u001b[1;2;35m \u001b[0m\u001b[1;2;35m Bethel  \u001b[0m\u001b[1;2;35m \u001b[0m│\u001b[1;2;35m \u001b[0m\u001b[1;2;35m    0    \u001b[0m\u001b[1;2;35m \u001b[0m│\u001b[1;2;35m \u001b[0m\u001b[1;2;35m   41   \u001b[0m\u001b[1;2;35m \u001b[0m│\u001b[1;2;35m \u001b[0m\u001b[1;2;35m  -1.66  \u001b[0m\u001b[1;2;35m \u001b[0m│\u001b[1;2;35m \u001b[0m\u001b[1;2;35m 29.012 \u001b[0m\u001b[1;2;35m \u001b[0m│\u001b[1;2;35m \u001b[0m\u001b[1;2;35m  8.75   \u001b[0m\u001b[1;2;35m \u001b[0m│\u001b[1;2;35m \u001b[0m\u001b[1;2;35m41.3712 \u001b[0m\u001b[1;2;35m \u001b[0m│\u001b[1;2;35m \u001b[0m\u001b[1;2;35m-73.414 \u001b[0m\u001b[1;2;35m \u001b[0m│\n",
       "├───────────┼─────────┼───────────┼───────────┼──────────┼───────────┼──────────┼───────────┼──────────┼──────────┤\n",
       "│\u001b[1;35m \u001b[0m\u001b[1;35m2025-01-…\u001b[0m\u001b[1;35m \u001b[0m│\u001b[1;35m \u001b[0m\u001b[1;35m  TF   \u001b[0m\u001b[1;35m \u001b[0m│\u001b[1;35m \u001b[0m\u001b[1;35mPort-Aux…\u001b[0m\u001b[1;35m \u001b[0m│\u001b[1;35m \u001b[0m\u001b[1;35m   13    \u001b[0m\u001b[1;35m \u001b[0m│\u001b[1;35m \u001b[0m\u001b[1;35m   89   \u001b[0m\u001b[1;35m \u001b[0m│\u001b[1;35m \u001b[0m\u001b[1;35m  5.41   \u001b[0m\u001b[1;35m \u001b[0m│\u001b[1;35m \u001b[0m\u001b[1;35m 41.738 \u001b[0m\u001b[1;35m \u001b[0m│\u001b[1;35m \u001b[0m\u001b[1;35m  8.37   \u001b[0m\u001b[1;35m \u001b[0m│\u001b[1;35m \u001b[0m\u001b[1;35m -49.35 \u001b[0m\u001b[1;35m \u001b[0m│\u001b[1;35m \u001b[0m\u001b[1;35m70.2167 \u001b[0m\u001b[1;35m \u001b[0m│\n",
       "├───────────┼─────────┼───────────┼───────────┼──────────┼───────────┼──────────┼───────────┼──────────┼──────────┤\n",
       "│\u001b[1;2;35m \u001b[0m\u001b[1;2;35m2025-01-…\u001b[0m\u001b[1;2;35m \u001b[0m│\u001b[1;2;35m \u001b[0m\u001b[1;2;35m  MH   \u001b[0m\u001b[1;2;35m \u001b[0m│\u001b[1;2;35m \u001b[0m\u001b[1;2;35m  Utrik  \u001b[0m\u001b[1;2;35m \u001b[0m│\u001b[1;2;35m \u001b[0m\u001b[1;2;35m    8    \u001b[0m\u001b[1;2;35m \u001b[0m│\u001b[1;2;35m \u001b[0m\u001b[1;2;35m   82   \u001b[0m\u001b[1;2;35m \u001b[0m│\u001b[1;2;35m \u001b[0m\u001b[1;2;35m  27.07  \u001b[0m\u001b[1;2;35m \u001b[0m│\u001b[1;2;35m \u001b[0m\u001b[1;2;35m 80.726 \u001b[0m\u001b[1;2;35m \u001b[0m│\u001b[1;2;35m \u001b[0m\u001b[1;2;35m  9.84   \u001b[0m\u001b[1;2;35m \u001b[0m│\u001b[1;2;35m \u001b[0m\u001b[1;2;35m11.2278 \u001b[0m\u001b[1;2;35m \u001b[0m│\u001b[1;2;35m \u001b[0m\u001b[1;2;35m169.8474\u001b[0m\u001b[1;2;35m \u001b[0m│\n",
       "├───────────┼─────────┼───────────┼───────────┼──────────┼───────────┼──────────┼───────────┼──────────┼──────────┤\n",
       "│\u001b[1;35m \u001b[0m\u001b[1;35m2025-01-…\u001b[0m\u001b[1;35m \u001b[0m│\u001b[1;35m \u001b[0m\u001b[1;35m  ZA   \u001b[0m\u001b[1;35m \u001b[0m│\u001b[1;35m \u001b[0m\u001b[1;35mHermanus \u001b[0m\u001b[1;35m \u001b[0m│\u001b[1;35m \u001b[0m\u001b[1;35m    7    \u001b[0m\u001b[1;35m \u001b[0m│\u001b[1;35m \u001b[0m\u001b[1;35m   82   \u001b[0m\u001b[1;35m \u001b[0m│\u001b[1;35m \u001b[0m\u001b[1;35m  20.45  \u001b[0m\u001b[1;35m \u001b[0m│\u001b[1;35m \u001b[0m\u001b[1;35m 68.81  \u001b[0m\u001b[1;35m \u001b[0m│\u001b[1;35m \u001b[0m\u001b[1;35m  1.95   \u001b[0m\u001b[1;35m \u001b[0m│\u001b[1;35m \u001b[0m\u001b[1;35m-34.4187\u001b[0m\u001b[1;35m \u001b[0m│\u001b[1;35m \u001b[0m\u001b[1;35m19.2345 \u001b[0m\u001b[1;35m \u001b[0m│\n",
       "├───────────┼─────────┼───────────┼───────────┼──────────┼───────────┼──────────┼───────────┼──────────┼──────────┤\n",
       "│\u001b[1;2;35m \u001b[0m\u001b[1;2;35m2025-01-…\u001b[0m\u001b[1;2;35m \u001b[0m│\u001b[1;2;35m \u001b[0m\u001b[1;2;35m  BJ   \u001b[0m\u001b[1;2;35m \u001b[0m│\u001b[1;2;35m \u001b[0m\u001b[1;2;35mTanguieta\u001b[0m\u001b[1;2;35m \u001b[0m│\u001b[1;2;35m \u001b[0m\u001b[1;2;35m   36    \u001b[0m\u001b[1;2;35m \u001b[0m│\u001b[1;2;35m \u001b[0m\u001b[1;2;35m   14   \u001b[0m\u001b[1;2;35m \u001b[0m│\u001b[1;2;35m \u001b[0m\u001b[1;2;35m  29.39  \u001b[0m\u001b[1;2;35m \u001b[0m│\u001b[1;2;35m \u001b[0m\u001b[1;2;35m 84.902 \u001b[0m\u001b[1;2;35m \u001b[0m│\u001b[1;2;35m \u001b[0m\u001b[1;2;35m  2.73   \u001b[0m\u001b[1;2;35m \u001b[0m│\u001b[1;2;35m \u001b[0m\u001b[1;2;35m10.6212 \u001b[0m\u001b[1;2;35m \u001b[0m│\u001b[1;2;35m \u001b[0m\u001b[1;2;35m 1.2665 \u001b[0m\u001b[1;2;35m \u001b[0m│\n",
       "├───────────┼─────────┼───────────┼───────────┼──────────┼───────────┼──────────┼───────────┼──────────┼──────────┤\n",
       "│\u001b[1;35m \u001b[0m\u001b[1;35m2025-01-…\u001b[0m\u001b[1;35m \u001b[0m│\u001b[1;35m \u001b[0m\u001b[1;35m  AU   \u001b[0m\u001b[1;35m \u001b[0m│\u001b[1;35m \u001b[0m\u001b[1;35mBlackmans\u001b[0m\u001b[1;35m \u001b[0m│\u001b[1;35m \u001b[0m\u001b[1;35m   93    \u001b[0m\u001b[1;35m \u001b[0m│\u001b[1;35m \u001b[0m\u001b[1;35m   74   \u001b[0m\u001b[1;35m \u001b[0m│\u001b[1;35m \u001b[0m\u001b[1;35m  15.07  \u001b[0m\u001b[1;35m \u001b[0m│\u001b[1;35m \u001b[0m\u001b[1;35m 59.126 \u001b[0m\u001b[1;35m \u001b[0m│\u001b[1;35m \u001b[0m\u001b[1;35m  2.07   \u001b[0m\u001b[1;35m \u001b[0m│\u001b[1;35m \u001b[0m\u001b[1;35m-43.0167\u001b[0m\u001b[1;35m \u001b[0m│\u001b[1;35m \u001b[0m\u001b[1;35m147.3167\u001b[0m\u001b[1;35m \u001b[0m│\n",
       "│\u001b[1;35m           \u001b[0m│\u001b[1;35m         \u001b[0m│\u001b[1;35m \u001b[0m\u001b[1;35m   Bay   \u001b[0m\u001b[1;35m \u001b[0m│\u001b[1;35m           \u001b[0m│\u001b[1;35m          \u001b[0m│\u001b[1;35m           \u001b[0m│\u001b[1;35m          \u001b[0m│\u001b[1;35m           \u001b[0m│\u001b[1;35m          \u001b[0m│\u001b[1;35m          \u001b[0m│\n",
       "├───────────┼─────────┼───────────┼───────────┼──────────┼───────────┼──────────┼───────────┼──────────┼──────────┤\n",
       "│\u001b[1;2;35m \u001b[0m\u001b[1;2;35m2025-01-…\u001b[0m\u001b[1;2;35m \u001b[0m│\u001b[1;2;35m \u001b[0m\u001b[1;2;35m  EC   \u001b[0m\u001b[1;2;35m \u001b[0m│\u001b[1;2;35m \u001b[0m\u001b[1;2;35m Puerto  \u001b[0m\u001b[1;2;35m \u001b[0m│\u001b[1;2;35m \u001b[0m\u001b[1;2;35m   91    \u001b[0m\u001b[1;2;35m \u001b[0m│\u001b[1;2;35m \u001b[0m\u001b[1;2;35m   94   \u001b[0m\u001b[1;2;35m \u001b[0m│\u001b[1;2;35m \u001b[0m\u001b[1;2;35m  25.31  \u001b[0m\u001b[1;2;35m \u001b[0m│\u001b[1;2;35m \u001b[0m\u001b[1;2;35m77.5579…\u001b[0m\u001b[1;2;35m \u001b[0m│\u001b[1;2;35m \u001b[0m\u001b[1;2;35m  2.68   \u001b[0m\u001b[1;2;35m \u001b[0m│\u001b[1;2;35m \u001b[0m\u001b[1;2;35m-0.7393 \u001b[0m\u001b[1;2;35m \u001b[0m│\u001b[1;2;35m \u001b[0m\u001b[1;2;35m-90.3518\u001b[0m\u001b[1;2;35m \u001b[0m│\n",
       "│\u001b[1;2;35m           \u001b[0m│\u001b[1;2;35m         \u001b[0m│\u001b[1;2;35m \u001b[0m\u001b[1;2;35m  Ayora  \u001b[0m\u001b[1;2;35m \u001b[0m│\u001b[1;2;35m           \u001b[0m│\u001b[1;2;35m          \u001b[0m│\u001b[1;2;35m           \u001b[0m│\u001b[1;2;35m          \u001b[0m│\u001b[1;2;35m           \u001b[0m│\u001b[1;2;35m          \u001b[0m│\u001b[1;2;35m          \u001b[0m│\n",
       "├───────────┼─────────┼───────────┼───────────┼──────────┼───────────┼──────────┼───────────┼──────────┼──────────┤\n",
       "│\u001b[1;35m \u001b[0m\u001b[1;35m2025-01-…\u001b[0m\u001b[1;35m \u001b[0m│\u001b[1;35m \u001b[0m\u001b[1;35m  ZA   \u001b[0m\u001b[1;35m \u001b[0m│\u001b[1;35m \u001b[0m\u001b[1;35m  Port   \u001b[0m\u001b[1;35m \u001b[0m│\u001b[1;35m \u001b[0m\u001b[1;35m    5    \u001b[0m\u001b[1;35m \u001b[0m│\u001b[1;35m \u001b[0m\u001b[1;35m   89   \u001b[0m\u001b[1;35m \u001b[0m│\u001b[1;35m \u001b[0m\u001b[1;35m  20.1   \u001b[0m\u001b[1;35m \u001b[0m│\u001b[1;35m \u001b[0m\u001b[1;35m 68.18  \u001b[0m\u001b[1;35m \u001b[0m│\u001b[1;35m \u001b[0m\u001b[1;35m  0.45   \u001b[0m\u001b[1;35m \u001b[0m│\u001b[1;35m \u001b[0m\u001b[1;35m-33.5906\u001b[0m\u001b[1;35m \u001b[0m│\u001b[1;35m \u001b[0m\u001b[1;35m 26.891 \u001b[0m\u001b[1;35m \u001b[0m│\n",
       "│\u001b[1;35m           \u001b[0m│\u001b[1;35m         \u001b[0m│\u001b[1;35m \u001b[0m\u001b[1;35m Alfred  \u001b[0m\u001b[1;35m \u001b[0m│\u001b[1;35m           \u001b[0m│\u001b[1;35m          \u001b[0m│\u001b[1;35m           \u001b[0m│\u001b[1;35m          \u001b[0m│\u001b[1;35m           \u001b[0m│\u001b[1;35m          \u001b[0m│\u001b[1;35m          \u001b[0m│\n",
       "└───────────┴─────────┴───────────┴───────────┴──────────┴───────────┴──────────┴───────────┴──────────┴──────────┘\n"
      ]
     },
     "metadata": {},
     "output_type": "display_data"
    }
   ],
   "source": [
    "# Transform Maximum_Temperature to Fahrenheit\n",
    "city_data_df['Maximum_Temperature_F'] = city_data_df['Maximum_Temperature'] * 9/5 + 32\n",
    "\n",
    "# Define the desired column order, including the new Fahrenheit column\n",
    "desired_order = ['Date', 'Country', 'City', 'Cloudiness', 'Humidity', \n",
    "                 'Maximum_Temperature', 'Maximum_Temperature_F', 'Wind_Speed_kmh', 'Lat', 'Lng']\n",
    "\n",
    "# Reorder the DataFrame\n",
    "city_data_df = city_data_df[desired_order]\n",
    "\n",
    "# Create a rich Console object\n",
    "console = Console()\n",
    "\n",
    "# Create a rich Table object with a title and enhanced styles\n",
    "table = Table(title=\"City Weather Data (With Fahrenheit)\", show_header=True, header_style=\"bold cyan\", show_lines=True)\n",
    "\n",
    "# Add columns dynamically based on the reordered DataFrame\n",
    "for column in city_data_df.columns:\n",
    "    table.add_column(column, style=\"bold magenta\", justify=\"center\")\n",
    "\n",
    "# Add rows from the reordered DataFrame (only the first 10 rows)\n",
    "for idx, row in city_data_df.head(10).iterrows():\n",
    "    # Apply alternating row styles\n",
    "    if idx % 2 == 0:\n",
    "        table.add_row(*[str(value) for value in row], style=\"dim\")\n",
    "    else:\n",
    "        table.add_row(*[str(value) for value in row])\n",
    "\n",
    "# Print the table with rich formatting\n",
    "console.print(table)"
   ]
  },
  {
   "cell_type": "code",
   "execution_count": 27,
   "id": "a3ded9fd-0d86-480c-9f4a-b2ab56679177",
   "metadata": {},
   "outputs": [
    {
     "data": {
      "text/html": [
       "<pre style=\"white-space:pre;overflow-x:auto;line-height:normal;font-family:Menlo,'DejaVu Sans Mono',consolas,'Courier New',monospace\"><span style=\"font-style: italic\">                                     City Weather Data (Alphabetically Sorted)                                     </span>\n",
       "┏━━━━━━━━━━━┳━━━━━━━━━┳━━━━━━━━━━━┳━━━━━━━━━━━┳━━━━━━━━━━┳━━━━━━━━━━━┳━━━━━━━━━━━┳━━━━━━━━━━━┳━━━━━━━━━┳━━━━━━━━━━┓\n",
       "┃<span style=\"color: #008080; text-decoration-color: #008080; font-weight: bold\">   Date    </span>┃<span style=\"color: #008080; text-decoration-color: #008080; font-weight: bold\"> Country </span>┃<span style=\"color: #008080; text-decoration-color: #008080; font-weight: bold\">   City    </span>┃<span style=\"color: #008080; text-decoration-color: #008080; font-weight: bold\"> Cloudine… </span>┃<span style=\"color: #008080; text-decoration-color: #008080; font-weight: bold\"> Humidity </span>┃<span style=\"color: #008080; text-decoration-color: #008080; font-weight: bold\"> Maximum_… </span>┃<span style=\"color: #008080; text-decoration-color: #008080; font-weight: bold\"> Maximum_… </span>┃<span style=\"color: #008080; text-decoration-color: #008080; font-weight: bold\"> Wind_Spe… </span>┃<span style=\"color: #008080; text-decoration-color: #008080; font-weight: bold\">   Lat   </span>┃<span style=\"color: #008080; text-decoration-color: #008080; font-weight: bold\">   Lng    </span>┃\n",
       "┡━━━━━━━━━━━╇━━━━━━━━━╇━━━━━━━━━━━╇━━━━━━━━━━━╇━━━━━━━━━━╇━━━━━━━━━━━╇━━━━━━━━━━━╇━━━━━━━━━━━╇━━━━━━━━━╇━━━━━━━━━━┩\n",
       "│<span style=\"color: #800080; text-decoration-color: #800080; font-weight: bold\"> 2025-01-… </span>│<span style=\"color: #800080; text-decoration-color: #800080; font-weight: bold\">   GL    </span>│<span style=\"color: #800080; text-decoration-color: #800080; font-weight: bold\">  Aasiaat  </span>│<span style=\"color: #800080; text-decoration-color: #800080; font-weight: bold\">    100    </span>│<span style=\"color: #800080; text-decoration-color: #800080; font-weight: bold\">    94    </span>│<span style=\"color: #800080; text-decoration-color: #800080; font-weight: bold\">   -5.36   </span>│<span style=\"color: #800080; text-decoration-color: #800080; font-weight: bold\">  22.352   </span>│<span style=\"color: #800080; text-decoration-color: #800080; font-weight: bold\">   6.98    </span>│<span style=\"color: #800080; text-decoration-color: #800080; font-weight: bold\"> 68.7098 </span>│<span style=\"color: #800080; text-decoration-color: #800080; font-weight: bold\"> -52.8699 </span>│\n",
       "├───────────┼─────────┼───────────┼───────────┼──────────┼───────────┼───────────┼───────────┼─────────┼──────────┤\n",
       "│<span style=\"color: #bf7fbf; text-decoration-color: #bf7fbf; font-weight: bold\"> 2025-01-… </span>│<span style=\"color: #bf7fbf; text-decoration-color: #bf7fbf; font-weight: bold\">   BR    </span>│<span style=\"color: #bf7fbf; text-decoration-color: #bf7fbf; font-weight: bold\">  Acarau   </span>│<span style=\"color: #bf7fbf; text-decoration-color: #bf7fbf; font-weight: bold\">    99     </span>│<span style=\"color: #bf7fbf; text-decoration-color: #bf7fbf; font-weight: bold\">    62    </span>│<span style=\"color: #bf7fbf; text-decoration-color: #bf7fbf; font-weight: bold\">   30.15   </span>│<span style=\"color: #bf7fbf; text-decoration-color: #bf7fbf; font-weight: bold\">   86.27   </span>│<span style=\"color: #bf7fbf; text-decoration-color: #bf7fbf; font-weight: bold\">   7.19    </span>│<span style=\"color: #bf7fbf; text-decoration-color: #bf7fbf; font-weight: bold\"> -2.8856 </span>│<span style=\"color: #bf7fbf; text-decoration-color: #bf7fbf; font-weight: bold\">  -40.12  </span>│\n",
       "├───────────┼─────────┼───────────┼───────────┼──────────┼───────────┼───────────┼───────────┼─────────┼──────────┤\n",
       "│<span style=\"color: #bf7fbf; text-decoration-color: #bf7fbf; font-weight: bold\"> 2025-01-… </span>│<span style=\"color: #bf7fbf; text-decoration-color: #bf7fbf; font-weight: bold\">   PN    </span>│<span style=\"color: #bf7fbf; text-decoration-color: #bf7fbf; font-weight: bold\"> Adamstown </span>│<span style=\"color: #bf7fbf; text-decoration-color: #bf7fbf; font-weight: bold\">    100    </span>│<span style=\"color: #bf7fbf; text-decoration-color: #bf7fbf; font-weight: bold\">    78    </span>│<span style=\"color: #bf7fbf; text-decoration-color: #bf7fbf; font-weight: bold\">   24.86   </span>│<span style=\"color: #bf7fbf; text-decoration-color: #bf7fbf; font-weight: bold\">  76.748   </span>│<span style=\"color: #bf7fbf; text-decoration-color: #bf7fbf; font-weight: bold\">   9.53    </span>│<span style=\"color: #bf7fbf; text-decoration-color: #bf7fbf; font-weight: bold\"> -25.066 </span>│<span style=\"color: #bf7fbf; text-decoration-color: #bf7fbf; font-weight: bold\"> -130.10… </span>│\n",
       "├───────────┼─────────┼───────────┼───────────┼──────────┼───────────┼───────────┼───────────┼─────────┼──────────┤\n",
       "│<span style=\"color: #bf7fbf; text-decoration-color: #bf7fbf; font-weight: bold\"> 2025-01-… </span>│<span style=\"color: #bf7fbf; text-decoration-color: #bf7fbf; font-weight: bold\">   GU    </span>│<span style=\"color: #bf7fbf; text-decoration-color: #bf7fbf; font-weight: bold\">   Agat    </span>│<span style=\"color: #bf7fbf; text-decoration-color: #bf7fbf; font-weight: bold\">    40     </span>│<span style=\"color: #bf7fbf; text-decoration-color: #bf7fbf; font-weight: bold\">    88    </span>│<span style=\"color: #bf7fbf; text-decoration-color: #bf7fbf; font-weight: bold\">   26.52   </span>│<span style=\"color: #bf7fbf; text-decoration-color: #bf7fbf; font-weight: bold\">  79.736   </span>│<span style=\"color: #bf7fbf; text-decoration-color: #bf7fbf; font-weight: bold\">   2.06    </span>│<span style=\"color: #bf7fbf; text-decoration-color: #bf7fbf; font-weight: bold\"> 13.3886 </span>│<span style=\"color: #bf7fbf; text-decoration-color: #bf7fbf; font-weight: bold\"> 144.6585 </span>│\n",
       "│<span style=\"color: #bf7fbf; text-decoration-color: #bf7fbf; font-weight: bold\">           </span>│<span style=\"color: #bf7fbf; text-decoration-color: #bf7fbf; font-weight: bold\">         </span>│<span style=\"color: #bf7fbf; text-decoration-color: #bf7fbf; font-weight: bold\">  Village  </span>│<span style=\"color: #bf7fbf; text-decoration-color: #bf7fbf; font-weight: bold\">           </span>│<span style=\"color: #bf7fbf; text-decoration-color: #bf7fbf; font-weight: bold\">          </span>│<span style=\"color: #bf7fbf; text-decoration-color: #bf7fbf; font-weight: bold\">           </span>│<span style=\"color: #bf7fbf; text-decoration-color: #bf7fbf; font-weight: bold\">           </span>│<span style=\"color: #bf7fbf; text-decoration-color: #bf7fbf; font-weight: bold\">           </span>│<span style=\"color: #bf7fbf; text-decoration-color: #bf7fbf; font-weight: bold\">         </span>│<span style=\"color: #bf7fbf; text-decoration-color: #bf7fbf; font-weight: bold\">          </span>│\n",
       "├───────────┼─────────┼───────────┼───────────┼──────────┼───────────┼───────────┼───────────┼─────────┼──────────┤\n",
       "│<span style=\"color: #bf7fbf; text-decoration-color: #bf7fbf; font-weight: bold\"> 2025-01-… </span>│<span style=\"color: #bf7fbf; text-decoration-color: #bf7fbf; font-weight: bold\">   MR    </span>│<span style=\"color: #bf7fbf; text-decoration-color: #bf7fbf; font-weight: bold\">   Aioun   </span>│<span style=\"color: #bf7fbf; text-decoration-color: #bf7fbf; font-weight: bold\">     0     </span>│<span style=\"color: #bf7fbf; text-decoration-color: #bf7fbf; font-weight: bold\">    11    </span>│<span style=\"color: #bf7fbf; text-decoration-color: #bf7fbf; font-weight: bold\">   28.19   </span>│<span style=\"color: #bf7fbf; text-decoration-color: #bf7fbf; font-weight: bold\">  82.742   </span>│<span style=\"color: #bf7fbf; text-decoration-color: #bf7fbf; font-weight: bold\">   4.88    </span>│<span style=\"color: #bf7fbf; text-decoration-color: #bf7fbf; font-weight: bold\"> 16.6614 </span>│<span style=\"color: #bf7fbf; text-decoration-color: #bf7fbf; font-weight: bold\"> -9.6149  </span>│\n",
       "├───────────┼─────────┼───────────┼───────────┼──────────┼───────────┼───────────┼───────────┼─────────┼──────────┤\n",
       "│<span style=\"color: #800080; text-decoration-color: #800080; font-weight: bold\"> 2025-01-… </span>│<span style=\"color: #800080; text-decoration-color: #800080; font-weight: bold\">   LV    </span>│<span style=\"color: #800080; text-decoration-color: #800080; font-weight: bold\">  Aizpute  </span>│<span style=\"color: #800080; text-decoration-color: #800080; font-weight: bold\">    99     </span>│<span style=\"color: #800080; text-decoration-color: #800080; font-weight: bold\">    88    </span>│<span style=\"color: #800080; text-decoration-color: #800080; font-weight: bold\">   2.28    </span>│<span style=\"color: #800080; text-decoration-color: #800080; font-weight: bold\">  36.104   </span>│<span style=\"color: #800080; text-decoration-color: #800080; font-weight: bold\">   7.58    </span>│<span style=\"color: #800080; text-decoration-color: #800080; font-weight: bold\"> 56.7167 </span>│<span style=\"color: #800080; text-decoration-color: #800080; font-weight: bold\">   21.6   </span>│\n",
       "├───────────┼─────────┼───────────┼───────────┼──────────┼───────────┼───────────┼───────────┼─────────┼──────────┤\n",
       "│<span style=\"color: #800080; text-decoration-color: #800080; font-weight: bold\"> 2025-01-… </span>│<span style=\"color: #800080; text-decoration-color: #800080; font-weight: bold\">   IS    </span>│<span style=\"color: #800080; text-decoration-color: #800080; font-weight: bold\"> Akureyri  </span>│<span style=\"color: #800080; text-decoration-color: #800080; font-weight: bold\">    75     </span>│<span style=\"color: #800080; text-decoration-color: #800080; font-weight: bold\">    92    </span>│<span style=\"color: #800080; text-decoration-color: #800080; font-weight: bold\">   -9.04   </span>│<span style=\"color: #800080; text-decoration-color: #800080; font-weight: bold\"> 15.72800… </span>│<span style=\"color: #800080; text-decoration-color: #800080; font-weight: bold\">   2.06    </span>│<span style=\"color: #800080; text-decoration-color: #800080; font-weight: bold\"> 65.6835 </span>│<span style=\"color: #800080; text-decoration-color: #800080; font-weight: bold\"> -18.0878 </span>│\n",
       "├───────────┼─────────┼───────────┼───────────┼──────────┼───────────┼───────────┼───────────┼─────────┼──────────┤\n",
       "│<span style=\"color: #bf7fbf; text-decoration-color: #bf7fbf; font-weight: bold\"> 2025-01-… </span>│<span style=\"color: #bf7fbf; text-decoration-color: #bf7fbf; font-weight: bold\">   LY    </span>│<span style=\"color: #bf7fbf; text-decoration-color: #bf7fbf; font-weight: bold\"> Al Bayda' </span>│<span style=\"color: #bf7fbf; text-decoration-color: #bf7fbf; font-weight: bold\">    85     </span>│<span style=\"color: #bf7fbf; text-decoration-color: #bf7fbf; font-weight: bold\">    69    </span>│<span style=\"color: #bf7fbf; text-decoration-color: #bf7fbf; font-weight: bold\">   11.05   </span>│<span style=\"color: #bf7fbf; text-decoration-color: #bf7fbf; font-weight: bold\">   51.89   </span>│<span style=\"color: #bf7fbf; text-decoration-color: #bf7fbf; font-weight: bold\">   1.37    </span>│<span style=\"color: #bf7fbf; text-decoration-color: #bf7fbf; font-weight: bold\"> 32.7627 </span>│<span style=\"color: #bf7fbf; text-decoration-color: #bf7fbf; font-weight: bold\"> 21.7551  </span>│\n",
       "├───────────┼─────────┼───────────┼───────────┼──────────┼───────────┼───────────┼───────────┼─────────┼──────────┤\n",
       "│<span style=\"color: #800080; text-decoration-color: #800080; font-weight: bold\"> 2025-01-… </span>│<span style=\"color: #800080; text-decoration-color: #800080; font-weight: bold\">   YE    </span>│<span style=\"color: #800080; text-decoration-color: #800080; font-weight: bold\">    Al     </span>│<span style=\"color: #800080; text-decoration-color: #800080; font-weight: bold\">    29     </span>│<span style=\"color: #800080; text-decoration-color: #800080; font-weight: bold\">    64    </span>│<span style=\"color: #800080; text-decoration-color: #800080; font-weight: bold\">   22.98   </span>│<span style=\"color: #800080; text-decoration-color: #800080; font-weight: bold\">  73.364   </span>│<span style=\"color: #800080; text-decoration-color: #800080; font-weight: bold\">   2.71    </span>│<span style=\"color: #800080; text-decoration-color: #800080; font-weight: bold\"> 16.2079 </span>│<span style=\"color: #800080; text-decoration-color: #800080; font-weight: bold\">  52.176  </span>│\n",
       "│<span style=\"color: #800080; text-decoration-color: #800080; font-weight: bold\">           </span>│<span style=\"color: #800080; text-decoration-color: #800080; font-weight: bold\">         </span>│<span style=\"color: #800080; text-decoration-color: #800080; font-weight: bold\">  Ghayzah  </span>│<span style=\"color: #800080; text-decoration-color: #800080; font-weight: bold\">           </span>│<span style=\"color: #800080; text-decoration-color: #800080; font-weight: bold\">          </span>│<span style=\"color: #800080; text-decoration-color: #800080; font-weight: bold\">           </span>│<span style=\"color: #800080; text-decoration-color: #800080; font-weight: bold\">           </span>│<span style=\"color: #800080; text-decoration-color: #800080; font-weight: bold\">           </span>│<span style=\"color: #800080; text-decoration-color: #800080; font-weight: bold\">         </span>│<span style=\"color: #800080; text-decoration-color: #800080; font-weight: bold\">          </span>│\n",
       "├───────────┼─────────┼───────────┼───────────┼──────────┼───────────┼───────────┼───────────┼─────────┼──────────┤\n",
       "│<span style=\"color: #800080; text-decoration-color: #800080; font-weight: bold\"> 2025-01-… </span>│<span style=\"color: #800080; text-decoration-color: #800080; font-weight: bold\">   SA    </span>│<span style=\"color: #800080; text-decoration-color: #800080; font-weight: bold\"> Al Jumum  </span>│<span style=\"color: #800080; text-decoration-color: #800080; font-weight: bold\">    14     </span>│<span style=\"color: #800080; text-decoration-color: #800080; font-weight: bold\">    31    </span>│<span style=\"color: #800080; text-decoration-color: #800080; font-weight: bold\">   24.58   </span>│<span style=\"color: #800080; text-decoration-color: #800080; font-weight: bold\">  76.244   </span>│<span style=\"color: #800080; text-decoration-color: #800080; font-weight: bold\">   4.47    </span>│<span style=\"color: #800080; text-decoration-color: #800080; font-weight: bold\"> 21.6169 </span>│<span style=\"color: #800080; text-decoration-color: #800080; font-weight: bold\"> 39.6981  </span>│\n",
       "└───────────┴─────────┴───────────┴───────────┴──────────┴───────────┴───────────┴───────────┴─────────┴──────────┘\n",
       "</pre>\n"
      ],
      "text/plain": [
       "\u001b[3m                                     City Weather Data (Alphabetically Sorted)                                     \u001b[0m\n",
       "┏━━━━━━━━━━━┳━━━━━━━━━┳━━━━━━━━━━━┳━━━━━━━━━━━┳━━━━━━━━━━┳━━━━━━━━━━━┳━━━━━━━━━━━┳━━━━━━━━━━━┳━━━━━━━━━┳━━━━━━━━━━┓\n",
       "┃\u001b[1;36m \u001b[0m\u001b[1;36m  Date   \u001b[0m\u001b[1;36m \u001b[0m┃\u001b[1;36m \u001b[0m\u001b[1;36mCountry\u001b[0m\u001b[1;36m \u001b[0m┃\u001b[1;36m \u001b[0m\u001b[1;36m  City   \u001b[0m\u001b[1;36m \u001b[0m┃\u001b[1;36m \u001b[0m\u001b[1;36mCloudine…\u001b[0m\u001b[1;36m \u001b[0m┃\u001b[1;36m \u001b[0m\u001b[1;36mHumidity\u001b[0m\u001b[1;36m \u001b[0m┃\u001b[1;36m \u001b[0m\u001b[1;36mMaximum_…\u001b[0m\u001b[1;36m \u001b[0m┃\u001b[1;36m \u001b[0m\u001b[1;36mMaximum_…\u001b[0m\u001b[1;36m \u001b[0m┃\u001b[1;36m \u001b[0m\u001b[1;36mWind_Spe…\u001b[0m\u001b[1;36m \u001b[0m┃\u001b[1;36m \u001b[0m\u001b[1;36m  Lat  \u001b[0m\u001b[1;36m \u001b[0m┃\u001b[1;36m \u001b[0m\u001b[1;36m  Lng   \u001b[0m\u001b[1;36m \u001b[0m┃\n",
       "┡━━━━━━━━━━━╇━━━━━━━━━╇━━━━━━━━━━━╇━━━━━━━━━━━╇━━━━━━━━━━╇━━━━━━━━━━━╇━━━━━━━━━━━╇━━━━━━━━━━━╇━━━━━━━━━╇━━━━━━━━━━┩\n",
       "│\u001b[1;35m \u001b[0m\u001b[1;35m2025-01-…\u001b[0m\u001b[1;35m \u001b[0m│\u001b[1;35m \u001b[0m\u001b[1;35m  GL   \u001b[0m\u001b[1;35m \u001b[0m│\u001b[1;35m \u001b[0m\u001b[1;35m Aasiaat \u001b[0m\u001b[1;35m \u001b[0m│\u001b[1;35m \u001b[0m\u001b[1;35m   100   \u001b[0m\u001b[1;35m \u001b[0m│\u001b[1;35m \u001b[0m\u001b[1;35m   94   \u001b[0m\u001b[1;35m \u001b[0m│\u001b[1;35m \u001b[0m\u001b[1;35m  -5.36  \u001b[0m\u001b[1;35m \u001b[0m│\u001b[1;35m \u001b[0m\u001b[1;35m 22.352  \u001b[0m\u001b[1;35m \u001b[0m│\u001b[1;35m \u001b[0m\u001b[1;35m  6.98   \u001b[0m\u001b[1;35m \u001b[0m│\u001b[1;35m \u001b[0m\u001b[1;35m68.7098\u001b[0m\u001b[1;35m \u001b[0m│\u001b[1;35m \u001b[0m\u001b[1;35m-52.8699\u001b[0m\u001b[1;35m \u001b[0m│\n",
       "├───────────┼─────────┼───────────┼───────────┼──────────┼───────────┼───────────┼───────────┼─────────┼──────────┤\n",
       "│\u001b[1;2;35m \u001b[0m\u001b[1;2;35m2025-01-…\u001b[0m\u001b[1;2;35m \u001b[0m│\u001b[1;2;35m \u001b[0m\u001b[1;2;35m  BR   \u001b[0m\u001b[1;2;35m \u001b[0m│\u001b[1;2;35m \u001b[0m\u001b[1;2;35m Acarau  \u001b[0m\u001b[1;2;35m \u001b[0m│\u001b[1;2;35m \u001b[0m\u001b[1;2;35m   99    \u001b[0m\u001b[1;2;35m \u001b[0m│\u001b[1;2;35m \u001b[0m\u001b[1;2;35m   62   \u001b[0m\u001b[1;2;35m \u001b[0m│\u001b[1;2;35m \u001b[0m\u001b[1;2;35m  30.15  \u001b[0m\u001b[1;2;35m \u001b[0m│\u001b[1;2;35m \u001b[0m\u001b[1;2;35m  86.27  \u001b[0m\u001b[1;2;35m \u001b[0m│\u001b[1;2;35m \u001b[0m\u001b[1;2;35m  7.19   \u001b[0m\u001b[1;2;35m \u001b[0m│\u001b[1;2;35m \u001b[0m\u001b[1;2;35m-2.8856\u001b[0m\u001b[1;2;35m \u001b[0m│\u001b[1;2;35m \u001b[0m\u001b[1;2;35m -40.12 \u001b[0m\u001b[1;2;35m \u001b[0m│\n",
       "├───────────┼─────────┼───────────┼───────────┼──────────┼───────────┼───────────┼───────────┼─────────┼──────────┤\n",
       "│\u001b[1;2;35m \u001b[0m\u001b[1;2;35m2025-01-…\u001b[0m\u001b[1;2;35m \u001b[0m│\u001b[1;2;35m \u001b[0m\u001b[1;2;35m  PN   \u001b[0m\u001b[1;2;35m \u001b[0m│\u001b[1;2;35m \u001b[0m\u001b[1;2;35mAdamstown\u001b[0m\u001b[1;2;35m \u001b[0m│\u001b[1;2;35m \u001b[0m\u001b[1;2;35m   100   \u001b[0m\u001b[1;2;35m \u001b[0m│\u001b[1;2;35m \u001b[0m\u001b[1;2;35m   78   \u001b[0m\u001b[1;2;35m \u001b[0m│\u001b[1;2;35m \u001b[0m\u001b[1;2;35m  24.86  \u001b[0m\u001b[1;2;35m \u001b[0m│\u001b[1;2;35m \u001b[0m\u001b[1;2;35m 76.748  \u001b[0m\u001b[1;2;35m \u001b[0m│\u001b[1;2;35m \u001b[0m\u001b[1;2;35m  9.53   \u001b[0m\u001b[1;2;35m \u001b[0m│\u001b[1;2;35m \u001b[0m\u001b[1;2;35m-25.066\u001b[0m\u001b[1;2;35m \u001b[0m│\u001b[1;2;35m \u001b[0m\u001b[1;2;35m-130.10…\u001b[0m\u001b[1;2;35m \u001b[0m│\n",
       "├───────────┼─────────┼───────────┼───────────┼──────────┼───────────┼───────────┼───────────┼─────────┼──────────┤\n",
       "│\u001b[1;2;35m \u001b[0m\u001b[1;2;35m2025-01-…\u001b[0m\u001b[1;2;35m \u001b[0m│\u001b[1;2;35m \u001b[0m\u001b[1;2;35m  GU   \u001b[0m\u001b[1;2;35m \u001b[0m│\u001b[1;2;35m \u001b[0m\u001b[1;2;35m  Agat   \u001b[0m\u001b[1;2;35m \u001b[0m│\u001b[1;2;35m \u001b[0m\u001b[1;2;35m   40    \u001b[0m\u001b[1;2;35m \u001b[0m│\u001b[1;2;35m \u001b[0m\u001b[1;2;35m   88   \u001b[0m\u001b[1;2;35m \u001b[0m│\u001b[1;2;35m \u001b[0m\u001b[1;2;35m  26.52  \u001b[0m\u001b[1;2;35m \u001b[0m│\u001b[1;2;35m \u001b[0m\u001b[1;2;35m 79.736  \u001b[0m\u001b[1;2;35m \u001b[0m│\u001b[1;2;35m \u001b[0m\u001b[1;2;35m  2.06   \u001b[0m\u001b[1;2;35m \u001b[0m│\u001b[1;2;35m \u001b[0m\u001b[1;2;35m13.3886\u001b[0m\u001b[1;2;35m \u001b[0m│\u001b[1;2;35m \u001b[0m\u001b[1;2;35m144.6585\u001b[0m\u001b[1;2;35m \u001b[0m│\n",
       "│\u001b[1;2;35m           \u001b[0m│\u001b[1;2;35m         \u001b[0m│\u001b[1;2;35m \u001b[0m\u001b[1;2;35m Village \u001b[0m\u001b[1;2;35m \u001b[0m│\u001b[1;2;35m           \u001b[0m│\u001b[1;2;35m          \u001b[0m│\u001b[1;2;35m           \u001b[0m│\u001b[1;2;35m           \u001b[0m│\u001b[1;2;35m           \u001b[0m│\u001b[1;2;35m         \u001b[0m│\u001b[1;2;35m          \u001b[0m│\n",
       "├───────────┼─────────┼───────────┼───────────┼──────────┼───────────┼───────────┼───────────┼─────────┼──────────┤\n",
       "│\u001b[1;2;35m \u001b[0m\u001b[1;2;35m2025-01-…\u001b[0m\u001b[1;2;35m \u001b[0m│\u001b[1;2;35m \u001b[0m\u001b[1;2;35m  MR   \u001b[0m\u001b[1;2;35m \u001b[0m│\u001b[1;2;35m \u001b[0m\u001b[1;2;35m  Aioun  \u001b[0m\u001b[1;2;35m \u001b[0m│\u001b[1;2;35m \u001b[0m\u001b[1;2;35m    0    \u001b[0m\u001b[1;2;35m \u001b[0m│\u001b[1;2;35m \u001b[0m\u001b[1;2;35m   11   \u001b[0m\u001b[1;2;35m \u001b[0m│\u001b[1;2;35m \u001b[0m\u001b[1;2;35m  28.19  \u001b[0m\u001b[1;2;35m \u001b[0m│\u001b[1;2;35m \u001b[0m\u001b[1;2;35m 82.742  \u001b[0m\u001b[1;2;35m \u001b[0m│\u001b[1;2;35m \u001b[0m\u001b[1;2;35m  4.88   \u001b[0m\u001b[1;2;35m \u001b[0m│\u001b[1;2;35m \u001b[0m\u001b[1;2;35m16.6614\u001b[0m\u001b[1;2;35m \u001b[0m│\u001b[1;2;35m \u001b[0m\u001b[1;2;35m-9.6149 \u001b[0m\u001b[1;2;35m \u001b[0m│\n",
       "├───────────┼─────────┼───────────┼───────────┼──────────┼───────────┼───────────┼───────────┼─────────┼──────────┤\n",
       "│\u001b[1;35m \u001b[0m\u001b[1;35m2025-01-…\u001b[0m\u001b[1;35m \u001b[0m│\u001b[1;35m \u001b[0m\u001b[1;35m  LV   \u001b[0m\u001b[1;35m \u001b[0m│\u001b[1;35m \u001b[0m\u001b[1;35m Aizpute \u001b[0m\u001b[1;35m \u001b[0m│\u001b[1;35m \u001b[0m\u001b[1;35m   99    \u001b[0m\u001b[1;35m \u001b[0m│\u001b[1;35m \u001b[0m\u001b[1;35m   88   \u001b[0m\u001b[1;35m \u001b[0m│\u001b[1;35m \u001b[0m\u001b[1;35m  2.28   \u001b[0m\u001b[1;35m \u001b[0m│\u001b[1;35m \u001b[0m\u001b[1;35m 36.104  \u001b[0m\u001b[1;35m \u001b[0m│\u001b[1;35m \u001b[0m\u001b[1;35m  7.58   \u001b[0m\u001b[1;35m \u001b[0m│\u001b[1;35m \u001b[0m\u001b[1;35m56.7167\u001b[0m\u001b[1;35m \u001b[0m│\u001b[1;35m \u001b[0m\u001b[1;35m  21.6  \u001b[0m\u001b[1;35m \u001b[0m│\n",
       "├───────────┼─────────┼───────────┼───────────┼──────────┼───────────┼───────────┼───────────┼─────────┼──────────┤\n",
       "│\u001b[1;35m \u001b[0m\u001b[1;35m2025-01-…\u001b[0m\u001b[1;35m \u001b[0m│\u001b[1;35m \u001b[0m\u001b[1;35m  IS   \u001b[0m\u001b[1;35m \u001b[0m│\u001b[1;35m \u001b[0m\u001b[1;35mAkureyri \u001b[0m\u001b[1;35m \u001b[0m│\u001b[1;35m \u001b[0m\u001b[1;35m   75    \u001b[0m\u001b[1;35m \u001b[0m│\u001b[1;35m \u001b[0m\u001b[1;35m   92   \u001b[0m\u001b[1;35m \u001b[0m│\u001b[1;35m \u001b[0m\u001b[1;35m  -9.04  \u001b[0m\u001b[1;35m \u001b[0m│\u001b[1;35m \u001b[0m\u001b[1;35m15.72800…\u001b[0m\u001b[1;35m \u001b[0m│\u001b[1;35m \u001b[0m\u001b[1;35m  2.06   \u001b[0m\u001b[1;35m \u001b[0m│\u001b[1;35m \u001b[0m\u001b[1;35m65.6835\u001b[0m\u001b[1;35m \u001b[0m│\u001b[1;35m \u001b[0m\u001b[1;35m-18.0878\u001b[0m\u001b[1;35m \u001b[0m│\n",
       "├───────────┼─────────┼───────────┼───────────┼──────────┼───────────┼───────────┼───────────┼─────────┼──────────┤\n",
       "│\u001b[1;2;35m \u001b[0m\u001b[1;2;35m2025-01-…\u001b[0m\u001b[1;2;35m \u001b[0m│\u001b[1;2;35m \u001b[0m\u001b[1;2;35m  LY   \u001b[0m\u001b[1;2;35m \u001b[0m│\u001b[1;2;35m \u001b[0m\u001b[1;2;35mAl Bayda'\u001b[0m\u001b[1;2;35m \u001b[0m│\u001b[1;2;35m \u001b[0m\u001b[1;2;35m   85    \u001b[0m\u001b[1;2;35m \u001b[0m│\u001b[1;2;35m \u001b[0m\u001b[1;2;35m   69   \u001b[0m\u001b[1;2;35m \u001b[0m│\u001b[1;2;35m \u001b[0m\u001b[1;2;35m  11.05  \u001b[0m\u001b[1;2;35m \u001b[0m│\u001b[1;2;35m \u001b[0m\u001b[1;2;35m  51.89  \u001b[0m\u001b[1;2;35m \u001b[0m│\u001b[1;2;35m \u001b[0m\u001b[1;2;35m  1.37   \u001b[0m\u001b[1;2;35m \u001b[0m│\u001b[1;2;35m \u001b[0m\u001b[1;2;35m32.7627\u001b[0m\u001b[1;2;35m \u001b[0m│\u001b[1;2;35m \u001b[0m\u001b[1;2;35m21.7551 \u001b[0m\u001b[1;2;35m \u001b[0m│\n",
       "├───────────┼─────────┼───────────┼───────────┼──────────┼───────────┼───────────┼───────────┼─────────┼──────────┤\n",
       "│\u001b[1;35m \u001b[0m\u001b[1;35m2025-01-…\u001b[0m\u001b[1;35m \u001b[0m│\u001b[1;35m \u001b[0m\u001b[1;35m  YE   \u001b[0m\u001b[1;35m \u001b[0m│\u001b[1;35m \u001b[0m\u001b[1;35m   Al    \u001b[0m\u001b[1;35m \u001b[0m│\u001b[1;35m \u001b[0m\u001b[1;35m   29    \u001b[0m\u001b[1;35m \u001b[0m│\u001b[1;35m \u001b[0m\u001b[1;35m   64   \u001b[0m\u001b[1;35m \u001b[0m│\u001b[1;35m \u001b[0m\u001b[1;35m  22.98  \u001b[0m\u001b[1;35m \u001b[0m│\u001b[1;35m \u001b[0m\u001b[1;35m 73.364  \u001b[0m\u001b[1;35m \u001b[0m│\u001b[1;35m \u001b[0m\u001b[1;35m  2.71   \u001b[0m\u001b[1;35m \u001b[0m│\u001b[1;35m \u001b[0m\u001b[1;35m16.2079\u001b[0m\u001b[1;35m \u001b[0m│\u001b[1;35m \u001b[0m\u001b[1;35m 52.176 \u001b[0m\u001b[1;35m \u001b[0m│\n",
       "│\u001b[1;35m           \u001b[0m│\u001b[1;35m         \u001b[0m│\u001b[1;35m \u001b[0m\u001b[1;35m Ghayzah \u001b[0m\u001b[1;35m \u001b[0m│\u001b[1;35m           \u001b[0m│\u001b[1;35m          \u001b[0m│\u001b[1;35m           \u001b[0m│\u001b[1;35m           \u001b[0m│\u001b[1;35m           \u001b[0m│\u001b[1;35m         \u001b[0m│\u001b[1;35m          \u001b[0m│\n",
       "├───────────┼─────────┼───────────┼───────────┼──────────┼───────────┼───────────┼───────────┼─────────┼──────────┤\n",
       "│\u001b[1;35m \u001b[0m\u001b[1;35m2025-01-…\u001b[0m\u001b[1;35m \u001b[0m│\u001b[1;35m \u001b[0m\u001b[1;35m  SA   \u001b[0m\u001b[1;35m \u001b[0m│\u001b[1;35m \u001b[0m\u001b[1;35mAl Jumum \u001b[0m\u001b[1;35m \u001b[0m│\u001b[1;35m \u001b[0m\u001b[1;35m   14    \u001b[0m\u001b[1;35m \u001b[0m│\u001b[1;35m \u001b[0m\u001b[1;35m   31   \u001b[0m\u001b[1;35m \u001b[0m│\u001b[1;35m \u001b[0m\u001b[1;35m  24.58  \u001b[0m\u001b[1;35m \u001b[0m│\u001b[1;35m \u001b[0m\u001b[1;35m 76.244  \u001b[0m\u001b[1;35m \u001b[0m│\u001b[1;35m \u001b[0m\u001b[1;35m  4.47   \u001b[0m\u001b[1;35m \u001b[0m│\u001b[1;35m \u001b[0m\u001b[1;35m21.6169\u001b[0m\u001b[1;35m \u001b[0m│\u001b[1;35m \u001b[0m\u001b[1;35m39.6981 \u001b[0m\u001b[1;35m \u001b[0m│\n",
       "└───────────┴─────────┴───────────┴───────────┴──────────┴───────────┴───────────┴───────────┴─────────┴──────────┘\n"
      ]
     },
     "metadata": {},
     "output_type": "display_data"
    }
   ],
   "source": [
    "# Sort the DataFrame by the City column alphabetically\n",
    "city_data_df = city_data_df.sort_values(by='City')\n",
    "\n",
    "# Create a rich Console object\n",
    "console = Console()\n",
    "\n",
    "# Create a rich Table object with a title and enhanced styles\n",
    "table = Table(title=\"City Weather Data (Alphabetically Sorted)\", show_header=True, header_style=\"bold cyan\", show_lines=True)\n",
    "\n",
    "# Add columns dynamically based on the sorted DataFrame\n",
    "for column in city_data_df.columns:\n",
    "    table.add_column(column, style=\"bold magenta\", justify=\"center\")\n",
    "\n",
    "# Add rows from the sorted DataFrame (only the first 10 rows for brevity)\n",
    "for idx, row in city_data_df.head(10).iterrows():\n",
    "    # Apply alternating row styles\n",
    "    if idx % 2 == 0:\n",
    "        table.add_row(*[str(value) for value in row], style=\"dim\")\n",
    "    else:\n",
    "        table.add_row(*[str(value) for value in row])\n",
    "\n",
    "# Print the table with rich formatting\n",
    "console.print(table)"
   ]
  },
  {
   "cell_type": "code",
   "execution_count": 28,
   "id": "df996995-08b7-4b20-acd7-7417177c3504",
   "metadata": {
    "scrolled": true
   },
   "outputs": [
    {
     "data": {
      "text/html": [
       "<pre style=\"white-space:pre;overflow-x:auto;line-height:normal;font-family:Menlo,'DejaVu Sans Mono',consolas,'Courier New',monospace\"><span style=\"font-style: italic\">                                       City Weather Data (Sorted by Country)                                       </span>\n",
       "┏━━━━━━━━━━━┳━━━━━━━━━┳━━━━━━━━━━━┳━━━━━━━━━━━┳━━━━━━━━━━┳━━━━━━━━━━━┳━━━━━━━━━━┳━━━━━━━━━━━┳━━━━━━━━━━┳━━━━━━━━━━┓\n",
       "┃<span style=\"color: #008080; text-decoration-color: #008080; font-weight: bold\">   Date    </span>┃<span style=\"color: #008080; text-decoration-color: #008080; font-weight: bold\"> Country </span>┃<span style=\"color: #008080; text-decoration-color: #008080; font-weight: bold\">   City    </span>┃<span style=\"color: #008080; text-decoration-color: #008080; font-weight: bold\"> Cloudine… </span>┃<span style=\"color: #008080; text-decoration-color: #008080; font-weight: bold\"> Humidity </span>┃<span style=\"color: #008080; text-decoration-color: #008080; font-weight: bold\"> Maximum_… </span>┃<span style=\"color: #008080; text-decoration-color: #008080; font-weight: bold\"> Maximum… </span>┃<span style=\"color: #008080; text-decoration-color: #008080; font-weight: bold\"> Wind_Spe… </span>┃<span style=\"color: #008080; text-decoration-color: #008080; font-weight: bold\">   Lat    </span>┃<span style=\"color: #008080; text-decoration-color: #008080; font-weight: bold\">   Lng    </span>┃\n",
       "┡━━━━━━━━━━━╇━━━━━━━━━╇━━━━━━━━━━━╇━━━━━━━━━━━╇━━━━━━━━━━╇━━━━━━━━━━━╇━━━━━━━━━━╇━━━━━━━━━━━╇━━━━━━━━━━╇━━━━━━━━━━┩\n",
       "│<span style=\"color: #bf7fbf; text-decoration-color: #bf7fbf; font-weight: bold\"> 2025-01-… </span>│<span style=\"color: #bf7fbf; text-decoration-color: #bf7fbf; font-weight: bold\">   AF    </span>│<span style=\"color: #bf7fbf; text-decoration-color: #bf7fbf; font-weight: bold\">  Zaranj   </span>│<span style=\"color: #bf7fbf; text-decoration-color: #bf7fbf; font-weight: bold\">    16     </span>│<span style=\"color: #bf7fbf; text-decoration-color: #bf7fbf; font-weight: bold\">    54    </span>│<span style=\"color: #bf7fbf; text-decoration-color: #bf7fbf; font-weight: bold\">    6.7    </span>│<span style=\"color: #bf7fbf; text-decoration-color: #bf7fbf; font-weight: bold\">  44.06   </span>│<span style=\"color: #bf7fbf; text-decoration-color: #bf7fbf; font-weight: bold\">    7.3    </span>│<span style=\"color: #bf7fbf; text-decoration-color: #bf7fbf; font-weight: bold\"> 30.9667  </span>│<span style=\"color: #bf7fbf; text-decoration-color: #bf7fbf; font-weight: bold\"> 61.8833  </span>│\n",
       "├───────────┼─────────┼───────────┼───────────┼──────────┼───────────┼──────────┼───────────┼──────────┼──────────┤\n",
       "│<span style=\"color: #bf7fbf; text-decoration-color: #bf7fbf; font-weight: bold\"> 2025-01-… </span>│<span style=\"color: #bf7fbf; text-decoration-color: #bf7fbf; font-weight: bold\">   AO    </span>│<span style=\"color: #bf7fbf; text-decoration-color: #bf7fbf; font-weight: bold\">  Cabinda  </span>│<span style=\"color: #bf7fbf; text-decoration-color: #bf7fbf; font-weight: bold\">    20     </span>│<span style=\"color: #bf7fbf; text-decoration-color: #bf7fbf; font-weight: bold\">    83    </span>│<span style=\"color: #bf7fbf; text-decoration-color: #bf7fbf; font-weight: bold\">   28.08   </span>│<span style=\"color: #bf7fbf; text-decoration-color: #bf7fbf; font-weight: bold\">  82.544  </span>│<span style=\"color: #bf7fbf; text-decoration-color: #bf7fbf; font-weight: bold\">   2.57    </span>│<span style=\"color: #bf7fbf; text-decoration-color: #bf7fbf; font-weight: bold\">  -5.55   </span>│<span style=\"color: #bf7fbf; text-decoration-color: #bf7fbf; font-weight: bold\">   12.2   </span>│\n",
       "├───────────┼─────────┼───────────┼───────────┼──────────┼───────────┼──────────┼───────────┼──────────┼──────────┤\n",
       "│<span style=\"color: #bf7fbf; text-decoration-color: #bf7fbf; font-weight: bold\"> 2025-01-… </span>│<span style=\"color: #bf7fbf; text-decoration-color: #bf7fbf; font-weight: bold\">   AO    </span>│<span style=\"color: #bf7fbf; text-decoration-color: #bf7fbf; font-weight: bold\">  Namibe   </span>│<span style=\"color: #bf7fbf; text-decoration-color: #bf7fbf; font-weight: bold\">    94     </span>│<span style=\"color: #bf7fbf; text-decoration-color: #bf7fbf; font-weight: bold\">    82    </span>│<span style=\"color: #bf7fbf; text-decoration-color: #bf7fbf; font-weight: bold\">   21.64   </span>│<span style=\"color: #bf7fbf; text-decoration-color: #bf7fbf; font-weight: bold\">  70.952  </span>│<span style=\"color: #bf7fbf; text-decoration-color: #bf7fbf; font-weight: bold\">   3.37    </span>│<span style=\"color: #bf7fbf; text-decoration-color: #bf7fbf; font-weight: bold\"> -15.1961 </span>│<span style=\"color: #bf7fbf; text-decoration-color: #bf7fbf; font-weight: bold\"> 12.1522  </span>│\n",
       "├───────────┼─────────┼───────────┼───────────┼──────────┼───────────┼──────────┼───────────┼──────────┼──────────┤\n",
       "│<span style=\"color: #bf7fbf; text-decoration-color: #bf7fbf; font-weight: bold\"> 2025-01-… </span>│<span style=\"color: #bf7fbf; text-decoration-color: #bf7fbf; font-weight: bold\">   AR    </span>│<span style=\"color: #bf7fbf; text-decoration-color: #bf7fbf; font-weight: bold\">   Villa   </span>│<span style=\"color: #bf7fbf; text-decoration-color: #bf7fbf; font-weight: bold\">    30     </span>│<span style=\"color: #bf7fbf; text-decoration-color: #bf7fbf; font-weight: bold\">    62    </span>│<span style=\"color: #bf7fbf; text-decoration-color: #bf7fbf; font-weight: bold\">   22.88   </span>│<span style=\"color: #bf7fbf; text-decoration-color: #bf7fbf; font-weight: bold\">  73.184  </span>│<span style=\"color: #bf7fbf; text-decoration-color: #bf7fbf; font-weight: bold\">   9.13    </span>│<span style=\"color: #bf7fbf; text-decoration-color: #bf7fbf; font-weight: bold\"> -37.2639 </span>│<span style=\"color: #bf7fbf; text-decoration-color: #bf7fbf; font-weight: bold\"> -56.973  </span>│\n",
       "│<span style=\"color: #bf7fbf; text-decoration-color: #bf7fbf; font-weight: bold\">           </span>│<span style=\"color: #bf7fbf; text-decoration-color: #bf7fbf; font-weight: bold\">         </span>│<span style=\"color: #bf7fbf; text-decoration-color: #bf7fbf; font-weight: bold\">  Gesell   </span>│<span style=\"color: #bf7fbf; text-decoration-color: #bf7fbf; font-weight: bold\">           </span>│<span style=\"color: #bf7fbf; text-decoration-color: #bf7fbf; font-weight: bold\">          </span>│<span style=\"color: #bf7fbf; text-decoration-color: #bf7fbf; font-weight: bold\">           </span>│<span style=\"color: #bf7fbf; text-decoration-color: #bf7fbf; font-weight: bold\">          </span>│<span style=\"color: #bf7fbf; text-decoration-color: #bf7fbf; font-weight: bold\">           </span>│<span style=\"color: #bf7fbf; text-decoration-color: #bf7fbf; font-weight: bold\">          </span>│<span style=\"color: #bf7fbf; text-decoration-color: #bf7fbf; font-weight: bold\">          </span>│\n",
       "├───────────┼─────────┼───────────┼───────────┼──────────┼───────────┼──────────┼───────────┼──────────┼──────────┤\n",
       "│<span style=\"color: #bf7fbf; text-decoration-color: #bf7fbf; font-weight: bold\"> 2025-01-… </span>│<span style=\"color: #bf7fbf; text-decoration-color: #bf7fbf; font-weight: bold\">   AR    </span>│<span style=\"color: #bf7fbf; text-decoration-color: #bf7fbf; font-weight: bold\">  Ushuaia  </span>│<span style=\"color: #bf7fbf; text-decoration-color: #bf7fbf; font-weight: bold\">    100    </span>│<span style=\"color: #bf7fbf; text-decoration-color: #bf7fbf; font-weight: bold\">    51    </span>│<span style=\"color: #bf7fbf; text-decoration-color: #bf7fbf; font-weight: bold\">   14.81   </span>│<span style=\"color: #bf7fbf; text-decoration-color: #bf7fbf; font-weight: bold\">  58.658  </span>│<span style=\"color: #bf7fbf; text-decoration-color: #bf7fbf; font-weight: bold\">   3.09    </span>│<span style=\"color: #bf7fbf; text-decoration-color: #bf7fbf; font-weight: bold\">  -54.8   </span>│<span style=\"color: #bf7fbf; text-decoration-color: #bf7fbf; font-weight: bold\">  -68.3   </span>│\n",
       "├───────────┼─────────┼───────────┼───────────┼──────────┼───────────┼──────────┼───────────┼──────────┼──────────┤\n",
       "│<span style=\"color: #bf7fbf; text-decoration-color: #bf7fbf; font-weight: bold\"> 2025-01-… </span>│<span style=\"color: #bf7fbf; text-decoration-color: #bf7fbf; font-weight: bold\">   AR    </span>│<span style=\"color: #bf7fbf; text-decoration-color: #bf7fbf; font-weight: bold\">  Mar Del  </span>│<span style=\"color: #bf7fbf; text-decoration-color: #bf7fbf; font-weight: bold\">     0     </span>│<span style=\"color: #bf7fbf; text-decoration-color: #bf7fbf; font-weight: bold\">    84    </span>│<span style=\"color: #bf7fbf; text-decoration-color: #bf7fbf; font-weight: bold\">   25.01   </span>│<span style=\"color: #bf7fbf; text-decoration-color: #bf7fbf; font-weight: bold\">  77.018  </span>│<span style=\"color: #bf7fbf; text-decoration-color: #bf7fbf; font-weight: bold\">   8.05    </span>│<span style=\"color: #bf7fbf; text-decoration-color: #bf7fbf; font-weight: bold\"> -38.0023 </span>│<span style=\"color: #bf7fbf; text-decoration-color: #bf7fbf; font-weight: bold\"> -57.5575 </span>│\n",
       "│<span style=\"color: #bf7fbf; text-decoration-color: #bf7fbf; font-weight: bold\">           </span>│<span style=\"color: #bf7fbf; text-decoration-color: #bf7fbf; font-weight: bold\">         </span>│<span style=\"color: #bf7fbf; text-decoration-color: #bf7fbf; font-weight: bold\">   Plata   </span>│<span style=\"color: #bf7fbf; text-decoration-color: #bf7fbf; font-weight: bold\">           </span>│<span style=\"color: #bf7fbf; text-decoration-color: #bf7fbf; font-weight: bold\">          </span>│<span style=\"color: #bf7fbf; text-decoration-color: #bf7fbf; font-weight: bold\">           </span>│<span style=\"color: #bf7fbf; text-decoration-color: #bf7fbf; font-weight: bold\">          </span>│<span style=\"color: #bf7fbf; text-decoration-color: #bf7fbf; font-weight: bold\">           </span>│<span style=\"color: #bf7fbf; text-decoration-color: #bf7fbf; font-weight: bold\">          </span>│<span style=\"color: #bf7fbf; text-decoration-color: #bf7fbf; font-weight: bold\">          </span>│\n",
       "├───────────┼─────────┼───────────┼───────────┼──────────┼───────────┼──────────┼───────────┼──────────┼──────────┤\n",
       "│<span style=\"color: #bf7fbf; text-decoration-color: #bf7fbf; font-weight: bold\"> 2025-01-… </span>│<span style=\"color: #bf7fbf; text-decoration-color: #bf7fbf; font-weight: bold\">   AR    </span>│<span style=\"color: #bf7fbf; text-decoration-color: #bf7fbf; font-weight: bold\"> Balnearia </span>│<span style=\"color: #bf7fbf; text-decoration-color: #bf7fbf; font-weight: bold\">    14     </span>│<span style=\"color: #bf7fbf; text-decoration-color: #bf7fbf; font-weight: bold\">    16    </span>│<span style=\"color: #bf7fbf; text-decoration-color: #bf7fbf; font-weight: bold\">   38.0    </span>│<span style=\"color: #bf7fbf; text-decoration-color: #bf7fbf; font-weight: bold\">  100.4   </span>│<span style=\"color: #bf7fbf; text-decoration-color: #bf7fbf; font-weight: bold\">   5.77    </span>│<span style=\"color: #bf7fbf; text-decoration-color: #bf7fbf; font-weight: bold\"> -31.0088 </span>│<span style=\"color: #bf7fbf; text-decoration-color: #bf7fbf; font-weight: bold\"> -62.6673 </span>│\n",
       "├───────────┼─────────┼───────────┼───────────┼──────────┼───────────┼──────────┼───────────┼──────────┼──────────┤\n",
       "│<span style=\"color: #bf7fbf; text-decoration-color: #bf7fbf; font-weight: bold\"> 2025-01-… </span>│<span style=\"color: #bf7fbf; text-decoration-color: #bf7fbf; font-weight: bold\">   AR    </span>│<span style=\"color: #bf7fbf; text-decoration-color: #bf7fbf; font-weight: bold\"> Las Heras </span>│<span style=\"color: #bf7fbf; text-decoration-color: #bf7fbf; font-weight: bold\">    21     </span>│<span style=\"color: #bf7fbf; text-decoration-color: #bf7fbf; font-weight: bold\">    22    </span>│<span style=\"color: #bf7fbf; text-decoration-color: #bf7fbf; font-weight: bold\">   25.25   </span>│<span style=\"color: #bf7fbf; text-decoration-color: #bf7fbf; font-weight: bold\">  77.45   </span>│<span style=\"color: #bf7fbf; text-decoration-color: #bf7fbf; font-weight: bold\">   17.45   </span>│<span style=\"color: #bf7fbf; text-decoration-color: #bf7fbf; font-weight: bold\"> -46.5419 </span>│<span style=\"color: #bf7fbf; text-decoration-color: #bf7fbf; font-weight: bold\"> -68.9359 </span>│\n",
       "├───────────┼─────────┼───────────┼───────────┼──────────┼───────────┼──────────┼───────────┼──────────┼──────────┤\n",
       "│<span style=\"color: #bf7fbf; text-decoration-color: #bf7fbf; font-weight: bold\"> 2025-01-… </span>│<span style=\"color: #bf7fbf; text-decoration-color: #bf7fbf; font-weight: bold\">   AR    </span>│<span style=\"color: #bf7fbf; text-decoration-color: #bf7fbf; font-weight: bold\">    El     </span>│<span style=\"color: #bf7fbf; text-decoration-color: #bf7fbf; font-weight: bold\">    27     </span>│<span style=\"color: #bf7fbf; text-decoration-color: #bf7fbf; font-weight: bold\">    53    </span>│<span style=\"color: #bf7fbf; text-decoration-color: #bf7fbf; font-weight: bold\">   12.47   </span>│<span style=\"color: #bf7fbf; text-decoration-color: #bf7fbf; font-weight: bold\">  54.446  </span>│<span style=\"color: #bf7fbf; text-decoration-color: #bf7fbf; font-weight: bold\">   10.3    </span>│<span style=\"color: #bf7fbf; text-decoration-color: #bf7fbf; font-weight: bold\"> -50.3408 </span>│<span style=\"color: #bf7fbf; text-decoration-color: #bf7fbf; font-weight: bold\"> -72.2768 </span>│\n",
       "│<span style=\"color: #bf7fbf; text-decoration-color: #bf7fbf; font-weight: bold\">           </span>│<span style=\"color: #bf7fbf; text-decoration-color: #bf7fbf; font-weight: bold\">         </span>│<span style=\"color: #bf7fbf; text-decoration-color: #bf7fbf; font-weight: bold\"> Calafate  </span>│<span style=\"color: #bf7fbf; text-decoration-color: #bf7fbf; font-weight: bold\">           </span>│<span style=\"color: #bf7fbf; text-decoration-color: #bf7fbf; font-weight: bold\">          </span>│<span style=\"color: #bf7fbf; text-decoration-color: #bf7fbf; font-weight: bold\">           </span>│<span style=\"color: #bf7fbf; text-decoration-color: #bf7fbf; font-weight: bold\">          </span>│<span style=\"color: #bf7fbf; text-decoration-color: #bf7fbf; font-weight: bold\">           </span>│<span style=\"color: #bf7fbf; text-decoration-color: #bf7fbf; font-weight: bold\">          </span>│<span style=\"color: #bf7fbf; text-decoration-color: #bf7fbf; font-weight: bold\">          </span>│\n",
       "├───────────┼─────────┼───────────┼───────────┼──────────┼───────────┼──────────┼───────────┼──────────┼──────────┤\n",
       "│<span style=\"color: #bf7fbf; text-decoration-color: #bf7fbf; font-weight: bold\"> 2025-01-… </span>│<span style=\"color: #bf7fbf; text-decoration-color: #bf7fbf; font-weight: bold\">   AR    </span>│<span style=\"color: #bf7fbf; text-decoration-color: #bf7fbf; font-weight: bold\"> Veintici… </span>│<span style=\"color: #bf7fbf; text-decoration-color: #bf7fbf; font-weight: bold\">    23     </span>│<span style=\"color: #bf7fbf; text-decoration-color: #bf7fbf; font-weight: bold\">    14    </span>│<span style=\"color: #bf7fbf; text-decoration-color: #bf7fbf; font-weight: bold\">   37.22   </span>│<span style=\"color: #bf7fbf; text-decoration-color: #bf7fbf; font-weight: bold\"> 98.9960… </span>│<span style=\"color: #bf7fbf; text-decoration-color: #bf7fbf; font-weight: bold\">   4.04    </span>│<span style=\"color: #bf7fbf; text-decoration-color: #bf7fbf; font-weight: bold\"> -35.4323 </span>│<span style=\"color: #bf7fbf; text-decoration-color: #bf7fbf; font-weight: bold\"> -60.1727 </span>│\n",
       "│<span style=\"color: #bf7fbf; text-decoration-color: #bf7fbf; font-weight: bold\">           </span>│<span style=\"color: #bf7fbf; text-decoration-color: #bf7fbf; font-weight: bold\">         </span>│<span style=\"color: #bf7fbf; text-decoration-color: #bf7fbf; font-weight: bold\">  De Mayo  </span>│<span style=\"color: #bf7fbf; text-decoration-color: #bf7fbf; font-weight: bold\">           </span>│<span style=\"color: #bf7fbf; text-decoration-color: #bf7fbf; font-weight: bold\">          </span>│<span style=\"color: #bf7fbf; text-decoration-color: #bf7fbf; font-weight: bold\">           </span>│<span style=\"color: #bf7fbf; text-decoration-color: #bf7fbf; font-weight: bold\">          </span>│<span style=\"color: #bf7fbf; text-decoration-color: #bf7fbf; font-weight: bold\">           </span>│<span style=\"color: #bf7fbf; text-decoration-color: #bf7fbf; font-weight: bold\">          </span>│<span style=\"color: #bf7fbf; text-decoration-color: #bf7fbf; font-weight: bold\">          </span>│\n",
       "└───────────┴─────────┴───────────┴───────────┴──────────┴───────────┴──────────┴───────────┴──────────┴──────────┘\n",
       "</pre>\n"
      ],
      "text/plain": [
       "\u001b[3m                                       City Weather Data (Sorted by Country)                                       \u001b[0m\n",
       "┏━━━━━━━━━━━┳━━━━━━━━━┳━━━━━━━━━━━┳━━━━━━━━━━━┳━━━━━━━━━━┳━━━━━━━━━━━┳━━━━━━━━━━┳━━━━━━━━━━━┳━━━━━━━━━━┳━━━━━━━━━━┓\n",
       "┃\u001b[1;36m \u001b[0m\u001b[1;36m  Date   \u001b[0m\u001b[1;36m \u001b[0m┃\u001b[1;36m \u001b[0m\u001b[1;36mCountry\u001b[0m\u001b[1;36m \u001b[0m┃\u001b[1;36m \u001b[0m\u001b[1;36m  City   \u001b[0m\u001b[1;36m \u001b[0m┃\u001b[1;36m \u001b[0m\u001b[1;36mCloudine…\u001b[0m\u001b[1;36m \u001b[0m┃\u001b[1;36m \u001b[0m\u001b[1;36mHumidity\u001b[0m\u001b[1;36m \u001b[0m┃\u001b[1;36m \u001b[0m\u001b[1;36mMaximum_…\u001b[0m\u001b[1;36m \u001b[0m┃\u001b[1;36m \u001b[0m\u001b[1;36mMaximum…\u001b[0m\u001b[1;36m \u001b[0m┃\u001b[1;36m \u001b[0m\u001b[1;36mWind_Spe…\u001b[0m\u001b[1;36m \u001b[0m┃\u001b[1;36m \u001b[0m\u001b[1;36m  Lat   \u001b[0m\u001b[1;36m \u001b[0m┃\u001b[1;36m \u001b[0m\u001b[1;36m  Lng   \u001b[0m\u001b[1;36m \u001b[0m┃\n",
       "┡━━━━━━━━━━━╇━━━━━━━━━╇━━━━━━━━━━━╇━━━━━━━━━━━╇━━━━━━━━━━╇━━━━━━━━━━━╇━━━━━━━━━━╇━━━━━━━━━━━╇━━━━━━━━━━╇━━━━━━━━━━┩\n",
       "│\u001b[1;2;35m \u001b[0m\u001b[1;2;35m2025-01-…\u001b[0m\u001b[1;2;35m \u001b[0m│\u001b[1;2;35m \u001b[0m\u001b[1;2;35m  AF   \u001b[0m\u001b[1;2;35m \u001b[0m│\u001b[1;2;35m \u001b[0m\u001b[1;2;35m Zaranj  \u001b[0m\u001b[1;2;35m \u001b[0m│\u001b[1;2;35m \u001b[0m\u001b[1;2;35m   16    \u001b[0m\u001b[1;2;35m \u001b[0m│\u001b[1;2;35m \u001b[0m\u001b[1;2;35m   54   \u001b[0m\u001b[1;2;35m \u001b[0m│\u001b[1;2;35m \u001b[0m\u001b[1;2;35m   6.7   \u001b[0m\u001b[1;2;35m \u001b[0m│\u001b[1;2;35m \u001b[0m\u001b[1;2;35m 44.06  \u001b[0m\u001b[1;2;35m \u001b[0m│\u001b[1;2;35m \u001b[0m\u001b[1;2;35m   7.3   \u001b[0m\u001b[1;2;35m \u001b[0m│\u001b[1;2;35m \u001b[0m\u001b[1;2;35m30.9667 \u001b[0m\u001b[1;2;35m \u001b[0m│\u001b[1;2;35m \u001b[0m\u001b[1;2;35m61.8833 \u001b[0m\u001b[1;2;35m \u001b[0m│\n",
       "├───────────┼─────────┼───────────┼───────────┼──────────┼───────────┼──────────┼───────────┼──────────┼──────────┤\n",
       "│\u001b[1;2;35m \u001b[0m\u001b[1;2;35m2025-01-…\u001b[0m\u001b[1;2;35m \u001b[0m│\u001b[1;2;35m \u001b[0m\u001b[1;2;35m  AO   \u001b[0m\u001b[1;2;35m \u001b[0m│\u001b[1;2;35m \u001b[0m\u001b[1;2;35m Cabinda \u001b[0m\u001b[1;2;35m \u001b[0m│\u001b[1;2;35m \u001b[0m\u001b[1;2;35m   20    \u001b[0m\u001b[1;2;35m \u001b[0m│\u001b[1;2;35m \u001b[0m\u001b[1;2;35m   83   \u001b[0m\u001b[1;2;35m \u001b[0m│\u001b[1;2;35m \u001b[0m\u001b[1;2;35m  28.08  \u001b[0m\u001b[1;2;35m \u001b[0m│\u001b[1;2;35m \u001b[0m\u001b[1;2;35m 82.544 \u001b[0m\u001b[1;2;35m \u001b[0m│\u001b[1;2;35m \u001b[0m\u001b[1;2;35m  2.57   \u001b[0m\u001b[1;2;35m \u001b[0m│\u001b[1;2;35m \u001b[0m\u001b[1;2;35m -5.55  \u001b[0m\u001b[1;2;35m \u001b[0m│\u001b[1;2;35m \u001b[0m\u001b[1;2;35m  12.2  \u001b[0m\u001b[1;2;35m \u001b[0m│\n",
       "├───────────┼─────────┼───────────┼───────────┼──────────┼───────────┼──────────┼───────────┼──────────┼──────────┤\n",
       "│\u001b[1;2;35m \u001b[0m\u001b[1;2;35m2025-01-…\u001b[0m\u001b[1;2;35m \u001b[0m│\u001b[1;2;35m \u001b[0m\u001b[1;2;35m  AO   \u001b[0m\u001b[1;2;35m \u001b[0m│\u001b[1;2;35m \u001b[0m\u001b[1;2;35m Namibe  \u001b[0m\u001b[1;2;35m \u001b[0m│\u001b[1;2;35m \u001b[0m\u001b[1;2;35m   94    \u001b[0m\u001b[1;2;35m \u001b[0m│\u001b[1;2;35m \u001b[0m\u001b[1;2;35m   82   \u001b[0m\u001b[1;2;35m \u001b[0m│\u001b[1;2;35m \u001b[0m\u001b[1;2;35m  21.64  \u001b[0m\u001b[1;2;35m \u001b[0m│\u001b[1;2;35m \u001b[0m\u001b[1;2;35m 70.952 \u001b[0m\u001b[1;2;35m \u001b[0m│\u001b[1;2;35m \u001b[0m\u001b[1;2;35m  3.37   \u001b[0m\u001b[1;2;35m \u001b[0m│\u001b[1;2;35m \u001b[0m\u001b[1;2;35m-15.1961\u001b[0m\u001b[1;2;35m \u001b[0m│\u001b[1;2;35m \u001b[0m\u001b[1;2;35m12.1522 \u001b[0m\u001b[1;2;35m \u001b[0m│\n",
       "├───────────┼─────────┼───────────┼───────────┼──────────┼───────────┼──────────┼───────────┼──────────┼──────────┤\n",
       "│\u001b[1;2;35m \u001b[0m\u001b[1;2;35m2025-01-…\u001b[0m\u001b[1;2;35m \u001b[0m│\u001b[1;2;35m \u001b[0m\u001b[1;2;35m  AR   \u001b[0m\u001b[1;2;35m \u001b[0m│\u001b[1;2;35m \u001b[0m\u001b[1;2;35m  Villa  \u001b[0m\u001b[1;2;35m \u001b[0m│\u001b[1;2;35m \u001b[0m\u001b[1;2;35m   30    \u001b[0m\u001b[1;2;35m \u001b[0m│\u001b[1;2;35m \u001b[0m\u001b[1;2;35m   62   \u001b[0m\u001b[1;2;35m \u001b[0m│\u001b[1;2;35m \u001b[0m\u001b[1;2;35m  22.88  \u001b[0m\u001b[1;2;35m \u001b[0m│\u001b[1;2;35m \u001b[0m\u001b[1;2;35m 73.184 \u001b[0m\u001b[1;2;35m \u001b[0m│\u001b[1;2;35m \u001b[0m\u001b[1;2;35m  9.13   \u001b[0m\u001b[1;2;35m \u001b[0m│\u001b[1;2;35m \u001b[0m\u001b[1;2;35m-37.2639\u001b[0m\u001b[1;2;35m \u001b[0m│\u001b[1;2;35m \u001b[0m\u001b[1;2;35m-56.973 \u001b[0m\u001b[1;2;35m \u001b[0m│\n",
       "│\u001b[1;2;35m           \u001b[0m│\u001b[1;2;35m         \u001b[0m│\u001b[1;2;35m \u001b[0m\u001b[1;2;35m Gesell  \u001b[0m\u001b[1;2;35m \u001b[0m│\u001b[1;2;35m           \u001b[0m│\u001b[1;2;35m          \u001b[0m│\u001b[1;2;35m           \u001b[0m│\u001b[1;2;35m          \u001b[0m│\u001b[1;2;35m           \u001b[0m│\u001b[1;2;35m          \u001b[0m│\u001b[1;2;35m          \u001b[0m│\n",
       "├───────────┼─────────┼───────────┼───────────┼──────────┼───────────┼──────────┼───────────┼──────────┼──────────┤\n",
       "│\u001b[1;2;35m \u001b[0m\u001b[1;2;35m2025-01-…\u001b[0m\u001b[1;2;35m \u001b[0m│\u001b[1;2;35m \u001b[0m\u001b[1;2;35m  AR   \u001b[0m\u001b[1;2;35m \u001b[0m│\u001b[1;2;35m \u001b[0m\u001b[1;2;35m Ushuaia \u001b[0m\u001b[1;2;35m \u001b[0m│\u001b[1;2;35m \u001b[0m\u001b[1;2;35m   100   \u001b[0m\u001b[1;2;35m \u001b[0m│\u001b[1;2;35m \u001b[0m\u001b[1;2;35m   51   \u001b[0m\u001b[1;2;35m \u001b[0m│\u001b[1;2;35m \u001b[0m\u001b[1;2;35m  14.81  \u001b[0m\u001b[1;2;35m \u001b[0m│\u001b[1;2;35m \u001b[0m\u001b[1;2;35m 58.658 \u001b[0m\u001b[1;2;35m \u001b[0m│\u001b[1;2;35m \u001b[0m\u001b[1;2;35m  3.09   \u001b[0m\u001b[1;2;35m \u001b[0m│\u001b[1;2;35m \u001b[0m\u001b[1;2;35m -54.8  \u001b[0m\u001b[1;2;35m \u001b[0m│\u001b[1;2;35m \u001b[0m\u001b[1;2;35m -68.3  \u001b[0m\u001b[1;2;35m \u001b[0m│\n",
       "├───────────┼─────────┼───────────┼───────────┼──────────┼───────────┼──────────┼───────────┼──────────┼──────────┤\n",
       "│\u001b[1;2;35m \u001b[0m\u001b[1;2;35m2025-01-…\u001b[0m\u001b[1;2;35m \u001b[0m│\u001b[1;2;35m \u001b[0m\u001b[1;2;35m  AR   \u001b[0m\u001b[1;2;35m \u001b[0m│\u001b[1;2;35m \u001b[0m\u001b[1;2;35m Mar Del \u001b[0m\u001b[1;2;35m \u001b[0m│\u001b[1;2;35m \u001b[0m\u001b[1;2;35m    0    \u001b[0m\u001b[1;2;35m \u001b[0m│\u001b[1;2;35m \u001b[0m\u001b[1;2;35m   84   \u001b[0m\u001b[1;2;35m \u001b[0m│\u001b[1;2;35m \u001b[0m\u001b[1;2;35m  25.01  \u001b[0m\u001b[1;2;35m \u001b[0m│\u001b[1;2;35m \u001b[0m\u001b[1;2;35m 77.018 \u001b[0m\u001b[1;2;35m \u001b[0m│\u001b[1;2;35m \u001b[0m\u001b[1;2;35m  8.05   \u001b[0m\u001b[1;2;35m \u001b[0m│\u001b[1;2;35m \u001b[0m\u001b[1;2;35m-38.0023\u001b[0m\u001b[1;2;35m \u001b[0m│\u001b[1;2;35m \u001b[0m\u001b[1;2;35m-57.5575\u001b[0m\u001b[1;2;35m \u001b[0m│\n",
       "│\u001b[1;2;35m           \u001b[0m│\u001b[1;2;35m         \u001b[0m│\u001b[1;2;35m \u001b[0m\u001b[1;2;35m  Plata  \u001b[0m\u001b[1;2;35m \u001b[0m│\u001b[1;2;35m           \u001b[0m│\u001b[1;2;35m          \u001b[0m│\u001b[1;2;35m           \u001b[0m│\u001b[1;2;35m          \u001b[0m│\u001b[1;2;35m           \u001b[0m│\u001b[1;2;35m          \u001b[0m│\u001b[1;2;35m          \u001b[0m│\n",
       "├───────────┼─────────┼───────────┼───────────┼──────────┼───────────┼──────────┼───────────┼──────────┼──────────┤\n",
       "│\u001b[1;2;35m \u001b[0m\u001b[1;2;35m2025-01-…\u001b[0m\u001b[1;2;35m \u001b[0m│\u001b[1;2;35m \u001b[0m\u001b[1;2;35m  AR   \u001b[0m\u001b[1;2;35m \u001b[0m│\u001b[1;2;35m \u001b[0m\u001b[1;2;35mBalnearia\u001b[0m\u001b[1;2;35m \u001b[0m│\u001b[1;2;35m \u001b[0m\u001b[1;2;35m   14    \u001b[0m\u001b[1;2;35m \u001b[0m│\u001b[1;2;35m \u001b[0m\u001b[1;2;35m   16   \u001b[0m\u001b[1;2;35m \u001b[0m│\u001b[1;2;35m \u001b[0m\u001b[1;2;35m  38.0   \u001b[0m\u001b[1;2;35m \u001b[0m│\u001b[1;2;35m \u001b[0m\u001b[1;2;35m 100.4  \u001b[0m\u001b[1;2;35m \u001b[0m│\u001b[1;2;35m \u001b[0m\u001b[1;2;35m  5.77   \u001b[0m\u001b[1;2;35m \u001b[0m│\u001b[1;2;35m \u001b[0m\u001b[1;2;35m-31.0088\u001b[0m\u001b[1;2;35m \u001b[0m│\u001b[1;2;35m \u001b[0m\u001b[1;2;35m-62.6673\u001b[0m\u001b[1;2;35m \u001b[0m│\n",
       "├───────────┼─────────┼───────────┼───────────┼──────────┼───────────┼──────────┼───────────┼──────────┼──────────┤\n",
       "│\u001b[1;2;35m \u001b[0m\u001b[1;2;35m2025-01-…\u001b[0m\u001b[1;2;35m \u001b[0m│\u001b[1;2;35m \u001b[0m\u001b[1;2;35m  AR   \u001b[0m\u001b[1;2;35m \u001b[0m│\u001b[1;2;35m \u001b[0m\u001b[1;2;35mLas Heras\u001b[0m\u001b[1;2;35m \u001b[0m│\u001b[1;2;35m \u001b[0m\u001b[1;2;35m   21    \u001b[0m\u001b[1;2;35m \u001b[0m│\u001b[1;2;35m \u001b[0m\u001b[1;2;35m   22   \u001b[0m\u001b[1;2;35m \u001b[0m│\u001b[1;2;35m \u001b[0m\u001b[1;2;35m  25.25  \u001b[0m\u001b[1;2;35m \u001b[0m│\u001b[1;2;35m \u001b[0m\u001b[1;2;35m 77.45  \u001b[0m\u001b[1;2;35m \u001b[0m│\u001b[1;2;35m \u001b[0m\u001b[1;2;35m  17.45  \u001b[0m\u001b[1;2;35m \u001b[0m│\u001b[1;2;35m \u001b[0m\u001b[1;2;35m-46.5419\u001b[0m\u001b[1;2;35m \u001b[0m│\u001b[1;2;35m \u001b[0m\u001b[1;2;35m-68.9359\u001b[0m\u001b[1;2;35m \u001b[0m│\n",
       "├───────────┼─────────┼───────────┼───────────┼──────────┼───────────┼──────────┼───────────┼──────────┼──────────┤\n",
       "│\u001b[1;2;35m \u001b[0m\u001b[1;2;35m2025-01-…\u001b[0m\u001b[1;2;35m \u001b[0m│\u001b[1;2;35m \u001b[0m\u001b[1;2;35m  AR   \u001b[0m\u001b[1;2;35m \u001b[0m│\u001b[1;2;35m \u001b[0m\u001b[1;2;35m   El    \u001b[0m\u001b[1;2;35m \u001b[0m│\u001b[1;2;35m \u001b[0m\u001b[1;2;35m   27    \u001b[0m\u001b[1;2;35m \u001b[0m│\u001b[1;2;35m \u001b[0m\u001b[1;2;35m   53   \u001b[0m\u001b[1;2;35m \u001b[0m│\u001b[1;2;35m \u001b[0m\u001b[1;2;35m  12.47  \u001b[0m\u001b[1;2;35m \u001b[0m│\u001b[1;2;35m \u001b[0m\u001b[1;2;35m 54.446 \u001b[0m\u001b[1;2;35m \u001b[0m│\u001b[1;2;35m \u001b[0m\u001b[1;2;35m  10.3   \u001b[0m\u001b[1;2;35m \u001b[0m│\u001b[1;2;35m \u001b[0m\u001b[1;2;35m-50.3408\u001b[0m\u001b[1;2;35m \u001b[0m│\u001b[1;2;35m \u001b[0m\u001b[1;2;35m-72.2768\u001b[0m\u001b[1;2;35m \u001b[0m│\n",
       "│\u001b[1;2;35m           \u001b[0m│\u001b[1;2;35m         \u001b[0m│\u001b[1;2;35m \u001b[0m\u001b[1;2;35mCalafate \u001b[0m\u001b[1;2;35m \u001b[0m│\u001b[1;2;35m           \u001b[0m│\u001b[1;2;35m          \u001b[0m│\u001b[1;2;35m           \u001b[0m│\u001b[1;2;35m          \u001b[0m│\u001b[1;2;35m           \u001b[0m│\u001b[1;2;35m          \u001b[0m│\u001b[1;2;35m          \u001b[0m│\n",
       "├───────────┼─────────┼───────────┼───────────┼──────────┼───────────┼──────────┼───────────┼──────────┼──────────┤\n",
       "│\u001b[1;2;35m \u001b[0m\u001b[1;2;35m2025-01-…\u001b[0m\u001b[1;2;35m \u001b[0m│\u001b[1;2;35m \u001b[0m\u001b[1;2;35m  AR   \u001b[0m\u001b[1;2;35m \u001b[0m│\u001b[1;2;35m \u001b[0m\u001b[1;2;35mVeintici…\u001b[0m\u001b[1;2;35m \u001b[0m│\u001b[1;2;35m \u001b[0m\u001b[1;2;35m   23    \u001b[0m\u001b[1;2;35m \u001b[0m│\u001b[1;2;35m \u001b[0m\u001b[1;2;35m   14   \u001b[0m\u001b[1;2;35m \u001b[0m│\u001b[1;2;35m \u001b[0m\u001b[1;2;35m  37.22  \u001b[0m\u001b[1;2;35m \u001b[0m│\u001b[1;2;35m \u001b[0m\u001b[1;2;35m98.9960…\u001b[0m\u001b[1;2;35m \u001b[0m│\u001b[1;2;35m \u001b[0m\u001b[1;2;35m  4.04   \u001b[0m\u001b[1;2;35m \u001b[0m│\u001b[1;2;35m \u001b[0m\u001b[1;2;35m-35.4323\u001b[0m\u001b[1;2;35m \u001b[0m│\u001b[1;2;35m \u001b[0m\u001b[1;2;35m-60.1727\u001b[0m\u001b[1;2;35m \u001b[0m│\n",
       "│\u001b[1;2;35m           \u001b[0m│\u001b[1;2;35m         \u001b[0m│\u001b[1;2;35m \u001b[0m\u001b[1;2;35m De Mayo \u001b[0m\u001b[1;2;35m \u001b[0m│\u001b[1;2;35m           \u001b[0m│\u001b[1;2;35m          \u001b[0m│\u001b[1;2;35m           \u001b[0m│\u001b[1;2;35m          \u001b[0m│\u001b[1;2;35m           \u001b[0m│\u001b[1;2;35m          \u001b[0m│\u001b[1;2;35m          \u001b[0m│\n",
       "└───────────┴─────────┴───────────┴───────────┴──────────┴───────────┴──────────┴───────────┴──────────┴──────────┘\n"
      ]
     },
     "metadata": {},
     "output_type": "display_data"
    }
   ],
   "source": [
    "# Sort the DataFrame by the Country column alphabetically\n",
    "city_data_df = city_data_df.sort_values(by='Country')\n",
    "\n",
    "# Create a rich Console object\n",
    "console = Console()\n",
    "\n",
    "# Create a rich Table object with a title and enhanced styles\n",
    "table = Table(title=\"City Weather Data (Sorted by Country)\", show_header=True, header_style=\"bold cyan\", show_lines=True)\n",
    "\n",
    "# Add columns dynamically based on the sorted DataFrame\n",
    "for column in city_data_df.columns:\n",
    "    table.add_column(column, style=\"bold magenta\", justify=\"center\")\n",
    "\n",
    "# Add rows from the sorted DataFrame (only the first 10 rows for brevity)\n",
    "for idx, row in city_data_df.head(10).iterrows():\n",
    "    # Apply alternating row styles\n",
    "    if idx % 2 == 0:\n",
    "        table.add_row(*[str(value) for value in row], style=\"dim\")\n",
    "    else:\n",
    "        table.add_row(*[str(value) for value in row])\n",
    "\n",
    "# Print the table with rich formatting\n",
    "console.print(table)"
   ]
  },
  {
   "cell_type": "code",
   "execution_count": 29,
   "id": "08a7b11f-f814-45c9-82aa-383a1ffccd0c",
   "metadata": {},
   "outputs": [],
   "source": [
    "# Export the City_Data into a csv\n",
    "city_data_df.to_csv(\"Data_output/cities.csv\", index_label=\"City_ID\")\n"
   ]
  },
  {
   "cell_type": "code",
   "execution_count": 30,
   "id": "4926d66f-ad6a-4fb9-9f24-e512562e173c",
   "metadata": {},
   "outputs": [],
   "source": [
    "# Convert city_data to a DataFrame (assuming city_data is a list of dictionaries)\n",
    "northern_cities_df = pd.DataFrame(city_data)\n"
   ]
  },
  {
   "cell_type": "code",
   "execution_count": 31,
   "id": "b2e8a60b-1534-4d24-8c4d-2bb2fd4a20b3",
   "metadata": {},
   "outputs": [
    {
     "data": {
      "text/html": [
       "<pre style=\"white-space:pre;overflow-x:auto;line-height:normal;font-family:Menlo,'DejaVu Sans Mono',consolas,'Courier New',monospace\"><span style=\"font-weight: bold\">&lt;</span><span style=\"color: #ff00ff; text-decoration-color: #ff00ff; font-weight: bold\">class</span><span style=\"color: #000000; text-decoration-color: #000000\"> </span><span style=\"color: #008000; text-decoration-color: #008000\">'list'</span><span style=\"font-weight: bold\">&gt;</span>\n",
       "</pre>\n"
      ],
      "text/plain": [
       "\u001b[1m<\u001b[0m\u001b[1;95mclass\u001b[0m\u001b[39m \u001b[0m\u001b[32m'list'\u001b[0m\u001b[1m>\u001b[0m\n"
      ]
     },
     "metadata": {},
     "output_type": "display_data"
    },
    {
     "data": {
      "text/html": [
       "<pre style=\"white-space:pre;overflow-x:auto;line-height:normal;font-family:Menlo,'DejaVu Sans Mono',consolas,'Courier New',monospace\"><span style=\"color: #800080; text-decoration-color: #800080; font-weight: bold\">Index</span><span style=\"font-weight: bold\">([</span><span style=\"color: #008000; text-decoration-color: #008000\">'City'</span>, <span style=\"color: #008000; text-decoration-color: #008000\">'Lat'</span>, <span style=\"color: #008000; text-decoration-color: #008000\">'Lng'</span>, <span style=\"color: #008000; text-decoration-color: #008000\">'Max Temp'</span>, <span style=\"color: #008000; text-decoration-color: #008000\">'Humidity'</span>, <span style=\"color: #008000; text-decoration-color: #008000\">'Cloudiness'</span>,\n",
       "       <span style=\"color: #008000; text-decoration-color: #008000\">'Wind Speed'</span>, <span style=\"color: #008000; text-decoration-color: #008000\">'Country'</span>, <span style=\"color: #008000; text-decoration-color: #008000\">'Date'</span><span style=\"font-weight: bold\">]</span>,\n",
       "      <span style=\"color: #808000; text-decoration-color: #808000\">dtype</span>=<span style=\"color: #008000; text-decoration-color: #008000\">'object'</span><span style=\"font-weight: bold\">)</span>\n",
       "</pre>\n"
      ],
      "text/plain": [
       "\u001b[1;35mIndex\u001b[0m\u001b[1m(\u001b[0m\u001b[1m[\u001b[0m\u001b[32m'City'\u001b[0m, \u001b[32m'Lat'\u001b[0m, \u001b[32m'Lng'\u001b[0m, \u001b[32m'Max Temp'\u001b[0m, \u001b[32m'Humidity'\u001b[0m, \u001b[32m'Cloudiness'\u001b[0m,\n",
       "       \u001b[32m'Wind Speed'\u001b[0m, \u001b[32m'Country'\u001b[0m, \u001b[32m'Date'\u001b[0m\u001b[1m]\u001b[0m,\n",
       "      \u001b[33mdtype\u001b[0m=\u001b[32m'object'\u001b[0m\u001b[1m)\u001b[0m\n"
      ]
     },
     "metadata": {},
     "output_type": "display_data"
    },
    {
     "data": {
      "text/html": [
       "<pre style=\"white-space:pre;overflow-x:auto;line-height:normal;font-family:Menlo,'DejaVu Sans Mono',consolas,'Courier New',monospace\">Missing columns from DataFrame. Available columns: <span style=\"color: #800080; text-decoration-color: #800080; font-weight: bold\">Index</span><span style=\"font-weight: bold\">([</span><span style=\"color: #008000; text-decoration-color: #008000\">'City'</span>, <span style=\"color: #008000; text-decoration-color: #008000\">'Lat'</span>, <span style=\"color: #008000; text-decoration-color: #008000\">'Lng'</span>, <span style=\"color: #008000; text-decoration-color: #008000\">'Max Temp'</span>, <span style=\"color: #008000; text-decoration-color: #008000\">'Humidity'</span>, \n",
       "<span style=\"color: #008000; text-decoration-color: #008000\">'Cloudiness'</span>,\n",
       "       <span style=\"color: #008000; text-decoration-color: #008000\">'Wind Speed'</span>, <span style=\"color: #008000; text-decoration-color: #008000\">'Country'</span>, <span style=\"color: #008000; text-decoration-color: #008000\">'Date'</span><span style=\"font-weight: bold\">]</span>,\n",
       "      <span style=\"color: #808000; text-decoration-color: #808000\">dtype</span>=<span style=\"color: #008000; text-decoration-color: #008000\">'object'</span><span style=\"font-weight: bold\">)</span>\n",
       "</pre>\n"
      ],
      "text/plain": [
       "Missing columns from DataFrame. Available columns: \u001b[1;35mIndex\u001b[0m\u001b[1m(\u001b[0m\u001b[1m[\u001b[0m\u001b[32m'City'\u001b[0m, \u001b[32m'Lat'\u001b[0m, \u001b[32m'Lng'\u001b[0m, \u001b[32m'Max Temp'\u001b[0m, \u001b[32m'Humidity'\u001b[0m, \n",
       "\u001b[32m'Cloudiness'\u001b[0m,\n",
       "       \u001b[32m'Wind Speed'\u001b[0m, \u001b[32m'Country'\u001b[0m, \u001b[32m'Date'\u001b[0m\u001b[1m]\u001b[0m,\n",
       "      \u001b[33mdtype\u001b[0m=\u001b[32m'object'\u001b[0m\u001b[1m)\u001b[0m\n"
      ]
     },
     "metadata": {},
     "output_type": "display_data"
    }
   ],
   "source": [
    "# Assuming city_data is defined earlier, and you're working with a DataFrame\n",
    "# Ensure you first convert city_data to a valid DataFrame if it's not already\n",
    "northern_cities_df = pd.DataFrame(city_data)  # city_data should be a list of dictionaries\n",
    "\n",
    "# Check if 'city_data' is a valid list of dictionaries\n",
    "print(type(city_data))  # Should be <class 'list'> if it's a list of dictionaries\n",
    "\n",
    "required_columns = ['Date', 'Country', 'City', 'Cloudiness', 'Humidity', \n",
    "                    'Maximum_Temperature', 'Maximum_Temperature_F', 'Wind_Speed_kmh', 'Lat', 'Lng']\n",
    "\n",
    "# Check the columns present in the DataFrame\n",
    "print(northern_cities_df.columns)\n",
    "\n",
    "# Validate the columns\n",
    "if not all(col in northern_cities_df.columns for col in required_columns):\n",
    "    print(f\"Missing columns from DataFrame. Available columns: {northern_cities_df.columns}\")\n",
    "else:\n",
    "    # Filter the cities with Lat < 0 (southern hemisphere)\n",
    "    northern_cities_df = northern_cities_df[northern_cities_df['Lat'] < 0]\n",
    "    \n",
    "    # Convert 'Date' column to datetime\n",
    "    northern_cities_df['Date'] = pd.to_datetime(northern_cities_df['Date'], errors='coerce')\n",
    "    \n",
    "    # Now you can insert each city into MongoDB\n",
    "    for _, city in northern_cities_df.iterrows():\n",
    "        city_data = {\n",
    "            \"date\": city['Date'].strftime('%Y-%m-%d') if pd.notnull(city['Date']) else None,\n",
    "            \"country\": city['Country'],\n",
    "            \"city\": city['City'],\n",
    "            \"cloudiness\": city['Cloudiness'],\n",
    "            \"humidity\": city['Humidity'],\n",
    "            \"max_temperature\": city['Maximum_Temperature'],\n",
    "            \"max_temperature_f\": city['Maximum_Temperature_F'],\n",
    "            \"wind_speed\": city['Wind_Speed_kmh'],\n",
    "            \"lat\": city['Lat'],\n",
    "            \"lon\": city['Lng']\n",
    "        }\n",
    "\n",
    "        try:\n",
    "            # Assuming `northern_cities` is your MongoDB collection\n",
    "            northern_cities.insert_one(city_data)  \n",
    "        except Exception as e:\n",
    "            print(f\"Error inserting data for {city['City']}: {e}\")\n",
    "    \n",
    "    # Save the filtered DataFrame to CSV\n",
    "    northern_cities_df.to_csv(\"Data_output/northern_cities.csv\", index_label=\"City_ID\")\n",
    "    \n",
    "    print(\"Northern cities data insertion and export completed!\")"
   ]
  },
  {
   "cell_type": "code",
   "execution_count": 32,
   "id": "2cc22fc6-5600-44cb-a378-7763b6260455",
   "metadata": {
    "scrolled": true
   },
   "outputs": [
    {
     "data": {
      "text/html": [
       "<pre style=\"white-space:pre;overflow-x:auto;line-height:normal;font-family:Menlo,'DejaVu Sans Mono',consolas,'Courier New',monospace\">northern_cities.csv has been successfully updated!\n",
       "</pre>\n"
      ],
      "text/plain": [
       "northern_cities.csv has been successfully updated!\n"
      ]
     },
     "metadata": {},
     "output_type": "display_data"
    }
   ],
   "source": [
    "# Export the northern_cities into a csv\n",
    "northern_cities_df.to_csv(\"Data_output/northern_cities.csv\", index_label=\"City_ID\")\n",
    "# Print a message confirming the file has been updated\n",
    "print(\"northern_cities.csv has been successfully updated!\")"
   ]
  },
  {
   "cell_type": "code",
   "execution_count": 33,
   "id": "f26a878b-bc5c-428d-963c-5fc047d4ce00",
   "metadata": {},
   "outputs": [
    {
     "data": {
      "text/plain": [
       "['City_ID',\n",
       " 'Date',\n",
       " 'Country',\n",
       " 'City',\n",
       " 'Cloudiness',\n",
       " 'Humidity',\n",
       " 'Maximum_Temperature',\n",
       " 'Maximum_Temperature_F',\n",
       " 'Wind_Speed_kmh',\n",
       " 'Lat',\n",
       " 'Lng']"
      ]
     },
     "execution_count": 33,
     "metadata": {},
     "output_type": "execute_result"
    }
   ],
   "source": [
    "required_columns = ['City_ID', 'Date', 'Country', 'City', 'Cloudiness', 'Humidity', \n",
    "                    'Maximum_Temperature', 'Maximum_Temperature_F', 'Wind_Speed_kmh', 'Lat', 'Lng']\n",
    "required_columns"
   ]
  },
  {
   "cell_type": "code",
   "execution_count": 34,
   "id": "1c8041a5-4cc9-40de-a5ff-2d04508846d5",
   "metadata": {},
   "outputs": [
    {
     "name": "stdout",
     "output_type": "stream",
     "text": [
      "<class 'pandas.core.frame.DataFrame'>\n",
      "Index: 578 entries, 444 to 223\n",
      "Data columns (total 10 columns):\n",
      " #   Column                 Non-Null Count  Dtype  \n",
      "---  ------                 --------------  -----  \n",
      " 0   Date                   578 non-null    object \n",
      " 1   Country                578 non-null    object \n",
      " 2   City                   578 non-null    object \n",
      " 3   Cloudiness             578 non-null    int64  \n",
      " 4   Humidity               578 non-null    int64  \n",
      " 5   Maximum_Temperature    578 non-null    float64\n",
      " 6   Maximum_Temperature_F  578 non-null    float64\n",
      " 7   Wind_Speed_kmh         578 non-null    float64\n",
      " 8   Lat                    578 non-null    float64\n",
      " 9   Lng                    578 non-null    float64\n",
      "dtypes: float64(5), int64(2), object(3)\n",
      "memory usage: 49.7+ KB\n"
     ]
    }
   ],
   "source": [
    "city_data_df.info()\n"
   ]
  },
  {
   "cell_type": "code",
   "execution_count": 35,
   "id": "3787d9c6-ca72-4a5a-bc60-92332a2c00a9",
   "metadata": {},
   "outputs": [
    {
     "data": {
      "text/html": [
       "<pre style=\"white-space:pre;overflow-x:auto;line-height:normal;font-family:Menlo,'DejaVu Sans Mono',consolas,'Courier New',monospace\"><span style=\"color: #800080; text-decoration-color: #800080; font-weight: bold\">Index</span><span style=\"font-weight: bold\">([</span><span style=\"color: #008000; text-decoration-color: #008000\">'Date'</span>, <span style=\"color: #008000; text-decoration-color: #008000\">'Country'</span>, <span style=\"color: #008000; text-decoration-color: #008000\">'City'</span>, <span style=\"color: #008000; text-decoration-color: #008000\">'Cloudiness'</span>, <span style=\"color: #008000; text-decoration-color: #008000\">'Humidity'</span>,\n",
       "       <span style=\"color: #008000; text-decoration-color: #008000\">'Maximum_Temperature'</span>, <span style=\"color: #008000; text-decoration-color: #008000\">'Maximum_Temperature_F'</span>, <span style=\"color: #008000; text-decoration-color: #008000\">'Wind_Speed_kmh'</span>, <span style=\"color: #008000; text-decoration-color: #008000\">'Lat'</span>,\n",
       "       <span style=\"color: #008000; text-decoration-color: #008000\">'Lng'</span><span style=\"font-weight: bold\">]</span>,\n",
       "      <span style=\"color: #808000; text-decoration-color: #808000\">dtype</span>=<span style=\"color: #008000; text-decoration-color: #008000\">'object'</span><span style=\"font-weight: bold\">)</span>\n",
       "</pre>\n"
      ],
      "text/plain": [
       "\u001b[1;35mIndex\u001b[0m\u001b[1m(\u001b[0m\u001b[1m[\u001b[0m\u001b[32m'Date'\u001b[0m, \u001b[32m'Country'\u001b[0m, \u001b[32m'City'\u001b[0m, \u001b[32m'Cloudiness'\u001b[0m, \u001b[32m'Humidity'\u001b[0m,\n",
       "       \u001b[32m'Maximum_Temperature'\u001b[0m, \u001b[32m'Maximum_Temperature_F'\u001b[0m, \u001b[32m'Wind_Speed_kmh'\u001b[0m, \u001b[32m'Lat'\u001b[0m,\n",
       "       \u001b[32m'Lng'\u001b[0m\u001b[1m]\u001b[0m,\n",
       "      \u001b[33mdtype\u001b[0m=\u001b[32m'object'\u001b[0m\u001b[1m)\u001b[0m\n"
      ]
     },
     "metadata": {},
     "output_type": "display_data"
    },
    {
     "data": {
      "text/html": [
       "<pre style=\"white-space:pre;overflow-x:auto;line-height:normal;font-family:Menlo,'DejaVu Sans Mono',consolas,'Courier New',monospace\">Error inserting data for Cabinda: name <span style=\"color: #008000; text-decoration-color: #008000\">'southern_cities'</span> is not defined\n",
       "</pre>\n"
      ],
      "text/plain": [
       "Error inserting data for Cabinda: name \u001b[32m'southern_cities'\u001b[0m is not defined\n"
      ]
     },
     "metadata": {},
     "output_type": "display_data"
    },
    {
     "data": {
      "text/html": [
       "<pre style=\"white-space:pre;overflow-x:auto;line-height:normal;font-family:Menlo,'DejaVu Sans Mono',consolas,'Courier New',monospace\">Error inserting data for Namibe: name <span style=\"color: #008000; text-decoration-color: #008000\">'southern_cities'</span> is not defined\n",
       "</pre>\n"
      ],
      "text/plain": [
       "Error inserting data for Namibe: name \u001b[32m'southern_cities'\u001b[0m is not defined\n"
      ]
     },
     "metadata": {},
     "output_type": "display_data"
    },
    {
     "data": {
      "text/html": [
       "<pre style=\"white-space:pre;overflow-x:auto;line-height:normal;font-family:Menlo,'DejaVu Sans Mono',consolas,'Courier New',monospace\">Error inserting data for Villa Gesell: name <span style=\"color: #008000; text-decoration-color: #008000\">'southern_cities'</span> is not defined\n",
       "</pre>\n"
      ],
      "text/plain": [
       "Error inserting data for Villa Gesell: name \u001b[32m'southern_cities'\u001b[0m is not defined\n"
      ]
     },
     "metadata": {},
     "output_type": "display_data"
    },
    {
     "data": {
      "text/html": [
       "<pre style=\"white-space:pre;overflow-x:auto;line-height:normal;font-family:Menlo,'DejaVu Sans Mono',consolas,'Courier New',monospace\">Error inserting data for Ushuaia: name <span style=\"color: #008000; text-decoration-color: #008000\">'southern_cities'</span> is not defined\n",
       "</pre>\n"
      ],
      "text/plain": [
       "Error inserting data for Ushuaia: name \u001b[32m'southern_cities'\u001b[0m is not defined\n"
      ]
     },
     "metadata": {},
     "output_type": "display_data"
    },
    {
     "data": {
      "text/html": [
       "<pre style=\"white-space:pre;overflow-x:auto;line-height:normal;font-family:Menlo,'DejaVu Sans Mono',consolas,'Courier New',monospace\">Error inserting data for Mar Del Plata: name <span style=\"color: #008000; text-decoration-color: #008000\">'southern_cities'</span> is not defined\n",
       "</pre>\n"
      ],
      "text/plain": [
       "Error inserting data for Mar Del Plata: name \u001b[32m'southern_cities'\u001b[0m is not defined\n"
      ]
     },
     "metadata": {},
     "output_type": "display_data"
    },
    {
     "data": {
      "text/html": [
       "<pre style=\"white-space:pre;overflow-x:auto;line-height:normal;font-family:Menlo,'DejaVu Sans Mono',consolas,'Courier New',monospace\">Error inserting data for Balnearia: name <span style=\"color: #008000; text-decoration-color: #008000\">'southern_cities'</span> is not defined\n",
       "</pre>\n"
      ],
      "text/plain": [
       "Error inserting data for Balnearia: name \u001b[32m'southern_cities'\u001b[0m is not defined\n"
      ]
     },
     "metadata": {},
     "output_type": "display_data"
    },
    {
     "data": {
      "text/html": [
       "<pre style=\"white-space:pre;overflow-x:auto;line-height:normal;font-family:Menlo,'DejaVu Sans Mono',consolas,'Courier New',monospace\">Error inserting data for Las Heras: name <span style=\"color: #008000; text-decoration-color: #008000\">'southern_cities'</span> is not defined\n",
       "</pre>\n"
      ],
      "text/plain": [
       "Error inserting data for Las Heras: name \u001b[32m'southern_cities'\u001b[0m is not defined\n"
      ]
     },
     "metadata": {},
     "output_type": "display_data"
    },
    {
     "data": {
      "text/html": [
       "<pre style=\"white-space:pre;overflow-x:auto;line-height:normal;font-family:Menlo,'DejaVu Sans Mono',consolas,'Courier New',monospace\">Error inserting data for El Calafate: name <span style=\"color: #008000; text-decoration-color: #008000\">'southern_cities'</span> is not defined\n",
       "</pre>\n"
      ],
      "text/plain": [
       "Error inserting data for El Calafate: name \u001b[32m'southern_cities'\u001b[0m is not defined\n"
      ]
     },
     "metadata": {},
     "output_type": "display_data"
    },
    {
     "data": {
      "text/html": [
       "<pre style=\"white-space:pre;overflow-x:auto;line-height:normal;font-family:Menlo,'DejaVu Sans Mono',consolas,'Courier New',monospace\">Error inserting data for Veinticinco De Mayo: name <span style=\"color: #008000; text-decoration-color: #008000\">'southern_cities'</span> is not defined\n",
       "</pre>\n"
      ],
      "text/plain": [
       "Error inserting data for Veinticinco De Mayo: name \u001b[32m'southern_cities'\u001b[0m is not defined\n"
      ]
     },
     "metadata": {},
     "output_type": "display_data"
    },
    {
     "data": {
      "text/html": [
       "<pre style=\"white-space:pre;overflow-x:auto;line-height:normal;font-family:Menlo,'DejaVu Sans Mono',consolas,'Courier New',monospace\">Error inserting data for Clorinda: name <span style=\"color: #008000; text-decoration-color: #008000\">'southern_cities'</span> is not defined\n",
       "</pre>\n"
      ],
      "text/plain": [
       "Error inserting data for Clorinda: name \u001b[32m'southern_cities'\u001b[0m is not defined\n"
      ]
     },
     "metadata": {},
     "output_type": "display_data"
    },
    {
     "data": {
      "text/html": [
       "<pre style=\"white-space:pre;overflow-x:auto;line-height:normal;font-family:Menlo,'DejaVu Sans Mono',consolas,'Courier New',monospace\">Error inserting data for Tafuna: name <span style=\"color: #008000; text-decoration-color: #008000\">'southern_cities'</span> is not defined\n",
       "</pre>\n"
      ],
      "text/plain": [
       "Error inserting data for Tafuna: name \u001b[32m'southern_cities'\u001b[0m is not defined\n"
      ]
     },
     "metadata": {},
     "output_type": "display_data"
    },
    {
     "data": {
      "text/html": [
       "<pre style=\"white-space:pre;overflow-x:auto;line-height:normal;font-family:Menlo,'DejaVu Sans Mono',consolas,'Courier New',monospace\">Error inserting data for Ta`U: name <span style=\"color: #008000; text-decoration-color: #008000\">'southern_cities'</span> is not defined\n",
       "</pre>\n"
      ],
      "text/plain": [
       "Error inserting data for Ta`U: name \u001b[32m'southern_cities'\u001b[0m is not defined\n"
      ]
     },
     "metadata": {},
     "output_type": "display_data"
    },
    {
     "data": {
      "text/html": [
       "<pre style=\"white-space:pre;overflow-x:auto;line-height:normal;font-family:Menlo,'DejaVu Sans Mono',consolas,'Courier New',monospace\">Error inserting data for Howard Springs: name <span style=\"color: #008000; text-decoration-color: #008000\">'southern_cities'</span> is not defined\n",
       "</pre>\n"
      ],
      "text/plain": [
       "Error inserting data for Howard Springs: name \u001b[32m'southern_cities'\u001b[0m is not defined\n"
      ]
     },
     "metadata": {},
     "output_type": "display_data"
    },
    {
     "data": {
      "text/html": [
       "<pre style=\"white-space:pre;overflow-x:auto;line-height:normal;font-family:Menlo,'DejaVu Sans Mono',consolas,'Courier New',monospace\">Error inserting data for Port Douglas: name <span style=\"color: #008000; text-decoration-color: #008000\">'southern_cities'</span> is not defined\n",
       "</pre>\n"
      ],
      "text/plain": [
       "Error inserting data for Port Douglas: name \u001b[32m'southern_cities'\u001b[0m is not defined\n"
      ]
     },
     "metadata": {},
     "output_type": "display_data"
    },
    {
     "data": {
      "text/html": [
       "<pre style=\"white-space:pre;overflow-x:auto;line-height:normal;font-family:Menlo,'DejaVu Sans Mono',consolas,'Courier New',monospace\">Error inserting data for Port Lincoln: name <span style=\"color: #008000; text-decoration-color: #008000\">'southern_cities'</span> is not defined\n",
       "</pre>\n"
      ],
      "text/plain": [
       "Error inserting data for Port Lincoln: name \u001b[32m'southern_cities'\u001b[0m is not defined\n"
      ]
     },
     "metadata": {},
     "output_type": "display_data"
    },
    {
     "data": {
      "text/html": [
       "<pre style=\"white-space:pre;overflow-x:auto;line-height:normal;font-family:Menlo,'DejaVu Sans Mono',consolas,'Courier New',monospace\">Error inserting data for Ballina: name <span style=\"color: #008000; text-decoration-color: #008000\">'southern_cities'</span> is not defined\n",
       "</pre>\n"
      ],
      "text/plain": [
       "Error inserting data for Ballina: name \u001b[32m'southern_cities'\u001b[0m is not defined\n"
      ]
     },
     "metadata": {},
     "output_type": "display_data"
    },
    {
     "data": {
      "text/html": [
       "<pre style=\"white-space:pre;overflow-x:auto;line-height:normal;font-family:Menlo,'DejaVu Sans Mono',consolas,'Courier New',monospace\">Error inserting data for Geraldton: name <span style=\"color: #008000; text-decoration-color: #008000\">'southern_cities'</span> is not defined\n",
       "</pre>\n"
      ],
      "text/plain": [
       "Error inserting data for Geraldton: name \u001b[32m'southern_cities'\u001b[0m is not defined\n"
      ]
     },
     "metadata": {},
     "output_type": "display_data"
    },
    {
     "data": {
      "text/html": [
       "<pre style=\"white-space:pre;overflow-x:auto;line-height:normal;font-family:Menlo,'DejaVu Sans Mono',consolas,'Courier New',monospace\">Error inserting data for Margaret River: name <span style=\"color: #008000; text-decoration-color: #008000\">'southern_cities'</span> is not defined\n",
       "</pre>\n"
      ],
      "text/plain": [
       "Error inserting data for Margaret River: name \u001b[32m'southern_cities'\u001b[0m is not defined\n"
      ]
     },
     "metadata": {},
     "output_type": "display_data"
    },
    {
     "data": {
      "text/html": [
       "<pre style=\"white-space:pre;overflow-x:auto;line-height:normal;font-family:Menlo,'DejaVu Sans Mono',consolas,'Courier New',monospace\">Error inserting data for Bathurst: name <span style=\"color: #008000; text-decoration-color: #008000\">'southern_cities'</span> is not defined\n",
       "</pre>\n"
      ],
      "text/plain": [
       "Error inserting data for Bathurst: name \u001b[32m'southern_cities'\u001b[0m is not defined\n"
      ]
     },
     "metadata": {},
     "output_type": "display_data"
    },
    {
     "data": {
      "text/html": [
       "<pre style=\"white-space:pre;overflow-x:auto;line-height:normal;font-family:Menlo,'DejaVu Sans Mono',consolas,'Courier New',monospace\">Error inserting data for Karratha: name <span style=\"color: #008000; text-decoration-color: #008000\">'southern_cities'</span> is not defined\n",
       "</pre>\n"
      ],
      "text/plain": [
       "Error inserting data for Karratha: name \u001b[32m'southern_cities'\u001b[0m is not defined\n"
      ]
     },
     "metadata": {},
     "output_type": "display_data"
    },
    {
     "data": {
      "text/html": [
       "<pre style=\"white-space:pre;overflow-x:auto;line-height:normal;font-family:Menlo,'DejaVu Sans Mono',consolas,'Courier New',monospace\">Error inserting data for Mount Gambier: name <span style=\"color: #008000; text-decoration-color: #008000\">'southern_cities'</span> is not defined\n",
       "</pre>\n"
      ],
      "text/plain": [
       "Error inserting data for Mount Gambier: name \u001b[32m'southern_cities'\u001b[0m is not defined\n"
      ]
     },
     "metadata": {},
     "output_type": "display_data"
    },
    {
     "data": {
      "text/html": [
       "<pre style=\"white-space:pre;overflow-x:auto;line-height:normal;font-family:Menlo,'DejaVu Sans Mono',consolas,'Courier New',monospace\">Error inserting data for Blackmans Bay: name <span style=\"color: #008000; text-decoration-color: #008000\">'southern_cities'</span> is not defined\n",
       "</pre>\n"
      ],
      "text/plain": [
       "Error inserting data for Blackmans Bay: name \u001b[32m'southern_cities'\u001b[0m is not defined\n"
      ]
     },
     "metadata": {},
     "output_type": "display_data"
    },
    {
     "data": {
      "text/html": [
       "<pre style=\"white-space:pre;overflow-x:auto;line-height:normal;font-family:Menlo,'DejaVu Sans Mono',consolas,'Courier New',monospace\">Error inserting data for Mount Isa: name <span style=\"color: #008000; text-decoration-color: #008000\">'southern_cities'</span> is not defined\n",
       "</pre>\n"
      ],
      "text/plain": [
       "Error inserting data for Mount Isa: name \u001b[32m'southern_cities'\u001b[0m is not defined\n"
      ]
     },
     "metadata": {},
     "output_type": "display_data"
    },
    {
     "data": {
      "text/html": [
       "<pre style=\"white-space:pre;overflow-x:auto;line-height:normal;font-family:Menlo,'DejaVu Sans Mono',consolas,'Courier New',monospace\">Error inserting data for Fremantle: name <span style=\"color: #008000; text-decoration-color: #008000\">'southern_cities'</span> is not defined\n",
       "</pre>\n"
      ],
      "text/plain": [
       "Error inserting data for Fremantle: name \u001b[32m'southern_cities'\u001b[0m is not defined\n"
      ]
     },
     "metadata": {},
     "output_type": "display_data"
    },
    {
     "data": {
      "text/html": [
       "<pre style=\"white-space:pre;overflow-x:auto;line-height:normal;font-family:Menlo,'DejaVu Sans Mono',consolas,'Courier New',monospace\">Error inserting data for Broken Hill: name <span style=\"color: #008000; text-decoration-color: #008000\">'southern_cities'</span> is not defined\n",
       "</pre>\n"
      ],
      "text/plain": [
       "Error inserting data for Broken Hill: name \u001b[32m'southern_cities'\u001b[0m is not defined\n"
      ]
     },
     "metadata": {},
     "output_type": "display_data"
    },
    {
     "data": {
      "text/html": [
       "<pre style=\"white-space:pre;overflow-x:auto;line-height:normal;font-family:Menlo,'DejaVu Sans Mono',consolas,'Courier New',monospace\">Error inserting data for New Norfolk: name <span style=\"color: #008000; text-decoration-color: #008000\">'southern_cities'</span> is not defined\n",
       "</pre>\n"
      ],
      "text/plain": [
       "Error inserting data for New Norfolk: name \u001b[32m'southern_cities'\u001b[0m is not defined\n"
      ]
     },
     "metadata": {},
     "output_type": "display_data"
    },
    {
     "data": {
      "text/html": [
       "<pre style=\"white-space:pre;overflow-x:auto;line-height:normal;font-family:Menlo,'DejaVu Sans Mono',consolas,'Courier New',monospace\">Error inserting data for Sanctuary Point: name <span style=\"color: #008000; text-decoration-color: #008000\">'southern_cities'</span> is not defined\n",
       "</pre>\n"
      ],
      "text/plain": [
       "Error inserting data for Sanctuary Point: name \u001b[32m'southern_cities'\u001b[0m is not defined\n"
      ]
     },
     "metadata": {},
     "output_type": "display_data"
    },
    {
     "data": {
      "text/html": [
       "<pre style=\"white-space:pre;overflow-x:auto;line-height:normal;font-family:Menlo,'DejaVu Sans Mono',consolas,'Courier New',monospace\">Error inserting data for Carnarvon: name <span style=\"color: #008000; text-decoration-color: #008000\">'southern_cities'</span> is not defined\n",
       "</pre>\n"
      ],
      "text/plain": [
       "Error inserting data for Carnarvon: name \u001b[32m'southern_cities'\u001b[0m is not defined\n"
      ]
     },
     "metadata": {},
     "output_type": "display_data"
    },
    {
     "data": {
      "text/html": [
       "<pre style=\"white-space:pre;overflow-x:auto;line-height:normal;font-family:Menlo,'DejaVu Sans Mono',consolas,'Courier New',monospace\">Error inserting data for Clarence Town: name <span style=\"color: #008000; text-decoration-color: #008000\">'southern_cities'</span> is not defined\n",
       "</pre>\n"
      ],
      "text/plain": [
       "Error inserting data for Clarence Town: name \u001b[32m'southern_cities'\u001b[0m is not defined\n"
      ]
     },
     "metadata": {},
     "output_type": "display_data"
    },
    {
     "data": {
      "text/html": [
       "<pre style=\"white-space:pre;overflow-x:auto;line-height:normal;font-family:Menlo,'DejaVu Sans Mono',consolas,'Courier New',monospace\">Error inserting data for Strathalbyn: name <span style=\"color: #008000; text-decoration-color: #008000\">'southern_cities'</span> is not defined\n",
       "</pre>\n"
      ],
      "text/plain": [
       "Error inserting data for Strathalbyn: name \u001b[32m'southern_cities'\u001b[0m is not defined\n"
      ]
     },
     "metadata": {},
     "output_type": "display_data"
    },
    {
     "data": {
      "text/html": [
       "<pre style=\"white-space:pre;overflow-x:auto;line-height:normal;font-family:Menlo,'DejaVu Sans Mono',consolas,'Courier New',monospace\">Error inserting data for Port Augusta: name <span style=\"color: #008000; text-decoration-color: #008000\">'southern_cities'</span> is not defined\n",
       "</pre>\n"
      ],
      "text/plain": [
       "Error inserting data for Port Augusta: name \u001b[32m'southern_cities'\u001b[0m is not defined\n"
      ]
     },
     "metadata": {},
     "output_type": "display_data"
    },
    {
     "data": {
      "text/html": [
       "<pre style=\"white-space:pre;overflow-x:auto;line-height:normal;font-family:Menlo,'DejaVu Sans Mono',consolas,'Courier New',monospace\">Error inserting data for Yeppoon: name <span style=\"color: #008000; text-decoration-color: #008000\">'southern_cities'</span> is not defined\n",
       "</pre>\n"
      ],
      "text/plain": [
       "Error inserting data for Yeppoon: name \u001b[32m'southern_cities'\u001b[0m is not defined\n"
      ]
     },
     "metadata": {},
     "output_type": "display_data"
    },
    {
     "data": {
      "text/html": [
       "<pre style=\"white-space:pre;overflow-x:auto;line-height:normal;font-family:Menlo,'DejaVu Sans Mono',consolas,'Courier New',monospace\">Error inserting data for Alice Springs: name <span style=\"color: #008000; text-decoration-color: #008000\">'southern_cities'</span> is not defined\n",
       "</pre>\n"
      ],
      "text/plain": [
       "Error inserting data for Alice Springs: name \u001b[32m'southern_cities'\u001b[0m is not defined\n"
      ]
     },
     "metadata": {},
     "output_type": "display_data"
    },
    {
     "data": {
      "text/html": [
       "<pre style=\"white-space:pre;overflow-x:auto;line-height:normal;font-family:Menlo,'DejaVu Sans Mono',consolas,'Courier New',monospace\">Error inserting data for Kununurra: name <span style=\"color: #008000; text-decoration-color: #008000\">'southern_cities'</span> is not defined\n",
       "</pre>\n"
      ],
      "text/plain": [
       "Error inserting data for Kununurra: name \u001b[32m'southern_cities'\u001b[0m is not defined\n"
      ]
     },
     "metadata": {},
     "output_type": "display_data"
    },
    {
     "data": {
      "text/html": [
       "<pre style=\"white-space:pre;overflow-x:auto;line-height:normal;font-family:Menlo,'DejaVu Sans Mono',consolas,'Courier New',monospace\">Error inserting data for Wynyard: name <span style=\"color: #008000; text-decoration-color: #008000\">'southern_cities'</span> is not defined\n",
       "</pre>\n"
      ],
      "text/plain": [
       "Error inserting data for Wynyard: name \u001b[32m'southern_cities'\u001b[0m is not defined\n"
      ]
     },
     "metadata": {},
     "output_type": "display_data"
    },
    {
     "data": {
      "text/html": [
       "<pre style=\"white-space:pre;overflow-x:auto;line-height:normal;font-family:Menlo,'DejaVu Sans Mono',consolas,'Courier New',monospace\">Error inserting data for Santa Rosa Del Sara: name <span style=\"color: #008000; text-decoration-color: #008000\">'southern_cities'</span> is not defined\n",
       "</pre>\n"
      ],
      "text/plain": [
       "Error inserting data for Santa Rosa Del Sara: name \u001b[32m'southern_cities'\u001b[0m is not defined\n"
      ]
     },
     "metadata": {},
     "output_type": "display_data"
    },
    {
     "data": {
      "text/html": [
       "<pre style=\"white-space:pre;overflow-x:auto;line-height:normal;font-family:Menlo,'DejaVu Sans Mono',consolas,'Courier New',monospace\">Error inserting data for Vallegrande: name <span style=\"color: #008000; text-decoration-color: #008000\">'southern_cities'</span> is not defined\n",
       "</pre>\n"
      ],
      "text/plain": [
       "Error inserting data for Vallegrande: name \u001b[32m'southern_cities'\u001b[0m is not defined\n"
      ]
     },
     "metadata": {},
     "output_type": "display_data"
    },
    {
     "data": {
      "text/html": [
       "<pre style=\"white-space:pre;overflow-x:auto;line-height:normal;font-family:Menlo,'DejaVu Sans Mono',consolas,'Courier New',monospace\">Error inserting data for Buritis: name <span style=\"color: #008000; text-decoration-color: #008000\">'southern_cities'</span> is not defined\n",
       "</pre>\n"
      ],
      "text/plain": [
       "Error inserting data for Buritis: name \u001b[32m'southern_cities'\u001b[0m is not defined\n"
      ]
     },
     "metadata": {},
     "output_type": "display_data"
    },
    {
     "data": {
      "text/html": [
       "<pre style=\"white-space:pre;overflow-x:auto;line-height:normal;font-family:Menlo,'DejaVu Sans Mono',consolas,'Courier New',monospace\">Error inserting data for Mucuri: name <span style=\"color: #008000; text-decoration-color: #008000\">'southern_cities'</span> is not defined\n",
       "</pre>\n"
      ],
      "text/plain": [
       "Error inserting data for Mucuri: name \u001b[32m'southern_cities'\u001b[0m is not defined\n"
      ]
     },
     "metadata": {},
     "output_type": "display_data"
    },
    {
     "data": {
      "text/html": [
       "<pre style=\"white-space:pre;overflow-x:auto;line-height:normal;font-family:Menlo,'DejaVu Sans Mono',consolas,'Courier New',monospace\">Error inserting data for Redencao: name <span style=\"color: #008000; text-decoration-color: #008000\">'southern_cities'</span> is not defined\n",
       "</pre>\n"
      ],
      "text/plain": [
       "Error inserting data for Redencao: name \u001b[32m'southern_cities'\u001b[0m is not defined\n"
      ]
     },
     "metadata": {},
     "output_type": "display_data"
    },
    {
     "data": {
      "text/html": [
       "<pre style=\"white-space:pre;overflow-x:auto;line-height:normal;font-family:Menlo,'DejaVu Sans Mono',consolas,'Courier New',monospace\">Error inserting data for Carutapera: name <span style=\"color: #008000; text-decoration-color: #008000\">'southern_cities'</span> is not defined\n",
       "</pre>\n"
      ],
      "text/plain": [
       "Error inserting data for Carutapera: name \u001b[32m'southern_cities'\u001b[0m is not defined\n"
      ]
     },
     "metadata": {},
     "output_type": "display_data"
    },
    {
     "data": {
      "text/html": [
       "<pre style=\"white-space:pre;overflow-x:auto;line-height:normal;font-family:Menlo,'DejaVu Sans Mono',consolas,'Courier New',monospace\">Error inserting data for Ribas Do Rio Pardo: name <span style=\"color: #008000; text-decoration-color: #008000\">'southern_cities'</span> is not defined\n",
       "</pre>\n"
      ],
      "text/plain": [
       "Error inserting data for Ribas Do Rio Pardo: name \u001b[32m'southern_cities'\u001b[0m is not defined\n"
      ]
     },
     "metadata": {},
     "output_type": "display_data"
    },
    {
     "data": {
      "text/html": [
       "<pre style=\"white-space:pre;overflow-x:auto;line-height:normal;font-family:Menlo,'DejaVu Sans Mono',consolas,'Courier New',monospace\">Error inserting data for Rio Grande: name <span style=\"color: #008000; text-decoration-color: #008000\">'southern_cities'</span> is not defined\n",
       "</pre>\n"
      ],
      "text/plain": [
       "Error inserting data for Rio Grande: name \u001b[32m'southern_cities'\u001b[0m is not defined\n"
      ]
     },
     "metadata": {},
     "output_type": "display_data"
    },
    {
     "data": {
      "text/html": [
       "<pre style=\"white-space:pre;overflow-x:auto;line-height:normal;font-family:Menlo,'DejaVu Sans Mono',consolas,'Courier New',monospace\">Error inserting data for Itamaraca: name <span style=\"color: #008000; text-decoration-color: #008000\">'southern_cities'</span> is not defined\n",
       "</pre>\n"
      ],
      "text/plain": [
       "Error inserting data for Itamaraca: name \u001b[32m'southern_cities'\u001b[0m is not defined\n"
      ]
     },
     "metadata": {},
     "output_type": "display_data"
    },
    {
     "data": {
      "text/html": [
       "<pre style=\"white-space:pre;overflow-x:auto;line-height:normal;font-family:Menlo,'DejaVu Sans Mono',consolas,'Courier New',monospace\">Error inserting data for Tamandare: name <span style=\"color: #008000; text-decoration-color: #008000\">'southern_cities'</span> is not defined\n",
       "</pre>\n"
      ],
      "text/plain": [
       "Error inserting data for Tamandare: name \u001b[32m'southern_cities'\u001b[0m is not defined\n"
      ]
     },
     "metadata": {},
     "output_type": "display_data"
    },
    {
     "data": {
      "text/html": [
       "<pre style=\"white-space:pre;overflow-x:auto;line-height:normal;font-family:Menlo,'DejaVu Sans Mono',consolas,'Courier New',monospace\">Error inserting data for Sao Jose Da Coroa Grande: name <span style=\"color: #008000; text-decoration-color: #008000\">'southern_cities'</span> is not defined\n",
       "</pre>\n"
      ],
      "text/plain": [
       "Error inserting data for Sao Jose Da Coroa Grande: name \u001b[32m'southern_cities'\u001b[0m is not defined\n"
      ]
     },
     "metadata": {},
     "output_type": "display_data"
    },
    {
     "data": {
      "text/html": [
       "<pre style=\"white-space:pre;overflow-x:auto;line-height:normal;font-family:Menlo,'DejaVu Sans Mono',consolas,'Courier New',monospace\">Error inserting data for Nova Vicosa: name <span style=\"color: #008000; text-decoration-color: #008000\">'southern_cities'</span> is not defined\n",
       "</pre>\n"
      ],
      "text/plain": [
       "Error inserting data for Nova Vicosa: name \u001b[32m'southern_cities'\u001b[0m is not defined\n"
      ]
     },
     "metadata": {},
     "output_type": "display_data"
    },
    {
     "data": {
      "text/html": [
       "<pre style=\"white-space:pre;overflow-x:auto;line-height:normal;font-family:Menlo,'DejaVu Sans Mono',consolas,'Courier New',monospace\">Error inserting data for Capitao Poco: name <span style=\"color: #008000; text-decoration-color: #008000\">'southern_cities'</span> is not defined\n",
       "</pre>\n"
      ],
      "text/plain": [
       "Error inserting data for Capitao Poco: name \u001b[32m'southern_cities'\u001b[0m is not defined\n"
      ]
     },
     "metadata": {},
     "output_type": "display_data"
    },
    {
     "data": {
      "text/html": [
       "<pre style=\"white-space:pre;overflow-x:auto;line-height:normal;font-family:Menlo,'DejaVu Sans Mono',consolas,'Courier New',monospace\">Error inserting data for Taguatinga: name <span style=\"color: #008000; text-decoration-color: #008000\">'southern_cities'</span> is not defined\n",
       "</pre>\n"
      ],
      "text/plain": [
       "Error inserting data for Taguatinga: name \u001b[32m'southern_cities'\u001b[0m is not defined\n"
      ]
     },
     "metadata": {},
     "output_type": "display_data"
    },
    {
     "data": {
      "text/html": [
       "<pre style=\"white-space:pre;overflow-x:auto;line-height:normal;font-family:Menlo,'DejaVu Sans Mono',consolas,'Courier New',monospace\">Error inserting data for Salinopolis: name <span style=\"color: #008000; text-decoration-color: #008000\">'southern_cities'</span> is not defined\n",
       "</pre>\n"
      ],
      "text/plain": [
       "Error inserting data for Salinopolis: name \u001b[32m'southern_cities'\u001b[0m is not defined\n"
      ]
     },
     "metadata": {},
     "output_type": "display_data"
    },
    {
     "data": {
      "text/html": [
       "<pre style=\"white-space:pre;overflow-x:auto;line-height:normal;font-family:Menlo,'DejaVu Sans Mono',consolas,'Courier New',monospace\">Error inserting data for Tabatinga: name <span style=\"color: #008000; text-decoration-color: #008000\">'southern_cities'</span> is not defined\n",
       "</pre>\n"
      ],
      "text/plain": [
       "Error inserting data for Tabatinga: name \u001b[32m'southern_cities'\u001b[0m is not defined\n"
      ]
     },
     "metadata": {},
     "output_type": "display_data"
    },
    {
     "data": {
      "text/html": [
       "<pre style=\"white-space:pre;overflow-x:auto;line-height:normal;font-family:Menlo,'DejaVu Sans Mono',consolas,'Courier New',monospace\">Error inserting data for Nova Xavantina: name <span style=\"color: #008000; text-decoration-color: #008000\">'southern_cities'</span> is not defined\n",
       "</pre>\n"
      ],
      "text/plain": [
       "Error inserting data for Nova Xavantina: name \u001b[32m'southern_cities'\u001b[0m is not defined\n"
      ]
     },
     "metadata": {},
     "output_type": "display_data"
    },
    {
     "data": {
      "text/html": [
       "<pre style=\"white-space:pre;overflow-x:auto;line-height:normal;font-family:Menlo,'DejaVu Sans Mono',consolas,'Courier New',monospace\">Error inserting data for Torres: name <span style=\"color: #008000; text-decoration-color: #008000\">'southern_cities'</span> is not defined\n",
       "</pre>\n"
      ],
      "text/plain": [
       "Error inserting data for Torres: name \u001b[32m'southern_cities'\u001b[0m is not defined\n"
      ]
     },
     "metadata": {},
     "output_type": "display_data"
    },
    {
     "data": {
      "text/html": [
       "<pre style=\"white-space:pre;overflow-x:auto;line-height:normal;font-family:Menlo,'DejaVu Sans Mono',consolas,'Courier New',monospace\">Error inserting data for Boa Esperanca: name <span style=\"color: #008000; text-decoration-color: #008000\">'southern_cities'</span> is not defined\n",
       "</pre>\n"
      ],
      "text/plain": [
       "Error inserting data for Boa Esperanca: name \u001b[32m'southern_cities'\u001b[0m is not defined\n"
      ]
     },
     "metadata": {},
     "output_type": "display_data"
    },
    {
     "data": {
      "text/html": [
       "<pre style=\"white-space:pre;overflow-x:auto;line-height:normal;font-family:Menlo,'DejaVu Sans Mono',consolas,'Courier New',monospace\">Error inserting data for Barra De Santo Antonio: name <span style=\"color: #008000; text-decoration-color: #008000\">'southern_cities'</span> is not defined\n",
       "</pre>\n"
      ],
      "text/plain": [
       "Error inserting data for Barra De Santo Antonio: name \u001b[32m'southern_cities'\u001b[0m is not defined\n"
      ]
     },
     "metadata": {},
     "output_type": "display_data"
    },
    {
     "data": {
      "text/html": [
       "<pre style=\"white-space:pre;overflow-x:auto;line-height:normal;font-family:Menlo,'DejaVu Sans Mono',consolas,'Courier New',monospace\">Error inserting data for Aripuana: name <span style=\"color: #008000; text-decoration-color: #008000\">'southern_cities'</span> is not defined\n",
       "</pre>\n"
      ],
      "text/plain": [
       "Error inserting data for Aripuana: name \u001b[32m'southern_cities'\u001b[0m is not defined\n"
      ]
     },
     "metadata": {},
     "output_type": "display_data"
    },
    {
     "data": {
      "text/html": [
       "<pre style=\"white-space:pre;overflow-x:auto;line-height:normal;font-family:Menlo,'DejaVu Sans Mono',consolas,'Courier New',monospace\">Error inserting data for Arraial Do Cabo: name <span style=\"color: #008000; text-decoration-color: #008000\">'southern_cities'</span> is not defined\n",
       "</pre>\n"
      ],
      "text/plain": [
       "Error inserting data for Arraial Do Cabo: name \u001b[32m'southern_cities'\u001b[0m is not defined\n"
      ]
     },
     "metadata": {},
     "output_type": "display_data"
    },
    {
     "data": {
      "text/html": [
       "<pre style=\"white-space:pre;overflow-x:auto;line-height:normal;font-family:Menlo,'DejaVu Sans Mono',consolas,'Courier New',monospace\">Error inserting data for Vila Velha: name <span style=\"color: #008000; text-decoration-color: #008000\">'southern_cities'</span> is not defined\n",
       "</pre>\n"
      ],
      "text/plain": [
       "Error inserting data for Vila Velha: name \u001b[32m'southern_cities'\u001b[0m is not defined\n"
      ]
     },
     "metadata": {},
     "output_type": "display_data"
    },
    {
     "data": {
      "text/html": [
       "<pre style=\"white-space:pre;overflow-x:auto;line-height:normal;font-family:Menlo,'DejaVu Sans Mono',consolas,'Courier New',monospace\">Error inserting data for Acarau: name <span style=\"color: #008000; text-decoration-color: #008000\">'southern_cities'</span> is not defined\n",
       "</pre>\n"
      ],
      "text/plain": [
       "Error inserting data for Acarau: name \u001b[32m'southern_cities'\u001b[0m is not defined\n"
      ]
     },
     "metadata": {},
     "output_type": "display_data"
    },
    {
     "data": {
      "text/html": [
       "<pre style=\"white-space:pre;overflow-x:auto;line-height:normal;font-family:Menlo,'DejaVu Sans Mono',consolas,'Courier New',monospace\">Error inserting data for Sao Vicente: name <span style=\"color: #008000; text-decoration-color: #008000\">'southern_cities'</span> is not defined\n",
       "</pre>\n"
      ],
      "text/plain": [
       "Error inserting data for Sao Vicente: name \u001b[32m'southern_cities'\u001b[0m is not defined\n"
      ]
     },
     "metadata": {},
     "output_type": "display_data"
    },
    {
     "data": {
      "text/html": [
       "<pre style=\"white-space:pre;overflow-x:auto;line-height:normal;font-family:Menlo,'DejaVu Sans Mono',consolas,'Courier New',monospace\">Error inserting data for Pitimbu: name <span style=\"color: #008000; text-decoration-color: #008000\">'southern_cities'</span> is not defined\n",
       "</pre>\n"
      ],
      "text/plain": [
       "Error inserting data for Pitimbu: name \u001b[32m'southern_cities'\u001b[0m is not defined\n"
      ]
     },
     "metadata": {},
     "output_type": "display_data"
    },
    {
     "data": {
      "text/html": [
       "<pre style=\"white-space:pre;overflow-x:auto;line-height:normal;font-family:Menlo,'DejaVu Sans Mono',consolas,'Courier New',monospace\">Error inserting data for Sao Joao Da Barra: name <span style=\"color: #008000; text-decoration-color: #008000\">'southern_cities'</span> is not defined\n",
       "</pre>\n"
      ],
      "text/plain": [
       "Error inserting data for Sao Joao Da Barra: name \u001b[32m'southern_cities'\u001b[0m is not defined\n"
      ]
     },
     "metadata": {},
     "output_type": "display_data"
    },
    {
     "data": {
      "text/html": [
       "<pre style=\"white-space:pre;overflow-x:auto;line-height:normal;font-family:Menlo,'DejaVu Sans Mono',consolas,'Courier New',monospace\">Error inserting data for Oriximina: name <span style=\"color: #008000; text-decoration-color: #008000\">'southern_cities'</span> is not defined\n",
       "</pre>\n"
      ],
      "text/plain": [
       "Error inserting data for Oriximina: name \u001b[32m'southern_cities'\u001b[0m is not defined\n"
      ]
     },
     "metadata": {},
     "output_type": "display_data"
    },
    {
     "data": {
      "text/html": [
       "<pre style=\"white-space:pre;overflow-x:auto;line-height:normal;font-family:Menlo,'DejaVu Sans Mono',consolas,'Courier New',monospace\">Error inserting data for Coruripe: name <span style=\"color: #008000; text-decoration-color: #008000\">'southern_cities'</span> is not defined\n",
       "</pre>\n"
      ],
      "text/plain": [
       "Error inserting data for Coruripe: name \u001b[32m'southern_cities'\u001b[0m is not defined\n"
      ]
     },
     "metadata": {},
     "output_type": "display_data"
    },
    {
     "data": {
      "text/html": [
       "<pre style=\"white-space:pre;overflow-x:auto;line-height:normal;font-family:Menlo,'DejaVu Sans Mono',consolas,'Courier New',monospace\">Error inserting data for Canutama: name <span style=\"color: #008000; text-decoration-color: #008000\">'southern_cities'</span> is not defined\n",
       "</pre>\n"
      ],
      "text/plain": [
       "Error inserting data for Canutama: name \u001b[32m'southern_cities'\u001b[0m is not defined\n"
      ]
     },
     "metadata": {},
     "output_type": "display_data"
    },
    {
     "data": {
      "text/html": [
       "<pre style=\"white-space:pre;overflow-x:auto;line-height:normal;font-family:Menlo,'DejaVu Sans Mono',consolas,'Courier New',monospace\">Error inserting data for Cabedelo: name <span style=\"color: #008000; text-decoration-color: #008000\">'southern_cities'</span> is not defined\n",
       "</pre>\n"
      ],
      "text/plain": [
       "Error inserting data for Cabedelo: name \u001b[32m'southern_cities'\u001b[0m is not defined\n"
      ]
     },
     "metadata": {},
     "output_type": "display_data"
    },
    {
     "data": {
      "text/html": [
       "<pre style=\"white-space:pre;overflow-x:auto;line-height:normal;font-family:Menlo,'DejaVu Sans Mono',consolas,'Courier New',monospace\">Error inserting data for Maragogi: name <span style=\"color: #008000; text-decoration-color: #008000\">'southern_cities'</span> is not defined\n",
       "</pre>\n"
      ],
      "text/plain": [
       "Error inserting data for Maragogi: name \u001b[32m'southern_cities'\u001b[0m is not defined\n"
      ]
     },
     "metadata": {},
     "output_type": "display_data"
    },
    {
     "data": {
      "text/html": [
       "<pre style=\"white-space:pre;overflow-x:auto;line-height:normal;font-family:Menlo,'DejaVu Sans Mono',consolas,'Courier New',monospace\">Error inserting data for Tucano: name <span style=\"color: #008000; text-decoration-color: #008000\">'southern_cities'</span> is not defined\n",
       "</pre>\n"
      ],
      "text/plain": [
       "Error inserting data for Tucano: name \u001b[32m'southern_cities'\u001b[0m is not defined\n"
      ]
     },
     "metadata": {},
     "output_type": "display_data"
    },
    {
     "data": {
      "text/html": [
       "<pre style=\"white-space:pre;overflow-x:auto;line-height:normal;font-family:Menlo,'DejaVu Sans Mono',consolas,'Courier New',monospace\">Error inserting data for Cidreira: name <span style=\"color: #008000; text-decoration-color: #008000\">'southern_cities'</span> is not defined\n",
       "</pre>\n"
      ],
      "text/plain": [
       "Error inserting data for Cidreira: name \u001b[32m'southern_cities'\u001b[0m is not defined\n"
      ]
     },
     "metadata": {},
     "output_type": "display_data"
    },
    {
     "data": {
      "text/html": [
       "<pre style=\"white-space:pre;overflow-x:auto;line-height:normal;font-family:Menlo,'DejaVu Sans Mono',consolas,'Courier New',monospace\">Error inserting data for Sao Gabriel Da Cachoeira: name <span style=\"color: #008000; text-decoration-color: #008000\">'southern_cities'</span> is not defined\n",
       "</pre>\n"
      ],
      "text/plain": [
       "Error inserting data for Sao Gabriel Da Cachoeira: name \u001b[32m'southern_cities'\u001b[0m is not defined\n"
      ]
     },
     "metadata": {},
     "output_type": "display_data"
    },
    {
     "data": {
      "text/html": [
       "<pre style=\"white-space:pre;overflow-x:auto;line-height:normal;font-family:Menlo,'DejaVu Sans Mono',consolas,'Courier New',monospace\">Error inserting data for Santana: name <span style=\"color: #008000; text-decoration-color: #008000\">'southern_cities'</span> is not defined\n",
       "</pre>\n"
      ],
      "text/plain": [
       "Error inserting data for Santana: name \u001b[32m'southern_cities'\u001b[0m is not defined\n"
      ]
     },
     "metadata": {},
     "output_type": "display_data"
    },
    {
     "data": {
      "text/html": [
       "<pre style=\"white-space:pre;overflow-x:auto;line-height:normal;font-family:Menlo,'DejaVu Sans Mono',consolas,'Courier New',monospace\">Error inserting data for Natal: name <span style=\"color: #008000; text-decoration-color: #008000\">'southern_cities'</span> is not defined\n",
       "</pre>\n"
      ],
      "text/plain": [
       "Error inserting data for Natal: name \u001b[32m'southern_cities'\u001b[0m is not defined\n"
      ]
     },
     "metadata": {},
     "output_type": "display_data"
    },
    {
     "data": {
      "text/html": [
       "<pre style=\"white-space:pre;overflow-x:auto;line-height:normal;font-family:Menlo,'DejaVu Sans Mono',consolas,'Courier New',monospace\">Error inserting data for Trairi: name <span style=\"color: #008000; text-decoration-color: #008000\">'southern_cities'</span> is not defined\n",
       "</pre>\n"
      ],
      "text/plain": [
       "Error inserting data for Trairi: name \u001b[32m'southern_cities'\u001b[0m is not defined\n"
      ]
     },
     "metadata": {},
     "output_type": "display_data"
    },
    {
     "data": {
      "text/html": [
       "<pre style=\"white-space:pre;overflow-x:auto;line-height:normal;font-family:Menlo,'DejaVu Sans Mono',consolas,'Courier New',monospace\">Error inserting data for Touros: name <span style=\"color: #008000; text-decoration-color: #008000\">'southern_cities'</span> is not defined\n",
       "</pre>\n"
      ],
      "text/plain": [
       "Error inserting data for Touros: name \u001b[32m'southern_cities'\u001b[0m is not defined\n"
      ]
     },
     "metadata": {},
     "output_type": "display_data"
    },
    {
     "data": {
      "text/html": [
       "<pre style=\"white-space:pre;overflow-x:auto;line-height:normal;font-family:Menlo,'DejaVu Sans Mono',consolas,'Courier New',monospace\">Error inserting data for Shakawe: name <span style=\"color: #008000; text-decoration-color: #008000\">'southern_cities'</span> is not defined\n",
       "</pre>\n"
      ],
      "text/plain": [
       "Error inserting data for Shakawe: name \u001b[32m'southern_cities'\u001b[0m is not defined\n"
      ]
     },
     "metadata": {},
     "output_type": "display_data"
    },
    {
     "data": {
      "text/html": [
       "<pre style=\"white-space:pre;overflow-x:auto;line-height:normal;font-family:Menlo,'DejaVu Sans Mono',consolas,'Courier New',monospace\">Error inserting data for West Island: name <span style=\"color: #008000; text-decoration-color: #008000\">'southern_cities'</span> is not defined\n",
       "</pre>\n"
      ],
      "text/plain": [
       "Error inserting data for West Island: name \u001b[32m'southern_cities'\u001b[0m is not defined\n"
      ]
     },
     "metadata": {},
     "output_type": "display_data"
    },
    {
     "data": {
      "text/html": [
       "<pre style=\"white-space:pre;overflow-x:auto;line-height:normal;font-family:Menlo,'DejaVu Sans Mono',consolas,'Courier New',monospace\">Error inserting data for Boende: name <span style=\"color: #008000; text-decoration-color: #008000\">'southern_cities'</span> is not defined\n",
       "</pre>\n"
      ],
      "text/plain": [
       "Error inserting data for Boende: name \u001b[32m'southern_cities'\u001b[0m is not defined\n"
      ]
     },
     "metadata": {},
     "output_type": "display_data"
    },
    {
     "data": {
      "text/html": [
       "<pre style=\"white-space:pre;overflow-x:auto;line-height:normal;font-family:Menlo,'DejaVu Sans Mono',consolas,'Courier New',monospace\">Error inserting data for Luebo: name <span style=\"color: #008000; text-decoration-color: #008000\">'southern_cities'</span> is not defined\n",
       "</pre>\n"
      ],
      "text/plain": [
       "Error inserting data for Luebo: name \u001b[32m'southern_cities'\u001b[0m is not defined\n"
      ]
     },
     "metadata": {},
     "output_type": "display_data"
    },
    {
     "data": {
      "text/html": [
       "<pre style=\"white-space:pre;overflow-x:auto;line-height:normal;font-family:Menlo,'DejaVu Sans Mono',consolas,'Courier New',monospace\">Error inserting data for Bukama: name <span style=\"color: #008000; text-decoration-color: #008000\">'southern_cities'</span> is not defined\n",
       "</pre>\n"
      ],
      "text/plain": [
       "Error inserting data for Bukama: name \u001b[32m'southern_cities'\u001b[0m is not defined\n"
      ]
     },
     "metadata": {},
     "output_type": "display_data"
    },
    {
     "data": {
      "text/html": [
       "<pre style=\"white-space:pre;overflow-x:auto;line-height:normal;font-family:Menlo,'DejaVu Sans Mono',consolas,'Courier New',monospace\">Error inserting data for Kasongo-Lunda: name <span style=\"color: #008000; text-decoration-color: #008000\">'southern_cities'</span> is not defined\n",
       "</pre>\n"
      ],
      "text/plain": [
       "Error inserting data for Kasongo-Lunda: name \u001b[32m'southern_cities'\u001b[0m is not defined\n"
      ]
     },
     "metadata": {},
     "output_type": "display_data"
    },
    {
     "data": {
      "text/html": [
       "<pre style=\"white-space:pre;overflow-x:auto;line-height:normal;font-family:Menlo,'DejaVu Sans Mono',consolas,'Courier New',monospace\">Error inserting data for Kolwezi: name <span style=\"color: #008000; text-decoration-color: #008000\">'southern_cities'</span> is not defined\n",
       "</pre>\n"
      ],
      "text/plain": [
       "Error inserting data for Kolwezi: name \u001b[32m'southern_cities'\u001b[0m is not defined\n"
      ]
     },
     "metadata": {},
     "output_type": "display_data"
    },
    {
     "data": {
      "text/html": [
       "<pre style=\"white-space:pre;overflow-x:auto;line-height:normal;font-family:Menlo,'DejaVu Sans Mono',consolas,'Courier New',monospace\">Error inserting data for Avarua: name <span style=\"color: #008000; text-decoration-color: #008000\">'southern_cities'</span> is not defined\n",
       "</pre>\n"
      ],
      "text/plain": [
       "Error inserting data for Avarua: name \u001b[32m'southern_cities'\u001b[0m is not defined\n"
      ]
     },
     "metadata": {},
     "output_type": "display_data"
    },
    {
     "data": {
      "text/html": [
       "<pre style=\"white-space:pre;overflow-x:auto;line-height:normal;font-family:Menlo,'DejaVu Sans Mono',consolas,'Courier New',monospace\">Error inserting data for Constitucion: name <span style=\"color: #008000; text-decoration-color: #008000\">'southern_cities'</span> is not defined\n",
       "</pre>\n"
      ],
      "text/plain": [
       "Error inserting data for Constitucion: name \u001b[32m'southern_cities'\u001b[0m is not defined\n"
      ]
     },
     "metadata": {},
     "output_type": "display_data"
    },
    {
     "data": {
      "text/html": [
       "<pre style=\"white-space:pre;overflow-x:auto;line-height:normal;font-family:Menlo,'DejaVu Sans Mono',consolas,'Courier New',monospace\">Error inserting data for Quellon: name <span style=\"color: #008000; text-decoration-color: #008000\">'southern_cities'</span> is not defined\n",
       "</pre>\n"
      ],
      "text/plain": [
       "Error inserting data for Quellon: name \u001b[32m'southern_cities'\u001b[0m is not defined\n"
      ]
     },
     "metadata": {},
     "output_type": "display_data"
    },
    {
     "data": {
      "text/html": [
       "<pre style=\"white-space:pre;overflow-x:auto;line-height:normal;font-family:Menlo,'DejaVu Sans Mono',consolas,'Courier New',monospace\">Error inserting data for Taltal: name <span style=\"color: #008000; text-decoration-color: #008000\">'southern_cities'</span> is not defined\n",
       "</pre>\n"
      ],
      "text/plain": [
       "Error inserting data for Taltal: name \u001b[32m'southern_cities'\u001b[0m is not defined\n"
      ]
     },
     "metadata": {},
     "output_type": "display_data"
    },
    {
     "data": {
      "text/html": [
       "<pre style=\"white-space:pre;overflow-x:auto;line-height:normal;font-family:Menlo,'DejaVu Sans Mono',consolas,'Courier New',monospace\">Error inserting data for Ancud: name <span style=\"color: #008000; text-decoration-color: #008000\">'southern_cities'</span> is not defined\n",
       "</pre>\n"
      ],
      "text/plain": [
       "Error inserting data for Ancud: name \u001b[32m'southern_cities'\u001b[0m is not defined\n"
      ]
     },
     "metadata": {},
     "output_type": "display_data"
    },
    {
     "data": {
      "text/html": [
       "<pre style=\"white-space:pre;overflow-x:auto;line-height:normal;font-family:Menlo,'DejaVu Sans Mono',consolas,'Courier New',monospace\">Error inserting data for Lebu: name <span style=\"color: #008000; text-decoration-color: #008000\">'southern_cities'</span> is not defined\n",
       "</pre>\n"
      ],
      "text/plain": [
       "Error inserting data for Lebu: name \u001b[32m'southern_cities'\u001b[0m is not defined\n"
      ]
     },
     "metadata": {},
     "output_type": "display_data"
    },
    {
     "data": {
      "text/html": [
       "<pre style=\"white-space:pre;overflow-x:auto;line-height:normal;font-family:Menlo,'DejaVu Sans Mono',consolas,'Courier New',monospace\">Error inserting data for Punta Arenas: name <span style=\"color: #008000; text-decoration-color: #008000\">'southern_cities'</span> is not defined\n",
       "</pre>\n"
      ],
      "text/plain": [
       "Error inserting data for Punta Arenas: name \u001b[32m'southern_cities'\u001b[0m is not defined\n"
      ]
     },
     "metadata": {},
     "output_type": "display_data"
    },
    {
     "data": {
      "text/html": [
       "<pre style=\"white-space:pre;overflow-x:auto;line-height:normal;font-family:Menlo,'DejaVu Sans Mono',consolas,'Courier New',monospace\">Error inserting data for Puerto Natales: name <span style=\"color: #008000; text-decoration-color: #008000\">'southern_cities'</span> is not defined\n",
       "</pre>\n"
      ],
      "text/plain": [
       "Error inserting data for Puerto Natales: name \u001b[32m'southern_cities'\u001b[0m is not defined\n"
      ]
     },
     "metadata": {},
     "output_type": "display_data"
    },
    {
     "data": {
      "text/html": [
       "<pre style=\"white-space:pre;overflow-x:auto;line-height:normal;font-family:Menlo,'DejaVu Sans Mono',consolas,'Courier New',monospace\">Error inserting data for Chonchi: name <span style=\"color: #008000; text-decoration-color: #008000\">'southern_cities'</span> is not defined\n",
       "</pre>\n"
      ],
      "text/plain": [
       "Error inserting data for Chonchi: name \u001b[32m'southern_cities'\u001b[0m is not defined\n"
      ]
     },
     "metadata": {},
     "output_type": "display_data"
    },
    {
     "data": {
      "text/html": [
       "<pre style=\"white-space:pre;overflow-x:auto;line-height:normal;font-family:Menlo,'DejaVu Sans Mono',consolas,'Courier New',monospace\">Error inserting data for Flying Fish Cove: name <span style=\"color: #008000; text-decoration-color: #008000\">'southern_cities'</span> is not defined\n",
       "</pre>\n"
      ],
      "text/plain": [
       "Error inserting data for Flying Fish Cove: name \u001b[32m'southern_cities'\u001b[0m is not defined\n"
      ]
     },
     "metadata": {},
     "output_type": "display_data"
    },
    {
     "data": {
      "text/html": [
       "<pre style=\"white-space:pre;overflow-x:auto;line-height:normal;font-family:Menlo,'DejaVu Sans Mono',consolas,'Courier New',monospace\">Error inserting data for Manta: name <span style=\"color: #008000; text-decoration-color: #008000\">'southern_cities'</span> is not defined\n",
       "</pre>\n"
      ],
      "text/plain": [
       "Error inserting data for Manta: name \u001b[32m'southern_cities'\u001b[0m is not defined\n"
      ]
     },
     "metadata": {},
     "output_type": "display_data"
    },
    {
     "data": {
      "text/html": [
       "<pre style=\"white-space:pre;overflow-x:auto;line-height:normal;font-family:Menlo,'DejaVu Sans Mono',consolas,'Courier New',monospace\">Error inserting data for Latacunga: name <span style=\"color: #008000; text-decoration-color: #008000\">'southern_cities'</span> is not defined\n",
       "</pre>\n"
      ],
      "text/plain": [
       "Error inserting data for Latacunga: name \u001b[32m'southern_cities'\u001b[0m is not defined\n"
      ]
     },
     "metadata": {},
     "output_type": "display_data"
    },
    {
     "data": {
      "text/html": [
       "<pre style=\"white-space:pre;overflow-x:auto;line-height:normal;font-family:Menlo,'DejaVu Sans Mono',consolas,'Courier New',monospace\">Error inserting data for Puerto Ayora: name <span style=\"color: #008000; text-decoration-color: #008000\">'southern_cities'</span> is not defined\n",
       "</pre>\n"
      ],
      "text/plain": [
       "Error inserting data for Puerto Ayora: name \u001b[32m'southern_cities'\u001b[0m is not defined\n"
      ]
     },
     "metadata": {},
     "output_type": "display_data"
    },
    {
     "data": {
      "text/html": [
       "<pre style=\"white-space:pre;overflow-x:auto;line-height:normal;font-family:Menlo,'DejaVu Sans Mono',consolas,'Courier New',monospace\">Error inserting data for Puerto Baquerizo Moreno: name <span style=\"color: #008000; text-decoration-color: #008000\">'southern_cities'</span> is not defined\n",
       "</pre>\n"
      ],
      "text/plain": [
       "Error inserting data for Puerto Baquerizo Moreno: name \u001b[32m'southern_cities'\u001b[0m is not defined\n"
      ]
     },
     "metadata": {},
     "output_type": "display_data"
    },
    {
     "data": {
      "text/html": [
       "<pre style=\"white-space:pre;overflow-x:auto;line-height:normal;font-family:Menlo,'DejaVu Sans Mono',consolas,'Courier New',monospace\">Error inserting data for Suva: name <span style=\"color: #008000; text-decoration-color: #008000\">'southern_cities'</span> is not defined\n",
       "</pre>\n"
      ],
      "text/plain": [
       "Error inserting data for Suva: name \u001b[32m'southern_cities'\u001b[0m is not defined\n"
      ]
     },
     "metadata": {},
     "output_type": "display_data"
    },
    {
     "data": {
      "text/html": [
       "<pre style=\"white-space:pre;overflow-x:auto;line-height:normal;font-family:Menlo,'DejaVu Sans Mono',consolas,'Courier New',monospace\">Error inserting data for Ndjole: name <span style=\"color: #008000; text-decoration-color: #008000\">'southern_cities'</span> is not defined\n",
       "</pre>\n"
      ],
      "text/plain": [
       "Error inserting data for Ndjole: name \u001b[32m'southern_cities'\u001b[0m is not defined\n"
      ]
     },
     "metadata": {},
     "output_type": "display_data"
    },
    {
     "data": {
      "text/html": [
       "<pre style=\"white-space:pre;overflow-x:auto;line-height:normal;font-family:Menlo,'DejaVu Sans Mono',consolas,'Courier New',monospace\">Error inserting data for San Antonio De Pale: name <span style=\"color: #008000; text-decoration-color: #008000\">'southern_cities'</span> is not defined\n",
       "</pre>\n"
      ],
      "text/plain": [
       "Error inserting data for San Antonio De Pale: name \u001b[32m'southern_cities'\u001b[0m is not defined\n"
      ]
     },
     "metadata": {},
     "output_type": "display_data"
    },
    {
     "data": {
      "text/html": [
       "<pre style=\"white-space:pre;overflow-x:auto;line-height:normal;font-family:Menlo,'DejaVu Sans Mono',consolas,'Courier New',monospace\">Error inserting data for Grytviken: name <span style=\"color: #008000; text-decoration-color: #008000\">'southern_cities'</span> is not defined\n",
       "</pre>\n"
      ],
      "text/plain": [
       "Error inserting data for Grytviken: name \u001b[32m'southern_cities'\u001b[0m is not defined\n"
      ]
     },
     "metadata": {},
     "output_type": "display_data"
    },
    {
     "data": {
      "text/html": [
       "<pre style=\"white-space:pre;overflow-x:auto;line-height:normal;font-family:Menlo,'DejaVu Sans Mono',consolas,'Courier New',monospace\">Error inserting data for Katabu: name <span style=\"color: #008000; text-decoration-color: #008000\">'southern_cities'</span> is not defined\n",
       "</pre>\n"
      ],
      "text/plain": [
       "Error inserting data for Katabu: name \u001b[32m'southern_cities'\u001b[0m is not defined\n"
      ]
     },
     "metadata": {},
     "output_type": "display_data"
    },
    {
     "data": {
      "text/html": [
       "<pre style=\"white-space:pre;overflow-x:auto;line-height:normal;font-family:Menlo,'DejaVu Sans Mono',consolas,'Courier New',monospace\">Error inserting data for Pangkalpinang: name <span style=\"color: #008000; text-decoration-color: #008000\">'southern_cities'</span> is not defined\n",
       "</pre>\n"
      ],
      "text/plain": [
       "Error inserting data for Pangkalpinang: name \u001b[32m'southern_cities'\u001b[0m is not defined\n"
      ]
     },
     "metadata": {},
     "output_type": "display_data"
    },
    {
     "data": {
      "text/html": [
       "<pre style=\"white-space:pre;overflow-x:auto;line-height:normal;font-family:Menlo,'DejaVu Sans Mono',consolas,'Courier New',monospace\">Error inserting data for Pangkalanbuun: name <span style=\"color: #008000; text-decoration-color: #008000\">'southern_cities'</span> is not defined\n",
       "</pre>\n"
      ],
      "text/plain": [
       "Error inserting data for Pangkalanbuun: name \u001b[32m'southern_cities'\u001b[0m is not defined\n"
      ]
     },
     "metadata": {},
     "output_type": "display_data"
    },
    {
     "data": {
      "text/html": [
       "<pre style=\"white-space:pre;overflow-x:auto;line-height:normal;font-family:Menlo,'DejaVu Sans Mono',consolas,'Courier New',monospace\">Error inserting data for Jayapura: name <span style=\"color: #008000; text-decoration-color: #008000\">'southern_cities'</span> is not defined\n",
       "</pre>\n"
      ],
      "text/plain": [
       "Error inserting data for Jayapura: name \u001b[32m'southern_cities'\u001b[0m is not defined\n"
      ]
     },
     "metadata": {},
     "output_type": "display_data"
    },
    {
     "data": {
      "text/html": [
       "<pre style=\"white-space:pre;overflow-x:auto;line-height:normal;font-family:Menlo,'DejaVu Sans Mono',consolas,'Courier New',monospace\">Error inserting data for Maumere: name <span style=\"color: #008000; text-decoration-color: #008000\">'southern_cities'</span> is not defined\n",
       "</pre>\n"
      ],
      "text/plain": [
       "Error inserting data for Maumere: name \u001b[32m'southern_cities'\u001b[0m is not defined\n"
      ]
     },
     "metadata": {},
     "output_type": "display_data"
    },
    {
     "data": {
      "text/html": [
       "<pre style=\"white-space:pre;overflow-x:auto;line-height:normal;font-family:Menlo,'DejaVu Sans Mono',consolas,'Courier New',monospace\">Error inserting data for Tual: name <span style=\"color: #008000; text-decoration-color: #008000\">'southern_cities'</span> is not defined\n",
       "</pre>\n"
      ],
      "text/plain": [
       "Error inserting data for Tual: name \u001b[32m'southern_cities'\u001b[0m is not defined\n"
      ]
     },
     "metadata": {},
     "output_type": "display_data"
    },
    {
     "data": {
      "text/html": [
       "<pre style=\"white-space:pre;overflow-x:auto;line-height:normal;font-family:Menlo,'DejaVu Sans Mono',consolas,'Courier New',monospace\">Error inserting data for Kupang: name <span style=\"color: #008000; text-decoration-color: #008000\">'southern_cities'</span> is not defined\n",
       "</pre>\n"
      ],
      "text/plain": [
       "Error inserting data for Kupang: name \u001b[32m'southern_cities'\u001b[0m is not defined\n"
      ]
     },
     "metadata": {},
     "output_type": "display_data"
    },
    {
     "data": {
      "text/html": [
       "<pre style=\"white-space:pre;overflow-x:auto;line-height:normal;font-family:Menlo,'DejaVu Sans Mono',consolas,'Courier New',monospace\">Error inserting data for Malango: name <span style=\"color: #008000; text-decoration-color: #008000\">'southern_cities'</span> is not defined\n",
       "</pre>\n"
      ],
      "text/plain": [
       "Error inserting data for Malango: name \u001b[32m'southern_cities'\u001b[0m is not defined\n"
      ]
     },
     "metadata": {},
     "output_type": "display_data"
    },
    {
     "data": {
      "text/html": [
       "<pre style=\"white-space:pre;overflow-x:auto;line-height:normal;font-family:Menlo,'DejaVu Sans Mono',consolas,'Courier New',monospace\">Error inserting data for Malindi: name <span style=\"color: #008000; text-decoration-color: #008000\">'southern_cities'</span> is not defined\n",
       "</pre>\n"
      ],
      "text/plain": [
       "Error inserting data for Malindi: name \u001b[32m'southern_cities'\u001b[0m is not defined\n"
      ]
     },
     "metadata": {},
     "output_type": "display_data"
    },
    {
     "data": {
      "text/html": [
       "<pre style=\"white-space:pre;overflow-x:auto;line-height:normal;font-family:Menlo,'DejaVu Sans Mono',consolas,'Courier New',monospace\">Error inserting data for Garissa: name <span style=\"color: #008000; text-decoration-color: #008000\">'southern_cities'</span> is not defined\n",
       "</pre>\n"
      ],
      "text/plain": [
       "Error inserting data for Garissa: name \u001b[32m'southern_cities'\u001b[0m is not defined\n"
      ]
     },
     "metadata": {},
     "output_type": "display_data"
    },
    {
     "data": {
      "text/html": [
       "<pre style=\"white-space:pre;overflow-x:auto;line-height:normal;font-family:Menlo,'DejaVu Sans Mono',consolas,'Courier New',monospace\">Error inserting data for Antsiranana: name <span style=\"color: #008000; text-decoration-color: #008000\">'southern_cities'</span> is not defined\n",
       "</pre>\n"
      ],
      "text/plain": [
       "Error inserting data for Antsiranana: name \u001b[32m'southern_cities'\u001b[0m is not defined\n"
      ]
     },
     "metadata": {},
     "output_type": "display_data"
    },
    {
     "data": {
      "text/html": [
       "<pre style=\"white-space:pre;overflow-x:auto;line-height:normal;font-family:Menlo,'DejaVu Sans Mono',consolas,'Courier New',monospace\">Error inserting data for Morondava: name <span style=\"color: #008000; text-decoration-color: #008000\">'southern_cities'</span> is not defined\n",
       "</pre>\n"
      ],
      "text/plain": [
       "Error inserting data for Morondava: name \u001b[32m'southern_cities'\u001b[0m is not defined\n"
      ]
     },
     "metadata": {},
     "output_type": "display_data"
    },
    {
     "data": {
      "text/html": [
       "<pre style=\"white-space:pre;overflow-x:auto;line-height:normal;font-family:Menlo,'DejaVu Sans Mono',consolas,'Courier New',monospace\">Error inserting data for Antalaha: name <span style=\"color: #008000; text-decoration-color: #008000\">'southern_cities'</span> is not defined\n",
       "</pre>\n"
      ],
      "text/plain": [
       "Error inserting data for Antalaha: name \u001b[32m'southern_cities'\u001b[0m is not defined\n"
      ]
     },
     "metadata": {},
     "output_type": "display_data"
    },
    {
     "data": {
      "text/html": [
       "<pre style=\"white-space:pre;overflow-x:auto;line-height:normal;font-family:Menlo,'DejaVu Sans Mono',consolas,'Courier New',monospace\">Error inserting data for Tolanaro: name <span style=\"color: #008000; text-decoration-color: #008000\">'southern_cities'</span> is not defined\n",
       "</pre>\n"
      ],
      "text/plain": [
       "Error inserting data for Tolanaro: name \u001b[32m'southern_cities'\u001b[0m is not defined\n"
      ]
     },
     "metadata": {},
     "output_type": "display_data"
    },
    {
     "data": {
      "text/html": [
       "<pre style=\"white-space:pre;overflow-x:auto;line-height:normal;font-family:Menlo,'DejaVu Sans Mono',consolas,'Courier New',monospace\">Error inserting data for Ampanihy: name <span style=\"color: #008000; text-decoration-color: #008000\">'southern_cities'</span> is not defined\n",
       "</pre>\n"
      ],
      "text/plain": [
       "Error inserting data for Ampanihy: name \u001b[32m'southern_cities'\u001b[0m is not defined\n"
      ]
     },
     "metadata": {},
     "output_type": "display_data"
    },
    {
     "data": {
      "text/html": [
       "<pre style=\"white-space:pre;overflow-x:auto;line-height:normal;font-family:Menlo,'DejaVu Sans Mono',consolas,'Courier New',monospace\">Error inserting data for Toliara: name <span style=\"color: #008000; text-decoration-color: #008000\">'southern_cities'</span> is not defined\n",
       "</pre>\n"
      ],
      "text/plain": [
       "Error inserting data for Toliara: name \u001b[32m'southern_cities'\u001b[0m is not defined\n"
      ]
     },
     "metadata": {},
     "output_type": "display_data"
    },
    {
     "data": {
      "text/html": [
       "<pre style=\"white-space:pre;overflow-x:auto;line-height:normal;font-family:Menlo,'DejaVu Sans Mono',consolas,'Courier New',monospace\">Error inserting data for Tsiombe: name <span style=\"color: #008000; text-decoration-color: #008000\">'southern_cities'</span> is not defined\n",
       "</pre>\n"
      ],
      "text/plain": [
       "Error inserting data for Tsiombe: name \u001b[32m'southern_cities'\u001b[0m is not defined\n"
      ]
     },
     "metadata": {},
     "output_type": "display_data"
    },
    {
     "data": {
      "text/html": [
       "<pre style=\"white-space:pre;overflow-x:auto;line-height:normal;font-family:Menlo,'DejaVu Sans Mono',consolas,'Courier New',monospace\">Error inserting data for Port Mathurin: name <span style=\"color: #008000; text-decoration-color: #008000\">'southern_cities'</span> is not defined\n",
       "</pre>\n"
      ],
      "text/plain": [
       "Error inserting data for Port Mathurin: name \u001b[32m'southern_cities'\u001b[0m is not defined\n"
      ]
     },
     "metadata": {},
     "output_type": "display_data"
    },
    {
     "data": {
      "text/html": [
       "<pre style=\"white-space:pre;overflow-x:auto;line-height:normal;font-family:Menlo,'DejaVu Sans Mono',consolas,'Courier New',monospace\">Error inserting data for Souillac: name <span style=\"color: #008000; text-decoration-color: #008000\">'southern_cities'</span> is not defined\n",
       "</pre>\n"
      ],
      "text/plain": [
       "Error inserting data for Souillac: name \u001b[32m'southern_cities'\u001b[0m is not defined\n"
      ]
     },
     "metadata": {},
     "output_type": "display_data"
    },
    {
     "data": {
      "text/html": [
       "<pre style=\"white-space:pre;overflow-x:auto;line-height:normal;font-family:Menlo,'DejaVu Sans Mono',consolas,'Courier New',monospace\">Error inserting data for Hithadhoo: name <span style=\"color: #008000; text-decoration-color: #008000\">'southern_cities'</span> is not defined\n",
       "</pre>\n"
      ],
      "text/plain": [
       "Error inserting data for Hithadhoo: name \u001b[32m'southern_cities'\u001b[0m is not defined\n"
      ]
     },
     "metadata": {},
     "output_type": "display_data"
    },
    {
     "data": {
      "text/html": [
       "<pre style=\"white-space:pre;overflow-x:auto;line-height:normal;font-family:Menlo,'DejaVu Sans Mono',consolas,'Courier New',monospace\">Error inserting data for Salima: name <span style=\"color: #008000; text-decoration-color: #008000\">'southern_cities'</span> is not defined\n",
       "</pre>\n"
      ],
      "text/plain": [
       "Error inserting data for Salima: name \u001b[32m'southern_cities'\u001b[0m is not defined\n"
      ]
     },
     "metadata": {},
     "output_type": "display_data"
    },
    {
     "data": {
      "text/html": [
       "<pre style=\"white-space:pre;overflow-x:auto;line-height:normal;font-family:Menlo,'DejaVu Sans Mono',consolas,'Courier New',monospace\">Error inserting data for Mutuali: name <span style=\"color: #008000; text-decoration-color: #008000\">'southern_cities'</span> is not defined\n",
       "</pre>\n"
      ],
      "text/plain": [
       "Error inserting data for Mutuali: name \u001b[32m'southern_cities'\u001b[0m is not defined\n"
      ]
     },
     "metadata": {},
     "output_type": "display_data"
    },
    {
     "data": {
      "text/html": [
       "<pre style=\"white-space:pre;overflow-x:auto;line-height:normal;font-family:Menlo,'DejaVu Sans Mono',consolas,'Courier New',monospace\">Error inserting data for Antonio Enes: name <span style=\"color: #008000; text-decoration-color: #008000\">'southern_cities'</span> is not defined\n",
       "</pre>\n"
      ],
      "text/plain": [
       "Error inserting data for Antonio Enes: name \u001b[32m'southern_cities'\u001b[0m is not defined\n"
      ]
     },
     "metadata": {},
     "output_type": "display_data"
    },
    {
     "data": {
      "text/html": [
       "<pre style=\"white-space:pre;overflow-x:auto;line-height:normal;font-family:Menlo,'DejaVu Sans Mono',consolas,'Courier New',monospace\">Error inserting data for Pemba: name <span style=\"color: #008000; text-decoration-color: #008000\">'southern_cities'</span> is not defined\n",
       "</pre>\n"
      ],
      "text/plain": [
       "Error inserting data for Pemba: name \u001b[32m'southern_cities'\u001b[0m is not defined\n"
      ]
     },
     "metadata": {},
     "output_type": "display_data"
    },
    {
     "data": {
      "text/html": [
       "<pre style=\"white-space:pre;overflow-x:auto;line-height:normal;font-family:Menlo,'DejaVu Sans Mono',consolas,'Courier New',monospace\">Error inserting data for Chibuto: name <span style=\"color: #008000; text-decoration-color: #008000\">'southern_cities'</span> is not defined\n",
       "</pre>\n"
      ],
      "text/plain": [
       "Error inserting data for Chibuto: name \u001b[32m'southern_cities'\u001b[0m is not defined\n"
      ]
     },
     "metadata": {},
     "output_type": "display_data"
    },
    {
     "data": {
      "text/html": [
       "<pre style=\"white-space:pre;overflow-x:auto;line-height:normal;font-family:Menlo,'DejaVu Sans Mono',consolas,'Courier New',monospace\">Error inserting data for Luderitz: name <span style=\"color: #008000; text-decoration-color: #008000\">'southern_cities'</span> is not defined\n",
       "</pre>\n"
      ],
      "text/plain": [
       "Error inserting data for Luderitz: name \u001b[32m'southern_cities'\u001b[0m is not defined\n"
      ]
     },
     "metadata": {},
     "output_type": "display_data"
    },
    {
     "data": {
      "text/html": [
       "<pre style=\"white-space:pre;overflow-x:auto;line-height:normal;font-family:Menlo,'DejaVu Sans Mono',consolas,'Courier New',monospace\">Error inserting data for Walvis Bay: name <span style=\"color: #008000; text-decoration-color: #008000\">'southern_cities'</span> is not defined\n",
       "</pre>\n"
      ],
      "text/plain": [
       "Error inserting data for Walvis Bay: name \u001b[32m'southern_cities'\u001b[0m is not defined\n"
      ]
     },
     "metadata": {},
     "output_type": "display_data"
    },
    {
     "data": {
      "text/html": [
       "<pre style=\"white-space:pre;overflow-x:auto;line-height:normal;font-family:Menlo,'DejaVu Sans Mono',consolas,'Courier New',monospace\">Error inserting data for Tadine: name <span style=\"color: #008000; text-decoration-color: #008000\">'southern_cities'</span> is not defined\n",
       "</pre>\n"
      ],
      "text/plain": [
       "Error inserting data for Tadine: name \u001b[32m'southern_cities'\u001b[0m is not defined\n"
      ]
     },
     "metadata": {},
     "output_type": "display_data"
    },
    {
     "data": {
      "text/html": [
       "<pre style=\"white-space:pre;overflow-x:auto;line-height:normal;font-family:Menlo,'DejaVu Sans Mono',consolas,'Courier New',monospace\">Error inserting data for Kone: name <span style=\"color: #008000; text-decoration-color: #008000\">'southern_cities'</span> is not defined\n",
       "</pre>\n"
      ],
      "text/plain": [
       "Error inserting data for Kone: name \u001b[32m'southern_cities'\u001b[0m is not defined\n"
      ]
     },
     "metadata": {},
     "output_type": "display_data"
    },
    {
     "data": {
      "text/html": [
       "<pre style=\"white-space:pre;overflow-x:auto;line-height:normal;font-family:Menlo,'DejaVu Sans Mono',consolas,'Courier New',monospace\">Error inserting data for La Foa: name <span style=\"color: #008000; text-decoration-color: #008000\">'southern_cities'</span> is not defined\n",
       "</pre>\n"
      ],
      "text/plain": [
       "Error inserting data for La Foa: name \u001b[32m'southern_cities'\u001b[0m is not defined\n"
      ]
     },
     "metadata": {},
     "output_type": "display_data"
    },
    {
     "data": {
      "text/html": [
       "<pre style=\"white-space:pre;overflow-x:auto;line-height:normal;font-family:Menlo,'DejaVu Sans Mono',consolas,'Courier New',monospace\">Error inserting data for Papatowai: name <span style=\"color: #008000; text-decoration-color: #008000\">'southern_cities'</span> is not defined\n",
       "</pre>\n"
      ],
      "text/plain": [
       "Error inserting data for Papatowai: name \u001b[32m'southern_cities'\u001b[0m is not defined\n"
      ]
     },
     "metadata": {},
     "output_type": "display_data"
    },
    {
     "data": {
      "text/html": [
       "<pre style=\"white-space:pre;overflow-x:auto;line-height:normal;font-family:Menlo,'DejaVu Sans Mono',consolas,'Courier New',monospace\">Error inserting data for Masterton: name <span style=\"color: #008000; text-decoration-color: #008000\">'southern_cities'</span> is not defined\n",
       "</pre>\n"
      ],
      "text/plain": [
       "Error inserting data for Masterton: name \u001b[32m'southern_cities'\u001b[0m is not defined\n"
      ]
     },
     "metadata": {},
     "output_type": "display_data"
    },
    {
     "data": {
      "text/html": [
       "<pre style=\"white-space:pre;overflow-x:auto;line-height:normal;font-family:Menlo,'DejaVu Sans Mono',consolas,'Courier New',monospace\">Error inserting data for Whakatane: name <span style=\"color: #008000; text-decoration-color: #008000\">'southern_cities'</span> is not defined\n",
       "</pre>\n"
      ],
      "text/plain": [
       "Error inserting data for Whakatane: name \u001b[32m'southern_cities'\u001b[0m is not defined\n"
      ]
     },
     "metadata": {},
     "output_type": "display_data"
    },
    {
     "data": {
      "text/html": [
       "<pre style=\"white-space:pre;overflow-x:auto;line-height:normal;font-family:Menlo,'DejaVu Sans Mono',consolas,'Courier New',monospace\">Error inserting data for Dunedin: name <span style=\"color: #008000; text-decoration-color: #008000\">'southern_cities'</span> is not defined\n",
       "</pre>\n"
      ],
      "text/plain": [
       "Error inserting data for Dunedin: name \u001b[32m'southern_cities'\u001b[0m is not defined\n"
      ]
     },
     "metadata": {},
     "output_type": "display_data"
    },
    {
     "data": {
      "text/html": [
       "<pre style=\"white-space:pre;overflow-x:auto;line-height:normal;font-family:Menlo,'DejaVu Sans Mono',consolas,'Courier New',monospace\">Error inserting data for Waitangi: name <span style=\"color: #008000; text-decoration-color: #008000\">'southern_cities'</span> is not defined\n",
       "</pre>\n"
      ],
      "text/plain": [
       "Error inserting data for Waitangi: name \u001b[32m'southern_cities'\u001b[0m is not defined\n"
      ]
     },
     "metadata": {},
     "output_type": "display_data"
    },
    {
     "data": {
      "text/html": [
       "<pre style=\"white-space:pre;overflow-x:auto;line-height:normal;font-family:Menlo,'DejaVu Sans Mono',consolas,'Courier New',monospace\">Error inserting data for New Plymouth: name <span style=\"color: #008000; text-decoration-color: #008000\">'southern_cities'</span> is not defined\n",
       "</pre>\n"
      ],
      "text/plain": [
       "Error inserting data for New Plymouth: name \u001b[32m'southern_cities'\u001b[0m is not defined\n"
      ]
     },
     "metadata": {},
     "output_type": "display_data"
    },
    {
     "data": {
      "text/html": [
       "<pre style=\"white-space:pre;overflow-x:auto;line-height:normal;font-family:Menlo,'DejaVu Sans Mono',consolas,'Courier New',monospace\">Error inserting data for Invercargill: name <span style=\"color: #008000; text-decoration-color: #008000\">'southern_cities'</span> is not defined\n",
       "</pre>\n"
      ],
      "text/plain": [
       "Error inserting data for Invercargill: name \u001b[32m'southern_cities'\u001b[0m is not defined\n"
      ]
     },
     "metadata": {},
     "output_type": "display_data"
    },
    {
     "data": {
      "text/html": [
       "<pre style=\"white-space:pre;overflow-x:auto;line-height:normal;font-family:Menlo,'DejaVu Sans Mono',consolas,'Courier New',monospace\">Error inserting data for Kerikeri: name <span style=\"color: #008000; text-decoration-color: #008000\">'southern_cities'</span> is not defined\n",
       "</pre>\n"
      ],
      "text/plain": [
       "Error inserting data for Kerikeri: name \u001b[32m'southern_cities'\u001b[0m is not defined\n"
      ]
     },
     "metadata": {},
     "output_type": "display_data"
    },
    {
     "data": {
      "text/html": [
       "<pre style=\"white-space:pre;overflow-x:auto;line-height:normal;font-family:Menlo,'DejaVu Sans Mono',consolas,'Courier New',monospace\">Error inserting data for Pisco: name <span style=\"color: #008000; text-decoration-color: #008000\">'southern_cities'</span> is not defined\n",
       "</pre>\n"
      ],
      "text/plain": [
       "Error inserting data for Pisco: name \u001b[32m'southern_cities'\u001b[0m is not defined\n"
      ]
     },
     "metadata": {},
     "output_type": "display_data"
    },
    {
     "data": {
      "text/html": [
       "<pre style=\"white-space:pre;overflow-x:auto;line-height:normal;font-family:Menlo,'DejaVu Sans Mono',consolas,'Courier New',monospace\">Error inserting data for Camana: name <span style=\"color: #008000; text-decoration-color: #008000\">'southern_cities'</span> is not defined\n",
       "</pre>\n"
      ],
      "text/plain": [
       "Error inserting data for Camana: name \u001b[32m'southern_cities'\u001b[0m is not defined\n"
      ]
     },
     "metadata": {},
     "output_type": "display_data"
    },
    {
     "data": {
      "text/html": [
       "<pre style=\"white-space:pre;overflow-x:auto;line-height:normal;font-family:Menlo,'DejaVu Sans Mono',consolas,'Courier New',monospace\">Error inserting data for Barranca: name <span style=\"color: #008000; text-decoration-color: #008000\">'southern_cities'</span> is not defined\n",
       "</pre>\n"
      ],
      "text/plain": [
       "Error inserting data for Barranca: name \u001b[32m'southern_cities'\u001b[0m is not defined\n"
      ]
     },
     "metadata": {},
     "output_type": "display_data"
    },
    {
     "data": {
      "text/html": [
       "<pre style=\"white-space:pre;overflow-x:auto;line-height:normal;font-family:Menlo,'DejaVu Sans Mono',consolas,'Courier New',monospace\">Error inserting data for Mollendo: name <span style=\"color: #008000; text-decoration-color: #008000\">'southern_cities'</span> is not defined\n",
       "</pre>\n"
      ],
      "text/plain": [
       "Error inserting data for Mollendo: name \u001b[32m'southern_cities'\u001b[0m is not defined\n"
      ]
     },
     "metadata": {},
     "output_type": "display_data"
    },
    {
     "data": {
      "text/html": [
       "<pre style=\"white-space:pre;overflow-x:auto;line-height:normal;font-family:Menlo,'DejaVu Sans Mono',consolas,'Courier New',monospace\">Error inserting data for Pacasmayo: name <span style=\"color: #008000; text-decoration-color: #008000\">'southern_cities'</span> is not defined\n",
       "</pre>\n"
      ],
      "text/plain": [
       "Error inserting data for Pacasmayo: name \u001b[32m'southern_cities'\u001b[0m is not defined\n"
      ]
     },
     "metadata": {},
     "output_type": "display_data"
    },
    {
     "data": {
      "text/html": [
       "<pre style=\"white-space:pre;overflow-x:auto;line-height:normal;font-family:Menlo,'DejaVu Sans Mono',consolas,'Courier New',monospace\">Error inserting data for Minas De Marcona: name <span style=\"color: #008000; text-decoration-color: #008000\">'southern_cities'</span> is not defined\n",
       "</pre>\n"
      ],
      "text/plain": [
       "Error inserting data for Minas De Marcona: name \u001b[32m'southern_cities'\u001b[0m is not defined\n"
      ]
     },
     "metadata": {},
     "output_type": "display_data"
    },
    {
     "data": {
      "text/html": [
       "<pre style=\"white-space:pre;overflow-x:auto;line-height:normal;font-family:Menlo,'DejaVu Sans Mono',consolas,'Courier New',monospace\">Error inserting data for Callao: name <span style=\"color: #008000; text-decoration-color: #008000\">'southern_cities'</span> is not defined\n",
       "</pre>\n"
      ],
      "text/plain": [
       "Error inserting data for Callao: name \u001b[32m'southern_cities'\u001b[0m is not defined\n"
      ]
     },
     "metadata": {},
     "output_type": "display_data"
    },
    {
     "data": {
      "text/html": [
       "<pre style=\"white-space:pre;overflow-x:auto;line-height:normal;font-family:Menlo,'DejaVu Sans Mono',consolas,'Courier New',monospace\">Error inserting data for Caleta De Carquin: name <span style=\"color: #008000; text-decoration-color: #008000\">'southern_cities'</span> is not defined\n",
       "</pre>\n"
      ],
      "text/plain": [
       "Error inserting data for Caleta De Carquin: name \u001b[32m'southern_cities'\u001b[0m is not defined\n"
      ]
     },
     "metadata": {},
     "output_type": "display_data"
    },
    {
     "data": {
      "text/html": [
       "<pre style=\"white-space:pre;overflow-x:auto;line-height:normal;font-family:Menlo,'DejaVu Sans Mono',consolas,'Courier New',monospace\">Error inserting data for Mahina: name <span style=\"color: #008000; text-decoration-color: #008000\">'southern_cities'</span> is not defined\n",
       "</pre>\n"
      ],
      "text/plain": [
       "Error inserting data for Mahina: name \u001b[32m'southern_cities'\u001b[0m is not defined\n"
      ]
     },
     "metadata": {},
     "output_type": "display_data"
    },
    {
     "data": {
      "text/html": [
       "<pre style=\"white-space:pre;overflow-x:auto;line-height:normal;font-family:Menlo,'DejaVu Sans Mono',consolas,'Courier New',monospace\">Error inserting data for Papao: name <span style=\"color: #008000; text-decoration-color: #008000\">'southern_cities'</span> is not defined\n",
       "</pre>\n"
      ],
      "text/plain": [
       "Error inserting data for Papao: name \u001b[32m'southern_cities'\u001b[0m is not defined\n"
      ]
     },
     "metadata": {},
     "output_type": "display_data"
    },
    {
     "data": {
      "text/html": [
       "<pre style=\"white-space:pre;overflow-x:auto;line-height:normal;font-family:Menlo,'DejaVu Sans Mono',consolas,'Courier New',monospace\">Error inserting data for Uturoa: name <span style=\"color: #008000; text-decoration-color: #008000\">'southern_cities'</span> is not defined\n",
       "</pre>\n"
      ],
      "text/plain": [
       "Error inserting data for Uturoa: name \u001b[32m'southern_cities'\u001b[0m is not defined\n"
      ]
     },
     "metadata": {},
     "output_type": "display_data"
    },
    {
     "data": {
      "text/html": [
       "<pre style=\"white-space:pre;overflow-x:auto;line-height:normal;font-family:Menlo,'DejaVu Sans Mono',consolas,'Courier New',monospace\">Error inserting data for Lorengau: name <span style=\"color: #008000; text-decoration-color: #008000\">'southern_cities'</span> is not defined\n",
       "</pre>\n"
      ],
      "text/plain": [
       "Error inserting data for Lorengau: name \u001b[32m'southern_cities'\u001b[0m is not defined\n"
      ]
     },
     "metadata": {},
     "output_type": "display_data"
    },
    {
     "data": {
      "text/html": [
       "<pre style=\"white-space:pre;overflow-x:auto;line-height:normal;font-family:Menlo,'DejaVu Sans Mono',consolas,'Courier New',monospace\">Error inserting data for Vanimo: name <span style=\"color: #008000; text-decoration-color: #008000\">'southern_cities'</span> is not defined\n",
       "</pre>\n"
      ],
      "text/plain": [
       "Error inserting data for Vanimo: name \u001b[32m'southern_cities'\u001b[0m is not defined\n"
      ]
     },
     "metadata": {},
     "output_type": "display_data"
    },
    {
     "data": {
      "text/html": [
       "<pre style=\"white-space:pre;overflow-x:auto;line-height:normal;font-family:Menlo,'DejaVu Sans Mono',consolas,'Courier New',monospace\">Error inserting data for Kiunga: name <span style=\"color: #008000; text-decoration-color: #008000\">'southern_cities'</span> is not defined\n",
       "</pre>\n"
      ],
      "text/plain": [
       "Error inserting data for Kiunga: name \u001b[32m'southern_cities'\u001b[0m is not defined\n"
      ]
     },
     "metadata": {},
     "output_type": "display_data"
    },
    {
     "data": {
      "text/html": [
       "<pre style=\"white-space:pre;overflow-x:auto;line-height:normal;font-family:Menlo,'DejaVu Sans Mono',consolas,'Courier New',monospace\">Error inserting data for Daru: name <span style=\"color: #008000; text-decoration-color: #008000\">'southern_cities'</span> is not defined\n",
       "</pre>\n"
      ],
      "text/plain": [
       "Error inserting data for Daru: name \u001b[32m'southern_cities'\u001b[0m is not defined\n"
      ]
     },
     "metadata": {},
     "output_type": "display_data"
    },
    {
     "data": {
      "text/html": [
       "<pre style=\"white-space:pre;overflow-x:auto;line-height:normal;font-family:Menlo,'DejaVu Sans Mono',consolas,'Courier New',monospace\">Error inserting data for Lae: name <span style=\"color: #008000; text-decoration-color: #008000\">'southern_cities'</span> is not defined\n",
       "</pre>\n"
      ],
      "text/plain": [
       "Error inserting data for Lae: name \u001b[32m'southern_cities'\u001b[0m is not defined\n"
      ]
     },
     "metadata": {},
     "output_type": "display_data"
    },
    {
     "data": {
      "text/html": [
       "<pre style=\"white-space:pre;overflow-x:auto;line-height:normal;font-family:Menlo,'DejaVu Sans Mono',consolas,'Courier New',monospace\">Error inserting data for Adamstown: name <span style=\"color: #008000; text-decoration-color: #008000\">'southern_cities'</span> is not defined\n",
       "</pre>\n"
      ],
      "text/plain": [
       "Error inserting data for Adamstown: name \u001b[32m'southern_cities'\u001b[0m is not defined\n"
      ]
     },
     "metadata": {},
     "output_type": "display_data"
    },
    {
     "data": {
      "text/html": [
       "<pre style=\"white-space:pre;overflow-x:auto;line-height:normal;font-family:Menlo,'DejaVu Sans Mono',consolas,'Courier New',monospace\">Error inserting data for Saint-Pierre: name <span style=\"color: #008000; text-decoration-color: #008000\">'southern_cities'</span> is not defined\n",
       "</pre>\n"
      ],
      "text/plain": [
       "Error inserting data for Saint-Pierre: name \u001b[32m'southern_cities'\u001b[0m is not defined\n"
      ]
     },
     "metadata": {},
     "output_type": "display_data"
    },
    {
     "data": {
      "text/html": [
       "<pre style=\"white-space:pre;overflow-x:auto;line-height:normal;font-family:Menlo,'DejaVu Sans Mono',consolas,'Courier New',monospace\">Error inserting data for Saint-Philippe: name <span style=\"color: #008000; text-decoration-color: #008000\">'southern_cities'</span> is not defined\n",
       "</pre>\n"
      ],
      "text/plain": [
       "Error inserting data for Saint-Philippe: name \u001b[32m'southern_cities'\u001b[0m is not defined\n"
      ]
     },
     "metadata": {},
     "output_type": "display_data"
    },
    {
     "data": {
      "text/html": [
       "<pre style=\"white-space:pre;overflow-x:auto;line-height:normal;font-family:Menlo,'DejaVu Sans Mono',consolas,'Courier New',monospace\">Error inserting data for Gizo: name <span style=\"color: #008000; text-decoration-color: #008000\">'southern_cities'</span> is not defined\n",
       "</pre>\n"
      ],
      "text/plain": [
       "Error inserting data for Gizo: name \u001b[32m'southern_cities'\u001b[0m is not defined\n"
      ]
     },
     "metadata": {},
     "output_type": "display_data"
    },
    {
     "data": {
      "text/html": [
       "<pre style=\"white-space:pre;overflow-x:auto;line-height:normal;font-family:Menlo,'DejaVu Sans Mono',consolas,'Courier New',monospace\">Error inserting data for Edinburgh Of The Seven Seas: name <span style=\"color: #008000; text-decoration-color: #008000\">'southern_cities'</span> is not defined\n",
       "</pre>\n"
      ],
      "text/plain": [
       "Error inserting data for Edinburgh Of The Seven Seas: name \u001b[32m'southern_cities'\u001b[0m is not defined\n"
      ]
     },
     "metadata": {},
     "output_type": "display_data"
    },
    {
     "data": {
      "text/html": [
       "<pre style=\"white-space:pre;overflow-x:auto;line-height:normal;font-family:Menlo,'DejaVu Sans Mono',consolas,'Courier New',monospace\">Error inserting data for Port-Aux-Francais: name <span style=\"color: #008000; text-decoration-color: #008000\">'southern_cities'</span> is not defined\n",
       "</pre>\n"
      ],
      "text/plain": [
       "Error inserting data for Port-Aux-Francais: name \u001b[32m'southern_cities'\u001b[0m is not defined\n"
      ]
     },
     "metadata": {},
     "output_type": "display_data"
    },
    {
     "data": {
      "text/html": [
       "<pre style=\"white-space:pre;overflow-x:auto;line-height:normal;font-family:Menlo,'DejaVu Sans Mono',consolas,'Courier New',monospace\">Error inserting data for Atafu Village: name <span style=\"color: #008000; text-decoration-color: #008000\">'southern_cities'</span> is not defined\n",
       "</pre>\n"
      ],
      "text/plain": [
       "Error inserting data for Atafu Village: name \u001b[32m'southern_cities'\u001b[0m is not defined\n"
      ]
     },
     "metadata": {},
     "output_type": "display_data"
    },
    {
     "data": {
      "text/html": [
       "<pre style=\"white-space:pre;overflow-x:auto;line-height:normal;font-family:Menlo,'DejaVu Sans Mono',consolas,'Courier New',monospace\">Error inserting data for Fale Old Settlement: name <span style=\"color: #008000; text-decoration-color: #008000\">'southern_cities'</span> is not defined\n",
       "</pre>\n"
      ],
      "text/plain": [
       "Error inserting data for Fale Old Settlement: name \u001b[32m'southern_cities'\u001b[0m is not defined\n"
      ]
     },
     "metadata": {},
     "output_type": "display_data"
    },
    {
     "data": {
      "text/html": [
       "<pre style=\"white-space:pre;overflow-x:auto;line-height:normal;font-family:Menlo,'DejaVu Sans Mono',consolas,'Courier New',monospace\">Error inserting data for Viqueque: name <span style=\"color: #008000; text-decoration-color: #008000\">'southern_cities'</span> is not defined\n",
       "</pre>\n"
      ],
      "text/plain": [
       "Error inserting data for Viqueque: name \u001b[32m'southern_cities'\u001b[0m is not defined\n"
      ]
     },
     "metadata": {},
     "output_type": "display_data"
    },
    {
     "data": {
      "text/html": [
       "<pre style=\"white-space:pre;overflow-x:auto;line-height:normal;font-family:Menlo,'DejaVu Sans Mono',consolas,'Courier New',monospace\">Error inserting data for Matai: name <span style=\"color: #008000; text-decoration-color: #008000\">'southern_cities'</span> is not defined\n",
       "</pre>\n"
      ],
      "text/plain": [
       "Error inserting data for Matai: name \u001b[32m'southern_cities'\u001b[0m is not defined\n"
      ]
     },
     "metadata": {},
     "output_type": "display_data"
    },
    {
     "data": {
      "text/html": [
       "<pre style=\"white-space:pre;overflow-x:auto;line-height:normal;font-family:Menlo,'DejaVu Sans Mono',consolas,'Courier New',monospace\">Error inserting data for Isangel: name <span style=\"color: #008000; text-decoration-color: #008000\">'southern_cities'</span> is not defined\n",
       "</pre>\n"
      ],
      "text/plain": [
       "Error inserting data for Isangel: name \u001b[32m'southern_cities'\u001b[0m is not defined\n"
      ]
     },
     "metadata": {},
     "output_type": "display_data"
    },
    {
     "data": {
      "text/html": [
       "<pre style=\"white-space:pre;overflow-x:auto;line-height:normal;font-family:Menlo,'DejaVu Sans Mono',consolas,'Courier New',monospace\">Error inserting data for Kani Keli: name <span style=\"color: #008000; text-decoration-color: #008000\">'southern_cities'</span> is not defined\n",
       "</pre>\n"
      ],
      "text/plain": [
       "Error inserting data for Kani Keli: name \u001b[32m'southern_cities'\u001b[0m is not defined\n"
      ]
     },
     "metadata": {},
     "output_type": "display_data"
    },
    {
     "data": {
      "text/html": [
       "<pre style=\"white-space:pre;overflow-x:auto;line-height:normal;font-family:Menlo,'DejaVu Sans Mono',consolas,'Courier New',monospace\">Error inserting data for Kruisfontein: name <span style=\"color: #008000; text-decoration-color: #008000\">'southern_cities'</span> is not defined\n",
       "</pre>\n"
      ],
      "text/plain": [
       "Error inserting data for Kruisfontein: name \u001b[32m'southern_cities'\u001b[0m is not defined\n"
      ]
     },
     "metadata": {},
     "output_type": "display_data"
    },
    {
     "data": {
      "text/html": [
       "<pre style=\"white-space:pre;overflow-x:auto;line-height:normal;font-family:Menlo,'DejaVu Sans Mono',consolas,'Courier New',monospace\">Error inserting data for Bredasdorp: name <span style=\"color: #008000; text-decoration-color: #008000\">'southern_cities'</span> is not defined\n",
       "</pre>\n"
      ],
      "text/plain": [
       "Error inserting data for Bredasdorp: name \u001b[32m'southern_cities'\u001b[0m is not defined\n"
      ]
     },
     "metadata": {},
     "output_type": "display_data"
    },
    {
     "data": {
      "text/html": [
       "<pre style=\"white-space:pre;overflow-x:auto;line-height:normal;font-family:Menlo,'DejaVu Sans Mono',consolas,'Courier New',monospace\">Error inserting data for Port Shepstone: name <span style=\"color: #008000; text-decoration-color: #008000\">'southern_cities'</span> is not defined\n",
       "</pre>\n"
      ],
      "text/plain": [
       "Error inserting data for Port Shepstone: name \u001b[32m'southern_cities'\u001b[0m is not defined\n"
      ]
     },
     "metadata": {},
     "output_type": "display_data"
    },
    {
     "data": {
      "text/html": [
       "<pre style=\"white-space:pre;overflow-x:auto;line-height:normal;font-family:Menlo,'DejaVu Sans Mono',consolas,'Courier New',monospace\">Error inserting data for East London: name <span style=\"color: #008000; text-decoration-color: #008000\">'southern_cities'</span> is not defined\n",
       "</pre>\n"
      ],
      "text/plain": [
       "Error inserting data for East London: name \u001b[32m'southern_cities'\u001b[0m is not defined\n"
      ]
     },
     "metadata": {},
     "output_type": "display_data"
    },
    {
     "data": {
      "text/html": [
       "<pre style=\"white-space:pre;overflow-x:auto;line-height:normal;font-family:Menlo,'DejaVu Sans Mono',consolas,'Courier New',monospace\">Error inserting data for Hoopstad: name <span style=\"color: #008000; text-decoration-color: #008000\">'southern_cities'</span> is not defined\n",
       "</pre>\n"
      ],
      "text/plain": [
       "Error inserting data for Hoopstad: name \u001b[32m'southern_cities'\u001b[0m is not defined\n"
      ]
     },
     "metadata": {},
     "output_type": "display_data"
    },
    {
     "data": {
      "text/html": [
       "<pre style=\"white-space:pre;overflow-x:auto;line-height:normal;font-family:Menlo,'DejaVu Sans Mono',consolas,'Courier New',monospace\">Error inserting data for Hermanus: name <span style=\"color: #008000; text-decoration-color: #008000\">'southern_cities'</span> is not defined\n",
       "</pre>\n"
      ],
      "text/plain": [
       "Error inserting data for Hermanus: name \u001b[32m'southern_cities'\u001b[0m is not defined\n"
      ]
     },
     "metadata": {},
     "output_type": "display_data"
    },
    {
     "data": {
      "text/html": [
       "<pre style=\"white-space:pre;overflow-x:auto;line-height:normal;font-family:Menlo,'DejaVu Sans Mono',consolas,'Courier New',monospace\">Error inserting data for Upington: name <span style=\"color: #008000; text-decoration-color: #008000\">'southern_cities'</span> is not defined\n",
       "</pre>\n"
      ],
      "text/plain": [
       "Error inserting data for Upington: name \u001b[32m'southern_cities'\u001b[0m is not defined\n"
      ]
     },
     "metadata": {},
     "output_type": "display_data"
    },
    {
     "data": {
      "text/html": [
       "<pre style=\"white-space:pre;overflow-x:auto;line-height:normal;font-family:Menlo,'DejaVu Sans Mono',consolas,'Courier New',monospace\">Error inserting data for Port Alfred: name <span style=\"color: #008000; text-decoration-color: #008000\">'southern_cities'</span> is not defined\n",
       "</pre>\n"
      ],
      "text/plain": [
       "Error inserting data for Port Alfred: name \u001b[32m'southern_cities'\u001b[0m is not defined\n"
      ]
     },
     "metadata": {},
     "output_type": "display_data"
    },
    {
     "data": {
      "text/html": [
       "<pre style=\"white-space:pre;overflow-x:auto;line-height:normal;font-family:Menlo,'DejaVu Sans Mono',consolas,'Courier New',monospace\">Error inserting data for Graaff-Reinet: name <span style=\"color: #008000; text-decoration-color: #008000\">'southern_cities'</span> is not defined\n",
       "</pre>\n"
      ],
      "text/plain": [
       "Error inserting data for Graaff-Reinet: name \u001b[32m'southern_cities'\u001b[0m is not defined\n"
      ]
     },
     "metadata": {},
     "output_type": "display_data"
    },
    {
     "data": {
      "text/html": [
       "<pre style=\"white-space:pre;overflow-x:auto;line-height:normal;font-family:Menlo,'DejaVu Sans Mono',consolas,'Courier New',monospace\">Error inserting data for Port Elizabeth: name <span style=\"color: #008000; text-decoration-color: #008000\">'southern_cities'</span> is not defined\n",
       "</pre>\n"
      ],
      "text/plain": [
       "Error inserting data for Port Elizabeth: name \u001b[32m'southern_cities'\u001b[0m is not defined\n"
      ]
     },
     "metadata": {},
     "output_type": "display_data"
    },
    {
     "data": {
      "text/html": [
       "<pre style=\"white-space:pre;overflow-x:auto;line-height:normal;font-family:Menlo,'DejaVu Sans Mono',consolas,'Courier New',monospace\">Error inserting data for Queenstown: name <span style=\"color: #008000; text-decoration-color: #008000\">'southern_cities'</span> is not defined\n",
       "</pre>\n"
      ],
      "text/plain": [
       "Error inserting data for Queenstown: name \u001b[32m'southern_cities'\u001b[0m is not defined\n"
      ]
     },
     "metadata": {},
     "output_type": "display_data"
    },
    {
     "data": {
      "text/html": [
       "<pre style=\"white-space:pre;overflow-x:auto;line-height:normal;font-family:Menlo,'DejaVu Sans Mono',consolas,'Courier New',monospace\">Error inserting data for Mossel Bay: name <span style=\"color: #008000; text-decoration-color: #008000\">'southern_cities'</span> is not defined\n",
       "</pre>\n"
      ],
      "text/plain": [
       "Error inserting data for Mossel Bay: name \u001b[32m'southern_cities'\u001b[0m is not defined\n"
      ]
     },
     "metadata": {},
     "output_type": "display_data"
    },
    {
     "data": {
      "text/html": [
       "<pre style=\"white-space:pre;overflow-x:auto;line-height:normal;font-family:Menlo,'DejaVu Sans Mono',consolas,'Courier New',monospace\">Error inserting data for Thabazimbi: name <span style=\"color: #008000; text-decoration-color: #008000\">'southern_cities'</span> is not defined\n",
       "</pre>\n"
      ],
      "text/plain": [
       "Error inserting data for Thabazimbi: name \u001b[32m'southern_cities'\u001b[0m is not defined\n"
      ]
     },
     "metadata": {},
     "output_type": "display_data"
    },
    {
     "data": {
      "text/html": [
       "<pre style=\"white-space:pre;overflow-x:auto;line-height:normal;font-family:Menlo,'DejaVu Sans Mono',consolas,'Courier New',monospace\">Error inserting data for Mumbwa: name <span style=\"color: #008000; text-decoration-color: #008000\">'southern_cities'</span> is not defined\n",
       "</pre>\n"
      ],
      "text/plain": [
       "Error inserting data for Mumbwa: name \u001b[32m'southern_cities'\u001b[0m is not defined\n"
      ]
     },
     "metadata": {},
     "output_type": "display_data"
    },
    {
     "data": {
      "text/html": [
       "<pre style=\"white-space:pre;overflow-x:auto;line-height:normal;font-family:Menlo,'DejaVu Sans Mono',consolas,'Courier New',monospace\">Southern cities data insertion process completed!\n",
       "</pre>\n"
      ],
      "text/plain": [
       "Southern cities data insertion process completed!\n"
      ]
     },
     "metadata": {},
     "output_type": "display_data"
    }
   ],
   "source": [
    "#\n",
    "required_columns = ['Date', 'Country', 'City', 'Cloudiness', 'Humidity', \n",
    "                    'Maximum_Temperature', 'Maximum_Temperature_F', 'Wind_Speed_kmh', 'Lat', 'Lng']\n",
    "\n",
    "# Check the columns present in the DataFrame\n",
    "print(city_data_df.columns)\n",
    "\n",
    "if not all(col in city_data_df.columns for col in required_columns):\n",
    "    print(f\"Missing columns from DataFrame. Available columns: {city_data_df.columns}\")\n",
    "else:\n",
    "    # Proceed with the rest of the code\n",
    "    southern_cities_df = city_data_df[city_data_df['Lat'] < 0]\n",
    "    southern_cities_df.loc[:, 'Date'] = pd.to_datetime(southern_cities_df['Date'], errors='coerce')\n",
    "\n",
    "    for _, city in southern_cities_df.iterrows():\n",
    "        city_data = {\n",
    "            \"date\": city['Date'].strftime('%Y-%m-%d') if pd.notnull(city['Date']) else None,\n",
    "            \"country\": city['Country'],\n",
    "            \"city\": city['City'],\n",
    "            \"cloudiness\": city['Cloudiness'],\n",
    "            \"humidity\": city['Humidity'],\n",
    "            \"max_temperature\": city['Maximum_Temperature'],\n",
    "            \"max_temperature_f\": city['Maximum_Temperature_F'],\n",
    "            \"wind_speed\": city['Wind_Speed_kmh'],\n",
    "            \"lat\": city['Lat'],\n",
    "            \"lon\": city['Lng']\n",
    "        }\n",
    "        try:\n",
    "            southern_cities.insert_one(city_data)\n",
    "        except Exception as e:\n",
    "            print(f\"Error inserting data for {city['City']}: {e}\")\n",
    "    print(\"Southern cities data insertion process completed!\")\n"
   ]
  },
  {
   "cell_type": "code",
   "execution_count": 36,
   "id": "bb5f0273-517a-48da-ac7d-b1f65d0b8747",
   "metadata": {},
   "outputs": [
    {
     "data": {
      "text/html": [
       "<pre style=\"white-space:pre;overflow-x:auto;line-height:normal;font-family:Menlo,'DejaVu Sans Mono',consolas,'Courier New',monospace\">southern_cities.csv has been successfully updated!\n",
       "</pre>\n"
      ],
      "text/plain": [
       "southern_cities.csv has been successfully updated!\n"
      ]
     },
     "metadata": {},
     "output_type": "display_data"
    }
   ],
   "source": [
    "# Export the northern_cities into a csv\n",
    "southern_cities_df.to_csv(\"Data_output/southern_cities.csv\", index_label=\"City_ID\")\n",
    "# Print a message confirming the file has been updated\n",
    "print(\"southern_cities.csv has been successfully updated!\")"
   ]
  },
  {
   "cell_type": "code",
   "execution_count": 37,
   "id": "fa900ab9-7fd3-491b-a560-d52f75cff5e3",
   "metadata": {},
   "outputs": [],
   "source": [
    "#Mongodb"
   ]
  },
  {
   "cell_type": "code",
   "execution_count": 38,
   "id": "d7f5ca4e-d3e2-424e-88c6-0215580e2071",
   "metadata": {},
   "outputs": [
    {
     "data": {
      "text/html": [
       "<pre style=\"white-space:pre;overflow-x:auto;line-height:normal;font-family:Menlo,'DejaVu Sans Mono',consolas,'Courier New',monospace\">Sample document keys: <span style=\"color: #800080; text-decoration-color: #800080; font-weight: bold\">dict_keys</span><span style=\"font-weight: bold\">([</span><span style=\"color: #008000; text-decoration-color: #008000\">'_id'</span>, <span style=\"color: #008000; text-decoration-color: #008000\">'City_ID'</span>, <span style=\"color: #008000; text-decoration-color: #008000\">'Date'</span>, <span style=\"color: #008000; text-decoration-color: #008000\">'Country'</span>, <span style=\"color: #008000; text-decoration-color: #008000\">'City'</span>, <span style=\"color: #008000; text-decoration-color: #008000\">'Cloudiness'</span>, <span style=\"color: #008000; text-decoration-color: #008000\">'Humidity'</span>, \n",
       "<span style=\"color: #008000; text-decoration-color: #008000\">'Maximum_Temperature'</span>, <span style=\"color: #008000; text-decoration-color: #008000\">'Maximum_Temperature_F'</span>, <span style=\"color: #008000; text-decoration-color: #008000\">'Wind Speed'</span>, <span style=\"color: #008000; text-decoration-color: #008000\">'Lat'</span>, <span style=\"color: #008000; text-decoration-color: #008000\">'Lng'</span><span style=\"font-weight: bold\">])</span>\n",
       "</pre>\n"
      ],
      "text/plain": [
       "Sample document keys: \u001b[1;35mdict_keys\u001b[0m\u001b[1m(\u001b[0m\u001b[1m[\u001b[0m\u001b[32m'_id'\u001b[0m, \u001b[32m'City_ID'\u001b[0m, \u001b[32m'Date'\u001b[0m, \u001b[32m'Country'\u001b[0m, \u001b[32m'City'\u001b[0m, \u001b[32m'Cloudiness'\u001b[0m, \u001b[32m'Humidity'\u001b[0m, \n",
       "\u001b[32m'Maximum_Temperature'\u001b[0m, \u001b[32m'Maximum_Temperature_F'\u001b[0m, \u001b[32m'Wind Speed'\u001b[0m, \u001b[32m'Lat'\u001b[0m, \u001b[32m'Lng'\u001b[0m\u001b[1m]\u001b[0m\u001b[1m)\u001b[0m\n"
      ]
     },
     "metadata": {},
     "output_type": "display_data"
    }
   ],
   "source": [
    "#verify data in Mongodb\n",
    "from pymongo import MongoClient\n",
    "\n",
    "# Connect to MongoDB\n",
    "client = MongoClient(\"mongodb://localhost:27017\")\n",
    "db = client['weather_data']\n",
    "\n",
    "# Define individual collections\n",
    "cities_collection = db['cities']\n",
    "northern_cities_collection = db['northern_cities']\n",
    "southern_cities_collection = db['southern_cities']\n",
    "\n",
    "# Example: Get a sample document from the 'cities' collection\n",
    "sample_doc = cities_collection.find_one()\n",
    "\n",
    "# Check if a document was found and print its fields\n",
    "if sample_doc:\n",
    "    print(\"Sample document keys:\", sample_doc.keys())\n",
    "else:\n",
    "    print(\"No documents found in the 'cities' collection.\")\n"
   ]
  },
  {
   "cell_type": "code",
   "execution_count": 39,
   "id": "3d19963b-cce8-4011-8f5a-158ffd86ed9e",
   "metadata": {},
   "outputs": [],
   "source": [
    "##"
   ]
  },
  {
   "cell_type": "code",
   "execution_count": null,
   "id": "367ba2f8-ff0b-45ef-b9dd-15fc5d9cb4b6",
   "metadata": {},
   "outputs": [],
   "source": []
  },
  {
   "cell_type": "code",
   "execution_count": null,
   "id": "5d6e5805-6ec0-4f24-8e3c-f55a6eb75d85",
   "metadata": {},
   "outputs": [],
   "source": []
  }
 ],
 "metadata": {
  "kernelspec": {
   "display_name": "Python 3 (ipykernel)",
   "language": "python",
   "name": "python3"
  },
  "language_info": {
   "codemirror_mode": {
    "name": "ipython",
    "version": 3
   },
   "file_extension": ".py",
   "mimetype": "text/x-python",
   "name": "python",
   "nbconvert_exporter": "python",
   "pygments_lexer": "ipython3",
   "version": "3.12.3"
  }
 },
 "nbformat": 4,
 "nbformat_minor": 5
}
