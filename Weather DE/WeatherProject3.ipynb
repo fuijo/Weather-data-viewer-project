{
 "cells": [
  {
   "cell_type": "code",
   "execution_count": 1,
   "id": "c2940580-de71-4935-a2c5-859a059276e3",
   "metadata": {},
   "outputs": [],
   "source": [
    "#Weather data Viewer"
   ]
  },
  {
   "cell_type": "code",
   "execution_count": 2,
   "id": "7d1489d5-d3bb-400b-984d-54b9eec12cef",
   "metadata": {},
   "outputs": [],
   "source": [
    "# Dependencies and Setup\n",
    "import matplotlib.pyplot as plt\n",
    "import pandas as pd\n",
    "import numpy as np\n",
    "import requests\n",
    "import time\n",
    "import folium\n",
    "from rich import print\n",
    "from rich.console import Console\n",
    "from rich.table import Table\n",
    "from rich.text import Text\n",
    "from scipy.stats import linregress\n",
    "\n",
    "# Impor the OpenWeatherMap API key\n",
    "from api_keys import weather_api_key\n",
    "\n",
    "# Import citipy to determine the cities based on latitude and longitude\n",
    "from citipy import citipy\n",
    "\n",
    "#Export cities.csv to db\n",
    "from pymongo import MongoClient\n"
   ]
  },
  {
   "cell_type": "code",
   "execution_count": 3,
   "id": "bc32a6fd-9514-47bd-8365-e3360ccc1283",
   "metadata": {},
   "outputs": [],
   "source": [
    "#extract the data"
   ]
  },
  {
   "cell_type": "code",
   "execution_count": 4,
   "id": "0d8ce52b-427c-4b83-b5dc-a91135e45c44",
   "metadata": {},
   "outputs": [
    {
     "data": {
      "text/html": [
       "<pre style=\"white-space:pre;overflow-x:auto;line-height:normal;font-family:Menlo,'DejaVu Sans Mono',consolas,'Courier New',monospace\">Number of cities in the list: <span style=\"color: #008080; text-decoration-color: #008080; font-weight: bold\">603</span>\n",
       "</pre>\n"
      ],
      "text/plain": [
       "Number of cities in the list: \u001b[1;36m603\u001b[0m\n"
      ]
     },
     "metadata": {},
     "output_type": "display_data"
    }
   ],
   "source": [
    "#Generates a list of unique city names\n",
    "# Empty list for holding the latitude and longitude combinations\n",
    "lat_lngs = []\n",
    "\n",
    "# Empty list for holding the cities names\n",
    "cities = []\n",
    "\n",
    "# Range of latitudes and longitudes\n",
    "lat_range = (-90, 90)\n",
    "lng_range = (-180, 180)\n",
    "\n",
    "# Create a set of random lat and lng combinations\n",
    "lats = np.random.uniform(lat_range[0], lat_range[1], size=1500)\n",
    "lngs = np.random.uniform(lng_range[0], lng_range[1], size=1500)\n",
    "lat_lngs = zip(lats, lngs)\n",
    "\n",
    "# Identify nearest city for each lat, lng combination\n",
    "for lat_lng in lat_lngs:\n",
    "    city = citipy.nearest_city(lat_lng[0], lat_lng[1]).city_name\n",
    "\n",
    "    # If the city is unique, then add it to a our cities list\n",
    "    if city not in cities:\n",
    "        cities.append(city)\n",
    "\n",
    "# Print the city count to confirm sufficient count\n",
    "print(f\"Number of cities in the list: {len(cities)}\")"
   ]
  },
  {
   "cell_type": "code",
   "execution_count": 5,
   "id": "1f6974b1-c8be-4f3c-800a-da403ca0ab4c",
   "metadata": {},
   "outputs": [
    {
     "data": {
      "text/plain": [
       "'5038cf4afa60a38fb2b6b761f6038892'"
      ]
     },
     "execution_count": 5,
     "metadata": {},
     "output_type": "execute_result"
    }
   ],
   "source": [
    "#Identify the API_key\n",
    "weather_api_key\n"
   ]
  },
  {
   "cell_type": "code",
   "execution_count": 6,
   "id": "e3f7a797-114a-4c2c-b159-fbf86f139f35",
   "metadata": {},
   "outputs": [],
   "source": [
    "#API call\n",
    "url = f'https://api.openweathermap.org/data/2.5/weather?q={city}&appid={weather_api_key}'\n"
   ]
  },
  {
   "cell_type": "code",
   "execution_count": 7,
   "id": "7fe54401-add0-48d5-81cd-9868ac42852d",
   "metadata": {},
   "outputs": [
    {
     "data": {
      "text/html": [
       "<pre style=\"white-space:pre;overflow-x:auto;line-height:normal;font-family:Menlo,'DejaVu Sans Mono',consolas,'Courier New',monospace\"><span style=\"font-weight: bold\">&lt;</span><span style=\"color: #ff00ff; text-decoration-color: #ff00ff; font-weight: bold\">Response</span><span style=\"color: #000000; text-decoration-color: #000000\"> </span><span style=\"color: #000000; text-decoration-color: #000000; font-weight: bold\">[</span><span style=\"color: #008080; text-decoration-color: #008080; font-weight: bold\">200</span><span style=\"color: #000000; text-decoration-color: #000000; font-weight: bold\">]</span><span style=\"font-weight: bold\">&gt;</span>\n",
       "</pre>\n"
      ],
      "text/plain": [
       "\u001b[1m<\u001b[0m\u001b[1;95mResponse\u001b[0m\u001b[39m \u001b[0m\u001b[1;39m[\u001b[0m\u001b[1;36m200\u001b[0m\u001b[1;39m]\u001b[0m\u001b[1m>\u001b[0m\n"
      ]
     },
     "metadata": {},
     "output_type": "display_data"
    }
   ],
   "source": [
    "# check status\n",
    "print(requests.get(url))\n"
   ]
  },
  {
   "cell_type": "code",
   "execution_count": 8,
   "id": "f2902dc3-0b12-4b59-acb6-4d711b11f49d",
   "metadata": {},
   "outputs": [
    {
     "data": {
      "text/html": [
       "<pre style=\"white-space:pre;overflow-x:auto;line-height:normal;font-family:Menlo,'DejaVu Sans Mono',consolas,'Courier New',monospace\"><span style=\"color: #00ff00; text-decoration-color: #00ff00; font-style: italic\">True</span>\n",
       "</pre>\n"
      ],
      "text/plain": [
       "\u001b[3;92mTrue\u001b[0m\n"
      ]
     },
     "metadata": {},
     "output_type": "display_data"
    }
   ],
   "source": [
    "# check response\n",
    "print(requests.get(url).ok)\n"
   ]
  },
  {
   "cell_type": "code",
   "execution_count": 9,
   "id": "8bb7a837-b3fe-459e-a475-e761c384c170",
   "metadata": {},
   "outputs": [],
   "source": [
    "#ETL"
   ]
  },
  {
   "cell_type": "code",
   "execution_count": null,
   "id": "8ad83270-ec93-4d1e-bdb5-86d148b879a9",
   "metadata": {},
   "outputs": [
    {
     "data": {
      "text/html": [
       "<pre style=\"white-space:pre;overflow-x:auto;line-height:normal;font-family:Menlo,'DejaVu Sans Mono',consolas,'Courier New',monospace\">Beginning Data Retrieval     \n",
       "</pre>\n"
      ],
      "text/plain": [
       "Beginning Data Retrieval     \n"
      ]
     },
     "metadata": {},
     "output_type": "display_data"
    },
    {
     "data": {
      "text/html": [
       "<pre style=\"white-space:pre;overflow-x:auto;line-height:normal;font-family:Menlo,'DejaVu Sans Mono',consolas,'Courier New',monospace\">-----------------------------\n",
       "</pre>\n"
      ],
      "text/plain": [
       "-----------------------------\n"
      ]
     },
     "metadata": {},
     "output_type": "display_data"
    },
    {
     "data": {
      "text/html": [
       "<pre style=\"white-space:pre;overflow-x:auto;line-height:normal;font-family:Menlo,'DejaVu Sans Mono',consolas,'Courier New',monospace\">Processing Record <span style=\"color: #008080; text-decoration-color: #008080; font-weight: bold\">1</span> of Set <span style=\"color: #008080; text-decoration-color: #008080; font-weight: bold\">1</span> | new norfolk\n",
       "</pre>\n"
      ],
      "text/plain": [
       "Processing Record \u001b[1;36m1\u001b[0m of Set \u001b[1;36m1\u001b[0m | new norfolk\n"
      ]
     },
     "metadata": {},
     "output_type": "display_data"
    },
    {
     "data": {
      "text/html": [
       "<pre style=\"white-space:pre;overflow-x:auto;line-height:normal;font-family:Menlo,'DejaVu Sans Mono',consolas,'Courier New',monospace\">Processing Record <span style=\"color: #008080; text-decoration-color: #008080; font-weight: bold\">2</span> of Set <span style=\"color: #008080; text-decoration-color: #008080; font-weight: bold\">1</span> | taiohae\n",
       "</pre>\n"
      ],
      "text/plain": [
       "Processing Record \u001b[1;36m2\u001b[0m of Set \u001b[1;36m1\u001b[0m | taiohae\n"
      ]
     },
     "metadata": {},
     "output_type": "display_data"
    },
    {
     "data": {
      "text/html": [
       "<pre style=\"white-space:pre;overflow-x:auto;line-height:normal;font-family:Menlo,'DejaVu Sans Mono',consolas,'Courier New',monospace\">City not found. Skipping<span style=\"color: #808000; text-decoration-color: #808000\">...</span>\n",
       "</pre>\n"
      ],
      "text/plain": [
       "City not found. Skipping\u001b[33m...\u001b[0m\n"
      ]
     },
     "metadata": {},
     "output_type": "display_data"
    },
    {
     "data": {
      "text/html": [
       "<pre style=\"white-space:pre;overflow-x:auto;line-height:normal;font-family:Menlo,'DejaVu Sans Mono',consolas,'Courier New',monospace\">Processing Record <span style=\"color: #008080; text-decoration-color: #008080; font-weight: bold\">3</span> of Set <span style=\"color: #008080; text-decoration-color: #008080; font-weight: bold\">1</span> | nemuro\n",
       "</pre>\n"
      ],
      "text/plain": [
       "Processing Record \u001b[1;36m3\u001b[0m of Set \u001b[1;36m1\u001b[0m | nemuro\n"
      ]
     },
     "metadata": {},
     "output_type": "display_data"
    },
    {
     "data": {
      "text/html": [
       "<pre style=\"white-space:pre;overflow-x:auto;line-height:normal;font-family:Menlo,'DejaVu Sans Mono',consolas,'Courier New',monospace\">Processing Record <span style=\"color: #008080; text-decoration-color: #008080; font-weight: bold\">4</span> of Set <span style=\"color: #008080; text-decoration-color: #008080; font-weight: bold\">1</span> | cabo san lucas\n",
       "</pre>\n"
      ],
      "text/plain": [
       "Processing Record \u001b[1;36m4\u001b[0m of Set \u001b[1;36m1\u001b[0m | cabo san lucas\n"
      ]
     },
     "metadata": {},
     "output_type": "display_data"
    },
    {
     "data": {
      "text/html": [
       "<pre style=\"white-space:pre;overflow-x:auto;line-height:normal;font-family:Menlo,'DejaVu Sans Mono',consolas,'Courier New',monospace\">Processing Record <span style=\"color: #008080; text-decoration-color: #008080; font-weight: bold\">5</span> of Set <span style=\"color: #008080; text-decoration-color: #008080; font-weight: bold\">1</span> | hermanus\n",
       "</pre>\n"
      ],
      "text/plain": [
       "Processing Record \u001b[1;36m5\u001b[0m of Set \u001b[1;36m1\u001b[0m | hermanus\n"
      ]
     },
     "metadata": {},
     "output_type": "display_data"
    },
    {
     "data": {
      "text/html": [
       "<pre style=\"white-space:pre;overflow-x:auto;line-height:normal;font-family:Menlo,'DejaVu Sans Mono',consolas,'Courier New',monospace\">Processing Record <span style=\"color: #008080; text-decoration-color: #008080; font-weight: bold\">6</span> of Set <span style=\"color: #008080; text-decoration-color: #008080; font-weight: bold\">1</span> | olonkinbyen\n",
       "</pre>\n"
      ],
      "text/plain": [
       "Processing Record \u001b[1;36m6\u001b[0m of Set \u001b[1;36m1\u001b[0m | olonkinbyen\n"
      ]
     },
     "metadata": {},
     "output_type": "display_data"
    },
    {
     "data": {
      "text/html": [
       "<pre style=\"white-space:pre;overflow-x:auto;line-height:normal;font-family:Menlo,'DejaVu Sans Mono',consolas,'Courier New',monospace\">Processing Record <span style=\"color: #008080; text-decoration-color: #008080; font-weight: bold\">7</span> of Set <span style=\"color: #008080; text-decoration-color: #008080; font-weight: bold\">1</span> | carnot\n",
       "</pre>\n"
      ],
      "text/plain": [
       "Processing Record \u001b[1;36m7\u001b[0m of Set \u001b[1;36m1\u001b[0m | carnot\n"
      ]
     },
     "metadata": {},
     "output_type": "display_data"
    },
    {
     "data": {
      "text/html": [
       "<pre style=\"white-space:pre;overflow-x:auto;line-height:normal;font-family:Menlo,'DejaVu Sans Mono',consolas,'Courier New',monospace\">Processing Record <span style=\"color: #008080; text-decoration-color: #008080; font-weight: bold\">8</span> of Set <span style=\"color: #008080; text-decoration-color: #008080; font-weight: bold\">1</span> | ushuaia\n",
       "</pre>\n"
      ],
      "text/plain": [
       "Processing Record \u001b[1;36m8\u001b[0m of Set \u001b[1;36m1\u001b[0m | ushuaia\n"
      ]
     },
     "metadata": {},
     "output_type": "display_data"
    },
    {
     "data": {
      "text/html": [
       "<pre style=\"white-space:pre;overflow-x:auto;line-height:normal;font-family:Menlo,'DejaVu Sans Mono',consolas,'Courier New',monospace\">Processing Record <span style=\"color: #008080; text-decoration-color: #008080; font-weight: bold\">9</span> of Set <span style=\"color: #008080; text-decoration-color: #008080; font-weight: bold\">1</span> | albany\n",
       "</pre>\n"
      ],
      "text/plain": [
       "Processing Record \u001b[1;36m9\u001b[0m of Set \u001b[1;36m1\u001b[0m | albany\n"
      ]
     },
     "metadata": {},
     "output_type": "display_data"
    },
    {
     "data": {
      "text/html": [
       "<pre style=\"white-space:pre;overflow-x:auto;line-height:normal;font-family:Menlo,'DejaVu Sans Mono',consolas,'Courier New',monospace\">Processing Record <span style=\"color: #008080; text-decoration-color: #008080; font-weight: bold\">10</span> of Set <span style=\"color: #008080; text-decoration-color: #008080; font-weight: bold\">1</span> | yima\n",
       "</pre>\n"
      ],
      "text/plain": [
       "Processing Record \u001b[1;36m10\u001b[0m of Set \u001b[1;36m1\u001b[0m | yima\n"
      ]
     },
     "metadata": {},
     "output_type": "display_data"
    },
    {
     "data": {
      "text/html": [
       "<pre style=\"white-space:pre;overflow-x:auto;line-height:normal;font-family:Menlo,'DejaVu Sans Mono',consolas,'Courier New',monospace\">Processing Record <span style=\"color: #008080; text-decoration-color: #008080; font-weight: bold\">11</span> of Set <span style=\"color: #008080; text-decoration-color: #008080; font-weight: bold\">1</span> | demre\n",
       "</pre>\n"
      ],
      "text/plain": [
       "Processing Record \u001b[1;36m11\u001b[0m of Set \u001b[1;36m1\u001b[0m | demre\n"
      ]
     },
     "metadata": {},
     "output_type": "display_data"
    },
    {
     "data": {
      "text/html": [
       "<pre style=\"white-space:pre;overflow-x:auto;line-height:normal;font-family:Menlo,'DejaVu Sans Mono',consolas,'Courier New',monospace\">Processing Record <span style=\"color: #008080; text-decoration-color: #008080; font-weight: bold\">12</span> of Set <span style=\"color: #008080; text-decoration-color: #008080; font-weight: bold\">1</span> | port-aux-francais\n",
       "</pre>\n"
      ],
      "text/plain": [
       "Processing Record \u001b[1;36m12\u001b[0m of Set \u001b[1;36m1\u001b[0m | port-aux-francais\n"
      ]
     },
     "metadata": {},
     "output_type": "display_data"
    },
    {
     "data": {
      "text/html": [
       "<pre style=\"white-space:pre;overflow-x:auto;line-height:normal;font-family:Menlo,'DejaVu Sans Mono',consolas,'Courier New',monospace\">Processing Record <span style=\"color: #008080; text-decoration-color: #008080; font-weight: bold\">13</span> of Set <span style=\"color: #008080; text-decoration-color: #008080; font-weight: bold\">1</span> | yellowknife\n",
       "</pre>\n"
      ],
      "text/plain": [
       "Processing Record \u001b[1;36m13\u001b[0m of Set \u001b[1;36m1\u001b[0m | yellowknife\n"
      ]
     },
     "metadata": {},
     "output_type": "display_data"
    },
    {
     "data": {
      "text/html": [
       "<pre style=\"white-space:pre;overflow-x:auto;line-height:normal;font-family:Menlo,'DejaVu Sans Mono',consolas,'Courier New',monospace\">Processing Record <span style=\"color: #008080; text-decoration-color: #008080; font-weight: bold\">14</span> of Set <span style=\"color: #008080; text-decoration-color: #008080; font-weight: bold\">1</span> | georgetown\n",
       "</pre>\n"
      ],
      "text/plain": [
       "Processing Record \u001b[1;36m14\u001b[0m of Set \u001b[1;36m1\u001b[0m | georgetown\n"
      ]
     },
     "metadata": {},
     "output_type": "display_data"
    },
    {
     "data": {
      "text/html": [
       "<pre style=\"white-space:pre;overflow-x:auto;line-height:normal;font-family:Menlo,'DejaVu Sans Mono',consolas,'Courier New',monospace\">Processing Record <span style=\"color: #008080; text-decoration-color: #008080; font-weight: bold\">15</span> of Set <span style=\"color: #008080; text-decoration-color: #008080; font-weight: bold\">1</span> | bethel\n",
       "</pre>\n"
      ],
      "text/plain": [
       "Processing Record \u001b[1;36m15\u001b[0m of Set \u001b[1;36m1\u001b[0m | bethel\n"
      ]
     },
     "metadata": {},
     "output_type": "display_data"
    },
    {
     "data": {
      "text/html": [
       "<pre style=\"white-space:pre;overflow-x:auto;line-height:normal;font-family:Menlo,'DejaVu Sans Mono',consolas,'Courier New',monospace\">Processing Record <span style=\"color: #008080; text-decoration-color: #008080; font-weight: bold\">16</span> of Set <span style=\"color: #008080; text-decoration-color: #008080; font-weight: bold\">1</span> | koneurgench\n",
       "</pre>\n"
      ],
      "text/plain": [
       "Processing Record \u001b[1;36m16\u001b[0m of Set \u001b[1;36m1\u001b[0m | koneurgench\n"
      ]
     },
     "metadata": {},
     "output_type": "display_data"
    },
    {
     "data": {
      "text/html": [
       "<pre style=\"white-space:pre;overflow-x:auto;line-height:normal;font-family:Menlo,'DejaVu Sans Mono',consolas,'Courier New',monospace\">City not found. Skipping<span style=\"color: #808000; text-decoration-color: #808000\">...</span>\n",
       "</pre>\n"
      ],
      "text/plain": [
       "City not found. Skipping\u001b[33m...\u001b[0m\n"
      ]
     },
     "metadata": {},
     "output_type": "display_data"
    },
    {
     "data": {
      "text/html": [
       "<pre style=\"white-space:pre;overflow-x:auto;line-height:normal;font-family:Menlo,'DejaVu Sans Mono',consolas,'Courier New',monospace\">Processing Record <span style=\"color: #008080; text-decoration-color: #008080; font-weight: bold\">17</span> of Set <span style=\"color: #008080; text-decoration-color: #008080; font-weight: bold\">1</span> | waitangi\n",
       "</pre>\n"
      ],
      "text/plain": [
       "Processing Record \u001b[1;36m17\u001b[0m of Set \u001b[1;36m1\u001b[0m | waitangi\n"
      ]
     },
     "metadata": {},
     "output_type": "display_data"
    },
    {
     "data": {
      "text/html": [
       "<pre style=\"white-space:pre;overflow-x:auto;line-height:normal;font-family:Menlo,'DejaVu Sans Mono',consolas,'Courier New',monospace\">Processing Record <span style=\"color: #008080; text-decoration-color: #008080; font-weight: bold\">18</span> of Set <span style=\"color: #008080; text-decoration-color: #008080; font-weight: bold\">1</span> | jamestown\n",
       "</pre>\n"
      ],
      "text/plain": [
       "Processing Record \u001b[1;36m18\u001b[0m of Set \u001b[1;36m1\u001b[0m | jamestown\n"
      ]
     },
     "metadata": {},
     "output_type": "display_data"
    },
    {
     "data": {
      "text/html": [
       "<pre style=\"white-space:pre;overflow-x:auto;line-height:normal;font-family:Menlo,'DejaVu Sans Mono',consolas,'Courier New',monospace\">Processing Record <span style=\"color: #008080; text-decoration-color: #008080; font-weight: bold\">19</span> of Set <span style=\"color: #008080; text-decoration-color: #008080; font-weight: bold\">1</span> | sungai penuh\n",
       "</pre>\n"
      ],
      "text/plain": [
       "Processing Record \u001b[1;36m19\u001b[0m of Set \u001b[1;36m1\u001b[0m | sungai penuh\n"
      ]
     },
     "metadata": {},
     "output_type": "display_data"
    },
    {
     "data": {
      "text/html": [
       "<pre style=\"white-space:pre;overflow-x:auto;line-height:normal;font-family:Menlo,'DejaVu Sans Mono',consolas,'Courier New',monospace\">Processing Record <span style=\"color: #008080; text-decoration-color: #008080; font-weight: bold\">20</span> of Set <span style=\"color: #008080; text-decoration-color: #008080; font-weight: bold\">1</span> | avarua\n",
       "</pre>\n"
      ],
      "text/plain": [
       "Processing Record \u001b[1;36m20\u001b[0m of Set \u001b[1;36m1\u001b[0m | avarua\n"
      ]
     },
     "metadata": {},
     "output_type": "display_data"
    },
    {
     "data": {
      "text/html": [
       "<pre style=\"white-space:pre;overflow-x:auto;line-height:normal;font-family:Menlo,'DejaVu Sans Mono',consolas,'Courier New',monospace\">Processing Record <span style=\"color: #008080; text-decoration-color: #008080; font-weight: bold\">21</span> of Set <span style=\"color: #008080; text-decoration-color: #008080; font-weight: bold\">1</span> | iskateley\n",
       "</pre>\n"
      ],
      "text/plain": [
       "Processing Record \u001b[1;36m21\u001b[0m of Set \u001b[1;36m1\u001b[0m | iskateley\n"
      ]
     },
     "metadata": {},
     "output_type": "display_data"
    },
    {
     "data": {
      "text/html": [
       "<pre style=\"white-space:pre;overflow-x:auto;line-height:normal;font-family:Menlo,'DejaVu Sans Mono',consolas,'Courier New',monospace\">Processing Record <span style=\"color: #008080; text-decoration-color: #008080; font-weight: bold\">22</span> of Set <span style=\"color: #008080; text-decoration-color: #008080; font-weight: bold\">1</span> | al kharijah\n",
       "</pre>\n"
      ],
      "text/plain": [
       "Processing Record \u001b[1;36m22\u001b[0m of Set \u001b[1;36m1\u001b[0m | al kharijah\n"
      ]
     },
     "metadata": {},
     "output_type": "display_data"
    },
    {
     "data": {
      "text/html": [
       "<pre style=\"white-space:pre;overflow-x:auto;line-height:normal;font-family:Menlo,'DejaVu Sans Mono',consolas,'Courier New',monospace\">Processing Record <span style=\"color: #008080; text-decoration-color: #008080; font-weight: bold\">23</span> of Set <span style=\"color: #008080; text-decoration-color: #008080; font-weight: bold\">1</span> | naliya\n",
       "</pre>\n"
      ],
      "text/plain": [
       "Processing Record \u001b[1;36m23\u001b[0m of Set \u001b[1;36m1\u001b[0m | naliya\n"
      ]
     },
     "metadata": {},
     "output_type": "display_data"
    },
    {
     "data": {
      "text/html": [
       "<pre style=\"white-space:pre;overflow-x:auto;line-height:normal;font-family:Menlo,'DejaVu Sans Mono',consolas,'Courier New',monospace\">Processing Record <span style=\"color: #008080; text-decoration-color: #008080; font-weight: bold\">24</span> of Set <span style=\"color: #008080; text-decoration-color: #008080; font-weight: bold\">1</span> | ilulissat\n",
       "</pre>\n"
      ],
      "text/plain": [
       "Processing Record \u001b[1;36m24\u001b[0m of Set \u001b[1;36m1\u001b[0m | ilulissat\n"
      ]
     },
     "metadata": {},
     "output_type": "display_data"
    },
    {
     "data": {
      "text/html": [
       "<pre style=\"white-space:pre;overflow-x:auto;line-height:normal;font-family:Menlo,'DejaVu Sans Mono',consolas,'Courier New',monospace\">Processing Record <span style=\"color: #008080; text-decoration-color: #008080; font-weight: bold\">25</span> of Set <span style=\"color: #008080; text-decoration-color: #008080; font-weight: bold\">1</span> | lihue\n",
       "</pre>\n"
      ],
      "text/plain": [
       "Processing Record \u001b[1;36m25\u001b[0m of Set \u001b[1;36m1\u001b[0m | lihue\n"
      ]
     },
     "metadata": {},
     "output_type": "display_data"
    },
    {
     "data": {
      "text/html": [
       "<pre style=\"white-space:pre;overflow-x:auto;line-height:normal;font-family:Menlo,'DejaVu Sans Mono',consolas,'Courier New',monospace\">Processing Record <span style=\"color: #008080; text-decoration-color: #008080; font-weight: bold\">26</span> of Set <span style=\"color: #008080; text-decoration-color: #008080; font-weight: bold\">1</span> | puerto natales\n",
       "</pre>\n"
      ],
      "text/plain": [
       "Processing Record \u001b[1;36m26\u001b[0m of Set \u001b[1;36m1\u001b[0m | puerto natales\n"
      ]
     },
     "metadata": {},
     "output_type": "display_data"
    },
    {
     "data": {
      "text/html": [
       "<pre style=\"white-space:pre;overflow-x:auto;line-height:normal;font-family:Menlo,'DejaVu Sans Mono',consolas,'Courier New',monospace\">Processing Record <span style=\"color: #008080; text-decoration-color: #008080; font-weight: bold\">27</span> of Set <span style=\"color: #008080; text-decoration-color: #008080; font-weight: bold\">1</span> | wailua homesteads\n",
       "</pre>\n"
      ],
      "text/plain": [
       "Processing Record \u001b[1;36m27\u001b[0m of Set \u001b[1;36m1\u001b[0m | wailua homesteads\n"
      ]
     },
     "metadata": {},
     "output_type": "display_data"
    },
    {
     "data": {
      "text/html": [
       "<pre style=\"white-space:pre;overflow-x:auto;line-height:normal;font-family:Menlo,'DejaVu Sans Mono',consolas,'Courier New',monospace\">Processing Record <span style=\"color: #008080; text-decoration-color: #008080; font-weight: bold\">28</span> of Set <span style=\"color: #008080; text-decoration-color: #008080; font-weight: bold\">1</span> | vorgashor\n",
       "</pre>\n"
      ],
      "text/plain": [
       "Processing Record \u001b[1;36m28\u001b[0m of Set \u001b[1;36m1\u001b[0m | vorgashor\n"
      ]
     },
     "metadata": {},
     "output_type": "display_data"
    },
    {
     "data": {
      "text/html": [
       "<pre style=\"white-space:pre;overflow-x:auto;line-height:normal;font-family:Menlo,'DejaVu Sans Mono',consolas,'Courier New',monospace\">Processing Record <span style=\"color: #008080; text-decoration-color: #008080; font-weight: bold\">29</span> of Set <span style=\"color: #008080; text-decoration-color: #008080; font-weight: bold\">1</span> | zaozersk\n",
       "</pre>\n"
      ],
      "text/plain": [
       "Processing Record \u001b[1;36m29\u001b[0m of Set \u001b[1;36m1\u001b[0m | zaozersk\n"
      ]
     },
     "metadata": {},
     "output_type": "display_data"
    },
    {
     "data": {
      "text/html": [
       "<pre style=\"white-space:pre;overflow-x:auto;line-height:normal;font-family:Menlo,'DejaVu Sans Mono',consolas,'Courier New',monospace\">Processing Record <span style=\"color: #008080; text-decoration-color: #008080; font-weight: bold\">30</span> of Set <span style=\"color: #008080; text-decoration-color: #008080; font-weight: bold\">1</span> | luderitz\n",
       "</pre>\n"
      ],
      "text/plain": [
       "Processing Record \u001b[1;36m30\u001b[0m of Set \u001b[1;36m1\u001b[0m | luderitz\n"
      ]
     },
     "metadata": {},
     "output_type": "display_data"
    },
    {
     "data": {
      "text/html": [
       "<pre style=\"white-space:pre;overflow-x:auto;line-height:normal;font-family:Menlo,'DejaVu Sans Mono',consolas,'Courier New',monospace\">Processing Record <span style=\"color: #008080; text-decoration-color: #008080; font-weight: bold\">31</span> of Set <span style=\"color: #008080; text-decoration-color: #008080; font-weight: bold\">1</span> | puerto ayora\n",
       "</pre>\n"
      ],
      "text/plain": [
       "Processing Record \u001b[1;36m31\u001b[0m of Set \u001b[1;36m1\u001b[0m | puerto ayora\n"
      ]
     },
     "metadata": {},
     "output_type": "display_data"
    },
    {
     "data": {
      "text/html": [
       "<pre style=\"white-space:pre;overflow-x:auto;line-height:normal;font-family:Menlo,'DejaVu Sans Mono',consolas,'Courier New',monospace\">Processing Record <span style=\"color: #008080; text-decoration-color: #008080; font-weight: bold\">32</span> of Set <span style=\"color: #008080; text-decoration-color: #008080; font-weight: bold\">1</span> | adamstown\n",
       "</pre>\n"
      ],
      "text/plain": [
       "Processing Record \u001b[1;36m32\u001b[0m of Set \u001b[1;36m1\u001b[0m | adamstown\n"
      ]
     },
     "metadata": {},
     "output_type": "display_data"
    },
    {
     "data": {
      "text/html": [
       "<pre style=\"white-space:pre;overflow-x:auto;line-height:normal;font-family:Menlo,'DejaVu Sans Mono',consolas,'Courier New',monospace\">Processing Record <span style=\"color: #008080; text-decoration-color: #008080; font-weight: bold\">33</span> of Set <span style=\"color: #008080; text-decoration-color: #008080; font-weight: bold\">1</span> | chachapoyas\n",
       "</pre>\n"
      ],
      "text/plain": [
       "Processing Record \u001b[1;36m33\u001b[0m of Set \u001b[1;36m1\u001b[0m | chachapoyas\n"
      ]
     },
     "metadata": {},
     "output_type": "display_data"
    },
    {
     "data": {
      "text/html": [
       "<pre style=\"white-space:pre;overflow-x:auto;line-height:normal;font-family:Menlo,'DejaVu Sans Mono',consolas,'Courier New',monospace\">Processing Record <span style=\"color: #008080; text-decoration-color: #008080; font-weight: bold\">34</span> of Set <span style=\"color: #008080; text-decoration-color: #008080; font-weight: bold\">1</span> | tura\n",
       "</pre>\n"
      ],
      "text/plain": [
       "Processing Record \u001b[1;36m34\u001b[0m of Set \u001b[1;36m1\u001b[0m | tura\n"
      ]
     },
     "metadata": {},
     "output_type": "display_data"
    },
    {
     "data": {
      "text/html": [
       "<pre style=\"white-space:pre;overflow-x:auto;line-height:normal;font-family:Menlo,'DejaVu Sans Mono',consolas,'Courier New',monospace\">Processing Record <span style=\"color: #008080; text-decoration-color: #008080; font-weight: bold\">35</span> of Set <span style=\"color: #008080; text-decoration-color: #008080; font-weight: bold\">1</span> | isafjordur\n",
       "</pre>\n"
      ],
      "text/plain": [
       "Processing Record \u001b[1;36m35\u001b[0m of Set \u001b[1;36m1\u001b[0m | isafjordur\n"
      ]
     },
     "metadata": {},
     "output_type": "display_data"
    },
    {
     "data": {
      "text/html": [
       "<pre style=\"white-space:pre;overflow-x:auto;line-height:normal;font-family:Menlo,'DejaVu Sans Mono',consolas,'Courier New',monospace\">Processing Record <span style=\"color: #008080; text-decoration-color: #008080; font-weight: bold\">36</span> of Set <span style=\"color: #008080; text-decoration-color: #008080; font-weight: bold\">1</span> | hadibu\n",
       "</pre>\n"
      ],
      "text/plain": [
       "Processing Record \u001b[1;36m36\u001b[0m of Set \u001b[1;36m1\u001b[0m | hadibu\n"
      ]
     },
     "metadata": {},
     "output_type": "display_data"
    },
    {
     "data": {
      "text/html": [
       "<pre style=\"white-space:pre;overflow-x:auto;line-height:normal;font-family:Menlo,'DejaVu Sans Mono',consolas,'Courier New',monospace\">Processing Record <span style=\"color: #008080; text-decoration-color: #008080; font-weight: bold\">37</span> of Set <span style=\"color: #008080; text-decoration-color: #008080; font-weight: bold\">1</span> | san antonio de pale\n",
       "</pre>\n"
      ],
      "text/plain": [
       "Processing Record \u001b[1;36m37\u001b[0m of Set \u001b[1;36m1\u001b[0m | san antonio de pale\n"
      ]
     },
     "metadata": {},
     "output_type": "display_data"
    },
    {
     "data": {
      "text/html": [
       "<pre style=\"white-space:pre;overflow-x:auto;line-height:normal;font-family:Menlo,'DejaVu Sans Mono',consolas,'Courier New',monospace\">Processing Record <span style=\"color: #008080; text-decoration-color: #008080; font-weight: bold\">38</span> of Set <span style=\"color: #008080; text-decoration-color: #008080; font-weight: bold\">1</span> | chibougamau\n",
       "</pre>\n"
      ],
      "text/plain": [
       "Processing Record \u001b[1;36m38\u001b[0m of Set \u001b[1;36m1\u001b[0m | chibougamau\n"
      ]
     },
     "metadata": {},
     "output_type": "display_data"
    },
    {
     "data": {
      "text/html": [
       "<pre style=\"white-space:pre;overflow-x:auto;line-height:normal;font-family:Menlo,'DejaVu Sans Mono',consolas,'Courier New',monospace\">Processing Record <span style=\"color: #008080; text-decoration-color: #008080; font-weight: bold\">39</span> of Set <span style=\"color: #008080; text-decoration-color: #008080; font-weight: bold\">1</span> | greymouth\n",
       "</pre>\n"
      ],
      "text/plain": [
       "Processing Record \u001b[1;36m39\u001b[0m of Set \u001b[1;36m1\u001b[0m | greymouth\n"
      ]
     },
     "metadata": {},
     "output_type": "display_data"
    },
    {
     "data": {
      "text/html": [
       "<pre style=\"white-space:pre;overflow-x:auto;line-height:normal;font-family:Menlo,'DejaVu Sans Mono',consolas,'Courier New',monospace\">Processing Record <span style=\"color: #008080; text-decoration-color: #008080; font-weight: bold\">40</span> of Set <span style=\"color: #008080; text-decoration-color: #008080; font-weight: bold\">1</span> | hamilton\n",
       "</pre>\n"
      ],
      "text/plain": [
       "Processing Record \u001b[1;36m40\u001b[0m of Set \u001b[1;36m1\u001b[0m | hamilton\n"
      ]
     },
     "metadata": {},
     "output_type": "display_data"
    },
    {
     "data": {
      "text/html": [
       "<pre style=\"white-space:pre;overflow-x:auto;line-height:normal;font-family:Menlo,'DejaVu Sans Mono',consolas,'Courier New',monospace\">Processing Record <span style=\"color: #008080; text-decoration-color: #008080; font-weight: bold\">41</span> of Set <span style=\"color: #008080; text-decoration-color: #008080; font-weight: bold\">1</span> | dudinka\n",
       "</pre>\n"
      ],
      "text/plain": [
       "Processing Record \u001b[1;36m41\u001b[0m of Set \u001b[1;36m1\u001b[0m | dudinka\n"
      ]
     },
     "metadata": {},
     "output_type": "display_data"
    },
    {
     "data": {
      "text/html": [
       "<pre style=\"white-space:pre;overflow-x:auto;line-height:normal;font-family:Menlo,'DejaVu Sans Mono',consolas,'Courier New',monospace\">Processing Record <span style=\"color: #008080; text-decoration-color: #008080; font-weight: bold\">42</span> of Set <span style=\"color: #008080; text-decoration-color: #008080; font-weight: bold\">1</span> | talnakh\n",
       "</pre>\n"
      ],
      "text/plain": [
       "Processing Record \u001b[1;36m42\u001b[0m of Set \u001b[1;36m1\u001b[0m | talnakh\n"
      ]
     },
     "metadata": {},
     "output_type": "display_data"
    },
    {
     "data": {
      "text/html": [
       "<pre style=\"white-space:pre;overflow-x:auto;line-height:normal;font-family:Menlo,'DejaVu Sans Mono',consolas,'Courier New',monospace\">Processing Record <span style=\"color: #008080; text-decoration-color: #008080; font-weight: bold\">43</span> of Set <span style=\"color: #008080; text-decoration-color: #008080; font-weight: bold\">1</span> | arteche\n",
       "</pre>\n"
      ],
      "text/plain": [
       "Processing Record \u001b[1;36m43\u001b[0m of Set \u001b[1;36m1\u001b[0m | arteche\n"
      ]
     },
     "metadata": {},
     "output_type": "display_data"
    },
    {
     "data": {
      "text/html": [
       "<pre style=\"white-space:pre;overflow-x:auto;line-height:normal;font-family:Menlo,'DejaVu Sans Mono',consolas,'Courier New',monospace\">Processing Record <span style=\"color: #008080; text-decoration-color: #008080; font-weight: bold\">44</span> of Set <span style=\"color: #008080; text-decoration-color: #008080; font-weight: bold\">1</span> | kodiak\n",
       "</pre>\n"
      ],
      "text/plain": [
       "Processing Record \u001b[1;36m44\u001b[0m of Set \u001b[1;36m1\u001b[0m | kodiak\n"
      ]
     },
     "metadata": {},
     "output_type": "display_data"
    },
    {
     "data": {
      "text/html": [
       "<pre style=\"white-space:pre;overflow-x:auto;line-height:normal;font-family:Menlo,'DejaVu Sans Mono',consolas,'Courier New',monospace\">Processing Record <span style=\"color: #008080; text-decoration-color: #008080; font-weight: bold\">45</span> of Set <span style=\"color: #008080; text-decoration-color: #008080; font-weight: bold\">1</span> | ribeira grande\n",
       "</pre>\n"
      ],
      "text/plain": [
       "Processing Record \u001b[1;36m45\u001b[0m of Set \u001b[1;36m1\u001b[0m | ribeira grande\n"
      ]
     },
     "metadata": {},
     "output_type": "display_data"
    },
    {
     "data": {
      "text/html": [
       "<pre style=\"white-space:pre;overflow-x:auto;line-height:normal;font-family:Menlo,'DejaVu Sans Mono',consolas,'Courier New',monospace\">Processing Record <span style=\"color: #008080; text-decoration-color: #008080; font-weight: bold\">46</span> of Set <span style=\"color: #008080; text-decoration-color: #008080; font-weight: bold\">1</span> | fuvahmulah\n",
       "</pre>\n"
      ],
      "text/plain": [
       "Processing Record \u001b[1;36m46\u001b[0m of Set \u001b[1;36m1\u001b[0m | fuvahmulah\n"
      ]
     },
     "metadata": {},
     "output_type": "display_data"
    },
    {
     "data": {
      "text/html": [
       "<pre style=\"white-space:pre;overflow-x:auto;line-height:normal;font-family:Menlo,'DejaVu Sans Mono',consolas,'Courier New',monospace\">City not found. Skipping<span style=\"color: #808000; text-decoration-color: #808000\">...</span>\n",
       "</pre>\n"
      ],
      "text/plain": [
       "City not found. Skipping\u001b[33m...\u001b[0m\n"
      ]
     },
     "metadata": {},
     "output_type": "display_data"
    },
    {
     "data": {
      "text/html": [
       "<pre style=\"white-space:pre;overflow-x:auto;line-height:normal;font-family:Menlo,'DejaVu Sans Mono',consolas,'Courier New',monospace\">Processing Record <span style=\"color: #008080; text-decoration-color: #008080; font-weight: bold\">47</span> of Set <span style=\"color: #008080; text-decoration-color: #008080; font-weight: bold\">1</span> | pangody\n",
       "</pre>\n"
      ],
      "text/plain": [
       "Processing Record \u001b[1;36m47\u001b[0m of Set \u001b[1;36m1\u001b[0m | pangody\n"
      ]
     },
     "metadata": {},
     "output_type": "display_data"
    },
    {
     "data": {
      "text/html": [
       "<pre style=\"white-space:pre;overflow-x:auto;line-height:normal;font-family:Menlo,'DejaVu Sans Mono',consolas,'Courier New',monospace\">Processing Record <span style=\"color: #008080; text-decoration-color: #008080; font-weight: bold\">48</span> of Set <span style=\"color: #008080; text-decoration-color: #008080; font-weight: bold\">1</span> | kerikeri\n",
       "</pre>\n"
      ],
      "text/plain": [
       "Processing Record \u001b[1;36m48\u001b[0m of Set \u001b[1;36m1\u001b[0m | kerikeri\n"
      ]
     },
     "metadata": {},
     "output_type": "display_data"
    },
    {
     "data": {
      "text/html": [
       "<pre style=\"white-space:pre;overflow-x:auto;line-height:normal;font-family:Menlo,'DejaVu Sans Mono',consolas,'Courier New',monospace\">Processing Record <span style=\"color: #008080; text-decoration-color: #008080; font-weight: bold\">49</span> of Set <span style=\"color: #008080; text-decoration-color: #008080; font-weight: bold\">1</span> | bol\n",
       "</pre>\n"
      ],
      "text/plain": [
       "Processing Record \u001b[1;36m49\u001b[0m of Set \u001b[1;36m1\u001b[0m | bol\n"
      ]
     },
     "metadata": {},
     "output_type": "display_data"
    },
    {
     "data": {
      "text/html": [
       "<pre style=\"white-space:pre;overflow-x:auto;line-height:normal;font-family:Menlo,'DejaVu Sans Mono',consolas,'Courier New',monospace\">Processing Record <span style=\"color: #008080; text-decoration-color: #008080; font-weight: bold\">50</span> of Set <span style=\"color: #008080; text-decoration-color: #008080; font-weight: bold\">1</span> | klyuchi\n",
       "</pre>\n"
      ],
      "text/plain": [
       "Processing Record \u001b[1;36m50\u001b[0m of Set \u001b[1;36m1\u001b[0m | klyuchi\n"
      ]
     },
     "metadata": {},
     "output_type": "display_data"
    },
    {
     "data": {
      "text/html": [
       "<pre style=\"white-space:pre;overflow-x:auto;line-height:normal;font-family:Menlo,'DejaVu Sans Mono',consolas,'Courier New',monospace\">Processing Record <span style=\"color: #008080; text-decoration-color: #008080; font-weight: bold\">0</span> of Set <span style=\"color: #008080; text-decoration-color: #008080; font-weight: bold\">2</span> | grytviken\n",
       "</pre>\n"
      ],
      "text/plain": [
       "Processing Record \u001b[1;36m0\u001b[0m of Set \u001b[1;36m2\u001b[0m | grytviken\n"
      ]
     },
     "metadata": {},
     "output_type": "display_data"
    },
    {
     "data": {
      "text/html": [
       "<pre style=\"white-space:pre;overflow-x:auto;line-height:normal;font-family:Menlo,'DejaVu Sans Mono',consolas,'Courier New',monospace\">Processing Record <span style=\"color: #008080; text-decoration-color: #008080; font-weight: bold\">1</span> of Set <span style=\"color: #008080; text-decoration-color: #008080; font-weight: bold\">2</span> | medina\n",
       "</pre>\n"
      ],
      "text/plain": [
       "Processing Record \u001b[1;36m1\u001b[0m of Set \u001b[1;36m2\u001b[0m | medina\n"
      ]
     },
     "metadata": {},
     "output_type": "display_data"
    },
    {
     "data": {
      "text/html": [
       "<pre style=\"white-space:pre;overflow-x:auto;line-height:normal;font-family:Menlo,'DejaVu Sans Mono',consolas,'Courier New',monospace\">Processing Record <span style=\"color: #008080; text-decoration-color: #008080; font-weight: bold\">2</span> of Set <span style=\"color: #008080; text-decoration-color: #008080; font-weight: bold\">2</span> | natal\n",
       "</pre>\n"
      ],
      "text/plain": [
       "Processing Record \u001b[1;36m2\u001b[0m of Set \u001b[1;36m2\u001b[0m | natal\n"
      ]
     },
     "metadata": {},
     "output_type": "display_data"
    },
    {
     "data": {
      "text/html": [
       "<pre style=\"white-space:pre;overflow-x:auto;line-height:normal;font-family:Menlo,'DejaVu Sans Mono',consolas,'Courier New',monospace\">Processing Record <span style=\"color: #008080; text-decoration-color: #008080; font-weight: bold\">3</span> of Set <span style=\"color: #008080; text-decoration-color: #008080; font-weight: bold\">2</span> | yeniseysk\n",
       "</pre>\n"
      ],
      "text/plain": [
       "Processing Record \u001b[1;36m3\u001b[0m of Set \u001b[1;36m2\u001b[0m | yeniseysk\n"
      ]
     },
     "metadata": {},
     "output_type": "display_data"
    },
    {
     "data": {
      "text/html": [
       "<pre style=\"white-space:pre;overflow-x:auto;line-height:normal;font-family:Menlo,'DejaVu Sans Mono',consolas,'Courier New',monospace\">Processing Record <span style=\"color: #008080; text-decoration-color: #008080; font-weight: bold\">4</span> of Set <span style=\"color: #008080; text-decoration-color: #008080; font-weight: bold\">2</span> | udachny\n",
       "</pre>\n"
      ],
      "text/plain": [
       "Processing Record \u001b[1;36m4\u001b[0m of Set \u001b[1;36m2\u001b[0m | udachny\n"
      ]
     },
     "metadata": {},
     "output_type": "display_data"
    },
    {
     "data": {
      "text/html": [
       "<pre style=\"white-space:pre;overflow-x:auto;line-height:normal;font-family:Menlo,'DejaVu Sans Mono',consolas,'Courier New',monospace\">Processing Record <span style=\"color: #008080; text-decoration-color: #008080; font-weight: bold\">5</span> of Set <span style=\"color: #008080; text-decoration-color: #008080; font-weight: bold\">2</span> | blackmans bay\n",
       "</pre>\n"
      ],
      "text/plain": [
       "Processing Record \u001b[1;36m5\u001b[0m of Set \u001b[1;36m2\u001b[0m | blackmans bay\n"
      ]
     },
     "metadata": {},
     "output_type": "display_data"
    },
    {
     "data": {
      "text/html": [
       "<pre style=\"white-space:pre;overflow-x:auto;line-height:normal;font-family:Menlo,'DejaVu Sans Mono',consolas,'Courier New',monospace\">Processing Record <span style=\"color: #008080; text-decoration-color: #008080; font-weight: bold\">6</span> of Set <span style=\"color: #008080; text-decoration-color: #008080; font-weight: bold\">2</span> | minacu\n",
       "</pre>\n"
      ],
      "text/plain": [
       "Processing Record \u001b[1;36m6\u001b[0m of Set \u001b[1;36m2\u001b[0m | minacu\n"
      ]
     },
     "metadata": {},
     "output_type": "display_data"
    },
    {
     "data": {
      "text/html": [
       "<pre style=\"white-space:pre;overflow-x:auto;line-height:normal;font-family:Menlo,'DejaVu Sans Mono',consolas,'Courier New',monospace\">City not found. Skipping<span style=\"color: #808000; text-decoration-color: #808000\">...</span>\n",
       "</pre>\n"
      ],
      "text/plain": [
       "City not found. Skipping\u001b[33m...\u001b[0m\n"
      ]
     },
     "metadata": {},
     "output_type": "display_data"
    },
    {
     "data": {
      "text/html": [
       "<pre style=\"white-space:pre;overflow-x:auto;line-height:normal;font-family:Menlo,'DejaVu Sans Mono',consolas,'Courier New',monospace\">Processing Record <span style=\"color: #008080; text-decoration-color: #008080; font-weight: bold\">7</span> of Set <span style=\"color: #008080; text-decoration-color: #008080; font-weight: bold\">2</span> | saint-felix-de-valois\n",
       "</pre>\n"
      ],
      "text/plain": [
       "Processing Record \u001b[1;36m7\u001b[0m of Set \u001b[1;36m2\u001b[0m | saint-felix-de-valois\n"
      ]
     },
     "metadata": {},
     "output_type": "display_data"
    },
    {
     "data": {
      "text/html": [
       "<pre style=\"white-space:pre;overflow-x:auto;line-height:normal;font-family:Menlo,'DejaVu Sans Mono',consolas,'Courier New',monospace\">Processing Record <span style=\"color: #008080; text-decoration-color: #008080; font-weight: bold\">8</span> of Set <span style=\"color: #008080; text-decoration-color: #008080; font-weight: bold\">2</span> | daru\n",
       "</pre>\n"
      ],
      "text/plain": [
       "Processing Record \u001b[1;36m8\u001b[0m of Set \u001b[1;36m2\u001b[0m | daru\n"
      ]
     },
     "metadata": {},
     "output_type": "display_data"
    },
    {
     "data": {
      "text/html": [
       "<pre style=\"white-space:pre;overflow-x:auto;line-height:normal;font-family:Menlo,'DejaVu Sans Mono',consolas,'Courier New',monospace\">Processing Record <span style=\"color: #008080; text-decoration-color: #008080; font-weight: bold\">9</span> of Set <span style=\"color: #008080; text-decoration-color: #008080; font-weight: bold\">2</span> | ust-nera\n",
       "</pre>\n"
      ],
      "text/plain": [
       "Processing Record \u001b[1;36m9\u001b[0m of Set \u001b[1;36m2\u001b[0m | ust-nera\n"
      ]
     },
     "metadata": {},
     "output_type": "display_data"
    },
    {
     "data": {
      "text/html": [
       "<pre style=\"white-space:pre;overflow-x:auto;line-height:normal;font-family:Menlo,'DejaVu Sans Mono',consolas,'Courier New',monospace\">Processing Record <span style=\"color: #008080; text-decoration-color: #008080; font-weight: bold\">10</span> of Set <span style=\"color: #008080; text-decoration-color: #008080; font-weight: bold\">2</span> | chonchi\n",
       "</pre>\n"
      ],
      "text/plain": [
       "Processing Record \u001b[1;36m10\u001b[0m of Set \u001b[1;36m2\u001b[0m | chonchi\n"
      ]
     },
     "metadata": {},
     "output_type": "display_data"
    },
    {
     "data": {
      "text/html": [
       "<pre style=\"white-space:pre;overflow-x:auto;line-height:normal;font-family:Menlo,'DejaVu Sans Mono',consolas,'Courier New',monospace\">Processing Record <span style=\"color: #008080; text-decoration-color: #008080; font-weight: bold\">11</span> of Set <span style=\"color: #008080; text-decoration-color: #008080; font-weight: bold\">2</span> | freeport\n",
       "</pre>\n"
      ],
      "text/plain": [
       "Processing Record \u001b[1;36m11\u001b[0m of Set \u001b[1;36m2\u001b[0m | freeport\n"
      ]
     },
     "metadata": {},
     "output_type": "display_data"
    },
    {
     "data": {
      "text/html": [
       "<pre style=\"white-space:pre;overflow-x:auto;line-height:normal;font-family:Menlo,'DejaVu Sans Mono',consolas,'Courier New',monospace\">Processing Record <span style=\"color: #008080; text-decoration-color: #008080; font-weight: bold\">12</span> of Set <span style=\"color: #008080; text-decoration-color: #008080; font-weight: bold\">2</span> | tiksi\n",
       "</pre>\n"
      ],
      "text/plain": [
       "Processing Record \u001b[1;36m12\u001b[0m of Set \u001b[1;36m2\u001b[0m | tiksi\n"
      ]
     },
     "metadata": {},
     "output_type": "display_data"
    },
    {
     "data": {
      "text/html": [
       "<pre style=\"white-space:pre;overflow-x:auto;line-height:normal;font-family:Menlo,'DejaVu Sans Mono',consolas,'Courier New',monospace\">Processing Record <span style=\"color: #008080; text-decoration-color: #008080; font-weight: bold\">13</span> of Set <span style=\"color: #008080; text-decoration-color: #008080; font-weight: bold\">2</span> | tolanaro\n",
       "</pre>\n"
      ],
      "text/plain": [
       "Processing Record \u001b[1;36m13\u001b[0m of Set \u001b[1;36m2\u001b[0m | tolanaro\n"
      ]
     },
     "metadata": {},
     "output_type": "display_data"
    },
    {
     "data": {
      "text/html": [
       "<pre style=\"white-space:pre;overflow-x:auto;line-height:normal;font-family:Menlo,'DejaVu Sans Mono',consolas,'Courier New',monospace\">Processing Record <span style=\"color: #008080; text-decoration-color: #008080; font-weight: bold\">14</span> of Set <span style=\"color: #008080; text-decoration-color: #008080; font-weight: bold\">2</span> | bairnsdale\n",
       "</pre>\n"
      ],
      "text/plain": [
       "Processing Record \u001b[1;36m14\u001b[0m of Set \u001b[1;36m2\u001b[0m | bairnsdale\n"
      ]
     },
     "metadata": {},
     "output_type": "display_data"
    },
    {
     "data": {
      "text/html": [
       "<pre style=\"white-space:pre;overflow-x:auto;line-height:normal;font-family:Menlo,'DejaVu Sans Mono',consolas,'Courier New',monospace\">Processing Record <span style=\"color: #008080; text-decoration-color: #008080; font-weight: bold\">15</span> of Set <span style=\"color: #008080; text-decoration-color: #008080; font-weight: bold\">2</span> | longyearbyen\n",
       "</pre>\n"
      ],
      "text/plain": [
       "Processing Record \u001b[1;36m15\u001b[0m of Set \u001b[1;36m2\u001b[0m | longyearbyen\n"
      ]
     },
     "metadata": {},
     "output_type": "display_data"
    },
    {
     "data": {
      "text/html": [
       "<pre style=\"white-space:pre;overflow-x:auto;line-height:normal;font-family:Menlo,'DejaVu Sans Mono',consolas,'Courier New',monospace\">Processing Record <span style=\"color: #008080; text-decoration-color: #008080; font-weight: bold\">16</span> of Set <span style=\"color: #008080; text-decoration-color: #008080; font-weight: bold\">2</span> | port alfred\n",
       "</pre>\n"
      ],
      "text/plain": [
       "Processing Record \u001b[1;36m16\u001b[0m of Set \u001b[1;36m2\u001b[0m | port alfred\n"
      ]
     },
     "metadata": {},
     "output_type": "display_data"
    },
    {
     "data": {
      "text/html": [
       "<pre style=\"white-space:pre;overflow-x:auto;line-height:normal;font-family:Menlo,'DejaVu Sans Mono',consolas,'Courier New',monospace\">Processing Record <span style=\"color: #008080; text-decoration-color: #008080; font-weight: bold\">17</span> of Set <span style=\"color: #008080; text-decoration-color: #008080; font-weight: bold\">2</span> | punta arenas\n",
       "</pre>\n"
      ],
      "text/plain": [
       "Processing Record \u001b[1;36m17\u001b[0m of Set \u001b[1;36m2\u001b[0m | punta arenas\n"
      ]
     },
     "metadata": {},
     "output_type": "display_data"
    },
    {
     "data": {
      "text/html": [
       "<pre style=\"white-space:pre;overflow-x:auto;line-height:normal;font-family:Menlo,'DejaVu Sans Mono',consolas,'Courier New',monospace\">Processing Record <span style=\"color: #008080; text-decoration-color: #008080; font-weight: bold\">18</span> of Set <span style=\"color: #008080; text-decoration-color: #008080; font-weight: bold\">2</span> | vadso\n",
       "</pre>\n"
      ],
      "text/plain": [
       "Processing Record \u001b[1;36m18\u001b[0m of Set \u001b[1;36m2\u001b[0m | vadso\n"
      ]
     },
     "metadata": {},
     "output_type": "display_data"
    },
    {
     "data": {
      "text/html": [
       "<pre style=\"white-space:pre;overflow-x:auto;line-height:normal;font-family:Menlo,'DejaVu Sans Mono',consolas,'Courier New',monospace\">Processing Record <span style=\"color: #008080; text-decoration-color: #008080; font-weight: bold\">19</span> of Set <span style=\"color: #008080; text-decoration-color: #008080; font-weight: bold\">2</span> | marks\n",
       "</pre>\n"
      ],
      "text/plain": [
       "Processing Record \u001b[1;36m19\u001b[0m of Set \u001b[1;36m2\u001b[0m | marks\n"
      ]
     },
     "metadata": {},
     "output_type": "display_data"
    },
    {
     "data": {
      "text/html": [
       "<pre style=\"white-space:pre;overflow-x:auto;line-height:normal;font-family:Menlo,'DejaVu Sans Mono',consolas,'Courier New',monospace\">Processing Record <span style=\"color: #008080; text-decoration-color: #008080; font-weight: bold\">20</span> of Set <span style=\"color: #008080; text-decoration-color: #008080; font-weight: bold\">2</span> | flying fish cove\n",
       "</pre>\n"
      ],
      "text/plain": [
       "Processing Record \u001b[1;36m20\u001b[0m of Set \u001b[1;36m2\u001b[0m | flying fish cove\n"
      ]
     },
     "metadata": {},
     "output_type": "display_data"
    },
    {
     "data": {
      "text/html": [
       "<pre style=\"white-space:pre;overflow-x:auto;line-height:normal;font-family:Menlo,'DejaVu Sans Mono',consolas,'Courier New',monospace\">Processing Record <span style=\"color: #008080; text-decoration-color: #008080; font-weight: bold\">21</span> of Set <span style=\"color: #008080; text-decoration-color: #008080; font-weight: bold\">2</span> | rundu\n",
       "</pre>\n"
      ],
      "text/plain": [
       "Processing Record \u001b[1;36m21\u001b[0m of Set \u001b[1;36m2\u001b[0m | rundu\n"
      ]
     },
     "metadata": {},
     "output_type": "display_data"
    },
    {
     "data": {
      "text/html": [
       "<pre style=\"white-space:pre;overflow-x:auto;line-height:normal;font-family:Menlo,'DejaVu Sans Mono',consolas,'Courier New',monospace\">Processing Record <span style=\"color: #008080; text-decoration-color: #008080; font-weight: bold\">22</span> of Set <span style=\"color: #008080; text-decoration-color: #008080; font-weight: bold\">2</span> | paysandu\n",
       "</pre>\n"
      ],
      "text/plain": [
       "Processing Record \u001b[1;36m22\u001b[0m of Set \u001b[1;36m2\u001b[0m | paysandu\n"
      ]
     },
     "metadata": {},
     "output_type": "display_data"
    },
    {
     "data": {
      "text/html": [
       "<pre style=\"white-space:pre;overflow-x:auto;line-height:normal;font-family:Menlo,'DejaVu Sans Mono',consolas,'Courier New',monospace\">Processing Record <span style=\"color: #008080; text-decoration-color: #008080; font-weight: bold\">23</span> of Set <span style=\"color: #008080; text-decoration-color: #008080; font-weight: bold\">2</span> | whitehorse\n",
       "</pre>\n"
      ],
      "text/plain": [
       "Processing Record \u001b[1;36m23\u001b[0m of Set \u001b[1;36m2\u001b[0m | whitehorse\n"
      ]
     },
     "metadata": {},
     "output_type": "display_data"
    },
    {
     "data": {
      "text/html": [
       "<pre style=\"white-space:pre;overflow-x:auto;line-height:normal;font-family:Menlo,'DejaVu Sans Mono',consolas,'Courier New',monospace\">Processing Record <span style=\"color: #008080; text-decoration-color: #008080; font-weight: bold\">24</span> of Set <span style=\"color: #008080; text-decoration-color: #008080; font-weight: bold\">2</span> | yelizovo\n",
       "</pre>\n"
      ],
      "text/plain": [
       "Processing Record \u001b[1;36m24\u001b[0m of Set \u001b[1;36m2\u001b[0m | yelizovo\n"
      ]
     },
     "metadata": {},
     "output_type": "display_data"
    },
    {
     "data": {
      "text/html": [
       "<pre style=\"white-space:pre;overflow-x:auto;line-height:normal;font-family:Menlo,'DejaVu Sans Mono',consolas,'Courier New',monospace\">Processing Record <span style=\"color: #008080; text-decoration-color: #008080; font-weight: bold\">25</span> of Set <span style=\"color: #008080; text-decoration-color: #008080; font-weight: bold\">2</span> | invercargill\n",
       "</pre>\n"
      ],
      "text/plain": [
       "Processing Record \u001b[1;36m25\u001b[0m of Set \u001b[1;36m2\u001b[0m | invercargill\n"
      ]
     },
     "metadata": {},
     "output_type": "display_data"
    },
    {
     "data": {
      "text/html": [
       "<pre style=\"white-space:pre;overflow-x:auto;line-height:normal;font-family:Menlo,'DejaVu Sans Mono',consolas,'Courier New',monospace\">Processing Record <span style=\"color: #008080; text-decoration-color: #008080; font-weight: bold\">26</span> of Set <span style=\"color: #008080; text-decoration-color: #008080; font-weight: bold\">2</span> | parral\n",
       "</pre>\n"
      ],
      "text/plain": [
       "Processing Record \u001b[1;36m26\u001b[0m of Set \u001b[1;36m2\u001b[0m | parral\n"
      ]
     },
     "metadata": {},
     "output_type": "display_data"
    },
    {
     "data": {
      "text/html": [
       "<pre style=\"white-space:pre;overflow-x:auto;line-height:normal;font-family:Menlo,'DejaVu Sans Mono',consolas,'Courier New',monospace\">Processing Record <span style=\"color: #008080; text-decoration-color: #008080; font-weight: bold\">27</span> of Set <span style=\"color: #008080; text-decoration-color: #008080; font-weight: bold\">2</span> | praia da vitoria\n",
       "</pre>\n"
      ],
      "text/plain": [
       "Processing Record \u001b[1;36m27\u001b[0m of Set \u001b[1;36m2\u001b[0m | praia da vitoria\n"
      ]
     },
     "metadata": {},
     "output_type": "display_data"
    },
    {
     "data": {
      "text/html": [
       "<pre style=\"white-space:pre;overflow-x:auto;line-height:normal;font-family:Menlo,'DejaVu Sans Mono',consolas,'Courier New',monospace\">Processing Record <span style=\"color: #008080; text-decoration-color: #008080; font-weight: bold\">28</span> of Set <span style=\"color: #008080; text-decoration-color: #008080; font-weight: bold\">2</span> | tralee\n",
       "</pre>\n"
      ],
      "text/plain": [
       "Processing Record \u001b[1;36m28\u001b[0m of Set \u001b[1;36m2\u001b[0m | tralee\n"
      ]
     },
     "metadata": {},
     "output_type": "display_data"
    },
    {
     "data": {
      "text/html": [
       "<pre style=\"white-space:pre;overflow-x:auto;line-height:normal;font-family:Menlo,'DejaVu Sans Mono',consolas,'Courier New',monospace\">Processing Record <span style=\"color: #008080; text-decoration-color: #008080; font-weight: bold\">29</span> of Set <span style=\"color: #008080; text-decoration-color: #008080; font-weight: bold\">2</span> | inirida\n",
       "</pre>\n"
      ],
      "text/plain": [
       "Processing Record \u001b[1;36m29\u001b[0m of Set \u001b[1;36m2\u001b[0m | inirida\n"
      ]
     },
     "metadata": {},
     "output_type": "display_data"
    },
    {
     "data": {
      "text/html": [
       "<pre style=\"white-space:pre;overflow-x:auto;line-height:normal;font-family:Menlo,'DejaVu Sans Mono',consolas,'Courier New',monospace\">Processing Record <span style=\"color: #008080; text-decoration-color: #008080; font-weight: bold\">30</span> of Set <span style=\"color: #008080; text-decoration-color: #008080; font-weight: bold\">2</span> | alotau\n",
       "</pre>\n"
      ],
      "text/plain": [
       "Processing Record \u001b[1;36m30\u001b[0m of Set \u001b[1;36m2\u001b[0m | alotau\n"
      ]
     },
     "metadata": {},
     "output_type": "display_data"
    },
    {
     "data": {
      "text/html": [
       "<pre style=\"white-space:pre;overflow-x:auto;line-height:normal;font-family:Menlo,'DejaVu Sans Mono',consolas,'Courier New',monospace\">Processing Record <span style=\"color: #008080; text-decoration-color: #008080; font-weight: bold\">31</span> of Set <span style=\"color: #008080; text-decoration-color: #008080; font-weight: bold\">2</span> | west island\n",
       "</pre>\n"
      ],
      "text/plain": [
       "Processing Record \u001b[1;36m31\u001b[0m of Set \u001b[1;36m2\u001b[0m | west island\n"
      ]
     },
     "metadata": {},
     "output_type": "display_data"
    },
    {
     "data": {
      "text/html": [
       "<pre style=\"white-space:pre;overflow-x:auto;line-height:normal;font-family:Menlo,'DejaVu Sans Mono',consolas,'Courier New',monospace\">Processing Record <span style=\"color: #008080; text-decoration-color: #008080; font-weight: bold\">32</span> of Set <span style=\"color: #008080; text-decoration-color: #008080; font-weight: bold\">2</span> | margaret river\n",
       "</pre>\n"
      ],
      "text/plain": [
       "Processing Record \u001b[1;36m32\u001b[0m of Set \u001b[1;36m2\u001b[0m | margaret river\n"
      ]
     },
     "metadata": {},
     "output_type": "display_data"
    },
    {
     "data": {
      "text/html": [
       "<pre style=\"white-space:pre;overflow-x:auto;line-height:normal;font-family:Menlo,'DejaVu Sans Mono',consolas,'Courier New',monospace\">Processing Record <span style=\"color: #008080; text-decoration-color: #008080; font-weight: bold\">33</span> of Set <span style=\"color: #008080; text-decoration-color: #008080; font-weight: bold\">2</span> | walvis bay\n",
       "</pre>\n"
      ],
      "text/plain": [
       "Processing Record \u001b[1;36m33\u001b[0m of Set \u001b[1;36m2\u001b[0m | walvis bay\n"
      ]
     },
     "metadata": {},
     "output_type": "display_data"
    },
    {
     "data": {
      "text/html": [
       "<pre style=\"white-space:pre;overflow-x:auto;line-height:normal;font-family:Menlo,'DejaVu Sans Mono',consolas,'Courier New',monospace\">Processing Record <span style=\"color: #008080; text-decoration-color: #008080; font-weight: bold\">34</span> of Set <span style=\"color: #008080; text-decoration-color: #008080; font-weight: bold\">2</span> | poplar bluff\n",
       "</pre>\n"
      ],
      "text/plain": [
       "Processing Record \u001b[1;36m34\u001b[0m of Set \u001b[1;36m2\u001b[0m | poplar bluff\n"
      ]
     },
     "metadata": {},
     "output_type": "display_data"
    },
    {
     "data": {
      "text/html": [
       "<pre style=\"white-space:pre;overflow-x:auto;line-height:normal;font-family:Menlo,'DejaVu Sans Mono',consolas,'Courier New',monospace\">Processing Record <span style=\"color: #008080; text-decoration-color: #008080; font-weight: bold\">35</span> of Set <span style=\"color: #008080; text-decoration-color: #008080; font-weight: bold\">2</span> | bambari\n",
       "</pre>\n"
      ],
      "text/plain": [
       "Processing Record \u001b[1;36m35\u001b[0m of Set \u001b[1;36m2\u001b[0m | bambari\n"
      ]
     },
     "metadata": {},
     "output_type": "display_data"
    },
    {
     "data": {
      "text/html": [
       "<pre style=\"white-space:pre;overflow-x:auto;line-height:normal;font-family:Menlo,'DejaVu Sans Mono',consolas,'Courier New',monospace\">Processing Record <span style=\"color: #008080; text-decoration-color: #008080; font-weight: bold\">36</span> of Set <span style=\"color: #008080; text-decoration-color: #008080; font-weight: bold\">2</span> | al fuwayliq\n",
       "</pre>\n"
      ],
      "text/plain": [
       "Processing Record \u001b[1;36m36\u001b[0m of Set \u001b[1;36m2\u001b[0m | al fuwayliq\n"
      ]
     },
     "metadata": {},
     "output_type": "display_data"
    },
    {
     "data": {
      "text/html": [
       "<pre style=\"white-space:pre;overflow-x:auto;line-height:normal;font-family:Menlo,'DejaVu Sans Mono',consolas,'Courier New',monospace\">Processing Record <span style=\"color: #008080; text-decoration-color: #008080; font-weight: bold\">37</span> of Set <span style=\"color: #008080; text-decoration-color: #008080; font-weight: bold\">2</span> | homer\n",
       "</pre>\n"
      ],
      "text/plain": [
       "Processing Record \u001b[1;36m37\u001b[0m of Set \u001b[1;36m2\u001b[0m | homer\n"
      ]
     },
     "metadata": {},
     "output_type": "display_data"
    },
    {
     "data": {
      "text/html": [
       "<pre style=\"white-space:pre;overflow-x:auto;line-height:normal;font-family:Menlo,'DejaVu Sans Mono',consolas,'Courier New',monospace\">Processing Record <span style=\"color: #008080; text-decoration-color: #008080; font-weight: bold\">38</span> of Set <span style=\"color: #008080; text-decoration-color: #008080; font-weight: bold\">2</span> | rimouski\n",
       "</pre>\n"
      ],
      "text/plain": [
       "Processing Record \u001b[1;36m38\u001b[0m of Set \u001b[1;36m2\u001b[0m | rimouski\n"
      ]
     },
     "metadata": {},
     "output_type": "display_data"
    },
    {
     "data": {
      "text/html": [
       "<pre style=\"white-space:pre;overflow-x:auto;line-height:normal;font-family:Menlo,'DejaVu Sans Mono',consolas,'Courier New',monospace\">Processing Record <span style=\"color: #008080; text-decoration-color: #008080; font-weight: bold\">39</span> of Set <span style=\"color: #008080; text-decoration-color: #008080; font-weight: bold\">2</span> | konstantinovka\n",
       "</pre>\n"
      ],
      "text/plain": [
       "Processing Record \u001b[1;36m39\u001b[0m of Set \u001b[1;36m2\u001b[0m | konstantinovka\n"
      ]
     },
     "metadata": {},
     "output_type": "display_data"
    },
    {
     "data": {
      "text/html": [
       "<pre style=\"white-space:pre;overflow-x:auto;line-height:normal;font-family:Menlo,'DejaVu Sans Mono',consolas,'Courier New',monospace\">Processing Record <span style=\"color: #008080; text-decoration-color: #008080; font-weight: bold\">40</span> of Set <span style=\"color: #008080; text-decoration-color: #008080; font-weight: bold\">2</span> | bilibino\n",
       "</pre>\n"
      ],
      "text/plain": [
       "Processing Record \u001b[1;36m40\u001b[0m of Set \u001b[1;36m2\u001b[0m | bilibino\n"
      ]
     },
     "metadata": {},
     "output_type": "display_data"
    },
    {
     "data": {
      "text/html": [
       "<pre style=\"white-space:pre;overflow-x:auto;line-height:normal;font-family:Menlo,'DejaVu Sans Mono',consolas,'Courier New',monospace\">Processing Record <span style=\"color: #008080; text-decoration-color: #008080; font-weight: bold\">41</span> of Set <span style=\"color: #008080; text-decoration-color: #008080; font-weight: bold\">2</span> | colares\n",
       "</pre>\n"
      ],
      "text/plain": [
       "Processing Record \u001b[1;36m41\u001b[0m of Set \u001b[1;36m2\u001b[0m | colares\n"
      ]
     },
     "metadata": {},
     "output_type": "display_data"
    },
    {
     "data": {
      "text/html": [
       "<pre style=\"white-space:pre;overflow-x:auto;line-height:normal;font-family:Menlo,'DejaVu Sans Mono',consolas,'Courier New',monospace\">Processing Record <span style=\"color: #008080; text-decoration-color: #008080; font-weight: bold\">42</span> of Set <span style=\"color: #008080; text-decoration-color: #008080; font-weight: bold\">2</span> | hacienda huancane\n",
       "</pre>\n"
      ],
      "text/plain": [
       "Processing Record \u001b[1;36m42\u001b[0m of Set \u001b[1;36m2\u001b[0m | hacienda huancane\n"
      ]
     },
     "metadata": {},
     "output_type": "display_data"
    },
    {
     "data": {
      "text/html": [
       "<pre style=\"white-space:pre;overflow-x:auto;line-height:normal;font-family:Menlo,'DejaVu Sans Mono',consolas,'Courier New',monospace\">Processing Record <span style=\"color: #008080; text-decoration-color: #008080; font-weight: bold\">43</span> of Set <span style=\"color: #008080; text-decoration-color: #008080; font-weight: bold\">2</span> | vorotynsk\n",
       "</pre>\n"
      ],
      "text/plain": [
       "Processing Record \u001b[1;36m43\u001b[0m of Set \u001b[1;36m2\u001b[0m | vorotynsk\n"
      ]
     },
     "metadata": {},
     "output_type": "display_data"
    },
    {
     "data": {
      "text/html": [
       "<pre style=\"white-space:pre;overflow-x:auto;line-height:normal;font-family:Menlo,'DejaVu Sans Mono',consolas,'Courier New',monospace\">Processing Record <span style=\"color: #008080; text-decoration-color: #008080; font-weight: bold\">44</span> of Set <span style=\"color: #008080; text-decoration-color: #008080; font-weight: bold\">2</span> | ginir\n",
       "</pre>\n"
      ],
      "text/plain": [
       "Processing Record \u001b[1;36m44\u001b[0m of Set \u001b[1;36m2\u001b[0m | ginir\n"
      ]
     },
     "metadata": {},
     "output_type": "display_data"
    },
    {
     "data": {
      "text/html": [
       "<pre style=\"white-space:pre;overflow-x:auto;line-height:normal;font-family:Menlo,'DejaVu Sans Mono',consolas,'Courier New',monospace\">Processing Record <span style=\"color: #008080; text-decoration-color: #008080; font-weight: bold\">45</span> of Set <span style=\"color: #008080; text-decoration-color: #008080; font-weight: bold\">2</span> | suva\n",
       "</pre>\n"
      ],
      "text/plain": [
       "Processing Record \u001b[1;36m45\u001b[0m of Set \u001b[1;36m2\u001b[0m | suva\n"
      ]
     },
     "metadata": {},
     "output_type": "display_data"
    },
    {
     "data": {
      "text/html": [
       "<pre style=\"white-space:pre;overflow-x:auto;line-height:normal;font-family:Menlo,'DejaVu Sans Mono',consolas,'Courier New',monospace\">Processing Record <span style=\"color: #008080; text-decoration-color: #008080; font-weight: bold\">46</span> of Set <span style=\"color: #008080; text-decoration-color: #008080; font-weight: bold\">2</span> | maragogi\n",
       "</pre>\n"
      ],
      "text/plain": [
       "Processing Record \u001b[1;36m46\u001b[0m of Set \u001b[1;36m2\u001b[0m | maragogi\n"
      ]
     },
     "metadata": {},
     "output_type": "display_data"
    },
    {
     "data": {
      "text/html": [
       "<pre style=\"white-space:pre;overflow-x:auto;line-height:normal;font-family:Menlo,'DejaVu Sans Mono',consolas,'Courier New',monospace\">Processing Record <span style=\"color: #008080; text-decoration-color: #008080; font-weight: bold\">47</span> of Set <span style=\"color: #008080; text-decoration-color: #008080; font-weight: bold\">2</span> | laojunmiao\n",
       "</pre>\n"
      ],
      "text/plain": [
       "Processing Record \u001b[1;36m47\u001b[0m of Set \u001b[1;36m2\u001b[0m | laojunmiao\n"
      ]
     },
     "metadata": {},
     "output_type": "display_data"
    },
    {
     "data": {
      "text/html": [
       "<pre style=\"white-space:pre;overflow-x:auto;line-height:normal;font-family:Menlo,'DejaVu Sans Mono',consolas,'Courier New',monospace\">Processing Record <span style=\"color: #008080; text-decoration-color: #008080; font-weight: bold\">48</span> of Set <span style=\"color: #008080; text-decoration-color: #008080; font-weight: bold\">2</span> | alice springs\n",
       "</pre>\n"
      ],
      "text/plain": [
       "Processing Record \u001b[1;36m48\u001b[0m of Set \u001b[1;36m2\u001b[0m | alice springs\n"
      ]
     },
     "metadata": {},
     "output_type": "display_data"
    },
    {
     "data": {
      "text/html": [
       "<pre style=\"white-space:pre;overflow-x:auto;line-height:normal;font-family:Menlo,'DejaVu Sans Mono',consolas,'Courier New',monospace\">Processing Record <span style=\"color: #008080; text-decoration-color: #008080; font-weight: bold\">49</span> of Set <span style=\"color: #008080; text-decoration-color: #008080; font-weight: bold\">2</span> | balykshi\n",
       "</pre>\n"
      ],
      "text/plain": [
       "Processing Record \u001b[1;36m49\u001b[0m of Set \u001b[1;36m2\u001b[0m | balykshi\n"
      ]
     },
     "metadata": {},
     "output_type": "display_data"
    },
    {
     "data": {
      "text/html": [
       "<pre style=\"white-space:pre;overflow-x:auto;line-height:normal;font-family:Menlo,'DejaVu Sans Mono',consolas,'Courier New',monospace\">Processing Record <span style=\"color: #008080; text-decoration-color: #008080; font-weight: bold\">0</span> of Set <span style=\"color: #008080; text-decoration-color: #008080; font-weight: bold\">3</span> | margherita\n",
       "</pre>\n"
      ],
      "text/plain": [
       "Processing Record \u001b[1;36m0\u001b[0m of Set \u001b[1;36m3\u001b[0m | margherita\n"
      ]
     },
     "metadata": {},
     "output_type": "display_data"
    },
    {
     "data": {
      "text/html": [
       "<pre style=\"white-space:pre;overflow-x:auto;line-height:normal;font-family:Menlo,'DejaVu Sans Mono',consolas,'Courier New',monospace\">Processing Record <span style=\"color: #008080; text-decoration-color: #008080; font-weight: bold\">1</span> of Set <span style=\"color: #008080; text-decoration-color: #008080; font-weight: bold\">3</span> | niquero\n",
       "</pre>\n"
      ],
      "text/plain": [
       "Processing Record \u001b[1;36m1\u001b[0m of Set \u001b[1;36m3\u001b[0m | niquero\n"
      ]
     },
     "metadata": {},
     "output_type": "display_data"
    },
    {
     "data": {
      "text/html": [
       "<pre style=\"white-space:pre;overflow-x:auto;line-height:normal;font-family:Menlo,'DejaVu Sans Mono',consolas,'Courier New',monospace\">Processing Record <span style=\"color: #008080; text-decoration-color: #008080; font-weight: bold\">2</span> of Set <span style=\"color: #008080; text-decoration-color: #008080; font-weight: bold\">3</span> | luanda\n",
       "</pre>\n"
      ],
      "text/plain": [
       "Processing Record \u001b[1;36m2\u001b[0m of Set \u001b[1;36m3\u001b[0m | luanda\n"
      ]
     },
     "metadata": {},
     "output_type": "display_data"
    },
    {
     "data": {
      "text/html": [
       "<pre style=\"white-space:pre;overflow-x:auto;line-height:normal;font-family:Menlo,'DejaVu Sans Mono',consolas,'Courier New',monospace\">Processing Record <span style=\"color: #008080; text-decoration-color: #008080; font-weight: bold\">3</span> of Set <span style=\"color: #008080; text-decoration-color: #008080; font-weight: bold\">3</span> | yangshuo\n",
       "</pre>\n"
      ],
      "text/plain": [
       "Processing Record \u001b[1;36m3\u001b[0m of Set \u001b[1;36m3\u001b[0m | yangshuo\n"
      ]
     },
     "metadata": {},
     "output_type": "display_data"
    },
    {
     "data": {
      "text/html": [
       "<pre style=\"white-space:pre;overflow-x:auto;line-height:normal;font-family:Menlo,'DejaVu Sans Mono',consolas,'Courier New',monospace\">Processing Record <span style=\"color: #008080; text-decoration-color: #008080; font-weight: bold\">4</span> of Set <span style=\"color: #008080; text-decoration-color: #008080; font-weight: bold\">3</span> | sinabang\n",
       "</pre>\n"
      ],
      "text/plain": [
       "Processing Record \u001b[1;36m4\u001b[0m of Set \u001b[1;36m3\u001b[0m | sinabang\n"
      ]
     },
     "metadata": {},
     "output_type": "display_data"
    },
    {
     "data": {
      "text/html": [
       "<pre style=\"white-space:pre;overflow-x:auto;line-height:normal;font-family:Menlo,'DejaVu Sans Mono',consolas,'Courier New',monospace\">Processing Record <span style=\"color: #008080; text-decoration-color: #008080; font-weight: bold\">5</span> of Set <span style=\"color: #008080; text-decoration-color: #008080; font-weight: bold\">3</span> | kayyerkan\n",
       "</pre>\n"
      ],
      "text/plain": [
       "Processing Record \u001b[1;36m5\u001b[0m of Set \u001b[1;36m3\u001b[0m | kayyerkan\n"
      ]
     },
     "metadata": {},
     "output_type": "display_data"
    },
    {
     "data": {
      "text/html": [
       "<pre style=\"white-space:pre;overflow-x:auto;line-height:normal;font-family:Menlo,'DejaVu Sans Mono',consolas,'Courier New',monospace\">Processing Record <span style=\"color: #008080; text-decoration-color: #008080; font-weight: bold\">6</span> of Set <span style=\"color: #008080; text-decoration-color: #008080; font-weight: bold\">3</span> | tual\n",
       "</pre>\n"
      ],
      "text/plain": [
       "Processing Record \u001b[1;36m6\u001b[0m of Set \u001b[1;36m3\u001b[0m | tual\n"
      ]
     },
     "metadata": {},
     "output_type": "display_data"
    },
    {
     "data": {
      "text/html": [
       "<pre style=\"white-space:pre;overflow-x:auto;line-height:normal;font-family:Menlo,'DejaVu Sans Mono',consolas,'Courier New',monospace\">Processing Record <span style=\"color: #008080; text-decoration-color: #008080; font-weight: bold\">7</span> of Set <span style=\"color: #008080; text-decoration-color: #008080; font-weight: bold\">3</span> | heroica matamoros\n",
       "</pre>\n"
      ],
      "text/plain": [
       "Processing Record \u001b[1;36m7\u001b[0m of Set \u001b[1;36m3\u001b[0m | heroica matamoros\n"
      ]
     },
     "metadata": {},
     "output_type": "display_data"
    },
    {
     "data": {
      "text/html": [
       "<pre style=\"white-space:pre;overflow-x:auto;line-height:normal;font-family:Menlo,'DejaVu Sans Mono',consolas,'Courier New',monospace\">Processing Record <span style=\"color: #008080; text-decoration-color: #008080; font-weight: bold\">8</span> of Set <span style=\"color: #008080; text-decoration-color: #008080; font-weight: bold\">3</span> | lake wales\n",
       "</pre>\n"
      ],
      "text/plain": [
       "Processing Record \u001b[1;36m8\u001b[0m of Set \u001b[1;36m3\u001b[0m | lake wales\n"
      ]
     },
     "metadata": {},
     "output_type": "display_data"
    },
    {
     "data": {
      "text/html": [
       "<pre style=\"white-space:pre;overflow-x:auto;line-height:normal;font-family:Menlo,'DejaVu Sans Mono',consolas,'Courier New',monospace\">Processing Record <span style=\"color: #008080; text-decoration-color: #008080; font-weight: bold\">9</span> of Set <span style=\"color: #008080; text-decoration-color: #008080; font-weight: bold\">3</span> | shubarshi\n",
       "</pre>\n"
      ],
      "text/plain": [
       "Processing Record \u001b[1;36m9\u001b[0m of Set \u001b[1;36m3\u001b[0m | shubarshi\n"
      ]
     },
     "metadata": {},
     "output_type": "display_data"
    },
    {
     "data": {
      "text/html": [
       "<pre style=\"white-space:pre;overflow-x:auto;line-height:normal;font-family:Menlo,'DejaVu Sans Mono',consolas,'Courier New',monospace\">Processing Record <span style=\"color: #008080; text-decoration-color: #008080; font-weight: bold\">10</span> of Set <span style=\"color: #008080; text-decoration-color: #008080; font-weight: bold\">3</span> | saudarkrokur\n",
       "</pre>\n"
      ],
      "text/plain": [
       "Processing Record \u001b[1;36m10\u001b[0m of Set \u001b[1;36m3\u001b[0m | saudarkrokur\n"
      ]
     },
     "metadata": {},
     "output_type": "display_data"
    },
    {
     "data": {
      "text/html": [
       "<pre style=\"white-space:pre;overflow-x:auto;line-height:normal;font-family:Menlo,'DejaVu Sans Mono',consolas,'Courier New',monospace\">Processing Record <span style=\"color: #008080; text-decoration-color: #008080; font-weight: bold\">11</span> of Set <span style=\"color: #008080; text-decoration-color: #008080; font-weight: bold\">3</span> | iquique\n",
       "</pre>\n"
      ],
      "text/plain": [
       "Processing Record \u001b[1;36m11\u001b[0m of Set \u001b[1;36m3\u001b[0m | iquique\n"
      ]
     },
     "metadata": {},
     "output_type": "display_data"
    },
    {
     "data": {
      "text/html": [
       "<pre style=\"white-space:pre;overflow-x:auto;line-height:normal;font-family:Menlo,'DejaVu Sans Mono',consolas,'Courier New',monospace\">Processing Record <span style=\"color: #008080; text-decoration-color: #008080; font-weight: bold\">12</span> of Set <span style=\"color: #008080; text-decoration-color: #008080; font-weight: bold\">3</span> | roxas\n",
       "</pre>\n"
      ],
      "text/plain": [
       "Processing Record \u001b[1;36m12\u001b[0m of Set \u001b[1;36m3\u001b[0m | roxas\n"
      ]
     },
     "metadata": {},
     "output_type": "display_data"
    },
    {
     "data": {
      "text/html": [
       "<pre style=\"white-space:pre;overflow-x:auto;line-height:normal;font-family:Menlo,'DejaVu Sans Mono',consolas,'Courier New',monospace\">Processing Record <span style=\"color: #008080; text-decoration-color: #008080; font-weight: bold\">13</span> of Set <span style=\"color: #008080; text-decoration-color: #008080; font-weight: bold\">3</span> | fale old settlement\n",
       "</pre>\n"
      ],
      "text/plain": [
       "Processing Record \u001b[1;36m13\u001b[0m of Set \u001b[1;36m3\u001b[0m | fale old settlement\n"
      ]
     },
     "metadata": {},
     "output_type": "display_data"
    },
    {
     "data": {
      "text/html": [
       "<pre style=\"white-space:pre;overflow-x:auto;line-height:normal;font-family:Menlo,'DejaVu Sans Mono',consolas,'Courier New',monospace\">Processing Record <span style=\"color: #008080; text-decoration-color: #008080; font-weight: bold\">14</span> of Set <span style=\"color: #008080; text-decoration-color: #008080; font-weight: bold\">3</span> | kingston\n",
       "</pre>\n"
      ],
      "text/plain": [
       "Processing Record \u001b[1;36m14\u001b[0m of Set \u001b[1;36m3\u001b[0m | kingston\n"
      ]
     },
     "metadata": {},
     "output_type": "display_data"
    },
    {
     "data": {
      "text/html": [
       "<pre style=\"white-space:pre;overflow-x:auto;line-height:normal;font-family:Menlo,'DejaVu Sans Mono',consolas,'Courier New',monospace\">Processing Record <span style=\"color: #008080; text-decoration-color: #008080; font-weight: bold\">15</span> of Set <span style=\"color: #008080; text-decoration-color: #008080; font-weight: bold\">3</span> | ramnicu valcea\n",
       "</pre>\n"
      ],
      "text/plain": [
       "Processing Record \u001b[1;36m15\u001b[0m of Set \u001b[1;36m3\u001b[0m | ramnicu valcea\n"
      ]
     },
     "metadata": {},
     "output_type": "display_data"
    },
    {
     "data": {
      "text/html": [
       "<pre style=\"white-space:pre;overflow-x:auto;line-height:normal;font-family:Menlo,'DejaVu Sans Mono',consolas,'Courier New',monospace\">Processing Record <span style=\"color: #008080; text-decoration-color: #008080; font-weight: bold\">16</span> of Set <span style=\"color: #008080; text-decoration-color: #008080; font-weight: bold\">3</span> | itaituba\n",
       "</pre>\n"
      ],
      "text/plain": [
       "Processing Record \u001b[1;36m16\u001b[0m of Set \u001b[1;36m3\u001b[0m | itaituba\n"
      ]
     },
     "metadata": {},
     "output_type": "display_data"
    },
    {
     "data": {
      "text/html": [
       "<pre style=\"white-space:pre;overflow-x:auto;line-height:normal;font-family:Menlo,'DejaVu Sans Mono',consolas,'Courier New',monospace\">Processing Record <span style=\"color: #008080; text-decoration-color: #008080; font-weight: bold\">17</span> of Set <span style=\"color: #008080; text-decoration-color: #008080; font-weight: bold\">3</span> | berdigestyakh\n",
       "</pre>\n"
      ],
      "text/plain": [
       "Processing Record \u001b[1;36m17\u001b[0m of Set \u001b[1;36m3\u001b[0m | berdigestyakh\n"
      ]
     },
     "metadata": {},
     "output_type": "display_data"
    },
    {
     "data": {
      "text/html": [
       "<pre style=\"white-space:pre;overflow-x:auto;line-height:normal;font-family:Menlo,'DejaVu Sans Mono',consolas,'Courier New',monospace\">Processing Record <span style=\"color: #008080; text-decoration-color: #008080; font-weight: bold\">18</span> of Set <span style=\"color: #008080; text-decoration-color: #008080; font-weight: bold\">3</span> | kenai\n",
       "</pre>\n"
      ],
      "text/plain": [
       "Processing Record \u001b[1;36m18\u001b[0m of Set \u001b[1;36m3\u001b[0m | kenai\n"
      ]
     },
     "metadata": {},
     "output_type": "display_data"
    },
    {
     "data": {
      "text/html": [
       "<pre style=\"white-space:pre;overflow-x:auto;line-height:normal;font-family:Menlo,'DejaVu Sans Mono',consolas,'Courier New',monospace\">Processing Record <span style=\"color: #008080; text-decoration-color: #008080; font-weight: bold\">19</span> of Set <span style=\"color: #008080; text-decoration-color: #008080; font-weight: bold\">3</span> | naranjos\n",
       "</pre>\n"
      ],
      "text/plain": [
       "Processing Record \u001b[1;36m19\u001b[0m of Set \u001b[1;36m3\u001b[0m | naranjos\n"
      ]
     },
     "metadata": {},
     "output_type": "display_data"
    },
    {
     "data": {
      "text/html": [
       "<pre style=\"white-space:pre;overflow-x:auto;line-height:normal;font-family:Menlo,'DejaVu Sans Mono',consolas,'Courier New',monospace\">Processing Record <span style=\"color: #008080; text-decoration-color: #008080; font-weight: bold\">20</span> of Set <span style=\"color: #008080; text-decoration-color: #008080; font-weight: bold\">3</span> | petropavlovsk-kamchatsky\n",
       "</pre>\n"
      ],
      "text/plain": [
       "Processing Record \u001b[1;36m20\u001b[0m of Set \u001b[1;36m3\u001b[0m | petropavlovsk-kamchatsky\n"
      ]
     },
     "metadata": {},
     "output_type": "display_data"
    },
    {
     "data": {
      "text/html": [
       "<pre style=\"white-space:pre;overflow-x:auto;line-height:normal;font-family:Menlo,'DejaVu Sans Mono',consolas,'Courier New',monospace\">Processing Record <span style=\"color: #008080; text-decoration-color: #008080; font-weight: bold\">21</span> of Set <span style=\"color: #008080; text-decoration-color: #008080; font-weight: bold\">3</span> | juegang\n",
       "</pre>\n"
      ],
      "text/plain": [
       "Processing Record \u001b[1;36m21\u001b[0m of Set \u001b[1;36m3\u001b[0m | juegang\n"
      ]
     },
     "metadata": {},
     "output_type": "display_data"
    },
    {
     "data": {
      "text/html": [
       "<pre style=\"white-space:pre;overflow-x:auto;line-height:normal;font-family:Menlo,'DejaVu Sans Mono',consolas,'Courier New',monospace\">Processing Record <span style=\"color: #008080; text-decoration-color: #008080; font-weight: bold\">22</span> of Set <span style=\"color: #008080; text-decoration-color: #008080; font-weight: bold\">3</span> | moses lake\n",
       "</pre>\n"
      ],
      "text/plain": [
       "Processing Record \u001b[1;36m22\u001b[0m of Set \u001b[1;36m3\u001b[0m | moses lake\n"
      ]
     },
     "metadata": {},
     "output_type": "display_data"
    },
    {
     "data": {
      "text/html": [
       "<pre style=\"white-space:pre;overflow-x:auto;line-height:normal;font-family:Menlo,'DejaVu Sans Mono',consolas,'Courier New',monospace\">Processing Record <span style=\"color: #008080; text-decoration-color: #008080; font-weight: bold\">23</span> of Set <span style=\"color: #008080; text-decoration-color: #008080; font-weight: bold\">3</span> | chok chai\n",
       "</pre>\n"
      ],
      "text/plain": [
       "Processing Record \u001b[1;36m23\u001b[0m of Set \u001b[1;36m3\u001b[0m | chok chai\n"
      ]
     },
     "metadata": {},
     "output_type": "display_data"
    },
    {
     "data": {
      "text/html": [
       "<pre style=\"white-space:pre;overflow-x:auto;line-height:normal;font-family:Menlo,'DejaVu Sans Mono',consolas,'Courier New',monospace\">Processing Record <span style=\"color: #008080; text-decoration-color: #008080; font-weight: bold\">24</span> of Set <span style=\"color: #008080; text-decoration-color: #008080; font-weight: bold\">3</span> | karratha\n",
       "</pre>\n"
      ],
      "text/plain": [
       "Processing Record \u001b[1;36m24\u001b[0m of Set \u001b[1;36m3\u001b[0m | karratha\n"
      ]
     },
     "metadata": {},
     "output_type": "display_data"
    },
    {
     "data": {
      "text/html": [
       "<pre style=\"white-space:pre;overflow-x:auto;line-height:normal;font-family:Menlo,'DejaVu Sans Mono',consolas,'Courier New',monospace\">Processing Record <span style=\"color: #008080; text-decoration-color: #008080; font-weight: bold\">25</span> of Set <span style=\"color: #008080; text-decoration-color: #008080; font-weight: bold\">3</span> | el hadjira\n",
       "</pre>\n"
      ],
      "text/plain": [
       "Processing Record \u001b[1;36m25\u001b[0m of Set \u001b[1;36m3\u001b[0m | el hadjira\n"
      ]
     },
     "metadata": {},
     "output_type": "display_data"
    },
    {
     "data": {
      "text/html": [
       "<pre style=\"white-space:pre;overflow-x:auto;line-height:normal;font-family:Menlo,'DejaVu Sans Mono',consolas,'Courier New',monospace\">Processing Record <span style=\"color: #008080; text-decoration-color: #008080; font-weight: bold\">26</span> of Set <span style=\"color: #008080; text-decoration-color: #008080; font-weight: bold\">3</span> | tranovaho\n",
       "</pre>\n"
      ],
      "text/plain": [
       "Processing Record \u001b[1;36m26\u001b[0m of Set \u001b[1;36m3\u001b[0m | tranovaho\n"
      ]
     },
     "metadata": {},
     "output_type": "display_data"
    },
    {
     "data": {
      "text/html": [
       "<pre style=\"white-space:pre;overflow-x:auto;line-height:normal;font-family:Menlo,'DejaVu Sans Mono',consolas,'Courier New',monospace\">City not found. Skipping<span style=\"color: #808000; text-decoration-color: #808000\">...</span>\n",
       "</pre>\n"
      ],
      "text/plain": [
       "City not found. Skipping\u001b[33m...\u001b[0m\n"
      ]
     },
     "metadata": {},
     "output_type": "display_data"
    },
    {
     "data": {
      "text/html": [
       "<pre style=\"white-space:pre;overflow-x:auto;line-height:normal;font-family:Menlo,'DejaVu Sans Mono',consolas,'Courier New',monospace\">Processing Record <span style=\"color: #008080; text-decoration-color: #008080; font-weight: bold\">27</span> of Set <span style=\"color: #008080; text-decoration-color: #008080; font-weight: bold\">3</span> | chapel allerton\n",
       "</pre>\n"
      ],
      "text/plain": [
       "Processing Record \u001b[1;36m27\u001b[0m of Set \u001b[1;36m3\u001b[0m | chapel allerton\n"
      ]
     },
     "metadata": {},
     "output_type": "display_data"
    },
    {
     "data": {
      "text/html": [
       "<pre style=\"white-space:pre;overflow-x:auto;line-height:normal;font-family:Menlo,'DejaVu Sans Mono',consolas,'Courier New',monospace\">Processing Record <span style=\"color: #008080; text-decoration-color: #008080; font-weight: bold\">28</span> of Set <span style=\"color: #008080; text-decoration-color: #008080; font-weight: bold\">3</span> | utrik\n",
       "</pre>\n"
      ],
      "text/plain": [
       "Processing Record \u001b[1;36m28\u001b[0m of Set \u001b[1;36m3\u001b[0m | utrik\n"
      ]
     },
     "metadata": {},
     "output_type": "display_data"
    },
    {
     "data": {
      "text/html": [
       "<pre style=\"white-space:pre;overflow-x:auto;line-height:normal;font-family:Menlo,'DejaVu Sans Mono',consolas,'Courier New',monospace\">Processing Record <span style=\"color: #008080; text-decoration-color: #008080; font-weight: bold\">29</span> of Set <span style=\"color: #008080; text-decoration-color: #008080; font-weight: bold\">3</span> | uturoa\n",
       "</pre>\n"
      ],
      "text/plain": [
       "Processing Record \u001b[1;36m29\u001b[0m of Set \u001b[1;36m3\u001b[0m | uturoa\n"
      ]
     },
     "metadata": {},
     "output_type": "display_data"
    },
    {
     "data": {
      "text/html": [
       "<pre style=\"white-space:pre;overflow-x:auto;line-height:normal;font-family:Menlo,'DejaVu Sans Mono',consolas,'Courier New',monospace\">Processing Record <span style=\"color: #008080; text-decoration-color: #008080; font-weight: bold\">30</span> of Set <span style=\"color: #008080; text-decoration-color: #008080; font-weight: bold\">3</span> | st. john's\n",
       "</pre>\n"
      ],
      "text/plain": [
       "Processing Record \u001b[1;36m30\u001b[0m of Set \u001b[1;36m3\u001b[0m | st. john's\n"
      ]
     },
     "metadata": {},
     "output_type": "display_data"
    },
    {
     "data": {
      "text/html": [
       "<pre style=\"white-space:pre;overflow-x:auto;line-height:normal;font-family:Menlo,'DejaVu Sans Mono',consolas,'Courier New',monospace\">Processing Record <span style=\"color: #008080; text-decoration-color: #008080; font-weight: bold\">31</span> of Set <span style=\"color: #008080; text-decoration-color: #008080; font-weight: bold\">3</span> | anupgarh\n",
       "</pre>\n"
      ],
      "text/plain": [
       "Processing Record \u001b[1;36m31\u001b[0m of Set \u001b[1;36m3\u001b[0m | anupgarh\n"
      ]
     },
     "metadata": {},
     "output_type": "display_data"
    },
    {
     "data": {
      "text/html": [
       "<pre style=\"white-space:pre;overflow-x:auto;line-height:normal;font-family:Menlo,'DejaVu Sans Mono',consolas,'Courier New',monospace\">Processing Record <span style=\"color: #008080; text-decoration-color: #008080; font-weight: bold\">32</span> of Set <span style=\"color: #008080; text-decoration-color: #008080; font-weight: bold\">3</span> | papatowai\n",
       "</pre>\n"
      ],
      "text/plain": [
       "Processing Record \u001b[1;36m32\u001b[0m of Set \u001b[1;36m3\u001b[0m | papatowai\n"
      ]
     },
     "metadata": {},
     "output_type": "display_data"
    },
    {
     "data": {
      "text/html": [
       "<pre style=\"white-space:pre;overflow-x:auto;line-height:normal;font-family:Menlo,'DejaVu Sans Mono',consolas,'Courier New',monospace\">Processing Record <span style=\"color: #008080; text-decoration-color: #008080; font-weight: bold\">33</span> of Set <span style=\"color: #008080; text-decoration-color: #008080; font-weight: bold\">3</span> | saipan\n",
       "</pre>\n"
      ],
      "text/plain": [
       "Processing Record \u001b[1;36m33\u001b[0m of Set \u001b[1;36m3\u001b[0m | saipan\n"
      ]
     },
     "metadata": {},
     "output_type": "display_data"
    },
    {
     "data": {
      "text/html": [
       "<pre style=\"white-space:pre;overflow-x:auto;line-height:normal;font-family:Menlo,'DejaVu Sans Mono',consolas,'Courier New',monospace\">Processing Record <span style=\"color: #008080; text-decoration-color: #008080; font-weight: bold\">34</span> of Set <span style=\"color: #008080; text-decoration-color: #008080; font-weight: bold\">3</span> | thompson\n",
       "</pre>\n"
      ],
      "text/plain": [
       "Processing Record \u001b[1;36m34\u001b[0m of Set \u001b[1;36m3\u001b[0m | thompson\n"
      ]
     },
     "metadata": {},
     "output_type": "display_data"
    },
    {
     "data": {
      "text/html": [
       "<pre style=\"white-space:pre;overflow-x:auto;line-height:normal;font-family:Menlo,'DejaVu Sans Mono',consolas,'Courier New',monospace\">Processing Record <span style=\"color: #008080; text-decoration-color: #008080; font-weight: bold\">35</span> of Set <span style=\"color: #008080; text-decoration-color: #008080; font-weight: bold\">3</span> | duong dong\n",
       "</pre>\n"
      ],
      "text/plain": [
       "Processing Record \u001b[1;36m35\u001b[0m of Set \u001b[1;36m3\u001b[0m | duong dong\n"
      ]
     },
     "metadata": {},
     "output_type": "display_data"
    },
    {
     "data": {
      "text/html": [
       "<pre style=\"white-space:pre;overflow-x:auto;line-height:normal;font-family:Menlo,'DejaVu Sans Mono',consolas,'Courier New',monospace\">Processing Record <span style=\"color: #008080; text-decoration-color: #008080; font-weight: bold\">36</span> of Set <span style=\"color: #008080; text-decoration-color: #008080; font-weight: bold\">3</span> | puerto deseado\n",
       "</pre>\n"
      ],
      "text/plain": [
       "Processing Record \u001b[1;36m36\u001b[0m of Set \u001b[1;36m3\u001b[0m | puerto deseado\n"
      ]
     },
     "metadata": {},
     "output_type": "display_data"
    },
    {
     "data": {
      "text/html": [
       "<pre style=\"white-space:pre;overflow-x:auto;line-height:normal;font-family:Menlo,'DejaVu Sans Mono',consolas,'Courier New',monospace\">Processing Record <span style=\"color: #008080; text-decoration-color: #008080; font-weight: bold\">37</span> of Set <span style=\"color: #008080; text-decoration-color: #008080; font-weight: bold\">3</span> | deogarh\n",
       "</pre>\n"
      ],
      "text/plain": [
       "Processing Record \u001b[1;36m37\u001b[0m of Set \u001b[1;36m3\u001b[0m | deogarh\n"
      ]
     },
     "metadata": {},
     "output_type": "display_data"
    },
    {
     "data": {
      "text/html": [
       "<pre style=\"white-space:pre;overflow-x:auto;line-height:normal;font-family:Menlo,'DejaVu Sans Mono',consolas,'Courier New',monospace\">Processing Record <span style=\"color: #008080; text-decoration-color: #008080; font-weight: bold\">38</span> of Set <span style=\"color: #008080; text-decoration-color: #008080; font-weight: bold\">3</span> | guerrero negro\n",
       "</pre>\n"
      ],
      "text/plain": [
       "Processing Record \u001b[1;36m38\u001b[0m of Set \u001b[1;36m3\u001b[0m | guerrero negro\n"
      ]
     },
     "metadata": {},
     "output_type": "display_data"
    },
    {
     "data": {
      "text/html": [
       "<pre style=\"white-space:pre;overflow-x:auto;line-height:normal;font-family:Menlo,'DejaVu Sans Mono',consolas,'Courier New',monospace\">Processing Record <span style=\"color: #008080; text-decoration-color: #008080; font-weight: bold\">39</span> of Set <span style=\"color: #008080; text-decoration-color: #008080; font-weight: bold\">3</span> | edinburgh of the seven seas\n",
       "</pre>\n"
      ],
      "text/plain": [
       "Processing Record \u001b[1;36m39\u001b[0m of Set \u001b[1;36m3\u001b[0m | edinburgh of the seven seas\n"
      ]
     },
     "metadata": {},
     "output_type": "display_data"
    },
    {
     "data": {
      "text/html": [
       "<pre style=\"white-space:pre;overflow-x:auto;line-height:normal;font-family:Menlo,'DejaVu Sans Mono',consolas,'Courier New',monospace\">Processing Record <span style=\"color: #008080; text-decoration-color: #008080; font-weight: bold\">40</span> of Set <span style=\"color: #008080; text-decoration-color: #008080; font-weight: bold\">3</span> | island harbour\n",
       "</pre>\n"
      ],
      "text/plain": [
       "Processing Record \u001b[1;36m40\u001b[0m of Set \u001b[1;36m3\u001b[0m | island harbour\n"
      ]
     },
     "metadata": {},
     "output_type": "display_data"
    },
    {
     "data": {
      "text/html": [
       "<pre style=\"white-space:pre;overflow-x:auto;line-height:normal;font-family:Menlo,'DejaVu Sans Mono',consolas,'Courier New',monospace\">Processing Record <span style=\"color: #008080; text-decoration-color: #008080; font-weight: bold\">41</span> of Set <span style=\"color: #008080; text-decoration-color: #008080; font-weight: bold\">3</span> | college\n",
       "</pre>\n"
      ],
      "text/plain": [
       "Processing Record \u001b[1;36m41\u001b[0m of Set \u001b[1;36m3\u001b[0m | college\n"
      ]
     },
     "metadata": {},
     "output_type": "display_data"
    },
    {
     "data": {
      "text/html": [
       "<pre style=\"white-space:pre;overflow-x:auto;line-height:normal;font-family:Menlo,'DejaVu Sans Mono',consolas,'Courier New',monospace\">Processing Record <span style=\"color: #008080; text-decoration-color: #008080; font-weight: bold\">42</span> of Set <span style=\"color: #008080; text-decoration-color: #008080; font-weight: bold\">3</span> | choele choel\n",
       "</pre>\n"
      ],
      "text/plain": [
       "Processing Record \u001b[1;36m42\u001b[0m of Set \u001b[1;36m3\u001b[0m | choele choel\n"
      ]
     },
     "metadata": {},
     "output_type": "display_data"
    },
    {
     "data": {
      "text/html": [
       "<pre style=\"white-space:pre;overflow-x:auto;line-height:normal;font-family:Menlo,'DejaVu Sans Mono',consolas,'Courier New',monospace\">Processing Record <span style=\"color: #008080; text-decoration-color: #008080; font-weight: bold\">43</span> of Set <span style=\"color: #008080; text-decoration-color: #008080; font-weight: bold\">3</span> | puerto baquerizo moreno\n",
       "</pre>\n"
      ],
      "text/plain": [
       "Processing Record \u001b[1;36m43\u001b[0m of Set \u001b[1;36m3\u001b[0m | puerto baquerizo moreno\n"
      ]
     },
     "metadata": {},
     "output_type": "display_data"
    },
    {
     "data": {
      "text/html": [
       "<pre style=\"white-space:pre;overflow-x:auto;line-height:normal;font-family:Menlo,'DejaVu Sans Mono',consolas,'Courier New',monospace\">Processing Record <span style=\"color: #008080; text-decoration-color: #008080; font-weight: bold\">44</span> of Set <span style=\"color: #008080; text-decoration-color: #008080; font-weight: bold\">3</span> | sitka\n",
       "</pre>\n"
      ],
      "text/plain": [
       "Processing Record \u001b[1;36m44\u001b[0m of Set \u001b[1;36m3\u001b[0m | sitka\n"
      ]
     },
     "metadata": {},
     "output_type": "display_data"
    },
    {
     "data": {
      "text/html": [
       "<pre style=\"white-space:pre;overflow-x:auto;line-height:normal;font-family:Menlo,'DejaVu Sans Mono',consolas,'Courier New',monospace\">Processing Record <span style=\"color: #008080; text-decoration-color: #008080; font-weight: bold\">45</span> of Set <span style=\"color: #008080; text-decoration-color: #008080; font-weight: bold\">3</span> | tevriz\n",
       "</pre>\n"
      ],
      "text/plain": [
       "Processing Record \u001b[1;36m45\u001b[0m of Set \u001b[1;36m3\u001b[0m | tevriz\n"
      ]
     },
     "metadata": {},
     "output_type": "display_data"
    },
    {
     "data": {
      "text/html": [
       "<pre style=\"white-space:pre;overflow-x:auto;line-height:normal;font-family:Menlo,'DejaVu Sans Mono',consolas,'Courier New',monospace\">Processing Record <span style=\"color: #008080; text-decoration-color: #008080; font-weight: bold\">46</span> of Set <span style=\"color: #008080; text-decoration-color: #008080; font-weight: bold\">3</span> | afaahiti\n",
       "</pre>\n"
      ],
      "text/plain": [
       "Processing Record \u001b[1;36m46\u001b[0m of Set \u001b[1;36m3\u001b[0m | afaahiti\n"
      ]
     },
     "metadata": {},
     "output_type": "display_data"
    },
    {
     "data": {
      "text/html": [
       "<pre style=\"white-space:pre;overflow-x:auto;line-height:normal;font-family:Menlo,'DejaVu Sans Mono',consolas,'Courier New',monospace\">Processing Record <span style=\"color: #008080; text-decoration-color: #008080; font-weight: bold\">47</span> of Set <span style=\"color: #008080; text-decoration-color: #008080; font-weight: bold\">3</span> | afif\n",
       "</pre>\n"
      ],
      "text/plain": [
       "Processing Record \u001b[1;36m47\u001b[0m of Set \u001b[1;36m3\u001b[0m | afif\n"
      ]
     },
     "metadata": {},
     "output_type": "display_data"
    },
    {
     "data": {
      "text/html": [
       "<pre style=\"white-space:pre;overflow-x:auto;line-height:normal;font-family:Menlo,'DejaVu Sans Mono',consolas,'Courier New',monospace\">Processing Record <span style=\"color: #008080; text-decoration-color: #008080; font-weight: bold\">48</span> of Set <span style=\"color: #008080; text-decoration-color: #008080; font-weight: bold\">3</span> | palikir - national government center\n",
       "</pre>\n"
      ],
      "text/plain": [
       "Processing Record \u001b[1;36m48\u001b[0m of Set \u001b[1;36m3\u001b[0m | palikir - national government center\n"
      ]
     },
     "metadata": {},
     "output_type": "display_data"
    },
    {
     "data": {
      "text/html": [
       "<pre style=\"white-space:pre;overflow-x:auto;line-height:normal;font-family:Menlo,'DejaVu Sans Mono',consolas,'Courier New',monospace\">Processing Record <span style=\"color: #008080; text-decoration-color: #008080; font-weight: bold\">49</span> of Set <span style=\"color: #008080; text-decoration-color: #008080; font-weight: bold\">3</span> | qaqortoq\n",
       "</pre>\n"
      ],
      "text/plain": [
       "Processing Record \u001b[1;36m49\u001b[0m of Set \u001b[1;36m3\u001b[0m | qaqortoq\n"
      ]
     },
     "metadata": {},
     "output_type": "display_data"
    },
    {
     "data": {
      "text/html": [
       "<pre style=\"white-space:pre;overflow-x:auto;line-height:normal;font-family:Menlo,'DejaVu Sans Mono',consolas,'Courier New',monospace\">Processing Record <span style=\"color: #008080; text-decoration-color: #008080; font-weight: bold\">0</span> of Set <span style=\"color: #008080; text-decoration-color: #008080; font-weight: bold\">4</span> | kajaani\n",
       "</pre>\n"
      ],
      "text/plain": [
       "Processing Record \u001b[1;36m0\u001b[0m of Set \u001b[1;36m4\u001b[0m | kajaani\n"
      ]
     },
     "metadata": {},
     "output_type": "display_data"
    },
    {
     "data": {
      "text/html": [
       "<pre style=\"white-space:pre;overflow-x:auto;line-height:normal;font-family:Menlo,'DejaVu Sans Mono',consolas,'Courier New',monospace\">Processing Record <span style=\"color: #008080; text-decoration-color: #008080; font-weight: bold\">1</span> of Set <span style=\"color: #008080; text-decoration-color: #008080; font-weight: bold\">4</span> | sola\n",
       "</pre>\n"
      ],
      "text/plain": [
       "Processing Record \u001b[1;36m1\u001b[0m of Set \u001b[1;36m4\u001b[0m | sola\n"
      ]
     },
     "metadata": {},
     "output_type": "display_data"
    },
    {
     "data": {
      "text/html": [
       "<pre style=\"white-space:pre;overflow-x:auto;line-height:normal;font-family:Menlo,'DejaVu Sans Mono',consolas,'Courier New',monospace\">Processing Record <span style=\"color: #008080; text-decoration-color: #008080; font-weight: bold\">2</span> of Set <span style=\"color: #008080; text-decoration-color: #008080; font-weight: bold\">4</span> | saint-philippe\n",
       "</pre>\n"
      ],
      "text/plain": [
       "Processing Record \u001b[1;36m2\u001b[0m of Set \u001b[1;36m4\u001b[0m | saint-philippe\n"
      ]
     },
     "metadata": {},
     "output_type": "display_data"
    },
    {
     "data": {
      "text/html": [
       "<pre style=\"white-space:pre;overflow-x:auto;line-height:normal;font-family:Menlo,'DejaVu Sans Mono',consolas,'Courier New',monospace\">Processing Record <span style=\"color: #008080; text-decoration-color: #008080; font-weight: bold\">3</span> of Set <span style=\"color: #008080; text-decoration-color: #008080; font-weight: bold\">4</span> | aasiaat\n",
       "</pre>\n"
      ],
      "text/plain": [
       "Processing Record \u001b[1;36m3\u001b[0m of Set \u001b[1;36m4\u001b[0m | aasiaat\n"
      ]
     },
     "metadata": {},
     "output_type": "display_data"
    },
    {
     "data": {
      "text/html": [
       "<pre style=\"white-space:pre;overflow-x:auto;line-height:normal;font-family:Menlo,'DejaVu Sans Mono',consolas,'Courier New',monospace\">Processing Record <span style=\"color: #008080; text-decoration-color: #008080; font-weight: bold\">4</span> of Set <span style=\"color: #008080; text-decoration-color: #008080; font-weight: bold\">4</span> | krutinka\n",
       "</pre>\n"
      ],
      "text/plain": [
       "Processing Record \u001b[1;36m4\u001b[0m of Set \u001b[1;36m4\u001b[0m | krutinka\n"
      ]
     },
     "metadata": {},
     "output_type": "display_data"
    },
    {
     "data": {
      "text/html": [
       "<pre style=\"white-space:pre;overflow-x:auto;line-height:normal;font-family:Menlo,'DejaVu Sans Mono',consolas,'Courier New',monospace\">Processing Record <span style=\"color: #008080; text-decoration-color: #008080; font-weight: bold\">5</span> of Set <span style=\"color: #008080; text-decoration-color: #008080; font-weight: bold\">4</span> | buala\n",
       "</pre>\n"
      ],
      "text/plain": [
       "Processing Record \u001b[1;36m5\u001b[0m of Set \u001b[1;36m4\u001b[0m | buala\n"
      ]
     },
     "metadata": {},
     "output_type": "display_data"
    },
    {
     "data": {
      "text/html": [
       "<pre style=\"white-space:pre;overflow-x:auto;line-height:normal;font-family:Menlo,'DejaVu Sans Mono',consolas,'Courier New',monospace\">Processing Record <span style=\"color: #008080; text-decoration-color: #008080; font-weight: bold\">6</span> of Set <span style=\"color: #008080; text-decoration-color: #008080; font-weight: bold\">4</span> | kununurra\n",
       "</pre>\n"
      ],
      "text/plain": [
       "Processing Record \u001b[1;36m6\u001b[0m of Set \u001b[1;36m4\u001b[0m | kununurra\n"
      ]
     },
     "metadata": {},
     "output_type": "display_data"
    },
    {
     "data": {
      "text/html": [
       "<pre style=\"white-space:pre;overflow-x:auto;line-height:normal;font-family:Menlo,'DejaVu Sans Mono',consolas,'Courier New',monospace\">Processing Record <span style=\"color: #008080; text-decoration-color: #008080; font-weight: bold\">7</span> of Set <span style=\"color: #008080; text-decoration-color: #008080; font-weight: bold\">4</span> | bethanie\n",
       "</pre>\n"
      ],
      "text/plain": [
       "Processing Record \u001b[1;36m7\u001b[0m of Set \u001b[1;36m4\u001b[0m | bethanie\n"
      ]
     },
     "metadata": {},
     "output_type": "display_data"
    },
    {
     "data": {
      "text/html": [
       "<pre style=\"white-space:pre;overflow-x:auto;line-height:normal;font-family:Menlo,'DejaVu Sans Mono',consolas,'Courier New',monospace\">Processing Record <span style=\"color: #008080; text-decoration-color: #008080; font-weight: bold\">8</span> of Set <span style=\"color: #008080; text-decoration-color: #008080; font-weight: bold\">4</span> | aden\n",
       "</pre>\n"
      ],
      "text/plain": [
       "Processing Record \u001b[1;36m8\u001b[0m of Set \u001b[1;36m4\u001b[0m | aden\n"
      ]
     },
     "metadata": {},
     "output_type": "display_data"
    },
    {
     "data": {
      "text/html": [
       "<pre style=\"white-space:pre;overflow-x:auto;line-height:normal;font-family:Menlo,'DejaVu Sans Mono',consolas,'Courier New',monospace\">Processing Record <span style=\"color: #008080; text-decoration-color: #008080; font-weight: bold\">9</span> of Set <span style=\"color: #008080; text-decoration-color: #008080; font-weight: bold\">4</span> | quellon\n",
       "</pre>\n"
      ],
      "text/plain": [
       "Processing Record \u001b[1;36m9\u001b[0m of Set \u001b[1;36m4\u001b[0m | quellon\n"
      ]
     },
     "metadata": {},
     "output_type": "display_data"
    },
    {
     "data": {
      "text/html": [
       "<pre style=\"white-space:pre;overflow-x:auto;line-height:normal;font-family:Menlo,'DejaVu Sans Mono',consolas,'Courier New',monospace\">Processing Record <span style=\"color: #008080; text-decoration-color: #008080; font-weight: bold\">10</span> of Set <span style=\"color: #008080; text-decoration-color: #008080; font-weight: bold\">4</span> | manokwari\n",
       "</pre>\n"
      ],
      "text/plain": [
       "Processing Record \u001b[1;36m10\u001b[0m of Set \u001b[1;36m4\u001b[0m | manokwari\n"
      ]
     },
     "metadata": {},
     "output_type": "display_data"
    },
    {
     "data": {
      "text/html": [
       "<pre style=\"white-space:pre;overflow-x:auto;line-height:normal;font-family:Menlo,'DejaVu Sans Mono',consolas,'Courier New',monospace\">Processing Record <span style=\"color: #008080; text-decoration-color: #008080; font-weight: bold\">11</span> of Set <span style=\"color: #008080; text-decoration-color: #008080; font-weight: bold\">4</span> | amos\n",
       "</pre>\n"
      ],
      "text/plain": [
       "Processing Record \u001b[1;36m11\u001b[0m of Set \u001b[1;36m4\u001b[0m | amos\n"
      ]
     },
     "metadata": {},
     "output_type": "display_data"
    },
    {
     "data": {
      "text/html": [
       "<pre style=\"white-space:pre;overflow-x:auto;line-height:normal;font-family:Menlo,'DejaVu Sans Mono',consolas,'Courier New',monospace\">Processing Record <span style=\"color: #008080; text-decoration-color: #008080; font-weight: bold\">12</span> of Set <span style=\"color: #008080; text-decoration-color: #008080; font-weight: bold\">4</span> | porto velho\n",
       "</pre>\n"
      ],
      "text/plain": [
       "Processing Record \u001b[1;36m12\u001b[0m of Set \u001b[1;36m4\u001b[0m | porto velho\n"
      ]
     },
     "metadata": {},
     "output_type": "display_data"
    },
    {
     "data": {
      "text/html": [
       "<pre style=\"white-space:pre;overflow-x:auto;line-height:normal;font-family:Menlo,'DejaVu Sans Mono',consolas,'Courier New',monospace\">Processing Record <span style=\"color: #008080; text-decoration-color: #008080; font-weight: bold\">13</span> of Set <span style=\"color: #008080; text-decoration-color: #008080; font-weight: bold\">4</span> | lebu\n",
       "</pre>\n"
      ],
      "text/plain": [
       "Processing Record \u001b[1;36m13\u001b[0m of Set \u001b[1;36m4\u001b[0m | lebu\n"
      ]
     },
     "metadata": {},
     "output_type": "display_data"
    },
    {
     "data": {
      "text/html": [
       "<pre style=\"white-space:pre;overflow-x:auto;line-height:normal;font-family:Menlo,'DejaVu Sans Mono',consolas,'Courier New',monospace\">Processing Record <span style=\"color: #008080; text-decoration-color: #008080; font-weight: bold\">14</span> of Set <span style=\"color: #008080; text-decoration-color: #008080; font-weight: bold\">4</span> | smithers\n",
       "</pre>\n"
      ],
      "text/plain": [
       "Processing Record \u001b[1;36m14\u001b[0m of Set \u001b[1;36m4\u001b[0m | smithers\n"
      ]
     },
     "metadata": {},
     "output_type": "display_data"
    },
    {
     "data": {
      "text/html": [
       "<pre style=\"white-space:pre;overflow-x:auto;line-height:normal;font-family:Menlo,'DejaVu Sans Mono',consolas,'Courier New',monospace\">Processing Record <span style=\"color: #008080; text-decoration-color: #008080; font-weight: bold\">15</span> of Set <span style=\"color: #008080; text-decoration-color: #008080; font-weight: bold\">4</span> | gizo\n",
       "</pre>\n"
      ],
      "text/plain": [
       "Processing Record \u001b[1;36m15\u001b[0m of Set \u001b[1;36m4\u001b[0m | gizo\n"
      ]
     },
     "metadata": {},
     "output_type": "display_data"
    },
    {
     "data": {
      "text/html": [
       "<pre style=\"white-space:pre;overflow-x:auto;line-height:normal;font-family:Menlo,'DejaVu Sans Mono',consolas,'Courier New',monospace\">Processing Record <span style=\"color: #008080; text-decoration-color: #008080; font-weight: bold\">16</span> of Set <span style=\"color: #008080; text-decoration-color: #008080; font-weight: bold\">4</span> | fereydun kenar\n",
       "</pre>\n"
      ],
      "text/plain": [
       "Processing Record \u001b[1;36m16\u001b[0m of Set \u001b[1;36m4\u001b[0m | fereydun kenar\n"
      ]
     },
     "metadata": {},
     "output_type": "display_data"
    },
    {
     "data": {
      "text/html": [
       "<pre style=\"white-space:pre;overflow-x:auto;line-height:normal;font-family:Menlo,'DejaVu Sans Mono',consolas,'Courier New',monospace\">Processing Record <span style=\"color: #008080; text-decoration-color: #008080; font-weight: bold\">17</span> of Set <span style=\"color: #008080; text-decoration-color: #008080; font-weight: bold\">4</span> | malpica\n",
       "</pre>\n"
      ],
      "text/plain": [
       "Processing Record \u001b[1;36m17\u001b[0m of Set \u001b[1;36m4\u001b[0m | malpica\n"
      ]
     },
     "metadata": {},
     "output_type": "display_data"
    },
    {
     "data": {
      "text/html": [
       "<pre style=\"white-space:pre;overflow-x:auto;line-height:normal;font-family:Menlo,'DejaVu Sans Mono',consolas,'Courier New',monospace\">Processing Record <span style=\"color: #008080; text-decoration-color: #008080; font-weight: bold\">18</span> of Set <span style=\"color: #008080; text-decoration-color: #008080; font-weight: bold\">4</span> | barkhan\n",
       "</pre>\n"
      ],
      "text/plain": [
       "Processing Record \u001b[1;36m18\u001b[0m of Set \u001b[1;36m4\u001b[0m | barkhan\n"
      ]
     },
     "metadata": {},
     "output_type": "display_data"
    },
    {
     "data": {
      "text/html": [
       "<pre style=\"white-space:pre;overflow-x:auto;line-height:normal;font-family:Menlo,'DejaVu Sans Mono',consolas,'Courier New',monospace\">Processing Record <span style=\"color: #008080; text-decoration-color: #008080; font-weight: bold\">19</span> of Set <span style=\"color: #008080; text-decoration-color: #008080; font-weight: bold\">4</span> | coquimbo\n",
       "</pre>\n"
      ],
      "text/plain": [
       "Processing Record \u001b[1;36m19\u001b[0m of Set \u001b[1;36m4\u001b[0m | coquimbo\n"
      ]
     },
     "metadata": {},
     "output_type": "display_data"
    },
    {
     "data": {
      "text/html": [
       "<pre style=\"white-space:pre;overflow-x:auto;line-height:normal;font-family:Menlo,'DejaVu Sans Mono',consolas,'Courier New',monospace\">Processing Record <span style=\"color: #008080; text-decoration-color: #008080; font-weight: bold\">20</span> of Set <span style=\"color: #008080; text-decoration-color: #008080; font-weight: bold\">4</span> | port lincoln\n",
       "</pre>\n"
      ],
      "text/plain": [
       "Processing Record \u001b[1;36m20\u001b[0m of Set \u001b[1;36m4\u001b[0m | port lincoln\n"
      ]
     },
     "metadata": {},
     "output_type": "display_data"
    },
    {
     "data": {
      "text/html": [
       "<pre style=\"white-space:pre;overflow-x:auto;line-height:normal;font-family:Menlo,'DejaVu Sans Mono',consolas,'Courier New',monospace\">Processing Record <span style=\"color: #008080; text-decoration-color: #008080; font-weight: bold\">21</span> of Set <span style=\"color: #008080; text-decoration-color: #008080; font-weight: bold\">4</span> | roma\n",
       "</pre>\n"
      ],
      "text/plain": [
       "Processing Record \u001b[1;36m21\u001b[0m of Set \u001b[1;36m4\u001b[0m | roma\n"
      ]
     },
     "metadata": {},
     "output_type": "display_data"
    },
    {
     "data": {
      "text/html": [
       "<pre style=\"white-space:pre;overflow-x:auto;line-height:normal;font-family:Menlo,'DejaVu Sans Mono',consolas,'Courier New',monospace\">Processing Record <span style=\"color: #008080; text-decoration-color: #008080; font-weight: bold\">22</span> of Set <span style=\"color: #008080; text-decoration-color: #008080; font-weight: bold\">4</span> | vylkove\n",
       "</pre>\n"
      ],
      "text/plain": [
       "Processing Record \u001b[1;36m22\u001b[0m of Set \u001b[1;36m4\u001b[0m | vylkove\n"
      ]
     },
     "metadata": {},
     "output_type": "display_data"
    },
    {
     "data": {
      "text/html": [
       "<pre style=\"white-space:pre;overflow-x:auto;line-height:normal;font-family:Menlo,'DejaVu Sans Mono',consolas,'Courier New',monospace\">Processing Record <span style=\"color: #008080; text-decoration-color: #008080; font-weight: bold\">23</span> of Set <span style=\"color: #008080; text-decoration-color: #008080; font-weight: bold\">4</span> | moree\n",
       "</pre>\n"
      ],
      "text/plain": [
       "Processing Record \u001b[1;36m23\u001b[0m of Set \u001b[1;36m4\u001b[0m | moree\n"
      ]
     },
     "metadata": {},
     "output_type": "display_data"
    },
    {
     "data": {
      "text/html": [
       "<pre style=\"white-space:pre;overflow-x:auto;line-height:normal;font-family:Menlo,'DejaVu Sans Mono',consolas,'Courier New',monospace\">Processing Record <span style=\"color: #008080; text-decoration-color: #008080; font-weight: bold\">24</span> of Set <span style=\"color: #008080; text-decoration-color: #008080; font-weight: bold\">4</span> | severobaykal'sk\n",
       "</pre>\n"
      ],
      "text/plain": [
       "Processing Record \u001b[1;36m24\u001b[0m of Set \u001b[1;36m4\u001b[0m | severobaykal'sk\n"
      ]
     },
     "metadata": {},
     "output_type": "display_data"
    },
    {
     "data": {
      "text/html": [
       "<pre style=\"white-space:pre;overflow-x:auto;line-height:normal;font-family:Menlo,'DejaVu Sans Mono',consolas,'Courier New',monospace\">Processing Record <span style=\"color: #008080; text-decoration-color: #008080; font-weight: bold\">25</span> of Set <span style=\"color: #008080; text-decoration-color: #008080; font-weight: bold\">4</span> | nishinoomote\n",
       "</pre>\n"
      ],
      "text/plain": [
       "Processing Record \u001b[1;36m25\u001b[0m of Set \u001b[1;36m4\u001b[0m | nishinoomote\n"
      ]
     },
     "metadata": {},
     "output_type": "display_data"
    },
    {
     "data": {
      "text/html": [
       "<pre style=\"white-space:pre;overflow-x:auto;line-height:normal;font-family:Menlo,'DejaVu Sans Mono',consolas,'Courier New',monospace\">Processing Record <span style=\"color: #008080; text-decoration-color: #008080; font-weight: bold\">26</span> of Set <span style=\"color: #008080; text-decoration-color: #008080; font-weight: bold\">4</span> | la'ie\n",
       "</pre>\n"
      ],
      "text/plain": [
       "Processing Record \u001b[1;36m26\u001b[0m of Set \u001b[1;36m4\u001b[0m | la'ie\n"
      ]
     },
     "metadata": {},
     "output_type": "display_data"
    },
    {
     "data": {
      "text/html": [
       "<pre style=\"white-space:pre;overflow-x:auto;line-height:normal;font-family:Menlo,'DejaVu Sans Mono',consolas,'Courier New',monospace\">Processing Record <span style=\"color: #008080; text-decoration-color: #008080; font-weight: bold\">27</span> of Set <span style=\"color: #008080; text-decoration-color: #008080; font-weight: bold\">4</span> | suomussalmi\n",
       "</pre>\n"
      ],
      "text/plain": [
       "Processing Record \u001b[1;36m27\u001b[0m of Set \u001b[1;36m4\u001b[0m | suomussalmi\n"
      ]
     },
     "metadata": {},
     "output_type": "display_data"
    },
    {
     "data": {
      "text/html": [
       "<pre style=\"white-space:pre;overflow-x:auto;line-height:normal;font-family:Menlo,'DejaVu Sans Mono',consolas,'Courier New',monospace\">Processing Record <span style=\"color: #008080; text-decoration-color: #008080; font-weight: bold\">28</span> of Set <span style=\"color: #008080; text-decoration-color: #008080; font-weight: bold\">4</span> | zinjibar\n",
       "</pre>\n"
      ],
      "text/plain": [
       "Processing Record \u001b[1;36m28\u001b[0m of Set \u001b[1;36m4\u001b[0m | zinjibar\n"
      ]
     },
     "metadata": {},
     "output_type": "display_data"
    },
    {
     "data": {
      "text/html": [
       "<pre style=\"white-space:pre;overflow-x:auto;line-height:normal;font-family:Menlo,'DejaVu Sans Mono',consolas,'Courier New',monospace\">Processing Record <span style=\"color: #008080; text-decoration-color: #008080; font-weight: bold\">29</span> of Set <span style=\"color: #008080; text-decoration-color: #008080; font-weight: bold\">4</span> | ahau\n",
       "</pre>\n"
      ],
      "text/plain": [
       "Processing Record \u001b[1;36m29\u001b[0m of Set \u001b[1;36m4\u001b[0m | ahau\n"
      ]
     },
     "metadata": {},
     "output_type": "display_data"
    },
    {
     "data": {
      "text/html": [
       "<pre style=\"white-space:pre;overflow-x:auto;line-height:normal;font-family:Menlo,'DejaVu Sans Mono',consolas,'Courier New',monospace\">City not found. Skipping<span style=\"color: #808000; text-decoration-color: #808000\">...</span>\n",
       "</pre>\n"
      ],
      "text/plain": [
       "City not found. Skipping\u001b[33m...\u001b[0m\n"
      ]
     },
     "metadata": {},
     "output_type": "display_data"
    },
    {
     "data": {
      "text/html": [
       "<pre style=\"white-space:pre;overflow-x:auto;line-height:normal;font-family:Menlo,'DejaVu Sans Mono',consolas,'Courier New',monospace\">Processing Record <span style=\"color: #008080; text-decoration-color: #008080; font-weight: bold\">30</span> of Set <span style=\"color: #008080; text-decoration-color: #008080; font-weight: bold\">4</span> | ratnagiri\n",
       "</pre>\n"
      ],
      "text/plain": [
       "Processing Record \u001b[1;36m30\u001b[0m of Set \u001b[1;36m4\u001b[0m | ratnagiri\n"
      ]
     },
     "metadata": {},
     "output_type": "display_data"
    },
    {
     "data": {
      "text/html": [
       "<pre style=\"white-space:pre;overflow-x:auto;line-height:normal;font-family:Menlo,'DejaVu Sans Mono',consolas,'Courier New',monospace\">Processing Record <span style=\"color: #008080; text-decoration-color: #008080; font-weight: bold\">31</span> of Set <span style=\"color: #008080; text-decoration-color: #008080; font-weight: bold\">4</span> | khandyga\n",
       "</pre>\n"
      ],
      "text/plain": [
       "Processing Record \u001b[1;36m31\u001b[0m of Set \u001b[1;36m4\u001b[0m | khandyga\n"
      ]
     },
     "metadata": {},
     "output_type": "display_data"
    },
    {
     "data": {
      "text/html": [
       "<pre style=\"white-space:pre;overflow-x:auto;line-height:normal;font-family:Menlo,'DejaVu Sans Mono',consolas,'Courier New',monospace\">Processing Record <span style=\"color: #008080; text-decoration-color: #008080; font-weight: bold\">32</span> of Set <span style=\"color: #008080; text-decoration-color: #008080; font-weight: bold\">4</span> | lompoc\n",
       "</pre>\n"
      ],
      "text/plain": [
       "Processing Record \u001b[1;36m32\u001b[0m of Set \u001b[1;36m4\u001b[0m | lompoc\n"
      ]
     },
     "metadata": {},
     "output_type": "display_data"
    },
    {
     "data": {
      "text/html": [
       "<pre style=\"white-space:pre;overflow-x:auto;line-height:normal;font-family:Menlo,'DejaVu Sans Mono',consolas,'Courier New',monospace\">Processing Record <span style=\"color: #008080; text-decoration-color: #008080; font-weight: bold\">33</span> of Set <span style=\"color: #008080; text-decoration-color: #008080; font-weight: bold\">4</span> | stanley\n",
       "</pre>\n"
      ],
      "text/plain": [
       "Processing Record \u001b[1;36m33\u001b[0m of Set \u001b[1;36m4\u001b[0m | stanley\n"
      ]
     },
     "metadata": {},
     "output_type": "display_data"
    },
    {
     "data": {
      "text/html": [
       "<pre style=\"white-space:pre;overflow-x:auto;line-height:normal;font-family:Menlo,'DejaVu Sans Mono',consolas,'Courier New',monospace\">Processing Record <span style=\"color: #008080; text-decoration-color: #008080; font-weight: bold\">34</span> of Set <span style=\"color: #008080; text-decoration-color: #008080; font-weight: bold\">4</span> | port elizabeth\n",
       "</pre>\n"
      ],
      "text/plain": [
       "Processing Record \u001b[1;36m34\u001b[0m of Set \u001b[1;36m4\u001b[0m | port elizabeth\n"
      ]
     },
     "metadata": {},
     "output_type": "display_data"
    },
    {
     "data": {
      "text/html": [
       "<pre style=\"white-space:pre;overflow-x:auto;line-height:normal;font-family:Menlo,'DejaVu Sans Mono',consolas,'Courier New',monospace\">Processing Record <span style=\"color: #008080; text-decoration-color: #008080; font-weight: bold\">35</span> of Set <span style=\"color: #008080; text-decoration-color: #008080; font-weight: bold\">4</span> | port augusta\n",
       "</pre>\n"
      ],
      "text/plain": [
       "Processing Record \u001b[1;36m35\u001b[0m of Set \u001b[1;36m4\u001b[0m | port augusta\n"
      ]
     },
     "metadata": {},
     "output_type": "display_data"
    },
    {
     "data": {
      "text/html": [
       "<pre style=\"white-space:pre;overflow-x:auto;line-height:normal;font-family:Menlo,'DejaVu Sans Mono',consolas,'Courier New',monospace\">Processing Record <span style=\"color: #008080; text-decoration-color: #008080; font-weight: bold\">36</span> of Set <span style=\"color: #008080; text-decoration-color: #008080; font-weight: bold\">4</span> | opuwo\n",
       "</pre>\n"
      ],
      "text/plain": [
       "Processing Record \u001b[1;36m36\u001b[0m of Set \u001b[1;36m4\u001b[0m | opuwo\n"
      ]
     },
     "metadata": {},
     "output_type": "display_data"
    },
    {
     "data": {
      "text/html": [
       "<pre style=\"white-space:pre;overflow-x:auto;line-height:normal;font-family:Menlo,'DejaVu Sans Mono',consolas,'Courier New',monospace\">Processing Record <span style=\"color: #008080; text-decoration-color: #008080; font-weight: bold\">37</span> of Set <span style=\"color: #008080; text-decoration-color: #008080; font-weight: bold\">4</span> | iqaluit\n",
       "</pre>\n"
      ],
      "text/plain": [
       "Processing Record \u001b[1;36m37\u001b[0m of Set \u001b[1;36m4\u001b[0m | iqaluit\n"
      ]
     },
     "metadata": {},
     "output_type": "display_data"
    },
    {
     "data": {
      "text/html": [
       "<pre style=\"white-space:pre;overflow-x:auto;line-height:normal;font-family:Menlo,'DejaVu Sans Mono',consolas,'Courier New',monospace\">Processing Record <span style=\"color: #008080; text-decoration-color: #008080; font-weight: bold\">38</span> of Set <span style=\"color: #008080; text-decoration-color: #008080; font-weight: bold\">4</span> | alesund\n",
       "</pre>\n"
      ],
      "text/plain": [
       "Processing Record \u001b[1;36m38\u001b[0m of Set \u001b[1;36m4\u001b[0m | alesund\n"
      ]
     },
     "metadata": {},
     "output_type": "display_data"
    },
    {
     "data": {
      "text/html": [
       "<pre style=\"white-space:pre;overflow-x:auto;line-height:normal;font-family:Menlo,'DejaVu Sans Mono',consolas,'Courier New',monospace\">Processing Record <span style=\"color: #008080; text-decoration-color: #008080; font-weight: bold\">39</span> of Set <span style=\"color: #008080; text-decoration-color: #008080; font-weight: bold\">4</span> | avila\n",
       "</pre>\n"
      ],
      "text/plain": [
       "Processing Record \u001b[1;36m39\u001b[0m of Set \u001b[1;36m4\u001b[0m | avila\n"
      ]
     },
     "metadata": {},
     "output_type": "display_data"
    },
    {
     "data": {
      "text/html": [
       "<pre style=\"white-space:pre;overflow-x:auto;line-height:normal;font-family:Menlo,'DejaVu Sans Mono',consolas,'Courier New',monospace\">Processing Record <span style=\"color: #008080; text-decoration-color: #008080; font-weight: bold\">40</span> of Set <span style=\"color: #008080; text-decoration-color: #008080; font-weight: bold\">4</span> | ancud\n",
       "</pre>\n"
      ],
      "text/plain": [
       "Processing Record \u001b[1;36m40\u001b[0m of Set \u001b[1;36m4\u001b[0m | ancud\n"
      ]
     },
     "metadata": {},
     "output_type": "display_data"
    },
    {
     "data": {
      "text/html": [
       "<pre style=\"white-space:pre;overflow-x:auto;line-height:normal;font-family:Menlo,'DejaVu Sans Mono',consolas,'Courier New',monospace\">Processing Record <span style=\"color: #008080; text-decoration-color: #008080; font-weight: bold\">41</span> of Set <span style=\"color: #008080; text-decoration-color: #008080; font-weight: bold\">4</span> | san julian\n",
       "</pre>\n"
      ],
      "text/plain": [
       "Processing Record \u001b[1;36m41\u001b[0m of Set \u001b[1;36m4\u001b[0m | san julian\n"
      ]
     },
     "metadata": {},
     "output_type": "display_data"
    },
    {
     "data": {
      "text/html": [
       "<pre style=\"white-space:pre;overflow-x:auto;line-height:normal;font-family:Menlo,'DejaVu Sans Mono',consolas,'Courier New',monospace\">Processing Record <span style=\"color: #008080; text-decoration-color: #008080; font-weight: bold\">42</span> of Set <span style=\"color: #008080; text-decoration-color: #008080; font-weight: bold\">4</span> | san luis\n",
       "</pre>\n"
      ],
      "text/plain": [
       "Processing Record \u001b[1;36m42\u001b[0m of Set \u001b[1;36m4\u001b[0m | san luis\n"
      ]
     },
     "metadata": {},
     "output_type": "display_data"
    },
    {
     "data": {
      "text/html": [
       "<pre style=\"white-space:pre;overflow-x:auto;line-height:normal;font-family:Menlo,'DejaVu Sans Mono',consolas,'Courier New',monospace\">Processing Record <span style=\"color: #008080; text-decoration-color: #008080; font-weight: bold\">43</span> of Set <span style=\"color: #008080; text-decoration-color: #008080; font-weight: bold\">4</span> | bathsheba\n",
       "</pre>\n"
      ],
      "text/plain": [
       "Processing Record \u001b[1;36m43\u001b[0m of Set \u001b[1;36m4\u001b[0m | bathsheba\n"
      ]
     },
     "metadata": {},
     "output_type": "display_data"
    },
    {
     "data": {
      "text/html": [
       "<pre style=\"white-space:pre;overflow-x:auto;line-height:normal;font-family:Menlo,'DejaVu Sans Mono',consolas,'Courier New',monospace\">Processing Record <span style=\"color: #008080; text-decoration-color: #008080; font-weight: bold\">44</span> of Set <span style=\"color: #008080; text-decoration-color: #008080; font-weight: bold\">4</span> | kralendijk\n",
       "</pre>\n"
      ],
      "text/plain": [
       "Processing Record \u001b[1;36m44\u001b[0m of Set \u001b[1;36m4\u001b[0m | kralendijk\n"
      ]
     },
     "metadata": {},
     "output_type": "display_data"
    },
    {
     "data": {
      "text/html": [
       "<pre style=\"white-space:pre;overflow-x:auto;line-height:normal;font-family:Menlo,'DejaVu Sans Mono',consolas,'Courier New',monospace\">Processing Record <span style=\"color: #008080; text-decoration-color: #008080; font-weight: bold\">45</span> of Set <span style=\"color: #008080; text-decoration-color: #008080; font-weight: bold\">4</span> | zakamensk\n",
       "</pre>\n"
      ],
      "text/plain": [
       "Processing Record \u001b[1;36m45\u001b[0m of Set \u001b[1;36m4\u001b[0m | zakamensk\n"
      ]
     },
     "metadata": {},
     "output_type": "display_data"
    },
    {
     "data": {
      "text/html": [
       "<pre style=\"white-space:pre;overflow-x:auto;line-height:normal;font-family:Menlo,'DejaVu Sans Mono',consolas,'Courier New',monospace\">Processing Record <span style=\"color: #008080; text-decoration-color: #008080; font-weight: bold\">46</span> of Set <span style=\"color: #008080; text-decoration-color: #008080; font-weight: bold\">4</span> | prince rupert\n",
       "</pre>\n"
      ],
      "text/plain": [
       "Processing Record \u001b[1;36m46\u001b[0m of Set \u001b[1;36m4\u001b[0m | prince rupert\n"
      ]
     },
     "metadata": {},
     "output_type": "display_data"
    },
    {
     "data": {
      "text/html": [
       "<pre style=\"white-space:pre;overflow-x:auto;line-height:normal;font-family:Menlo,'DejaVu Sans Mono',consolas,'Courier New',monospace\">Processing Record <span style=\"color: #008080; text-decoration-color: #008080; font-weight: bold\">47</span> of Set <span style=\"color: #008080; text-decoration-color: #008080; font-weight: bold\">4</span> | nurota\n",
       "</pre>\n"
      ],
      "text/plain": [
       "Processing Record \u001b[1;36m47\u001b[0m of Set \u001b[1;36m4\u001b[0m | nurota\n"
      ]
     },
     "metadata": {},
     "output_type": "display_data"
    },
    {
     "data": {
      "text/html": [
       "<pre style=\"white-space:pre;overflow-x:auto;line-height:normal;font-family:Menlo,'DejaVu Sans Mono',consolas,'Courier New',monospace\">Processing Record <span style=\"color: #008080; text-decoration-color: #008080; font-weight: bold\">48</span> of Set <span style=\"color: #008080; text-decoration-color: #008080; font-weight: bold\">4</span> | vorkuta\n",
       "</pre>\n"
      ],
      "text/plain": [
       "Processing Record \u001b[1;36m48\u001b[0m of Set \u001b[1;36m4\u001b[0m | vorkuta\n"
      ]
     },
     "metadata": {},
     "output_type": "display_data"
    },
    {
     "data": {
      "text/html": [
       "<pre style=\"white-space:pre;overflow-x:auto;line-height:normal;font-family:Menlo,'DejaVu Sans Mono',consolas,'Courier New',monospace\">Processing Record <span style=\"color: #008080; text-decoration-color: #008080; font-weight: bold\">49</span> of Set <span style=\"color: #008080; text-decoration-color: #008080; font-weight: bold\">4</span> | susuman\n",
       "</pre>\n"
      ],
      "text/plain": [
       "Processing Record \u001b[1;36m49\u001b[0m of Set \u001b[1;36m4\u001b[0m | susuman\n"
      ]
     },
     "metadata": {},
     "output_type": "display_data"
    },
    {
     "data": {
      "text/html": [
       "<pre style=\"white-space:pre;overflow-x:auto;line-height:normal;font-family:Menlo,'DejaVu Sans Mono',consolas,'Courier New',monospace\">Processing Record <span style=\"color: #008080; text-decoration-color: #008080; font-weight: bold\">0</span> of Set <span style=\"color: #008080; text-decoration-color: #008080; font-weight: bold\">5</span> | ta`u\n",
       "</pre>\n"
      ],
      "text/plain": [
       "Processing Record \u001b[1;36m0\u001b[0m of Set \u001b[1;36m5\u001b[0m | ta`u\n"
      ]
     },
     "metadata": {},
     "output_type": "display_data"
    },
    {
     "data": {
      "text/html": [
       "<pre style=\"white-space:pre;overflow-x:auto;line-height:normal;font-family:Menlo,'DejaVu Sans Mono',consolas,'Courier New',monospace\">Processing Record <span style=\"color: #008080; text-decoration-color: #008080; font-weight: bold\">1</span> of Set <span style=\"color: #008080; text-decoration-color: #008080; font-weight: bold\">5</span> | hebi\n",
       "</pre>\n"
      ],
      "text/plain": [
       "Processing Record \u001b[1;36m1\u001b[0m of Set \u001b[1;36m5\u001b[0m | hebi\n"
      ]
     },
     "metadata": {},
     "output_type": "display_data"
    },
    {
     "data": {
      "text/html": [
       "<pre style=\"white-space:pre;overflow-x:auto;line-height:normal;font-family:Menlo,'DejaVu Sans Mono',consolas,'Courier New',monospace\">Processing Record <span style=\"color: #008080; text-decoration-color: #008080; font-weight: bold\">2</span> of Set <span style=\"color: #008080; text-decoration-color: #008080; font-weight: bold\">5</span> | noshiro\n",
       "</pre>\n"
      ],
      "text/plain": [
       "Processing Record \u001b[1;36m2\u001b[0m of Set \u001b[1;36m5\u001b[0m | noshiro\n"
      ]
     },
     "metadata": {},
     "output_type": "display_data"
    },
    {
     "data": {
      "text/html": [
       "<pre style=\"white-space:pre;overflow-x:auto;line-height:normal;font-family:Menlo,'DejaVu Sans Mono',consolas,'Courier New',monospace\">Processing Record <span style=\"color: #008080; text-decoration-color: #008080; font-weight: bold\">3</span> of Set <span style=\"color: #008080; text-decoration-color: #008080; font-weight: bold\">5</span> | constantia\n",
       "</pre>\n"
      ],
      "text/plain": [
       "Processing Record \u001b[1;36m3\u001b[0m of Set \u001b[1;36m5\u001b[0m | constantia\n"
      ]
     },
     "metadata": {},
     "output_type": "display_data"
    },
    {
     "data": {
      "text/html": [
       "<pre style=\"white-space:pre;overflow-x:auto;line-height:normal;font-family:Menlo,'DejaVu Sans Mono',consolas,'Courier New',monospace\">Processing Record <span style=\"color: #008080; text-decoration-color: #008080; font-weight: bold\">4</span> of Set <span style=\"color: #008080; text-decoration-color: #008080; font-weight: bold\">5</span> | carnarvon\n",
       "</pre>\n"
      ],
      "text/plain": [
       "Processing Record \u001b[1;36m4\u001b[0m of Set \u001b[1;36m5\u001b[0m | carnarvon\n"
      ]
     },
     "metadata": {},
     "output_type": "display_data"
    },
    {
     "data": {
      "text/html": [
       "<pre style=\"white-space:pre;overflow-x:auto;line-height:normal;font-family:Menlo,'DejaVu Sans Mono',consolas,'Courier New',monospace\">Processing Record <span style=\"color: #008080; text-decoration-color: #008080; font-weight: bold\">5</span> of Set <span style=\"color: #008080; text-decoration-color: #008080; font-weight: bold\">5</span> | san luis de la loma\n",
       "</pre>\n"
      ],
      "text/plain": [
       "Processing Record \u001b[1;36m5\u001b[0m of Set \u001b[1;36m5\u001b[0m | san luis de la loma\n"
      ]
     },
     "metadata": {},
     "output_type": "display_data"
    },
    {
     "data": {
      "text/html": [
       "<pre style=\"white-space:pre;overflow-x:auto;line-height:normal;font-family:Menlo,'DejaVu Sans Mono',consolas,'Courier New',monospace\">Processing Record <span style=\"color: #008080; text-decoration-color: #008080; font-weight: bold\">6</span> of Set <span style=\"color: #008080; text-decoration-color: #008080; font-weight: bold\">5</span> | thunder bay\n",
       "</pre>\n"
      ],
      "text/plain": [
       "Processing Record \u001b[1;36m6\u001b[0m of Set \u001b[1;36m5\u001b[0m | thunder bay\n"
      ]
     },
     "metadata": {},
     "output_type": "display_data"
    },
    {
     "data": {
      "text/html": [
       "<pre style=\"white-space:pre;overflow-x:auto;line-height:normal;font-family:Menlo,'DejaVu Sans Mono',consolas,'Courier New',monospace\">Processing Record <span style=\"color: #008080; text-decoration-color: #008080; font-weight: bold\">7</span> of Set <span style=\"color: #008080; text-decoration-color: #008080; font-weight: bold\">5</span> | winslow\n",
       "</pre>\n"
      ],
      "text/plain": [
       "Processing Record \u001b[1;36m7\u001b[0m of Set \u001b[1;36m5\u001b[0m | winslow\n"
      ]
     },
     "metadata": {},
     "output_type": "display_data"
    },
    {
     "data": {
      "text/html": [
       "<pre style=\"white-space:pre;overflow-x:auto;line-height:normal;font-family:Menlo,'DejaVu Sans Mono',consolas,'Courier New',monospace\">Processing Record <span style=\"color: #008080; text-decoration-color: #008080; font-weight: bold\">8</span> of Set <span style=\"color: #008080; text-decoration-color: #008080; font-weight: bold\">5</span> | general acha\n",
       "</pre>\n"
      ],
      "text/plain": [
       "Processing Record \u001b[1;36m8\u001b[0m of Set \u001b[1;36m5\u001b[0m | general acha\n"
      ]
     },
     "metadata": {},
     "output_type": "display_data"
    },
    {
     "data": {
      "text/html": [
       "<pre style=\"white-space:pre;overflow-x:auto;line-height:normal;font-family:Menlo,'DejaVu Sans Mono',consolas,'Courier New',monospace\">Processing Record <span style=\"color: #008080; text-decoration-color: #008080; font-weight: bold\">9</span> of Set <span style=\"color: #008080; text-decoration-color: #008080; font-weight: bold\">5</span> | fisterra\n",
       "</pre>\n"
      ],
      "text/plain": [
       "Processing Record \u001b[1;36m9\u001b[0m of Set \u001b[1;36m5\u001b[0m | fisterra\n"
      ]
     },
     "metadata": {},
     "output_type": "display_data"
    },
    {
     "data": {
      "text/html": [
       "<pre style=\"white-space:pre;overflow-x:auto;line-height:normal;font-family:Menlo,'DejaVu Sans Mono',consolas,'Courier New',monospace\">Processing Record <span style=\"color: #008080; text-decoration-color: #008080; font-weight: bold\">10</span> of Set <span style=\"color: #008080; text-decoration-color: #008080; font-weight: bold\">5</span> | mangrol\n",
       "</pre>\n"
      ],
      "text/plain": [
       "Processing Record \u001b[1;36m10\u001b[0m of Set \u001b[1;36m5\u001b[0m | mangrol\n"
      ]
     },
     "metadata": {},
     "output_type": "display_data"
    },
    {
     "data": {
      "text/html": [
       "<pre style=\"white-space:pre;overflow-x:auto;line-height:normal;font-family:Menlo,'DejaVu Sans Mono',consolas,'Courier New',monospace\">Processing Record <span style=\"color: #008080; text-decoration-color: #008080; font-weight: bold\">11</span> of Set <span style=\"color: #008080; text-decoration-color: #008080; font-weight: bold\">5</span> | bredasdorp\n",
       "</pre>\n"
      ],
      "text/plain": [
       "Processing Record \u001b[1;36m11\u001b[0m of Set \u001b[1;36m5\u001b[0m | bredasdorp\n"
      ]
     },
     "metadata": {},
     "output_type": "display_data"
    },
    {
     "data": {
      "text/html": [
       "<pre style=\"white-space:pre;overflow-x:auto;line-height:normal;font-family:Menlo,'DejaVu Sans Mono',consolas,'Courier New',monospace\">Processing Record <span style=\"color: #008080; text-decoration-color: #008080; font-weight: bold\">12</span> of Set <span style=\"color: #008080; text-decoration-color: #008080; font-weight: bold\">5</span> | gaalkacyo\n",
       "</pre>\n"
      ],
      "text/plain": [
       "Processing Record \u001b[1;36m12\u001b[0m of Set \u001b[1;36m5\u001b[0m | gaalkacyo\n"
      ]
     },
     "metadata": {},
     "output_type": "display_data"
    },
    {
     "data": {
      "text/html": [
       "<pre style=\"white-space:pre;overflow-x:auto;line-height:normal;font-family:Menlo,'DejaVu Sans Mono',consolas,'Courier New',monospace\">Processing Record <span style=\"color: #008080; text-decoration-color: #008080; font-weight: bold\">13</span> of Set <span style=\"color: #008080; text-decoration-color: #008080; font-weight: bold\">5</span> | anadyr\n",
       "</pre>\n"
      ],
      "text/plain": [
       "Processing Record \u001b[1;36m13\u001b[0m of Set \u001b[1;36m5\u001b[0m | anadyr\n"
      ]
     },
     "metadata": {},
     "output_type": "display_data"
    },
    {
     "data": {
      "text/html": [
       "<pre style=\"white-space:pre;overflow-x:auto;line-height:normal;font-family:Menlo,'DejaVu Sans Mono',consolas,'Courier New',monospace\">Processing Record <span style=\"color: #008080; text-decoration-color: #008080; font-weight: bold\">14</span> of Set <span style=\"color: #008080; text-decoration-color: #008080; font-weight: bold\">5</span> | xiazhen\n",
       "</pre>\n"
      ],
      "text/plain": [
       "Processing Record \u001b[1;36m14\u001b[0m of Set \u001b[1;36m5\u001b[0m | xiazhen\n"
      ]
     },
     "metadata": {},
     "output_type": "display_data"
    },
    {
     "data": {
      "text/html": [
       "<pre style=\"white-space:pre;overflow-x:auto;line-height:normal;font-family:Menlo,'DejaVu Sans Mono',consolas,'Courier New',monospace\">Processing Record <span style=\"color: #008080; text-decoration-color: #008080; font-weight: bold\">15</span> of Set <span style=\"color: #008080; text-decoration-color: #008080; font-weight: bold\">5</span> | hithadhoo\n",
       "</pre>\n"
      ],
      "text/plain": [
       "Processing Record \u001b[1;36m15\u001b[0m of Set \u001b[1;36m5\u001b[0m | hithadhoo\n"
      ]
     },
     "metadata": {},
     "output_type": "display_data"
    },
    {
     "data": {
      "text/html": [
       "<pre style=\"white-space:pre;overflow-x:auto;line-height:normal;font-family:Menlo,'DejaVu Sans Mono',consolas,'Courier New',monospace\">Processing Record <span style=\"color: #008080; text-decoration-color: #008080; font-weight: bold\">16</span> of Set <span style=\"color: #008080; text-decoration-color: #008080; font-weight: bold\">5</span> | tarnogskiy gorodok\n",
       "</pre>\n"
      ],
      "text/plain": [
       "Processing Record \u001b[1;36m16\u001b[0m of Set \u001b[1;36m5\u001b[0m | tarnogskiy gorodok\n"
      ]
     },
     "metadata": {},
     "output_type": "display_data"
    },
    {
     "data": {
      "text/html": [
       "<pre style=\"white-space:pre;overflow-x:auto;line-height:normal;font-family:Menlo,'DejaVu Sans Mono',consolas,'Courier New',monospace\">Processing Record <span style=\"color: #008080; text-decoration-color: #008080; font-weight: bold\">17</span> of Set <span style=\"color: #008080; text-decoration-color: #008080; font-weight: bold\">5</span> | kapuskasing\n",
       "</pre>\n"
      ],
      "text/plain": [
       "Processing Record \u001b[1;36m17\u001b[0m of Set \u001b[1;36m5\u001b[0m | kapuskasing\n"
      ]
     },
     "metadata": {},
     "output_type": "display_data"
    },
    {
     "data": {
      "text/html": [
       "<pre style=\"white-space:pre;overflow-x:auto;line-height:normal;font-family:Menlo,'DejaVu Sans Mono',consolas,'Courier New',monospace\">Processing Record <span style=\"color: #008080; text-decoration-color: #008080; font-weight: bold\">18</span> of Set <span style=\"color: #008080; text-decoration-color: #008080; font-weight: bold\">5</span> | 'ohonua\n",
       "</pre>\n"
      ],
      "text/plain": [
       "Processing Record \u001b[1;36m18\u001b[0m of Set \u001b[1;36m5\u001b[0m | 'ohonua\n"
      ]
     },
     "metadata": {},
     "output_type": "display_data"
    },
    {
     "data": {
      "text/html": [
       "<pre style=\"white-space:pre;overflow-x:auto;line-height:normal;font-family:Menlo,'DejaVu Sans Mono',consolas,'Courier New',monospace\">City not found. Skipping<span style=\"color: #808000; text-decoration-color: #808000\">...</span>\n",
       "</pre>\n"
      ],
      "text/plain": [
       "City not found. Skipping\u001b[33m...\u001b[0m\n"
      ]
     },
     "metadata": {},
     "output_type": "display_data"
    },
    {
     "data": {
      "text/html": [
       "<pre style=\"white-space:pre;overflow-x:auto;line-height:normal;font-family:Menlo,'DejaVu Sans Mono',consolas,'Courier New',monospace\">Processing Record <span style=\"color: #008080; text-decoration-color: #008080; font-weight: bold\">19</span> of Set <span style=\"color: #008080; text-decoration-color: #008080; font-weight: bold\">5</span> | aral\n",
       "</pre>\n"
      ],
      "text/plain": [
       "Processing Record \u001b[1;36m19\u001b[0m of Set \u001b[1;36m5\u001b[0m | aral\n"
      ]
     },
     "metadata": {},
     "output_type": "display_data"
    },
    {
     "data": {
      "text/html": [
       "<pre style=\"white-space:pre;overflow-x:auto;line-height:normal;font-family:Menlo,'DejaVu Sans Mono',consolas,'Courier New',monospace\">Processing Record <span style=\"color: #008080; text-decoration-color: #008080; font-weight: bold\">20</span> of Set <span style=\"color: #008080; text-decoration-color: #008080; font-weight: bold\">5</span> | dawei\n",
       "</pre>\n"
      ],
      "text/plain": [
       "Processing Record \u001b[1;36m20\u001b[0m of Set \u001b[1;36m5\u001b[0m | dawei\n"
      ]
     },
     "metadata": {},
     "output_type": "display_data"
    },
    {
     "data": {
      "text/html": [
       "<pre style=\"white-space:pre;overflow-x:auto;line-height:normal;font-family:Menlo,'DejaVu Sans Mono',consolas,'Courier New',monospace\">Processing Record <span style=\"color: #008080; text-decoration-color: #008080; font-weight: bold\">21</span> of Set <span style=\"color: #008080; text-decoration-color: #008080; font-weight: bold\">5</span> | san pedro de jujuy\n",
       "</pre>\n"
      ],
      "text/plain": [
       "Processing Record \u001b[1;36m21\u001b[0m of Set \u001b[1;36m5\u001b[0m | san pedro de jujuy\n"
      ]
     },
     "metadata": {},
     "output_type": "display_data"
    },
    {
     "data": {
      "text/html": [
       "<pre style=\"white-space:pre;overflow-x:auto;line-height:normal;font-family:Menlo,'DejaVu Sans Mono',consolas,'Courier New',monospace\">Processing Record <span style=\"color: #008080; text-decoration-color: #008080; font-weight: bold\">22</span> of Set <span style=\"color: #008080; text-decoration-color: #008080; font-weight: bold\">5</span> | charters towers\n",
       "</pre>\n"
      ],
      "text/plain": [
       "Processing Record \u001b[1;36m22\u001b[0m of Set \u001b[1;36m5\u001b[0m | charters towers\n"
      ]
     },
     "metadata": {},
     "output_type": "display_data"
    },
    {
     "data": {
      "text/html": [
       "<pre style=\"white-space:pre;overflow-x:auto;line-height:normal;font-family:Menlo,'DejaVu Sans Mono',consolas,'Courier New',monospace\">Processing Record <span style=\"color: #008080; text-decoration-color: #008080; font-weight: bold\">23</span> of Set <span style=\"color: #008080; text-decoration-color: #008080; font-weight: bold\">5</span> | sechura\n",
       "</pre>\n"
      ],
      "text/plain": [
       "Processing Record \u001b[1;36m23\u001b[0m of Set \u001b[1;36m5\u001b[0m | sechura\n"
      ]
     },
     "metadata": {},
     "output_type": "display_data"
    },
    {
     "data": {
      "text/html": [
       "<pre style=\"white-space:pre;overflow-x:auto;line-height:normal;font-family:Menlo,'DejaVu Sans Mono',consolas,'Courier New',monospace\">Processing Record <span style=\"color: #008080; text-decoration-color: #008080; font-weight: bold\">24</span> of Set <span style=\"color: #008080; text-decoration-color: #008080; font-weight: bold\">5</span> | ouarzazat\n",
       "</pre>\n"
      ],
      "text/plain": [
       "Processing Record \u001b[1;36m24\u001b[0m of Set \u001b[1;36m5\u001b[0m | ouarzazat\n"
      ]
     },
     "metadata": {},
     "output_type": "display_data"
    },
    {
     "data": {
      "text/html": [
       "<pre style=\"white-space:pre;overflow-x:auto;line-height:normal;font-family:Menlo,'DejaVu Sans Mono',consolas,'Courier New',monospace\">Processing Record <span style=\"color: #008080; text-decoration-color: #008080; font-weight: bold\">25</span> of Set <span style=\"color: #008080; text-decoration-color: #008080; font-weight: bold\">5</span> | luena\n",
       "</pre>\n"
      ],
      "text/plain": [
       "Processing Record \u001b[1;36m25\u001b[0m of Set \u001b[1;36m5\u001b[0m | luena\n"
      ]
     },
     "metadata": {},
     "output_type": "display_data"
    },
    {
     "data": {
      "text/html": [
       "<pre style=\"white-space:pre;overflow-x:auto;line-height:normal;font-family:Menlo,'DejaVu Sans Mono',consolas,'Courier New',monospace\">Processing Record <span style=\"color: #008080; text-decoration-color: #008080; font-weight: bold\">26</span> of Set <span style=\"color: #008080; text-decoration-color: #008080; font-weight: bold\">5</span> | kertih\n",
       "</pre>\n"
      ],
      "text/plain": [
       "Processing Record \u001b[1;36m26\u001b[0m of Set \u001b[1;36m5\u001b[0m | kertih\n"
      ]
     },
     "metadata": {},
     "output_type": "display_data"
    },
    {
     "data": {
      "text/html": [
       "<pre style=\"white-space:pre;overflow-x:auto;line-height:normal;font-family:Menlo,'DejaVu Sans Mono',consolas,'Courier New',monospace\">Processing Record <span style=\"color: #008080; text-decoration-color: #008080; font-weight: bold\">27</span> of Set <span style=\"color: #008080; text-decoration-color: #008080; font-weight: bold\">5</span> | carutapera\n",
       "</pre>\n"
      ],
      "text/plain": [
       "Processing Record \u001b[1;36m27\u001b[0m of Set \u001b[1;36m5\u001b[0m | carutapera\n"
      ]
     },
     "metadata": {},
     "output_type": "display_data"
    },
    {
     "data": {
      "text/html": [
       "<pre style=\"white-space:pre;overflow-x:auto;line-height:normal;font-family:Menlo,'DejaVu Sans Mono',consolas,'Courier New',monospace\">Processing Record <span style=\"color: #008080; text-decoration-color: #008080; font-weight: bold\">28</span> of Set <span style=\"color: #008080; text-decoration-color: #008080; font-weight: bold\">5</span> | markala\n",
       "</pre>\n"
      ],
      "text/plain": [
       "Processing Record \u001b[1;36m28\u001b[0m of Set \u001b[1;36m5\u001b[0m | markala\n"
      ]
     },
     "metadata": {},
     "output_type": "display_data"
    },
    {
     "data": {
      "text/html": [
       "<pre style=\"white-space:pre;overflow-x:auto;line-height:normal;font-family:Menlo,'DejaVu Sans Mono',consolas,'Courier New',monospace\">Processing Record <span style=\"color: #008080; text-decoration-color: #008080; font-weight: bold\">29</span> of Set <span style=\"color: #008080; text-decoration-color: #008080; font-weight: bold\">5</span> | hawaiian paradise park\n",
       "</pre>\n"
      ],
      "text/plain": [
       "Processing Record \u001b[1;36m29\u001b[0m of Set \u001b[1;36m5\u001b[0m | hawaiian paradise park\n"
      ]
     },
     "metadata": {},
     "output_type": "display_data"
    },
    {
     "data": {
      "text/html": [
       "<pre style=\"white-space:pre;overflow-x:auto;line-height:normal;font-family:Menlo,'DejaVu Sans Mono',consolas,'Courier New',monospace\">Processing Record <span style=\"color: #008080; text-decoration-color: #008080; font-weight: bold\">30</span> of Set <span style=\"color: #008080; text-decoration-color: #008080; font-weight: bold\">5</span> | yarrawonga\n",
       "</pre>\n"
      ],
      "text/plain": [
       "Processing Record \u001b[1;36m30\u001b[0m of Set \u001b[1;36m5\u001b[0m | yarrawonga\n"
      ]
     },
     "metadata": {},
     "output_type": "display_data"
    },
    {
     "data": {
      "text/html": [
       "<pre style=\"white-space:pre;overflow-x:auto;line-height:normal;font-family:Menlo,'DejaVu Sans Mono',consolas,'Courier New',monospace\">Processing Record <span style=\"color: #008080; text-decoration-color: #008080; font-weight: bold\">31</span> of Set <span style=\"color: #008080; text-decoration-color: #008080; font-weight: bold\">5</span> | chul'man\n",
       "</pre>\n"
      ],
      "text/plain": [
       "Processing Record \u001b[1;36m31\u001b[0m of Set \u001b[1;36m5\u001b[0m | chul'man\n"
      ]
     },
     "metadata": {},
     "output_type": "display_data"
    },
    {
     "data": {
      "text/html": [
       "<pre style=\"white-space:pre;overflow-x:auto;line-height:normal;font-family:Menlo,'DejaVu Sans Mono',consolas,'Courier New',monospace\">Processing Record <span style=\"color: #008080; text-decoration-color: #008080; font-weight: bold\">32</span> of Set <span style=\"color: #008080; text-decoration-color: #008080; font-weight: bold\">5</span> | hami\n",
       "</pre>\n"
      ],
      "text/plain": [
       "Processing Record \u001b[1;36m32\u001b[0m of Set \u001b[1;36m5\u001b[0m | hami\n"
      ]
     },
     "metadata": {},
     "output_type": "display_data"
    },
    {
     "data": {
      "text/html": [
       "<pre style=\"white-space:pre;overflow-x:auto;line-height:normal;font-family:Menlo,'DejaVu Sans Mono',consolas,'Courier New',monospace\">Processing Record <span style=\"color: #008080; text-decoration-color: #008080; font-weight: bold\">33</span> of Set <span style=\"color: #008080; text-decoration-color: #008080; font-weight: bold\">5</span> | newman\n",
       "</pre>\n"
      ],
      "text/plain": [
       "Processing Record \u001b[1;36m33\u001b[0m of Set \u001b[1;36m5\u001b[0m | newman\n"
      ]
     },
     "metadata": {},
     "output_type": "display_data"
    },
    {
     "data": {
      "text/html": [
       "<pre style=\"white-space:pre;overflow-x:auto;line-height:normal;font-family:Menlo,'DejaVu Sans Mono',consolas,'Courier New',monospace\">Processing Record <span style=\"color: #008080; text-decoration-color: #008080; font-weight: bold\">34</span> of Set <span style=\"color: #008080; text-decoration-color: #008080; font-weight: bold\">5</span> | bardai\n",
       "</pre>\n"
      ],
      "text/plain": [
       "Processing Record \u001b[1;36m34\u001b[0m of Set \u001b[1;36m5\u001b[0m | bardai\n"
      ]
     },
     "metadata": {},
     "output_type": "display_data"
    },
    {
     "data": {
      "text/html": [
       "<pre style=\"white-space:pre;overflow-x:auto;line-height:normal;font-family:Menlo,'DejaVu Sans Mono',consolas,'Courier New',monospace\">Processing Record <span style=\"color: #008080; text-decoration-color: #008080; font-weight: bold\">35</span> of Set <span style=\"color: #008080; text-decoration-color: #008080; font-weight: bold\">5</span> | haiku-pauwela\n",
       "</pre>\n"
      ],
      "text/plain": [
       "Processing Record \u001b[1;36m35\u001b[0m of Set \u001b[1;36m5\u001b[0m | haiku-pauwela\n"
      ]
     },
     "metadata": {},
     "output_type": "display_data"
    },
    {
     "data": {
      "text/html": [
       "<pre style=\"white-space:pre;overflow-x:auto;line-height:normal;font-family:Menlo,'DejaVu Sans Mono',consolas,'Courier New',monospace\">Processing Record <span style=\"color: #008080; text-decoration-color: #008080; font-weight: bold\">36</span> of Set <span style=\"color: #008080; text-decoration-color: #008080; font-weight: bold\">5</span> | badger\n",
       "</pre>\n"
      ],
      "text/plain": [
       "Processing Record \u001b[1;36m36\u001b[0m of Set \u001b[1;36m5\u001b[0m | badger\n"
      ]
     },
     "metadata": {},
     "output_type": "display_data"
    },
    {
     "data": {
      "text/html": [
       "<pre style=\"white-space:pre;overflow-x:auto;line-height:normal;font-family:Menlo,'DejaVu Sans Mono',consolas,'Courier New',monospace\">Processing Record <span style=\"color: #008080; text-decoration-color: #008080; font-weight: bold\">37</span> of Set <span style=\"color: #008080; text-decoration-color: #008080; font-weight: bold\">5</span> | kouroussa\n",
       "</pre>\n"
      ],
      "text/plain": [
       "Processing Record \u001b[1;36m37\u001b[0m of Set \u001b[1;36m5\u001b[0m | kouroussa\n"
      ]
     },
     "metadata": {},
     "output_type": "display_data"
    },
    {
     "data": {
      "text/html": [
       "<pre style=\"white-space:pre;overflow-x:auto;line-height:normal;font-family:Menlo,'DejaVu Sans Mono',consolas,'Courier New',monospace\">Processing Record <span style=\"color: #008080; text-decoration-color: #008080; font-weight: bold\">38</span> of Set <span style=\"color: #008080; text-decoration-color: #008080; font-weight: bold\">5</span> | fort bragg\n",
       "</pre>\n"
      ],
      "text/plain": [
       "Processing Record \u001b[1;36m38\u001b[0m of Set \u001b[1;36m5\u001b[0m | fort bragg\n"
      ]
     },
     "metadata": {},
     "output_type": "display_data"
    },
    {
     "data": {
      "text/html": [
       "<pre style=\"white-space:pre;overflow-x:auto;line-height:normal;font-family:Menlo,'DejaVu Sans Mono',consolas,'Courier New',monospace\">Processing Record <span style=\"color: #008080; text-decoration-color: #008080; font-weight: bold\">39</span> of Set <span style=\"color: #008080; text-decoration-color: #008080; font-weight: bold\">5</span> | kayangel\n",
       "</pre>\n"
      ],
      "text/plain": [
       "Processing Record \u001b[1;36m39\u001b[0m of Set \u001b[1;36m5\u001b[0m | kayangel\n"
      ]
     },
     "metadata": {},
     "output_type": "display_data"
    },
    {
     "data": {
      "text/html": [
       "<pre style=\"white-space:pre;overflow-x:auto;line-height:normal;font-family:Menlo,'DejaVu Sans Mono',consolas,'Courier New',monospace\">Processing Record <span style=\"color: #008080; text-decoration-color: #008080; font-weight: bold\">40</span> of Set <span style=\"color: #008080; text-decoration-color: #008080; font-weight: bold\">5</span> | shetpe\n",
       "</pre>\n"
      ],
      "text/plain": [
       "Processing Record \u001b[1;36m40\u001b[0m of Set \u001b[1;36m5\u001b[0m | shetpe\n"
      ]
     },
     "metadata": {},
     "output_type": "display_data"
    },
    {
     "data": {
      "text/html": [
       "<pre style=\"white-space:pre;overflow-x:auto;line-height:normal;font-family:Menlo,'DejaVu Sans Mono',consolas,'Courier New',monospace\">Processing Record <span style=\"color: #008080; text-decoration-color: #008080; font-weight: bold\">41</span> of Set <span style=\"color: #008080; text-decoration-color: #008080; font-weight: bold\">5</span> | nova sintra\n",
       "</pre>\n"
      ],
      "text/plain": [
       "Processing Record \u001b[1;36m41\u001b[0m of Set \u001b[1;36m5\u001b[0m | nova sintra\n"
      ]
     },
     "metadata": {},
     "output_type": "display_data"
    },
    {
     "data": {
      "text/html": [
       "<pre style=\"white-space:pre;overflow-x:auto;line-height:normal;font-family:Menlo,'DejaVu Sans Mono',consolas,'Courier New',monospace\">Processing Record <span style=\"color: #008080; text-decoration-color: #008080; font-weight: bold\">42</span> of Set <span style=\"color: #008080; text-decoration-color: #008080; font-weight: bold\">5</span> | juneau\n",
       "</pre>\n"
      ],
      "text/plain": [
       "Processing Record \u001b[1;36m42\u001b[0m of Set \u001b[1;36m5\u001b[0m | juneau\n"
      ]
     },
     "metadata": {},
     "output_type": "display_data"
    },
    {
     "data": {
      "text/html": [
       "<pre style=\"white-space:pre;overflow-x:auto;line-height:normal;font-family:Menlo,'DejaVu Sans Mono',consolas,'Courier New',monospace\">Processing Record <span style=\"color: #008080; text-decoration-color: #008080; font-weight: bold\">43</span> of Set <span style=\"color: #008080; text-decoration-color: #008080; font-weight: bold\">5</span> | tippi\n",
       "</pre>\n"
      ],
      "text/plain": [
       "Processing Record \u001b[1;36m43\u001b[0m of Set \u001b[1;36m5\u001b[0m | tippi\n"
      ]
     },
     "metadata": {},
     "output_type": "display_data"
    },
    {
     "data": {
      "text/html": [
       "<pre style=\"white-space:pre;overflow-x:auto;line-height:normal;font-family:Menlo,'DejaVu Sans Mono',consolas,'Courier New',monospace\">Processing Record <span style=\"color: #008080; text-decoration-color: #008080; font-weight: bold\">44</span> of Set <span style=\"color: #008080; text-decoration-color: #008080; font-weight: bold\">5</span> | munderkingen\n",
       "</pre>\n"
      ],
      "text/plain": [
       "Processing Record \u001b[1;36m44\u001b[0m of Set \u001b[1;36m5\u001b[0m | munderkingen\n"
      ]
     },
     "metadata": {},
     "output_type": "display_data"
    },
    {
     "data": {
      "text/html": [
       "<pre style=\"white-space:pre;overflow-x:auto;line-height:normal;font-family:Menlo,'DejaVu Sans Mono',consolas,'Courier New',monospace\">Processing Record <span style=\"color: #008080; text-decoration-color: #008080; font-weight: bold\">45</span> of Set <span style=\"color: #008080; text-decoration-color: #008080; font-weight: bold\">5</span> | pieksamaki\n",
       "</pre>\n"
      ],
      "text/plain": [
       "Processing Record \u001b[1;36m45\u001b[0m of Set \u001b[1;36m5\u001b[0m | pieksamaki\n"
      ]
     },
     "metadata": {},
     "output_type": "display_data"
    },
    {
     "data": {
      "text/html": [
       "<pre style=\"white-space:pre;overflow-x:auto;line-height:normal;font-family:Menlo,'DejaVu Sans Mono',consolas,'Courier New',monospace\">Processing Record <span style=\"color: #008080; text-decoration-color: #008080; font-weight: bold\">46</span> of Set <span style=\"color: #008080; text-decoration-color: #008080; font-weight: bold\">5</span> | makokou\n",
       "</pre>\n"
      ],
      "text/plain": [
       "Processing Record \u001b[1;36m46\u001b[0m of Set \u001b[1;36m5\u001b[0m | makokou\n"
      ]
     },
     "metadata": {},
     "output_type": "display_data"
    },
    {
     "data": {
      "text/html": [
       "<pre style=\"white-space:pre;overflow-x:auto;line-height:normal;font-family:Menlo,'DejaVu Sans Mono',consolas,'Courier New',monospace\">Processing Record <span style=\"color: #008080; text-decoration-color: #008080; font-weight: bold\">47</span> of Set <span style=\"color: #008080; text-decoration-color: #008080; font-weight: bold\">5</span> | sarykemer\n",
       "</pre>\n"
      ],
      "text/plain": [
       "Processing Record \u001b[1;36m47\u001b[0m of Set \u001b[1;36m5\u001b[0m | sarykemer\n"
      ]
     },
     "metadata": {},
     "output_type": "display_data"
    },
    {
     "data": {
      "text/html": [
       "<pre style=\"white-space:pre;overflow-x:auto;line-height:normal;font-family:Menlo,'DejaVu Sans Mono',consolas,'Courier New',monospace\">Processing Record <span style=\"color: #008080; text-decoration-color: #008080; font-weight: bold\">48</span> of Set <span style=\"color: #008080; text-decoration-color: #008080; font-weight: bold\">5</span> | raseiniai\n",
       "</pre>\n"
      ],
      "text/plain": [
       "Processing Record \u001b[1;36m48\u001b[0m of Set \u001b[1;36m5\u001b[0m | raseiniai\n"
      ]
     },
     "metadata": {},
     "output_type": "display_data"
    },
    {
     "data": {
      "text/html": [
       "<pre style=\"white-space:pre;overflow-x:auto;line-height:normal;font-family:Menlo,'DejaVu Sans Mono',consolas,'Courier New',monospace\">Processing Record <span style=\"color: #008080; text-decoration-color: #008080; font-weight: bold\">49</span> of Set <span style=\"color: #008080; text-decoration-color: #008080; font-weight: bold\">5</span> | bandarbeyla\n",
       "</pre>\n"
      ],
      "text/plain": [
       "Processing Record \u001b[1;36m49\u001b[0m of Set \u001b[1;36m5\u001b[0m | bandarbeyla\n"
      ]
     },
     "metadata": {},
     "output_type": "display_data"
    },
    {
     "data": {
      "text/html": [
       "<pre style=\"white-space:pre;overflow-x:auto;line-height:normal;font-family:Menlo,'DejaVu Sans Mono',consolas,'Courier New',monospace\">Processing Record <span style=\"color: #008080; text-decoration-color: #008080; font-weight: bold\">0</span> of Set <span style=\"color: #008080; text-decoration-color: #008080; font-weight: bold\">6</span> | saldanha\n",
       "</pre>\n"
      ],
      "text/plain": [
       "Processing Record \u001b[1;36m0\u001b[0m of Set \u001b[1;36m6\u001b[0m | saldanha\n"
      ]
     },
     "metadata": {},
     "output_type": "display_data"
    },
    {
     "data": {
      "text/html": [
       "<pre style=\"white-space:pre;overflow-x:auto;line-height:normal;font-family:Menlo,'DejaVu Sans Mono',consolas,'Courier New',monospace\">Processing Record <span style=\"color: #008080; text-decoration-color: #008080; font-weight: bold\">1</span> of Set <span style=\"color: #008080; text-decoration-color: #008080; font-weight: bold\">6</span> | khouribga\n",
       "</pre>\n"
      ],
      "text/plain": [
       "Processing Record \u001b[1;36m1\u001b[0m of Set \u001b[1;36m6\u001b[0m | khouribga\n"
      ]
     },
     "metadata": {},
     "output_type": "display_data"
    },
    {
     "data": {
      "text/html": [
       "<pre style=\"white-space:pre;overflow-x:auto;line-height:normal;font-family:Menlo,'DejaVu Sans Mono',consolas,'Courier New',monospace\">Processing Record <span style=\"color: #008080; text-decoration-color: #008080; font-weight: bold\">2</span> of Set <span style=\"color: #008080; text-decoration-color: #008080; font-weight: bold\">6</span> | isla mujeres\n",
       "</pre>\n"
      ],
      "text/plain": [
       "Processing Record \u001b[1;36m2\u001b[0m of Set \u001b[1;36m6\u001b[0m | isla mujeres\n"
      ]
     },
     "metadata": {},
     "output_type": "display_data"
    },
    {
     "data": {
      "text/html": [
       "<pre style=\"white-space:pre;overflow-x:auto;line-height:normal;font-family:Menlo,'DejaVu Sans Mono',consolas,'Courier New',monospace\">Processing Record <span style=\"color: #008080; text-decoration-color: #008080; font-weight: bold\">3</span> of Set <span style=\"color: #008080; text-decoration-color: #008080; font-weight: bold\">6</span> | syas'stroy\n",
       "</pre>\n"
      ],
      "text/plain": [
       "Processing Record \u001b[1;36m3\u001b[0m of Set \u001b[1;36m6\u001b[0m | syas'stroy\n"
      ]
     },
     "metadata": {},
     "output_type": "display_data"
    },
    {
     "data": {
      "text/html": [
       "<pre style=\"white-space:pre;overflow-x:auto;line-height:normal;font-family:Menlo,'DejaVu Sans Mono',consolas,'Courier New',monospace\">Processing Record <span style=\"color: #008080; text-decoration-color: #008080; font-weight: bold\">4</span> of Set <span style=\"color: #008080; text-decoration-color: #008080; font-weight: bold\">6</span> | wenshui\n",
       "</pre>\n"
      ],
      "text/plain": [
       "Processing Record \u001b[1;36m4\u001b[0m of Set \u001b[1;36m6\u001b[0m | wenshui\n"
      ]
     },
     "metadata": {},
     "output_type": "display_data"
    },
    {
     "data": {
      "text/html": [
       "<pre style=\"white-space:pre;overflow-x:auto;line-height:normal;font-family:Menlo,'DejaVu Sans Mono',consolas,'Courier New',monospace\">Processing Record <span style=\"color: #008080; text-decoration-color: #008080; font-weight: bold\">5</span> of Set <span style=\"color: #008080; text-decoration-color: #008080; font-weight: bold\">6</span> | ak-dovurak\n",
       "</pre>\n"
      ],
      "text/plain": [
       "Processing Record \u001b[1;36m5\u001b[0m of Set \u001b[1;36m6\u001b[0m | ak-dovurak\n"
      ]
     },
     "metadata": {},
     "output_type": "display_data"
    },
    {
     "data": {
      "text/html": [
       "<pre style=\"white-space:pre;overflow-x:auto;line-height:normal;font-family:Menlo,'DejaVu Sans Mono',consolas,'Courier New',monospace\">Processing Record <span style=\"color: #008080; text-decoration-color: #008080; font-weight: bold\">6</span> of Set <span style=\"color: #008080; text-decoration-color: #008080; font-weight: bold\">6</span> | port mathurin\n",
       "</pre>\n"
      ],
      "text/plain": [
       "Processing Record \u001b[1;36m6\u001b[0m of Set \u001b[1;36m6\u001b[0m | port mathurin\n"
      ]
     },
     "metadata": {},
     "output_type": "display_data"
    },
    {
     "data": {
      "text/html": [
       "<pre style=\"white-space:pre;overflow-x:auto;line-height:normal;font-family:Menlo,'DejaVu Sans Mono',consolas,'Courier New',monospace\">Processing Record <span style=\"color: #008080; text-decoration-color: #008080; font-weight: bold\">7</span> of Set <span style=\"color: #008080; text-decoration-color: #008080; font-weight: bold\">6</span> | nagornyy\n",
       "</pre>\n"
      ],
      "text/plain": [
       "Processing Record \u001b[1;36m7\u001b[0m of Set \u001b[1;36m6\u001b[0m | nagornyy\n"
      ]
     },
     "metadata": {},
     "output_type": "display_data"
    },
    {
     "data": {
      "text/html": [
       "<pre style=\"white-space:pre;overflow-x:auto;line-height:normal;font-family:Menlo,'DejaVu Sans Mono',consolas,'Courier New',monospace\">Processing Record <span style=\"color: #008080; text-decoration-color: #008080; font-weight: bold\">8</span> of Set <span style=\"color: #008080; text-decoration-color: #008080; font-weight: bold\">6</span> | urucara\n",
       "</pre>\n"
      ],
      "text/plain": [
       "Processing Record \u001b[1;36m8\u001b[0m of Set \u001b[1;36m6\u001b[0m | urucara\n"
      ]
     },
     "metadata": {},
     "output_type": "display_data"
    },
    {
     "data": {
      "text/html": [
       "<pre style=\"white-space:pre;overflow-x:auto;line-height:normal;font-family:Menlo,'DejaVu Sans Mono',consolas,'Courier New',monospace\">Processing Record <span style=\"color: #008080; text-decoration-color: #008080; font-weight: bold\">9</span> of Set <span style=\"color: #008080; text-decoration-color: #008080; font-weight: bold\">6</span> | banda aceh\n",
       "</pre>\n"
      ],
      "text/plain": [
       "Processing Record \u001b[1;36m9\u001b[0m of Set \u001b[1;36m6\u001b[0m | banda aceh\n"
      ]
     },
     "metadata": {},
     "output_type": "display_data"
    },
    {
     "data": {
      "text/html": [
       "<pre style=\"white-space:pre;overflow-x:auto;line-height:normal;font-family:Menlo,'DejaVu Sans Mono',consolas,'Courier New',monospace\">Processing Record <span style=\"color: #008080; text-decoration-color: #008080; font-weight: bold\">10</span> of Set <span style=\"color: #008080; text-decoration-color: #008080; font-weight: bold\">6</span> | quepos\n",
       "</pre>\n"
      ],
      "text/plain": [
       "Processing Record \u001b[1;36m10\u001b[0m of Set \u001b[1;36m6\u001b[0m | quepos\n"
      ]
     },
     "metadata": {},
     "output_type": "display_data"
    },
    {
     "data": {
      "text/html": [
       "<pre style=\"white-space:pre;overflow-x:auto;line-height:normal;font-family:Menlo,'DejaVu Sans Mono',consolas,'Courier New',monospace\">Processing Record <span style=\"color: #008080; text-decoration-color: #008080; font-weight: bold\">11</span> of Set <span style=\"color: #008080; text-decoration-color: #008080; font-weight: bold\">6</span> | cockburn town\n",
       "</pre>\n"
      ],
      "text/plain": [
       "Processing Record \u001b[1;36m11\u001b[0m of Set \u001b[1;36m6\u001b[0m | cockburn town\n"
      ]
     },
     "metadata": {},
     "output_type": "display_data"
    },
    {
     "data": {
      "text/html": [
       "<pre style=\"white-space:pre;overflow-x:auto;line-height:normal;font-family:Menlo,'DejaVu Sans Mono',consolas,'Courier New',monospace\">Processing Record <span style=\"color: #008080; text-decoration-color: #008080; font-weight: bold\">12</span> of Set <span style=\"color: #008080; text-decoration-color: #008080; font-weight: bold\">6</span> | uliastay\n",
       "</pre>\n"
      ],
      "text/plain": [
       "Processing Record \u001b[1;36m12\u001b[0m of Set \u001b[1;36m6\u001b[0m | uliastay\n"
      ]
     },
     "metadata": {},
     "output_type": "display_data"
    },
    {
     "data": {
      "text/html": [
       "<pre style=\"white-space:pre;overflow-x:auto;line-height:normal;font-family:Menlo,'DejaVu Sans Mono',consolas,'Courier New',monospace\">Processing Record <span style=\"color: #008080; text-decoration-color: #008080; font-weight: bold\">13</span> of Set <span style=\"color: #008080; text-decoration-color: #008080; font-weight: bold\">6</span> | san juan cotzal\n",
       "</pre>\n"
      ],
      "text/plain": [
       "Processing Record \u001b[1;36m13\u001b[0m of Set \u001b[1;36m6\u001b[0m | san juan cotzal\n"
      ]
     },
     "metadata": {},
     "output_type": "display_data"
    },
    {
     "data": {
      "text/html": [
       "<pre style=\"white-space:pre;overflow-x:auto;line-height:normal;font-family:Menlo,'DejaVu Sans Mono',consolas,'Courier New',monospace\">Processing Record <span style=\"color: #008080; text-decoration-color: #008080; font-weight: bold\">14</span> of Set <span style=\"color: #008080; text-decoration-color: #008080; font-weight: bold\">6</span> | villa dolores\n",
       "</pre>\n"
      ],
      "text/plain": [
       "Processing Record \u001b[1;36m14\u001b[0m of Set \u001b[1;36m6\u001b[0m | villa dolores\n"
      ]
     },
     "metadata": {},
     "output_type": "display_data"
    },
    {
     "data": {
      "text/html": [
       "<pre style=\"white-space:pre;overflow-x:auto;line-height:normal;font-family:Menlo,'DejaVu Sans Mono',consolas,'Courier New',monospace\">Processing Record <span style=\"color: #008080; text-decoration-color: #008080; font-weight: bold\">15</span> of Set <span style=\"color: #008080; text-decoration-color: #008080; font-weight: bold\">6</span> | chichiriviche\n",
       "</pre>\n"
      ],
      "text/plain": [
       "Processing Record \u001b[1;36m15\u001b[0m of Set \u001b[1;36m6\u001b[0m | chichiriviche\n"
      ]
     },
     "metadata": {},
     "output_type": "display_data"
    },
    {
     "data": {
      "text/html": [
       "<pre style=\"white-space:pre;overflow-x:auto;line-height:normal;font-family:Menlo,'DejaVu Sans Mono',consolas,'Courier New',monospace\">Processing Record <span style=\"color: #008080; text-decoration-color: #008080; font-weight: bold\">16</span> of Set <span style=\"color: #008080; text-decoration-color: #008080; font-weight: bold\">6</span> | kotido\n",
       "</pre>\n"
      ],
      "text/plain": [
       "Processing Record \u001b[1;36m16\u001b[0m of Set \u001b[1;36m6\u001b[0m | kotido\n"
      ]
     },
     "metadata": {},
     "output_type": "display_data"
    },
    {
     "data": {
      "text/html": [
       "<pre style=\"white-space:pre;overflow-x:auto;line-height:normal;font-family:Menlo,'DejaVu Sans Mono',consolas,'Courier New',monospace\">Processing Record <span style=\"color: #008080; text-decoration-color: #008080; font-weight: bold\">17</span> of Set <span style=\"color: #008080; text-decoration-color: #008080; font-weight: bold\">6</span> | amvrosiyivka\n",
       "</pre>\n"
      ],
      "text/plain": [
       "Processing Record \u001b[1;36m17\u001b[0m of Set \u001b[1;36m6\u001b[0m | amvrosiyivka\n"
      ]
     },
     "metadata": {},
     "output_type": "display_data"
    },
    {
     "data": {
      "text/html": [
       "<pre style=\"white-space:pre;overflow-x:auto;line-height:normal;font-family:Menlo,'DejaVu Sans Mono',consolas,'Courier New',monospace\">Processing Record <span style=\"color: #008080; text-decoration-color: #008080; font-weight: bold\">18</span> of Set <span style=\"color: #008080; text-decoration-color: #008080; font-weight: bold\">6</span> | posto fiscal rolim de moura\n",
       "</pre>\n"
      ],
      "text/plain": [
       "Processing Record \u001b[1;36m18\u001b[0m of Set \u001b[1;36m6\u001b[0m | posto fiscal rolim de moura\n"
      ]
     },
     "metadata": {},
     "output_type": "display_data"
    },
    {
     "data": {
      "text/html": [
       "<pre style=\"white-space:pre;overflow-x:auto;line-height:normal;font-family:Menlo,'DejaVu Sans Mono',consolas,'Courier New',monospace\">Processing Record <span style=\"color: #008080; text-decoration-color: #008080; font-weight: bold\">19</span> of Set <span style=\"color: #008080; text-decoration-color: #008080; font-weight: bold\">6</span> | burutu\n",
       "</pre>\n"
      ],
      "text/plain": [
       "Processing Record \u001b[1;36m19\u001b[0m of Set \u001b[1;36m6\u001b[0m | burutu\n"
      ]
     },
     "metadata": {},
     "output_type": "display_data"
    },
    {
     "data": {
      "text/html": [
       "<pre style=\"white-space:pre;overflow-x:auto;line-height:normal;font-family:Menlo,'DejaVu Sans Mono',consolas,'Courier New',monospace\">Processing Record <span style=\"color: #008080; text-decoration-color: #008080; font-weight: bold\">20</span> of Set <span style=\"color: #008080; text-decoration-color: #008080; font-weight: bold\">6</span> | atafu village\n",
       "</pre>\n"
      ],
      "text/plain": [
       "Processing Record \u001b[1;36m20\u001b[0m of Set \u001b[1;36m6\u001b[0m | atafu village\n"
      ]
     },
     "metadata": {},
     "output_type": "display_data"
    },
    {
     "data": {
      "text/html": [
       "<pre style=\"white-space:pre;overflow-x:auto;line-height:normal;font-family:Menlo,'DejaVu Sans Mono',consolas,'Courier New',monospace\">Processing Record <span style=\"color: #008080; text-decoration-color: #008080; font-weight: bold\">21</span> of Set <span style=\"color: #008080; text-decoration-color: #008080; font-weight: bold\">6</span> | mahina\n",
       "</pre>\n"
      ],
      "text/plain": [
       "Processing Record \u001b[1;36m21\u001b[0m of Set \u001b[1;36m6\u001b[0m | mahina\n"
      ]
     },
     "metadata": {},
     "output_type": "display_data"
    },
    {
     "data": {
      "text/html": [
       "<pre style=\"white-space:pre;overflow-x:auto;line-height:normal;font-family:Menlo,'DejaVu Sans Mono',consolas,'Courier New',monospace\">Processing Record <span style=\"color: #008080; text-decoration-color: #008080; font-weight: bold\">22</span> of Set <span style=\"color: #008080; text-decoration-color: #008080; font-weight: bold\">6</span> | acarau\n",
       "</pre>\n"
      ],
      "text/plain": [
       "Processing Record \u001b[1;36m22\u001b[0m of Set \u001b[1;36m6\u001b[0m | acarau\n"
      ]
     },
     "metadata": {},
     "output_type": "display_data"
    },
    {
     "data": {
      "text/html": [
       "<pre style=\"white-space:pre;overflow-x:auto;line-height:normal;font-family:Menlo,'DejaVu Sans Mono',consolas,'Courier New',monospace\">Processing Record <span style=\"color: #008080; text-decoration-color: #008080; font-weight: bold\">23</span> of Set <span style=\"color: #008080; text-decoration-color: #008080; font-weight: bold\">6</span> | vilyuchinsk\n",
       "</pre>\n"
      ],
      "text/plain": [
       "Processing Record \u001b[1;36m23\u001b[0m of Set \u001b[1;36m6\u001b[0m | vilyuchinsk\n"
      ]
     },
     "metadata": {},
     "output_type": "display_data"
    },
    {
     "data": {
      "text/html": [
       "<pre style=\"white-space:pre;overflow-x:auto;line-height:normal;font-family:Menlo,'DejaVu Sans Mono',consolas,'Courier New',monospace\">Processing Record <span style=\"color: #008080; text-decoration-color: #008080; font-weight: bold\">24</span> of Set <span style=\"color: #008080; text-decoration-color: #008080; font-weight: bold\">6</span> | gadzhiyevo\n",
       "</pre>\n"
      ],
      "text/plain": [
       "Processing Record \u001b[1;36m24\u001b[0m of Set \u001b[1;36m6\u001b[0m | gadzhiyevo\n"
      ]
     },
     "metadata": {},
     "output_type": "display_data"
    },
    {
     "data": {
      "text/html": [
       "<pre style=\"white-space:pre;overflow-x:auto;line-height:normal;font-family:Menlo,'DejaVu Sans Mono',consolas,'Courier New',monospace\">Processing Record <span style=\"color: #008080; text-decoration-color: #008080; font-weight: bold\">25</span> of Set <span style=\"color: #008080; text-decoration-color: #008080; font-weight: bold\">6</span> | murun-kuren\n",
       "</pre>\n"
      ],
      "text/plain": [
       "Processing Record \u001b[1;36m25\u001b[0m of Set \u001b[1;36m6\u001b[0m | murun-kuren\n"
      ]
     },
     "metadata": {},
     "output_type": "display_data"
    },
    {
     "data": {
      "text/html": [
       "<pre style=\"white-space:pre;overflow-x:auto;line-height:normal;font-family:Menlo,'DejaVu Sans Mono',consolas,'Courier New',monospace\">Processing Record <span style=\"color: #008080; text-decoration-color: #008080; font-weight: bold\">26</span> of Set <span style=\"color: #008080; text-decoration-color: #008080; font-weight: bold\">6</span> | alexandria\n",
       "</pre>\n"
      ],
      "text/plain": [
       "Processing Record \u001b[1;36m26\u001b[0m of Set \u001b[1;36m6\u001b[0m | alexandria\n"
      ]
     },
     "metadata": {},
     "output_type": "display_data"
    },
    {
     "data": {
      "text/html": [
       "<pre style=\"white-space:pre;overflow-x:auto;line-height:normal;font-family:Menlo,'DejaVu Sans Mono',consolas,'Courier New',monospace\">Processing Record <span style=\"color: #008080; text-decoration-color: #008080; font-weight: bold\">27</span> of Set <span style=\"color: #008080; text-decoration-color: #008080; font-weight: bold\">6</span> | san ignacio\n",
       "</pre>\n"
      ],
      "text/plain": [
       "Processing Record \u001b[1;36m27\u001b[0m of Set \u001b[1;36m6\u001b[0m | san ignacio\n"
      ]
     },
     "metadata": {},
     "output_type": "display_data"
    },
    {
     "data": {
      "text/html": [
       "<pre style=\"white-space:pre;overflow-x:auto;line-height:normal;font-family:Menlo,'DejaVu Sans Mono',consolas,'Courier New',monospace\">Processing Record <span style=\"color: #008080; text-decoration-color: #008080; font-weight: bold\">28</span> of Set <span style=\"color: #008080; text-decoration-color: #008080; font-weight: bold\">6</span> | happy valley-goose bay\n",
       "</pre>\n"
      ],
      "text/plain": [
       "Processing Record \u001b[1;36m28\u001b[0m of Set \u001b[1;36m6\u001b[0m | happy valley-goose bay\n"
      ]
     },
     "metadata": {},
     "output_type": "display_data"
    },
    {
     "data": {
      "text/html": [
       "<pre style=\"white-space:pre;overflow-x:auto;line-height:normal;font-family:Menlo,'DejaVu Sans Mono',consolas,'Courier New',monospace\">Processing Record <span style=\"color: #008080; text-decoration-color: #008080; font-weight: bold\">29</span> of Set <span style=\"color: #008080; text-decoration-color: #008080; font-weight: bold\">6</span> | magistral'nyy\n",
       "</pre>\n"
      ],
      "text/plain": [
       "Processing Record \u001b[1;36m29\u001b[0m of Set \u001b[1;36m6\u001b[0m | magistral'nyy\n"
      ]
     },
     "metadata": {},
     "output_type": "display_data"
    },
    {
     "data": {
      "text/html": [
       "<pre style=\"white-space:pre;overflow-x:auto;line-height:normal;font-family:Menlo,'DejaVu Sans Mono',consolas,'Courier New',monospace\">Processing Record <span style=\"color: #008080; text-decoration-color: #008080; font-weight: bold\">30</span> of Set <span style=\"color: #008080; text-decoration-color: #008080; font-weight: bold\">6</span> | hammerfest\n",
       "</pre>\n"
      ],
      "text/plain": [
       "Processing Record \u001b[1;36m30\u001b[0m of Set \u001b[1;36m6\u001b[0m | hammerfest\n"
      ]
     },
     "metadata": {},
     "output_type": "display_data"
    },
    {
     "data": {
      "text/html": [
       "<pre style=\"white-space:pre;overflow-x:auto;line-height:normal;font-family:Menlo,'DejaVu Sans Mono',consolas,'Courier New',monospace\">Processing Record <span style=\"color: #008080; text-decoration-color: #008080; font-weight: bold\">31</span> of Set <span style=\"color: #008080; text-decoration-color: #008080; font-weight: bold\">6</span> | chifeng\n",
       "</pre>\n"
      ],
      "text/plain": [
       "Processing Record \u001b[1;36m31\u001b[0m of Set \u001b[1;36m6\u001b[0m | chifeng\n"
      ]
     },
     "metadata": {},
     "output_type": "display_data"
    },
    {
     "data": {
      "text/html": [
       "<pre style=\"white-space:pre;overflow-x:auto;line-height:normal;font-family:Menlo,'DejaVu Sans Mono',consolas,'Courier New',monospace\">Processing Record <span style=\"color: #008080; text-decoration-color: #008080; font-weight: bold\">32</span> of Set <span style=\"color: #008080; text-decoration-color: #008080; font-weight: bold\">6</span> | nuuk\n",
       "</pre>\n"
      ],
      "text/plain": [
       "Processing Record \u001b[1;36m32\u001b[0m of Set \u001b[1;36m6\u001b[0m | nuuk\n"
      ]
     },
     "metadata": {},
     "output_type": "display_data"
    },
    {
     "data": {
      "text/html": [
       "<pre style=\"white-space:pre;overflow-x:auto;line-height:normal;font-family:Menlo,'DejaVu Sans Mono',consolas,'Courier New',monospace\">Processing Record <span style=\"color: #008080; text-decoration-color: #008080; font-weight: bold\">33</span> of Set <span style=\"color: #008080; text-decoration-color: #008080; font-weight: bold\">6</span> | bao loc\n",
       "</pre>\n"
      ],
      "text/plain": [
       "Processing Record \u001b[1;36m33\u001b[0m of Set \u001b[1;36m6\u001b[0m | bao loc\n"
      ]
     },
     "metadata": {},
     "output_type": "display_data"
    },
    {
     "data": {
      "text/html": [
       "<pre style=\"white-space:pre;overflow-x:auto;line-height:normal;font-family:Menlo,'DejaVu Sans Mono',consolas,'Courier New',monospace\">City not found. Skipping<span style=\"color: #808000; text-decoration-color: #808000\">...</span>\n",
       "</pre>\n"
      ],
      "text/plain": [
       "City not found. Skipping\u001b[33m...\u001b[0m\n"
      ]
     },
     "metadata": {},
     "output_type": "display_data"
    },
    {
     "data": {
      "text/html": [
       "<pre style=\"white-space:pre;overflow-x:auto;line-height:normal;font-family:Menlo,'DejaVu Sans Mono',consolas,'Courier New',monospace\">Processing Record <span style=\"color: #008080; text-decoration-color: #008080; font-weight: bold\">34</span> of Set <span style=\"color: #008080; text-decoration-color: #008080; font-weight: bold\">6</span> | copiapo\n",
       "</pre>\n"
      ],
      "text/plain": [
       "Processing Record \u001b[1;36m34\u001b[0m of Set \u001b[1;36m6\u001b[0m | copiapo\n"
      ]
     },
     "metadata": {},
     "output_type": "display_data"
    },
    {
     "data": {
      "text/html": [
       "<pre style=\"white-space:pre;overflow-x:auto;line-height:normal;font-family:Menlo,'DejaVu Sans Mono',consolas,'Courier New',monospace\">Processing Record <span style=\"color: #008080; text-decoration-color: #008080; font-weight: bold\">35</span> of Set <span style=\"color: #008080; text-decoration-color: #008080; font-weight: bold\">6</span> | ulanhot\n",
       "</pre>\n"
      ],
      "text/plain": [
       "Processing Record \u001b[1;36m35\u001b[0m of Set \u001b[1;36m6\u001b[0m | ulanhot\n"
      ]
     },
     "metadata": {},
     "output_type": "display_data"
    },
    {
     "data": {
      "text/html": [
       "<pre style=\"white-space:pre;overflow-x:auto;line-height:normal;font-family:Menlo,'DejaVu Sans Mono',consolas,'Courier New',monospace\">Processing Record <span style=\"color: #008080; text-decoration-color: #008080; font-weight: bold\">36</span> of Set <span style=\"color: #008080; text-decoration-color: #008080; font-weight: bold\">6</span> | alnavar\n",
       "</pre>\n"
      ],
      "text/plain": [
       "Processing Record \u001b[1;36m36\u001b[0m of Set \u001b[1;36m6\u001b[0m | alnavar\n"
      ]
     },
     "metadata": {},
     "output_type": "display_data"
    },
    {
     "data": {
      "text/html": [
       "<pre style=\"white-space:pre;overflow-x:auto;line-height:normal;font-family:Menlo,'DejaVu Sans Mono',consolas,'Courier New',monospace\">Processing Record <span style=\"color: #008080; text-decoration-color: #008080; font-weight: bold\">37</span> of Set <span style=\"color: #008080; text-decoration-color: #008080; font-weight: bold\">6</span> | bosobolo\n",
       "</pre>\n"
      ],
      "text/plain": [
       "Processing Record \u001b[1;36m37\u001b[0m of Set \u001b[1;36m6\u001b[0m | bosobolo\n"
      ]
     },
     "metadata": {},
     "output_type": "display_data"
    },
    {
     "data": {
      "text/html": [
       "<pre style=\"white-space:pre;overflow-x:auto;line-height:normal;font-family:Menlo,'DejaVu Sans Mono',consolas,'Courier New',monospace\">Processing Record <span style=\"color: #008080; text-decoration-color: #008080; font-weight: bold\">38</span> of Set <span style=\"color: #008080; text-decoration-color: #008080; font-weight: bold\">6</span> | craig\n",
       "</pre>\n"
      ],
      "text/plain": [
       "Processing Record \u001b[1;36m38\u001b[0m of Set \u001b[1;36m6\u001b[0m | craig\n"
      ]
     },
     "metadata": {},
     "output_type": "display_data"
    },
    {
     "data": {
      "text/html": [
       "<pre style=\"white-space:pre;overflow-x:auto;line-height:normal;font-family:Menlo,'DejaVu Sans Mono',consolas,'Courier New',monospace\">Processing Record <span style=\"color: #008080; text-decoration-color: #008080; font-weight: bold\">39</span> of Set <span style=\"color: #008080; text-decoration-color: #008080; font-weight: bold\">6</span> | timmins\n",
       "</pre>\n"
      ],
      "text/plain": [
       "Processing Record \u001b[1;36m39\u001b[0m of Set \u001b[1;36m6\u001b[0m | timmins\n"
      ]
     },
     "metadata": {},
     "output_type": "display_data"
    },
    {
     "data": {
      "text/html": [
       "<pre style=\"white-space:pre;overflow-x:auto;line-height:normal;font-family:Menlo,'DejaVu Sans Mono',consolas,'Courier New',monospace\">Processing Record <span style=\"color: #008080; text-decoration-color: #008080; font-weight: bold\">40</span> of Set <span style=\"color: #008080; text-decoration-color: #008080; font-weight: bold\">6</span> | lijiang\n",
       "</pre>\n"
      ],
      "text/plain": [
       "Processing Record \u001b[1;36m40\u001b[0m of Set \u001b[1;36m6\u001b[0m | lijiang\n"
      ]
     },
     "metadata": {},
     "output_type": "display_data"
    },
    {
     "data": {
      "text/html": [
       "<pre style=\"white-space:pre;overflow-x:auto;line-height:normal;font-family:Menlo,'DejaVu Sans Mono',consolas,'Courier New',monospace\">Processing Record <span style=\"color: #008080; text-decoration-color: #008080; font-weight: bold\">41</span> of Set <span style=\"color: #008080; text-decoration-color: #008080; font-weight: bold\">6</span> | paphos\n",
       "</pre>\n"
      ],
      "text/plain": [
       "Processing Record \u001b[1;36m41\u001b[0m of Set \u001b[1;36m6\u001b[0m | paphos\n"
      ]
     },
     "metadata": {},
     "output_type": "display_data"
    },
    {
     "data": {
      "text/html": [
       "<pre style=\"white-space:pre;overflow-x:auto;line-height:normal;font-family:Menlo,'DejaVu Sans Mono',consolas,'Courier New',monospace\">Processing Record <span style=\"color: #008080; text-decoration-color: #008080; font-weight: bold\">42</span> of Set <span style=\"color: #008080; text-decoration-color: #008080; font-weight: bold\">6</span> | nchelenge\n",
       "</pre>\n"
      ],
      "text/plain": [
       "Processing Record \u001b[1;36m42\u001b[0m of Set \u001b[1;36m6\u001b[0m | nchelenge\n"
      ]
     },
     "metadata": {},
     "output_type": "display_data"
    },
    {
     "data": {
      "text/html": [
       "<pre style=\"white-space:pre;overflow-x:auto;line-height:normal;font-family:Menlo,'DejaVu Sans Mono',consolas,'Courier New',monospace\">Processing Record <span style=\"color: #008080; text-decoration-color: #008080; font-weight: bold\">43</span> of Set <span style=\"color: #008080; text-decoration-color: #008080; font-weight: bold\">6</span> | cartagena\n",
       "</pre>\n"
      ],
      "text/plain": [
       "Processing Record \u001b[1;36m43\u001b[0m of Set \u001b[1;36m6\u001b[0m | cartagena\n"
      ]
     },
     "metadata": {},
     "output_type": "display_data"
    },
    {
     "data": {
      "text/html": [
       "<pre style=\"white-space:pre;overflow-x:auto;line-height:normal;font-family:Menlo,'DejaVu Sans Mono',consolas,'Courier New',monospace\">Processing Record <span style=\"color: #008080; text-decoration-color: #008080; font-weight: bold\">44</span> of Set <span style=\"color: #008080; text-decoration-color: #008080; font-weight: bold\">6</span> | colesberg\n",
       "</pre>\n"
      ],
      "text/plain": [
       "Processing Record \u001b[1;36m44\u001b[0m of Set \u001b[1;36m6\u001b[0m | colesberg\n"
      ]
     },
     "metadata": {},
     "output_type": "display_data"
    },
    {
     "data": {
      "text/html": [
       "<pre style=\"white-space:pre;overflow-x:auto;line-height:normal;font-family:Menlo,'DejaVu Sans Mono',consolas,'Courier New',monospace\">Processing Record <span style=\"color: #008080; text-decoration-color: #008080; font-weight: bold\">45</span> of Set <span style=\"color: #008080; text-decoration-color: #008080; font-weight: bold\">6</span> | tsiombe\n",
       "</pre>\n"
      ],
      "text/plain": [
       "Processing Record \u001b[1;36m45\u001b[0m of Set \u001b[1;36m6\u001b[0m | tsiombe\n"
      ]
     },
     "metadata": {},
     "output_type": "display_data"
    },
    {
     "data": {
      "text/html": [
       "<pre style=\"white-space:pre;overflow-x:auto;line-height:normal;font-family:Menlo,'DejaVu Sans Mono',consolas,'Courier New',monospace\">Processing Record <span style=\"color: #008080; text-decoration-color: #008080; font-weight: bold\">46</span> of Set <span style=\"color: #008080; text-decoration-color: #008080; font-weight: bold\">6</span> | ciudad lazaro cardenas\n",
       "</pre>\n"
      ],
      "text/plain": [
       "Processing Record \u001b[1;36m46\u001b[0m of Set \u001b[1;36m6\u001b[0m | ciudad lazaro cardenas\n"
      ]
     },
     "metadata": {},
     "output_type": "display_data"
    },
    {
     "data": {
      "text/html": [
       "<pre style=\"white-space:pre;overflow-x:auto;line-height:normal;font-family:Menlo,'DejaVu Sans Mono',consolas,'Courier New',monospace\">Processing Record <span style=\"color: #008080; text-decoration-color: #008080; font-weight: bold\">47</span> of Set <span style=\"color: #008080; text-decoration-color: #008080; font-weight: bold\">6</span> | remire-montjoly\n",
       "</pre>\n"
      ],
      "text/plain": [
       "Processing Record \u001b[1;36m47\u001b[0m of Set \u001b[1;36m6\u001b[0m | remire-montjoly\n"
      ]
     },
     "metadata": {},
     "output_type": "display_data"
    },
    {
     "data": {
      "text/html": [
       "<pre style=\"white-space:pre;overflow-x:auto;line-height:normal;font-family:Menlo,'DejaVu Sans Mono',consolas,'Courier New',monospace\">Processing Record <span style=\"color: #008080; text-decoration-color: #008080; font-weight: bold\">48</span> of Set <span style=\"color: #008080; text-decoration-color: #008080; font-weight: bold\">6</span> | kansipati\n",
       "</pre>\n"
      ],
      "text/plain": [
       "Processing Record \u001b[1;36m48\u001b[0m of Set \u001b[1;36m6\u001b[0m | kansipati\n"
      ]
     },
     "metadata": {},
     "output_type": "display_data"
    },
    {
     "data": {
      "text/html": [
       "<pre style=\"white-space:pre;overflow-x:auto;line-height:normal;font-family:Menlo,'DejaVu Sans Mono',consolas,'Courier New',monospace\">Processing Record <span style=\"color: #008080; text-decoration-color: #008080; font-weight: bold\">49</span> of Set <span style=\"color: #008080; text-decoration-color: #008080; font-weight: bold\">6</span> | gorontalo\n",
       "</pre>\n"
      ],
      "text/plain": [
       "Processing Record \u001b[1;36m49\u001b[0m of Set \u001b[1;36m6\u001b[0m | gorontalo\n"
      ]
     },
     "metadata": {},
     "output_type": "display_data"
    },
    {
     "data": {
      "text/html": [
       "<pre style=\"white-space:pre;overflow-x:auto;line-height:normal;font-family:Menlo,'DejaVu Sans Mono',consolas,'Courier New',monospace\">Processing Record <span style=\"color: #008080; text-decoration-color: #008080; font-weight: bold\">0</span> of Set <span style=\"color: #008080; text-decoration-color: #008080; font-weight: bold\">7</span> | kittila\n",
       "</pre>\n"
      ],
      "text/plain": [
       "Processing Record \u001b[1;36m0\u001b[0m of Set \u001b[1;36m7\u001b[0m | kittila\n"
      ]
     },
     "metadata": {},
     "output_type": "display_data"
    },
    {
     "data": {
      "text/html": [
       "<pre style=\"white-space:pre;overflow-x:auto;line-height:normal;font-family:Menlo,'DejaVu Sans Mono',consolas,'Courier New',monospace\">Processing Record <span style=\"color: #008080; text-decoration-color: #008080; font-weight: bold\">1</span> of Set <span style=\"color: #008080; text-decoration-color: #008080; font-weight: bold\">7</span> | tindouf\n",
       "</pre>\n"
      ],
      "text/plain": [
       "Processing Record \u001b[1;36m1\u001b[0m of Set \u001b[1;36m7\u001b[0m | tindouf\n"
      ]
     },
     "metadata": {},
     "output_type": "display_data"
    },
    {
     "data": {
      "text/html": [
       "<pre style=\"white-space:pre;overflow-x:auto;line-height:normal;font-family:Menlo,'DejaVu Sans Mono',consolas,'Courier New',monospace\">Processing Record <span style=\"color: #008080; text-decoration-color: #008080; font-weight: bold\">2</span> of Set <span style=\"color: #008080; text-decoration-color: #008080; font-weight: bold\">7</span> | porto seguro\n",
       "</pre>\n"
      ],
      "text/plain": [
       "Processing Record \u001b[1;36m2\u001b[0m of Set \u001b[1;36m7\u001b[0m | porto seguro\n"
      ]
     },
     "metadata": {},
     "output_type": "display_data"
    },
    {
     "data": {
      "text/html": [
       "<pre style=\"white-space:pre;overflow-x:auto;line-height:normal;font-family:Menlo,'DejaVu Sans Mono',consolas,'Courier New',monospace\">Processing Record <span style=\"color: #008080; text-decoration-color: #008080; font-weight: bold\">3</span> of Set <span style=\"color: #008080; text-decoration-color: #008080; font-weight: bold\">7</span> | bellavista\n",
       "</pre>\n"
      ],
      "text/plain": [
       "Processing Record \u001b[1;36m3\u001b[0m of Set \u001b[1;36m7\u001b[0m | bellavista\n"
      ]
     },
     "metadata": {},
     "output_type": "display_data"
    },
    {
     "data": {
      "text/html": [
       "<pre style=\"white-space:pre;overflow-x:auto;line-height:normal;font-family:Menlo,'DejaVu Sans Mono',consolas,'Courier New',monospace\">Processing Record <span style=\"color: #008080; text-decoration-color: #008080; font-weight: bold\">4</span> of Set <span style=\"color: #008080; text-decoration-color: #008080; font-weight: bold\">7</span> | cargados carajos\n",
       "</pre>\n"
      ],
      "text/plain": [
       "Processing Record \u001b[1;36m4\u001b[0m of Set \u001b[1;36m7\u001b[0m | cargados carajos\n"
      ]
     },
     "metadata": {},
     "output_type": "display_data"
    },
    {
     "data": {
      "text/html": [
       "<pre style=\"white-space:pre;overflow-x:auto;line-height:normal;font-family:Menlo,'DejaVu Sans Mono',consolas,'Courier New',monospace\">City not found. Skipping<span style=\"color: #808000; text-decoration-color: #808000\">...</span>\n",
       "</pre>\n"
      ],
      "text/plain": [
       "City not found. Skipping\u001b[33m...\u001b[0m\n"
      ]
     },
     "metadata": {},
     "output_type": "display_data"
    },
    {
     "data": {
      "text/html": [
       "<pre style=\"white-space:pre;overflow-x:auto;line-height:normal;font-family:Menlo,'DejaVu Sans Mono',consolas,'Courier New',monospace\">Processing Record <span style=\"color: #008080; text-decoration-color: #008080; font-weight: bold\">5</span> of Set <span style=\"color: #008080; text-decoration-color: #008080; font-weight: bold\">7</span> | yarmouth\n",
       "</pre>\n"
      ],
      "text/plain": [
       "Processing Record \u001b[1;36m5\u001b[0m of Set \u001b[1;36m7\u001b[0m | yarmouth\n"
      ]
     },
     "metadata": {},
     "output_type": "display_data"
    },
    {
     "data": {
      "text/html": [
       "<pre style=\"white-space:pre;overflow-x:auto;line-height:normal;font-family:Menlo,'DejaVu Sans Mono',consolas,'Courier New',monospace\">Processing Record <span style=\"color: #008080; text-decoration-color: #008080; font-weight: bold\">6</span> of Set <span style=\"color: #008080; text-decoration-color: #008080; font-weight: bold\">7</span> | castillos\n",
       "</pre>\n"
      ],
      "text/plain": [
       "Processing Record \u001b[1;36m6\u001b[0m of Set \u001b[1;36m7\u001b[0m | castillos\n"
      ]
     },
     "metadata": {},
     "output_type": "display_data"
    },
    {
     "data": {
      "text/html": [
       "<pre style=\"white-space:pre;overflow-x:auto;line-height:normal;font-family:Menlo,'DejaVu Sans Mono',consolas,'Courier New',monospace\">Processing Record <span style=\"color: #008080; text-decoration-color: #008080; font-weight: bold\">7</span> of Set <span style=\"color: #008080; text-decoration-color: #008080; font-weight: bold\">7</span> | baoqing\n",
       "</pre>\n"
      ],
      "text/plain": [
       "Processing Record \u001b[1;36m7\u001b[0m of Set \u001b[1;36m7\u001b[0m | baoqing\n"
      ]
     },
     "metadata": {},
     "output_type": "display_data"
    },
    {
     "data": {
      "text/html": [
       "<pre style=\"white-space:pre;overflow-x:auto;line-height:normal;font-family:Menlo,'DejaVu Sans Mono',consolas,'Courier New',monospace\">Processing Record <span style=\"color: #008080; text-decoration-color: #008080; font-weight: bold\">8</span> of Set <span style=\"color: #008080; text-decoration-color: #008080; font-weight: bold\">7</span> | vingt cinq\n",
       "</pre>\n"
      ],
      "text/plain": [
       "Processing Record \u001b[1;36m8\u001b[0m of Set \u001b[1;36m7\u001b[0m | vingt cinq\n"
      ]
     },
     "metadata": {},
     "output_type": "display_data"
    },
    {
     "data": {
      "text/html": [
       "<pre style=\"white-space:pre;overflow-x:auto;line-height:normal;font-family:Menlo,'DejaVu Sans Mono',consolas,'Courier New',monospace\">City not found. Skipping<span style=\"color: #808000; text-decoration-color: #808000\">...</span>\n",
       "</pre>\n"
      ],
      "text/plain": [
       "City not found. Skipping\u001b[33m...\u001b[0m\n"
      ]
     },
     "metadata": {},
     "output_type": "display_data"
    },
    {
     "data": {
      "text/html": [
       "<pre style=\"white-space:pre;overflow-x:auto;line-height:normal;font-family:Menlo,'DejaVu Sans Mono',consolas,'Courier New',monospace\">Processing Record <span style=\"color: #008080; text-decoration-color: #008080; font-weight: bold\">9</span> of Set <span style=\"color: #008080; text-decoration-color: #008080; font-weight: bold\">7</span> | ar rass\n",
       "</pre>\n"
      ],
      "text/plain": [
       "Processing Record \u001b[1;36m9\u001b[0m of Set \u001b[1;36m7\u001b[0m | ar rass\n"
      ]
     },
     "metadata": {},
     "output_type": "display_data"
    },
    {
     "data": {
      "text/html": [
       "<pre style=\"white-space:pre;overflow-x:auto;line-height:normal;font-family:Menlo,'DejaVu Sans Mono',consolas,'Courier New',monospace\">Processing Record <span style=\"color: #008080; text-decoration-color: #008080; font-weight: bold\">10</span> of Set <span style=\"color: #008080; text-decoration-color: #008080; font-weight: bold\">7</span> | barra\n",
       "</pre>\n"
      ],
      "text/plain": [
       "Processing Record \u001b[1;36m10\u001b[0m of Set \u001b[1;36m7\u001b[0m | barra\n"
      ]
     },
     "metadata": {},
     "output_type": "display_data"
    },
    {
     "data": {
      "text/html": [
       "<pre style=\"white-space:pre;overflow-x:auto;line-height:normal;font-family:Menlo,'DejaVu Sans Mono',consolas,'Courier New',monospace\">Processing Record <span style=\"color: #008080; text-decoration-color: #008080; font-weight: bold\">11</span> of Set <span style=\"color: #008080; text-decoration-color: #008080; font-weight: bold\">7</span> | kolonia town\n",
       "</pre>\n"
      ],
      "text/plain": [
       "Processing Record \u001b[1;36m11\u001b[0m of Set \u001b[1;36m7\u001b[0m | kolonia town\n"
      ]
     },
     "metadata": {},
     "output_type": "display_data"
    },
    {
     "data": {
      "text/html": [
       "<pre style=\"white-space:pre;overflow-x:auto;line-height:normal;font-family:Menlo,'DejaVu Sans Mono',consolas,'Courier New',monospace\">Processing Record <span style=\"color: #008080; text-decoration-color: #008080; font-weight: bold\">12</span> of Set <span style=\"color: #008080; text-decoration-color: #008080; font-weight: bold\">7</span> | alappuzha\n",
       "</pre>\n"
      ],
      "text/plain": [
       "Processing Record \u001b[1;36m12\u001b[0m of Set \u001b[1;36m7\u001b[0m | alappuzha\n"
      ]
     },
     "metadata": {},
     "output_type": "display_data"
    },
    {
     "data": {
      "text/html": [
       "<pre style=\"white-space:pre;overflow-x:auto;line-height:normal;font-family:Menlo,'DejaVu Sans Mono',consolas,'Courier New',monospace\">Processing Record <span style=\"color: #008080; text-decoration-color: #008080; font-weight: bold\">13</span> of Set <span style=\"color: #008080; text-decoration-color: #008080; font-weight: bold\">7</span> | lensk\n",
       "</pre>\n"
      ],
      "text/plain": [
       "Processing Record \u001b[1;36m13\u001b[0m of Set \u001b[1;36m7\u001b[0m | lensk\n"
      ]
     },
     "metadata": {},
     "output_type": "display_data"
    },
    {
     "data": {
      "text/html": [
       "<pre style=\"white-space:pre;overflow-x:auto;line-height:normal;font-family:Menlo,'DejaVu Sans Mono',consolas,'Courier New',monospace\">Processing Record <span style=\"color: #008080; text-decoration-color: #008080; font-weight: bold\">14</span> of Set <span style=\"color: #008080; text-decoration-color: #008080; font-weight: bold\">7</span> | sao vicente\n",
       "</pre>\n"
      ],
      "text/plain": [
       "Processing Record \u001b[1;36m14\u001b[0m of Set \u001b[1;36m7\u001b[0m | sao vicente\n"
      ]
     },
     "metadata": {},
     "output_type": "display_data"
    },
    {
     "data": {
      "text/html": [
       "<pre style=\"white-space:pre;overflow-x:auto;line-height:normal;font-family:Menlo,'DejaVu Sans Mono',consolas,'Courier New',monospace\">Processing Record <span style=\"color: #008080; text-decoration-color: #008080; font-weight: bold\">15</span> of Set <span style=\"color: #008080; text-decoration-color: #008080; font-weight: bold\">7</span> | aykhal\n",
       "</pre>\n"
      ],
      "text/plain": [
       "Processing Record \u001b[1;36m15\u001b[0m of Set \u001b[1;36m7\u001b[0m | aykhal\n"
      ]
     },
     "metadata": {},
     "output_type": "display_data"
    },
    {
     "data": {
      "text/html": [
       "<pre style=\"white-space:pre;overflow-x:auto;line-height:normal;font-family:Menlo,'DejaVu Sans Mono',consolas,'Courier New',monospace\">Processing Record <span style=\"color: #008080; text-decoration-color: #008080; font-weight: bold\">16</span> of Set <span style=\"color: #008080; text-decoration-color: #008080; font-weight: bold\">7</span> | viqueque\n",
       "</pre>\n"
      ],
      "text/plain": [
       "Processing Record \u001b[1;36m16\u001b[0m of Set \u001b[1;36m7\u001b[0m | viqueque\n"
      ]
     },
     "metadata": {},
     "output_type": "display_data"
    },
    {
     "data": {
      "text/html": [
       "<pre style=\"white-space:pre;overflow-x:auto;line-height:normal;font-family:Menlo,'DejaVu Sans Mono',consolas,'Courier New',monospace\">Processing Record <span style=\"color: #008080; text-decoration-color: #008080; font-weight: bold\">17</span> of Set <span style=\"color: #008080; text-decoration-color: #008080; font-weight: bold\">7</span> | elverum\n",
       "</pre>\n"
      ],
      "text/plain": [
       "Processing Record \u001b[1;36m17\u001b[0m of Set \u001b[1;36m7\u001b[0m | elverum\n"
      ]
     },
     "metadata": {},
     "output_type": "display_data"
    },
    {
     "data": {
      "text/html": [
       "<pre style=\"white-space:pre;overflow-x:auto;line-height:normal;font-family:Menlo,'DejaVu Sans Mono',consolas,'Courier New',monospace\">Processing Record <span style=\"color: #008080; text-decoration-color: #008080; font-weight: bold\">18</span> of Set <span style=\"color: #008080; text-decoration-color: #008080; font-weight: bold\">7</span> | as sulayyil\n",
       "</pre>\n"
      ],
      "text/plain": [
       "Processing Record \u001b[1;36m18\u001b[0m of Set \u001b[1;36m7\u001b[0m | as sulayyil\n"
      ]
     },
     "metadata": {},
     "output_type": "display_data"
    },
    {
     "data": {
      "text/html": [
       "<pre style=\"white-space:pre;overflow-x:auto;line-height:normal;font-family:Menlo,'DejaVu Sans Mono',consolas,'Courier New',monospace\">Processing Record <span style=\"color: #008080; text-decoration-color: #008080; font-weight: bold\">19</span> of Set <span style=\"color: #008080; text-decoration-color: #008080; font-weight: bold\">7</span> | ishigaki\n",
       "</pre>\n"
      ],
      "text/plain": [
       "Processing Record \u001b[1;36m19\u001b[0m of Set \u001b[1;36m7\u001b[0m | ishigaki\n"
      ]
     },
     "metadata": {},
     "output_type": "display_data"
    },
    {
     "data": {
      "text/html": [
       "<pre style=\"white-space:pre;overflow-x:auto;line-height:normal;font-family:Menlo,'DejaVu Sans Mono',consolas,'Courier New',monospace\">Processing Record <span style=\"color: #008080; text-decoration-color: #008080; font-weight: bold\">20</span> of Set <span style=\"color: #008080; text-decoration-color: #008080; font-weight: bold\">7</span> | kaa-khem\n",
       "</pre>\n"
      ],
      "text/plain": [
       "Processing Record \u001b[1;36m20\u001b[0m of Set \u001b[1;36m7\u001b[0m | kaa-khem\n"
      ]
     },
     "metadata": {},
     "output_type": "display_data"
    },
    {
     "data": {
      "text/html": [
       "<pre style=\"white-space:pre;overflow-x:auto;line-height:normal;font-family:Menlo,'DejaVu Sans Mono',consolas,'Courier New',monospace\">Processing Record <span style=\"color: #008080; text-decoration-color: #008080; font-weight: bold\">21</span> of Set <span style=\"color: #008080; text-decoration-color: #008080; font-weight: bold\">7</span> | okha\n",
       "</pre>\n"
      ],
      "text/plain": [
       "Processing Record \u001b[1;36m21\u001b[0m of Set \u001b[1;36m7\u001b[0m | okha\n"
      ]
     },
     "metadata": {},
     "output_type": "display_data"
    },
    {
     "data": {
      "text/html": [
       "<pre style=\"white-space:pre;overflow-x:auto;line-height:normal;font-family:Menlo,'DejaVu Sans Mono',consolas,'Courier New',monospace\">Processing Record <span style=\"color: #008080; text-decoration-color: #008080; font-weight: bold\">22</span> of Set <span style=\"color: #008080; text-decoration-color: #008080; font-weight: bold\">7</span> | horta\n",
       "</pre>\n"
      ],
      "text/plain": [
       "Processing Record \u001b[1;36m22\u001b[0m of Set \u001b[1;36m7\u001b[0m | horta\n"
      ]
     },
     "metadata": {},
     "output_type": "display_data"
    },
    {
     "data": {
      "text/html": [
       "<pre style=\"white-space:pre;overflow-x:auto;line-height:normal;font-family:Menlo,'DejaVu Sans Mono',consolas,'Courier New',monospace\">Processing Record <span style=\"color: #008080; text-decoration-color: #008080; font-weight: bold\">23</span> of Set <span style=\"color: #008080; text-decoration-color: #008080; font-weight: bold\">7</span> | ceres\n",
       "</pre>\n"
      ],
      "text/plain": [
       "Processing Record \u001b[1;36m23\u001b[0m of Set \u001b[1;36m7\u001b[0m | ceres\n"
      ]
     },
     "metadata": {},
     "output_type": "display_data"
    },
    {
     "data": {
      "text/html": [
       "<pre style=\"white-space:pre;overflow-x:auto;line-height:normal;font-family:Menlo,'DejaVu Sans Mono',consolas,'Courier New',monospace\">Processing Record <span style=\"color: #008080; text-decoration-color: #008080; font-weight: bold\">24</span> of Set <span style=\"color: #008080; text-decoration-color: #008080; font-weight: bold\">7</span> | sarnen\n",
       "</pre>\n"
      ],
      "text/plain": [
       "Processing Record \u001b[1;36m24\u001b[0m of Set \u001b[1;36m7\u001b[0m | sarnen\n"
      ]
     },
     "metadata": {},
     "output_type": "display_data"
    },
    {
     "data": {
      "text/html": [
       "<pre style=\"white-space:pre;overflow-x:auto;line-height:normal;font-family:Menlo,'DejaVu Sans Mono',consolas,'Courier New',monospace\">Processing Record <span style=\"color: #008080; text-decoration-color: #008080; font-weight: bold\">25</span> of Set <span style=\"color: #008080; text-decoration-color: #008080; font-weight: bold\">7</span> | hechuan\n",
       "</pre>\n"
      ],
      "text/plain": [
       "Processing Record \u001b[1;36m25\u001b[0m of Set \u001b[1;36m7\u001b[0m | hechuan\n"
      ]
     },
     "metadata": {},
     "output_type": "display_data"
    },
    {
     "data": {
      "text/html": [
       "<pre style=\"white-space:pre;overflow-x:auto;line-height:normal;font-family:Menlo,'DejaVu Sans Mono',consolas,'Courier New',monospace\">Processing Record <span style=\"color: #008080; text-decoration-color: #008080; font-weight: bold\">26</span> of Set <span style=\"color: #008080; text-decoration-color: #008080; font-weight: bold\">7</span> | galesong\n",
       "</pre>\n"
      ],
      "text/plain": [
       "Processing Record \u001b[1;36m26\u001b[0m of Set \u001b[1;36m7\u001b[0m | galesong\n"
      ]
     },
     "metadata": {},
     "output_type": "display_data"
    },
    {
     "data": {
      "text/html": [
       "<pre style=\"white-space:pre;overflow-x:auto;line-height:normal;font-family:Menlo,'DejaVu Sans Mono',consolas,'Courier New',monospace\">Processing Record <span style=\"color: #008080; text-decoration-color: #008080; font-weight: bold\">27</span> of Set <span style=\"color: #008080; text-decoration-color: #008080; font-weight: bold\">7</span> | glace bay\n",
       "</pre>\n"
      ],
      "text/plain": [
       "Processing Record \u001b[1;36m27\u001b[0m of Set \u001b[1;36m7\u001b[0m | glace bay\n"
      ]
     },
     "metadata": {},
     "output_type": "display_data"
    },
    {
     "data": {
      "text/html": [
       "<pre style=\"white-space:pre;overflow-x:auto;line-height:normal;font-family:Menlo,'DejaVu Sans Mono',consolas,'Courier New',monospace\">Processing Record <span style=\"color: #008080; text-decoration-color: #008080; font-weight: bold\">28</span> of Set <span style=\"color: #008080; text-decoration-color: #008080; font-weight: bold\">7</span> | vitoria da conquista\n",
       "</pre>\n"
      ],
      "text/plain": [
       "Processing Record \u001b[1;36m28\u001b[0m of Set \u001b[1;36m7\u001b[0m | vitoria da conquista\n"
      ]
     },
     "metadata": {},
     "output_type": "display_data"
    },
    {
     "data": {
      "text/html": [
       "<pre style=\"white-space:pre;overflow-x:auto;line-height:normal;font-family:Menlo,'DejaVu Sans Mono',consolas,'Courier New',monospace\">Processing Record <span style=\"color: #008080; text-decoration-color: #008080; font-weight: bold\">29</span> of Set <span style=\"color: #008080; text-decoration-color: #008080; font-weight: bold\">7</span> | saint-pierre\n",
       "</pre>\n"
      ],
      "text/plain": [
       "Processing Record \u001b[1;36m29\u001b[0m of Set \u001b[1;36m7\u001b[0m | saint-pierre\n"
      ]
     },
     "metadata": {},
     "output_type": "display_data"
    },
    {
     "data": {
      "text/html": [
       "<pre style=\"white-space:pre;overflow-x:auto;line-height:normal;font-family:Menlo,'DejaVu Sans Mono',consolas,'Courier New',monospace\">Processing Record <span style=\"color: #008080; text-decoration-color: #008080; font-weight: bold\">30</span> of Set <span style=\"color: #008080; text-decoration-color: #008080; font-weight: bold\">7</span> | mejit\n",
       "</pre>\n"
      ],
      "text/plain": [
       "Processing Record \u001b[1;36m30\u001b[0m of Set \u001b[1;36m7\u001b[0m | mejit\n"
      ]
     },
     "metadata": {},
     "output_type": "display_data"
    },
    {
     "data": {
      "text/html": [
       "<pre style=\"white-space:pre;overflow-x:auto;line-height:normal;font-family:Menlo,'DejaVu Sans Mono',consolas,'Courier New',monospace\">Processing Record <span style=\"color: #008080; text-decoration-color: #008080; font-weight: bold\">31</span> of Set <span style=\"color: #008080; text-decoration-color: #008080; font-weight: bold\">7</span> | mandideep\n",
       "</pre>\n"
      ],
      "text/plain": [
       "Processing Record \u001b[1;36m31\u001b[0m of Set \u001b[1;36m7\u001b[0m | mandideep\n"
      ]
     },
     "metadata": {},
     "output_type": "display_data"
    },
    {
     "data": {
      "text/html": [
       "<pre style=\"white-space:pre;overflow-x:auto;line-height:normal;font-family:Menlo,'DejaVu Sans Mono',consolas,'Courier New',monospace\">Processing Record <span style=\"color: #008080; text-decoration-color: #008080; font-weight: bold\">32</span> of Set <span style=\"color: #008080; text-decoration-color: #008080; font-weight: bold\">7</span> | the pas\n",
       "</pre>\n"
      ],
      "text/plain": [
       "Processing Record \u001b[1;36m32\u001b[0m of Set \u001b[1;36m7\u001b[0m | the pas\n"
      ]
     },
     "metadata": {},
     "output_type": "display_data"
    },
    {
     "data": {
      "text/html": [
       "<pre style=\"white-space:pre;overflow-x:auto;line-height:normal;font-family:Menlo,'DejaVu Sans Mono',consolas,'Courier New',monospace\">Processing Record <span style=\"color: #008080; text-decoration-color: #008080; font-weight: bold\">33</span> of Set <span style=\"color: #008080; text-decoration-color: #008080; font-weight: bold\">7</span> | griffith\n",
       "</pre>\n"
      ],
      "text/plain": [
       "Processing Record \u001b[1;36m33\u001b[0m of Set \u001b[1;36m7\u001b[0m | griffith\n"
      ]
     },
     "metadata": {},
     "output_type": "display_data"
    },
    {
     "data": {
      "text/html": [
       "<pre style=\"white-space:pre;overflow-x:auto;line-height:normal;font-family:Menlo,'DejaVu Sans Mono',consolas,'Courier New',monospace\">Processing Record <span style=\"color: #008080; text-decoration-color: #008080; font-weight: bold\">34</span> of Set <span style=\"color: #008080; text-decoration-color: #008080; font-weight: bold\">7</span> | kupang\n",
       "</pre>\n"
      ],
      "text/plain": [
       "Processing Record \u001b[1;36m34\u001b[0m of Set \u001b[1;36m7\u001b[0m | kupang\n"
      ]
     },
     "metadata": {},
     "output_type": "display_data"
    },
    {
     "data": {
      "text/html": [
       "<pre style=\"white-space:pre;overflow-x:auto;line-height:normal;font-family:Menlo,'DejaVu Sans Mono',consolas,'Courier New',monospace\">Processing Record <span style=\"color: #008080; text-decoration-color: #008080; font-weight: bold\">35</span> of Set <span style=\"color: #008080; text-decoration-color: #008080; font-weight: bold\">7</span> | mugia\n",
       "</pre>\n"
      ],
      "text/plain": [
       "Processing Record \u001b[1;36m35\u001b[0m of Set \u001b[1;36m7\u001b[0m | mugia\n"
      ]
     },
     "metadata": {},
     "output_type": "display_data"
    },
    {
     "data": {
      "text/html": [
       "<pre style=\"white-space:pre;overflow-x:auto;line-height:normal;font-family:Menlo,'DejaVu Sans Mono',consolas,'Courier New',monospace\">Processing Record <span style=\"color: #008080; text-decoration-color: #008080; font-weight: bold\">36</span> of Set <span style=\"color: #008080; text-decoration-color: #008080; font-weight: bold\">7</span> | fuglafjordur\n",
       "</pre>\n"
      ],
      "text/plain": [
       "Processing Record \u001b[1;36m36\u001b[0m of Set \u001b[1;36m7\u001b[0m | fuglafjordur\n"
      ]
     },
     "metadata": {},
     "output_type": "display_data"
    },
    {
     "data": {
      "text/html": [
       "<pre style=\"white-space:pre;overflow-x:auto;line-height:normal;font-family:Menlo,'DejaVu Sans Mono',consolas,'Courier New',monospace\">Processing Record <span style=\"color: #008080; text-decoration-color: #008080; font-weight: bold\">37</span> of Set <span style=\"color: #008080; text-decoration-color: #008080; font-weight: bold\">7</span> | dunedin\n",
       "</pre>\n"
      ],
      "text/plain": [
       "Processing Record \u001b[1;36m37\u001b[0m of Set \u001b[1;36m7\u001b[0m | dunedin\n"
      ]
     },
     "metadata": {},
     "output_type": "display_data"
    },
    {
     "data": {
      "text/html": [
       "<pre style=\"white-space:pre;overflow-x:auto;line-height:normal;font-family:Menlo,'DejaVu Sans Mono',consolas,'Courier New',monospace\">Processing Record <span style=\"color: #008080; text-decoration-color: #008080; font-weight: bold\">38</span> of Set <span style=\"color: #008080; text-decoration-color: #008080; font-weight: bold\">7</span> | agbor\n",
       "</pre>\n"
      ],
      "text/plain": [
       "Processing Record \u001b[1;36m38\u001b[0m of Set \u001b[1;36m7\u001b[0m | agbor\n"
      ]
     },
     "metadata": {},
     "output_type": "display_data"
    },
    {
     "data": {
      "text/html": [
       "<pre style=\"white-space:pre;overflow-x:auto;line-height:normal;font-family:Menlo,'DejaVu Sans Mono',consolas,'Courier New',monospace\">Processing Record <span style=\"color: #008080; text-decoration-color: #008080; font-weight: bold\">39</span> of Set <span style=\"color: #008080; text-decoration-color: #008080; font-weight: bold\">7</span> | malango\n",
       "</pre>\n"
      ],
      "text/plain": [
       "Processing Record \u001b[1;36m39\u001b[0m of Set \u001b[1;36m7\u001b[0m | malango\n"
      ]
     },
     "metadata": {},
     "output_type": "display_data"
    },
    {
     "data": {
      "text/html": [
       "<pre style=\"white-space:pre;overflow-x:auto;line-height:normal;font-family:Menlo,'DejaVu Sans Mono',consolas,'Courier New',monospace\">Processing Record <span style=\"color: #008080; text-decoration-color: #008080; font-weight: bold\">40</span> of Set <span style=\"color: #008080; text-decoration-color: #008080; font-weight: bold\">7</span> | barra do garcas\n",
       "</pre>\n"
      ],
      "text/plain": [
       "Processing Record \u001b[1;36m40\u001b[0m of Set \u001b[1;36m7\u001b[0m | barra do garcas\n"
      ]
     },
     "metadata": {},
     "output_type": "display_data"
    },
    {
     "data": {
      "text/html": [
       "<pre style=\"white-space:pre;overflow-x:auto;line-height:normal;font-family:Menlo,'DejaVu Sans Mono',consolas,'Courier New',monospace\">Processing Record <span style=\"color: #008080; text-decoration-color: #008080; font-weight: bold\">41</span> of Set <span style=\"color: #008080; text-decoration-color: #008080; font-weight: bold\">7</span> | kuqa\n",
       "</pre>\n"
      ],
      "text/plain": [
       "Processing Record \u001b[1;36m41\u001b[0m of Set \u001b[1;36m7\u001b[0m | kuqa\n"
      ]
     },
     "metadata": {},
     "output_type": "display_data"
    },
    {
     "data": {
      "text/html": [
       "<pre style=\"white-space:pre;overflow-x:auto;line-height:normal;font-family:Menlo,'DejaVu Sans Mono',consolas,'Courier New',monospace\">Processing Record <span style=\"color: #008080; text-decoration-color: #008080; font-weight: bold\">42</span> of Set <span style=\"color: #008080; text-decoration-color: #008080; font-weight: bold\">7</span> | vila velha\n",
       "</pre>\n"
      ],
      "text/plain": [
       "Processing Record \u001b[1;36m42\u001b[0m of Set \u001b[1;36m7\u001b[0m | vila velha\n"
      ]
     },
     "metadata": {},
     "output_type": "display_data"
    },
    {
     "data": {
      "text/html": [
       "<pre style=\"white-space:pre;overflow-x:auto;line-height:normal;font-family:Menlo,'DejaVu Sans Mono',consolas,'Courier New',monospace\">Processing Record <span style=\"color: #008080; text-decoration-color: #008080; font-weight: bold\">43</span> of Set <span style=\"color: #008080; text-decoration-color: #008080; font-weight: bold\">7</span> | taltal\n",
       "</pre>\n"
      ],
      "text/plain": [
       "Processing Record \u001b[1;36m43\u001b[0m of Set \u001b[1;36m7\u001b[0m | taltal\n"
      ]
     },
     "metadata": {},
     "output_type": "display_data"
    },
    {
     "data": {
      "text/html": [
       "<pre style=\"white-space:pre;overflow-x:auto;line-height:normal;font-family:Menlo,'DejaVu Sans Mono',consolas,'Courier New',monospace\">Processing Record <span style=\"color: #008080; text-decoration-color: #008080; font-weight: bold\">44</span> of Set <span style=\"color: #008080; text-decoration-color: #008080; font-weight: bold\">7</span> | villamontes\n",
       "</pre>\n"
      ],
      "text/plain": [
       "Processing Record \u001b[1;36m44\u001b[0m of Set \u001b[1;36m7\u001b[0m | villamontes\n"
      ]
     },
     "metadata": {},
     "output_type": "display_data"
    },
    {
     "data": {
      "text/html": [
       "<pre style=\"white-space:pre;overflow-x:auto;line-height:normal;font-family:Menlo,'DejaVu Sans Mono',consolas,'Courier New',monospace\">Processing Record <span style=\"color: #008080; text-decoration-color: #008080; font-weight: bold\">45</span> of Set <span style=\"color: #008080; text-decoration-color: #008080; font-weight: bold\">7</span> | jibia\n",
       "</pre>\n"
      ],
      "text/plain": [
       "Processing Record \u001b[1;36m45\u001b[0m of Set \u001b[1;36m7\u001b[0m | jibia\n"
      ]
     },
     "metadata": {},
     "output_type": "display_data"
    },
    {
     "data": {
      "text/html": [
       "<pre style=\"white-space:pre;overflow-x:auto;line-height:normal;font-family:Menlo,'DejaVu Sans Mono',consolas,'Courier New',monospace\">Processing Record <span style=\"color: #008080; text-decoration-color: #008080; font-weight: bold\">46</span> of Set <span style=\"color: #008080; text-decoration-color: #008080; font-weight: bold\">7</span> | pudozh\n",
       "</pre>\n"
      ],
      "text/plain": [
       "Processing Record \u001b[1;36m46\u001b[0m of Set \u001b[1;36m7\u001b[0m | pudozh\n"
      ]
     },
     "metadata": {},
     "output_type": "display_data"
    },
    {
     "data": {
      "text/html": [
       "<pre style=\"white-space:pre;overflow-x:auto;line-height:normal;font-family:Menlo,'DejaVu Sans Mono',consolas,'Courier New',monospace\">Processing Record <span style=\"color: #008080; text-decoration-color: #008080; font-weight: bold\">47</span> of Set <span style=\"color: #008080; text-decoration-color: #008080; font-weight: bold\">7</span> | santa rita\n",
       "</pre>\n"
      ],
      "text/plain": [
       "Processing Record \u001b[1;36m47\u001b[0m of Set \u001b[1;36m7\u001b[0m | santa rita\n"
      ]
     },
     "metadata": {},
     "output_type": "display_data"
    },
    {
     "data": {
      "text/html": [
       "<pre style=\"white-space:pre;overflow-x:auto;line-height:normal;font-family:Menlo,'DejaVu Sans Mono',consolas,'Courier New',monospace\">Processing Record <span style=\"color: #008080; text-decoration-color: #008080; font-weight: bold\">48</span> of Set <span style=\"color: #008080; text-decoration-color: #008080; font-weight: bold\">7</span> | noumea\n",
       "</pre>\n"
      ],
      "text/plain": [
       "Processing Record \u001b[1;36m48\u001b[0m of Set \u001b[1;36m7\u001b[0m | noumea\n"
      ]
     },
     "metadata": {},
     "output_type": "display_data"
    },
    {
     "data": {
      "text/html": [
       "<pre style=\"white-space:pre;overflow-x:auto;line-height:normal;font-family:Menlo,'DejaVu Sans Mono',consolas,'Courier New',monospace\">Processing Record <span style=\"color: #008080; text-decoration-color: #008080; font-weight: bold\">49</span> of Set <span style=\"color: #008080; text-decoration-color: #008080; font-weight: bold\">7</span> | la passe\n",
       "</pre>\n"
      ],
      "text/plain": [
       "Processing Record \u001b[1;36m49\u001b[0m of Set \u001b[1;36m7\u001b[0m | la passe\n"
      ]
     },
     "metadata": {},
     "output_type": "display_data"
    },
    {
     "data": {
      "text/html": [
       "<pre style=\"white-space:pre;overflow-x:auto;line-height:normal;font-family:Menlo,'DejaVu Sans Mono',consolas,'Courier New',monospace\">Processing Record <span style=\"color: #008080; text-decoration-color: #008080; font-weight: bold\">0</span> of Set <span style=\"color: #008080; text-decoration-color: #008080; font-weight: bold\">8</span> | dalnegorsk\n",
       "</pre>\n"
      ],
      "text/plain": [
       "Processing Record \u001b[1;36m0\u001b[0m of Set \u001b[1;36m8\u001b[0m | dalnegorsk\n"
      ]
     },
     "metadata": {},
     "output_type": "display_data"
    },
    {
     "data": {
      "text/html": [
       "<pre style=\"white-space:pre;overflow-x:auto;line-height:normal;font-family:Menlo,'DejaVu Sans Mono',consolas,'Courier New',monospace\">Processing Record <span style=\"color: #008080; text-decoration-color: #008080; font-weight: bold\">1</span> of Set <span style=\"color: #008080; text-decoration-color: #008080; font-weight: bold\">8</span> | oxford\n",
       "</pre>\n"
      ],
      "text/plain": [
       "Processing Record \u001b[1;36m1\u001b[0m of Set \u001b[1;36m8\u001b[0m | oxford\n"
      ]
     },
     "metadata": {},
     "output_type": "display_data"
    },
    {
     "data": {
      "text/html": [
       "<pre style=\"white-space:pre;overflow-x:auto;line-height:normal;font-family:Menlo,'DejaVu Sans Mono',consolas,'Courier New',monospace\">Processing Record <span style=\"color: #008080; text-decoration-color: #008080; font-weight: bold\">2</span> of Set <span style=\"color: #008080; text-decoration-color: #008080; font-weight: bold\">8</span> | lorengau\n",
       "</pre>\n"
      ],
      "text/plain": [
       "Processing Record \u001b[1;36m2\u001b[0m of Set \u001b[1;36m8\u001b[0m | lorengau\n"
      ]
     },
     "metadata": {},
     "output_type": "display_data"
    },
    {
     "data": {
      "text/html": [
       "<pre style=\"white-space:pre;overflow-x:auto;line-height:normal;font-family:Menlo,'DejaVu Sans Mono',consolas,'Courier New',monospace\">Processing Record <span style=\"color: #008080; text-decoration-color: #008080; font-weight: bold\">3</span> of Set <span style=\"color: #008080; text-decoration-color: #008080; font-weight: bold\">8</span> | vatutine\n",
       "</pre>\n"
      ],
      "text/plain": [
       "Processing Record \u001b[1;36m3\u001b[0m of Set \u001b[1;36m8\u001b[0m | vatutine\n"
      ]
     },
     "metadata": {},
     "output_type": "display_data"
    },
    {
     "data": {
      "text/html": [
       "<pre style=\"white-space:pre;overflow-x:auto;line-height:normal;font-family:Menlo,'DejaVu Sans Mono',consolas,'Courier New',monospace\">Processing Record <span style=\"color: #008080; text-decoration-color: #008080; font-weight: bold\">4</span> of Set <span style=\"color: #008080; text-decoration-color: #008080; font-weight: bold\">8</span> | okahandja\n",
       "</pre>\n"
      ],
      "text/plain": [
       "Processing Record \u001b[1;36m4\u001b[0m of Set \u001b[1;36m8\u001b[0m | okahandja\n"
      ]
     },
     "metadata": {},
     "output_type": "display_data"
    },
    {
     "data": {
      "text/html": [
       "<pre style=\"white-space:pre;overflow-x:auto;line-height:normal;font-family:Menlo,'DejaVu Sans Mono',consolas,'Courier New',monospace\">Processing Record <span style=\"color: #008080; text-decoration-color: #008080; font-weight: bold\">5</span> of Set <span style=\"color: #008080; text-decoration-color: #008080; font-weight: bold\">8</span> | hayma'\n",
       "</pre>\n"
      ],
      "text/plain": [
       "Processing Record \u001b[1;36m5\u001b[0m of Set \u001b[1;36m8\u001b[0m | hayma'\n"
      ]
     },
     "metadata": {},
     "output_type": "display_data"
    },
    {
     "data": {
      "text/html": [
       "<pre style=\"white-space:pre;overflow-x:auto;line-height:normal;font-family:Menlo,'DejaVu Sans Mono',consolas,'Courier New',monospace\">City not found. Skipping<span style=\"color: #808000; text-decoration-color: #808000\">...</span>\n",
       "</pre>\n"
      ],
      "text/plain": [
       "City not found. Skipping\u001b[33m...\u001b[0m\n"
      ]
     },
     "metadata": {},
     "output_type": "display_data"
    },
    {
     "data": {
      "text/html": [
       "<pre style=\"white-space:pre;overflow-x:auto;line-height:normal;font-family:Menlo,'DejaVu Sans Mono',consolas,'Courier New',monospace\">Processing Record <span style=\"color: #008080; text-decoration-color: #008080; font-weight: bold\">6</span> of Set <span style=\"color: #008080; text-decoration-color: #008080; font-weight: bold\">8</span> | san pedro pochutla\n",
       "</pre>\n"
      ],
      "text/plain": [
       "Processing Record \u001b[1;36m6\u001b[0m of Set \u001b[1;36m8\u001b[0m | san pedro pochutla\n"
      ]
     },
     "metadata": {},
     "output_type": "display_data"
    },
    {
     "data": {
      "text/html": [
       "<pre style=\"white-space:pre;overflow-x:auto;line-height:normal;font-family:Menlo,'DejaVu Sans Mono',consolas,'Courier New',monospace\">Processing Record <span style=\"color: #008080; text-decoration-color: #008080; font-weight: bold\">7</span> of Set <span style=\"color: #008080; text-decoration-color: #008080; font-weight: bold\">8</span> | mount isa\n",
       "</pre>\n"
      ],
      "text/plain": [
       "Processing Record \u001b[1;36m7\u001b[0m of Set \u001b[1;36m8\u001b[0m | mount isa\n"
      ]
     },
     "metadata": {},
     "output_type": "display_data"
    },
    {
     "data": {
      "text/html": [
       "<pre style=\"white-space:pre;overflow-x:auto;line-height:normal;font-family:Menlo,'DejaVu Sans Mono',consolas,'Courier New',monospace\">Processing Record <span style=\"color: #008080; text-decoration-color: #008080; font-weight: bold\">8</span> of Set <span style=\"color: #008080; text-decoration-color: #008080; font-weight: bold\">8</span> | altay\n",
       "</pre>\n"
      ],
      "text/plain": [
       "Processing Record \u001b[1;36m8\u001b[0m of Set \u001b[1;36m8\u001b[0m | altay\n"
      ]
     },
     "metadata": {},
     "output_type": "display_data"
    },
    {
     "data": {
      "text/html": [
       "<pre style=\"white-space:pre;overflow-x:auto;line-height:normal;font-family:Menlo,'DejaVu Sans Mono',consolas,'Courier New',monospace\">Processing Record <span style=\"color: #008080; text-decoration-color: #008080; font-weight: bold\">9</span> of Set <span style=\"color: #008080; text-decoration-color: #008080; font-weight: bold\">8</span> | kangaba\n",
       "</pre>\n"
      ],
      "text/plain": [
       "Processing Record \u001b[1;36m9\u001b[0m of Set \u001b[1;36m8\u001b[0m | kangaba\n"
      ]
     },
     "metadata": {},
     "output_type": "display_data"
    },
    {
     "data": {
      "text/html": [
       "<pre style=\"white-space:pre;overflow-x:auto;line-height:normal;font-family:Menlo,'DejaVu Sans Mono',consolas,'Courier New',monospace\">Processing Record <span style=\"color: #008080; text-decoration-color: #008080; font-weight: bold\">10</span> of Set <span style=\"color: #008080; text-decoration-color: #008080; font-weight: bold\">8</span> | millerovo\n",
       "</pre>\n"
      ],
      "text/plain": [
       "Processing Record \u001b[1;36m10\u001b[0m of Set \u001b[1;36m8\u001b[0m | millerovo\n"
      ]
     },
     "metadata": {},
     "output_type": "display_data"
    },
    {
     "data": {
      "text/html": [
       "<pre style=\"white-space:pre;overflow-x:auto;line-height:normal;font-family:Menlo,'DejaVu Sans Mono',consolas,'Courier New',monospace\">Processing Record <span style=\"color: #008080; text-decoration-color: #008080; font-weight: bold\">11</span> of Set <span style=\"color: #008080; text-decoration-color: #008080; font-weight: bold\">8</span> | crane\n",
       "</pre>\n"
      ],
      "text/plain": [
       "Processing Record \u001b[1;36m11\u001b[0m of Set \u001b[1;36m8\u001b[0m | crane\n"
      ]
     },
     "metadata": {},
     "output_type": "display_data"
    },
    {
     "data": {
      "text/html": [
       "<pre style=\"white-space:pre;overflow-x:auto;line-height:normal;font-family:Menlo,'DejaVu Sans Mono',consolas,'Courier New',monospace\">Processing Record <span style=\"color: #008080; text-decoration-color: #008080; font-weight: bold\">12</span> of Set <span style=\"color: #008080; text-decoration-color: #008080; font-weight: bold\">8</span> | ardestan\n",
       "</pre>\n"
      ],
      "text/plain": [
       "Processing Record \u001b[1;36m12\u001b[0m of Set \u001b[1;36m8\u001b[0m | ardestan\n"
      ]
     },
     "metadata": {},
     "output_type": "display_data"
    },
    {
     "data": {
      "text/html": [
       "<pre style=\"white-space:pre;overflow-x:auto;line-height:normal;font-family:Menlo,'DejaVu Sans Mono',consolas,'Courier New',monospace\">Processing Record <span style=\"color: #008080; text-decoration-color: #008080; font-weight: bold\">13</span> of Set <span style=\"color: #008080; text-decoration-color: #008080; font-weight: bold\">8</span> | batang\n",
       "</pre>\n"
      ],
      "text/plain": [
       "Processing Record \u001b[1;36m13\u001b[0m of Set \u001b[1;36m8\u001b[0m | batang\n"
      ]
     },
     "metadata": {},
     "output_type": "display_data"
    },
    {
     "data": {
      "text/html": [
       "<pre style=\"white-space:pre;overflow-x:auto;line-height:normal;font-family:Menlo,'DejaVu Sans Mono',consolas,'Courier New',monospace\">Processing Record <span style=\"color: #008080; text-decoration-color: #008080; font-weight: bold\">14</span> of Set <span style=\"color: #008080; text-decoration-color: #008080; font-weight: bold\">8</span> | sitia\n",
       "</pre>\n"
      ],
      "text/plain": [
       "Processing Record \u001b[1;36m14\u001b[0m of Set \u001b[1;36m8\u001b[0m | sitia\n"
      ]
     },
     "metadata": {},
     "output_type": "display_data"
    },
    {
     "data": {
      "text/html": [
       "<pre style=\"white-space:pre;overflow-x:auto;line-height:normal;font-family:Menlo,'DejaVu Sans Mono',consolas,'Courier New',monospace\">Processing Record <span style=\"color: #008080; text-decoration-color: #008080; font-weight: bold\">15</span> of Set <span style=\"color: #008080; text-decoration-color: #008080; font-weight: bold\">8</span> | bondo\n",
       "</pre>\n"
      ],
      "text/plain": [
       "Processing Record \u001b[1;36m15\u001b[0m of Set \u001b[1;36m8\u001b[0m | bondo\n"
      ]
     },
     "metadata": {},
     "output_type": "display_data"
    },
    {
     "data": {
      "text/html": [
       "<pre style=\"white-space:pre;overflow-x:auto;line-height:normal;font-family:Menlo,'DejaVu Sans Mono',consolas,'Courier New',monospace\">Processing Record <span style=\"color: #008080; text-decoration-color: #008080; font-weight: bold\">16</span> of Set <span style=\"color: #008080; text-decoration-color: #008080; font-weight: bold\">8</span> | goure\n",
       "</pre>\n"
      ],
      "text/plain": [
       "Processing Record \u001b[1;36m16\u001b[0m of Set \u001b[1;36m8\u001b[0m | goure\n"
      ]
     },
     "metadata": {},
     "output_type": "display_data"
    },
    {
     "data": {
      "text/html": [
       "<pre style=\"white-space:pre;overflow-x:auto;line-height:normal;font-family:Menlo,'DejaVu Sans Mono',consolas,'Courier New',monospace\">Processing Record <span style=\"color: #008080; text-decoration-color: #008080; font-weight: bold\">17</span> of Set <span style=\"color: #008080; text-decoration-color: #008080; font-weight: bold\">8</span> | marau\n",
       "</pre>\n"
      ],
      "text/plain": [
       "Processing Record \u001b[1;36m17\u001b[0m of Set \u001b[1;36m8\u001b[0m | marau\n"
      ]
     },
     "metadata": {},
     "output_type": "display_data"
    },
    {
     "data": {
      "text/html": [
       "<pre style=\"white-space:pre;overflow-x:auto;line-height:normal;font-family:Menlo,'DejaVu Sans Mono',consolas,'Courier New',monospace\">Processing Record <span style=\"color: #008080; text-decoration-color: #008080; font-weight: bold\">18</span> of Set <span style=\"color: #008080; text-decoration-color: #008080; font-weight: bold\">8</span> | ikryanoye\n",
       "</pre>\n"
      ],
      "text/plain": [
       "Processing Record \u001b[1;36m18\u001b[0m of Set \u001b[1;36m8\u001b[0m | ikryanoye\n"
      ]
     },
     "metadata": {},
     "output_type": "display_data"
    },
    {
     "data": {
      "text/html": [
       "<pre style=\"white-space:pre;overflow-x:auto;line-height:normal;font-family:Menlo,'DejaVu Sans Mono',consolas,'Courier New',monospace\">Processing Record <span style=\"color: #008080; text-decoration-color: #008080; font-weight: bold\">19</span> of Set <span style=\"color: #008080; text-decoration-color: #008080; font-weight: bold\">8</span> | kapa'a\n",
       "</pre>\n"
      ],
      "text/plain": [
       "Processing Record \u001b[1;36m19\u001b[0m of Set \u001b[1;36m8\u001b[0m | kapa'a\n"
      ]
     },
     "metadata": {},
     "output_type": "display_data"
    },
    {
     "data": {
      "text/html": [
       "<pre style=\"white-space:pre;overflow-x:auto;line-height:normal;font-family:Menlo,'DejaVu Sans Mono',consolas,'Courier New',monospace\">Processing Record <span style=\"color: #008080; text-decoration-color: #008080; font-weight: bold\">20</span> of Set <span style=\"color: #008080; text-decoration-color: #008080; font-weight: bold\">8</span> | tazovsky\n",
       "</pre>\n"
      ],
      "text/plain": [
       "Processing Record \u001b[1;36m20\u001b[0m of Set \u001b[1;36m8\u001b[0m | tazovsky\n"
      ]
     },
     "metadata": {},
     "output_type": "display_data"
    },
    {
     "data": {
      "text/html": [
       "<pre style=\"white-space:pre;overflow-x:auto;line-height:normal;font-family:Menlo,'DejaVu Sans Mono',consolas,'Courier New',monospace\">Processing Record <span style=\"color: #008080; text-decoration-color: #008080; font-weight: bold\">21</span> of Set <span style=\"color: #008080; text-decoration-color: #008080; font-weight: bold\">8</span> | mawu\n",
       "</pre>\n"
      ],
      "text/plain": [
       "Processing Record \u001b[1;36m21\u001b[0m of Set \u001b[1;36m8\u001b[0m | mawu\n"
      ]
     },
     "metadata": {},
     "output_type": "display_data"
    },
    {
     "data": {
      "text/html": [
       "<pre style=\"white-space:pre;overflow-x:auto;line-height:normal;font-family:Menlo,'DejaVu Sans Mono',consolas,'Courier New',monospace\">Processing Record <span style=\"color: #008080; text-decoration-color: #008080; font-weight: bold\">22</span> of Set <span style=\"color: #008080; text-decoration-color: #008080; font-weight: bold\">8</span> | kerch\n",
       "</pre>\n"
      ],
      "text/plain": [
       "Processing Record \u001b[1;36m22\u001b[0m of Set \u001b[1;36m8\u001b[0m | kerch\n"
      ]
     },
     "metadata": {},
     "output_type": "display_data"
    },
    {
     "data": {
      "text/html": [
       "<pre style=\"white-space:pre;overflow-x:auto;line-height:normal;font-family:Menlo,'DejaVu Sans Mono',consolas,'Courier New',monospace\">Processing Record <span style=\"color: #008080; text-decoration-color: #008080; font-weight: bold\">23</span> of Set <span style=\"color: #008080; text-decoration-color: #008080; font-weight: bold\">8</span> | yemetsk\n",
       "</pre>\n"
      ],
      "text/plain": [
       "Processing Record \u001b[1;36m23\u001b[0m of Set \u001b[1;36m8\u001b[0m | yemetsk\n"
      ]
     },
     "metadata": {},
     "output_type": "display_data"
    },
    {
     "data": {
      "text/html": [
       "<pre style=\"white-space:pre;overflow-x:auto;line-height:normal;font-family:Menlo,'DejaVu Sans Mono',consolas,'Courier New',monospace\">Processing Record <span style=\"color: #008080; text-decoration-color: #008080; font-weight: bold\">24</span> of Set <span style=\"color: #008080; text-decoration-color: #008080; font-weight: bold\">8</span> | zhob\n",
       "</pre>\n"
      ],
      "text/plain": [
       "Processing Record \u001b[1;36m24\u001b[0m of Set \u001b[1;36m8\u001b[0m | zhob\n"
      ]
     },
     "metadata": {},
     "output_type": "display_data"
    },
    {
     "data": {
      "text/html": [
       "<pre style=\"white-space:pre;overflow-x:auto;line-height:normal;font-family:Menlo,'DejaVu Sans Mono',consolas,'Courier New',monospace\">Processing Record <span style=\"color: #008080; text-decoration-color: #008080; font-weight: bold\">25</span> of Set <span style=\"color: #008080; text-decoration-color: #008080; font-weight: bold\">8</span> | klaksvik\n",
       "</pre>\n"
      ],
      "text/plain": [
       "Processing Record \u001b[1;36m25\u001b[0m of Set \u001b[1;36m8\u001b[0m | klaksvik\n"
      ]
     },
     "metadata": {},
     "output_type": "display_data"
    },
    {
     "data": {
      "text/html": [
       "<pre style=\"white-space:pre;overflow-x:auto;line-height:normal;font-family:Menlo,'DejaVu Sans Mono',consolas,'Courier New',monospace\">Processing Record <span style=\"color: #008080; text-decoration-color: #008080; font-weight: bold\">26</span> of Set <span style=\"color: #008080; text-decoration-color: #008080; font-weight: bold\">8</span> | queenstown\n",
       "</pre>\n"
      ],
      "text/plain": [
       "Processing Record \u001b[1;36m26\u001b[0m of Set \u001b[1;36m8\u001b[0m | queenstown\n"
      ]
     },
     "metadata": {},
     "output_type": "display_data"
    },
    {
     "data": {
      "text/html": [
       "<pre style=\"white-space:pre;overflow-x:auto;line-height:normal;font-family:Menlo,'DejaVu Sans Mono',consolas,'Courier New',monospace\">Processing Record <span style=\"color: #008080; text-decoration-color: #008080; font-weight: bold\">27</span> of Set <span style=\"color: #008080; text-decoration-color: #008080; font-weight: bold\">8</span> | divino das laranjeiras\n",
       "</pre>\n"
      ],
      "text/plain": [
       "Processing Record \u001b[1;36m27\u001b[0m of Set \u001b[1;36m8\u001b[0m | divino das laranjeiras\n"
      ]
     },
     "metadata": {},
     "output_type": "display_data"
    },
    {
     "data": {
      "text/html": [
       "<pre style=\"white-space:pre;overflow-x:auto;line-height:normal;font-family:Menlo,'DejaVu Sans Mono',consolas,'Courier New',monospace\">Processing Record <span style=\"color: #008080; text-decoration-color: #008080; font-weight: bold\">28</span> of Set <span style=\"color: #008080; text-decoration-color: #008080; font-weight: bold\">8</span> | pechora\n",
       "</pre>\n"
      ],
      "text/plain": [
       "Processing Record \u001b[1;36m28\u001b[0m of Set \u001b[1;36m8\u001b[0m | pechora\n"
      ]
     },
     "metadata": {},
     "output_type": "display_data"
    },
    {
     "data": {
      "text/html": [
       "<pre style=\"white-space:pre;overflow-x:auto;line-height:normal;font-family:Menlo,'DejaVu Sans Mono',consolas,'Courier New',monospace\">Processing Record <span style=\"color: #008080; text-decoration-color: #008080; font-weight: bold\">29</span> of Set <span style=\"color: #008080; text-decoration-color: #008080; font-weight: bold\">8</span> | litochoro\n",
       "</pre>\n"
      ],
      "text/plain": [
       "Processing Record \u001b[1;36m29\u001b[0m of Set \u001b[1;36m8\u001b[0m | litochoro\n"
      ]
     },
     "metadata": {},
     "output_type": "display_data"
    },
    {
     "data": {
      "text/html": [
       "<pre style=\"white-space:pre;overflow-x:auto;line-height:normal;font-family:Menlo,'DejaVu Sans Mono',consolas,'Courier New',monospace\">Processing Record <span style=\"color: #008080; text-decoration-color: #008080; font-weight: bold\">30</span> of Set <span style=\"color: #008080; text-decoration-color: #008080; font-weight: bold\">8</span> | hinton\n",
       "</pre>\n"
      ],
      "text/plain": [
       "Processing Record \u001b[1;36m30\u001b[0m of Set \u001b[1;36m8\u001b[0m | hinton\n"
      ]
     },
     "metadata": {},
     "output_type": "display_data"
    },
    {
     "data": {
      "text/html": [
       "<pre style=\"white-space:pre;overflow-x:auto;line-height:normal;font-family:Menlo,'DejaVu Sans Mono',consolas,'Courier New',monospace\">Processing Record <span style=\"color: #008080; text-decoration-color: #008080; font-weight: bold\">31</span> of Set <span style=\"color: #008080; text-decoration-color: #008080; font-weight: bold\">8</span> | santiago de cao\n",
       "</pre>\n"
      ],
      "text/plain": [
       "Processing Record \u001b[1;36m31\u001b[0m of Set \u001b[1;36m8\u001b[0m | santiago de cao\n"
      ]
     },
     "metadata": {},
     "output_type": "display_data"
    },
    {
     "data": {
      "text/html": [
       "<pre style=\"white-space:pre;overflow-x:auto;line-height:normal;font-family:Menlo,'DejaVu Sans Mono',consolas,'Courier New',monospace\">Processing Record <span style=\"color: #008080; text-decoration-color: #008080; font-weight: bold\">32</span> of Set <span style=\"color: #008080; text-decoration-color: #008080; font-weight: bold\">8</span> | ascension\n",
       "</pre>\n"
      ],
      "text/plain": [
       "Processing Record \u001b[1;36m32\u001b[0m of Set \u001b[1;36m8\u001b[0m | ascension\n"
      ]
     },
     "metadata": {},
     "output_type": "display_data"
    },
    {
     "data": {
      "text/html": [
       "<pre style=\"white-space:pre;overflow-x:auto;line-height:normal;font-family:Menlo,'DejaVu Sans Mono',consolas,'Courier New',monospace\">Processing Record <span style=\"color: #008080; text-decoration-color: #008080; font-weight: bold\">33</span> of Set <span style=\"color: #008080; text-decoration-color: #008080; font-weight: bold\">8</span> | scottburgh\n",
       "</pre>\n"
      ],
      "text/plain": [
       "Processing Record \u001b[1;36m33\u001b[0m of Set \u001b[1;36m8\u001b[0m | scottburgh\n"
      ]
     },
     "metadata": {},
     "output_type": "display_data"
    },
    {
     "data": {
      "text/html": [
       "<pre style=\"white-space:pre;overflow-x:auto;line-height:normal;font-family:Menlo,'DejaVu Sans Mono',consolas,'Courier New',monospace\">Processing Record <span style=\"color: #008080; text-decoration-color: #008080; font-weight: bold\">34</span> of Set <span style=\"color: #008080; text-decoration-color: #008080; font-weight: bold\">8</span> | jijel\n",
       "</pre>\n"
      ],
      "text/plain": [
       "Processing Record \u001b[1;36m34\u001b[0m of Set \u001b[1;36m8\u001b[0m | jijel\n"
      ]
     },
     "metadata": {},
     "output_type": "display_data"
    },
    {
     "data": {
      "text/html": [
       "<pre style=\"white-space:pre;overflow-x:auto;line-height:normal;font-family:Menlo,'DejaVu Sans Mono',consolas,'Courier New',monospace\">Processing Record <span style=\"color: #008080; text-decoration-color: #008080; font-weight: bold\">35</span> of Set <span style=\"color: #008080; text-decoration-color: #008080; font-weight: bold\">8</span> | wagar\n",
       "</pre>\n"
      ],
      "text/plain": [
       "Processing Record \u001b[1;36m35\u001b[0m of Set \u001b[1;36m8\u001b[0m | wagar\n"
      ]
     },
     "metadata": {},
     "output_type": "display_data"
    },
    {
     "data": {
      "text/html": [
       "<pre style=\"white-space:pre;overflow-x:auto;line-height:normal;font-family:Menlo,'DejaVu Sans Mono',consolas,'Courier New',monospace\">Processing Record <span style=\"color: #008080; text-decoration-color: #008080; font-weight: bold\">36</span> of Set <span style=\"color: #008080; text-decoration-color: #008080; font-weight: bold\">8</span> | mili\n",
       "</pre>\n"
      ],
      "text/plain": [
       "Processing Record \u001b[1;36m36\u001b[0m of Set \u001b[1;36m8\u001b[0m | mili\n"
      ]
     },
     "metadata": {},
     "output_type": "display_data"
    },
    {
     "data": {
      "text/html": [
       "<pre style=\"white-space:pre;overflow-x:auto;line-height:normal;font-family:Menlo,'DejaVu Sans Mono',consolas,'Courier New',monospace\">Processing Record <span style=\"color: #008080; text-decoration-color: #008080; font-weight: bold\">37</span> of Set <span style=\"color: #008080; text-decoration-color: #008080; font-weight: bold\">8</span> | yakeshi\n",
       "</pre>\n"
      ],
      "text/plain": [
       "Processing Record \u001b[1;36m37\u001b[0m of Set \u001b[1;36m8\u001b[0m | yakeshi\n"
      ]
     },
     "metadata": {},
     "output_type": "display_data"
    },
    {
     "data": {
      "text/html": [
       "<pre style=\"white-space:pre;overflow-x:auto;line-height:normal;font-family:Menlo,'DejaVu Sans Mono',consolas,'Courier New',monospace\">Processing Record <span style=\"color: #008080; text-decoration-color: #008080; font-weight: bold\">38</span> of Set <span style=\"color: #008080; text-decoration-color: #008080; font-weight: bold\">8</span> | marsh harbour\n",
       "</pre>\n"
      ],
      "text/plain": [
       "Processing Record \u001b[1;36m38\u001b[0m of Set \u001b[1;36m8\u001b[0m | marsh harbour\n"
      ]
     },
     "metadata": {},
     "output_type": "display_data"
    },
    {
     "data": {
      "text/html": [
       "<pre style=\"white-space:pre;overflow-x:auto;line-height:normal;font-family:Menlo,'DejaVu Sans Mono',consolas,'Courier New',monospace\">Processing Record <span style=\"color: #008080; text-decoration-color: #008080; font-weight: bold\">39</span> of Set <span style=\"color: #008080; text-decoration-color: #008080; font-weight: bold\">8</span> | port saint john's\n",
       "</pre>\n"
      ],
      "text/plain": [
       "Processing Record \u001b[1;36m39\u001b[0m of Set \u001b[1;36m8\u001b[0m | port saint john's\n"
      ]
     },
     "metadata": {},
     "output_type": "display_data"
    },
    {
     "data": {
      "text/html": [
       "<pre style=\"white-space:pre;overflow-x:auto;line-height:normal;font-family:Menlo,'DejaVu Sans Mono',consolas,'Courier New',monospace\">Processing Record <span style=\"color: #008080; text-decoration-color: #008080; font-weight: bold\">40</span> of Set <span style=\"color: #008080; text-decoration-color: #008080; font-weight: bold\">8</span> | kalmunai\n",
       "</pre>\n"
      ],
      "text/plain": [
       "Processing Record \u001b[1;36m40\u001b[0m of Set \u001b[1;36m8\u001b[0m | kalmunai\n"
      ]
     },
     "metadata": {},
     "output_type": "display_data"
    },
    {
     "data": {
      "text/html": [
       "<pre style=\"white-space:pre;overflow-x:auto;line-height:normal;font-family:Menlo,'DejaVu Sans Mono',consolas,'Courier New',monospace\">Processing Record <span style=\"color: #008080; text-decoration-color: #008080; font-weight: bold\">41</span> of Set <span style=\"color: #008080; text-decoration-color: #008080; font-weight: bold\">8</span> | lodwar\n",
       "</pre>\n"
      ],
      "text/plain": [
       "Processing Record \u001b[1;36m41\u001b[0m of Set \u001b[1;36m8\u001b[0m | lodwar\n"
      ]
     },
     "metadata": {},
     "output_type": "display_data"
    },
    {
     "data": {
      "text/html": [
       "<pre style=\"white-space:pre;overflow-x:auto;line-height:normal;font-family:Menlo,'DejaVu Sans Mono',consolas,'Courier New',monospace\">Processing Record <span style=\"color: #008080; text-decoration-color: #008080; font-weight: bold\">42</span> of Set <span style=\"color: #008080; text-decoration-color: #008080; font-weight: bold\">8</span> | ballina\n",
       "</pre>\n"
      ],
      "text/plain": [
       "Processing Record \u001b[1;36m42\u001b[0m of Set \u001b[1;36m8\u001b[0m | ballina\n"
      ]
     },
     "metadata": {},
     "output_type": "display_data"
    },
    {
     "data": {
      "text/html": [
       "<pre style=\"white-space:pre;overflow-x:auto;line-height:normal;font-family:Menlo,'DejaVu Sans Mono',consolas,'Courier New',monospace\">Processing Record <span style=\"color: #008080; text-decoration-color: #008080; font-weight: bold\">43</span> of Set <span style=\"color: #008080; text-decoration-color: #008080; font-weight: bold\">8</span> | riberalta\n",
       "</pre>\n"
      ],
      "text/plain": [
       "Processing Record \u001b[1;36m43\u001b[0m of Set \u001b[1;36m8\u001b[0m | riberalta\n"
      ]
     },
     "metadata": {},
     "output_type": "display_data"
    },
    {
     "data": {
      "text/html": [
       "<pre style=\"white-space:pre;overflow-x:auto;line-height:normal;font-family:Menlo,'DejaVu Sans Mono',consolas,'Courier New',monospace\">Processing Record <span style=\"color: #008080; text-decoration-color: #008080; font-weight: bold\">44</span> of Set <span style=\"color: #008080; text-decoration-color: #008080; font-weight: bold\">8</span> | kingscliff\n",
       "</pre>\n"
      ],
      "text/plain": [
       "Processing Record \u001b[1;36m44\u001b[0m of Set \u001b[1;36m8\u001b[0m | kingscliff\n"
      ]
     },
     "metadata": {},
     "output_type": "display_data"
    },
    {
     "data": {
      "text/html": [
       "<pre style=\"white-space:pre;overflow-x:auto;line-height:normal;font-family:Menlo,'DejaVu Sans Mono',consolas,'Courier New',monospace\">Processing Record <span style=\"color: #008080; text-decoration-color: #008080; font-weight: bold\">45</span> of Set <span style=\"color: #008080; text-decoration-color: #008080; font-weight: bold\">8</span> | inhambane\n",
       "</pre>\n"
      ],
      "text/plain": [
       "Processing Record \u001b[1;36m45\u001b[0m of Set \u001b[1;36m8\u001b[0m | inhambane\n"
      ]
     },
     "metadata": {},
     "output_type": "display_data"
    },
    {
     "data": {
      "text/html": [
       "<pre style=\"white-space:pre;overflow-x:auto;line-height:normal;font-family:Menlo,'DejaVu Sans Mono',consolas,'Courier New',monospace\">Processing Record <span style=\"color: #008080; text-decoration-color: #008080; font-weight: bold\">46</span> of Set <span style=\"color: #008080; text-decoration-color: #008080; font-weight: bold\">8</span> | dunoon\n",
       "</pre>\n"
      ],
      "text/plain": [
       "Processing Record \u001b[1;36m46\u001b[0m of Set \u001b[1;36m8\u001b[0m | dunoon\n"
      ]
     },
     "metadata": {},
     "output_type": "display_data"
    },
    {
     "data": {
      "text/html": [
       "<pre style=\"white-space:pre;overflow-x:auto;line-height:normal;font-family:Menlo,'DejaVu Sans Mono',consolas,'Courier New',monospace\">Processing Record <span style=\"color: #008080; text-decoration-color: #008080; font-weight: bold\">47</span> of Set <span style=\"color: #008080; text-decoration-color: #008080; font-weight: bold\">8</span> | noyon\n",
       "</pre>\n"
      ],
      "text/plain": [
       "Processing Record \u001b[1;36m47\u001b[0m of Set \u001b[1;36m8\u001b[0m | noyon\n"
      ]
     },
     "metadata": {},
     "output_type": "display_data"
    },
    {
     "data": {
      "text/html": [
       "<pre style=\"white-space:pre;overflow-x:auto;line-height:normal;font-family:Menlo,'DejaVu Sans Mono',consolas,'Courier New',monospace\">Processing Record <span style=\"color: #008080; text-decoration-color: #008080; font-weight: bold\">48</span> of Set <span style=\"color: #008080; text-decoration-color: #008080; font-weight: bold\">8</span> | paracuru\n",
       "</pre>\n"
      ],
      "text/plain": [
       "Processing Record \u001b[1;36m48\u001b[0m of Set \u001b[1;36m8\u001b[0m | paracuru\n"
      ]
     },
     "metadata": {},
     "output_type": "display_data"
    },
    {
     "data": {
      "text/html": [
       "<pre style=\"white-space:pre;overflow-x:auto;line-height:normal;font-family:Menlo,'DejaVu Sans Mono',consolas,'Courier New',monospace\">Processing Record <span style=\"color: #008080; text-decoration-color: #008080; font-weight: bold\">49</span> of Set <span style=\"color: #008080; text-decoration-color: #008080; font-weight: bold\">8</span> | clemencia\n",
       "</pre>\n"
      ],
      "text/plain": [
       "Processing Record \u001b[1;36m49\u001b[0m of Set \u001b[1;36m8\u001b[0m | clemencia\n"
      ]
     },
     "metadata": {},
     "output_type": "display_data"
    },
    {
     "data": {
      "text/html": [
       "<pre style=\"white-space:pre;overflow-x:auto;line-height:normal;font-family:Menlo,'DejaVu Sans Mono',consolas,'Courier New',monospace\">Processing Record <span style=\"color: #008080; text-decoration-color: #008080; font-weight: bold\">0</span> of Set <span style=\"color: #008080; text-decoration-color: #008080; font-weight: bold\">9</span> | labuan\n",
       "</pre>\n"
      ],
      "text/plain": [
       "Processing Record \u001b[1;36m0\u001b[0m of Set \u001b[1;36m9\u001b[0m | labuan\n"
      ]
     },
     "metadata": {},
     "output_type": "display_data"
    },
    {
     "data": {
      "text/html": [
       "<pre style=\"white-space:pre;overflow-x:auto;line-height:normal;font-family:Menlo,'DejaVu Sans Mono',consolas,'Courier New',monospace\">Processing Record <span style=\"color: #008080; text-decoration-color: #008080; font-weight: bold\">1</span> of Set <span style=\"color: #008080; text-decoration-color: #008080; font-weight: bold\">9</span> | enewetak\n",
       "</pre>\n"
      ],
      "text/plain": [
       "Processing Record \u001b[1;36m1\u001b[0m of Set \u001b[1;36m9\u001b[0m | enewetak\n"
      ]
     },
     "metadata": {},
     "output_type": "display_data"
    },
    {
     "data": {
      "text/html": [
       "<pre style=\"white-space:pre;overflow-x:auto;line-height:normal;font-family:Menlo,'DejaVu Sans Mono',consolas,'Courier New',monospace\">Processing Record <span style=\"color: #008080; text-decoration-color: #008080; font-weight: bold\">2</span> of Set <span style=\"color: #008080; text-decoration-color: #008080; font-weight: bold\">9</span> | parintins\n",
       "</pre>\n"
      ],
      "text/plain": [
       "Processing Record \u001b[1;36m2\u001b[0m of Set \u001b[1;36m9\u001b[0m | parintins\n"
      ]
     },
     "metadata": {},
     "output_type": "display_data"
    },
    {
     "data": {
      "text/html": [
       "<pre style=\"white-space:pre;overflow-x:auto;line-height:normal;font-family:Menlo,'DejaVu Sans Mono',consolas,'Courier New',monospace\">Processing Record <span style=\"color: #008080; text-decoration-color: #008080; font-weight: bold\">3</span> of Set <span style=\"color: #008080; text-decoration-color: #008080; font-weight: bold\">9</span> | pacocha\n",
       "</pre>\n"
      ],
      "text/plain": [
       "Processing Record \u001b[1;36m3\u001b[0m of Set \u001b[1;36m9\u001b[0m | pacocha\n"
      ]
     },
     "metadata": {},
     "output_type": "display_data"
    },
    {
     "data": {
      "text/html": [
       "<pre style=\"white-space:pre;overflow-x:auto;line-height:normal;font-family:Menlo,'DejaVu Sans Mono',consolas,'Courier New',monospace\">Processing Record <span style=\"color: #008080; text-decoration-color: #008080; font-weight: bold\">4</span> of Set <span style=\"color: #008080; text-decoration-color: #008080; font-weight: bold\">9</span> | bel ombre\n",
       "</pre>\n"
      ],
      "text/plain": [
       "Processing Record \u001b[1;36m4\u001b[0m of Set \u001b[1;36m9\u001b[0m | bel ombre\n"
      ]
     },
     "metadata": {},
     "output_type": "display_data"
    },
    {
     "data": {
      "text/html": [
       "<pre style=\"white-space:pre;overflow-x:auto;line-height:normal;font-family:Menlo,'DejaVu Sans Mono',consolas,'Courier New',monospace\">Processing Record <span style=\"color: #008080; text-decoration-color: #008080; font-weight: bold\">5</span> of Set <span style=\"color: #008080; text-decoration-color: #008080; font-weight: bold\">9</span> | ndele\n",
       "</pre>\n"
      ],
      "text/plain": [
       "Processing Record \u001b[1;36m5\u001b[0m of Set \u001b[1;36m9\u001b[0m | ndele\n"
      ]
     },
     "metadata": {},
     "output_type": "display_data"
    },
    {
     "data": {
      "text/html": [
       "<pre style=\"white-space:pre;overflow-x:auto;line-height:normal;font-family:Menlo,'DejaVu Sans Mono',consolas,'Courier New',monospace\">Processing Record <span style=\"color: #008080; text-decoration-color: #008080; font-weight: bold\">6</span> of Set <span style=\"color: #008080; text-decoration-color: #008080; font-weight: bold\">9</span> | daoukro\n",
       "</pre>\n"
      ],
      "text/plain": [
       "Processing Record \u001b[1;36m6\u001b[0m of Set \u001b[1;36m9\u001b[0m | daoukro\n"
      ]
     },
     "metadata": {},
     "output_type": "display_data"
    },
    {
     "data": {
      "text/html": [
       "<pre style=\"white-space:pre;overflow-x:auto;line-height:normal;font-family:Menlo,'DejaVu Sans Mono',consolas,'Courier New',monospace\">Processing Record <span style=\"color: #008080; text-decoration-color: #008080; font-weight: bold\">7</span> of Set <span style=\"color: #008080; text-decoration-color: #008080; font-weight: bold\">9</span> | touros\n",
       "</pre>\n"
      ],
      "text/plain": [
       "Processing Record \u001b[1;36m7\u001b[0m of Set \u001b[1;36m9\u001b[0m | touros\n"
      ]
     },
     "metadata": {},
     "output_type": "display_data"
    },
    {
     "data": {
      "text/html": [
       "<pre style=\"white-space:pre;overflow-x:auto;line-height:normal;font-family:Menlo,'DejaVu Sans Mono',consolas,'Courier New',monospace\">Processing Record <span style=\"color: #008080; text-decoration-color: #008080; font-weight: bold\">8</span> of Set <span style=\"color: #008080; text-decoration-color: #008080; font-weight: bold\">9</span> | tver\n",
       "</pre>\n"
      ],
      "text/plain": [
       "Processing Record \u001b[1;36m8\u001b[0m of Set \u001b[1;36m9\u001b[0m | tver\n"
      ]
     },
     "metadata": {},
     "output_type": "display_data"
    },
    {
     "data": {
      "text/html": [
       "<pre style=\"white-space:pre;overflow-x:auto;line-height:normal;font-family:Menlo,'DejaVu Sans Mono',consolas,'Courier New',monospace\">Processing Record <span style=\"color: #008080; text-decoration-color: #008080; font-weight: bold\">9</span> of Set <span style=\"color: #008080; text-decoration-color: #008080; font-weight: bold\">9</span> | takamaka\n",
       "</pre>\n"
      ],
      "text/plain": [
       "Processing Record \u001b[1;36m9\u001b[0m of Set \u001b[1;36m9\u001b[0m | takamaka\n"
      ]
     },
     "metadata": {},
     "output_type": "display_data"
    },
    {
     "data": {
      "text/html": [
       "<pre style=\"white-space:pre;overflow-x:auto;line-height:normal;font-family:Menlo,'DejaVu Sans Mono',consolas,'Courier New',monospace\">City not found. Skipping<span style=\"color: #808000; text-decoration-color: #808000\">...</span>\n",
       "</pre>\n"
      ],
      "text/plain": [
       "City not found. Skipping\u001b[33m...\u001b[0m\n"
      ]
     },
     "metadata": {},
     "output_type": "display_data"
    },
    {
     "data": {
      "text/html": [
       "<pre style=\"white-space:pre;overflow-x:auto;line-height:normal;font-family:Menlo,'DejaVu Sans Mono',consolas,'Courier New',monospace\">Processing Record <span style=\"color: #008080; text-decoration-color: #008080; font-weight: bold\">10</span> of Set <span style=\"color: #008080; text-decoration-color: #008080; font-weight: bold\">9</span> | farmington\n",
       "</pre>\n"
      ],
      "text/plain": [
       "Processing Record \u001b[1;36m10\u001b[0m of Set \u001b[1;36m9\u001b[0m | farmington\n"
      ]
     },
     "metadata": {},
     "output_type": "display_data"
    },
    {
     "data": {
      "text/html": [
       "<pre style=\"white-space:pre;overflow-x:auto;line-height:normal;font-family:Menlo,'DejaVu Sans Mono',consolas,'Courier New',monospace\">Processing Record <span style=\"color: #008080; text-decoration-color: #008080; font-weight: bold\">11</span> of Set <span style=\"color: #008080; text-decoration-color: #008080; font-weight: bold\">9</span> | palembang\n",
       "</pre>\n"
      ],
      "text/plain": [
       "Processing Record \u001b[1;36m11\u001b[0m of Set \u001b[1;36m9\u001b[0m | palembang\n"
      ]
     },
     "metadata": {},
     "output_type": "display_data"
    },
    {
     "data": {
      "text/html": [
       "<pre style=\"white-space:pre;overflow-x:auto;line-height:normal;font-family:Menlo,'DejaVu Sans Mono',consolas,'Courier New',monospace\">Processing Record <span style=\"color: #008080; text-decoration-color: #008080; font-weight: bold\">12</span> of Set <span style=\"color: #008080; text-decoration-color: #008080; font-weight: bold\">9</span> | saint-jean-de-monts\n",
       "</pre>\n"
      ],
      "text/plain": [
       "Processing Record \u001b[1;36m12\u001b[0m of Set \u001b[1;36m9\u001b[0m | saint-jean-de-monts\n"
      ]
     },
     "metadata": {},
     "output_type": "display_data"
    },
    {
     "data": {
      "text/html": [
       "<pre style=\"white-space:pre;overflow-x:auto;line-height:normal;font-family:Menlo,'DejaVu Sans Mono',consolas,'Courier New',monospace\">Processing Record <span style=\"color: #008080; text-decoration-color: #008080; font-weight: bold\">13</span> of Set <span style=\"color: #008080; text-decoration-color: #008080; font-weight: bold\">9</span> | magadan\n",
       "</pre>\n"
      ],
      "text/plain": [
       "Processing Record \u001b[1;36m13\u001b[0m of Set \u001b[1;36m9\u001b[0m | magadan\n"
      ]
     },
     "metadata": {},
     "output_type": "display_data"
    },
    {
     "data": {
      "text/html": [
       "<pre style=\"white-space:pre;overflow-x:auto;line-height:normal;font-family:Menlo,'DejaVu Sans Mono',consolas,'Courier New',monospace\">Processing Record <span style=\"color: #008080; text-decoration-color: #008080; font-weight: bold\">14</span> of Set <span style=\"color: #008080; text-decoration-color: #008080; font-weight: bold\">9</span> | ati\n",
       "</pre>\n"
      ],
      "text/plain": [
       "Processing Record \u001b[1;36m14\u001b[0m of Set \u001b[1;36m9\u001b[0m | ati\n"
      ]
     },
     "metadata": {},
     "output_type": "display_data"
    },
    {
     "data": {
      "text/html": [
       "<pre style=\"white-space:pre;overflow-x:auto;line-height:normal;font-family:Menlo,'DejaVu Sans Mono',consolas,'Courier New',monospace\">Processing Record <span style=\"color: #008080; text-decoration-color: #008080; font-weight: bold\">15</span> of Set <span style=\"color: #008080; text-decoration-color: #008080; font-weight: bold\">9</span> | harstad\n",
       "</pre>\n"
      ],
      "text/plain": [
       "Processing Record \u001b[1;36m15\u001b[0m of Set \u001b[1;36m9\u001b[0m | harstad\n"
      ]
     },
     "metadata": {},
     "output_type": "display_data"
    },
    {
     "data": {
      "text/html": [
       "<pre style=\"white-space:pre;overflow-x:auto;line-height:normal;font-family:Menlo,'DejaVu Sans Mono',consolas,'Courier New',monospace\">Processing Record <span style=\"color: #008080; text-decoration-color: #008080; font-weight: bold\">16</span> of Set <span style=\"color: #008080; text-decoration-color: #008080; font-weight: bold\">9</span> | midvagur\n",
       "</pre>\n"
      ],
      "text/plain": [
       "Processing Record \u001b[1;36m16\u001b[0m of Set \u001b[1;36m9\u001b[0m | midvagur\n"
      ]
     },
     "metadata": {},
     "output_type": "display_data"
    },
    {
     "data": {
      "text/html": [
       "<pre style=\"white-space:pre;overflow-x:auto;line-height:normal;font-family:Menlo,'DejaVu Sans Mono',consolas,'Courier New',monospace\">Processing Record <span style=\"color: #008080; text-decoration-color: #008080; font-weight: bold\">17</span> of Set <span style=\"color: #008080; text-decoration-color: #008080; font-weight: bold\">9</span> | ola\n",
       "</pre>\n"
      ],
      "text/plain": [
       "Processing Record \u001b[1;36m17\u001b[0m of Set \u001b[1;36m9\u001b[0m | ola\n"
      ]
     },
     "metadata": {},
     "output_type": "display_data"
    },
    {
     "data": {
      "text/html": [
       "<pre style=\"white-space:pre;overflow-x:auto;line-height:normal;font-family:Menlo,'DejaVu Sans Mono',consolas,'Courier New',monospace\">Processing Record <span style=\"color: #008080; text-decoration-color: #008080; font-weight: bold\">18</span> of Set <span style=\"color: #008080; text-decoration-color: #008080; font-weight: bold\">9</span> | sao joao da barra\n",
       "</pre>\n"
      ],
      "text/plain": [
       "Processing Record \u001b[1;36m18\u001b[0m of Set \u001b[1;36m9\u001b[0m | sao joao da barra\n"
      ]
     },
     "metadata": {},
     "output_type": "display_data"
    },
    {
     "data": {
      "text/html": [
       "<pre style=\"white-space:pre;overflow-x:auto;line-height:normal;font-family:Menlo,'DejaVu Sans Mono',consolas,'Courier New',monospace\">Processing Record <span style=\"color: #008080; text-decoration-color: #008080; font-weight: bold\">19</span> of Set <span style=\"color: #008080; text-decoration-color: #008080; font-weight: bold\">9</span> | richards bay\n",
       "</pre>\n"
      ],
      "text/plain": [
       "Processing Record \u001b[1;36m19\u001b[0m of Set \u001b[1;36m9\u001b[0m | richards bay\n"
      ]
     },
     "metadata": {},
     "output_type": "display_data"
    },
    {
     "data": {
      "text/html": [
       "<pre style=\"white-space:pre;overflow-x:auto;line-height:normal;font-family:Menlo,'DejaVu Sans Mono',consolas,'Courier New',monospace\">Processing Record <span style=\"color: #008080; text-decoration-color: #008080; font-weight: bold\">20</span> of Set <span style=\"color: #008080; text-decoration-color: #008080; font-weight: bold\">9</span> | san patricio\n",
       "</pre>\n"
      ],
      "text/plain": [
       "Processing Record \u001b[1;36m20\u001b[0m of Set \u001b[1;36m9\u001b[0m | san patricio\n"
      ]
     },
     "metadata": {},
     "output_type": "display_data"
    },
    {
     "data": {
      "text/html": [
       "<pre style=\"white-space:pre;overflow-x:auto;line-height:normal;font-family:Menlo,'DejaVu Sans Mono',consolas,'Courier New',monospace\">Processing Record <span style=\"color: #008080; text-decoration-color: #008080; font-weight: bold\">21</span> of Set <span style=\"color: #008080; text-decoration-color: #008080; font-weight: bold\">9</span> | sylva\n",
       "</pre>\n"
      ],
      "text/plain": [
       "Processing Record \u001b[1;36m21\u001b[0m of Set \u001b[1;36m9\u001b[0m | sylva\n"
      ]
     },
     "metadata": {},
     "output_type": "display_data"
    },
    {
     "data": {
      "text/html": [
       "<pre style=\"white-space:pre;overflow-x:auto;line-height:normal;font-family:Menlo,'DejaVu Sans Mono',consolas,'Courier New',monospace\">Processing Record <span style=\"color: #008080; text-decoration-color: #008080; font-weight: bold\">22</span> of Set <span style=\"color: #008080; text-decoration-color: #008080; font-weight: bold\">9</span> | tazacorte\n",
       "</pre>\n"
      ],
      "text/plain": [
       "Processing Record \u001b[1;36m22\u001b[0m of Set \u001b[1;36m9\u001b[0m | tazacorte\n"
      ]
     },
     "metadata": {},
     "output_type": "display_data"
    },
    {
     "data": {
      "text/html": [
       "<pre style=\"white-space:pre;overflow-x:auto;line-height:normal;font-family:Menlo,'DejaVu Sans Mono',consolas,'Courier New',monospace\">Processing Record <span style=\"color: #008080; text-decoration-color: #008080; font-weight: bold\">23</span> of Set <span style=\"color: #008080; text-decoration-color: #008080; font-weight: bold\">9</span> | taraz\n",
       "</pre>\n"
      ],
      "text/plain": [
       "Processing Record \u001b[1;36m23\u001b[0m of Set \u001b[1;36m9\u001b[0m | taraz\n"
      ]
     },
     "metadata": {},
     "output_type": "display_data"
    },
    {
     "data": {
      "text/html": [
       "<pre style=\"white-space:pre;overflow-x:auto;line-height:normal;font-family:Menlo,'DejaVu Sans Mono',consolas,'Courier New',monospace\">Processing Record <span style=\"color: #008080; text-decoration-color: #008080; font-weight: bold\">24</span> of Set <span style=\"color: #008080; text-decoration-color: #008080; font-weight: bold\">9</span> | aldinga beach\n",
       "</pre>\n"
      ],
      "text/plain": [
       "Processing Record \u001b[1;36m24\u001b[0m of Set \u001b[1;36m9\u001b[0m | aldinga beach\n"
      ]
     },
     "metadata": {},
     "output_type": "display_data"
    },
    {
     "data": {
      "text/html": [
       "<pre style=\"white-space:pre;overflow-x:auto;line-height:normal;font-family:Menlo,'DejaVu Sans Mono',consolas,'Courier New',monospace\">Processing Record <span style=\"color: #008080; text-decoration-color: #008080; font-weight: bold\">25</span> of Set <span style=\"color: #008080; text-decoration-color: #008080; font-weight: bold\">9</span> | bridlington\n",
       "</pre>\n"
      ],
      "text/plain": [
       "Processing Record \u001b[1;36m25\u001b[0m of Set \u001b[1;36m9\u001b[0m | bridlington\n"
      ]
     },
     "metadata": {},
     "output_type": "display_data"
    },
    {
     "data": {
      "text/html": [
       "<pre style=\"white-space:pre;overflow-x:auto;line-height:normal;font-family:Menlo,'DejaVu Sans Mono',consolas,'Courier New',monospace\">Processing Record <span style=\"color: #008080; text-decoration-color: #008080; font-weight: bold\">26</span> of Set <span style=\"color: #008080; text-decoration-color: #008080; font-weight: bold\">9</span> | altai\n",
       "</pre>\n"
      ],
      "text/plain": [
       "Processing Record \u001b[1;36m26\u001b[0m of Set \u001b[1;36m9\u001b[0m | altai\n"
      ]
     },
     "metadata": {},
     "output_type": "display_data"
    },
    {
     "data": {
      "text/html": [
       "<pre style=\"white-space:pre;overflow-x:auto;line-height:normal;font-family:Menlo,'DejaVu Sans Mono',consolas,'Courier New',monospace\">Processing Record <span style=\"color: #008080; text-decoration-color: #008080; font-weight: bold\">27</span> of Set <span style=\"color: #008080; text-decoration-color: #008080; font-weight: bold\">9</span> | katsuura\n",
       "</pre>\n"
      ],
      "text/plain": [
       "Processing Record \u001b[1;36m27\u001b[0m of Set \u001b[1;36m9\u001b[0m | katsuura\n"
      ]
     },
     "metadata": {},
     "output_type": "display_data"
    },
    {
     "data": {
      "text/html": [
       "<pre style=\"white-space:pre;overflow-x:auto;line-height:normal;font-family:Menlo,'DejaVu Sans Mono',consolas,'Courier New',monospace\">Processing Record <span style=\"color: #008080; text-decoration-color: #008080; font-weight: bold\">28</span> of Set <span style=\"color: #008080; text-decoration-color: #008080; font-weight: bold\">9</span> | xacmaz\n",
       "</pre>\n"
      ],
      "text/plain": [
       "Processing Record \u001b[1;36m28\u001b[0m of Set \u001b[1;36m9\u001b[0m | xacmaz\n"
      ]
     },
     "metadata": {},
     "output_type": "display_data"
    },
    {
     "data": {
      "text/html": [
       "<pre style=\"white-space:pre;overflow-x:auto;line-height:normal;font-family:Menlo,'DejaVu Sans Mono',consolas,'Courier New',monospace\">Processing Record <span style=\"color: #008080; text-decoration-color: #008080; font-weight: bold\">29</span> of Set <span style=\"color: #008080; text-decoration-color: #008080; font-weight: bold\">9</span> | la ronge\n",
       "</pre>\n"
      ],
      "text/plain": [
       "Processing Record \u001b[1;36m29\u001b[0m of Set \u001b[1;36m9\u001b[0m | la ronge\n"
      ]
     },
     "metadata": {},
     "output_type": "display_data"
    },
    {
     "data": {
      "text/html": [
       "<pre style=\"white-space:pre;overflow-x:auto;line-height:normal;font-family:Menlo,'DejaVu Sans Mono',consolas,'Courier New',monospace\">Processing Record <span style=\"color: #008080; text-decoration-color: #008080; font-weight: bold\">30</span> of Set <span style=\"color: #008080; text-decoration-color: #008080; font-weight: bold\">9</span> | koubia\n",
       "</pre>\n"
      ],
      "text/plain": [
       "Processing Record \u001b[1;36m30\u001b[0m of Set \u001b[1;36m9\u001b[0m | koubia\n"
      ]
     },
     "metadata": {},
     "output_type": "display_data"
    },
    {
     "data": {
      "text/html": [
       "<pre style=\"white-space:pre;overflow-x:auto;line-height:normal;font-family:Menlo,'DejaVu Sans Mono',consolas,'Courier New',monospace\">Processing Record <span style=\"color: #008080; text-decoration-color: #008080; font-weight: bold\">31</span> of Set <span style=\"color: #008080; text-decoration-color: #008080; font-weight: bold\">9</span> | salyan\n",
       "</pre>\n"
      ],
      "text/plain": [
       "Processing Record \u001b[1;36m31\u001b[0m of Set \u001b[1;36m9\u001b[0m | salyan\n"
      ]
     },
     "metadata": {},
     "output_type": "display_data"
    },
    {
     "data": {
      "text/html": [
       "<pre style=\"white-space:pre;overflow-x:auto;line-height:normal;font-family:Menlo,'DejaVu Sans Mono',consolas,'Courier New',monospace\">Processing Record <span style=\"color: #008080; text-decoration-color: #008080; font-weight: bold\">32</span> of Set <span style=\"color: #008080; text-decoration-color: #008080; font-weight: bold\">9</span> | kavaratti\n",
       "</pre>\n"
      ],
      "text/plain": [
       "Processing Record \u001b[1;36m32\u001b[0m of Set \u001b[1;36m9\u001b[0m | kavaratti\n"
      ]
     },
     "metadata": {},
     "output_type": "display_data"
    },
    {
     "data": {
      "text/html": [
       "<pre style=\"white-space:pre;overflow-x:auto;line-height:normal;font-family:Menlo,'DejaVu Sans Mono',consolas,'Courier New',monospace\">Processing Record <span style=\"color: #008080; text-decoration-color: #008080; font-weight: bold\">33</span> of Set <span style=\"color: #008080; text-decoration-color: #008080; font-weight: bold\">9</span> | lincheng\n",
       "</pre>\n"
      ],
      "text/plain": [
       "Processing Record \u001b[1;36m33\u001b[0m of Set \u001b[1;36m9\u001b[0m | lincheng\n"
      ]
     },
     "metadata": {},
     "output_type": "display_data"
    },
    {
     "data": {
      "text/html": [
       "<pre style=\"white-space:pre;overflow-x:auto;line-height:normal;font-family:Menlo,'DejaVu Sans Mono',consolas,'Courier New',monospace\">Processing Record <span style=\"color: #008080; text-decoration-color: #008080; font-weight: bold\">34</span> of Set <span style=\"color: #008080; text-decoration-color: #008080; font-weight: bold\">9</span> | energetik\n",
       "</pre>\n"
      ],
      "text/plain": [
       "Processing Record \u001b[1;36m34\u001b[0m of Set \u001b[1;36m9\u001b[0m | energetik\n"
      ]
     },
     "metadata": {},
     "output_type": "display_data"
    },
    {
     "data": {
      "text/html": [
       "<pre style=\"white-space:pre;overflow-x:auto;line-height:normal;font-family:Menlo,'DejaVu Sans Mono',consolas,'Courier New',monospace\">Processing Record <span style=\"color: #008080; text-decoration-color: #008080; font-weight: bold\">35</span> of Set <span style=\"color: #008080; text-decoration-color: #008080; font-weight: bold\">9</span> | ambovombe\n",
       "</pre>\n"
      ],
      "text/plain": [
       "Processing Record \u001b[1;36m35\u001b[0m of Set \u001b[1;36m9\u001b[0m | ambovombe\n"
      ]
     },
     "metadata": {},
     "output_type": "display_data"
    },
    {
     "data": {
      "text/html": [
       "<pre style=\"white-space:pre;overflow-x:auto;line-height:normal;font-family:Menlo,'DejaVu Sans Mono',consolas,'Courier New',monospace\">Processing Record <span style=\"color: #008080; text-decoration-color: #008080; font-weight: bold\">36</span> of Set <span style=\"color: #008080; text-decoration-color: #008080; font-weight: bold\">9</span> | saint-francois\n",
       "</pre>\n"
      ],
      "text/plain": [
       "Processing Record \u001b[1;36m36\u001b[0m of Set \u001b[1;36m9\u001b[0m | saint-francois\n"
      ]
     },
     "metadata": {},
     "output_type": "display_data"
    },
    {
     "data": {
      "text/html": [
       "<pre style=\"white-space:pre;overflow-x:auto;line-height:normal;font-family:Menlo,'DejaVu Sans Mono',consolas,'Courier New',monospace\">Processing Record <span style=\"color: #008080; text-decoration-color: #008080; font-weight: bold\">37</span> of Set <span style=\"color: #008080; text-decoration-color: #008080; font-weight: bold\">9</span> | miyako\n",
       "</pre>\n"
      ],
      "text/plain": [
       "Processing Record \u001b[1;36m37\u001b[0m of Set \u001b[1;36m9\u001b[0m | miyako\n"
      ]
     },
     "metadata": {},
     "output_type": "display_data"
    },
    {
     "data": {
      "text/html": [
       "<pre style=\"white-space:pre;overflow-x:auto;line-height:normal;font-family:Menlo,'DejaVu Sans Mono',consolas,'Courier New',monospace\">Processing Record <span style=\"color: #008080; text-decoration-color: #008080; font-weight: bold\">38</span> of Set <span style=\"color: #008080; text-decoration-color: #008080; font-weight: bold\">9</span> | margate\n",
       "</pre>\n"
      ],
      "text/plain": [
       "Processing Record \u001b[1;36m38\u001b[0m of Set \u001b[1;36m9\u001b[0m | margate\n"
      ]
     },
     "metadata": {},
     "output_type": "display_data"
    },
    {
     "data": {
      "text/html": [
       "<pre style=\"white-space:pre;overflow-x:auto;line-height:normal;font-family:Menlo,'DejaVu Sans Mono',consolas,'Courier New',monospace\">Processing Record <span style=\"color: #008080; text-decoration-color: #008080; font-weight: bold\">39</span> of Set <span style=\"color: #008080; text-decoration-color: #008080; font-weight: bold\">9</span> | kangding\n",
       "</pre>\n"
      ],
      "text/plain": [
       "Processing Record \u001b[1;36m39\u001b[0m of Set \u001b[1;36m9\u001b[0m | kangding\n"
      ]
     },
     "metadata": {},
     "output_type": "display_data"
    },
    {
     "data": {
      "text/html": [
       "<pre style=\"white-space:pre;overflow-x:auto;line-height:normal;font-family:Menlo,'DejaVu Sans Mono',consolas,'Courier New',monospace\">Processing Record <span style=\"color: #008080; text-decoration-color: #008080; font-weight: bold\">40</span> of Set <span style=\"color: #008080; text-decoration-color: #008080; font-weight: bold\">9</span> | joensuu\n",
       "</pre>\n"
      ],
      "text/plain": [
       "Processing Record \u001b[1;36m40\u001b[0m of Set \u001b[1;36m9\u001b[0m | joensuu\n"
      ]
     },
     "metadata": {},
     "output_type": "display_data"
    },
    {
     "data": {
      "text/html": [
       "<pre style=\"white-space:pre;overflow-x:auto;line-height:normal;font-family:Menlo,'DejaVu Sans Mono',consolas,'Courier New',monospace\">Processing Record <span style=\"color: #008080; text-decoration-color: #008080; font-weight: bold\">41</span> of Set <span style=\"color: #008080; text-decoration-color: #008080; font-weight: bold\">9</span> | kruisfontein\n",
       "</pre>\n"
      ],
      "text/plain": [
       "Processing Record \u001b[1;36m41\u001b[0m of Set \u001b[1;36m9\u001b[0m | kruisfontein\n"
      ]
     },
     "metadata": {},
     "output_type": "display_data"
    },
    {
     "data": {
      "text/html": [
       "<pre style=\"white-space:pre;overflow-x:auto;line-height:normal;font-family:Menlo,'DejaVu Sans Mono',consolas,'Courier New',monospace\">Processing Record <span style=\"color: #008080; text-decoration-color: #008080; font-weight: bold\">42</span> of Set <span style=\"color: #008080; text-decoration-color: #008080; font-weight: bold\">9</span> | thinadhoo\n",
       "</pre>\n"
      ],
      "text/plain": [
       "Processing Record \u001b[1;36m42\u001b[0m of Set \u001b[1;36m9\u001b[0m | thinadhoo\n"
      ]
     },
     "metadata": {},
     "output_type": "display_data"
    },
    {
     "data": {
      "text/html": [
       "<pre style=\"white-space:pre;overflow-x:auto;line-height:normal;font-family:Menlo,'DejaVu Sans Mono',consolas,'Courier New',monospace\">Processing Record <span style=\"color: #008080; text-decoration-color: #008080; font-weight: bold\">43</span> of Set <span style=\"color: #008080; text-decoration-color: #008080; font-weight: bold\">9</span> | broken hill\n",
       "</pre>\n"
      ],
      "text/plain": [
       "Processing Record \u001b[1;36m43\u001b[0m of Set \u001b[1;36m9\u001b[0m | broken hill\n"
      ]
     },
     "metadata": {},
     "output_type": "display_data"
    },
    {
     "data": {
      "text/html": [
       "<pre style=\"white-space:pre;overflow-x:auto;line-height:normal;font-family:Menlo,'DejaVu Sans Mono',consolas,'Courier New',monospace\">Processing Record <span style=\"color: #008080; text-decoration-color: #008080; font-weight: bold\">44</span> of Set <span style=\"color: #008080; text-decoration-color: #008080; font-weight: bold\">9</span> | geraldton\n",
       "</pre>\n"
      ],
      "text/plain": [
       "Processing Record \u001b[1;36m44\u001b[0m of Set \u001b[1;36m9\u001b[0m | geraldton\n"
      ]
     },
     "metadata": {},
     "output_type": "display_data"
    },
    {
     "data": {
      "text/html": [
       "<pre style=\"white-space:pre;overflow-x:auto;line-height:normal;font-family:Menlo,'DejaVu Sans Mono',consolas,'Courier New',monospace\">Processing Record <span style=\"color: #008080; text-decoration-color: #008080; font-weight: bold\">45</span> of Set <span style=\"color: #008080; text-decoration-color: #008080; font-weight: bold\">9</span> | kourou\n",
       "</pre>\n"
      ],
      "text/plain": [
       "Processing Record \u001b[1;36m45\u001b[0m of Set \u001b[1;36m9\u001b[0m | kourou\n"
      ]
     },
     "metadata": {},
     "output_type": "display_data"
    },
    {
     "data": {
      "text/html": [
       "<pre style=\"white-space:pre;overflow-x:auto;line-height:normal;font-family:Menlo,'DejaVu Sans Mono',consolas,'Courier New',monospace\">Processing Record <span style=\"color: #008080; text-decoration-color: #008080; font-weight: bold\">46</span> of Set <span style=\"color: #008080; text-decoration-color: #008080; font-weight: bold\">9</span> | beroroha\n",
       "</pre>\n"
      ],
      "text/plain": [
       "Processing Record \u001b[1;36m46\u001b[0m of Set \u001b[1;36m9\u001b[0m | beroroha\n"
      ]
     },
     "metadata": {},
     "output_type": "display_data"
    },
    {
     "data": {
      "text/html": [
       "<pre style=\"white-space:pre;overflow-x:auto;line-height:normal;font-family:Menlo,'DejaVu Sans Mono',consolas,'Courier New',monospace\">Processing Record <span style=\"color: #008080; text-decoration-color: #008080; font-weight: bold\">47</span> of Set <span style=\"color: #008080; text-decoration-color: #008080; font-weight: bold\">9</span> | port macquarie\n",
       "</pre>\n"
      ],
      "text/plain": [
       "Processing Record \u001b[1;36m47\u001b[0m of Set \u001b[1;36m9\u001b[0m | port macquarie\n"
      ]
     },
     "metadata": {},
     "output_type": "display_data"
    },
    {
     "data": {
      "text/html": [
       "<pre style=\"white-space:pre;overflow-x:auto;line-height:normal;font-family:Menlo,'DejaVu Sans Mono',consolas,'Courier New',monospace\">Processing Record <span style=\"color: #008080; text-decoration-color: #008080; font-weight: bold\">48</span> of Set <span style=\"color: #008080; text-decoration-color: #008080; font-weight: bold\">9</span> | dipayal\n",
       "</pre>\n"
      ],
      "text/plain": [
       "Processing Record \u001b[1;36m48\u001b[0m of Set \u001b[1;36m9\u001b[0m | dipayal\n"
      ]
     },
     "metadata": {},
     "output_type": "display_data"
    },
    {
     "data": {
      "text/html": [
       "<pre style=\"white-space:pre;overflow-x:auto;line-height:normal;font-family:Menlo,'DejaVu Sans Mono',consolas,'Courier New',monospace\">Processing Record <span style=\"color: #008080; text-decoration-color: #008080; font-weight: bold\">49</span> of Set <span style=\"color: #008080; text-decoration-color: #008080; font-weight: bold\">9</span> | berezovyy\n",
       "</pre>\n"
      ],
      "text/plain": [
       "Processing Record \u001b[1;36m49\u001b[0m of Set \u001b[1;36m9\u001b[0m | berezovyy\n"
      ]
     },
     "metadata": {},
     "output_type": "display_data"
    },
    {
     "data": {
      "text/html": [
       "<pre style=\"white-space:pre;overflow-x:auto;line-height:normal;font-family:Menlo,'DejaVu Sans Mono',consolas,'Courier New',monospace\">Processing Record <span style=\"color: #008080; text-decoration-color: #008080; font-weight: bold\">0</span> of Set <span style=\"color: #008080; text-decoration-color: #008080; font-weight: bold\">10</span> | villa gesell\n",
       "</pre>\n"
      ],
      "text/plain": [
       "Processing Record \u001b[1;36m0\u001b[0m of Set \u001b[1;36m10\u001b[0m | villa gesell\n"
      ]
     },
     "metadata": {},
     "output_type": "display_data"
    },
    {
     "data": {
      "text/html": [
       "<pre style=\"white-space:pre;overflow-x:auto;line-height:normal;font-family:Menlo,'DejaVu Sans Mono',consolas,'Courier New',monospace\">Processing Record <span style=\"color: #008080; text-decoration-color: #008080; font-weight: bold\">1</span> of Set <span style=\"color: #008080; text-decoration-color: #008080; font-weight: bold\">10</span> | tashtagol\n",
       "</pre>\n"
      ],
      "text/plain": [
       "Processing Record \u001b[1;36m1\u001b[0m of Set \u001b[1;36m10\u001b[0m | tashtagol\n"
      ]
     },
     "metadata": {},
     "output_type": "display_data"
    },
    {
     "data": {
      "text/html": [
       "<pre style=\"white-space:pre;overflow-x:auto;line-height:normal;font-family:Menlo,'DejaVu Sans Mono',consolas,'Courier New',monospace\">Processing Record <span style=\"color: #008080; text-decoration-color: #008080; font-weight: bold\">2</span> of Set <span style=\"color: #008080; text-decoration-color: #008080; font-weight: bold\">10</span> | amreli\n",
       "</pre>\n"
      ],
      "text/plain": [
       "Processing Record \u001b[1;36m2\u001b[0m of Set \u001b[1;36m10\u001b[0m | amreli\n"
      ]
     },
     "metadata": {},
     "output_type": "display_data"
    },
    {
     "data": {
      "text/html": [
       "<pre style=\"white-space:pre;overflow-x:auto;line-height:normal;font-family:Menlo,'DejaVu Sans Mono',consolas,'Courier New',monospace\">Processing Record <span style=\"color: #008080; text-decoration-color: #008080; font-weight: bold\">3</span> of Set <span style=\"color: #008080; text-decoration-color: #008080; font-weight: bold\">10</span> | sisimiut\n",
       "</pre>\n"
      ],
      "text/plain": [
       "Processing Record \u001b[1;36m3\u001b[0m of Set \u001b[1;36m10\u001b[0m | sisimiut\n"
      ]
     },
     "metadata": {},
     "output_type": "display_data"
    },
    {
     "data": {
      "text/html": [
       "<pre style=\"white-space:pre;overflow-x:auto;line-height:normal;font-family:Menlo,'DejaVu Sans Mono',consolas,'Courier New',monospace\">Processing Record <span style=\"color: #008080; text-decoration-color: #008080; font-weight: bold\">4</span> of Set <span style=\"color: #008080; text-decoration-color: #008080; font-weight: bold\">10</span> | qarauyl\n",
       "</pre>\n"
      ],
      "text/plain": [
       "Processing Record \u001b[1;36m4\u001b[0m of Set \u001b[1;36m10\u001b[0m | qarauyl\n"
      ]
     },
     "metadata": {},
     "output_type": "display_data"
    },
    {
     "data": {
      "text/html": [
       "<pre style=\"white-space:pre;overflow-x:auto;line-height:normal;font-family:Menlo,'DejaVu Sans Mono',consolas,'Courier New',monospace\">Processing Record <span style=\"color: #008080; text-decoration-color: #008080; font-weight: bold\">5</span> of Set <span style=\"color: #008080; text-decoration-color: #008080; font-weight: bold\">10</span> | bikenibeu village\n",
       "</pre>\n"
      ],
      "text/plain": [
       "Processing Record \u001b[1;36m5\u001b[0m of Set \u001b[1;36m10\u001b[0m | bikenibeu village\n"
      ]
     },
     "metadata": {},
     "output_type": "display_data"
    },
    {
     "data": {
      "text/html": [
       "<pre style=\"white-space:pre;overflow-x:auto;line-height:normal;font-family:Menlo,'DejaVu Sans Mono',consolas,'Courier New',monospace\">Processing Record <span style=\"color: #008080; text-decoration-color: #008080; font-weight: bold\">6</span> of Set <span style=\"color: #008080; text-decoration-color: #008080; font-weight: bold\">10</span> | rechytsa\n",
       "</pre>\n"
      ],
      "text/plain": [
       "Processing Record \u001b[1;36m6\u001b[0m of Set \u001b[1;36m10\u001b[0m | rechytsa\n"
      ]
     },
     "metadata": {},
     "output_type": "display_data"
    },
    {
     "data": {
      "text/html": [
       "<pre style=\"white-space:pre;overflow-x:auto;line-height:normal;font-family:Menlo,'DejaVu Sans Mono',consolas,'Courier New',monospace\">Processing Record <span style=\"color: #008080; text-decoration-color: #008080; font-weight: bold\">7</span> of Set <span style=\"color: #008080; text-decoration-color: #008080; font-weight: bold\">10</span> | puerto aysen\n",
       "</pre>\n"
      ],
      "text/plain": [
       "Processing Record \u001b[1;36m7\u001b[0m of Set \u001b[1;36m10\u001b[0m | puerto aysen\n"
      ]
     },
     "metadata": {},
     "output_type": "display_data"
    },
    {
     "data": {
      "text/html": [
       "<pre style=\"white-space:pre;overflow-x:auto;line-height:normal;font-family:Menlo,'DejaVu Sans Mono',consolas,'Courier New',monospace\">Processing Record <span style=\"color: #008080; text-decoration-color: #008080; font-weight: bold\">8</span> of Set <span style=\"color: #008080; text-decoration-color: #008080; font-weight: bold\">10</span> | severo-yeniseyskiy\n",
       "</pre>\n"
      ],
      "text/plain": [
       "Processing Record \u001b[1;36m8\u001b[0m of Set \u001b[1;36m10\u001b[0m | severo-yeniseyskiy\n"
      ]
     },
     "metadata": {},
     "output_type": "display_data"
    },
    {
     "data": {
      "text/html": [
       "<pre style=\"white-space:pre;overflow-x:auto;line-height:normal;font-family:Menlo,'DejaVu Sans Mono',consolas,'Courier New',monospace\">Processing Record <span style=\"color: #008080; text-decoration-color: #008080; font-weight: bold\">9</span> of Set <span style=\"color: #008080; text-decoration-color: #008080; font-weight: bold\">10</span> | hirara\n",
       "</pre>\n"
      ],
      "text/plain": [
       "Processing Record \u001b[1;36m9\u001b[0m of Set \u001b[1;36m10\u001b[0m | hirara\n"
      ]
     },
     "metadata": {},
     "output_type": "display_data"
    },
    {
     "data": {
      "text/html": [
       "<pre style=\"white-space:pre;overflow-x:auto;line-height:normal;font-family:Menlo,'DejaVu Sans Mono',consolas,'Courier New',monospace\">Processing Record <span style=\"color: #008080; text-decoration-color: #008080; font-weight: bold\">10</span> of Set <span style=\"color: #008080; text-decoration-color: #008080; font-weight: bold\">10</span> | sydney mines\n",
       "</pre>\n"
      ],
      "text/plain": [
       "Processing Record \u001b[1;36m10\u001b[0m of Set \u001b[1;36m10\u001b[0m | sydney mines\n"
      ]
     },
     "metadata": {},
     "output_type": "display_data"
    },
    {
     "data": {
      "text/html": [
       "<pre style=\"white-space:pre;overflow-x:auto;line-height:normal;font-family:Menlo,'DejaVu Sans Mono',consolas,'Courier New',monospace\">Processing Record <span style=\"color: #008080; text-decoration-color: #008080; font-weight: bold\">11</span> of Set <span style=\"color: #008080; text-decoration-color: #008080; font-weight: bold\">10</span> | ad dawadimi\n",
       "</pre>\n"
      ],
      "text/plain": [
       "Processing Record \u001b[1;36m11\u001b[0m of Set \u001b[1;36m10\u001b[0m | ad dawadimi\n"
      ]
     },
     "metadata": {},
     "output_type": "display_data"
    },
    {
     "data": {
      "text/html": [
       "<pre style=\"white-space:pre;overflow-x:auto;line-height:normal;font-family:Menlo,'DejaVu Sans Mono',consolas,'Courier New',monospace\">Processing Record <span style=\"color: #008080; text-decoration-color: #008080; font-weight: bold\">12</span> of Set <span style=\"color: #008080; text-decoration-color: #008080; font-weight: bold\">10</span> | tamboril\n",
       "</pre>\n"
      ],
      "text/plain": [
       "Processing Record \u001b[1;36m12\u001b[0m of Set \u001b[1;36m10\u001b[0m | tamboril\n"
      ]
     },
     "metadata": {},
     "output_type": "display_data"
    },
    {
     "data": {
      "text/html": [
       "<pre style=\"white-space:pre;overflow-x:auto;line-height:normal;font-family:Menlo,'DejaVu Sans Mono',consolas,'Courier New',monospace\">Processing Record <span style=\"color: #008080; text-decoration-color: #008080; font-weight: bold\">13</span> of Set <span style=\"color: #008080; text-decoration-color: #008080; font-weight: bold\">10</span> | sokhumi\n",
       "</pre>\n"
      ],
      "text/plain": [
       "Processing Record \u001b[1;36m13\u001b[0m of Set \u001b[1;36m10\u001b[0m | sokhumi\n"
      ]
     },
     "metadata": {},
     "output_type": "display_data"
    },
    {
     "data": {
      "text/html": [
       "<pre style=\"white-space:pre;overflow-x:auto;line-height:normal;font-family:Menlo,'DejaVu Sans Mono',consolas,'Courier New',monospace\">Processing Record <span style=\"color: #008080; text-decoration-color: #008080; font-weight: bold\">14</span> of Set <span style=\"color: #008080; text-decoration-color: #008080; font-weight: bold\">10</span> | esquel\n",
       "</pre>\n"
      ],
      "text/plain": [
       "Processing Record \u001b[1;36m14\u001b[0m of Set \u001b[1;36m10\u001b[0m | esquel\n"
      ]
     },
     "metadata": {},
     "output_type": "display_data"
    },
    {
     "data": {
      "text/html": [
       "<pre style=\"white-space:pre;overflow-x:auto;line-height:normal;font-family:Menlo,'DejaVu Sans Mono',consolas,'Courier New',monospace\">Processing Record <span style=\"color: #008080; text-decoration-color: #008080; font-weight: bold\">15</span> of Set <span style=\"color: #008080; text-decoration-color: #008080; font-weight: bold\">10</span> | sarikei\n",
       "</pre>\n"
      ],
      "text/plain": [
       "Processing Record \u001b[1;36m15\u001b[0m of Set \u001b[1;36m10\u001b[0m | sarikei\n"
      ]
     },
     "metadata": {},
     "output_type": "display_data"
    },
    {
     "data": {
      "text/html": [
       "<pre style=\"white-space:pre;overflow-x:auto;line-height:normal;font-family:Menlo,'DejaVu Sans Mono',consolas,'Courier New',monospace\">Processing Record <span style=\"color: #008080; text-decoration-color: #008080; font-weight: bold\">16</span> of Set <span style=\"color: #008080; text-decoration-color: #008080; font-weight: bold\">10</span> | shilin\n",
       "</pre>\n"
      ],
      "text/plain": [
       "Processing Record \u001b[1;36m16\u001b[0m of Set \u001b[1;36m10\u001b[0m | shilin\n"
      ]
     },
     "metadata": {},
     "output_type": "display_data"
    },
    {
     "data": {
      "text/html": [
       "<pre style=\"white-space:pre;overflow-x:auto;line-height:normal;font-family:Menlo,'DejaVu Sans Mono',consolas,'Courier New',monospace\">Processing Record <span style=\"color: #008080; text-decoration-color: #008080; font-weight: bold\">17</span> of Set <span style=\"color: #008080; text-decoration-color: #008080; font-weight: bold\">10</span> | zhangatas\n",
       "</pre>\n"
      ],
      "text/plain": [
       "Processing Record \u001b[1;36m17\u001b[0m of Set \u001b[1;36m10\u001b[0m | zhangatas\n"
      ]
     },
     "metadata": {},
     "output_type": "display_data"
    },
    {
     "data": {
      "text/html": [
       "<pre style=\"white-space:pre;overflow-x:auto;line-height:normal;font-family:Menlo,'DejaVu Sans Mono',consolas,'Courier New',monospace\">Processing Record <span style=\"color: #008080; text-decoration-color: #008080; font-weight: bold\">18</span> of Set <span style=\"color: #008080; text-decoration-color: #008080; font-weight: bold\">10</span> | ocean shores\n",
       "</pre>\n"
      ],
      "text/plain": [
       "Processing Record \u001b[1;36m18\u001b[0m of Set \u001b[1;36m10\u001b[0m | ocean shores\n"
      ]
     },
     "metadata": {},
     "output_type": "display_data"
    },
    {
     "data": {
      "text/html": [
       "<pre style=\"white-space:pre;overflow-x:auto;line-height:normal;font-family:Menlo,'DejaVu Sans Mono',consolas,'Courier New',monospace\">Processing Record <span style=\"color: #008080; text-decoration-color: #008080; font-weight: bold\">19</span> of Set <span style=\"color: #008080; text-decoration-color: #008080; font-weight: bold\">10</span> | port glaud\n",
       "</pre>\n"
      ],
      "text/plain": [
       "Processing Record \u001b[1;36m19\u001b[0m of Set \u001b[1;36m10\u001b[0m | port glaud\n"
      ]
     },
     "metadata": {},
     "output_type": "display_data"
    },
    {
     "data": {
      "text/html": [
       "<pre style=\"white-space:pre;overflow-x:auto;line-height:normal;font-family:Menlo,'DejaVu Sans Mono',consolas,'Courier New',monospace\">City not found. Skipping<span style=\"color: #808000; text-decoration-color: #808000\">...</span>\n",
       "</pre>\n"
      ],
      "text/plain": [
       "City not found. Skipping\u001b[33m...\u001b[0m\n"
      ]
     },
     "metadata": {},
     "output_type": "display_data"
    },
    {
     "data": {
      "text/html": [
       "<pre style=\"white-space:pre;overflow-x:auto;line-height:normal;font-family:Menlo,'DejaVu Sans Mono',consolas,'Courier New',monospace\">Processing Record <span style=\"color: #008080; text-decoration-color: #008080; font-weight: bold\">20</span> of Set <span style=\"color: #008080; text-decoration-color: #008080; font-weight: bold\">10</span> | ulaangom\n",
       "</pre>\n"
      ],
      "text/plain": [
       "Processing Record \u001b[1;36m20\u001b[0m of Set \u001b[1;36m10\u001b[0m | ulaangom\n"
      ]
     },
     "metadata": {},
     "output_type": "display_data"
    },
    {
     "data": {
      "text/html": [
       "<pre style=\"white-space:pre;overflow-x:auto;line-height:normal;font-family:Menlo,'DejaVu Sans Mono',consolas,'Courier New',monospace\">Processing Record <span style=\"color: #008080; text-decoration-color: #008080; font-weight: bold\">21</span> of Set <span style=\"color: #008080; text-decoration-color: #008080; font-weight: bold\">10</span> | morondava\n",
       "</pre>\n"
      ],
      "text/plain": [
       "Processing Record \u001b[1;36m21\u001b[0m of Set \u001b[1;36m10\u001b[0m | morondava\n"
      ]
     },
     "metadata": {},
     "output_type": "display_data"
    },
    {
     "data": {
      "text/html": [
       "<pre style=\"white-space:pre;overflow-x:auto;line-height:normal;font-family:Menlo,'DejaVu Sans Mono',consolas,'Courier New',monospace\">Processing Record <span style=\"color: #008080; text-decoration-color: #008080; font-weight: bold\">22</span> of Set <span style=\"color: #008080; text-decoration-color: #008080; font-weight: bold\">10</span> | porto murtinho\n",
       "</pre>\n"
      ],
      "text/plain": [
       "Processing Record \u001b[1;36m22\u001b[0m of Set \u001b[1;36m10\u001b[0m | porto murtinho\n"
      ]
     },
     "metadata": {},
     "output_type": "display_data"
    },
    {
     "data": {
      "text/html": [
       "<pre style=\"white-space:pre;overflow-x:auto;line-height:normal;font-family:Menlo,'DejaVu Sans Mono',consolas,'Courier New',monospace\">Processing Record <span style=\"color: #008080; text-decoration-color: #008080; font-weight: bold\">23</span> of Set <span style=\"color: #008080; text-decoration-color: #008080; font-weight: bold\">10</span> | camiri\n",
       "</pre>\n"
      ],
      "text/plain": [
       "Processing Record \u001b[1;36m23\u001b[0m of Set \u001b[1;36m10\u001b[0m | camiri\n"
      ]
     },
     "metadata": {},
     "output_type": "display_data"
    },
    {
     "data": {
      "text/html": [
       "<pre style=\"white-space:pre;overflow-x:auto;line-height:normal;font-family:Menlo,'DejaVu Sans Mono',consolas,'Courier New',monospace\">Processing Record <span style=\"color: #008080; text-decoration-color: #008080; font-weight: bold\">24</span> of Set <span style=\"color: #008080; text-decoration-color: #008080; font-weight: bold\">10</span> | paita\n",
       "</pre>\n"
      ],
      "text/plain": [
       "Processing Record \u001b[1;36m24\u001b[0m of Set \u001b[1;36m10\u001b[0m | paita\n"
      ]
     },
     "metadata": {},
     "output_type": "display_data"
    },
    {
     "data": {
      "text/html": [
       "<pre style=\"white-space:pre;overflow-x:auto;line-height:normal;font-family:Menlo,'DejaVu Sans Mono',consolas,'Courier New',monospace\">Processing Record <span style=\"color: #008080; text-decoration-color: #008080; font-weight: bold\">25</span> of Set <span style=\"color: #008080; text-decoration-color: #008080; font-weight: bold\">10</span> | ain taya\n",
       "</pre>\n"
      ],
      "text/plain": [
       "Processing Record \u001b[1;36m25\u001b[0m of Set \u001b[1;36m10\u001b[0m | ain taya\n"
      ]
     },
     "metadata": {},
     "output_type": "display_data"
    },
    {
     "data": {
      "text/html": [
       "<pre style=\"white-space:pre;overflow-x:auto;line-height:normal;font-family:Menlo,'DejaVu Sans Mono',consolas,'Courier New',monospace\">Processing Record <span style=\"color: #008080; text-decoration-color: #008080; font-weight: bold\">26</span> of Set <span style=\"color: #008080; text-decoration-color: #008080; font-weight: bold\">10</span> | asosa\n",
       "</pre>\n"
      ],
      "text/plain": [
       "Processing Record \u001b[1;36m26\u001b[0m of Set \u001b[1;36m10\u001b[0m | asosa\n"
      ]
     },
     "metadata": {},
     "output_type": "display_data"
    },
    {
     "data": {
      "text/html": [
       "<pre style=\"white-space:pre;overflow-x:auto;line-height:normal;font-family:Menlo,'DejaVu Sans Mono',consolas,'Courier New',monospace\">Processing Record <span style=\"color: #008080; text-decoration-color: #008080; font-weight: bold\">27</span> of Set <span style=\"color: #008080; text-decoration-color: #008080; font-weight: bold\">10</span> | solnechnyy\n",
       "</pre>\n"
      ],
      "text/plain": [
       "Processing Record \u001b[1;36m27\u001b[0m of Set \u001b[1;36m10\u001b[0m | solnechnyy\n"
      ]
     },
     "metadata": {},
     "output_type": "display_data"
    },
    {
     "data": {
      "text/html": [
       "<pre style=\"white-space:pre;overflow-x:auto;line-height:normal;font-family:Menlo,'DejaVu Sans Mono',consolas,'Courier New',monospace\">Processing Record <span style=\"color: #008080; text-decoration-color: #008080; font-weight: bold\">28</span> of Set <span style=\"color: #008080; text-decoration-color: #008080; font-weight: bold\">10</span> | mahenge\n",
       "</pre>\n"
      ],
      "text/plain": [
       "Processing Record \u001b[1;36m28\u001b[0m of Set \u001b[1;36m10\u001b[0m | mahenge\n"
      ]
     },
     "metadata": {},
     "output_type": "display_data"
    },
    {
     "data": {
      "text/html": [
       "<pre style=\"white-space:pre;overflow-x:auto;line-height:normal;font-family:Menlo,'DejaVu Sans Mono',consolas,'Courier New',monospace\">Processing Record <span style=\"color: #008080; text-decoration-color: #008080; font-weight: bold\">29</span> of Set <span style=\"color: #008080; text-decoration-color: #008080; font-weight: bold\">10</span> | osh\n",
       "</pre>\n"
      ],
      "text/plain": [
       "Processing Record \u001b[1;36m29\u001b[0m of Set \u001b[1;36m10\u001b[0m | osh\n"
      ]
     },
     "metadata": {},
     "output_type": "display_data"
    },
    {
     "data": {
      "text/html": [
       "<pre style=\"white-space:pre;overflow-x:auto;line-height:normal;font-family:Menlo,'DejaVu Sans Mono',consolas,'Courier New',monospace\">Processing Record <span style=\"color: #008080; text-decoration-color: #008080; font-weight: bold\">30</span> of Set <span style=\"color: #008080; text-decoration-color: #008080; font-weight: bold\">10</span> | machilipatnam\n",
       "</pre>\n"
      ],
      "text/plain": [
       "Processing Record \u001b[1;36m30\u001b[0m of Set \u001b[1;36m10\u001b[0m | machilipatnam\n"
      ]
     },
     "metadata": {},
     "output_type": "display_data"
    },
    {
     "data": {
      "text/html": [
       "<pre style=\"white-space:pre;overflow-x:auto;line-height:normal;font-family:Menlo,'DejaVu Sans Mono',consolas,'Courier New',monospace\">Processing Record <span style=\"color: #008080; text-decoration-color: #008080; font-weight: bold\">31</span> of Set <span style=\"color: #008080; text-decoration-color: #008080; font-weight: bold\">10</span> | santana\n",
       "</pre>\n"
      ],
      "text/plain": [
       "Processing Record \u001b[1;36m31\u001b[0m of Set \u001b[1;36m10\u001b[0m | santana\n"
      ]
     },
     "metadata": {},
     "output_type": "display_data"
    },
    {
     "data": {
      "text/html": [
       "<pre style=\"white-space:pre;overflow-x:auto;line-height:normal;font-family:Menlo,'DejaVu Sans Mono',consolas,'Courier New',monospace\">Processing Record <span style=\"color: #008080; text-decoration-color: #008080; font-weight: bold\">32</span> of Set <span style=\"color: #008080; text-decoration-color: #008080; font-weight: bold\">10</span> | songea\n",
       "</pre>\n"
      ],
      "text/plain": [
       "Processing Record \u001b[1;36m32\u001b[0m of Set \u001b[1;36m10\u001b[0m | songea\n"
      ]
     },
     "metadata": {},
     "output_type": "display_data"
    },
    {
     "data": {
      "text/html": [
       "<pre style=\"white-space:pre;overflow-x:auto;line-height:normal;font-family:Menlo,'DejaVu Sans Mono',consolas,'Courier New',monospace\">Processing Record <span style=\"color: #008080; text-decoration-color: #008080; font-weight: bold\">33</span> of Set <span style=\"color: #008080; text-decoration-color: #008080; font-weight: bold\">10</span> | mana\n",
       "</pre>\n"
      ],
      "text/plain": [
       "Processing Record \u001b[1;36m33\u001b[0m of Set \u001b[1;36m10\u001b[0m | mana\n"
      ]
     },
     "metadata": {},
     "output_type": "display_data"
    },
    {
     "data": {
      "text/html": [
       "<pre style=\"white-space:pre;overflow-x:auto;line-height:normal;font-family:Menlo,'DejaVu Sans Mono',consolas,'Courier New',monospace\">Processing Record <span style=\"color: #008080; text-decoration-color: #008080; font-weight: bold\">34</span> of Set <span style=\"color: #008080; text-decoration-color: #008080; font-weight: bold\">10</span> | mata-utu\n",
       "</pre>\n"
      ],
      "text/plain": [
       "Processing Record \u001b[1;36m34\u001b[0m of Set \u001b[1;36m10\u001b[0m | mata-utu\n"
      ]
     },
     "metadata": {},
     "output_type": "display_data"
    },
    {
     "data": {
      "text/html": [
       "<pre style=\"white-space:pre;overflow-x:auto;line-height:normal;font-family:Menlo,'DejaVu Sans Mono',consolas,'Courier New',monospace\">Processing Record <span style=\"color: #008080; text-decoration-color: #008080; font-weight: bold\">35</span> of Set <span style=\"color: #008080; text-decoration-color: #008080; font-weight: bold\">10</span> | salinas\n",
       "</pre>\n"
      ],
      "text/plain": [
       "Processing Record \u001b[1;36m35\u001b[0m of Set \u001b[1;36m10\u001b[0m | salinas\n"
      ]
     },
     "metadata": {},
     "output_type": "display_data"
    },
    {
     "data": {
      "text/html": [
       "<pre style=\"white-space:pre;overflow-x:auto;line-height:normal;font-family:Menlo,'DejaVu Sans Mono',consolas,'Courier New',monospace\">Processing Record <span style=\"color: #008080; text-decoration-color: #008080; font-weight: bold\">36</span> of Set <span style=\"color: #008080; text-decoration-color: #008080; font-weight: bold\">10</span> | sesvete\n",
       "</pre>\n"
      ],
      "text/plain": [
       "Processing Record \u001b[1;36m36\u001b[0m of Set \u001b[1;36m10\u001b[0m | sesvete\n"
      ]
     },
     "metadata": {},
     "output_type": "display_data"
    },
    {
     "data": {
      "text/html": [
       "<pre style=\"white-space:pre;overflow-x:auto;line-height:normal;font-family:Menlo,'DejaVu Sans Mono',consolas,'Courier New',monospace\">Processing Record <span style=\"color: #008080; text-decoration-color: #008080; font-weight: bold\">37</span> of Set <span style=\"color: #008080; text-decoration-color: #008080; font-weight: bold\">10</span> | llanes\n",
       "</pre>\n"
      ],
      "text/plain": [
       "Processing Record \u001b[1;36m37\u001b[0m of Set \u001b[1;36m10\u001b[0m | llanes\n"
      ]
     },
     "metadata": {},
     "output_type": "display_data"
    },
    {
     "data": {
      "text/html": [
       "<pre style=\"white-space:pre;overflow-x:auto;line-height:normal;font-family:Menlo,'DejaVu Sans Mono',consolas,'Courier New',monospace\">Processing Record <span style=\"color: #008080; text-decoration-color: #008080; font-weight: bold\">38</span> of Set <span style=\"color: #008080; text-decoration-color: #008080; font-weight: bold\">10</span> | waingapu\n",
       "</pre>\n"
      ],
      "text/plain": [
       "Processing Record \u001b[1;36m38\u001b[0m of Set \u001b[1;36m10\u001b[0m | waingapu\n"
      ]
     },
     "metadata": {},
     "output_type": "display_data"
    },
    {
     "data": {
      "text/html": [
       "<pre style=\"white-space:pre;overflow-x:auto;line-height:normal;font-family:Menlo,'DejaVu Sans Mono',consolas,'Courier New',monospace\">Processing Record <span style=\"color: #008080; text-decoration-color: #008080; font-weight: bold\">39</span> of Set <span style=\"color: #008080; text-decoration-color: #008080; font-weight: bold\">10</span> | langcangan\n",
       "</pre>\n"
      ],
      "text/plain": [
       "Processing Record \u001b[1;36m39\u001b[0m of Set \u001b[1;36m10\u001b[0m | langcangan\n"
      ]
     },
     "metadata": {},
     "output_type": "display_data"
    },
    {
     "data": {
      "text/html": [
       "<pre style=\"white-space:pre;overflow-x:auto;line-height:normal;font-family:Menlo,'DejaVu Sans Mono',consolas,'Courier New',monospace\">Processing Record <span style=\"color: #008080; text-decoration-color: #008080; font-weight: bold\">40</span> of Set <span style=\"color: #008080; text-decoration-color: #008080; font-weight: bold\">10</span> | i-n-salah\n",
       "</pre>\n"
      ],
      "text/plain": [
       "Processing Record \u001b[1;36m40\u001b[0m of Set \u001b[1;36m10\u001b[0m | i-n-salah\n"
      ]
     },
     "metadata": {},
     "output_type": "display_data"
    },
    {
     "data": {
      "text/html": [
       "<pre style=\"white-space:pre;overflow-x:auto;line-height:normal;font-family:Menlo,'DejaVu Sans Mono',consolas,'Courier New',monospace\">Processing Record <span style=\"color: #008080; text-decoration-color: #008080; font-weight: bold\">41</span> of Set <span style=\"color: #008080; text-decoration-color: #008080; font-weight: bold\">10</span> | illizi\n",
       "</pre>\n"
      ],
      "text/plain": [
       "Processing Record \u001b[1;36m41\u001b[0m of Set \u001b[1;36m10\u001b[0m | illizi\n"
      ]
     },
     "metadata": {},
     "output_type": "display_data"
    },
    {
     "data": {
      "text/html": [
       "<pre style=\"white-space:pre;overflow-x:auto;line-height:normal;font-family:Menlo,'DejaVu Sans Mono',consolas,'Courier New',monospace\">Processing Record <span style=\"color: #008080; text-decoration-color: #008080; font-weight: bold\">42</span> of Set <span style=\"color: #008080; text-decoration-color: #008080; font-weight: bold\">10</span> | baymak\n",
       "</pre>\n"
      ],
      "text/plain": [
       "Processing Record \u001b[1;36m42\u001b[0m of Set \u001b[1;36m10\u001b[0m | baymak\n"
      ]
     },
     "metadata": {},
     "output_type": "display_data"
    },
    {
     "data": {
      "text/html": [
       "<pre style=\"white-space:pre;overflow-x:auto;line-height:normal;font-family:Menlo,'DejaVu Sans Mono',consolas,'Courier New',monospace\">Processing Record <span style=\"color: #008080; text-decoration-color: #008080; font-weight: bold\">43</span> of Set <span style=\"color: #008080; text-decoration-color: #008080; font-weight: bold\">10</span> | portland\n",
       "</pre>\n"
      ],
      "text/plain": [
       "Processing Record \u001b[1;36m43\u001b[0m of Set \u001b[1;36m10\u001b[0m | portland\n"
      ]
     },
     "metadata": {},
     "output_type": "display_data"
    },
    {
     "data": {
      "text/html": [
       "<pre style=\"white-space:pre;overflow-x:auto;line-height:normal;font-family:Menlo,'DejaVu Sans Mono',consolas,'Courier New',monospace\">Processing Record <span style=\"color: #008080; text-decoration-color: #008080; font-weight: bold\">44</span> of Set <span style=\"color: #008080; text-decoration-color: #008080; font-weight: bold\">10</span> | kirakira\n",
       "</pre>\n"
      ],
      "text/plain": [
       "Processing Record \u001b[1;36m44\u001b[0m of Set \u001b[1;36m10\u001b[0m | kirakira\n"
      ]
     },
     "metadata": {},
     "output_type": "display_data"
    },
    {
     "data": {
      "text/html": [
       "<pre style=\"white-space:pre;overflow-x:auto;line-height:normal;font-family:Menlo,'DejaVu Sans Mono',consolas,'Courier New',monospace\">Processing Record <span style=\"color: #008080; text-decoration-color: #008080; font-weight: bold\">45</span> of Set <span style=\"color: #008080; text-decoration-color: #008080; font-weight: bold\">10</span> | freetown\n",
       "</pre>\n"
      ],
      "text/plain": [
       "Processing Record \u001b[1;36m45\u001b[0m of Set \u001b[1;36m10\u001b[0m | freetown\n"
      ]
     },
     "metadata": {},
     "output_type": "display_data"
    },
    {
     "data": {
      "text/html": [
       "<pre style=\"white-space:pre;overflow-x:auto;line-height:normal;font-family:Menlo,'DejaVu Sans Mono',consolas,'Courier New',monospace\">Processing Record <span style=\"color: #008080; text-decoration-color: #008080; font-weight: bold\">46</span> of Set <span style=\"color: #008080; text-decoration-color: #008080; font-weight: bold\">10</span> | new plymouth\n",
       "</pre>\n"
      ],
      "text/plain": [
       "Processing Record \u001b[1;36m46\u001b[0m of Set \u001b[1;36m10\u001b[0m | new plymouth\n"
      ]
     },
     "metadata": {},
     "output_type": "display_data"
    },
    {
     "data": {
      "text/html": [
       "<pre style=\"white-space:pre;overflow-x:auto;line-height:normal;font-family:Menlo,'DejaVu Sans Mono',consolas,'Courier New',monospace\">Processing Record <span style=\"color: #008080; text-decoration-color: #008080; font-weight: bold\">47</span> of Set <span style=\"color: #008080; text-decoration-color: #008080; font-weight: bold\">10</span> | gobernador galvez\n",
       "</pre>\n"
      ],
      "text/plain": [
       "Processing Record \u001b[1;36m47\u001b[0m of Set \u001b[1;36m10\u001b[0m | gobernador galvez\n"
      ]
     },
     "metadata": {},
     "output_type": "display_data"
    },
    {
     "data": {
      "text/html": [
       "<pre style=\"white-space:pre;overflow-x:auto;line-height:normal;font-family:Menlo,'DejaVu Sans Mono',consolas,'Courier New',monospace\">Processing Record <span style=\"color: #008080; text-decoration-color: #008080; font-weight: bold\">48</span> of Set <span style=\"color: #008080; text-decoration-color: #008080; font-weight: bold\">10</span> | chongwe\n",
       "</pre>\n"
      ],
      "text/plain": [
       "Processing Record \u001b[1;36m48\u001b[0m of Set \u001b[1;36m10\u001b[0m | chongwe\n"
      ]
     },
     "metadata": {},
     "output_type": "display_data"
    },
    {
     "data": {
      "text/html": [
       "<pre style=\"white-space:pre;overflow-x:auto;line-height:normal;font-family:Menlo,'DejaVu Sans Mono',consolas,'Courier New',monospace\">Processing Record <span style=\"color: #008080; text-decoration-color: #008080; font-weight: bold\">49</span> of Set <span style=\"color: #008080; text-decoration-color: #008080; font-weight: bold\">10</span> | labrador city\n",
       "</pre>\n"
      ],
      "text/plain": [
       "Processing Record \u001b[1;36m49\u001b[0m of Set \u001b[1;36m10\u001b[0m | labrador city\n"
      ]
     },
     "metadata": {},
     "output_type": "display_data"
    },
    {
     "data": {
      "text/html": [
       "<pre style=\"white-space:pre;overflow-x:auto;line-height:normal;font-family:Menlo,'DejaVu Sans Mono',consolas,'Courier New',monospace\">Processing Record <span style=\"color: #008080; text-decoration-color: #008080; font-weight: bold\">0</span> of Set <span style=\"color: #008080; text-decoration-color: #008080; font-weight: bold\">11</span> | eyl\n",
       "</pre>\n"
      ],
      "text/plain": [
       "Processing Record \u001b[1;36m0\u001b[0m of Set \u001b[1;36m11\u001b[0m | eyl\n"
      ]
     },
     "metadata": {},
     "output_type": "display_data"
    },
    {
     "data": {
      "text/html": [
       "<pre style=\"white-space:pre;overflow-x:auto;line-height:normal;font-family:Menlo,'DejaVu Sans Mono',consolas,'Courier New',monospace\">Processing Record <span style=\"color: #008080; text-decoration-color: #008080; font-weight: bold\">1</span> of Set <span style=\"color: #008080; text-decoration-color: #008080; font-weight: bold\">11</span> | savave village\n",
       "</pre>\n"
      ],
      "text/plain": [
       "Processing Record \u001b[1;36m1\u001b[0m of Set \u001b[1;36m11\u001b[0m | savave village\n"
      ]
     },
     "metadata": {},
     "output_type": "display_data"
    },
    {
     "data": {
      "text/html": [
       "<pre style=\"white-space:pre;overflow-x:auto;line-height:normal;font-family:Menlo,'DejaVu Sans Mono',consolas,'Courier New',monospace\">City not found. Skipping<span style=\"color: #808000; text-decoration-color: #808000\">...</span>\n",
       "</pre>\n"
      ],
      "text/plain": [
       "City not found. Skipping\u001b[33m...\u001b[0m\n"
      ]
     },
     "metadata": {},
     "output_type": "display_data"
    },
    {
     "data": {
      "text/html": [
       "<pre style=\"white-space:pre;overflow-x:auto;line-height:normal;font-family:Menlo,'DejaVu Sans Mono',consolas,'Courier New',monospace\">Processing Record <span style=\"color: #008080; text-decoration-color: #008080; font-weight: bold\">2</span> of Set <span style=\"color: #008080; text-decoration-color: #008080; font-weight: bold\">11</span> | al-`ula\n",
       "</pre>\n"
      ],
      "text/plain": [
       "Processing Record \u001b[1;36m2\u001b[0m of Set \u001b[1;36m11\u001b[0m | al-`ula\n"
      ]
     },
     "metadata": {},
     "output_type": "display_data"
    },
    {
     "data": {
      "text/html": [
       "<pre style=\"white-space:pre;overflow-x:auto;line-height:normal;font-family:Menlo,'DejaVu Sans Mono',consolas,'Courier New',monospace\">City not found. Skipping<span style=\"color: #808000; text-decoration-color: #808000\">...</span>\n",
       "</pre>\n"
      ],
      "text/plain": [
       "City not found. Skipping\u001b[33m...\u001b[0m\n"
      ]
     },
     "metadata": {},
     "output_type": "display_data"
    },
    {
     "data": {
      "text/html": [
       "<pre style=\"white-space:pre;overflow-x:auto;line-height:normal;font-family:Menlo,'DejaVu Sans Mono',consolas,'Courier New',monospace\">Processing Record <span style=\"color: #008080; text-decoration-color: #008080; font-weight: bold\">3</span> of Set <span style=\"color: #008080; text-decoration-color: #008080; font-weight: bold\">11</span> | mar del plata\n",
       "</pre>\n"
      ],
      "text/plain": [
       "Processing Record \u001b[1;36m3\u001b[0m of Set \u001b[1;36m11\u001b[0m | mar del plata\n"
      ]
     },
     "metadata": {},
     "output_type": "display_data"
    },
    {
     "data": {
      "text/html": [
       "<pre style=\"white-space:pre;overflow-x:auto;line-height:normal;font-family:Menlo,'DejaVu Sans Mono',consolas,'Courier New',monospace\">Processing Record <span style=\"color: #008080; text-decoration-color: #008080; font-weight: bold\">4</span> of Set <span style=\"color: #008080; text-decoration-color: #008080; font-weight: bold\">11</span> | great falls\n",
       "</pre>\n"
      ],
      "text/plain": [
       "Processing Record \u001b[1;36m4\u001b[0m of Set \u001b[1;36m11\u001b[0m | great falls\n"
      ]
     },
     "metadata": {},
     "output_type": "display_data"
    },
    {
     "data": {
      "text/html": [
       "<pre style=\"white-space:pre;overflow-x:auto;line-height:normal;font-family:Menlo,'DejaVu Sans Mono',consolas,'Courier New',monospace\">Processing Record <span style=\"color: #008080; text-decoration-color: #008080; font-weight: bold\">5</span> of Set <span style=\"color: #008080; text-decoration-color: #008080; font-weight: bold\">11</span> | beira\n",
       "</pre>\n"
      ],
      "text/plain": [
       "Processing Record \u001b[1;36m5\u001b[0m of Set \u001b[1;36m11\u001b[0m | beira\n"
      ]
     },
     "metadata": {},
     "output_type": "display_data"
    },
    {
     "data": {
      "text/html": [
       "<pre style=\"white-space:pre;overflow-x:auto;line-height:normal;font-family:Menlo,'DejaVu Sans Mono',consolas,'Courier New',monospace\">Processing Record <span style=\"color: #008080; text-decoration-color: #008080; font-weight: bold\">6</span> of Set <span style=\"color: #008080; text-decoration-color: #008080; font-weight: bold\">11</span> | nsanje\n",
       "</pre>\n"
      ],
      "text/plain": [
       "Processing Record \u001b[1;36m6\u001b[0m of Set \u001b[1;36m11\u001b[0m | nsanje\n"
      ]
     },
     "metadata": {},
     "output_type": "display_data"
    },
    {
     "data": {
      "text/html": [
       "<pre style=\"white-space:pre;overflow-x:auto;line-height:normal;font-family:Menlo,'DejaVu Sans Mono',consolas,'Courier New',monospace\">Processing Record <span style=\"color: #008080; text-decoration-color: #008080; font-weight: bold\">7</span> of Set <span style=\"color: #008080; text-decoration-color: #008080; font-weight: bold\">11</span> | amalapuram\n",
       "</pre>\n"
      ],
      "text/plain": [
       "Processing Record \u001b[1;36m7\u001b[0m of Set \u001b[1;36m11\u001b[0m | amalapuram\n"
      ]
     },
     "metadata": {},
     "output_type": "display_data"
    },
    {
     "data": {
      "text/html": [
       "<pre style=\"white-space:pre;overflow-x:auto;line-height:normal;font-family:Menlo,'DejaVu Sans Mono',consolas,'Courier New',monospace\">Processing Record <span style=\"color: #008080; text-decoration-color: #008080; font-weight: bold\">8</span> of Set <span style=\"color: #008080; text-decoration-color: #008080; font-weight: bold\">11</span> | kenora\n",
       "</pre>\n"
      ],
      "text/plain": [
       "Processing Record \u001b[1;36m8\u001b[0m of Set \u001b[1;36m11\u001b[0m | kenora\n"
      ]
     },
     "metadata": {},
     "output_type": "display_data"
    }
   ],
   "source": [
    "#retrive weather data\n",
    "# Set the API base URL\n",
    "url = f'https://api.openweathermap.org/data/2.5/weather?q={city}&appid={weather_api_key}'\n",
    "\n",
    "# Define an empty list to fetch the weather data for each city\n",
    "city_data = []\n",
    "\n",
    "# Print to logger\n",
    "print(\"Beginning Data Retrieval     \")\n",
    "print(\"-----------------------------\")\n",
    "\n",
    "# Create counters\n",
    "record_count = 1\n",
    "set_count = 1\n",
    "\n",
    "# Loop through all the cities in our list to fetch weather data\n",
    "for i, city in enumerate(cities):\n",
    "\n",
    "    # Group cities in sets of 50 for logging purposes\n",
    "    if (i % 50 == 0 and i >= 50):\n",
    "        set_count += 1\n",
    "        record_count = 0\n",
    "\n",
    "    # Create endpoint URL with each city\n",
    "    city_url = f'https://api.openweathermap.org/data/2.5/weather?q={city}&appid={weather_api_key}&units=metric'# YOUR CODE HERE\n",
    "\n",
    "    # Log the url, record, and set numbers\n",
    "    print(\"Processing Record %s of Set %s | %s\" % (record_count, set_count, city))\n",
    "\n",
    "    # Add 1 to the record count\n",
    "    record_count += 1\n",
    "\n",
    "    # Run an API request for each of the cities\n",
    "    try:\n",
    "        # Parse the JSON and retrieve data\n",
    "        city_weather = requests.get(city_url).json() # YOUR CODE HERE\n",
    "\n",
    "        # Parse out latitude, longitude, max temp, humidity, cloudiness, wind speed, country, and date\n",
    "        city_lat = city_weather['coord']['lat']# YOUR CODE HERE\n",
    "        city_lng = city_weather['coord']['lon']# YOUR CODE HERE\n",
    "        city_max_temp = city_weather['main']['temp_max']# YOUR CODE HERE\n",
    "        city_humidity = city_weather['main']['humidity']# YOUR CODE HERE\n",
    "        city_clouds = city_weather['clouds']['all']# YOUR CODE HERE\n",
    "        city_wind = city_weather['wind']['speed']# YOUR CODE HERE\n",
    "        city_country = city_weather['sys']['country']# YOUR CODE HERE\n",
    "        city_date = city_weather['dt']# YOUR CODE HER\n",
    "\n",
    "        # Append the City information into city_data list\n",
    "        city_data.append({\"City\": city,\n",
    "                          \"Lat\": city_lat,\n",
    "                          \"Lng\": city_lng,\n",
    "                          \"Max Temp\": city_max_temp,\n",
    "                          \"Humidity\": city_humidity,\n",
    "                          \"Cloudiness\": city_clouds,\n",
    "                          \"Wind Speed\": city_wind,\n",
    "                          \"Country\": city_country,\n",
    "                          \"Date\": city_date})\n",
    "\n",
    "    # If an error is experienced, skip the city\n",
    "    except:\n",
    "        print(\"City not found. Skipping...\")\n",
    "        pass\n",
    "\n",
    "    # pause to avoid rate limiting\n",
    "    time.sleep(1)\n",
    "\n",
    "#Indicate that Data Loading is complete\n",
    "print(\"-----------------------------\")\n",
    "print(\"Data Retrieval Complete      \")\n",
    "print(\"-----------------------------\")"
   ]
  },
  {
   "cell_type": "code",
   "execution_count": null,
   "id": "62b01d56-c76d-4f33-86e1-79fb5e024c08",
   "metadata": {},
   "outputs": [],
   "source": [
    "# Transform the cities weather data into a Pandas DataFrame\n",
    "city_data_df = pd.DataFrame(city_data)\n",
    "\n",
    "# Show Record Count\n",
    "city_data_df.count()"
   ]
  },
  {
   "cell_type": "code",
   "execution_count": null,
   "id": "898695fc-d276-4805-8bfe-19aa6a0ae7e3",
   "metadata": {},
   "outputs": [],
   "source": [
    "city_data_df = pd.DataFrame(city_data)\n",
    "\n",
    "# Create a Rich Console object\n",
    "console = Console()\n",
    "\n",
    "# Function to print the record count with Rich\n",
    "def print_record_count_with_rich(city_data_df):\n",
    "    # Get the count of non-null values for each column\n",
    "    count_data = city_data_df.count()\n",
    "\n",
    "    # Create a rich table to display the counts in a neat format\n",
    "    table = Table(title=\"[bold cyan]Record Count per Column[/bold cyan]\", show_lines=True)\n",
    "    table.add_column(\"Column\", style=\"bold green\")\n",
    "    table.add_column(\"Count\", style=\"bold yellow\")\n",
    "\n",
    "    # Add rows to the table\n",
    "    for column, count in count_data.items():\n",
    "        table.add_row(column, str(count))\n",
    "\n",
    "    # Print the table\n",
    "    console.print(table)\n",
    "\n",
    "# Call the function to print the record count with Rich\n",
    "print_record_count_with_rich(city_data_df)"
   ]
  },
  {
   "cell_type": "code",
   "execution_count": null,
   "id": "b6689387-3311-4421-a465-5aadf4dba3e3",
   "metadata": {},
   "outputs": [],
   "source": [
    "city_data_df = city_data_df.rename(columns={\n",
    "    'Max Temp': 'Maximum_Temperature',\n",
    "    'Wind Speed': 'Wind_Speed_kmh'\n",
    "})\n"
   ]
  },
  {
   "cell_type": "code",
   "execution_count": null,
   "id": "30f3e44e-d5b2-41b6-8075-c3f65599c35f",
   "metadata": {},
   "outputs": [],
   "source": [
    "# Create a Rich Console object\n",
    "console = Console()\n",
    "\n",
    "# Function to print DataFrame info using Rich\n",
    "def print_info_with_rich(city_data_df):\n",
    "    # Get the non-null count, data types, and memory usage\n",
    "    count_data = city_data_df.count()\n",
    "    dtype_data = city_data_df.dtypes\n",
    "    memory_data = city_data_df.memory_usage(deep=True)\n",
    "\n",
    "    # Create a rich table to display the DataFrame info\n",
    "    table = Table(title=\"[bold cyan]DataFrame Info[/bold cyan]\", show_lines=True)\n",
    "    table.add_column(\"Column\", style=\"bold green\")\n",
    "    table.add_column(\"Non-Null Count\", style=\"bold yellow\")\n",
    "    table.add_column(\"Dtype\", style=\"bold magenta\")\n",
    "    table.add_column(\"Memory Usage\", style=\"bold blue\")\n",
    "\n",
    "    # Add rows to the table\n",
    "    for column in city_data_df.columns:\n",
    "        non_null_count = count_data[column]\n",
    "        dtype = dtype_data[column]\n",
    "        memory_usage = memory_data[column]\n",
    "        \n",
    "        # Add row to the table\n",
    "        table.add_row(column, str(non_null_count), str(dtype), str(memory_usage))\n",
    "\n",
    "    # Print the table\n",
    "    console.print(table)\n",
    "\n",
    "# Sample DataFrame (replace this with your actual city_data_df)\n",
    "city_data_df2 = pd.DataFrame(city_data)\n",
    "\n",
    "# Call the function to print the DataFrame info with Rich\n",
    "print_info_with_rich(city_data_df)"
   ]
  },
  {
   "cell_type": "code",
   "execution_count": null,
   "id": "bdfde582-9915-48fc-8be7-85be3bf88742",
   "metadata": {},
   "outputs": [],
   "source": [
    "city_data_df.info()\n"
   ]
  },
  {
   "cell_type": "code",
   "execution_count": null,
   "id": "8737d7d8-88d9-4e57-a3e2-6334a27d830d",
   "metadata": {},
   "outputs": [],
   "source": [
    "# Convert datetime to readable date format\n",
    "city_data_df['Date']=(pd.to_datetime(city_data_df['Date'],unit='s')).dt.date\n",
    "city_data_df"
   ]
  },
  {
   "cell_type": "code",
   "execution_count": null,
   "id": "6e39eec6-dc68-4832-9723-ff1409a5803d",
   "metadata": {},
   "outputs": [],
   "source": [
    "# Create a Rich Console object for city weather data\n",
    "console = Console()\n",
    "\n",
    "# Function to print the first few rows of the DataFrame with Rich\n",
    "def print_df_with_rich(df):\n",
    "    # Create a Rich Table object\n",
    "    table = Table(title=\"City Weather Data\")\n",
    "\n",
    "    # Add columns dynamically based on the DataFrame\n",
    "    for column in df.columns:\n",
    "        table.add_column(column, justify=\"center\", style=\"bold\")\n",
    "\n",
    "    # Add rows dynamically based on the DataFrame data\n",
    "    for _, row in df.head().iterrows():\n",
    "        table.add_row(*[str(value) for value in row])\n",
    "\n",
    "    # Print the table\n",
    "    console.print(table)\n",
    "\n",
    "# Call the function to print the first few rows of the DataFrame with Rich\n",
    "print_df_with_rich(city_data_df)"
   ]
  },
  {
   "cell_type": "code",
   "execution_count": null,
   "id": "559c2621-415f-4a2c-bd26-6b74e651c7b9",
   "metadata": {},
   "outputs": [],
   "source": [
    "# Create a Rich Console object\n",
    "console = Console()\n",
    "\n",
    "# Function to print the DataFrame with Rich\n",
    "def print_df_with_rich(df):\n",
    "    # Create a Rich Table object\n",
    "    table = Table(title=\"City Weather Data\")\n",
    "\n",
    "    # Add columns dynamically based on the DataFrame\n",
    "    for column in df.columns:\n",
    "        table.add_column(column, justify=\"center\", style=\"bold\")\n",
    "\n",
    "    # Add rows dynamically based on the DataFrame data\n",
    "    for _, row in df.iterrows():\n",
    "        table.add_row(*[str(value) for value in row])\n",
    "\n",
    "    # Print the table using Rich\n",
    "    console.print(table)\n",
    "\n",
    "# Call the function to print the DataFrame with Rich\n",
    "print_df_with_rich(city_data_df.head(10))"
   ]
  },
  {
   "cell_type": "code",
   "execution_count": null,
   "id": "812d269f-c2d1-4c5f-95b4-9bd76f0b2cef",
   "metadata": {},
   "outputs": [],
   "source": [
    "city_data_df.info()\n"
   ]
  },
  {
   "cell_type": "code",
   "execution_count": null,
   "id": "6f6a4875-adfc-4b15-8940-67b433fde593",
   "metadata": {},
   "outputs": [],
   "source": []
  },
  {
   "cell_type": "code",
   "execution_count": null,
   "id": "b37a3b0d-2052-4937-b6fe-2d32a2ccfe46",
   "metadata": {},
   "outputs": [],
   "source": [
    "city_data_df = city_data_df.rename(columns={\n",
    "    'Max Temp': 'Maximum_Temperature',\n",
    "    'Wind_Speed': 'Wind_Speed_kmh'\n",
    "})\n"
   ]
  },
  {
   "cell_type": "code",
   "execution_count": null,
   "id": "14532089-21fd-40f6-adc6-594b192a3e93",
   "metadata": {},
   "outputs": [],
   "source": [
    "# Define the desired column order\n",
    "desired_order = ['Date', 'Country', 'City', 'Cloudiness', 'Humidity', \n",
    "                 'Maximum_Temperature', 'Wind_Speed_kmh', 'Lat', 'Lng']\n",
    "\n",
    "# Reorder the DataFrame to match the desired column order\n",
    "city_data_df = city_data_df[desired_order]\n",
    "\n",
    "# Create a rich Console object\n",
    "console = Console()\n",
    "\n",
    "# Create a rich Table object with a title and enhanced styles\n",
    "table = Table(title=\"City Weather Data (Ordered)\", show_header=True, header_style=\"bold cyan\", show_lines=True)\n",
    "\n",
    "# Add columns dynamically based on the reordered DataFrame\n",
    "for column in city_data_df.columns:\n",
    "    table.add_column(column, style=\"bold magenta\", justify=\"center\")\n",
    "\n",
    "# Add rows from the reordered DataFrame (only the first 10 rows)\n",
    "for idx, row in city_data_df.head(10).iterrows():\n",
    "    # Apply alternating row styles\n",
    "    if idx % 2 == 0:\n",
    "        table.add_row(*[str(value) for value in row], style=\"dim\")\n",
    "    else:\n",
    "        table.add_row(*[str(value) for value in row])\n",
    "\n",
    "# Print the table with rich formatting\n",
    "console.print(table)\n"
   ]
  },
  {
   "cell_type": "code",
   "execution_count": null,
   "id": "3ae43a24-6118-466e-8eae-7aabb2d1661b",
   "metadata": {},
   "outputs": [],
   "source": [
    "# Create a Rich Console object\n",
    "console = Console()\n",
    "\n",
    "# Function to print the DataFrame with Rich\n",
    "def print_df_with_rich(df):\n",
    "    # Create a Rich Table object\n",
    "    table = Table(title=\"City Weather Data\")\n",
    "\n",
    "    # Add columns dynamically based on the DataFrame\n",
    "    for column in df.columns:\n",
    "        table.add_column(column, justify=\"center\", style=\"bold\")\n",
    "\n",
    "    # Add rows dynamically based on the DataFrame data\n",
    "    for _, row in df.iterrows():\n",
    "        table.add_row(*[str(value) for value in row])\n",
    "\n",
    "    # Print the table using Rich\n",
    "    console.print(table)\n",
    "\n",
    "# Call the function to print the DataFrame with Rich\n",
    "print_df_with_rich(city_data_df.head(10))"
   ]
  },
  {
   "cell_type": "code",
   "execution_count": null,
   "id": "cad425a8-e565-41c3-a5d4-3afb6a773509",
   "metadata": {},
   "outputs": [],
   "source": [
    "#city  and country data transform in capital letter \n",
    "city_data_df['City'] = city_data_df['City'].str.title()\n",
    "city_data_df['Country'] = city_data_df['Country'].str.upper()\n",
    "# Initialize the rich console\n",
    "console = Console()\n",
    "\n",
    "# Function to print the DataFrame with Rich\n",
    "def print_df_with_rich(df):\n",
    "    # Create a Rich Table object\n",
    "    table = Table(title=\"City Weather Data\")\n",
    "\n",
    "    # Add columns dynamically based on the DataFrame\n",
    "    for column in df.columns:\n",
    "        table.add_column(column, justify=\"center\", style=\"bold\")\n",
    "\n",
    "    # Add rows dynamically based on the DataFrame data\n",
    "    for _, row in df.iterrows():\n",
    "        table.add_row(*[str(value) for value in row])\n",
    "\n",
    "    # Print the table using Rich\n",
    "    console.print(table)\n",
    "\n",
    "# Call the function to print the modified DataFrame with Rich\n",
    "print_df_with_rich(city_data_df.head(10))"
   ]
  },
  {
   "cell_type": "code",
   "execution_count": null,
   "id": "ebd85ca9-91f8-44cd-aacb-90854a9cb8f1",
   "metadata": {},
   "outputs": [],
   "source": [
    "#Transfor the city and country starting with capital letter\n",
    "# Create a rich Console object\n",
    "console = Console()\n",
    "\n",
    "# Create a rich Table object with a title and enhanced styles\n",
    "table = Table(title=\"City and Country Data with Capital Letters\", show_header=True, header_style=\"bold cyan\", show_lines=True)\n",
    "\n",
    "# Add columns dynamically from the DataFrame\n",
    "for column in city_data_df.columns:\n",
    "    table.add_column(column, style=\"bold magenta\", justify=\"center\")\n",
    "\n",
    "# Add rows from the DataFrame (only the first 10 rows)\n",
    "for idx, row in city_data_df.head(10).iterrows():\n",
    "    # Apply alternating row styles\n",
    "    if idx % 2 == 0:\n",
    "        table.add_row(*[str(value) for value in row], style=\"dim\")\n",
    "    else:\n",
    "        table.add_row(*[str(value) for value in row])\n",
    "\n",
    "# Print the table with rich formatting\n",
    "console.print(table)"
   ]
  },
  {
   "cell_type": "code",
   "execution_count": null,
   "id": "b6a8614e-11a0-49aa-9367-af523170e778",
   "metadata": {},
   "outputs": [],
   "source": [
    "# Transform Maximum_Temperature to Fahrenheit\n",
    "city_data_df['Maximum_Temperature_F'] = city_data_df['Maximum_Temperature'] * 9/5 + 32\n",
    "\n",
    "# Define the desired column order, including the new Fahrenheit column\n",
    "desired_order = ['Date', 'Country', 'City', 'Cloudiness', 'Humidity', \n",
    "                 'Maximum_Temperature', 'Maximum_Temperature_F', 'Wind_Speed_kmh', 'Lat', 'Lng']\n",
    "\n",
    "# Reorder the DataFrame\n",
    "city_data_df = city_data_df[desired_order]\n",
    "\n",
    "# Create a rich Console object\n",
    "console = Console()\n",
    "\n",
    "# Create a rich Table object with a title and enhanced styles\n",
    "table = Table(title=\"City Weather Data (With Fahrenheit)\", show_header=True, header_style=\"bold cyan\", show_lines=True)\n",
    "\n",
    "# Add columns dynamically based on the reordered DataFrame\n",
    "for column in city_data_df.columns:\n",
    "    table.add_column(column, style=\"bold magenta\", justify=\"center\")\n",
    "\n",
    "# Add rows from the reordered DataFrame (only the first 10 rows)\n",
    "for idx, row in city_data_df.head(10).iterrows():\n",
    "    # Apply alternating row styles\n",
    "    if idx % 2 == 0:\n",
    "        table.add_row(*[str(value) for value in row], style=\"dim\")\n",
    "    else:\n",
    "        table.add_row(*[str(value) for value in row])\n",
    "\n",
    "# Print the table with rich formatting\n",
    "console.print(table)"
   ]
  },
  {
   "cell_type": "code",
   "execution_count": null,
   "id": "a3ded9fd-0d86-480c-9f4a-b2ab56679177",
   "metadata": {},
   "outputs": [],
   "source": [
    "# Sort the DataFrame by the City column alphabetically\n",
    "city_data_df = city_data_df.sort_values(by='City')\n",
    "\n",
    "# Create a rich Console object\n",
    "console = Console()\n",
    "\n",
    "# Create a rich Table object with a title and enhanced styles\n",
    "table = Table(title=\"City Weather Data (Alphabetically Sorted)\", show_header=True, header_style=\"bold cyan\", show_lines=True)\n",
    "\n",
    "# Add columns dynamically based on the sorted DataFrame\n",
    "for column in city_data_df.columns:\n",
    "    table.add_column(column, style=\"bold magenta\", justify=\"center\")\n",
    "\n",
    "# Add rows from the sorted DataFrame (only the first 10 rows for brevity)\n",
    "for idx, row in city_data_df.head(10).iterrows():\n",
    "    # Apply alternating row styles\n",
    "    if idx % 2 == 0:\n",
    "        table.add_row(*[str(value) for value in row], style=\"dim\")\n",
    "    else:\n",
    "        table.add_row(*[str(value) for value in row])\n",
    "\n",
    "# Print the table with rich formatting\n",
    "console.print(table)"
   ]
  },
  {
   "cell_type": "code",
   "execution_count": null,
   "id": "df996995-08b7-4b20-acd7-7417177c3504",
   "metadata": {
    "scrolled": true
   },
   "outputs": [],
   "source": [
    "# Sort the DataFrame by the Country column alphabetically\n",
    "city_data_df = city_data_df.sort_values(by='Country')\n",
    "\n",
    "# Create a rich Console object\n",
    "console = Console()\n",
    "\n",
    "# Create a rich Table object with a title and enhanced styles\n",
    "table = Table(title=\"City Weather Data (Sorted by Country)\", show_header=True, header_style=\"bold cyan\", show_lines=True)\n",
    "\n",
    "# Add columns dynamically based on the sorted DataFrame\n",
    "for column in city_data_df.columns:\n",
    "    table.add_column(column, style=\"bold magenta\", justify=\"center\")\n",
    "\n",
    "# Add rows from the sorted DataFrame (only the first 10 rows for brevity)\n",
    "for idx, row in city_data_df.head(10).iterrows():\n",
    "    # Apply alternating row styles\n",
    "    if idx % 2 == 0:\n",
    "        table.add_row(*[str(value) for value in row], style=\"dim\")\n",
    "    else:\n",
    "        table.add_row(*[str(value) for value in row])\n",
    "\n",
    "# Print the table with rich formatting\n",
    "console.print(table)"
   ]
  },
  {
   "cell_type": "code",
   "execution_count": null,
   "id": "08a7b11f-f814-45c9-82aa-383a1ffccd0c",
   "metadata": {},
   "outputs": [],
   "source": [
    "# Export the City_Data into a csv\n",
    "city_data_df.to_csv(\"Data_output/cities.csv\", index_label=\"City_ID\")\n"
   ]
  },
  {
   "cell_type": "code",
   "execution_count": null,
   "id": "2cc22fc6-5600-44cb-a378-7763b6260455",
   "metadata": {},
   "outputs": [],
   "source": [
    "# Export the northern_cities into a csv\n",
    "northern_cities_df.to_csv(\"Data_output/northern_cities.csv\", index_label=\"City_ID\")\n"
   ]
  },
  {
   "cell_type": "code",
   "execution_count": null,
   "id": "f26a878b-bc5c-428d-963c-5fc047d4ce00",
   "metadata": {},
   "outputs": [],
   "source": [
    "required_columns = ['City_ID', 'Date', 'Country', 'City', 'Cloudiness', 'Humidity', \n",
    "                    'Maximum_Temperature', 'Maximum_Temperature_F', 'Wind_Speed_kmh', 'Lat', 'Lng']\n",
    "required_columns"
   ]
  },
  {
   "cell_type": "code",
   "execution_count": null,
   "id": "1c8041a5-4cc9-40de-a5ff-2d04508846d5",
   "metadata": {},
   "outputs": [],
   "source": [
    "city_data_df.info()\n"
   ]
  },
  {
   "cell_type": "code",
   "execution_count": null,
   "id": "3787d9c6-ca72-4a5a-bc60-92332a2c00a9",
   "metadata": {},
   "outputs": [],
   "source": [
    "#\n",
    "required_columns = ['Date', 'Country', 'City', 'Cloudiness', 'Humidity', \n",
    "                    'Maximum_Temperature', 'Maximum_Temperature_F', 'Wind_Speed_kmh', 'Lat', 'Lng']\n",
    "\n",
    "# Check the columns present in the DataFrame\n",
    "print(city_data_df.columns)\n",
    "\n",
    "if not all(col in city_data_df.columns for col in required_columns):\n",
    "    print(f\"Missing columns from DataFrame. Available columns: {city_data_df.columns}\")\n",
    "else:\n",
    "    # Proceed with the rest of the code\n",
    "    southern_cities_df = city_data_df[city_data_df['Lat'] < 0]\n",
    "    southern_cities_df.loc[:, 'Date'] = pd.to_datetime(southern_cities_df['Date'], errors='coerce')\n",
    "\n",
    "    for _, city in southern_cities_df.iterrows():\n",
    "        city_data = {\n",
    "            \"date\": city['Date'].strftime('%Y-%m-%d') if pd.notnull(city['Date']) else None,\n",
    "            \"country\": city['Country'],\n",
    "            \"city\": city['City'],\n",
    "            \"cloudiness\": city['Cloudiness'],\n",
    "            \"humidity\": city['Humidity'],\n",
    "            \"max_temperature\": city['Maximum_Temperature'],\n",
    "            \"max_temperature_f\": city['Maximum_Temperature_F'],\n",
    "            \"wind_speed\": city['Wind_Speed_kmh'],\n",
    "            \"lat\": city['Lat'],\n",
    "            \"lon\": city['Lng']\n",
    "        }\n",
    "        try:\n",
    "            southern_cities.insert_one(city_data)\n",
    "        except Exception as e:\n",
    "            print(f\"Error inserting data for {city['City']}: {e}\")\n",
    "    print(\"Southern cities data insertion process completed!\")\n"
   ]
  },
  {
   "cell_type": "code",
   "execution_count": null,
   "id": "bb5f0273-517a-48da-ac7d-b1f65d0b8747",
   "metadata": {},
   "outputs": [],
   "source": [
    "# Export the northern_cities into a csv\n",
    "southern_cities_df.to_csv(\"Data_output/southern_cities.csv\", index_label=\"City_ID\")\n",
    "# Print a message confirming the file has been updated\n",
    "print(\"southern_cities.csv has been successfully updated!\")"
   ]
  },
  {
   "cell_type": "code",
   "execution_count": null,
   "id": "fa900ab9-7fd3-491b-a560-d52f75cff5e3",
   "metadata": {},
   "outputs": [],
   "source": [
    "#Mongodb"
   ]
  },
  {
   "cell_type": "code",
   "execution_count": null,
   "id": "d7f5ca4e-d3e2-424e-88c6-0215580e2071",
   "metadata": {},
   "outputs": [],
   "source": [
    "#verify data in Mongodb\n",
    "from pymongo import MongoClient\n",
    "\n",
    "# Connect to MongoDB\n",
    "client = MongoClient(\"mongodb://localhost:27017\")\n",
    "db = client['weather_data']\n",
    "\n",
    "# Define individual collections\n",
    "cities_collection = db['cities']\n",
    "northern_cities_collection = db['northern_cities']\n",
    "southern_cities_collection = db['southern_cities']\n",
    "\n",
    "# Example: Get a sample document from the 'cities' collection\n",
    "sample_doc = cities_collection.find_one()\n",
    "\n",
    "# Check if a document was found and print its fields\n",
    "if sample_doc:\n",
    "    print(\"Sample document keys:\", sample_doc.keys())\n",
    "else:\n",
    "    print(\"No documents found in the 'cities' collection.\")\n"
   ]
  },
  {
   "cell_type": "code",
   "execution_count": null,
   "id": "3d19963b-cce8-4011-8f5a-158ffd86ed9e",
   "metadata": {},
   "outputs": [],
   "source": [
    "##"
   ]
  },
  {
   "cell_type": "code",
   "execution_count": null,
   "id": "367ba2f8-ff0b-45ef-b9dd-15fc5d9cb4b6",
   "metadata": {},
   "outputs": [],
   "source": []
  },
  {
   "cell_type": "code",
   "execution_count": null,
   "id": "5d6e5805-6ec0-4f24-8e3c-f55a6eb75d85",
   "metadata": {},
   "outputs": [],
   "source": []
  }
 ],
 "metadata": {
  "kernelspec": {
   "display_name": "Python 3 (ipykernel)",
   "language": "python",
   "name": "python3"
  },
  "language_info": {
   "codemirror_mode": {
    "name": "ipython",
    "version": 3
   },
   "file_extension": ".py",
   "mimetype": "text/x-python",
   "name": "python",
   "nbconvert_exporter": "python",
   "pygments_lexer": "ipython3",
   "version": "3.12.4"
  }
 },
 "nbformat": 4,
 "nbformat_minor": 5
}
