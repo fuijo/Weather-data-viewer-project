{
 "cells": [
  {
   "cell_type": "code",
   "execution_count": 1,
   "id": "c2940580-de71-4935-a2c5-859a059276e3",
   "metadata": {},
   "outputs": [],
   "source": [
    "#Weather data Viewer"
   ]
  },
  {
   "cell_type": "code",
   "execution_count": 2,
   "id": "7d1489d5-d3bb-400b-984d-54b9eec12cef",
   "metadata": {},
   "outputs": [],
   "source": [
    "# Dependencies and Setup\n",
    "import matplotlib.pyplot as plt\n",
    "import pandas as pd\n",
    "import numpy as np\n",
    "import requests\n",
    "import time\n",
    "import folium\n",
    "from rich import print\n",
    "from rich.console import Console\n",
    "from rich.table import Table\n",
    "from rich.text import Text\n",
    "from scipy.stats import linregress\n",
    "\n",
    "# Impor the OpenWeatherMap API key\n",
    "from api_keys import weather_api_key\n",
    "\n",
    "# Import citipy to determine the cities based on latitude and longitude\n",
    "from citipy import citipy\n",
    "\n",
    "#Export cities.csv to db\n",
    "from pymongo import MongoClient\n"
   ]
  },
  {
   "cell_type": "code",
   "execution_count": 3,
   "id": "bc32a6fd-9514-47bd-8365-e3360ccc1283",
   "metadata": {},
   "outputs": [],
   "source": [
    "#extract the data"
   ]
  },
  {
   "cell_type": "code",
   "execution_count": 4,
   "id": "0d8ce52b-427c-4b83-b5dc-a91135e45c44",
   "metadata": {},
   "outputs": [
    {
     "data": {
      "text/html": [
       "<pre style=\"white-space:pre;overflow-x:auto;line-height:normal;font-family:Menlo,'DejaVu Sans Mono',consolas,'Courier New',monospace\">Number of cities in the list: <span style=\"color: #008080; text-decoration-color: #008080; font-weight: bold\">577</span>\n",
       "</pre>\n"
      ],
      "text/plain": [
       "Number of cities in the list: \u001b[1;36m577\u001b[0m\n"
      ]
     },
     "metadata": {},
     "output_type": "display_data"
    }
   ],
   "source": [
    "#Generates a list of unique city names\n",
    "# Empty list for holding the latitude and longitude combinations\n",
    "lat_lngs = []\n",
    "\n",
    "# Empty list for holding the cities names\n",
    "cities = []\n",
    "\n",
    "# Range of latitudes and longitudes\n",
    "lat_range = (-90, 90)\n",
    "lng_range = (-180, 180)\n",
    "\n",
    "# Create a set of random lat and lng combinations\n",
    "lats = np.random.uniform(lat_range[0], lat_range[1], size=1500)\n",
    "lngs = np.random.uniform(lng_range[0], lng_range[1], size=1500)\n",
    "lat_lngs = zip(lats, lngs)\n",
    "\n",
    "# Identify nearest city for each lat, lng combination\n",
    "for lat_lng in lat_lngs:\n",
    "    city = citipy.nearest_city(lat_lng[0], lat_lng[1]).city_name\n",
    "\n",
    "    # If the city is unique, then add it to a our cities list\n",
    "    if city not in cities:\n",
    "        cities.append(city)\n",
    "\n",
    "# Print the city count to confirm sufficient count\n",
    "print(f\"Number of cities in the list: {len(cities)}\")"
   ]
  },
  {
   "cell_type": "code",
   "execution_count": 5,
   "id": "1f6974b1-c8be-4f3c-800a-da403ca0ab4c",
   "metadata": {},
   "outputs": [
    {
     "data": {
      "text/plain": [
       "'5038cf4afa60a38fb2b6b761f6038892'"
      ]
     },
     "execution_count": 5,
     "metadata": {},
     "output_type": "execute_result"
    }
   ],
   "source": [
    "#Identify the API_key\n",
    "weather_api_key\n"
   ]
  },
  {
   "cell_type": "code",
   "execution_count": 6,
   "id": "e3f7a797-114a-4c2c-b159-fbf86f139f35",
   "metadata": {},
   "outputs": [],
   "source": [
    "#API call\n",
    "url = f'https://api.openweathermap.org/data/2.5/weather?q={city}&appid={weather_api_key}'\n"
   ]
  },
  {
   "cell_type": "code",
   "execution_count": 7,
   "id": "7fe54401-add0-48d5-81cd-9868ac42852d",
   "metadata": {},
   "outputs": [
    {
     "data": {
      "text/html": [
       "<pre style=\"white-space:pre;overflow-x:auto;line-height:normal;font-family:Menlo,'DejaVu Sans Mono',consolas,'Courier New',monospace\"><span style=\"font-weight: bold\">&lt;</span><span style=\"color: #ff00ff; text-decoration-color: #ff00ff; font-weight: bold\">Response</span><span style=\"color: #000000; text-decoration-color: #000000\"> </span><span style=\"color: #000000; text-decoration-color: #000000; font-weight: bold\">[</span><span style=\"color: #008080; text-decoration-color: #008080; font-weight: bold\">200</span><span style=\"color: #000000; text-decoration-color: #000000; font-weight: bold\">]</span><span style=\"font-weight: bold\">&gt;</span>\n",
       "</pre>\n"
      ],
      "text/plain": [
       "\u001b[1m<\u001b[0m\u001b[1;95mResponse\u001b[0m\u001b[39m \u001b[0m\u001b[1;39m[\u001b[0m\u001b[1;36m200\u001b[0m\u001b[1;39m]\u001b[0m\u001b[1m>\u001b[0m\n"
      ]
     },
     "metadata": {},
     "output_type": "display_data"
    }
   ],
   "source": [
    "# check status\n",
    "print(requests.get(url))\n"
   ]
  },
  {
   "cell_type": "code",
   "execution_count": 8,
   "id": "f2902dc3-0b12-4b59-acb6-4d711b11f49d",
   "metadata": {},
   "outputs": [
    {
     "data": {
      "text/html": [
       "<pre style=\"white-space:pre;overflow-x:auto;line-height:normal;font-family:Menlo,'DejaVu Sans Mono',consolas,'Courier New',monospace\"><span style=\"color: #00ff00; text-decoration-color: #00ff00; font-style: italic\">True</span>\n",
       "</pre>\n"
      ],
      "text/plain": [
       "\u001b[3;92mTrue\u001b[0m\n"
      ]
     },
     "metadata": {},
     "output_type": "display_data"
    }
   ],
   "source": [
    "# check response\n",
    "print(requests.get(url).ok)\n"
   ]
  },
  {
   "cell_type": "code",
   "execution_count": 9,
   "id": "8bb7a837-b3fe-459e-a475-e761c384c170",
   "metadata": {},
   "outputs": [],
   "source": [
    "#ETL"
   ]
  },
  {
   "cell_type": "code",
   "execution_count": 10,
   "id": "8ad83270-ec93-4d1e-bdb5-86d148b879a9",
   "metadata": {},
   "outputs": [
    {
     "data": {
      "text/html": [
       "<pre style=\"white-space:pre;overflow-x:auto;line-height:normal;font-family:Menlo,'DejaVu Sans Mono',consolas,'Courier New',monospace\">Beginning Data Retrieval     \n",
       "</pre>\n"
      ],
      "text/plain": [
       "Beginning Data Retrieval     \n"
      ]
     },
     "metadata": {},
     "output_type": "display_data"
    },
    {
     "data": {
      "text/html": [
       "<pre style=\"white-space:pre;overflow-x:auto;line-height:normal;font-family:Menlo,'DejaVu Sans Mono',consolas,'Courier New',monospace\">-----------------------------\n",
       "</pre>\n"
      ],
      "text/plain": [
       "-----------------------------\n"
      ]
     },
     "metadata": {},
     "output_type": "display_data"
    },
    {
     "data": {
      "text/html": [
       "<pre style=\"white-space:pre;overflow-x:auto;line-height:normal;font-family:Menlo,'DejaVu Sans Mono',consolas,'Courier New',monospace\">Processing Record <span style=\"color: #008080; text-decoration-color: #008080; font-weight: bold\">1</span> of Set <span style=\"color: #008080; text-decoration-color: #008080; font-weight: bold\">1</span> | rabo de peixe\n",
       "</pre>\n"
      ],
      "text/plain": [
       "Processing Record \u001b[1;36m1\u001b[0m of Set \u001b[1;36m1\u001b[0m | rabo de peixe\n"
      ]
     },
     "metadata": {},
     "output_type": "display_data"
    },
    {
     "data": {
      "text/html": [
       "<pre style=\"white-space:pre;overflow-x:auto;line-height:normal;font-family:Menlo,'DejaVu Sans Mono',consolas,'Courier New',monospace\">Processing Record <span style=\"color: #008080; text-decoration-color: #008080; font-weight: bold\">2</span> of Set <span style=\"color: #008080; text-decoration-color: #008080; font-weight: bold\">1</span> | waitangi\n",
       "</pre>\n"
      ],
      "text/plain": [
       "Processing Record \u001b[1;36m2\u001b[0m of Set \u001b[1;36m1\u001b[0m | waitangi\n"
      ]
     },
     "metadata": {},
     "output_type": "display_data"
    },
    {
     "data": {
      "text/html": [
       "<pre style=\"white-space:pre;overflow-x:auto;line-height:normal;font-family:Menlo,'DejaVu Sans Mono',consolas,'Courier New',monospace\">Processing Record <span style=\"color: #008080; text-decoration-color: #008080; font-weight: bold\">3</span> of Set <span style=\"color: #008080; text-decoration-color: #008080; font-weight: bold\">1</span> | edinburgh of the seven seas\n",
       "</pre>\n"
      ],
      "text/plain": [
       "Processing Record \u001b[1;36m3\u001b[0m of Set \u001b[1;36m1\u001b[0m | edinburgh of the seven seas\n"
      ]
     },
     "metadata": {},
     "output_type": "display_data"
    },
    {
     "data": {
      "text/html": [
       "<pre style=\"white-space:pre;overflow-x:auto;line-height:normal;font-family:Menlo,'DejaVu Sans Mono',consolas,'Courier New',monospace\">Processing Record <span style=\"color: #008080; text-decoration-color: #008080; font-weight: bold\">4</span> of Set <span style=\"color: #008080; text-decoration-color: #008080; font-weight: bold\">1</span> | nova sintra\n",
       "</pre>\n"
      ],
      "text/plain": [
       "Processing Record \u001b[1;36m4\u001b[0m of Set \u001b[1;36m1\u001b[0m | nova sintra\n"
      ]
     },
     "metadata": {},
     "output_type": "display_data"
    },
    {
     "data": {
      "text/html": [
       "<pre style=\"white-space:pre;overflow-x:auto;line-height:normal;font-family:Menlo,'DejaVu Sans Mono',consolas,'Courier New',monospace\">Processing Record <span style=\"color: #008080; text-decoration-color: #008080; font-weight: bold\">5</span> of Set <span style=\"color: #008080; text-decoration-color: #008080; font-weight: bold\">1</span> | linqiong\n",
       "</pre>\n"
      ],
      "text/plain": [
       "Processing Record \u001b[1;36m5\u001b[0m of Set \u001b[1;36m1\u001b[0m | linqiong\n"
      ]
     },
     "metadata": {},
     "output_type": "display_data"
    },
    {
     "data": {
      "text/html": [
       "<pre style=\"white-space:pre;overflow-x:auto;line-height:normal;font-family:Menlo,'DejaVu Sans Mono',consolas,'Courier New',monospace\">Processing Record <span style=\"color: #008080; text-decoration-color: #008080; font-weight: bold\">6</span> of Set <span style=\"color: #008080; text-decoration-color: #008080; font-weight: bold\">1</span> | yellowknife\n",
       "</pre>\n"
      ],
      "text/plain": [
       "Processing Record \u001b[1;36m6\u001b[0m of Set \u001b[1;36m1\u001b[0m | yellowknife\n"
      ]
     },
     "metadata": {},
     "output_type": "display_data"
    },
    {
     "data": {
      "text/html": [
       "<pre style=\"white-space:pre;overflow-x:auto;line-height:normal;font-family:Menlo,'DejaVu Sans Mono',consolas,'Courier New',monospace\">Processing Record <span style=\"color: #008080; text-decoration-color: #008080; font-weight: bold\">7</span> of Set <span style=\"color: #008080; text-decoration-color: #008080; font-weight: bold\">1</span> | burlington\n",
       "</pre>\n"
      ],
      "text/plain": [
       "Processing Record \u001b[1;36m7\u001b[0m of Set \u001b[1;36m1\u001b[0m | burlington\n"
      ]
     },
     "metadata": {},
     "output_type": "display_data"
    },
    {
     "data": {
      "text/html": [
       "<pre style=\"white-space:pre;overflow-x:auto;line-height:normal;font-family:Menlo,'DejaVu Sans Mono',consolas,'Courier New',monospace\">Processing Record <span style=\"color: #008080; text-decoration-color: #008080; font-weight: bold\">8</span> of Set <span style=\"color: #008080; text-decoration-color: #008080; font-weight: bold\">1</span> | ushuaia\n",
       "</pre>\n"
      ],
      "text/plain": [
       "Processing Record \u001b[1;36m8\u001b[0m of Set \u001b[1;36m1\u001b[0m | ushuaia\n"
      ]
     },
     "metadata": {},
     "output_type": "display_data"
    },
    {
     "data": {
      "text/html": [
       "<pre style=\"white-space:pre;overflow-x:auto;line-height:normal;font-family:Menlo,'DejaVu Sans Mono',consolas,'Courier New',monospace\">Processing Record <span style=\"color: #008080; text-decoration-color: #008080; font-weight: bold\">9</span> of Set <span style=\"color: #008080; text-decoration-color: #008080; font-weight: bold\">1</span> | saskatoon\n",
       "</pre>\n"
      ],
      "text/plain": [
       "Processing Record \u001b[1;36m9\u001b[0m of Set \u001b[1;36m1\u001b[0m | saskatoon\n"
      ]
     },
     "metadata": {},
     "output_type": "display_data"
    },
    {
     "data": {
      "text/html": [
       "<pre style=\"white-space:pre;overflow-x:auto;line-height:normal;font-family:Menlo,'DejaVu Sans Mono',consolas,'Courier New',monospace\">Processing Record <span style=\"color: #008080; text-decoration-color: #008080; font-weight: bold\">10</span> of Set <span style=\"color: #008080; text-decoration-color: #008080; font-weight: bold\">1</span> | bredasdorp\n",
       "</pre>\n"
      ],
      "text/plain": [
       "Processing Record \u001b[1;36m10\u001b[0m of Set \u001b[1;36m1\u001b[0m | bredasdorp\n"
      ]
     },
     "metadata": {},
     "output_type": "display_data"
    },
    {
     "data": {
      "text/html": [
       "<pre style=\"white-space:pre;overflow-x:auto;line-height:normal;font-family:Menlo,'DejaVu Sans Mono',consolas,'Courier New',monospace\">Processing Record <span style=\"color: #008080; text-decoration-color: #008080; font-weight: bold\">11</span> of Set <span style=\"color: #008080; text-decoration-color: #008080; font-weight: bold\">1</span> | kapuskasing\n",
       "</pre>\n"
      ],
      "text/plain": [
       "Processing Record \u001b[1;36m11\u001b[0m of Set \u001b[1;36m1\u001b[0m | kapuskasing\n"
      ]
     },
     "metadata": {},
     "output_type": "display_data"
    },
    {
     "data": {
      "text/html": [
       "<pre style=\"white-space:pre;overflow-x:auto;line-height:normal;font-family:Menlo,'DejaVu Sans Mono',consolas,'Courier New',monospace\">Processing Record <span style=\"color: #008080; text-decoration-color: #008080; font-weight: bold\">12</span> of Set <span style=\"color: #008080; text-decoration-color: #008080; font-weight: bold\">1</span> | dryden\n",
       "</pre>\n"
      ],
      "text/plain": [
       "Processing Record \u001b[1;36m12\u001b[0m of Set \u001b[1;36m1\u001b[0m | dryden\n"
      ]
     },
     "metadata": {},
     "output_type": "display_data"
    },
    {
     "data": {
      "text/html": [
       "<pre style=\"white-space:pre;overflow-x:auto;line-height:normal;font-family:Menlo,'DejaVu Sans Mono',consolas,'Courier New',monospace\">Processing Record <span style=\"color: #008080; text-decoration-color: #008080; font-weight: bold\">13</span> of Set <span style=\"color: #008080; text-decoration-color: #008080; font-weight: bold\">1</span> | jamestown\n",
       "</pre>\n"
      ],
      "text/plain": [
       "Processing Record \u001b[1;36m13\u001b[0m of Set \u001b[1;36m1\u001b[0m | jamestown\n"
      ]
     },
     "metadata": {},
     "output_type": "display_data"
    },
    {
     "data": {
      "text/html": [
       "<pre style=\"white-space:pre;overflow-x:auto;line-height:normal;font-family:Menlo,'DejaVu Sans Mono',consolas,'Courier New',monospace\">Processing Record <span style=\"color: #008080; text-decoration-color: #008080; font-weight: bold\">14</span> of Set <span style=\"color: #008080; text-decoration-color: #008080; font-weight: bold\">1</span> | new norfolk\n",
       "</pre>\n"
      ],
      "text/plain": [
       "Processing Record \u001b[1;36m14\u001b[0m of Set \u001b[1;36m1\u001b[0m | new norfolk\n"
      ]
     },
     "metadata": {},
     "output_type": "display_data"
    },
    {
     "data": {
      "text/html": [
       "<pre style=\"white-space:pre;overflow-x:auto;line-height:normal;font-family:Menlo,'DejaVu Sans Mono',consolas,'Courier New',monospace\">Processing Record <span style=\"color: #008080; text-decoration-color: #008080; font-weight: bold\">15</span> of Set <span style=\"color: #008080; text-decoration-color: #008080; font-weight: bold\">1</span> | port mathurin\n",
       "</pre>\n"
      ],
      "text/plain": [
       "Processing Record \u001b[1;36m15\u001b[0m of Set \u001b[1;36m1\u001b[0m | port mathurin\n"
      ]
     },
     "metadata": {},
     "output_type": "display_data"
    },
    {
     "data": {
      "text/html": [
       "<pre style=\"white-space:pre;overflow-x:auto;line-height:normal;font-family:Menlo,'DejaVu Sans Mono',consolas,'Courier New',monospace\">Processing Record <span style=\"color: #008080; text-decoration-color: #008080; font-weight: bold\">16</span> of Set <span style=\"color: #008080; text-decoration-color: #008080; font-weight: bold\">1</span> | puerto ayora\n",
       "</pre>\n"
      ],
      "text/plain": [
       "Processing Record \u001b[1;36m16\u001b[0m of Set \u001b[1;36m1\u001b[0m | puerto ayora\n"
      ]
     },
     "metadata": {},
     "output_type": "display_data"
    },
    {
     "data": {
      "text/html": [
       "<pre style=\"white-space:pre;overflow-x:auto;line-height:normal;font-family:Menlo,'DejaVu Sans Mono',consolas,'Courier New',monospace\">Processing Record <span style=\"color: #008080; text-decoration-color: #008080; font-weight: bold\">17</span> of Set <span style=\"color: #008080; text-decoration-color: #008080; font-weight: bold\">1</span> | taksimo\n",
       "</pre>\n"
      ],
      "text/plain": [
       "Processing Record \u001b[1;36m17\u001b[0m of Set \u001b[1;36m1\u001b[0m | taksimo\n"
      ]
     },
     "metadata": {},
     "output_type": "display_data"
    },
    {
     "data": {
      "text/html": [
       "<pre style=\"white-space:pre;overflow-x:auto;line-height:normal;font-family:Menlo,'DejaVu Sans Mono',consolas,'Courier New',monospace\">Processing Record <span style=\"color: #008080; text-decoration-color: #008080; font-weight: bold\">18</span> of Set <span style=\"color: #008080; text-decoration-color: #008080; font-weight: bold\">1</span> | punta arenas\n",
       "</pre>\n"
      ],
      "text/plain": [
       "Processing Record \u001b[1;36m18\u001b[0m of Set \u001b[1;36m1\u001b[0m | punta arenas\n"
      ]
     },
     "metadata": {},
     "output_type": "display_data"
    },
    {
     "data": {
      "text/html": [
       "<pre style=\"white-space:pre;overflow-x:auto;line-height:normal;font-family:Menlo,'DejaVu Sans Mono',consolas,'Courier New',monospace\">Processing Record <span style=\"color: #008080; text-decoration-color: #008080; font-weight: bold\">19</span> of Set <span style=\"color: #008080; text-decoration-color: #008080; font-weight: bold\">1</span> | hawaiian paradise park\n",
       "</pre>\n"
      ],
      "text/plain": [
       "Processing Record \u001b[1;36m19\u001b[0m of Set \u001b[1;36m1\u001b[0m | hawaiian paradise park\n"
      ]
     },
     "metadata": {},
     "output_type": "display_data"
    },
    {
     "data": {
      "text/html": [
       "<pre style=\"white-space:pre;overflow-x:auto;line-height:normal;font-family:Menlo,'DejaVu Sans Mono',consolas,'Courier New',monospace\">Processing Record <span style=\"color: #008080; text-decoration-color: #008080; font-weight: bold\">20</span> of Set <span style=\"color: #008080; text-decoration-color: #008080; font-weight: bold\">1</span> | nadym\n",
       "</pre>\n"
      ],
      "text/plain": [
       "Processing Record \u001b[1;36m20\u001b[0m of Set \u001b[1;36m1\u001b[0m | nadym\n"
      ]
     },
     "metadata": {},
     "output_type": "display_data"
    },
    {
     "data": {
      "text/html": [
       "<pre style=\"white-space:pre;overflow-x:auto;line-height:normal;font-family:Menlo,'DejaVu Sans Mono',consolas,'Courier New',monospace\">Processing Record <span style=\"color: #008080; text-decoration-color: #008080; font-weight: bold\">21</span> of Set <span style=\"color: #008080; text-decoration-color: #008080; font-weight: bold\">1</span> | grytviken\n",
       "</pre>\n"
      ],
      "text/plain": [
       "Processing Record \u001b[1;36m21\u001b[0m of Set \u001b[1;36m1\u001b[0m | grytviken\n"
      ]
     },
     "metadata": {},
     "output_type": "display_data"
    },
    {
     "data": {
      "text/html": [
       "<pre style=\"white-space:pre;overflow-x:auto;line-height:normal;font-family:Menlo,'DejaVu Sans Mono',consolas,'Courier New',monospace\">Processing Record <span style=\"color: #008080; text-decoration-color: #008080; font-weight: bold\">22</span> of Set <span style=\"color: #008080; text-decoration-color: #008080; font-weight: bold\">1</span> | port elizabeth\n",
       "</pre>\n"
      ],
      "text/plain": [
       "Processing Record \u001b[1;36m22\u001b[0m of Set \u001b[1;36m1\u001b[0m | port elizabeth\n"
      ]
     },
     "metadata": {},
     "output_type": "display_data"
    },
    {
     "data": {
      "text/html": [
       "<pre style=\"white-space:pre;overflow-x:auto;line-height:normal;font-family:Menlo,'DejaVu Sans Mono',consolas,'Courier New',monospace\">Processing Record <span style=\"color: #008080; text-decoration-color: #008080; font-weight: bold\">23</span> of Set <span style=\"color: #008080; text-decoration-color: #008080; font-weight: bold\">1</span> | kill devil hills\n",
       "</pre>\n"
      ],
      "text/plain": [
       "Processing Record \u001b[1;36m23\u001b[0m of Set \u001b[1;36m1\u001b[0m | kill devil hills\n"
      ]
     },
     "metadata": {},
     "output_type": "display_data"
    },
    {
     "data": {
      "text/html": [
       "<pre style=\"white-space:pre;overflow-x:auto;line-height:normal;font-family:Menlo,'DejaVu Sans Mono',consolas,'Courier New',monospace\">Processing Record <span style=\"color: #008080; text-decoration-color: #008080; font-weight: bold\">24</span> of Set <span style=\"color: #008080; text-decoration-color: #008080; font-weight: bold\">1</span> | adamstown\n",
       "</pre>\n"
      ],
      "text/plain": [
       "Processing Record \u001b[1;36m24\u001b[0m of Set \u001b[1;36m1\u001b[0m | adamstown\n"
      ]
     },
     "metadata": {},
     "output_type": "display_data"
    },
    {
     "data": {
      "text/html": [
       "<pre style=\"white-space:pre;overflow-x:auto;line-height:normal;font-family:Menlo,'DejaVu Sans Mono',consolas,'Courier New',monospace\">Processing Record <span style=\"color: #008080; text-decoration-color: #008080; font-weight: bold\">25</span> of Set <span style=\"color: #008080; text-decoration-color: #008080; font-weight: bold\">1</span> | ilhabela\n",
       "</pre>\n"
      ],
      "text/plain": [
       "Processing Record \u001b[1;36m25\u001b[0m of Set \u001b[1;36m1\u001b[0m | ilhabela\n"
      ]
     },
     "metadata": {},
     "output_type": "display_data"
    },
    {
     "data": {
      "text/html": [
       "<pre style=\"white-space:pre;overflow-x:auto;line-height:normal;font-family:Menlo,'DejaVu Sans Mono',consolas,'Courier New',monospace\">Processing Record <span style=\"color: #008080; text-decoration-color: #008080; font-weight: bold\">26</span> of Set <span style=\"color: #008080; text-decoration-color: #008080; font-weight: bold\">1</span> | port-aux-francais\n",
       "</pre>\n"
      ],
      "text/plain": [
       "Processing Record \u001b[1;36m26\u001b[0m of Set \u001b[1;36m1\u001b[0m | port-aux-francais\n"
      ]
     },
     "metadata": {},
     "output_type": "display_data"
    },
    {
     "data": {
      "text/html": [
       "<pre style=\"white-space:pre;overflow-x:auto;line-height:normal;font-family:Menlo,'DejaVu Sans Mono',consolas,'Courier New',monospace\">Processing Record <span style=\"color: #008080; text-decoration-color: #008080; font-weight: bold\">27</span> of Set <span style=\"color: #008080; text-decoration-color: #008080; font-weight: bold\">1</span> | isafjordur\n",
       "</pre>\n"
      ],
      "text/plain": [
       "Processing Record \u001b[1;36m27\u001b[0m of Set \u001b[1;36m1\u001b[0m | isafjordur\n"
      ]
     },
     "metadata": {},
     "output_type": "display_data"
    },
    {
     "data": {
      "text/html": [
       "<pre style=\"white-space:pre;overflow-x:auto;line-height:normal;font-family:Menlo,'DejaVu Sans Mono',consolas,'Courier New',monospace\">Processing Record <span style=\"color: #008080; text-decoration-color: #008080; font-weight: bold\">28</span> of Set <span style=\"color: #008080; text-decoration-color: #008080; font-weight: bold\">1</span> | taiohae\n",
       "</pre>\n"
      ],
      "text/plain": [
       "Processing Record \u001b[1;36m28\u001b[0m of Set \u001b[1;36m1\u001b[0m | taiohae\n"
      ]
     },
     "metadata": {},
     "output_type": "display_data"
    },
    {
     "data": {
      "text/html": [
       "<pre style=\"white-space:pre;overflow-x:auto;line-height:normal;font-family:Menlo,'DejaVu Sans Mono',consolas,'Courier New',monospace\">City not found. Skipping<span style=\"color: #808000; text-decoration-color: #808000\">...</span>\n",
       "</pre>\n"
      ],
      "text/plain": [
       "City not found. Skipping\u001b[33m...\u001b[0m\n"
      ]
     },
     "metadata": {},
     "output_type": "display_data"
    },
    {
     "data": {
      "text/html": [
       "<pre style=\"white-space:pre;overflow-x:auto;line-height:normal;font-family:Menlo,'DejaVu Sans Mono',consolas,'Courier New',monospace\">Processing Record <span style=\"color: #008080; text-decoration-color: #008080; font-weight: bold\">29</span> of Set <span style=\"color: #008080; text-decoration-color: #008080; font-weight: bold\">1</span> | eduardo castex\n",
       "</pre>\n"
      ],
      "text/plain": [
       "Processing Record \u001b[1;36m29\u001b[0m of Set \u001b[1;36m1\u001b[0m | eduardo castex\n"
      ]
     },
     "metadata": {},
     "output_type": "display_data"
    },
    {
     "data": {
      "text/html": [
       "<pre style=\"white-space:pre;overflow-x:auto;line-height:normal;font-family:Menlo,'DejaVu Sans Mono',consolas,'Courier New',monospace\">Processing Record <span style=\"color: #008080; text-decoration-color: #008080; font-weight: bold\">30</span> of Set <span style=\"color: #008080; text-decoration-color: #008080; font-weight: bold\">1</span> | klaksvik\n",
       "</pre>\n"
      ],
      "text/plain": [
       "Processing Record \u001b[1;36m30\u001b[0m of Set \u001b[1;36m1\u001b[0m | klaksvik\n"
      ]
     },
     "metadata": {},
     "output_type": "display_data"
    },
    {
     "data": {
      "text/html": [
       "<pre style=\"white-space:pre;overflow-x:auto;line-height:normal;font-family:Menlo,'DejaVu Sans Mono',consolas,'Courier New',monospace\">Processing Record <span style=\"color: #008080; text-decoration-color: #008080; font-weight: bold\">31</span> of Set <span style=\"color: #008080; text-decoration-color: #008080; font-weight: bold\">1</span> | colonia\n",
       "</pre>\n"
      ],
      "text/plain": [
       "Processing Record \u001b[1;36m31\u001b[0m of Set \u001b[1;36m1\u001b[0m | colonia\n"
      ]
     },
     "metadata": {},
     "output_type": "display_data"
    },
    {
     "data": {
      "text/html": [
       "<pre style=\"white-space:pre;overflow-x:auto;line-height:normal;font-family:Menlo,'DejaVu Sans Mono',consolas,'Courier New',monospace\">Processing Record <span style=\"color: #008080; text-decoration-color: #008080; font-weight: bold\">32</span> of Set <span style=\"color: #008080; text-decoration-color: #008080; font-weight: bold\">1</span> | sitangkai\n",
       "</pre>\n"
      ],
      "text/plain": [
       "Processing Record \u001b[1;36m32\u001b[0m of Set \u001b[1;36m1\u001b[0m | sitangkai\n"
      ]
     },
     "metadata": {},
     "output_type": "display_data"
    },
    {
     "data": {
      "text/html": [
       "<pre style=\"white-space:pre;overflow-x:auto;line-height:normal;font-family:Menlo,'DejaVu Sans Mono',consolas,'Courier New',monospace\">Processing Record <span style=\"color: #008080; text-decoration-color: #008080; font-weight: bold\">33</span> of Set <span style=\"color: #008080; text-decoration-color: #008080; font-weight: bold\">1</span> | mount pearl\n",
       "</pre>\n"
      ],
      "text/plain": [
       "Processing Record \u001b[1;36m33\u001b[0m of Set \u001b[1;36m1\u001b[0m | mount pearl\n"
      ]
     },
     "metadata": {},
     "output_type": "display_data"
    },
    {
     "data": {
      "text/html": [
       "<pre style=\"white-space:pre;overflow-x:auto;line-height:normal;font-family:Menlo,'DejaVu Sans Mono',consolas,'Courier New',monospace\">Processing Record <span style=\"color: #008080; text-decoration-color: #008080; font-weight: bold\">34</span> of Set <span style=\"color: #008080; text-decoration-color: #008080; font-weight: bold\">1</span> | novovarshavka\n",
       "</pre>\n"
      ],
      "text/plain": [
       "Processing Record \u001b[1;36m34\u001b[0m of Set \u001b[1;36m1\u001b[0m | novovarshavka\n"
      ]
     },
     "metadata": {},
     "output_type": "display_data"
    },
    {
     "data": {
      "text/html": [
       "<pre style=\"white-space:pre;overflow-x:auto;line-height:normal;font-family:Menlo,'DejaVu Sans Mono',consolas,'Courier New',monospace\">Processing Record <span style=\"color: #008080; text-decoration-color: #008080; font-weight: bold\">35</span> of Set <span style=\"color: #008080; text-decoration-color: #008080; font-weight: bold\">1</span> | invercargill\n",
       "</pre>\n"
      ],
      "text/plain": [
       "Processing Record \u001b[1;36m35\u001b[0m of Set \u001b[1;36m1\u001b[0m | invercargill\n"
      ]
     },
     "metadata": {},
     "output_type": "display_data"
    },
    {
     "data": {
      "text/html": [
       "<pre style=\"white-space:pre;overflow-x:auto;line-height:normal;font-family:Menlo,'DejaVu Sans Mono',consolas,'Courier New',monospace\">Processing Record <span style=\"color: #008080; text-decoration-color: #008080; font-weight: bold\">36</span> of Set <span style=\"color: #008080; text-decoration-color: #008080; font-weight: bold\">1</span> | kingston\n",
       "</pre>\n"
      ],
      "text/plain": [
       "Processing Record \u001b[1;36m36\u001b[0m of Set \u001b[1;36m1\u001b[0m | kingston\n"
      ]
     },
     "metadata": {},
     "output_type": "display_data"
    },
    {
     "data": {
      "text/html": [
       "<pre style=\"white-space:pre;overflow-x:auto;line-height:normal;font-family:Menlo,'DejaVu Sans Mono',consolas,'Courier New',monospace\">Processing Record <span style=\"color: #008080; text-decoration-color: #008080; font-weight: bold\">37</span> of Set <span style=\"color: #008080; text-decoration-color: #008080; font-weight: bold\">1</span> | blackmans bay\n",
       "</pre>\n"
      ],
      "text/plain": [
       "Processing Record \u001b[1;36m37\u001b[0m of Set \u001b[1;36m1\u001b[0m | blackmans bay\n"
      ]
     },
     "metadata": {},
     "output_type": "display_data"
    },
    {
     "data": {
      "text/html": [
       "<pre style=\"white-space:pre;overflow-x:auto;line-height:normal;font-family:Menlo,'DejaVu Sans Mono',consolas,'Courier New',monospace\">Processing Record <span style=\"color: #008080; text-decoration-color: #008080; font-weight: bold\">38</span> of Set <span style=\"color: #008080; text-decoration-color: #008080; font-weight: bold\">1</span> | flying fish cove\n",
       "</pre>\n"
      ],
      "text/plain": [
       "Processing Record \u001b[1;36m38\u001b[0m of Set \u001b[1;36m1\u001b[0m | flying fish cove\n"
      ]
     },
     "metadata": {},
     "output_type": "display_data"
    },
    {
     "data": {
      "text/html": [
       "<pre style=\"white-space:pre;overflow-x:auto;line-height:normal;font-family:Menlo,'DejaVu Sans Mono',consolas,'Courier New',monospace\">Processing Record <span style=\"color: #008080; text-decoration-color: #008080; font-weight: bold\">39</span> of Set <span style=\"color: #008080; text-decoration-color: #008080; font-weight: bold\">1</span> | petropavlovsk-kamchatsky\n",
       "</pre>\n"
      ],
      "text/plain": [
       "Processing Record \u001b[1;36m39\u001b[0m of Set \u001b[1;36m1\u001b[0m | petropavlovsk-kamchatsky\n"
      ]
     },
     "metadata": {},
     "output_type": "display_data"
    },
    {
     "data": {
      "text/html": [
       "<pre style=\"white-space:pre;overflow-x:auto;line-height:normal;font-family:Menlo,'DejaVu Sans Mono',consolas,'Courier New',monospace\">Processing Record <span style=\"color: #008080; text-decoration-color: #008080; font-weight: bold\">40</span> of Set <span style=\"color: #008080; text-decoration-color: #008080; font-weight: bold\">1</span> | luderitz\n",
       "</pre>\n"
      ],
      "text/plain": [
       "Processing Record \u001b[1;36m40\u001b[0m of Set \u001b[1;36m1\u001b[0m | luderitz\n"
      ]
     },
     "metadata": {},
     "output_type": "display_data"
    },
    {
     "data": {
      "text/html": [
       "<pre style=\"white-space:pre;overflow-x:auto;line-height:normal;font-family:Menlo,'DejaVu Sans Mono',consolas,'Courier New',monospace\">Processing Record <span style=\"color: #008080; text-decoration-color: #008080; font-weight: bold\">41</span> of Set <span style=\"color: #008080; text-decoration-color: #008080; font-weight: bold\">1</span> | urzhar\n",
       "</pre>\n"
      ],
      "text/plain": [
       "Processing Record \u001b[1;36m41\u001b[0m of Set \u001b[1;36m1\u001b[0m | urzhar\n"
      ]
     },
     "metadata": {},
     "output_type": "display_data"
    },
    {
     "data": {
      "text/html": [
       "<pre style=\"white-space:pre;overflow-x:auto;line-height:normal;font-family:Menlo,'DejaVu Sans Mono',consolas,'Courier New',monospace\">Processing Record <span style=\"color: #008080; text-decoration-color: #008080; font-weight: bold\">42</span> of Set <span style=\"color: #008080; text-decoration-color: #008080; font-weight: bold\">1</span> | tiksi\n",
       "</pre>\n"
      ],
      "text/plain": [
       "Processing Record \u001b[1;36m42\u001b[0m of Set \u001b[1;36m1\u001b[0m | tiksi\n"
      ]
     },
     "metadata": {},
     "output_type": "display_data"
    },
    {
     "data": {
      "text/html": [
       "<pre style=\"white-space:pre;overflow-x:auto;line-height:normal;font-family:Menlo,'DejaVu Sans Mono',consolas,'Courier New',monospace\">Processing Record <span style=\"color: #008080; text-decoration-color: #008080; font-weight: bold\">43</span> of Set <span style=\"color: #008080; text-decoration-color: #008080; font-weight: bold\">1</span> | ar rutbah\n",
       "</pre>\n"
      ],
      "text/plain": [
       "Processing Record \u001b[1;36m43\u001b[0m of Set \u001b[1;36m1\u001b[0m | ar rutbah\n"
      ]
     },
     "metadata": {},
     "output_type": "display_data"
    },
    {
     "data": {
      "text/html": [
       "<pre style=\"white-space:pre;overflow-x:auto;line-height:normal;font-family:Menlo,'DejaVu Sans Mono',consolas,'Courier New',monospace\">Processing Record <span style=\"color: #008080; text-decoration-color: #008080; font-weight: bold\">44</span> of Set <span style=\"color: #008080; text-decoration-color: #008080; font-weight: bold\">1</span> | inirida\n",
       "</pre>\n"
      ],
      "text/plain": [
       "Processing Record \u001b[1;36m44\u001b[0m of Set \u001b[1;36m1\u001b[0m | inirida\n"
      ]
     },
     "metadata": {},
     "output_type": "display_data"
    },
    {
     "data": {
      "text/html": [
       "<pre style=\"white-space:pre;overflow-x:auto;line-height:normal;font-family:Menlo,'DejaVu Sans Mono',consolas,'Courier New',monospace\">Processing Record <span style=\"color: #008080; text-decoration-color: #008080; font-weight: bold\">45</span> of Set <span style=\"color: #008080; text-decoration-color: #008080; font-weight: bold\">1</span> | koungou\n",
       "</pre>\n"
      ],
      "text/plain": [
       "Processing Record \u001b[1;36m45\u001b[0m of Set \u001b[1;36m1\u001b[0m | koungou\n"
      ]
     },
     "metadata": {},
     "output_type": "display_data"
    },
    {
     "data": {
      "text/html": [
       "<pre style=\"white-space:pre;overflow-x:auto;line-height:normal;font-family:Menlo,'DejaVu Sans Mono',consolas,'Courier New',monospace\">Processing Record <span style=\"color: #008080; text-decoration-color: #008080; font-weight: bold\">46</span> of Set <span style=\"color: #008080; text-decoration-color: #008080; font-weight: bold\">1</span> | galveston\n",
       "</pre>\n"
      ],
      "text/plain": [
       "Processing Record \u001b[1;36m46\u001b[0m of Set \u001b[1;36m1\u001b[0m | galveston\n"
      ]
     },
     "metadata": {},
     "output_type": "display_data"
    },
    {
     "data": {
      "text/html": [
       "<pre style=\"white-space:pre;overflow-x:auto;line-height:normal;font-family:Menlo,'DejaVu Sans Mono',consolas,'Courier New',monospace\">Processing Record <span style=\"color: #008080; text-decoration-color: #008080; font-weight: bold\">47</span> of Set <span style=\"color: #008080; text-decoration-color: #008080; font-weight: bold\">1</span> | severnoye\n",
       "</pre>\n"
      ],
      "text/plain": [
       "Processing Record \u001b[1;36m47\u001b[0m of Set \u001b[1;36m1\u001b[0m | severnoye\n"
      ]
     },
     "metadata": {},
     "output_type": "display_data"
    },
    {
     "data": {
      "text/html": [
       "<pre style=\"white-space:pre;overflow-x:auto;line-height:normal;font-family:Menlo,'DejaVu Sans Mono',consolas,'Courier New',monospace\">Processing Record <span style=\"color: #008080; text-decoration-color: #008080; font-weight: bold\">48</span> of Set <span style=\"color: #008080; text-decoration-color: #008080; font-weight: bold\">1</span> | olonkinbyen\n",
       "</pre>\n"
      ],
      "text/plain": [
       "Processing Record \u001b[1;36m48\u001b[0m of Set \u001b[1;36m1\u001b[0m | olonkinbyen\n"
      ]
     },
     "metadata": {},
     "output_type": "display_data"
    },
    {
     "data": {
      "text/html": [
       "<pre style=\"white-space:pre;overflow-x:auto;line-height:normal;font-family:Menlo,'DejaVu Sans Mono',consolas,'Courier New',monospace\">Processing Record <span style=\"color: #008080; text-decoration-color: #008080; font-weight: bold\">49</span> of Set <span style=\"color: #008080; text-decoration-color: #008080; font-weight: bold\">1</span> | maba\n",
       "</pre>\n"
      ],
      "text/plain": [
       "Processing Record \u001b[1;36m49\u001b[0m of Set \u001b[1;36m1\u001b[0m | maba\n"
      ]
     },
     "metadata": {},
     "output_type": "display_data"
    },
    {
     "data": {
      "text/html": [
       "<pre style=\"white-space:pre;overflow-x:auto;line-height:normal;font-family:Menlo,'DejaVu Sans Mono',consolas,'Courier New',monospace\">Processing Record <span style=\"color: #008080; text-decoration-color: #008080; font-weight: bold\">50</span> of Set <span style=\"color: #008080; text-decoration-color: #008080; font-weight: bold\">1</span> | iqaluit\n",
       "</pre>\n"
      ],
      "text/plain": [
       "Processing Record \u001b[1;36m50\u001b[0m of Set \u001b[1;36m1\u001b[0m | iqaluit\n"
      ]
     },
     "metadata": {},
     "output_type": "display_data"
    },
    {
     "data": {
      "text/html": [
       "<pre style=\"white-space:pre;overflow-x:auto;line-height:normal;font-family:Menlo,'DejaVu Sans Mono',consolas,'Courier New',monospace\">Processing Record <span style=\"color: #008080; text-decoration-color: #008080; font-weight: bold\">0</span> of Set <span style=\"color: #008080; text-decoration-color: #008080; font-weight: bold\">2</span> | touros\n",
       "</pre>\n"
      ],
      "text/plain": [
       "Processing Record \u001b[1;36m0\u001b[0m of Set \u001b[1;36m2\u001b[0m | touros\n"
      ]
     },
     "metadata": {},
     "output_type": "display_data"
    },
    {
     "data": {
      "text/html": [
       "<pre style=\"white-space:pre;overflow-x:auto;line-height:normal;font-family:Menlo,'DejaVu Sans Mono',consolas,'Courier New',monospace\">Processing Record <span style=\"color: #008080; text-decoration-color: #008080; font-weight: bold\">1</span> of Set <span style=\"color: #008080; text-decoration-color: #008080; font-weight: bold\">2</span> | illizi\n",
       "</pre>\n"
      ],
      "text/plain": [
       "Processing Record \u001b[1;36m1\u001b[0m of Set \u001b[1;36m2\u001b[0m | illizi\n"
      ]
     },
     "metadata": {},
     "output_type": "display_data"
    },
    {
     "data": {
      "text/html": [
       "<pre style=\"white-space:pre;overflow-x:auto;line-height:normal;font-family:Menlo,'DejaVu Sans Mono',consolas,'Courier New',monospace\">Processing Record <span style=\"color: #008080; text-decoration-color: #008080; font-weight: bold\">2</span> of Set <span style=\"color: #008080; text-decoration-color: #008080; font-weight: bold\">2</span> | dunedin\n",
       "</pre>\n"
      ],
      "text/plain": [
       "Processing Record \u001b[1;36m2\u001b[0m of Set \u001b[1;36m2\u001b[0m | dunedin\n"
      ]
     },
     "metadata": {},
     "output_type": "display_data"
    },
    {
     "data": {
      "text/html": [
       "<pre style=\"white-space:pre;overflow-x:auto;line-height:normal;font-family:Menlo,'DejaVu Sans Mono',consolas,'Courier New',monospace\">Processing Record <span style=\"color: #008080; text-decoration-color: #008080; font-weight: bold\">3</span> of Set <span style=\"color: #008080; text-decoration-color: #008080; font-weight: bold\">2</span> | pimenta bueno\n",
       "</pre>\n"
      ],
      "text/plain": [
       "Processing Record \u001b[1;36m3\u001b[0m of Set \u001b[1;36m2\u001b[0m | pimenta bueno\n"
      ]
     },
     "metadata": {},
     "output_type": "display_data"
    },
    {
     "data": {
      "text/html": [
       "<pre style=\"white-space:pre;overflow-x:auto;line-height:normal;font-family:Menlo,'DejaVu Sans Mono',consolas,'Courier New',monospace\">Processing Record <span style=\"color: #008080; text-decoration-color: #008080; font-weight: bold\">4</span> of Set <span style=\"color: #008080; text-decoration-color: #008080; font-weight: bold\">2</span> | papao\n",
       "</pre>\n"
      ],
      "text/plain": [
       "Processing Record \u001b[1;36m4\u001b[0m of Set \u001b[1;36m2\u001b[0m | papao\n"
      ]
     },
     "metadata": {},
     "output_type": "display_data"
    },
    {
     "data": {
      "text/html": [
       "<pre style=\"white-space:pre;overflow-x:auto;line-height:normal;font-family:Menlo,'DejaVu Sans Mono',consolas,'Courier New',monospace\">Processing Record <span style=\"color: #008080; text-decoration-color: #008080; font-weight: bold\">5</span> of Set <span style=\"color: #008080; text-decoration-color: #008080; font-weight: bold\">2</span> | nuuk\n",
       "</pre>\n"
      ],
      "text/plain": [
       "Processing Record \u001b[1;36m5\u001b[0m of Set \u001b[1;36m2\u001b[0m | nuuk\n"
      ]
     },
     "metadata": {},
     "output_type": "display_data"
    },
    {
     "data": {
      "text/html": [
       "<pre style=\"white-space:pre;overflow-x:auto;line-height:normal;font-family:Menlo,'DejaVu Sans Mono',consolas,'Courier New',monospace\">Processing Record <span style=\"color: #008080; text-decoration-color: #008080; font-weight: bold\">6</span> of Set <span style=\"color: #008080; text-decoration-color: #008080; font-weight: bold\">2</span> | sant lluis\n",
       "</pre>\n"
      ],
      "text/plain": [
       "Processing Record \u001b[1;36m6\u001b[0m of Set \u001b[1;36m2\u001b[0m | sant lluis\n"
      ]
     },
     "metadata": {},
     "output_type": "display_data"
    },
    {
     "data": {
      "text/html": [
       "<pre style=\"white-space:pre;overflow-x:auto;line-height:normal;font-family:Menlo,'DejaVu Sans Mono',consolas,'Courier New',monospace\">Processing Record <span style=\"color: #008080; text-decoration-color: #008080; font-weight: bold\">7</span> of Set <span style=\"color: #008080; text-decoration-color: #008080; font-weight: bold\">2</span> | kijang\n",
       "</pre>\n"
      ],
      "text/plain": [
       "Processing Record \u001b[1;36m7\u001b[0m of Set \u001b[1;36m2\u001b[0m | kijang\n"
      ]
     },
     "metadata": {},
     "output_type": "display_data"
    },
    {
     "data": {
      "text/html": [
       "<pre style=\"white-space:pre;overflow-x:auto;line-height:normal;font-family:Menlo,'DejaVu Sans Mono',consolas,'Courier New',monospace\">Processing Record <span style=\"color: #008080; text-decoration-color: #008080; font-weight: bold\">8</span> of Set <span style=\"color: #008080; text-decoration-color: #008080; font-weight: bold\">2</span> | utrik\n",
       "</pre>\n"
      ],
      "text/plain": [
       "Processing Record \u001b[1;36m8\u001b[0m of Set \u001b[1;36m2\u001b[0m | utrik\n"
      ]
     },
     "metadata": {},
     "output_type": "display_data"
    },
    {
     "data": {
      "text/html": [
       "<pre style=\"white-space:pre;overflow-x:auto;line-height:normal;font-family:Menlo,'DejaVu Sans Mono',consolas,'Courier New',monospace\">Processing Record <span style=\"color: #008080; text-decoration-color: #008080; font-weight: bold\">9</span> of Set <span style=\"color: #008080; text-decoration-color: #008080; font-weight: bold\">2</span> | tambura\n",
       "</pre>\n"
      ],
      "text/plain": [
       "Processing Record \u001b[1;36m9\u001b[0m of Set \u001b[1;36m2\u001b[0m | tambura\n"
      ]
     },
     "metadata": {},
     "output_type": "display_data"
    },
    {
     "data": {
      "text/html": [
       "<pre style=\"white-space:pre;overflow-x:auto;line-height:normal;font-family:Menlo,'DejaVu Sans Mono',consolas,'Courier New',monospace\">Processing Record <span style=\"color: #008080; text-decoration-color: #008080; font-weight: bold\">10</span> of Set <span style=\"color: #008080; text-decoration-color: #008080; font-weight: bold\">2</span> | gazojak\n",
       "</pre>\n"
      ],
      "text/plain": [
       "Processing Record \u001b[1;36m10\u001b[0m of Set \u001b[1;36m2\u001b[0m | gazojak\n"
      ]
     },
     "metadata": {},
     "output_type": "display_data"
    },
    {
     "data": {
      "text/html": [
       "<pre style=\"white-space:pre;overflow-x:auto;line-height:normal;font-family:Menlo,'DejaVu Sans Mono',consolas,'Courier New',monospace\">Processing Record <span style=\"color: #008080; text-decoration-color: #008080; font-weight: bold\">11</span> of Set <span style=\"color: #008080; text-decoration-color: #008080; font-weight: bold\">2</span> | swift current\n",
       "</pre>\n"
      ],
      "text/plain": [
       "Processing Record \u001b[1;36m11\u001b[0m of Set \u001b[1;36m2\u001b[0m | swift current\n"
      ]
     },
     "metadata": {},
     "output_type": "display_data"
    },
    {
     "data": {
      "text/html": [
       "<pre style=\"white-space:pre;overflow-x:auto;line-height:normal;font-family:Menlo,'DejaVu Sans Mono',consolas,'Courier New',monospace\">Processing Record <span style=\"color: #008080; text-decoration-color: #008080; font-weight: bold\">12</span> of Set <span style=\"color: #008080; text-decoration-color: #008080; font-weight: bold\">2</span> | saipan\n",
       "</pre>\n"
      ],
      "text/plain": [
       "Processing Record \u001b[1;36m12\u001b[0m of Set \u001b[1;36m2\u001b[0m | saipan\n"
      ]
     },
     "metadata": {},
     "output_type": "display_data"
    },
    {
     "data": {
      "text/html": [
       "<pre style=\"white-space:pre;overflow-x:auto;line-height:normal;font-family:Menlo,'DejaVu Sans Mono',consolas,'Courier New',monospace\">Processing Record <span style=\"color: #008080; text-decoration-color: #008080; font-weight: bold\">13</span> of Set <span style=\"color: #008080; text-decoration-color: #008080; font-weight: bold\">2</span> | soio\n",
       "</pre>\n"
      ],
      "text/plain": [
       "Processing Record \u001b[1;36m13\u001b[0m of Set \u001b[1;36m2\u001b[0m | soio\n"
      ]
     },
     "metadata": {},
     "output_type": "display_data"
    },
    {
     "data": {
      "text/html": [
       "<pre style=\"white-space:pre;overflow-x:auto;line-height:normal;font-family:Menlo,'DejaVu Sans Mono',consolas,'Courier New',monospace\">Processing Record <span style=\"color: #008080; text-decoration-color: #008080; font-weight: bold\">14</span> of Set <span style=\"color: #008080; text-decoration-color: #008080; font-weight: bold\">2</span> | zaozersk\n",
       "</pre>\n"
      ],
      "text/plain": [
       "Processing Record \u001b[1;36m14\u001b[0m of Set \u001b[1;36m2\u001b[0m | zaozersk\n"
      ]
     },
     "metadata": {},
     "output_type": "display_data"
    },
    {
     "data": {
      "text/html": [
       "<pre style=\"white-space:pre;overflow-x:auto;line-height:normal;font-family:Menlo,'DejaVu Sans Mono',consolas,'Courier New',monospace\">Processing Record <span style=\"color: #008080; text-decoration-color: #008080; font-weight: bold\">15</span> of Set <span style=\"color: #008080; text-decoration-color: #008080; font-weight: bold\">2</span> | carnarvon\n",
       "</pre>\n"
      ],
      "text/plain": [
       "Processing Record \u001b[1;36m15\u001b[0m of Set \u001b[1;36m2\u001b[0m | carnarvon\n"
      ]
     },
     "metadata": {},
     "output_type": "display_data"
    },
    {
     "data": {
      "text/html": [
       "<pre style=\"white-space:pre;overflow-x:auto;line-height:normal;font-family:Menlo,'DejaVu Sans Mono',consolas,'Courier New',monospace\">Processing Record <span style=\"color: #008080; text-decoration-color: #008080; font-weight: bold\">16</span> of Set <span style=\"color: #008080; text-decoration-color: #008080; font-weight: bold\">2</span> | caluula\n",
       "</pre>\n"
      ],
      "text/plain": [
       "Processing Record \u001b[1;36m16\u001b[0m of Set \u001b[1;36m2\u001b[0m | caluula\n"
      ]
     },
     "metadata": {},
     "output_type": "display_data"
    },
    {
     "data": {
      "text/html": [
       "<pre style=\"white-space:pre;overflow-x:auto;line-height:normal;font-family:Menlo,'DejaVu Sans Mono',consolas,'Courier New',monospace\">Processing Record <span style=\"color: #008080; text-decoration-color: #008080; font-weight: bold\">17</span> of Set <span style=\"color: #008080; text-decoration-color: #008080; font-weight: bold\">2</span> | nuku'alofa\n",
       "</pre>\n"
      ],
      "text/plain": [
       "Processing Record \u001b[1;36m17\u001b[0m of Set \u001b[1;36m2\u001b[0m | nuku'alofa\n"
      ]
     },
     "metadata": {},
     "output_type": "display_data"
    },
    {
     "data": {
      "text/html": [
       "<pre style=\"white-space:pre;overflow-x:auto;line-height:normal;font-family:Menlo,'DejaVu Sans Mono',consolas,'Courier New',monospace\">Processing Record <span style=\"color: #008080; text-decoration-color: #008080; font-weight: bold\">18</span> of Set <span style=\"color: #008080; text-decoration-color: #008080; font-weight: bold\">2</span> | puerto natales\n",
       "</pre>\n"
      ],
      "text/plain": [
       "Processing Record \u001b[1;36m18\u001b[0m of Set \u001b[1;36m2\u001b[0m | puerto natales\n"
      ]
     },
     "metadata": {},
     "output_type": "display_data"
    },
    {
     "data": {
      "text/html": [
       "<pre style=\"white-space:pre;overflow-x:auto;line-height:normal;font-family:Menlo,'DejaVu Sans Mono',consolas,'Courier New',monospace\">Processing Record <span style=\"color: #008080; text-decoration-color: #008080; font-weight: bold\">19</span> of Set <span style=\"color: #008080; text-decoration-color: #008080; font-weight: bold\">2</span> | atafu village\n",
       "</pre>\n"
      ],
      "text/plain": [
       "Processing Record \u001b[1;36m19\u001b[0m of Set \u001b[1;36m2\u001b[0m | atafu village\n"
      ]
     },
     "metadata": {},
     "output_type": "display_data"
    },
    {
     "data": {
      "text/html": [
       "<pre style=\"white-space:pre;overflow-x:auto;line-height:normal;font-family:Menlo,'DejaVu Sans Mono',consolas,'Courier New',monospace\">Processing Record <span style=\"color: #008080; text-decoration-color: #008080; font-weight: bold\">20</span> of Set <span style=\"color: #008080; text-decoration-color: #008080; font-weight: bold\">2</span> | albany\n",
       "</pre>\n"
      ],
      "text/plain": [
       "Processing Record \u001b[1;36m20\u001b[0m of Set \u001b[1;36m2\u001b[0m | albany\n"
      ]
     },
     "metadata": {},
     "output_type": "display_data"
    },
    {
     "data": {
      "text/html": [
       "<pre style=\"white-space:pre;overflow-x:auto;line-height:normal;font-family:Menlo,'DejaVu Sans Mono',consolas,'Courier New',monospace\">Processing Record <span style=\"color: #008080; text-decoration-color: #008080; font-weight: bold\">21</span> of Set <span style=\"color: #008080; text-decoration-color: #008080; font-weight: bold\">2</span> | byalynichy\n",
       "</pre>\n"
      ],
      "text/plain": [
       "Processing Record \u001b[1;36m21\u001b[0m of Set \u001b[1;36m2\u001b[0m | byalynichy\n"
      ]
     },
     "metadata": {},
     "output_type": "display_data"
    },
    {
     "data": {
      "text/html": [
       "<pre style=\"white-space:pre;overflow-x:auto;line-height:normal;font-family:Menlo,'DejaVu Sans Mono',consolas,'Courier New',monospace\">Processing Record <span style=\"color: #008080; text-decoration-color: #008080; font-weight: bold\">22</span> of Set <span style=\"color: #008080; text-decoration-color: #008080; font-weight: bold\">2</span> | nekrasovskoye\n",
       "</pre>\n"
      ],
      "text/plain": [
       "Processing Record \u001b[1;36m22\u001b[0m of Set \u001b[1;36m2\u001b[0m | nekrasovskoye\n"
      ]
     },
     "metadata": {},
     "output_type": "display_data"
    },
    {
     "data": {
      "text/html": [
       "<pre style=\"white-space:pre;overflow-x:auto;line-height:normal;font-family:Menlo,'DejaVu Sans Mono',consolas,'Courier New',monospace\">Processing Record <span style=\"color: #008080; text-decoration-color: #008080; font-weight: bold\">23</span> of Set <span style=\"color: #008080; text-decoration-color: #008080; font-weight: bold\">2</span> | jackson\n",
       "</pre>\n"
      ],
      "text/plain": [
       "Processing Record \u001b[1;36m23\u001b[0m of Set \u001b[1;36m2\u001b[0m | jackson\n"
      ]
     },
     "metadata": {},
     "output_type": "display_data"
    },
    {
     "data": {
      "text/html": [
       "<pre style=\"white-space:pre;overflow-x:auto;line-height:normal;font-family:Menlo,'DejaVu Sans Mono',consolas,'Courier New',monospace\">Processing Record <span style=\"color: #008080; text-decoration-color: #008080; font-weight: bold\">24</span> of Set <span style=\"color: #008080; text-decoration-color: #008080; font-weight: bold\">2</span> | rabaul\n",
       "</pre>\n"
      ],
      "text/plain": [
       "Processing Record \u001b[1;36m24\u001b[0m of Set \u001b[1;36m2\u001b[0m | rabaul\n"
      ]
     },
     "metadata": {},
     "output_type": "display_data"
    },
    {
     "data": {
      "text/html": [
       "<pre style=\"white-space:pre;overflow-x:auto;line-height:normal;font-family:Menlo,'DejaVu Sans Mono',consolas,'Courier New',monospace\">Processing Record <span style=\"color: #008080; text-decoration-color: #008080; font-weight: bold\">25</span> of Set <span style=\"color: #008080; text-decoration-color: #008080; font-weight: bold\">2</span> | aykhal\n",
       "</pre>\n"
      ],
      "text/plain": [
       "Processing Record \u001b[1;36m25\u001b[0m of Set \u001b[1;36m2\u001b[0m | aykhal\n"
      ]
     },
     "metadata": {},
     "output_type": "display_data"
    },
    {
     "data": {
      "text/html": [
       "<pre style=\"white-space:pre;overflow-x:auto;line-height:normal;font-family:Menlo,'DejaVu Sans Mono',consolas,'Courier New',monospace\">Processing Record <span style=\"color: #008080; text-decoration-color: #008080; font-weight: bold\">26</span> of Set <span style=\"color: #008080; text-decoration-color: #008080; font-weight: bold\">2</span> | georgetown\n",
       "</pre>\n"
      ],
      "text/plain": [
       "Processing Record \u001b[1;36m26\u001b[0m of Set \u001b[1;36m2\u001b[0m | georgetown\n"
      ]
     },
     "metadata": {},
     "output_type": "display_data"
    },
    {
     "data": {
      "text/html": [
       "<pre style=\"white-space:pre;overflow-x:auto;line-height:normal;font-family:Menlo,'DejaVu Sans Mono',consolas,'Courier New',monospace\">Processing Record <span style=\"color: #008080; text-decoration-color: #008080; font-weight: bold\">27</span> of Set <span style=\"color: #008080; text-decoration-color: #008080; font-weight: bold\">2</span> | miquelon\n",
       "</pre>\n"
      ],
      "text/plain": [
       "Processing Record \u001b[1;36m27\u001b[0m of Set \u001b[1;36m2\u001b[0m | miquelon\n"
      ]
     },
     "metadata": {},
     "output_type": "display_data"
    },
    {
     "data": {
      "text/html": [
       "<pre style=\"white-space:pre;overflow-x:auto;line-height:normal;font-family:Menlo,'DejaVu Sans Mono',consolas,'Courier New',monospace\">Processing Record <span style=\"color: #008080; text-decoration-color: #008080; font-weight: bold\">28</span> of Set <span style=\"color: #008080; text-decoration-color: #008080; font-weight: bold\">2</span> | gadzhiyevo\n",
       "</pre>\n"
      ],
      "text/plain": [
       "Processing Record \u001b[1;36m28\u001b[0m of Set \u001b[1;36m2\u001b[0m | gadzhiyevo\n"
      ]
     },
     "metadata": {},
     "output_type": "display_data"
    },
    {
     "data": {
      "text/html": [
       "<pre style=\"white-space:pre;overflow-x:auto;line-height:normal;font-family:Menlo,'DejaVu Sans Mono',consolas,'Courier New',monospace\">Processing Record <span style=\"color: #008080; text-decoration-color: #008080; font-weight: bold\">29</span> of Set <span style=\"color: #008080; text-decoration-color: #008080; font-weight: bold\">2</span> | hola\n",
       "</pre>\n"
      ],
      "text/plain": [
       "Processing Record \u001b[1;36m29\u001b[0m of Set \u001b[1;36m2\u001b[0m | hola\n"
      ]
     },
     "metadata": {},
     "output_type": "display_data"
    },
    {
     "data": {
      "text/html": [
       "<pre style=\"white-space:pre;overflow-x:auto;line-height:normal;font-family:Menlo,'DejaVu Sans Mono',consolas,'Courier New',monospace\">Processing Record <span style=\"color: #008080; text-decoration-color: #008080; font-weight: bold\">30</span> of Set <span style=\"color: #008080; text-decoration-color: #008080; font-weight: bold\">2</span> | pemba\n",
       "</pre>\n"
      ],
      "text/plain": [
       "Processing Record \u001b[1;36m30\u001b[0m of Set \u001b[1;36m2\u001b[0m | pemba\n"
      ]
     },
     "metadata": {},
     "output_type": "display_data"
    },
    {
     "data": {
      "text/html": [
       "<pre style=\"white-space:pre;overflow-x:auto;line-height:normal;font-family:Menlo,'DejaVu Sans Mono',consolas,'Courier New',monospace\">Processing Record <span style=\"color: #008080; text-decoration-color: #008080; font-weight: bold\">31</span> of Set <span style=\"color: #008080; text-decoration-color: #008080; font-weight: bold\">2</span> | bethel\n",
       "</pre>\n"
      ],
      "text/plain": [
       "Processing Record \u001b[1;36m31\u001b[0m of Set \u001b[1;36m2\u001b[0m | bethel\n"
      ]
     },
     "metadata": {},
     "output_type": "display_data"
    },
    {
     "data": {
      "text/html": [
       "<pre style=\"white-space:pre;overflow-x:auto;line-height:normal;font-family:Menlo,'DejaVu Sans Mono',consolas,'Courier New',monospace\">Processing Record <span style=\"color: #008080; text-decoration-color: #008080; font-weight: bold\">32</span> of Set <span style=\"color: #008080; text-decoration-color: #008080; font-weight: bold\">2</span> | tazovsky\n",
       "</pre>\n"
      ],
      "text/plain": [
       "Processing Record \u001b[1;36m32\u001b[0m of Set \u001b[1;36m2\u001b[0m | tazovsky\n"
      ]
     },
     "metadata": {},
     "output_type": "display_data"
    },
    {
     "data": {
      "text/html": [
       "<pre style=\"white-space:pre;overflow-x:auto;line-height:normal;font-family:Menlo,'DejaVu Sans Mono',consolas,'Courier New',monospace\">Processing Record <span style=\"color: #008080; text-decoration-color: #008080; font-weight: bold\">33</span> of Set <span style=\"color: #008080; text-decoration-color: #008080; font-weight: bold\">2</span> | lautoka\n",
       "</pre>\n"
      ],
      "text/plain": [
       "Processing Record \u001b[1;36m33\u001b[0m of Set \u001b[1;36m2\u001b[0m | lautoka\n"
      ]
     },
     "metadata": {},
     "output_type": "display_data"
    },
    {
     "data": {
      "text/html": [
       "<pre style=\"white-space:pre;overflow-x:auto;line-height:normal;font-family:Menlo,'DejaVu Sans Mono',consolas,'Courier New',monospace\">Processing Record <span style=\"color: #008080; text-decoration-color: #008080; font-weight: bold\">34</span> of Set <span style=\"color: #008080; text-decoration-color: #008080; font-weight: bold\">2</span> | cabo san lucas\n",
       "</pre>\n"
      ],
      "text/plain": [
       "Processing Record \u001b[1;36m34\u001b[0m of Set \u001b[1;36m2\u001b[0m | cabo san lucas\n"
      ]
     },
     "metadata": {},
     "output_type": "display_data"
    },
    {
     "data": {
      "text/html": [
       "<pre style=\"white-space:pre;overflow-x:auto;line-height:normal;font-family:Menlo,'DejaVu Sans Mono',consolas,'Courier New',monospace\">Processing Record <span style=\"color: #008080; text-decoration-color: #008080; font-weight: bold\">35</span> of Set <span style=\"color: #008080; text-decoration-color: #008080; font-weight: bold\">2</span> | christchurch\n",
       "</pre>\n"
      ],
      "text/plain": [
       "Processing Record \u001b[1;36m35\u001b[0m of Set \u001b[1;36m2\u001b[0m | christchurch\n"
      ]
     },
     "metadata": {},
     "output_type": "display_data"
    },
    {
     "data": {
      "text/html": [
       "<pre style=\"white-space:pre;overflow-x:auto;line-height:normal;font-family:Menlo,'DejaVu Sans Mono',consolas,'Courier New',monospace\">Processing Record <span style=\"color: #008080; text-decoration-color: #008080; font-weight: bold\">36</span> of Set <span style=\"color: #008080; text-decoration-color: #008080; font-weight: bold\">2</span> | tranovaho\n",
       "</pre>\n"
      ],
      "text/plain": [
       "Processing Record \u001b[1;36m36\u001b[0m of Set \u001b[1;36m2\u001b[0m | tranovaho\n"
      ]
     },
     "metadata": {},
     "output_type": "display_data"
    },
    {
     "data": {
      "text/html": [
       "<pre style=\"white-space:pre;overflow-x:auto;line-height:normal;font-family:Menlo,'DejaVu Sans Mono',consolas,'Courier New',monospace\">City not found. Skipping<span style=\"color: #808000; text-decoration-color: #808000\">...</span>\n",
       "</pre>\n"
      ],
      "text/plain": [
       "City not found. Skipping\u001b[33m...\u001b[0m\n"
      ]
     },
     "metadata": {},
     "output_type": "display_data"
    },
    {
     "data": {
      "text/html": [
       "<pre style=\"white-space:pre;overflow-x:auto;line-height:normal;font-family:Menlo,'DejaVu Sans Mono',consolas,'Courier New',monospace\">Processing Record <span style=\"color: #008080; text-decoration-color: #008080; font-weight: bold\">37</span> of Set <span style=\"color: #008080; text-decoration-color: #008080; font-weight: bold\">2</span> | longyearbyen\n",
       "</pre>\n"
      ],
      "text/plain": [
       "Processing Record \u001b[1;36m37\u001b[0m of Set \u001b[1;36m2\u001b[0m | longyearbyen\n"
      ]
     },
     "metadata": {},
     "output_type": "display_data"
    },
    {
     "data": {
      "text/html": [
       "<pre style=\"white-space:pre;overflow-x:auto;line-height:normal;font-family:Menlo,'DejaVu Sans Mono',consolas,'Courier New',monospace\">Processing Record <span style=\"color: #008080; text-decoration-color: #008080; font-weight: bold\">38</span> of Set <span style=\"color: #008080; text-decoration-color: #008080; font-weight: bold\">2</span> | rio grande\n",
       "</pre>\n"
      ],
      "text/plain": [
       "Processing Record \u001b[1;36m38\u001b[0m of Set \u001b[1;36m2\u001b[0m | rio grande\n"
      ]
     },
     "metadata": {},
     "output_type": "display_data"
    },
    {
     "data": {
      "text/html": [
       "<pre style=\"white-space:pre;overflow-x:auto;line-height:normal;font-family:Menlo,'DejaVu Sans Mono',consolas,'Courier New',monospace\">Processing Record <span style=\"color: #008080; text-decoration-color: #008080; font-weight: bold\">39</span> of Set <span style=\"color: #008080; text-decoration-color: #008080; font-weight: bold\">2</span> | likiep\n",
       "</pre>\n"
      ],
      "text/plain": [
       "Processing Record \u001b[1;36m39\u001b[0m of Set \u001b[1;36m2\u001b[0m | likiep\n"
      ]
     },
     "metadata": {},
     "output_type": "display_data"
    },
    {
     "data": {
      "text/html": [
       "<pre style=\"white-space:pre;overflow-x:auto;line-height:normal;font-family:Menlo,'DejaVu Sans Mono',consolas,'Courier New',monospace\">Processing Record <span style=\"color: #008080; text-decoration-color: #008080; font-weight: bold\">40</span> of Set <span style=\"color: #008080; text-decoration-color: #008080; font-weight: bold\">2</span> | udachny\n",
       "</pre>\n"
      ],
      "text/plain": [
       "Processing Record \u001b[1;36m40\u001b[0m of Set \u001b[1;36m2\u001b[0m | udachny\n"
      ]
     },
     "metadata": {},
     "output_type": "display_data"
    },
    {
     "data": {
      "text/html": [
       "<pre style=\"white-space:pre;overflow-x:auto;line-height:normal;font-family:Menlo,'DejaVu Sans Mono',consolas,'Courier New',monospace\">Processing Record <span style=\"color: #008080; text-decoration-color: #008080; font-weight: bold\">41</span> of Set <span style=\"color: #008080; text-decoration-color: #008080; font-weight: bold\">2</span> | ubinskoye\n",
       "</pre>\n"
      ],
      "text/plain": [
       "Processing Record \u001b[1;36m41\u001b[0m of Set \u001b[1;36m2\u001b[0m | ubinskoye\n"
      ]
     },
     "metadata": {},
     "output_type": "display_data"
    },
    {
     "data": {
      "text/html": [
       "<pre style=\"white-space:pre;overflow-x:auto;line-height:normal;font-family:Menlo,'DejaVu Sans Mono',consolas,'Courier New',monospace\">Processing Record <span style=\"color: #008080; text-decoration-color: #008080; font-weight: bold\">42</span> of Set <span style=\"color: #008080; text-decoration-color: #008080; font-weight: bold\">2</span> | ivins\n",
       "</pre>\n"
      ],
      "text/plain": [
       "Processing Record \u001b[1;36m42\u001b[0m of Set \u001b[1;36m2\u001b[0m | ivins\n"
      ]
     },
     "metadata": {},
     "output_type": "display_data"
    },
    {
     "data": {
      "text/html": [
       "<pre style=\"white-space:pre;overflow-x:auto;line-height:normal;font-family:Menlo,'DejaVu Sans Mono',consolas,'Courier New',monospace\">Processing Record <span style=\"color: #008080; text-decoration-color: #008080; font-weight: bold\">43</span> of Set <span style=\"color: #008080; text-decoration-color: #008080; font-weight: bold\">2</span> | praia da vitoria\n",
       "</pre>\n"
      ],
      "text/plain": [
       "Processing Record \u001b[1;36m43\u001b[0m of Set \u001b[1;36m2\u001b[0m | praia da vitoria\n"
      ]
     },
     "metadata": {},
     "output_type": "display_data"
    },
    {
     "data": {
      "text/html": [
       "<pre style=\"white-space:pre;overflow-x:auto;line-height:normal;font-family:Menlo,'DejaVu Sans Mono',consolas,'Courier New',monospace\">Processing Record <span style=\"color: #008080; text-decoration-color: #008080; font-weight: bold\">44</span> of Set <span style=\"color: #008080; text-decoration-color: #008080; font-weight: bold\">2</span> | memphis\n",
       "</pre>\n"
      ],
      "text/plain": [
       "Processing Record \u001b[1;36m44\u001b[0m of Set \u001b[1;36m2\u001b[0m | memphis\n"
      ]
     },
     "metadata": {},
     "output_type": "display_data"
    },
    {
     "data": {
      "text/html": [
       "<pre style=\"white-space:pre;overflow-x:auto;line-height:normal;font-family:Menlo,'DejaVu Sans Mono',consolas,'Courier New',monospace\">Processing Record <span style=\"color: #008080; text-decoration-color: #008080; font-weight: bold\">45</span> of Set <span style=\"color: #008080; text-decoration-color: #008080; font-weight: bold\">2</span> | bilibino\n",
       "</pre>\n"
      ],
      "text/plain": [
       "Processing Record \u001b[1;36m45\u001b[0m of Set \u001b[1;36m2\u001b[0m | bilibino\n"
      ]
     },
     "metadata": {},
     "output_type": "display_data"
    },
    {
     "data": {
      "text/html": [
       "<pre style=\"white-space:pre;overflow-x:auto;line-height:normal;font-family:Menlo,'DejaVu Sans Mono',consolas,'Courier New',monospace\">Processing Record <span style=\"color: #008080; text-decoration-color: #008080; font-weight: bold\">46</span> of Set <span style=\"color: #008080; text-decoration-color: #008080; font-weight: bold\">2</span> | inverell\n",
       "</pre>\n"
      ],
      "text/plain": [
       "Processing Record \u001b[1;36m46\u001b[0m of Set \u001b[1;36m2\u001b[0m | inverell\n"
      ]
     },
     "metadata": {},
     "output_type": "display_data"
    },
    {
     "data": {
      "text/html": [
       "<pre style=\"white-space:pre;overflow-x:auto;line-height:normal;font-family:Menlo,'DejaVu Sans Mono',consolas,'Courier New',monospace\">Processing Record <span style=\"color: #008080; text-decoration-color: #008080; font-weight: bold\">47</span> of Set <span style=\"color: #008080; text-decoration-color: #008080; font-weight: bold\">2</span> | igarka\n",
       "</pre>\n"
      ],
      "text/plain": [
       "Processing Record \u001b[1;36m47\u001b[0m of Set \u001b[1;36m2\u001b[0m | igarka\n"
      ]
     },
     "metadata": {},
     "output_type": "display_data"
    },
    {
     "data": {
      "text/html": [
       "<pre style=\"white-space:pre;overflow-x:auto;line-height:normal;font-family:Menlo,'DejaVu Sans Mono',consolas,'Courier New',monospace\">Processing Record <span style=\"color: #008080; text-decoration-color: #008080; font-weight: bold\">48</span> of Set <span style=\"color: #008080; text-decoration-color: #008080; font-weight: bold\">2</span> | stanley\n",
       "</pre>\n"
      ],
      "text/plain": [
       "Processing Record \u001b[1;36m48\u001b[0m of Set \u001b[1;36m2\u001b[0m | stanley\n"
      ]
     },
     "metadata": {},
     "output_type": "display_data"
    },
    {
     "data": {
      "text/html": [
       "<pre style=\"white-space:pre;overflow-x:auto;line-height:normal;font-family:Menlo,'DejaVu Sans Mono',consolas,'Courier New',monospace\">Processing Record <span style=\"color: #008080; text-decoration-color: #008080; font-weight: bold\">49</span> of Set <span style=\"color: #008080; text-decoration-color: #008080; font-weight: bold\">2</span> | badger\n",
       "</pre>\n"
      ],
      "text/plain": [
       "Processing Record \u001b[1;36m49\u001b[0m of Set \u001b[1;36m2\u001b[0m | badger\n"
      ]
     },
     "metadata": {},
     "output_type": "display_data"
    },
    {
     "data": {
      "text/html": [
       "<pre style=\"white-space:pre;overflow-x:auto;line-height:normal;font-family:Menlo,'DejaVu Sans Mono',consolas,'Courier New',monospace\">Processing Record <span style=\"color: #008080; text-decoration-color: #008080; font-weight: bold\">0</span> of Set <span style=\"color: #008080; text-decoration-color: #008080; font-weight: bold\">3</span> | colac\n",
       "</pre>\n"
      ],
      "text/plain": [
       "Processing Record \u001b[1;36m0\u001b[0m of Set \u001b[1;36m3\u001b[0m | colac\n"
      ]
     },
     "metadata": {},
     "output_type": "display_data"
    },
    {
     "data": {
      "text/html": [
       "<pre style=\"white-space:pre;overflow-x:auto;line-height:normal;font-family:Menlo,'DejaVu Sans Mono',consolas,'Courier New',monospace\">Processing Record <span style=\"color: #008080; text-decoration-color: #008080; font-weight: bold\">1</span> of Set <span style=\"color: #008080; text-decoration-color: #008080; font-weight: bold\">3</span> | orsa\n",
       "</pre>\n"
      ],
      "text/plain": [
       "Processing Record \u001b[1;36m1\u001b[0m of Set \u001b[1;36m3\u001b[0m | orsa\n"
      ]
     },
     "metadata": {},
     "output_type": "display_data"
    },
    {
     "data": {
      "text/html": [
       "<pre style=\"white-space:pre;overflow-x:auto;line-height:normal;font-family:Menlo,'DejaVu Sans Mono',consolas,'Courier New',monospace\">Processing Record <span style=\"color: #008080; text-decoration-color: #008080; font-weight: bold\">2</span> of Set <span style=\"color: #008080; text-decoration-color: #008080; font-weight: bold\">3</span> | labytnangi\n",
       "</pre>\n"
      ],
      "text/plain": [
       "Processing Record \u001b[1;36m2\u001b[0m of Set \u001b[1;36m3\u001b[0m | labytnangi\n"
      ]
     },
     "metadata": {},
     "output_type": "display_data"
    },
    {
     "data": {
      "text/html": [
       "<pre style=\"white-space:pre;overflow-x:auto;line-height:normal;font-family:Menlo,'DejaVu Sans Mono',consolas,'Courier New',monospace\">Processing Record <span style=\"color: #008080; text-decoration-color: #008080; font-weight: bold\">3</span> of Set <span style=\"color: #008080; text-decoration-color: #008080; font-weight: bold\">3</span> | vavuniya\n",
       "</pre>\n"
      ],
      "text/plain": [
       "Processing Record \u001b[1;36m3\u001b[0m of Set \u001b[1;36m3\u001b[0m | vavuniya\n"
      ]
     },
     "metadata": {},
     "output_type": "display_data"
    },
    {
     "data": {
      "text/html": [
       "<pre style=\"white-space:pre;overflow-x:auto;line-height:normal;font-family:Menlo,'DejaVu Sans Mono',consolas,'Courier New',monospace\">Processing Record <span style=\"color: #008080; text-decoration-color: #008080; font-weight: bold\">4</span> of Set <span style=\"color: #008080; text-decoration-color: #008080; font-weight: bold\">3</span> | sitka\n",
       "</pre>\n"
      ],
      "text/plain": [
       "Processing Record \u001b[1;36m4\u001b[0m of Set \u001b[1;36m3\u001b[0m | sitka\n"
      ]
     },
     "metadata": {},
     "output_type": "display_data"
    },
    {
     "data": {
      "text/html": [
       "<pre style=\"white-space:pre;overflow-x:auto;line-height:normal;font-family:Menlo,'DejaVu Sans Mono',consolas,'Courier New',monospace\">Processing Record <span style=\"color: #008080; text-decoration-color: #008080; font-weight: bold\">5</span> of Set <span style=\"color: #008080; text-decoration-color: #008080; font-weight: bold\">3</span> | queenstown\n",
       "</pre>\n"
      ],
      "text/plain": [
       "Processing Record \u001b[1;36m5\u001b[0m of Set \u001b[1;36m3\u001b[0m | queenstown\n"
      ]
     },
     "metadata": {},
     "output_type": "display_data"
    },
    {
     "data": {
      "text/html": [
       "<pre style=\"white-space:pre;overflow-x:auto;line-height:normal;font-family:Menlo,'DejaVu Sans Mono',consolas,'Courier New',monospace\">Processing Record <span style=\"color: #008080; text-decoration-color: #008080; font-weight: bold\">6</span> of Set <span style=\"color: #008080; text-decoration-color: #008080; font-weight: bold\">3</span> | geraldton\n",
       "</pre>\n"
      ],
      "text/plain": [
       "Processing Record \u001b[1;36m6\u001b[0m of Set \u001b[1;36m3\u001b[0m | geraldton\n"
      ]
     },
     "metadata": {},
     "output_type": "display_data"
    },
    {
     "data": {
      "text/html": [
       "<pre style=\"white-space:pre;overflow-x:auto;line-height:normal;font-family:Menlo,'DejaVu Sans Mono',consolas,'Courier New',monospace\">Processing Record <span style=\"color: #008080; text-decoration-color: #008080; font-weight: bold\">7</span> of Set <span style=\"color: #008080; text-decoration-color: #008080; font-weight: bold\">3</span> | saint-pierre\n",
       "</pre>\n"
      ],
      "text/plain": [
       "Processing Record \u001b[1;36m7\u001b[0m of Set \u001b[1;36m3\u001b[0m | saint-pierre\n"
      ]
     },
     "metadata": {},
     "output_type": "display_data"
    },
    {
     "data": {
      "text/html": [
       "<pre style=\"white-space:pre;overflow-x:auto;line-height:normal;font-family:Menlo,'DejaVu Sans Mono',consolas,'Courier New',monospace\">Processing Record <span style=\"color: #008080; text-decoration-color: #008080; font-weight: bold\">8</span> of Set <span style=\"color: #008080; text-decoration-color: #008080; font-weight: bold\">3</span> | st. john's\n",
       "</pre>\n"
      ],
      "text/plain": [
       "Processing Record \u001b[1;36m8\u001b[0m of Set \u001b[1;36m3\u001b[0m | st. john's\n"
      ]
     },
     "metadata": {},
     "output_type": "display_data"
    },
    {
     "data": {
      "text/html": [
       "<pre style=\"white-space:pre;overflow-x:auto;line-height:normal;font-family:Menlo,'DejaVu Sans Mono',consolas,'Courier New',monospace\">Processing Record <span style=\"color: #008080; text-decoration-color: #008080; font-weight: bold\">9</span> of Set <span style=\"color: #008080; text-decoration-color: #008080; font-weight: bold\">3</span> | coxim\n",
       "</pre>\n"
      ],
      "text/plain": [
       "Processing Record \u001b[1;36m9\u001b[0m of Set \u001b[1;36m3\u001b[0m | coxim\n"
      ]
     },
     "metadata": {},
     "output_type": "display_data"
    },
    {
     "data": {
      "text/html": [
       "<pre style=\"white-space:pre;overflow-x:auto;line-height:normal;font-family:Menlo,'DejaVu Sans Mono',consolas,'Courier New',monospace\">Processing Record <span style=\"color: #008080; text-decoration-color: #008080; font-weight: bold\">10</span> of Set <span style=\"color: #008080; text-decoration-color: #008080; font-weight: bold\">3</span> | tralee\n",
       "</pre>\n"
      ],
      "text/plain": [
       "Processing Record \u001b[1;36m10\u001b[0m of Set \u001b[1;36m3\u001b[0m | tralee\n"
      ]
     },
     "metadata": {},
     "output_type": "display_data"
    },
    {
     "data": {
      "text/html": [
       "<pre style=\"white-space:pre;overflow-x:auto;line-height:normal;font-family:Menlo,'DejaVu Sans Mono',consolas,'Courier New',monospace\">Processing Record <span style=\"color: #008080; text-decoration-color: #008080; font-weight: bold\">11</span> of Set <span style=\"color: #008080; text-decoration-color: #008080; font-weight: bold\">3</span> | saint-francois\n",
       "</pre>\n"
      ],
      "text/plain": [
       "Processing Record \u001b[1;36m11\u001b[0m of Set \u001b[1;36m3\u001b[0m | saint-francois\n"
      ]
     },
     "metadata": {},
     "output_type": "display_data"
    },
    {
     "data": {
      "text/html": [
       "<pre style=\"white-space:pre;overflow-x:auto;line-height:normal;font-family:Menlo,'DejaVu Sans Mono',consolas,'Courier New',monospace\">Processing Record <span style=\"color: #008080; text-decoration-color: #008080; font-weight: bold\">12</span> of Set <span style=\"color: #008080; text-decoration-color: #008080; font-weight: bold\">3</span> | talnakh\n",
       "</pre>\n"
      ],
      "text/plain": [
       "Processing Record \u001b[1;36m12\u001b[0m of Set \u001b[1;36m3\u001b[0m | talnakh\n"
      ]
     },
     "metadata": {},
     "output_type": "display_data"
    },
    {
     "data": {
      "text/html": [
       "<pre style=\"white-space:pre;overflow-x:auto;line-height:normal;font-family:Menlo,'DejaVu Sans Mono',consolas,'Courier New',monospace\">Processing Record <span style=\"color: #008080; text-decoration-color: #008080; font-weight: bold\">13</span> of Set <span style=\"color: #008080; text-decoration-color: #008080; font-weight: bold\">3</span> | yuzhno-kurilsk\n",
       "</pre>\n"
      ],
      "text/plain": [
       "Processing Record \u001b[1;36m13\u001b[0m of Set \u001b[1;36m3\u001b[0m | yuzhno-kurilsk\n"
      ]
     },
     "metadata": {},
     "output_type": "display_data"
    },
    {
     "data": {
      "text/html": [
       "<pre style=\"white-space:pre;overflow-x:auto;line-height:normal;font-family:Menlo,'DejaVu Sans Mono',consolas,'Courier New',monospace\">Processing Record <span style=\"color: #008080; text-decoration-color: #008080; font-weight: bold\">14</span> of Set <span style=\"color: #008080; text-decoration-color: #008080; font-weight: bold\">3</span> | west island\n",
       "</pre>\n"
      ],
      "text/plain": [
       "Processing Record \u001b[1;36m14\u001b[0m of Set \u001b[1;36m3\u001b[0m | west island\n"
      ]
     },
     "metadata": {},
     "output_type": "display_data"
    },
    {
     "data": {
      "text/html": [
       "<pre style=\"white-space:pre;overflow-x:auto;line-height:normal;font-family:Menlo,'DejaVu Sans Mono',consolas,'Courier New',monospace\">Processing Record <span style=\"color: #008080; text-decoration-color: #008080; font-weight: bold\">15</span> of Set <span style=\"color: #008080; text-decoration-color: #008080; font-weight: bold\">3</span> | margaret river\n",
       "</pre>\n"
      ],
      "text/plain": [
       "Processing Record \u001b[1;36m15\u001b[0m of Set \u001b[1;36m3\u001b[0m | margaret river\n"
      ]
     },
     "metadata": {},
     "output_type": "display_data"
    },
    {
     "data": {
      "text/html": [
       "<pre style=\"white-space:pre;overflow-x:auto;line-height:normal;font-family:Menlo,'DejaVu Sans Mono',consolas,'Courier New',monospace\">Processing Record <span style=\"color: #008080; text-decoration-color: #008080; font-weight: bold\">16</span> of Set <span style=\"color: #008080; text-decoration-color: #008080; font-weight: bold\">3</span> | ataq\n",
       "</pre>\n"
      ],
      "text/plain": [
       "Processing Record \u001b[1;36m16\u001b[0m of Set \u001b[1;36m3\u001b[0m | ataq\n"
      ]
     },
     "metadata": {},
     "output_type": "display_data"
    },
    {
     "data": {
      "text/html": [
       "<pre style=\"white-space:pre;overflow-x:auto;line-height:normal;font-family:Menlo,'DejaVu Sans Mono',consolas,'Courier New',monospace\">Processing Record <span style=\"color: #008080; text-decoration-color: #008080; font-weight: bold\">17</span> of Set <span style=\"color: #008080; text-decoration-color: #008080; font-weight: bold\">3</span> | san gabriel\n",
       "</pre>\n"
      ],
      "text/plain": [
       "Processing Record \u001b[1;36m17\u001b[0m of Set \u001b[1;36m3\u001b[0m | san gabriel\n"
      ]
     },
     "metadata": {},
     "output_type": "display_data"
    },
    {
     "data": {
      "text/html": [
       "<pre style=\"white-space:pre;overflow-x:auto;line-height:normal;font-family:Menlo,'DejaVu Sans Mono',consolas,'Courier New',monospace\">Processing Record <span style=\"color: #008080; text-decoration-color: #008080; font-weight: bold\">18</span> of Set <span style=\"color: #008080; text-decoration-color: #008080; font-weight: bold\">3</span> | constantia\n",
       "</pre>\n"
      ],
      "text/plain": [
       "Processing Record \u001b[1;36m18\u001b[0m of Set \u001b[1;36m3\u001b[0m | constantia\n"
      ]
     },
     "metadata": {},
     "output_type": "display_data"
    },
    {
     "data": {
      "text/html": [
       "<pre style=\"white-space:pre;overflow-x:auto;line-height:normal;font-family:Menlo,'DejaVu Sans Mono',consolas,'Courier New',monospace\">Processing Record <span style=\"color: #008080; text-decoration-color: #008080; font-weight: bold\">19</span> of Set <span style=\"color: #008080; text-decoration-color: #008080; font-weight: bold\">3</span> | aasiaat\n",
       "</pre>\n"
      ],
      "text/plain": [
       "Processing Record \u001b[1;36m19\u001b[0m of Set \u001b[1;36m3\u001b[0m | aasiaat\n"
      ]
     },
     "metadata": {},
     "output_type": "display_data"
    },
    {
     "data": {
      "text/html": [
       "<pre style=\"white-space:pre;overflow-x:auto;line-height:normal;font-family:Menlo,'DejaVu Sans Mono',consolas,'Courier New',monospace\">Processing Record <span style=\"color: #008080; text-decoration-color: #008080; font-weight: bold\">20</span> of Set <span style=\"color: #008080; text-decoration-color: #008080; font-weight: bold\">3</span> | college\n",
       "</pre>\n"
      ],
      "text/plain": [
       "Processing Record \u001b[1;36m20\u001b[0m of Set \u001b[1;36m3\u001b[0m | college\n"
      ]
     },
     "metadata": {},
     "output_type": "display_data"
    },
    {
     "data": {
      "text/html": [
       "<pre style=\"white-space:pre;overflow-x:auto;line-height:normal;font-family:Menlo,'DejaVu Sans Mono',consolas,'Courier New',monospace\">Processing Record <span style=\"color: #008080; text-decoration-color: #008080; font-weight: bold\">21</span> of Set <span style=\"color: #008080; text-decoration-color: #008080; font-weight: bold\">3</span> | qaqortoq\n",
       "</pre>\n"
      ],
      "text/plain": [
       "Processing Record \u001b[1;36m21\u001b[0m of Set \u001b[1;36m3\u001b[0m | qaqortoq\n"
      ]
     },
     "metadata": {},
     "output_type": "display_data"
    },
    {
     "data": {
      "text/html": [
       "<pre style=\"white-space:pre;overflow-x:auto;line-height:normal;font-family:Menlo,'DejaVu Sans Mono',consolas,'Courier New',monospace\">Processing Record <span style=\"color: #008080; text-decoration-color: #008080; font-weight: bold\">22</span> of Set <span style=\"color: #008080; text-decoration-color: #008080; font-weight: bold\">3</span> | polyarnyy\n",
       "</pre>\n"
      ],
      "text/plain": [
       "Processing Record \u001b[1;36m22\u001b[0m of Set \u001b[1;36m3\u001b[0m | polyarnyy\n"
      ]
     },
     "metadata": {},
     "output_type": "display_data"
    },
    {
     "data": {
      "text/html": [
       "<pre style=\"white-space:pre;overflow-x:auto;line-height:normal;font-family:Menlo,'DejaVu Sans Mono',consolas,'Courier New',monospace\">Processing Record <span style=\"color: #008080; text-decoration-color: #008080; font-weight: bold\">23</span> of Set <span style=\"color: #008080; text-decoration-color: #008080; font-weight: bold\">3</span> | mina clavero\n",
       "</pre>\n"
      ],
      "text/plain": [
       "Processing Record \u001b[1;36m23\u001b[0m of Set \u001b[1;36m3\u001b[0m | mina clavero\n"
      ]
     },
     "metadata": {},
     "output_type": "display_data"
    },
    {
     "data": {
      "text/html": [
       "<pre style=\"white-space:pre;overflow-x:auto;line-height:normal;font-family:Menlo,'DejaVu Sans Mono',consolas,'Courier New',monospace\">Processing Record <span style=\"color: #008080; text-decoration-color: #008080; font-weight: bold\">24</span> of Set <span style=\"color: #008080; text-decoration-color: #008080; font-weight: bold\">3</span> | kpandu\n",
       "</pre>\n"
      ],
      "text/plain": [
       "Processing Record \u001b[1;36m24\u001b[0m of Set \u001b[1;36m3\u001b[0m | kpandu\n"
      ]
     },
     "metadata": {},
     "output_type": "display_data"
    },
    {
     "data": {
      "text/html": [
       "<pre style=\"white-space:pre;overflow-x:auto;line-height:normal;font-family:Menlo,'DejaVu Sans Mono',consolas,'Courier New',monospace\">Processing Record <span style=\"color: #008080; text-decoration-color: #008080; font-weight: bold\">25</span> of Set <span style=\"color: #008080; text-decoration-color: #008080; font-weight: bold\">3</span> | coahuayana de hidalgo\n",
       "</pre>\n"
      ],
      "text/plain": [
       "Processing Record \u001b[1;36m25\u001b[0m of Set \u001b[1;36m3\u001b[0m | coahuayana de hidalgo\n"
      ]
     },
     "metadata": {},
     "output_type": "display_data"
    },
    {
     "data": {
      "text/html": [
       "<pre style=\"white-space:pre;overflow-x:auto;line-height:normal;font-family:Menlo,'DejaVu Sans Mono',consolas,'Courier New',monospace\">Processing Record <span style=\"color: #008080; text-decoration-color: #008080; font-weight: bold\">26</span> of Set <span style=\"color: #008080; text-decoration-color: #008080; font-weight: bold\">3</span> | tual\n",
       "</pre>\n"
      ],
      "text/plain": [
       "Processing Record \u001b[1;36m26\u001b[0m of Set \u001b[1;36m3\u001b[0m | tual\n"
      ]
     },
     "metadata": {},
     "output_type": "display_data"
    },
    {
     "data": {
      "text/html": [
       "<pre style=\"white-space:pre;overflow-x:auto;line-height:normal;font-family:Menlo,'DejaVu Sans Mono',consolas,'Courier New',monospace\">Processing Record <span style=\"color: #008080; text-decoration-color: #008080; font-weight: bold\">27</span> of Set <span style=\"color: #008080; text-decoration-color: #008080; font-weight: bold\">3</span> | taoudenni\n",
       "</pre>\n"
      ],
      "text/plain": [
       "Processing Record \u001b[1;36m27\u001b[0m of Set \u001b[1;36m3\u001b[0m | taoudenni\n"
      ]
     },
     "metadata": {},
     "output_type": "display_data"
    },
    {
     "data": {
      "text/html": [
       "<pre style=\"white-space:pre;overflow-x:auto;line-height:normal;font-family:Menlo,'DejaVu Sans Mono',consolas,'Courier New',monospace\">Processing Record <span style=\"color: #008080; text-decoration-color: #008080; font-weight: bold\">28</span> of Set <span style=\"color: #008080; text-decoration-color: #008080; font-weight: bold\">3</span> | korla\n",
       "</pre>\n"
      ],
      "text/plain": [
       "Processing Record \u001b[1;36m28\u001b[0m of Set \u001b[1;36m3\u001b[0m | korla\n"
      ]
     },
     "metadata": {},
     "output_type": "display_data"
    },
    {
     "data": {
      "text/html": [
       "<pre style=\"white-space:pre;overflow-x:auto;line-height:normal;font-family:Menlo,'DejaVu Sans Mono',consolas,'Courier New',monospace\">Processing Record <span style=\"color: #008080; text-decoration-color: #008080; font-weight: bold\">29</span> of Set <span style=\"color: #008080; text-decoration-color: #008080; font-weight: bold\">3</span> | papatowai\n",
       "</pre>\n"
      ],
      "text/plain": [
       "Processing Record \u001b[1;36m29\u001b[0m of Set \u001b[1;36m3\u001b[0m | papatowai\n"
      ]
     },
     "metadata": {},
     "output_type": "display_data"
    },
    {
     "data": {
      "text/html": [
       "<pre style=\"white-space:pre;overflow-x:auto;line-height:normal;font-family:Menlo,'DejaVu Sans Mono',consolas,'Courier New',monospace\">Processing Record <span style=\"color: #008080; text-decoration-color: #008080; font-weight: bold\">30</span> of Set <span style=\"color: #008080; text-decoration-color: #008080; font-weight: bold\">3</span> | avarua\n",
       "</pre>\n"
      ],
      "text/plain": [
       "Processing Record \u001b[1;36m30\u001b[0m of Set \u001b[1;36m3\u001b[0m | avarua\n"
      ]
     },
     "metadata": {},
     "output_type": "display_data"
    },
    {
     "data": {
      "text/html": [
       "<pre style=\"white-space:pre;overflow-x:auto;line-height:normal;font-family:Menlo,'DejaVu Sans Mono',consolas,'Courier New',monospace\">Processing Record <span style=\"color: #008080; text-decoration-color: #008080; font-weight: bold\">31</span> of Set <span style=\"color: #008080; text-decoration-color: #008080; font-weight: bold\">3</span> | el daein\n",
       "</pre>\n"
      ],
      "text/plain": [
       "Processing Record \u001b[1;36m31\u001b[0m of Set \u001b[1;36m3\u001b[0m | el daein\n"
      ]
     },
     "metadata": {},
     "output_type": "display_data"
    },
    {
     "data": {
      "text/html": [
       "<pre style=\"white-space:pre;overflow-x:auto;line-height:normal;font-family:Menlo,'DejaVu Sans Mono',consolas,'Courier New',monospace\">City not found. Skipping<span style=\"color: #808000; text-decoration-color: #808000\">...</span>\n",
       "</pre>\n"
      ],
      "text/plain": [
       "City not found. Skipping\u001b[33m...\u001b[0m\n"
      ]
     },
     "metadata": {},
     "output_type": "display_data"
    },
    {
     "data": {
      "text/html": [
       "<pre style=\"white-space:pre;overflow-x:auto;line-height:normal;font-family:Menlo,'DejaVu Sans Mono',consolas,'Courier New',monospace\">Processing Record <span style=\"color: #008080; text-decoration-color: #008080; font-weight: bold\">32</span> of Set <span style=\"color: #008080; text-decoration-color: #008080; font-weight: bold\">3</span> | wytheville\n",
       "</pre>\n"
      ],
      "text/plain": [
       "Processing Record \u001b[1;36m32\u001b[0m of Set \u001b[1;36m3\u001b[0m | wytheville\n"
      ]
     },
     "metadata": {},
     "output_type": "display_data"
    },
    {
     "data": {
      "text/html": [
       "<pre style=\"white-space:pre;overflow-x:auto;line-height:normal;font-family:Menlo,'DejaVu Sans Mono',consolas,'Courier New',monospace\">Processing Record <span style=\"color: #008080; text-decoration-color: #008080; font-weight: bold\">33</span> of Set <span style=\"color: #008080; text-decoration-color: #008080; font-weight: bold\">3</span> | fale old settlement\n",
       "</pre>\n"
      ],
      "text/plain": [
       "Processing Record \u001b[1;36m33\u001b[0m of Set \u001b[1;36m3\u001b[0m | fale old settlement\n"
      ]
     },
     "metadata": {},
     "output_type": "display_data"
    },
    {
     "data": {
      "text/html": [
       "<pre style=\"white-space:pre;overflow-x:auto;line-height:normal;font-family:Menlo,'DejaVu Sans Mono',consolas,'Courier New',monospace\">Processing Record <span style=\"color: #008080; text-decoration-color: #008080; font-weight: bold\">34</span> of Set <span style=\"color: #008080; text-decoration-color: #008080; font-weight: bold\">3</span> | katsuren-haebaru\n",
       "</pre>\n"
      ],
      "text/plain": [
       "Processing Record \u001b[1;36m34\u001b[0m of Set \u001b[1;36m3\u001b[0m | katsuren-haebaru\n"
      ]
     },
     "metadata": {},
     "output_type": "display_data"
    },
    {
     "data": {
      "text/html": [
       "<pre style=\"white-space:pre;overflow-x:auto;line-height:normal;font-family:Menlo,'DejaVu Sans Mono',consolas,'Courier New',monospace\">Processing Record <span style=\"color: #008080; text-decoration-color: #008080; font-weight: bold\">35</span> of Set <span style=\"color: #008080; text-decoration-color: #008080; font-weight: bold\">3</span> | vicente guerrero\n",
       "</pre>\n"
      ],
      "text/plain": [
       "Processing Record \u001b[1;36m35\u001b[0m of Set \u001b[1;36m3\u001b[0m | vicente guerrero\n"
      ]
     },
     "metadata": {},
     "output_type": "display_data"
    },
    {
     "data": {
      "text/html": [
       "<pre style=\"white-space:pre;overflow-x:auto;line-height:normal;font-family:Menlo,'DejaVu Sans Mono',consolas,'Courier New',monospace\">Processing Record <span style=\"color: #008080; text-decoration-color: #008080; font-weight: bold\">36</span> of Set <span style=\"color: #008080; text-decoration-color: #008080; font-weight: bold\">3</span> | bodaybo\n",
       "</pre>\n"
      ],
      "text/plain": [
       "Processing Record \u001b[1;36m36\u001b[0m of Set \u001b[1;36m3\u001b[0m | bodaybo\n"
      ]
     },
     "metadata": {},
     "output_type": "display_data"
    },
    {
     "data": {
      "text/html": [
       "<pre style=\"white-space:pre;overflow-x:auto;line-height:normal;font-family:Menlo,'DejaVu Sans Mono',consolas,'Courier New',monospace\">Processing Record <span style=\"color: #008080; text-decoration-color: #008080; font-weight: bold\">37</span> of Set <span style=\"color: #008080; text-decoration-color: #008080; font-weight: bold\">3</span> | ndjole\n",
       "</pre>\n"
      ],
      "text/plain": [
       "Processing Record \u001b[1;36m37\u001b[0m of Set \u001b[1;36m3\u001b[0m | ndjole\n"
      ]
     },
     "metadata": {},
     "output_type": "display_data"
    },
    {
     "data": {
      "text/html": [
       "<pre style=\"white-space:pre;overflow-x:auto;line-height:normal;font-family:Menlo,'DejaVu Sans Mono',consolas,'Courier New',monospace\">Processing Record <span style=\"color: #008080; text-decoration-color: #008080; font-weight: bold\">38</span> of Set <span style=\"color: #008080; text-decoration-color: #008080; font-weight: bold\">3</span> | iaciara\n",
       "</pre>\n"
      ],
      "text/plain": [
       "Processing Record \u001b[1;36m38\u001b[0m of Set \u001b[1;36m3\u001b[0m | iaciara\n"
      ]
     },
     "metadata": {},
     "output_type": "display_data"
    },
    {
     "data": {
      "text/html": [
       "<pre style=\"white-space:pre;overflow-x:auto;line-height:normal;font-family:Menlo,'DejaVu Sans Mono',consolas,'Courier New',monospace\">Processing Record <span style=\"color: #008080; text-decoration-color: #008080; font-weight: bold\">39</span> of Set <span style=\"color: #008080; text-decoration-color: #008080; font-weight: bold\">3</span> | vilyuchinsk\n",
       "</pre>\n"
      ],
      "text/plain": [
       "Processing Record \u001b[1;36m39\u001b[0m of Set \u001b[1;36m3\u001b[0m | vilyuchinsk\n"
      ]
     },
     "metadata": {},
     "output_type": "display_data"
    },
    {
     "data": {
      "text/html": [
       "<pre style=\"white-space:pre;overflow-x:auto;line-height:normal;font-family:Menlo,'DejaVu Sans Mono',consolas,'Courier New',monospace\">Processing Record <span style=\"color: #008080; text-decoration-color: #008080; font-weight: bold\">40</span> of Set <span style=\"color: #008080; text-decoration-color: #008080; font-weight: bold\">3</span> | 'ohonua\n",
       "</pre>\n"
      ],
      "text/plain": [
       "Processing Record \u001b[1;36m40\u001b[0m of Set \u001b[1;36m3\u001b[0m | 'ohonua\n"
      ]
     },
     "metadata": {},
     "output_type": "display_data"
    },
    {
     "data": {
      "text/html": [
       "<pre style=\"white-space:pre;overflow-x:auto;line-height:normal;font-family:Menlo,'DejaVu Sans Mono',consolas,'Courier New',monospace\">City not found. Skipping<span style=\"color: #808000; text-decoration-color: #808000\">...</span>\n",
       "</pre>\n"
      ],
      "text/plain": [
       "City not found. Skipping\u001b[33m...\u001b[0m\n"
      ]
     },
     "metadata": {},
     "output_type": "display_data"
    },
    {
     "data": {
      "text/html": [
       "<pre style=\"white-space:pre;overflow-x:auto;line-height:normal;font-family:Menlo,'DejaVu Sans Mono',consolas,'Courier New',monospace\">Processing Record <span style=\"color: #008080; text-decoration-color: #008080; font-weight: bold\">41</span> of Set <span style=\"color: #008080; text-decoration-color: #008080; font-weight: bold\">3</span> | hun\n",
       "</pre>\n"
      ],
      "text/plain": [
       "Processing Record \u001b[1;36m41\u001b[0m of Set \u001b[1;36m3\u001b[0m | hun\n"
      ]
     },
     "metadata": {},
     "output_type": "display_data"
    },
    {
     "data": {
      "text/html": [
       "<pre style=\"white-space:pre;overflow-x:auto;line-height:normal;font-family:Menlo,'DejaVu Sans Mono',consolas,'Courier New',monospace\">Processing Record <span style=\"color: #008080; text-decoration-color: #008080; font-weight: bold\">42</span> of Set <span style=\"color: #008080; text-decoration-color: #008080; font-weight: bold\">3</span> | saksaul'skiy\n",
       "</pre>\n"
      ],
      "text/plain": [
       "Processing Record \u001b[1;36m42\u001b[0m of Set \u001b[1;36m3\u001b[0m | saksaul'skiy\n"
      ]
     },
     "metadata": {},
     "output_type": "display_data"
    },
    {
     "data": {
      "text/html": [
       "<pre style=\"white-space:pre;overflow-x:auto;line-height:normal;font-family:Menlo,'DejaVu Sans Mono',consolas,'Courier New',monospace\">City not found. Skipping<span style=\"color: #808000; text-decoration-color: #808000\">...</span>\n",
       "</pre>\n"
      ],
      "text/plain": [
       "City not found. Skipping\u001b[33m...\u001b[0m\n"
      ]
     },
     "metadata": {},
     "output_type": "display_data"
    },
    {
     "data": {
      "text/html": [
       "<pre style=\"white-space:pre;overflow-x:auto;line-height:normal;font-family:Menlo,'DejaVu Sans Mono',consolas,'Courier New',monospace\">Processing Record <span style=\"color: #008080; text-decoration-color: #008080; font-weight: bold\">43</span> of Set <span style=\"color: #008080; text-decoration-color: #008080; font-weight: bold\">3</span> | hermanus\n",
       "</pre>\n"
      ],
      "text/plain": [
       "Processing Record \u001b[1;36m43\u001b[0m of Set \u001b[1;36m3\u001b[0m | hermanus\n"
      ]
     },
     "metadata": {},
     "output_type": "display_data"
    },
    {
     "data": {
      "text/html": [
       "<pre style=\"white-space:pre;overflow-x:auto;line-height:normal;font-family:Menlo,'DejaVu Sans Mono',consolas,'Courier New',monospace\">Processing Record <span style=\"color: #008080; text-decoration-color: #008080; font-weight: bold\">44</span> of Set <span style=\"color: #008080; text-decoration-color: #008080; font-weight: bold\">3</span> | fortuna\n",
       "</pre>\n"
      ],
      "text/plain": [
       "Processing Record \u001b[1;36m44\u001b[0m of Set \u001b[1;36m3\u001b[0m | fortuna\n"
      ]
     },
     "metadata": {},
     "output_type": "display_data"
    },
    {
     "data": {
      "text/html": [
       "<pre style=\"white-space:pre;overflow-x:auto;line-height:normal;font-family:Menlo,'DejaVu Sans Mono',consolas,'Courier New',monospace\">Processing Record <span style=\"color: #008080; text-decoration-color: #008080; font-weight: bold\">45</span> of Set <span style=\"color: #008080; text-decoration-color: #008080; font-weight: bold\">3</span> | luganville\n",
       "</pre>\n"
      ],
      "text/plain": [
       "Processing Record \u001b[1;36m45\u001b[0m of Set \u001b[1;36m3\u001b[0m | luganville\n"
      ]
     },
     "metadata": {},
     "output_type": "display_data"
    },
    {
     "data": {
      "text/html": [
       "<pre style=\"white-space:pre;overflow-x:auto;line-height:normal;font-family:Menlo,'DejaVu Sans Mono',consolas,'Courier New',monospace\">Processing Record <span style=\"color: #008080; text-decoration-color: #008080; font-weight: bold\">46</span> of Set <span style=\"color: #008080; text-decoration-color: #008080; font-weight: bold\">3</span> | kalispell\n",
       "</pre>\n"
      ],
      "text/plain": [
       "Processing Record \u001b[1;36m46\u001b[0m of Set \u001b[1;36m3\u001b[0m | kalispell\n"
      ]
     },
     "metadata": {},
     "output_type": "display_data"
    },
    {
     "data": {
      "text/html": [
       "<pre style=\"white-space:pre;overflow-x:auto;line-height:normal;font-family:Menlo,'DejaVu Sans Mono',consolas,'Courier New',monospace\">Processing Record <span style=\"color: #008080; text-decoration-color: #008080; font-weight: bold\">47</span> of Set <span style=\"color: #008080; text-decoration-color: #008080; font-weight: bold\">3</span> | porto novo\n",
       "</pre>\n"
      ],
      "text/plain": [
       "Processing Record \u001b[1;36m47\u001b[0m of Set \u001b[1;36m3\u001b[0m | porto novo\n"
      ]
     },
     "metadata": {},
     "output_type": "display_data"
    },
    {
     "data": {
      "text/html": [
       "<pre style=\"white-space:pre;overflow-x:auto;line-height:normal;font-family:Menlo,'DejaVu Sans Mono',consolas,'Courier New',monospace\">Processing Record <span style=\"color: #008080; text-decoration-color: #008080; font-weight: bold\">48</span> of Set <span style=\"color: #008080; text-decoration-color: #008080; font-weight: bold\">3</span> | mejit\n",
       "</pre>\n"
      ],
      "text/plain": [
       "Processing Record \u001b[1;36m48\u001b[0m of Set \u001b[1;36m3\u001b[0m | mejit\n"
      ]
     },
     "metadata": {},
     "output_type": "display_data"
    },
    {
     "data": {
      "text/html": [
       "<pre style=\"white-space:pre;overflow-x:auto;line-height:normal;font-family:Menlo,'DejaVu Sans Mono',consolas,'Courier New',monospace\">Processing Record <span style=\"color: #008080; text-decoration-color: #008080; font-weight: bold\">49</span> of Set <span style=\"color: #008080; text-decoration-color: #008080; font-weight: bold\">3</span> | deder\n",
       "</pre>\n"
      ],
      "text/plain": [
       "Processing Record \u001b[1;36m49\u001b[0m of Set \u001b[1;36m3\u001b[0m | deder\n"
      ]
     },
     "metadata": {},
     "output_type": "display_data"
    },
    {
     "data": {
      "text/html": [
       "<pre style=\"white-space:pre;overflow-x:auto;line-height:normal;font-family:Menlo,'DejaVu Sans Mono',consolas,'Courier New',monospace\">Processing Record <span style=\"color: #008080; text-decoration-color: #008080; font-weight: bold\">0</span> of Set <span style=\"color: #008080; text-decoration-color: #008080; font-weight: bold\">4</span> | bolu\n",
       "</pre>\n"
      ],
      "text/plain": [
       "Processing Record \u001b[1;36m0\u001b[0m of Set \u001b[1;36m4\u001b[0m | bolu\n"
      ]
     },
     "metadata": {},
     "output_type": "display_data"
    },
    {
     "data": {
      "text/html": [
       "<pre style=\"white-space:pre;overflow-x:auto;line-height:normal;font-family:Menlo,'DejaVu Sans Mono',consolas,'Courier New',monospace\">Processing Record <span style=\"color: #008080; text-decoration-color: #008080; font-weight: bold\">1</span> of Set <span style=\"color: #008080; text-decoration-color: #008080; font-weight: bold\">4</span> | happy valley-goose bay\n",
       "</pre>\n"
      ],
      "text/plain": [
       "Processing Record \u001b[1;36m1\u001b[0m of Set \u001b[1;36m4\u001b[0m | happy valley-goose bay\n"
      ]
     },
     "metadata": {},
     "output_type": "display_data"
    },
    {
     "data": {
      "text/html": [
       "<pre style=\"white-space:pre;overflow-x:auto;line-height:normal;font-family:Menlo,'DejaVu Sans Mono',consolas,'Courier New',monospace\">Processing Record <span style=\"color: #008080; text-decoration-color: #008080; font-weight: bold\">2</span> of Set <span style=\"color: #008080; text-decoration-color: #008080; font-weight: bold\">4</span> | manaure\n",
       "</pre>\n"
      ],
      "text/plain": [
       "Processing Record \u001b[1;36m2\u001b[0m of Set \u001b[1;36m4\u001b[0m | manaure\n"
      ]
     },
     "metadata": {},
     "output_type": "display_data"
    },
    {
     "data": {
      "text/html": [
       "<pre style=\"white-space:pre;overflow-x:auto;line-height:normal;font-family:Menlo,'DejaVu Sans Mono',consolas,'Courier New',monospace\">Processing Record <span style=\"color: #008080; text-decoration-color: #008080; font-weight: bold\">3</span> of Set <span style=\"color: #008080; text-decoration-color: #008080; font-weight: bold\">4</span> | cururupu\n",
       "</pre>\n"
      ],
      "text/plain": [
       "Processing Record \u001b[1;36m3\u001b[0m of Set \u001b[1;36m4\u001b[0m | cururupu\n"
      ]
     },
     "metadata": {},
     "output_type": "display_data"
    },
    {
     "data": {
      "text/html": [
       "<pre style=\"white-space:pre;overflow-x:auto;line-height:normal;font-family:Menlo,'DejaVu Sans Mono',consolas,'Courier New',monospace\">Processing Record <span style=\"color: #008080; text-decoration-color: #008080; font-weight: bold\">4</span> of Set <span style=\"color: #008080; text-decoration-color: #008080; font-weight: bold\">4</span> | mukalla\n",
       "</pre>\n"
      ],
      "text/plain": [
       "Processing Record \u001b[1;36m4\u001b[0m of Set \u001b[1;36m4\u001b[0m | mukalla\n"
      ]
     },
     "metadata": {},
     "output_type": "display_data"
    },
    {
     "data": {
      "text/html": [
       "<pre style=\"white-space:pre;overflow-x:auto;line-height:normal;font-family:Menlo,'DejaVu Sans Mono',consolas,'Courier New',monospace\">Processing Record <span style=\"color: #008080; text-decoration-color: #008080; font-weight: bold\">5</span> of Set <span style=\"color: #008080; text-decoration-color: #008080; font-weight: bold\">4</span> | opuwo\n",
       "</pre>\n"
      ],
      "text/plain": [
       "Processing Record \u001b[1;36m5\u001b[0m of Set \u001b[1;36m4\u001b[0m | opuwo\n"
      ]
     },
     "metadata": {},
     "output_type": "display_data"
    },
    {
     "data": {
      "text/html": [
       "<pre style=\"white-space:pre;overflow-x:auto;line-height:normal;font-family:Menlo,'DejaVu Sans Mono',consolas,'Courier New',monospace\">Processing Record <span style=\"color: #008080; text-decoration-color: #008080; font-weight: bold\">6</span> of Set <span style=\"color: #008080; text-decoration-color: #008080; font-weight: bold\">4</span> | anadyr\n",
       "</pre>\n"
      ],
      "text/plain": [
       "Processing Record \u001b[1;36m6\u001b[0m of Set \u001b[1;36m4\u001b[0m | anadyr\n"
      ]
     },
     "metadata": {},
     "output_type": "display_data"
    },
    {
     "data": {
      "text/html": [
       "<pre style=\"white-space:pre;overflow-x:auto;line-height:normal;font-family:Menlo,'DejaVu Sans Mono',consolas,'Courier New',monospace\">Processing Record <span style=\"color: #008080; text-decoration-color: #008080; font-weight: bold\">7</span> of Set <span style=\"color: #008080; text-decoration-color: #008080; font-weight: bold\">4</span> | malanje\n",
       "</pre>\n"
      ],
      "text/plain": [
       "Processing Record \u001b[1;36m7\u001b[0m of Set \u001b[1;36m4\u001b[0m | malanje\n"
      ]
     },
     "metadata": {},
     "output_type": "display_data"
    },
    {
     "data": {
      "text/html": [
       "<pre style=\"white-space:pre;overflow-x:auto;line-height:normal;font-family:Menlo,'DejaVu Sans Mono',consolas,'Courier New',monospace\">Processing Record <span style=\"color: #008080; text-decoration-color: #008080; font-weight: bold\">8</span> of Set <span style=\"color: #008080; text-decoration-color: #008080; font-weight: bold\">4</span> | uturoa\n",
       "</pre>\n"
      ],
      "text/plain": [
       "Processing Record \u001b[1;36m8\u001b[0m of Set \u001b[1;36m4\u001b[0m | uturoa\n"
      ]
     },
     "metadata": {},
     "output_type": "display_data"
    },
    {
     "data": {
      "text/html": [
       "<pre style=\"white-space:pre;overflow-x:auto;line-height:normal;font-family:Menlo,'DejaVu Sans Mono',consolas,'Courier New',monospace\">Processing Record <span style=\"color: #008080; text-decoration-color: #008080; font-weight: bold\">9</span> of Set <span style=\"color: #008080; text-decoration-color: #008080; font-weight: bold\">4</span> | al khawr\n",
       "</pre>\n"
      ],
      "text/plain": [
       "Processing Record \u001b[1;36m9\u001b[0m of Set \u001b[1;36m4\u001b[0m | al khawr\n"
      ]
     },
     "metadata": {},
     "output_type": "display_data"
    },
    {
     "data": {
      "text/html": [
       "<pre style=\"white-space:pre;overflow-x:auto;line-height:normal;font-family:Menlo,'DejaVu Sans Mono',consolas,'Courier New',monospace\">Processing Record <span style=\"color: #008080; text-decoration-color: #008080; font-weight: bold\">10</span> of Set <span style=\"color: #008080; text-decoration-color: #008080; font-weight: bold\">4</span> | ilulissat\n",
       "</pre>\n"
      ],
      "text/plain": [
       "Processing Record \u001b[1;36m10\u001b[0m of Set \u001b[1;36m4\u001b[0m | ilulissat\n"
      ]
     },
     "metadata": {},
     "output_type": "display_data"
    },
    {
     "data": {
      "text/html": [
       "<pre style=\"white-space:pre;overflow-x:auto;line-height:normal;font-family:Menlo,'DejaVu Sans Mono',consolas,'Courier New',monospace\">Processing Record <span style=\"color: #008080; text-decoration-color: #008080; font-weight: bold\">11</span> of Set <span style=\"color: #008080; text-decoration-color: #008080; font-weight: bold\">4</span> | santa cruz\n",
       "</pre>\n"
      ],
      "text/plain": [
       "Processing Record \u001b[1;36m11\u001b[0m of Set \u001b[1;36m4\u001b[0m | santa cruz\n"
      ]
     },
     "metadata": {},
     "output_type": "display_data"
    },
    {
     "data": {
      "text/html": [
       "<pre style=\"white-space:pre;overflow-x:auto;line-height:normal;font-family:Menlo,'DejaVu Sans Mono',consolas,'Courier New',monospace\">Processing Record <span style=\"color: #008080; text-decoration-color: #008080; font-weight: bold\">12</span> of Set <span style=\"color: #008080; text-decoration-color: #008080; font-weight: bold\">4</span> | whitehorse\n",
       "</pre>\n"
      ],
      "text/plain": [
       "Processing Record \u001b[1;36m12\u001b[0m of Set \u001b[1;36m4\u001b[0m | whitehorse\n"
      ]
     },
     "metadata": {},
     "output_type": "display_data"
    },
    {
     "data": {
      "text/html": [
       "<pre style=\"white-space:pre;overflow-x:auto;line-height:normal;font-family:Menlo,'DejaVu Sans Mono',consolas,'Courier New',monospace\">Processing Record <span style=\"color: #008080; text-decoration-color: #008080; font-weight: bold\">13</span> of Set <span style=\"color: #008080; text-decoration-color: #008080; font-weight: bold\">4</span> | beypore\n",
       "</pre>\n"
      ],
      "text/plain": [
       "Processing Record \u001b[1;36m13\u001b[0m of Set \u001b[1;36m4\u001b[0m | beypore\n"
      ]
     },
     "metadata": {},
     "output_type": "display_data"
    },
    {
     "data": {
      "text/html": [
       "<pre style=\"white-space:pre;overflow-x:auto;line-height:normal;font-family:Menlo,'DejaVu Sans Mono',consolas,'Courier New',monospace\">Processing Record <span style=\"color: #008080; text-decoration-color: #008080; font-weight: bold\">14</span> of Set <span style=\"color: #008080; text-decoration-color: #008080; font-weight: bold\">4</span> | fuvahmulah\n",
       "</pre>\n"
      ],
      "text/plain": [
       "Processing Record \u001b[1;36m14\u001b[0m of Set \u001b[1;36m4\u001b[0m | fuvahmulah\n"
      ]
     },
     "metadata": {},
     "output_type": "display_data"
    },
    {
     "data": {
      "text/html": [
       "<pre style=\"white-space:pre;overflow-x:auto;line-height:normal;font-family:Menlo,'DejaVu Sans Mono',consolas,'Courier New',monospace\">City not found. Skipping<span style=\"color: #808000; text-decoration-color: #808000\">...</span>\n",
       "</pre>\n"
      ],
      "text/plain": [
       "City not found. Skipping\u001b[33m...\u001b[0m\n"
      ]
     },
     "metadata": {},
     "output_type": "display_data"
    },
    {
     "data": {
      "text/html": [
       "<pre style=\"white-space:pre;overflow-x:auto;line-height:normal;font-family:Menlo,'DejaVu Sans Mono',consolas,'Courier New',monospace\">Processing Record <span style=\"color: #008080; text-decoration-color: #008080; font-weight: bold\">15</span> of Set <span style=\"color: #008080; text-decoration-color: #008080; font-weight: bold\">4</span> | puerto baquerizo moreno\n",
       "</pre>\n"
      ],
      "text/plain": [
       "Processing Record \u001b[1;36m15\u001b[0m of Set \u001b[1;36m4\u001b[0m | puerto baquerizo moreno\n"
      ]
     },
     "metadata": {},
     "output_type": "display_data"
    },
    {
     "data": {
      "text/html": [
       "<pre style=\"white-space:pre;overflow-x:auto;line-height:normal;font-family:Menlo,'DejaVu Sans Mono',consolas,'Courier New',monospace\">Processing Record <span style=\"color: #008080; text-decoration-color: #008080; font-weight: bold\">16</span> of Set <span style=\"color: #008080; text-decoration-color: #008080; font-weight: bold\">4</span> | east london\n",
       "</pre>\n"
      ],
      "text/plain": [
       "Processing Record \u001b[1;36m16\u001b[0m of Set \u001b[1;36m4\u001b[0m | east london\n"
      ]
     },
     "metadata": {},
     "output_type": "display_data"
    },
    {
     "data": {
      "text/html": [
       "<pre style=\"white-space:pre;overflow-x:auto;line-height:normal;font-family:Menlo,'DejaVu Sans Mono',consolas,'Courier New',monospace\">Processing Record <span style=\"color: #008080; text-decoration-color: #008080; font-weight: bold\">17</span> of Set <span style=\"color: #008080; text-decoration-color: #008080; font-weight: bold\">4</span> | hilo\n",
       "</pre>\n"
      ],
      "text/plain": [
       "Processing Record \u001b[1;36m17\u001b[0m of Set \u001b[1;36m4\u001b[0m | hilo\n"
      ]
     },
     "metadata": {},
     "output_type": "display_data"
    },
    {
     "data": {
      "text/html": [
       "<pre style=\"white-space:pre;overflow-x:auto;line-height:normal;font-family:Menlo,'DejaVu Sans Mono',consolas,'Courier New',monospace\">Processing Record <span style=\"color: #008080; text-decoration-color: #008080; font-weight: bold\">18</span> of Set <span style=\"color: #008080; text-decoration-color: #008080; font-weight: bold\">4</span> | mikuni\n",
       "</pre>\n"
      ],
      "text/plain": [
       "Processing Record \u001b[1;36m18\u001b[0m of Set \u001b[1;36m4\u001b[0m | mikuni\n"
      ]
     },
     "metadata": {},
     "output_type": "display_data"
    },
    {
     "data": {
      "text/html": [
       "<pre style=\"white-space:pre;overflow-x:auto;line-height:normal;font-family:Menlo,'DejaVu Sans Mono',consolas,'Courier New',monospace\">Processing Record <span style=\"color: #008080; text-decoration-color: #008080; font-weight: bold\">19</span> of Set <span style=\"color: #008080; text-decoration-color: #008080; font-weight: bold\">4</span> | ribeira grande\n",
       "</pre>\n"
      ],
      "text/plain": [
       "Processing Record \u001b[1;36m19\u001b[0m of Set \u001b[1;36m4\u001b[0m | ribeira grande\n"
      ]
     },
     "metadata": {},
     "output_type": "display_data"
    },
    {
     "data": {
      "text/html": [
       "<pre style=\"white-space:pre;overflow-x:auto;line-height:normal;font-family:Menlo,'DejaVu Sans Mono',consolas,'Courier New',monospace\">Processing Record <span style=\"color: #008080; text-decoration-color: #008080; font-weight: bold\">20</span> of Set <span style=\"color: #008080; text-decoration-color: #008080; font-weight: bold\">4</span> | enewetak\n",
       "</pre>\n"
      ],
      "text/plain": [
       "Processing Record \u001b[1;36m20\u001b[0m of Set \u001b[1;36m4\u001b[0m | enewetak\n"
      ]
     },
     "metadata": {},
     "output_type": "display_data"
    },
    {
     "data": {
      "text/html": [
       "<pre style=\"white-space:pre;overflow-x:auto;line-height:normal;font-family:Menlo,'DejaVu Sans Mono',consolas,'Courier New',monospace\">Processing Record <span style=\"color: #008080; text-decoration-color: #008080; font-weight: bold\">21</span> of Set <span style=\"color: #008080; text-decoration-color: #008080; font-weight: bold\">4</span> | sihanoukville\n",
       "</pre>\n"
      ],
      "text/plain": [
       "Processing Record \u001b[1;36m21\u001b[0m of Set \u001b[1;36m4\u001b[0m | sihanoukville\n"
      ]
     },
     "metadata": {},
     "output_type": "display_data"
    },
    {
     "data": {
      "text/html": [
       "<pre style=\"white-space:pre;overflow-x:auto;line-height:normal;font-family:Menlo,'DejaVu Sans Mono',consolas,'Courier New',monospace\">Processing Record <span style=\"color: #008080; text-decoration-color: #008080; font-weight: bold\">22</span> of Set <span style=\"color: #008080; text-decoration-color: #008080; font-weight: bold\">4</span> | lihue\n",
       "</pre>\n"
      ],
      "text/plain": [
       "Processing Record \u001b[1;36m22\u001b[0m of Set \u001b[1;36m4\u001b[0m | lihue\n"
      ]
     },
     "metadata": {},
     "output_type": "display_data"
    },
    {
     "data": {
      "text/html": [
       "<pre style=\"white-space:pre;overflow-x:auto;line-height:normal;font-family:Menlo,'DejaVu Sans Mono',consolas,'Courier New',monospace\">Processing Record <span style=\"color: #008080; text-decoration-color: #008080; font-weight: bold\">23</span> of Set <span style=\"color: #008080; text-decoration-color: #008080; font-weight: bold\">4</span> | jerada\n",
       "</pre>\n"
      ],
      "text/plain": [
       "Processing Record \u001b[1;36m23\u001b[0m of Set \u001b[1;36m4\u001b[0m | jerada\n"
      ]
     },
     "metadata": {},
     "output_type": "display_data"
    },
    {
     "data": {
      "text/html": [
       "<pre style=\"white-space:pre;overflow-x:auto;line-height:normal;font-family:Menlo,'DejaVu Sans Mono',consolas,'Courier New',monospace\">Processing Record <span style=\"color: #008080; text-decoration-color: #008080; font-weight: bold\">24</span> of Set <span style=\"color: #008080; text-decoration-color: #008080; font-weight: bold\">4</span> | arraial do cabo\n",
       "</pre>\n"
      ],
      "text/plain": [
       "Processing Record \u001b[1;36m24\u001b[0m of Set \u001b[1;36m4\u001b[0m | arraial do cabo\n"
      ]
     },
     "metadata": {},
     "output_type": "display_data"
    },
    {
     "data": {
      "text/html": [
       "<pre style=\"white-space:pre;overflow-x:auto;line-height:normal;font-family:Menlo,'DejaVu Sans Mono',consolas,'Courier New',monospace\">Processing Record <span style=\"color: #008080; text-decoration-color: #008080; font-weight: bold\">25</span> of Set <span style=\"color: #008080; text-decoration-color: #008080; font-weight: bold\">4</span> | kailua-kona\n",
       "</pre>\n"
      ],
      "text/plain": [
       "Processing Record \u001b[1;36m25\u001b[0m of Set \u001b[1;36m4\u001b[0m | kailua-kona\n"
      ]
     },
     "metadata": {},
     "output_type": "display_data"
    },
    {
     "data": {
      "text/html": [
       "<pre style=\"white-space:pre;overflow-x:auto;line-height:normal;font-family:Menlo,'DejaVu Sans Mono',consolas,'Courier New',monospace\">Processing Record <span style=\"color: #008080; text-decoration-color: #008080; font-weight: bold\">26</span> of Set <span style=\"color: #008080; text-decoration-color: #008080; font-weight: bold\">4</span> | hanzhong\n",
       "</pre>\n"
      ],
      "text/plain": [
       "Processing Record \u001b[1;36m26\u001b[0m of Set \u001b[1;36m4\u001b[0m | hanzhong\n"
      ]
     },
     "metadata": {},
     "output_type": "display_data"
    },
    {
     "data": {
      "text/html": [
       "<pre style=\"white-space:pre;overflow-x:auto;line-height:normal;font-family:Menlo,'DejaVu Sans Mono',consolas,'Courier New',monospace\">Processing Record <span style=\"color: #008080; text-decoration-color: #008080; font-weight: bold\">27</span> of Set <span style=\"color: #008080; text-decoration-color: #008080; font-weight: bold\">4</span> | mugia\n",
       "</pre>\n"
      ],
      "text/plain": [
       "Processing Record \u001b[1;36m27\u001b[0m of Set \u001b[1;36m4\u001b[0m | mugia\n"
      ]
     },
     "metadata": {},
     "output_type": "display_data"
    },
    {
     "data": {
      "text/html": [
       "<pre style=\"white-space:pre;overflow-x:auto;line-height:normal;font-family:Menlo,'DejaVu Sans Mono',consolas,'Courier New',monospace\">Processing Record <span style=\"color: #008080; text-decoration-color: #008080; font-weight: bold\">28</span> of Set <span style=\"color: #008080; text-decoration-color: #008080; font-weight: bold\">4</span> | sumbe\n",
       "</pre>\n"
      ],
      "text/plain": [
       "Processing Record \u001b[1;36m28\u001b[0m of Set \u001b[1;36m4\u001b[0m | sumbe\n"
      ]
     },
     "metadata": {},
     "output_type": "display_data"
    },
    {
     "data": {
      "text/html": [
       "<pre style=\"white-space:pre;overflow-x:auto;line-height:normal;font-family:Menlo,'DejaVu Sans Mono',consolas,'Courier New',monospace\">Processing Record <span style=\"color: #008080; text-decoration-color: #008080; font-weight: bold\">29</span> of Set <span style=\"color: #008080; text-decoration-color: #008080; font-weight: bold\">4</span> | thompson\n",
       "</pre>\n"
      ],
      "text/plain": [
       "Processing Record \u001b[1;36m29\u001b[0m of Set \u001b[1;36m4\u001b[0m | thompson\n"
      ]
     },
     "metadata": {},
     "output_type": "display_data"
    },
    {
     "data": {
      "text/html": [
       "<pre style=\"white-space:pre;overflow-x:auto;line-height:normal;font-family:Menlo,'DejaVu Sans Mono',consolas,'Courier New',monospace\">Processing Record <span style=\"color: #008080; text-decoration-color: #008080; font-weight: bold\">30</span> of Set <span style=\"color: #008080; text-decoration-color: #008080; font-weight: bold\">4</span> | shache\n",
       "</pre>\n"
      ],
      "text/plain": [
       "Processing Record \u001b[1;36m30\u001b[0m of Set \u001b[1;36m4\u001b[0m | shache\n"
      ]
     },
     "metadata": {},
     "output_type": "display_data"
    },
    {
     "data": {
      "text/html": [
       "<pre style=\"white-space:pre;overflow-x:auto;line-height:normal;font-family:Menlo,'DejaVu Sans Mono',consolas,'Courier New',monospace\">Processing Record <span style=\"color: #008080; text-decoration-color: #008080; font-weight: bold\">31</span> of Set <span style=\"color: #008080; text-decoration-color: #008080; font-weight: bold\">4</span> | shenjiamen\n",
       "</pre>\n"
      ],
      "text/plain": [
       "Processing Record \u001b[1;36m31\u001b[0m of Set \u001b[1;36m4\u001b[0m | shenjiamen\n"
      ]
     },
     "metadata": {},
     "output_type": "display_data"
    },
    {
     "data": {
      "text/html": [
       "<pre style=\"white-space:pre;overflow-x:auto;line-height:normal;font-family:Menlo,'DejaVu Sans Mono',consolas,'Courier New',monospace\">Processing Record <span style=\"color: #008080; text-decoration-color: #008080; font-weight: bold\">32</span> of Set <span style=\"color: #008080; text-decoration-color: #008080; font-weight: bold\">4</span> | nar'yan-mar\n",
       "</pre>\n"
      ],
      "text/plain": [
       "Processing Record \u001b[1;36m32\u001b[0m of Set \u001b[1;36m4\u001b[0m | nar'yan-mar\n"
      ]
     },
     "metadata": {},
     "output_type": "display_data"
    },
    {
     "data": {
      "text/html": [
       "<pre style=\"white-space:pre;overflow-x:auto;line-height:normal;font-family:Menlo,'DejaVu Sans Mono',consolas,'Courier New',monospace\">Processing Record <span style=\"color: #008080; text-decoration-color: #008080; font-weight: bold\">33</span> of Set <span style=\"color: #008080; text-decoration-color: #008080; font-weight: bold\">4</span> | bamboo flat\n",
       "</pre>\n"
      ],
      "text/plain": [
       "Processing Record \u001b[1;36m33\u001b[0m of Set \u001b[1;36m4\u001b[0m | bamboo flat\n"
      ]
     },
     "metadata": {},
     "output_type": "display_data"
    },
    {
     "data": {
      "text/html": [
       "<pre style=\"white-space:pre;overflow-x:auto;line-height:normal;font-family:Menlo,'DejaVu Sans Mono',consolas,'Courier New',monospace\">Processing Record <span style=\"color: #008080; text-decoration-color: #008080; font-weight: bold\">34</span> of Set <span style=\"color: #008080; text-decoration-color: #008080; font-weight: bold\">4</span> | conceicao do araguaia\n",
       "</pre>\n"
      ],
      "text/plain": [
       "Processing Record \u001b[1;36m34\u001b[0m of Set \u001b[1;36m4\u001b[0m | conceicao do araguaia\n"
      ]
     },
     "metadata": {},
     "output_type": "display_data"
    },
    {
     "data": {
      "text/html": [
       "<pre style=\"white-space:pre;overflow-x:auto;line-height:normal;font-family:Menlo,'DejaVu Sans Mono',consolas,'Courier New',monospace\">Processing Record <span style=\"color: #008080; text-decoration-color: #008080; font-weight: bold\">35</span> of Set <span style=\"color: #008080; text-decoration-color: #008080; font-weight: bold\">4</span> | qarqaraly\n",
       "</pre>\n"
      ],
      "text/plain": [
       "Processing Record \u001b[1;36m35\u001b[0m of Set \u001b[1;36m4\u001b[0m | qarqaraly\n"
      ]
     },
     "metadata": {},
     "output_type": "display_data"
    },
    {
     "data": {
      "text/html": [
       "<pre style=\"white-space:pre;overflow-x:auto;line-height:normal;font-family:Menlo,'DejaVu Sans Mono',consolas,'Courier New',monospace\">Processing Record <span style=\"color: #008080; text-decoration-color: #008080; font-weight: bold\">36</span> of Set <span style=\"color: #008080; text-decoration-color: #008080; font-weight: bold\">4</span> | taroa\n",
       "</pre>\n"
      ],
      "text/plain": [
       "Processing Record \u001b[1;36m36\u001b[0m of Set \u001b[1;36m4\u001b[0m | taroa\n"
      ]
     },
     "metadata": {},
     "output_type": "display_data"
    },
    {
     "data": {
      "text/html": [
       "<pre style=\"white-space:pre;overflow-x:auto;line-height:normal;font-family:Menlo,'DejaVu Sans Mono',consolas,'Courier New',monospace\">Processing Record <span style=\"color: #008080; text-decoration-color: #008080; font-weight: bold\">37</span> of Set <span style=\"color: #008080; text-decoration-color: #008080; font-weight: bold\">4</span> | isetskoye\n",
       "</pre>\n"
      ],
      "text/plain": [
       "Processing Record \u001b[1;36m37\u001b[0m of Set \u001b[1;36m4\u001b[0m | isetskoye\n"
      ]
     },
     "metadata": {},
     "output_type": "display_data"
    },
    {
     "data": {
      "text/html": [
       "<pre style=\"white-space:pre;overflow-x:auto;line-height:normal;font-family:Menlo,'DejaVu Sans Mono',consolas,'Courier New',monospace\">Processing Record <span style=\"color: #008080; text-decoration-color: #008080; font-weight: bold\">38</span> of Set <span style=\"color: #008080; text-decoration-color: #008080; font-weight: bold\">4</span> | plastun\n",
       "</pre>\n"
      ],
      "text/plain": [
       "Processing Record \u001b[1;36m38\u001b[0m of Set \u001b[1;36m4\u001b[0m | plastun\n"
      ]
     },
     "metadata": {},
     "output_type": "display_data"
    },
    {
     "data": {
      "text/html": [
       "<pre style=\"white-space:pre;overflow-x:auto;line-height:normal;font-family:Menlo,'DejaVu Sans Mono',consolas,'Courier New',monospace\">Processing Record <span style=\"color: #008080; text-decoration-color: #008080; font-weight: bold\">39</span> of Set <span style=\"color: #008080; text-decoration-color: #008080; font-weight: bold\">4</span> | quibala\n",
       "</pre>\n"
      ],
      "text/plain": [
       "Processing Record \u001b[1;36m39\u001b[0m of Set \u001b[1;36m4\u001b[0m | quibala\n"
      ]
     },
     "metadata": {},
     "output_type": "display_data"
    },
    {
     "data": {
      "text/html": [
       "<pre style=\"white-space:pre;overflow-x:auto;line-height:normal;font-family:Menlo,'DejaVu Sans Mono',consolas,'Courier New',monospace\">Processing Record <span style=\"color: #008080; text-decoration-color: #008080; font-weight: bold\">40</span> of Set <span style=\"color: #008080; text-decoration-color: #008080; font-weight: bold\">4</span> | rio branco\n",
       "</pre>\n"
      ],
      "text/plain": [
       "Processing Record \u001b[1;36m40\u001b[0m of Set \u001b[1;36m4\u001b[0m | rio branco\n"
      ]
     },
     "metadata": {},
     "output_type": "display_data"
    },
    {
     "data": {
      "text/html": [
       "<pre style=\"white-space:pre;overflow-x:auto;line-height:normal;font-family:Menlo,'DejaVu Sans Mono',consolas,'Courier New',monospace\">Processing Record <span style=\"color: #008080; text-decoration-color: #008080; font-weight: bold\">41</span> of Set <span style=\"color: #008080; text-decoration-color: #008080; font-weight: bold\">4</span> | olinda\n",
       "</pre>\n"
      ],
      "text/plain": [
       "Processing Record \u001b[1;36m41\u001b[0m of Set \u001b[1;36m4\u001b[0m | olinda\n"
      ]
     },
     "metadata": {},
     "output_type": "display_data"
    },
    {
     "data": {
      "text/html": [
       "<pre style=\"white-space:pre;overflow-x:auto;line-height:normal;font-family:Menlo,'DejaVu Sans Mono',consolas,'Courier New',monospace\">Processing Record <span style=\"color: #008080; text-decoration-color: #008080; font-weight: bold\">42</span> of Set <span style=\"color: #008080; text-decoration-color: #008080; font-weight: bold\">4</span> | obihiro\n",
       "</pre>\n"
      ],
      "text/plain": [
       "Processing Record \u001b[1;36m42\u001b[0m of Set \u001b[1;36m4\u001b[0m | obihiro\n"
      ]
     },
     "metadata": {},
     "output_type": "display_data"
    },
    {
     "data": {
      "text/html": [
       "<pre style=\"white-space:pre;overflow-x:auto;line-height:normal;font-family:Menlo,'DejaVu Sans Mono',consolas,'Courier New',monospace\">Processing Record <span style=\"color: #008080; text-decoration-color: #008080; font-weight: bold\">43</span> of Set <span style=\"color: #008080; text-decoration-color: #008080; font-weight: bold\">4</span> | jeonju\n",
       "</pre>\n"
      ],
      "text/plain": [
       "Processing Record \u001b[1;36m43\u001b[0m of Set \u001b[1;36m4\u001b[0m | jeonju\n"
      ]
     },
     "metadata": {},
     "output_type": "display_data"
    },
    {
     "data": {
      "text/html": [
       "<pre style=\"white-space:pre;overflow-x:auto;line-height:normal;font-family:Menlo,'DejaVu Sans Mono',consolas,'Courier New',monospace\">Processing Record <span style=\"color: #008080; text-decoration-color: #008080; font-weight: bold\">44</span> of Set <span style=\"color: #008080; text-decoration-color: #008080; font-weight: bold\">4</span> | howard springs\n",
       "</pre>\n"
      ],
      "text/plain": [
       "Processing Record \u001b[1;36m44\u001b[0m of Set \u001b[1;36m4\u001b[0m | howard springs\n"
      ]
     },
     "metadata": {},
     "output_type": "display_data"
    },
    {
     "data": {
      "text/html": [
       "<pre style=\"white-space:pre;overflow-x:auto;line-height:normal;font-family:Menlo,'DejaVu Sans Mono',consolas,'Courier New',monospace\">Processing Record <span style=\"color: #008080; text-decoration-color: #008080; font-weight: bold\">45</span> of Set <span style=\"color: #008080; text-decoration-color: #008080; font-weight: bold\">4</span> | sulphur\n",
       "</pre>\n"
      ],
      "text/plain": [
       "Processing Record \u001b[1;36m45\u001b[0m of Set \u001b[1;36m4\u001b[0m | sulphur\n"
      ]
     },
     "metadata": {},
     "output_type": "display_data"
    },
    {
     "data": {
      "text/html": [
       "<pre style=\"white-space:pre;overflow-x:auto;line-height:normal;font-family:Menlo,'DejaVu Sans Mono',consolas,'Courier New',monospace\">Processing Record <span style=\"color: #008080; text-decoration-color: #008080; font-weight: bold\">46</span> of Set <span style=\"color: #008080; text-decoration-color: #008080; font-weight: bold\">4</span> | vorgashor\n",
       "</pre>\n"
      ],
      "text/plain": [
       "Processing Record \u001b[1;36m46\u001b[0m of Set \u001b[1;36m4\u001b[0m | vorgashor\n"
      ]
     },
     "metadata": {},
     "output_type": "display_data"
    },
    {
     "data": {
      "text/html": [
       "<pre style=\"white-space:pre;overflow-x:auto;line-height:normal;font-family:Menlo,'DejaVu Sans Mono',consolas,'Courier New',monospace\">Processing Record <span style=\"color: #008080; text-decoration-color: #008080; font-weight: bold\">47</span> of Set <span style=\"color: #008080; text-decoration-color: #008080; font-weight: bold\">4</span> | lazaro cardenas\n",
       "</pre>\n"
      ],
      "text/plain": [
       "Processing Record \u001b[1;36m47\u001b[0m of Set \u001b[1;36m4\u001b[0m | lazaro cardenas\n"
      ]
     },
     "metadata": {},
     "output_type": "display_data"
    },
    {
     "data": {
      "text/html": [
       "<pre style=\"white-space:pre;overflow-x:auto;line-height:normal;font-family:Menlo,'DejaVu Sans Mono',consolas,'Courier New',monospace\">Processing Record <span style=\"color: #008080; text-decoration-color: #008080; font-weight: bold\">48</span> of Set <span style=\"color: #008080; text-decoration-color: #008080; font-weight: bold\">4</span> | ahau\n",
       "</pre>\n"
      ],
      "text/plain": [
       "Processing Record \u001b[1;36m48\u001b[0m of Set \u001b[1;36m4\u001b[0m | ahau\n"
      ]
     },
     "metadata": {},
     "output_type": "display_data"
    },
    {
     "data": {
      "text/html": [
       "<pre style=\"white-space:pre;overflow-x:auto;line-height:normal;font-family:Menlo,'DejaVu Sans Mono',consolas,'Courier New',monospace\">City not found. Skipping<span style=\"color: #808000; text-decoration-color: #808000\">...</span>\n",
       "</pre>\n"
      ],
      "text/plain": [
       "City not found. Skipping\u001b[33m...\u001b[0m\n"
      ]
     },
     "metadata": {},
     "output_type": "display_data"
    },
    {
     "data": {
      "text/html": [
       "<pre style=\"white-space:pre;overflow-x:auto;line-height:normal;font-family:Menlo,'DejaVu Sans Mono',consolas,'Courier New',monospace\">Processing Record <span style=\"color: #008080; text-decoration-color: #008080; font-weight: bold\">49</span> of Set <span style=\"color: #008080; text-decoration-color: #008080; font-weight: bold\">4</span> | toga village\n",
       "</pre>\n"
      ],
      "text/plain": [
       "Processing Record \u001b[1;36m49\u001b[0m of Set \u001b[1;36m4\u001b[0m | toga village\n"
      ]
     },
     "metadata": {},
     "output_type": "display_data"
    },
    {
     "data": {
      "text/html": [
       "<pre style=\"white-space:pre;overflow-x:auto;line-height:normal;font-family:Menlo,'DejaVu Sans Mono',consolas,'Courier New',monospace\">City not found. Skipping<span style=\"color: #808000; text-decoration-color: #808000\">...</span>\n",
       "</pre>\n"
      ],
      "text/plain": [
       "City not found. Skipping\u001b[33m...\u001b[0m\n"
      ]
     },
     "metadata": {},
     "output_type": "display_data"
    },
    {
     "data": {
      "text/html": [
       "<pre style=\"white-space:pre;overflow-x:auto;line-height:normal;font-family:Menlo,'DejaVu Sans Mono',consolas,'Courier New',monospace\">Processing Record <span style=\"color: #008080; text-decoration-color: #008080; font-weight: bold\">0</span> of Set <span style=\"color: #008080; text-decoration-color: #008080; font-weight: bold\">5</span> | crane\n",
       "</pre>\n"
      ],
      "text/plain": [
       "Processing Record \u001b[1;36m0\u001b[0m of Set \u001b[1;36m5\u001b[0m | crane\n"
      ]
     },
     "metadata": {},
     "output_type": "display_data"
    },
    {
     "data": {
      "text/html": [
       "<pre style=\"white-space:pre;overflow-x:auto;line-height:normal;font-family:Menlo,'DejaVu Sans Mono',consolas,'Courier New',monospace\">Processing Record <span style=\"color: #008080; text-decoration-color: #008080; font-weight: bold\">1</span> of Set <span style=\"color: #008080; text-decoration-color: #008080; font-weight: bold\">5</span> | dalbandin\n",
       "</pre>\n"
      ],
      "text/plain": [
       "Processing Record \u001b[1;36m1\u001b[0m of Set \u001b[1;36m5\u001b[0m | dalbandin\n"
      ]
     },
     "metadata": {},
     "output_type": "display_data"
    },
    {
     "data": {
      "text/html": [
       "<pre style=\"white-space:pre;overflow-x:auto;line-height:normal;font-family:Menlo,'DejaVu Sans Mono',consolas,'Courier New',monospace\">Processing Record <span style=\"color: #008080; text-decoration-color: #008080; font-weight: bold\">2</span> of Set <span style=\"color: #008080; text-decoration-color: #008080; font-weight: bold\">5</span> | keflavik\n",
       "</pre>\n"
      ],
      "text/plain": [
       "Processing Record \u001b[1;36m2\u001b[0m of Set \u001b[1;36m5\u001b[0m | keflavik\n"
      ]
     },
     "metadata": {},
     "output_type": "display_data"
    },
    {
     "data": {
      "text/html": [
       "<pre style=\"white-space:pre;overflow-x:auto;line-height:normal;font-family:Menlo,'DejaVu Sans Mono',consolas,'Courier New',monospace\">Processing Record <span style=\"color: #008080; text-decoration-color: #008080; font-weight: bold\">3</span> of Set <span style=\"color: #008080; text-decoration-color: #008080; font-weight: bold\">5</span> | manado\n",
       "</pre>\n"
      ],
      "text/plain": [
       "Processing Record \u001b[1;36m3\u001b[0m of Set \u001b[1;36m5\u001b[0m | manado\n"
      ]
     },
     "metadata": {},
     "output_type": "display_data"
    },
    {
     "data": {
      "text/html": [
       "<pre style=\"white-space:pre;overflow-x:auto;line-height:normal;font-family:Menlo,'DejaVu Sans Mono',consolas,'Courier New',monospace\">Processing Record <span style=\"color: #008080; text-decoration-color: #008080; font-weight: bold\">4</span> of Set <span style=\"color: #008080; text-decoration-color: #008080; font-weight: bold\">5</span> | catio\n",
       "</pre>\n"
      ],
      "text/plain": [
       "Processing Record \u001b[1;36m4\u001b[0m of Set \u001b[1;36m5\u001b[0m | catio\n"
      ]
     },
     "metadata": {},
     "output_type": "display_data"
    },
    {
     "data": {
      "text/html": [
       "<pre style=\"white-space:pre;overflow-x:auto;line-height:normal;font-family:Menlo,'DejaVu Sans Mono',consolas,'Courier New',monospace\">Processing Record <span style=\"color: #008080; text-decoration-color: #008080; font-weight: bold\">5</span> of Set <span style=\"color: #008080; text-decoration-color: #008080; font-weight: bold\">5</span> | villa union\n",
       "</pre>\n"
      ],
      "text/plain": [
       "Processing Record \u001b[1;36m5\u001b[0m of Set \u001b[1;36m5\u001b[0m | villa union\n"
      ]
     },
     "metadata": {},
     "output_type": "display_data"
    },
    {
     "data": {
      "text/html": [
       "<pre style=\"white-space:pre;overflow-x:auto;line-height:normal;font-family:Menlo,'DejaVu Sans Mono',consolas,'Courier New',monospace\">Processing Record <span style=\"color: #008080; text-decoration-color: #008080; font-weight: bold\">6</span> of Set <span style=\"color: #008080; text-decoration-color: #008080; font-weight: bold\">5</span> | big spring\n",
       "</pre>\n"
      ],
      "text/plain": [
       "Processing Record \u001b[1;36m6\u001b[0m of Set \u001b[1;36m5\u001b[0m | big spring\n"
      ]
     },
     "metadata": {},
     "output_type": "display_data"
    },
    {
     "data": {
      "text/html": [
       "<pre style=\"white-space:pre;overflow-x:auto;line-height:normal;font-family:Menlo,'DejaVu Sans Mono',consolas,'Courier New',monospace\">Processing Record <span style=\"color: #008080; text-decoration-color: #008080; font-weight: bold\">7</span> of Set <span style=\"color: #008080; text-decoration-color: #008080; font-weight: bold\">5</span> | buala\n",
       "</pre>\n"
      ],
      "text/plain": [
       "Processing Record \u001b[1;36m7\u001b[0m of Set \u001b[1;36m5\u001b[0m | buala\n"
      ]
     },
     "metadata": {},
     "output_type": "display_data"
    },
    {
     "data": {
      "text/html": [
       "<pre style=\"white-space:pre;overflow-x:auto;line-height:normal;font-family:Menlo,'DejaVu Sans Mono',consolas,'Courier New',monospace\">Processing Record <span style=\"color: #008080; text-decoration-color: #008080; font-weight: bold\">8</span> of Set <span style=\"color: #008080; text-decoration-color: #008080; font-weight: bold\">5</span> | afaahiti\n",
       "</pre>\n"
      ],
      "text/plain": [
       "Processing Record \u001b[1;36m8\u001b[0m of Set \u001b[1;36m5\u001b[0m | afaahiti\n"
      ]
     },
     "metadata": {},
     "output_type": "display_data"
    },
    {
     "data": {
      "text/html": [
       "<pre style=\"white-space:pre;overflow-x:auto;line-height:normal;font-family:Menlo,'DejaVu Sans Mono',consolas,'Courier New',monospace\">Processing Record <span style=\"color: #008080; text-decoration-color: #008080; font-weight: bold\">9</span> of Set <span style=\"color: #008080; text-decoration-color: #008080; font-weight: bold\">5</span> | sogndal\n",
       "</pre>\n"
      ],
      "text/plain": [
       "Processing Record \u001b[1;36m9\u001b[0m of Set \u001b[1;36m5\u001b[0m | sogndal\n"
      ]
     },
     "metadata": {},
     "output_type": "display_data"
    },
    {
     "data": {
      "text/html": [
       "<pre style=\"white-space:pre;overflow-x:auto;line-height:normal;font-family:Menlo,'DejaVu Sans Mono',consolas,'Courier New',monospace\">Processing Record <span style=\"color: #008080; text-decoration-color: #008080; font-weight: bold\">10</span> of Set <span style=\"color: #008080; text-decoration-color: #008080; font-weight: bold\">5</span> | ranong\n",
       "</pre>\n"
      ],
      "text/plain": [
       "Processing Record \u001b[1;36m10\u001b[0m of Set \u001b[1;36m5\u001b[0m | ranong\n"
      ]
     },
     "metadata": {},
     "output_type": "display_data"
    },
    {
     "data": {
      "text/html": [
       "<pre style=\"white-space:pre;overflow-x:auto;line-height:normal;font-family:Menlo,'DejaVu Sans Mono',consolas,'Courier New',monospace\">Processing Record <span style=\"color: #008080; text-decoration-color: #008080; font-weight: bold\">11</span> of Set <span style=\"color: #008080; text-decoration-color: #008080; font-weight: bold\">5</span> | kayangel\n",
       "</pre>\n"
      ],
      "text/plain": [
       "Processing Record \u001b[1;36m11\u001b[0m of Set \u001b[1;36m5\u001b[0m | kayangel\n"
      ]
     },
     "metadata": {},
     "output_type": "display_data"
    },
    {
     "data": {
      "text/html": [
       "<pre style=\"white-space:pre;overflow-x:auto;line-height:normal;font-family:Menlo,'DejaVu Sans Mono',consolas,'Courier New',monospace\">Processing Record <span style=\"color: #008080; text-decoration-color: #008080; font-weight: bold\">12</span> of Set <span style=\"color: #008080; text-decoration-color: #008080; font-weight: bold\">5</span> | tsiombe\n",
       "</pre>\n"
      ],
      "text/plain": [
       "Processing Record \u001b[1;36m12\u001b[0m of Set \u001b[1;36m5\u001b[0m | tsiombe\n"
      ]
     },
     "metadata": {},
     "output_type": "display_data"
    },
    {
     "data": {
      "text/html": [
       "<pre style=\"white-space:pre;overflow-x:auto;line-height:normal;font-family:Menlo,'DejaVu Sans Mono',consolas,'Courier New',monospace\">Processing Record <span style=\"color: #008080; text-decoration-color: #008080; font-weight: bold\">13</span> of Set <span style=\"color: #008080; text-decoration-color: #008080; font-weight: bold\">5</span> | penzance\n",
       "</pre>\n"
      ],
      "text/plain": [
       "Processing Record \u001b[1;36m13\u001b[0m of Set \u001b[1;36m5\u001b[0m | penzance\n"
      ]
     },
     "metadata": {},
     "output_type": "display_data"
    },
    {
     "data": {
      "text/html": [
       "<pre style=\"white-space:pre;overflow-x:auto;line-height:normal;font-family:Menlo,'DejaVu Sans Mono',consolas,'Courier New',monospace\">Processing Record <span style=\"color: #008080; text-decoration-color: #008080; font-weight: bold\">14</span> of Set <span style=\"color: #008080; text-decoration-color: #008080; font-weight: bold\">5</span> | takoradi\n",
       "</pre>\n"
      ],
      "text/plain": [
       "Processing Record \u001b[1;36m14\u001b[0m of Set \u001b[1;36m5\u001b[0m | takoradi\n"
      ]
     },
     "metadata": {},
     "output_type": "display_data"
    },
    {
     "data": {
      "text/html": [
       "<pre style=\"white-space:pre;overflow-x:auto;line-height:normal;font-family:Menlo,'DejaVu Sans Mono',consolas,'Courier New',monospace\">Processing Record <span style=\"color: #008080; text-decoration-color: #008080; font-weight: bold\">15</span> of Set <span style=\"color: #008080; text-decoration-color: #008080; font-weight: bold\">5</span> | prachuap khiri khan\n",
       "</pre>\n"
      ],
      "text/plain": [
       "Processing Record \u001b[1;36m15\u001b[0m of Set \u001b[1;36m5\u001b[0m | prachuap khiri khan\n"
      ]
     },
     "metadata": {},
     "output_type": "display_data"
    },
    {
     "data": {
      "text/html": [
       "<pre style=\"white-space:pre;overflow-x:auto;line-height:normal;font-family:Menlo,'DejaVu Sans Mono',consolas,'Courier New',monospace\">Processing Record <span style=\"color: #008080; text-decoration-color: #008080; font-weight: bold\">16</span> of Set <span style=\"color: #008080; text-decoration-color: #008080; font-weight: bold\">5</span> | isangel\n",
       "</pre>\n"
      ],
      "text/plain": [
       "Processing Record \u001b[1;36m16\u001b[0m of Set \u001b[1;36m5\u001b[0m | isangel\n"
      ]
     },
     "metadata": {},
     "output_type": "display_data"
    },
    {
     "data": {
      "text/html": [
       "<pre style=\"white-space:pre;overflow-x:auto;line-height:normal;font-family:Menlo,'DejaVu Sans Mono',consolas,'Courier New',monospace\">Processing Record <span style=\"color: #008080; text-decoration-color: #008080; font-weight: bold\">17</span> of Set <span style=\"color: #008080; text-decoration-color: #008080; font-weight: bold\">5</span> | chonchi\n",
       "</pre>\n"
      ],
      "text/plain": [
       "Processing Record \u001b[1;36m17\u001b[0m of Set \u001b[1;36m5\u001b[0m | chonchi\n"
      ]
     },
     "metadata": {},
     "output_type": "display_data"
    },
    {
     "data": {
      "text/html": [
       "<pre style=\"white-space:pre;overflow-x:auto;line-height:normal;font-family:Menlo,'DejaVu Sans Mono',consolas,'Courier New',monospace\">Processing Record <span style=\"color: #008080; text-decoration-color: #008080; font-weight: bold\">18</span> of Set <span style=\"color: #008080; text-decoration-color: #008080; font-weight: bold\">5</span> | sretensk\n",
       "</pre>\n"
      ],
      "text/plain": [
       "Processing Record \u001b[1;36m18\u001b[0m of Set \u001b[1;36m5\u001b[0m | sretensk\n"
      ]
     },
     "metadata": {},
     "output_type": "display_data"
    },
    {
     "data": {
      "text/html": [
       "<pre style=\"white-space:pre;overflow-x:auto;line-height:normal;font-family:Menlo,'DejaVu Sans Mono',consolas,'Courier New',monospace\">Processing Record <span style=\"color: #008080; text-decoration-color: #008080; font-weight: bold\">19</span> of Set <span style=\"color: #008080; text-decoration-color: #008080; font-weight: bold\">5</span> | puerto san carlos\n",
       "</pre>\n"
      ],
      "text/plain": [
       "Processing Record \u001b[1;36m19\u001b[0m of Set \u001b[1;36m5\u001b[0m | puerto san carlos\n"
      ]
     },
     "metadata": {},
     "output_type": "display_data"
    },
    {
     "data": {
      "text/html": [
       "<pre style=\"white-space:pre;overflow-x:auto;line-height:normal;font-family:Menlo,'DejaVu Sans Mono',consolas,'Courier New',monospace\">City not found. Skipping<span style=\"color: #808000; text-decoration-color: #808000\">...</span>\n",
       "</pre>\n"
      ],
      "text/plain": [
       "City not found. Skipping\u001b[33m...\u001b[0m\n"
      ]
     },
     "metadata": {},
     "output_type": "display_data"
    },
    {
     "data": {
      "text/html": [
       "<pre style=\"white-space:pre;overflow-x:auto;line-height:normal;font-family:Menlo,'DejaVu Sans Mono',consolas,'Courier New',monospace\">Processing Record <span style=\"color: #008080; text-decoration-color: #008080; font-weight: bold\">20</span> of Set <span style=\"color: #008080; text-decoration-color: #008080; font-weight: bold\">5</span> | hithadhoo\n",
       "</pre>\n"
      ],
      "text/plain": [
       "Processing Record \u001b[1;36m20\u001b[0m of Set \u001b[1;36m5\u001b[0m | hithadhoo\n"
      ]
     },
     "metadata": {},
     "output_type": "display_data"
    },
    {
     "data": {
      "text/html": [
       "<pre style=\"white-space:pre;overflow-x:auto;line-height:normal;font-family:Menlo,'DejaVu Sans Mono',consolas,'Courier New',monospace\">Processing Record <span style=\"color: #008080; text-decoration-color: #008080; font-weight: bold\">21</span> of Set <span style=\"color: #008080; text-decoration-color: #008080; font-weight: bold\">5</span> | olutanga\n",
       "</pre>\n"
      ],
      "text/plain": [
       "Processing Record \u001b[1;36m21\u001b[0m of Set \u001b[1;36m5\u001b[0m | olutanga\n"
      ]
     },
     "metadata": {},
     "output_type": "display_data"
    },
    {
     "data": {
      "text/html": [
       "<pre style=\"white-space:pre;overflow-x:auto;line-height:normal;font-family:Menlo,'DejaVu Sans Mono',consolas,'Courier New',monospace\">Processing Record <span style=\"color: #008080; text-decoration-color: #008080; font-weight: bold\">22</span> of Set <span style=\"color: #008080; text-decoration-color: #008080; font-weight: bold\">5</span> | ji'an\n",
       "</pre>\n"
      ],
      "text/plain": [
       "Processing Record \u001b[1;36m22\u001b[0m of Set \u001b[1;36m5\u001b[0m | ji'an\n"
      ]
     },
     "metadata": {},
     "output_type": "display_data"
    },
    {
     "data": {
      "text/html": [
       "<pre style=\"white-space:pre;overflow-x:auto;line-height:normal;font-family:Menlo,'DejaVu Sans Mono',consolas,'Courier New',monospace\">Processing Record <span style=\"color: #008080; text-decoration-color: #008080; font-weight: bold\">23</span> of Set <span style=\"color: #008080; text-decoration-color: #008080; font-weight: bold\">5</span> | grande prairie\n",
       "</pre>\n"
      ],
      "text/plain": [
       "Processing Record \u001b[1;36m23\u001b[0m of Set \u001b[1;36m5\u001b[0m | grande prairie\n"
      ]
     },
     "metadata": {},
     "output_type": "display_data"
    },
    {
     "data": {
      "text/html": [
       "<pre style=\"white-space:pre;overflow-x:auto;line-height:normal;font-family:Menlo,'DejaVu Sans Mono',consolas,'Courier New',monospace\">Processing Record <span style=\"color: #008080; text-decoration-color: #008080; font-weight: bold\">24</span> of Set <span style=\"color: #008080; text-decoration-color: #008080; font-weight: bold\">5</span> | laguna\n",
       "</pre>\n"
      ],
      "text/plain": [
       "Processing Record \u001b[1;36m24\u001b[0m of Set \u001b[1;36m5\u001b[0m | laguna\n"
      ]
     },
     "metadata": {},
     "output_type": "display_data"
    },
    {
     "data": {
      "text/html": [
       "<pre style=\"white-space:pre;overflow-x:auto;line-height:normal;font-family:Menlo,'DejaVu Sans Mono',consolas,'Courier New',monospace\">Processing Record <span style=\"color: #008080; text-decoration-color: #008080; font-weight: bold\">25</span> of Set <span style=\"color: #008080; text-decoration-color: #008080; font-weight: bold\">5</span> | hamilton\n",
       "</pre>\n"
      ],
      "text/plain": [
       "Processing Record \u001b[1;36m25\u001b[0m of Set \u001b[1;36m5\u001b[0m | hamilton\n"
      ]
     },
     "metadata": {},
     "output_type": "display_data"
    },
    {
     "data": {
      "text/html": [
       "<pre style=\"white-space:pre;overflow-x:auto;line-height:normal;font-family:Menlo,'DejaVu Sans Mono',consolas,'Courier New',monospace\">Processing Record <span style=\"color: #008080; text-decoration-color: #008080; font-weight: bold\">26</span> of Set <span style=\"color: #008080; text-decoration-color: #008080; font-weight: bold\">5</span> | kathwana\n",
       "</pre>\n"
      ],
      "text/plain": [
       "Processing Record \u001b[1;36m26\u001b[0m of Set \u001b[1;36m5\u001b[0m | kathwana\n"
      ]
     },
     "metadata": {},
     "output_type": "display_data"
    },
    {
     "data": {
      "text/html": [
       "<pre style=\"white-space:pre;overflow-x:auto;line-height:normal;font-family:Menlo,'DejaVu Sans Mono',consolas,'Courier New',monospace\">City not found. Skipping<span style=\"color: #808000; text-decoration-color: #808000\">...</span>\n",
       "</pre>\n"
      ],
      "text/plain": [
       "City not found. Skipping\u001b[33m...\u001b[0m\n"
      ]
     },
     "metadata": {},
     "output_type": "display_data"
    },
    {
     "data": {
      "text/html": [
       "<pre style=\"white-space:pre;overflow-x:auto;line-height:normal;font-family:Menlo,'DejaVu Sans Mono',consolas,'Courier New',monospace\">Processing Record <span style=\"color: #008080; text-decoration-color: #008080; font-weight: bold\">27</span> of Set <span style=\"color: #008080; text-decoration-color: #008080; font-weight: bold\">5</span> | kulhudhuffushi\n",
       "</pre>\n"
      ],
      "text/plain": [
       "Processing Record \u001b[1;36m27\u001b[0m of Set \u001b[1;36m5\u001b[0m | kulhudhuffushi\n"
      ]
     },
     "metadata": {},
     "output_type": "display_data"
    },
    {
     "data": {
      "text/html": [
       "<pre style=\"white-space:pre;overflow-x:auto;line-height:normal;font-family:Menlo,'DejaVu Sans Mono',consolas,'Courier New',monospace\">Processing Record <span style=\"color: #008080; text-decoration-color: #008080; font-weight: bold\">28</span> of Set <span style=\"color: #008080; text-decoration-color: #008080; font-weight: bold\">5</span> | macia\n",
       "</pre>\n"
      ],
      "text/plain": [
       "Processing Record \u001b[1;36m28\u001b[0m of Set \u001b[1;36m5\u001b[0m | macia\n"
      ]
     },
     "metadata": {},
     "output_type": "display_data"
    },
    {
     "data": {
      "text/html": [
       "<pre style=\"white-space:pre;overflow-x:auto;line-height:normal;font-family:Menlo,'DejaVu Sans Mono',consolas,'Courier New',monospace\">Processing Record <span style=\"color: #008080; text-decoration-color: #008080; font-weight: bold\">29</span> of Set <span style=\"color: #008080; text-decoration-color: #008080; font-weight: bold\">5</span> | dorchester\n",
       "</pre>\n"
      ],
      "text/plain": [
       "Processing Record \u001b[1;36m29\u001b[0m of Set \u001b[1;36m5\u001b[0m | dorchester\n"
      ]
     },
     "metadata": {},
     "output_type": "display_data"
    },
    {
     "data": {
      "text/html": [
       "<pre style=\"white-space:pre;overflow-x:auto;line-height:normal;font-family:Menlo,'DejaVu Sans Mono',consolas,'Courier New',monospace\">Processing Record <span style=\"color: #008080; text-decoration-color: #008080; font-weight: bold\">30</span> of Set <span style=\"color: #008080; text-decoration-color: #008080; font-weight: bold\">5</span> | dudinka\n",
       "</pre>\n"
      ],
      "text/plain": [
       "Processing Record \u001b[1;36m30\u001b[0m of Set \u001b[1;36m5\u001b[0m | dudinka\n"
      ]
     },
     "metadata": {},
     "output_type": "display_data"
    },
    {
     "data": {
      "text/html": [
       "<pre style=\"white-space:pre;overflow-x:auto;line-height:normal;font-family:Menlo,'DejaVu Sans Mono',consolas,'Courier New',monospace\">Processing Record <span style=\"color: #008080; text-decoration-color: #008080; font-weight: bold\">31</span> of Set <span style=\"color: #008080; text-decoration-color: #008080; font-weight: bold\">5</span> | aginskoye\n",
       "</pre>\n"
      ],
      "text/plain": [
       "Processing Record \u001b[1;36m31\u001b[0m of Set \u001b[1;36m5\u001b[0m | aginskoye\n"
      ]
     },
     "metadata": {},
     "output_type": "display_data"
    },
    {
     "data": {
      "text/html": [
       "<pre style=\"white-space:pre;overflow-x:auto;line-height:normal;font-family:Menlo,'DejaVu Sans Mono',consolas,'Courier New',monospace\">Processing Record <span style=\"color: #008080; text-decoration-color: #008080; font-weight: bold\">32</span> of Set <span style=\"color: #008080; text-decoration-color: #008080; font-weight: bold\">5</span> | kununurra\n",
       "</pre>\n"
      ],
      "text/plain": [
       "Processing Record \u001b[1;36m32\u001b[0m of Set \u001b[1;36m5\u001b[0m | kununurra\n"
      ]
     },
     "metadata": {},
     "output_type": "display_data"
    },
    {
     "data": {
      "text/html": [
       "<pre style=\"white-space:pre;overflow-x:auto;line-height:normal;font-family:Menlo,'DejaVu Sans Mono',consolas,'Courier New',monospace\">Processing Record <span style=\"color: #008080; text-decoration-color: #008080; font-weight: bold\">33</span> of Set <span style=\"color: #008080; text-decoration-color: #008080; font-weight: bold\">5</span> | benghazi\n",
       "</pre>\n"
      ],
      "text/plain": [
       "Processing Record \u001b[1;36m33\u001b[0m of Set \u001b[1;36m5\u001b[0m | benghazi\n"
      ]
     },
     "metadata": {},
     "output_type": "display_data"
    },
    {
     "data": {
      "text/html": [
       "<pre style=\"white-space:pre;overflow-x:auto;line-height:normal;font-family:Menlo,'DejaVu Sans Mono',consolas,'Courier New',monospace\">Processing Record <span style=\"color: #008080; text-decoration-color: #008080; font-weight: bold\">34</span> of Set <span style=\"color: #008080; text-decoration-color: #008080; font-weight: bold\">5</span> | sangin\n",
       "</pre>\n"
      ],
      "text/plain": [
       "Processing Record \u001b[1;36m34\u001b[0m of Set \u001b[1;36m5\u001b[0m | sangin\n"
      ]
     },
     "metadata": {},
     "output_type": "display_data"
    },
    {
     "data": {
      "text/html": [
       "<pre style=\"white-space:pre;overflow-x:auto;line-height:normal;font-family:Menlo,'DejaVu Sans Mono',consolas,'Courier New',monospace\">Processing Record <span style=\"color: #008080; text-decoration-color: #008080; font-weight: bold\">35</span> of Set <span style=\"color: #008080; text-decoration-color: #008080; font-weight: bold\">5</span> | bosaso\n",
       "</pre>\n"
      ],
      "text/plain": [
       "Processing Record \u001b[1;36m35\u001b[0m of Set \u001b[1;36m5\u001b[0m | bosaso\n"
      ]
     },
     "metadata": {},
     "output_type": "display_data"
    },
    {
     "data": {
      "text/html": [
       "<pre style=\"white-space:pre;overflow-x:auto;line-height:normal;font-family:Menlo,'DejaVu Sans Mono',consolas,'Courier New',monospace\">Processing Record <span style=\"color: #008080; text-decoration-color: #008080; font-weight: bold\">36</span> of Set <span style=\"color: #008080; text-decoration-color: #008080; font-weight: bold\">5</span> | parnu\n",
       "</pre>\n"
      ],
      "text/plain": [
       "Processing Record \u001b[1;36m36\u001b[0m of Set \u001b[1;36m5\u001b[0m | parnu\n"
      ]
     },
     "metadata": {},
     "output_type": "display_data"
    },
    {
     "data": {
      "text/html": [
       "<pre style=\"white-space:pre;overflow-x:auto;line-height:normal;font-family:Menlo,'DejaVu Sans Mono',consolas,'Courier New',monospace\">Processing Record <span style=\"color: #008080; text-decoration-color: #008080; font-weight: bold\">37</span> of Set <span style=\"color: #008080; text-decoration-color: #008080; font-weight: bold\">5</span> | am djarass\n",
       "</pre>\n"
      ],
      "text/plain": [
       "Processing Record \u001b[1;36m37\u001b[0m of Set \u001b[1;36m5\u001b[0m | am djarass\n"
      ]
     },
     "metadata": {},
     "output_type": "display_data"
    },
    {
     "data": {
      "text/html": [
       "<pre style=\"white-space:pre;overflow-x:auto;line-height:normal;font-family:Menlo,'DejaVu Sans Mono',consolas,'Courier New',monospace\">City not found. Skipping<span style=\"color: #808000; text-decoration-color: #808000\">...</span>\n",
       "</pre>\n"
      ],
      "text/plain": [
       "City not found. Skipping\u001b[33m...\u001b[0m\n"
      ]
     },
     "metadata": {},
     "output_type": "display_data"
    },
    {
     "data": {
      "text/html": [
       "<pre style=\"white-space:pre;overflow-x:auto;line-height:normal;font-family:Menlo,'DejaVu Sans Mono',consolas,'Courier New',monospace\">Processing Record <span style=\"color: #008080; text-decoration-color: #008080; font-weight: bold\">38</span> of Set <span style=\"color: #008080; text-decoration-color: #008080; font-weight: bold\">5</span> | tolanaro\n",
       "</pre>\n"
      ],
      "text/plain": [
       "Processing Record \u001b[1;36m38\u001b[0m of Set \u001b[1;36m5\u001b[0m | tolanaro\n"
      ]
     },
     "metadata": {},
     "output_type": "display_data"
    },
    {
     "data": {
      "text/html": [
       "<pre style=\"white-space:pre;overflow-x:auto;line-height:normal;font-family:Menlo,'DejaVu Sans Mono',consolas,'Courier New',monospace\">Processing Record <span style=\"color: #008080; text-decoration-color: #008080; font-weight: bold\">39</span> of Set <span style=\"color: #008080; text-decoration-color: #008080; font-weight: bold\">5</span> | dalandzadgad\n",
       "</pre>\n"
      ],
      "text/plain": [
       "Processing Record \u001b[1;36m39\u001b[0m of Set \u001b[1;36m5\u001b[0m | dalandzadgad\n"
      ]
     },
     "metadata": {},
     "output_type": "display_data"
    },
    {
     "data": {
      "text/html": [
       "<pre style=\"white-space:pre;overflow-x:auto;line-height:normal;font-family:Menlo,'DejaVu Sans Mono',consolas,'Courier New',monospace\">Processing Record <span style=\"color: #008080; text-decoration-color: #008080; font-weight: bold\">40</span> of Set <span style=\"color: #008080; text-decoration-color: #008080; font-weight: bold\">5</span> | lebu\n",
       "</pre>\n"
      ],
      "text/plain": [
       "Processing Record \u001b[1;36m40\u001b[0m of Set \u001b[1;36m5\u001b[0m | lebu\n"
      ]
     },
     "metadata": {},
     "output_type": "display_data"
    },
    {
     "data": {
      "text/html": [
       "<pre style=\"white-space:pre;overflow-x:auto;line-height:normal;font-family:Menlo,'DejaVu Sans Mono',consolas,'Courier New',monospace\">Processing Record <span style=\"color: #008080; text-decoration-color: #008080; font-weight: bold\">41</span> of Set <span style=\"color: #008080; text-decoration-color: #008080; font-weight: bold\">5</span> | kerikeri\n",
       "</pre>\n"
      ],
      "text/plain": [
       "Processing Record \u001b[1;36m41\u001b[0m of Set \u001b[1;36m5\u001b[0m | kerikeri\n"
      ]
     },
     "metadata": {},
     "output_type": "display_data"
    },
    {
     "data": {
      "text/html": [
       "<pre style=\"white-space:pre;overflow-x:auto;line-height:normal;font-family:Menlo,'DejaVu Sans Mono',consolas,'Courier New',monospace\">Processing Record <span style=\"color: #008080; text-decoration-color: #008080; font-weight: bold\">42</span> of Set <span style=\"color: #008080; text-decoration-color: #008080; font-weight: bold\">5</span> | mugla\n",
       "</pre>\n"
      ],
      "text/plain": [
       "Processing Record \u001b[1;36m42\u001b[0m of Set \u001b[1;36m5\u001b[0m | mugla\n"
      ]
     },
     "metadata": {},
     "output_type": "display_data"
    },
    {
     "data": {
      "text/html": [
       "<pre style=\"white-space:pre;overflow-x:auto;line-height:normal;font-family:Menlo,'DejaVu Sans Mono',consolas,'Courier New',monospace\">Processing Record <span style=\"color: #008080; text-decoration-color: #008080; font-weight: bold\">43</span> of Set <span style=\"color: #008080; text-decoration-color: #008080; font-weight: bold\">5</span> | rivne\n",
       "</pre>\n"
      ],
      "text/plain": [
       "Processing Record \u001b[1;36m43\u001b[0m of Set \u001b[1;36m5\u001b[0m | rivne\n"
      ]
     },
     "metadata": {},
     "output_type": "display_data"
    },
    {
     "data": {
      "text/html": [
       "<pre style=\"white-space:pre;overflow-x:auto;line-height:normal;font-family:Menlo,'DejaVu Sans Mono',consolas,'Courier New',monospace\">Processing Record <span style=\"color: #008080; text-decoration-color: #008080; font-weight: bold\">44</span> of Set <span style=\"color: #008080; text-decoration-color: #008080; font-weight: bold\">5</span> | shahriar\n",
       "</pre>\n"
      ],
      "text/plain": [
       "Processing Record \u001b[1;36m44\u001b[0m of Set \u001b[1;36m5\u001b[0m | shahriar\n"
      ]
     },
     "metadata": {},
     "output_type": "display_data"
    },
    {
     "data": {
      "text/html": [
       "<pre style=\"white-space:pre;overflow-x:auto;line-height:normal;font-family:Menlo,'DejaVu Sans Mono',consolas,'Courier New',monospace\">Processing Record <span style=\"color: #008080; text-decoration-color: #008080; font-weight: bold\">45</span> of Set <span style=\"color: #008080; text-decoration-color: #008080; font-weight: bold\">5</span> | kismayo\n",
       "</pre>\n"
      ],
      "text/plain": [
       "Processing Record \u001b[1;36m45\u001b[0m of Set \u001b[1;36m5\u001b[0m | kismayo\n"
      ]
     },
     "metadata": {},
     "output_type": "display_data"
    },
    {
     "data": {
      "text/html": [
       "<pre style=\"white-space:pre;overflow-x:auto;line-height:normal;font-family:Menlo,'DejaVu Sans Mono',consolas,'Courier New',monospace\">Processing Record <span style=\"color: #008080; text-decoration-color: #008080; font-weight: bold\">46</span> of Set <span style=\"color: #008080; text-decoration-color: #008080; font-weight: bold\">5</span> | klyuchi\n",
       "</pre>\n"
      ],
      "text/plain": [
       "Processing Record \u001b[1;36m46\u001b[0m of Set \u001b[1;36m5\u001b[0m | klyuchi\n"
      ]
     },
     "metadata": {},
     "output_type": "display_data"
    },
    {
     "data": {
      "text/html": [
       "<pre style=\"white-space:pre;overflow-x:auto;line-height:normal;font-family:Menlo,'DejaVu Sans Mono',consolas,'Courier New',monospace\">Processing Record <span style=\"color: #008080; text-decoration-color: #008080; font-weight: bold\">47</span> of Set <span style=\"color: #008080; text-decoration-color: #008080; font-weight: bold\">5</span> | balimila\n",
       "</pre>\n"
      ],
      "text/plain": [
       "Processing Record \u001b[1;36m47\u001b[0m of Set \u001b[1;36m5\u001b[0m | balimila\n"
      ]
     },
     "metadata": {},
     "output_type": "display_data"
    },
    {
     "data": {
      "text/html": [
       "<pre style=\"white-space:pre;overflow-x:auto;line-height:normal;font-family:Menlo,'DejaVu Sans Mono',consolas,'Courier New',monospace\">Processing Record <span style=\"color: #008080; text-decoration-color: #008080; font-weight: bold\">48</span> of Set <span style=\"color: #008080; text-decoration-color: #008080; font-weight: bold\">5</span> | farafangana\n",
       "</pre>\n"
      ],
      "text/plain": [
       "Processing Record \u001b[1;36m48\u001b[0m of Set \u001b[1;36m5\u001b[0m | farafangana\n"
      ]
     },
     "metadata": {},
     "output_type": "display_data"
    },
    {
     "data": {
      "text/html": [
       "<pre style=\"white-space:pre;overflow-x:auto;line-height:normal;font-family:Menlo,'DejaVu Sans Mono',consolas,'Courier New',monospace\">Processing Record <span style=\"color: #008080; text-decoration-color: #008080; font-weight: bold\">49</span> of Set <span style=\"color: #008080; text-decoration-color: #008080; font-weight: bold\">5</span> | heroica caborca\n",
       "</pre>\n"
      ],
      "text/plain": [
       "Processing Record \u001b[1;36m49\u001b[0m of Set \u001b[1;36m5\u001b[0m | heroica caborca\n"
      ]
     },
     "metadata": {},
     "output_type": "display_data"
    },
    {
     "data": {
      "text/html": [
       "<pre style=\"white-space:pre;overflow-x:auto;line-height:normal;font-family:Menlo,'DejaVu Sans Mono',consolas,'Courier New',monospace\">Processing Record <span style=\"color: #008080; text-decoration-color: #008080; font-weight: bold\">0</span> of Set <span style=\"color: #008080; text-decoration-color: #008080; font-weight: bold\">6</span> | beau vallon\n",
       "</pre>\n"
      ],
      "text/plain": [
       "Processing Record \u001b[1;36m0\u001b[0m of Set \u001b[1;36m6\u001b[0m | beau vallon\n"
      ]
     },
     "metadata": {},
     "output_type": "display_data"
    },
    {
     "data": {
      "text/html": [
       "<pre style=\"white-space:pre;overflow-x:auto;line-height:normal;font-family:Menlo,'DejaVu Sans Mono',consolas,'Courier New',monospace\">Processing Record <span style=\"color: #008080; text-decoration-color: #008080; font-weight: bold\">1</span> of Set <span style=\"color: #008080; text-decoration-color: #008080; font-weight: bold\">6</span> | brandon\n",
       "</pre>\n"
      ],
      "text/plain": [
       "Processing Record \u001b[1;36m1\u001b[0m of Set \u001b[1;36m6\u001b[0m | brandon\n"
      ]
     },
     "metadata": {},
     "output_type": "display_data"
    },
    {
     "data": {
      "text/html": [
       "<pre style=\"white-space:pre;overflow-x:auto;line-height:normal;font-family:Menlo,'DejaVu Sans Mono',consolas,'Courier New',monospace\">Processing Record <span style=\"color: #008080; text-decoration-color: #008080; font-weight: bold\">2</span> of Set <span style=\"color: #008080; text-decoration-color: #008080; font-weight: bold\">6</span> | jaicos\n",
       "</pre>\n"
      ],
      "text/plain": [
       "Processing Record \u001b[1;36m2\u001b[0m of Set \u001b[1;36m6\u001b[0m | jaicos\n"
      ]
     },
     "metadata": {},
     "output_type": "display_data"
    },
    {
     "data": {
      "text/html": [
       "<pre style=\"white-space:pre;overflow-x:auto;line-height:normal;font-family:Menlo,'DejaVu Sans Mono',consolas,'Courier New',monospace\">Processing Record <span style=\"color: #008080; text-decoration-color: #008080; font-weight: bold\">3</span> of Set <span style=\"color: #008080; text-decoration-color: #008080; font-weight: bold\">6</span> | salinopolis\n",
       "</pre>\n"
      ],
      "text/plain": [
       "Processing Record \u001b[1;36m3\u001b[0m of Set \u001b[1;36m6\u001b[0m | salinopolis\n"
      ]
     },
     "metadata": {},
     "output_type": "display_data"
    },
    {
     "data": {
      "text/html": [
       "<pre style=\"white-space:pre;overflow-x:auto;line-height:normal;font-family:Menlo,'DejaVu Sans Mono',consolas,'Courier New',monospace\">Processing Record <span style=\"color: #008080; text-decoration-color: #008080; font-weight: bold\">4</span> of Set <span style=\"color: #008080; text-decoration-color: #008080; font-weight: bold\">6</span> | saint-junien\n",
       "</pre>\n"
      ],
      "text/plain": [
       "Processing Record \u001b[1;36m4\u001b[0m of Set \u001b[1;36m6\u001b[0m | saint-junien\n"
      ]
     },
     "metadata": {},
     "output_type": "display_data"
    },
    {
     "data": {
      "text/html": [
       "<pre style=\"white-space:pre;overflow-x:auto;line-height:normal;font-family:Menlo,'DejaVu Sans Mono',consolas,'Courier New',monospace\">Processing Record <span style=\"color: #008080; text-decoration-color: #008080; font-weight: bold\">5</span> of Set <span style=\"color: #008080; text-decoration-color: #008080; font-weight: bold\">6</span> | codrington\n",
       "</pre>\n"
      ],
      "text/plain": [
       "Processing Record \u001b[1;36m5\u001b[0m of Set \u001b[1;36m6\u001b[0m | codrington\n"
      ]
     },
     "metadata": {},
     "output_type": "display_data"
    },
    {
     "data": {
      "text/html": [
       "<pre style=\"white-space:pre;overflow-x:auto;line-height:normal;font-family:Menlo,'DejaVu Sans Mono',consolas,'Courier New',monospace\">Processing Record <span style=\"color: #008080; text-decoration-color: #008080; font-weight: bold\">6</span> of Set <span style=\"color: #008080; text-decoration-color: #008080; font-weight: bold\">6</span> | isla vista\n",
       "</pre>\n"
      ],
      "text/plain": [
       "Processing Record \u001b[1;36m6\u001b[0m of Set \u001b[1;36m6\u001b[0m | isla vista\n"
      ]
     },
     "metadata": {},
     "output_type": "display_data"
    },
    {
     "data": {
      "text/html": [
       "<pre style=\"white-space:pre;overflow-x:auto;line-height:normal;font-family:Menlo,'DejaVu Sans Mono',consolas,'Courier New',monospace\">Processing Record <span style=\"color: #008080; text-decoration-color: #008080; font-weight: bold\">7</span> of Set <span style=\"color: #008080; text-decoration-color: #008080; font-weight: bold\">6</span> | sarmiento\n",
       "</pre>\n"
      ],
      "text/plain": [
       "Processing Record \u001b[1;36m7\u001b[0m of Set \u001b[1;36m6\u001b[0m | sarmiento\n"
      ]
     },
     "metadata": {},
     "output_type": "display_data"
    },
    {
     "data": {
      "text/html": [
       "<pre style=\"white-space:pre;overflow-x:auto;line-height:normal;font-family:Menlo,'DejaVu Sans Mono',consolas,'Courier New',monospace\">Processing Record <span style=\"color: #008080; text-decoration-color: #008080; font-weight: bold\">8</span> of Set <span style=\"color: #008080; text-decoration-color: #008080; font-weight: bold\">6</span> | kodiak\n",
       "</pre>\n"
      ],
      "text/plain": [
       "Processing Record \u001b[1;36m8\u001b[0m of Set \u001b[1;36m6\u001b[0m | kodiak\n"
      ]
     },
     "metadata": {},
     "output_type": "display_data"
    },
    {
     "data": {
      "text/html": [
       "<pre style=\"white-space:pre;overflow-x:auto;line-height:normal;font-family:Menlo,'DejaVu Sans Mono',consolas,'Courier New',monospace\">Processing Record <span style=\"color: #008080; text-decoration-color: #008080; font-weight: bold\">9</span> of Set <span style=\"color: #008080; text-decoration-color: #008080; font-weight: bold\">6</span> | kasane\n",
       "</pre>\n"
      ],
      "text/plain": [
       "Processing Record \u001b[1;36m9\u001b[0m of Set \u001b[1;36m6\u001b[0m | kasane\n"
      ]
     },
     "metadata": {},
     "output_type": "display_data"
    },
    {
     "data": {
      "text/html": [
       "<pre style=\"white-space:pre;overflow-x:auto;line-height:normal;font-family:Menlo,'DejaVu Sans Mono',consolas,'Courier New',monospace\">Processing Record <span style=\"color: #008080; text-decoration-color: #008080; font-weight: bold\">10</span> of Set <span style=\"color: #008080; text-decoration-color: #008080; font-weight: bold\">6</span> | ust-nera\n",
       "</pre>\n"
      ],
      "text/plain": [
       "Processing Record \u001b[1;36m10\u001b[0m of Set \u001b[1;36m6\u001b[0m | ust-nera\n"
      ]
     },
     "metadata": {},
     "output_type": "display_data"
    },
    {
     "data": {
      "text/html": [
       "<pre style=\"white-space:pre;overflow-x:auto;line-height:normal;font-family:Menlo,'DejaVu Sans Mono',consolas,'Courier New',monospace\">Processing Record <span style=\"color: #008080; text-decoration-color: #008080; font-weight: bold\">11</span> of Set <span style=\"color: #008080; text-decoration-color: #008080; font-weight: bold\">6</span> | knysna\n",
       "</pre>\n"
      ],
      "text/plain": [
       "Processing Record \u001b[1;36m11\u001b[0m of Set \u001b[1;36m6\u001b[0m | knysna\n"
      ]
     },
     "metadata": {},
     "output_type": "display_data"
    },
    {
     "data": {
      "text/html": [
       "<pre style=\"white-space:pre;overflow-x:auto;line-height:normal;font-family:Menlo,'DejaVu Sans Mono',consolas,'Courier New',monospace\">Processing Record <span style=\"color: #008080; text-decoration-color: #008080; font-weight: bold\">12</span> of Set <span style=\"color: #008080; text-decoration-color: #008080; font-weight: bold\">6</span> | acarau\n",
       "</pre>\n"
      ],
      "text/plain": [
       "Processing Record \u001b[1;36m12\u001b[0m of Set \u001b[1;36m6\u001b[0m | acarau\n"
      ]
     },
     "metadata": {},
     "output_type": "display_data"
    },
    {
     "data": {
      "text/html": [
       "<pre style=\"white-space:pre;overflow-x:auto;line-height:normal;font-family:Menlo,'DejaVu Sans Mono',consolas,'Courier New',monospace\">Processing Record <span style=\"color: #008080; text-decoration-color: #008080; font-weight: bold\">13</span> of Set <span style=\"color: #008080; text-decoration-color: #008080; font-weight: bold\">6</span> | acapulco de juarez\n",
       "</pre>\n"
      ],
      "text/plain": [
       "Processing Record \u001b[1;36m13\u001b[0m of Set \u001b[1;36m6\u001b[0m | acapulco de juarez\n"
      ]
     },
     "metadata": {},
     "output_type": "display_data"
    },
    {
     "data": {
      "text/html": [
       "<pre style=\"white-space:pre;overflow-x:auto;line-height:normal;font-family:Menlo,'DejaVu Sans Mono',consolas,'Courier New',monospace\">Processing Record <span style=\"color: #008080; text-decoration-color: #008080; font-weight: bold\">14</span> of Set <span style=\"color: #008080; text-decoration-color: #008080; font-weight: bold\">6</span> | maridi\n",
       "</pre>\n"
      ],
      "text/plain": [
       "Processing Record \u001b[1;36m14\u001b[0m of Set \u001b[1;36m6\u001b[0m | maridi\n"
      ]
     },
     "metadata": {},
     "output_type": "display_data"
    },
    {
     "data": {
      "text/html": [
       "<pre style=\"white-space:pre;overflow-x:auto;line-height:normal;font-family:Menlo,'DejaVu Sans Mono',consolas,'Courier New',monospace\">Processing Record <span style=\"color: #008080; text-decoration-color: #008080; font-weight: bold\">15</span> of Set <span style=\"color: #008080; text-decoration-color: #008080; font-weight: bold\">6</span> | lamar\n",
       "</pre>\n"
      ],
      "text/plain": [
       "Processing Record \u001b[1;36m15\u001b[0m of Set \u001b[1;36m6\u001b[0m | lamar\n"
      ]
     },
     "metadata": {},
     "output_type": "display_data"
    },
    {
     "data": {
      "text/html": [
       "<pre style=\"white-space:pre;overflow-x:auto;line-height:normal;font-family:Menlo,'DejaVu Sans Mono',consolas,'Courier New',monospace\">Processing Record <span style=\"color: #008080; text-decoration-color: #008080; font-weight: bold\">16</span> of Set <span style=\"color: #008080; text-decoration-color: #008080; font-weight: bold\">6</span> | ta`u\n",
       "</pre>\n"
      ],
      "text/plain": [
       "Processing Record \u001b[1;36m16\u001b[0m of Set \u001b[1;36m6\u001b[0m | ta`u\n"
      ]
     },
     "metadata": {},
     "output_type": "display_data"
    },
    {
     "data": {
      "text/html": [
       "<pre style=\"white-space:pre;overflow-x:auto;line-height:normal;font-family:Menlo,'DejaVu Sans Mono',consolas,'Courier New',monospace\">Processing Record <span style=\"color: #008080; text-decoration-color: #008080; font-weight: bold\">17</span> of Set <span style=\"color: #008080; text-decoration-color: #008080; font-weight: bold\">6</span> | shiyan\n",
       "</pre>\n"
      ],
      "text/plain": [
       "Processing Record \u001b[1;36m17\u001b[0m of Set \u001b[1;36m6\u001b[0m | shiyan\n"
      ]
     },
     "metadata": {},
     "output_type": "display_data"
    },
    {
     "data": {
      "text/html": [
       "<pre style=\"white-space:pre;overflow-x:auto;line-height:normal;font-family:Menlo,'DejaVu Sans Mono',consolas,'Courier New',monospace\">Processing Record <span style=\"color: #008080; text-decoration-color: #008080; font-weight: bold\">18</span> of Set <span style=\"color: #008080; text-decoration-color: #008080; font-weight: bold\">6</span> | margate\n",
       "</pre>\n"
      ],
      "text/plain": [
       "Processing Record \u001b[1;36m18\u001b[0m of Set \u001b[1;36m6\u001b[0m | margate\n"
      ]
     },
     "metadata": {},
     "output_type": "display_data"
    },
    {
     "data": {
      "text/html": [
       "<pre style=\"white-space:pre;overflow-x:auto;line-height:normal;font-family:Menlo,'DejaVu Sans Mono',consolas,'Courier New',monospace\">Processing Record <span style=\"color: #008080; text-decoration-color: #008080; font-weight: bold\">19</span> of Set <span style=\"color: #008080; text-decoration-color: #008080; font-weight: bold\">6</span> | north bend\n",
       "</pre>\n"
      ],
      "text/plain": [
       "Processing Record \u001b[1;36m19\u001b[0m of Set \u001b[1;36m6\u001b[0m | north bend\n"
      ]
     },
     "metadata": {},
     "output_type": "display_data"
    },
    {
     "data": {
      "text/html": [
       "<pre style=\"white-space:pre;overflow-x:auto;line-height:normal;font-family:Menlo,'DejaVu Sans Mono',consolas,'Courier New',monospace\">Processing Record <span style=\"color: #008080; text-decoration-color: #008080; font-weight: bold\">20</span> of Set <span style=\"color: #008080; text-decoration-color: #008080; font-weight: bold\">6</span> | argo\n",
       "</pre>\n"
      ],
      "text/plain": [
       "Processing Record \u001b[1;36m20\u001b[0m of Set \u001b[1;36m6\u001b[0m | argo\n"
      ]
     },
     "metadata": {},
     "output_type": "display_data"
    },
    {
     "data": {
      "text/html": [
       "<pre style=\"white-space:pre;overflow-x:auto;line-height:normal;font-family:Menlo,'DejaVu Sans Mono',consolas,'Courier New',monospace\">Processing Record <span style=\"color: #008080; text-decoration-color: #008080; font-weight: bold\">21</span> of Set <span style=\"color: #008080; text-decoration-color: #008080; font-weight: bold\">6</span> | wenling\n",
       "</pre>\n"
      ],
      "text/plain": [
       "Processing Record \u001b[1;36m21\u001b[0m of Set \u001b[1;36m6\u001b[0m | wenling\n"
      ]
     },
     "metadata": {},
     "output_type": "display_data"
    },
    {
     "data": {
      "text/html": [
       "<pre style=\"white-space:pre;overflow-x:auto;line-height:normal;font-family:Menlo,'DejaVu Sans Mono',consolas,'Courier New',monospace\">Processing Record <span style=\"color: #008080; text-decoration-color: #008080; font-weight: bold\">22</span> of Set <span style=\"color: #008080; text-decoration-color: #008080; font-weight: bold\">6</span> | mbanza-ngungu\n",
       "</pre>\n"
      ],
      "text/plain": [
       "Processing Record \u001b[1;36m22\u001b[0m of Set \u001b[1;36m6\u001b[0m | mbanza-ngungu\n"
      ]
     },
     "metadata": {},
     "output_type": "display_data"
    },
    {
     "data": {
      "text/html": [
       "<pre style=\"white-space:pre;overflow-x:auto;line-height:normal;font-family:Menlo,'DejaVu Sans Mono',consolas,'Courier New',monospace\">Processing Record <span style=\"color: #008080; text-decoration-color: #008080; font-weight: bold\">23</span> of Set <span style=\"color: #008080; text-decoration-color: #008080; font-weight: bold\">6</span> | kurchatov\n",
       "</pre>\n"
      ],
      "text/plain": [
       "Processing Record \u001b[1;36m23\u001b[0m of Set \u001b[1;36m6\u001b[0m | kurchatov\n"
      ]
     },
     "metadata": {},
     "output_type": "display_data"
    },
    {
     "data": {
      "text/html": [
       "<pre style=\"white-space:pre;overflow-x:auto;line-height:normal;font-family:Menlo,'DejaVu Sans Mono',consolas,'Courier New',monospace\">Processing Record <span style=\"color: #008080; text-decoration-color: #008080; font-weight: bold\">24</span> of Set <span style=\"color: #008080; text-decoration-color: #008080; font-weight: bold\">6</span> | san pedro pochutla\n",
       "</pre>\n"
      ],
      "text/plain": [
       "Processing Record \u001b[1;36m24\u001b[0m of Set \u001b[1;36m6\u001b[0m | san pedro pochutla\n"
      ]
     },
     "metadata": {},
     "output_type": "display_data"
    },
    {
     "data": {
      "text/html": [
       "<pre style=\"white-space:pre;overflow-x:auto;line-height:normal;font-family:Menlo,'DejaVu Sans Mono',consolas,'Courier New',monospace\">Processing Record <span style=\"color: #008080; text-decoration-color: #008080; font-weight: bold\">25</span> of Set <span style=\"color: #008080; text-decoration-color: #008080; font-weight: bold\">6</span> | shingu\n",
       "</pre>\n"
      ],
      "text/plain": [
       "Processing Record \u001b[1;36m25\u001b[0m of Set \u001b[1;36m6\u001b[0m | shingu\n"
      ]
     },
     "metadata": {},
     "output_type": "display_data"
    },
    {
     "data": {
      "text/html": [
       "<pre style=\"white-space:pre;overflow-x:auto;line-height:normal;font-family:Menlo,'DejaVu Sans Mono',consolas,'Courier New',monospace\">Processing Record <span style=\"color: #008080; text-decoration-color: #008080; font-weight: bold\">26</span> of Set <span style=\"color: #008080; text-decoration-color: #008080; font-weight: bold\">6</span> | chinchilla\n",
       "</pre>\n"
      ],
      "text/plain": [
       "Processing Record \u001b[1;36m26\u001b[0m of Set \u001b[1;36m6\u001b[0m | chinchilla\n"
      ]
     },
     "metadata": {},
     "output_type": "display_data"
    },
    {
     "data": {
      "text/html": [
       "<pre style=\"white-space:pre;overflow-x:auto;line-height:normal;font-family:Menlo,'DejaVu Sans Mono',consolas,'Courier New',monospace\">Processing Record <span style=\"color: #008080; text-decoration-color: #008080; font-weight: bold\">27</span> of Set <span style=\"color: #008080; text-decoration-color: #008080; font-weight: bold\">6</span> | kaduy\n",
       "</pre>\n"
      ],
      "text/plain": [
       "Processing Record \u001b[1;36m27\u001b[0m of Set \u001b[1;36m6\u001b[0m | kaduy\n"
      ]
     },
     "metadata": {},
     "output_type": "display_data"
    },
    {
     "data": {
      "text/html": [
       "<pre style=\"white-space:pre;overflow-x:auto;line-height:normal;font-family:Menlo,'DejaVu Sans Mono',consolas,'Courier New',monospace\">Processing Record <span style=\"color: #008080; text-decoration-color: #008080; font-weight: bold\">28</span> of Set <span style=\"color: #008080; text-decoration-color: #008080; font-weight: bold\">6</span> | tadine\n",
       "</pre>\n"
      ],
      "text/plain": [
       "Processing Record \u001b[1;36m28\u001b[0m of Set \u001b[1;36m6\u001b[0m | tadine\n"
      ]
     },
     "metadata": {},
     "output_type": "display_data"
    },
    {
     "data": {
      "text/html": [
       "<pre style=\"white-space:pre;overflow-x:auto;line-height:normal;font-family:Menlo,'DejaVu Sans Mono',consolas,'Courier New',monospace\">Processing Record <span style=\"color: #008080; text-decoration-color: #008080; font-weight: bold\">29</span> of Set <span style=\"color: #008080; text-decoration-color: #008080; font-weight: bold\">6</span> | andergrove\n",
       "</pre>\n"
      ],
      "text/plain": [
       "Processing Record \u001b[1;36m29\u001b[0m of Set \u001b[1;36m6\u001b[0m | andergrove\n"
      ]
     },
     "metadata": {},
     "output_type": "display_data"
    },
    {
     "data": {
      "text/html": [
       "<pre style=\"white-space:pre;overflow-x:auto;line-height:normal;font-family:Menlo,'DejaVu Sans Mono',consolas,'Courier New',monospace\">Processing Record <span style=\"color: #008080; text-decoration-color: #008080; font-weight: bold\">30</span> of Set <span style=\"color: #008080; text-decoration-color: #008080; font-weight: bold\">6</span> | taunggyi\n",
       "</pre>\n"
      ],
      "text/plain": [
       "Processing Record \u001b[1;36m30\u001b[0m of Set \u001b[1;36m6\u001b[0m | taunggyi\n"
      ]
     },
     "metadata": {},
     "output_type": "display_data"
    },
    {
     "data": {
      "text/html": [
       "<pre style=\"white-space:pre;overflow-x:auto;line-height:normal;font-family:Menlo,'DejaVu Sans Mono',consolas,'Courier New',monospace\">Processing Record <span style=\"color: #008080; text-decoration-color: #008080; font-weight: bold\">31</span> of Set <span style=\"color: #008080; text-decoration-color: #008080; font-weight: bold\">6</span> | port alfred\n",
       "</pre>\n"
      ],
      "text/plain": [
       "Processing Record \u001b[1;36m31\u001b[0m of Set \u001b[1;36m6\u001b[0m | port alfred\n"
      ]
     },
     "metadata": {},
     "output_type": "display_data"
    },
    {
     "data": {
      "text/html": [
       "<pre style=\"white-space:pre;overflow-x:auto;line-height:normal;font-family:Menlo,'DejaVu Sans Mono',consolas,'Courier New',monospace\">Processing Record <span style=\"color: #008080; text-decoration-color: #008080; font-weight: bold\">32</span> of Set <span style=\"color: #008080; text-decoration-color: #008080; font-weight: bold\">6</span> | severo-yeniseyskiy\n",
       "</pre>\n"
      ],
      "text/plain": [
       "Processing Record \u001b[1;36m32\u001b[0m of Set \u001b[1;36m6\u001b[0m | severo-yeniseyskiy\n"
      ]
     },
     "metadata": {},
     "output_type": "display_data"
    },
    {
     "data": {
      "text/html": [
       "<pre style=\"white-space:pre;overflow-x:auto;line-height:normal;font-family:Menlo,'DejaVu Sans Mono',consolas,'Courier New',monospace\">Processing Record <span style=\"color: #008080; text-decoration-color: #008080; font-weight: bold\">33</span> of Set <span style=\"color: #008080; text-decoration-color: #008080; font-weight: bold\">6</span> | terbanggi besar\n",
       "</pre>\n"
      ],
      "text/plain": [
       "Processing Record \u001b[1;36m33\u001b[0m of Set \u001b[1;36m6\u001b[0m | terbanggi besar\n"
      ]
     },
     "metadata": {},
     "output_type": "display_data"
    },
    {
     "data": {
      "text/html": [
       "<pre style=\"white-space:pre;overflow-x:auto;line-height:normal;font-family:Menlo,'DejaVu Sans Mono',consolas,'Courier New',monospace\">Processing Record <span style=\"color: #008080; text-decoration-color: #008080; font-weight: bold\">34</span> of Set <span style=\"color: #008080; text-decoration-color: #008080; font-weight: bold\">6</span> | sulecin\n",
       "</pre>\n"
      ],
      "text/plain": [
       "Processing Record \u001b[1;36m34\u001b[0m of Set \u001b[1;36m6\u001b[0m | sulecin\n"
      ]
     },
     "metadata": {},
     "output_type": "display_data"
    },
    {
     "data": {
      "text/html": [
       "<pre style=\"white-space:pre;overflow-x:auto;line-height:normal;font-family:Menlo,'DejaVu Sans Mono',consolas,'Courier New',monospace\">Processing Record <span style=\"color: #008080; text-decoration-color: #008080; font-weight: bold\">35</span> of Set <span style=\"color: #008080; text-decoration-color: #008080; font-weight: bold\">6</span> | andratx\n",
       "</pre>\n"
      ],
      "text/plain": [
       "Processing Record \u001b[1;36m35\u001b[0m of Set \u001b[1;36m6\u001b[0m | andratx\n"
      ]
     },
     "metadata": {},
     "output_type": "display_data"
    },
    {
     "data": {
      "text/html": [
       "<pre style=\"white-space:pre;overflow-x:auto;line-height:normal;font-family:Menlo,'DejaVu Sans Mono',consolas,'Courier New',monospace\">Processing Record <span style=\"color: #008080; text-decoration-color: #008080; font-weight: bold\">36</span> of Set <span style=\"color: #008080; text-decoration-color: #008080; font-weight: bold\">6</span> | palikir - national government center\n",
       "</pre>\n"
      ],
      "text/plain": [
       "Processing Record \u001b[1;36m36\u001b[0m of Set \u001b[1;36m6\u001b[0m | palikir - national government center\n"
      ]
     },
     "metadata": {},
     "output_type": "display_data"
    },
    {
     "data": {
      "text/html": [
       "<pre style=\"white-space:pre;overflow-x:auto;line-height:normal;font-family:Menlo,'DejaVu Sans Mono',consolas,'Courier New',monospace\">Processing Record <span style=\"color: #008080; text-decoration-color: #008080; font-weight: bold\">37</span> of Set <span style=\"color: #008080; text-decoration-color: #008080; font-weight: bold\">6</span> | sola\n",
       "</pre>\n"
      ],
      "text/plain": [
       "Processing Record \u001b[1;36m37\u001b[0m of Set \u001b[1;36m6\u001b[0m | sola\n"
      ]
     },
     "metadata": {},
     "output_type": "display_data"
    },
    {
     "data": {
      "text/html": [
       "<pre style=\"white-space:pre;overflow-x:auto;line-height:normal;font-family:Menlo,'DejaVu Sans Mono',consolas,'Courier New',monospace\">Processing Record <span style=\"color: #008080; text-decoration-color: #008080; font-weight: bold\">38</span> of Set <span style=\"color: #008080; text-decoration-color: #008080; font-weight: bold\">6</span> | bereeda\n",
       "</pre>\n"
      ],
      "text/plain": [
       "Processing Record \u001b[1;36m38\u001b[0m of Set \u001b[1;36m6\u001b[0m | bereeda\n"
      ]
     },
     "metadata": {},
     "output_type": "display_data"
    },
    {
     "data": {
      "text/html": [
       "<pre style=\"white-space:pre;overflow-x:auto;line-height:normal;font-family:Menlo,'DejaVu Sans Mono',consolas,'Courier New',monospace\">Processing Record <span style=\"color: #008080; text-decoration-color: #008080; font-weight: bold\">39</span> of Set <span style=\"color: #008080; text-decoration-color: #008080; font-weight: bold\">6</span> | menongue\n",
       "</pre>\n"
      ],
      "text/plain": [
       "Processing Record \u001b[1;36m39\u001b[0m of Set \u001b[1;36m6\u001b[0m | menongue\n"
      ]
     },
     "metadata": {},
     "output_type": "display_data"
    },
    {
     "data": {
      "text/html": [
       "<pre style=\"white-space:pre;overflow-x:auto;line-height:normal;font-family:Menlo,'DejaVu Sans Mono',consolas,'Courier New',monospace\">Processing Record <span style=\"color: #008080; text-decoration-color: #008080; font-weight: bold\">40</span> of Set <span style=\"color: #008080; text-decoration-color: #008080; font-weight: bold\">6</span> | espargos\n",
       "</pre>\n"
      ],
      "text/plain": [
       "Processing Record \u001b[1;36m40\u001b[0m of Set \u001b[1;36m6\u001b[0m | espargos\n"
      ]
     },
     "metadata": {},
     "output_type": "display_data"
    },
    {
     "data": {
      "text/html": [
       "<pre style=\"white-space:pre;overflow-x:auto;line-height:normal;font-family:Menlo,'DejaVu Sans Mono',consolas,'Courier New',monospace\">City not found. Skipping<span style=\"color: #808000; text-decoration-color: #808000\">...</span>\n",
       "</pre>\n"
      ],
      "text/plain": [
       "City not found. Skipping\u001b[33m...\u001b[0m\n"
      ]
     },
     "metadata": {},
     "output_type": "display_data"
    },
    {
     "data": {
      "text/html": [
       "<pre style=\"white-space:pre;overflow-x:auto;line-height:normal;font-family:Menlo,'DejaVu Sans Mono',consolas,'Courier New',monospace\">Processing Record <span style=\"color: #008080; text-decoration-color: #008080; font-weight: bold\">41</span> of Set <span style=\"color: #008080; text-decoration-color: #008080; font-weight: bold\">6</span> | harstad\n",
       "</pre>\n"
      ],
      "text/plain": [
       "Processing Record \u001b[1;36m41\u001b[0m of Set \u001b[1;36m6\u001b[0m | harstad\n"
      ]
     },
     "metadata": {},
     "output_type": "display_data"
    },
    {
     "data": {
      "text/html": [
       "<pre style=\"white-space:pre;overflow-x:auto;line-height:normal;font-family:Menlo,'DejaVu Sans Mono',consolas,'Courier New',monospace\">Processing Record <span style=\"color: #008080; text-decoration-color: #008080; font-weight: bold\">42</span> of Set <span style=\"color: #008080; text-decoration-color: #008080; font-weight: bold\">6</span> | laikit, laikit ii <span style=\"font-weight: bold\">(</span>dimembe<span style=\"font-weight: bold\">)</span>\n",
       "</pre>\n"
      ],
      "text/plain": [
       "Processing Record \u001b[1;36m42\u001b[0m of Set \u001b[1;36m6\u001b[0m | laikit, laikit ii \u001b[1m(\u001b[0mdimembe\u001b[1m)\u001b[0m\n"
      ]
     },
     "metadata": {},
     "output_type": "display_data"
    },
    {
     "data": {
      "text/html": [
       "<pre style=\"white-space:pre;overflow-x:auto;line-height:normal;font-family:Menlo,'DejaVu Sans Mono',consolas,'Courier New',monospace\">Processing Record <span style=\"color: #008080; text-decoration-color: #008080; font-weight: bold\">43</span> of Set <span style=\"color: #008080; text-decoration-color: #008080; font-weight: bold\">6</span> | raduzhny\n",
       "</pre>\n"
      ],
      "text/plain": [
       "Processing Record \u001b[1;36m43\u001b[0m of Set \u001b[1;36m6\u001b[0m | raduzhny\n"
      ]
     },
     "metadata": {},
     "output_type": "display_data"
    },
    {
     "data": {
      "text/html": [
       "<pre style=\"white-space:pre;overflow-x:auto;line-height:normal;font-family:Menlo,'DejaVu Sans Mono',consolas,'Courier New',monospace\">Processing Record <span style=\"color: #008080; text-decoration-color: #008080; font-weight: bold\">44</span> of Set <span style=\"color: #008080; text-decoration-color: #008080; font-weight: bold\">6</span> | florencia\n",
       "</pre>\n"
      ],
      "text/plain": [
       "Processing Record \u001b[1;36m44\u001b[0m of Set \u001b[1;36m6\u001b[0m | florencia\n"
      ]
     },
     "metadata": {},
     "output_type": "display_data"
    },
    {
     "data": {
      "text/html": [
       "<pre style=\"white-space:pre;overflow-x:auto;line-height:normal;font-family:Menlo,'DejaVu Sans Mono',consolas,'Courier New',monospace\">Processing Record <span style=\"color: #008080; text-decoration-color: #008080; font-weight: bold\">45</span> of Set <span style=\"color: #008080; text-decoration-color: #008080; font-weight: bold\">6</span> | kapa'a\n",
       "</pre>\n"
      ],
      "text/plain": [
       "Processing Record \u001b[1;36m45\u001b[0m of Set \u001b[1;36m6\u001b[0m | kapa'a\n"
      ]
     },
     "metadata": {},
     "output_type": "display_data"
    },
    {
     "data": {
      "text/html": [
       "<pre style=\"white-space:pre;overflow-x:auto;line-height:normal;font-family:Menlo,'DejaVu Sans Mono',consolas,'Courier New',monospace\">Processing Record <span style=\"color: #008080; text-decoration-color: #008080; font-weight: bold\">46</span> of Set <span style=\"color: #008080; text-decoration-color: #008080; font-weight: bold\">6</span> | alotau\n",
       "</pre>\n"
      ],
      "text/plain": [
       "Processing Record \u001b[1;36m46\u001b[0m of Set \u001b[1;36m6\u001b[0m | alotau\n"
      ]
     },
     "metadata": {},
     "output_type": "display_data"
    },
    {
     "data": {
      "text/html": [
       "<pre style=\"white-space:pre;overflow-x:auto;line-height:normal;font-family:Menlo,'DejaVu Sans Mono',consolas,'Courier New',monospace\">Processing Record <span style=\"color: #008080; text-decoration-color: #008080; font-weight: bold\">47</span> of Set <span style=\"color: #008080; text-decoration-color: #008080; font-weight: bold\">6</span> | turpan\n",
       "</pre>\n"
      ],
      "text/plain": [
       "Processing Record \u001b[1;36m47\u001b[0m of Set \u001b[1;36m6\u001b[0m | turpan\n"
      ]
     },
     "metadata": {},
     "output_type": "display_data"
    },
    {
     "data": {
      "text/html": [
       "<pre style=\"white-space:pre;overflow-x:auto;line-height:normal;font-family:Menlo,'DejaVu Sans Mono',consolas,'Courier New',monospace\">Processing Record <span style=\"color: #008080; text-decoration-color: #008080; font-weight: bold\">48</span> of Set <span style=\"color: #008080; text-decoration-color: #008080; font-weight: bold\">6</span> | khorostkiv\n",
       "</pre>\n"
      ],
      "text/plain": [
       "Processing Record \u001b[1;36m48\u001b[0m of Set \u001b[1;36m6\u001b[0m | khorostkiv\n"
      ]
     },
     "metadata": {},
     "output_type": "display_data"
    },
    {
     "data": {
      "text/html": [
       "<pre style=\"white-space:pre;overflow-x:auto;line-height:normal;font-family:Menlo,'DejaVu Sans Mono',consolas,'Courier New',monospace\">Processing Record <span style=\"color: #008080; text-decoration-color: #008080; font-weight: bold\">49</span> of Set <span style=\"color: #008080; text-decoration-color: #008080; font-weight: bold\">6</span> | strezhevoy\n",
       "</pre>\n"
      ],
      "text/plain": [
       "Processing Record \u001b[1;36m49\u001b[0m of Set \u001b[1;36m6\u001b[0m | strezhevoy\n"
      ]
     },
     "metadata": {},
     "output_type": "display_data"
    },
    {
     "data": {
      "text/html": [
       "<pre style=\"white-space:pre;overflow-x:auto;line-height:normal;font-family:Menlo,'DejaVu Sans Mono',consolas,'Courier New',monospace\">Processing Record <span style=\"color: #008080; text-decoration-color: #008080; font-weight: bold\">0</span> of Set <span style=\"color: #008080; text-decoration-color: #008080; font-weight: bold\">7</span> | al qusayr\n",
       "</pre>\n"
      ],
      "text/plain": [
       "Processing Record \u001b[1;36m0\u001b[0m of Set \u001b[1;36m7\u001b[0m | al qusayr\n"
      ]
     },
     "metadata": {},
     "output_type": "display_data"
    },
    {
     "data": {
      "text/html": [
       "<pre style=\"white-space:pre;overflow-x:auto;line-height:normal;font-family:Menlo,'DejaVu Sans Mono',consolas,'Courier New',monospace\">Processing Record <span style=\"color: #008080; text-decoration-color: #008080; font-weight: bold\">1</span> of Set <span style=\"color: #008080; text-decoration-color: #008080; font-weight: bold\">7</span> | karratha\n",
       "</pre>\n"
      ],
      "text/plain": [
       "Processing Record \u001b[1;36m1\u001b[0m of Set \u001b[1;36m7\u001b[0m | karratha\n"
      ]
     },
     "metadata": {},
     "output_type": "display_data"
    },
    {
     "data": {
      "text/html": [
       "<pre style=\"white-space:pre;overflow-x:auto;line-height:normal;font-family:Menlo,'DejaVu Sans Mono',consolas,'Courier New',monospace\">Processing Record <span style=\"color: #008080; text-decoration-color: #008080; font-weight: bold\">2</span> of Set <span style=\"color: #008080; text-decoration-color: #008080; font-weight: bold\">7</span> | stonehaven\n",
       "</pre>\n"
      ],
      "text/plain": [
       "Processing Record \u001b[1;36m2\u001b[0m of Set \u001b[1;36m7\u001b[0m | stonehaven\n"
      ]
     },
     "metadata": {},
     "output_type": "display_data"
    },
    {
     "data": {
      "text/html": [
       "<pre style=\"white-space:pre;overflow-x:auto;line-height:normal;font-family:Menlo,'DejaVu Sans Mono',consolas,'Courier New',monospace\">Processing Record <span style=\"color: #008080; text-decoration-color: #008080; font-weight: bold\">3</span> of Set <span style=\"color: #008080; text-decoration-color: #008080; font-weight: bold\">7</span> | belo sur tsiribihina\n",
       "</pre>\n"
      ],
      "text/plain": [
       "Processing Record \u001b[1;36m3\u001b[0m of Set \u001b[1;36m7\u001b[0m | belo sur tsiribihina\n"
      ]
     },
     "metadata": {},
     "output_type": "display_data"
    },
    {
     "data": {
      "text/html": [
       "<pre style=\"white-space:pre;overflow-x:auto;line-height:normal;font-family:Menlo,'DejaVu Sans Mono',consolas,'Courier New',monospace\">Processing Record <span style=\"color: #008080; text-decoration-color: #008080; font-weight: bold\">4</span> of Set <span style=\"color: #008080; text-decoration-color: #008080; font-weight: bold\">7</span> | marsh harbour\n",
       "</pre>\n"
      ],
      "text/plain": [
       "Processing Record \u001b[1;36m4\u001b[0m of Set \u001b[1;36m7\u001b[0m | marsh harbour\n"
      ]
     },
     "metadata": {},
     "output_type": "display_data"
    },
    {
     "data": {
      "text/html": [
       "<pre style=\"white-space:pre;overflow-x:auto;line-height:normal;font-family:Menlo,'DejaVu Sans Mono',consolas,'Courier New',monospace\">Processing Record <span style=\"color: #008080; text-decoration-color: #008080; font-weight: bold\">5</span> of Set <span style=\"color: #008080; text-decoration-color: #008080; font-weight: bold\">7</span> | lerwick\n",
       "</pre>\n"
      ],
      "text/plain": [
       "Processing Record \u001b[1;36m5\u001b[0m of Set \u001b[1;36m7\u001b[0m | lerwick\n"
      ]
     },
     "metadata": {},
     "output_type": "display_data"
    },
    {
     "data": {
      "text/html": [
       "<pre style=\"white-space:pre;overflow-x:auto;line-height:normal;font-family:Menlo,'DejaVu Sans Mono',consolas,'Courier New',monospace\">Processing Record <span style=\"color: #008080; text-decoration-color: #008080; font-weight: bold\">6</span> of Set <span style=\"color: #008080; text-decoration-color: #008080; font-weight: bold\">7</span> | sandwip\n",
       "</pre>\n"
      ],
      "text/plain": [
       "Processing Record \u001b[1;36m6\u001b[0m of Set \u001b[1;36m7\u001b[0m | sandwip\n"
      ]
     },
     "metadata": {},
     "output_type": "display_data"
    },
    {
     "data": {
      "text/html": [
       "<pre style=\"white-space:pre;overflow-x:auto;line-height:normal;font-family:Menlo,'DejaVu Sans Mono',consolas,'Courier New',monospace\">Processing Record <span style=\"color: #008080; text-decoration-color: #008080; font-weight: bold\">7</span> of Set <span style=\"color: #008080; text-decoration-color: #008080; font-weight: bold\">7</span> | rapallo\n",
       "</pre>\n"
      ],
      "text/plain": [
       "Processing Record \u001b[1;36m7\u001b[0m of Set \u001b[1;36m7\u001b[0m | rapallo\n"
      ]
     },
     "metadata": {},
     "output_type": "display_data"
    },
    {
     "data": {
      "text/html": [
       "<pre style=\"white-space:pre;overflow-x:auto;line-height:normal;font-family:Menlo,'DejaVu Sans Mono',consolas,'Courier New',monospace\">Processing Record <span style=\"color: #008080; text-decoration-color: #008080; font-weight: bold\">8</span> of Set <span style=\"color: #008080; text-decoration-color: #008080; font-weight: bold\">7</span> | oyon\n",
       "</pre>\n"
      ],
      "text/plain": [
       "Processing Record \u001b[1;36m8\u001b[0m of Set \u001b[1;36m7\u001b[0m | oyon\n"
      ]
     },
     "metadata": {},
     "output_type": "display_data"
    },
    {
     "data": {
      "text/html": [
       "<pre style=\"white-space:pre;overflow-x:auto;line-height:normal;font-family:Menlo,'DejaVu Sans Mono',consolas,'Courier New',monospace\">Processing Record <span style=\"color: #008080; text-decoration-color: #008080; font-weight: bold\">9</span> of Set <span style=\"color: #008080; text-decoration-color: #008080; font-weight: bold\">7</span> | dukhan\n",
       "</pre>\n"
      ],
      "text/plain": [
       "Processing Record \u001b[1;36m9\u001b[0m of Set \u001b[1;36m7\u001b[0m | dukhan\n"
      ]
     },
     "metadata": {},
     "output_type": "display_data"
    },
    {
     "data": {
      "text/html": [
       "<pre style=\"white-space:pre;overflow-x:auto;line-height:normal;font-family:Menlo,'DejaVu Sans Mono',consolas,'Courier New',monospace\">Processing Record <span style=\"color: #008080; text-decoration-color: #008080; font-weight: bold\">10</span> of Set <span style=\"color: #008080; text-decoration-color: #008080; font-weight: bold\">7</span> | nizhnyaya tavda\n",
       "</pre>\n"
      ],
      "text/plain": [
       "Processing Record \u001b[1;36m10\u001b[0m of Set \u001b[1;36m7\u001b[0m | nizhnyaya tavda\n"
      ]
     },
     "metadata": {},
     "output_type": "display_data"
    },
    {
     "data": {
      "text/html": [
       "<pre style=\"white-space:pre;overflow-x:auto;line-height:normal;font-family:Menlo,'DejaVu Sans Mono',consolas,'Courier New',monospace\">Processing Record <span style=\"color: #008080; text-decoration-color: #008080; font-weight: bold\">11</span> of Set <span style=\"color: #008080; text-decoration-color: #008080; font-weight: bold\">7</span> | kayes\n",
       "</pre>\n"
      ],
      "text/plain": [
       "Processing Record \u001b[1;36m11\u001b[0m of Set \u001b[1;36m7\u001b[0m | kayes\n"
      ]
     },
     "metadata": {},
     "output_type": "display_data"
    },
    {
     "data": {
      "text/html": [
       "<pre style=\"white-space:pre;overflow-x:auto;line-height:normal;font-family:Menlo,'DejaVu Sans Mono',consolas,'Courier New',monospace\">Processing Record <span style=\"color: #008080; text-decoration-color: #008080; font-weight: bold\">12</span> of Set <span style=\"color: #008080; text-decoration-color: #008080; font-weight: bold\">7</span> | bayport\n",
       "</pre>\n"
      ],
      "text/plain": [
       "Processing Record \u001b[1;36m12\u001b[0m of Set \u001b[1;36m7\u001b[0m | bayport\n"
      ]
     },
     "metadata": {},
     "output_type": "display_data"
    },
    {
     "data": {
      "text/html": [
       "<pre style=\"white-space:pre;overflow-x:auto;line-height:normal;font-family:Menlo,'DejaVu Sans Mono',consolas,'Courier New',monospace\">Processing Record <span style=\"color: #008080; text-decoration-color: #008080; font-weight: bold\">13</span> of Set <span style=\"color: #008080; text-decoration-color: #008080; font-weight: bold\">7</span> | badagry\n",
       "</pre>\n"
      ],
      "text/plain": [
       "Processing Record \u001b[1;36m13\u001b[0m of Set \u001b[1;36m7\u001b[0m | badagry\n"
      ]
     },
     "metadata": {},
     "output_type": "display_data"
    },
    {
     "data": {
      "text/html": [
       "<pre style=\"white-space:pre;overflow-x:auto;line-height:normal;font-family:Menlo,'DejaVu Sans Mono',consolas,'Courier New',monospace\">Processing Record <span style=\"color: #008080; text-decoration-color: #008080; font-weight: bold\">14</span> of Set <span style=\"color: #008080; text-decoration-color: #008080; font-weight: bold\">7</span> | hihifo\n",
       "</pre>\n"
      ],
      "text/plain": [
       "Processing Record \u001b[1;36m14\u001b[0m of Set \u001b[1;36m7\u001b[0m | hihifo\n"
      ]
     },
     "metadata": {},
     "output_type": "display_data"
    },
    {
     "data": {
      "text/html": [
       "<pre style=\"white-space:pre;overflow-x:auto;line-height:normal;font-family:Menlo,'DejaVu Sans Mono',consolas,'Courier New',monospace\">City not found. Skipping<span style=\"color: #808000; text-decoration-color: #808000\">...</span>\n",
       "</pre>\n"
      ],
      "text/plain": [
       "City not found. Skipping\u001b[33m...\u001b[0m\n"
      ]
     },
     "metadata": {},
     "output_type": "display_data"
    },
    {
     "data": {
      "text/html": [
       "<pre style=\"white-space:pre;overflow-x:auto;line-height:normal;font-family:Menlo,'DejaVu Sans Mono',consolas,'Courier New',monospace\">Processing Record <span style=\"color: #008080; text-decoration-color: #008080; font-weight: bold\">15</span> of Set <span style=\"color: #008080; text-decoration-color: #008080; font-weight: bold\">7</span> | karaton\n",
       "</pre>\n"
      ],
      "text/plain": [
       "Processing Record \u001b[1;36m15\u001b[0m of Set \u001b[1;36m7\u001b[0m | karaton\n"
      ]
     },
     "metadata": {},
     "output_type": "display_data"
    },
    {
     "data": {
      "text/html": [
       "<pre style=\"white-space:pre;overflow-x:auto;line-height:normal;font-family:Menlo,'DejaVu Sans Mono',consolas,'Courier New',monospace\">Processing Record <span style=\"color: #008080; text-decoration-color: #008080; font-weight: bold\">16</span> of Set <span style=\"color: #008080; text-decoration-color: #008080; font-weight: bold\">7</span> | tosontsengel\n",
       "</pre>\n"
      ],
      "text/plain": [
       "Processing Record \u001b[1;36m16\u001b[0m of Set \u001b[1;36m7\u001b[0m | tosontsengel\n"
      ]
     },
     "metadata": {},
     "output_type": "display_data"
    },
    {
     "data": {
      "text/html": [
       "<pre style=\"white-space:pre;overflow-x:auto;line-height:normal;font-family:Menlo,'DejaVu Sans Mono',consolas,'Courier New',monospace\">Processing Record <span style=\"color: #008080; text-decoration-color: #008080; font-weight: bold\">17</span> of Set <span style=\"color: #008080; text-decoration-color: #008080; font-weight: bold\">7</span> | sinjai\n",
       "</pre>\n"
      ],
      "text/plain": [
       "Processing Record \u001b[1;36m17\u001b[0m of Set \u001b[1;36m7\u001b[0m | sinjai\n"
      ]
     },
     "metadata": {},
     "output_type": "display_data"
    },
    {
     "data": {
      "text/html": [
       "<pre style=\"white-space:pre;overflow-x:auto;line-height:normal;font-family:Menlo,'DejaVu Sans Mono',consolas,'Courier New',monospace\">Processing Record <span style=\"color: #008080; text-decoration-color: #008080; font-weight: bold\">18</span> of Set <span style=\"color: #008080; text-decoration-color: #008080; font-weight: bold\">7</span> | san antonio de pale\n",
       "</pre>\n"
      ],
      "text/plain": [
       "Processing Record \u001b[1;36m18\u001b[0m of Set \u001b[1;36m7\u001b[0m | san antonio de pale\n"
      ]
     },
     "metadata": {},
     "output_type": "display_data"
    },
    {
     "data": {
      "text/html": [
       "<pre style=\"white-space:pre;overflow-x:auto;line-height:normal;font-family:Menlo,'DejaVu Sans Mono',consolas,'Courier New',monospace\">Processing Record <span style=\"color: #008080; text-decoration-color: #008080; font-weight: bold\">19</span> of Set <span style=\"color: #008080; text-decoration-color: #008080; font-weight: bold\">7</span> | duyun\n",
       "</pre>\n"
      ],
      "text/plain": [
       "Processing Record \u001b[1;36m19\u001b[0m of Set \u001b[1;36m7\u001b[0m | duyun\n"
      ]
     },
     "metadata": {},
     "output_type": "display_data"
    },
    {
     "data": {
      "text/html": [
       "<pre style=\"white-space:pre;overflow-x:auto;line-height:normal;font-family:Menlo,'DejaVu Sans Mono',consolas,'Courier New',monospace\">Processing Record <span style=\"color: #008080; text-decoration-color: #008080; font-weight: bold\">20</span> of Set <span style=\"color: #008080; text-decoration-color: #008080; font-weight: bold\">7</span> | san andres\n",
       "</pre>\n"
      ],
      "text/plain": [
       "Processing Record \u001b[1;36m20\u001b[0m of Set \u001b[1;36m7\u001b[0m | san andres\n"
      ]
     },
     "metadata": {},
     "output_type": "display_data"
    },
    {
     "data": {
      "text/html": [
       "<pre style=\"white-space:pre;overflow-x:auto;line-height:normal;font-family:Menlo,'DejaVu Sans Mono',consolas,'Courier New',monospace\">Processing Record <span style=\"color: #008080; text-decoration-color: #008080; font-weight: bold\">21</span> of Set <span style=\"color: #008080; text-decoration-color: #008080; font-weight: bold\">7</span> | portland\n",
       "</pre>\n"
      ],
      "text/plain": [
       "Processing Record \u001b[1;36m21\u001b[0m of Set \u001b[1;36m7\u001b[0m | portland\n"
      ]
     },
     "metadata": {},
     "output_type": "display_data"
    },
    {
     "data": {
      "text/html": [
       "<pre style=\"white-space:pre;overflow-x:auto;line-height:normal;font-family:Menlo,'DejaVu Sans Mono',consolas,'Courier New',monospace\">Processing Record <span style=\"color: #008080; text-decoration-color: #008080; font-weight: bold\">22</span> of Set <span style=\"color: #008080; text-decoration-color: #008080; font-weight: bold\">7</span> | cole harbour\n",
       "</pre>\n"
      ],
      "text/plain": [
       "Processing Record \u001b[1;36m22\u001b[0m of Set \u001b[1;36m7\u001b[0m | cole harbour\n"
      ]
     },
     "metadata": {},
     "output_type": "display_data"
    },
    {
     "data": {
      "text/html": [
       "<pre style=\"white-space:pre;overflow-x:auto;line-height:normal;font-family:Menlo,'DejaVu Sans Mono',consolas,'Courier New',monospace\">Processing Record <span style=\"color: #008080; text-decoration-color: #008080; font-weight: bold\">23</span> of Set <span style=\"color: #008080; text-decoration-color: #008080; font-weight: bold\">7</span> | jiangyou\n",
       "</pre>\n"
      ],
      "text/plain": [
       "Processing Record \u001b[1;36m23\u001b[0m of Set \u001b[1;36m7\u001b[0m | jiangyou\n"
      ]
     },
     "metadata": {},
     "output_type": "display_data"
    },
    {
     "data": {
      "text/html": [
       "<pre style=\"white-space:pre;overflow-x:auto;line-height:normal;font-family:Menlo,'DejaVu Sans Mono',consolas,'Courier New',monospace\">Processing Record <span style=\"color: #008080; text-decoration-color: #008080; font-weight: bold\">24</span> of Set <span style=\"color: #008080; text-decoration-color: #008080; font-weight: bold\">7</span> | parun\n",
       "</pre>\n"
      ],
      "text/plain": [
       "Processing Record \u001b[1;36m24\u001b[0m of Set \u001b[1;36m7\u001b[0m | parun\n"
      ]
     },
     "metadata": {},
     "output_type": "display_data"
    },
    {
     "data": {
      "text/html": [
       "<pre style=\"white-space:pre;overflow-x:auto;line-height:normal;font-family:Menlo,'DejaVu Sans Mono',consolas,'Courier New',monospace\">Processing Record <span style=\"color: #008080; text-decoration-color: #008080; font-weight: bold\">25</span> of Set <span style=\"color: #008080; text-decoration-color: #008080; font-weight: bold\">7</span> | nambucca heads\n",
       "</pre>\n"
      ],
      "text/plain": [
       "Processing Record \u001b[1;36m25\u001b[0m of Set \u001b[1;36m7\u001b[0m | nambucca heads\n"
      ]
     },
     "metadata": {},
     "output_type": "display_data"
    },
    {
     "data": {
      "text/html": [
       "<pre style=\"white-space:pre;overflow-x:auto;line-height:normal;font-family:Menlo,'DejaVu Sans Mono',consolas,'Courier New',monospace\">Processing Record <span style=\"color: #008080; text-decoration-color: #008080; font-weight: bold\">26</span> of Set <span style=\"color: #008080; text-decoration-color: #008080; font-weight: bold\">7</span> | mount darwin\n",
       "</pre>\n"
      ],
      "text/plain": [
       "Processing Record \u001b[1;36m26\u001b[0m of Set \u001b[1;36m7\u001b[0m | mount darwin\n"
      ]
     },
     "metadata": {},
     "output_type": "display_data"
    },
    {
     "data": {
      "text/html": [
       "<pre style=\"white-space:pre;overflow-x:auto;line-height:normal;font-family:Menlo,'DejaVu Sans Mono',consolas,'Courier New',monospace\">Processing Record <span style=\"color: #008080; text-decoration-color: #008080; font-weight: bold\">27</span> of Set <span style=\"color: #008080; text-decoration-color: #008080; font-weight: bold\">7</span> | guerrero negro\n",
       "</pre>\n"
      ],
      "text/plain": [
       "Processing Record \u001b[1;36m27\u001b[0m of Set \u001b[1;36m7\u001b[0m | guerrero negro\n"
      ]
     },
     "metadata": {},
     "output_type": "display_data"
    },
    {
     "data": {
      "text/html": [
       "<pre style=\"white-space:pre;overflow-x:auto;line-height:normal;font-family:Menlo,'DejaVu Sans Mono',consolas,'Courier New',monospace\">Processing Record <span style=\"color: #008080; text-decoration-color: #008080; font-weight: bold\">28</span> of Set <span style=\"color: #008080; text-decoration-color: #008080; font-weight: bold\">7</span> | sanandaj\n",
       "</pre>\n"
      ],
      "text/plain": [
       "Processing Record \u001b[1;36m28\u001b[0m of Set \u001b[1;36m7\u001b[0m | sanandaj\n"
      ]
     },
     "metadata": {},
     "output_type": "display_data"
    },
    {
     "data": {
      "text/html": [
       "<pre style=\"white-space:pre;overflow-x:auto;line-height:normal;font-family:Menlo,'DejaVu Sans Mono',consolas,'Courier New',monospace\">Processing Record <span style=\"color: #008080; text-decoration-color: #008080; font-weight: bold\">29</span> of Set <span style=\"color: #008080; text-decoration-color: #008080; font-weight: bold\">7</span> | tutoia\n",
       "</pre>\n"
      ],
      "text/plain": [
       "Processing Record \u001b[1;36m29\u001b[0m of Set \u001b[1;36m7\u001b[0m | tutoia\n"
      ]
     },
     "metadata": {},
     "output_type": "display_data"
    },
    {
     "data": {
      "text/html": [
       "<pre style=\"white-space:pre;overflow-x:auto;line-height:normal;font-family:Menlo,'DejaVu Sans Mono',consolas,'Courier New',monospace\">Processing Record <span style=\"color: #008080; text-decoration-color: #008080; font-weight: bold\">30</span> of Set <span style=\"color: #008080; text-decoration-color: #008080; font-weight: bold\">7</span> | quellon\n",
       "</pre>\n"
      ],
      "text/plain": [
       "Processing Record \u001b[1;36m30\u001b[0m of Set \u001b[1;36m7\u001b[0m | quellon\n"
      ]
     },
     "metadata": {},
     "output_type": "display_data"
    },
    {
     "data": {
      "text/html": [
       "<pre style=\"white-space:pre;overflow-x:auto;line-height:normal;font-family:Menlo,'DejaVu Sans Mono',consolas,'Courier New',monospace\">Processing Record <span style=\"color: #008080; text-decoration-color: #008080; font-weight: bold\">31</span> of Set <span style=\"color: #008080; text-decoration-color: #008080; font-weight: bold\">7</span> | elliot lake\n",
       "</pre>\n"
      ],
      "text/plain": [
       "Processing Record \u001b[1;36m31\u001b[0m of Set \u001b[1;36m7\u001b[0m | elliot lake\n"
      ]
     },
     "metadata": {},
     "output_type": "display_data"
    },
    {
     "data": {
      "text/html": [
       "<pre style=\"white-space:pre;overflow-x:auto;line-height:normal;font-family:Menlo,'DejaVu Sans Mono',consolas,'Courier New',monospace\">Processing Record <span style=\"color: #008080; text-decoration-color: #008080; font-weight: bold\">32</span> of Set <span style=\"color: #008080; text-decoration-color: #008080; font-weight: bold\">7</span> | al kharijah\n",
       "</pre>\n"
      ],
      "text/plain": [
       "Processing Record \u001b[1;36m32\u001b[0m of Set \u001b[1;36m7\u001b[0m | al kharijah\n"
      ]
     },
     "metadata": {},
     "output_type": "display_data"
    },
    {
     "data": {
      "text/html": [
       "<pre style=\"white-space:pre;overflow-x:auto;line-height:normal;font-family:Menlo,'DejaVu Sans Mono',consolas,'Courier New',monospace\">Processing Record <span style=\"color: #008080; text-decoration-color: #008080; font-weight: bold\">33</span> of Set <span style=\"color: #008080; text-decoration-color: #008080; font-weight: bold\">7</span> | sinabang\n",
       "</pre>\n"
      ],
      "text/plain": [
       "Processing Record \u001b[1;36m33\u001b[0m of Set \u001b[1;36m7\u001b[0m | sinabang\n"
      ]
     },
     "metadata": {},
     "output_type": "display_data"
    },
    {
     "data": {
      "text/html": [
       "<pre style=\"white-space:pre;overflow-x:auto;line-height:normal;font-family:Menlo,'DejaVu Sans Mono',consolas,'Courier New',monospace\">Processing Record <span style=\"color: #008080; text-decoration-color: #008080; font-weight: bold\">34</span> of Set <span style=\"color: #008080; text-decoration-color: #008080; font-weight: bold\">7</span> | newman\n",
       "</pre>\n"
      ],
      "text/plain": [
       "Processing Record \u001b[1;36m34\u001b[0m of Set \u001b[1;36m7\u001b[0m | newman\n"
      ]
     },
     "metadata": {},
     "output_type": "display_data"
    },
    {
     "data": {
      "text/html": [
       "<pre style=\"white-space:pre;overflow-x:auto;line-height:normal;font-family:Menlo,'DejaVu Sans Mono',consolas,'Courier New',monospace\">Processing Record <span style=\"color: #008080; text-decoration-color: #008080; font-weight: bold\">35</span> of Set <span style=\"color: #008080; text-decoration-color: #008080; font-weight: bold\">7</span> | tofol\n",
       "</pre>\n"
      ],
      "text/plain": [
       "Processing Record \u001b[1;36m35\u001b[0m of Set \u001b[1;36m7\u001b[0m | tofol\n"
      ]
     },
     "metadata": {},
     "output_type": "display_data"
    },
    {
     "data": {
      "text/html": [
       "<pre style=\"white-space:pre;overflow-x:auto;line-height:normal;font-family:Menlo,'DejaVu Sans Mono',consolas,'Courier New',monospace\">Processing Record <span style=\"color: #008080; text-decoration-color: #008080; font-weight: bold\">36</span> of Set <span style=\"color: #008080; text-decoration-color: #008080; font-weight: bold\">7</span> | rosario del tala\n",
       "</pre>\n"
      ],
      "text/plain": [
       "Processing Record \u001b[1;36m36\u001b[0m of Set \u001b[1;36m7\u001b[0m | rosario del tala\n"
      ]
     },
     "metadata": {},
     "output_type": "display_data"
    },
    {
     "data": {
      "text/html": [
       "<pre style=\"white-space:pre;overflow-x:auto;line-height:normal;font-family:Menlo,'DejaVu Sans Mono',consolas,'Courier New',monospace\">Processing Record <span style=\"color: #008080; text-decoration-color: #008080; font-weight: bold\">37</span> of Set <span style=\"color: #008080; text-decoration-color: #008080; font-weight: bold\">7</span> | rongelap\n",
       "</pre>\n"
      ],
      "text/plain": [
       "Processing Record \u001b[1;36m37\u001b[0m of Set \u001b[1;36m7\u001b[0m | rongelap\n"
      ]
     },
     "metadata": {},
     "output_type": "display_data"
    },
    {
     "data": {
      "text/html": [
       "<pre style=\"white-space:pre;overflow-x:auto;line-height:normal;font-family:Menlo,'DejaVu Sans Mono',consolas,'Courier New',monospace\">Processing Record <span style=\"color: #008080; text-decoration-color: #008080; font-weight: bold\">38</span> of Set <span style=\"color: #008080; text-decoration-color: #008080; font-weight: bold\">7</span> | kidal\n",
       "</pre>\n"
      ],
      "text/plain": [
       "Processing Record \u001b[1;36m38\u001b[0m of Set \u001b[1;36m7\u001b[0m | kidal\n"
      ]
     },
     "metadata": {},
     "output_type": "display_data"
    },
    {
     "data": {
      "text/html": [
       "<pre style=\"white-space:pre;overflow-x:auto;line-height:normal;font-family:Menlo,'DejaVu Sans Mono',consolas,'Courier New',monospace\">Processing Record <span style=\"color: #008080; text-decoration-color: #008080; font-weight: bold\">39</span> of Set <span style=\"color: #008080; text-decoration-color: #008080; font-weight: bold\">7</span> | cargados carajos\n",
       "</pre>\n"
      ],
      "text/plain": [
       "Processing Record \u001b[1;36m39\u001b[0m of Set \u001b[1;36m7\u001b[0m | cargados carajos\n"
      ]
     },
     "metadata": {},
     "output_type": "display_data"
    },
    {
     "data": {
      "text/html": [
       "<pre style=\"white-space:pre;overflow-x:auto;line-height:normal;font-family:Menlo,'DejaVu Sans Mono',consolas,'Courier New',monospace\">City not found. Skipping<span style=\"color: #808000; text-decoration-color: #808000\">...</span>\n",
       "</pre>\n"
      ],
      "text/plain": [
       "City not found. Skipping\u001b[33m...\u001b[0m\n"
      ]
     },
     "metadata": {},
     "output_type": "display_data"
    },
    {
     "data": {
      "text/html": [
       "<pre style=\"white-space:pre;overflow-x:auto;line-height:normal;font-family:Menlo,'DejaVu Sans Mono',consolas,'Courier New',monospace\">Processing Record <span style=\"color: #008080; text-decoration-color: #008080; font-weight: bold\">40</span> of Set <span style=\"color: #008080; text-decoration-color: #008080; font-weight: bold\">7</span> | burutu\n",
       "</pre>\n"
      ],
      "text/plain": [
       "Processing Record \u001b[1;36m40\u001b[0m of Set \u001b[1;36m7\u001b[0m | burutu\n"
      ]
     },
     "metadata": {},
     "output_type": "display_data"
    },
    {
     "data": {
      "text/html": [
       "<pre style=\"white-space:pre;overflow-x:auto;line-height:normal;font-family:Menlo,'DejaVu Sans Mono',consolas,'Courier New',monospace\">Processing Record <span style=\"color: #008080; text-decoration-color: #008080; font-weight: bold\">41</span> of Set <span style=\"color: #008080; text-decoration-color: #008080; font-weight: bold\">7</span> | wynyard\n",
       "</pre>\n"
      ],
      "text/plain": [
       "Processing Record \u001b[1;36m41\u001b[0m of Set \u001b[1;36m7\u001b[0m | wynyard\n"
      ]
     },
     "metadata": {},
     "output_type": "display_data"
    },
    {
     "data": {
      "text/html": [
       "<pre style=\"white-space:pre;overflow-x:auto;line-height:normal;font-family:Menlo,'DejaVu Sans Mono',consolas,'Courier New',monospace\">Processing Record <span style=\"color: #008080; text-decoration-color: #008080; font-weight: bold\">42</span> of Set <span style=\"color: #008080; text-decoration-color: #008080; font-weight: bold\">7</span> | alo\n",
       "</pre>\n"
      ],
      "text/plain": [
       "Processing Record \u001b[1;36m42\u001b[0m of Set \u001b[1;36m7\u001b[0m | alo\n"
      ]
     },
     "metadata": {},
     "output_type": "display_data"
    },
    {
     "data": {
      "text/html": [
       "<pre style=\"white-space:pre;overflow-x:auto;line-height:normal;font-family:Menlo,'DejaVu Sans Mono',consolas,'Courier New',monospace\">Processing Record <span style=\"color: #008080; text-decoration-color: #008080; font-weight: bold\">43</span> of Set <span style=\"color: #008080; text-decoration-color: #008080; font-weight: bold\">7</span> | freetown\n",
       "</pre>\n"
      ],
      "text/plain": [
       "Processing Record \u001b[1;36m43\u001b[0m of Set \u001b[1;36m7\u001b[0m | freetown\n"
      ]
     },
     "metadata": {},
     "output_type": "display_data"
    },
    {
     "data": {
      "text/html": [
       "<pre style=\"white-space:pre;overflow-x:auto;line-height:normal;font-family:Menlo,'DejaVu Sans Mono',consolas,'Courier New',monospace\">Processing Record <span style=\"color: #008080; text-decoration-color: #008080; font-weight: bold\">44</span> of Set <span style=\"color: #008080; text-decoration-color: #008080; font-weight: bold\">7</span> | general villegas\n",
       "</pre>\n"
      ],
      "text/plain": [
       "Processing Record \u001b[1;36m44\u001b[0m of Set \u001b[1;36m7\u001b[0m | general villegas\n"
      ]
     },
     "metadata": {},
     "output_type": "display_data"
    },
    {
     "data": {
      "text/html": [
       "<pre style=\"white-space:pre;overflow-x:auto;line-height:normal;font-family:Menlo,'DejaVu Sans Mono',consolas,'Courier New',monospace\">Processing Record <span style=\"color: #008080; text-decoration-color: #008080; font-weight: bold\">45</span> of Set <span style=\"color: #008080; text-decoration-color: #008080; font-weight: bold\">7</span> | sao vicente\n",
       "</pre>\n"
      ],
      "text/plain": [
       "Processing Record \u001b[1;36m45\u001b[0m of Set \u001b[1;36m7\u001b[0m | sao vicente\n"
      ]
     },
     "metadata": {},
     "output_type": "display_data"
    },
    {
     "data": {
      "text/html": [
       "<pre style=\"white-space:pre;overflow-x:auto;line-height:normal;font-family:Menlo,'DejaVu Sans Mono',consolas,'Courier New',monospace\">Processing Record <span style=\"color: #008080; text-decoration-color: #008080; font-weight: bold\">46</span> of Set <span style=\"color: #008080; text-decoration-color: #008080; font-weight: bold\">7</span> | egilsstadir\n",
       "</pre>\n"
      ],
      "text/plain": [
       "Processing Record \u001b[1;36m46\u001b[0m of Set \u001b[1;36m7\u001b[0m | egilsstadir\n"
      ]
     },
     "metadata": {},
     "output_type": "display_data"
    },
    {
     "data": {
      "text/html": [
       "<pre style=\"white-space:pre;overflow-x:auto;line-height:normal;font-family:Menlo,'DejaVu Sans Mono',consolas,'Courier New',monospace\">Processing Record <span style=\"color: #008080; text-decoration-color: #008080; font-weight: bold\">47</span> of Set <span style=\"color: #008080; text-decoration-color: #008080; font-weight: bold\">7</span> | horsham\n",
       "</pre>\n"
      ],
      "text/plain": [
       "Processing Record \u001b[1;36m47\u001b[0m of Set \u001b[1;36m7\u001b[0m | horsham\n"
      ]
     },
     "metadata": {},
     "output_type": "display_data"
    },
    {
     "data": {
      "text/html": [
       "<pre style=\"white-space:pre;overflow-x:auto;line-height:normal;font-family:Menlo,'DejaVu Sans Mono',consolas,'Courier New',monospace\">Processing Record <span style=\"color: #008080; text-decoration-color: #008080; font-weight: bold\">48</span> of Set <span style=\"color: #008080; text-decoration-color: #008080; font-weight: bold\">7</span> | madalena\n",
       "</pre>\n"
      ],
      "text/plain": [
       "Processing Record \u001b[1;36m48\u001b[0m of Set \u001b[1;36m7\u001b[0m | madalena\n"
      ]
     },
     "metadata": {},
     "output_type": "display_data"
    },
    {
     "data": {
      "text/html": [
       "<pre style=\"white-space:pre;overflow-x:auto;line-height:normal;font-family:Menlo,'DejaVu Sans Mono',consolas,'Courier New',monospace\">Processing Record <span style=\"color: #008080; text-decoration-color: #008080; font-weight: bold\">49</span> of Set <span style=\"color: #008080; text-decoration-color: #008080; font-weight: bold\">7</span> | miri\n",
       "</pre>\n"
      ],
      "text/plain": [
       "Processing Record \u001b[1;36m49\u001b[0m of Set \u001b[1;36m7\u001b[0m | miri\n"
      ]
     },
     "metadata": {},
     "output_type": "display_data"
    },
    {
     "data": {
      "text/html": [
       "<pre style=\"white-space:pre;overflow-x:auto;line-height:normal;font-family:Menlo,'DejaVu Sans Mono',consolas,'Courier New',monospace\">Processing Record <span style=\"color: #008080; text-decoration-color: #008080; font-weight: bold\">0</span> of Set <span style=\"color: #008080; text-decoration-color: #008080; font-weight: bold\">8</span> | chibougamau\n",
       "</pre>\n"
      ],
      "text/plain": [
       "Processing Record \u001b[1;36m0\u001b[0m of Set \u001b[1;36m8\u001b[0m | chibougamau\n"
      ]
     },
     "metadata": {},
     "output_type": "display_data"
    },
    {
     "data": {
      "text/html": [
       "<pre style=\"white-space:pre;overflow-x:auto;line-height:normal;font-family:Menlo,'DejaVu Sans Mono',consolas,'Courier New',monospace\">Processing Record <span style=\"color: #008080; text-decoration-color: #008080; font-weight: bold\">1</span> of Set <span style=\"color: #008080; text-decoration-color: #008080; font-weight: bold\">8</span> | lompoc\n",
       "</pre>\n"
      ],
      "text/plain": [
       "Processing Record \u001b[1;36m1\u001b[0m of Set \u001b[1;36m8\u001b[0m | lompoc\n"
      ]
     },
     "metadata": {},
     "output_type": "display_data"
    },
    {
     "data": {
      "text/html": [
       "<pre style=\"white-space:pre;overflow-x:auto;line-height:normal;font-family:Menlo,'DejaVu Sans Mono',consolas,'Courier New',monospace\">Processing Record <span style=\"color: #008080; text-decoration-color: #008080; font-weight: bold\">2</span> of Set <span style=\"color: #008080; text-decoration-color: #008080; font-weight: bold\">8</span> | haiku-pauwela\n",
       "</pre>\n"
      ],
      "text/plain": [
       "Processing Record \u001b[1;36m2\u001b[0m of Set \u001b[1;36m8\u001b[0m | haiku-pauwela\n"
      ]
     },
     "metadata": {},
     "output_type": "display_data"
    },
    {
     "data": {
      "text/html": [
       "<pre style=\"white-space:pre;overflow-x:auto;line-height:normal;font-family:Menlo,'DejaVu Sans Mono',consolas,'Courier New',monospace\">Processing Record <span style=\"color: #008080; text-decoration-color: #008080; font-weight: bold\">3</span> of Set <span style=\"color: #008080; text-decoration-color: #008080; font-weight: bold\">8</span> | arkhara\n",
       "</pre>\n"
      ],
      "text/plain": [
       "Processing Record \u001b[1;36m3\u001b[0m of Set \u001b[1;36m8\u001b[0m | arkhara\n"
      ]
     },
     "metadata": {},
     "output_type": "display_data"
    },
    {
     "data": {
      "text/html": [
       "<pre style=\"white-space:pre;overflow-x:auto;line-height:normal;font-family:Menlo,'DejaVu Sans Mono',consolas,'Courier New',monospace\">Processing Record <span style=\"color: #008080; text-decoration-color: #008080; font-weight: bold\">4</span> of Set <span style=\"color: #008080; text-decoration-color: #008080; font-weight: bold\">8</span> | howrah\n",
       "</pre>\n"
      ],
      "text/plain": [
       "Processing Record \u001b[1;36m4\u001b[0m of Set \u001b[1;36m8\u001b[0m | howrah\n"
      ]
     },
     "metadata": {},
     "output_type": "display_data"
    },
    {
     "data": {
      "text/html": [
       "<pre style=\"white-space:pre;overflow-x:auto;line-height:normal;font-family:Menlo,'DejaVu Sans Mono',consolas,'Courier New',monospace\">Processing Record <span style=\"color: #008080; text-decoration-color: #008080; font-weight: bold\">5</span> of Set <span style=\"color: #008080; text-decoration-color: #008080; font-weight: bold\">8</span> | port said\n",
       "</pre>\n"
      ],
      "text/plain": [
       "Processing Record \u001b[1;36m5\u001b[0m of Set \u001b[1;36m8\u001b[0m | port said\n"
      ]
     },
     "metadata": {},
     "output_type": "display_data"
    },
    {
     "data": {
      "text/html": [
       "<pre style=\"white-space:pre;overflow-x:auto;line-height:normal;font-family:Menlo,'DejaVu Sans Mono',consolas,'Courier New',monospace\">Processing Record <span style=\"color: #008080; text-decoration-color: #008080; font-weight: bold\">6</span> of Set <span style=\"color: #008080; text-decoration-color: #008080; font-weight: bold\">8</span> | soeng sang\n",
       "</pre>\n"
      ],
      "text/plain": [
       "Processing Record \u001b[1;36m6\u001b[0m of Set \u001b[1;36m8\u001b[0m | soeng sang\n"
      ]
     },
     "metadata": {},
     "output_type": "display_data"
    },
    {
     "data": {
      "text/html": [
       "<pre style=\"white-space:pre;overflow-x:auto;line-height:normal;font-family:Menlo,'DejaVu Sans Mono',consolas,'Courier New',monospace\">Processing Record <span style=\"color: #008080; text-decoration-color: #008080; font-weight: bold\">7</span> of Set <span style=\"color: #008080; text-decoration-color: #008080; font-weight: bold\">8</span> | suda\n",
       "</pre>\n"
      ],
      "text/plain": [
       "Processing Record \u001b[1;36m7\u001b[0m of Set \u001b[1;36m8\u001b[0m | suda\n"
      ]
     },
     "metadata": {},
     "output_type": "display_data"
    },
    {
     "data": {
      "text/html": [
       "<pre style=\"white-space:pre;overflow-x:auto;line-height:normal;font-family:Menlo,'DejaVu Sans Mono',consolas,'Courier New',monospace\">Processing Record <span style=\"color: #008080; text-decoration-color: #008080; font-weight: bold\">8</span> of Set <span style=\"color: #008080; text-decoration-color: #008080; font-weight: bold\">8</span> | qapqal\n",
       "</pre>\n"
      ],
      "text/plain": [
       "Processing Record \u001b[1;36m8\u001b[0m of Set \u001b[1;36m8\u001b[0m | qapqal\n"
      ]
     },
     "metadata": {},
     "output_type": "display_data"
    },
    {
     "data": {
      "text/html": [
       "<pre style=\"white-space:pre;overflow-x:auto;line-height:normal;font-family:Menlo,'DejaVu Sans Mono',consolas,'Courier New',monospace\">City not found. Skipping<span style=\"color: #808000; text-decoration-color: #808000\">...</span>\n",
       "</pre>\n"
      ],
      "text/plain": [
       "City not found. Skipping\u001b[33m...\u001b[0m\n"
      ]
     },
     "metadata": {},
     "output_type": "display_data"
    },
    {
     "data": {
      "text/html": [
       "<pre style=\"white-space:pre;overflow-x:auto;line-height:normal;font-family:Menlo,'DejaVu Sans Mono',consolas,'Courier New',monospace\">Processing Record <span style=\"color: #008080; text-decoration-color: #008080; font-weight: bold\">9</span> of Set <span style=\"color: #008080; text-decoration-color: #008080; font-weight: bold\">8</span> | jiutai\n",
       "</pre>\n"
      ],
      "text/plain": [
       "Processing Record \u001b[1;36m9\u001b[0m of Set \u001b[1;36m8\u001b[0m | jiutai\n"
      ]
     },
     "metadata": {},
     "output_type": "display_data"
    },
    {
     "data": {
      "text/html": [
       "<pre style=\"white-space:pre;overflow-x:auto;line-height:normal;font-family:Menlo,'DejaVu Sans Mono',consolas,'Courier New',monospace\">Processing Record <span style=\"color: #008080; text-decoration-color: #008080; font-weight: bold\">10</span> of Set <span style=\"color: #008080; text-decoration-color: #008080; font-weight: bold\">8</span> | cidreira\n",
       "</pre>\n"
      ],
      "text/plain": [
       "Processing Record \u001b[1;36m10\u001b[0m of Set \u001b[1;36m8\u001b[0m | cidreira\n"
      ]
     },
     "metadata": {},
     "output_type": "display_data"
    },
    {
     "data": {
      "text/html": [
       "<pre style=\"white-space:pre;overflow-x:auto;line-height:normal;font-family:Menlo,'DejaVu Sans Mono',consolas,'Courier New',monospace\">Processing Record <span style=\"color: #008080; text-decoration-color: #008080; font-weight: bold\">11</span> of Set <span style=\"color: #008080; text-decoration-color: #008080; font-weight: bold\">8</span> | camiri\n",
       "</pre>\n"
      ],
      "text/plain": [
       "Processing Record \u001b[1;36m11\u001b[0m of Set \u001b[1;36m8\u001b[0m | camiri\n"
      ]
     },
     "metadata": {},
     "output_type": "display_data"
    },
    {
     "data": {
      "text/html": [
       "<pre style=\"white-space:pre;overflow-x:auto;line-height:normal;font-family:Menlo,'DejaVu Sans Mono',consolas,'Courier New',monospace\">Processing Record <span style=\"color: #008080; text-decoration-color: #008080; font-weight: bold\">12</span> of Set <span style=\"color: #008080; text-decoration-color: #008080; font-weight: bold\">8</span> | sonnefeld\n",
       "</pre>\n"
      ],
      "text/plain": [
       "Processing Record \u001b[1;36m12\u001b[0m of Set \u001b[1;36m8\u001b[0m | sonnefeld\n"
      ]
     },
     "metadata": {},
     "output_type": "display_data"
    },
    {
     "data": {
      "text/html": [
       "<pre style=\"white-space:pre;overflow-x:auto;line-height:normal;font-family:Menlo,'DejaVu Sans Mono',consolas,'Courier New',monospace\">Processing Record <span style=\"color: #008080; text-decoration-color: #008080; font-weight: bold\">13</span> of Set <span style=\"color: #008080; text-decoration-color: #008080; font-weight: bold\">8</span> | aswan\n",
       "</pre>\n"
      ],
      "text/plain": [
       "Processing Record \u001b[1;36m13\u001b[0m of Set \u001b[1;36m8\u001b[0m | aswan\n"
      ]
     },
     "metadata": {},
     "output_type": "display_data"
    },
    {
     "data": {
      "text/html": [
       "<pre style=\"white-space:pre;overflow-x:auto;line-height:normal;font-family:Menlo,'DejaVu Sans Mono',consolas,'Courier New',monospace\">Processing Record <span style=\"color: #008080; text-decoration-color: #008080; font-weight: bold\">14</span> of Set <span style=\"color: #008080; text-decoration-color: #008080; font-weight: bold\">8</span> | cestos city\n",
       "</pre>\n"
      ],
      "text/plain": [
       "Processing Record \u001b[1;36m14\u001b[0m of Set \u001b[1;36m8\u001b[0m | cestos city\n"
      ]
     },
     "metadata": {},
     "output_type": "display_data"
    },
    {
     "data": {
      "text/html": [
       "<pre style=\"white-space:pre;overflow-x:auto;line-height:normal;font-family:Menlo,'DejaVu Sans Mono',consolas,'Courier New',monospace\">Processing Record <span style=\"color: #008080; text-decoration-color: #008080; font-weight: bold\">15</span> of Set <span style=\"color: #008080; text-decoration-color: #008080; font-weight: bold\">8</span> | mglin\n",
       "</pre>\n"
      ],
      "text/plain": [
       "Processing Record \u001b[1;36m15\u001b[0m of Set \u001b[1;36m8\u001b[0m | mglin\n"
      ]
     },
     "metadata": {},
     "output_type": "display_data"
    },
    {
     "data": {
      "text/html": [
       "<pre style=\"white-space:pre;overflow-x:auto;line-height:normal;font-family:Menlo,'DejaVu Sans Mono',consolas,'Courier New',monospace\">Processing Record <span style=\"color: #008080; text-decoration-color: #008080; font-weight: bold\">16</span> of Set <span style=\"color: #008080; text-decoration-color: #008080; font-weight: bold\">8</span> | broken hill\n",
       "</pre>\n"
      ],
      "text/plain": [
       "Processing Record \u001b[1;36m16\u001b[0m of Set \u001b[1;36m8\u001b[0m | broken hill\n"
      ]
     },
     "metadata": {},
     "output_type": "display_data"
    },
    {
     "data": {
      "text/html": [
       "<pre style=\"white-space:pre;overflow-x:auto;line-height:normal;font-family:Menlo,'DejaVu Sans Mono',consolas,'Courier New',monospace\">Processing Record <span style=\"color: #008080; text-decoration-color: #008080; font-weight: bold\">17</span> of Set <span style=\"color: #008080; text-decoration-color: #008080; font-weight: bold\">8</span> | lospalos\n",
       "</pre>\n"
      ],
      "text/plain": [
       "Processing Record \u001b[1;36m17\u001b[0m of Set \u001b[1;36m8\u001b[0m | lospalos\n"
      ]
     },
     "metadata": {},
     "output_type": "display_data"
    },
    {
     "data": {
      "text/html": [
       "<pre style=\"white-space:pre;overflow-x:auto;line-height:normal;font-family:Menlo,'DejaVu Sans Mono',consolas,'Courier New',monospace\">Processing Record <span style=\"color: #008080; text-decoration-color: #008080; font-weight: bold\">18</span> of Set <span style=\"color: #008080; text-decoration-color: #008080; font-weight: bold\">8</span> | bloomfield\n",
       "</pre>\n"
      ],
      "text/plain": [
       "Processing Record \u001b[1;36m18\u001b[0m of Set \u001b[1;36m8\u001b[0m | bloomfield\n"
      ]
     },
     "metadata": {},
     "output_type": "display_data"
    },
    {
     "data": {
      "text/html": [
       "<pre style=\"white-space:pre;overflow-x:auto;line-height:normal;font-family:Menlo,'DejaVu Sans Mono',consolas,'Courier New',monospace\">Processing Record <span style=\"color: #008080; text-decoration-color: #008080; font-weight: bold\">19</span> of Set <span style=\"color: #008080; text-decoration-color: #008080; font-weight: bold\">8</span> | scarborough\n",
       "</pre>\n"
      ],
      "text/plain": [
       "Processing Record \u001b[1;36m19\u001b[0m of Set \u001b[1;36m8\u001b[0m | scarborough\n"
      ]
     },
     "metadata": {},
     "output_type": "display_data"
    },
    {
     "data": {
      "text/html": [
       "<pre style=\"white-space:pre;overflow-x:auto;line-height:normal;font-family:Menlo,'DejaVu Sans Mono',consolas,'Courier New',monospace\">Processing Record <span style=\"color: #008080; text-decoration-color: #008080; font-weight: bold\">20</span> of Set <span style=\"color: #008080; text-decoration-color: #008080; font-weight: bold\">8</span> | iskateley\n",
       "</pre>\n"
      ],
      "text/plain": [
       "Processing Record \u001b[1;36m20\u001b[0m of Set \u001b[1;36m8\u001b[0m | iskateley\n"
      ]
     },
     "metadata": {},
     "output_type": "display_data"
    },
    {
     "data": {
      "text/html": [
       "<pre style=\"white-space:pre;overflow-x:auto;line-height:normal;font-family:Menlo,'DejaVu Sans Mono',consolas,'Courier New',monospace\">Processing Record <span style=\"color: #008080; text-decoration-color: #008080; font-weight: bold\">21</span> of Set <span style=\"color: #008080; text-decoration-color: #008080; font-weight: bold\">8</span> | naze\n",
       "</pre>\n"
      ],
      "text/plain": [
       "Processing Record \u001b[1;36m21\u001b[0m of Set \u001b[1;36m8\u001b[0m | naze\n"
      ]
     },
     "metadata": {},
     "output_type": "display_data"
    },
    {
     "data": {
      "text/html": [
       "<pre style=\"white-space:pre;overflow-x:auto;line-height:normal;font-family:Menlo,'DejaVu Sans Mono',consolas,'Courier New',monospace\">Processing Record <span style=\"color: #008080; text-decoration-color: #008080; font-weight: bold\">22</span> of Set <span style=\"color: #008080; text-decoration-color: #008080; font-weight: bold\">8</span> | bemetara\n",
       "</pre>\n"
      ],
      "text/plain": [
       "Processing Record \u001b[1;36m22\u001b[0m of Set \u001b[1;36m8\u001b[0m | bemetara\n"
      ]
     },
     "metadata": {},
     "output_type": "display_data"
    },
    {
     "data": {
      "text/html": [
       "<pre style=\"white-space:pre;overflow-x:auto;line-height:normal;font-family:Menlo,'DejaVu Sans Mono',consolas,'Courier New',monospace\">Processing Record <span style=\"color: #008080; text-decoration-color: #008080; font-weight: bold\">23</span> of Set <span style=\"color: #008080; text-decoration-color: #008080; font-weight: bold\">8</span> | moose jaw\n",
       "</pre>\n"
      ],
      "text/plain": [
       "Processing Record \u001b[1;36m23\u001b[0m of Set \u001b[1;36m8\u001b[0m | moose jaw\n"
      ]
     },
     "metadata": {},
     "output_type": "display_data"
    },
    {
     "data": {
      "text/html": [
       "<pre style=\"white-space:pre;overflow-x:auto;line-height:normal;font-family:Menlo,'DejaVu Sans Mono',consolas,'Courier New',monospace\">Processing Record <span style=\"color: #008080; text-decoration-color: #008080; font-weight: bold\">24</span> of Set <span style=\"color: #008080; text-decoration-color: #008080; font-weight: bold\">8</span> | new plymouth\n",
       "</pre>\n"
      ],
      "text/plain": [
       "Processing Record \u001b[1;36m24\u001b[0m of Set \u001b[1;36m8\u001b[0m | new plymouth\n"
      ]
     },
     "metadata": {},
     "output_type": "display_data"
    },
    {
     "data": {
      "text/html": [
       "<pre style=\"white-space:pre;overflow-x:auto;line-height:normal;font-family:Menlo,'DejaVu Sans Mono',consolas,'Courier New',monospace\">Processing Record <span style=\"color: #008080; text-decoration-color: #008080; font-weight: bold\">25</span> of Set <span style=\"color: #008080; text-decoration-color: #008080; font-weight: bold\">8</span> | pachino\n",
       "</pre>\n"
      ],
      "text/plain": [
       "Processing Record \u001b[1;36m25\u001b[0m of Set \u001b[1;36m8\u001b[0m | pachino\n"
      ]
     },
     "metadata": {},
     "output_type": "display_data"
    },
    {
     "data": {
      "text/html": [
       "<pre style=\"white-space:pre;overflow-x:auto;line-height:normal;font-family:Menlo,'DejaVu Sans Mono',consolas,'Courier New',monospace\">Processing Record <span style=\"color: #008080; text-decoration-color: #008080; font-weight: bold\">26</span> of Set <span style=\"color: #008080; text-decoration-color: #008080; font-weight: bold\">8</span> | dayapar\n",
       "</pre>\n"
      ],
      "text/plain": [
       "Processing Record \u001b[1;36m26\u001b[0m of Set \u001b[1;36m8\u001b[0m | dayapar\n"
      ]
     },
     "metadata": {},
     "output_type": "display_data"
    },
    {
     "data": {
      "text/html": [
       "<pre style=\"white-space:pre;overflow-x:auto;line-height:normal;font-family:Menlo,'DejaVu Sans Mono',consolas,'Courier New',monospace\">City not found. Skipping<span style=\"color: #808000; text-decoration-color: #808000\">...</span>\n",
       "</pre>\n"
      ],
      "text/plain": [
       "City not found. Skipping\u001b[33m...\u001b[0m\n"
      ]
     },
     "metadata": {},
     "output_type": "display_data"
    },
    {
     "data": {
      "text/html": [
       "<pre style=\"white-space:pre;overflow-x:auto;line-height:normal;font-family:Menlo,'DejaVu Sans Mono',consolas,'Courier New',monospace\">Processing Record <span style=\"color: #008080; text-decoration-color: #008080; font-weight: bold\">27</span> of Set <span style=\"color: #008080; text-decoration-color: #008080; font-weight: bold\">8</span> | verkhnevilyuysk\n",
       "</pre>\n"
      ],
      "text/plain": [
       "Processing Record \u001b[1;36m27\u001b[0m of Set \u001b[1;36m8\u001b[0m | verkhnevilyuysk\n"
      ]
     },
     "metadata": {},
     "output_type": "display_data"
    },
    {
     "data": {
      "text/html": [
       "<pre style=\"white-space:pre;overflow-x:auto;line-height:normal;font-family:Menlo,'DejaVu Sans Mono',consolas,'Courier New',monospace\">Processing Record <span style=\"color: #008080; text-decoration-color: #008080; font-weight: bold\">28</span> of Set <span style=\"color: #008080; text-decoration-color: #008080; font-weight: bold\">8</span> | nemuro\n",
       "</pre>\n"
      ],
      "text/plain": [
       "Processing Record \u001b[1;36m28\u001b[0m of Set \u001b[1;36m8\u001b[0m | nemuro\n"
      ]
     },
     "metadata": {},
     "output_type": "display_data"
    },
    {
     "data": {
      "text/html": [
       "<pre style=\"white-space:pre;overflow-x:auto;line-height:normal;font-family:Menlo,'DejaVu Sans Mono',consolas,'Courier New',monospace\">Processing Record <span style=\"color: #008080; text-decoration-color: #008080; font-weight: bold\">29</span> of Set <span style=\"color: #008080; text-decoration-color: #008080; font-weight: bold\">8</span> | devinuwara\n",
       "</pre>\n"
      ],
      "text/plain": [
       "Processing Record \u001b[1;36m29\u001b[0m of Set \u001b[1;36m8\u001b[0m | devinuwara\n"
      ]
     },
     "metadata": {},
     "output_type": "display_data"
    },
    {
     "data": {
      "text/html": [
       "<pre style=\"white-space:pre;overflow-x:auto;line-height:normal;font-family:Menlo,'DejaVu Sans Mono',consolas,'Courier New',monospace\">City not found. Skipping<span style=\"color: #808000; text-decoration-color: #808000\">...</span>\n",
       "</pre>\n"
      ],
      "text/plain": [
       "City not found. Skipping\u001b[33m...\u001b[0m\n"
      ]
     },
     "metadata": {},
     "output_type": "display_data"
    },
    {
     "data": {
      "text/html": [
       "<pre style=\"white-space:pre;overflow-x:auto;line-height:normal;font-family:Menlo,'DejaVu Sans Mono',consolas,'Courier New',monospace\">Processing Record <span style=\"color: #008080; text-decoration-color: #008080; font-weight: bold\">30</span> of Set <span style=\"color: #008080; text-decoration-color: #008080; font-weight: bold\">8</span> | ijuw\n",
       "</pre>\n"
      ],
      "text/plain": [
       "Processing Record \u001b[1;36m30\u001b[0m of Set \u001b[1;36m8\u001b[0m | ijuw\n"
      ]
     },
     "metadata": {},
     "output_type": "display_data"
    },
    {
     "data": {
      "text/html": [
       "<pre style=\"white-space:pre;overflow-x:auto;line-height:normal;font-family:Menlo,'DejaVu Sans Mono',consolas,'Courier New',monospace\">City not found. Skipping<span style=\"color: #808000; text-decoration-color: #808000\">...</span>\n",
       "</pre>\n"
      ],
      "text/plain": [
       "City not found. Skipping\u001b[33m...\u001b[0m\n"
      ]
     },
     "metadata": {},
     "output_type": "display_data"
    },
    {
     "data": {
      "text/html": [
       "<pre style=\"white-space:pre;overflow-x:auto;line-height:normal;font-family:Menlo,'DejaVu Sans Mono',consolas,'Courier New',monospace\">Processing Record <span style=\"color: #008080; text-decoration-color: #008080; font-weight: bold\">31</span> of Set <span style=\"color: #008080; text-decoration-color: #008080; font-weight: bold\">8</span> | miles city\n",
       "</pre>\n"
      ],
      "text/plain": [
       "Processing Record \u001b[1;36m31\u001b[0m of Set \u001b[1;36m8\u001b[0m | miles city\n"
      ]
     },
     "metadata": {},
     "output_type": "display_data"
    },
    {
     "data": {
      "text/html": [
       "<pre style=\"white-space:pre;overflow-x:auto;line-height:normal;font-family:Menlo,'DejaVu Sans Mono',consolas,'Courier New',monospace\">Processing Record <span style=\"color: #008080; text-decoration-color: #008080; font-weight: bold\">32</span> of Set <span style=\"color: #008080; text-decoration-color: #008080; font-weight: bold\">8</span> | galliano\n",
       "</pre>\n"
      ],
      "text/plain": [
       "Processing Record \u001b[1;36m32\u001b[0m of Set \u001b[1;36m8\u001b[0m | galliano\n"
      ]
     },
     "metadata": {},
     "output_type": "display_data"
    },
    {
     "data": {
      "text/html": [
       "<pre style=\"white-space:pre;overflow-x:auto;line-height:normal;font-family:Menlo,'DejaVu Sans Mono',consolas,'Courier New',monospace\">Processing Record <span style=\"color: #008080; text-decoration-color: #008080; font-weight: bold\">33</span> of Set <span style=\"color: #008080; text-decoration-color: #008080; font-weight: bold\">8</span> | west end\n",
       "</pre>\n"
      ],
      "text/plain": [
       "Processing Record \u001b[1;36m33\u001b[0m of Set \u001b[1;36m8\u001b[0m | west end\n"
      ]
     },
     "metadata": {},
     "output_type": "display_data"
    },
    {
     "data": {
      "text/html": [
       "<pre style=\"white-space:pre;overflow-x:auto;line-height:normal;font-family:Menlo,'DejaVu Sans Mono',consolas,'Courier New',monospace\">Processing Record <span style=\"color: #008080; text-decoration-color: #008080; font-weight: bold\">34</span> of Set <span style=\"color: #008080; text-decoration-color: #008080; font-weight: bold\">8</span> | dodge city\n",
       "</pre>\n"
      ],
      "text/plain": [
       "Processing Record \u001b[1;36m34\u001b[0m of Set \u001b[1;36m8\u001b[0m | dodge city\n"
      ]
     },
     "metadata": {},
     "output_type": "display_data"
    },
    {
     "data": {
      "text/html": [
       "<pre style=\"white-space:pre;overflow-x:auto;line-height:normal;font-family:Menlo,'DejaVu Sans Mono',consolas,'Courier New',monospace\">Processing Record <span style=\"color: #008080; text-decoration-color: #008080; font-weight: bold\">35</span> of Set <span style=\"color: #008080; text-decoration-color: #008080; font-weight: bold\">8</span> | 'alaqahdari dishu\n",
       "</pre>\n"
      ],
      "text/plain": [
       "Processing Record \u001b[1;36m35\u001b[0m of Set \u001b[1;36m8\u001b[0m | 'alaqahdari dishu\n"
      ]
     },
     "metadata": {},
     "output_type": "display_data"
    },
    {
     "data": {
      "text/html": [
       "<pre style=\"white-space:pre;overflow-x:auto;line-height:normal;font-family:Menlo,'DejaVu Sans Mono',consolas,'Courier New',monospace\">Processing Record <span style=\"color: #008080; text-decoration-color: #008080; font-weight: bold\">36</span> of Set <span style=\"color: #008080; text-decoration-color: #008080; font-weight: bold\">8</span> | novyy urgal\n",
       "</pre>\n"
      ],
      "text/plain": [
       "Processing Record \u001b[1;36m36\u001b[0m of Set \u001b[1;36m8\u001b[0m | novyy urgal\n"
      ]
     },
     "metadata": {},
     "output_type": "display_data"
    },
    {
     "data": {
      "text/html": [
       "<pre style=\"white-space:pre;overflow-x:auto;line-height:normal;font-family:Menlo,'DejaVu Sans Mono',consolas,'Courier New',monospace\">Processing Record <span style=\"color: #008080; text-decoration-color: #008080; font-weight: bold\">37</span> of Set <span style=\"color: #008080; text-decoration-color: #008080; font-weight: bold\">8</span> | aripuana\n",
       "</pre>\n"
      ],
      "text/plain": [
       "Processing Record \u001b[1;36m37\u001b[0m of Set \u001b[1;36m8\u001b[0m | aripuana\n"
      ]
     },
     "metadata": {},
     "output_type": "display_data"
    },
    {
     "data": {
      "text/html": [
       "<pre style=\"white-space:pre;overflow-x:auto;line-height:normal;font-family:Menlo,'DejaVu Sans Mono',consolas,'Courier New',monospace\">Processing Record <span style=\"color: #008080; text-decoration-color: #008080; font-weight: bold\">38</span> of Set <span style=\"color: #008080; text-decoration-color: #008080; font-weight: bold\">8</span> | lensk\n",
       "</pre>\n"
      ],
      "text/plain": [
       "Processing Record \u001b[1;36m38\u001b[0m of Set \u001b[1;36m8\u001b[0m | lensk\n"
      ]
     },
     "metadata": {},
     "output_type": "display_data"
    },
    {
     "data": {
      "text/html": [
       "<pre style=\"white-space:pre;overflow-x:auto;line-height:normal;font-family:Menlo,'DejaVu Sans Mono',consolas,'Courier New',monospace\">Processing Record <span style=\"color: #008080; text-decoration-color: #008080; font-weight: bold\">39</span> of Set <span style=\"color: #008080; text-decoration-color: #008080; font-weight: bold\">8</span> | kavaratti\n",
       "</pre>\n"
      ],
      "text/plain": [
       "Processing Record \u001b[1;36m39\u001b[0m of Set \u001b[1;36m8\u001b[0m | kavaratti\n"
      ]
     },
     "metadata": {},
     "output_type": "display_data"
    },
    {
     "data": {
      "text/html": [
       "<pre style=\"white-space:pre;overflow-x:auto;line-height:normal;font-family:Menlo,'DejaVu Sans Mono',consolas,'Courier New',monospace\">Processing Record <span style=\"color: #008080; text-decoration-color: #008080; font-weight: bold\">40</span> of Set <span style=\"color: #008080; text-decoration-color: #008080; font-weight: bold\">8</span> | charters towers\n",
       "</pre>\n"
      ],
      "text/plain": [
       "Processing Record \u001b[1;36m40\u001b[0m of Set \u001b[1;36m8\u001b[0m | charters towers\n"
      ]
     },
     "metadata": {},
     "output_type": "display_data"
    },
    {
     "data": {
      "text/html": [
       "<pre style=\"white-space:pre;overflow-x:auto;line-height:normal;font-family:Menlo,'DejaVu Sans Mono',consolas,'Courier New',monospace\">Processing Record <span style=\"color: #008080; text-decoration-color: #008080; font-weight: bold\">41</span> of Set <span style=\"color: #008080; text-decoration-color: #008080; font-weight: bold\">8</span> | kilindoni\n",
       "</pre>\n"
      ],
      "text/plain": [
       "Processing Record \u001b[1;36m41\u001b[0m of Set \u001b[1;36m8\u001b[0m | kilindoni\n"
      ]
     },
     "metadata": {},
     "output_type": "display_data"
    },
    {
     "data": {
      "text/html": [
       "<pre style=\"white-space:pre;overflow-x:auto;line-height:normal;font-family:Menlo,'DejaVu Sans Mono',consolas,'Courier New',monospace\">Processing Record <span style=\"color: #008080; text-decoration-color: #008080; font-weight: bold\">42</span> of Set <span style=\"color: #008080; text-decoration-color: #008080; font-weight: bold\">8</span> | ciudad lazaro cardenas\n",
       "</pre>\n"
      ],
      "text/plain": [
       "Processing Record \u001b[1;36m42\u001b[0m of Set \u001b[1;36m8\u001b[0m | ciudad lazaro cardenas\n"
      ]
     },
     "metadata": {},
     "output_type": "display_data"
    },
    {
     "data": {
      "text/html": [
       "<pre style=\"white-space:pre;overflow-x:auto;line-height:normal;font-family:Menlo,'DejaVu Sans Mono',consolas,'Courier New',monospace\">Processing Record <span style=\"color: #008080; text-decoration-color: #008080; font-weight: bold\">43</span> of Set <span style=\"color: #008080; text-decoration-color: #008080; font-weight: bold\">8</span> | rahatgarh\n",
       "</pre>\n"
      ],
      "text/plain": [
       "Processing Record \u001b[1;36m43\u001b[0m of Set \u001b[1;36m8\u001b[0m | rahatgarh\n"
      ]
     },
     "metadata": {},
     "output_type": "display_data"
    },
    {
     "data": {
      "text/html": [
       "<pre style=\"white-space:pre;overflow-x:auto;line-height:normal;font-family:Menlo,'DejaVu Sans Mono',consolas,'Courier New',monospace\">Processing Record <span style=\"color: #008080; text-decoration-color: #008080; font-weight: bold\">44</span> of Set <span style=\"color: #008080; text-decoration-color: #008080; font-weight: bold\">8</span> | fort bragg\n",
       "</pre>\n"
      ],
      "text/plain": [
       "Processing Record \u001b[1;36m44\u001b[0m of Set \u001b[1;36m8\u001b[0m | fort bragg\n"
      ]
     },
     "metadata": {},
     "output_type": "display_data"
    },
    {
     "data": {
      "text/html": [
       "<pre style=\"white-space:pre;overflow-x:auto;line-height:normal;font-family:Menlo,'DejaVu Sans Mono',consolas,'Courier New',monospace\">Processing Record <span style=\"color: #008080; text-decoration-color: #008080; font-weight: bold\">45</span> of Set <span style=\"color: #008080; text-decoration-color: #008080; font-weight: bold\">8</span> | kone\n",
       "</pre>\n"
      ],
      "text/plain": [
       "Processing Record \u001b[1;36m45\u001b[0m of Set \u001b[1;36m8\u001b[0m | kone\n"
      ]
     },
     "metadata": {},
     "output_type": "display_data"
    },
    {
     "data": {
      "text/html": [
       "<pre style=\"white-space:pre;overflow-x:auto;line-height:normal;font-family:Menlo,'DejaVu Sans Mono',consolas,'Courier New',monospace\">Processing Record <span style=\"color: #008080; text-decoration-color: #008080; font-weight: bold\">46</span> of Set <span style=\"color: #008080; text-decoration-color: #008080; font-weight: bold\">8</span> | viedma\n",
       "</pre>\n"
      ],
      "text/plain": [
       "Processing Record \u001b[1;36m46\u001b[0m of Set \u001b[1;36m8\u001b[0m | viedma\n"
      ]
     },
     "metadata": {},
     "output_type": "display_data"
    },
    {
     "data": {
      "text/html": [
       "<pre style=\"white-space:pre;overflow-x:auto;line-height:normal;font-family:Menlo,'DejaVu Sans Mono',consolas,'Courier New',monospace\">Processing Record <span style=\"color: #008080; text-decoration-color: #008080; font-weight: bold\">47</span> of Set <span style=\"color: #008080; text-decoration-color: #008080; font-weight: bold\">8</span> | richards bay\n",
       "</pre>\n"
      ],
      "text/plain": [
       "Processing Record \u001b[1;36m47\u001b[0m of Set \u001b[1;36m8\u001b[0m | richards bay\n"
      ]
     },
     "metadata": {},
     "output_type": "display_data"
    },
    {
     "data": {
      "text/html": [
       "<pre style=\"white-space:pre;overflow-x:auto;line-height:normal;font-family:Menlo,'DejaVu Sans Mono',consolas,'Courier New',monospace\">Processing Record <span style=\"color: #008080; text-decoration-color: #008080; font-weight: bold\">48</span> of Set <span style=\"color: #008080; text-decoration-color: #008080; font-weight: bold\">8</span> | defuniak springs\n",
       "</pre>\n"
      ],
      "text/plain": [
       "Processing Record \u001b[1;36m48\u001b[0m of Set \u001b[1;36m8\u001b[0m | defuniak springs\n"
      ]
     },
     "metadata": {},
     "output_type": "display_data"
    },
    {
     "data": {
      "text/html": [
       "<pre style=\"white-space:pre;overflow-x:auto;line-height:normal;font-family:Menlo,'DejaVu Sans Mono',consolas,'Courier New',monospace\">Processing Record <span style=\"color: #008080; text-decoration-color: #008080; font-weight: bold\">49</span> of Set <span style=\"color: #008080; text-decoration-color: #008080; font-weight: bold\">8</span> | loikaw\n",
       "</pre>\n"
      ],
      "text/plain": [
       "Processing Record \u001b[1;36m49\u001b[0m of Set \u001b[1;36m8\u001b[0m | loikaw\n"
      ]
     },
     "metadata": {},
     "output_type": "display_data"
    },
    {
     "data": {
      "text/html": [
       "<pre style=\"white-space:pre;overflow-x:auto;line-height:normal;font-family:Menlo,'DejaVu Sans Mono',consolas,'Courier New',monospace\">Processing Record <span style=\"color: #008080; text-decoration-color: #008080; font-weight: bold\">0</span> of Set <span style=\"color: #008080; text-decoration-color: #008080; font-weight: bold\">9</span> | sonbong\n",
       "</pre>\n"
      ],
      "text/plain": [
       "Processing Record \u001b[1;36m0\u001b[0m of Set \u001b[1;36m9\u001b[0m | sonbong\n"
      ]
     },
     "metadata": {},
     "output_type": "display_data"
    },
    {
     "data": {
      "text/html": [
       "<pre style=\"white-space:pre;overflow-x:auto;line-height:normal;font-family:Menlo,'DejaVu Sans Mono',consolas,'Courier New',monospace\">Processing Record <span style=\"color: #008080; text-decoration-color: #008080; font-weight: bold\">1</span> of Set <span style=\"color: #008080; text-decoration-color: #008080; font-weight: bold\">9</span> | chilca\n",
       "</pre>\n"
      ],
      "text/plain": [
       "Processing Record \u001b[1;36m1\u001b[0m of Set \u001b[1;36m9\u001b[0m | chilca\n"
      ]
     },
     "metadata": {},
     "output_type": "display_data"
    },
    {
     "data": {
      "text/html": [
       "<pre style=\"white-space:pre;overflow-x:auto;line-height:normal;font-family:Menlo,'DejaVu Sans Mono',consolas,'Courier New',monospace\">Processing Record <span style=\"color: #008080; text-decoration-color: #008080; font-weight: bold\">2</span> of Set <span style=\"color: #008080; text-decoration-color: #008080; font-weight: bold\">9</span> | madhipura\n",
       "</pre>\n"
      ],
      "text/plain": [
       "Processing Record \u001b[1;36m2\u001b[0m of Set \u001b[1;36m9\u001b[0m | madhipura\n"
      ]
     },
     "metadata": {},
     "output_type": "display_data"
    },
    {
     "data": {
      "text/html": [
       "<pre style=\"white-space:pre;overflow-x:auto;line-height:normal;font-family:Menlo,'DejaVu Sans Mono',consolas,'Courier New',monospace\">Processing Record <span style=\"color: #008080; text-decoration-color: #008080; font-weight: bold\">3</span> of Set <span style=\"color: #008080; text-decoration-color: #008080; font-weight: bold\">9</span> | la paz\n",
       "</pre>\n"
      ],
      "text/plain": [
       "Processing Record \u001b[1;36m3\u001b[0m of Set \u001b[1;36m9\u001b[0m | la paz\n"
      ]
     },
     "metadata": {},
     "output_type": "display_data"
    },
    {
     "data": {
      "text/html": [
       "<pre style=\"white-space:pre;overflow-x:auto;line-height:normal;font-family:Menlo,'DejaVu Sans Mono',consolas,'Courier New',monospace\">Processing Record <span style=\"color: #008080; text-decoration-color: #008080; font-weight: bold\">4</span> of Set <span style=\"color: #008080; text-decoration-color: #008080; font-weight: bold\">9</span> | faya-largeau\n",
       "</pre>\n"
      ],
      "text/plain": [
       "Processing Record \u001b[1;36m4\u001b[0m of Set \u001b[1;36m9\u001b[0m | faya-largeau\n"
      ]
     },
     "metadata": {},
     "output_type": "display_data"
    },
    {
     "data": {
      "text/html": [
       "<pre style=\"white-space:pre;overflow-x:auto;line-height:normal;font-family:Menlo,'DejaVu Sans Mono',consolas,'Courier New',monospace\">Processing Record <span style=\"color: #008080; text-decoration-color: #008080; font-weight: bold\">5</span> of Set <span style=\"color: #008080; text-decoration-color: #008080; font-weight: bold\">9</span> | fengrun\n",
       "</pre>\n"
      ],
      "text/plain": [
       "Processing Record \u001b[1;36m5\u001b[0m of Set \u001b[1;36m9\u001b[0m | fengrun\n"
      ]
     },
     "metadata": {},
     "output_type": "display_data"
    },
    {
     "data": {
      "text/html": [
       "<pre style=\"white-space:pre;overflow-x:auto;line-height:normal;font-family:Menlo,'DejaVu Sans Mono',consolas,'Courier New',monospace\">Processing Record <span style=\"color: #008080; text-decoration-color: #008080; font-weight: bold\">6</span> of Set <span style=\"color: #008080; text-decoration-color: #008080; font-weight: bold\">9</span> | ocean pointe\n",
       "</pre>\n"
      ],
      "text/plain": [
       "Processing Record \u001b[1;36m6\u001b[0m of Set \u001b[1;36m9\u001b[0m | ocean pointe\n"
      ]
     },
     "metadata": {},
     "output_type": "display_data"
    },
    {
     "data": {
      "text/html": [
       "<pre style=\"white-space:pre;overflow-x:auto;line-height:normal;font-family:Menlo,'DejaVu Sans Mono',consolas,'Courier New',monospace\">City not found. Skipping<span style=\"color: #808000; text-decoration-color: #808000\">...</span>\n",
       "</pre>\n"
      ],
      "text/plain": [
       "City not found. Skipping\u001b[33m...\u001b[0m\n"
      ]
     },
     "metadata": {},
     "output_type": "display_data"
    },
    {
     "data": {
      "text/html": [
       "<pre style=\"white-space:pre;overflow-x:auto;line-height:normal;font-family:Menlo,'DejaVu Sans Mono',consolas,'Courier New',monospace\">Processing Record <span style=\"color: #008080; text-decoration-color: #008080; font-weight: bold\">7</span> of Set <span style=\"color: #008080; text-decoration-color: #008080; font-weight: bold\">9</span> | alofi\n",
       "</pre>\n"
      ],
      "text/plain": [
       "Processing Record \u001b[1;36m7\u001b[0m of Set \u001b[1;36m9\u001b[0m | alofi\n"
      ]
     },
     "metadata": {},
     "output_type": "display_data"
    },
    {
     "data": {
      "text/html": [
       "<pre style=\"white-space:pre;overflow-x:auto;line-height:normal;font-family:Menlo,'DejaVu Sans Mono',consolas,'Courier New',monospace\">Processing Record <span style=\"color: #008080; text-decoration-color: #008080; font-weight: bold\">8</span> of Set <span style=\"color: #008080; text-decoration-color: #008080; font-weight: bold\">9</span> | ustka\n",
       "</pre>\n"
      ],
      "text/plain": [
       "Processing Record \u001b[1;36m8\u001b[0m of Set \u001b[1;36m9\u001b[0m | ustka\n"
      ]
     },
     "metadata": {},
     "output_type": "display_data"
    },
    {
     "data": {
      "text/html": [
       "<pre style=\"white-space:pre;overflow-x:auto;line-height:normal;font-family:Menlo,'DejaVu Sans Mono',consolas,'Courier New',monospace\">Processing Record <span style=\"color: #008080; text-decoration-color: #008080; font-weight: bold\">9</span> of Set <span style=\"color: #008080; text-decoration-color: #008080; font-weight: bold\">9</span> | kenai\n",
       "</pre>\n"
      ],
      "text/plain": [
       "Processing Record \u001b[1;36m9\u001b[0m of Set \u001b[1;36m9\u001b[0m | kenai\n"
      ]
     },
     "metadata": {},
     "output_type": "display_data"
    },
    {
     "data": {
      "text/html": [
       "<pre style=\"white-space:pre;overflow-x:auto;line-height:normal;font-family:Menlo,'DejaVu Sans Mono',consolas,'Courier New',monospace\">Processing Record <span style=\"color: #008080; text-decoration-color: #008080; font-weight: bold\">10</span> of Set <span style=\"color: #008080; text-decoration-color: #008080; font-weight: bold\">9</span> | bairnsdale\n",
       "</pre>\n"
      ],
      "text/plain": [
       "Processing Record \u001b[1;36m10\u001b[0m of Set \u001b[1;36m9\u001b[0m | bairnsdale\n"
      ]
     },
     "metadata": {},
     "output_type": "display_data"
    },
    {
     "data": {
      "text/html": [
       "<pre style=\"white-space:pre;overflow-x:auto;line-height:normal;font-family:Menlo,'DejaVu Sans Mono',consolas,'Courier New',monospace\">Processing Record <span style=\"color: #008080; text-decoration-color: #008080; font-weight: bold\">11</span> of Set <span style=\"color: #008080; text-decoration-color: #008080; font-weight: bold\">9</span> | kruisfontein\n",
       "</pre>\n"
      ],
      "text/plain": [
       "Processing Record \u001b[1;36m11\u001b[0m of Set \u001b[1;36m9\u001b[0m | kruisfontein\n"
      ]
     },
     "metadata": {},
     "output_type": "display_data"
    },
    {
     "data": {
      "text/html": [
       "<pre style=\"white-space:pre;overflow-x:auto;line-height:normal;font-family:Menlo,'DejaVu Sans Mono',consolas,'Courier New',monospace\">Processing Record <span style=\"color: #008080; text-decoration-color: #008080; font-weight: bold\">12</span> of Set <span style=\"color: #008080; text-decoration-color: #008080; font-weight: bold\">9</span> | revda\n",
       "</pre>\n"
      ],
      "text/plain": [
       "Processing Record \u001b[1;36m12\u001b[0m of Set \u001b[1;36m9\u001b[0m | revda\n"
      ]
     },
     "metadata": {},
     "output_type": "display_data"
    },
    {
     "data": {
      "text/html": [
       "<pre style=\"white-space:pre;overflow-x:auto;line-height:normal;font-family:Menlo,'DejaVu Sans Mono',consolas,'Courier New',monospace\">Processing Record <span style=\"color: #008080; text-decoration-color: #008080; font-weight: bold\">13</span> of Set <span style=\"color: #008080; text-decoration-color: #008080; font-weight: bold\">9</span> | mersa matruh\n",
       "</pre>\n"
      ],
      "text/plain": [
       "Processing Record \u001b[1;36m13\u001b[0m of Set \u001b[1;36m9\u001b[0m | mersa matruh\n"
      ]
     },
     "metadata": {},
     "output_type": "display_data"
    },
    {
     "data": {
      "text/html": [
       "<pre style=\"white-space:pre;overflow-x:auto;line-height:normal;font-family:Menlo,'DejaVu Sans Mono',consolas,'Courier New',monospace\">Processing Record <span style=\"color: #008080; text-decoration-color: #008080; font-weight: bold\">14</span> of Set <span style=\"color: #008080; text-decoration-color: #008080; font-weight: bold\">9</span> | mar del plata\n",
       "</pre>\n"
      ],
      "text/plain": [
       "Processing Record \u001b[1;36m14\u001b[0m of Set \u001b[1;36m9\u001b[0m | mar del plata\n"
      ]
     },
     "metadata": {},
     "output_type": "display_data"
    },
    {
     "data": {
      "text/html": [
       "<pre style=\"white-space:pre;overflow-x:auto;line-height:normal;font-family:Menlo,'DejaVu Sans Mono',consolas,'Courier New',monospace\">Processing Record <span style=\"color: #008080; text-decoration-color: #008080; font-weight: bold\">15</span> of Set <span style=\"color: #008080; text-decoration-color: #008080; font-weight: bold\">9</span> | datong\n",
       "</pre>\n"
      ],
      "text/plain": [
       "Processing Record \u001b[1;36m15\u001b[0m of Set \u001b[1;36m9\u001b[0m | datong\n"
      ]
     },
     "metadata": {},
     "output_type": "display_data"
    },
    {
     "data": {
      "text/html": [
       "<pre style=\"white-space:pre;overflow-x:auto;line-height:normal;font-family:Menlo,'DejaVu Sans Mono',consolas,'Courier New',monospace\">Processing Record <span style=\"color: #008080; text-decoration-color: #008080; font-weight: bold\">16</span> of Set <span style=\"color: #008080; text-decoration-color: #008080; font-weight: bold\">9</span> | coquimbo\n",
       "</pre>\n"
      ],
      "text/plain": [
       "Processing Record \u001b[1;36m16\u001b[0m of Set \u001b[1;36m9\u001b[0m | coquimbo\n"
      ]
     },
     "metadata": {},
     "output_type": "display_data"
    },
    {
     "data": {
      "text/html": [
       "<pre style=\"white-space:pre;overflow-x:auto;line-height:normal;font-family:Menlo,'DejaVu Sans Mono',consolas,'Courier New',monospace\">Processing Record <span style=\"color: #008080; text-decoration-color: #008080; font-weight: bold\">17</span> of Set <span style=\"color: #008080; text-decoration-color: #008080; font-weight: bold\">9</span> | puerto madryn\n",
       "</pre>\n"
      ],
      "text/plain": [
       "Processing Record \u001b[1;36m17\u001b[0m of Set \u001b[1;36m9\u001b[0m | puerto madryn\n"
      ]
     },
     "metadata": {},
     "output_type": "display_data"
    },
    {
     "data": {
      "text/html": [
       "<pre style=\"white-space:pre;overflow-x:auto;line-height:normal;font-family:Menlo,'DejaVu Sans Mono',consolas,'Courier New',monospace\">Processing Record <span style=\"color: #008080; text-decoration-color: #008080; font-weight: bold\">18</span> of Set <span style=\"color: #008080; text-decoration-color: #008080; font-weight: bold\">9</span> | wahpeton\n",
       "</pre>\n"
      ],
      "text/plain": [
       "Processing Record \u001b[1;36m18\u001b[0m of Set \u001b[1;36m9\u001b[0m | wahpeton\n"
      ]
     },
     "metadata": {},
     "output_type": "display_data"
    },
    {
     "data": {
      "text/html": [
       "<pre style=\"white-space:pre;overflow-x:auto;line-height:normal;font-family:Menlo,'DejaVu Sans Mono',consolas,'Courier New',monospace\">Processing Record <span style=\"color: #008080; text-decoration-color: #008080; font-weight: bold\">19</span> of Set <span style=\"color: #008080; text-decoration-color: #008080; font-weight: bold\">9</span> | goya\n",
       "</pre>\n"
      ],
      "text/plain": [
       "Processing Record \u001b[1;36m19\u001b[0m of Set \u001b[1;36m9\u001b[0m | goya\n"
      ]
     },
     "metadata": {},
     "output_type": "display_data"
    },
    {
     "data": {
      "text/html": [
       "<pre style=\"white-space:pre;overflow-x:auto;line-height:normal;font-family:Menlo,'DejaVu Sans Mono',consolas,'Courier New',monospace\">Processing Record <span style=\"color: #008080; text-decoration-color: #008080; font-weight: bold\">20</span> of Set <span style=\"color: #008080; text-decoration-color: #008080; font-weight: bold\">9</span> | burley\n",
       "</pre>\n"
      ],
      "text/plain": [
       "Processing Record \u001b[1;36m20\u001b[0m of Set \u001b[1;36m9\u001b[0m | burley\n"
      ]
     },
     "metadata": {},
     "output_type": "display_data"
    },
    {
     "data": {
      "text/html": [
       "<pre style=\"white-space:pre;overflow-x:auto;line-height:normal;font-family:Menlo,'DejaVu Sans Mono',consolas,'Courier New',monospace\">Processing Record <span style=\"color: #008080; text-decoration-color: #008080; font-weight: bold\">21</span> of Set <span style=\"color: #008080; text-decoration-color: #008080; font-weight: bold\">9</span> | malangali\n",
       "</pre>\n"
      ],
      "text/plain": [
       "Processing Record \u001b[1;36m21\u001b[0m of Set \u001b[1;36m9\u001b[0m | malangali\n"
      ]
     },
     "metadata": {},
     "output_type": "display_data"
    },
    {
     "data": {
      "text/html": [
       "<pre style=\"white-space:pre;overflow-x:auto;line-height:normal;font-family:Menlo,'DejaVu Sans Mono',consolas,'Courier New',monospace\">Processing Record <span style=\"color: #008080; text-decoration-color: #008080; font-weight: bold\">22</span> of Set <span style=\"color: #008080; text-decoration-color: #008080; font-weight: bold\">9</span> | tchintabaraden\n",
       "</pre>\n"
      ],
      "text/plain": [
       "Processing Record \u001b[1;36m22\u001b[0m of Set \u001b[1;36m9\u001b[0m | tchintabaraden\n"
      ]
     },
     "metadata": {},
     "output_type": "display_data"
    },
    {
     "data": {
      "text/html": [
       "<pre style=\"white-space:pre;overflow-x:auto;line-height:normal;font-family:Menlo,'DejaVu Sans Mono',consolas,'Courier New',monospace\">Processing Record <span style=\"color: #008080; text-decoration-color: #008080; font-weight: bold\">23</span> of Set <span style=\"color: #008080; text-decoration-color: #008080; font-weight: bold\">9</span> | aleksandrov gay\n",
       "</pre>\n"
      ],
      "text/plain": [
       "Processing Record \u001b[1;36m23\u001b[0m of Set \u001b[1;36m9\u001b[0m | aleksandrov gay\n"
      ]
     },
     "metadata": {},
     "output_type": "display_data"
    },
    {
     "data": {
      "text/html": [
       "<pre style=\"white-space:pre;overflow-x:auto;line-height:normal;font-family:Menlo,'DejaVu Sans Mono',consolas,'Courier New',monospace\">Processing Record <span style=\"color: #008080; text-decoration-color: #008080; font-weight: bold\">24</span> of Set <span style=\"color: #008080; text-decoration-color: #008080; font-weight: bold\">9</span> | qarazhal\n",
       "</pre>\n"
      ],
      "text/plain": [
       "Processing Record \u001b[1;36m24\u001b[0m of Set \u001b[1;36m9\u001b[0m | qarazhal\n"
      ]
     },
     "metadata": {},
     "output_type": "display_data"
    },
    {
     "data": {
      "text/html": [
       "<pre style=\"white-space:pre;overflow-x:auto;line-height:normal;font-family:Menlo,'DejaVu Sans Mono',consolas,'Courier New',monospace\">Processing Record <span style=\"color: #008080; text-decoration-color: #008080; font-weight: bold\">25</span> of Set <span style=\"color: #008080; text-decoration-color: #008080; font-weight: bold\">9</span> | gulf breeze\n",
       "</pre>\n"
      ],
      "text/plain": [
       "Processing Record \u001b[1;36m25\u001b[0m of Set \u001b[1;36m9\u001b[0m | gulf breeze\n"
      ]
     },
     "metadata": {},
     "output_type": "display_data"
    },
    {
     "data": {
      "text/html": [
       "<pre style=\"white-space:pre;overflow-x:auto;line-height:normal;font-family:Menlo,'DejaVu Sans Mono',consolas,'Courier New',monospace\">Processing Record <span style=\"color: #008080; text-decoration-color: #008080; font-weight: bold\">26</span> of Set <span style=\"color: #008080; text-decoration-color: #008080; font-weight: bold\">9</span> | brisas de zicatela\n",
       "</pre>\n"
      ],
      "text/plain": [
       "Processing Record \u001b[1;36m26\u001b[0m of Set \u001b[1;36m9\u001b[0m | brisas de zicatela\n"
      ]
     },
     "metadata": {},
     "output_type": "display_data"
    },
    {
     "data": {
      "text/html": [
       "<pre style=\"white-space:pre;overflow-x:auto;line-height:normal;font-family:Menlo,'DejaVu Sans Mono',consolas,'Courier New',monospace\">Processing Record <span style=\"color: #008080; text-decoration-color: #008080; font-weight: bold\">27</span> of Set <span style=\"color: #008080; text-decoration-color: #008080; font-weight: bold\">9</span> | barah\n",
       "</pre>\n"
      ],
      "text/plain": [
       "Processing Record \u001b[1;36m27\u001b[0m of Set \u001b[1;36m9\u001b[0m | barah\n"
      ]
     },
     "metadata": {},
     "output_type": "display_data"
    },
    {
     "data": {
      "text/html": [
       "<pre style=\"white-space:pre;overflow-x:auto;line-height:normal;font-family:Menlo,'DejaVu Sans Mono',consolas,'Courier New',monospace\">Processing Record <span style=\"color: #008080; text-decoration-color: #008080; font-weight: bold\">28</span> of Set <span style=\"color: #008080; text-decoration-color: #008080; font-weight: bold\">9</span> | turochak\n",
       "</pre>\n"
      ],
      "text/plain": [
       "Processing Record \u001b[1;36m28\u001b[0m of Set \u001b[1;36m9\u001b[0m | turochak\n"
      ]
     },
     "metadata": {},
     "output_type": "display_data"
    },
    {
     "data": {
      "text/html": [
       "<pre style=\"white-space:pre;overflow-x:auto;line-height:normal;font-family:Menlo,'DejaVu Sans Mono',consolas,'Courier New',monospace\">Processing Record <span style=\"color: #008080; text-decoration-color: #008080; font-weight: bold\">29</span> of Set <span style=\"color: #008080; text-decoration-color: #008080; font-weight: bold\">9</span> | kiama\n",
       "</pre>\n"
      ],
      "text/plain": [
       "Processing Record \u001b[1;36m29\u001b[0m of Set \u001b[1;36m9\u001b[0m | kiama\n"
      ]
     },
     "metadata": {},
     "output_type": "display_data"
    },
    {
     "data": {
      "text/html": [
       "<pre style=\"white-space:pre;overflow-x:auto;line-height:normal;font-family:Menlo,'DejaVu Sans Mono',consolas,'Courier New',monospace\">Processing Record <span style=\"color: #008080; text-decoration-color: #008080; font-weight: bold\">30</span> of Set <span style=\"color: #008080; text-decoration-color: #008080; font-weight: bold\">9</span> | morehead city\n",
       "</pre>\n"
      ],
      "text/plain": [
       "Processing Record \u001b[1;36m30\u001b[0m of Set \u001b[1;36m9\u001b[0m | morehead city\n"
      ]
     },
     "metadata": {},
     "output_type": "display_data"
    },
    {
     "data": {
      "text/html": [
       "<pre style=\"white-space:pre;overflow-x:auto;line-height:normal;font-family:Menlo,'DejaVu Sans Mono',consolas,'Courier New',monospace\">Processing Record <span style=\"color: #008080; text-decoration-color: #008080; font-weight: bold\">31</span> of Set <span style=\"color: #008080; text-decoration-color: #008080; font-weight: bold\">9</span> | dhidhdhoo\n",
       "</pre>\n"
      ],
      "text/plain": [
       "Processing Record \u001b[1;36m31\u001b[0m of Set \u001b[1;36m9\u001b[0m | dhidhdhoo\n"
      ]
     },
     "metadata": {},
     "output_type": "display_data"
    },
    {
     "data": {
      "text/html": [
       "<pre style=\"white-space:pre;overflow-x:auto;line-height:normal;font-family:Menlo,'DejaVu Sans Mono',consolas,'Courier New',monospace\">Processing Record <span style=\"color: #008080; text-decoration-color: #008080; font-weight: bold\">32</span> of Set <span style=\"color: #008080; text-decoration-color: #008080; font-weight: bold\">9</span> | jaciara\n",
       "</pre>\n"
      ],
      "text/plain": [
       "Processing Record \u001b[1;36m32\u001b[0m of Set \u001b[1;36m9\u001b[0m | jaciara\n"
      ]
     },
     "metadata": {},
     "output_type": "display_data"
    },
    {
     "data": {
      "text/html": [
       "<pre style=\"white-space:pre;overflow-x:auto;line-height:normal;font-family:Menlo,'DejaVu Sans Mono',consolas,'Courier New',monospace\">Processing Record <span style=\"color: #008080; text-decoration-color: #008080; font-weight: bold\">33</span> of Set <span style=\"color: #008080; text-decoration-color: #008080; font-weight: bold\">9</span> | atherton\n",
       "</pre>\n"
      ],
      "text/plain": [
       "Processing Record \u001b[1;36m33\u001b[0m of Set \u001b[1;36m9\u001b[0m | atherton\n"
      ]
     },
     "metadata": {},
     "output_type": "display_data"
    },
    {
     "data": {
      "text/html": [
       "<pre style=\"white-space:pre;overflow-x:auto;line-height:normal;font-family:Menlo,'DejaVu Sans Mono',consolas,'Courier New',monospace\">Processing Record <span style=\"color: #008080; text-decoration-color: #008080; font-weight: bold\">34</span> of Set <span style=\"color: #008080; text-decoration-color: #008080; font-weight: bold\">9</span> | armacao de buzios\n",
       "</pre>\n"
      ],
      "text/plain": [
       "Processing Record \u001b[1;36m34\u001b[0m of Set \u001b[1;36m9\u001b[0m | armacao de buzios\n"
      ]
     },
     "metadata": {},
     "output_type": "display_data"
    },
    {
     "data": {
      "text/html": [
       "<pre style=\"white-space:pre;overflow-x:auto;line-height:normal;font-family:Menlo,'DejaVu Sans Mono',consolas,'Courier New',monospace\">Processing Record <span style=\"color: #008080; text-decoration-color: #008080; font-weight: bold\">35</span> of Set <span style=\"color: #008080; text-decoration-color: #008080; font-weight: bold\">9</span> | alice springs\n",
       "</pre>\n"
      ],
      "text/plain": [
       "Processing Record \u001b[1;36m35\u001b[0m of Set \u001b[1;36m9\u001b[0m | alice springs\n"
      ]
     },
     "metadata": {},
     "output_type": "display_data"
    },
    {
     "data": {
      "text/html": [
       "<pre style=\"white-space:pre;overflow-x:auto;line-height:normal;font-family:Menlo,'DejaVu Sans Mono',consolas,'Courier New',monospace\">Processing Record <span style=\"color: #008080; text-decoration-color: #008080; font-weight: bold\">36</span> of Set <span style=\"color: #008080; text-decoration-color: #008080; font-weight: bold\">9</span> | kalmunai\n",
       "</pre>\n"
      ],
      "text/plain": [
       "Processing Record \u001b[1;36m36\u001b[0m of Set \u001b[1;36m9\u001b[0m | kalmunai\n"
      ]
     },
     "metadata": {},
     "output_type": "display_data"
    },
    {
     "data": {
      "text/html": [
       "<pre style=\"white-space:pre;overflow-x:auto;line-height:normal;font-family:Menlo,'DejaVu Sans Mono',consolas,'Courier New',monospace\">Processing Record <span style=\"color: #008080; text-decoration-color: #008080; font-weight: bold\">37</span> of Set <span style=\"color: #008080; text-decoration-color: #008080; font-weight: bold\">9</span> | idfu\n",
       "</pre>\n"
      ],
      "text/plain": [
       "Processing Record \u001b[1;36m37\u001b[0m of Set \u001b[1;36m9\u001b[0m | idfu\n"
      ]
     },
     "metadata": {},
     "output_type": "display_data"
    },
    {
     "data": {
      "text/html": [
       "<pre style=\"white-space:pre;overflow-x:auto;line-height:normal;font-family:Menlo,'DejaVu Sans Mono',consolas,'Courier New',monospace\">Processing Record <span style=\"color: #008080; text-decoration-color: #008080; font-weight: bold\">38</span> of Set <span style=\"color: #008080; text-decoration-color: #008080; font-weight: bold\">9</span> | tidjikja\n",
       "</pre>\n"
      ],
      "text/plain": [
       "Processing Record \u001b[1;36m38\u001b[0m of Set \u001b[1;36m9\u001b[0m | tidjikja\n"
      ]
     },
     "metadata": {},
     "output_type": "display_data"
    },
    {
     "data": {
      "text/html": [
       "<pre style=\"white-space:pre;overflow-x:auto;line-height:normal;font-family:Menlo,'DejaVu Sans Mono',consolas,'Courier New',monospace\">Processing Record <span style=\"color: #008080; text-decoration-color: #008080; font-weight: bold\">39</span> of Set <span style=\"color: #008080; text-decoration-color: #008080; font-weight: bold\">9</span> | tasbuget\n",
       "</pre>\n"
      ],
      "text/plain": [
       "Processing Record \u001b[1;36m39\u001b[0m of Set \u001b[1;36m9\u001b[0m | tasbuget\n"
      ]
     },
     "metadata": {},
     "output_type": "display_data"
    },
    {
     "data": {
      "text/html": [
       "<pre style=\"white-space:pre;overflow-x:auto;line-height:normal;font-family:Menlo,'DejaVu Sans Mono',consolas,'Courier New',monospace\">City not found. Skipping<span style=\"color: #808000; text-decoration-color: #808000\">...</span>\n",
       "</pre>\n"
      ],
      "text/plain": [
       "City not found. Skipping\u001b[33m...\u001b[0m\n"
      ]
     },
     "metadata": {},
     "output_type": "display_data"
    },
    {
     "data": {
      "text/html": [
       "<pre style=\"white-space:pre;overflow-x:auto;line-height:normal;font-family:Menlo,'DejaVu Sans Mono',consolas,'Courier New',monospace\">Processing Record <span style=\"color: #008080; text-decoration-color: #008080; font-weight: bold\">40</span> of Set <span style=\"color: #008080; text-decoration-color: #008080; font-weight: bold\">9</span> | mirnyy\n",
       "</pre>\n"
      ],
      "text/plain": [
       "Processing Record \u001b[1;36m40\u001b[0m of Set \u001b[1;36m9\u001b[0m | mirnyy\n"
      ]
     },
     "metadata": {},
     "output_type": "display_data"
    },
    {
     "data": {
      "text/html": [
       "<pre style=\"white-space:pre;overflow-x:auto;line-height:normal;font-family:Menlo,'DejaVu Sans Mono',consolas,'Courier New',monospace\">Processing Record <span style=\"color: #008080; text-decoration-color: #008080; font-weight: bold\">41</span> of Set <span style=\"color: #008080; text-decoration-color: #008080; font-weight: bold\">9</span> | elmendorf air force base\n",
       "</pre>\n"
      ],
      "text/plain": [
       "Processing Record \u001b[1;36m41\u001b[0m of Set \u001b[1;36m9\u001b[0m | elmendorf air force base\n"
      ]
     },
     "metadata": {},
     "output_type": "display_data"
    },
    {
     "data": {
      "text/html": [
       "<pre style=\"white-space:pre;overflow-x:auto;line-height:normal;font-family:Menlo,'DejaVu Sans Mono',consolas,'Courier New',monospace\">City not found. Skipping<span style=\"color: #808000; text-decoration-color: #808000\">...</span>\n",
       "</pre>\n"
      ],
      "text/plain": [
       "City not found. Skipping\u001b[33m...\u001b[0m\n"
      ]
     },
     "metadata": {},
     "output_type": "display_data"
    },
    {
     "data": {
      "text/html": [
       "<pre style=\"white-space:pre;overflow-x:auto;line-height:normal;font-family:Menlo,'DejaVu Sans Mono',consolas,'Courier New',monospace\">Processing Record <span style=\"color: #008080; text-decoration-color: #008080; font-weight: bold\">42</span> of Set <span style=\"color: #008080; text-decoration-color: #008080; font-weight: bold\">9</span> | gizo\n",
       "</pre>\n"
      ],
      "text/plain": [
       "Processing Record \u001b[1;36m42\u001b[0m of Set \u001b[1;36m9\u001b[0m | gizo\n"
      ]
     },
     "metadata": {},
     "output_type": "display_data"
    },
    {
     "data": {
      "text/html": [
       "<pre style=\"white-space:pre;overflow-x:auto;line-height:normal;font-family:Menlo,'DejaVu Sans Mono',consolas,'Courier New',monospace\">Processing Record <span style=\"color: #008080; text-decoration-color: #008080; font-weight: bold\">43</span> of Set <span style=\"color: #008080; text-decoration-color: #008080; font-weight: bold\">9</span> | mahina\n",
       "</pre>\n"
      ],
      "text/plain": [
       "Processing Record \u001b[1;36m43\u001b[0m of Set \u001b[1;36m9\u001b[0m | mahina\n"
      ]
     },
     "metadata": {},
     "output_type": "display_data"
    },
    {
     "data": {
      "text/html": [
       "<pre style=\"white-space:pre;overflow-x:auto;line-height:normal;font-family:Menlo,'DejaVu Sans Mono',consolas,'Courier New',monospace\">Processing Record <span style=\"color: #008080; text-decoration-color: #008080; font-weight: bold\">44</span> of Set <span style=\"color: #008080; text-decoration-color: #008080; font-weight: bold\">9</span> | summerland\n",
       "</pre>\n"
      ],
      "text/plain": [
       "Processing Record \u001b[1;36m44\u001b[0m of Set \u001b[1;36m9\u001b[0m | summerland\n"
      ]
     },
     "metadata": {},
     "output_type": "display_data"
    },
    {
     "data": {
      "text/html": [
       "<pre style=\"white-space:pre;overflow-x:auto;line-height:normal;font-family:Menlo,'DejaVu Sans Mono',consolas,'Courier New',monospace\">Processing Record <span style=\"color: #008080; text-decoration-color: #008080; font-weight: bold\">45</span> of Set <span style=\"color: #008080; text-decoration-color: #008080; font-weight: bold\">9</span> | bureya\n",
       "</pre>\n"
      ],
      "text/plain": [
       "Processing Record \u001b[1;36m45\u001b[0m of Set \u001b[1;36m9\u001b[0m | bureya\n"
      ]
     },
     "metadata": {},
     "output_type": "display_data"
    },
    {
     "data": {
      "text/html": [
       "<pre style=\"white-space:pre;overflow-x:auto;line-height:normal;font-family:Menlo,'DejaVu Sans Mono',consolas,'Courier New',monospace\">Processing Record <span style=\"color: #008080; text-decoration-color: #008080; font-weight: bold\">46</span> of Set <span style=\"color: #008080; text-decoration-color: #008080; font-weight: bold\">9</span> | koson\n",
       "</pre>\n"
      ],
      "text/plain": [
       "Processing Record \u001b[1;36m46\u001b[0m of Set \u001b[1;36m9\u001b[0m | koson\n"
      ]
     },
     "metadata": {},
     "output_type": "display_data"
    },
    {
     "data": {
      "text/html": [
       "<pre style=\"white-space:pre;overflow-x:auto;line-height:normal;font-family:Menlo,'DejaVu Sans Mono',consolas,'Courier New',monospace\">Processing Record <span style=\"color: #008080; text-decoration-color: #008080; font-weight: bold\">47</span> of Set <span style=\"color: #008080; text-decoration-color: #008080; font-weight: bold\">9</span> | kuta\n",
       "</pre>\n"
      ],
      "text/plain": [
       "Processing Record \u001b[1;36m47\u001b[0m of Set \u001b[1;36m9\u001b[0m | kuta\n"
      ]
     },
     "metadata": {},
     "output_type": "display_data"
    },
    {
     "data": {
      "text/html": [
       "<pre style=\"white-space:pre;overflow-x:auto;line-height:normal;font-family:Menlo,'DejaVu Sans Mono',consolas,'Courier New',monospace\">Processing Record <span style=\"color: #008080; text-decoration-color: #008080; font-weight: bold\">48</span> of Set <span style=\"color: #008080; text-decoration-color: #008080; font-weight: bold\">9</span> | misratah\n",
       "</pre>\n"
      ],
      "text/plain": [
       "Processing Record \u001b[1;36m48\u001b[0m of Set \u001b[1;36m9\u001b[0m | misratah\n"
      ]
     },
     "metadata": {},
     "output_type": "display_data"
    },
    {
     "data": {
      "text/html": [
       "<pre style=\"white-space:pre;overflow-x:auto;line-height:normal;font-family:Menlo,'DejaVu Sans Mono',consolas,'Courier New',monospace\">Processing Record <span style=\"color: #008080; text-decoration-color: #008080; font-weight: bold\">49</span> of Set <span style=\"color: #008080; text-decoration-color: #008080; font-weight: bold\">9</span> | puerto colombia\n",
       "</pre>\n"
      ],
      "text/plain": [
       "Processing Record \u001b[1;36m49\u001b[0m of Set \u001b[1;36m9\u001b[0m | puerto colombia\n"
      ]
     },
     "metadata": {},
     "output_type": "display_data"
    },
    {
     "data": {
      "text/html": [
       "<pre style=\"white-space:pre;overflow-x:auto;line-height:normal;font-family:Menlo,'DejaVu Sans Mono',consolas,'Courier New',monospace\">Processing Record <span style=\"color: #008080; text-decoration-color: #008080; font-weight: bold\">0</span> of Set <span style=\"color: #008080; text-decoration-color: #008080; font-weight: bold\">10</span> | new yekepa\n",
       "</pre>\n"
      ],
      "text/plain": [
       "Processing Record \u001b[1;36m0\u001b[0m of Set \u001b[1;36m10\u001b[0m | new yekepa\n"
      ]
     },
     "metadata": {},
     "output_type": "display_data"
    },
    {
     "data": {
      "text/html": [
       "<pre style=\"white-space:pre;overflow-x:auto;line-height:normal;font-family:Menlo,'DejaVu Sans Mono',consolas,'Courier New',monospace\">Processing Record <span style=\"color: #008080; text-decoration-color: #008080; font-weight: bold\">1</span> of Set <span style=\"color: #008080; text-decoration-color: #008080; font-weight: bold\">10</span> | namdrik\n",
       "</pre>\n"
      ],
      "text/plain": [
       "Processing Record \u001b[1;36m1\u001b[0m of Set \u001b[1;36m10\u001b[0m | namdrik\n"
      ]
     },
     "metadata": {},
     "output_type": "display_data"
    },
    {
     "data": {
      "text/html": [
       "<pre style=\"white-space:pre;overflow-x:auto;line-height:normal;font-family:Menlo,'DejaVu Sans Mono',consolas,'Courier New',monospace\">Processing Record <span style=\"color: #008080; text-decoration-color: #008080; font-weight: bold\">2</span> of Set <span style=\"color: #008080; text-decoration-color: #008080; font-weight: bold\">10</span> | piti village\n",
       "</pre>\n"
      ],
      "text/plain": [
       "Processing Record \u001b[1;36m2\u001b[0m of Set \u001b[1;36m10\u001b[0m | piti village\n"
      ]
     },
     "metadata": {},
     "output_type": "display_data"
    },
    {
     "data": {
      "text/html": [
       "<pre style=\"white-space:pre;overflow-x:auto;line-height:normal;font-family:Menlo,'DejaVu Sans Mono',consolas,'Courier New',monospace\">Processing Record <span style=\"color: #008080; text-decoration-color: #008080; font-weight: bold\">3</span> of Set <span style=\"color: #008080; text-decoration-color: #008080; font-weight: bold\">10</span> | mount isa\n",
       "</pre>\n"
      ],
      "text/plain": [
       "Processing Record \u001b[1;36m3\u001b[0m of Set \u001b[1;36m10\u001b[0m | mount isa\n"
      ]
     },
     "metadata": {},
     "output_type": "display_data"
    },
    {
     "data": {
      "text/html": [
       "<pre style=\"white-space:pre;overflow-x:auto;line-height:normal;font-family:Menlo,'DejaVu Sans Mono',consolas,'Courier New',monospace\">Processing Record <span style=\"color: #008080; text-decoration-color: #008080; font-weight: bold\">4</span> of Set <span style=\"color: #008080; text-decoration-color: #008080; font-weight: bold\">10</span> | vila velha\n",
       "</pre>\n"
      ],
      "text/plain": [
       "Processing Record \u001b[1;36m4\u001b[0m of Set \u001b[1;36m10\u001b[0m | vila velha\n"
      ]
     },
     "metadata": {},
     "output_type": "display_data"
    },
    {
     "data": {
      "text/html": [
       "<pre style=\"white-space:pre;overflow-x:auto;line-height:normal;font-family:Menlo,'DejaVu Sans Mono',consolas,'Courier New',monospace\">Processing Record <span style=\"color: #008080; text-decoration-color: #008080; font-weight: bold\">5</span> of Set <span style=\"color: #008080; text-decoration-color: #008080; font-weight: bold\">10</span> | usinsk\n",
       "</pre>\n"
      ],
      "text/plain": [
       "Processing Record \u001b[1;36m5\u001b[0m of Set \u001b[1;36m10\u001b[0m | usinsk\n"
      ]
     },
     "metadata": {},
     "output_type": "display_data"
    },
    {
     "data": {
      "text/html": [
       "<pre style=\"white-space:pre;overflow-x:auto;line-height:normal;font-family:Menlo,'DejaVu Sans Mono',consolas,'Courier New',monospace\">Processing Record <span style=\"color: #008080; text-decoration-color: #008080; font-weight: bold\">6</span> of Set <span style=\"color: #008080; text-decoration-color: #008080; font-weight: bold\">10</span> | lillehammer\n",
       "</pre>\n"
      ],
      "text/plain": [
       "Processing Record \u001b[1;36m6\u001b[0m of Set \u001b[1;36m10\u001b[0m | lillehammer\n"
      ]
     },
     "metadata": {},
     "output_type": "display_data"
    },
    {
     "data": {
      "text/html": [
       "<pre style=\"white-space:pre;overflow-x:auto;line-height:normal;font-family:Menlo,'DejaVu Sans Mono',consolas,'Courier New',monospace\">Processing Record <span style=\"color: #008080; text-decoration-color: #008080; font-weight: bold\">7</span> of Set <span style=\"color: #008080; text-decoration-color: #008080; font-weight: bold\">10</span> | shimoda\n",
       "</pre>\n"
      ],
      "text/plain": [
       "Processing Record \u001b[1;36m7\u001b[0m of Set \u001b[1;36m10\u001b[0m | shimoda\n"
      ]
     },
     "metadata": {},
     "output_type": "display_data"
    },
    {
     "data": {
      "text/html": [
       "<pre style=\"white-space:pre;overflow-x:auto;line-height:normal;font-family:Menlo,'DejaVu Sans Mono',consolas,'Courier New',monospace\">Processing Record <span style=\"color: #008080; text-decoration-color: #008080; font-weight: bold\">8</span> of Set <span style=\"color: #008080; text-decoration-color: #008080; font-weight: bold\">10</span> | pathein\n",
       "</pre>\n"
      ],
      "text/plain": [
       "Processing Record \u001b[1;36m8\u001b[0m of Set \u001b[1;36m10\u001b[0m | pathein\n"
      ]
     },
     "metadata": {},
     "output_type": "display_data"
    },
    {
     "data": {
      "text/html": [
       "<pre style=\"white-space:pre;overflow-x:auto;line-height:normal;font-family:Menlo,'DejaVu Sans Mono',consolas,'Courier New',monospace\">Processing Record <span style=\"color: #008080; text-decoration-color: #008080; font-weight: bold\">9</span> of Set <span style=\"color: #008080; text-decoration-color: #008080; font-weight: bold\">10</span> | urangan\n",
       "</pre>\n"
      ],
      "text/plain": [
       "Processing Record \u001b[1;36m9\u001b[0m of Set \u001b[1;36m10\u001b[0m | urangan\n"
      ]
     },
     "metadata": {},
     "output_type": "display_data"
    },
    {
     "data": {
      "text/html": [
       "<pre style=\"white-space:pre;overflow-x:auto;line-height:normal;font-family:Menlo,'DejaVu Sans Mono',consolas,'Courier New',monospace\">Processing Record <span style=\"color: #008080; text-decoration-color: #008080; font-weight: bold\">10</span> of Set <span style=\"color: #008080; text-decoration-color: #008080; font-weight: bold\">10</span> | bikenibeu village\n",
       "</pre>\n"
      ],
      "text/plain": [
       "Processing Record \u001b[1;36m10\u001b[0m of Set \u001b[1;36m10\u001b[0m | bikenibeu village\n"
      ]
     },
     "metadata": {},
     "output_type": "display_data"
    },
    {
     "data": {
      "text/html": [
       "<pre style=\"white-space:pre;overflow-x:auto;line-height:normal;font-family:Menlo,'DejaVu Sans Mono',consolas,'Courier New',monospace\">Processing Record <span style=\"color: #008080; text-decoration-color: #008080; font-weight: bold\">11</span> of Set <span style=\"color: #008080; text-decoration-color: #008080; font-weight: bold\">10</span> | xilin hot\n",
       "</pre>\n"
      ],
      "text/plain": [
       "Processing Record \u001b[1;36m11\u001b[0m of Set \u001b[1;36m10\u001b[0m | xilin hot\n"
      ]
     },
     "metadata": {},
     "output_type": "display_data"
    },
    {
     "data": {
      "text/html": [
       "<pre style=\"white-space:pre;overflow-x:auto;line-height:normal;font-family:Menlo,'DejaVu Sans Mono',consolas,'Courier New',monospace\">Processing Record <span style=\"color: #008080; text-decoration-color: #008080; font-weight: bold\">12</span> of Set <span style=\"color: #008080; text-decoration-color: #008080; font-weight: bold\">10</span> | yeraliyev\n",
       "</pre>\n"
      ],
      "text/plain": [
       "Processing Record \u001b[1;36m12\u001b[0m of Set \u001b[1;36m10\u001b[0m | yeraliyev\n"
      ]
     },
     "metadata": {},
     "output_type": "display_data"
    },
    {
     "data": {
      "text/html": [
       "<pre style=\"white-space:pre;overflow-x:auto;line-height:normal;font-family:Menlo,'DejaVu Sans Mono',consolas,'Courier New',monospace\">Processing Record <span style=\"color: #008080; text-decoration-color: #008080; font-weight: bold\">13</span> of Set <span style=\"color: #008080; text-decoration-color: #008080; font-weight: bold\">10</span> | dubbo\n",
       "</pre>\n"
      ],
      "text/plain": [
       "Processing Record \u001b[1;36m13\u001b[0m of Set \u001b[1;36m10\u001b[0m | dubbo\n"
      ]
     },
     "metadata": {},
     "output_type": "display_data"
    },
    {
     "data": {
      "text/html": [
       "<pre style=\"white-space:pre;overflow-x:auto;line-height:normal;font-family:Menlo,'DejaVu Sans Mono',consolas,'Courier New',monospace\">Processing Record <span style=\"color: #008080; text-decoration-color: #008080; font-weight: bold\">14</span> of Set <span style=\"color: #008080; text-decoration-color: #008080; font-weight: bold\">10</span> | jinka\n",
       "</pre>\n"
      ],
      "text/plain": [
       "Processing Record \u001b[1;36m14\u001b[0m of Set \u001b[1;36m10\u001b[0m | jinka\n"
      ]
     },
     "metadata": {},
     "output_type": "display_data"
    },
    {
     "data": {
      "text/html": [
       "<pre style=\"white-space:pre;overflow-x:auto;line-height:normal;font-family:Menlo,'DejaVu Sans Mono',consolas,'Courier New',monospace\">Processing Record <span style=\"color: #008080; text-decoration-color: #008080; font-weight: bold\">15</span> of Set <span style=\"color: #008080; text-decoration-color: #008080; font-weight: bold\">10</span> | san patricio\n",
       "</pre>\n"
      ],
      "text/plain": [
       "Processing Record \u001b[1;36m15\u001b[0m of Set \u001b[1;36m10\u001b[0m | san patricio\n"
      ]
     },
     "metadata": {},
     "output_type": "display_data"
    },
    {
     "data": {
      "text/html": [
       "<pre style=\"white-space:pre;overflow-x:auto;line-height:normal;font-family:Menlo,'DejaVu Sans Mono',consolas,'Courier New',monospace\">Processing Record <span style=\"color: #008080; text-decoration-color: #008080; font-weight: bold\">16</span> of Set <span style=\"color: #008080; text-decoration-color: #008080; font-weight: bold\">10</span> | benguela\n",
       "</pre>\n"
      ],
      "text/plain": [
       "Processing Record \u001b[1;36m16\u001b[0m of Set \u001b[1;36m10\u001b[0m | benguela\n"
      ]
     },
     "metadata": {},
     "output_type": "display_data"
    },
    {
     "data": {
      "text/html": [
       "<pre style=\"white-space:pre;overflow-x:auto;line-height:normal;font-family:Menlo,'DejaVu Sans Mono',consolas,'Courier New',monospace\">Processing Record <span style=\"color: #008080; text-decoration-color: #008080; font-weight: bold\">17</span> of Set <span style=\"color: #008080; text-decoration-color: #008080; font-weight: bold\">10</span> | luba\n",
       "</pre>\n"
      ],
      "text/plain": [
       "Processing Record \u001b[1;36m17\u001b[0m of Set \u001b[1;36m10\u001b[0m | luba\n"
      ]
     },
     "metadata": {},
     "output_type": "display_data"
    },
    {
     "data": {
      "text/html": [
       "<pre style=\"white-space:pre;overflow-x:auto;line-height:normal;font-family:Menlo,'DejaVu Sans Mono',consolas,'Courier New',monospace\">Processing Record <span style=\"color: #008080; text-decoration-color: #008080; font-weight: bold\">18</span> of Set <span style=\"color: #008080; text-decoration-color: #008080; font-weight: bold\">10</span> | marsabit\n",
       "</pre>\n"
      ],
      "text/plain": [
       "Processing Record \u001b[1;36m18\u001b[0m of Set \u001b[1;36m10\u001b[0m | marsabit\n"
      ]
     },
     "metadata": {},
     "output_type": "display_data"
    },
    {
     "data": {
      "text/html": [
       "<pre style=\"white-space:pre;overflow-x:auto;line-height:normal;font-family:Menlo,'DejaVu Sans Mono',consolas,'Courier New',monospace\">Processing Record <span style=\"color: #008080; text-decoration-color: #008080; font-weight: bold\">19</span> of Set <span style=\"color: #008080; text-decoration-color: #008080; font-weight: bold\">10</span> | key west\n",
       "</pre>\n"
      ],
      "text/plain": [
       "Processing Record \u001b[1;36m19\u001b[0m of Set \u001b[1;36m10\u001b[0m | key west\n"
      ]
     },
     "metadata": {},
     "output_type": "display_data"
    },
    {
     "data": {
      "text/html": [
       "<pre style=\"white-space:pre;overflow-x:auto;line-height:normal;font-family:Menlo,'DejaVu Sans Mono',consolas,'Courier New',monospace\">Processing Record <span style=\"color: #008080; text-decoration-color: #008080; font-weight: bold\">20</span> of Set <span style=\"color: #008080; text-decoration-color: #008080; font-weight: bold\">10</span> | ezine\n",
       "</pre>\n"
      ],
      "text/plain": [
       "Processing Record \u001b[1;36m20\u001b[0m of Set \u001b[1;36m10\u001b[0m | ezine\n"
      ]
     },
     "metadata": {},
     "output_type": "display_data"
    },
    {
     "data": {
      "text/html": [
       "<pre style=\"white-space:pre;overflow-x:auto;line-height:normal;font-family:Menlo,'DejaVu Sans Mono',consolas,'Courier New',monospace\">Processing Record <span style=\"color: #008080; text-decoration-color: #008080; font-weight: bold\">21</span> of Set <span style=\"color: #008080; text-decoration-color: #008080; font-weight: bold\">10</span> | saudarkrokur\n",
       "</pre>\n"
      ],
      "text/plain": [
       "Processing Record \u001b[1;36m21\u001b[0m of Set \u001b[1;36m10\u001b[0m | saudarkrokur\n"
      ]
     },
     "metadata": {},
     "output_type": "display_data"
    },
    {
     "data": {
      "text/html": [
       "<pre style=\"white-space:pre;overflow-x:auto;line-height:normal;font-family:Menlo,'DejaVu Sans Mono',consolas,'Courier New',monospace\">Processing Record <span style=\"color: #008080; text-decoration-color: #008080; font-weight: bold\">22</span> of Set <span style=\"color: #008080; text-decoration-color: #008080; font-weight: bold\">10</span> | susuman\n",
       "</pre>\n"
      ],
      "text/plain": [
       "Processing Record \u001b[1;36m22\u001b[0m of Set \u001b[1;36m10\u001b[0m | susuman\n"
      ]
     },
     "metadata": {},
     "output_type": "display_data"
    },
    {
     "data": {
      "text/html": [
       "<pre style=\"white-space:pre;overflow-x:auto;line-height:normal;font-family:Menlo,'DejaVu Sans Mono',consolas,'Courier New',monospace\">Processing Record <span style=\"color: #008080; text-decoration-color: #008080; font-weight: bold\">23</span> of Set <span style=\"color: #008080; text-decoration-color: #008080; font-weight: bold\">10</span> | pionerskiy\n",
       "</pre>\n"
      ],
      "text/plain": [
       "Processing Record \u001b[1;36m23\u001b[0m of Set \u001b[1;36m10\u001b[0m | pionerskiy\n"
      ]
     },
     "metadata": {},
     "output_type": "display_data"
    },
    {
     "data": {
      "text/html": [
       "<pre style=\"white-space:pre;overflow-x:auto;line-height:normal;font-family:Menlo,'DejaVu Sans Mono',consolas,'Courier New',monospace\">Processing Record <span style=\"color: #008080; text-decoration-color: #008080; font-weight: bold\">24</span> of Set <span style=\"color: #008080; text-decoration-color: #008080; font-weight: bold\">10</span> | saldanha\n",
       "</pre>\n"
      ],
      "text/plain": [
       "Processing Record \u001b[1;36m24\u001b[0m of Set \u001b[1;36m10\u001b[0m | saldanha\n"
      ]
     },
     "metadata": {},
     "output_type": "display_data"
    },
    {
     "data": {
      "text/html": [
       "<pre style=\"white-space:pre;overflow-x:auto;line-height:normal;font-family:Menlo,'DejaVu Sans Mono',consolas,'Courier New',monospace\">Processing Record <span style=\"color: #008080; text-decoration-color: #008080; font-weight: bold\">25</span> of Set <span style=\"color: #008080; text-decoration-color: #008080; font-weight: bold\">10</span> | rechka-vydrino\n",
       "</pre>\n"
      ],
      "text/plain": [
       "Processing Record \u001b[1;36m25\u001b[0m of Set \u001b[1;36m10\u001b[0m | rechka-vydrino\n"
      ]
     },
     "metadata": {},
     "output_type": "display_data"
    },
    {
     "data": {
      "text/html": [
       "<pre style=\"white-space:pre;overflow-x:auto;line-height:normal;font-family:Menlo,'DejaVu Sans Mono',consolas,'Courier New',monospace\">Processing Record <span style=\"color: #008080; text-decoration-color: #008080; font-weight: bold\">26</span> of Set <span style=\"color: #008080; text-decoration-color: #008080; font-weight: bold\">10</span> | sao tome\n",
       "</pre>\n"
      ],
      "text/plain": [
       "Processing Record \u001b[1;36m26\u001b[0m of Set \u001b[1;36m10\u001b[0m | sao tome\n"
      ]
     },
     "metadata": {},
     "output_type": "display_data"
    },
    {
     "data": {
      "text/html": [
       "<pre style=\"white-space:pre;overflow-x:auto;line-height:normal;font-family:Menlo,'DejaVu Sans Mono',consolas,'Courier New',monospace\">Processing Record <span style=\"color: #008080; text-decoration-color: #008080; font-weight: bold\">27</span> of Set <span style=\"color: #008080; text-decoration-color: #008080; font-weight: bold\">10</span> | hasaki\n",
       "</pre>\n"
      ],
      "text/plain": [
       "Processing Record \u001b[1;36m27\u001b[0m of Set \u001b[1;36m10\u001b[0m | hasaki\n"
      ]
     },
     "metadata": {},
     "output_type": "display_data"
    },
    {
     "data": {
      "text/html": [
       "<pre style=\"white-space:pre;overflow-x:auto;line-height:normal;font-family:Menlo,'DejaVu Sans Mono',consolas,'Courier New',monospace\">Processing Record <span style=\"color: #008080; text-decoration-color: #008080; font-weight: bold\">28</span> of Set <span style=\"color: #008080; text-decoration-color: #008080; font-weight: bold\">10</span> | weno\n",
       "</pre>\n"
      ],
      "text/plain": [
       "Processing Record \u001b[1;36m28\u001b[0m of Set \u001b[1;36m10\u001b[0m | weno\n"
      ]
     },
     "metadata": {},
     "output_type": "display_data"
    },
    {
     "data": {
      "text/html": [
       "<pre style=\"white-space:pre;overflow-x:auto;line-height:normal;font-family:Menlo,'DejaVu Sans Mono',consolas,'Courier New',monospace\">Processing Record <span style=\"color: #008080; text-decoration-color: #008080; font-weight: bold\">29</span> of Set <span style=\"color: #008080; text-decoration-color: #008080; font-weight: bold\">10</span> | wailua homesteads\n",
       "</pre>\n"
      ],
      "text/plain": [
       "Processing Record \u001b[1;36m29\u001b[0m of Set \u001b[1;36m10\u001b[0m | wailua homesteads\n"
      ]
     },
     "metadata": {},
     "output_type": "display_data"
    },
    {
     "data": {
      "text/html": [
       "<pre style=\"white-space:pre;overflow-x:auto;line-height:normal;font-family:Menlo,'DejaVu Sans Mono',consolas,'Courier New',monospace\">Processing Record <span style=\"color: #008080; text-decoration-color: #008080; font-weight: bold\">30</span> of Set <span style=\"color: #008080; text-decoration-color: #008080; font-weight: bold\">10</span> | ancud\n",
       "</pre>\n"
      ],
      "text/plain": [
       "Processing Record \u001b[1;36m30\u001b[0m of Set \u001b[1;36m10\u001b[0m | ancud\n"
      ]
     },
     "metadata": {},
     "output_type": "display_data"
    },
    {
     "data": {
      "text/html": [
       "<pre style=\"white-space:pre;overflow-x:auto;line-height:normal;font-family:Menlo,'DejaVu Sans Mono',consolas,'Courier New',monospace\">Processing Record <span style=\"color: #008080; text-decoration-color: #008080; font-weight: bold\">31</span> of Set <span style=\"color: #008080; text-decoration-color: #008080; font-weight: bold\">10</span> | alaghsas\n",
       "</pre>\n"
      ],
      "text/plain": [
       "Processing Record \u001b[1;36m31\u001b[0m of Set \u001b[1;36m10\u001b[0m | alaghsas\n"
      ]
     },
     "metadata": {},
     "output_type": "display_data"
    },
    {
     "data": {
      "text/html": [
       "<pre style=\"white-space:pre;overflow-x:auto;line-height:normal;font-family:Menlo,'DejaVu Sans Mono',consolas,'Courier New',monospace\">Processing Record <span style=\"color: #008080; text-decoration-color: #008080; font-weight: bold\">32</span> of Set <span style=\"color: #008080; text-decoration-color: #008080; font-weight: bold\">10</span> | itoman\n",
       "</pre>\n"
      ],
      "text/plain": [
       "Processing Record \u001b[1;36m32\u001b[0m of Set \u001b[1;36m10\u001b[0m | itoman\n"
      ]
     },
     "metadata": {},
     "output_type": "display_data"
    },
    {
     "data": {
      "text/html": [
       "<pre style=\"white-space:pre;overflow-x:auto;line-height:normal;font-family:Menlo,'DejaVu Sans Mono',consolas,'Courier New',monospace\">Processing Record <span style=\"color: #008080; text-decoration-color: #008080; font-weight: bold\">33</span> of Set <span style=\"color: #008080; text-decoration-color: #008080; font-weight: bold\">10</span> | akrehamn\n",
       "</pre>\n"
      ],
      "text/plain": [
       "Processing Record \u001b[1;36m33\u001b[0m of Set \u001b[1;36m10\u001b[0m | akrehamn\n"
      ]
     },
     "metadata": {},
     "output_type": "display_data"
    },
    {
     "data": {
      "text/html": [
       "<pre style=\"white-space:pre;overflow-x:auto;line-height:normal;font-family:Menlo,'DejaVu Sans Mono',consolas,'Courier New',monospace\">Processing Record <span style=\"color: #008080; text-decoration-color: #008080; font-weight: bold\">34</span> of Set <span style=\"color: #008080; text-decoration-color: #008080; font-weight: bold\">10</span> | mil'kovo\n",
       "</pre>\n"
      ],
      "text/plain": [
       "Processing Record \u001b[1;36m34\u001b[0m of Set \u001b[1;36m10\u001b[0m | mil'kovo\n"
      ]
     },
     "metadata": {},
     "output_type": "display_data"
    },
    {
     "data": {
      "text/html": [
       "<pre style=\"white-space:pre;overflow-x:auto;line-height:normal;font-family:Menlo,'DejaVu Sans Mono',consolas,'Courier New',monospace\">Processing Record <span style=\"color: #008080; text-decoration-color: #008080; font-weight: bold\">35</span> of Set <span style=\"color: #008080; text-decoration-color: #008080; font-weight: bold\">10</span> | agat village\n",
       "</pre>\n"
      ],
      "text/plain": [
       "Processing Record \u001b[1;36m35\u001b[0m of Set \u001b[1;36m10\u001b[0m | agat village\n"
      ]
     },
     "metadata": {},
     "output_type": "display_data"
    },
    {
     "data": {
      "text/html": [
       "<pre style=\"white-space:pre;overflow-x:auto;line-height:normal;font-family:Menlo,'DejaVu Sans Mono',consolas,'Courier New',monospace\">Processing Record <span style=\"color: #008080; text-decoration-color: #008080; font-weight: bold\">36</span> of Set <span style=\"color: #008080; text-decoration-color: #008080; font-weight: bold\">10</span> | suai\n",
       "</pre>\n"
      ],
      "text/plain": [
       "Processing Record \u001b[1;36m36\u001b[0m of Set \u001b[1;36m10\u001b[0m | suai\n"
      ]
     },
     "metadata": {},
     "output_type": "display_data"
    },
    {
     "data": {
      "text/html": [
       "<pre style=\"white-space:pre;overflow-x:auto;line-height:normal;font-family:Menlo,'DejaVu Sans Mono',consolas,'Courier New',monospace\">City not found. Skipping<span style=\"color: #808000; text-decoration-color: #808000\">...</span>\n",
       "</pre>\n"
      ],
      "text/plain": [
       "City not found. Skipping\u001b[33m...\u001b[0m\n"
      ]
     },
     "metadata": {},
     "output_type": "display_data"
    },
    {
     "data": {
      "text/html": [
       "<pre style=\"white-space:pre;overflow-x:auto;line-height:normal;font-family:Menlo,'DejaVu Sans Mono',consolas,'Courier New',monospace\">Processing Record <span style=\"color: #008080; text-decoration-color: #008080; font-weight: bold\">37</span> of Set <span style=\"color: #008080; text-decoration-color: #008080; font-weight: bold\">10</span> | tacarigua\n",
       "</pre>\n"
      ],
      "text/plain": [
       "Processing Record \u001b[1;36m37\u001b[0m of Set \u001b[1;36m10\u001b[0m | tacarigua\n"
      ]
     },
     "metadata": {},
     "output_type": "display_data"
    },
    {
     "data": {
      "text/html": [
       "<pre style=\"white-space:pre;overflow-x:auto;line-height:normal;font-family:Menlo,'DejaVu Sans Mono',consolas,'Courier New',monospace\">Processing Record <span style=\"color: #008080; text-decoration-color: #008080; font-weight: bold\">38</span> of Set <span style=\"color: #008080; text-decoration-color: #008080; font-weight: bold\">10</span> | eastbourne\n",
       "</pre>\n"
      ],
      "text/plain": [
       "Processing Record \u001b[1;36m38\u001b[0m of Set \u001b[1;36m10\u001b[0m | eastbourne\n"
      ]
     },
     "metadata": {},
     "output_type": "display_data"
    },
    {
     "data": {
      "text/html": [
       "<pre style=\"white-space:pre;overflow-x:auto;line-height:normal;font-family:Menlo,'DejaVu Sans Mono',consolas,'Courier New',monospace\">Processing Record <span style=\"color: #008080; text-decoration-color: #008080; font-weight: bold\">39</span> of Set <span style=\"color: #008080; text-decoration-color: #008080; font-weight: bold\">10</span> | pizarro\n",
       "</pre>\n"
      ],
      "text/plain": [
       "Processing Record \u001b[1;36m39\u001b[0m of Set \u001b[1;36m10\u001b[0m | pizarro\n"
      ]
     },
     "metadata": {},
     "output_type": "display_data"
    },
    {
     "data": {
      "text/html": [
       "<pre style=\"white-space:pre;overflow-x:auto;line-height:normal;font-family:Menlo,'DejaVu Sans Mono',consolas,'Courier New',monospace\">Processing Record <span style=\"color: #008080; text-decoration-color: #008080; font-weight: bold\">40</span> of Set <span style=\"color: #008080; text-decoration-color: #008080; font-weight: bold\">10</span> | callao\n",
       "</pre>\n"
      ],
      "text/plain": [
       "Processing Record \u001b[1;36m40\u001b[0m of Set \u001b[1;36m10\u001b[0m | callao\n"
      ]
     },
     "metadata": {},
     "output_type": "display_data"
    },
    {
     "data": {
      "text/html": [
       "<pre style=\"white-space:pre;overflow-x:auto;line-height:normal;font-family:Menlo,'DejaVu Sans Mono',consolas,'Courier New',monospace\">Processing Record <span style=\"color: #008080; text-decoration-color: #008080; font-weight: bold\">41</span> of Set <span style=\"color: #008080; text-decoration-color: #008080; font-weight: bold\">10</span> | selkirk\n",
       "</pre>\n"
      ],
      "text/plain": [
       "Processing Record \u001b[1;36m41\u001b[0m of Set \u001b[1;36m10\u001b[0m | selkirk\n"
      ]
     },
     "metadata": {},
     "output_type": "display_data"
    },
    {
     "data": {
      "text/html": [
       "<pre style=\"white-space:pre;overflow-x:auto;line-height:normal;font-family:Menlo,'DejaVu Sans Mono',consolas,'Courier New',monospace\">Processing Record <span style=\"color: #008080; text-decoration-color: #008080; font-weight: bold\">42</span> of Set <span style=\"color: #008080; text-decoration-color: #008080; font-weight: bold\">10</span> | solone\n",
       "</pre>\n"
      ],
      "text/plain": [
       "Processing Record \u001b[1;36m42\u001b[0m of Set \u001b[1;36m10\u001b[0m | solone\n"
      ]
     },
     "metadata": {},
     "output_type": "display_data"
    },
    {
     "data": {
      "text/html": [
       "<pre style=\"white-space:pre;overflow-x:auto;line-height:normal;font-family:Menlo,'DejaVu Sans Mono',consolas,'Courier New',monospace\">Processing Record <span style=\"color: #008080; text-decoration-color: #008080; font-weight: bold\">43</span> of Set <span style=\"color: #008080; text-decoration-color: #008080; font-weight: bold\">10</span> | ghat\n",
       "</pre>\n"
      ],
      "text/plain": [
       "Processing Record \u001b[1;36m43\u001b[0m of Set \u001b[1;36m10\u001b[0m | ghat\n"
      ]
     },
     "metadata": {},
     "output_type": "display_data"
    },
    {
     "data": {
      "text/html": [
       "<pre style=\"white-space:pre;overflow-x:auto;line-height:normal;font-family:Menlo,'DejaVu Sans Mono',consolas,'Courier New',monospace\">Processing Record <span style=\"color: #008080; text-decoration-color: #008080; font-weight: bold\">44</span> of Set <span style=\"color: #008080; text-decoration-color: #008080; font-weight: bold\">10</span> | soure\n",
       "</pre>\n"
      ],
      "text/plain": [
       "Processing Record \u001b[1;36m44\u001b[0m of Set \u001b[1;36m10\u001b[0m | soure\n"
      ]
     },
     "metadata": {},
     "output_type": "display_data"
    },
    {
     "data": {
      "text/html": [
       "<pre style=\"white-space:pre;overflow-x:auto;line-height:normal;font-family:Menlo,'DejaVu Sans Mono',consolas,'Courier New',monospace\">Processing Record <span style=\"color: #008080; text-decoration-color: #008080; font-weight: bold\">45</span> of Set <span style=\"color: #008080; text-decoration-color: #008080; font-weight: bold\">10</span> | chegdomyn\n",
       "</pre>\n"
      ],
      "text/plain": [
       "Processing Record \u001b[1;36m45\u001b[0m of Set \u001b[1;36m10\u001b[0m | chegdomyn\n"
      ]
     },
     "metadata": {},
     "output_type": "display_data"
    },
    {
     "data": {
      "text/html": [
       "<pre style=\"white-space:pre;overflow-x:auto;line-height:normal;font-family:Menlo,'DejaVu Sans Mono',consolas,'Courier New',monospace\">Processing Record <span style=\"color: #008080; text-decoration-color: #008080; font-weight: bold\">46</span> of Set <span style=\"color: #008080; text-decoration-color: #008080; font-weight: bold\">10</span> | coruripe\n",
       "</pre>\n"
      ],
      "text/plain": [
       "Processing Record \u001b[1;36m46\u001b[0m of Set \u001b[1;36m10\u001b[0m | coruripe\n"
      ]
     },
     "metadata": {},
     "output_type": "display_data"
    },
    {
     "data": {
      "text/html": [
       "<pre style=\"white-space:pre;overflow-x:auto;line-height:normal;font-family:Menlo,'DejaVu Sans Mono',consolas,'Courier New',monospace\">Processing Record <span style=\"color: #008080; text-decoration-color: #008080; font-weight: bold\">47</span> of Set <span style=\"color: #008080; text-decoration-color: #008080; font-weight: bold\">10</span> | yigo village\n",
       "</pre>\n"
      ],
      "text/plain": [
       "Processing Record \u001b[1;36m47\u001b[0m of Set \u001b[1;36m10\u001b[0m | yigo village\n"
      ]
     },
     "metadata": {},
     "output_type": "display_data"
    },
    {
     "data": {
      "text/html": [
       "<pre style=\"white-space:pre;overflow-x:auto;line-height:normal;font-family:Menlo,'DejaVu Sans Mono',consolas,'Courier New',monospace\">Processing Record <span style=\"color: #008080; text-decoration-color: #008080; font-weight: bold\">48</span> of Set <span style=\"color: #008080; text-decoration-color: #008080; font-weight: bold\">10</span> | zhanaozen\n",
       "</pre>\n"
      ],
      "text/plain": [
       "Processing Record \u001b[1;36m48\u001b[0m of Set \u001b[1;36m10\u001b[0m | zhanaozen\n"
      ]
     },
     "metadata": {},
     "output_type": "display_data"
    },
    {
     "data": {
      "text/html": [
       "<pre style=\"white-space:pre;overflow-x:auto;line-height:normal;font-family:Menlo,'DejaVu Sans Mono',consolas,'Courier New',monospace\">Processing Record <span style=\"color: #008080; text-decoration-color: #008080; font-weight: bold\">49</span> of Set <span style=\"color: #008080; text-decoration-color: #008080; font-weight: bold\">10</span> | lakehills\n",
       "</pre>\n"
      ],
      "text/plain": [
       "Processing Record \u001b[1;36m49\u001b[0m of Set \u001b[1;36m10\u001b[0m | lakehills\n"
      ]
     },
     "metadata": {},
     "output_type": "display_data"
    },
    {
     "data": {
      "text/html": [
       "<pre style=\"white-space:pre;overflow-x:auto;line-height:normal;font-family:Menlo,'DejaVu Sans Mono',consolas,'Courier New',monospace\">Processing Record <span style=\"color: #008080; text-decoration-color: #008080; font-weight: bold\">0</span> of Set <span style=\"color: #008080; text-decoration-color: #008080; font-weight: bold\">11</span> | sarmanovo\n",
       "</pre>\n"
      ],
      "text/plain": [
       "Processing Record \u001b[1;36m0\u001b[0m of Set \u001b[1;36m11\u001b[0m | sarmanovo\n"
      ]
     },
     "metadata": {},
     "output_type": "display_data"
    },
    {
     "data": {
      "text/html": [
       "<pre style=\"white-space:pre;overflow-x:auto;line-height:normal;font-family:Menlo,'DejaVu Sans Mono',consolas,'Courier New',monospace\">Processing Record <span style=\"color: #008080; text-decoration-color: #008080; font-weight: bold\">1</span> of Set <span style=\"color: #008080; text-decoration-color: #008080; font-weight: bold\">11</span> | muli\n",
       "</pre>\n"
      ],
      "text/plain": [
       "Processing Record \u001b[1;36m1\u001b[0m of Set \u001b[1;36m11\u001b[0m | muli\n"
      ]
     },
     "metadata": {},
     "output_type": "display_data"
    },
    {
     "data": {
      "text/html": [
       "<pre style=\"white-space:pre;overflow-x:auto;line-height:normal;font-family:Menlo,'DejaVu Sans Mono',consolas,'Courier New',monospace\">Processing Record <span style=\"color: #008080; text-decoration-color: #008080; font-weight: bold\">2</span> of Set <span style=\"color: #008080; text-decoration-color: #008080; font-weight: bold\">11</span> | franceville\n",
       "</pre>\n"
      ],
      "text/plain": [
       "Processing Record \u001b[1;36m2\u001b[0m of Set \u001b[1;36m11\u001b[0m | franceville\n"
      ]
     },
     "metadata": {},
     "output_type": "display_data"
    },
    {
     "data": {
      "text/html": [
       "<pre style=\"white-space:pre;overflow-x:auto;line-height:normal;font-family:Menlo,'DejaVu Sans Mono',consolas,'Courier New',monospace\">Processing Record <span style=\"color: #008080; text-decoration-color: #008080; font-weight: bold\">3</span> of Set <span style=\"color: #008080; text-decoration-color: #008080; font-weight: bold\">11</span> | novo oriente\n",
       "</pre>\n"
      ],
      "text/plain": [
       "Processing Record \u001b[1;36m3\u001b[0m of Set \u001b[1;36m11\u001b[0m | novo oriente\n"
      ]
     },
     "metadata": {},
     "output_type": "display_data"
    },
    {
     "data": {
      "text/html": [
       "<pre style=\"white-space:pre;overflow-x:auto;line-height:normal;font-family:Menlo,'DejaVu Sans Mono',consolas,'Courier New',monospace\">Processing Record <span style=\"color: #008080; text-decoration-color: #008080; font-weight: bold\">4</span> of Set <span style=\"color: #008080; text-decoration-color: #008080; font-weight: bold\">11</span> | punta alta\n",
       "</pre>\n"
      ],
      "text/plain": [
       "Processing Record \u001b[1;36m4\u001b[0m of Set \u001b[1;36m11\u001b[0m | punta alta\n"
      ]
     },
     "metadata": {},
     "output_type": "display_data"
    },
    {
     "data": {
      "text/html": [
       "<pre style=\"white-space:pre;overflow-x:auto;line-height:normal;font-family:Menlo,'DejaVu Sans Mono',consolas,'Courier New',monospace\">Processing Record <span style=\"color: #008080; text-decoration-color: #008080; font-weight: bold\">5</span> of Set <span style=\"color: #008080; text-decoration-color: #008080; font-weight: bold\">11</span> | miyanoura\n",
       "</pre>\n"
      ],
      "text/plain": [
       "Processing Record \u001b[1;36m5\u001b[0m of Set \u001b[1;36m11\u001b[0m | miyanoura\n"
      ]
     },
     "metadata": {},
     "output_type": "display_data"
    },
    {
     "data": {
      "text/html": [
       "<pre style=\"white-space:pre;overflow-x:auto;line-height:normal;font-family:Menlo,'DejaVu Sans Mono',consolas,'Courier New',monospace\">City not found. Skipping<span style=\"color: #808000; text-decoration-color: #808000\">...</span>\n",
       "</pre>\n"
      ],
      "text/plain": [
       "City not found. Skipping\u001b[33m...\u001b[0m\n"
      ]
     },
     "metadata": {},
     "output_type": "display_data"
    },
    {
     "data": {
      "text/html": [
       "<pre style=\"white-space:pre;overflow-x:auto;line-height:normal;font-family:Menlo,'DejaVu Sans Mono',consolas,'Courier New',monospace\">Processing Record <span style=\"color: #008080; text-decoration-color: #008080; font-weight: bold\">6</span> of Set <span style=\"color: #008080; text-decoration-color: #008080; font-weight: bold\">11</span> | kobryn\n",
       "</pre>\n"
      ],
      "text/plain": [
       "Processing Record \u001b[1;36m6\u001b[0m of Set \u001b[1;36m11\u001b[0m | kobryn\n"
      ]
     },
     "metadata": {},
     "output_type": "display_data"
    },
    {
     "data": {
      "text/html": [
       "<pre style=\"white-space:pre;overflow-x:auto;line-height:normal;font-family:Menlo,'DejaVu Sans Mono',consolas,'Courier New',monospace\">Processing Record <span style=\"color: #008080; text-decoration-color: #008080; font-weight: bold\">7</span> of Set <span style=\"color: #008080; text-decoration-color: #008080; font-weight: bold\">11</span> | hassi messaoud\n",
       "</pre>\n"
      ],
      "text/plain": [
       "Processing Record \u001b[1;36m7\u001b[0m of Set \u001b[1;36m11\u001b[0m | hassi messaoud\n"
      ]
     },
     "metadata": {},
     "output_type": "display_data"
    },
    {
     "data": {
      "text/html": [
       "<pre style=\"white-space:pre;overflow-x:auto;line-height:normal;font-family:Menlo,'DejaVu Sans Mono',consolas,'Courier New',monospace\">Processing Record <span style=\"color: #008080; text-decoration-color: #008080; font-weight: bold\">8</span> of Set <span style=\"color: #008080; text-decoration-color: #008080; font-weight: bold\">11</span> | qui nhon\n",
       "</pre>\n"
      ],
      "text/plain": [
       "Processing Record \u001b[1;36m8\u001b[0m of Set \u001b[1;36m11\u001b[0m | qui nhon\n"
      ]
     },
     "metadata": {},
     "output_type": "display_data"
    },
    {
     "data": {
      "text/html": [
       "<pre style=\"white-space:pre;overflow-x:auto;line-height:normal;font-family:Menlo,'DejaVu Sans Mono',consolas,'Courier New',monospace\">Processing Record <span style=\"color: #008080; text-decoration-color: #008080; font-weight: bold\">9</span> of Set <span style=\"color: #008080; text-decoration-color: #008080; font-weight: bold\">11</span> | namibe\n",
       "</pre>\n"
      ],
      "text/plain": [
       "Processing Record \u001b[1;36m9\u001b[0m of Set \u001b[1;36m11\u001b[0m | namibe\n"
      ]
     },
     "metadata": {},
     "output_type": "display_data"
    },
    {
     "data": {
      "text/html": [
       "<pre style=\"white-space:pre;overflow-x:auto;line-height:normal;font-family:Menlo,'DejaVu Sans Mono',consolas,'Courier New',monospace\">Processing Record <span style=\"color: #008080; text-decoration-color: #008080; font-weight: bold\">10</span> of Set <span style=\"color: #008080; text-decoration-color: #008080; font-weight: bold\">11</span> | saint-philippe\n",
       "</pre>\n"
      ],
      "text/plain": [
       "Processing Record \u001b[1;36m10\u001b[0m of Set \u001b[1;36m11\u001b[0m | saint-philippe\n"
      ]
     },
     "metadata": {},
     "output_type": "display_data"
    },
    {
     "data": {
      "text/html": [
       "<pre style=\"white-space:pre;overflow-x:auto;line-height:normal;font-family:Menlo,'DejaVu Sans Mono',consolas,'Courier New',monospace\">Processing Record <span style=\"color: #008080; text-decoration-color: #008080; font-weight: bold\">11</span> of Set <span style=\"color: #008080; text-decoration-color: #008080; font-weight: bold\">11</span> | laojunmiao\n",
       "</pre>\n"
      ],
      "text/plain": [
       "Processing Record \u001b[1;36m11\u001b[0m of Set \u001b[1;36m11\u001b[0m | laojunmiao\n"
      ]
     },
     "metadata": {},
     "output_type": "display_data"
    },
    {
     "data": {
      "text/html": [
       "<pre style=\"white-space:pre;overflow-x:auto;line-height:normal;font-family:Menlo,'DejaVu Sans Mono',consolas,'Courier New',monospace\">Processing Record <span style=\"color: #008080; text-decoration-color: #008080; font-weight: bold\">12</span> of Set <span style=\"color: #008080; text-decoration-color: #008080; font-weight: bold\">11</span> | galappo\n",
       "</pre>\n"
      ],
      "text/plain": [
       "Processing Record \u001b[1;36m12\u001b[0m of Set \u001b[1;36m11\u001b[0m | galappo\n"
      ]
     },
     "metadata": {},
     "output_type": "display_data"
    },
    {
     "data": {
      "text/html": [
       "<pre style=\"white-space:pre;overflow-x:auto;line-height:normal;font-family:Menlo,'DejaVu Sans Mono',consolas,'Courier New',monospace\">Processing Record <span style=\"color: #008080; text-decoration-color: #008080; font-weight: bold\">13</span> of Set <span style=\"color: #008080; text-decoration-color: #008080; font-weight: bold\">11</span> | tura\n",
       "</pre>\n"
      ],
      "text/plain": [
       "Processing Record \u001b[1;36m13\u001b[0m of Set \u001b[1;36m11\u001b[0m | tura\n"
      ]
     },
     "metadata": {},
     "output_type": "display_data"
    },
    {
     "data": {
      "text/html": [
       "<pre style=\"white-space:pre;overflow-x:auto;line-height:normal;font-family:Menlo,'DejaVu Sans Mono',consolas,'Courier New',monospace\">Processing Record <span style=\"color: #008080; text-decoration-color: #008080; font-weight: bold\">14</span> of Set <span style=\"color: #008080; text-decoration-color: #008080; font-weight: bold\">11</span> | la carolina\n",
       "</pre>\n"
      ],
      "text/plain": [
       "Processing Record \u001b[1;36m14\u001b[0m of Set \u001b[1;36m11\u001b[0m | la carolina\n"
      ]
     },
     "metadata": {},
     "output_type": "display_data"
    },
    {
     "data": {
      "text/html": [
       "<pre style=\"white-space:pre;overflow-x:auto;line-height:normal;font-family:Menlo,'DejaVu Sans Mono',consolas,'Courier New',monospace\">Processing Record <span style=\"color: #008080; text-decoration-color: #008080; font-weight: bold\">15</span> of Set <span style=\"color: #008080; text-decoration-color: #008080; font-weight: bold\">11</span> | boonville\n",
       "</pre>\n"
      ],
      "text/plain": [
       "Processing Record \u001b[1;36m15\u001b[0m of Set \u001b[1;36m11\u001b[0m | boonville\n"
      ]
     },
     "metadata": {},
     "output_type": "display_data"
    },
    {
     "data": {
      "text/html": [
       "<pre style=\"white-space:pre;overflow-x:auto;line-height:normal;font-family:Menlo,'DejaVu Sans Mono',consolas,'Courier New',monospace\">Processing Record <span style=\"color: #008080; text-decoration-color: #008080; font-weight: bold\">16</span> of Set <span style=\"color: #008080; text-decoration-color: #008080; font-weight: bold\">11</span> | juneau\n",
       "</pre>\n"
      ],
      "text/plain": [
       "Processing Record \u001b[1;36m16\u001b[0m of Set \u001b[1;36m11\u001b[0m | juneau\n"
      ]
     },
     "metadata": {},
     "output_type": "display_data"
    },
    {
     "data": {
      "text/html": [
       "<pre style=\"white-space:pre;overflow-x:auto;line-height:normal;font-family:Menlo,'DejaVu Sans Mono',consolas,'Courier New',monospace\">Processing Record <span style=\"color: #008080; text-decoration-color: #008080; font-weight: bold\">17</span> of Set <span style=\"color: #008080; text-decoration-color: #008080; font-weight: bold\">11</span> | okha\n",
       "</pre>\n"
      ],
      "text/plain": [
       "Processing Record \u001b[1;36m17\u001b[0m of Set \u001b[1;36m11\u001b[0m | okha\n"
      ]
     },
     "metadata": {},
     "output_type": "display_data"
    },
    {
     "data": {
      "text/html": [
       "<pre style=\"white-space:pre;overflow-x:auto;line-height:normal;font-family:Menlo,'DejaVu Sans Mono',consolas,'Courier New',monospace\">Processing Record <span style=\"color: #008080; text-decoration-color: #008080; font-weight: bold\">18</span> of Set <span style=\"color: #008080; text-decoration-color: #008080; font-weight: bold\">11</span> | bardai\n",
       "</pre>\n"
      ],
      "text/plain": [
       "Processing Record \u001b[1;36m18\u001b[0m of Set \u001b[1;36m11\u001b[0m | bardai\n"
      ]
     },
     "metadata": {},
     "output_type": "display_data"
    },
    {
     "data": {
      "text/html": [
       "<pre style=\"white-space:pre;overflow-x:auto;line-height:normal;font-family:Menlo,'DejaVu Sans Mono',consolas,'Courier New',monospace\">Processing Record <span style=\"color: #008080; text-decoration-color: #008080; font-weight: bold\">19</span> of Set <span style=\"color: #008080; text-decoration-color: #008080; font-weight: bold\">11</span> | kristiansund\n",
       "</pre>\n"
      ],
      "text/plain": [
       "Processing Record \u001b[1;36m19\u001b[0m of Set \u001b[1;36m11\u001b[0m | kristiansund\n"
      ]
     },
     "metadata": {},
     "output_type": "display_data"
    },
    {
     "data": {
      "text/html": [
       "<pre style=\"white-space:pre;overflow-x:auto;line-height:normal;font-family:Menlo,'DejaVu Sans Mono',consolas,'Courier New',monospace\">Processing Record <span style=\"color: #008080; text-decoration-color: #008080; font-weight: bold\">20</span> of Set <span style=\"color: #008080; text-decoration-color: #008080; font-weight: bold\">11</span> | nkurenkuru\n",
       "</pre>\n"
      ],
      "text/plain": [
       "Processing Record \u001b[1;36m20\u001b[0m of Set \u001b[1;36m11\u001b[0m | nkurenkuru\n"
      ]
     },
     "metadata": {},
     "output_type": "display_data"
    },
    {
     "data": {
      "text/html": [
       "<pre style=\"white-space:pre;overflow-x:auto;line-height:normal;font-family:Menlo,'DejaVu Sans Mono',consolas,'Courier New',monospace\">City not found. Skipping<span style=\"color: #808000; text-decoration-color: #808000\">...</span>\n",
       "</pre>\n"
      ],
      "text/plain": [
       "City not found. Skipping\u001b[33m...\u001b[0m\n"
      ]
     },
     "metadata": {},
     "output_type": "display_data"
    },
    {
     "data": {
      "text/html": [
       "<pre style=\"white-space:pre;overflow-x:auto;line-height:normal;font-family:Menlo,'DejaVu Sans Mono',consolas,'Courier New',monospace\">Processing Record <span style=\"color: #008080; text-decoration-color: #008080; font-weight: bold\">21</span> of Set <span style=\"color: #008080; text-decoration-color: #008080; font-weight: bold\">11</span> | hayma'\n",
       "</pre>\n"
      ],
      "text/plain": [
       "Processing Record \u001b[1;36m21\u001b[0m of Set \u001b[1;36m11\u001b[0m | hayma'\n"
      ]
     },
     "metadata": {},
     "output_type": "display_data"
    },
    {
     "data": {
      "text/html": [
       "<pre style=\"white-space:pre;overflow-x:auto;line-height:normal;font-family:Menlo,'DejaVu Sans Mono',consolas,'Courier New',monospace\">City not found. Skipping<span style=\"color: #808000; text-decoration-color: #808000\">...</span>\n",
       "</pre>\n"
      ],
      "text/plain": [
       "City not found. Skipping\u001b[33m...\u001b[0m\n"
      ]
     },
     "metadata": {},
     "output_type": "display_data"
    },
    {
     "data": {
      "text/html": [
       "<pre style=\"white-space:pre;overflow-x:auto;line-height:normal;font-family:Menlo,'DejaVu Sans Mono',consolas,'Courier New',monospace\">Processing Record <span style=\"color: #008080; text-decoration-color: #008080; font-weight: bold\">22</span> of Set <span style=\"color: #008080; text-decoration-color: #008080; font-weight: bold\">11</span> | thunder bay\n",
       "</pre>\n"
      ],
      "text/plain": [
       "Processing Record \u001b[1;36m22\u001b[0m of Set \u001b[1;36m11\u001b[0m | thunder bay\n"
      ]
     },
     "metadata": {},
     "output_type": "display_data"
    },
    {
     "data": {
      "text/html": [
       "<pre style=\"white-space:pre;overflow-x:auto;line-height:normal;font-family:Menlo,'DejaVu Sans Mono',consolas,'Courier New',monospace\">Processing Record <span style=\"color: #008080; text-decoration-color: #008080; font-weight: bold\">23</span> of Set <span style=\"color: #008080; text-decoration-color: #008080; font-weight: bold\">11</span> | sechura\n",
       "</pre>\n"
      ],
      "text/plain": [
       "Processing Record \u001b[1;36m23\u001b[0m of Set \u001b[1;36m11\u001b[0m | sechura\n"
      ]
     },
     "metadata": {},
     "output_type": "display_data"
    },
    {
     "data": {
      "text/html": [
       "<pre style=\"white-space:pre;overflow-x:auto;line-height:normal;font-family:Menlo,'DejaVu Sans Mono',consolas,'Courier New',monospace\">Processing Record <span style=\"color: #008080; text-decoration-color: #008080; font-weight: bold\">24</span> of Set <span style=\"color: #008080; text-decoration-color: #008080; font-weight: bold\">11</span> | alibag\n",
       "</pre>\n"
      ],
      "text/plain": [
       "Processing Record \u001b[1;36m24\u001b[0m of Set \u001b[1;36m11\u001b[0m | alibag\n"
      ]
     },
     "metadata": {},
     "output_type": "display_data"
    },
    {
     "data": {
      "text/html": [
       "<pre style=\"white-space:pre;overflow-x:auto;line-height:normal;font-family:Menlo,'DejaVu Sans Mono',consolas,'Courier New',monospace\">Processing Record <span style=\"color: #008080; text-decoration-color: #008080; font-weight: bold\">25</span> of Set <span style=\"color: #008080; text-decoration-color: #008080; font-weight: bold\">11</span> | peace river\n",
       "</pre>\n"
      ],
      "text/plain": [
       "Processing Record \u001b[1;36m25\u001b[0m of Set \u001b[1;36m11\u001b[0m | peace river\n"
      ]
     },
     "metadata": {},
     "output_type": "display_data"
    },
    {
     "data": {
      "text/html": [
       "<pre style=\"white-space:pre;overflow-x:auto;line-height:normal;font-family:Menlo,'DejaVu Sans Mono',consolas,'Courier New',monospace\">Processing Record <span style=\"color: #008080; text-decoration-color: #008080; font-weight: bold\">26</span> of Set <span style=\"color: #008080; text-decoration-color: #008080; font-weight: bold\">11</span> | swakopmund\n",
       "</pre>\n"
      ],
      "text/plain": [
       "Processing Record \u001b[1;36m26\u001b[0m of Set \u001b[1;36m11\u001b[0m | swakopmund\n"
      ]
     },
     "metadata": {},
     "output_type": "display_data"
    },
    {
     "data": {
      "text/html": [
       "<pre style=\"white-space:pre;overflow-x:auto;line-height:normal;font-family:Menlo,'DejaVu Sans Mono',consolas,'Courier New',monospace\">Processing Record <span style=\"color: #008080; text-decoration-color: #008080; font-weight: bold\">27</span> of Set <span style=\"color: #008080; text-decoration-color: #008080; font-weight: bold\">11</span> | labasa\n",
       "</pre>\n"
      ],
      "text/plain": [
       "Processing Record \u001b[1;36m27\u001b[0m of Set \u001b[1;36m11\u001b[0m | labasa\n"
      ]
     },
     "metadata": {},
     "output_type": "display_data"
    },
    {
     "data": {
      "text/html": [
       "<pre style=\"white-space:pre;overflow-x:auto;line-height:normal;font-family:Menlo,'DejaVu Sans Mono',consolas,'Courier New',monospace\">Processing Record <span style=\"color: #008080; text-decoration-color: #008080; font-weight: bold\">28</span> of Set <span style=\"color: #008080; text-decoration-color: #008080; font-weight: bold\">11</span> | tambopata\n",
       "</pre>\n"
      ],
      "text/plain": [
       "Processing Record \u001b[1;36m28\u001b[0m of Set \u001b[1;36m11\u001b[0m | tambopata\n"
      ]
     },
     "metadata": {},
     "output_type": "display_data"
    },
    {
     "data": {
      "text/html": [
       "<pre style=\"white-space:pre;overflow-x:auto;line-height:normal;font-family:Menlo,'DejaVu Sans Mono',consolas,'Courier New',monospace\">Processing Record <span style=\"color: #008080; text-decoration-color: #008080; font-weight: bold\">29</span> of Set <span style=\"color: #008080; text-decoration-color: #008080; font-weight: bold\">11</span> | antofagasta\n",
       "</pre>\n"
      ],
      "text/plain": [
       "Processing Record \u001b[1;36m29\u001b[0m of Set \u001b[1;36m11\u001b[0m | antofagasta\n"
      ]
     },
     "metadata": {},
     "output_type": "display_data"
    },
    {
     "data": {
      "text/html": [
       "<pre style=\"white-space:pre;overflow-x:auto;line-height:normal;font-family:Menlo,'DejaVu Sans Mono',consolas,'Courier New',monospace\">Processing Record <span style=\"color: #008080; text-decoration-color: #008080; font-weight: bold\">30</span> of Set <span style=\"color: #008080; text-decoration-color: #008080; font-weight: bold\">11</span> | puerto san jose\n",
       "</pre>\n"
      ],
      "text/plain": [
       "Processing Record \u001b[1;36m30\u001b[0m of Set \u001b[1;36m11\u001b[0m | puerto san jose\n"
      ]
     },
     "metadata": {},
     "output_type": "display_data"
    },
    {
     "data": {
      "text/html": [
       "<pre style=\"white-space:pre;overflow-x:auto;line-height:normal;font-family:Menlo,'DejaVu Sans Mono',consolas,'Courier New',monospace\">Processing Record <span style=\"color: #008080; text-decoration-color: #008080; font-weight: bold\">31</span> of Set <span style=\"color: #008080; text-decoration-color: #008080; font-weight: bold\">11</span> | levuka\n",
       "</pre>\n"
      ],
      "text/plain": [
       "Processing Record \u001b[1;36m31\u001b[0m of Set \u001b[1;36m11\u001b[0m | levuka\n"
      ]
     },
     "metadata": {},
     "output_type": "display_data"
    },
    {
     "data": {
      "text/html": [
       "<pre style=\"white-space:pre;overflow-x:auto;line-height:normal;font-family:Menlo,'DejaVu Sans Mono',consolas,'Courier New',monospace\">Processing Record <span style=\"color: #008080; text-decoration-color: #008080; font-weight: bold\">32</span> of Set <span style=\"color: #008080; text-decoration-color: #008080; font-weight: bold\">11</span> | usogorsk\n",
       "</pre>\n"
      ],
      "text/plain": [
       "Processing Record \u001b[1;36m32\u001b[0m of Set \u001b[1;36m11\u001b[0m | usogorsk\n"
      ]
     },
     "metadata": {},
     "output_type": "display_data"
    },
    {
     "data": {
      "text/html": [
       "<pre style=\"white-space:pre;overflow-x:auto;line-height:normal;font-family:Menlo,'DejaVu Sans Mono',consolas,'Courier New',monospace\">Processing Record <span style=\"color: #008080; text-decoration-color: #008080; font-weight: bold\">33</span> of Set <span style=\"color: #008080; text-decoration-color: #008080; font-weight: bold\">11</span> | khorixas\n",
       "</pre>\n"
      ],
      "text/plain": [
       "Processing Record \u001b[1;36m33\u001b[0m of Set \u001b[1;36m11\u001b[0m | khorixas\n"
      ]
     },
     "metadata": {},
     "output_type": "display_data"
    },
    {
     "data": {
      "text/html": [
       "<pre style=\"white-space:pre;overflow-x:auto;line-height:normal;font-family:Menlo,'DejaVu Sans Mono',consolas,'Courier New',monospace\">Processing Record <span style=\"color: #008080; text-decoration-color: #008080; font-weight: bold\">34</span> of Set <span style=\"color: #008080; text-decoration-color: #008080; font-weight: bold\">11</span> | bandiagara\n",
       "</pre>\n"
      ],
      "text/plain": [
       "Processing Record \u001b[1;36m34\u001b[0m of Set \u001b[1;36m11\u001b[0m | bandiagara\n"
      ]
     },
     "metadata": {},
     "output_type": "display_data"
    },
    {
     "data": {
      "text/html": [
       "<pre style=\"white-space:pre;overflow-x:auto;line-height:normal;font-family:Menlo,'DejaVu Sans Mono',consolas,'Courier New',monospace\">Processing Record <span style=\"color: #008080; text-decoration-color: #008080; font-weight: bold\">35</span> of Set <span style=\"color: #008080; text-decoration-color: #008080; font-weight: bold\">11</span> | san-pedro\n",
       "</pre>\n"
      ],
      "text/plain": [
       "Processing Record \u001b[1;36m35\u001b[0m of Set \u001b[1;36m11\u001b[0m | san-pedro\n"
      ]
     },
     "metadata": {},
     "output_type": "display_data"
    },
    {
     "data": {
      "text/html": [
       "<pre style=\"white-space:pre;overflow-x:auto;line-height:normal;font-family:Menlo,'DejaVu Sans Mono',consolas,'Courier New',monospace\">Processing Record <span style=\"color: #008080; text-decoration-color: #008080; font-weight: bold\">36</span> of Set <span style=\"color: #008080; text-decoration-color: #008080; font-weight: bold\">11</span> | palmer\n",
       "</pre>\n"
      ],
      "text/plain": [
       "Processing Record \u001b[1;36m36\u001b[0m of Set \u001b[1;36m11\u001b[0m | palmer\n"
      ]
     },
     "metadata": {},
     "output_type": "display_data"
    },
    {
     "data": {
      "text/html": [
       "<pre style=\"white-space:pre;overflow-x:auto;line-height:normal;font-family:Menlo,'DejaVu Sans Mono',consolas,'Courier New',monospace\">Processing Record <span style=\"color: #008080; text-decoration-color: #008080; font-weight: bold\">37</span> of Set <span style=\"color: #008080; text-decoration-color: #008080; font-weight: bold\">11</span> | gandi\n",
       "</pre>\n"
      ],
      "text/plain": [
       "Processing Record \u001b[1;36m37\u001b[0m of Set \u001b[1;36m11\u001b[0m | gandi\n"
      ]
     },
     "metadata": {},
     "output_type": "display_data"
    },
    {
     "data": {
      "text/html": [
       "<pre style=\"white-space:pre;overflow-x:auto;line-height:normal;font-family:Menlo,'DejaVu Sans Mono',consolas,'Courier New',monospace\">Processing Record <span style=\"color: #008080; text-decoration-color: #008080; font-weight: bold\">38</span> of Set <span style=\"color: #008080; text-decoration-color: #008080; font-weight: bold\">11</span> | hpa-an\n",
       "</pre>\n"
      ],
      "text/plain": [
       "Processing Record \u001b[1;36m38\u001b[0m of Set \u001b[1;36m11\u001b[0m | hpa-an\n"
      ]
     },
     "metadata": {},
     "output_type": "display_data"
    },
    {
     "data": {
      "text/html": [
       "<pre style=\"white-space:pre;overflow-x:auto;line-height:normal;font-family:Menlo,'DejaVu Sans Mono',consolas,'Courier New',monospace\">Processing Record <span style=\"color: #008080; text-decoration-color: #008080; font-weight: bold\">39</span> of Set <span style=\"color: #008080; text-decoration-color: #008080; font-weight: bold\">11</span> | qamdo\n",
       "</pre>\n"
      ],
      "text/plain": [
       "Processing Record \u001b[1;36m39\u001b[0m of Set \u001b[1;36m11\u001b[0m | qamdo\n"
      ]
     },
     "metadata": {},
     "output_type": "display_data"
    },
    {
     "data": {
      "text/html": [
       "<pre style=\"white-space:pre;overflow-x:auto;line-height:normal;font-family:Menlo,'DejaVu Sans Mono',consolas,'Courier New',monospace\">Processing Record <span style=\"color: #008080; text-decoration-color: #008080; font-weight: bold\">40</span> of Set <span style=\"color: #008080; text-decoration-color: #008080; font-weight: bold\">11</span> | cotija de la paz\n",
       "</pre>\n"
      ],
      "text/plain": [
       "Processing Record \u001b[1;36m40\u001b[0m of Set \u001b[1;36m11\u001b[0m | cotija de la paz\n"
      ]
     },
     "metadata": {},
     "output_type": "display_data"
    },
    {
     "data": {
      "text/html": [
       "<pre style=\"white-space:pre;overflow-x:auto;line-height:normal;font-family:Menlo,'DejaVu Sans Mono',consolas,'Courier New',monospace\">Processing Record <span style=\"color: #008080; text-decoration-color: #008080; font-weight: bold\">41</span> of Set <span style=\"color: #008080; text-decoration-color: #008080; font-weight: bold\">11</span> | aldinga beach\n",
       "</pre>\n"
      ],
      "text/plain": [
       "Processing Record \u001b[1;36m41\u001b[0m of Set \u001b[1;36m11\u001b[0m | aldinga beach\n"
      ]
     },
     "metadata": {},
     "output_type": "display_data"
    },
    {
     "data": {
      "text/html": [
       "<pre style=\"white-space:pre;overflow-x:auto;line-height:normal;font-family:Menlo,'DejaVu Sans Mono',consolas,'Courier New',monospace\">Processing Record <span style=\"color: #008080; text-decoration-color: #008080; font-weight: bold\">42</span> of Set <span style=\"color: #008080; text-decoration-color: #008080; font-weight: bold\">11</span> | seaside\n",
       "</pre>\n"
      ],
      "text/plain": [
       "Processing Record \u001b[1;36m42\u001b[0m of Set \u001b[1;36m11\u001b[0m | seaside\n"
      ]
     },
     "metadata": {},
     "output_type": "display_data"
    },
    {
     "data": {
      "text/html": [
       "<pre style=\"white-space:pre;overflow-x:auto;line-height:normal;font-family:Menlo,'DejaVu Sans Mono',consolas,'Courier New',monospace\">Processing Record <span style=\"color: #008080; text-decoration-color: #008080; font-weight: bold\">43</span> of Set <span style=\"color: #008080; text-decoration-color: #008080; font-weight: bold\">11</span> | peterhead\n",
       "</pre>\n"
      ],
      "text/plain": [
       "Processing Record \u001b[1;36m43\u001b[0m of Set \u001b[1;36m11\u001b[0m | peterhead\n"
      ]
     },
     "metadata": {},
     "output_type": "display_data"
    },
    {
     "data": {
      "text/html": [
       "<pre style=\"white-space:pre;overflow-x:auto;line-height:normal;font-family:Menlo,'DejaVu Sans Mono',consolas,'Courier New',monospace\">Processing Record <span style=\"color: #008080; text-decoration-color: #008080; font-weight: bold\">44</span> of Set <span style=\"color: #008080; text-decoration-color: #008080; font-weight: bold\">11</span> | serov\n",
       "</pre>\n"
      ],
      "text/plain": [
       "Processing Record \u001b[1;36m44\u001b[0m of Set \u001b[1;36m11\u001b[0m | serov\n"
      ]
     },
     "metadata": {},
     "output_type": "display_data"
    },
    {
     "data": {
      "text/html": [
       "<pre style=\"white-space:pre;overflow-x:auto;line-height:normal;font-family:Menlo,'DejaVu Sans Mono',consolas,'Courier New',monospace\">Processing Record <span style=\"color: #008080; text-decoration-color: #008080; font-weight: bold\">45</span> of Set <span style=\"color: #008080; text-decoration-color: #008080; font-weight: bold\">11</span> | gaya\n",
       "</pre>\n"
      ],
      "text/plain": [
       "Processing Record \u001b[1;36m45\u001b[0m of Set \u001b[1;36m11\u001b[0m | gaya\n"
      ]
     },
     "metadata": {},
     "output_type": "display_data"
    },
    {
     "data": {
      "text/html": [
       "<pre style=\"white-space:pre;overflow-x:auto;line-height:normal;font-family:Menlo,'DejaVu Sans Mono',consolas,'Courier New',monospace\">Processing Record <span style=\"color: #008080; text-decoration-color: #008080; font-weight: bold\">46</span> of Set <span style=\"color: #008080; text-decoration-color: #008080; font-weight: bold\">11</span> | san jose del guaviare\n",
       "</pre>\n"
      ],
      "text/plain": [
       "Processing Record \u001b[1;36m46\u001b[0m of Set \u001b[1;36m11\u001b[0m | san jose del guaviare\n"
      ]
     },
     "metadata": {},
     "output_type": "display_data"
    },
    {
     "data": {
      "text/html": [
       "<pre style=\"white-space:pre;overflow-x:auto;line-height:normal;font-family:Menlo,'DejaVu Sans Mono',consolas,'Courier New',monospace\">Processing Record <span style=\"color: #008080; text-decoration-color: #008080; font-weight: bold\">47</span> of Set <span style=\"color: #008080; text-decoration-color: #008080; font-weight: bold\">11</span> | morant bay\n",
       "</pre>\n"
      ],
      "text/plain": [
       "Processing Record \u001b[1;36m47\u001b[0m of Set \u001b[1;36m11\u001b[0m | morant bay\n"
      ]
     },
     "metadata": {},
     "output_type": "display_data"
    },
    {
     "data": {
      "text/html": [
       "<pre style=\"white-space:pre;overflow-x:auto;line-height:normal;font-family:Menlo,'DejaVu Sans Mono',consolas,'Courier New',monospace\">Processing Record <span style=\"color: #008080; text-decoration-color: #008080; font-weight: bold\">48</span> of Set <span style=\"color: #008080; text-decoration-color: #008080; font-weight: bold\">11</span> | bakchar\n",
       "</pre>\n"
      ],
      "text/plain": [
       "Processing Record \u001b[1;36m48\u001b[0m of Set \u001b[1;36m11\u001b[0m | bakchar\n"
      ]
     },
     "metadata": {},
     "output_type": "display_data"
    },
    {
     "data": {
      "text/html": [
       "<pre style=\"white-space:pre;overflow-x:auto;line-height:normal;font-family:Menlo,'DejaVu Sans Mono',consolas,'Courier New',monospace\">Processing Record <span style=\"color: #008080; text-decoration-color: #008080; font-weight: bold\">49</span> of Set <span style=\"color: #008080; text-decoration-color: #008080; font-weight: bold\">11</span> | uliastay\n",
       "</pre>\n"
      ],
      "text/plain": [
       "Processing Record \u001b[1;36m49\u001b[0m of Set \u001b[1;36m11\u001b[0m | uliastay\n"
      ]
     },
     "metadata": {},
     "output_type": "display_data"
    },
    {
     "data": {
      "text/html": [
       "<pre style=\"white-space:pre;overflow-x:auto;line-height:normal;font-family:Menlo,'DejaVu Sans Mono',consolas,'Courier New',monospace\">Processing Record <span style=\"color: #008080; text-decoration-color: #008080; font-weight: bold\">0</span> of Set <span style=\"color: #008080; text-decoration-color: #008080; font-weight: bold\">12</span> | vadso\n",
       "</pre>\n"
      ],
      "text/plain": [
       "Processing Record \u001b[1;36m0\u001b[0m of Set \u001b[1;36m12\u001b[0m | vadso\n"
      ]
     },
     "metadata": {},
     "output_type": "display_data"
    },
    {
     "data": {
      "text/html": [
       "<pre style=\"white-space:pre;overflow-x:auto;line-height:normal;font-family:Menlo,'DejaVu Sans Mono',consolas,'Courier New',monospace\">Processing Record <span style=\"color: #008080; text-decoration-color: #008080; font-weight: bold\">1</span> of Set <span style=\"color: #008080; text-decoration-color: #008080; font-weight: bold\">12</span> | am timan\n",
       "</pre>\n"
      ],
      "text/plain": [
       "Processing Record \u001b[1;36m1\u001b[0m of Set \u001b[1;36m12\u001b[0m | am timan\n"
      ]
     },
     "metadata": {},
     "output_type": "display_data"
    },
    {
     "data": {
      "text/html": [
       "<pre style=\"white-space:pre;overflow-x:auto;line-height:normal;font-family:Menlo,'DejaVu Sans Mono',consolas,'Courier New',monospace\">Processing Record <span style=\"color: #008080; text-decoration-color: #008080; font-weight: bold\">2</span> of Set <span style=\"color: #008080; text-decoration-color: #008080; font-weight: bold\">12</span> | malinyi\n",
       "</pre>\n"
      ],
      "text/plain": [
       "Processing Record \u001b[1;36m2\u001b[0m of Set \u001b[1;36m12\u001b[0m | malinyi\n"
      ]
     },
     "metadata": {},
     "output_type": "display_data"
    },
    {
     "data": {
      "text/html": [
       "<pre style=\"white-space:pre;overflow-x:auto;line-height:normal;font-family:Menlo,'DejaVu Sans Mono',consolas,'Courier New',monospace\">Processing Record <span style=\"color: #008080; text-decoration-color: #008080; font-weight: bold\">3</span> of Set <span style=\"color: #008080; text-decoration-color: #008080; font-weight: bold\">12</span> | fukuecho\n",
       "</pre>\n"
      ],
      "text/plain": [
       "Processing Record \u001b[1;36m3\u001b[0m of Set \u001b[1;36m12\u001b[0m | fukuecho\n"
      ]
     },
     "metadata": {},
     "output_type": "display_data"
    },
    {
     "data": {
      "text/html": [
       "<pre style=\"white-space:pre;overflow-x:auto;line-height:normal;font-family:Menlo,'DejaVu Sans Mono',consolas,'Courier New',monospace\">Processing Record <span style=\"color: #008080; text-decoration-color: #008080; font-weight: bold\">4</span> of Set <span style=\"color: #008080; text-decoration-color: #008080; font-weight: bold\">12</span> | bhimunipatnam\n",
       "</pre>\n"
      ],
      "text/plain": [
       "Processing Record \u001b[1;36m4\u001b[0m of Set \u001b[1;36m12\u001b[0m | bhimunipatnam\n"
      ]
     },
     "metadata": {},
     "output_type": "display_data"
    },
    {
     "data": {
      "text/html": [
       "<pre style=\"white-space:pre;overflow-x:auto;line-height:normal;font-family:Menlo,'DejaVu Sans Mono',consolas,'Courier New',monospace\">Processing Record <span style=\"color: #008080; text-decoration-color: #008080; font-weight: bold\">5</span> of Set <span style=\"color: #008080; text-decoration-color: #008080; font-weight: bold\">12</span> | malabar\n",
       "</pre>\n"
      ],
      "text/plain": [
       "Processing Record \u001b[1;36m5\u001b[0m of Set \u001b[1;36m12\u001b[0m | malabar\n"
      ]
     },
     "metadata": {},
     "output_type": "display_data"
    },
    {
     "data": {
      "text/html": [
       "<pre style=\"white-space:pre;overflow-x:auto;line-height:normal;font-family:Menlo,'DejaVu Sans Mono',consolas,'Courier New',monospace\">Processing Record <span style=\"color: #008080; text-decoration-color: #008080; font-weight: bold\">6</span> of Set <span style=\"color: #008080; text-decoration-color: #008080; font-weight: bold\">12</span> | vingt cinq\n",
       "</pre>\n"
      ],
      "text/plain": [
       "Processing Record \u001b[1;36m6\u001b[0m of Set \u001b[1;36m12\u001b[0m | vingt cinq\n"
      ]
     },
     "metadata": {},
     "output_type": "display_data"
    },
    {
     "data": {
      "text/html": [
       "<pre style=\"white-space:pre;overflow-x:auto;line-height:normal;font-family:Menlo,'DejaVu Sans Mono',consolas,'Courier New',monospace\">City not found. Skipping<span style=\"color: #808000; text-decoration-color: #808000\">...</span>\n",
       "</pre>\n"
      ],
      "text/plain": [
       "City not found. Skipping\u001b[33m...\u001b[0m\n"
      ]
     },
     "metadata": {},
     "output_type": "display_data"
    },
    {
     "data": {
      "text/html": [
       "<pre style=\"white-space:pre;overflow-x:auto;line-height:normal;font-family:Menlo,'DejaVu Sans Mono',consolas,'Courier New',monospace\">Processing Record <span style=\"color: #008080; text-decoration-color: #008080; font-weight: bold\">7</span> of Set <span style=\"color: #008080; text-decoration-color: #008080; font-weight: bold\">12</span> | mount gambier\n",
       "</pre>\n"
      ],
      "text/plain": [
       "Processing Record \u001b[1;36m7\u001b[0m of Set \u001b[1;36m12\u001b[0m | mount gambier\n"
      ]
     },
     "metadata": {},
     "output_type": "display_data"
    },
    {
     "data": {
      "text/html": [
       "<pre style=\"white-space:pre;overflow-x:auto;line-height:normal;font-family:Menlo,'DejaVu Sans Mono',consolas,'Courier New',monospace\">Processing Record <span style=\"color: #008080; text-decoration-color: #008080; font-weight: bold\">8</span> of Set <span style=\"color: #008080; text-decoration-color: #008080; font-weight: bold\">12</span> | ilha de mocambique\n",
       "</pre>\n"
      ],
      "text/plain": [
       "Processing Record \u001b[1;36m8\u001b[0m of Set \u001b[1;36m12\u001b[0m | ilha de mocambique\n"
      ]
     },
     "metadata": {},
     "output_type": "display_data"
    },
    {
     "data": {
      "text/html": [
       "<pre style=\"white-space:pre;overflow-x:auto;line-height:normal;font-family:Menlo,'DejaVu Sans Mono',consolas,'Courier New',monospace\">Processing Record <span style=\"color: #008080; text-decoration-color: #008080; font-weight: bold\">9</span> of Set <span style=\"color: #008080; text-decoration-color: #008080; font-weight: bold\">12</span> | knyaze-volkonskoye\n",
       "</pre>\n"
      ],
      "text/plain": [
       "Processing Record \u001b[1;36m9\u001b[0m of Set \u001b[1;36m12\u001b[0m | knyaze-volkonskoye\n"
      ]
     },
     "metadata": {},
     "output_type": "display_data"
    },
    {
     "data": {
      "text/html": [
       "<pre style=\"white-space:pre;overflow-x:auto;line-height:normal;font-family:Menlo,'DejaVu Sans Mono',consolas,'Courier New',monospace\">Processing Record <span style=\"color: #008080; text-decoration-color: #008080; font-weight: bold\">10</span> of Set <span style=\"color: #008080; text-decoration-color: #008080; font-weight: bold\">12</span> | tezu\n",
       "</pre>\n"
      ],
      "text/plain": [
       "Processing Record \u001b[1;36m10\u001b[0m of Set \u001b[1;36m12\u001b[0m | tezu\n"
      ]
     },
     "metadata": {},
     "output_type": "display_data"
    },
    {
     "data": {
      "text/html": [
       "<pre style=\"white-space:pre;overflow-x:auto;line-height:normal;font-family:Menlo,'DejaVu Sans Mono',consolas,'Courier New',monospace\">Processing Record <span style=\"color: #008080; text-decoration-color: #008080; font-weight: bold\">11</span> of Set <span style=\"color: #008080; text-decoration-color: #008080; font-weight: bold\">12</span> | sarangani\n",
       "</pre>\n"
      ],
      "text/plain": [
       "Processing Record \u001b[1;36m11\u001b[0m of Set \u001b[1;36m12\u001b[0m | sarangani\n"
      ]
     },
     "metadata": {},
     "output_type": "display_data"
    },
    {
     "data": {
      "text/html": [
       "<pre style=\"white-space:pre;overflow-x:auto;line-height:normal;font-family:Menlo,'DejaVu Sans Mono',consolas,'Courier New',monospace\">Processing Record <span style=\"color: #008080; text-decoration-color: #008080; font-weight: bold\">12</span> of Set <span style=\"color: #008080; text-decoration-color: #008080; font-weight: bold\">12</span> | smithers\n",
       "</pre>\n"
      ],
      "text/plain": [
       "Processing Record \u001b[1;36m12\u001b[0m of Set \u001b[1;36m12\u001b[0m | smithers\n"
      ]
     },
     "metadata": {},
     "output_type": "display_data"
    },
    {
     "data": {
      "text/html": [
       "<pre style=\"white-space:pre;overflow-x:auto;line-height:normal;font-family:Menlo,'DejaVu Sans Mono',consolas,'Courier New',monospace\">Processing Record <span style=\"color: #008080; text-decoration-color: #008080; font-weight: bold\">13</span> of Set <span style=\"color: #008080; text-decoration-color: #008080; font-weight: bold\">12</span> | mineros\n",
       "</pre>\n"
      ],
      "text/plain": [
       "Processing Record \u001b[1;36m13\u001b[0m of Set \u001b[1;36m12\u001b[0m | mineros\n"
      ]
     },
     "metadata": {},
     "output_type": "display_data"
    },
    {
     "data": {
      "text/html": [
       "<pre style=\"white-space:pre;overflow-x:auto;line-height:normal;font-family:Menlo,'DejaVu Sans Mono',consolas,'Courier New',monospace\">Processing Record <span style=\"color: #008080; text-decoration-color: #008080; font-weight: bold\">14</span> of Set <span style=\"color: #008080; text-decoration-color: #008080; font-weight: bold\">12</span> | graaff-reinet\n",
       "</pre>\n"
      ],
      "text/plain": [
       "Processing Record \u001b[1;36m14\u001b[0m of Set \u001b[1;36m12\u001b[0m | graaff-reinet\n"
      ]
     },
     "metadata": {},
     "output_type": "display_data"
    },
    {
     "data": {
      "text/html": [
       "<pre style=\"white-space:pre;overflow-x:auto;line-height:normal;font-family:Menlo,'DejaVu Sans Mono',consolas,'Courier New',monospace\">Processing Record <span style=\"color: #008080; text-decoration-color: #008080; font-weight: bold\">15</span> of Set <span style=\"color: #008080; text-decoration-color: #008080; font-weight: bold\">12</span> | dwarka\n",
       "</pre>\n"
      ],
      "text/plain": [
       "Processing Record \u001b[1;36m15\u001b[0m of Set \u001b[1;36m12\u001b[0m | dwarka\n"
      ]
     },
     "metadata": {},
     "output_type": "display_data"
    },
    {
     "data": {
      "text/html": [
       "<pre style=\"white-space:pre;overflow-x:auto;line-height:normal;font-family:Menlo,'DejaVu Sans Mono',consolas,'Courier New',monospace\">Processing Record <span style=\"color: #008080; text-decoration-color: #008080; font-weight: bold\">16</span> of Set <span style=\"color: #008080; text-decoration-color: #008080; font-weight: bold\">12</span> | minas de marcona\n",
       "</pre>\n"
      ],
      "text/plain": [
       "Processing Record \u001b[1;36m16\u001b[0m of Set \u001b[1;36m12\u001b[0m | minas de marcona\n"
      ]
     },
     "metadata": {},
     "output_type": "display_data"
    },
    {
     "data": {
      "text/html": [
       "<pre style=\"white-space:pre;overflow-x:auto;line-height:normal;font-family:Menlo,'DejaVu Sans Mono',consolas,'Courier New',monospace\">Processing Record <span style=\"color: #008080; text-decoration-color: #008080; font-weight: bold\">17</span> of Set <span style=\"color: #008080; text-decoration-color: #008080; font-weight: bold\">12</span> | santa ana\n",
       "</pre>\n"
      ],
      "text/plain": [
       "Processing Record \u001b[1;36m17\u001b[0m of Set \u001b[1;36m12\u001b[0m | santa ana\n"
      ]
     },
     "metadata": {},
     "output_type": "display_data"
    },
    {
     "data": {
      "text/html": [
       "<pre style=\"white-space:pre;overflow-x:auto;line-height:normal;font-family:Menlo,'DejaVu Sans Mono',consolas,'Courier New',monospace\">Processing Record <span style=\"color: #008080; text-decoration-color: #008080; font-weight: bold\">18</span> of Set <span style=\"color: #008080; text-decoration-color: #008080; font-weight: bold\">12</span> | pecos\n",
       "</pre>\n"
      ],
      "text/plain": [
       "Processing Record \u001b[1;36m18\u001b[0m of Set \u001b[1;36m12\u001b[0m | pecos\n"
      ]
     },
     "metadata": {},
     "output_type": "display_data"
    },
    {
     "data": {
      "text/html": [
       "<pre style=\"white-space:pre;overflow-x:auto;line-height:normal;font-family:Menlo,'DejaVu Sans Mono',consolas,'Courier New',monospace\">Processing Record <span style=\"color: #008080; text-decoration-color: #008080; font-weight: bold\">19</span> of Set <span style=\"color: #008080; text-decoration-color: #008080; font-weight: bold\">12</span> | dededo village\n",
       "</pre>\n"
      ],
      "text/plain": [
       "Processing Record \u001b[1;36m19\u001b[0m of Set \u001b[1;36m12\u001b[0m | dededo village\n"
      ]
     },
     "metadata": {},
     "output_type": "display_data"
    },
    {
     "data": {
      "text/html": [
       "<pre style=\"white-space:pre;overflow-x:auto;line-height:normal;font-family:Menlo,'DejaVu Sans Mono',consolas,'Courier New',monospace\">Processing Record <span style=\"color: #008080; text-decoration-color: #008080; font-weight: bold\">20</span> of Set <span style=\"color: #008080; text-decoration-color: #008080; font-weight: bold\">12</span> | qianzhou\n",
       "</pre>\n"
      ],
      "text/plain": [
       "Processing Record \u001b[1;36m20\u001b[0m of Set \u001b[1;36m12\u001b[0m | qianzhou\n"
      ]
     },
     "metadata": {},
     "output_type": "display_data"
    },
    {
     "data": {
      "text/html": [
       "<pre style=\"white-space:pre;overflow-x:auto;line-height:normal;font-family:Menlo,'DejaVu Sans Mono',consolas,'Courier New',monospace\">Processing Record <span style=\"color: #008080; text-decoration-color: #008080; font-weight: bold\">21</span> of Set <span style=\"color: #008080; text-decoration-color: #008080; font-weight: bold\">12</span> | la passe\n",
       "</pre>\n"
      ],
      "text/plain": [
       "Processing Record \u001b[1;36m21\u001b[0m of Set \u001b[1;36m12\u001b[0m | la passe\n"
      ]
     },
     "metadata": {},
     "output_type": "display_data"
    },
    {
     "data": {
      "text/html": [
       "<pre style=\"white-space:pre;overflow-x:auto;line-height:normal;font-family:Menlo,'DejaVu Sans Mono',consolas,'Courier New',monospace\">Processing Record <span style=\"color: #008080; text-decoration-color: #008080; font-weight: bold\">22</span> of Set <span style=\"color: #008080; text-decoration-color: #008080; font-weight: bold\">12</span> | champerico\n",
       "</pre>\n"
      ],
      "text/plain": [
       "Processing Record \u001b[1;36m22\u001b[0m of Set \u001b[1;36m12\u001b[0m | champerico\n"
      ]
     },
     "metadata": {},
     "output_type": "display_data"
    },
    {
     "data": {
      "text/html": [
       "<pre style=\"white-space:pre;overflow-x:auto;line-height:normal;font-family:Menlo,'DejaVu Sans Mono',consolas,'Courier New',monospace\">Processing Record <span style=\"color: #008080; text-decoration-color: #008080; font-weight: bold\">23</span> of Set <span style=\"color: #008080; text-decoration-color: #008080; font-weight: bold\">12</span> | languyan\n",
       "</pre>\n"
      ],
      "text/plain": [
       "Processing Record \u001b[1;36m23\u001b[0m of Set \u001b[1;36m12\u001b[0m | languyan\n"
      ]
     },
     "metadata": {},
     "output_type": "display_data"
    },
    {
     "data": {
      "text/html": [
       "<pre style=\"white-space:pre;overflow-x:auto;line-height:normal;font-family:Menlo,'DejaVu Sans Mono',consolas,'Courier New',monospace\">Processing Record <span style=\"color: #008080; text-decoration-color: #008080; font-weight: bold\">24</span> of Set <span style=\"color: #008080; text-decoration-color: #008080; font-weight: bold\">12</span> | gardnerville ranchos\n",
       "</pre>\n"
      ],
      "text/plain": [
       "Processing Record \u001b[1;36m24\u001b[0m of Set \u001b[1;36m12\u001b[0m | gardnerville ranchos\n"
      ]
     },
     "metadata": {},
     "output_type": "display_data"
    },
    {
     "data": {
      "text/html": [
       "<pre style=\"white-space:pre;overflow-x:auto;line-height:normal;font-family:Menlo,'DejaVu Sans Mono',consolas,'Courier New',monospace\">Processing Record <span style=\"color: #008080; text-decoration-color: #008080; font-weight: bold\">25</span> of Set <span style=\"color: #008080; text-decoration-color: #008080; font-weight: bold\">12</span> | agadez\n",
       "</pre>\n"
      ],
      "text/plain": [
       "Processing Record \u001b[1;36m25\u001b[0m of Set \u001b[1;36m12\u001b[0m | agadez\n"
      ]
     },
     "metadata": {},
     "output_type": "display_data"
    },
    {
     "data": {
      "text/html": [
       "<pre style=\"white-space:pre;overflow-x:auto;line-height:normal;font-family:Menlo,'DejaVu Sans Mono',consolas,'Courier New',monospace\">Processing Record <span style=\"color: #008080; text-decoration-color: #008080; font-weight: bold\">26</span> of Set <span style=\"color: #008080; text-decoration-color: #008080; font-weight: bold\">12</span> | holualoa\n",
       "</pre>\n"
      ],
      "text/plain": [
       "Processing Record \u001b[1;36m26\u001b[0m of Set \u001b[1;36m12\u001b[0m | holualoa\n"
      ]
     },
     "metadata": {},
     "output_type": "display_data"
    },
    {
     "data": {
      "text/html": [
       "<pre style=\"white-space:pre;overflow-x:auto;line-height:normal;font-family:Menlo,'DejaVu Sans Mono',consolas,'Courier New',monospace\">-----------------------------\n",
       "</pre>\n"
      ],
      "text/plain": [
       "-----------------------------\n"
      ]
     },
     "metadata": {},
     "output_type": "display_data"
    },
    {
     "data": {
      "text/html": [
       "<pre style=\"white-space:pre;overflow-x:auto;line-height:normal;font-family:Menlo,'DejaVu Sans Mono',consolas,'Courier New',monospace\">Data Retrieval Complete      \n",
       "</pre>\n"
      ],
      "text/plain": [
       "Data Retrieval Complete      \n"
      ]
     },
     "metadata": {},
     "output_type": "display_data"
    },
    {
     "data": {
      "text/html": [
       "<pre style=\"white-space:pre;overflow-x:auto;line-height:normal;font-family:Menlo,'DejaVu Sans Mono',consolas,'Courier New',monospace\">-----------------------------\n",
       "</pre>\n"
      ],
      "text/plain": [
       "-----------------------------\n"
      ]
     },
     "metadata": {},
     "output_type": "display_data"
    }
   ],
   "source": [
    "#retrive weather data\n",
    "# Set the API base URL\n",
    "url = f'https://api.openweathermap.org/data/2.5/weather?q={city}&appid={weather_api_key}'\n",
    "\n",
    "# Define an empty list to fetch the weather data for each city\n",
    "city_data = []\n",
    "\n",
    "# Print to logger\n",
    "print(\"Beginning Data Retrieval     \")\n",
    "print(\"-----------------------------\")\n",
    "\n",
    "# Create counters\n",
    "record_count = 1\n",
    "set_count = 1\n",
    "\n",
    "# Loop through all the cities in our list to fetch weather data\n",
    "for i, city in enumerate(cities):\n",
    "\n",
    "    # Group cities in sets of 50 for logging purposes\n",
    "    if (i % 50 == 0 and i >= 50):\n",
    "        set_count += 1\n",
    "        record_count = 0\n",
    "\n",
    "    # Create endpoint URL with each city\n",
    "    city_url = f'https://api.openweathermap.org/data/2.5/weather?q={city}&appid={weather_api_key}&units=metric'# YOUR CODE HERE\n",
    "\n",
    "    # Log the url, record, and set numbers\n",
    "    print(\"Processing Record %s of Set %s | %s\" % (record_count, set_count, city))\n",
    "\n",
    "    # Add 1 to the record count\n",
    "    record_count += 1\n",
    "\n",
    "    # Run an API request for each of the cities\n",
    "    try:\n",
    "        # Parse the JSON and retrieve data\n",
    "        city_weather = requests.get(city_url).json() # YOUR CODE HERE\n",
    "\n",
    "        # Parse out latitude, longitude, max temp, humidity, cloudiness, wind speed, country, and date\n",
    "        city_lat = city_weather['coord']['lat']# YOUR CODE HERE\n",
    "        city_lng = city_weather['coord']['lon']# YOUR CODE HERE\n",
    "        city_max_temp = city_weather['main']['temp_max']# YOUR CODE HERE\n",
    "        city_humidity = city_weather['main']['humidity']# YOUR CODE HERE\n",
    "        city_clouds = city_weather['clouds']['all']# YOUR CODE HERE\n",
    "        city_wind = city_weather['wind']['speed']# YOUR CODE HERE\n",
    "        city_country = city_weather['sys']['country']# YOUR CODE HERE\n",
    "        city_date = city_weather['dt']# YOUR CODE HER\n",
    "\n",
    "        # Append the City information into city_data list\n",
    "        city_data.append({\"City\": city,\n",
    "                          \"Lat\": city_lat,\n",
    "                          \"Lng\": city_lng,\n",
    "                          \"Max Temp\": city_max_temp,\n",
    "                          \"Humidity\": city_humidity,\n",
    "                          \"Cloudiness\": city_clouds,\n",
    "                          \"Wind Speed\": city_wind,\n",
    "                          \"Country\": city_country,\n",
    "                          \"Date\": city_date})\n",
    "\n",
    "    # If an error is experienced, skip the city\n",
    "    except:\n",
    "        print(\"City not found. Skipping...\")\n",
    "        pass\n",
    "\n",
    "    # pause to avoid rate limiting\n",
    "    time.sleep(1)\n",
    "\n",
    "#Indicate that Data Loading is complete\n",
    "print(\"-----------------------------\")\n",
    "print(\"Data Retrieval Complete      \")\n",
    "print(\"-----------------------------\")"
   ]
  },
  {
   "cell_type": "code",
   "execution_count": 11,
   "id": "62b01d56-c76d-4f33-86e1-79fb5e024c08",
   "metadata": {},
   "outputs": [],
   "source": [
    "# Transform the cities weather data into a Pandas DataFrame\n",
    "city_data_df = pd.DataFrame(city_data)\n",
    "\n",
    "# Show Record Count\n",
    "#city_data_df.count()"
   ]
  },
  {
   "cell_type": "code",
   "execution_count": 12,
   "id": "898695fc-d276-4805-8bfe-19aa6a0ae7e3",
   "metadata": {},
   "outputs": [
    {
     "data": {
      "text/html": [
       "<pre style=\"white-space:pre;overflow-x:auto;line-height:normal;font-family:Menlo,'DejaVu Sans Mono',consolas,'Courier New',monospace\"><span style=\"font-style: italic\">   </span><span style=\"color: #008080; text-decoration-color: #008080; font-weight: bold; font-style: italic\">Record Count per</span><span style=\"font-style: italic\">   </span>\n",
       "<span style=\"font-style: italic\">        </span><span style=\"color: #008080; text-decoration-color: #008080; font-weight: bold; font-style: italic\">Column</span><span style=\"font-style: italic\">        </span>\n",
       "┏━━━━━━━━━━━━┳━━━━━━━┓\n",
       "┃<span style=\"font-weight: bold\"> Column     </span>┃<span style=\"font-weight: bold\"> Count </span>┃\n",
       "┡━━━━━━━━━━━━╇━━━━━━━┩\n",
       "│<span style=\"color: #008000; text-decoration-color: #008000; font-weight: bold\"> City       </span>│<span style=\"color: #808000; text-decoration-color: #808000; font-weight: bold\"> 551   </span>│\n",
       "├────────────┼───────┤\n",
       "│<span style=\"color: #008000; text-decoration-color: #008000; font-weight: bold\"> Lat        </span>│<span style=\"color: #808000; text-decoration-color: #808000; font-weight: bold\"> 551   </span>│\n",
       "├────────────┼───────┤\n",
       "│<span style=\"color: #008000; text-decoration-color: #008000; font-weight: bold\"> Lng        </span>│<span style=\"color: #808000; text-decoration-color: #808000; font-weight: bold\"> 551   </span>│\n",
       "├────────────┼───────┤\n",
       "│<span style=\"color: #008000; text-decoration-color: #008000; font-weight: bold\"> Max Temp   </span>│<span style=\"color: #808000; text-decoration-color: #808000; font-weight: bold\"> 551   </span>│\n",
       "├────────────┼───────┤\n",
       "│<span style=\"color: #008000; text-decoration-color: #008000; font-weight: bold\"> Humidity   </span>│<span style=\"color: #808000; text-decoration-color: #808000; font-weight: bold\"> 551   </span>│\n",
       "├────────────┼───────┤\n",
       "│<span style=\"color: #008000; text-decoration-color: #008000; font-weight: bold\"> Cloudiness </span>│<span style=\"color: #808000; text-decoration-color: #808000; font-weight: bold\"> 551   </span>│\n",
       "├────────────┼───────┤\n",
       "│<span style=\"color: #008000; text-decoration-color: #008000; font-weight: bold\"> Wind Speed </span>│<span style=\"color: #808000; text-decoration-color: #808000; font-weight: bold\"> 551   </span>│\n",
       "├────────────┼───────┤\n",
       "│<span style=\"color: #008000; text-decoration-color: #008000; font-weight: bold\"> Country    </span>│<span style=\"color: #808000; text-decoration-color: #808000; font-weight: bold\"> 551   </span>│\n",
       "├────────────┼───────┤\n",
       "│<span style=\"color: #008000; text-decoration-color: #008000; font-weight: bold\"> Date       </span>│<span style=\"color: #808000; text-decoration-color: #808000; font-weight: bold\"> 551   </span>│\n",
       "└────────────┴───────┘\n",
       "</pre>\n"
      ],
      "text/plain": [
       "\u001b[3m   \u001b[0m\u001b[1;3;36mRecord Count per\u001b[0m\u001b[3m   \u001b[0m\n",
       "\u001b[3m        \u001b[0m\u001b[1;3;36mColumn\u001b[0m\u001b[3m        \u001b[0m\n",
       "┏━━━━━━━━━━━━┳━━━━━━━┓\n",
       "┃\u001b[1m \u001b[0m\u001b[1mColumn    \u001b[0m\u001b[1m \u001b[0m┃\u001b[1m \u001b[0m\u001b[1mCount\u001b[0m\u001b[1m \u001b[0m┃\n",
       "┡━━━━━━━━━━━━╇━━━━━━━┩\n",
       "│\u001b[1;32m \u001b[0m\u001b[1;32mCity      \u001b[0m\u001b[1;32m \u001b[0m│\u001b[1;33m \u001b[0m\u001b[1;33m551  \u001b[0m\u001b[1;33m \u001b[0m│\n",
       "├────────────┼───────┤\n",
       "│\u001b[1;32m \u001b[0m\u001b[1;32mLat       \u001b[0m\u001b[1;32m \u001b[0m│\u001b[1;33m \u001b[0m\u001b[1;33m551  \u001b[0m\u001b[1;33m \u001b[0m│\n",
       "├────────────┼───────┤\n",
       "│\u001b[1;32m \u001b[0m\u001b[1;32mLng       \u001b[0m\u001b[1;32m \u001b[0m│\u001b[1;33m \u001b[0m\u001b[1;33m551  \u001b[0m\u001b[1;33m \u001b[0m│\n",
       "├────────────┼───────┤\n",
       "│\u001b[1;32m \u001b[0m\u001b[1;32mMax Temp  \u001b[0m\u001b[1;32m \u001b[0m│\u001b[1;33m \u001b[0m\u001b[1;33m551  \u001b[0m\u001b[1;33m \u001b[0m│\n",
       "├────────────┼───────┤\n",
       "│\u001b[1;32m \u001b[0m\u001b[1;32mHumidity  \u001b[0m\u001b[1;32m \u001b[0m│\u001b[1;33m \u001b[0m\u001b[1;33m551  \u001b[0m\u001b[1;33m \u001b[0m│\n",
       "├────────────┼───────┤\n",
       "│\u001b[1;32m \u001b[0m\u001b[1;32mCloudiness\u001b[0m\u001b[1;32m \u001b[0m│\u001b[1;33m \u001b[0m\u001b[1;33m551  \u001b[0m\u001b[1;33m \u001b[0m│\n",
       "├────────────┼───────┤\n",
       "│\u001b[1;32m \u001b[0m\u001b[1;32mWind Speed\u001b[0m\u001b[1;32m \u001b[0m│\u001b[1;33m \u001b[0m\u001b[1;33m551  \u001b[0m\u001b[1;33m \u001b[0m│\n",
       "├────────────┼───────┤\n",
       "│\u001b[1;32m \u001b[0m\u001b[1;32mCountry   \u001b[0m\u001b[1;32m \u001b[0m│\u001b[1;33m \u001b[0m\u001b[1;33m551  \u001b[0m\u001b[1;33m \u001b[0m│\n",
       "├────────────┼───────┤\n",
       "│\u001b[1;32m \u001b[0m\u001b[1;32mDate      \u001b[0m\u001b[1;32m \u001b[0m│\u001b[1;33m \u001b[0m\u001b[1;33m551  \u001b[0m\u001b[1;33m \u001b[0m│\n",
       "└────────────┴───────┘\n"
      ]
     },
     "metadata": {},
     "output_type": "display_data"
    }
   ],
   "source": [
    "city_data_df = pd.DataFrame(city_data)\n",
    "\n",
    "# Create a Rich Console object\n",
    "console = Console()\n",
    "\n",
    "# Function to print the record count with Rich\n",
    "def print_record_count_with_rich(city_data_df):\n",
    "    # Get the count of non-null values for each column\n",
    "    count_data = city_data_df.count()\n",
    "\n",
    "    # Create a rich table to display the counts in a neat format\n",
    "    table = Table(title=\"[bold cyan]Record Count per Column[/bold cyan]\", show_lines=True)\n",
    "    table.add_column(\"Column\", style=\"bold green\")\n",
    "    table.add_column(\"Count\", style=\"bold yellow\")\n",
    "\n",
    "    # Add rows to the table\n",
    "    for column, count in count_data.items():\n",
    "        table.add_row(column, str(count))\n",
    "\n",
    "    # Print the table\n",
    "    console.print(table)\n",
    "\n",
    "# Call the function to print the record count with Rich\n",
    "print_record_count_with_rich(city_data_df)"
   ]
  },
  {
   "cell_type": "code",
   "execution_count": 13,
   "id": "b6689387-3311-4421-a465-5aadf4dba3e3",
   "metadata": {},
   "outputs": [],
   "source": [
    "city_data_df = city_data_df.rename(columns={\n",
    "    'Max Temp': 'Maximum_Temperature',\n",
    "    'Wind Speed': 'Wind_Speed_kmh'\n",
    "})\n"
   ]
  },
  {
   "cell_type": "code",
   "execution_count": 14,
   "id": "30f3e44e-d5b2-41b6-8075-c3f65599c35f",
   "metadata": {},
   "outputs": [
    {
     "data": {
      "text/html": [
       "<pre style=\"white-space:pre;overflow-x:auto;line-height:normal;font-family:Menlo,'DejaVu Sans Mono',consolas,'Courier New',monospace\"><span style=\"font-style: italic\">                         </span><span style=\"color: #008080; text-decoration-color: #008080; font-weight: bold; font-style: italic\">DataFrame Info</span><span style=\"font-style: italic\">                          </span>\n",
       "┏━━━━━━━━━━━━━━━━━━━━━┳━━━━━━━━━━━━━━━━┳━━━━━━━━━┳━━━━━━━━━━━━━━┓\n",
       "┃<span style=\"font-weight: bold\"> Column              </span>┃<span style=\"font-weight: bold\"> Non-Null Count </span>┃<span style=\"font-weight: bold\"> Dtype   </span>┃<span style=\"font-weight: bold\"> Memory Usage </span>┃\n",
       "┡━━━━━━━━━━━━━━━━━━━━━╇━━━━━━━━━━━━━━━━╇━━━━━━━━━╇━━━━━━━━━━━━━━┩\n",
       "│<span style=\"color: #008000; text-decoration-color: #008000; font-weight: bold\"> City                </span>│<span style=\"color: #808000; text-decoration-color: #808000; font-weight: bold\"> 551            </span>│<span style=\"color: #800080; text-decoration-color: #800080; font-weight: bold\"> object  </span>│<span style=\"color: #000080; text-decoration-color: #000080; font-weight: bold\"> 31941        </span>│\n",
       "├─────────────────────┼────────────────┼─────────┼──────────────┤\n",
       "│<span style=\"color: #008000; text-decoration-color: #008000; font-weight: bold\"> Lat                 </span>│<span style=\"color: #808000; text-decoration-color: #808000; font-weight: bold\"> 551            </span>│<span style=\"color: #800080; text-decoration-color: #800080; font-weight: bold\"> float64 </span>│<span style=\"color: #000080; text-decoration-color: #000080; font-weight: bold\"> 4408         </span>│\n",
       "├─────────────────────┼────────────────┼─────────┼──────────────┤\n",
       "│<span style=\"color: #008000; text-decoration-color: #008000; font-weight: bold\"> Lng                 </span>│<span style=\"color: #808000; text-decoration-color: #808000; font-weight: bold\"> 551            </span>│<span style=\"color: #800080; text-decoration-color: #800080; font-weight: bold\"> float64 </span>│<span style=\"color: #000080; text-decoration-color: #000080; font-weight: bold\"> 4408         </span>│\n",
       "├─────────────────────┼────────────────┼─────────┼──────────────┤\n",
       "│<span style=\"color: #008000; text-decoration-color: #008000; font-weight: bold\"> Maximum_Temperature </span>│<span style=\"color: #808000; text-decoration-color: #808000; font-weight: bold\"> 551            </span>│<span style=\"color: #800080; text-decoration-color: #800080; font-weight: bold\"> float64 </span>│<span style=\"color: #000080; text-decoration-color: #000080; font-weight: bold\"> 4408         </span>│\n",
       "├─────────────────────┼────────────────┼─────────┼──────────────┤\n",
       "│<span style=\"color: #008000; text-decoration-color: #008000; font-weight: bold\"> Humidity            </span>│<span style=\"color: #808000; text-decoration-color: #808000; font-weight: bold\"> 551            </span>│<span style=\"color: #800080; text-decoration-color: #800080; font-weight: bold\"> int64   </span>│<span style=\"color: #000080; text-decoration-color: #000080; font-weight: bold\"> 4408         </span>│\n",
       "├─────────────────────┼────────────────┼─────────┼──────────────┤\n",
       "│<span style=\"color: #008000; text-decoration-color: #008000; font-weight: bold\"> Cloudiness          </span>│<span style=\"color: #808000; text-decoration-color: #808000; font-weight: bold\"> 551            </span>│<span style=\"color: #800080; text-decoration-color: #800080; font-weight: bold\"> int64   </span>│<span style=\"color: #000080; text-decoration-color: #000080; font-weight: bold\"> 4408         </span>│\n",
       "├─────────────────────┼────────────────┼─────────┼──────────────┤\n",
       "│<span style=\"color: #008000; text-decoration-color: #008000; font-weight: bold\"> Wind_Speed_kmh      </span>│<span style=\"color: #808000; text-decoration-color: #808000; font-weight: bold\"> 551            </span>│<span style=\"color: #800080; text-decoration-color: #800080; font-weight: bold\"> float64 </span>│<span style=\"color: #000080; text-decoration-color: #000080; font-weight: bold\"> 4408         </span>│\n",
       "├─────────────────────┼────────────────┼─────────┼──────────────┤\n",
       "│<span style=\"color: #008000; text-decoration-color: #008000; font-weight: bold\"> Country             </span>│<span style=\"color: #808000; text-decoration-color: #808000; font-weight: bold\"> 551            </span>│<span style=\"color: #800080; text-decoration-color: #800080; font-weight: bold\"> object  </span>│<span style=\"color: #000080; text-decoration-color: #000080; font-weight: bold\"> 28101        </span>│\n",
       "├─────────────────────┼────────────────┼─────────┼──────────────┤\n",
       "│<span style=\"color: #008000; text-decoration-color: #008000; font-weight: bold\"> Date                </span>│<span style=\"color: #808000; text-decoration-color: #808000; font-weight: bold\"> 551            </span>│<span style=\"color: #800080; text-decoration-color: #800080; font-weight: bold\"> int64   </span>│<span style=\"color: #000080; text-decoration-color: #000080; font-weight: bold\"> 4408         </span>│\n",
       "└─────────────────────┴────────────────┴─────────┴──────────────┘\n",
       "</pre>\n"
      ],
      "text/plain": [
       "\u001b[3m                         \u001b[0m\u001b[1;3;36mDataFrame Info\u001b[0m\u001b[3m                          \u001b[0m\n",
       "┏━━━━━━━━━━━━━━━━━━━━━┳━━━━━━━━━━━━━━━━┳━━━━━━━━━┳━━━━━━━━━━━━━━┓\n",
       "┃\u001b[1m \u001b[0m\u001b[1mColumn             \u001b[0m\u001b[1m \u001b[0m┃\u001b[1m \u001b[0m\u001b[1mNon-Null Count\u001b[0m\u001b[1m \u001b[0m┃\u001b[1m \u001b[0m\u001b[1mDtype  \u001b[0m\u001b[1m \u001b[0m┃\u001b[1m \u001b[0m\u001b[1mMemory Usage\u001b[0m\u001b[1m \u001b[0m┃\n",
       "┡━━━━━━━━━━━━━━━━━━━━━╇━━━━━━━━━━━━━━━━╇━━━━━━━━━╇━━━━━━━━━━━━━━┩\n",
       "│\u001b[1;32m \u001b[0m\u001b[1;32mCity               \u001b[0m\u001b[1;32m \u001b[0m│\u001b[1;33m \u001b[0m\u001b[1;33m551           \u001b[0m\u001b[1;33m \u001b[0m│\u001b[1;35m \u001b[0m\u001b[1;35mobject \u001b[0m\u001b[1;35m \u001b[0m│\u001b[1;34m \u001b[0m\u001b[1;34m31941       \u001b[0m\u001b[1;34m \u001b[0m│\n",
       "├─────────────────────┼────────────────┼─────────┼──────────────┤\n",
       "│\u001b[1;32m \u001b[0m\u001b[1;32mLat                \u001b[0m\u001b[1;32m \u001b[0m│\u001b[1;33m \u001b[0m\u001b[1;33m551           \u001b[0m\u001b[1;33m \u001b[0m│\u001b[1;35m \u001b[0m\u001b[1;35mfloat64\u001b[0m\u001b[1;35m \u001b[0m│\u001b[1;34m \u001b[0m\u001b[1;34m4408        \u001b[0m\u001b[1;34m \u001b[0m│\n",
       "├─────────────────────┼────────────────┼─────────┼──────────────┤\n",
       "│\u001b[1;32m \u001b[0m\u001b[1;32mLng                \u001b[0m\u001b[1;32m \u001b[0m│\u001b[1;33m \u001b[0m\u001b[1;33m551           \u001b[0m\u001b[1;33m \u001b[0m│\u001b[1;35m \u001b[0m\u001b[1;35mfloat64\u001b[0m\u001b[1;35m \u001b[0m│\u001b[1;34m \u001b[0m\u001b[1;34m4408        \u001b[0m\u001b[1;34m \u001b[0m│\n",
       "├─────────────────────┼────────────────┼─────────┼──────────────┤\n",
       "│\u001b[1;32m \u001b[0m\u001b[1;32mMaximum_Temperature\u001b[0m\u001b[1;32m \u001b[0m│\u001b[1;33m \u001b[0m\u001b[1;33m551           \u001b[0m\u001b[1;33m \u001b[0m│\u001b[1;35m \u001b[0m\u001b[1;35mfloat64\u001b[0m\u001b[1;35m \u001b[0m│\u001b[1;34m \u001b[0m\u001b[1;34m4408        \u001b[0m\u001b[1;34m \u001b[0m│\n",
       "├─────────────────────┼────────────────┼─────────┼──────────────┤\n",
       "│\u001b[1;32m \u001b[0m\u001b[1;32mHumidity           \u001b[0m\u001b[1;32m \u001b[0m│\u001b[1;33m \u001b[0m\u001b[1;33m551           \u001b[0m\u001b[1;33m \u001b[0m│\u001b[1;35m \u001b[0m\u001b[1;35mint64  \u001b[0m\u001b[1;35m \u001b[0m│\u001b[1;34m \u001b[0m\u001b[1;34m4408        \u001b[0m\u001b[1;34m \u001b[0m│\n",
       "├─────────────────────┼────────────────┼─────────┼──────────────┤\n",
       "│\u001b[1;32m \u001b[0m\u001b[1;32mCloudiness         \u001b[0m\u001b[1;32m \u001b[0m│\u001b[1;33m \u001b[0m\u001b[1;33m551           \u001b[0m\u001b[1;33m \u001b[0m│\u001b[1;35m \u001b[0m\u001b[1;35mint64  \u001b[0m\u001b[1;35m \u001b[0m│\u001b[1;34m \u001b[0m\u001b[1;34m4408        \u001b[0m\u001b[1;34m \u001b[0m│\n",
       "├─────────────────────┼────────────────┼─────────┼──────────────┤\n",
       "│\u001b[1;32m \u001b[0m\u001b[1;32mWind_Speed_kmh     \u001b[0m\u001b[1;32m \u001b[0m│\u001b[1;33m \u001b[0m\u001b[1;33m551           \u001b[0m\u001b[1;33m \u001b[0m│\u001b[1;35m \u001b[0m\u001b[1;35mfloat64\u001b[0m\u001b[1;35m \u001b[0m│\u001b[1;34m \u001b[0m\u001b[1;34m4408        \u001b[0m\u001b[1;34m \u001b[0m│\n",
       "├─────────────────────┼────────────────┼─────────┼──────────────┤\n",
       "│\u001b[1;32m \u001b[0m\u001b[1;32mCountry            \u001b[0m\u001b[1;32m \u001b[0m│\u001b[1;33m \u001b[0m\u001b[1;33m551           \u001b[0m\u001b[1;33m \u001b[0m│\u001b[1;35m \u001b[0m\u001b[1;35mobject \u001b[0m\u001b[1;35m \u001b[0m│\u001b[1;34m \u001b[0m\u001b[1;34m28101       \u001b[0m\u001b[1;34m \u001b[0m│\n",
       "├─────────────────────┼────────────────┼─────────┼──────────────┤\n",
       "│\u001b[1;32m \u001b[0m\u001b[1;32mDate               \u001b[0m\u001b[1;32m \u001b[0m│\u001b[1;33m \u001b[0m\u001b[1;33m551           \u001b[0m\u001b[1;33m \u001b[0m│\u001b[1;35m \u001b[0m\u001b[1;35mint64  \u001b[0m\u001b[1;35m \u001b[0m│\u001b[1;34m \u001b[0m\u001b[1;34m4408        \u001b[0m\u001b[1;34m \u001b[0m│\n",
       "└─────────────────────┴────────────────┴─────────┴──────────────┘\n"
      ]
     },
     "metadata": {},
     "output_type": "display_data"
    }
   ],
   "source": [
    "# Create a Rich Console object\n",
    "console = Console()\n",
    "\n",
    "# Function to print DataFrame info using Rich\n",
    "def print_info_with_rich(city_data_df):\n",
    "    # Get the non-null count, data types, and memory usage\n",
    "    count_data = city_data_df.count()\n",
    "    dtype_data = city_data_df.dtypes\n",
    "    memory_data = city_data_df.memory_usage(deep=True)\n",
    "\n",
    "    # Create a rich table to display the DataFrame info\n",
    "    table = Table(title=\"[bold cyan]DataFrame Info[/bold cyan]\", show_lines=True)\n",
    "    table.add_column(\"Column\", style=\"bold green\")\n",
    "    table.add_column(\"Non-Null Count\", style=\"bold yellow\")\n",
    "    table.add_column(\"Dtype\", style=\"bold magenta\")\n",
    "    table.add_column(\"Memory Usage\", style=\"bold blue\")\n",
    "\n",
    "    # Add rows to the table\n",
    "    for column in city_data_df.columns:\n",
    "        non_null_count = count_data[column]\n",
    "        dtype = dtype_data[column]\n",
    "        memory_usage = memory_data[column]\n",
    "        \n",
    "        # Add row to the table\n",
    "        table.add_row(column, str(non_null_count), str(dtype), str(memory_usage))\n",
    "\n",
    "    # Print the table\n",
    "    console.print(table)\n",
    "\n",
    "# Sample DataFrame (replace this with your actual city_data_df)\n",
    "city_data_df2 = pd.DataFrame(city_data)\n",
    "\n",
    "# Call the function to print the DataFrame info with Rich\n",
    "print_info_with_rich(city_data_df)"
   ]
  },
  {
   "cell_type": "code",
   "execution_count": 15,
   "id": "bdfde582-9915-48fc-8be7-85be3bf88742",
   "metadata": {},
   "outputs": [
    {
     "name": "stdout",
     "output_type": "stream",
     "text": [
      "<class 'pandas.core.frame.DataFrame'>\n",
      "RangeIndex: 551 entries, 0 to 550\n",
      "Data columns (total 9 columns):\n",
      " #   Column               Non-Null Count  Dtype  \n",
      "---  ------               --------------  -----  \n",
      " 0   City                 551 non-null    object \n",
      " 1   Lat                  551 non-null    float64\n",
      " 2   Lng                  551 non-null    float64\n",
      " 3   Maximum_Temperature  551 non-null    float64\n",
      " 4   Humidity             551 non-null    int64  \n",
      " 5   Cloudiness           551 non-null    int64  \n",
      " 6   Wind_Speed_kmh       551 non-null    float64\n",
      " 7   Country              551 non-null    object \n",
      " 8   Date                 551 non-null    int64  \n",
      "dtypes: float64(4), int64(3), object(2)\n",
      "memory usage: 38.9+ KB\n"
     ]
    }
   ],
   "source": [
    "city_data_df.info()\n"
   ]
  },
  {
   "cell_type": "code",
   "execution_count": 16,
   "id": "8737d7d8-88d9-4e57-a3e2-6334a27d830d",
   "metadata": {},
   "outputs": [
    {
     "data": {
      "text/html": [
       "<div>\n",
       "<style scoped>\n",
       "    .dataframe tbody tr th:only-of-type {\n",
       "        vertical-align: middle;\n",
       "    }\n",
       "\n",
       "    .dataframe tbody tr th {\n",
       "        vertical-align: top;\n",
       "    }\n",
       "\n",
       "    .dataframe thead th {\n",
       "        text-align: right;\n",
       "    }\n",
       "</style>\n",
       "<table border=\"1\" class=\"dataframe\">\n",
       "  <thead>\n",
       "    <tr style=\"text-align: right;\">\n",
       "      <th></th>\n",
       "      <th>City</th>\n",
       "      <th>Lat</th>\n",
       "      <th>Lng</th>\n",
       "      <th>Maximum_Temperature</th>\n",
       "      <th>Humidity</th>\n",
       "      <th>Cloudiness</th>\n",
       "      <th>Wind_Speed_kmh</th>\n",
       "      <th>Country</th>\n",
       "      <th>Date</th>\n",
       "    </tr>\n",
       "  </thead>\n",
       "  <tbody>\n",
       "    <tr>\n",
       "      <th>0</th>\n",
       "      <td>rabo de peixe</td>\n",
       "      <td>37.8000</td>\n",
       "      <td>-25.5833</td>\n",
       "      <td>17.73</td>\n",
       "      <td>88</td>\n",
       "      <td>75</td>\n",
       "      <td>8.23</td>\n",
       "      <td>PT</td>\n",
       "      <td>2025-01-08</td>\n",
       "    </tr>\n",
       "    <tr>\n",
       "      <th>1</th>\n",
       "      <td>waitangi</td>\n",
       "      <td>-43.9535</td>\n",
       "      <td>-176.5597</td>\n",
       "      <td>15.46</td>\n",
       "      <td>73</td>\n",
       "      <td>28</td>\n",
       "      <td>5.81</td>\n",
       "      <td>NZ</td>\n",
       "      <td>2025-01-08</td>\n",
       "    </tr>\n",
       "    <tr>\n",
       "      <th>2</th>\n",
       "      <td>edinburgh of the seven seas</td>\n",
       "      <td>-37.0676</td>\n",
       "      <td>-12.3116</td>\n",
       "      <td>17.66</td>\n",
       "      <td>98</td>\n",
       "      <td>83</td>\n",
       "      <td>5.26</td>\n",
       "      <td>SH</td>\n",
       "      <td>2025-01-08</td>\n",
       "    </tr>\n",
       "    <tr>\n",
       "      <th>3</th>\n",
       "      <td>nova sintra</td>\n",
       "      <td>14.8667</td>\n",
       "      <td>-24.7167</td>\n",
       "      <td>23.58</td>\n",
       "      <td>71</td>\n",
       "      <td>0</td>\n",
       "      <td>8.26</td>\n",
       "      <td>CV</td>\n",
       "      <td>2025-01-08</td>\n",
       "    </tr>\n",
       "    <tr>\n",
       "      <th>4</th>\n",
       "      <td>linqiong</td>\n",
       "      <td>30.4159</td>\n",
       "      <td>103.4609</td>\n",
       "      <td>5.61</td>\n",
       "      <td>77</td>\n",
       "      <td>83</td>\n",
       "      <td>0.36</td>\n",
       "      <td>CN</td>\n",
       "      <td>2025-01-08</td>\n",
       "    </tr>\n",
       "    <tr>\n",
       "      <th>...</th>\n",
       "      <td>...</td>\n",
       "      <td>...</td>\n",
       "      <td>...</td>\n",
       "      <td>...</td>\n",
       "      <td>...</td>\n",
       "      <td>...</td>\n",
       "      <td>...</td>\n",
       "      <td>...</td>\n",
       "      <td>...</td>\n",
       "    </tr>\n",
       "    <tr>\n",
       "      <th>546</th>\n",
       "      <td>champerico</td>\n",
       "      <td>14.3000</td>\n",
       "      <td>-91.9167</td>\n",
       "      <td>29.18</td>\n",
       "      <td>64</td>\n",
       "      <td>0</td>\n",
       "      <td>3.88</td>\n",
       "      <td>GT</td>\n",
       "      <td>2025-01-08</td>\n",
       "    </tr>\n",
       "    <tr>\n",
       "      <th>547</th>\n",
       "      <td>languyan</td>\n",
       "      <td>5.2618</td>\n",
       "      <td>120.0807</td>\n",
       "      <td>25.41</td>\n",
       "      <td>89</td>\n",
       "      <td>100</td>\n",
       "      <td>1.29</td>\n",
       "      <td>PH</td>\n",
       "      <td>2025-01-08</td>\n",
       "    </tr>\n",
       "    <tr>\n",
       "      <th>548</th>\n",
       "      <td>gardnerville ranchos</td>\n",
       "      <td>38.8882</td>\n",
       "      <td>-119.7413</td>\n",
       "      <td>7.99</td>\n",
       "      <td>43</td>\n",
       "      <td>20</td>\n",
       "      <td>0.89</td>\n",
       "      <td>US</td>\n",
       "      <td>2025-01-08</td>\n",
       "    </tr>\n",
       "    <tr>\n",
       "      <th>549</th>\n",
       "      <td>agadez</td>\n",
       "      <td>19.7500</td>\n",
       "      <td>10.2500</td>\n",
       "      <td>16.14</td>\n",
       "      <td>25</td>\n",
       "      <td>0</td>\n",
       "      <td>5.16</td>\n",
       "      <td>NE</td>\n",
       "      <td>2025-01-08</td>\n",
       "    </tr>\n",
       "    <tr>\n",
       "      <th>550</th>\n",
       "      <td>holualoa</td>\n",
       "      <td>19.6228</td>\n",
       "      <td>-155.9522</td>\n",
       "      <td>25.46</td>\n",
       "      <td>67</td>\n",
       "      <td>0</td>\n",
       "      <td>3.09</td>\n",
       "      <td>US</td>\n",
       "      <td>2025-01-08</td>\n",
       "    </tr>\n",
       "  </tbody>\n",
       "</table>\n",
       "<p>551 rows × 9 columns</p>\n",
       "</div>"
      ],
      "text/plain": [
       "                            City      Lat       Lng  Maximum_Temperature  \\\n",
       "0                  rabo de peixe  37.8000  -25.5833                17.73   \n",
       "1                       waitangi -43.9535 -176.5597                15.46   \n",
       "2    edinburgh of the seven seas -37.0676  -12.3116                17.66   \n",
       "3                    nova sintra  14.8667  -24.7167                23.58   \n",
       "4                       linqiong  30.4159  103.4609                 5.61   \n",
       "..                           ...      ...       ...                  ...   \n",
       "546                   champerico  14.3000  -91.9167                29.18   \n",
       "547                     languyan   5.2618  120.0807                25.41   \n",
       "548         gardnerville ranchos  38.8882 -119.7413                 7.99   \n",
       "549                       agadez  19.7500   10.2500                16.14   \n",
       "550                     holualoa  19.6228 -155.9522                25.46   \n",
       "\n",
       "     Humidity  Cloudiness  Wind_Speed_kmh Country        Date  \n",
       "0          88          75            8.23      PT  2025-01-08  \n",
       "1          73          28            5.81      NZ  2025-01-08  \n",
       "2          98          83            5.26      SH  2025-01-08  \n",
       "3          71           0            8.26      CV  2025-01-08  \n",
       "4          77          83            0.36      CN  2025-01-08  \n",
       "..        ...         ...             ...     ...         ...  \n",
       "546        64           0            3.88      GT  2025-01-08  \n",
       "547        89         100            1.29      PH  2025-01-08  \n",
       "548        43          20            0.89      US  2025-01-08  \n",
       "549        25           0            5.16      NE  2025-01-08  \n",
       "550        67           0            3.09      US  2025-01-08  \n",
       "\n",
       "[551 rows x 9 columns]"
      ]
     },
     "execution_count": 16,
     "metadata": {},
     "output_type": "execute_result"
    }
   ],
   "source": [
    "# Convert datetime to readable date format\n",
    "city_data_df['Date']=(pd.to_datetime(city_data_df['Date'],unit='s')).dt.date\n",
    "city_data_df"
   ]
  },
  {
   "cell_type": "code",
   "execution_count": 17,
   "id": "6e39eec6-dc68-4832-9723-ff1409a5803d",
   "metadata": {},
   "outputs": [
    {
     "data": {
      "text/html": [
       "<pre style=\"white-space:pre;overflow-x:auto;line-height:normal;font-family:Menlo,'DejaVu Sans Mono',consolas,'Courier New',monospace\"><span style=\"font-style: italic\">                                                 City Weather Data                                                 </span>\n",
       "┏━━━━━━━━━━━━━━┳━━━━━━━━━━┳━━━━━━━━━━━┳━━━━━━━━━━━━━━┳━━━━━━━━━━┳━━━━━━━━━━━━┳━━━━━━━━━━━━━┳━━━━━━━━━┳━━━━━━━━━━━━┓\n",
       "┃<span style=\"font-weight: bold\">     City     </span>┃<span style=\"font-weight: bold\">   Lat    </span>┃<span style=\"font-weight: bold\">    Lng    </span>┃<span style=\"font-weight: bold\"> Maximum_Tem… </span>┃<span style=\"font-weight: bold\"> Humidity </span>┃<span style=\"font-weight: bold\"> Cloudiness </span>┃<span style=\"font-weight: bold\"> Wind_Speed… </span>┃<span style=\"font-weight: bold\"> Country </span>┃<span style=\"font-weight: bold\">    Date    </span>┃\n",
       "┡━━━━━━━━━━━━━━╇━━━━━━━━━━╇━━━━━━━━━━━╇━━━━━━━━━━━━━━╇━━━━━━━━━━╇━━━━━━━━━━━━╇━━━━━━━━━━━━━╇━━━━━━━━━╇━━━━━━━━━━━━┩\n",
       "│<span style=\"font-weight: bold\">   rabo de    </span>│<span style=\"font-weight: bold\">   37.8   </span>│<span style=\"font-weight: bold\"> -25.5833  </span>│<span style=\"font-weight: bold\">    17.73     </span>│<span style=\"font-weight: bold\">    88    </span>│<span style=\"font-weight: bold\">     75     </span>│<span style=\"font-weight: bold\">    8.23     </span>│<span style=\"font-weight: bold\">   PT    </span>│<span style=\"font-weight: bold\"> 2025-01-08 </span>│\n",
       "│<span style=\"font-weight: bold\">    peixe     </span>│<span style=\"font-weight: bold\">          </span>│<span style=\"font-weight: bold\">           </span>│<span style=\"font-weight: bold\">              </span>│<span style=\"font-weight: bold\">          </span>│<span style=\"font-weight: bold\">            </span>│<span style=\"font-weight: bold\">             </span>│<span style=\"font-weight: bold\">         </span>│<span style=\"font-weight: bold\">            </span>│\n",
       "│<span style=\"font-weight: bold\">   waitangi   </span>│<span style=\"font-weight: bold\"> -43.9535 </span>│<span style=\"font-weight: bold\"> -176.5597 </span>│<span style=\"font-weight: bold\">    15.46     </span>│<span style=\"font-weight: bold\">    73    </span>│<span style=\"font-weight: bold\">     28     </span>│<span style=\"font-weight: bold\">    5.81     </span>│<span style=\"font-weight: bold\">   NZ    </span>│<span style=\"font-weight: bold\"> 2025-01-08 </span>│\n",
       "│<span style=\"font-weight: bold\"> edinburgh of </span>│<span style=\"font-weight: bold\"> -37.0676 </span>│<span style=\"font-weight: bold\"> -12.3116  </span>│<span style=\"font-weight: bold\">    17.66     </span>│<span style=\"font-weight: bold\">    98    </span>│<span style=\"font-weight: bold\">     83     </span>│<span style=\"font-weight: bold\">    5.26     </span>│<span style=\"font-weight: bold\">   SH    </span>│<span style=\"font-weight: bold\"> 2025-01-08 </span>│\n",
       "│<span style=\"font-weight: bold\">  the seven   </span>│<span style=\"font-weight: bold\">          </span>│<span style=\"font-weight: bold\">           </span>│<span style=\"font-weight: bold\">              </span>│<span style=\"font-weight: bold\">          </span>│<span style=\"font-weight: bold\">            </span>│<span style=\"font-weight: bold\">             </span>│<span style=\"font-weight: bold\">         </span>│<span style=\"font-weight: bold\">            </span>│\n",
       "│<span style=\"font-weight: bold\">     seas     </span>│<span style=\"font-weight: bold\">          </span>│<span style=\"font-weight: bold\">           </span>│<span style=\"font-weight: bold\">              </span>│<span style=\"font-weight: bold\">          </span>│<span style=\"font-weight: bold\">            </span>│<span style=\"font-weight: bold\">             </span>│<span style=\"font-weight: bold\">         </span>│<span style=\"font-weight: bold\">            </span>│\n",
       "│<span style=\"font-weight: bold\"> nova sintra  </span>│<span style=\"font-weight: bold\"> 14.8667  </span>│<span style=\"font-weight: bold\"> -24.7167  </span>│<span style=\"font-weight: bold\">    23.58     </span>│<span style=\"font-weight: bold\">    71    </span>│<span style=\"font-weight: bold\">     0      </span>│<span style=\"font-weight: bold\">    8.26     </span>│<span style=\"font-weight: bold\">   CV    </span>│<span style=\"font-weight: bold\"> 2025-01-08 </span>│\n",
       "│<span style=\"font-weight: bold\">   linqiong   </span>│<span style=\"font-weight: bold\"> 30.4159  </span>│<span style=\"font-weight: bold\"> 103.4609  </span>│<span style=\"font-weight: bold\">     5.61     </span>│<span style=\"font-weight: bold\">    77    </span>│<span style=\"font-weight: bold\">     83     </span>│<span style=\"font-weight: bold\">    0.36     </span>│<span style=\"font-weight: bold\">   CN    </span>│<span style=\"font-weight: bold\"> 2025-01-08 </span>│\n",
       "└──────────────┴──────────┴───────────┴──────────────┴──────────┴────────────┴─────────────┴─────────┴────────────┘\n",
       "</pre>\n"
      ],
      "text/plain": [
       "\u001b[3m                                                 City Weather Data                                                 \u001b[0m\n",
       "┏━━━━━━━━━━━━━━┳━━━━━━━━━━┳━━━━━━━━━━━┳━━━━━━━━━━━━━━┳━━━━━━━━━━┳━━━━━━━━━━━━┳━━━━━━━━━━━━━┳━━━━━━━━━┳━━━━━━━━━━━━┓\n",
       "┃\u001b[1m \u001b[0m\u001b[1m    City    \u001b[0m\u001b[1m \u001b[0m┃\u001b[1m \u001b[0m\u001b[1m  Lat   \u001b[0m\u001b[1m \u001b[0m┃\u001b[1m \u001b[0m\u001b[1m   Lng   \u001b[0m\u001b[1m \u001b[0m┃\u001b[1m \u001b[0m\u001b[1mMaximum_Tem…\u001b[0m\u001b[1m \u001b[0m┃\u001b[1m \u001b[0m\u001b[1mHumidity\u001b[0m\u001b[1m \u001b[0m┃\u001b[1m \u001b[0m\u001b[1mCloudiness\u001b[0m\u001b[1m \u001b[0m┃\u001b[1m \u001b[0m\u001b[1mWind_Speed…\u001b[0m\u001b[1m \u001b[0m┃\u001b[1m \u001b[0m\u001b[1mCountry\u001b[0m\u001b[1m \u001b[0m┃\u001b[1m \u001b[0m\u001b[1m   Date   \u001b[0m\u001b[1m \u001b[0m┃\n",
       "┡━━━━━━━━━━━━━━╇━━━━━━━━━━╇━━━━━━━━━━━╇━━━━━━━━━━━━━━╇━━━━━━━━━━╇━━━━━━━━━━━━╇━━━━━━━━━━━━━╇━━━━━━━━━╇━━━━━━━━━━━━┩\n",
       "│\u001b[1m \u001b[0m\u001b[1m  rabo de   \u001b[0m\u001b[1m \u001b[0m│\u001b[1m \u001b[0m\u001b[1m  37.8  \u001b[0m\u001b[1m \u001b[0m│\u001b[1m \u001b[0m\u001b[1m-25.5833 \u001b[0m\u001b[1m \u001b[0m│\u001b[1m \u001b[0m\u001b[1m   17.73    \u001b[0m\u001b[1m \u001b[0m│\u001b[1m \u001b[0m\u001b[1m   88   \u001b[0m\u001b[1m \u001b[0m│\u001b[1m \u001b[0m\u001b[1m    75    \u001b[0m\u001b[1m \u001b[0m│\u001b[1m \u001b[0m\u001b[1m   8.23    \u001b[0m\u001b[1m \u001b[0m│\u001b[1m \u001b[0m\u001b[1m  PT   \u001b[0m\u001b[1m \u001b[0m│\u001b[1m \u001b[0m\u001b[1m2025-01-08\u001b[0m\u001b[1m \u001b[0m│\n",
       "│\u001b[1m \u001b[0m\u001b[1m   peixe    \u001b[0m\u001b[1m \u001b[0m│\u001b[1m          \u001b[0m│\u001b[1m           \u001b[0m│\u001b[1m              \u001b[0m│\u001b[1m          \u001b[0m│\u001b[1m            \u001b[0m│\u001b[1m             \u001b[0m│\u001b[1m         \u001b[0m│\u001b[1m            \u001b[0m│\n",
       "│\u001b[1m \u001b[0m\u001b[1m  waitangi  \u001b[0m\u001b[1m \u001b[0m│\u001b[1m \u001b[0m\u001b[1m-43.9535\u001b[0m\u001b[1m \u001b[0m│\u001b[1m \u001b[0m\u001b[1m-176.5597\u001b[0m\u001b[1m \u001b[0m│\u001b[1m \u001b[0m\u001b[1m   15.46    \u001b[0m\u001b[1m \u001b[0m│\u001b[1m \u001b[0m\u001b[1m   73   \u001b[0m\u001b[1m \u001b[0m│\u001b[1m \u001b[0m\u001b[1m    28    \u001b[0m\u001b[1m \u001b[0m│\u001b[1m \u001b[0m\u001b[1m   5.81    \u001b[0m\u001b[1m \u001b[0m│\u001b[1m \u001b[0m\u001b[1m  NZ   \u001b[0m\u001b[1m \u001b[0m│\u001b[1m \u001b[0m\u001b[1m2025-01-08\u001b[0m\u001b[1m \u001b[0m│\n",
       "│\u001b[1m \u001b[0m\u001b[1medinburgh of\u001b[0m\u001b[1m \u001b[0m│\u001b[1m \u001b[0m\u001b[1m-37.0676\u001b[0m\u001b[1m \u001b[0m│\u001b[1m \u001b[0m\u001b[1m-12.3116 \u001b[0m\u001b[1m \u001b[0m│\u001b[1m \u001b[0m\u001b[1m   17.66    \u001b[0m\u001b[1m \u001b[0m│\u001b[1m \u001b[0m\u001b[1m   98   \u001b[0m\u001b[1m \u001b[0m│\u001b[1m \u001b[0m\u001b[1m    83    \u001b[0m\u001b[1m \u001b[0m│\u001b[1m \u001b[0m\u001b[1m   5.26    \u001b[0m\u001b[1m \u001b[0m│\u001b[1m \u001b[0m\u001b[1m  SH   \u001b[0m\u001b[1m \u001b[0m│\u001b[1m \u001b[0m\u001b[1m2025-01-08\u001b[0m\u001b[1m \u001b[0m│\n",
       "│\u001b[1m \u001b[0m\u001b[1m the seven  \u001b[0m\u001b[1m \u001b[0m│\u001b[1m          \u001b[0m│\u001b[1m           \u001b[0m│\u001b[1m              \u001b[0m│\u001b[1m          \u001b[0m│\u001b[1m            \u001b[0m│\u001b[1m             \u001b[0m│\u001b[1m         \u001b[0m│\u001b[1m            \u001b[0m│\n",
       "│\u001b[1m \u001b[0m\u001b[1m    seas    \u001b[0m\u001b[1m \u001b[0m│\u001b[1m          \u001b[0m│\u001b[1m           \u001b[0m│\u001b[1m              \u001b[0m│\u001b[1m          \u001b[0m│\u001b[1m            \u001b[0m│\u001b[1m             \u001b[0m│\u001b[1m         \u001b[0m│\u001b[1m            \u001b[0m│\n",
       "│\u001b[1m \u001b[0m\u001b[1mnova sintra \u001b[0m\u001b[1m \u001b[0m│\u001b[1m \u001b[0m\u001b[1m14.8667 \u001b[0m\u001b[1m \u001b[0m│\u001b[1m \u001b[0m\u001b[1m-24.7167 \u001b[0m\u001b[1m \u001b[0m│\u001b[1m \u001b[0m\u001b[1m   23.58    \u001b[0m\u001b[1m \u001b[0m│\u001b[1m \u001b[0m\u001b[1m   71   \u001b[0m\u001b[1m \u001b[0m│\u001b[1m \u001b[0m\u001b[1m    0     \u001b[0m\u001b[1m \u001b[0m│\u001b[1m \u001b[0m\u001b[1m   8.26    \u001b[0m\u001b[1m \u001b[0m│\u001b[1m \u001b[0m\u001b[1m  CV   \u001b[0m\u001b[1m \u001b[0m│\u001b[1m \u001b[0m\u001b[1m2025-01-08\u001b[0m\u001b[1m \u001b[0m│\n",
       "│\u001b[1m \u001b[0m\u001b[1m  linqiong  \u001b[0m\u001b[1m \u001b[0m│\u001b[1m \u001b[0m\u001b[1m30.4159 \u001b[0m\u001b[1m \u001b[0m│\u001b[1m \u001b[0m\u001b[1m103.4609 \u001b[0m\u001b[1m \u001b[0m│\u001b[1m \u001b[0m\u001b[1m    5.61    \u001b[0m\u001b[1m \u001b[0m│\u001b[1m \u001b[0m\u001b[1m   77   \u001b[0m\u001b[1m \u001b[0m│\u001b[1m \u001b[0m\u001b[1m    83    \u001b[0m\u001b[1m \u001b[0m│\u001b[1m \u001b[0m\u001b[1m   0.36    \u001b[0m\u001b[1m \u001b[0m│\u001b[1m \u001b[0m\u001b[1m  CN   \u001b[0m\u001b[1m \u001b[0m│\u001b[1m \u001b[0m\u001b[1m2025-01-08\u001b[0m\u001b[1m \u001b[0m│\n",
       "└──────────────┴──────────┴───────────┴──────────────┴──────────┴────────────┴─────────────┴─────────┴────────────┘\n"
      ]
     },
     "metadata": {},
     "output_type": "display_data"
    }
   ],
   "source": [
    "# Create a Rich Console object for city weather data\n",
    "console = Console()\n",
    "\n",
    "# Function to print the first few rows of the DataFrame with Rich\n",
    "def print_df_with_rich(df):\n",
    "    # Create a Rich Table object\n",
    "    table = Table(title=\"City Weather Data\")\n",
    "\n",
    "    # Add columns dynamically based on the DataFrame\n",
    "    for column in df.columns:\n",
    "        table.add_column(column, justify=\"center\", style=\"bold\")\n",
    "\n",
    "    # Add rows dynamically based on the DataFrame data\n",
    "    for _, row in df.head().iterrows():\n",
    "        table.add_row(*[str(value) for value in row])\n",
    "\n",
    "    # Print the table\n",
    "    console.print(table)\n",
    "\n",
    "# Call the function to print the first few rows of the DataFrame with Rich\n",
    "print_df_with_rich(city_data_df)"
   ]
  },
  {
   "cell_type": "code",
   "execution_count": 18,
   "id": "559c2621-415f-4a2c-bd26-6b74e651c7b9",
   "metadata": {},
   "outputs": [
    {
     "data": {
      "text/html": [
       "<pre style=\"white-space:pre;overflow-x:auto;line-height:normal;font-family:Menlo,'DejaVu Sans Mono',consolas,'Courier New',monospace\"><span style=\"font-style: italic\">                                                 City Weather Data                                                 </span>\n",
       "┏━━━━━━━━━━━━━━┳━━━━━━━━━━┳━━━━━━━━━━━┳━━━━━━━━━━━━━━┳━━━━━━━━━━┳━━━━━━━━━━━━┳━━━━━━━━━━━━━┳━━━━━━━━━┳━━━━━━━━━━━━┓\n",
       "┃<span style=\"font-weight: bold\">     City     </span>┃<span style=\"font-weight: bold\">   Lat    </span>┃<span style=\"font-weight: bold\">    Lng    </span>┃<span style=\"font-weight: bold\"> Maximum_Tem… </span>┃<span style=\"font-weight: bold\"> Humidity </span>┃<span style=\"font-weight: bold\"> Cloudiness </span>┃<span style=\"font-weight: bold\"> Wind_Speed… </span>┃<span style=\"font-weight: bold\"> Country </span>┃<span style=\"font-weight: bold\">    Date    </span>┃\n",
       "┡━━━━━━━━━━━━━━╇━━━━━━━━━━╇━━━━━━━━━━━╇━━━━━━━━━━━━━━╇━━━━━━━━━━╇━━━━━━━━━━━━╇━━━━━━━━━━━━━╇━━━━━━━━━╇━━━━━━━━━━━━┩\n",
       "│<span style=\"font-weight: bold\">   rabo de    </span>│<span style=\"font-weight: bold\">   37.8   </span>│<span style=\"font-weight: bold\"> -25.5833  </span>│<span style=\"font-weight: bold\">    17.73     </span>│<span style=\"font-weight: bold\">    88    </span>│<span style=\"font-weight: bold\">     75     </span>│<span style=\"font-weight: bold\">    8.23     </span>│<span style=\"font-weight: bold\">   PT    </span>│<span style=\"font-weight: bold\"> 2025-01-08 </span>│\n",
       "│<span style=\"font-weight: bold\">    peixe     </span>│<span style=\"font-weight: bold\">          </span>│<span style=\"font-weight: bold\">           </span>│<span style=\"font-weight: bold\">              </span>│<span style=\"font-weight: bold\">          </span>│<span style=\"font-weight: bold\">            </span>│<span style=\"font-weight: bold\">             </span>│<span style=\"font-weight: bold\">         </span>│<span style=\"font-weight: bold\">            </span>│\n",
       "│<span style=\"font-weight: bold\">   waitangi   </span>│<span style=\"font-weight: bold\"> -43.9535 </span>│<span style=\"font-weight: bold\"> -176.5597 </span>│<span style=\"font-weight: bold\">    15.46     </span>│<span style=\"font-weight: bold\">    73    </span>│<span style=\"font-weight: bold\">     28     </span>│<span style=\"font-weight: bold\">    5.81     </span>│<span style=\"font-weight: bold\">   NZ    </span>│<span style=\"font-weight: bold\"> 2025-01-08 </span>│\n",
       "│<span style=\"font-weight: bold\"> edinburgh of </span>│<span style=\"font-weight: bold\"> -37.0676 </span>│<span style=\"font-weight: bold\"> -12.3116  </span>│<span style=\"font-weight: bold\">    17.66     </span>│<span style=\"font-weight: bold\">    98    </span>│<span style=\"font-weight: bold\">     83     </span>│<span style=\"font-weight: bold\">    5.26     </span>│<span style=\"font-weight: bold\">   SH    </span>│<span style=\"font-weight: bold\"> 2025-01-08 </span>│\n",
       "│<span style=\"font-weight: bold\">  the seven   </span>│<span style=\"font-weight: bold\">          </span>│<span style=\"font-weight: bold\">           </span>│<span style=\"font-weight: bold\">              </span>│<span style=\"font-weight: bold\">          </span>│<span style=\"font-weight: bold\">            </span>│<span style=\"font-weight: bold\">             </span>│<span style=\"font-weight: bold\">         </span>│<span style=\"font-weight: bold\">            </span>│\n",
       "│<span style=\"font-weight: bold\">     seas     </span>│<span style=\"font-weight: bold\">          </span>│<span style=\"font-weight: bold\">           </span>│<span style=\"font-weight: bold\">              </span>│<span style=\"font-weight: bold\">          </span>│<span style=\"font-weight: bold\">            </span>│<span style=\"font-weight: bold\">             </span>│<span style=\"font-weight: bold\">         </span>│<span style=\"font-weight: bold\">            </span>│\n",
       "│<span style=\"font-weight: bold\"> nova sintra  </span>│<span style=\"font-weight: bold\"> 14.8667  </span>│<span style=\"font-weight: bold\"> -24.7167  </span>│<span style=\"font-weight: bold\">    23.58     </span>│<span style=\"font-weight: bold\">    71    </span>│<span style=\"font-weight: bold\">     0      </span>│<span style=\"font-weight: bold\">    8.26     </span>│<span style=\"font-weight: bold\">   CV    </span>│<span style=\"font-weight: bold\"> 2025-01-08 </span>│\n",
       "│<span style=\"font-weight: bold\">   linqiong   </span>│<span style=\"font-weight: bold\"> 30.4159  </span>│<span style=\"font-weight: bold\"> 103.4609  </span>│<span style=\"font-weight: bold\">     5.61     </span>│<span style=\"font-weight: bold\">    77    </span>│<span style=\"font-weight: bold\">     83     </span>│<span style=\"font-weight: bold\">    0.36     </span>│<span style=\"font-weight: bold\">   CN    </span>│<span style=\"font-weight: bold\"> 2025-01-08 </span>│\n",
       "│<span style=\"font-weight: bold\"> yellowknife  </span>│<span style=\"font-weight: bold\">  62.456  </span>│<span style=\"font-weight: bold\"> -114.3525 </span>│<span style=\"font-weight: bold\">    -15.71    </span>│<span style=\"font-weight: bold\">    92    </span>│<span style=\"font-weight: bold\">    100     </span>│<span style=\"font-weight: bold\">    8.75     </span>│<span style=\"font-weight: bold\">   CA    </span>│<span style=\"font-weight: bold\"> 2025-01-08 </span>│\n",
       "│<span style=\"font-weight: bold\">  burlington  </span>│<span style=\"font-weight: bold\"> 39.8835  </span>│<span style=\"font-weight: bold\"> -74.6413  </span>│<span style=\"font-weight: bold\">    -0.58     </span>│<span style=\"font-weight: bold\">    44    </span>│<span style=\"font-weight: bold\">     75     </span>│<span style=\"font-weight: bold\">    6.69     </span>│<span style=\"font-weight: bold\">   US    </span>│<span style=\"font-weight: bold\"> 2025-01-08 </span>│\n",
       "│<span style=\"font-weight: bold\">   ushuaia    </span>│<span style=\"font-weight: bold\">  -54.8   </span>│<span style=\"font-weight: bold\">   -68.3   </span>│<span style=\"font-weight: bold\">    14.81     </span>│<span style=\"font-weight: bold\">    55    </span>│<span style=\"font-weight: bold\">     75     </span>│<span style=\"font-weight: bold\">    3.09     </span>│<span style=\"font-weight: bold\">   AR    </span>│<span style=\"font-weight: bold\"> 2025-01-08 </span>│\n",
       "│<span style=\"font-weight: bold\">  saskatoon   </span>│<span style=\"font-weight: bold\"> 52.1168  </span>│<span style=\"font-weight: bold\"> -106.6345 </span>│<span style=\"font-weight: bold\">    -0.01     </span>│<span style=\"font-weight: bold\">    80    </span>│<span style=\"font-weight: bold\">     40     </span>│<span style=\"font-weight: bold\">     7.2     </span>│<span style=\"font-weight: bold\">   CA    </span>│<span style=\"font-weight: bold\"> 2025-01-08 </span>│\n",
       "│<span style=\"font-weight: bold\">  bredasdorp  </span>│<span style=\"font-weight: bold\"> -34.5322 </span>│<span style=\"font-weight: bold\">  20.0403  </span>│<span style=\"font-weight: bold\">    17.82     </span>│<span style=\"font-weight: bold\">    80    </span>│<span style=\"font-weight: bold\">     0      </span>│<span style=\"font-weight: bold\">    1.46     </span>│<span style=\"font-weight: bold\">   ZA    </span>│<span style=\"font-weight: bold\"> 2025-01-08 </span>│\n",
       "└──────────────┴──────────┴───────────┴──────────────┴──────────┴────────────┴─────────────┴─────────┴────────────┘\n",
       "</pre>\n"
      ],
      "text/plain": [
       "\u001b[3m                                                 City Weather Data                                                 \u001b[0m\n",
       "┏━━━━━━━━━━━━━━┳━━━━━━━━━━┳━━━━━━━━━━━┳━━━━━━━━━━━━━━┳━━━━━━━━━━┳━━━━━━━━━━━━┳━━━━━━━━━━━━━┳━━━━━━━━━┳━━━━━━━━━━━━┓\n",
       "┃\u001b[1m \u001b[0m\u001b[1m    City    \u001b[0m\u001b[1m \u001b[0m┃\u001b[1m \u001b[0m\u001b[1m  Lat   \u001b[0m\u001b[1m \u001b[0m┃\u001b[1m \u001b[0m\u001b[1m   Lng   \u001b[0m\u001b[1m \u001b[0m┃\u001b[1m \u001b[0m\u001b[1mMaximum_Tem…\u001b[0m\u001b[1m \u001b[0m┃\u001b[1m \u001b[0m\u001b[1mHumidity\u001b[0m\u001b[1m \u001b[0m┃\u001b[1m \u001b[0m\u001b[1mCloudiness\u001b[0m\u001b[1m \u001b[0m┃\u001b[1m \u001b[0m\u001b[1mWind_Speed…\u001b[0m\u001b[1m \u001b[0m┃\u001b[1m \u001b[0m\u001b[1mCountry\u001b[0m\u001b[1m \u001b[0m┃\u001b[1m \u001b[0m\u001b[1m   Date   \u001b[0m\u001b[1m \u001b[0m┃\n",
       "┡━━━━━━━━━━━━━━╇━━━━━━━━━━╇━━━━━━━━━━━╇━━━━━━━━━━━━━━╇━━━━━━━━━━╇━━━━━━━━━━━━╇━━━━━━━━━━━━━╇━━━━━━━━━╇━━━━━━━━━━━━┩\n",
       "│\u001b[1m \u001b[0m\u001b[1m  rabo de   \u001b[0m\u001b[1m \u001b[0m│\u001b[1m \u001b[0m\u001b[1m  37.8  \u001b[0m\u001b[1m \u001b[0m│\u001b[1m \u001b[0m\u001b[1m-25.5833 \u001b[0m\u001b[1m \u001b[0m│\u001b[1m \u001b[0m\u001b[1m   17.73    \u001b[0m\u001b[1m \u001b[0m│\u001b[1m \u001b[0m\u001b[1m   88   \u001b[0m\u001b[1m \u001b[0m│\u001b[1m \u001b[0m\u001b[1m    75    \u001b[0m\u001b[1m \u001b[0m│\u001b[1m \u001b[0m\u001b[1m   8.23    \u001b[0m\u001b[1m \u001b[0m│\u001b[1m \u001b[0m\u001b[1m  PT   \u001b[0m\u001b[1m \u001b[0m│\u001b[1m \u001b[0m\u001b[1m2025-01-08\u001b[0m\u001b[1m \u001b[0m│\n",
       "│\u001b[1m \u001b[0m\u001b[1m   peixe    \u001b[0m\u001b[1m \u001b[0m│\u001b[1m          \u001b[0m│\u001b[1m           \u001b[0m│\u001b[1m              \u001b[0m│\u001b[1m          \u001b[0m│\u001b[1m            \u001b[0m│\u001b[1m             \u001b[0m│\u001b[1m         \u001b[0m│\u001b[1m            \u001b[0m│\n",
       "│\u001b[1m \u001b[0m\u001b[1m  waitangi  \u001b[0m\u001b[1m \u001b[0m│\u001b[1m \u001b[0m\u001b[1m-43.9535\u001b[0m\u001b[1m \u001b[0m│\u001b[1m \u001b[0m\u001b[1m-176.5597\u001b[0m\u001b[1m \u001b[0m│\u001b[1m \u001b[0m\u001b[1m   15.46    \u001b[0m\u001b[1m \u001b[0m│\u001b[1m \u001b[0m\u001b[1m   73   \u001b[0m\u001b[1m \u001b[0m│\u001b[1m \u001b[0m\u001b[1m    28    \u001b[0m\u001b[1m \u001b[0m│\u001b[1m \u001b[0m\u001b[1m   5.81    \u001b[0m\u001b[1m \u001b[0m│\u001b[1m \u001b[0m\u001b[1m  NZ   \u001b[0m\u001b[1m \u001b[0m│\u001b[1m \u001b[0m\u001b[1m2025-01-08\u001b[0m\u001b[1m \u001b[0m│\n",
       "│\u001b[1m \u001b[0m\u001b[1medinburgh of\u001b[0m\u001b[1m \u001b[0m│\u001b[1m \u001b[0m\u001b[1m-37.0676\u001b[0m\u001b[1m \u001b[0m│\u001b[1m \u001b[0m\u001b[1m-12.3116 \u001b[0m\u001b[1m \u001b[0m│\u001b[1m \u001b[0m\u001b[1m   17.66    \u001b[0m\u001b[1m \u001b[0m│\u001b[1m \u001b[0m\u001b[1m   98   \u001b[0m\u001b[1m \u001b[0m│\u001b[1m \u001b[0m\u001b[1m    83    \u001b[0m\u001b[1m \u001b[0m│\u001b[1m \u001b[0m\u001b[1m   5.26    \u001b[0m\u001b[1m \u001b[0m│\u001b[1m \u001b[0m\u001b[1m  SH   \u001b[0m\u001b[1m \u001b[0m│\u001b[1m \u001b[0m\u001b[1m2025-01-08\u001b[0m\u001b[1m \u001b[0m│\n",
       "│\u001b[1m \u001b[0m\u001b[1m the seven  \u001b[0m\u001b[1m \u001b[0m│\u001b[1m          \u001b[0m│\u001b[1m           \u001b[0m│\u001b[1m              \u001b[0m│\u001b[1m          \u001b[0m│\u001b[1m            \u001b[0m│\u001b[1m             \u001b[0m│\u001b[1m         \u001b[0m│\u001b[1m            \u001b[0m│\n",
       "│\u001b[1m \u001b[0m\u001b[1m    seas    \u001b[0m\u001b[1m \u001b[0m│\u001b[1m          \u001b[0m│\u001b[1m           \u001b[0m│\u001b[1m              \u001b[0m│\u001b[1m          \u001b[0m│\u001b[1m            \u001b[0m│\u001b[1m             \u001b[0m│\u001b[1m         \u001b[0m│\u001b[1m            \u001b[0m│\n",
       "│\u001b[1m \u001b[0m\u001b[1mnova sintra \u001b[0m\u001b[1m \u001b[0m│\u001b[1m \u001b[0m\u001b[1m14.8667 \u001b[0m\u001b[1m \u001b[0m│\u001b[1m \u001b[0m\u001b[1m-24.7167 \u001b[0m\u001b[1m \u001b[0m│\u001b[1m \u001b[0m\u001b[1m   23.58    \u001b[0m\u001b[1m \u001b[0m│\u001b[1m \u001b[0m\u001b[1m   71   \u001b[0m\u001b[1m \u001b[0m│\u001b[1m \u001b[0m\u001b[1m    0     \u001b[0m\u001b[1m \u001b[0m│\u001b[1m \u001b[0m\u001b[1m   8.26    \u001b[0m\u001b[1m \u001b[0m│\u001b[1m \u001b[0m\u001b[1m  CV   \u001b[0m\u001b[1m \u001b[0m│\u001b[1m \u001b[0m\u001b[1m2025-01-08\u001b[0m\u001b[1m \u001b[0m│\n",
       "│\u001b[1m \u001b[0m\u001b[1m  linqiong  \u001b[0m\u001b[1m \u001b[0m│\u001b[1m \u001b[0m\u001b[1m30.4159 \u001b[0m\u001b[1m \u001b[0m│\u001b[1m \u001b[0m\u001b[1m103.4609 \u001b[0m\u001b[1m \u001b[0m│\u001b[1m \u001b[0m\u001b[1m    5.61    \u001b[0m\u001b[1m \u001b[0m│\u001b[1m \u001b[0m\u001b[1m   77   \u001b[0m\u001b[1m \u001b[0m│\u001b[1m \u001b[0m\u001b[1m    83    \u001b[0m\u001b[1m \u001b[0m│\u001b[1m \u001b[0m\u001b[1m   0.36    \u001b[0m\u001b[1m \u001b[0m│\u001b[1m \u001b[0m\u001b[1m  CN   \u001b[0m\u001b[1m \u001b[0m│\u001b[1m \u001b[0m\u001b[1m2025-01-08\u001b[0m\u001b[1m \u001b[0m│\n",
       "│\u001b[1m \u001b[0m\u001b[1myellowknife \u001b[0m\u001b[1m \u001b[0m│\u001b[1m \u001b[0m\u001b[1m 62.456 \u001b[0m\u001b[1m \u001b[0m│\u001b[1m \u001b[0m\u001b[1m-114.3525\u001b[0m\u001b[1m \u001b[0m│\u001b[1m \u001b[0m\u001b[1m   -15.71   \u001b[0m\u001b[1m \u001b[0m│\u001b[1m \u001b[0m\u001b[1m   92   \u001b[0m\u001b[1m \u001b[0m│\u001b[1m \u001b[0m\u001b[1m   100    \u001b[0m\u001b[1m \u001b[0m│\u001b[1m \u001b[0m\u001b[1m   8.75    \u001b[0m\u001b[1m \u001b[0m│\u001b[1m \u001b[0m\u001b[1m  CA   \u001b[0m\u001b[1m \u001b[0m│\u001b[1m \u001b[0m\u001b[1m2025-01-08\u001b[0m\u001b[1m \u001b[0m│\n",
       "│\u001b[1m \u001b[0m\u001b[1m burlington \u001b[0m\u001b[1m \u001b[0m│\u001b[1m \u001b[0m\u001b[1m39.8835 \u001b[0m\u001b[1m \u001b[0m│\u001b[1m \u001b[0m\u001b[1m-74.6413 \u001b[0m\u001b[1m \u001b[0m│\u001b[1m \u001b[0m\u001b[1m   -0.58    \u001b[0m\u001b[1m \u001b[0m│\u001b[1m \u001b[0m\u001b[1m   44   \u001b[0m\u001b[1m \u001b[0m│\u001b[1m \u001b[0m\u001b[1m    75    \u001b[0m\u001b[1m \u001b[0m│\u001b[1m \u001b[0m\u001b[1m   6.69    \u001b[0m\u001b[1m \u001b[0m│\u001b[1m \u001b[0m\u001b[1m  US   \u001b[0m\u001b[1m \u001b[0m│\u001b[1m \u001b[0m\u001b[1m2025-01-08\u001b[0m\u001b[1m \u001b[0m│\n",
       "│\u001b[1m \u001b[0m\u001b[1m  ushuaia   \u001b[0m\u001b[1m \u001b[0m│\u001b[1m \u001b[0m\u001b[1m -54.8  \u001b[0m\u001b[1m \u001b[0m│\u001b[1m \u001b[0m\u001b[1m  -68.3  \u001b[0m\u001b[1m \u001b[0m│\u001b[1m \u001b[0m\u001b[1m   14.81    \u001b[0m\u001b[1m \u001b[0m│\u001b[1m \u001b[0m\u001b[1m   55   \u001b[0m\u001b[1m \u001b[0m│\u001b[1m \u001b[0m\u001b[1m    75    \u001b[0m\u001b[1m \u001b[0m│\u001b[1m \u001b[0m\u001b[1m   3.09    \u001b[0m\u001b[1m \u001b[0m│\u001b[1m \u001b[0m\u001b[1m  AR   \u001b[0m\u001b[1m \u001b[0m│\u001b[1m \u001b[0m\u001b[1m2025-01-08\u001b[0m\u001b[1m \u001b[0m│\n",
       "│\u001b[1m \u001b[0m\u001b[1m saskatoon  \u001b[0m\u001b[1m \u001b[0m│\u001b[1m \u001b[0m\u001b[1m52.1168 \u001b[0m\u001b[1m \u001b[0m│\u001b[1m \u001b[0m\u001b[1m-106.6345\u001b[0m\u001b[1m \u001b[0m│\u001b[1m \u001b[0m\u001b[1m   -0.01    \u001b[0m\u001b[1m \u001b[0m│\u001b[1m \u001b[0m\u001b[1m   80   \u001b[0m\u001b[1m \u001b[0m│\u001b[1m \u001b[0m\u001b[1m    40    \u001b[0m\u001b[1m \u001b[0m│\u001b[1m \u001b[0m\u001b[1m    7.2    \u001b[0m\u001b[1m \u001b[0m│\u001b[1m \u001b[0m\u001b[1m  CA   \u001b[0m\u001b[1m \u001b[0m│\u001b[1m \u001b[0m\u001b[1m2025-01-08\u001b[0m\u001b[1m \u001b[0m│\n",
       "│\u001b[1m \u001b[0m\u001b[1m bredasdorp \u001b[0m\u001b[1m \u001b[0m│\u001b[1m \u001b[0m\u001b[1m-34.5322\u001b[0m\u001b[1m \u001b[0m│\u001b[1m \u001b[0m\u001b[1m 20.0403 \u001b[0m\u001b[1m \u001b[0m│\u001b[1m \u001b[0m\u001b[1m   17.82    \u001b[0m\u001b[1m \u001b[0m│\u001b[1m \u001b[0m\u001b[1m   80   \u001b[0m\u001b[1m \u001b[0m│\u001b[1m \u001b[0m\u001b[1m    0     \u001b[0m\u001b[1m \u001b[0m│\u001b[1m \u001b[0m\u001b[1m   1.46    \u001b[0m\u001b[1m \u001b[0m│\u001b[1m \u001b[0m\u001b[1m  ZA   \u001b[0m\u001b[1m \u001b[0m│\u001b[1m \u001b[0m\u001b[1m2025-01-08\u001b[0m\u001b[1m \u001b[0m│\n",
       "└──────────────┴──────────┴───────────┴──────────────┴──────────┴────────────┴─────────────┴─────────┴────────────┘\n"
      ]
     },
     "metadata": {},
     "output_type": "display_data"
    }
   ],
   "source": [
    "# Create a Rich Console object\n",
    "console = Console()\n",
    "\n",
    "# Function to print the DataFrame with Rich\n",
    "def print_df_with_rich(df):\n",
    "    # Create a Rich Table object\n",
    "    table = Table(title=\"City Weather Data\")\n",
    "\n",
    "    # Add columns dynamically based on the DataFrame\n",
    "    for column in df.columns:\n",
    "        table.add_column(column, justify=\"center\", style=\"bold\")\n",
    "\n",
    "    # Add rows dynamically based on the DataFrame data\n",
    "    for _, row in df.iterrows():\n",
    "        table.add_row(*[str(value) for value in row])\n",
    "\n",
    "    # Print the table using Rich\n",
    "    console.print(table)\n",
    "\n",
    "# Call the function to print the DataFrame with Rich\n",
    "print_df_with_rich(city_data_df.head(10))"
   ]
  },
  {
   "cell_type": "code",
   "execution_count": 19,
   "id": "812d269f-c2d1-4c5f-95b4-9bd76f0b2cef",
   "metadata": {},
   "outputs": [
    {
     "name": "stdout",
     "output_type": "stream",
     "text": [
      "<class 'pandas.core.frame.DataFrame'>\n",
      "RangeIndex: 551 entries, 0 to 550\n",
      "Data columns (total 9 columns):\n",
      " #   Column               Non-Null Count  Dtype  \n",
      "---  ------               --------------  -----  \n",
      " 0   City                 551 non-null    object \n",
      " 1   Lat                  551 non-null    float64\n",
      " 2   Lng                  551 non-null    float64\n",
      " 3   Maximum_Temperature  551 non-null    float64\n",
      " 4   Humidity             551 non-null    int64  \n",
      " 5   Cloudiness           551 non-null    int64  \n",
      " 6   Wind_Speed_kmh       551 non-null    float64\n",
      " 7   Country              551 non-null    object \n",
      " 8   Date                 551 non-null    object \n",
      "dtypes: float64(4), int64(2), object(3)\n",
      "memory usage: 38.9+ KB\n"
     ]
    }
   ],
   "source": [
    "city_data_df.info()\n"
   ]
  },
  {
   "cell_type": "code",
   "execution_count": null,
   "id": "6f6a4875-adfc-4b15-8940-67b433fde593",
   "metadata": {},
   "outputs": [],
   "source": []
  },
  {
   "cell_type": "code",
   "execution_count": 20,
   "id": "b37a3b0d-2052-4937-b6fe-2d32a2ccfe46",
   "metadata": {},
   "outputs": [],
   "source": [
    "city_data_df = city_data_df.rename(columns={\n",
    "    'Max Temp': 'Maximum_Temperature',\n",
    "    'Wind_Speed': 'Wind_Speed_kmh'\n",
    "})\n"
   ]
  },
  {
   "cell_type": "code",
   "execution_count": 21,
   "id": "14532089-21fd-40f6-adc6-594b192a3e93",
   "metadata": {},
   "outputs": [
    {
     "data": {
      "text/html": [
       "<pre style=\"white-space:pre;overflow-x:auto;line-height:normal;font-family:Menlo,'DejaVu Sans Mono',consolas,'Courier New',monospace\"><span style=\"font-style: italic\">                                            City Weather Data (Ordered)                                            </span>\n",
       "┏━━━━━━━━━━━━┳━━━━━━━━━┳━━━━━━━━━━━━━━┳━━━━━━━━━━━━┳━━━━━━━━━━┳━━━━━━━━━━━━━━┳━━━━━━━━━━━━━┳━━━━━━━━━━┳━━━━━━━━━━━┓\n",
       "┃<span style=\"color: #008080; text-decoration-color: #008080; font-weight: bold\">    Date    </span>┃<span style=\"color: #008080; text-decoration-color: #008080; font-weight: bold\"> Country </span>┃<span style=\"color: #008080; text-decoration-color: #008080; font-weight: bold\">     City     </span>┃<span style=\"color: #008080; text-decoration-color: #008080; font-weight: bold\"> Cloudiness </span>┃<span style=\"color: #008080; text-decoration-color: #008080; font-weight: bold\"> Humidity </span>┃<span style=\"color: #008080; text-decoration-color: #008080; font-weight: bold\"> Maximum_Tem… </span>┃<span style=\"color: #008080; text-decoration-color: #008080; font-weight: bold\"> Wind_Speed… </span>┃<span style=\"color: #008080; text-decoration-color: #008080; font-weight: bold\">   Lat    </span>┃<span style=\"color: #008080; text-decoration-color: #008080; font-weight: bold\">    Lng    </span>┃\n",
       "┡━━━━━━━━━━━━╇━━━━━━━━━╇━━━━━━━━━━━━━━╇━━━━━━━━━━━━╇━━━━━━━━━━╇━━━━━━━━━━━━━━╇━━━━━━━━━━━━━╇━━━━━━━━━━╇━━━━━━━━━━━┩\n",
       "│<span style=\"color: #bf7fbf; text-decoration-color: #bf7fbf; font-weight: bold\"> 2025-01-08 </span>│<span style=\"color: #bf7fbf; text-decoration-color: #bf7fbf; font-weight: bold\">   PT    </span>│<span style=\"color: #bf7fbf; text-decoration-color: #bf7fbf; font-weight: bold\">   rabo de    </span>│<span style=\"color: #bf7fbf; text-decoration-color: #bf7fbf; font-weight: bold\">     75     </span>│<span style=\"color: #bf7fbf; text-decoration-color: #bf7fbf; font-weight: bold\">    88    </span>│<span style=\"color: #bf7fbf; text-decoration-color: #bf7fbf; font-weight: bold\">    17.73     </span>│<span style=\"color: #bf7fbf; text-decoration-color: #bf7fbf; font-weight: bold\">    8.23     </span>│<span style=\"color: #bf7fbf; text-decoration-color: #bf7fbf; font-weight: bold\">   37.8   </span>│<span style=\"color: #bf7fbf; text-decoration-color: #bf7fbf; font-weight: bold\"> -25.5833  </span>│\n",
       "│<span style=\"color: #bf7fbf; text-decoration-color: #bf7fbf; font-weight: bold\">            </span>│<span style=\"color: #bf7fbf; text-decoration-color: #bf7fbf; font-weight: bold\">         </span>│<span style=\"color: #bf7fbf; text-decoration-color: #bf7fbf; font-weight: bold\">    peixe     </span>│<span style=\"color: #bf7fbf; text-decoration-color: #bf7fbf; font-weight: bold\">            </span>│<span style=\"color: #bf7fbf; text-decoration-color: #bf7fbf; font-weight: bold\">          </span>│<span style=\"color: #bf7fbf; text-decoration-color: #bf7fbf; font-weight: bold\">              </span>│<span style=\"color: #bf7fbf; text-decoration-color: #bf7fbf; font-weight: bold\">             </span>│<span style=\"color: #bf7fbf; text-decoration-color: #bf7fbf; font-weight: bold\">          </span>│<span style=\"color: #bf7fbf; text-decoration-color: #bf7fbf; font-weight: bold\">           </span>│\n",
       "├────────────┼─────────┼──────────────┼────────────┼──────────┼──────────────┼─────────────┼──────────┼───────────┤\n",
       "│<span style=\"color: #800080; text-decoration-color: #800080; font-weight: bold\"> 2025-01-08 </span>│<span style=\"color: #800080; text-decoration-color: #800080; font-weight: bold\">   NZ    </span>│<span style=\"color: #800080; text-decoration-color: #800080; font-weight: bold\">   waitangi   </span>│<span style=\"color: #800080; text-decoration-color: #800080; font-weight: bold\">     28     </span>│<span style=\"color: #800080; text-decoration-color: #800080; font-weight: bold\">    73    </span>│<span style=\"color: #800080; text-decoration-color: #800080; font-weight: bold\">    15.46     </span>│<span style=\"color: #800080; text-decoration-color: #800080; font-weight: bold\">    5.81     </span>│<span style=\"color: #800080; text-decoration-color: #800080; font-weight: bold\"> -43.9535 </span>│<span style=\"color: #800080; text-decoration-color: #800080; font-weight: bold\"> -176.5597 </span>│\n",
       "├────────────┼─────────┼──────────────┼────────────┼──────────┼──────────────┼─────────────┼──────────┼───────────┤\n",
       "│<span style=\"color: #bf7fbf; text-decoration-color: #bf7fbf; font-weight: bold\"> 2025-01-08 </span>│<span style=\"color: #bf7fbf; text-decoration-color: #bf7fbf; font-weight: bold\">   SH    </span>│<span style=\"color: #bf7fbf; text-decoration-color: #bf7fbf; font-weight: bold\"> edinburgh of </span>│<span style=\"color: #bf7fbf; text-decoration-color: #bf7fbf; font-weight: bold\">     83     </span>│<span style=\"color: #bf7fbf; text-decoration-color: #bf7fbf; font-weight: bold\">    98    </span>│<span style=\"color: #bf7fbf; text-decoration-color: #bf7fbf; font-weight: bold\">    17.66     </span>│<span style=\"color: #bf7fbf; text-decoration-color: #bf7fbf; font-weight: bold\">    5.26     </span>│<span style=\"color: #bf7fbf; text-decoration-color: #bf7fbf; font-weight: bold\"> -37.0676 </span>│<span style=\"color: #bf7fbf; text-decoration-color: #bf7fbf; font-weight: bold\"> -12.3116  </span>│\n",
       "│<span style=\"color: #bf7fbf; text-decoration-color: #bf7fbf; font-weight: bold\">            </span>│<span style=\"color: #bf7fbf; text-decoration-color: #bf7fbf; font-weight: bold\">         </span>│<span style=\"color: #bf7fbf; text-decoration-color: #bf7fbf; font-weight: bold\">  the seven   </span>│<span style=\"color: #bf7fbf; text-decoration-color: #bf7fbf; font-weight: bold\">            </span>│<span style=\"color: #bf7fbf; text-decoration-color: #bf7fbf; font-weight: bold\">          </span>│<span style=\"color: #bf7fbf; text-decoration-color: #bf7fbf; font-weight: bold\">              </span>│<span style=\"color: #bf7fbf; text-decoration-color: #bf7fbf; font-weight: bold\">             </span>│<span style=\"color: #bf7fbf; text-decoration-color: #bf7fbf; font-weight: bold\">          </span>│<span style=\"color: #bf7fbf; text-decoration-color: #bf7fbf; font-weight: bold\">           </span>│\n",
       "│<span style=\"color: #bf7fbf; text-decoration-color: #bf7fbf; font-weight: bold\">            </span>│<span style=\"color: #bf7fbf; text-decoration-color: #bf7fbf; font-weight: bold\">         </span>│<span style=\"color: #bf7fbf; text-decoration-color: #bf7fbf; font-weight: bold\">     seas     </span>│<span style=\"color: #bf7fbf; text-decoration-color: #bf7fbf; font-weight: bold\">            </span>│<span style=\"color: #bf7fbf; text-decoration-color: #bf7fbf; font-weight: bold\">          </span>│<span style=\"color: #bf7fbf; text-decoration-color: #bf7fbf; font-weight: bold\">              </span>│<span style=\"color: #bf7fbf; text-decoration-color: #bf7fbf; font-weight: bold\">             </span>│<span style=\"color: #bf7fbf; text-decoration-color: #bf7fbf; font-weight: bold\">          </span>│<span style=\"color: #bf7fbf; text-decoration-color: #bf7fbf; font-weight: bold\">           </span>│\n",
       "├────────────┼─────────┼──────────────┼────────────┼──────────┼──────────────┼─────────────┼──────────┼───────────┤\n",
       "│<span style=\"color: #800080; text-decoration-color: #800080; font-weight: bold\"> 2025-01-08 </span>│<span style=\"color: #800080; text-decoration-color: #800080; font-weight: bold\">   CV    </span>│<span style=\"color: #800080; text-decoration-color: #800080; font-weight: bold\"> nova sintra  </span>│<span style=\"color: #800080; text-decoration-color: #800080; font-weight: bold\">     0      </span>│<span style=\"color: #800080; text-decoration-color: #800080; font-weight: bold\">    71    </span>│<span style=\"color: #800080; text-decoration-color: #800080; font-weight: bold\">    23.58     </span>│<span style=\"color: #800080; text-decoration-color: #800080; font-weight: bold\">    8.26     </span>│<span style=\"color: #800080; text-decoration-color: #800080; font-weight: bold\"> 14.8667  </span>│<span style=\"color: #800080; text-decoration-color: #800080; font-weight: bold\"> -24.7167  </span>│\n",
       "├────────────┼─────────┼──────────────┼────────────┼──────────┼──────────────┼─────────────┼──────────┼───────────┤\n",
       "│<span style=\"color: #bf7fbf; text-decoration-color: #bf7fbf; font-weight: bold\"> 2025-01-08 </span>│<span style=\"color: #bf7fbf; text-decoration-color: #bf7fbf; font-weight: bold\">   CN    </span>│<span style=\"color: #bf7fbf; text-decoration-color: #bf7fbf; font-weight: bold\">   linqiong   </span>│<span style=\"color: #bf7fbf; text-decoration-color: #bf7fbf; font-weight: bold\">     83     </span>│<span style=\"color: #bf7fbf; text-decoration-color: #bf7fbf; font-weight: bold\">    77    </span>│<span style=\"color: #bf7fbf; text-decoration-color: #bf7fbf; font-weight: bold\">     5.61     </span>│<span style=\"color: #bf7fbf; text-decoration-color: #bf7fbf; font-weight: bold\">    0.36     </span>│<span style=\"color: #bf7fbf; text-decoration-color: #bf7fbf; font-weight: bold\"> 30.4159  </span>│<span style=\"color: #bf7fbf; text-decoration-color: #bf7fbf; font-weight: bold\"> 103.4609  </span>│\n",
       "├────────────┼─────────┼──────────────┼────────────┼──────────┼──────────────┼─────────────┼──────────┼───────────┤\n",
       "│<span style=\"color: #800080; text-decoration-color: #800080; font-weight: bold\"> 2025-01-08 </span>│<span style=\"color: #800080; text-decoration-color: #800080; font-weight: bold\">   CA    </span>│<span style=\"color: #800080; text-decoration-color: #800080; font-weight: bold\"> yellowknife  </span>│<span style=\"color: #800080; text-decoration-color: #800080; font-weight: bold\">    100     </span>│<span style=\"color: #800080; text-decoration-color: #800080; font-weight: bold\">    92    </span>│<span style=\"color: #800080; text-decoration-color: #800080; font-weight: bold\">    -15.71    </span>│<span style=\"color: #800080; text-decoration-color: #800080; font-weight: bold\">    8.75     </span>│<span style=\"color: #800080; text-decoration-color: #800080; font-weight: bold\">  62.456  </span>│<span style=\"color: #800080; text-decoration-color: #800080; font-weight: bold\"> -114.3525 </span>│\n",
       "├────────────┼─────────┼──────────────┼────────────┼──────────┼──────────────┼─────────────┼──────────┼───────────┤\n",
       "│<span style=\"color: #bf7fbf; text-decoration-color: #bf7fbf; font-weight: bold\"> 2025-01-08 </span>│<span style=\"color: #bf7fbf; text-decoration-color: #bf7fbf; font-weight: bold\">   US    </span>│<span style=\"color: #bf7fbf; text-decoration-color: #bf7fbf; font-weight: bold\">  burlington  </span>│<span style=\"color: #bf7fbf; text-decoration-color: #bf7fbf; font-weight: bold\">     75     </span>│<span style=\"color: #bf7fbf; text-decoration-color: #bf7fbf; font-weight: bold\">    44    </span>│<span style=\"color: #bf7fbf; text-decoration-color: #bf7fbf; font-weight: bold\">    -0.58     </span>│<span style=\"color: #bf7fbf; text-decoration-color: #bf7fbf; font-weight: bold\">    6.69     </span>│<span style=\"color: #bf7fbf; text-decoration-color: #bf7fbf; font-weight: bold\"> 39.8835  </span>│<span style=\"color: #bf7fbf; text-decoration-color: #bf7fbf; font-weight: bold\"> -74.6413  </span>│\n",
       "├────────────┼─────────┼──────────────┼────────────┼──────────┼──────────────┼─────────────┼──────────┼───────────┤\n",
       "│<span style=\"color: #800080; text-decoration-color: #800080; font-weight: bold\"> 2025-01-08 </span>│<span style=\"color: #800080; text-decoration-color: #800080; font-weight: bold\">   AR    </span>│<span style=\"color: #800080; text-decoration-color: #800080; font-weight: bold\">   ushuaia    </span>│<span style=\"color: #800080; text-decoration-color: #800080; font-weight: bold\">     75     </span>│<span style=\"color: #800080; text-decoration-color: #800080; font-weight: bold\">    55    </span>│<span style=\"color: #800080; text-decoration-color: #800080; font-weight: bold\">    14.81     </span>│<span style=\"color: #800080; text-decoration-color: #800080; font-weight: bold\">    3.09     </span>│<span style=\"color: #800080; text-decoration-color: #800080; font-weight: bold\">  -54.8   </span>│<span style=\"color: #800080; text-decoration-color: #800080; font-weight: bold\">   -68.3   </span>│\n",
       "├────────────┼─────────┼──────────────┼────────────┼──────────┼──────────────┼─────────────┼──────────┼───────────┤\n",
       "│<span style=\"color: #bf7fbf; text-decoration-color: #bf7fbf; font-weight: bold\"> 2025-01-08 </span>│<span style=\"color: #bf7fbf; text-decoration-color: #bf7fbf; font-weight: bold\">   CA    </span>│<span style=\"color: #bf7fbf; text-decoration-color: #bf7fbf; font-weight: bold\">  saskatoon   </span>│<span style=\"color: #bf7fbf; text-decoration-color: #bf7fbf; font-weight: bold\">     40     </span>│<span style=\"color: #bf7fbf; text-decoration-color: #bf7fbf; font-weight: bold\">    80    </span>│<span style=\"color: #bf7fbf; text-decoration-color: #bf7fbf; font-weight: bold\">    -0.01     </span>│<span style=\"color: #bf7fbf; text-decoration-color: #bf7fbf; font-weight: bold\">     7.2     </span>│<span style=\"color: #bf7fbf; text-decoration-color: #bf7fbf; font-weight: bold\"> 52.1168  </span>│<span style=\"color: #bf7fbf; text-decoration-color: #bf7fbf; font-weight: bold\"> -106.6345 </span>│\n",
       "├────────────┼─────────┼──────────────┼────────────┼──────────┼──────────────┼─────────────┼──────────┼───────────┤\n",
       "│<span style=\"color: #800080; text-decoration-color: #800080; font-weight: bold\"> 2025-01-08 </span>│<span style=\"color: #800080; text-decoration-color: #800080; font-weight: bold\">   ZA    </span>│<span style=\"color: #800080; text-decoration-color: #800080; font-weight: bold\">  bredasdorp  </span>│<span style=\"color: #800080; text-decoration-color: #800080; font-weight: bold\">     0      </span>│<span style=\"color: #800080; text-decoration-color: #800080; font-weight: bold\">    80    </span>│<span style=\"color: #800080; text-decoration-color: #800080; font-weight: bold\">    17.82     </span>│<span style=\"color: #800080; text-decoration-color: #800080; font-weight: bold\">    1.46     </span>│<span style=\"color: #800080; text-decoration-color: #800080; font-weight: bold\"> -34.5322 </span>│<span style=\"color: #800080; text-decoration-color: #800080; font-weight: bold\">  20.0403  </span>│\n",
       "└────────────┴─────────┴──────────────┴────────────┴──────────┴──────────────┴─────────────┴──────────┴───────────┘\n",
       "</pre>\n"
      ],
      "text/plain": [
       "\u001b[3m                                            City Weather Data (Ordered)                                            \u001b[0m\n",
       "┏━━━━━━━━━━━━┳━━━━━━━━━┳━━━━━━━━━━━━━━┳━━━━━━━━━━━━┳━━━━━━━━━━┳━━━━━━━━━━━━━━┳━━━━━━━━━━━━━┳━━━━━━━━━━┳━━━━━━━━━━━┓\n",
       "┃\u001b[1;36m \u001b[0m\u001b[1;36m   Date   \u001b[0m\u001b[1;36m \u001b[0m┃\u001b[1;36m \u001b[0m\u001b[1;36mCountry\u001b[0m\u001b[1;36m \u001b[0m┃\u001b[1;36m \u001b[0m\u001b[1;36m    City    \u001b[0m\u001b[1;36m \u001b[0m┃\u001b[1;36m \u001b[0m\u001b[1;36mCloudiness\u001b[0m\u001b[1;36m \u001b[0m┃\u001b[1;36m \u001b[0m\u001b[1;36mHumidity\u001b[0m\u001b[1;36m \u001b[0m┃\u001b[1;36m \u001b[0m\u001b[1;36mMaximum_Tem…\u001b[0m\u001b[1;36m \u001b[0m┃\u001b[1;36m \u001b[0m\u001b[1;36mWind_Speed…\u001b[0m\u001b[1;36m \u001b[0m┃\u001b[1;36m \u001b[0m\u001b[1;36m  Lat   \u001b[0m\u001b[1;36m \u001b[0m┃\u001b[1;36m \u001b[0m\u001b[1;36m   Lng   \u001b[0m\u001b[1;36m \u001b[0m┃\n",
       "┡━━━━━━━━━━━━╇━━━━━━━━━╇━━━━━━━━━━━━━━╇━━━━━━━━━━━━╇━━━━━━━━━━╇━━━━━━━━━━━━━━╇━━━━━━━━━━━━━╇━━━━━━━━━━╇━━━━━━━━━━━┩\n",
       "│\u001b[1;2;35m \u001b[0m\u001b[1;2;35m2025-01-08\u001b[0m\u001b[1;2;35m \u001b[0m│\u001b[1;2;35m \u001b[0m\u001b[1;2;35m  PT   \u001b[0m\u001b[1;2;35m \u001b[0m│\u001b[1;2;35m \u001b[0m\u001b[1;2;35m  rabo de   \u001b[0m\u001b[1;2;35m \u001b[0m│\u001b[1;2;35m \u001b[0m\u001b[1;2;35m    75    \u001b[0m\u001b[1;2;35m \u001b[0m│\u001b[1;2;35m \u001b[0m\u001b[1;2;35m   88   \u001b[0m\u001b[1;2;35m \u001b[0m│\u001b[1;2;35m \u001b[0m\u001b[1;2;35m   17.73    \u001b[0m\u001b[1;2;35m \u001b[0m│\u001b[1;2;35m \u001b[0m\u001b[1;2;35m   8.23    \u001b[0m\u001b[1;2;35m \u001b[0m│\u001b[1;2;35m \u001b[0m\u001b[1;2;35m  37.8  \u001b[0m\u001b[1;2;35m \u001b[0m│\u001b[1;2;35m \u001b[0m\u001b[1;2;35m-25.5833 \u001b[0m\u001b[1;2;35m \u001b[0m│\n",
       "│\u001b[1;2;35m            \u001b[0m│\u001b[1;2;35m         \u001b[0m│\u001b[1;2;35m \u001b[0m\u001b[1;2;35m   peixe    \u001b[0m\u001b[1;2;35m \u001b[0m│\u001b[1;2;35m            \u001b[0m│\u001b[1;2;35m          \u001b[0m│\u001b[1;2;35m              \u001b[0m│\u001b[1;2;35m             \u001b[0m│\u001b[1;2;35m          \u001b[0m│\u001b[1;2;35m           \u001b[0m│\n",
       "├────────────┼─────────┼──────────────┼────────────┼──────────┼──────────────┼─────────────┼──────────┼───────────┤\n",
       "│\u001b[1;35m \u001b[0m\u001b[1;35m2025-01-08\u001b[0m\u001b[1;35m \u001b[0m│\u001b[1;35m \u001b[0m\u001b[1;35m  NZ   \u001b[0m\u001b[1;35m \u001b[0m│\u001b[1;35m \u001b[0m\u001b[1;35m  waitangi  \u001b[0m\u001b[1;35m \u001b[0m│\u001b[1;35m \u001b[0m\u001b[1;35m    28    \u001b[0m\u001b[1;35m \u001b[0m│\u001b[1;35m \u001b[0m\u001b[1;35m   73   \u001b[0m\u001b[1;35m \u001b[0m│\u001b[1;35m \u001b[0m\u001b[1;35m   15.46    \u001b[0m\u001b[1;35m \u001b[0m│\u001b[1;35m \u001b[0m\u001b[1;35m   5.81    \u001b[0m\u001b[1;35m \u001b[0m│\u001b[1;35m \u001b[0m\u001b[1;35m-43.9535\u001b[0m\u001b[1;35m \u001b[0m│\u001b[1;35m \u001b[0m\u001b[1;35m-176.5597\u001b[0m\u001b[1;35m \u001b[0m│\n",
       "├────────────┼─────────┼──────────────┼────────────┼──────────┼──────────────┼─────────────┼──────────┼───────────┤\n",
       "│\u001b[1;2;35m \u001b[0m\u001b[1;2;35m2025-01-08\u001b[0m\u001b[1;2;35m \u001b[0m│\u001b[1;2;35m \u001b[0m\u001b[1;2;35m  SH   \u001b[0m\u001b[1;2;35m \u001b[0m│\u001b[1;2;35m \u001b[0m\u001b[1;2;35medinburgh of\u001b[0m\u001b[1;2;35m \u001b[0m│\u001b[1;2;35m \u001b[0m\u001b[1;2;35m    83    \u001b[0m\u001b[1;2;35m \u001b[0m│\u001b[1;2;35m \u001b[0m\u001b[1;2;35m   98   \u001b[0m\u001b[1;2;35m \u001b[0m│\u001b[1;2;35m \u001b[0m\u001b[1;2;35m   17.66    \u001b[0m\u001b[1;2;35m \u001b[0m│\u001b[1;2;35m \u001b[0m\u001b[1;2;35m   5.26    \u001b[0m\u001b[1;2;35m \u001b[0m│\u001b[1;2;35m \u001b[0m\u001b[1;2;35m-37.0676\u001b[0m\u001b[1;2;35m \u001b[0m│\u001b[1;2;35m \u001b[0m\u001b[1;2;35m-12.3116 \u001b[0m\u001b[1;2;35m \u001b[0m│\n",
       "│\u001b[1;2;35m            \u001b[0m│\u001b[1;2;35m         \u001b[0m│\u001b[1;2;35m \u001b[0m\u001b[1;2;35m the seven  \u001b[0m\u001b[1;2;35m \u001b[0m│\u001b[1;2;35m            \u001b[0m│\u001b[1;2;35m          \u001b[0m│\u001b[1;2;35m              \u001b[0m│\u001b[1;2;35m             \u001b[0m│\u001b[1;2;35m          \u001b[0m│\u001b[1;2;35m           \u001b[0m│\n",
       "│\u001b[1;2;35m            \u001b[0m│\u001b[1;2;35m         \u001b[0m│\u001b[1;2;35m \u001b[0m\u001b[1;2;35m    seas    \u001b[0m\u001b[1;2;35m \u001b[0m│\u001b[1;2;35m            \u001b[0m│\u001b[1;2;35m          \u001b[0m│\u001b[1;2;35m              \u001b[0m│\u001b[1;2;35m             \u001b[0m│\u001b[1;2;35m          \u001b[0m│\u001b[1;2;35m           \u001b[0m│\n",
       "├────────────┼─────────┼──────────────┼────────────┼──────────┼──────────────┼─────────────┼──────────┼───────────┤\n",
       "│\u001b[1;35m \u001b[0m\u001b[1;35m2025-01-08\u001b[0m\u001b[1;35m \u001b[0m│\u001b[1;35m \u001b[0m\u001b[1;35m  CV   \u001b[0m\u001b[1;35m \u001b[0m│\u001b[1;35m \u001b[0m\u001b[1;35mnova sintra \u001b[0m\u001b[1;35m \u001b[0m│\u001b[1;35m \u001b[0m\u001b[1;35m    0     \u001b[0m\u001b[1;35m \u001b[0m│\u001b[1;35m \u001b[0m\u001b[1;35m   71   \u001b[0m\u001b[1;35m \u001b[0m│\u001b[1;35m \u001b[0m\u001b[1;35m   23.58    \u001b[0m\u001b[1;35m \u001b[0m│\u001b[1;35m \u001b[0m\u001b[1;35m   8.26    \u001b[0m\u001b[1;35m \u001b[0m│\u001b[1;35m \u001b[0m\u001b[1;35m14.8667 \u001b[0m\u001b[1;35m \u001b[0m│\u001b[1;35m \u001b[0m\u001b[1;35m-24.7167 \u001b[0m\u001b[1;35m \u001b[0m│\n",
       "├────────────┼─────────┼──────────────┼────────────┼──────────┼──────────────┼─────────────┼──────────┼───────────┤\n",
       "│\u001b[1;2;35m \u001b[0m\u001b[1;2;35m2025-01-08\u001b[0m\u001b[1;2;35m \u001b[0m│\u001b[1;2;35m \u001b[0m\u001b[1;2;35m  CN   \u001b[0m\u001b[1;2;35m \u001b[0m│\u001b[1;2;35m \u001b[0m\u001b[1;2;35m  linqiong  \u001b[0m\u001b[1;2;35m \u001b[0m│\u001b[1;2;35m \u001b[0m\u001b[1;2;35m    83    \u001b[0m\u001b[1;2;35m \u001b[0m│\u001b[1;2;35m \u001b[0m\u001b[1;2;35m   77   \u001b[0m\u001b[1;2;35m \u001b[0m│\u001b[1;2;35m \u001b[0m\u001b[1;2;35m    5.61    \u001b[0m\u001b[1;2;35m \u001b[0m│\u001b[1;2;35m \u001b[0m\u001b[1;2;35m   0.36    \u001b[0m\u001b[1;2;35m \u001b[0m│\u001b[1;2;35m \u001b[0m\u001b[1;2;35m30.4159 \u001b[0m\u001b[1;2;35m \u001b[0m│\u001b[1;2;35m \u001b[0m\u001b[1;2;35m103.4609 \u001b[0m\u001b[1;2;35m \u001b[0m│\n",
       "├────────────┼─────────┼──────────────┼────────────┼──────────┼──────────────┼─────────────┼──────────┼───────────┤\n",
       "│\u001b[1;35m \u001b[0m\u001b[1;35m2025-01-08\u001b[0m\u001b[1;35m \u001b[0m│\u001b[1;35m \u001b[0m\u001b[1;35m  CA   \u001b[0m\u001b[1;35m \u001b[0m│\u001b[1;35m \u001b[0m\u001b[1;35myellowknife \u001b[0m\u001b[1;35m \u001b[0m│\u001b[1;35m \u001b[0m\u001b[1;35m   100    \u001b[0m\u001b[1;35m \u001b[0m│\u001b[1;35m \u001b[0m\u001b[1;35m   92   \u001b[0m\u001b[1;35m \u001b[0m│\u001b[1;35m \u001b[0m\u001b[1;35m   -15.71   \u001b[0m\u001b[1;35m \u001b[0m│\u001b[1;35m \u001b[0m\u001b[1;35m   8.75    \u001b[0m\u001b[1;35m \u001b[0m│\u001b[1;35m \u001b[0m\u001b[1;35m 62.456 \u001b[0m\u001b[1;35m \u001b[0m│\u001b[1;35m \u001b[0m\u001b[1;35m-114.3525\u001b[0m\u001b[1;35m \u001b[0m│\n",
       "├────────────┼─────────┼──────────────┼────────────┼──────────┼──────────────┼─────────────┼──────────┼───────────┤\n",
       "│\u001b[1;2;35m \u001b[0m\u001b[1;2;35m2025-01-08\u001b[0m\u001b[1;2;35m \u001b[0m│\u001b[1;2;35m \u001b[0m\u001b[1;2;35m  US   \u001b[0m\u001b[1;2;35m \u001b[0m│\u001b[1;2;35m \u001b[0m\u001b[1;2;35m burlington \u001b[0m\u001b[1;2;35m \u001b[0m│\u001b[1;2;35m \u001b[0m\u001b[1;2;35m    75    \u001b[0m\u001b[1;2;35m \u001b[0m│\u001b[1;2;35m \u001b[0m\u001b[1;2;35m   44   \u001b[0m\u001b[1;2;35m \u001b[0m│\u001b[1;2;35m \u001b[0m\u001b[1;2;35m   -0.58    \u001b[0m\u001b[1;2;35m \u001b[0m│\u001b[1;2;35m \u001b[0m\u001b[1;2;35m   6.69    \u001b[0m\u001b[1;2;35m \u001b[0m│\u001b[1;2;35m \u001b[0m\u001b[1;2;35m39.8835 \u001b[0m\u001b[1;2;35m \u001b[0m│\u001b[1;2;35m \u001b[0m\u001b[1;2;35m-74.6413 \u001b[0m\u001b[1;2;35m \u001b[0m│\n",
       "├────────────┼─────────┼──────────────┼────────────┼──────────┼──────────────┼─────────────┼──────────┼───────────┤\n",
       "│\u001b[1;35m \u001b[0m\u001b[1;35m2025-01-08\u001b[0m\u001b[1;35m \u001b[0m│\u001b[1;35m \u001b[0m\u001b[1;35m  AR   \u001b[0m\u001b[1;35m \u001b[0m│\u001b[1;35m \u001b[0m\u001b[1;35m  ushuaia   \u001b[0m\u001b[1;35m \u001b[0m│\u001b[1;35m \u001b[0m\u001b[1;35m    75    \u001b[0m\u001b[1;35m \u001b[0m│\u001b[1;35m \u001b[0m\u001b[1;35m   55   \u001b[0m\u001b[1;35m \u001b[0m│\u001b[1;35m \u001b[0m\u001b[1;35m   14.81    \u001b[0m\u001b[1;35m \u001b[0m│\u001b[1;35m \u001b[0m\u001b[1;35m   3.09    \u001b[0m\u001b[1;35m \u001b[0m│\u001b[1;35m \u001b[0m\u001b[1;35m -54.8  \u001b[0m\u001b[1;35m \u001b[0m│\u001b[1;35m \u001b[0m\u001b[1;35m  -68.3  \u001b[0m\u001b[1;35m \u001b[0m│\n",
       "├────────────┼─────────┼──────────────┼────────────┼──────────┼──────────────┼─────────────┼──────────┼───────────┤\n",
       "│\u001b[1;2;35m \u001b[0m\u001b[1;2;35m2025-01-08\u001b[0m\u001b[1;2;35m \u001b[0m│\u001b[1;2;35m \u001b[0m\u001b[1;2;35m  CA   \u001b[0m\u001b[1;2;35m \u001b[0m│\u001b[1;2;35m \u001b[0m\u001b[1;2;35m saskatoon  \u001b[0m\u001b[1;2;35m \u001b[0m│\u001b[1;2;35m \u001b[0m\u001b[1;2;35m    40    \u001b[0m\u001b[1;2;35m \u001b[0m│\u001b[1;2;35m \u001b[0m\u001b[1;2;35m   80   \u001b[0m\u001b[1;2;35m \u001b[0m│\u001b[1;2;35m \u001b[0m\u001b[1;2;35m   -0.01    \u001b[0m\u001b[1;2;35m \u001b[0m│\u001b[1;2;35m \u001b[0m\u001b[1;2;35m    7.2    \u001b[0m\u001b[1;2;35m \u001b[0m│\u001b[1;2;35m \u001b[0m\u001b[1;2;35m52.1168 \u001b[0m\u001b[1;2;35m \u001b[0m│\u001b[1;2;35m \u001b[0m\u001b[1;2;35m-106.6345\u001b[0m\u001b[1;2;35m \u001b[0m│\n",
       "├────────────┼─────────┼──────────────┼────────────┼──────────┼──────────────┼─────────────┼──────────┼───────────┤\n",
       "│\u001b[1;35m \u001b[0m\u001b[1;35m2025-01-08\u001b[0m\u001b[1;35m \u001b[0m│\u001b[1;35m \u001b[0m\u001b[1;35m  ZA   \u001b[0m\u001b[1;35m \u001b[0m│\u001b[1;35m \u001b[0m\u001b[1;35m bredasdorp \u001b[0m\u001b[1;35m \u001b[0m│\u001b[1;35m \u001b[0m\u001b[1;35m    0     \u001b[0m\u001b[1;35m \u001b[0m│\u001b[1;35m \u001b[0m\u001b[1;35m   80   \u001b[0m\u001b[1;35m \u001b[0m│\u001b[1;35m \u001b[0m\u001b[1;35m   17.82    \u001b[0m\u001b[1;35m \u001b[0m│\u001b[1;35m \u001b[0m\u001b[1;35m   1.46    \u001b[0m\u001b[1;35m \u001b[0m│\u001b[1;35m \u001b[0m\u001b[1;35m-34.5322\u001b[0m\u001b[1;35m \u001b[0m│\u001b[1;35m \u001b[0m\u001b[1;35m 20.0403 \u001b[0m\u001b[1;35m \u001b[0m│\n",
       "└────────────┴─────────┴──────────────┴────────────┴──────────┴──────────────┴─────────────┴──────────┴───────────┘\n"
      ]
     },
     "metadata": {},
     "output_type": "display_data"
    }
   ],
   "source": [
    "# Define the desired column order\n",
    "desired_order = ['Date', 'Country', 'City', 'Cloudiness', 'Humidity', \n",
    "                 'Maximum_Temperature', 'Wind_Speed_kmh', 'Lat', 'Lng']\n",
    "\n",
    "# Reorder the DataFrame to match the desired column order\n",
    "city_data_df = city_data_df[desired_order]\n",
    "\n",
    "# Create a rich Console object\n",
    "console = Console()\n",
    "\n",
    "# Create a rich Table object with a title and enhanced styles\n",
    "table = Table(title=\"City Weather Data (Ordered)\", show_header=True, header_style=\"bold cyan\", show_lines=True)\n",
    "\n",
    "# Add columns dynamically based on the reordered DataFrame\n",
    "for column in city_data_df.columns:\n",
    "    table.add_column(column, style=\"bold magenta\", justify=\"center\")\n",
    "\n",
    "# Add rows from the reordered DataFrame (only the first 10 rows)\n",
    "for idx, row in city_data_df.head(10).iterrows():\n",
    "    # Apply alternating row styles\n",
    "    if idx % 2 == 0:\n",
    "        table.add_row(*[str(value) for value in row], style=\"dim\")\n",
    "    else:\n",
    "        table.add_row(*[str(value) for value in row])\n",
    "\n",
    "# Print the table with rich formatting\n",
    "console.print(table)\n"
   ]
  },
  {
   "cell_type": "code",
   "execution_count": 22,
   "id": "3ae43a24-6118-466e-8eae-7aabb2d1661b",
   "metadata": {},
   "outputs": [
    {
     "data": {
      "text/html": [
       "<pre style=\"white-space:pre;overflow-x:auto;line-height:normal;font-family:Menlo,'DejaVu Sans Mono',consolas,'Courier New',monospace\"><span style=\"font-style: italic\">                                                 City Weather Data                                                 </span>\n",
       "┏━━━━━━━━━━━━┳━━━━━━━━━┳━━━━━━━━━━━━━━┳━━━━━━━━━━━━┳━━━━━━━━━━┳━━━━━━━━━━━━━━┳━━━━━━━━━━━━━┳━━━━━━━━━━┳━━━━━━━━━━━┓\n",
       "┃<span style=\"font-weight: bold\">    Date    </span>┃<span style=\"font-weight: bold\"> Country </span>┃<span style=\"font-weight: bold\">     City     </span>┃<span style=\"font-weight: bold\"> Cloudiness </span>┃<span style=\"font-weight: bold\"> Humidity </span>┃<span style=\"font-weight: bold\"> Maximum_Tem… </span>┃<span style=\"font-weight: bold\"> Wind_Speed… </span>┃<span style=\"font-weight: bold\">   Lat    </span>┃<span style=\"font-weight: bold\">    Lng    </span>┃\n",
       "┡━━━━━━━━━━━━╇━━━━━━━━━╇━━━━━━━━━━━━━━╇━━━━━━━━━━━━╇━━━━━━━━━━╇━━━━━━━━━━━━━━╇━━━━━━━━━━━━━╇━━━━━━━━━━╇━━━━━━━━━━━┩\n",
       "│<span style=\"font-weight: bold\"> 2025-01-08 </span>│<span style=\"font-weight: bold\">   PT    </span>│<span style=\"font-weight: bold\">   rabo de    </span>│<span style=\"font-weight: bold\">     75     </span>│<span style=\"font-weight: bold\">    88    </span>│<span style=\"font-weight: bold\">    17.73     </span>│<span style=\"font-weight: bold\">    8.23     </span>│<span style=\"font-weight: bold\">   37.8   </span>│<span style=\"font-weight: bold\"> -25.5833  </span>│\n",
       "│<span style=\"font-weight: bold\">            </span>│<span style=\"font-weight: bold\">         </span>│<span style=\"font-weight: bold\">    peixe     </span>│<span style=\"font-weight: bold\">            </span>│<span style=\"font-weight: bold\">          </span>│<span style=\"font-weight: bold\">              </span>│<span style=\"font-weight: bold\">             </span>│<span style=\"font-weight: bold\">          </span>│<span style=\"font-weight: bold\">           </span>│\n",
       "│<span style=\"font-weight: bold\"> 2025-01-08 </span>│<span style=\"font-weight: bold\">   NZ    </span>│<span style=\"font-weight: bold\">   waitangi   </span>│<span style=\"font-weight: bold\">     28     </span>│<span style=\"font-weight: bold\">    73    </span>│<span style=\"font-weight: bold\">    15.46     </span>│<span style=\"font-weight: bold\">    5.81     </span>│<span style=\"font-weight: bold\"> -43.9535 </span>│<span style=\"font-weight: bold\"> -176.5597 </span>│\n",
       "│<span style=\"font-weight: bold\"> 2025-01-08 </span>│<span style=\"font-weight: bold\">   SH    </span>│<span style=\"font-weight: bold\"> edinburgh of </span>│<span style=\"font-weight: bold\">     83     </span>│<span style=\"font-weight: bold\">    98    </span>│<span style=\"font-weight: bold\">    17.66     </span>│<span style=\"font-weight: bold\">    5.26     </span>│<span style=\"font-weight: bold\"> -37.0676 </span>│<span style=\"font-weight: bold\"> -12.3116  </span>│\n",
       "│<span style=\"font-weight: bold\">            </span>│<span style=\"font-weight: bold\">         </span>│<span style=\"font-weight: bold\">  the seven   </span>│<span style=\"font-weight: bold\">            </span>│<span style=\"font-weight: bold\">          </span>│<span style=\"font-weight: bold\">              </span>│<span style=\"font-weight: bold\">             </span>│<span style=\"font-weight: bold\">          </span>│<span style=\"font-weight: bold\">           </span>│\n",
       "│<span style=\"font-weight: bold\">            </span>│<span style=\"font-weight: bold\">         </span>│<span style=\"font-weight: bold\">     seas     </span>│<span style=\"font-weight: bold\">            </span>│<span style=\"font-weight: bold\">          </span>│<span style=\"font-weight: bold\">              </span>│<span style=\"font-weight: bold\">             </span>│<span style=\"font-weight: bold\">          </span>│<span style=\"font-weight: bold\">           </span>│\n",
       "│<span style=\"font-weight: bold\"> 2025-01-08 </span>│<span style=\"font-weight: bold\">   CV    </span>│<span style=\"font-weight: bold\"> nova sintra  </span>│<span style=\"font-weight: bold\">     0      </span>│<span style=\"font-weight: bold\">    71    </span>│<span style=\"font-weight: bold\">    23.58     </span>│<span style=\"font-weight: bold\">    8.26     </span>│<span style=\"font-weight: bold\"> 14.8667  </span>│<span style=\"font-weight: bold\"> -24.7167  </span>│\n",
       "│<span style=\"font-weight: bold\"> 2025-01-08 </span>│<span style=\"font-weight: bold\">   CN    </span>│<span style=\"font-weight: bold\">   linqiong   </span>│<span style=\"font-weight: bold\">     83     </span>│<span style=\"font-weight: bold\">    77    </span>│<span style=\"font-weight: bold\">     5.61     </span>│<span style=\"font-weight: bold\">    0.36     </span>│<span style=\"font-weight: bold\"> 30.4159  </span>│<span style=\"font-weight: bold\"> 103.4609  </span>│\n",
       "│<span style=\"font-weight: bold\"> 2025-01-08 </span>│<span style=\"font-weight: bold\">   CA    </span>│<span style=\"font-weight: bold\"> yellowknife  </span>│<span style=\"font-weight: bold\">    100     </span>│<span style=\"font-weight: bold\">    92    </span>│<span style=\"font-weight: bold\">    -15.71    </span>│<span style=\"font-weight: bold\">    8.75     </span>│<span style=\"font-weight: bold\">  62.456  </span>│<span style=\"font-weight: bold\"> -114.3525 </span>│\n",
       "│<span style=\"font-weight: bold\"> 2025-01-08 </span>│<span style=\"font-weight: bold\">   US    </span>│<span style=\"font-weight: bold\">  burlington  </span>│<span style=\"font-weight: bold\">     75     </span>│<span style=\"font-weight: bold\">    44    </span>│<span style=\"font-weight: bold\">    -0.58     </span>│<span style=\"font-weight: bold\">    6.69     </span>│<span style=\"font-weight: bold\"> 39.8835  </span>│<span style=\"font-weight: bold\"> -74.6413  </span>│\n",
       "│<span style=\"font-weight: bold\"> 2025-01-08 </span>│<span style=\"font-weight: bold\">   AR    </span>│<span style=\"font-weight: bold\">   ushuaia    </span>│<span style=\"font-weight: bold\">     75     </span>│<span style=\"font-weight: bold\">    55    </span>│<span style=\"font-weight: bold\">    14.81     </span>│<span style=\"font-weight: bold\">    3.09     </span>│<span style=\"font-weight: bold\">  -54.8   </span>│<span style=\"font-weight: bold\">   -68.3   </span>│\n",
       "│<span style=\"font-weight: bold\"> 2025-01-08 </span>│<span style=\"font-weight: bold\">   CA    </span>│<span style=\"font-weight: bold\">  saskatoon   </span>│<span style=\"font-weight: bold\">     40     </span>│<span style=\"font-weight: bold\">    80    </span>│<span style=\"font-weight: bold\">    -0.01     </span>│<span style=\"font-weight: bold\">     7.2     </span>│<span style=\"font-weight: bold\"> 52.1168  </span>│<span style=\"font-weight: bold\"> -106.6345 </span>│\n",
       "│<span style=\"font-weight: bold\"> 2025-01-08 </span>│<span style=\"font-weight: bold\">   ZA    </span>│<span style=\"font-weight: bold\">  bredasdorp  </span>│<span style=\"font-weight: bold\">     0      </span>│<span style=\"font-weight: bold\">    80    </span>│<span style=\"font-weight: bold\">    17.82     </span>│<span style=\"font-weight: bold\">    1.46     </span>│<span style=\"font-weight: bold\"> -34.5322 </span>│<span style=\"font-weight: bold\">  20.0403  </span>│\n",
       "└────────────┴─────────┴──────────────┴────────────┴──────────┴──────────────┴─────────────┴──────────┴───────────┘\n",
       "</pre>\n"
      ],
      "text/plain": [
       "\u001b[3m                                                 City Weather Data                                                 \u001b[0m\n",
       "┏━━━━━━━━━━━━┳━━━━━━━━━┳━━━━━━━━━━━━━━┳━━━━━━━━━━━━┳━━━━━━━━━━┳━━━━━━━━━━━━━━┳━━━━━━━━━━━━━┳━━━━━━━━━━┳━━━━━━━━━━━┓\n",
       "┃\u001b[1m \u001b[0m\u001b[1m   Date   \u001b[0m\u001b[1m \u001b[0m┃\u001b[1m \u001b[0m\u001b[1mCountry\u001b[0m\u001b[1m \u001b[0m┃\u001b[1m \u001b[0m\u001b[1m    City    \u001b[0m\u001b[1m \u001b[0m┃\u001b[1m \u001b[0m\u001b[1mCloudiness\u001b[0m\u001b[1m \u001b[0m┃\u001b[1m \u001b[0m\u001b[1mHumidity\u001b[0m\u001b[1m \u001b[0m┃\u001b[1m \u001b[0m\u001b[1mMaximum_Tem…\u001b[0m\u001b[1m \u001b[0m┃\u001b[1m \u001b[0m\u001b[1mWind_Speed…\u001b[0m\u001b[1m \u001b[0m┃\u001b[1m \u001b[0m\u001b[1m  Lat   \u001b[0m\u001b[1m \u001b[0m┃\u001b[1m \u001b[0m\u001b[1m   Lng   \u001b[0m\u001b[1m \u001b[0m┃\n",
       "┡━━━━━━━━━━━━╇━━━━━━━━━╇━━━━━━━━━━━━━━╇━━━━━━━━━━━━╇━━━━━━━━━━╇━━━━━━━━━━━━━━╇━━━━━━━━━━━━━╇━━━━━━━━━━╇━━━━━━━━━━━┩\n",
       "│\u001b[1m \u001b[0m\u001b[1m2025-01-08\u001b[0m\u001b[1m \u001b[0m│\u001b[1m \u001b[0m\u001b[1m  PT   \u001b[0m\u001b[1m \u001b[0m│\u001b[1m \u001b[0m\u001b[1m  rabo de   \u001b[0m\u001b[1m \u001b[0m│\u001b[1m \u001b[0m\u001b[1m    75    \u001b[0m\u001b[1m \u001b[0m│\u001b[1m \u001b[0m\u001b[1m   88   \u001b[0m\u001b[1m \u001b[0m│\u001b[1m \u001b[0m\u001b[1m   17.73    \u001b[0m\u001b[1m \u001b[0m│\u001b[1m \u001b[0m\u001b[1m   8.23    \u001b[0m\u001b[1m \u001b[0m│\u001b[1m \u001b[0m\u001b[1m  37.8  \u001b[0m\u001b[1m \u001b[0m│\u001b[1m \u001b[0m\u001b[1m-25.5833 \u001b[0m\u001b[1m \u001b[0m│\n",
       "│\u001b[1m            \u001b[0m│\u001b[1m         \u001b[0m│\u001b[1m \u001b[0m\u001b[1m   peixe    \u001b[0m\u001b[1m \u001b[0m│\u001b[1m            \u001b[0m│\u001b[1m          \u001b[0m│\u001b[1m              \u001b[0m│\u001b[1m             \u001b[0m│\u001b[1m          \u001b[0m│\u001b[1m           \u001b[0m│\n",
       "│\u001b[1m \u001b[0m\u001b[1m2025-01-08\u001b[0m\u001b[1m \u001b[0m│\u001b[1m \u001b[0m\u001b[1m  NZ   \u001b[0m\u001b[1m \u001b[0m│\u001b[1m \u001b[0m\u001b[1m  waitangi  \u001b[0m\u001b[1m \u001b[0m│\u001b[1m \u001b[0m\u001b[1m    28    \u001b[0m\u001b[1m \u001b[0m│\u001b[1m \u001b[0m\u001b[1m   73   \u001b[0m\u001b[1m \u001b[0m│\u001b[1m \u001b[0m\u001b[1m   15.46    \u001b[0m\u001b[1m \u001b[0m│\u001b[1m \u001b[0m\u001b[1m   5.81    \u001b[0m\u001b[1m \u001b[0m│\u001b[1m \u001b[0m\u001b[1m-43.9535\u001b[0m\u001b[1m \u001b[0m│\u001b[1m \u001b[0m\u001b[1m-176.5597\u001b[0m\u001b[1m \u001b[0m│\n",
       "│\u001b[1m \u001b[0m\u001b[1m2025-01-08\u001b[0m\u001b[1m \u001b[0m│\u001b[1m \u001b[0m\u001b[1m  SH   \u001b[0m\u001b[1m \u001b[0m│\u001b[1m \u001b[0m\u001b[1medinburgh of\u001b[0m\u001b[1m \u001b[0m│\u001b[1m \u001b[0m\u001b[1m    83    \u001b[0m\u001b[1m \u001b[0m│\u001b[1m \u001b[0m\u001b[1m   98   \u001b[0m\u001b[1m \u001b[0m│\u001b[1m \u001b[0m\u001b[1m   17.66    \u001b[0m\u001b[1m \u001b[0m│\u001b[1m \u001b[0m\u001b[1m   5.26    \u001b[0m\u001b[1m \u001b[0m│\u001b[1m \u001b[0m\u001b[1m-37.0676\u001b[0m\u001b[1m \u001b[0m│\u001b[1m \u001b[0m\u001b[1m-12.3116 \u001b[0m\u001b[1m \u001b[0m│\n",
       "│\u001b[1m            \u001b[0m│\u001b[1m         \u001b[0m│\u001b[1m \u001b[0m\u001b[1m the seven  \u001b[0m\u001b[1m \u001b[0m│\u001b[1m            \u001b[0m│\u001b[1m          \u001b[0m│\u001b[1m              \u001b[0m│\u001b[1m             \u001b[0m│\u001b[1m          \u001b[0m│\u001b[1m           \u001b[0m│\n",
       "│\u001b[1m            \u001b[0m│\u001b[1m         \u001b[0m│\u001b[1m \u001b[0m\u001b[1m    seas    \u001b[0m\u001b[1m \u001b[0m│\u001b[1m            \u001b[0m│\u001b[1m          \u001b[0m│\u001b[1m              \u001b[0m│\u001b[1m             \u001b[0m│\u001b[1m          \u001b[0m│\u001b[1m           \u001b[0m│\n",
       "│\u001b[1m \u001b[0m\u001b[1m2025-01-08\u001b[0m\u001b[1m \u001b[0m│\u001b[1m \u001b[0m\u001b[1m  CV   \u001b[0m\u001b[1m \u001b[0m│\u001b[1m \u001b[0m\u001b[1mnova sintra \u001b[0m\u001b[1m \u001b[0m│\u001b[1m \u001b[0m\u001b[1m    0     \u001b[0m\u001b[1m \u001b[0m│\u001b[1m \u001b[0m\u001b[1m   71   \u001b[0m\u001b[1m \u001b[0m│\u001b[1m \u001b[0m\u001b[1m   23.58    \u001b[0m\u001b[1m \u001b[0m│\u001b[1m \u001b[0m\u001b[1m   8.26    \u001b[0m\u001b[1m \u001b[0m│\u001b[1m \u001b[0m\u001b[1m14.8667 \u001b[0m\u001b[1m \u001b[0m│\u001b[1m \u001b[0m\u001b[1m-24.7167 \u001b[0m\u001b[1m \u001b[0m│\n",
       "│\u001b[1m \u001b[0m\u001b[1m2025-01-08\u001b[0m\u001b[1m \u001b[0m│\u001b[1m \u001b[0m\u001b[1m  CN   \u001b[0m\u001b[1m \u001b[0m│\u001b[1m \u001b[0m\u001b[1m  linqiong  \u001b[0m\u001b[1m \u001b[0m│\u001b[1m \u001b[0m\u001b[1m    83    \u001b[0m\u001b[1m \u001b[0m│\u001b[1m \u001b[0m\u001b[1m   77   \u001b[0m\u001b[1m \u001b[0m│\u001b[1m \u001b[0m\u001b[1m    5.61    \u001b[0m\u001b[1m \u001b[0m│\u001b[1m \u001b[0m\u001b[1m   0.36    \u001b[0m\u001b[1m \u001b[0m│\u001b[1m \u001b[0m\u001b[1m30.4159 \u001b[0m\u001b[1m \u001b[0m│\u001b[1m \u001b[0m\u001b[1m103.4609 \u001b[0m\u001b[1m \u001b[0m│\n",
       "│\u001b[1m \u001b[0m\u001b[1m2025-01-08\u001b[0m\u001b[1m \u001b[0m│\u001b[1m \u001b[0m\u001b[1m  CA   \u001b[0m\u001b[1m \u001b[0m│\u001b[1m \u001b[0m\u001b[1myellowknife \u001b[0m\u001b[1m \u001b[0m│\u001b[1m \u001b[0m\u001b[1m   100    \u001b[0m\u001b[1m \u001b[0m│\u001b[1m \u001b[0m\u001b[1m   92   \u001b[0m\u001b[1m \u001b[0m│\u001b[1m \u001b[0m\u001b[1m   -15.71   \u001b[0m\u001b[1m \u001b[0m│\u001b[1m \u001b[0m\u001b[1m   8.75    \u001b[0m\u001b[1m \u001b[0m│\u001b[1m \u001b[0m\u001b[1m 62.456 \u001b[0m\u001b[1m \u001b[0m│\u001b[1m \u001b[0m\u001b[1m-114.3525\u001b[0m\u001b[1m \u001b[0m│\n",
       "│\u001b[1m \u001b[0m\u001b[1m2025-01-08\u001b[0m\u001b[1m \u001b[0m│\u001b[1m \u001b[0m\u001b[1m  US   \u001b[0m\u001b[1m \u001b[0m│\u001b[1m \u001b[0m\u001b[1m burlington \u001b[0m\u001b[1m \u001b[0m│\u001b[1m \u001b[0m\u001b[1m    75    \u001b[0m\u001b[1m \u001b[0m│\u001b[1m \u001b[0m\u001b[1m   44   \u001b[0m\u001b[1m \u001b[0m│\u001b[1m \u001b[0m\u001b[1m   -0.58    \u001b[0m\u001b[1m \u001b[0m│\u001b[1m \u001b[0m\u001b[1m   6.69    \u001b[0m\u001b[1m \u001b[0m│\u001b[1m \u001b[0m\u001b[1m39.8835 \u001b[0m\u001b[1m \u001b[0m│\u001b[1m \u001b[0m\u001b[1m-74.6413 \u001b[0m\u001b[1m \u001b[0m│\n",
       "│\u001b[1m \u001b[0m\u001b[1m2025-01-08\u001b[0m\u001b[1m \u001b[0m│\u001b[1m \u001b[0m\u001b[1m  AR   \u001b[0m\u001b[1m \u001b[0m│\u001b[1m \u001b[0m\u001b[1m  ushuaia   \u001b[0m\u001b[1m \u001b[0m│\u001b[1m \u001b[0m\u001b[1m    75    \u001b[0m\u001b[1m \u001b[0m│\u001b[1m \u001b[0m\u001b[1m   55   \u001b[0m\u001b[1m \u001b[0m│\u001b[1m \u001b[0m\u001b[1m   14.81    \u001b[0m\u001b[1m \u001b[0m│\u001b[1m \u001b[0m\u001b[1m   3.09    \u001b[0m\u001b[1m \u001b[0m│\u001b[1m \u001b[0m\u001b[1m -54.8  \u001b[0m\u001b[1m \u001b[0m│\u001b[1m \u001b[0m\u001b[1m  -68.3  \u001b[0m\u001b[1m \u001b[0m│\n",
       "│\u001b[1m \u001b[0m\u001b[1m2025-01-08\u001b[0m\u001b[1m \u001b[0m│\u001b[1m \u001b[0m\u001b[1m  CA   \u001b[0m\u001b[1m \u001b[0m│\u001b[1m \u001b[0m\u001b[1m saskatoon  \u001b[0m\u001b[1m \u001b[0m│\u001b[1m \u001b[0m\u001b[1m    40    \u001b[0m\u001b[1m \u001b[0m│\u001b[1m \u001b[0m\u001b[1m   80   \u001b[0m\u001b[1m \u001b[0m│\u001b[1m \u001b[0m\u001b[1m   -0.01    \u001b[0m\u001b[1m \u001b[0m│\u001b[1m \u001b[0m\u001b[1m    7.2    \u001b[0m\u001b[1m \u001b[0m│\u001b[1m \u001b[0m\u001b[1m52.1168 \u001b[0m\u001b[1m \u001b[0m│\u001b[1m \u001b[0m\u001b[1m-106.6345\u001b[0m\u001b[1m \u001b[0m│\n",
       "│\u001b[1m \u001b[0m\u001b[1m2025-01-08\u001b[0m\u001b[1m \u001b[0m│\u001b[1m \u001b[0m\u001b[1m  ZA   \u001b[0m\u001b[1m \u001b[0m│\u001b[1m \u001b[0m\u001b[1m bredasdorp \u001b[0m\u001b[1m \u001b[0m│\u001b[1m \u001b[0m\u001b[1m    0     \u001b[0m\u001b[1m \u001b[0m│\u001b[1m \u001b[0m\u001b[1m   80   \u001b[0m\u001b[1m \u001b[0m│\u001b[1m \u001b[0m\u001b[1m   17.82    \u001b[0m\u001b[1m \u001b[0m│\u001b[1m \u001b[0m\u001b[1m   1.46    \u001b[0m\u001b[1m \u001b[0m│\u001b[1m \u001b[0m\u001b[1m-34.5322\u001b[0m\u001b[1m \u001b[0m│\u001b[1m \u001b[0m\u001b[1m 20.0403 \u001b[0m\u001b[1m \u001b[0m│\n",
       "└────────────┴─────────┴──────────────┴────────────┴──────────┴──────────────┴─────────────┴──────────┴───────────┘\n"
      ]
     },
     "metadata": {},
     "output_type": "display_data"
    }
   ],
   "source": [
    "# Create a Rich Console object\n",
    "console = Console()\n",
    "\n",
    "# Function to print the DataFrame with Rich\n",
    "def print_df_with_rich(df):\n",
    "    # Create a Rich Table object\n",
    "    table = Table(title=\"City Weather Data\")\n",
    "\n",
    "    # Add columns dynamically based on the DataFrame\n",
    "    for column in df.columns:\n",
    "        table.add_column(column, justify=\"center\", style=\"bold\")\n",
    "\n",
    "    # Add rows dynamically based on the DataFrame data\n",
    "    for _, row in df.iterrows():\n",
    "        table.add_row(*[str(value) for value in row])\n",
    "\n",
    "    # Print the table using Rich\n",
    "    console.print(table)\n",
    "\n",
    "# Call the function to print the DataFrame with Rich\n",
    "print_df_with_rich(city_data_df.head(10))"
   ]
  },
  {
   "cell_type": "code",
   "execution_count": 23,
   "id": "cad425a8-e565-41c3-a5d4-3afb6a773509",
   "metadata": {},
   "outputs": [
    {
     "data": {
      "text/html": [
       "<pre style=\"white-space:pre;overflow-x:auto;line-height:normal;font-family:Menlo,'DejaVu Sans Mono',consolas,'Courier New',monospace\"><span style=\"font-style: italic\">                                                 City Weather Data                                                 </span>\n",
       "┏━━━━━━━━━━━━┳━━━━━━━━━┳━━━━━━━━━━━━━━┳━━━━━━━━━━━━┳━━━━━━━━━━┳━━━━━━━━━━━━━━┳━━━━━━━━━━━━━┳━━━━━━━━━━┳━━━━━━━━━━━┓\n",
       "┃<span style=\"font-weight: bold\">    Date    </span>┃<span style=\"font-weight: bold\"> Country </span>┃<span style=\"font-weight: bold\">     City     </span>┃<span style=\"font-weight: bold\"> Cloudiness </span>┃<span style=\"font-weight: bold\"> Humidity </span>┃<span style=\"font-weight: bold\"> Maximum_Tem… </span>┃<span style=\"font-weight: bold\"> Wind_Speed… </span>┃<span style=\"font-weight: bold\">   Lat    </span>┃<span style=\"font-weight: bold\">    Lng    </span>┃\n",
       "┡━━━━━━━━━━━━╇━━━━━━━━━╇━━━━━━━━━━━━━━╇━━━━━━━━━━━━╇━━━━━━━━━━╇━━━━━━━━━━━━━━╇━━━━━━━━━━━━━╇━━━━━━━━━━╇━━━━━━━━━━━┩\n",
       "│<span style=\"font-weight: bold\"> 2025-01-08 </span>│<span style=\"font-weight: bold\">   PT    </span>│<span style=\"font-weight: bold\">   Rabo De    </span>│<span style=\"font-weight: bold\">     75     </span>│<span style=\"font-weight: bold\">    88    </span>│<span style=\"font-weight: bold\">    17.73     </span>│<span style=\"font-weight: bold\">    8.23     </span>│<span style=\"font-weight: bold\">   37.8   </span>│<span style=\"font-weight: bold\"> -25.5833  </span>│\n",
       "│<span style=\"font-weight: bold\">            </span>│<span style=\"font-weight: bold\">         </span>│<span style=\"font-weight: bold\">    Peixe     </span>│<span style=\"font-weight: bold\">            </span>│<span style=\"font-weight: bold\">          </span>│<span style=\"font-weight: bold\">              </span>│<span style=\"font-weight: bold\">             </span>│<span style=\"font-weight: bold\">          </span>│<span style=\"font-weight: bold\">           </span>│\n",
       "│<span style=\"font-weight: bold\"> 2025-01-08 </span>│<span style=\"font-weight: bold\">   NZ    </span>│<span style=\"font-weight: bold\">   Waitangi   </span>│<span style=\"font-weight: bold\">     28     </span>│<span style=\"font-weight: bold\">    73    </span>│<span style=\"font-weight: bold\">    15.46     </span>│<span style=\"font-weight: bold\">    5.81     </span>│<span style=\"font-weight: bold\"> -43.9535 </span>│<span style=\"font-weight: bold\"> -176.5597 </span>│\n",
       "│<span style=\"font-weight: bold\"> 2025-01-08 </span>│<span style=\"font-weight: bold\">   SH    </span>│<span style=\"font-weight: bold\"> Edinburgh Of </span>│<span style=\"font-weight: bold\">     83     </span>│<span style=\"font-weight: bold\">    98    </span>│<span style=\"font-weight: bold\">    17.66     </span>│<span style=\"font-weight: bold\">    5.26     </span>│<span style=\"font-weight: bold\"> -37.0676 </span>│<span style=\"font-weight: bold\"> -12.3116  </span>│\n",
       "│<span style=\"font-weight: bold\">            </span>│<span style=\"font-weight: bold\">         </span>│<span style=\"font-weight: bold\">  The Seven   </span>│<span style=\"font-weight: bold\">            </span>│<span style=\"font-weight: bold\">          </span>│<span style=\"font-weight: bold\">              </span>│<span style=\"font-weight: bold\">             </span>│<span style=\"font-weight: bold\">          </span>│<span style=\"font-weight: bold\">           </span>│\n",
       "│<span style=\"font-weight: bold\">            </span>│<span style=\"font-weight: bold\">         </span>│<span style=\"font-weight: bold\">     Seas     </span>│<span style=\"font-weight: bold\">            </span>│<span style=\"font-weight: bold\">          </span>│<span style=\"font-weight: bold\">              </span>│<span style=\"font-weight: bold\">             </span>│<span style=\"font-weight: bold\">          </span>│<span style=\"font-weight: bold\">           </span>│\n",
       "│<span style=\"font-weight: bold\"> 2025-01-08 </span>│<span style=\"font-weight: bold\">   CV    </span>│<span style=\"font-weight: bold\"> Nova Sintra  </span>│<span style=\"font-weight: bold\">     0      </span>│<span style=\"font-weight: bold\">    71    </span>│<span style=\"font-weight: bold\">    23.58     </span>│<span style=\"font-weight: bold\">    8.26     </span>│<span style=\"font-weight: bold\"> 14.8667  </span>│<span style=\"font-weight: bold\"> -24.7167  </span>│\n",
       "│<span style=\"font-weight: bold\"> 2025-01-08 </span>│<span style=\"font-weight: bold\">   CN    </span>│<span style=\"font-weight: bold\">   Linqiong   </span>│<span style=\"font-weight: bold\">     83     </span>│<span style=\"font-weight: bold\">    77    </span>│<span style=\"font-weight: bold\">     5.61     </span>│<span style=\"font-weight: bold\">    0.36     </span>│<span style=\"font-weight: bold\"> 30.4159  </span>│<span style=\"font-weight: bold\"> 103.4609  </span>│\n",
       "│<span style=\"font-weight: bold\"> 2025-01-08 </span>│<span style=\"font-weight: bold\">   CA    </span>│<span style=\"font-weight: bold\"> Yellowknife  </span>│<span style=\"font-weight: bold\">    100     </span>│<span style=\"font-weight: bold\">    92    </span>│<span style=\"font-weight: bold\">    -15.71    </span>│<span style=\"font-weight: bold\">    8.75     </span>│<span style=\"font-weight: bold\">  62.456  </span>│<span style=\"font-weight: bold\"> -114.3525 </span>│\n",
       "│<span style=\"font-weight: bold\"> 2025-01-08 </span>│<span style=\"font-weight: bold\">   US    </span>│<span style=\"font-weight: bold\">  Burlington  </span>│<span style=\"font-weight: bold\">     75     </span>│<span style=\"font-weight: bold\">    44    </span>│<span style=\"font-weight: bold\">    -0.58     </span>│<span style=\"font-weight: bold\">    6.69     </span>│<span style=\"font-weight: bold\"> 39.8835  </span>│<span style=\"font-weight: bold\"> -74.6413  </span>│\n",
       "│<span style=\"font-weight: bold\"> 2025-01-08 </span>│<span style=\"font-weight: bold\">   AR    </span>│<span style=\"font-weight: bold\">   Ushuaia    </span>│<span style=\"font-weight: bold\">     75     </span>│<span style=\"font-weight: bold\">    55    </span>│<span style=\"font-weight: bold\">    14.81     </span>│<span style=\"font-weight: bold\">    3.09     </span>│<span style=\"font-weight: bold\">  -54.8   </span>│<span style=\"font-weight: bold\">   -68.3   </span>│\n",
       "│<span style=\"font-weight: bold\"> 2025-01-08 </span>│<span style=\"font-weight: bold\">   CA    </span>│<span style=\"font-weight: bold\">  Saskatoon   </span>│<span style=\"font-weight: bold\">     40     </span>│<span style=\"font-weight: bold\">    80    </span>│<span style=\"font-weight: bold\">    -0.01     </span>│<span style=\"font-weight: bold\">     7.2     </span>│<span style=\"font-weight: bold\"> 52.1168  </span>│<span style=\"font-weight: bold\"> -106.6345 </span>│\n",
       "│<span style=\"font-weight: bold\"> 2025-01-08 </span>│<span style=\"font-weight: bold\">   ZA    </span>│<span style=\"font-weight: bold\">  Bredasdorp  </span>│<span style=\"font-weight: bold\">     0      </span>│<span style=\"font-weight: bold\">    80    </span>│<span style=\"font-weight: bold\">    17.82     </span>│<span style=\"font-weight: bold\">    1.46     </span>│<span style=\"font-weight: bold\"> -34.5322 </span>│<span style=\"font-weight: bold\">  20.0403  </span>│\n",
       "└────────────┴─────────┴──────────────┴────────────┴──────────┴──────────────┴─────────────┴──────────┴───────────┘\n",
       "</pre>\n"
      ],
      "text/plain": [
       "\u001b[3m                                                 City Weather Data                                                 \u001b[0m\n",
       "┏━━━━━━━━━━━━┳━━━━━━━━━┳━━━━━━━━━━━━━━┳━━━━━━━━━━━━┳━━━━━━━━━━┳━━━━━━━━━━━━━━┳━━━━━━━━━━━━━┳━━━━━━━━━━┳━━━━━━━━━━━┓\n",
       "┃\u001b[1m \u001b[0m\u001b[1m   Date   \u001b[0m\u001b[1m \u001b[0m┃\u001b[1m \u001b[0m\u001b[1mCountry\u001b[0m\u001b[1m \u001b[0m┃\u001b[1m \u001b[0m\u001b[1m    City    \u001b[0m\u001b[1m \u001b[0m┃\u001b[1m \u001b[0m\u001b[1mCloudiness\u001b[0m\u001b[1m \u001b[0m┃\u001b[1m \u001b[0m\u001b[1mHumidity\u001b[0m\u001b[1m \u001b[0m┃\u001b[1m \u001b[0m\u001b[1mMaximum_Tem…\u001b[0m\u001b[1m \u001b[0m┃\u001b[1m \u001b[0m\u001b[1mWind_Speed…\u001b[0m\u001b[1m \u001b[0m┃\u001b[1m \u001b[0m\u001b[1m  Lat   \u001b[0m\u001b[1m \u001b[0m┃\u001b[1m \u001b[0m\u001b[1m   Lng   \u001b[0m\u001b[1m \u001b[0m┃\n",
       "┡━━━━━━━━━━━━╇━━━━━━━━━╇━━━━━━━━━━━━━━╇━━━━━━━━━━━━╇━━━━━━━━━━╇━━━━━━━━━━━━━━╇━━━━━━━━━━━━━╇━━━━━━━━━━╇━━━━━━━━━━━┩\n",
       "│\u001b[1m \u001b[0m\u001b[1m2025-01-08\u001b[0m\u001b[1m \u001b[0m│\u001b[1m \u001b[0m\u001b[1m  PT   \u001b[0m\u001b[1m \u001b[0m│\u001b[1m \u001b[0m\u001b[1m  Rabo De   \u001b[0m\u001b[1m \u001b[0m│\u001b[1m \u001b[0m\u001b[1m    75    \u001b[0m\u001b[1m \u001b[0m│\u001b[1m \u001b[0m\u001b[1m   88   \u001b[0m\u001b[1m \u001b[0m│\u001b[1m \u001b[0m\u001b[1m   17.73    \u001b[0m\u001b[1m \u001b[0m│\u001b[1m \u001b[0m\u001b[1m   8.23    \u001b[0m\u001b[1m \u001b[0m│\u001b[1m \u001b[0m\u001b[1m  37.8  \u001b[0m\u001b[1m \u001b[0m│\u001b[1m \u001b[0m\u001b[1m-25.5833 \u001b[0m\u001b[1m \u001b[0m│\n",
       "│\u001b[1m            \u001b[0m│\u001b[1m         \u001b[0m│\u001b[1m \u001b[0m\u001b[1m   Peixe    \u001b[0m\u001b[1m \u001b[0m│\u001b[1m            \u001b[0m│\u001b[1m          \u001b[0m│\u001b[1m              \u001b[0m│\u001b[1m             \u001b[0m│\u001b[1m          \u001b[0m│\u001b[1m           \u001b[0m│\n",
       "│\u001b[1m \u001b[0m\u001b[1m2025-01-08\u001b[0m\u001b[1m \u001b[0m│\u001b[1m \u001b[0m\u001b[1m  NZ   \u001b[0m\u001b[1m \u001b[0m│\u001b[1m \u001b[0m\u001b[1m  Waitangi  \u001b[0m\u001b[1m \u001b[0m│\u001b[1m \u001b[0m\u001b[1m    28    \u001b[0m\u001b[1m \u001b[0m│\u001b[1m \u001b[0m\u001b[1m   73   \u001b[0m\u001b[1m \u001b[0m│\u001b[1m \u001b[0m\u001b[1m   15.46    \u001b[0m\u001b[1m \u001b[0m│\u001b[1m \u001b[0m\u001b[1m   5.81    \u001b[0m\u001b[1m \u001b[0m│\u001b[1m \u001b[0m\u001b[1m-43.9535\u001b[0m\u001b[1m \u001b[0m│\u001b[1m \u001b[0m\u001b[1m-176.5597\u001b[0m\u001b[1m \u001b[0m│\n",
       "│\u001b[1m \u001b[0m\u001b[1m2025-01-08\u001b[0m\u001b[1m \u001b[0m│\u001b[1m \u001b[0m\u001b[1m  SH   \u001b[0m\u001b[1m \u001b[0m│\u001b[1m \u001b[0m\u001b[1mEdinburgh Of\u001b[0m\u001b[1m \u001b[0m│\u001b[1m \u001b[0m\u001b[1m    83    \u001b[0m\u001b[1m \u001b[0m│\u001b[1m \u001b[0m\u001b[1m   98   \u001b[0m\u001b[1m \u001b[0m│\u001b[1m \u001b[0m\u001b[1m   17.66    \u001b[0m\u001b[1m \u001b[0m│\u001b[1m \u001b[0m\u001b[1m   5.26    \u001b[0m\u001b[1m \u001b[0m│\u001b[1m \u001b[0m\u001b[1m-37.0676\u001b[0m\u001b[1m \u001b[0m│\u001b[1m \u001b[0m\u001b[1m-12.3116 \u001b[0m\u001b[1m \u001b[0m│\n",
       "│\u001b[1m            \u001b[0m│\u001b[1m         \u001b[0m│\u001b[1m \u001b[0m\u001b[1m The Seven  \u001b[0m\u001b[1m \u001b[0m│\u001b[1m            \u001b[0m│\u001b[1m          \u001b[0m│\u001b[1m              \u001b[0m│\u001b[1m             \u001b[0m│\u001b[1m          \u001b[0m│\u001b[1m           \u001b[0m│\n",
       "│\u001b[1m            \u001b[0m│\u001b[1m         \u001b[0m│\u001b[1m \u001b[0m\u001b[1m    Seas    \u001b[0m\u001b[1m \u001b[0m│\u001b[1m            \u001b[0m│\u001b[1m          \u001b[0m│\u001b[1m              \u001b[0m│\u001b[1m             \u001b[0m│\u001b[1m          \u001b[0m│\u001b[1m           \u001b[0m│\n",
       "│\u001b[1m \u001b[0m\u001b[1m2025-01-08\u001b[0m\u001b[1m \u001b[0m│\u001b[1m \u001b[0m\u001b[1m  CV   \u001b[0m\u001b[1m \u001b[0m│\u001b[1m \u001b[0m\u001b[1mNova Sintra \u001b[0m\u001b[1m \u001b[0m│\u001b[1m \u001b[0m\u001b[1m    0     \u001b[0m\u001b[1m \u001b[0m│\u001b[1m \u001b[0m\u001b[1m   71   \u001b[0m\u001b[1m \u001b[0m│\u001b[1m \u001b[0m\u001b[1m   23.58    \u001b[0m\u001b[1m \u001b[0m│\u001b[1m \u001b[0m\u001b[1m   8.26    \u001b[0m\u001b[1m \u001b[0m│\u001b[1m \u001b[0m\u001b[1m14.8667 \u001b[0m\u001b[1m \u001b[0m│\u001b[1m \u001b[0m\u001b[1m-24.7167 \u001b[0m\u001b[1m \u001b[0m│\n",
       "│\u001b[1m \u001b[0m\u001b[1m2025-01-08\u001b[0m\u001b[1m \u001b[0m│\u001b[1m \u001b[0m\u001b[1m  CN   \u001b[0m\u001b[1m \u001b[0m│\u001b[1m \u001b[0m\u001b[1m  Linqiong  \u001b[0m\u001b[1m \u001b[0m│\u001b[1m \u001b[0m\u001b[1m    83    \u001b[0m\u001b[1m \u001b[0m│\u001b[1m \u001b[0m\u001b[1m   77   \u001b[0m\u001b[1m \u001b[0m│\u001b[1m \u001b[0m\u001b[1m    5.61    \u001b[0m\u001b[1m \u001b[0m│\u001b[1m \u001b[0m\u001b[1m   0.36    \u001b[0m\u001b[1m \u001b[0m│\u001b[1m \u001b[0m\u001b[1m30.4159 \u001b[0m\u001b[1m \u001b[0m│\u001b[1m \u001b[0m\u001b[1m103.4609 \u001b[0m\u001b[1m \u001b[0m│\n",
       "│\u001b[1m \u001b[0m\u001b[1m2025-01-08\u001b[0m\u001b[1m \u001b[0m│\u001b[1m \u001b[0m\u001b[1m  CA   \u001b[0m\u001b[1m \u001b[0m│\u001b[1m \u001b[0m\u001b[1mYellowknife \u001b[0m\u001b[1m \u001b[0m│\u001b[1m \u001b[0m\u001b[1m   100    \u001b[0m\u001b[1m \u001b[0m│\u001b[1m \u001b[0m\u001b[1m   92   \u001b[0m\u001b[1m \u001b[0m│\u001b[1m \u001b[0m\u001b[1m   -15.71   \u001b[0m\u001b[1m \u001b[0m│\u001b[1m \u001b[0m\u001b[1m   8.75    \u001b[0m\u001b[1m \u001b[0m│\u001b[1m \u001b[0m\u001b[1m 62.456 \u001b[0m\u001b[1m \u001b[0m│\u001b[1m \u001b[0m\u001b[1m-114.3525\u001b[0m\u001b[1m \u001b[0m│\n",
       "│\u001b[1m \u001b[0m\u001b[1m2025-01-08\u001b[0m\u001b[1m \u001b[0m│\u001b[1m \u001b[0m\u001b[1m  US   \u001b[0m\u001b[1m \u001b[0m│\u001b[1m \u001b[0m\u001b[1m Burlington \u001b[0m\u001b[1m \u001b[0m│\u001b[1m \u001b[0m\u001b[1m    75    \u001b[0m\u001b[1m \u001b[0m│\u001b[1m \u001b[0m\u001b[1m   44   \u001b[0m\u001b[1m \u001b[0m│\u001b[1m \u001b[0m\u001b[1m   -0.58    \u001b[0m\u001b[1m \u001b[0m│\u001b[1m \u001b[0m\u001b[1m   6.69    \u001b[0m\u001b[1m \u001b[0m│\u001b[1m \u001b[0m\u001b[1m39.8835 \u001b[0m\u001b[1m \u001b[0m│\u001b[1m \u001b[0m\u001b[1m-74.6413 \u001b[0m\u001b[1m \u001b[0m│\n",
       "│\u001b[1m \u001b[0m\u001b[1m2025-01-08\u001b[0m\u001b[1m \u001b[0m│\u001b[1m \u001b[0m\u001b[1m  AR   \u001b[0m\u001b[1m \u001b[0m│\u001b[1m \u001b[0m\u001b[1m  Ushuaia   \u001b[0m\u001b[1m \u001b[0m│\u001b[1m \u001b[0m\u001b[1m    75    \u001b[0m\u001b[1m \u001b[0m│\u001b[1m \u001b[0m\u001b[1m   55   \u001b[0m\u001b[1m \u001b[0m│\u001b[1m \u001b[0m\u001b[1m   14.81    \u001b[0m\u001b[1m \u001b[0m│\u001b[1m \u001b[0m\u001b[1m   3.09    \u001b[0m\u001b[1m \u001b[0m│\u001b[1m \u001b[0m\u001b[1m -54.8  \u001b[0m\u001b[1m \u001b[0m│\u001b[1m \u001b[0m\u001b[1m  -68.3  \u001b[0m\u001b[1m \u001b[0m│\n",
       "│\u001b[1m \u001b[0m\u001b[1m2025-01-08\u001b[0m\u001b[1m \u001b[0m│\u001b[1m \u001b[0m\u001b[1m  CA   \u001b[0m\u001b[1m \u001b[0m│\u001b[1m \u001b[0m\u001b[1m Saskatoon  \u001b[0m\u001b[1m \u001b[0m│\u001b[1m \u001b[0m\u001b[1m    40    \u001b[0m\u001b[1m \u001b[0m│\u001b[1m \u001b[0m\u001b[1m   80   \u001b[0m\u001b[1m \u001b[0m│\u001b[1m \u001b[0m\u001b[1m   -0.01    \u001b[0m\u001b[1m \u001b[0m│\u001b[1m \u001b[0m\u001b[1m    7.2    \u001b[0m\u001b[1m \u001b[0m│\u001b[1m \u001b[0m\u001b[1m52.1168 \u001b[0m\u001b[1m \u001b[0m│\u001b[1m \u001b[0m\u001b[1m-106.6345\u001b[0m\u001b[1m \u001b[0m│\n",
       "│\u001b[1m \u001b[0m\u001b[1m2025-01-08\u001b[0m\u001b[1m \u001b[0m│\u001b[1m \u001b[0m\u001b[1m  ZA   \u001b[0m\u001b[1m \u001b[0m│\u001b[1m \u001b[0m\u001b[1m Bredasdorp \u001b[0m\u001b[1m \u001b[0m│\u001b[1m \u001b[0m\u001b[1m    0     \u001b[0m\u001b[1m \u001b[0m│\u001b[1m \u001b[0m\u001b[1m   80   \u001b[0m\u001b[1m \u001b[0m│\u001b[1m \u001b[0m\u001b[1m   17.82    \u001b[0m\u001b[1m \u001b[0m│\u001b[1m \u001b[0m\u001b[1m   1.46    \u001b[0m\u001b[1m \u001b[0m│\u001b[1m \u001b[0m\u001b[1m-34.5322\u001b[0m\u001b[1m \u001b[0m│\u001b[1m \u001b[0m\u001b[1m 20.0403 \u001b[0m\u001b[1m \u001b[0m│\n",
       "└────────────┴─────────┴──────────────┴────────────┴──────────┴──────────────┴─────────────┴──────────┴───────────┘\n"
      ]
     },
     "metadata": {},
     "output_type": "display_data"
    }
   ],
   "source": [
    "#city  and country data transform in capital letter \n",
    "city_data_df['City'] = city_data_df['City'].str.title()\n",
    "city_data_df['Country'] = city_data_df['Country'].str.upper()\n",
    "# Initialize the rich console\n",
    "console = Console()\n",
    "\n",
    "# Function to print the DataFrame with Rich\n",
    "def print_df_with_rich(df):\n",
    "    # Create a Rich Table object\n",
    "    table = Table(title=\"City Weather Data\")\n",
    "\n",
    "    # Add columns dynamically based on the DataFrame\n",
    "    for column in df.columns:\n",
    "        table.add_column(column, justify=\"center\", style=\"bold\")\n",
    "\n",
    "    # Add rows dynamically based on the DataFrame data\n",
    "    for _, row in df.iterrows():\n",
    "        table.add_row(*[str(value) for value in row])\n",
    "\n",
    "    # Print the table using Rich\n",
    "    console.print(table)\n",
    "\n",
    "# Call the function to print the modified DataFrame with Rich\n",
    "print_df_with_rich(city_data_df.head(10))"
   ]
  },
  {
   "cell_type": "code",
   "execution_count": 24,
   "id": "ebd85ca9-91f8-44cd-aacb-90854a9cb8f1",
   "metadata": {},
   "outputs": [
    {
     "data": {
      "text/html": [
       "<pre style=\"white-space:pre;overflow-x:auto;line-height:normal;font-family:Menlo,'DejaVu Sans Mono',consolas,'Courier New',monospace\"><span style=\"font-style: italic\">                                    City and Country Data with Capital Letters                                     </span>\n",
       "┏━━━━━━━━━━━━┳━━━━━━━━━┳━━━━━━━━━━━━━━┳━━━━━━━━━━━━┳━━━━━━━━━━┳━━━━━━━━━━━━━━┳━━━━━━━━━━━━━┳━━━━━━━━━━┳━━━━━━━━━━━┓\n",
       "┃<span style=\"color: #008080; text-decoration-color: #008080; font-weight: bold\">    Date    </span>┃<span style=\"color: #008080; text-decoration-color: #008080; font-weight: bold\"> Country </span>┃<span style=\"color: #008080; text-decoration-color: #008080; font-weight: bold\">     City     </span>┃<span style=\"color: #008080; text-decoration-color: #008080; font-weight: bold\"> Cloudiness </span>┃<span style=\"color: #008080; text-decoration-color: #008080; font-weight: bold\"> Humidity </span>┃<span style=\"color: #008080; text-decoration-color: #008080; font-weight: bold\"> Maximum_Tem… </span>┃<span style=\"color: #008080; text-decoration-color: #008080; font-weight: bold\"> Wind_Speed… </span>┃<span style=\"color: #008080; text-decoration-color: #008080; font-weight: bold\">   Lat    </span>┃<span style=\"color: #008080; text-decoration-color: #008080; font-weight: bold\">    Lng    </span>┃\n",
       "┡━━━━━━━━━━━━╇━━━━━━━━━╇━━━━━━━━━━━━━━╇━━━━━━━━━━━━╇━━━━━━━━━━╇━━━━━━━━━━━━━━╇━━━━━━━━━━━━━╇━━━━━━━━━━╇━━━━━━━━━━━┩\n",
       "│<span style=\"color: #bf7fbf; text-decoration-color: #bf7fbf; font-weight: bold\"> 2025-01-08 </span>│<span style=\"color: #bf7fbf; text-decoration-color: #bf7fbf; font-weight: bold\">   PT    </span>│<span style=\"color: #bf7fbf; text-decoration-color: #bf7fbf; font-weight: bold\">   Rabo De    </span>│<span style=\"color: #bf7fbf; text-decoration-color: #bf7fbf; font-weight: bold\">     75     </span>│<span style=\"color: #bf7fbf; text-decoration-color: #bf7fbf; font-weight: bold\">    88    </span>│<span style=\"color: #bf7fbf; text-decoration-color: #bf7fbf; font-weight: bold\">    17.73     </span>│<span style=\"color: #bf7fbf; text-decoration-color: #bf7fbf; font-weight: bold\">    8.23     </span>│<span style=\"color: #bf7fbf; text-decoration-color: #bf7fbf; font-weight: bold\">   37.8   </span>│<span style=\"color: #bf7fbf; text-decoration-color: #bf7fbf; font-weight: bold\"> -25.5833  </span>│\n",
       "│<span style=\"color: #bf7fbf; text-decoration-color: #bf7fbf; font-weight: bold\">            </span>│<span style=\"color: #bf7fbf; text-decoration-color: #bf7fbf; font-weight: bold\">         </span>│<span style=\"color: #bf7fbf; text-decoration-color: #bf7fbf; font-weight: bold\">    Peixe     </span>│<span style=\"color: #bf7fbf; text-decoration-color: #bf7fbf; font-weight: bold\">            </span>│<span style=\"color: #bf7fbf; text-decoration-color: #bf7fbf; font-weight: bold\">          </span>│<span style=\"color: #bf7fbf; text-decoration-color: #bf7fbf; font-weight: bold\">              </span>│<span style=\"color: #bf7fbf; text-decoration-color: #bf7fbf; font-weight: bold\">             </span>│<span style=\"color: #bf7fbf; text-decoration-color: #bf7fbf; font-weight: bold\">          </span>│<span style=\"color: #bf7fbf; text-decoration-color: #bf7fbf; font-weight: bold\">           </span>│\n",
       "├────────────┼─────────┼──────────────┼────────────┼──────────┼──────────────┼─────────────┼──────────┼───────────┤\n",
       "│<span style=\"color: #800080; text-decoration-color: #800080; font-weight: bold\"> 2025-01-08 </span>│<span style=\"color: #800080; text-decoration-color: #800080; font-weight: bold\">   NZ    </span>│<span style=\"color: #800080; text-decoration-color: #800080; font-weight: bold\">   Waitangi   </span>│<span style=\"color: #800080; text-decoration-color: #800080; font-weight: bold\">     28     </span>│<span style=\"color: #800080; text-decoration-color: #800080; font-weight: bold\">    73    </span>│<span style=\"color: #800080; text-decoration-color: #800080; font-weight: bold\">    15.46     </span>│<span style=\"color: #800080; text-decoration-color: #800080; font-weight: bold\">    5.81     </span>│<span style=\"color: #800080; text-decoration-color: #800080; font-weight: bold\"> -43.9535 </span>│<span style=\"color: #800080; text-decoration-color: #800080; font-weight: bold\"> -176.5597 </span>│\n",
       "├────────────┼─────────┼──────────────┼────────────┼──────────┼──────────────┼─────────────┼──────────┼───────────┤\n",
       "│<span style=\"color: #bf7fbf; text-decoration-color: #bf7fbf; font-weight: bold\"> 2025-01-08 </span>│<span style=\"color: #bf7fbf; text-decoration-color: #bf7fbf; font-weight: bold\">   SH    </span>│<span style=\"color: #bf7fbf; text-decoration-color: #bf7fbf; font-weight: bold\"> Edinburgh Of </span>│<span style=\"color: #bf7fbf; text-decoration-color: #bf7fbf; font-weight: bold\">     83     </span>│<span style=\"color: #bf7fbf; text-decoration-color: #bf7fbf; font-weight: bold\">    98    </span>│<span style=\"color: #bf7fbf; text-decoration-color: #bf7fbf; font-weight: bold\">    17.66     </span>│<span style=\"color: #bf7fbf; text-decoration-color: #bf7fbf; font-weight: bold\">    5.26     </span>│<span style=\"color: #bf7fbf; text-decoration-color: #bf7fbf; font-weight: bold\"> -37.0676 </span>│<span style=\"color: #bf7fbf; text-decoration-color: #bf7fbf; font-weight: bold\"> -12.3116  </span>│\n",
       "│<span style=\"color: #bf7fbf; text-decoration-color: #bf7fbf; font-weight: bold\">            </span>│<span style=\"color: #bf7fbf; text-decoration-color: #bf7fbf; font-weight: bold\">         </span>│<span style=\"color: #bf7fbf; text-decoration-color: #bf7fbf; font-weight: bold\">  The Seven   </span>│<span style=\"color: #bf7fbf; text-decoration-color: #bf7fbf; font-weight: bold\">            </span>│<span style=\"color: #bf7fbf; text-decoration-color: #bf7fbf; font-weight: bold\">          </span>│<span style=\"color: #bf7fbf; text-decoration-color: #bf7fbf; font-weight: bold\">              </span>│<span style=\"color: #bf7fbf; text-decoration-color: #bf7fbf; font-weight: bold\">             </span>│<span style=\"color: #bf7fbf; text-decoration-color: #bf7fbf; font-weight: bold\">          </span>│<span style=\"color: #bf7fbf; text-decoration-color: #bf7fbf; font-weight: bold\">           </span>│\n",
       "│<span style=\"color: #bf7fbf; text-decoration-color: #bf7fbf; font-weight: bold\">            </span>│<span style=\"color: #bf7fbf; text-decoration-color: #bf7fbf; font-weight: bold\">         </span>│<span style=\"color: #bf7fbf; text-decoration-color: #bf7fbf; font-weight: bold\">     Seas     </span>│<span style=\"color: #bf7fbf; text-decoration-color: #bf7fbf; font-weight: bold\">            </span>│<span style=\"color: #bf7fbf; text-decoration-color: #bf7fbf; font-weight: bold\">          </span>│<span style=\"color: #bf7fbf; text-decoration-color: #bf7fbf; font-weight: bold\">              </span>│<span style=\"color: #bf7fbf; text-decoration-color: #bf7fbf; font-weight: bold\">             </span>│<span style=\"color: #bf7fbf; text-decoration-color: #bf7fbf; font-weight: bold\">          </span>│<span style=\"color: #bf7fbf; text-decoration-color: #bf7fbf; font-weight: bold\">           </span>│\n",
       "├────────────┼─────────┼──────────────┼────────────┼──────────┼──────────────┼─────────────┼──────────┼───────────┤\n",
       "│<span style=\"color: #800080; text-decoration-color: #800080; font-weight: bold\"> 2025-01-08 </span>│<span style=\"color: #800080; text-decoration-color: #800080; font-weight: bold\">   CV    </span>│<span style=\"color: #800080; text-decoration-color: #800080; font-weight: bold\"> Nova Sintra  </span>│<span style=\"color: #800080; text-decoration-color: #800080; font-weight: bold\">     0      </span>│<span style=\"color: #800080; text-decoration-color: #800080; font-weight: bold\">    71    </span>│<span style=\"color: #800080; text-decoration-color: #800080; font-weight: bold\">    23.58     </span>│<span style=\"color: #800080; text-decoration-color: #800080; font-weight: bold\">    8.26     </span>│<span style=\"color: #800080; text-decoration-color: #800080; font-weight: bold\"> 14.8667  </span>│<span style=\"color: #800080; text-decoration-color: #800080; font-weight: bold\"> -24.7167  </span>│\n",
       "├────────────┼─────────┼──────────────┼────────────┼──────────┼──────────────┼─────────────┼──────────┼───────────┤\n",
       "│<span style=\"color: #bf7fbf; text-decoration-color: #bf7fbf; font-weight: bold\"> 2025-01-08 </span>│<span style=\"color: #bf7fbf; text-decoration-color: #bf7fbf; font-weight: bold\">   CN    </span>│<span style=\"color: #bf7fbf; text-decoration-color: #bf7fbf; font-weight: bold\">   Linqiong   </span>│<span style=\"color: #bf7fbf; text-decoration-color: #bf7fbf; font-weight: bold\">     83     </span>│<span style=\"color: #bf7fbf; text-decoration-color: #bf7fbf; font-weight: bold\">    77    </span>│<span style=\"color: #bf7fbf; text-decoration-color: #bf7fbf; font-weight: bold\">     5.61     </span>│<span style=\"color: #bf7fbf; text-decoration-color: #bf7fbf; font-weight: bold\">    0.36     </span>│<span style=\"color: #bf7fbf; text-decoration-color: #bf7fbf; font-weight: bold\"> 30.4159  </span>│<span style=\"color: #bf7fbf; text-decoration-color: #bf7fbf; font-weight: bold\"> 103.4609  </span>│\n",
       "├────────────┼─────────┼──────────────┼────────────┼──────────┼──────────────┼─────────────┼──────────┼───────────┤\n",
       "│<span style=\"color: #800080; text-decoration-color: #800080; font-weight: bold\"> 2025-01-08 </span>│<span style=\"color: #800080; text-decoration-color: #800080; font-weight: bold\">   CA    </span>│<span style=\"color: #800080; text-decoration-color: #800080; font-weight: bold\"> Yellowknife  </span>│<span style=\"color: #800080; text-decoration-color: #800080; font-weight: bold\">    100     </span>│<span style=\"color: #800080; text-decoration-color: #800080; font-weight: bold\">    92    </span>│<span style=\"color: #800080; text-decoration-color: #800080; font-weight: bold\">    -15.71    </span>│<span style=\"color: #800080; text-decoration-color: #800080; font-weight: bold\">    8.75     </span>│<span style=\"color: #800080; text-decoration-color: #800080; font-weight: bold\">  62.456  </span>│<span style=\"color: #800080; text-decoration-color: #800080; font-weight: bold\"> -114.3525 </span>│\n",
       "├────────────┼─────────┼──────────────┼────────────┼──────────┼──────────────┼─────────────┼──────────┼───────────┤\n",
       "│<span style=\"color: #bf7fbf; text-decoration-color: #bf7fbf; font-weight: bold\"> 2025-01-08 </span>│<span style=\"color: #bf7fbf; text-decoration-color: #bf7fbf; font-weight: bold\">   US    </span>│<span style=\"color: #bf7fbf; text-decoration-color: #bf7fbf; font-weight: bold\">  Burlington  </span>│<span style=\"color: #bf7fbf; text-decoration-color: #bf7fbf; font-weight: bold\">     75     </span>│<span style=\"color: #bf7fbf; text-decoration-color: #bf7fbf; font-weight: bold\">    44    </span>│<span style=\"color: #bf7fbf; text-decoration-color: #bf7fbf; font-weight: bold\">    -0.58     </span>│<span style=\"color: #bf7fbf; text-decoration-color: #bf7fbf; font-weight: bold\">    6.69     </span>│<span style=\"color: #bf7fbf; text-decoration-color: #bf7fbf; font-weight: bold\"> 39.8835  </span>│<span style=\"color: #bf7fbf; text-decoration-color: #bf7fbf; font-weight: bold\"> -74.6413  </span>│\n",
       "├────────────┼─────────┼──────────────┼────────────┼──────────┼──────────────┼─────────────┼──────────┼───────────┤\n",
       "│<span style=\"color: #800080; text-decoration-color: #800080; font-weight: bold\"> 2025-01-08 </span>│<span style=\"color: #800080; text-decoration-color: #800080; font-weight: bold\">   AR    </span>│<span style=\"color: #800080; text-decoration-color: #800080; font-weight: bold\">   Ushuaia    </span>│<span style=\"color: #800080; text-decoration-color: #800080; font-weight: bold\">     75     </span>│<span style=\"color: #800080; text-decoration-color: #800080; font-weight: bold\">    55    </span>│<span style=\"color: #800080; text-decoration-color: #800080; font-weight: bold\">    14.81     </span>│<span style=\"color: #800080; text-decoration-color: #800080; font-weight: bold\">    3.09     </span>│<span style=\"color: #800080; text-decoration-color: #800080; font-weight: bold\">  -54.8   </span>│<span style=\"color: #800080; text-decoration-color: #800080; font-weight: bold\">   -68.3   </span>│\n",
       "├────────────┼─────────┼──────────────┼────────────┼──────────┼──────────────┼─────────────┼──────────┼───────────┤\n",
       "│<span style=\"color: #bf7fbf; text-decoration-color: #bf7fbf; font-weight: bold\"> 2025-01-08 </span>│<span style=\"color: #bf7fbf; text-decoration-color: #bf7fbf; font-weight: bold\">   CA    </span>│<span style=\"color: #bf7fbf; text-decoration-color: #bf7fbf; font-weight: bold\">  Saskatoon   </span>│<span style=\"color: #bf7fbf; text-decoration-color: #bf7fbf; font-weight: bold\">     40     </span>│<span style=\"color: #bf7fbf; text-decoration-color: #bf7fbf; font-weight: bold\">    80    </span>│<span style=\"color: #bf7fbf; text-decoration-color: #bf7fbf; font-weight: bold\">    -0.01     </span>│<span style=\"color: #bf7fbf; text-decoration-color: #bf7fbf; font-weight: bold\">     7.2     </span>│<span style=\"color: #bf7fbf; text-decoration-color: #bf7fbf; font-weight: bold\"> 52.1168  </span>│<span style=\"color: #bf7fbf; text-decoration-color: #bf7fbf; font-weight: bold\"> -106.6345 </span>│\n",
       "├────────────┼─────────┼──────────────┼────────────┼──────────┼──────────────┼─────────────┼──────────┼───────────┤\n",
       "│<span style=\"color: #800080; text-decoration-color: #800080; font-weight: bold\"> 2025-01-08 </span>│<span style=\"color: #800080; text-decoration-color: #800080; font-weight: bold\">   ZA    </span>│<span style=\"color: #800080; text-decoration-color: #800080; font-weight: bold\">  Bredasdorp  </span>│<span style=\"color: #800080; text-decoration-color: #800080; font-weight: bold\">     0      </span>│<span style=\"color: #800080; text-decoration-color: #800080; font-weight: bold\">    80    </span>│<span style=\"color: #800080; text-decoration-color: #800080; font-weight: bold\">    17.82     </span>│<span style=\"color: #800080; text-decoration-color: #800080; font-weight: bold\">    1.46     </span>│<span style=\"color: #800080; text-decoration-color: #800080; font-weight: bold\"> -34.5322 </span>│<span style=\"color: #800080; text-decoration-color: #800080; font-weight: bold\">  20.0403  </span>│\n",
       "└────────────┴─────────┴──────────────┴────────────┴──────────┴──────────────┴─────────────┴──────────┴───────────┘\n",
       "</pre>\n"
      ],
      "text/plain": [
       "\u001b[3m                                    City and Country Data with Capital Letters                                     \u001b[0m\n",
       "┏━━━━━━━━━━━━┳━━━━━━━━━┳━━━━━━━━━━━━━━┳━━━━━━━━━━━━┳━━━━━━━━━━┳━━━━━━━━━━━━━━┳━━━━━━━━━━━━━┳━━━━━━━━━━┳━━━━━━━━━━━┓\n",
       "┃\u001b[1;36m \u001b[0m\u001b[1;36m   Date   \u001b[0m\u001b[1;36m \u001b[0m┃\u001b[1;36m \u001b[0m\u001b[1;36mCountry\u001b[0m\u001b[1;36m \u001b[0m┃\u001b[1;36m \u001b[0m\u001b[1;36m    City    \u001b[0m\u001b[1;36m \u001b[0m┃\u001b[1;36m \u001b[0m\u001b[1;36mCloudiness\u001b[0m\u001b[1;36m \u001b[0m┃\u001b[1;36m \u001b[0m\u001b[1;36mHumidity\u001b[0m\u001b[1;36m \u001b[0m┃\u001b[1;36m \u001b[0m\u001b[1;36mMaximum_Tem…\u001b[0m\u001b[1;36m \u001b[0m┃\u001b[1;36m \u001b[0m\u001b[1;36mWind_Speed…\u001b[0m\u001b[1;36m \u001b[0m┃\u001b[1;36m \u001b[0m\u001b[1;36m  Lat   \u001b[0m\u001b[1;36m \u001b[0m┃\u001b[1;36m \u001b[0m\u001b[1;36m   Lng   \u001b[0m\u001b[1;36m \u001b[0m┃\n",
       "┡━━━━━━━━━━━━╇━━━━━━━━━╇━━━━━━━━━━━━━━╇━━━━━━━━━━━━╇━━━━━━━━━━╇━━━━━━━━━━━━━━╇━━━━━━━━━━━━━╇━━━━━━━━━━╇━━━━━━━━━━━┩\n",
       "│\u001b[1;2;35m \u001b[0m\u001b[1;2;35m2025-01-08\u001b[0m\u001b[1;2;35m \u001b[0m│\u001b[1;2;35m \u001b[0m\u001b[1;2;35m  PT   \u001b[0m\u001b[1;2;35m \u001b[0m│\u001b[1;2;35m \u001b[0m\u001b[1;2;35m  Rabo De   \u001b[0m\u001b[1;2;35m \u001b[0m│\u001b[1;2;35m \u001b[0m\u001b[1;2;35m    75    \u001b[0m\u001b[1;2;35m \u001b[0m│\u001b[1;2;35m \u001b[0m\u001b[1;2;35m   88   \u001b[0m\u001b[1;2;35m \u001b[0m│\u001b[1;2;35m \u001b[0m\u001b[1;2;35m   17.73    \u001b[0m\u001b[1;2;35m \u001b[0m│\u001b[1;2;35m \u001b[0m\u001b[1;2;35m   8.23    \u001b[0m\u001b[1;2;35m \u001b[0m│\u001b[1;2;35m \u001b[0m\u001b[1;2;35m  37.8  \u001b[0m\u001b[1;2;35m \u001b[0m│\u001b[1;2;35m \u001b[0m\u001b[1;2;35m-25.5833 \u001b[0m\u001b[1;2;35m \u001b[0m│\n",
       "│\u001b[1;2;35m            \u001b[0m│\u001b[1;2;35m         \u001b[0m│\u001b[1;2;35m \u001b[0m\u001b[1;2;35m   Peixe    \u001b[0m\u001b[1;2;35m \u001b[0m│\u001b[1;2;35m            \u001b[0m│\u001b[1;2;35m          \u001b[0m│\u001b[1;2;35m              \u001b[0m│\u001b[1;2;35m             \u001b[0m│\u001b[1;2;35m          \u001b[0m│\u001b[1;2;35m           \u001b[0m│\n",
       "├────────────┼─────────┼──────────────┼────────────┼──────────┼──────────────┼─────────────┼──────────┼───────────┤\n",
       "│\u001b[1;35m \u001b[0m\u001b[1;35m2025-01-08\u001b[0m\u001b[1;35m \u001b[0m│\u001b[1;35m \u001b[0m\u001b[1;35m  NZ   \u001b[0m\u001b[1;35m \u001b[0m│\u001b[1;35m \u001b[0m\u001b[1;35m  Waitangi  \u001b[0m\u001b[1;35m \u001b[0m│\u001b[1;35m \u001b[0m\u001b[1;35m    28    \u001b[0m\u001b[1;35m \u001b[0m│\u001b[1;35m \u001b[0m\u001b[1;35m   73   \u001b[0m\u001b[1;35m \u001b[0m│\u001b[1;35m \u001b[0m\u001b[1;35m   15.46    \u001b[0m\u001b[1;35m \u001b[0m│\u001b[1;35m \u001b[0m\u001b[1;35m   5.81    \u001b[0m\u001b[1;35m \u001b[0m│\u001b[1;35m \u001b[0m\u001b[1;35m-43.9535\u001b[0m\u001b[1;35m \u001b[0m│\u001b[1;35m \u001b[0m\u001b[1;35m-176.5597\u001b[0m\u001b[1;35m \u001b[0m│\n",
       "├────────────┼─────────┼──────────────┼────────────┼──────────┼──────────────┼─────────────┼──────────┼───────────┤\n",
       "│\u001b[1;2;35m \u001b[0m\u001b[1;2;35m2025-01-08\u001b[0m\u001b[1;2;35m \u001b[0m│\u001b[1;2;35m \u001b[0m\u001b[1;2;35m  SH   \u001b[0m\u001b[1;2;35m \u001b[0m│\u001b[1;2;35m \u001b[0m\u001b[1;2;35mEdinburgh Of\u001b[0m\u001b[1;2;35m \u001b[0m│\u001b[1;2;35m \u001b[0m\u001b[1;2;35m    83    \u001b[0m\u001b[1;2;35m \u001b[0m│\u001b[1;2;35m \u001b[0m\u001b[1;2;35m   98   \u001b[0m\u001b[1;2;35m \u001b[0m│\u001b[1;2;35m \u001b[0m\u001b[1;2;35m   17.66    \u001b[0m\u001b[1;2;35m \u001b[0m│\u001b[1;2;35m \u001b[0m\u001b[1;2;35m   5.26    \u001b[0m\u001b[1;2;35m \u001b[0m│\u001b[1;2;35m \u001b[0m\u001b[1;2;35m-37.0676\u001b[0m\u001b[1;2;35m \u001b[0m│\u001b[1;2;35m \u001b[0m\u001b[1;2;35m-12.3116 \u001b[0m\u001b[1;2;35m \u001b[0m│\n",
       "│\u001b[1;2;35m            \u001b[0m│\u001b[1;2;35m         \u001b[0m│\u001b[1;2;35m \u001b[0m\u001b[1;2;35m The Seven  \u001b[0m\u001b[1;2;35m \u001b[0m│\u001b[1;2;35m            \u001b[0m│\u001b[1;2;35m          \u001b[0m│\u001b[1;2;35m              \u001b[0m│\u001b[1;2;35m             \u001b[0m│\u001b[1;2;35m          \u001b[0m│\u001b[1;2;35m           \u001b[0m│\n",
       "│\u001b[1;2;35m            \u001b[0m│\u001b[1;2;35m         \u001b[0m│\u001b[1;2;35m \u001b[0m\u001b[1;2;35m    Seas    \u001b[0m\u001b[1;2;35m \u001b[0m│\u001b[1;2;35m            \u001b[0m│\u001b[1;2;35m          \u001b[0m│\u001b[1;2;35m              \u001b[0m│\u001b[1;2;35m             \u001b[0m│\u001b[1;2;35m          \u001b[0m│\u001b[1;2;35m           \u001b[0m│\n",
       "├────────────┼─────────┼──────────────┼────────────┼──────────┼──────────────┼─────────────┼──────────┼───────────┤\n",
       "│\u001b[1;35m \u001b[0m\u001b[1;35m2025-01-08\u001b[0m\u001b[1;35m \u001b[0m│\u001b[1;35m \u001b[0m\u001b[1;35m  CV   \u001b[0m\u001b[1;35m \u001b[0m│\u001b[1;35m \u001b[0m\u001b[1;35mNova Sintra \u001b[0m\u001b[1;35m \u001b[0m│\u001b[1;35m \u001b[0m\u001b[1;35m    0     \u001b[0m\u001b[1;35m \u001b[0m│\u001b[1;35m \u001b[0m\u001b[1;35m   71   \u001b[0m\u001b[1;35m \u001b[0m│\u001b[1;35m \u001b[0m\u001b[1;35m   23.58    \u001b[0m\u001b[1;35m \u001b[0m│\u001b[1;35m \u001b[0m\u001b[1;35m   8.26    \u001b[0m\u001b[1;35m \u001b[0m│\u001b[1;35m \u001b[0m\u001b[1;35m14.8667 \u001b[0m\u001b[1;35m \u001b[0m│\u001b[1;35m \u001b[0m\u001b[1;35m-24.7167 \u001b[0m\u001b[1;35m \u001b[0m│\n",
       "├────────────┼─────────┼──────────────┼────────────┼──────────┼──────────────┼─────────────┼──────────┼───────────┤\n",
       "│\u001b[1;2;35m \u001b[0m\u001b[1;2;35m2025-01-08\u001b[0m\u001b[1;2;35m \u001b[0m│\u001b[1;2;35m \u001b[0m\u001b[1;2;35m  CN   \u001b[0m\u001b[1;2;35m \u001b[0m│\u001b[1;2;35m \u001b[0m\u001b[1;2;35m  Linqiong  \u001b[0m\u001b[1;2;35m \u001b[0m│\u001b[1;2;35m \u001b[0m\u001b[1;2;35m    83    \u001b[0m\u001b[1;2;35m \u001b[0m│\u001b[1;2;35m \u001b[0m\u001b[1;2;35m   77   \u001b[0m\u001b[1;2;35m \u001b[0m│\u001b[1;2;35m \u001b[0m\u001b[1;2;35m    5.61    \u001b[0m\u001b[1;2;35m \u001b[0m│\u001b[1;2;35m \u001b[0m\u001b[1;2;35m   0.36    \u001b[0m\u001b[1;2;35m \u001b[0m│\u001b[1;2;35m \u001b[0m\u001b[1;2;35m30.4159 \u001b[0m\u001b[1;2;35m \u001b[0m│\u001b[1;2;35m \u001b[0m\u001b[1;2;35m103.4609 \u001b[0m\u001b[1;2;35m \u001b[0m│\n",
       "├────────────┼─────────┼──────────────┼────────────┼──────────┼──────────────┼─────────────┼──────────┼───────────┤\n",
       "│\u001b[1;35m \u001b[0m\u001b[1;35m2025-01-08\u001b[0m\u001b[1;35m \u001b[0m│\u001b[1;35m \u001b[0m\u001b[1;35m  CA   \u001b[0m\u001b[1;35m \u001b[0m│\u001b[1;35m \u001b[0m\u001b[1;35mYellowknife \u001b[0m\u001b[1;35m \u001b[0m│\u001b[1;35m \u001b[0m\u001b[1;35m   100    \u001b[0m\u001b[1;35m \u001b[0m│\u001b[1;35m \u001b[0m\u001b[1;35m   92   \u001b[0m\u001b[1;35m \u001b[0m│\u001b[1;35m \u001b[0m\u001b[1;35m   -15.71   \u001b[0m\u001b[1;35m \u001b[0m│\u001b[1;35m \u001b[0m\u001b[1;35m   8.75    \u001b[0m\u001b[1;35m \u001b[0m│\u001b[1;35m \u001b[0m\u001b[1;35m 62.456 \u001b[0m\u001b[1;35m \u001b[0m│\u001b[1;35m \u001b[0m\u001b[1;35m-114.3525\u001b[0m\u001b[1;35m \u001b[0m│\n",
       "├────────────┼─────────┼──────────────┼────────────┼──────────┼──────────────┼─────────────┼──────────┼───────────┤\n",
       "│\u001b[1;2;35m \u001b[0m\u001b[1;2;35m2025-01-08\u001b[0m\u001b[1;2;35m \u001b[0m│\u001b[1;2;35m \u001b[0m\u001b[1;2;35m  US   \u001b[0m\u001b[1;2;35m \u001b[0m│\u001b[1;2;35m \u001b[0m\u001b[1;2;35m Burlington \u001b[0m\u001b[1;2;35m \u001b[0m│\u001b[1;2;35m \u001b[0m\u001b[1;2;35m    75    \u001b[0m\u001b[1;2;35m \u001b[0m│\u001b[1;2;35m \u001b[0m\u001b[1;2;35m   44   \u001b[0m\u001b[1;2;35m \u001b[0m│\u001b[1;2;35m \u001b[0m\u001b[1;2;35m   -0.58    \u001b[0m\u001b[1;2;35m \u001b[0m│\u001b[1;2;35m \u001b[0m\u001b[1;2;35m   6.69    \u001b[0m\u001b[1;2;35m \u001b[0m│\u001b[1;2;35m \u001b[0m\u001b[1;2;35m39.8835 \u001b[0m\u001b[1;2;35m \u001b[0m│\u001b[1;2;35m \u001b[0m\u001b[1;2;35m-74.6413 \u001b[0m\u001b[1;2;35m \u001b[0m│\n",
       "├────────────┼─────────┼──────────────┼────────────┼──────────┼──────────────┼─────────────┼──────────┼───────────┤\n",
       "│\u001b[1;35m \u001b[0m\u001b[1;35m2025-01-08\u001b[0m\u001b[1;35m \u001b[0m│\u001b[1;35m \u001b[0m\u001b[1;35m  AR   \u001b[0m\u001b[1;35m \u001b[0m│\u001b[1;35m \u001b[0m\u001b[1;35m  Ushuaia   \u001b[0m\u001b[1;35m \u001b[0m│\u001b[1;35m \u001b[0m\u001b[1;35m    75    \u001b[0m\u001b[1;35m \u001b[0m│\u001b[1;35m \u001b[0m\u001b[1;35m   55   \u001b[0m\u001b[1;35m \u001b[0m│\u001b[1;35m \u001b[0m\u001b[1;35m   14.81    \u001b[0m\u001b[1;35m \u001b[0m│\u001b[1;35m \u001b[0m\u001b[1;35m   3.09    \u001b[0m\u001b[1;35m \u001b[0m│\u001b[1;35m \u001b[0m\u001b[1;35m -54.8  \u001b[0m\u001b[1;35m \u001b[0m│\u001b[1;35m \u001b[0m\u001b[1;35m  -68.3  \u001b[0m\u001b[1;35m \u001b[0m│\n",
       "├────────────┼─────────┼──────────────┼────────────┼──────────┼──────────────┼─────────────┼──────────┼───────────┤\n",
       "│\u001b[1;2;35m \u001b[0m\u001b[1;2;35m2025-01-08\u001b[0m\u001b[1;2;35m \u001b[0m│\u001b[1;2;35m \u001b[0m\u001b[1;2;35m  CA   \u001b[0m\u001b[1;2;35m \u001b[0m│\u001b[1;2;35m \u001b[0m\u001b[1;2;35m Saskatoon  \u001b[0m\u001b[1;2;35m \u001b[0m│\u001b[1;2;35m \u001b[0m\u001b[1;2;35m    40    \u001b[0m\u001b[1;2;35m \u001b[0m│\u001b[1;2;35m \u001b[0m\u001b[1;2;35m   80   \u001b[0m\u001b[1;2;35m \u001b[0m│\u001b[1;2;35m \u001b[0m\u001b[1;2;35m   -0.01    \u001b[0m\u001b[1;2;35m \u001b[0m│\u001b[1;2;35m \u001b[0m\u001b[1;2;35m    7.2    \u001b[0m\u001b[1;2;35m \u001b[0m│\u001b[1;2;35m \u001b[0m\u001b[1;2;35m52.1168 \u001b[0m\u001b[1;2;35m \u001b[0m│\u001b[1;2;35m \u001b[0m\u001b[1;2;35m-106.6345\u001b[0m\u001b[1;2;35m \u001b[0m│\n",
       "├────────────┼─────────┼──────────────┼────────────┼──────────┼──────────────┼─────────────┼──────────┼───────────┤\n",
       "│\u001b[1;35m \u001b[0m\u001b[1;35m2025-01-08\u001b[0m\u001b[1;35m \u001b[0m│\u001b[1;35m \u001b[0m\u001b[1;35m  ZA   \u001b[0m\u001b[1;35m \u001b[0m│\u001b[1;35m \u001b[0m\u001b[1;35m Bredasdorp \u001b[0m\u001b[1;35m \u001b[0m│\u001b[1;35m \u001b[0m\u001b[1;35m    0     \u001b[0m\u001b[1;35m \u001b[0m│\u001b[1;35m \u001b[0m\u001b[1;35m   80   \u001b[0m\u001b[1;35m \u001b[0m│\u001b[1;35m \u001b[0m\u001b[1;35m   17.82    \u001b[0m\u001b[1;35m \u001b[0m│\u001b[1;35m \u001b[0m\u001b[1;35m   1.46    \u001b[0m\u001b[1;35m \u001b[0m│\u001b[1;35m \u001b[0m\u001b[1;35m-34.5322\u001b[0m\u001b[1;35m \u001b[0m│\u001b[1;35m \u001b[0m\u001b[1;35m 20.0403 \u001b[0m\u001b[1;35m \u001b[0m│\n",
       "└────────────┴─────────┴──────────────┴────────────┴──────────┴──────────────┴─────────────┴──────────┴───────────┘\n"
      ]
     },
     "metadata": {},
     "output_type": "display_data"
    }
   ],
   "source": [
    "#Transfor the city and country starting with capital letter\n",
    "# Create a rich Console object\n",
    "console = Console()\n",
    "\n",
    "# Create a rich Table object with a title and enhanced styles\n",
    "table = Table(title=\"City and Country Data with Capital Letters\", show_header=True, header_style=\"bold cyan\", show_lines=True)\n",
    "\n",
    "# Add columns dynamically from the DataFrame\n",
    "for column in city_data_df.columns:\n",
    "    table.add_column(column, style=\"bold magenta\", justify=\"center\")\n",
    "\n",
    "# Add rows from the DataFrame (only the first 10 rows)\n",
    "for idx, row in city_data_df.head(10).iterrows():\n",
    "    # Apply alternating row styles\n",
    "    if idx % 2 == 0:\n",
    "        table.add_row(*[str(value) for value in row], style=\"dim\")\n",
    "    else:\n",
    "        table.add_row(*[str(value) for value in row])\n",
    "\n",
    "# Print the table with rich formatting\n",
    "console.print(table)"
   ]
  },
  {
   "cell_type": "code",
   "execution_count": 25,
   "id": "b6a8614e-11a0-49aa-9367-af523170e778",
   "metadata": {},
   "outputs": [
    {
     "data": {
      "text/html": [
       "<pre style=\"white-space:pre;overflow-x:auto;line-height:normal;font-family:Menlo,'DejaVu Sans Mono',consolas,'Courier New',monospace\"><span style=\"font-style: italic\">                                        City Weather Data (With Fahrenheit)                                        </span>\n",
       "┏━━━━━━━━━━━┳━━━━━━━━━┳━━━━━━━━━━━┳━━━━━━━━━━━┳━━━━━━━━━━┳━━━━━━━━━━━┳━━━━━━━━━━┳━━━━━━━━━━━┳━━━━━━━━━━┳━━━━━━━━━━┓\n",
       "┃<span style=\"color: #008080; text-decoration-color: #008080; font-weight: bold\">   Date    </span>┃<span style=\"color: #008080; text-decoration-color: #008080; font-weight: bold\"> Country </span>┃<span style=\"color: #008080; text-decoration-color: #008080; font-weight: bold\">   City    </span>┃<span style=\"color: #008080; text-decoration-color: #008080; font-weight: bold\"> Cloudine… </span>┃<span style=\"color: #008080; text-decoration-color: #008080; font-weight: bold\"> Humidity </span>┃<span style=\"color: #008080; text-decoration-color: #008080; font-weight: bold\"> Maximum_… </span>┃<span style=\"color: #008080; text-decoration-color: #008080; font-weight: bold\"> Maximum… </span>┃<span style=\"color: #008080; text-decoration-color: #008080; font-weight: bold\"> Wind_Spe… </span>┃<span style=\"color: #008080; text-decoration-color: #008080; font-weight: bold\">   Lat    </span>┃<span style=\"color: #008080; text-decoration-color: #008080; font-weight: bold\">   Lng    </span>┃\n",
       "┡━━━━━━━━━━━╇━━━━━━━━━╇━━━━━━━━━━━╇━━━━━━━━━━━╇━━━━━━━━━━╇━━━━━━━━━━━╇━━━━━━━━━━╇━━━━━━━━━━━╇━━━━━━━━━━╇━━━━━━━━━━┩\n",
       "│<span style=\"color: #bf7fbf; text-decoration-color: #bf7fbf; font-weight: bold\"> 2025-01-… </span>│<span style=\"color: #bf7fbf; text-decoration-color: #bf7fbf; font-weight: bold\">   PT    </span>│<span style=\"color: #bf7fbf; text-decoration-color: #bf7fbf; font-weight: bold\">  Rabo De  </span>│<span style=\"color: #bf7fbf; text-decoration-color: #bf7fbf; font-weight: bold\">    75     </span>│<span style=\"color: #bf7fbf; text-decoration-color: #bf7fbf; font-weight: bold\">    88    </span>│<span style=\"color: #bf7fbf; text-decoration-color: #bf7fbf; font-weight: bold\">   17.73   </span>│<span style=\"color: #bf7fbf; text-decoration-color: #bf7fbf; font-weight: bold\">  63.914  </span>│<span style=\"color: #bf7fbf; text-decoration-color: #bf7fbf; font-weight: bold\">   8.23    </span>│<span style=\"color: #bf7fbf; text-decoration-color: #bf7fbf; font-weight: bold\">   37.8   </span>│<span style=\"color: #bf7fbf; text-decoration-color: #bf7fbf; font-weight: bold\"> -25.5833 </span>│\n",
       "│<span style=\"color: #bf7fbf; text-decoration-color: #bf7fbf; font-weight: bold\">           </span>│<span style=\"color: #bf7fbf; text-decoration-color: #bf7fbf; font-weight: bold\">         </span>│<span style=\"color: #bf7fbf; text-decoration-color: #bf7fbf; font-weight: bold\">   Peixe   </span>│<span style=\"color: #bf7fbf; text-decoration-color: #bf7fbf; font-weight: bold\">           </span>│<span style=\"color: #bf7fbf; text-decoration-color: #bf7fbf; font-weight: bold\">          </span>│<span style=\"color: #bf7fbf; text-decoration-color: #bf7fbf; font-weight: bold\">           </span>│<span style=\"color: #bf7fbf; text-decoration-color: #bf7fbf; font-weight: bold\">          </span>│<span style=\"color: #bf7fbf; text-decoration-color: #bf7fbf; font-weight: bold\">           </span>│<span style=\"color: #bf7fbf; text-decoration-color: #bf7fbf; font-weight: bold\">          </span>│<span style=\"color: #bf7fbf; text-decoration-color: #bf7fbf; font-weight: bold\">          </span>│\n",
       "├───────────┼─────────┼───────────┼───────────┼──────────┼───────────┼──────────┼───────────┼──────────┼──────────┤\n",
       "│<span style=\"color: #800080; text-decoration-color: #800080; font-weight: bold\"> 2025-01-… </span>│<span style=\"color: #800080; text-decoration-color: #800080; font-weight: bold\">   NZ    </span>│<span style=\"color: #800080; text-decoration-color: #800080; font-weight: bold\"> Waitangi  </span>│<span style=\"color: #800080; text-decoration-color: #800080; font-weight: bold\">    28     </span>│<span style=\"color: #800080; text-decoration-color: #800080; font-weight: bold\">    73    </span>│<span style=\"color: #800080; text-decoration-color: #800080; font-weight: bold\">   15.46   </span>│<span style=\"color: #800080; text-decoration-color: #800080; font-weight: bold\">  59.828  </span>│<span style=\"color: #800080; text-decoration-color: #800080; font-weight: bold\">   5.81    </span>│<span style=\"color: #800080; text-decoration-color: #800080; font-weight: bold\"> -43.9535 </span>│<span style=\"color: #800080; text-decoration-color: #800080; font-weight: bold\"> -176.55… </span>│\n",
       "├───────────┼─────────┼───────────┼───────────┼──────────┼───────────┼──────────┼───────────┼──────────┼──────────┤\n",
       "│<span style=\"color: #bf7fbf; text-decoration-color: #bf7fbf; font-weight: bold\"> 2025-01-… </span>│<span style=\"color: #bf7fbf; text-decoration-color: #bf7fbf; font-weight: bold\">   SH    </span>│<span style=\"color: #bf7fbf; text-decoration-color: #bf7fbf; font-weight: bold\"> Edinburgh </span>│<span style=\"color: #bf7fbf; text-decoration-color: #bf7fbf; font-weight: bold\">    83     </span>│<span style=\"color: #bf7fbf; text-decoration-color: #bf7fbf; font-weight: bold\">    98    </span>│<span style=\"color: #bf7fbf; text-decoration-color: #bf7fbf; font-weight: bold\">   17.66   </span>│<span style=\"color: #bf7fbf; text-decoration-color: #bf7fbf; font-weight: bold\">  63.788  </span>│<span style=\"color: #bf7fbf; text-decoration-color: #bf7fbf; font-weight: bold\">   5.26    </span>│<span style=\"color: #bf7fbf; text-decoration-color: #bf7fbf; font-weight: bold\"> -37.0676 </span>│<span style=\"color: #bf7fbf; text-decoration-color: #bf7fbf; font-weight: bold\"> -12.3116 </span>│\n",
       "│<span style=\"color: #bf7fbf; text-decoration-color: #bf7fbf; font-weight: bold\">           </span>│<span style=\"color: #bf7fbf; text-decoration-color: #bf7fbf; font-weight: bold\">         </span>│<span style=\"color: #bf7fbf; text-decoration-color: #bf7fbf; font-weight: bold\">  Of The   </span>│<span style=\"color: #bf7fbf; text-decoration-color: #bf7fbf; font-weight: bold\">           </span>│<span style=\"color: #bf7fbf; text-decoration-color: #bf7fbf; font-weight: bold\">          </span>│<span style=\"color: #bf7fbf; text-decoration-color: #bf7fbf; font-weight: bold\">           </span>│<span style=\"color: #bf7fbf; text-decoration-color: #bf7fbf; font-weight: bold\">          </span>│<span style=\"color: #bf7fbf; text-decoration-color: #bf7fbf; font-weight: bold\">           </span>│<span style=\"color: #bf7fbf; text-decoration-color: #bf7fbf; font-weight: bold\">          </span>│<span style=\"color: #bf7fbf; text-decoration-color: #bf7fbf; font-weight: bold\">          </span>│\n",
       "│<span style=\"color: #bf7fbf; text-decoration-color: #bf7fbf; font-weight: bold\">           </span>│<span style=\"color: #bf7fbf; text-decoration-color: #bf7fbf; font-weight: bold\">         </span>│<span style=\"color: #bf7fbf; text-decoration-color: #bf7fbf; font-weight: bold\">   Seven   </span>│<span style=\"color: #bf7fbf; text-decoration-color: #bf7fbf; font-weight: bold\">           </span>│<span style=\"color: #bf7fbf; text-decoration-color: #bf7fbf; font-weight: bold\">          </span>│<span style=\"color: #bf7fbf; text-decoration-color: #bf7fbf; font-weight: bold\">           </span>│<span style=\"color: #bf7fbf; text-decoration-color: #bf7fbf; font-weight: bold\">          </span>│<span style=\"color: #bf7fbf; text-decoration-color: #bf7fbf; font-weight: bold\">           </span>│<span style=\"color: #bf7fbf; text-decoration-color: #bf7fbf; font-weight: bold\">          </span>│<span style=\"color: #bf7fbf; text-decoration-color: #bf7fbf; font-weight: bold\">          </span>│\n",
       "│<span style=\"color: #bf7fbf; text-decoration-color: #bf7fbf; font-weight: bold\">           </span>│<span style=\"color: #bf7fbf; text-decoration-color: #bf7fbf; font-weight: bold\">         </span>│<span style=\"color: #bf7fbf; text-decoration-color: #bf7fbf; font-weight: bold\">   Seas    </span>│<span style=\"color: #bf7fbf; text-decoration-color: #bf7fbf; font-weight: bold\">           </span>│<span style=\"color: #bf7fbf; text-decoration-color: #bf7fbf; font-weight: bold\">          </span>│<span style=\"color: #bf7fbf; text-decoration-color: #bf7fbf; font-weight: bold\">           </span>│<span style=\"color: #bf7fbf; text-decoration-color: #bf7fbf; font-weight: bold\">          </span>│<span style=\"color: #bf7fbf; text-decoration-color: #bf7fbf; font-weight: bold\">           </span>│<span style=\"color: #bf7fbf; text-decoration-color: #bf7fbf; font-weight: bold\">          </span>│<span style=\"color: #bf7fbf; text-decoration-color: #bf7fbf; font-weight: bold\">          </span>│\n",
       "├───────────┼─────────┼───────────┼───────────┼──────────┼───────────┼──────────┼───────────┼──────────┼──────────┤\n",
       "│<span style=\"color: #800080; text-decoration-color: #800080; font-weight: bold\"> 2025-01-… </span>│<span style=\"color: #800080; text-decoration-color: #800080; font-weight: bold\">   CV    </span>│<span style=\"color: #800080; text-decoration-color: #800080; font-weight: bold\">   Nova    </span>│<span style=\"color: #800080; text-decoration-color: #800080; font-weight: bold\">     0     </span>│<span style=\"color: #800080; text-decoration-color: #800080; font-weight: bold\">    71    </span>│<span style=\"color: #800080; text-decoration-color: #800080; font-weight: bold\">   23.58   </span>│<span style=\"color: #800080; text-decoration-color: #800080; font-weight: bold\"> 74.4439… </span>│<span style=\"color: #800080; text-decoration-color: #800080; font-weight: bold\">   8.26    </span>│<span style=\"color: #800080; text-decoration-color: #800080; font-weight: bold\"> 14.8667  </span>│<span style=\"color: #800080; text-decoration-color: #800080; font-weight: bold\"> -24.7167 </span>│\n",
       "│<span style=\"color: #800080; text-decoration-color: #800080; font-weight: bold\">           </span>│<span style=\"color: #800080; text-decoration-color: #800080; font-weight: bold\">         </span>│<span style=\"color: #800080; text-decoration-color: #800080; font-weight: bold\">  Sintra   </span>│<span style=\"color: #800080; text-decoration-color: #800080; font-weight: bold\">           </span>│<span style=\"color: #800080; text-decoration-color: #800080; font-weight: bold\">          </span>│<span style=\"color: #800080; text-decoration-color: #800080; font-weight: bold\">           </span>│<span style=\"color: #800080; text-decoration-color: #800080; font-weight: bold\">          </span>│<span style=\"color: #800080; text-decoration-color: #800080; font-weight: bold\">           </span>│<span style=\"color: #800080; text-decoration-color: #800080; font-weight: bold\">          </span>│<span style=\"color: #800080; text-decoration-color: #800080; font-weight: bold\">          </span>│\n",
       "├───────────┼─────────┼───────────┼───────────┼──────────┼───────────┼──────────┼───────────┼──────────┼──────────┤\n",
       "│<span style=\"color: #bf7fbf; text-decoration-color: #bf7fbf; font-weight: bold\"> 2025-01-… </span>│<span style=\"color: #bf7fbf; text-decoration-color: #bf7fbf; font-weight: bold\">   CN    </span>│<span style=\"color: #bf7fbf; text-decoration-color: #bf7fbf; font-weight: bold\"> Linqiong  </span>│<span style=\"color: #bf7fbf; text-decoration-color: #bf7fbf; font-weight: bold\">    83     </span>│<span style=\"color: #bf7fbf; text-decoration-color: #bf7fbf; font-weight: bold\">    77    </span>│<span style=\"color: #bf7fbf; text-decoration-color: #bf7fbf; font-weight: bold\">   5.61    </span>│<span style=\"color: #bf7fbf; text-decoration-color: #bf7fbf; font-weight: bold\">  42.098  </span>│<span style=\"color: #bf7fbf; text-decoration-color: #bf7fbf; font-weight: bold\">   0.36    </span>│<span style=\"color: #bf7fbf; text-decoration-color: #bf7fbf; font-weight: bold\"> 30.4159  </span>│<span style=\"color: #bf7fbf; text-decoration-color: #bf7fbf; font-weight: bold\"> 103.4609 </span>│\n",
       "├───────────┼─────────┼───────────┼───────────┼──────────┼───────────┼──────────┼───────────┼──────────┼──────────┤\n",
       "│<span style=\"color: #800080; text-decoration-color: #800080; font-weight: bold\"> 2025-01-… </span>│<span style=\"color: #800080; text-decoration-color: #800080; font-weight: bold\">   CA    </span>│<span style=\"color: #800080; text-decoration-color: #800080; font-weight: bold\"> Yellowkn… </span>│<span style=\"color: #800080; text-decoration-color: #800080; font-weight: bold\">    100    </span>│<span style=\"color: #800080; text-decoration-color: #800080; font-weight: bold\">    92    </span>│<span style=\"color: #800080; text-decoration-color: #800080; font-weight: bold\">  -15.71   </span>│<span style=\"color: #800080; text-decoration-color: #800080; font-weight: bold\"> 3.72199… </span>│<span style=\"color: #800080; text-decoration-color: #800080; font-weight: bold\">   8.75    </span>│<span style=\"color: #800080; text-decoration-color: #800080; font-weight: bold\">  62.456  </span>│<span style=\"color: #800080; text-decoration-color: #800080; font-weight: bold\"> -114.35… </span>│\n",
       "├───────────┼─────────┼───────────┼───────────┼──────────┼───────────┼──────────┼───────────┼──────────┼──────────┤\n",
       "│<span style=\"color: #bf7fbf; text-decoration-color: #bf7fbf; font-weight: bold\"> 2025-01-… </span>│<span style=\"color: #bf7fbf; text-decoration-color: #bf7fbf; font-weight: bold\">   US    </span>│<span style=\"color: #bf7fbf; text-decoration-color: #bf7fbf; font-weight: bold\"> Burlingt… </span>│<span style=\"color: #bf7fbf; text-decoration-color: #bf7fbf; font-weight: bold\">    75     </span>│<span style=\"color: #bf7fbf; text-decoration-color: #bf7fbf; font-weight: bold\">    44    </span>│<span style=\"color: #bf7fbf; text-decoration-color: #bf7fbf; font-weight: bold\">   -0.58   </span>│<span style=\"color: #bf7fbf; text-decoration-color: #bf7fbf; font-weight: bold\">  30.956  </span>│<span style=\"color: #bf7fbf; text-decoration-color: #bf7fbf; font-weight: bold\">   6.69    </span>│<span style=\"color: #bf7fbf; text-decoration-color: #bf7fbf; font-weight: bold\"> 39.8835  </span>│<span style=\"color: #bf7fbf; text-decoration-color: #bf7fbf; font-weight: bold\"> -74.6413 </span>│\n",
       "├───────────┼─────────┼───────────┼───────────┼──────────┼───────────┼──────────┼───────────┼──────────┼──────────┤\n",
       "│<span style=\"color: #800080; text-decoration-color: #800080; font-weight: bold\"> 2025-01-… </span>│<span style=\"color: #800080; text-decoration-color: #800080; font-weight: bold\">   AR    </span>│<span style=\"color: #800080; text-decoration-color: #800080; font-weight: bold\">  Ushuaia  </span>│<span style=\"color: #800080; text-decoration-color: #800080; font-weight: bold\">    75     </span>│<span style=\"color: #800080; text-decoration-color: #800080; font-weight: bold\">    55    </span>│<span style=\"color: #800080; text-decoration-color: #800080; font-weight: bold\">   14.81   </span>│<span style=\"color: #800080; text-decoration-color: #800080; font-weight: bold\">  58.658  </span>│<span style=\"color: #800080; text-decoration-color: #800080; font-weight: bold\">   3.09    </span>│<span style=\"color: #800080; text-decoration-color: #800080; font-weight: bold\">  -54.8   </span>│<span style=\"color: #800080; text-decoration-color: #800080; font-weight: bold\">  -68.3   </span>│\n",
       "├───────────┼─────────┼───────────┼───────────┼──────────┼───────────┼──────────┼───────────┼──────────┼──────────┤\n",
       "│<span style=\"color: #bf7fbf; text-decoration-color: #bf7fbf; font-weight: bold\"> 2025-01-… </span>│<span style=\"color: #bf7fbf; text-decoration-color: #bf7fbf; font-weight: bold\">   CA    </span>│<span style=\"color: #bf7fbf; text-decoration-color: #bf7fbf; font-weight: bold\"> Saskatoon </span>│<span style=\"color: #bf7fbf; text-decoration-color: #bf7fbf; font-weight: bold\">    40     </span>│<span style=\"color: #bf7fbf; text-decoration-color: #bf7fbf; font-weight: bold\">    80    </span>│<span style=\"color: #bf7fbf; text-decoration-color: #bf7fbf; font-weight: bold\">   -0.01   </span>│<span style=\"color: #bf7fbf; text-decoration-color: #bf7fbf; font-weight: bold\">  31.982  </span>│<span style=\"color: #bf7fbf; text-decoration-color: #bf7fbf; font-weight: bold\">    7.2    </span>│<span style=\"color: #bf7fbf; text-decoration-color: #bf7fbf; font-weight: bold\"> 52.1168  </span>│<span style=\"color: #bf7fbf; text-decoration-color: #bf7fbf; font-weight: bold\"> -106.63… </span>│\n",
       "├───────────┼─────────┼───────────┼───────────┼──────────┼───────────┼──────────┼───────────┼──────────┼──────────┤\n",
       "│<span style=\"color: #800080; text-decoration-color: #800080; font-weight: bold\"> 2025-01-… </span>│<span style=\"color: #800080; text-decoration-color: #800080; font-weight: bold\">   ZA    </span>│<span style=\"color: #800080; text-decoration-color: #800080; font-weight: bold\"> Bredasdo… </span>│<span style=\"color: #800080; text-decoration-color: #800080; font-weight: bold\">     0     </span>│<span style=\"color: #800080; text-decoration-color: #800080; font-weight: bold\">    80    </span>│<span style=\"color: #800080; text-decoration-color: #800080; font-weight: bold\">   17.82   </span>│<span style=\"color: #800080; text-decoration-color: #800080; font-weight: bold\">  64.076  </span>│<span style=\"color: #800080; text-decoration-color: #800080; font-weight: bold\">   1.46    </span>│<span style=\"color: #800080; text-decoration-color: #800080; font-weight: bold\"> -34.5322 </span>│<span style=\"color: #800080; text-decoration-color: #800080; font-weight: bold\"> 20.0403  </span>│\n",
       "└───────────┴─────────┴───────────┴───────────┴──────────┴───────────┴──────────┴───────────┴──────────┴──────────┘\n",
       "</pre>\n"
      ],
      "text/plain": [
       "\u001b[3m                                        City Weather Data (With Fahrenheit)                                        \u001b[0m\n",
       "┏━━━━━━━━━━━┳━━━━━━━━━┳━━━━━━━━━━━┳━━━━━━━━━━━┳━━━━━━━━━━┳━━━━━━━━━━━┳━━━━━━━━━━┳━━━━━━━━━━━┳━━━━━━━━━━┳━━━━━━━━━━┓\n",
       "┃\u001b[1;36m \u001b[0m\u001b[1;36m  Date   \u001b[0m\u001b[1;36m \u001b[0m┃\u001b[1;36m \u001b[0m\u001b[1;36mCountry\u001b[0m\u001b[1;36m \u001b[0m┃\u001b[1;36m \u001b[0m\u001b[1;36m  City   \u001b[0m\u001b[1;36m \u001b[0m┃\u001b[1;36m \u001b[0m\u001b[1;36mCloudine…\u001b[0m\u001b[1;36m \u001b[0m┃\u001b[1;36m \u001b[0m\u001b[1;36mHumidity\u001b[0m\u001b[1;36m \u001b[0m┃\u001b[1;36m \u001b[0m\u001b[1;36mMaximum_…\u001b[0m\u001b[1;36m \u001b[0m┃\u001b[1;36m \u001b[0m\u001b[1;36mMaximum…\u001b[0m\u001b[1;36m \u001b[0m┃\u001b[1;36m \u001b[0m\u001b[1;36mWind_Spe…\u001b[0m\u001b[1;36m \u001b[0m┃\u001b[1;36m \u001b[0m\u001b[1;36m  Lat   \u001b[0m\u001b[1;36m \u001b[0m┃\u001b[1;36m \u001b[0m\u001b[1;36m  Lng   \u001b[0m\u001b[1;36m \u001b[0m┃\n",
       "┡━━━━━━━━━━━╇━━━━━━━━━╇━━━━━━━━━━━╇━━━━━━━━━━━╇━━━━━━━━━━╇━━━━━━━━━━━╇━━━━━━━━━━╇━━━━━━━━━━━╇━━━━━━━━━━╇━━━━━━━━━━┩\n",
       "│\u001b[1;2;35m \u001b[0m\u001b[1;2;35m2025-01-…\u001b[0m\u001b[1;2;35m \u001b[0m│\u001b[1;2;35m \u001b[0m\u001b[1;2;35m  PT   \u001b[0m\u001b[1;2;35m \u001b[0m│\u001b[1;2;35m \u001b[0m\u001b[1;2;35m Rabo De \u001b[0m\u001b[1;2;35m \u001b[0m│\u001b[1;2;35m \u001b[0m\u001b[1;2;35m   75    \u001b[0m\u001b[1;2;35m \u001b[0m│\u001b[1;2;35m \u001b[0m\u001b[1;2;35m   88   \u001b[0m\u001b[1;2;35m \u001b[0m│\u001b[1;2;35m \u001b[0m\u001b[1;2;35m  17.73  \u001b[0m\u001b[1;2;35m \u001b[0m│\u001b[1;2;35m \u001b[0m\u001b[1;2;35m 63.914 \u001b[0m\u001b[1;2;35m \u001b[0m│\u001b[1;2;35m \u001b[0m\u001b[1;2;35m  8.23   \u001b[0m\u001b[1;2;35m \u001b[0m│\u001b[1;2;35m \u001b[0m\u001b[1;2;35m  37.8  \u001b[0m\u001b[1;2;35m \u001b[0m│\u001b[1;2;35m \u001b[0m\u001b[1;2;35m-25.5833\u001b[0m\u001b[1;2;35m \u001b[0m│\n",
       "│\u001b[1;2;35m           \u001b[0m│\u001b[1;2;35m         \u001b[0m│\u001b[1;2;35m \u001b[0m\u001b[1;2;35m  Peixe  \u001b[0m\u001b[1;2;35m \u001b[0m│\u001b[1;2;35m           \u001b[0m│\u001b[1;2;35m          \u001b[0m│\u001b[1;2;35m           \u001b[0m│\u001b[1;2;35m          \u001b[0m│\u001b[1;2;35m           \u001b[0m│\u001b[1;2;35m          \u001b[0m│\u001b[1;2;35m          \u001b[0m│\n",
       "├───────────┼─────────┼───────────┼───────────┼──────────┼───────────┼──────────┼───────────┼──────────┼──────────┤\n",
       "│\u001b[1;35m \u001b[0m\u001b[1;35m2025-01-…\u001b[0m\u001b[1;35m \u001b[0m│\u001b[1;35m \u001b[0m\u001b[1;35m  NZ   \u001b[0m\u001b[1;35m \u001b[0m│\u001b[1;35m \u001b[0m\u001b[1;35mWaitangi \u001b[0m\u001b[1;35m \u001b[0m│\u001b[1;35m \u001b[0m\u001b[1;35m   28    \u001b[0m\u001b[1;35m \u001b[0m│\u001b[1;35m \u001b[0m\u001b[1;35m   73   \u001b[0m\u001b[1;35m \u001b[0m│\u001b[1;35m \u001b[0m\u001b[1;35m  15.46  \u001b[0m\u001b[1;35m \u001b[0m│\u001b[1;35m \u001b[0m\u001b[1;35m 59.828 \u001b[0m\u001b[1;35m \u001b[0m│\u001b[1;35m \u001b[0m\u001b[1;35m  5.81   \u001b[0m\u001b[1;35m \u001b[0m│\u001b[1;35m \u001b[0m\u001b[1;35m-43.9535\u001b[0m\u001b[1;35m \u001b[0m│\u001b[1;35m \u001b[0m\u001b[1;35m-176.55…\u001b[0m\u001b[1;35m \u001b[0m│\n",
       "├───────────┼─────────┼───────────┼───────────┼──────────┼───────────┼──────────┼───────────┼──────────┼──────────┤\n",
       "│\u001b[1;2;35m \u001b[0m\u001b[1;2;35m2025-01-…\u001b[0m\u001b[1;2;35m \u001b[0m│\u001b[1;2;35m \u001b[0m\u001b[1;2;35m  SH   \u001b[0m\u001b[1;2;35m \u001b[0m│\u001b[1;2;35m \u001b[0m\u001b[1;2;35mEdinburgh\u001b[0m\u001b[1;2;35m \u001b[0m│\u001b[1;2;35m \u001b[0m\u001b[1;2;35m   83    \u001b[0m\u001b[1;2;35m \u001b[0m│\u001b[1;2;35m \u001b[0m\u001b[1;2;35m   98   \u001b[0m\u001b[1;2;35m \u001b[0m│\u001b[1;2;35m \u001b[0m\u001b[1;2;35m  17.66  \u001b[0m\u001b[1;2;35m \u001b[0m│\u001b[1;2;35m \u001b[0m\u001b[1;2;35m 63.788 \u001b[0m\u001b[1;2;35m \u001b[0m│\u001b[1;2;35m \u001b[0m\u001b[1;2;35m  5.26   \u001b[0m\u001b[1;2;35m \u001b[0m│\u001b[1;2;35m \u001b[0m\u001b[1;2;35m-37.0676\u001b[0m\u001b[1;2;35m \u001b[0m│\u001b[1;2;35m \u001b[0m\u001b[1;2;35m-12.3116\u001b[0m\u001b[1;2;35m \u001b[0m│\n",
       "│\u001b[1;2;35m           \u001b[0m│\u001b[1;2;35m         \u001b[0m│\u001b[1;2;35m \u001b[0m\u001b[1;2;35m Of The  \u001b[0m\u001b[1;2;35m \u001b[0m│\u001b[1;2;35m           \u001b[0m│\u001b[1;2;35m          \u001b[0m│\u001b[1;2;35m           \u001b[0m│\u001b[1;2;35m          \u001b[0m│\u001b[1;2;35m           \u001b[0m│\u001b[1;2;35m          \u001b[0m│\u001b[1;2;35m          \u001b[0m│\n",
       "│\u001b[1;2;35m           \u001b[0m│\u001b[1;2;35m         \u001b[0m│\u001b[1;2;35m \u001b[0m\u001b[1;2;35m  Seven  \u001b[0m\u001b[1;2;35m \u001b[0m│\u001b[1;2;35m           \u001b[0m│\u001b[1;2;35m          \u001b[0m│\u001b[1;2;35m           \u001b[0m│\u001b[1;2;35m          \u001b[0m│\u001b[1;2;35m           \u001b[0m│\u001b[1;2;35m          \u001b[0m│\u001b[1;2;35m          \u001b[0m│\n",
       "│\u001b[1;2;35m           \u001b[0m│\u001b[1;2;35m         \u001b[0m│\u001b[1;2;35m \u001b[0m\u001b[1;2;35m  Seas   \u001b[0m\u001b[1;2;35m \u001b[0m│\u001b[1;2;35m           \u001b[0m│\u001b[1;2;35m          \u001b[0m│\u001b[1;2;35m           \u001b[0m│\u001b[1;2;35m          \u001b[0m│\u001b[1;2;35m           \u001b[0m│\u001b[1;2;35m          \u001b[0m│\u001b[1;2;35m          \u001b[0m│\n",
       "├───────────┼─────────┼───────────┼───────────┼──────────┼───────────┼──────────┼───────────┼──────────┼──────────┤\n",
       "│\u001b[1;35m \u001b[0m\u001b[1;35m2025-01-…\u001b[0m\u001b[1;35m \u001b[0m│\u001b[1;35m \u001b[0m\u001b[1;35m  CV   \u001b[0m\u001b[1;35m \u001b[0m│\u001b[1;35m \u001b[0m\u001b[1;35m  Nova   \u001b[0m\u001b[1;35m \u001b[0m│\u001b[1;35m \u001b[0m\u001b[1;35m    0    \u001b[0m\u001b[1;35m \u001b[0m│\u001b[1;35m \u001b[0m\u001b[1;35m   71   \u001b[0m\u001b[1;35m \u001b[0m│\u001b[1;35m \u001b[0m\u001b[1;35m  23.58  \u001b[0m\u001b[1;35m \u001b[0m│\u001b[1;35m \u001b[0m\u001b[1;35m74.4439…\u001b[0m\u001b[1;35m \u001b[0m│\u001b[1;35m \u001b[0m\u001b[1;35m  8.26   \u001b[0m\u001b[1;35m \u001b[0m│\u001b[1;35m \u001b[0m\u001b[1;35m14.8667 \u001b[0m\u001b[1;35m \u001b[0m│\u001b[1;35m \u001b[0m\u001b[1;35m-24.7167\u001b[0m\u001b[1;35m \u001b[0m│\n",
       "│\u001b[1;35m           \u001b[0m│\u001b[1;35m         \u001b[0m│\u001b[1;35m \u001b[0m\u001b[1;35m Sintra  \u001b[0m\u001b[1;35m \u001b[0m│\u001b[1;35m           \u001b[0m│\u001b[1;35m          \u001b[0m│\u001b[1;35m           \u001b[0m│\u001b[1;35m          \u001b[0m│\u001b[1;35m           \u001b[0m│\u001b[1;35m          \u001b[0m│\u001b[1;35m          \u001b[0m│\n",
       "├───────────┼─────────┼───────────┼───────────┼──────────┼───────────┼──────────┼───────────┼──────────┼──────────┤\n",
       "│\u001b[1;2;35m \u001b[0m\u001b[1;2;35m2025-01-…\u001b[0m\u001b[1;2;35m \u001b[0m│\u001b[1;2;35m \u001b[0m\u001b[1;2;35m  CN   \u001b[0m\u001b[1;2;35m \u001b[0m│\u001b[1;2;35m \u001b[0m\u001b[1;2;35mLinqiong \u001b[0m\u001b[1;2;35m \u001b[0m│\u001b[1;2;35m \u001b[0m\u001b[1;2;35m   83    \u001b[0m\u001b[1;2;35m \u001b[0m│\u001b[1;2;35m \u001b[0m\u001b[1;2;35m   77   \u001b[0m\u001b[1;2;35m \u001b[0m│\u001b[1;2;35m \u001b[0m\u001b[1;2;35m  5.61   \u001b[0m\u001b[1;2;35m \u001b[0m│\u001b[1;2;35m \u001b[0m\u001b[1;2;35m 42.098 \u001b[0m\u001b[1;2;35m \u001b[0m│\u001b[1;2;35m \u001b[0m\u001b[1;2;35m  0.36   \u001b[0m\u001b[1;2;35m \u001b[0m│\u001b[1;2;35m \u001b[0m\u001b[1;2;35m30.4159 \u001b[0m\u001b[1;2;35m \u001b[0m│\u001b[1;2;35m \u001b[0m\u001b[1;2;35m103.4609\u001b[0m\u001b[1;2;35m \u001b[0m│\n",
       "├───────────┼─────────┼───────────┼───────────┼──────────┼───────────┼──────────┼───────────┼──────────┼──────────┤\n",
       "│\u001b[1;35m \u001b[0m\u001b[1;35m2025-01-…\u001b[0m\u001b[1;35m \u001b[0m│\u001b[1;35m \u001b[0m\u001b[1;35m  CA   \u001b[0m\u001b[1;35m \u001b[0m│\u001b[1;35m \u001b[0m\u001b[1;35mYellowkn…\u001b[0m\u001b[1;35m \u001b[0m│\u001b[1;35m \u001b[0m\u001b[1;35m   100   \u001b[0m\u001b[1;35m \u001b[0m│\u001b[1;35m \u001b[0m\u001b[1;35m   92   \u001b[0m\u001b[1;35m \u001b[0m│\u001b[1;35m \u001b[0m\u001b[1;35m -15.71  \u001b[0m\u001b[1;35m \u001b[0m│\u001b[1;35m \u001b[0m\u001b[1;35m3.72199…\u001b[0m\u001b[1;35m \u001b[0m│\u001b[1;35m \u001b[0m\u001b[1;35m  8.75   \u001b[0m\u001b[1;35m \u001b[0m│\u001b[1;35m \u001b[0m\u001b[1;35m 62.456 \u001b[0m\u001b[1;35m \u001b[0m│\u001b[1;35m \u001b[0m\u001b[1;35m-114.35…\u001b[0m\u001b[1;35m \u001b[0m│\n",
       "├───────────┼─────────┼───────────┼───────────┼──────────┼───────────┼──────────┼───────────┼──────────┼──────────┤\n",
       "│\u001b[1;2;35m \u001b[0m\u001b[1;2;35m2025-01-…\u001b[0m\u001b[1;2;35m \u001b[0m│\u001b[1;2;35m \u001b[0m\u001b[1;2;35m  US   \u001b[0m\u001b[1;2;35m \u001b[0m│\u001b[1;2;35m \u001b[0m\u001b[1;2;35mBurlingt…\u001b[0m\u001b[1;2;35m \u001b[0m│\u001b[1;2;35m \u001b[0m\u001b[1;2;35m   75    \u001b[0m\u001b[1;2;35m \u001b[0m│\u001b[1;2;35m \u001b[0m\u001b[1;2;35m   44   \u001b[0m\u001b[1;2;35m \u001b[0m│\u001b[1;2;35m \u001b[0m\u001b[1;2;35m  -0.58  \u001b[0m\u001b[1;2;35m \u001b[0m│\u001b[1;2;35m \u001b[0m\u001b[1;2;35m 30.956 \u001b[0m\u001b[1;2;35m \u001b[0m│\u001b[1;2;35m \u001b[0m\u001b[1;2;35m  6.69   \u001b[0m\u001b[1;2;35m \u001b[0m│\u001b[1;2;35m \u001b[0m\u001b[1;2;35m39.8835 \u001b[0m\u001b[1;2;35m \u001b[0m│\u001b[1;2;35m \u001b[0m\u001b[1;2;35m-74.6413\u001b[0m\u001b[1;2;35m \u001b[0m│\n",
       "├───────────┼─────────┼───────────┼───────────┼──────────┼───────────┼──────────┼───────────┼──────────┼──────────┤\n",
       "│\u001b[1;35m \u001b[0m\u001b[1;35m2025-01-…\u001b[0m\u001b[1;35m \u001b[0m│\u001b[1;35m \u001b[0m\u001b[1;35m  AR   \u001b[0m\u001b[1;35m \u001b[0m│\u001b[1;35m \u001b[0m\u001b[1;35m Ushuaia \u001b[0m\u001b[1;35m \u001b[0m│\u001b[1;35m \u001b[0m\u001b[1;35m   75    \u001b[0m\u001b[1;35m \u001b[0m│\u001b[1;35m \u001b[0m\u001b[1;35m   55   \u001b[0m\u001b[1;35m \u001b[0m│\u001b[1;35m \u001b[0m\u001b[1;35m  14.81  \u001b[0m\u001b[1;35m \u001b[0m│\u001b[1;35m \u001b[0m\u001b[1;35m 58.658 \u001b[0m\u001b[1;35m \u001b[0m│\u001b[1;35m \u001b[0m\u001b[1;35m  3.09   \u001b[0m\u001b[1;35m \u001b[0m│\u001b[1;35m \u001b[0m\u001b[1;35m -54.8  \u001b[0m\u001b[1;35m \u001b[0m│\u001b[1;35m \u001b[0m\u001b[1;35m -68.3  \u001b[0m\u001b[1;35m \u001b[0m│\n",
       "├───────────┼─────────┼───────────┼───────────┼──────────┼───────────┼──────────┼───────────┼──────────┼──────────┤\n",
       "│\u001b[1;2;35m \u001b[0m\u001b[1;2;35m2025-01-…\u001b[0m\u001b[1;2;35m \u001b[0m│\u001b[1;2;35m \u001b[0m\u001b[1;2;35m  CA   \u001b[0m\u001b[1;2;35m \u001b[0m│\u001b[1;2;35m \u001b[0m\u001b[1;2;35mSaskatoon\u001b[0m\u001b[1;2;35m \u001b[0m│\u001b[1;2;35m \u001b[0m\u001b[1;2;35m   40    \u001b[0m\u001b[1;2;35m \u001b[0m│\u001b[1;2;35m \u001b[0m\u001b[1;2;35m   80   \u001b[0m\u001b[1;2;35m \u001b[0m│\u001b[1;2;35m \u001b[0m\u001b[1;2;35m  -0.01  \u001b[0m\u001b[1;2;35m \u001b[0m│\u001b[1;2;35m \u001b[0m\u001b[1;2;35m 31.982 \u001b[0m\u001b[1;2;35m \u001b[0m│\u001b[1;2;35m \u001b[0m\u001b[1;2;35m   7.2   \u001b[0m\u001b[1;2;35m \u001b[0m│\u001b[1;2;35m \u001b[0m\u001b[1;2;35m52.1168 \u001b[0m\u001b[1;2;35m \u001b[0m│\u001b[1;2;35m \u001b[0m\u001b[1;2;35m-106.63…\u001b[0m\u001b[1;2;35m \u001b[0m│\n",
       "├───────────┼─────────┼───────────┼───────────┼──────────┼───────────┼──────────┼───────────┼──────────┼──────────┤\n",
       "│\u001b[1;35m \u001b[0m\u001b[1;35m2025-01-…\u001b[0m\u001b[1;35m \u001b[0m│\u001b[1;35m \u001b[0m\u001b[1;35m  ZA   \u001b[0m\u001b[1;35m \u001b[0m│\u001b[1;35m \u001b[0m\u001b[1;35mBredasdo…\u001b[0m\u001b[1;35m \u001b[0m│\u001b[1;35m \u001b[0m\u001b[1;35m    0    \u001b[0m\u001b[1;35m \u001b[0m│\u001b[1;35m \u001b[0m\u001b[1;35m   80   \u001b[0m\u001b[1;35m \u001b[0m│\u001b[1;35m \u001b[0m\u001b[1;35m  17.82  \u001b[0m\u001b[1;35m \u001b[0m│\u001b[1;35m \u001b[0m\u001b[1;35m 64.076 \u001b[0m\u001b[1;35m \u001b[0m│\u001b[1;35m \u001b[0m\u001b[1;35m  1.46   \u001b[0m\u001b[1;35m \u001b[0m│\u001b[1;35m \u001b[0m\u001b[1;35m-34.5322\u001b[0m\u001b[1;35m \u001b[0m│\u001b[1;35m \u001b[0m\u001b[1;35m20.0403 \u001b[0m\u001b[1;35m \u001b[0m│\n",
       "└───────────┴─────────┴───────────┴───────────┴──────────┴───────────┴──────────┴───────────┴──────────┴──────────┘\n"
      ]
     },
     "metadata": {},
     "output_type": "display_data"
    }
   ],
   "source": [
    "# Transform Maximum_Temperature to Fahrenheit\n",
    "city_data_df['Maximum_Temperature_F'] = city_data_df['Maximum_Temperature'] * 9/5 + 32\n",
    "\n",
    "# Define the desired column order, including the new Fahrenheit column\n",
    "desired_order = ['Date', 'Country', 'City', 'Cloudiness', 'Humidity', \n",
    "                 'Maximum_Temperature', 'Maximum_Temperature_F', 'Wind_Speed_kmh', 'Lat', 'Lng']\n",
    "\n",
    "# Reorder the DataFrame\n",
    "city_data_df = city_data_df[desired_order]\n",
    "\n",
    "# Create a rich Console object\n",
    "console = Console()\n",
    "\n",
    "# Create a rich Table object with a title and enhanced styles\n",
    "table = Table(title=\"City Weather Data (With Fahrenheit)\", show_header=True, header_style=\"bold cyan\", show_lines=True)\n",
    "\n",
    "# Add columns dynamically based on the reordered DataFrame\n",
    "for column in city_data_df.columns:\n",
    "    table.add_column(column, style=\"bold magenta\", justify=\"center\")\n",
    "\n",
    "# Add rows from the reordered DataFrame (only the first 10 rows)\n",
    "for idx, row in city_data_df.head(10).iterrows():\n",
    "    # Apply alternating row styles\n",
    "    if idx % 2 == 0:\n",
    "        table.add_row(*[str(value) for value in row], style=\"dim\")\n",
    "    else:\n",
    "        table.add_row(*[str(value) for value in row])\n",
    "\n",
    "# Print the table with rich formatting\n",
    "console.print(table)"
   ]
  },
  {
   "cell_type": "code",
   "execution_count": 26,
   "id": "a3ded9fd-0d86-480c-9f4a-b2ab56679177",
   "metadata": {},
   "outputs": [
    {
     "data": {
      "text/html": [
       "<pre style=\"white-space:pre;overflow-x:auto;line-height:normal;font-family:Menlo,'DejaVu Sans Mono',consolas,'Courier New',monospace\"><span style=\"font-style: italic\">                                     City Weather Data (Alphabetically Sorted)                                     </span>\n",
       "┏━━━━━━━━━━━┳━━━━━━━━━┳━━━━━━━━━━━┳━━━━━━━━━━━┳━━━━━━━━━━┳━━━━━━━━━━━┳━━━━━━━━━━━┳━━━━━━━━━━━┳━━━━━━━━━┳━━━━━━━━━━┓\n",
       "┃<span style=\"color: #008080; text-decoration-color: #008080; font-weight: bold\">   Date    </span>┃<span style=\"color: #008080; text-decoration-color: #008080; font-weight: bold\"> Country </span>┃<span style=\"color: #008080; text-decoration-color: #008080; font-weight: bold\">   City    </span>┃<span style=\"color: #008080; text-decoration-color: #008080; font-weight: bold\"> Cloudine… </span>┃<span style=\"color: #008080; text-decoration-color: #008080; font-weight: bold\"> Humidity </span>┃<span style=\"color: #008080; text-decoration-color: #008080; font-weight: bold\"> Maximum_… </span>┃<span style=\"color: #008080; text-decoration-color: #008080; font-weight: bold\"> Maximum_… </span>┃<span style=\"color: #008080; text-decoration-color: #008080; font-weight: bold\"> Wind_Spe… </span>┃<span style=\"color: #008080; text-decoration-color: #008080; font-weight: bold\">   Lat   </span>┃<span style=\"color: #008080; text-decoration-color: #008080; font-weight: bold\">   Lng    </span>┃\n",
       "┡━━━━━━━━━━━╇━━━━━━━━━╇━━━━━━━━━━━╇━━━━━━━━━━━╇━━━━━━━━━━╇━━━━━━━━━━━╇━━━━━━━━━━━╇━━━━━━━━━━━╇━━━━━━━━━╇━━━━━━━━━━┩\n",
       "│<span style=\"color: #800080; text-decoration-color: #800080; font-weight: bold\"> 2025-01-… </span>│<span style=\"color: #800080; text-decoration-color: #800080; font-weight: bold\">   AF    </span>│<span style=\"color: #800080; text-decoration-color: #800080; font-weight: bold\"> 'Alaqahd… </span>│<span style=\"color: #800080; text-decoration-color: #800080; font-weight: bold\">    23     </span>│<span style=\"color: #800080; text-decoration-color: #800080; font-weight: bold\">    53    </span>│<span style=\"color: #800080; text-decoration-color: #800080; font-weight: bold\">   7.02    </span>│<span style=\"color: #800080; text-decoration-color: #800080; font-weight: bold\"> 44.63599… </span>│<span style=\"color: #800080; text-decoration-color: #800080; font-weight: bold\">   2.09    </span>│<span style=\"color: #800080; text-decoration-color: #800080; font-weight: bold\"> 30.4374 </span>│<span style=\"color: #800080; text-decoration-color: #800080; font-weight: bold\">  63.313  </span>│\n",
       "│<span style=\"color: #800080; text-decoration-color: #800080; font-weight: bold\">           </span>│<span style=\"color: #800080; text-decoration-color: #800080; font-weight: bold\">         </span>│<span style=\"color: #800080; text-decoration-color: #800080; font-weight: bold\">   Dishu   </span>│<span style=\"color: #800080; text-decoration-color: #800080; font-weight: bold\">           </span>│<span style=\"color: #800080; text-decoration-color: #800080; font-weight: bold\">          </span>│<span style=\"color: #800080; text-decoration-color: #800080; font-weight: bold\">           </span>│<span style=\"color: #800080; text-decoration-color: #800080; font-weight: bold\">           </span>│<span style=\"color: #800080; text-decoration-color: #800080; font-weight: bold\">           </span>│<span style=\"color: #800080; text-decoration-color: #800080; font-weight: bold\">         </span>│<span style=\"color: #800080; text-decoration-color: #800080; font-weight: bold\">          </span>│\n",
       "├───────────┼─────────┼───────────┼───────────┼──────────┼───────────┼───────────┼───────────┼─────────┼──────────┤\n",
       "│<span style=\"color: #800080; text-decoration-color: #800080; font-weight: bold\"> 2025-01-… </span>│<span style=\"color: #800080; text-decoration-color: #800080; font-weight: bold\">   GL    </span>│<span style=\"color: #800080; text-decoration-color: #800080; font-weight: bold\">  Aasiaat  </span>│<span style=\"color: #800080; text-decoration-color: #800080; font-weight: bold\">    100    </span>│<span style=\"color: #800080; text-decoration-color: #800080; font-weight: bold\">    95    </span>│<span style=\"color: #800080; text-decoration-color: #800080; font-weight: bold\">   -6.33   </span>│<span style=\"color: #800080; text-decoration-color: #800080; font-weight: bold\">  20.606   </span>│<span style=\"color: #800080; text-decoration-color: #800080; font-weight: bold\">   4.48    </span>│<span style=\"color: #800080; text-decoration-color: #800080; font-weight: bold\"> 68.7098 </span>│<span style=\"color: #800080; text-decoration-color: #800080; font-weight: bold\"> -52.8699 </span>│\n",
       "├───────────┼─────────┼───────────┼───────────┼──────────┼───────────┼───────────┼───────────┼─────────┼──────────┤\n",
       "│<span style=\"color: #bf7fbf; text-decoration-color: #bf7fbf; font-weight: bold\"> 2025-01-… </span>│<span style=\"color: #bf7fbf; text-decoration-color: #bf7fbf; font-weight: bold\">   MX    </span>│<span style=\"color: #bf7fbf; text-decoration-color: #bf7fbf; font-weight: bold\"> Acapulco  </span>│<span style=\"color: #bf7fbf; text-decoration-color: #bf7fbf; font-weight: bold\">     0     </span>│<span style=\"color: #bf7fbf; text-decoration-color: #bf7fbf; font-weight: bold\">    61    </span>│<span style=\"color: #bf7fbf; text-decoration-color: #bf7fbf; font-weight: bold\">   26.52   </span>│<span style=\"color: #bf7fbf; text-decoration-color: #bf7fbf; font-weight: bold\">  79.736   </span>│<span style=\"color: #bf7fbf; text-decoration-color: #bf7fbf; font-weight: bold\">   4.35    </span>│<span style=\"color: #bf7fbf; text-decoration-color: #bf7fbf; font-weight: bold\"> 16.8634 </span>│<span style=\"color: #bf7fbf; text-decoration-color: #bf7fbf; font-weight: bold\"> -99.8901 </span>│\n",
       "│<span style=\"color: #bf7fbf; text-decoration-color: #bf7fbf; font-weight: bold\">           </span>│<span style=\"color: #bf7fbf; text-decoration-color: #bf7fbf; font-weight: bold\">         </span>│<span style=\"color: #bf7fbf; text-decoration-color: #bf7fbf; font-weight: bold\"> De Juarez </span>│<span style=\"color: #bf7fbf; text-decoration-color: #bf7fbf; font-weight: bold\">           </span>│<span style=\"color: #bf7fbf; text-decoration-color: #bf7fbf; font-weight: bold\">          </span>│<span style=\"color: #bf7fbf; text-decoration-color: #bf7fbf; font-weight: bold\">           </span>│<span style=\"color: #bf7fbf; text-decoration-color: #bf7fbf; font-weight: bold\">           </span>│<span style=\"color: #bf7fbf; text-decoration-color: #bf7fbf; font-weight: bold\">           </span>│<span style=\"color: #bf7fbf; text-decoration-color: #bf7fbf; font-weight: bold\">         </span>│<span style=\"color: #bf7fbf; text-decoration-color: #bf7fbf; font-weight: bold\">          </span>│\n",
       "├───────────┼─────────┼───────────┼───────────┼──────────┼───────────┼───────────┼───────────┼─────────┼──────────┤\n",
       "│<span style=\"color: #800080; text-decoration-color: #800080; font-weight: bold\"> 2025-01-… </span>│<span style=\"color: #800080; text-decoration-color: #800080; font-weight: bold\">   BR    </span>│<span style=\"color: #800080; text-decoration-color: #800080; font-weight: bold\">  Acarau   </span>│<span style=\"color: #800080; text-decoration-color: #800080; font-weight: bold\">    100    </span>│<span style=\"color: #800080; text-decoration-color: #800080; font-weight: bold\">    76    </span>│<span style=\"color: #800080; text-decoration-color: #800080; font-weight: bold\">   27.46   </span>│<span style=\"color: #800080; text-decoration-color: #800080; font-weight: bold\">  81.428   </span>│<span style=\"color: #800080; text-decoration-color: #800080; font-weight: bold\">   5.57    </span>│<span style=\"color: #800080; text-decoration-color: #800080; font-weight: bold\"> -2.8856 </span>│<span style=\"color: #800080; text-decoration-color: #800080; font-weight: bold\">  -40.12  </span>│\n",
       "├───────────┼─────────┼───────────┼───────────┼──────────┼───────────┼───────────┼───────────┼─────────┼──────────┤\n",
       "│<span style=\"color: #800080; text-decoration-color: #800080; font-weight: bold\"> 2025-01-… </span>│<span style=\"color: #800080; text-decoration-color: #800080; font-weight: bold\">   PN    </span>│<span style=\"color: #800080; text-decoration-color: #800080; font-weight: bold\"> Adamstown </span>│<span style=\"color: #800080; text-decoration-color: #800080; font-weight: bold\">    100    </span>│<span style=\"color: #800080; text-decoration-color: #800080; font-weight: bold\">    80    </span>│<span style=\"color: #800080; text-decoration-color: #800080; font-weight: bold\">   24.62   </span>│<span style=\"color: #800080; text-decoration-color: #800080; font-weight: bold\">  76.316   </span>│<span style=\"color: #800080; text-decoration-color: #800080; font-weight: bold\">   10.26   </span>│<span style=\"color: #800080; text-decoration-color: #800080; font-weight: bold\"> -25.066 </span>│<span style=\"color: #800080; text-decoration-color: #800080; font-weight: bold\"> -130.10… </span>│\n",
       "├───────────┼─────────┼───────────┼───────────┼──────────┼───────────┼───────────┼───────────┼─────────┼──────────┤\n",
       "│<span style=\"color: #bf7fbf; text-decoration-color: #bf7fbf; font-weight: bold\"> 2025-01-… </span>│<span style=\"color: #bf7fbf; text-decoration-color: #bf7fbf; font-weight: bold\">   PF    </span>│<span style=\"color: #bf7fbf; text-decoration-color: #bf7fbf; font-weight: bold\"> Afaahiti  </span>│<span style=\"color: #bf7fbf; text-decoration-color: #bf7fbf; font-weight: bold\">    66     </span>│<span style=\"color: #bf7fbf; text-decoration-color: #bf7fbf; font-weight: bold\">    75    </span>│<span style=\"color: #bf7fbf; text-decoration-color: #bf7fbf; font-weight: bold\">   26.5    </span>│<span style=\"color: #bf7fbf; text-decoration-color: #bf7fbf; font-weight: bold\">   79.7    </span>│<span style=\"color: #bf7fbf; text-decoration-color: #bf7fbf; font-weight: bold\">   5.31    </span>│<span style=\"color: #bf7fbf; text-decoration-color: #bf7fbf; font-weight: bold\"> -17.75  </span>│<span style=\"color: #bf7fbf; text-decoration-color: #bf7fbf; font-weight: bold\"> -149.28… </span>│\n",
       "├───────────┼─────────┼───────────┼───────────┼──────────┼───────────┼───────────┼───────────┼─────────┼──────────┤\n",
       "│<span style=\"color: #800080; text-decoration-color: #800080; font-weight: bold\"> 2025-01-… </span>│<span style=\"color: #800080; text-decoration-color: #800080; font-weight: bold\">   NE    </span>│<span style=\"color: #800080; text-decoration-color: #800080; font-weight: bold\">  Agadez   </span>│<span style=\"color: #800080; text-decoration-color: #800080; font-weight: bold\">     0     </span>│<span style=\"color: #800080; text-decoration-color: #800080; font-weight: bold\">    25    </span>│<span style=\"color: #800080; text-decoration-color: #800080; font-weight: bold\">   16.14   </span>│<span style=\"color: #800080; text-decoration-color: #800080; font-weight: bold\">  61.052   </span>│<span style=\"color: #800080; text-decoration-color: #800080; font-weight: bold\">   5.16    </span>│<span style=\"color: #800080; text-decoration-color: #800080; font-weight: bold\">  19.75  </span>│<span style=\"color: #800080; text-decoration-color: #800080; font-weight: bold\">  10.25   </span>│\n",
       "├───────────┼─────────┼───────────┼───────────┼──────────┼───────────┼───────────┼───────────┼─────────┼──────────┤\n",
       "│<span style=\"color: #bf7fbf; text-decoration-color: #bf7fbf; font-weight: bold\"> 2025-01-… </span>│<span style=\"color: #bf7fbf; text-decoration-color: #bf7fbf; font-weight: bold\">   GU    </span>│<span style=\"color: #bf7fbf; text-decoration-color: #bf7fbf; font-weight: bold\">   Agat    </span>│<span style=\"color: #bf7fbf; text-decoration-color: #bf7fbf; font-weight: bold\">    20     </span>│<span style=\"color: #bf7fbf; text-decoration-color: #bf7fbf; font-weight: bold\">    88    </span>│<span style=\"color: #bf7fbf; text-decoration-color: #bf7fbf; font-weight: bold\">   25.98   </span>│<span style=\"color: #bf7fbf; text-decoration-color: #bf7fbf; font-weight: bold\">  78.764   </span>│<span style=\"color: #bf7fbf; text-decoration-color: #bf7fbf; font-weight: bold\">   2.06    </span>│<span style=\"color: #bf7fbf; text-decoration-color: #bf7fbf; font-weight: bold\"> 13.3886 </span>│<span style=\"color: #bf7fbf; text-decoration-color: #bf7fbf; font-weight: bold\"> 144.6585 </span>│\n",
       "│<span style=\"color: #bf7fbf; text-decoration-color: #bf7fbf; font-weight: bold\">           </span>│<span style=\"color: #bf7fbf; text-decoration-color: #bf7fbf; font-weight: bold\">         </span>│<span style=\"color: #bf7fbf; text-decoration-color: #bf7fbf; font-weight: bold\">  Village  </span>│<span style=\"color: #bf7fbf; text-decoration-color: #bf7fbf; font-weight: bold\">           </span>│<span style=\"color: #bf7fbf; text-decoration-color: #bf7fbf; font-weight: bold\">          </span>│<span style=\"color: #bf7fbf; text-decoration-color: #bf7fbf; font-weight: bold\">           </span>│<span style=\"color: #bf7fbf; text-decoration-color: #bf7fbf; font-weight: bold\">           </span>│<span style=\"color: #bf7fbf; text-decoration-color: #bf7fbf; font-weight: bold\">           </span>│<span style=\"color: #bf7fbf; text-decoration-color: #bf7fbf; font-weight: bold\">         </span>│<span style=\"color: #bf7fbf; text-decoration-color: #bf7fbf; font-weight: bold\">          </span>│\n",
       "├───────────┼─────────┼───────────┼───────────┼──────────┼───────────┼───────────┼───────────┼─────────┼──────────┤\n",
       "│<span style=\"color: #800080; text-decoration-color: #800080; font-weight: bold\"> 2025-01-… </span>│<span style=\"color: #800080; text-decoration-color: #800080; font-weight: bold\">   RU    </span>│<span style=\"color: #800080; text-decoration-color: #800080; font-weight: bold\"> Aginskoye </span>│<span style=\"color: #800080; text-decoration-color: #800080; font-weight: bold\">    56     </span>│<span style=\"color: #800080; text-decoration-color: #800080; font-weight: bold\">    97    </span>│<span style=\"color: #800080; text-decoration-color: #800080; font-weight: bold\">  -25.19   </span>│<span style=\"color: #800080; text-decoration-color: #800080; font-weight: bold\"> -13.3419… </span>│<span style=\"color: #800080; text-decoration-color: #800080; font-weight: bold\">   2.69    </span>│<span style=\"color: #800080; text-decoration-color: #800080; font-weight: bold\">  51.1   </span>│<span style=\"color: #800080; text-decoration-color: #800080; font-weight: bold\">  114.53  </span>│\n",
       "├───────────┼─────────┼───────────┼───────────┼──────────┼───────────┼───────────┼───────────┼─────────┼──────────┤\n",
       "│<span style=\"color: #bf7fbf; text-decoration-color: #bf7fbf; font-weight: bold\"> 2025-01-… </span>│<span style=\"color: #bf7fbf; text-decoration-color: #bf7fbf; font-weight: bold\">   NO    </span>│<span style=\"color: #bf7fbf; text-decoration-color: #bf7fbf; font-weight: bold\"> Akrehamn  </span>│<span style=\"color: #bf7fbf; text-decoration-color: #bf7fbf; font-weight: bold\">    75     </span>│<span style=\"color: #bf7fbf; text-decoration-color: #bf7fbf; font-weight: bold\">    93    </span>│<span style=\"color: #bf7fbf; text-decoration-color: #bf7fbf; font-weight: bold\">   0.14    </span>│<span style=\"color: #bf7fbf; text-decoration-color: #bf7fbf; font-weight: bold\">  32.252   </span>│<span style=\"color: #bf7fbf; text-decoration-color: #bf7fbf; font-weight: bold\">   2.06    </span>│<span style=\"color: #bf7fbf; text-decoration-color: #bf7fbf; font-weight: bold\"> 59.2667 </span>│<span style=\"color: #bf7fbf; text-decoration-color: #bf7fbf; font-weight: bold\">  5.1833  </span>│\n",
       "└───────────┴─────────┴───────────┴───────────┴──────────┴───────────┴───────────┴───────────┴─────────┴──────────┘\n",
       "</pre>\n"
      ],
      "text/plain": [
       "\u001b[3m                                     City Weather Data (Alphabetically Sorted)                                     \u001b[0m\n",
       "┏━━━━━━━━━━━┳━━━━━━━━━┳━━━━━━━━━━━┳━━━━━━━━━━━┳━━━━━━━━━━┳━━━━━━━━━━━┳━━━━━━━━━━━┳━━━━━━━━━━━┳━━━━━━━━━┳━━━━━━━━━━┓\n",
       "┃\u001b[1;36m \u001b[0m\u001b[1;36m  Date   \u001b[0m\u001b[1;36m \u001b[0m┃\u001b[1;36m \u001b[0m\u001b[1;36mCountry\u001b[0m\u001b[1;36m \u001b[0m┃\u001b[1;36m \u001b[0m\u001b[1;36m  City   \u001b[0m\u001b[1;36m \u001b[0m┃\u001b[1;36m \u001b[0m\u001b[1;36mCloudine…\u001b[0m\u001b[1;36m \u001b[0m┃\u001b[1;36m \u001b[0m\u001b[1;36mHumidity\u001b[0m\u001b[1;36m \u001b[0m┃\u001b[1;36m \u001b[0m\u001b[1;36mMaximum_…\u001b[0m\u001b[1;36m \u001b[0m┃\u001b[1;36m \u001b[0m\u001b[1;36mMaximum_…\u001b[0m\u001b[1;36m \u001b[0m┃\u001b[1;36m \u001b[0m\u001b[1;36mWind_Spe…\u001b[0m\u001b[1;36m \u001b[0m┃\u001b[1;36m \u001b[0m\u001b[1;36m  Lat  \u001b[0m\u001b[1;36m \u001b[0m┃\u001b[1;36m \u001b[0m\u001b[1;36m  Lng   \u001b[0m\u001b[1;36m \u001b[0m┃\n",
       "┡━━━━━━━━━━━╇━━━━━━━━━╇━━━━━━━━━━━╇━━━━━━━━━━━╇━━━━━━━━━━╇━━━━━━━━━━━╇━━━━━━━━━━━╇━━━━━━━━━━━╇━━━━━━━━━╇━━━━━━━━━━┩\n",
       "│\u001b[1;35m \u001b[0m\u001b[1;35m2025-01-…\u001b[0m\u001b[1;35m \u001b[0m│\u001b[1;35m \u001b[0m\u001b[1;35m  AF   \u001b[0m\u001b[1;35m \u001b[0m│\u001b[1;35m \u001b[0m\u001b[1;35m'Alaqahd…\u001b[0m\u001b[1;35m \u001b[0m│\u001b[1;35m \u001b[0m\u001b[1;35m   23    \u001b[0m\u001b[1;35m \u001b[0m│\u001b[1;35m \u001b[0m\u001b[1;35m   53   \u001b[0m\u001b[1;35m \u001b[0m│\u001b[1;35m \u001b[0m\u001b[1;35m  7.02   \u001b[0m\u001b[1;35m \u001b[0m│\u001b[1;35m \u001b[0m\u001b[1;35m44.63599…\u001b[0m\u001b[1;35m \u001b[0m│\u001b[1;35m \u001b[0m\u001b[1;35m  2.09   \u001b[0m\u001b[1;35m \u001b[0m│\u001b[1;35m \u001b[0m\u001b[1;35m30.4374\u001b[0m\u001b[1;35m \u001b[0m│\u001b[1;35m \u001b[0m\u001b[1;35m 63.313 \u001b[0m\u001b[1;35m \u001b[0m│\n",
       "│\u001b[1;35m           \u001b[0m│\u001b[1;35m         \u001b[0m│\u001b[1;35m \u001b[0m\u001b[1;35m  Dishu  \u001b[0m\u001b[1;35m \u001b[0m│\u001b[1;35m           \u001b[0m│\u001b[1;35m          \u001b[0m│\u001b[1;35m           \u001b[0m│\u001b[1;35m           \u001b[0m│\u001b[1;35m           \u001b[0m│\u001b[1;35m         \u001b[0m│\u001b[1;35m          \u001b[0m│\n",
       "├───────────┼─────────┼───────────┼───────────┼──────────┼───────────┼───────────┼───────────┼─────────┼──────────┤\n",
       "│\u001b[1;35m \u001b[0m\u001b[1;35m2025-01-…\u001b[0m\u001b[1;35m \u001b[0m│\u001b[1;35m \u001b[0m\u001b[1;35m  GL   \u001b[0m\u001b[1;35m \u001b[0m│\u001b[1;35m \u001b[0m\u001b[1;35m Aasiaat \u001b[0m\u001b[1;35m \u001b[0m│\u001b[1;35m \u001b[0m\u001b[1;35m   100   \u001b[0m\u001b[1;35m \u001b[0m│\u001b[1;35m \u001b[0m\u001b[1;35m   95   \u001b[0m\u001b[1;35m \u001b[0m│\u001b[1;35m \u001b[0m\u001b[1;35m  -6.33  \u001b[0m\u001b[1;35m \u001b[0m│\u001b[1;35m \u001b[0m\u001b[1;35m 20.606  \u001b[0m\u001b[1;35m \u001b[0m│\u001b[1;35m \u001b[0m\u001b[1;35m  4.48   \u001b[0m\u001b[1;35m \u001b[0m│\u001b[1;35m \u001b[0m\u001b[1;35m68.7098\u001b[0m\u001b[1;35m \u001b[0m│\u001b[1;35m \u001b[0m\u001b[1;35m-52.8699\u001b[0m\u001b[1;35m \u001b[0m│\n",
       "├───────────┼─────────┼───────────┼───────────┼──────────┼───────────┼───────────┼───────────┼─────────┼──────────┤\n",
       "│\u001b[1;2;35m \u001b[0m\u001b[1;2;35m2025-01-…\u001b[0m\u001b[1;2;35m \u001b[0m│\u001b[1;2;35m \u001b[0m\u001b[1;2;35m  MX   \u001b[0m\u001b[1;2;35m \u001b[0m│\u001b[1;2;35m \u001b[0m\u001b[1;2;35mAcapulco \u001b[0m\u001b[1;2;35m \u001b[0m│\u001b[1;2;35m \u001b[0m\u001b[1;2;35m    0    \u001b[0m\u001b[1;2;35m \u001b[0m│\u001b[1;2;35m \u001b[0m\u001b[1;2;35m   61   \u001b[0m\u001b[1;2;35m \u001b[0m│\u001b[1;2;35m \u001b[0m\u001b[1;2;35m  26.52  \u001b[0m\u001b[1;2;35m \u001b[0m│\u001b[1;2;35m \u001b[0m\u001b[1;2;35m 79.736  \u001b[0m\u001b[1;2;35m \u001b[0m│\u001b[1;2;35m \u001b[0m\u001b[1;2;35m  4.35   \u001b[0m\u001b[1;2;35m \u001b[0m│\u001b[1;2;35m \u001b[0m\u001b[1;2;35m16.8634\u001b[0m\u001b[1;2;35m \u001b[0m│\u001b[1;2;35m \u001b[0m\u001b[1;2;35m-99.8901\u001b[0m\u001b[1;2;35m \u001b[0m│\n",
       "│\u001b[1;2;35m           \u001b[0m│\u001b[1;2;35m         \u001b[0m│\u001b[1;2;35m \u001b[0m\u001b[1;2;35mDe Juarez\u001b[0m\u001b[1;2;35m \u001b[0m│\u001b[1;2;35m           \u001b[0m│\u001b[1;2;35m          \u001b[0m│\u001b[1;2;35m           \u001b[0m│\u001b[1;2;35m           \u001b[0m│\u001b[1;2;35m           \u001b[0m│\u001b[1;2;35m         \u001b[0m│\u001b[1;2;35m          \u001b[0m│\n",
       "├───────────┼─────────┼───────────┼───────────┼──────────┼───────────┼───────────┼───────────┼─────────┼──────────┤\n",
       "│\u001b[1;35m \u001b[0m\u001b[1;35m2025-01-…\u001b[0m\u001b[1;35m \u001b[0m│\u001b[1;35m \u001b[0m\u001b[1;35m  BR   \u001b[0m\u001b[1;35m \u001b[0m│\u001b[1;35m \u001b[0m\u001b[1;35m Acarau  \u001b[0m\u001b[1;35m \u001b[0m│\u001b[1;35m \u001b[0m\u001b[1;35m   100   \u001b[0m\u001b[1;35m \u001b[0m│\u001b[1;35m \u001b[0m\u001b[1;35m   76   \u001b[0m\u001b[1;35m \u001b[0m│\u001b[1;35m \u001b[0m\u001b[1;35m  27.46  \u001b[0m\u001b[1;35m \u001b[0m│\u001b[1;35m \u001b[0m\u001b[1;35m 81.428  \u001b[0m\u001b[1;35m \u001b[0m│\u001b[1;35m \u001b[0m\u001b[1;35m  5.57   \u001b[0m\u001b[1;35m \u001b[0m│\u001b[1;35m \u001b[0m\u001b[1;35m-2.8856\u001b[0m\u001b[1;35m \u001b[0m│\u001b[1;35m \u001b[0m\u001b[1;35m -40.12 \u001b[0m\u001b[1;35m \u001b[0m│\n",
       "├───────────┼─────────┼───────────┼───────────┼──────────┼───────────┼───────────┼───────────┼─────────┼──────────┤\n",
       "│\u001b[1;35m \u001b[0m\u001b[1;35m2025-01-…\u001b[0m\u001b[1;35m \u001b[0m│\u001b[1;35m \u001b[0m\u001b[1;35m  PN   \u001b[0m\u001b[1;35m \u001b[0m│\u001b[1;35m \u001b[0m\u001b[1;35mAdamstown\u001b[0m\u001b[1;35m \u001b[0m│\u001b[1;35m \u001b[0m\u001b[1;35m   100   \u001b[0m\u001b[1;35m \u001b[0m│\u001b[1;35m \u001b[0m\u001b[1;35m   80   \u001b[0m\u001b[1;35m \u001b[0m│\u001b[1;35m \u001b[0m\u001b[1;35m  24.62  \u001b[0m\u001b[1;35m \u001b[0m│\u001b[1;35m \u001b[0m\u001b[1;35m 76.316  \u001b[0m\u001b[1;35m \u001b[0m│\u001b[1;35m \u001b[0m\u001b[1;35m  10.26  \u001b[0m\u001b[1;35m \u001b[0m│\u001b[1;35m \u001b[0m\u001b[1;35m-25.066\u001b[0m\u001b[1;35m \u001b[0m│\u001b[1;35m \u001b[0m\u001b[1;35m-130.10…\u001b[0m\u001b[1;35m \u001b[0m│\n",
       "├───────────┼─────────┼───────────┼───────────┼──────────┼───────────┼───────────┼───────────┼─────────┼──────────┤\n",
       "│\u001b[1;2;35m \u001b[0m\u001b[1;2;35m2025-01-…\u001b[0m\u001b[1;2;35m \u001b[0m│\u001b[1;2;35m \u001b[0m\u001b[1;2;35m  PF   \u001b[0m\u001b[1;2;35m \u001b[0m│\u001b[1;2;35m \u001b[0m\u001b[1;2;35mAfaahiti \u001b[0m\u001b[1;2;35m \u001b[0m│\u001b[1;2;35m \u001b[0m\u001b[1;2;35m   66    \u001b[0m\u001b[1;2;35m \u001b[0m│\u001b[1;2;35m \u001b[0m\u001b[1;2;35m   75   \u001b[0m\u001b[1;2;35m \u001b[0m│\u001b[1;2;35m \u001b[0m\u001b[1;2;35m  26.5   \u001b[0m\u001b[1;2;35m \u001b[0m│\u001b[1;2;35m \u001b[0m\u001b[1;2;35m  79.7   \u001b[0m\u001b[1;2;35m \u001b[0m│\u001b[1;2;35m \u001b[0m\u001b[1;2;35m  5.31   \u001b[0m\u001b[1;2;35m \u001b[0m│\u001b[1;2;35m \u001b[0m\u001b[1;2;35m-17.75 \u001b[0m\u001b[1;2;35m \u001b[0m│\u001b[1;2;35m \u001b[0m\u001b[1;2;35m-149.28…\u001b[0m\u001b[1;2;35m \u001b[0m│\n",
       "├───────────┼─────────┼───────────┼───────────┼──────────┼───────────┼───────────┼───────────┼─────────┼──────────┤\n",
       "│\u001b[1;35m \u001b[0m\u001b[1;35m2025-01-…\u001b[0m\u001b[1;35m \u001b[0m│\u001b[1;35m \u001b[0m\u001b[1;35m  NE   \u001b[0m\u001b[1;35m \u001b[0m│\u001b[1;35m \u001b[0m\u001b[1;35m Agadez  \u001b[0m\u001b[1;35m \u001b[0m│\u001b[1;35m \u001b[0m\u001b[1;35m    0    \u001b[0m\u001b[1;35m \u001b[0m│\u001b[1;35m \u001b[0m\u001b[1;35m   25   \u001b[0m\u001b[1;35m \u001b[0m│\u001b[1;35m \u001b[0m\u001b[1;35m  16.14  \u001b[0m\u001b[1;35m \u001b[0m│\u001b[1;35m \u001b[0m\u001b[1;35m 61.052  \u001b[0m\u001b[1;35m \u001b[0m│\u001b[1;35m \u001b[0m\u001b[1;35m  5.16   \u001b[0m\u001b[1;35m \u001b[0m│\u001b[1;35m \u001b[0m\u001b[1;35m 19.75 \u001b[0m\u001b[1;35m \u001b[0m│\u001b[1;35m \u001b[0m\u001b[1;35m 10.25  \u001b[0m\u001b[1;35m \u001b[0m│\n",
       "├───────────┼─────────┼───────────┼───────────┼──────────┼───────────┼───────────┼───────────┼─────────┼──────────┤\n",
       "│\u001b[1;2;35m \u001b[0m\u001b[1;2;35m2025-01-…\u001b[0m\u001b[1;2;35m \u001b[0m│\u001b[1;2;35m \u001b[0m\u001b[1;2;35m  GU   \u001b[0m\u001b[1;2;35m \u001b[0m│\u001b[1;2;35m \u001b[0m\u001b[1;2;35m  Agat   \u001b[0m\u001b[1;2;35m \u001b[0m│\u001b[1;2;35m \u001b[0m\u001b[1;2;35m   20    \u001b[0m\u001b[1;2;35m \u001b[0m│\u001b[1;2;35m \u001b[0m\u001b[1;2;35m   88   \u001b[0m\u001b[1;2;35m \u001b[0m│\u001b[1;2;35m \u001b[0m\u001b[1;2;35m  25.98  \u001b[0m\u001b[1;2;35m \u001b[0m│\u001b[1;2;35m \u001b[0m\u001b[1;2;35m 78.764  \u001b[0m\u001b[1;2;35m \u001b[0m│\u001b[1;2;35m \u001b[0m\u001b[1;2;35m  2.06   \u001b[0m\u001b[1;2;35m \u001b[0m│\u001b[1;2;35m \u001b[0m\u001b[1;2;35m13.3886\u001b[0m\u001b[1;2;35m \u001b[0m│\u001b[1;2;35m \u001b[0m\u001b[1;2;35m144.6585\u001b[0m\u001b[1;2;35m \u001b[0m│\n",
       "│\u001b[1;2;35m           \u001b[0m│\u001b[1;2;35m         \u001b[0m│\u001b[1;2;35m \u001b[0m\u001b[1;2;35m Village \u001b[0m\u001b[1;2;35m \u001b[0m│\u001b[1;2;35m           \u001b[0m│\u001b[1;2;35m          \u001b[0m│\u001b[1;2;35m           \u001b[0m│\u001b[1;2;35m           \u001b[0m│\u001b[1;2;35m           \u001b[0m│\u001b[1;2;35m         \u001b[0m│\u001b[1;2;35m          \u001b[0m│\n",
       "├───────────┼─────────┼───────────┼───────────┼──────────┼───────────┼───────────┼───────────┼─────────┼──────────┤\n",
       "│\u001b[1;35m \u001b[0m\u001b[1;35m2025-01-…\u001b[0m\u001b[1;35m \u001b[0m│\u001b[1;35m \u001b[0m\u001b[1;35m  RU   \u001b[0m\u001b[1;35m \u001b[0m│\u001b[1;35m \u001b[0m\u001b[1;35mAginskoye\u001b[0m\u001b[1;35m \u001b[0m│\u001b[1;35m \u001b[0m\u001b[1;35m   56    \u001b[0m\u001b[1;35m \u001b[0m│\u001b[1;35m \u001b[0m\u001b[1;35m   97   \u001b[0m\u001b[1;35m \u001b[0m│\u001b[1;35m \u001b[0m\u001b[1;35m -25.19  \u001b[0m\u001b[1;35m \u001b[0m│\u001b[1;35m \u001b[0m\u001b[1;35m-13.3419…\u001b[0m\u001b[1;35m \u001b[0m│\u001b[1;35m \u001b[0m\u001b[1;35m  2.69   \u001b[0m\u001b[1;35m \u001b[0m│\u001b[1;35m \u001b[0m\u001b[1;35m 51.1  \u001b[0m\u001b[1;35m \u001b[0m│\u001b[1;35m \u001b[0m\u001b[1;35m 114.53 \u001b[0m\u001b[1;35m \u001b[0m│\n",
       "├───────────┼─────────┼───────────┼───────────┼──────────┼───────────┼───────────┼───────────┼─────────┼──────────┤\n",
       "│\u001b[1;2;35m \u001b[0m\u001b[1;2;35m2025-01-…\u001b[0m\u001b[1;2;35m \u001b[0m│\u001b[1;2;35m \u001b[0m\u001b[1;2;35m  NO   \u001b[0m\u001b[1;2;35m \u001b[0m│\u001b[1;2;35m \u001b[0m\u001b[1;2;35mAkrehamn \u001b[0m\u001b[1;2;35m \u001b[0m│\u001b[1;2;35m \u001b[0m\u001b[1;2;35m   75    \u001b[0m\u001b[1;2;35m \u001b[0m│\u001b[1;2;35m \u001b[0m\u001b[1;2;35m   93   \u001b[0m\u001b[1;2;35m \u001b[0m│\u001b[1;2;35m \u001b[0m\u001b[1;2;35m  0.14   \u001b[0m\u001b[1;2;35m \u001b[0m│\u001b[1;2;35m \u001b[0m\u001b[1;2;35m 32.252  \u001b[0m\u001b[1;2;35m \u001b[0m│\u001b[1;2;35m \u001b[0m\u001b[1;2;35m  2.06   \u001b[0m\u001b[1;2;35m \u001b[0m│\u001b[1;2;35m \u001b[0m\u001b[1;2;35m59.2667\u001b[0m\u001b[1;2;35m \u001b[0m│\u001b[1;2;35m \u001b[0m\u001b[1;2;35m 5.1833 \u001b[0m\u001b[1;2;35m \u001b[0m│\n",
       "└───────────┴─────────┴───────────┴───────────┴──────────┴───────────┴───────────┴───────────┴─────────┴──────────┘\n"
      ]
     },
     "metadata": {},
     "output_type": "display_data"
    }
   ],
   "source": [
    "# Sort the DataFrame by the City column alphabetically\n",
    "city_data_df = city_data_df.sort_values(by='City')\n",
    "\n",
    "# Create a rich Console object\n",
    "console = Console()\n",
    "\n",
    "# Create a rich Table object with a title and enhanced styles\n",
    "table = Table(title=\"City Weather Data (Alphabetically Sorted)\", show_header=True, header_style=\"bold cyan\", show_lines=True)\n",
    "\n",
    "# Add columns dynamically based on the sorted DataFrame\n",
    "for column in city_data_df.columns:\n",
    "    table.add_column(column, style=\"bold magenta\", justify=\"center\")\n",
    "\n",
    "# Add rows from the sorted DataFrame (only the first 10 rows for brevity)\n",
    "for idx, row in city_data_df.head(10).iterrows():\n",
    "    # Apply alternating row styles\n",
    "    if idx % 2 == 0:\n",
    "        table.add_row(*[str(value) for value in row], style=\"dim\")\n",
    "    else:\n",
    "        table.add_row(*[str(value) for value in row])\n",
    "\n",
    "# Print the table with rich formatting\n",
    "console.print(table)"
   ]
  },
  {
   "cell_type": "code",
   "execution_count": 27,
   "id": "df996995-08b7-4b20-acd7-7417177c3504",
   "metadata": {
    "scrolled": true
   },
   "outputs": [
    {
     "data": {
      "text/html": [
       "<pre style=\"white-space:pre;overflow-x:auto;line-height:normal;font-family:Menlo,'DejaVu Sans Mono',consolas,'Courier New',monospace\"><span style=\"font-style: italic\">                                       City Weather Data (Sorted by Country)                                       </span>\n",
       "┏━━━━━━━━━━━┳━━━━━━━━━┳━━━━━━━━━━━┳━━━━━━━━━━━┳━━━━━━━━━━┳━━━━━━━━━━━┳━━━━━━━━━━━┳━━━━━━━━━━━┳━━━━━━━━━━┳━━━━━━━━━┓\n",
       "┃<span style=\"color: #008080; text-decoration-color: #008080; font-weight: bold\">   Date    </span>┃<span style=\"color: #008080; text-decoration-color: #008080; font-weight: bold\"> Country </span>┃<span style=\"color: #008080; text-decoration-color: #008080; font-weight: bold\">   City    </span>┃<span style=\"color: #008080; text-decoration-color: #008080; font-weight: bold\"> Cloudine… </span>┃<span style=\"color: #008080; text-decoration-color: #008080; font-weight: bold\"> Humidity </span>┃<span style=\"color: #008080; text-decoration-color: #008080; font-weight: bold\"> Maximum_… </span>┃<span style=\"color: #008080; text-decoration-color: #008080; font-weight: bold\"> Maximum_… </span>┃<span style=\"color: #008080; text-decoration-color: #008080; font-weight: bold\"> Wind_Spe… </span>┃<span style=\"color: #008080; text-decoration-color: #008080; font-weight: bold\">   Lat    </span>┃<span style=\"color: #008080; text-decoration-color: #008080; font-weight: bold\">   Lng   </span>┃\n",
       "┡━━━━━━━━━━━╇━━━━━━━━━╇━━━━━━━━━━━╇━━━━━━━━━━━╇━━━━━━━━━━╇━━━━━━━━━━━╇━━━━━━━━━━━╇━━━━━━━━━━━╇━━━━━━━━━━╇━━━━━━━━━┩\n",
       "│<span style=\"color: #800080; text-decoration-color: #800080; font-weight: bold\"> 2025-01-… </span>│<span style=\"color: #800080; text-decoration-color: #800080; font-weight: bold\">   AF    </span>│<span style=\"color: #800080; text-decoration-color: #800080; font-weight: bold\"> 'Alaqahd… </span>│<span style=\"color: #800080; text-decoration-color: #800080; font-weight: bold\">    23     </span>│<span style=\"color: #800080; text-decoration-color: #800080; font-weight: bold\">    53    </span>│<span style=\"color: #800080; text-decoration-color: #800080; font-weight: bold\">   7.02    </span>│<span style=\"color: #800080; text-decoration-color: #800080; font-weight: bold\"> 44.63599… </span>│<span style=\"color: #800080; text-decoration-color: #800080; font-weight: bold\">   2.09    </span>│<span style=\"color: #800080; text-decoration-color: #800080; font-weight: bold\"> 30.4374  </span>│<span style=\"color: #800080; text-decoration-color: #800080; font-weight: bold\"> 63.313  </span>│\n",
       "│<span style=\"color: #800080; text-decoration-color: #800080; font-weight: bold\">           </span>│<span style=\"color: #800080; text-decoration-color: #800080; font-weight: bold\">         </span>│<span style=\"color: #800080; text-decoration-color: #800080; font-weight: bold\">   Dishu   </span>│<span style=\"color: #800080; text-decoration-color: #800080; font-weight: bold\">           </span>│<span style=\"color: #800080; text-decoration-color: #800080; font-weight: bold\">          </span>│<span style=\"color: #800080; text-decoration-color: #800080; font-weight: bold\">           </span>│<span style=\"color: #800080; text-decoration-color: #800080; font-weight: bold\">           </span>│<span style=\"color: #800080; text-decoration-color: #800080; font-weight: bold\">           </span>│<span style=\"color: #800080; text-decoration-color: #800080; font-weight: bold\">          </span>│<span style=\"color: #800080; text-decoration-color: #800080; font-weight: bold\">         </span>│\n",
       "├───────────┼─────────┼───────────┼───────────┼──────────┼───────────┼───────────┼───────────┼──────────┼─────────┤\n",
       "│<span style=\"color: #800080; text-decoration-color: #800080; font-weight: bold\"> 2025-01-… </span>│<span style=\"color: #800080; text-decoration-color: #800080; font-weight: bold\">   AF    </span>│<span style=\"color: #800080; text-decoration-color: #800080; font-weight: bold\">   Parun   </span>│<span style=\"color: #800080; text-decoration-color: #800080; font-weight: bold\">     0     </span>│<span style=\"color: #800080; text-decoration-color: #800080; font-weight: bold\">    39    </span>│<span style=\"color: #800080; text-decoration-color: #800080; font-weight: bold\">  -13.66   </span>│<span style=\"color: #800080; text-decoration-color: #800080; font-weight: bold\"> 7.411999… </span>│<span style=\"color: #800080; text-decoration-color: #800080; font-weight: bold\">   8.58    </span>│<span style=\"color: #800080; text-decoration-color: #800080; font-weight: bold\"> 35.4207  </span>│<span style=\"color: #800080; text-decoration-color: #800080; font-weight: bold\"> 70.9221 </span>│\n",
       "├───────────┼─────────┼───────────┼───────────┼──────────┼───────────┼───────────┼───────────┼──────────┼─────────┤\n",
       "│<span style=\"color: #bf7fbf; text-decoration-color: #bf7fbf; font-weight: bold\"> 2025-01-… </span>│<span style=\"color: #bf7fbf; text-decoration-color: #bf7fbf; font-weight: bold\">   AF    </span>│<span style=\"color: #bf7fbf; text-decoration-color: #bf7fbf; font-weight: bold\">  Sangin   </span>│<span style=\"color: #bf7fbf; text-decoration-color: #bf7fbf; font-weight: bold\">     4     </span>│<span style=\"color: #bf7fbf; text-decoration-color: #bf7fbf; font-weight: bold\">    43    </span>│<span style=\"color: #bf7fbf; text-decoration-color: #bf7fbf; font-weight: bold\">   7.46    </span>│<span style=\"color: #bf7fbf; text-decoration-color: #bf7fbf; font-weight: bold\">  45.428   </span>│<span style=\"color: #bf7fbf; text-decoration-color: #bf7fbf; font-weight: bold\">   1.84    </span>│<span style=\"color: #bf7fbf; text-decoration-color: #bf7fbf; font-weight: bold\"> 32.0728  </span>│<span style=\"color: #bf7fbf; text-decoration-color: #bf7fbf; font-weight: bold\"> 64.8359 </span>│\n",
       "├───────────┼─────────┼───────────┼───────────┼──────────┼───────────┼───────────┼───────────┼──────────┼─────────┤\n",
       "│<span style=\"color: #bf7fbf; text-decoration-color: #bf7fbf; font-weight: bold\"> 2025-01-… </span>│<span style=\"color: #bf7fbf; text-decoration-color: #bf7fbf; font-weight: bold\">   AO    </span>│<span style=\"color: #bf7fbf; text-decoration-color: #bf7fbf; font-weight: bold\">  Malanje  </span>│<span style=\"color: #bf7fbf; text-decoration-color: #bf7fbf; font-weight: bold\">    80     </span>│<span style=\"color: #bf7fbf; text-decoration-color: #bf7fbf; font-weight: bold\">    96    </span>│<span style=\"color: #bf7fbf; text-decoration-color: #bf7fbf; font-weight: bold\">   18.03   </span>│<span style=\"color: #bf7fbf; text-decoration-color: #bf7fbf; font-weight: bold\"> 64.45400… </span>│<span style=\"color: #bf7fbf; text-decoration-color: #bf7fbf; font-weight: bold\">   1.99    </span>│<span style=\"color: #bf7fbf; text-decoration-color: #bf7fbf; font-weight: bold\"> -9.5402  </span>│<span style=\"color: #bf7fbf; text-decoration-color: #bf7fbf; font-weight: bold\"> 16.341  </span>│\n",
       "├───────────┼─────────┼───────────┼───────────┼──────────┼───────────┼───────────┼───────────┼──────────┼─────────┤\n",
       "│<span style=\"color: #800080; text-decoration-color: #800080; font-weight: bold\"> 2025-01-… </span>│<span style=\"color: #800080; text-decoration-color: #800080; font-weight: bold\">   AO    </span>│<span style=\"color: #800080; text-decoration-color: #800080; font-weight: bold\"> Benguela  </span>│<span style=\"color: #800080; text-decoration-color: #800080; font-weight: bold\">    82     </span>│<span style=\"color: #800080; text-decoration-color: #800080; font-weight: bold\">    79    </span>│<span style=\"color: #800080; text-decoration-color: #800080; font-weight: bold\">   24.41   </span>│<span style=\"color: #800080; text-decoration-color: #800080; font-weight: bold\">  75.938   </span>│<span style=\"color: #800080; text-decoration-color: #800080; font-weight: bold\">   2.29    </span>│<span style=\"color: #800080; text-decoration-color: #800080; font-weight: bold\"> -12.5763 </span>│<span style=\"color: #800080; text-decoration-color: #800080; font-weight: bold\"> 13.4055 </span>│\n",
       "├───────────┼─────────┼───────────┼───────────┼──────────┼───────────┼───────────┼───────────┼──────────┼─────────┤\n",
       "│<span style=\"color: #bf7fbf; text-decoration-color: #bf7fbf; font-weight: bold\"> 2025-01-… </span>│<span style=\"color: #bf7fbf; text-decoration-color: #bf7fbf; font-weight: bold\">   AO    </span>│<span style=\"color: #bf7fbf; text-decoration-color: #bf7fbf; font-weight: bold\">   Sumbe   </span>│<span style=\"color: #bf7fbf; text-decoration-color: #bf7fbf; font-weight: bold\">    62     </span>│<span style=\"color: #bf7fbf; text-decoration-color: #bf7fbf; font-weight: bold\">    84    </span>│<span style=\"color: #bf7fbf; text-decoration-color: #bf7fbf; font-weight: bold\">   24.73   </span>│<span style=\"color: #bf7fbf; text-decoration-color: #bf7fbf; font-weight: bold\">  76.514   </span>│<span style=\"color: #bf7fbf; text-decoration-color: #bf7fbf; font-weight: bold\">   3.38    </span>│<span style=\"color: #bf7fbf; text-decoration-color: #bf7fbf; font-weight: bold\"> -11.2061 </span>│<span style=\"color: #bf7fbf; text-decoration-color: #bf7fbf; font-weight: bold\"> 13.8437 </span>│\n",
       "├───────────┼─────────┼───────────┼───────────┼──────────┼───────────┼───────────┼───────────┼──────────┼─────────┤\n",
       "│<span style=\"color: #bf7fbf; text-decoration-color: #bf7fbf; font-weight: bold\"> 2025-01-… </span>│<span style=\"color: #bf7fbf; text-decoration-color: #bf7fbf; font-weight: bold\">   AO    </span>│<span style=\"color: #bf7fbf; text-decoration-color: #bf7fbf; font-weight: bold\"> Menongue  </span>│<span style=\"color: #bf7fbf; text-decoration-color: #bf7fbf; font-weight: bold\">    100    </span>│<span style=\"color: #bf7fbf; text-decoration-color: #bf7fbf; font-weight: bold\">    96    </span>│<span style=\"color: #bf7fbf; text-decoration-color: #bf7fbf; font-weight: bold\">   17.38   </span>│<span style=\"color: #bf7fbf; text-decoration-color: #bf7fbf; font-weight: bold\">  63.284   </span>│<span style=\"color: #bf7fbf; text-decoration-color: #bf7fbf; font-weight: bold\">   0.88    </span>│<span style=\"color: #bf7fbf; text-decoration-color: #bf7fbf; font-weight: bold\"> -14.6585 </span>│<span style=\"color: #bf7fbf; text-decoration-color: #bf7fbf; font-weight: bold\"> 17.691  </span>│\n",
       "├───────────┼─────────┼───────────┼───────────┼──────────┼───────────┼───────────┼───────────┼──────────┼─────────┤\n",
       "│<span style=\"color: #bf7fbf; text-decoration-color: #bf7fbf; font-weight: bold\"> 2025-01-… </span>│<span style=\"color: #bf7fbf; text-decoration-color: #bf7fbf; font-weight: bold\">   AO    </span>│<span style=\"color: #bf7fbf; text-decoration-color: #bf7fbf; font-weight: bold\">   Soio    </span>│<span style=\"color: #bf7fbf; text-decoration-color: #bf7fbf; font-weight: bold\">    40     </span>│<span style=\"color: #bf7fbf; text-decoration-color: #bf7fbf; font-weight: bold\">    85    </span>│<span style=\"color: #bf7fbf; text-decoration-color: #bf7fbf; font-weight: bold\">   26.38   </span>│<span style=\"color: #bf7fbf; text-decoration-color: #bf7fbf; font-weight: bold\">  79.484   </span>│<span style=\"color: #bf7fbf; text-decoration-color: #bf7fbf; font-weight: bold\">   4.46    </span>│<span style=\"color: #bf7fbf; text-decoration-color: #bf7fbf; font-weight: bold\"> -6.1349  </span>│<span style=\"color: #bf7fbf; text-decoration-color: #bf7fbf; font-weight: bold\"> 12.3689 </span>│\n",
       "├───────────┼─────────┼───────────┼───────────┼──────────┼───────────┼───────────┼───────────┼──────────┼─────────┤\n",
       "│<span style=\"color: #800080; text-decoration-color: #800080; font-weight: bold\"> 2025-01-… </span>│<span style=\"color: #800080; text-decoration-color: #800080; font-weight: bold\">   AO    </span>│<span style=\"color: #800080; text-decoration-color: #800080; font-weight: bold\">  Quibala  </span>│<span style=\"color: #800080; text-decoration-color: #800080; font-weight: bold\">    23     </span>│<span style=\"color: #800080; text-decoration-color: #800080; font-weight: bold\">    97    </span>│<span style=\"color: #800080; text-decoration-color: #800080; font-weight: bold\">   16.49   </span>│<span style=\"color: #800080; text-decoration-color: #800080; font-weight: bold\">  61.682   </span>│<span style=\"color: #800080; text-decoration-color: #800080; font-weight: bold\">   1.19    </span>│<span style=\"color: #800080; text-decoration-color: #800080; font-weight: bold\"> -10.7337 </span>│<span style=\"color: #800080; text-decoration-color: #800080; font-weight: bold\">  14.98  </span>│\n",
       "├───────────┼─────────┼───────────┼───────────┼──────────┼───────────┼───────────┼───────────┼──────────┼─────────┤\n",
       "│<span style=\"color: #bf7fbf; text-decoration-color: #bf7fbf; font-weight: bold\"> 2025-01-… </span>│<span style=\"color: #bf7fbf; text-decoration-color: #bf7fbf; font-weight: bold\">   AO    </span>│<span style=\"color: #bf7fbf; text-decoration-color: #bf7fbf; font-weight: bold\">  Namibe   </span>│<span style=\"color: #bf7fbf; text-decoration-color: #bf7fbf; font-weight: bold\">    100    </span>│<span style=\"color: #bf7fbf; text-decoration-color: #bf7fbf; font-weight: bold\">    79    </span>│<span style=\"color: #bf7fbf; text-decoration-color: #bf7fbf; font-weight: bold\">   21.54   </span>│<span style=\"color: #bf7fbf; text-decoration-color: #bf7fbf; font-weight: bold\"> 70.77199… </span>│<span style=\"color: #bf7fbf; text-decoration-color: #bf7fbf; font-weight: bold\">   1.47    </span>│<span style=\"color: #bf7fbf; text-decoration-color: #bf7fbf; font-weight: bold\"> -15.1961 </span>│<span style=\"color: #bf7fbf; text-decoration-color: #bf7fbf; font-weight: bold\"> 12.1522 </span>│\n",
       "└───────────┴─────────┴───────────┴───────────┴──────────┴───────────┴───────────┴───────────┴──────────┴─────────┘\n",
       "</pre>\n"
      ],
      "text/plain": [
       "\u001b[3m                                       City Weather Data (Sorted by Country)                                       \u001b[0m\n",
       "┏━━━━━━━━━━━┳━━━━━━━━━┳━━━━━━━━━━━┳━━━━━━━━━━━┳━━━━━━━━━━┳━━━━━━━━━━━┳━━━━━━━━━━━┳━━━━━━━━━━━┳━━━━━━━━━━┳━━━━━━━━━┓\n",
       "┃\u001b[1;36m \u001b[0m\u001b[1;36m  Date   \u001b[0m\u001b[1;36m \u001b[0m┃\u001b[1;36m \u001b[0m\u001b[1;36mCountry\u001b[0m\u001b[1;36m \u001b[0m┃\u001b[1;36m \u001b[0m\u001b[1;36m  City   \u001b[0m\u001b[1;36m \u001b[0m┃\u001b[1;36m \u001b[0m\u001b[1;36mCloudine…\u001b[0m\u001b[1;36m \u001b[0m┃\u001b[1;36m \u001b[0m\u001b[1;36mHumidity\u001b[0m\u001b[1;36m \u001b[0m┃\u001b[1;36m \u001b[0m\u001b[1;36mMaximum_…\u001b[0m\u001b[1;36m \u001b[0m┃\u001b[1;36m \u001b[0m\u001b[1;36mMaximum_…\u001b[0m\u001b[1;36m \u001b[0m┃\u001b[1;36m \u001b[0m\u001b[1;36mWind_Spe…\u001b[0m\u001b[1;36m \u001b[0m┃\u001b[1;36m \u001b[0m\u001b[1;36m  Lat   \u001b[0m\u001b[1;36m \u001b[0m┃\u001b[1;36m \u001b[0m\u001b[1;36m  Lng  \u001b[0m\u001b[1;36m \u001b[0m┃\n",
       "┡━━━━━━━━━━━╇━━━━━━━━━╇━━━━━━━━━━━╇━━━━━━━━━━━╇━━━━━━━━━━╇━━━━━━━━━━━╇━━━━━━━━━━━╇━━━━━━━━━━━╇━━━━━━━━━━╇━━━━━━━━━┩\n",
       "│\u001b[1;35m \u001b[0m\u001b[1;35m2025-01-…\u001b[0m\u001b[1;35m \u001b[0m│\u001b[1;35m \u001b[0m\u001b[1;35m  AF   \u001b[0m\u001b[1;35m \u001b[0m│\u001b[1;35m \u001b[0m\u001b[1;35m'Alaqahd…\u001b[0m\u001b[1;35m \u001b[0m│\u001b[1;35m \u001b[0m\u001b[1;35m   23    \u001b[0m\u001b[1;35m \u001b[0m│\u001b[1;35m \u001b[0m\u001b[1;35m   53   \u001b[0m\u001b[1;35m \u001b[0m│\u001b[1;35m \u001b[0m\u001b[1;35m  7.02   \u001b[0m\u001b[1;35m \u001b[0m│\u001b[1;35m \u001b[0m\u001b[1;35m44.63599…\u001b[0m\u001b[1;35m \u001b[0m│\u001b[1;35m \u001b[0m\u001b[1;35m  2.09   \u001b[0m\u001b[1;35m \u001b[0m│\u001b[1;35m \u001b[0m\u001b[1;35m30.4374 \u001b[0m\u001b[1;35m \u001b[0m│\u001b[1;35m \u001b[0m\u001b[1;35m63.313 \u001b[0m\u001b[1;35m \u001b[0m│\n",
       "│\u001b[1;35m           \u001b[0m│\u001b[1;35m         \u001b[0m│\u001b[1;35m \u001b[0m\u001b[1;35m  Dishu  \u001b[0m\u001b[1;35m \u001b[0m│\u001b[1;35m           \u001b[0m│\u001b[1;35m          \u001b[0m│\u001b[1;35m           \u001b[0m│\u001b[1;35m           \u001b[0m│\u001b[1;35m           \u001b[0m│\u001b[1;35m          \u001b[0m│\u001b[1;35m         \u001b[0m│\n",
       "├───────────┼─────────┼───────────┼───────────┼──────────┼───────────┼───────────┼───────────┼──────────┼─────────┤\n",
       "│\u001b[1;35m \u001b[0m\u001b[1;35m2025-01-…\u001b[0m\u001b[1;35m \u001b[0m│\u001b[1;35m \u001b[0m\u001b[1;35m  AF   \u001b[0m\u001b[1;35m \u001b[0m│\u001b[1;35m \u001b[0m\u001b[1;35m  Parun  \u001b[0m\u001b[1;35m \u001b[0m│\u001b[1;35m \u001b[0m\u001b[1;35m    0    \u001b[0m\u001b[1;35m \u001b[0m│\u001b[1;35m \u001b[0m\u001b[1;35m   39   \u001b[0m\u001b[1;35m \u001b[0m│\u001b[1;35m \u001b[0m\u001b[1;35m -13.66  \u001b[0m\u001b[1;35m \u001b[0m│\u001b[1;35m \u001b[0m\u001b[1;35m7.411999…\u001b[0m\u001b[1;35m \u001b[0m│\u001b[1;35m \u001b[0m\u001b[1;35m  8.58   \u001b[0m\u001b[1;35m \u001b[0m│\u001b[1;35m \u001b[0m\u001b[1;35m35.4207 \u001b[0m\u001b[1;35m \u001b[0m│\u001b[1;35m \u001b[0m\u001b[1;35m70.9221\u001b[0m\u001b[1;35m \u001b[0m│\n",
       "├───────────┼─────────┼───────────┼───────────┼──────────┼───────────┼───────────┼───────────┼──────────┼─────────┤\n",
       "│\u001b[1;2;35m \u001b[0m\u001b[1;2;35m2025-01-…\u001b[0m\u001b[1;2;35m \u001b[0m│\u001b[1;2;35m \u001b[0m\u001b[1;2;35m  AF   \u001b[0m\u001b[1;2;35m \u001b[0m│\u001b[1;2;35m \u001b[0m\u001b[1;2;35m Sangin  \u001b[0m\u001b[1;2;35m \u001b[0m│\u001b[1;2;35m \u001b[0m\u001b[1;2;35m    4    \u001b[0m\u001b[1;2;35m \u001b[0m│\u001b[1;2;35m \u001b[0m\u001b[1;2;35m   43   \u001b[0m\u001b[1;2;35m \u001b[0m│\u001b[1;2;35m \u001b[0m\u001b[1;2;35m  7.46   \u001b[0m\u001b[1;2;35m \u001b[0m│\u001b[1;2;35m \u001b[0m\u001b[1;2;35m 45.428  \u001b[0m\u001b[1;2;35m \u001b[0m│\u001b[1;2;35m \u001b[0m\u001b[1;2;35m  1.84   \u001b[0m\u001b[1;2;35m \u001b[0m│\u001b[1;2;35m \u001b[0m\u001b[1;2;35m32.0728 \u001b[0m\u001b[1;2;35m \u001b[0m│\u001b[1;2;35m \u001b[0m\u001b[1;2;35m64.8359\u001b[0m\u001b[1;2;35m \u001b[0m│\n",
       "├───────────┼─────────┼───────────┼───────────┼──────────┼───────────┼───────────┼───────────┼──────────┼─────────┤\n",
       "│\u001b[1;2;35m \u001b[0m\u001b[1;2;35m2025-01-…\u001b[0m\u001b[1;2;35m \u001b[0m│\u001b[1;2;35m \u001b[0m\u001b[1;2;35m  AO   \u001b[0m\u001b[1;2;35m \u001b[0m│\u001b[1;2;35m \u001b[0m\u001b[1;2;35m Malanje \u001b[0m\u001b[1;2;35m \u001b[0m│\u001b[1;2;35m \u001b[0m\u001b[1;2;35m   80    \u001b[0m\u001b[1;2;35m \u001b[0m│\u001b[1;2;35m \u001b[0m\u001b[1;2;35m   96   \u001b[0m\u001b[1;2;35m \u001b[0m│\u001b[1;2;35m \u001b[0m\u001b[1;2;35m  18.03  \u001b[0m\u001b[1;2;35m \u001b[0m│\u001b[1;2;35m \u001b[0m\u001b[1;2;35m64.45400…\u001b[0m\u001b[1;2;35m \u001b[0m│\u001b[1;2;35m \u001b[0m\u001b[1;2;35m  1.99   \u001b[0m\u001b[1;2;35m \u001b[0m│\u001b[1;2;35m \u001b[0m\u001b[1;2;35m-9.5402 \u001b[0m\u001b[1;2;35m \u001b[0m│\u001b[1;2;35m \u001b[0m\u001b[1;2;35m16.341 \u001b[0m\u001b[1;2;35m \u001b[0m│\n",
       "├───────────┼─────────┼───────────┼───────────┼──────────┼───────────┼───────────┼───────────┼──────────┼─────────┤\n",
       "│\u001b[1;35m \u001b[0m\u001b[1;35m2025-01-…\u001b[0m\u001b[1;35m \u001b[0m│\u001b[1;35m \u001b[0m\u001b[1;35m  AO   \u001b[0m\u001b[1;35m \u001b[0m│\u001b[1;35m \u001b[0m\u001b[1;35mBenguela \u001b[0m\u001b[1;35m \u001b[0m│\u001b[1;35m \u001b[0m\u001b[1;35m   82    \u001b[0m\u001b[1;35m \u001b[0m│\u001b[1;35m \u001b[0m\u001b[1;35m   79   \u001b[0m\u001b[1;35m \u001b[0m│\u001b[1;35m \u001b[0m\u001b[1;35m  24.41  \u001b[0m\u001b[1;35m \u001b[0m│\u001b[1;35m \u001b[0m\u001b[1;35m 75.938  \u001b[0m\u001b[1;35m \u001b[0m│\u001b[1;35m \u001b[0m\u001b[1;35m  2.29   \u001b[0m\u001b[1;35m \u001b[0m│\u001b[1;35m \u001b[0m\u001b[1;35m-12.5763\u001b[0m\u001b[1;35m \u001b[0m│\u001b[1;35m \u001b[0m\u001b[1;35m13.4055\u001b[0m\u001b[1;35m \u001b[0m│\n",
       "├───────────┼─────────┼───────────┼───────────┼──────────┼───────────┼───────────┼───────────┼──────────┼─────────┤\n",
       "│\u001b[1;2;35m \u001b[0m\u001b[1;2;35m2025-01-…\u001b[0m\u001b[1;2;35m \u001b[0m│\u001b[1;2;35m \u001b[0m\u001b[1;2;35m  AO   \u001b[0m\u001b[1;2;35m \u001b[0m│\u001b[1;2;35m \u001b[0m\u001b[1;2;35m  Sumbe  \u001b[0m\u001b[1;2;35m \u001b[0m│\u001b[1;2;35m \u001b[0m\u001b[1;2;35m   62    \u001b[0m\u001b[1;2;35m \u001b[0m│\u001b[1;2;35m \u001b[0m\u001b[1;2;35m   84   \u001b[0m\u001b[1;2;35m \u001b[0m│\u001b[1;2;35m \u001b[0m\u001b[1;2;35m  24.73  \u001b[0m\u001b[1;2;35m \u001b[0m│\u001b[1;2;35m \u001b[0m\u001b[1;2;35m 76.514  \u001b[0m\u001b[1;2;35m \u001b[0m│\u001b[1;2;35m \u001b[0m\u001b[1;2;35m  3.38   \u001b[0m\u001b[1;2;35m \u001b[0m│\u001b[1;2;35m \u001b[0m\u001b[1;2;35m-11.2061\u001b[0m\u001b[1;2;35m \u001b[0m│\u001b[1;2;35m \u001b[0m\u001b[1;2;35m13.8437\u001b[0m\u001b[1;2;35m \u001b[0m│\n",
       "├───────────┼─────────┼───────────┼───────────┼──────────┼───────────┼───────────┼───────────┼──────────┼─────────┤\n",
       "│\u001b[1;2;35m \u001b[0m\u001b[1;2;35m2025-01-…\u001b[0m\u001b[1;2;35m \u001b[0m│\u001b[1;2;35m \u001b[0m\u001b[1;2;35m  AO   \u001b[0m\u001b[1;2;35m \u001b[0m│\u001b[1;2;35m \u001b[0m\u001b[1;2;35mMenongue \u001b[0m\u001b[1;2;35m \u001b[0m│\u001b[1;2;35m \u001b[0m\u001b[1;2;35m   100   \u001b[0m\u001b[1;2;35m \u001b[0m│\u001b[1;2;35m \u001b[0m\u001b[1;2;35m   96   \u001b[0m\u001b[1;2;35m \u001b[0m│\u001b[1;2;35m \u001b[0m\u001b[1;2;35m  17.38  \u001b[0m\u001b[1;2;35m \u001b[0m│\u001b[1;2;35m \u001b[0m\u001b[1;2;35m 63.284  \u001b[0m\u001b[1;2;35m \u001b[0m│\u001b[1;2;35m \u001b[0m\u001b[1;2;35m  0.88   \u001b[0m\u001b[1;2;35m \u001b[0m│\u001b[1;2;35m \u001b[0m\u001b[1;2;35m-14.6585\u001b[0m\u001b[1;2;35m \u001b[0m│\u001b[1;2;35m \u001b[0m\u001b[1;2;35m17.691 \u001b[0m\u001b[1;2;35m \u001b[0m│\n",
       "├───────────┼─────────┼───────────┼───────────┼──────────┼───────────┼───────────┼───────────┼──────────┼─────────┤\n",
       "│\u001b[1;2;35m \u001b[0m\u001b[1;2;35m2025-01-…\u001b[0m\u001b[1;2;35m \u001b[0m│\u001b[1;2;35m \u001b[0m\u001b[1;2;35m  AO   \u001b[0m\u001b[1;2;35m \u001b[0m│\u001b[1;2;35m \u001b[0m\u001b[1;2;35m  Soio   \u001b[0m\u001b[1;2;35m \u001b[0m│\u001b[1;2;35m \u001b[0m\u001b[1;2;35m   40    \u001b[0m\u001b[1;2;35m \u001b[0m│\u001b[1;2;35m \u001b[0m\u001b[1;2;35m   85   \u001b[0m\u001b[1;2;35m \u001b[0m│\u001b[1;2;35m \u001b[0m\u001b[1;2;35m  26.38  \u001b[0m\u001b[1;2;35m \u001b[0m│\u001b[1;2;35m \u001b[0m\u001b[1;2;35m 79.484  \u001b[0m\u001b[1;2;35m \u001b[0m│\u001b[1;2;35m \u001b[0m\u001b[1;2;35m  4.46   \u001b[0m\u001b[1;2;35m \u001b[0m│\u001b[1;2;35m \u001b[0m\u001b[1;2;35m-6.1349 \u001b[0m\u001b[1;2;35m \u001b[0m│\u001b[1;2;35m \u001b[0m\u001b[1;2;35m12.3689\u001b[0m\u001b[1;2;35m \u001b[0m│\n",
       "├───────────┼─────────┼───────────┼───────────┼──────────┼───────────┼───────────┼───────────┼──────────┼─────────┤\n",
       "│\u001b[1;35m \u001b[0m\u001b[1;35m2025-01-…\u001b[0m\u001b[1;35m \u001b[0m│\u001b[1;35m \u001b[0m\u001b[1;35m  AO   \u001b[0m\u001b[1;35m \u001b[0m│\u001b[1;35m \u001b[0m\u001b[1;35m Quibala \u001b[0m\u001b[1;35m \u001b[0m│\u001b[1;35m \u001b[0m\u001b[1;35m   23    \u001b[0m\u001b[1;35m \u001b[0m│\u001b[1;35m \u001b[0m\u001b[1;35m   97   \u001b[0m\u001b[1;35m \u001b[0m│\u001b[1;35m \u001b[0m\u001b[1;35m  16.49  \u001b[0m\u001b[1;35m \u001b[0m│\u001b[1;35m \u001b[0m\u001b[1;35m 61.682  \u001b[0m\u001b[1;35m \u001b[0m│\u001b[1;35m \u001b[0m\u001b[1;35m  1.19   \u001b[0m\u001b[1;35m \u001b[0m│\u001b[1;35m \u001b[0m\u001b[1;35m-10.7337\u001b[0m\u001b[1;35m \u001b[0m│\u001b[1;35m \u001b[0m\u001b[1;35m 14.98 \u001b[0m\u001b[1;35m \u001b[0m│\n",
       "├───────────┼─────────┼───────────┼───────────┼──────────┼───────────┼───────────┼───────────┼──────────┼─────────┤\n",
       "│\u001b[1;2;35m \u001b[0m\u001b[1;2;35m2025-01-…\u001b[0m\u001b[1;2;35m \u001b[0m│\u001b[1;2;35m \u001b[0m\u001b[1;2;35m  AO   \u001b[0m\u001b[1;2;35m \u001b[0m│\u001b[1;2;35m \u001b[0m\u001b[1;2;35m Namibe  \u001b[0m\u001b[1;2;35m \u001b[0m│\u001b[1;2;35m \u001b[0m\u001b[1;2;35m   100   \u001b[0m\u001b[1;2;35m \u001b[0m│\u001b[1;2;35m \u001b[0m\u001b[1;2;35m   79   \u001b[0m\u001b[1;2;35m \u001b[0m│\u001b[1;2;35m \u001b[0m\u001b[1;2;35m  21.54  \u001b[0m\u001b[1;2;35m \u001b[0m│\u001b[1;2;35m \u001b[0m\u001b[1;2;35m70.77199…\u001b[0m\u001b[1;2;35m \u001b[0m│\u001b[1;2;35m \u001b[0m\u001b[1;2;35m  1.47   \u001b[0m\u001b[1;2;35m \u001b[0m│\u001b[1;2;35m \u001b[0m\u001b[1;2;35m-15.1961\u001b[0m\u001b[1;2;35m \u001b[0m│\u001b[1;2;35m \u001b[0m\u001b[1;2;35m12.1522\u001b[0m\u001b[1;2;35m \u001b[0m│\n",
       "└───────────┴─────────┴───────────┴───────────┴──────────┴───────────┴───────────┴───────────┴──────────┴─────────┘\n"
      ]
     },
     "metadata": {},
     "output_type": "display_data"
    }
   ],
   "source": [
    "# Sort the DataFrame by the Country column alphabetically\n",
    "city_data_df = city_data_df.sort_values(by='Country')\n",
    "\n",
    "# Create a rich Console object\n",
    "console = Console()\n",
    "\n",
    "# Create a rich Table object with a title and enhanced styles\n",
    "table = Table(title=\"City Weather Data (Sorted by Country)\", show_header=True, header_style=\"bold cyan\", show_lines=True)\n",
    "\n",
    "# Add columns dynamically based on the sorted DataFrame\n",
    "for column in city_data_df.columns:\n",
    "    table.add_column(column, style=\"bold magenta\", justify=\"center\")\n",
    "\n",
    "# Add rows from the sorted DataFrame (only the first 10 rows for brevity)\n",
    "for idx, row in city_data_df.head(10).iterrows():\n",
    "    # Apply alternating row styles\n",
    "    if idx % 2 == 0:\n",
    "        table.add_row(*[str(value) for value in row], style=\"dim\")\n",
    "    else:\n",
    "        table.add_row(*[str(value) for value in row])\n",
    "\n",
    "# Print the table with rich formatting\n",
    "console.print(table)"
   ]
  },
  {
   "cell_type": "code",
   "execution_count": 75,
   "id": "08a7b11f-f814-45c9-82aa-383a1ffccd0c",
   "metadata": {},
   "outputs": [],
   "source": [
    "# Export the City_Data into a csv\n",
    "city_data_df.to_csv(\"Data_output/cities.csv\", index_label=\"City_ID\")\n"
   ]
  },
  {
   "cell_type": "code",
   "execution_count": 77,
   "id": "e396278e-c49b-42d0-9b3f-b357827959ed",
   "metadata": {},
   "outputs": [],
   "source": [
    "# Filter for northern cities\n",
    "northern_cities_df = city_data_df[city_data_df['Lat'] > 0]\n",
    "\n",
    "# Display the northern cities DataFrame\n",
    "#northern_cities_df"
   ]
  },
  {
   "cell_type": "code",
   "execution_count": 79,
   "id": "b75d6926-f010-41b1-be1d-f7148d95d145",
   "metadata": {},
   "outputs": [],
   "source": [
    "# Define the desired column order, including the new Fahrenheit column\n",
    "desired_order = ['Date', 'Country', 'City', 'Cloudiness', 'Humidity', \n",
    "                 'Maximum_Temperature', 'Maximum_Temperature_F', 'Wind_Speed_kmh', 'Lat', 'Lng']\n",
    "\n",
    "# Reorder the DataFrame\n",
    "northern_cities_df = northern_cities_df[desired_order]"
   ]
  },
  {
   "cell_type": "code",
   "execution_count": 81,
   "id": "f31770f2-c91e-4209-b011-935b47a0bc6a",
   "metadata": {},
   "outputs": [
    {
     "data": {
      "text/html": [
       "<pre style=\"white-space:pre;overflow-x:auto;line-height:normal;font-family:Menlo,'DejaVu Sans Mono',consolas,'Courier New',monospace\">northern_cities.csv has been successfully updated!\n",
       "</pre>\n"
      ],
      "text/plain": [
       "northern_cities.csv has been successfully updated!\n"
      ]
     },
     "metadata": {},
     "output_type": "display_data"
    }
   ],
   "source": [
    "# Export the northern_cities into a csv\n",
    "northern_cities_df.to_csv(\"Data_output/northern_cities.csv\", index_label=\"City_ID\")\n",
    "# Print a message confirming the file has been updated\n",
    "print(\"northern_cities.csv has been successfully updated!\")"
   ]
  },
  {
   "cell_type": "code",
   "execution_count": 83,
   "id": "0188faf2-b9a9-45d7-87d5-58b1077a7e54",
   "metadata": {},
   "outputs": [],
   "source": [
    "# Filter for southern cities\n",
    "southern_cities_df = city_data_df[city_data_df['Lat'] < 0]\n",
    "\n",
    "# Display the southern cities DataFrame\n",
    "#northern_cities_df"
   ]
  },
  {
   "cell_type": "code",
   "execution_count": 85,
   "id": "eaaeb3e0-9dec-4da7-a461-49e4f8f0167a",
   "metadata": {},
   "outputs": [
    {
     "data": {
      "text/html": [
       "<pre style=\"white-space:pre;overflow-x:auto;line-height:normal;font-family:Menlo,'DejaVu Sans Mono',consolas,'Courier New',monospace\">southern_cities.csv has been successfully updated!\n",
       "</pre>\n"
      ],
      "text/plain": [
       "southern_cities.csv has been successfully updated!\n"
      ]
     },
     "metadata": {},
     "output_type": "display_data"
    }
   ],
   "source": [
    "# Export the northern_cities into a csv\n",
    "southern_cities_df.to_csv(\"Data_output/southern_cities.csv\", index_label=\"City_ID\")\n",
    "# Print a message confirming the file has been updated\n",
    "print(\"southern_cities.csv has been successfully updated!\")"
   ]
  },
  {
   "cell_type": "code",
   "execution_count": null,
   "id": "ce7d0bfe-1768-42d7-959a-2808fcb6cb11",
   "metadata": {},
   "outputs": [],
   "source": []
  }
 ],
 "metadata": {
  "kernelspec": {
   "display_name": "Python 3 (ipykernel)",
   "language": "python",
   "name": "python3"
  },
  "language_info": {
   "codemirror_mode": {
    "name": "ipython",
    "version": 3
   },
   "file_extension": ".py",
   "mimetype": "text/x-python",
   "name": "python",
   "nbconvert_exporter": "python",
   "pygments_lexer": "ipython3",
   "version": "3.12.4"
  }
 },
 "nbformat": 4,
 "nbformat_minor": 5
}
